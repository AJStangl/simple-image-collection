{
 "cells": [
  {
   "cell_type": "code",
   "execution_count": 1,
   "outputs": [
    {
     "name": "stdout",
     "output_type": "stream",
     "text": [
      "CPU times: total: 1.89 s\n",
      "Wall time: 8.33 s\n"
     ]
    }
   ],
   "source": [
    "%%time\n",
    "\n",
    "import datetime as dt\n",
    "import os\n",
    "\n",
    "import pandas\n",
    "import pandas as pd\n",
    "import praw\n",
    "from praw.models import ListingGenerator\n",
    "from tqdm import tqdm\n",
    "\n",
    "from common.captioning.caption import BlipCaption\n",
    "from common.schemas.pyarrow_schema import schema\n",
    "from common.storage.azure_file_storage import AzureFileStorageAdapter\n",
    "from common.functions.functions import Functions\n",
    "\n",
    "tqdm.pandas(desc=\"Progress\")\n",
    "\n",
    "file_system = AzureFileStorageAdapter('data').get_file_storage()\n",
    "\n",
    "functions: Functions = Functions()"
   ],
   "metadata": {
    "collapsed": false,
    "ExecuteTime": {
     "end_time": "2023-05-16T02:32:51.426277600Z",
     "start_time": "2023-05-16T02:32:43.060260500Z"
    }
   }
  },
  {
   "cell_type": "code",
   "execution_count": 2,
   "outputs": [
    {
     "name": "stdout",
     "output_type": "stream",
     "text": [
      "CPU times: total: 0 ns\n",
      "Wall time: 0 ns\n"
     ]
    }
   ],
   "source": [
    "%%time\n",
    "\n",
    "# \"memes\",\"CityPorn\", \"EarthPorn\", \"spaceporn\",\t\"itookapicture\",\t\"trippinthroughtime\",\n",
    "subs = [\n",
    "\t\"SFWRedheads\",\n",
    "\t\"sfwpetite\",\n",
    "\t\"SFWNextDoorGirls\",\n",
    "\t\"fatsquirrelhate\",\n",
    "\t\"realasians\",\n",
    "\t\"KoreanHotties\",\n",
    "\t\"prettyasiangirls\",\n",
    "\t\"AsianOfficeLady\",\n",
    "\t\"mildlypenis\",\n",
    "\t\"AsianInvasion\",\n",
    "\t\"sexygirls\",\n",
    "\t\"PrettyGirls\",\n",
    "\t\"gentlemanboners\",\n",
    "\t\"hotofficegirls\",\n",
    "\t\"tightdresses\",\n",
    "\t\"DLAH\",\n",
    "\t\"bathandbodyworks\",\n",
    "\t\"AesPleasingAsianGirls\"\n",
    "]"
   ],
   "metadata": {
    "collapsed": false,
    "ExecuteTime": {
     "end_time": "2023-05-16T02:32:51.457530600Z",
     "start_time": "2023-05-16T02:32:51.410656Z"
    }
   }
  },
  {
   "cell_type": "code",
   "execution_count": 3,
   "outputs": [
    {
     "name": "stdout",
     "output_type": "stream",
     "text": [
      "CPU times: total: 0 ns\n",
      "Wall time: 15.6 ms\n"
     ]
    }
   ],
   "source": [
    "%%time\n",
    "\n",
    "sources = [\n",
    "\t{\"name\": \"CityDiffusion\", \"data\": [\"CityPorn\"]},\n",
    "\t{\"name\": \"NatureDiffusion\", \"data\": [\"EarthPorn\"]},\n",
    "\t{\"name\": \"CosmicDiffusion\", \"data\": [\"spaceporn\"]},\n",
    "\t{\"name\": \"ITAPDiffusion\", \"data\": [\"itookapicture\"]},\n",
    "\t{\"name\": \"MemeDiffusion\", \"data\": [\"memes\"]},\n",
    "\t{\"name\": \"TTTDiffusion\", \"data\": [\"trippinthroughtime\"]},\n",
    "\t{\"name\": \"WallStreetDiffusion\", \"data\": [\"wallstreetbets\"]},\n",
    "\t{\"name\": \"SexyDiffusion\", \"data\": [\"selfies\", \"Amicute\", \"amihot\", \"AmIhotAF\", \"HotGirlNextDoor\"]},\n",
    "\t{\"name\": \"FatSquirrelDiffusion\", \"data\": [\"fatsquirrelhate\"]},\n",
    "\t{\"name\": \"CelebrityDiffusion\", \"data\": [\"celebrities\"]},\n",
    "\t{\"name\": \"OldLadyDiffusion\", \"data\": [\"oldladiesbakingpies\"]},\n",
    "\t{\"name\": \"SWFPetite\", \"data\": [\"sfwpetite\"]},\n",
    "\t{\"name\": \"SFWMilfs\", \"data\": [\"cougars_and_milfs_sfw\"]},\n",
    "\t{\"name\": \"RedHeadDiffusion\", \"data\": [\"SFWRedheads\"]},\n",
    "\t{\"name\": \"NextDoorGirlsDiffusion\", \"data\": [\"SFWNextDoorGirls\"]},\n",
    "\t{\"name\": \"SexyAsianDiffusion\",\"data\": [\"realasians\", \"KoreanHotties\", \"prettyasiangirls\", \"AsianOfficeLady\", \"AsianInvasion\",\"AesPleasingAsianGirls\"]},\n",
    "\t{\"name\": \"MildlyPenisDiffusion\", \"data\": [\"mildlypenis\"]},\n",
    "\t{\"name\": \"PrettyGirlDiffusion\",\"data\": [\"sexygirls\", \"PrettyGirls\", \"gentlemanboners\", \"hotofficegirls\", \"tightdresses\", \"DLAH\"]},\n",
    "\t{\"name\": \"CandleDiffusion\", \"data\": [\"bathandbodyworks\"]}\n",
    "]\n",
    "sources_df = pd.DataFrame.from_records(sources)"
   ],
   "metadata": {
    "collapsed": false,
    "ExecuteTime": {
     "end_time": "2023-05-16T02:32:51.832611500Z",
     "start_time": "2023-05-16T02:32:51.426277600Z"
    }
   }
  },
  {
   "cell_type": "code",
   "execution_count": 4,
   "outputs": [
    {
     "data": {
      "text/plain": "        subreddit                author   \nid                                        \n100rn7k  AmIhotAF          veritynicole  \\\n1013bdt  AmIhotAF           RaulDea9286   \n105mekt  AmIhotAF              lindaniz   \n105qvgl  AmIhotAF           CaitVLove11   \n105rpcj  AmIhotAF       Flashy-Desk1858   \n...           ...                   ...   \n131dso7      DLAH        Wallydinger123   \n131eznp      DLAH          Long_dong111   \n131g3am      DLAH       ThrownAwayMiles   \n131jvcx      DLAH              robok212   \n131n2by      DLAH  Dependent_Secret9424   \n\n                                                  title   \nid                                                        \n100rn7k             hey, hows your new year going (23F)  \\\n1013bdt                                   36F - ITALIAN   \n105mekt  interesting in good forward relationship (f24)   \n105qvgl                       Laughing is my favorite 😆   \n105rpcj        [f22] What do you think when you see me?   \n...                                                 ...   \n131dso7                                     Happy B Day   \n131eznp                                         Perfect   \n131g3am                              DLAH left or right   \n131jvcx                                  Good morning 😍   \n131n2by                            Perfection (Sisters)   \n\n                                                   caption   \nid                                                           \n100rn7k  a woman in a white shirt and black pants is po...  \\\n1013bdt            arafed image of a woman in a bikini top   \n105mekt  a close up of a woman with red hair and a whit...   \n105qvgl  a woman in a blue tank top and shorts is smili...   \n105rpcj    a woman in a blue bikini top and a blue bra top   \n...                                                    ...   \n131dso7  there are three women posing for a picture in ...   \n131eznp  araffe woman in a white dress sitting on a pur...   \n131g3am  two women in short dresses posing for a pictur...   \n131jvcx      araffe in a pink dress posing on a white wall   \n131n2by  two women in shorts and sandals taking a selfi...   \n\n                                     hash   \nid                                          \n100rn7k  4bd00c19fa0ff2ade855e6d364b0760b  \\\n1013bdt  7c0d158cba8654ef1c635cbc5471d597   \n105mekt  ba4a0962cca2266a741e1e1700589c04   \n105qvgl  27bfe82c37314a0bcf02ab72eaf3a9e5   \n105rpcj  329eb42b8267fa1cc2980da8e48bcef1   \n...                                   ...   \n131dso7  ebb4b4a88dc79e2f2f57b10f32bf03c0   \n131eznp  5c944c6d62b1ae182c5a6a40c64195f4   \n131g3am  ab1f8fc33c85f4cfce12c810cf22229e   \n131jvcx  01f5058855526ef25888cff88065db4c   \n131n2by  b162dd1999dbf9ea3c7adccd34624a46   \n\n                                                 permalink   \nid                                                           \n100rn7k  /r/AmIhotAF/comments/100rn7k/hey_hows_your_new...  \\\n1013bdt          /r/AmIhotAF/comments/1013bdt/36f_italian/   \n105mekt  /r/AmIhotAF/comments/105mekt/interesting_in_go...   \n105qvgl  /r/AmIhotAF/comments/105qvgl/laughing_is_my_fa...   \n105rpcj  /r/AmIhotAF/comments/105rpcj/f22_what_do_you_t...   \n...                                                    ...   \n131dso7              /r/DLAH/comments/131dso7/happy_b_day/   \n131eznp                  /r/DLAH/comments/131eznp/perfect/   \n131g3am       /r/DLAH/comments/131g3am/dlah_left_or_right/   \n131jvcx             /r/DLAH/comments/131jvcx/good_morning/   \n131n2by       /r/DLAH/comments/131n2by/perfection_sisters/   \n\n                                original_url   image_name   \nid                                                          \n100rn7k  https://i.redd.it/n7r47s0gkh9a1.jpg  100rn7k.jpg  \\\n1013bdt  https://i.redd.it/bg0wwdlt5k9a1.jpg  1013bdt.jpg   \n105mekt  https://i.redd.it/4avjshsz8naa1.jpg  105mekt.jpg   \n105qvgl  https://i.redd.it/2pulzr0lxmaa1.jpg  105qvgl.jpg   \n105rpcj  https://i.redd.it/rz68pf934naa1.jpg  105rpcj.jpg   \n...                                      ...          ...   \n131dso7  https://i.redd.it/36gurz533jwa1.jpg  131dso7.jpg   \n131eznp  https://i.redd.it/dnbbx4zucjwa1.jpg  131eznp.jpg   \n131g3am  https://i.redd.it/zpp70oor3lwa1.jpg  131g3am.jpg   \n131jvcx  https://i.redd.it/ozmbfhjv3mwa1.jpg  131jvcx.jpg   \n131n2by  https://i.redd.it/pfg1u0aw1nwa1.jpg  131n2by.jpg   \n\n                           path                model  exists  curated accept   \nid                                                                             \n100rn7k  data/image/100rn7k.jpg        SexyDiffusion    True     True  False  \\\n1013bdt  data/image/1013bdt.jpg        SexyDiffusion    True     True   True   \n105mekt  data/image/105mekt.jpg        SexyDiffusion    True     True   True   \n105qvgl  data/image/105qvgl.jpg        SexyDiffusion    True     True   True   \n105rpcj  data/image/105rpcj.jpg        SexyDiffusion    True     True   True   \n...                         ...                  ...     ...      ...    ...   \n131dso7  data/image/131dso7.jpg  PrettyGirlDiffusion    True     True  False   \n131eznp  data/image/131eznp.jpg  PrettyGirlDiffusion    True     True   True   \n131g3am  data/image/131g3am.jpg  PrettyGirlDiffusion    True     True   True   \n131jvcx  data/image/131jvcx.jpg  PrettyGirlDiffusion    True     True  False   \n131n2by  data/image/131n2by.jpg  PrettyGirlDiffusion    True     True  False   \n\n        tags  \nid            \n100rn7k   []  \n1013bdt   []  \n105mekt   []  \n105qvgl   []  \n105rpcj   []  \n...      ...  \n131dso7   []  \n131eznp   []  \n131g3am   []  \n131jvcx   []  \n131n2by   []  \n\n[41505 rows x 14 columns]",
      "text/html": "<div>\n<style scoped>\n    .dataframe tbody tr th:only-of-type {\n        vertical-align: middle;\n    }\n\n    .dataframe tbody tr th {\n        vertical-align: top;\n    }\n\n    .dataframe thead th {\n        text-align: right;\n    }\n</style>\n<table border=\"1\" class=\"dataframe\">\n  <thead>\n    <tr style=\"text-align: right;\">\n      <th></th>\n      <th>subreddit</th>\n      <th>author</th>\n      <th>title</th>\n      <th>caption</th>\n      <th>hash</th>\n      <th>permalink</th>\n      <th>original_url</th>\n      <th>image_name</th>\n      <th>path</th>\n      <th>model</th>\n      <th>exists</th>\n      <th>curated</th>\n      <th>accept</th>\n      <th>tags</th>\n    </tr>\n    <tr>\n      <th>id</th>\n      <th></th>\n      <th></th>\n      <th></th>\n      <th></th>\n      <th></th>\n      <th></th>\n      <th></th>\n      <th></th>\n      <th></th>\n      <th></th>\n      <th></th>\n      <th></th>\n      <th></th>\n      <th></th>\n    </tr>\n  </thead>\n  <tbody>\n    <tr>\n      <th>100rn7k</th>\n      <td>AmIhotAF</td>\n      <td>veritynicole</td>\n      <td>hey, hows your new year going (23F)</td>\n      <td>a woman in a white shirt and black pants is po...</td>\n      <td>4bd00c19fa0ff2ade855e6d364b0760b</td>\n      <td>/r/AmIhotAF/comments/100rn7k/hey_hows_your_new...</td>\n      <td>https://i.redd.it/n7r47s0gkh9a1.jpg</td>\n      <td>100rn7k.jpg</td>\n      <td>data/image/100rn7k.jpg</td>\n      <td>SexyDiffusion</td>\n      <td>True</td>\n      <td>True</td>\n      <td>False</td>\n      <td>[]</td>\n    </tr>\n    <tr>\n      <th>1013bdt</th>\n      <td>AmIhotAF</td>\n      <td>RaulDea9286</td>\n      <td>36F - ITALIAN</td>\n      <td>arafed image of a woman in a bikini top</td>\n      <td>7c0d158cba8654ef1c635cbc5471d597</td>\n      <td>/r/AmIhotAF/comments/1013bdt/36f_italian/</td>\n      <td>https://i.redd.it/bg0wwdlt5k9a1.jpg</td>\n      <td>1013bdt.jpg</td>\n      <td>data/image/1013bdt.jpg</td>\n      <td>SexyDiffusion</td>\n      <td>True</td>\n      <td>True</td>\n      <td>True</td>\n      <td>[]</td>\n    </tr>\n    <tr>\n      <th>105mekt</th>\n      <td>AmIhotAF</td>\n      <td>lindaniz</td>\n      <td>interesting in good forward relationship (f24)</td>\n      <td>a close up of a woman with red hair and a whit...</td>\n      <td>ba4a0962cca2266a741e1e1700589c04</td>\n      <td>/r/AmIhotAF/comments/105mekt/interesting_in_go...</td>\n      <td>https://i.redd.it/4avjshsz8naa1.jpg</td>\n      <td>105mekt.jpg</td>\n      <td>data/image/105mekt.jpg</td>\n      <td>SexyDiffusion</td>\n      <td>True</td>\n      <td>True</td>\n      <td>True</td>\n      <td>[]</td>\n    </tr>\n    <tr>\n      <th>105qvgl</th>\n      <td>AmIhotAF</td>\n      <td>CaitVLove11</td>\n      <td>Laughing is my favorite 😆</td>\n      <td>a woman in a blue tank top and shorts is smili...</td>\n      <td>27bfe82c37314a0bcf02ab72eaf3a9e5</td>\n      <td>/r/AmIhotAF/comments/105qvgl/laughing_is_my_fa...</td>\n      <td>https://i.redd.it/2pulzr0lxmaa1.jpg</td>\n      <td>105qvgl.jpg</td>\n      <td>data/image/105qvgl.jpg</td>\n      <td>SexyDiffusion</td>\n      <td>True</td>\n      <td>True</td>\n      <td>True</td>\n      <td>[]</td>\n    </tr>\n    <tr>\n      <th>105rpcj</th>\n      <td>AmIhotAF</td>\n      <td>Flashy-Desk1858</td>\n      <td>[f22] What do you think when you see me?</td>\n      <td>a woman in a blue bikini top and a blue bra top</td>\n      <td>329eb42b8267fa1cc2980da8e48bcef1</td>\n      <td>/r/AmIhotAF/comments/105rpcj/f22_what_do_you_t...</td>\n      <td>https://i.redd.it/rz68pf934naa1.jpg</td>\n      <td>105rpcj.jpg</td>\n      <td>data/image/105rpcj.jpg</td>\n      <td>SexyDiffusion</td>\n      <td>True</td>\n      <td>True</td>\n      <td>True</td>\n      <td>[]</td>\n    </tr>\n    <tr>\n      <th>...</th>\n      <td>...</td>\n      <td>...</td>\n      <td>...</td>\n      <td>...</td>\n      <td>...</td>\n      <td>...</td>\n      <td>...</td>\n      <td>...</td>\n      <td>...</td>\n      <td>...</td>\n      <td>...</td>\n      <td>...</td>\n      <td>...</td>\n      <td>...</td>\n    </tr>\n    <tr>\n      <th>131dso7</th>\n      <td>DLAH</td>\n      <td>Wallydinger123</td>\n      <td>Happy B Day</td>\n      <td>there are three women posing for a picture in ...</td>\n      <td>ebb4b4a88dc79e2f2f57b10f32bf03c0</td>\n      <td>/r/DLAH/comments/131dso7/happy_b_day/</td>\n      <td>https://i.redd.it/36gurz533jwa1.jpg</td>\n      <td>131dso7.jpg</td>\n      <td>data/image/131dso7.jpg</td>\n      <td>PrettyGirlDiffusion</td>\n      <td>True</td>\n      <td>True</td>\n      <td>False</td>\n      <td>[]</td>\n    </tr>\n    <tr>\n      <th>131eznp</th>\n      <td>DLAH</td>\n      <td>Long_dong111</td>\n      <td>Perfect</td>\n      <td>araffe woman in a white dress sitting on a pur...</td>\n      <td>5c944c6d62b1ae182c5a6a40c64195f4</td>\n      <td>/r/DLAH/comments/131eznp/perfect/</td>\n      <td>https://i.redd.it/dnbbx4zucjwa1.jpg</td>\n      <td>131eznp.jpg</td>\n      <td>data/image/131eznp.jpg</td>\n      <td>PrettyGirlDiffusion</td>\n      <td>True</td>\n      <td>True</td>\n      <td>True</td>\n      <td>[]</td>\n    </tr>\n    <tr>\n      <th>131g3am</th>\n      <td>DLAH</td>\n      <td>ThrownAwayMiles</td>\n      <td>DLAH left or right</td>\n      <td>two women in short dresses posing for a pictur...</td>\n      <td>ab1f8fc33c85f4cfce12c810cf22229e</td>\n      <td>/r/DLAH/comments/131g3am/dlah_left_or_right/</td>\n      <td>https://i.redd.it/zpp70oor3lwa1.jpg</td>\n      <td>131g3am.jpg</td>\n      <td>data/image/131g3am.jpg</td>\n      <td>PrettyGirlDiffusion</td>\n      <td>True</td>\n      <td>True</td>\n      <td>True</td>\n      <td>[]</td>\n    </tr>\n    <tr>\n      <th>131jvcx</th>\n      <td>DLAH</td>\n      <td>robok212</td>\n      <td>Good morning 😍</td>\n      <td>araffe in a pink dress posing on a white wall</td>\n      <td>01f5058855526ef25888cff88065db4c</td>\n      <td>/r/DLAH/comments/131jvcx/good_morning/</td>\n      <td>https://i.redd.it/ozmbfhjv3mwa1.jpg</td>\n      <td>131jvcx.jpg</td>\n      <td>data/image/131jvcx.jpg</td>\n      <td>PrettyGirlDiffusion</td>\n      <td>True</td>\n      <td>True</td>\n      <td>False</td>\n      <td>[]</td>\n    </tr>\n    <tr>\n      <th>131n2by</th>\n      <td>DLAH</td>\n      <td>Dependent_Secret9424</td>\n      <td>Perfection (Sisters)</td>\n      <td>two women in shorts and sandals taking a selfi...</td>\n      <td>b162dd1999dbf9ea3c7adccd34624a46</td>\n      <td>/r/DLAH/comments/131n2by/perfection_sisters/</td>\n      <td>https://i.redd.it/pfg1u0aw1nwa1.jpg</td>\n      <td>131n2by.jpg</td>\n      <td>data/image/131n2by.jpg</td>\n      <td>PrettyGirlDiffusion</td>\n      <td>True</td>\n      <td>True</td>\n      <td>False</td>\n      <td>[]</td>\n    </tr>\n  </tbody>\n</table>\n<p>41505 rows × 14 columns</p>\n</div>"
     },
     "metadata": {},
     "output_type": "display_data"
    },
    {
     "name": "stdout",
     "output_type": "stream",
     "text": [
      "CPU times: total: 922 ms\n",
      "Wall time: 8.05 s\n"
     ]
    }
   ],
   "source": [
    "%%time\n",
    "\n",
    "extant_data = pandas.read_parquet(\"data/processed_raw_data.parquet\", engine='pyarrow', filesystem=file_system,\n",
    "\t\t\t\t\t\t\t\t  schema=schema)\n",
    "extant_data.set_index('id', inplace=True)\n",
    "display(extant_data)"
   ],
   "metadata": {
    "collapsed": false,
    "ExecuteTime": {
     "end_time": "2023-05-16T02:33:01.312916700Z",
     "start_time": "2023-05-16T02:32:51.457530600Z"
    }
   }
  },
  {
   "cell_type": "code",
   "execution_count": 5,
   "outputs": [
    {
     "data": {
      "text/plain": "'==== CURATED DATA ===='"
     },
     "metadata": {},
     "output_type": "display_data"
    },
    {
     "data": {
      "text/plain": "(37031, 14)"
     },
     "metadata": {},
     "output_type": "display_data"
    },
    {
     "data": {
      "text/plain": "                subreddit                author   \nid                                                \n100rn7k          AmIhotAF          veritynicole  \\\n1013bdt          AmIhotAF           RaulDea9286   \n105mekt          AmIhotAF              lindaniz   \n105qvgl          AmIhotAF           CaitVLove11   \n105rpcj          AmIhotAF       Flashy-Desk1858   \n...                   ...                   ...   \n13d2hsf  bathandbodyworks           alesieoksap   \n13d661b  bathandbodyworks                xeloux   \n13d8s0i  bathandbodyworks  Alternative-Tea-9355   \n13dagbr  bathandbodyworks                Dove04   \n13dbhn4  bathandbodyworks         Thebigbooty01   \n\n                                                     title   \nid                                                           \n100rn7k                hey, hows your new year going (23F)  \\\n1013bdt                                      36F - ITALIAN   \n105mekt     interesting in good forward relationship (f24)   \n105qvgl                          Laughing is my favorite 😆   \n105rpcj           [f22] What do you think when you see me?   \n...                                                    ...   \n13d2hsf                         Ice Cream Shop Collection?   \n13d661b                             Facebook market finds!   \n13d8s0i                           Black Cherry Merlot dupe   \n13dagbr  Does anyone know how I could get rid of this r...   \n13dbhn4                               Gratis today at work   \n\n                                                   caption   \nid                                                           \n100rn7k  a woman in a white shirt and black pants is po...  \\\n1013bdt            arafed image of a woman in a bikini top   \n105mekt  a close up of a woman with red hair and a whit...   \n105qvgl  a woman in a blue tank top and shorts is smili...   \n105rpcj    a woman in a blue bikini top and a blue bra top   \n...                                                    ...   \n13d2hsf   someone holding a cup of ice cream in their hand   \n13d661b    three candles are sitting on a blanket on a bed   \n13d8s0i    someone holding a tube of body cream in a store   \n13dagbr  someone is holding a white device with a hole ...   \n13dbhn4  there are some bottles of bath and body produc...   \n\n                                     hash   \nid                                          \n100rn7k  4bd00c19fa0ff2ade855e6d364b0760b  \\\n1013bdt  7c0d158cba8654ef1c635cbc5471d597   \n105mekt  ba4a0962cca2266a741e1e1700589c04   \n105qvgl  27bfe82c37314a0bcf02ab72eaf3a9e5   \n105rpcj  329eb42b8267fa1cc2980da8e48bcef1   \n...                                   ...   \n13d2hsf  c6788074138175c661fc652bd7630e33   \n13d661b  e868289445c195815dd67dd0df1a65cb   \n13d8s0i  965bc5a58a597192700234729758101b   \n13dagbr  41732e4109a99c99c91c2181867d18e3   \n13dbhn4  f2afdcbed21cc1f44ac757bf2f797ae6   \n\n                                                 permalink   \nid                                                           \n100rn7k  /r/AmIhotAF/comments/100rn7k/hey_hows_your_new...  \\\n1013bdt          /r/AmIhotAF/comments/1013bdt/36f_italian/   \n105mekt  /r/AmIhotAF/comments/105mekt/interesting_in_go...   \n105qvgl  /r/AmIhotAF/comments/105qvgl/laughing_is_my_fa...   \n105rpcj  /r/AmIhotAF/comments/105rpcj/f22_what_do_you_t...   \n...                                                    ...   \n13d2hsf  /r/bathandbodyworks/comments/13d2hsf/ice_cream...   \n13d661b  /r/bathandbodyworks/comments/13d661b/facebook_...   \n13d8s0i  /r/bathandbodyworks/comments/13d8s0i/black_che...   \n13dagbr  /r/bathandbodyworks/comments/13dagbr/does_anyo...   \n13dbhn4  /r/bathandbodyworks/comments/13dbhn4/gratis_to...   \n\n                                original_url   image_name   \nid                                                          \n100rn7k  https://i.redd.it/n7r47s0gkh9a1.jpg  100rn7k.jpg  \\\n1013bdt  https://i.redd.it/bg0wwdlt5k9a1.jpg  1013bdt.jpg   \n105mekt  https://i.redd.it/4avjshsz8naa1.jpg  105mekt.jpg   \n105qvgl  https://i.redd.it/2pulzr0lxmaa1.jpg  105qvgl.jpg   \n105rpcj  https://i.redd.it/rz68pf934naa1.jpg  105rpcj.jpg   \n...                                      ...          ...   \n13d2hsf  https://i.redd.it/uhwamoq99wya1.jpg  13d2hsf.jpg   \n13d661b  https://i.redd.it/skd10hefxwya1.jpg  13d661b.jpg   \n13d8s0i  https://i.redd.it/xt7qew9qexya1.jpg  13d8s0i.jpg   \n13dagbr  https://i.redd.it/p0j6atz6rxya1.jpg  13dagbr.jpg   \n13dbhn4  https://i.redd.it/x954qki8zxya1.jpg  13dbhn4.jpg   \n\n                           path            model  exists  curated  accept tags  \nid                                                                              \n100rn7k  data/image/100rn7k.jpg    SexyDiffusion    True     True   False   []  \n1013bdt  data/image/1013bdt.jpg    SexyDiffusion    True     True    True   []  \n105mekt  data/image/105mekt.jpg    SexyDiffusion    True     True    True   []  \n105qvgl  data/image/105qvgl.jpg    SexyDiffusion    True     True    True   []  \n105rpcj  data/image/105rpcj.jpg    SexyDiffusion    True     True    True   []  \n...                         ...              ...     ...      ...     ...  ...  \n13d2hsf  data/image/13d2hsf.jpg  CandleDiffusion    True     True    True   []  \n13d661b  data/image/13d661b.jpg  CandleDiffusion    True     True    True   []  \n13d8s0i  data/image/13d8s0i.jpg  CandleDiffusion    True     True   False   []  \n13dagbr  data/image/13dagbr.jpg  CandleDiffusion    True     True   False   []  \n13dbhn4  data/image/13dbhn4.jpg  CandleDiffusion    True     True    True   []  \n\n[37031 rows x 14 columns]",
      "text/html": "<div>\n<style scoped>\n    .dataframe tbody tr th:only-of-type {\n        vertical-align: middle;\n    }\n\n    .dataframe tbody tr th {\n        vertical-align: top;\n    }\n\n    .dataframe thead th {\n        text-align: right;\n    }\n</style>\n<table border=\"1\" class=\"dataframe\">\n  <thead>\n    <tr style=\"text-align: right;\">\n      <th></th>\n      <th>subreddit</th>\n      <th>author</th>\n      <th>title</th>\n      <th>caption</th>\n      <th>hash</th>\n      <th>permalink</th>\n      <th>original_url</th>\n      <th>image_name</th>\n      <th>path</th>\n      <th>model</th>\n      <th>exists</th>\n      <th>curated</th>\n      <th>accept</th>\n      <th>tags</th>\n    </tr>\n    <tr>\n      <th>id</th>\n      <th></th>\n      <th></th>\n      <th></th>\n      <th></th>\n      <th></th>\n      <th></th>\n      <th></th>\n      <th></th>\n      <th></th>\n      <th></th>\n      <th></th>\n      <th></th>\n      <th></th>\n      <th></th>\n    </tr>\n  </thead>\n  <tbody>\n    <tr>\n      <th>100rn7k</th>\n      <td>AmIhotAF</td>\n      <td>veritynicole</td>\n      <td>hey, hows your new year going (23F)</td>\n      <td>a woman in a white shirt and black pants is po...</td>\n      <td>4bd00c19fa0ff2ade855e6d364b0760b</td>\n      <td>/r/AmIhotAF/comments/100rn7k/hey_hows_your_new...</td>\n      <td>https://i.redd.it/n7r47s0gkh9a1.jpg</td>\n      <td>100rn7k.jpg</td>\n      <td>data/image/100rn7k.jpg</td>\n      <td>SexyDiffusion</td>\n      <td>True</td>\n      <td>True</td>\n      <td>False</td>\n      <td>[]</td>\n    </tr>\n    <tr>\n      <th>1013bdt</th>\n      <td>AmIhotAF</td>\n      <td>RaulDea9286</td>\n      <td>36F - ITALIAN</td>\n      <td>arafed image of a woman in a bikini top</td>\n      <td>7c0d158cba8654ef1c635cbc5471d597</td>\n      <td>/r/AmIhotAF/comments/1013bdt/36f_italian/</td>\n      <td>https://i.redd.it/bg0wwdlt5k9a1.jpg</td>\n      <td>1013bdt.jpg</td>\n      <td>data/image/1013bdt.jpg</td>\n      <td>SexyDiffusion</td>\n      <td>True</td>\n      <td>True</td>\n      <td>True</td>\n      <td>[]</td>\n    </tr>\n    <tr>\n      <th>105mekt</th>\n      <td>AmIhotAF</td>\n      <td>lindaniz</td>\n      <td>interesting in good forward relationship (f24)</td>\n      <td>a close up of a woman with red hair and a whit...</td>\n      <td>ba4a0962cca2266a741e1e1700589c04</td>\n      <td>/r/AmIhotAF/comments/105mekt/interesting_in_go...</td>\n      <td>https://i.redd.it/4avjshsz8naa1.jpg</td>\n      <td>105mekt.jpg</td>\n      <td>data/image/105mekt.jpg</td>\n      <td>SexyDiffusion</td>\n      <td>True</td>\n      <td>True</td>\n      <td>True</td>\n      <td>[]</td>\n    </tr>\n    <tr>\n      <th>105qvgl</th>\n      <td>AmIhotAF</td>\n      <td>CaitVLove11</td>\n      <td>Laughing is my favorite 😆</td>\n      <td>a woman in a blue tank top and shorts is smili...</td>\n      <td>27bfe82c37314a0bcf02ab72eaf3a9e5</td>\n      <td>/r/AmIhotAF/comments/105qvgl/laughing_is_my_fa...</td>\n      <td>https://i.redd.it/2pulzr0lxmaa1.jpg</td>\n      <td>105qvgl.jpg</td>\n      <td>data/image/105qvgl.jpg</td>\n      <td>SexyDiffusion</td>\n      <td>True</td>\n      <td>True</td>\n      <td>True</td>\n      <td>[]</td>\n    </tr>\n    <tr>\n      <th>105rpcj</th>\n      <td>AmIhotAF</td>\n      <td>Flashy-Desk1858</td>\n      <td>[f22] What do you think when you see me?</td>\n      <td>a woman in a blue bikini top and a blue bra top</td>\n      <td>329eb42b8267fa1cc2980da8e48bcef1</td>\n      <td>/r/AmIhotAF/comments/105rpcj/f22_what_do_you_t...</td>\n      <td>https://i.redd.it/rz68pf934naa1.jpg</td>\n      <td>105rpcj.jpg</td>\n      <td>data/image/105rpcj.jpg</td>\n      <td>SexyDiffusion</td>\n      <td>True</td>\n      <td>True</td>\n      <td>True</td>\n      <td>[]</td>\n    </tr>\n    <tr>\n      <th>...</th>\n      <td>...</td>\n      <td>...</td>\n      <td>...</td>\n      <td>...</td>\n      <td>...</td>\n      <td>...</td>\n      <td>...</td>\n      <td>...</td>\n      <td>...</td>\n      <td>...</td>\n      <td>...</td>\n      <td>...</td>\n      <td>...</td>\n      <td>...</td>\n    </tr>\n    <tr>\n      <th>13d2hsf</th>\n      <td>bathandbodyworks</td>\n      <td>alesieoksap</td>\n      <td>Ice Cream Shop Collection?</td>\n      <td>someone holding a cup of ice cream in their hand</td>\n      <td>c6788074138175c661fc652bd7630e33</td>\n      <td>/r/bathandbodyworks/comments/13d2hsf/ice_cream...</td>\n      <td>https://i.redd.it/uhwamoq99wya1.jpg</td>\n      <td>13d2hsf.jpg</td>\n      <td>data/image/13d2hsf.jpg</td>\n      <td>CandleDiffusion</td>\n      <td>True</td>\n      <td>True</td>\n      <td>True</td>\n      <td>[]</td>\n    </tr>\n    <tr>\n      <th>13d661b</th>\n      <td>bathandbodyworks</td>\n      <td>xeloux</td>\n      <td>Facebook market finds!</td>\n      <td>three candles are sitting on a blanket on a bed</td>\n      <td>e868289445c195815dd67dd0df1a65cb</td>\n      <td>/r/bathandbodyworks/comments/13d661b/facebook_...</td>\n      <td>https://i.redd.it/skd10hefxwya1.jpg</td>\n      <td>13d661b.jpg</td>\n      <td>data/image/13d661b.jpg</td>\n      <td>CandleDiffusion</td>\n      <td>True</td>\n      <td>True</td>\n      <td>True</td>\n      <td>[]</td>\n    </tr>\n    <tr>\n      <th>13d8s0i</th>\n      <td>bathandbodyworks</td>\n      <td>Alternative-Tea-9355</td>\n      <td>Black Cherry Merlot dupe</td>\n      <td>someone holding a tube of body cream in a store</td>\n      <td>965bc5a58a597192700234729758101b</td>\n      <td>/r/bathandbodyworks/comments/13d8s0i/black_che...</td>\n      <td>https://i.redd.it/xt7qew9qexya1.jpg</td>\n      <td>13d8s0i.jpg</td>\n      <td>data/image/13d8s0i.jpg</td>\n      <td>CandleDiffusion</td>\n      <td>True</td>\n      <td>True</td>\n      <td>False</td>\n      <td>[]</td>\n    </tr>\n    <tr>\n      <th>13dagbr</th>\n      <td>bathandbodyworks</td>\n      <td>Dove04</td>\n      <td>Does anyone know how I could get rid of this r...</td>\n      <td>someone is holding a white device with a hole ...</td>\n      <td>41732e4109a99c99c91c2181867d18e3</td>\n      <td>/r/bathandbodyworks/comments/13dagbr/does_anyo...</td>\n      <td>https://i.redd.it/p0j6atz6rxya1.jpg</td>\n      <td>13dagbr.jpg</td>\n      <td>data/image/13dagbr.jpg</td>\n      <td>CandleDiffusion</td>\n      <td>True</td>\n      <td>True</td>\n      <td>False</td>\n      <td>[]</td>\n    </tr>\n    <tr>\n      <th>13dbhn4</th>\n      <td>bathandbodyworks</td>\n      <td>Thebigbooty01</td>\n      <td>Gratis today at work</td>\n      <td>there are some bottles of bath and body produc...</td>\n      <td>f2afdcbed21cc1f44ac757bf2f797ae6</td>\n      <td>/r/bathandbodyworks/comments/13dbhn4/gratis_to...</td>\n      <td>https://i.redd.it/x954qki8zxya1.jpg</td>\n      <td>13dbhn4.jpg</td>\n      <td>data/image/13dbhn4.jpg</td>\n      <td>CandleDiffusion</td>\n      <td>True</td>\n      <td>True</td>\n      <td>True</td>\n      <td>[]</td>\n    </tr>\n  </tbody>\n</table>\n<p>37031 rows × 14 columns</p>\n</div>"
     },
     "metadata": {},
     "output_type": "display_data"
    },
    {
     "name": "stdout",
     "output_type": "stream",
     "text": [
      "CPU times: total: 656 ms\n",
      "Wall time: 3.91 s\n"
     ]
    }
   ],
   "source": [
    "%%time\n",
    "\n",
    "curated_data = pandas.read_parquet(\"data/parquet/back.parquet\", engine='pyarrow', filesystem=file_system, schema=schema)\n",
    "curated_data.set_index('id', inplace=True)\n",
    "\n",
    "display(\"==== CURATED DATA ====\")\n",
    "display(curated_data.shape)\n",
    "display(curated_data)"
   ],
   "metadata": {
    "collapsed": false,
    "ExecuteTime": {
     "end_time": "2023-05-16T02:33:04.744020400Z",
     "start_time": "2023-05-16T02:33:01.016041500Z"
    }
   }
  },
  {
   "cell_type": "code",
   "execution_count": 6,
   "outputs": [
    {
     "data": {
      "text/plain": "'==== UPDATED EXTANT DATA ===='"
     },
     "metadata": {},
     "output_type": "display_data"
    },
    {
     "data": {
      "text/plain": "(41505, 15)"
     },
     "metadata": {},
     "output_type": "display_data"
    },
    {
     "data": {
      "text/plain": "            id subreddit                author   \n0      100rn7k  AmIhotAF          veritynicole  \\\n1      1013bdt  AmIhotAF           RaulDea9286   \n2      105mekt  AmIhotAF              lindaniz   \n3      105qvgl  AmIhotAF           CaitVLove11   \n4      105rpcj  AmIhotAF       Flashy-Desk1858   \n...        ...       ...                   ...   \n41500  131dso7      DLAH        Wallydinger123   \n41501  131eznp      DLAH          Long_dong111   \n41502  131g3am      DLAH       ThrownAwayMiles   \n41503  131jvcx      DLAH              robok212   \n41504  131n2by      DLAH  Dependent_Secret9424   \n\n                                                title   \n0                 hey, hows your new year going (23F)  \\\n1                                       36F - ITALIAN   \n2      interesting in good forward relationship (f24)   \n3                           Laughing is my favorite 😆   \n4            [f22] What do you think when you see me?   \n...                                               ...   \n41500                                     Happy B Day   \n41501                                         Perfect   \n41502                              DLAH left or right   \n41503                                  Good morning 😍   \n41504                            Perfection (Sisters)   \n\n                                                 caption   \n0      a woman in a white shirt and black pants is po...  \\\n1                arafed image of a woman in a bikini top   \n2      a close up of a woman with red hair and a whit...   \n3      a woman in a blue tank top and shorts is smili...   \n4        a woman in a blue bikini top and a blue bra top   \n...                                                  ...   \n41500  there are three women posing for a picture in ...   \n41501  araffe woman in a white dress sitting on a pur...   \n41502  two women in short dresses posing for a pictur...   \n41503      araffe in a pink dress posing on a white wall   \n41504  two women in shorts and sandals taking a selfi...   \n\n                                   hash   \n0      4bd00c19fa0ff2ade855e6d364b0760b  \\\n1      7c0d158cba8654ef1c635cbc5471d597   \n2      ba4a0962cca2266a741e1e1700589c04   \n3      27bfe82c37314a0bcf02ab72eaf3a9e5   \n4      329eb42b8267fa1cc2980da8e48bcef1   \n...                                 ...   \n41500  ebb4b4a88dc79e2f2f57b10f32bf03c0   \n41501  5c944c6d62b1ae182c5a6a40c64195f4   \n41502  ab1f8fc33c85f4cfce12c810cf22229e   \n41503  01f5058855526ef25888cff88065db4c   \n41504  b162dd1999dbf9ea3c7adccd34624a46   \n\n                                               permalink   \n0      /r/AmIhotAF/comments/100rn7k/hey_hows_your_new...  \\\n1              /r/AmIhotAF/comments/1013bdt/36f_italian/   \n2      /r/AmIhotAF/comments/105mekt/interesting_in_go...   \n3      /r/AmIhotAF/comments/105qvgl/laughing_is_my_fa...   \n4      /r/AmIhotAF/comments/105rpcj/f22_what_do_you_t...   \n...                                                  ...   \n41500              /r/DLAH/comments/131dso7/happy_b_day/   \n41501                  /r/DLAH/comments/131eznp/perfect/   \n41502       /r/DLAH/comments/131g3am/dlah_left_or_right/   \n41503             /r/DLAH/comments/131jvcx/good_morning/   \n41504       /r/DLAH/comments/131n2by/perfection_sisters/   \n\n                              original_url   image_name   \n0      https://i.redd.it/n7r47s0gkh9a1.jpg  100rn7k.jpg  \\\n1      https://i.redd.it/bg0wwdlt5k9a1.jpg  1013bdt.jpg   \n2      https://i.redd.it/4avjshsz8naa1.jpg  105mekt.jpg   \n3      https://i.redd.it/2pulzr0lxmaa1.jpg  105qvgl.jpg   \n4      https://i.redd.it/rz68pf934naa1.jpg  105rpcj.jpg   \n...                                    ...          ...   \n41500  https://i.redd.it/36gurz533jwa1.jpg  131dso7.jpg   \n41501  https://i.redd.it/dnbbx4zucjwa1.jpg  131eznp.jpg   \n41502  https://i.redd.it/zpp70oor3lwa1.jpg  131g3am.jpg   \n41503  https://i.redd.it/ozmbfhjv3mwa1.jpg  131jvcx.jpg   \n41504  https://i.redd.it/pfg1u0aw1nwa1.jpg  131n2by.jpg   \n\n                         path                model exists curated accept tags  \n0      data/image/100rn7k.jpg        SexyDiffusion   True    True  False   []  \n1      data/image/1013bdt.jpg        SexyDiffusion   True    True   True   []  \n2      data/image/105mekt.jpg        SexyDiffusion   True    True   True   []  \n3      data/image/105qvgl.jpg        SexyDiffusion   True    True   True   []  \n4      data/image/105rpcj.jpg        SexyDiffusion   True    True   True   []  \n...                       ...                  ...    ...     ...    ...  ...  \n41500  data/image/131dso7.jpg  PrettyGirlDiffusion   True    True  False   []  \n41501  data/image/131eznp.jpg  PrettyGirlDiffusion   True    True   True   []  \n41502  data/image/131g3am.jpg  PrettyGirlDiffusion   True    True   True   []  \n41503  data/image/131jvcx.jpg  PrettyGirlDiffusion   True    True  False   []  \n41504  data/image/131n2by.jpg  PrettyGirlDiffusion   True    True  False   []  \n\n[41505 rows x 15 columns]",
      "text/html": "<div>\n<style scoped>\n    .dataframe tbody tr th:only-of-type {\n        vertical-align: middle;\n    }\n\n    .dataframe tbody tr th {\n        vertical-align: top;\n    }\n\n    .dataframe thead th {\n        text-align: right;\n    }\n</style>\n<table border=\"1\" class=\"dataframe\">\n  <thead>\n    <tr style=\"text-align: right;\">\n      <th></th>\n      <th>id</th>\n      <th>subreddit</th>\n      <th>author</th>\n      <th>title</th>\n      <th>caption</th>\n      <th>hash</th>\n      <th>permalink</th>\n      <th>original_url</th>\n      <th>image_name</th>\n      <th>path</th>\n      <th>model</th>\n      <th>exists</th>\n      <th>curated</th>\n      <th>accept</th>\n      <th>tags</th>\n    </tr>\n  </thead>\n  <tbody>\n    <tr>\n      <th>0</th>\n      <td>100rn7k</td>\n      <td>AmIhotAF</td>\n      <td>veritynicole</td>\n      <td>hey, hows your new year going (23F)</td>\n      <td>a woman in a white shirt and black pants is po...</td>\n      <td>4bd00c19fa0ff2ade855e6d364b0760b</td>\n      <td>/r/AmIhotAF/comments/100rn7k/hey_hows_your_new...</td>\n      <td>https://i.redd.it/n7r47s0gkh9a1.jpg</td>\n      <td>100rn7k.jpg</td>\n      <td>data/image/100rn7k.jpg</td>\n      <td>SexyDiffusion</td>\n      <td>True</td>\n      <td>True</td>\n      <td>False</td>\n      <td>[]</td>\n    </tr>\n    <tr>\n      <th>1</th>\n      <td>1013bdt</td>\n      <td>AmIhotAF</td>\n      <td>RaulDea9286</td>\n      <td>36F - ITALIAN</td>\n      <td>arafed image of a woman in a bikini top</td>\n      <td>7c0d158cba8654ef1c635cbc5471d597</td>\n      <td>/r/AmIhotAF/comments/1013bdt/36f_italian/</td>\n      <td>https://i.redd.it/bg0wwdlt5k9a1.jpg</td>\n      <td>1013bdt.jpg</td>\n      <td>data/image/1013bdt.jpg</td>\n      <td>SexyDiffusion</td>\n      <td>True</td>\n      <td>True</td>\n      <td>True</td>\n      <td>[]</td>\n    </tr>\n    <tr>\n      <th>2</th>\n      <td>105mekt</td>\n      <td>AmIhotAF</td>\n      <td>lindaniz</td>\n      <td>interesting in good forward relationship (f24)</td>\n      <td>a close up of a woman with red hair and a whit...</td>\n      <td>ba4a0962cca2266a741e1e1700589c04</td>\n      <td>/r/AmIhotAF/comments/105mekt/interesting_in_go...</td>\n      <td>https://i.redd.it/4avjshsz8naa1.jpg</td>\n      <td>105mekt.jpg</td>\n      <td>data/image/105mekt.jpg</td>\n      <td>SexyDiffusion</td>\n      <td>True</td>\n      <td>True</td>\n      <td>True</td>\n      <td>[]</td>\n    </tr>\n    <tr>\n      <th>3</th>\n      <td>105qvgl</td>\n      <td>AmIhotAF</td>\n      <td>CaitVLove11</td>\n      <td>Laughing is my favorite 😆</td>\n      <td>a woman in a blue tank top and shorts is smili...</td>\n      <td>27bfe82c37314a0bcf02ab72eaf3a9e5</td>\n      <td>/r/AmIhotAF/comments/105qvgl/laughing_is_my_fa...</td>\n      <td>https://i.redd.it/2pulzr0lxmaa1.jpg</td>\n      <td>105qvgl.jpg</td>\n      <td>data/image/105qvgl.jpg</td>\n      <td>SexyDiffusion</td>\n      <td>True</td>\n      <td>True</td>\n      <td>True</td>\n      <td>[]</td>\n    </tr>\n    <tr>\n      <th>4</th>\n      <td>105rpcj</td>\n      <td>AmIhotAF</td>\n      <td>Flashy-Desk1858</td>\n      <td>[f22] What do you think when you see me?</td>\n      <td>a woman in a blue bikini top and a blue bra top</td>\n      <td>329eb42b8267fa1cc2980da8e48bcef1</td>\n      <td>/r/AmIhotAF/comments/105rpcj/f22_what_do_you_t...</td>\n      <td>https://i.redd.it/rz68pf934naa1.jpg</td>\n      <td>105rpcj.jpg</td>\n      <td>data/image/105rpcj.jpg</td>\n      <td>SexyDiffusion</td>\n      <td>True</td>\n      <td>True</td>\n      <td>True</td>\n      <td>[]</td>\n    </tr>\n    <tr>\n      <th>...</th>\n      <td>...</td>\n      <td>...</td>\n      <td>...</td>\n      <td>...</td>\n      <td>...</td>\n      <td>...</td>\n      <td>...</td>\n      <td>...</td>\n      <td>...</td>\n      <td>...</td>\n      <td>...</td>\n      <td>...</td>\n      <td>...</td>\n      <td>...</td>\n      <td>...</td>\n    </tr>\n    <tr>\n      <th>41500</th>\n      <td>131dso7</td>\n      <td>DLAH</td>\n      <td>Wallydinger123</td>\n      <td>Happy B Day</td>\n      <td>there are three women posing for a picture in ...</td>\n      <td>ebb4b4a88dc79e2f2f57b10f32bf03c0</td>\n      <td>/r/DLAH/comments/131dso7/happy_b_day/</td>\n      <td>https://i.redd.it/36gurz533jwa1.jpg</td>\n      <td>131dso7.jpg</td>\n      <td>data/image/131dso7.jpg</td>\n      <td>PrettyGirlDiffusion</td>\n      <td>True</td>\n      <td>True</td>\n      <td>False</td>\n      <td>[]</td>\n    </tr>\n    <tr>\n      <th>41501</th>\n      <td>131eznp</td>\n      <td>DLAH</td>\n      <td>Long_dong111</td>\n      <td>Perfect</td>\n      <td>araffe woman in a white dress sitting on a pur...</td>\n      <td>5c944c6d62b1ae182c5a6a40c64195f4</td>\n      <td>/r/DLAH/comments/131eznp/perfect/</td>\n      <td>https://i.redd.it/dnbbx4zucjwa1.jpg</td>\n      <td>131eznp.jpg</td>\n      <td>data/image/131eznp.jpg</td>\n      <td>PrettyGirlDiffusion</td>\n      <td>True</td>\n      <td>True</td>\n      <td>True</td>\n      <td>[]</td>\n    </tr>\n    <tr>\n      <th>41502</th>\n      <td>131g3am</td>\n      <td>DLAH</td>\n      <td>ThrownAwayMiles</td>\n      <td>DLAH left or right</td>\n      <td>two women in short dresses posing for a pictur...</td>\n      <td>ab1f8fc33c85f4cfce12c810cf22229e</td>\n      <td>/r/DLAH/comments/131g3am/dlah_left_or_right/</td>\n      <td>https://i.redd.it/zpp70oor3lwa1.jpg</td>\n      <td>131g3am.jpg</td>\n      <td>data/image/131g3am.jpg</td>\n      <td>PrettyGirlDiffusion</td>\n      <td>True</td>\n      <td>True</td>\n      <td>True</td>\n      <td>[]</td>\n    </tr>\n    <tr>\n      <th>41503</th>\n      <td>131jvcx</td>\n      <td>DLAH</td>\n      <td>robok212</td>\n      <td>Good morning 😍</td>\n      <td>araffe in a pink dress posing on a white wall</td>\n      <td>01f5058855526ef25888cff88065db4c</td>\n      <td>/r/DLAH/comments/131jvcx/good_morning/</td>\n      <td>https://i.redd.it/ozmbfhjv3mwa1.jpg</td>\n      <td>131jvcx.jpg</td>\n      <td>data/image/131jvcx.jpg</td>\n      <td>PrettyGirlDiffusion</td>\n      <td>True</td>\n      <td>True</td>\n      <td>False</td>\n      <td>[]</td>\n    </tr>\n    <tr>\n      <th>41504</th>\n      <td>131n2by</td>\n      <td>DLAH</td>\n      <td>Dependent_Secret9424</td>\n      <td>Perfection (Sisters)</td>\n      <td>two women in shorts and sandals taking a selfi...</td>\n      <td>b162dd1999dbf9ea3c7adccd34624a46</td>\n      <td>/r/DLAH/comments/131n2by/perfection_sisters/</td>\n      <td>https://i.redd.it/pfg1u0aw1nwa1.jpg</td>\n      <td>131n2by.jpg</td>\n      <td>data/image/131n2by.jpg</td>\n      <td>PrettyGirlDiffusion</td>\n      <td>True</td>\n      <td>True</td>\n      <td>False</td>\n      <td>[]</td>\n    </tr>\n  </tbody>\n</table>\n<p>41505 rows × 15 columns</p>\n</div>"
     },
     "metadata": {},
     "output_type": "display_data"
    },
    {
     "name": "stdout",
     "output_type": "stream",
     "text": [
      "CPU times: total: 156 ms\n",
      "Wall time: 11.3 s\n"
     ]
    }
   ],
   "source": [
    "%%time\n",
    "\n",
    "extant_data.update(curated_data)\n",
    "updated_extant_data = extant_data.reset_index()\n",
    "\n",
    "display(\"==== UPDATED EXTANT DATA ====\")\n",
    "display(updated_extant_data.shape)\n",
    "display(updated_extant_data)\n",
    "updated_extant_data.to_parquet(\"data/processed_raw_data.parquet\", engine='pyarrow', filesystem=file_system, schema=schema)"
   ],
   "metadata": {
    "collapsed": false,
    "ExecuteTime": {
     "end_time": "2023-05-16T02:33:15.103459700Z",
     "start_time": "2023-05-16T02:33:03.568815800Z"
    }
   }
  },
  {
   "cell_type": "code",
   "execution_count": 7,
   "outputs": [
    {
     "name": "stdout",
     "output_type": "stream",
     "text": [
      "CPU times: total: 46.9 ms\n",
      "Wall time: 78.6 ms\n"
     ]
    }
   ],
   "source": [
    "%%time\n",
    "\n",
    "reddit: praw.Reddit = praw.Reddit(client_id='5hVavL0PIRyM_1JSvqT6UQ', client_secret='BjD2kS3WNLnJc59RKY-JJUuc_Z9-JA', user_agent='script:%(bot_name)s:v%(bot_version)s (by /u/%(bot_author)s)')"
   ],
   "metadata": {
    "collapsed": false,
    "ExecuteTime": {
     "end_time": "2023-05-16T02:33:15.119102200Z",
     "start_time": "2023-05-16T02:33:14.852125300Z"
    }
   }
  },
  {
   "cell_type": "code",
   "execution_count": 8,
   "outputs": [
    {
     "name": "stderr",
     "output_type": "stream",
     "text": [
      "Creating Temp Dir For Subs...: 100%|██████████| 18/18 [00:00<00:00, 1152.19it/s]\n"
     ]
    }
   ],
   "source": [
    "for sub in tqdm(subs, total=len(subs), desc=\"Creating Temp Dir For Subs...\"):\n",
    "\ttemp_dir_path_ = f\"temp/{sub}\"\n",
    "\tif not os.path.exists(temp_dir_path_):\n",
    "\t\tos.makedirs(temp_dir_path_)\n",
    "\tos.makedirs(temp_dir_path_, exist_ok=True)"
   ],
   "metadata": {
    "collapsed": false,
    "ExecuteTime": {
     "end_time": "2023-05-16T02:33:22.844448400Z",
     "start_time": "2023-05-16T02:33:14.962016200Z"
    }
   }
  },
  {
   "cell_type": "code",
   "execution_count": 9,
   "outputs": [
    {
     "name": "stderr",
     "output_type": "stream",
     "text": [
      "week:   0%|          | 0/18 [00:00<?, ?it/s]\n",
      "Posts - SFWRedheads - week:   0%|          | 0/100 [00:00<?, ?it/s]\u001B[A\n",
      "Posts - SFWRedheads - week:   1%|          | 1/100 [00:00<00:37,  2.65it/s]\u001B[A\n",
      "Posts - SFWRedheads - week:   8%|▊         | 8/100 [00:00<00:04, 19.02it/s]\u001B[A\n",
      "Posts - SFWRedheads - week:  12%|█▏        | 12/100 [00:00<00:04, 21.32it/s]\u001B[A\n",
      "Posts - SFWRedheads - week:  15%|█▌        | 15/100 [00:00<00:03, 22.89it/s]\u001B[A\n",
      "Posts - SFWRedheads - week:  18%|█▊        | 18/100 [00:00<00:03, 24.10it/s]\u001B[A\n",
      "Posts - SFWRedheads - week:  26%|██▌       | 26/100 [00:01<00:01, 37.77it/s]\u001B[A\n",
      "Posts - SFWRedheads - week:  33%|███▎      | 33/100 [00:01<00:01, 45.20it/s]\u001B[A\n",
      "Posts - SFWRedheads - week:  38%|███▊      | 38/100 [00:01<00:01, 41.80it/s]\u001B[A\n",
      "Posts - SFWRedheads - week:  43%|████▎     | 43/100 [00:01<00:01, 42.82it/s]\u001B[A\n",
      "Posts - SFWRedheads - week:  51%|█████     | 51/100 [00:01<00:00, 49.34it/s]\u001B[A\n",
      "Posts - SFWRedheads - week:  57%|█████▋    | 57/100 [00:01<00:01, 39.71it/s]\u001B[A\n",
      "Posts - SFWRedheads - week:  63%|██████▎   | 63/100 [00:01<00:00, 43.22it/s]\u001B[A\n",
      "Posts - SFWRedheads - week:  69%|██████▉   | 69/100 [00:01<00:00, 46.11it/s]\u001B[A\n",
      "Posts - SFWRedheads - week:  75%|███████▌  | 75/100 [00:02<00:00, 48.38it/s]\u001B[A\n",
      "Posts - SFWRedheads - week:  84%|████████▍ | 84/100 [00:02<00:00, 57.57it/s]\u001B[A\n",
      "Posts - SFWRedheads - week:  91%|█████████ | 91/100 [00:02<00:00, 57.02it/s]\u001B[A\n",
      "Posts - SFWRedheads - week: 100%|██████████| 100/100 [00:02<00:00, 41.64it/s][A\n",
      "week:   6%|▌         | 1/18 [00:05<01:31,  5.38s/it]\n",
      "Posts - sfwpetite - week:   0%|          | 0/34 [00:00<?, ?it/s]\u001B[A\n",
      "Posts - sfwpetite - week:   9%|▉         | 3/34 [00:00<00:01, 27.43it/s]\u001B[A\n",
      "Posts - sfwpetite - week:  18%|█▊        | 6/34 [00:00<00:02, 12.60it/s]\u001B[A\n",
      "Posts - sfwpetite - week:  24%|██▎       | 8/34 [00:00<00:01, 14.18it/s]\u001B[A\n",
      "Posts - sfwpetite - week:  29%|██▉       | 10/34 [00:00<00:01, 13.68it/s]\u001B[A\n",
      "Posts - sfwpetite - week:  35%|███▌      | 12/34 [00:00<00:01, 12.94it/s]\u001B[A\n",
      "Posts - sfwpetite - week:  41%|████      | 14/34 [00:01<00:02,  9.31it/s]\u001B[A\n",
      "Posts - sfwpetite - week:  47%|████▋     | 16/34 [00:01<00:02,  7.84it/s]\u001B[A\n",
      "Posts - sfwpetite - week:  50%|█████     | 17/34 [00:01<00:02,  6.20it/s]\u001B[A\n",
      "Posts - sfwpetite - week:  56%|█████▌    | 19/34 [00:02<00:02,  6.60it/s]\u001B[A\n",
      "Posts - sfwpetite - week:  59%|█████▉    | 20/34 [00:02<00:02,  6.43it/s]\u001B[A\n",
      "Posts - sfwpetite - week:  65%|██████▍   | 22/34 [00:02<00:01,  8.18it/s]\u001B[A\n",
      "Posts - sfwpetite - week:  71%|███████   | 24/34 [00:02<00:01,  9.33it/s]\u001B[A\n",
      "Posts - sfwpetite - week:  76%|███████▋  | 26/34 [00:02<00:00, 11.11it/s]\u001B[A\n",
      "Posts - sfwpetite - week:  82%|████████▏ | 28/34 [00:02<00:00, 11.60it/s]\u001B[A\n",
      "Posts - sfwpetite - week:  88%|████████▊ | 30/34 [00:03<00:00, 10.43it/s]\u001B[A\n",
      "Posts - sfwpetite - week: 100%|██████████| 34/34 [00:03<00:00, 10.03it/s]\u001B[A\n",
      "week:  11%|█         | 2/18 [00:16<02:23,  8.99s/it]\n",
      "Posts - SFWNextDoorGirls - week:   0%|          | 0/100 [00:00<?, ?it/s]\u001B[A\n",
      "Posts - SFWNextDoorGirls - week:   2%|▏         | 2/100 [00:00<00:05, 18.29it/s]\u001B[A\n",
      "Posts - SFWNextDoorGirls - week:   4%|▍         | 4/100 [00:00<00:07, 13.68it/s]\u001B[A\n",
      "Posts - SFWNextDoorGirls - week:   6%|▌         | 6/100 [00:00<00:06, 15.46it/s]\u001B[A\n",
      "Posts - SFWNextDoorGirls - week:  10%|█         | 10/100 [00:00<00:03, 22.96it/s]\u001B[A\n",
      "Posts - SFWNextDoorGirls - week:  18%|█▊        | 18/100 [00:00<00:02, 39.86it/s]\u001B[A\n",
      "Posts - SFWNextDoorGirls - week:  25%|██▌       | 25/100 [00:00<00:01, 47.64it/s]\u001B[A\n",
      "Posts - SFWNextDoorGirls - week:  32%|███▏      | 32/100 [00:00<00:01, 52.82it/s]\u001B[A\n",
      "Posts - SFWNextDoorGirls - week:  40%|████      | 40/100 [00:00<00:01, 59.15it/s]\u001B[A\n",
      "Posts - SFWNextDoorGirls - week:  47%|████▋     | 47/100 [00:01<00:00, 61.42it/s]\u001B[A\n",
      "Posts - SFWNextDoorGirls - week:  55%|█████▌    | 55/100 [00:01<00:00, 64.80it/s]\u001B[A\n",
      "Posts - SFWNextDoorGirls - week:  63%|██████▎   | 63/100 [00:01<00:00, 67.53it/s]\u001B[A\n",
      "Posts - SFWNextDoorGirls - week:  72%|███████▏  | 72/100 [00:01<00:00, 72.01it/s]\u001B[A\n",
      "Posts - SFWNextDoorGirls - week:  81%|████████  | 81/100 [00:01<00:00, 75.13it/s]\u001B[A\n",
      "Posts - SFWNextDoorGirls - week:  89%|████████▉ | 89/100 [00:01<00:00, 71.45it/s]\u001B[A\n",
      "Posts - SFWNextDoorGirls - week: 100%|██████████| 100/100 [00:01<00:00, 55.94it/s][A\n",
      "week:  17%|█▋        | 3/18 [00:26<02:20,  9.37s/it]\n",
      "Posts - fatsquirrelhate - week:   0%|          | 0/100 [00:00<?, ?it/s]\u001B[A\n",
      "Posts - fatsquirrelhate - week:   1%|          | 1/100 [00:00<00:27,  3.56it/s]\u001B[A\n",
      "Posts - fatsquirrelhate - week:   6%|▌         | 6/100 [00:00<00:05, 18.61it/s]\u001B[A\n",
      "Posts - fatsquirrelhate - week:  11%|█         | 11/100 [00:00<00:03, 27.77it/s]\u001B[A\n",
      "Posts - fatsquirrelhate - week:  15%|█▌        | 15/100 [00:00<00:02, 29.27it/s]\u001B[A\n",
      "Posts - fatsquirrelhate - week:  19%|█▉        | 19/100 [00:00<00:02, 31.51it/s]\u001B[A\n",
      "Posts - fatsquirrelhate - week:  24%|██▍       | 24/100 [00:00<00:02, 34.34it/s]\u001B[A\n",
      "Posts - fatsquirrelhate - week:  28%|██▊       | 28/100 [00:01<00:02, 25.38it/s]\u001B[A\n",
      "Posts - fatsquirrelhate - week:  33%|███▎      | 33/100 [00:01<00:02, 30.14it/s]\u001B[A\n",
      "Posts - fatsquirrelhate - week:  41%|████      | 41/100 [00:01<00:01, 39.50it/s]\u001B[A\n",
      "Posts - fatsquirrelhate - week:  48%|████▊     | 48/100 [00:01<00:01, 46.35it/s]\u001B[A\n",
      "Posts - fatsquirrelhate - week:  57%|█████▋    | 57/100 [00:01<00:00, 56.08it/s]\u001B[A\n",
      "Posts - fatsquirrelhate - week:  64%|██████▍   | 64/100 [00:01<00:00, 58.29it/s]\u001B[A\n",
      "Posts - fatsquirrelhate - week:  72%|███████▏  | 72/100 [00:01<00:00, 63.04it/s]\u001B[A\n",
      "Posts - fatsquirrelhate - week:  81%|████████  | 81/100 [00:01<00:00, 67.80it/s]\u001B[A\n",
      "Posts - fatsquirrelhate - week:  88%|████████▊ | 88/100 [00:02<00:00, 64.03it/s]\u001B[A\n",
      "Posts - fatsquirrelhate - week: 100%|██████████| 100/100 [00:02<00:00, 43.90it/s][A\n",
      "week:  22%|██▏       | 4/18 [00:38<02:26, 10.47s/it]\n",
      "Posts - realasians - week:   0%|          | 0/100 [00:00<?, ?it/s]\u001B[A\n",
      "Posts - realasians - week:  11%|█         | 11/100 [00:00<00:00, 100.45it/s]\u001B[A\n",
      "Posts - realasians - week:  22%|██▏       | 22/100 [00:00<00:00, 100.50it/s]\u001B[A\n",
      "Posts - realasians - week:  33%|███▎      | 33/100 [00:00<00:00, 101.79it/s]\u001B[A\n",
      "Posts - realasians - week:  44%|████▍     | 44/100 [00:00<00:00, 101.31it/s]\u001B[A\n",
      "Posts - realasians - week:  55%|█████▌    | 55/100 [00:00<00:00, 95.99it/s] \u001B[A\n",
      "Posts - realasians - week:  65%|██████▌   | 65/100 [00:00<00:00, 94.48it/s]\u001B[A\n",
      "Posts - realasians - week:  75%|███████▌  | 75/100 [00:00<00:00, 78.95it/s]\u001B[A\n",
      "Posts - realasians - week:  84%|████████▍ | 84/100 [00:00<00:00, 80.30it/s]\u001B[A\n",
      "Posts - realasians - week: 100%|██████████| 100/100 [00:01<00:00, 90.95it/s][A\n",
      "week:  28%|██▊       | 5/18 [00:49<02:17, 10.54s/it]\n",
      "Posts - KoreanHotties - week:   0%|          | 0/100 [00:00<?, ?it/s]\u001B[A\n",
      "Posts - KoreanHotties - week:   9%|▉         | 9/100 [00:00<00:01, 82.32it/s]\u001B[A\n",
      "Posts - KoreanHotties - week:  19%|█▉        | 19/100 [00:00<00:00, 87.68it/s]\u001B[A\n",
      "Posts - KoreanHotties - week:  29%|██▉       | 29/100 [00:00<00:00, 88.76it/s]\u001B[A\n",
      "Posts - KoreanHotties - week:  39%|███▉      | 39/100 [00:00<00:00, 89.82it/s]\u001B[A\n",
      "Posts - KoreanHotties - week:  51%|█████     | 51/100 [00:00<00:00, 96.97it/s]\u001B[A\n",
      "Posts - KoreanHotties - week:  61%|██████    | 61/100 [00:00<00:00, 94.74it/s]\u001B[A\n",
      "Posts - KoreanHotties - week:  71%|███████   | 71/100 [00:00<00:00, 85.12it/s]\u001B[A\n",
      "Posts - KoreanHotties - week:  80%|████████  | 80/100 [00:00<00:00, 82.10it/s]\u001B[A\n",
      "Posts - KoreanHotties - week: 100%|██████████| 100/100 [00:01<00:00, 94.17it/s][A\n",
      "week:  33%|███▎      | 6/18 [01:01<02:10, 10.89s/it]\n",
      "Posts - prettyasiangirls - week:   0%|          | 0/100 [00:00<?, ?it/s]\u001B[A\n",
      "Posts - prettyasiangirls - week:   8%|▊         | 8/100 [00:00<00:01, 72.35it/s]\u001B[A\n",
      "Posts - prettyasiangirls - week:  16%|█▌        | 16/100 [00:00<00:01, 76.30it/s]\u001B[A\n",
      "Posts - prettyasiangirls - week:  26%|██▌       | 26/100 [00:00<00:00, 83.38it/s]\u001B[A\n",
      "Posts - prettyasiangirls - week:  38%|███▊      | 38/100 [00:00<00:00, 93.93it/s]\u001B[A\n",
      "Posts - prettyasiangirls - week:  48%|████▊     | 48/100 [00:00<00:00, 93.02it/s]\u001B[A\n",
      "Posts - prettyasiangirls - week:  60%|██████    | 60/100 [00:00<00:00, 98.62it/s]\u001B[A\n",
      "Posts - prettyasiangirls - week:  70%|███████   | 70/100 [00:00<00:00, 96.28it/s]\u001B[A\n",
      "Posts - prettyasiangirls - week:  81%|████████  | 81/100 [00:00<00:00, 97.21it/s]\u001B[A\n",
      "Posts - prettyasiangirls - week: 100%|██████████| 100/100 [00:01<00:00, 87.62it/s][A\n",
      "week:  39%|███▉      | 7/18 [01:13<02:06, 11.52s/it]\n",
      "Posts - AsianOfficeLady - week:   0%|          | 0/13 [00:00<?, ?it/s]\u001B[A\n",
      "Posts - AsianOfficeLady - week: 100%|██████████| 13/13 [00:00<00:00, 77.50it/s][A\n",
      "week:  44%|████▍     | 8/18 [01:22<01:44, 10.46s/it]\n",
      "Posts - mildlypenis - week:   0%|          | 0/100 [00:00<?, ?it/s]\u001B[A\n",
      "Posts - mildlypenis - week:  12%|█▏        | 12/100 [00:00<00:00, 109.76it/s]\u001B[A\n",
      "Posts - mildlypenis - week:  25%|██▌       | 25/100 [00:00<00:00, 115.10it/s]\u001B[A\n",
      "Posts - mildlypenis - week:  38%|███▊      | 38/100 [00:00<00:00, 116.83it/s]\u001B[A\n",
      "Posts - mildlypenis - week:  50%|█████     | 50/100 [00:00<00:00, 114.02it/s]\u001B[A\n",
      "Posts - mildlypenis - week:  62%|██████▏   | 62/100 [00:00<00:00, 112.59it/s]\u001B[A\n",
      "Posts - mildlypenis - week:  75%|███████▌  | 75/100 [00:00<00:00, 114.73it/s]\u001B[A\n",
      "Posts - mildlypenis - week: 100%|██████████| 100/100 [00:00<00:00, 116.31it/s][A\n",
      "week:  50%|█████     | 9/18 [01:34<01:38, 10.95s/it]\n",
      "Posts - AsianInvasion - week:   0%|          | 0/14 [00:00<?, ?it/s]\u001B[A\n",
      "Posts - AsianInvasion - week: 100%|██████████| 14/14 [00:00<00:00, 89.13it/s][A\n",
      "week:  56%|█████▌    | 10/18 [01:43<01:24, 10.51s/it]\n",
      "Posts - sexygirls - week:   0%|          | 0/89 [00:00<?, ?it/s]\u001B[A\n",
      "Posts - sexygirls - week:   8%|▊         | 7/89 [00:00<00:01, 63.96it/s]\u001B[A\n",
      "Posts - sexygirls - week:  21%|██▏       | 19/89 [00:00<00:00, 90.80it/s]\u001B[A\n",
      "Posts - sexygirls - week:  35%|███▍      | 31/89 [00:00<00:00, 99.43it/s]\u001B[A\n",
      "Posts - sexygirls - week:  48%|████▊     | 43/89 [00:00<00:00, 103.37it/s]\u001B[A\n",
      "Posts - sexygirls - week:  62%|██████▏   | 55/89 [00:00<00:00, 105.45it/s]\u001B[A\n",
      "Posts - sexygirls - week:  79%|███████▊  | 70/89 [00:00<00:00, 116.20it/s]\u001B[A\n",
      "Posts - sexygirls - week: 100%|██████████| 89/89 [00:00<00:00, 111.52it/s]\u001B[A\n",
      "week:  61%|██████    | 11/18 [01:55<01:15, 10.83s/it]\n",
      "Posts - PrettyGirls - week:   0%|          | 0/98 [00:00<?, ?it/s]\u001B[A\n",
      "Posts - PrettyGirls - week:   9%|▉         | 9/98 [00:00<00:01, 82.34it/s]\u001B[A\n",
      "Posts - PrettyGirls - week:  23%|██▎       | 23/98 [00:00<00:00, 106.04it/s]\u001B[A\n",
      "Posts - PrettyGirls - week:  37%|███▋      | 36/98 [00:00<00:00, 111.80it/s]\u001B[A\n",
      "Posts - PrettyGirls - week:  51%|█████     | 50/98 [00:00<00:00, 118.02it/s]\u001B[A\n",
      "Posts - PrettyGirls - week:  63%|██████▎   | 62/98 [00:00<00:00, 109.40it/s]\u001B[A\n",
      "Posts - PrettyGirls - week:  76%|███████▌  | 74/98 [00:00<00:00, 109.54it/s]\u001B[A\n",
      "Posts - PrettyGirls - week:  87%|████████▋ | 85/98 [00:00<00:00, 105.58it/s]\u001B[A\n",
      "Posts - PrettyGirls - week: 100%|██████████| 98/98 [00:00<00:00, 104.98it/s]\u001B[A\n",
      "week:  67%|██████▋   | 12/18 [02:06<01:05, 10.84s/it]\n",
      "Posts - gentlemanboners - week:   0%|          | 0/100 [00:00<?, ?it/s]\u001B[A\n",
      "Posts - gentlemanboners - week:  12%|█▏        | 12/100 [00:00<00:00, 109.77it/s]\u001B[A\n",
      "Posts - gentlemanboners - week:  26%|██▌       | 26/100 [00:00<00:00, 120.49it/s]\u001B[A\n",
      "Posts - gentlemanboners - week:  39%|███▉      | 39/100 [00:00<00:00, 119.75it/s]\u001B[A\n",
      "Posts - gentlemanboners - week:  51%|█████     | 51/100 [00:00<00:00, 115.77it/s]\u001B[A\n",
      "Posts - gentlemanboners - week:  63%|██████▎   | 63/100 [00:00<00:00, 113.60it/s]\u001B[A\n",
      "Posts - gentlemanboners - week:  75%|███████▌  | 75/100 [00:00<00:00, 104.29it/s]\u001B[A\n",
      "Posts - gentlemanboners - week:  86%|████████▌ | 86/100 [00:00<00:00, 90.71it/s] \u001B[A\n",
      "Posts - gentlemanboners - week: 100%|██████████| 100/100 [00:01<00:00, 98.98it/s][A\n",
      "week:  72%|███████▏  | 13/18 [02:17<00:54, 11.00s/it]\n",
      "Posts - hotofficegirls - week: 100%|██████████| 8/8 [00:00<00:00, 85.42it/s]\n",
      "week:  78%|███████▊  | 14/18 [02:26<00:41, 10.48s/it]\n",
      "Posts - tightdresses - week:   0%|          | 0/100 [00:00<?, ?it/s]\u001B[A\n",
      "Posts - tightdresses - week:  12%|█▏        | 12/100 [00:00<00:00, 109.72it/s]\u001B[A\n",
      "Posts - tightdresses - week:  26%|██▌       | 26/100 [00:00<00:00, 119.29it/s]\u001B[A\n",
      "Posts - tightdresses - week:  40%|████      | 40/100 [00:00<00:00, 123.25it/s]\u001B[A\n",
      "Posts - tightdresses - week:  54%|█████▍    | 54/100 [00:00<00:00, 125.12it/s]\u001B[A\n",
      "Posts - tightdresses - week:  67%|██████▋   | 67/100 [00:00<00:00, 122.87it/s]\u001B[A\n",
      "Posts - tightdresses - week:  81%|████████  | 81/100 [00:00<00:00, 122.61it/s]\u001B[A\n",
      "Posts - tightdresses - week: 100%|██████████| 100/100 [00:00<00:00, 122.02it/s][A\n",
      "week:  83%|████████▎ | 15/18 [02:39<00:33, 11.04s/it]\n",
      "Posts - DLAH - week:   0%|          | 0/100 [00:00<?, ?it/s]\u001B[A\n",
      "Posts - DLAH - week:  11%|█         | 11/100 [00:00<00:00, 100.63it/s]\u001B[A\n",
      "Posts - DLAH - week:  26%|██▌       | 26/100 [00:00<00:00, 122.09it/s]\u001B[A\n",
      "Posts - DLAH - week:  39%|███▉      | 39/100 [00:00<00:00, 120.63it/s]\u001B[A\n",
      "Posts - DLAH - week:  53%|█████▎    | 53/100 [00:00<00:00, 123.53it/s]\u001B[A\n",
      "Posts - DLAH - week:  67%|██████▋   | 67/100 [00:00<00:00, 125.13it/s]\u001B[A\n",
      "Posts - DLAH - week:  80%|████████  | 80/100 [00:00<00:00, 123.00it/s]\u001B[A\n",
      "Posts - DLAH - week: 100%|██████████| 100/100 [00:00<00:00, 117.16it/s][A\n",
      "week:  89%|████████▉ | 16/18 [02:50<00:22, 11.27s/it]\n",
      "Posts - bathandbodyworks - week:   0%|          | 0/100 [00:00<?, ?it/s]\u001B[A\n",
      "Posts - bathandbodyworks - week:  12%|█▏        | 12/100 [00:00<00:00, 109.79it/s]\u001B[A\n",
      "Posts - bathandbodyworks - week:  26%|██▌       | 26/100 [00:00<00:00, 120.51it/s]\u001B[A\n",
      "Posts - bathandbodyworks - week:  40%|████      | 40/100 [00:00<00:00, 123.93it/s]\u001B[A\n",
      "Posts - bathandbodyworks - week:  55%|█████▌    | 55/100 [00:00<00:00, 126.76it/s]\u001B[A\n",
      "Posts - bathandbodyworks - week:  68%|██████▊   | 68/100 [00:00<00:00, 123.95it/s]\u001B[A\n",
      "Posts - bathandbodyworks - week:  81%|████████  | 81/100 [00:00<00:00, 102.39it/s]\u001B[A\n",
      "Posts - bathandbodyworks - week: 100%|██████████| 100/100 [00:00<00:00, 101.76it/s][A\n",
      "week:  94%|█████████▍| 17/18 [03:02<00:11, 11.31s/it]\n",
      "Posts - AesPleasingAsianGirls - week:   0%|          | 0/45 [00:00<?, ?it/s]\u001B[A\n",
      "Posts - AesPleasingAsianGirls - week:   9%|▉         | 4/45 [00:00<00:01, 36.57it/s]\u001B[A\n",
      "Posts - AesPleasingAsianGirls - week:  31%|███       | 14/45 [00:00<00:00, 68.84it/s]\u001B[A\n",
      "Posts - AesPleasingAsianGirls - week:  60%|██████    | 27/45 [00:00<00:00, 91.67it/s]\u001B[A\n",
      "Posts - AesPleasingAsianGirls - week: 100%|██████████| 45/45 [00:00<00:00, 96.00it/s] \u001B[A\n",
      "week: 100%|██████████| 18/18 [03:12<00:00, 10.70s/it]\n",
      "day:   0%|          | 0/18 [00:00<?, ?it/s]\n",
      "Posts - SFWRedheads - day:   0%|          | 0/57 [00:00<?, ?it/s]\u001B[A\n",
      "Posts - SFWRedheads - day:  19%|█▉        | 11/57 [00:00<00:00, 100.55it/s]\u001B[A\n",
      "Posts - SFWRedheads - day:  42%|████▏     | 24/57 [00:00<00:00, 111.29it/s]\u001B[A\n",
      "Posts - SFWRedheads - day:  67%|██████▋   | 38/57 [00:00<00:00, 118.94it/s]\u001B[A\n",
      "Posts - SFWRedheads - day: 100%|██████████| 57/57 [00:00<00:00, 125.79it/s]\u001B[A\n",
      "day:   6%|▌         | 1/18 [00:10<03:01, 10.65s/it]\n",
      "Posts - sfwpetite - day: 100%|██████████| 8/8 [00:00<00:00, 102.44it/s]\n",
      "day:  11%|█         | 2/18 [00:20<02:42, 10.13s/it]\n",
      "Posts - SFWNextDoorGirls - day:   0%|          | 0/100 [00:00<?, ?it/s]\u001B[A\n",
      "Posts - SFWNextDoorGirls - day:  11%|█         | 11/100 [00:00<00:00, 100.64it/s]\u001B[A\n",
      "Posts - SFWNextDoorGirls - day:  26%|██▌       | 26/100 [00:00<00:00, 122.11it/s]\u001B[A\n",
      "Posts - SFWNextDoorGirls - day:  42%|████▏     | 42/100 [00:00<00:00, 133.16it/s]\u001B[A\n",
      "Posts - SFWNextDoorGirls - day:  56%|█████▌    | 56/100 [00:00<00:00, 131.12it/s]\u001B[A\n",
      "Posts - SFWNextDoorGirls - day:  70%|███████   | 70/100 [00:00<00:00, 123.53it/s]\u001B[A\n",
      "Posts - SFWNextDoorGirls - day:  83%|████████▎ | 83/100 [00:00<00:00, 118.48it/s]\u001B[A\n",
      "Posts - SFWNextDoorGirls - day: 100%|██████████| 100/100 [00:00<00:00, 112.99it/s][A\n",
      "day:  17%|█▋        | 3/18 [00:32<02:42, 10.85s/it]\n",
      "Posts - fatsquirrelhate - day:   0%|          | 0/24 [00:00<?, ?it/s]\u001B[A\n",
      "Posts - fatsquirrelhate - day:  46%|████▌     | 11/24 [00:00<00:00, 100.59it/s]\u001B[A\n",
      "Posts - fatsquirrelhate - day: 100%|██████████| 24/24 [00:00<00:00, 95.98it/s] \u001B[A\n",
      "day:  22%|██▏       | 4/18 [00:41<02:25, 10.40s/it]\n",
      "Posts - realasians - day:   0%|          | 0/35 [00:00<?, ?it/s]\u001B[A\n",
      "Posts - realasians - day:  34%|███▍      | 12/35 [00:00<00:00, 109.79it/s]\u001B[A\n",
      "Posts - realasians - day: 100%|██████████| 35/35 [00:00<00:00, 124.47it/s]\u001B[A\n",
      "day:  28%|██▊       | 5/18 [00:52<02:15, 10.43s/it]\n",
      "Posts - KoreanHotties - day:   0%|          | 0/32 [00:00<?, ?it/s]\u001B[A\n",
      "Posts - KoreanHotties - day:  34%|███▍      | 11/32 [00:00<00:00, 100.42it/s]\u001B[A\n",
      "Posts - KoreanHotties - day: 100%|██████████| 32/32 [00:00<00:00, 107.72it/s]\u001B[A\n",
      "day:  33%|███▎      | 6/18 [01:02<02:06, 10.51s/it]\n",
      "Posts - prettyasiangirls - day:   0%|          | 0/22 [00:00<?, ?it/s]\u001B[A\n",
      "Posts - prettyasiangirls - day: 100%|██████████| 22/22 [00:00<00:00, 117.33it/s]\u001B[A\n",
      "day:  39%|███▉      | 7/18 [01:13<01:54, 10.45s/it]\n",
      "Posts - AsianOfficeLady - day: 100%|██████████| 2/2 [00:00<00:00, 63.55it/s]\n",
      "day:  44%|████▍     | 8/18 [01:23<01:43, 10.30s/it]\n",
      "Posts - mildlypenis - day:   0%|          | 0/41 [00:00<?, ?it/s]\u001B[A\n",
      "Posts - mildlypenis - day:  29%|██▉       | 12/41 [00:00<00:00, 109.71it/s]\u001B[A\n",
      "Posts - mildlypenis - day:  63%|██████▎   | 26/41 [00:00<00:00, 116.90it/s]\u001B[A\n",
      "Posts - mildlypenis - day: 100%|██████████| 41/41 [00:00<00:00, 122.82it/s]\u001B[A\n",
      "day:  50%|█████     | 9/18 [01:34<01:34, 10.47s/it]\n",
      "Posts - AsianInvasion - day: 100%|██████████| 2/2 [00:00<00:00, 42.38it/s]\n",
      "day:  56%|█████▌    | 10/18 [01:43<01:22, 10.28s/it]\n",
      "Posts - sexygirls - day: 100%|██████████| 10/10 [00:00<00:00, 106.71it/s]\n",
      "day:  61%|██████    | 11/18 [01:54<01:11, 10.26s/it]\n",
      "Posts - PrettyGirls - day:   0%|          | 0/19 [00:00<?, ?it/s]\u001B[A\n",
      "Posts - PrettyGirls - day: 100%|██████████| 19/19 [00:00<00:00, 110.54it/s]A\n",
      "day:  67%|██████▋   | 12/18 [02:04<01:01, 10.28s/it]\n",
      "Posts - gentlemanboners - day:   0%|          | 0/30 [00:00<?, ?it/s]\u001B[A\n",
      "Posts - gentlemanboners - day:  33%|███▎      | 10/30 [00:00<00:00, 81.49it/s]\u001B[A\n",
      "Posts - gentlemanboners - day: 100%|██████████| 30/30 [00:00<00:00, 105.69it/s]\u001B[A\n",
      "day:  72%|███████▏  | 13/18 [02:14<00:51, 10.32s/it]\n",
      "Posts - hotofficegirls - day: 100%|██████████| 2/2 [00:00<00:00, 63.52it/s]\n",
      "day:  78%|███████▊  | 14/18 [02:21<00:36,  9.13s/it]\n",
      "Posts - tightdresses - day:   0%|          | 0/44 [00:00<?, ?it/s]\u001B[A\n",
      "Posts - tightdresses - day:  30%|██▉       | 13/44 [00:00<00:00, 118.39it/s]\u001B[A\n",
      "Posts - tightdresses - day:  61%|██████▏   | 27/44 [00:00<00:00, 124.04it/s]\u001B[A\n",
      "Posts - tightdresses - day: 100%|██████████| 44/44 [00:00<00:00, 127.83it/s]\u001B[A\n",
      "day:  83%|████████▎ | 15/18 [02:25<00:23,  7.73s/it]\n",
      "Posts - DLAH - day:   0%|          | 0/76 [00:00<?, ?it/s]\u001B[A\n",
      "Posts - DLAH - day:  14%|█▍        | 11/76 [00:00<00:00, 100.57it/s]\u001B[A\n",
      "Posts - DLAH - day:  29%|██▉       | 22/76 [00:00<00:00, 105.35it/s]\u001B[A\n",
      "Posts - DLAH - day:  43%|████▎     | 33/76 [00:00<00:00, 104.64it/s]\u001B[A\n",
      "Posts - DLAH - day:  58%|█████▊    | 44/76 [00:00<00:00, 102.71it/s]\u001B[A\n",
      "Posts - DLAH - day:  75%|███████▌  | 57/76 [00:00<00:00, 108.44it/s]\u001B[A\n",
      "Posts - DLAH - day: 100%|██████████| 76/76 [00:00<00:00, 106.77it/s]\u001B[A\n",
      "day:  89%|████████▉ | 16/18 [02:29<00:13,  6.56s/it]\n",
      "Posts - bathandbodyworks - day:   0%|          | 0/46 [00:00<?, ?it/s]\u001B[A\n",
      "Posts - bathandbodyworks - day:  24%|██▍       | 11/46 [00:00<00:00, 100.64it/s]\u001B[A\n",
      "Posts - bathandbodyworks - day:  54%|█████▍    | 25/46 [00:00<00:00, 116.71it/s]\u001B[A\n",
      "Posts - bathandbodyworks - day: 100%|██████████| 46/46 [00:00<00:00, 120.31it/s]\u001B[A\n",
      "day:  94%|█████████▍| 17/18 [02:31<00:05,  5.06s/it]\n",
      "Posts - AesPleasingAsianGirls - day: 100%|██████████| 7/7 [00:00<00:00, 74.58it/s]\n",
      "day: 100%|██████████| 18/18 [02:31<00:00,  8.43s/it]\n"
     ]
    }
   ],
   "source": [
    "with open('log.txt', 'a') as f:\n",
    "\tfor time_filter in ['week', 'day']:\n",
    "\t\tfor sub in tqdm(subs, desc=f\"{time_filter}\", total=len(subs)):\n",
    "\t\t\ttemp_dir_path = f\"temp/{sub}\"\n",
    "\t\t\ttry:\n",
    "\t\t\t\tsubreddit_stream: ListingGenerator = reddit.subreddit(display_name=sub).top(limit=100, time_filter=time_filter)\n",
    "\t\t\t\tsubreddit_stream = list(subreddit_stream)\n",
    "\t\t\t\tfor submission in tqdm(subreddit_stream, total=len(subreddit_stream),\n",
    "\t\t\t\t\t\t\t\t\t   desc=f\"Posts - {sub} - {time_filter}\"):\n",
    "\t\t\t\t\tif submission is None:\n",
    "\t\t\t\t\t\tcontinue\n",
    "\t\t\t\t\telse:\n",
    "\t\t\t\t\t\tif submission.id in extant_data.index.values:\n",
    "\t\t\t\t\t\t\tcontinue\n",
    "\t\t\t\t\ttry:\n",
    "\t\t\t\t\t\tauthor_name = 'Unknown'\n",
    "\t\t\t\t\t\tsubreddit_name = sub\n",
    "\t\t\t\t\t\ttry:\n",
    "\t\t\t\t\t\t\tauthor_name = submission.author.name\n",
    "\t\t\t\t\t\texcept Exception as e:\n",
    "\t\t\t\t\t\t\tauthor_name = 'Unknown'\n",
    "\t\t\t\t\t\t\tpass\n",
    "\t\t\t\t\t\tp = {\n",
    "\t\t\t\t\t\t\t'id': submission.id,\n",
    "\t\t\t\t\t\t\t'subreddit': subreddit_name,\n",
    "\t\t\t\t\t\t\t'author': author_name,\n",
    "\t\t\t\t\t\t\t'title': submission.title,\n",
    "\t\t\t\t\t\t\t'caption': '',\n",
    "\t\t\t\t\t\t\t'hash': '',\n",
    "\t\t\t\t\t\t\t'permalink': submission.permalink,\n",
    "\t\t\t\t\t\t\t'original_url': submission.url,\n",
    "\t\t\t\t\t\t\t'image_name': '',\n",
    "\t\t\t\t\t\t\t'path': '',\n",
    "\t\t\t\t\t\t\t'thumbnail_path': '',\n",
    "\t\t\t\t\t\t\t'exists': False,\n",
    "\t\t\t\t\t\t\t'curated': False,\n",
    "\t\t\t\t\t\t\t'Tags': ['']\n",
    "\t\t\t\t\t\t}\n",
    "\t\t\t\t\t\tpd.DataFrame([p]).to_parquet(f\"{temp_dir_path}/{submission.id}.parquet\")\n",
    "\t\t\t\t\texcept Exception as e:\n",
    "\t\t\t\t\t\tlog = functions.write_log_message(submission.id, sub, \"Error Writing Post\", e)\n",
    "\t\t\t\t\t\tf.write(log)\n",
    "\t\t\t\t\t\tcontinue\n",
    "\t\t\texcept Exception as e:\n",
    "\t\t\t\tlog = functions.write_log_message(submission.id, sub, f\"Error Getting Posts For SubReddit\", e)\n",
    "\t\t\t\tf.write(log)\n",
    "\t\t\t\tcontinue"
   ],
   "metadata": {
    "collapsed": false,
    "ExecuteTime": {
     "end_time": "2023-05-16T02:38:59.675827400Z",
     "start_time": "2023-05-16T02:33:15.165974600Z"
    }
   }
  },
  {
   "cell_type": "code",
   "execution_count": 10,
   "outputs": [
    {
     "name": "stderr",
     "output_type": "stream",
     "text": [
      "Reading Temp Dir For Subs...: 100%|██████████| 18/18 [00:04<00:00,  4.45it/s]\n"
     ]
    },
    {
     "data": {
      "text/plain": "'==== TEMP DATA ===='"
     },
     "metadata": {},
     "output_type": "display_data"
    },
    {
     "data": {
      "text/plain": "(2697, 15)"
     },
     "metadata": {},
     "output_type": "display_data"
    },
    {
     "data": {
      "text/plain": "              id              subreddit                author   \nid                                                              \n13a5o5w  13a5o5w            SFWRedheads         Sofia_Red_Fox  \\\n13a63qc  13a63qc            SFWRedheads          Bakedredhead   \n13aa5bw  13aa5bw            SFWRedheads          Redhotwife88   \n13ae244  13ae244            SFWRedheads     evelynclaire_xoxo   \n13af0tb  13af0tb            SFWRedheads      itsSavannahWilde   \n...          ...                    ...                   ...   \n13i312w  13i312w  AesPleasingAsianGirls  Defiant-Appearance64   \n13i8lv5  13i8lv5  AesPleasingAsianGirls        sandalsanglir2   \n13ic6oa  13ic6oa  AesPleasingAsianGirls  notyouraveragehero88   \n13icw40  13icw40  AesPleasingAsianGirls          yummybanchan   \n13ip5uc  13ip5uc  AesPleasingAsianGirls          shoujobunbun   \n\n                                                     title caption hash   \nid                                                                        \n13a5o5w                                   Am I dateable? 💕               \\\n13a63qc                      Sunsets look best on redheads                \n13aa5bw                 Just a Mom in Regular Clothes! [F]                \n13ae244                       Fully body shot... thoughts?                \n13af0tb  About to hit the gym. Got any good weekend plans?                \n...                                                    ...     ...  ...   \n13i312w                                      Yoo Sul Young                \n13i8lv5                                    Balinese Singer                \n13ic6oa                        Radiant Smile! - Sri Lankan                \n13icw40                                         Song Yu Qi                \n13ip5uc                                                Ann                \n\n                                                 permalink   \nid                                                           \n13a5o5w     /r/SFWRedheads/comments/13a5o5w/am_i_dateable/  \\\n13a63qc  /r/SFWRedheads/comments/13a63qc/sunsets_look_b...   \n13aa5bw  /r/SFWRedheads/comments/13aa5bw/just_a_mom_in_...   \n13ae244  /r/SFWRedheads/comments/13ae244/fully_body_sho...   \n13af0tb  /r/SFWRedheads/comments/13af0tb/about_to_hit_t...   \n...                                                    ...   \n13i312w  /r/AesPleasingAsianGirls/comments/13i312w/yoo_...   \n13i8lv5  /r/AesPleasingAsianGirls/comments/13i8lv5/bali...   \n13ic6oa  /r/AesPleasingAsianGirls/comments/13ic6oa/radi...   \n13icw40  /r/AesPleasingAsianGirls/comments/13icw40/song...   \n13ip5uc     /r/AesPleasingAsianGirls/comments/13ip5uc/ann/   \n\n                                              original_url   image_name path   \nid                                                                             \n13a5o5w                    https://i.imgur.com/V4aYZoC.jpg  13a5o5w.jpg       \\\n13a63qc                https://i.redd.it/hnmnfup79cya1.jpg  13a63qc.jpg        \n13aa5bw                    https://i.imgur.com/hUXcket.jpg  13aa5bw.jpg        \n13ae244                https://i.redd.it/irgp2rclicya1.jpg  13ae244.jpg        \n13af0tb                https://i.redd.it/behzhc90rcya1.jpg  13af0tb.jpg        \n...                                                    ...          ...  ...   \n13i312w  https://v3.redgifs.com/watch/excellentoutrageo...  13i312w.jpg        \n13i8lv5             https://www.reddit.com/gallery/13i8lv5  13i8lv5.jpg        \n13ic6oa                https://i.redd.it/85aw0ana720b1.jpg  13ic6oa.jpg        \n13icw40                https://i.redd.it/ps6qly5dc20b1.jpg  13icw40.jpg        \n13ip5uc             https://www.reddit.com/gallery/13ip5uc  13ip5uc.jpg        \n\n        model  exists  curated accept tags  \nid                                          \n13a5o5w         False    False  False   []  \n13a63qc         False    False  False   []  \n13aa5bw         False    False  False   []  \n13ae244         False    False  False   []  \n13af0tb         False    False  False   []  \n...       ...     ...      ...    ...  ...  \n13i312w         False    False  False   []  \n13i8lv5         False    False  False   []  \n13ic6oa         False    False  False   []  \n13icw40         False    False  False   []  \n13ip5uc         False    False  False   []  \n\n[2697 rows x 15 columns]",
      "text/html": "<div>\n<style scoped>\n    .dataframe tbody tr th:only-of-type {\n        vertical-align: middle;\n    }\n\n    .dataframe tbody tr th {\n        vertical-align: top;\n    }\n\n    .dataframe thead th {\n        text-align: right;\n    }\n</style>\n<table border=\"1\" class=\"dataframe\">\n  <thead>\n    <tr style=\"text-align: right;\">\n      <th></th>\n      <th>id</th>\n      <th>subreddit</th>\n      <th>author</th>\n      <th>title</th>\n      <th>caption</th>\n      <th>hash</th>\n      <th>permalink</th>\n      <th>original_url</th>\n      <th>image_name</th>\n      <th>path</th>\n      <th>model</th>\n      <th>exists</th>\n      <th>curated</th>\n      <th>accept</th>\n      <th>tags</th>\n    </tr>\n    <tr>\n      <th>id</th>\n      <th></th>\n      <th></th>\n      <th></th>\n      <th></th>\n      <th></th>\n      <th></th>\n      <th></th>\n      <th></th>\n      <th></th>\n      <th></th>\n      <th></th>\n      <th></th>\n      <th></th>\n      <th></th>\n      <th></th>\n    </tr>\n  </thead>\n  <tbody>\n    <tr>\n      <th>13a5o5w</th>\n      <td>13a5o5w</td>\n      <td>SFWRedheads</td>\n      <td>Sofia_Red_Fox</td>\n      <td>Am I dateable? 💕</td>\n      <td></td>\n      <td></td>\n      <td>/r/SFWRedheads/comments/13a5o5w/am_i_dateable/</td>\n      <td>https://i.imgur.com/V4aYZoC.jpg</td>\n      <td>13a5o5w.jpg</td>\n      <td></td>\n      <td></td>\n      <td>False</td>\n      <td>False</td>\n      <td>False</td>\n      <td>[]</td>\n    </tr>\n    <tr>\n      <th>13a63qc</th>\n      <td>13a63qc</td>\n      <td>SFWRedheads</td>\n      <td>Bakedredhead</td>\n      <td>Sunsets look best on redheads</td>\n      <td></td>\n      <td></td>\n      <td>/r/SFWRedheads/comments/13a63qc/sunsets_look_b...</td>\n      <td>https://i.redd.it/hnmnfup79cya1.jpg</td>\n      <td>13a63qc.jpg</td>\n      <td></td>\n      <td></td>\n      <td>False</td>\n      <td>False</td>\n      <td>False</td>\n      <td>[]</td>\n    </tr>\n    <tr>\n      <th>13aa5bw</th>\n      <td>13aa5bw</td>\n      <td>SFWRedheads</td>\n      <td>Redhotwife88</td>\n      <td>Just a Mom in Regular Clothes! [F]</td>\n      <td></td>\n      <td></td>\n      <td>/r/SFWRedheads/comments/13aa5bw/just_a_mom_in_...</td>\n      <td>https://i.imgur.com/hUXcket.jpg</td>\n      <td>13aa5bw.jpg</td>\n      <td></td>\n      <td></td>\n      <td>False</td>\n      <td>False</td>\n      <td>False</td>\n      <td>[]</td>\n    </tr>\n    <tr>\n      <th>13ae244</th>\n      <td>13ae244</td>\n      <td>SFWRedheads</td>\n      <td>evelynclaire_xoxo</td>\n      <td>Fully body shot... thoughts?</td>\n      <td></td>\n      <td></td>\n      <td>/r/SFWRedheads/comments/13ae244/fully_body_sho...</td>\n      <td>https://i.redd.it/irgp2rclicya1.jpg</td>\n      <td>13ae244.jpg</td>\n      <td></td>\n      <td></td>\n      <td>False</td>\n      <td>False</td>\n      <td>False</td>\n      <td>[]</td>\n    </tr>\n    <tr>\n      <th>13af0tb</th>\n      <td>13af0tb</td>\n      <td>SFWRedheads</td>\n      <td>itsSavannahWilde</td>\n      <td>About to hit the gym. Got any good weekend plans?</td>\n      <td></td>\n      <td></td>\n      <td>/r/SFWRedheads/comments/13af0tb/about_to_hit_t...</td>\n      <td>https://i.redd.it/behzhc90rcya1.jpg</td>\n      <td>13af0tb.jpg</td>\n      <td></td>\n      <td></td>\n      <td>False</td>\n      <td>False</td>\n      <td>False</td>\n      <td>[]</td>\n    </tr>\n    <tr>\n      <th>...</th>\n      <td>...</td>\n      <td>...</td>\n      <td>...</td>\n      <td>...</td>\n      <td>...</td>\n      <td>...</td>\n      <td>...</td>\n      <td>...</td>\n      <td>...</td>\n      <td>...</td>\n      <td>...</td>\n      <td>...</td>\n      <td>...</td>\n      <td>...</td>\n      <td>...</td>\n    </tr>\n    <tr>\n      <th>13i312w</th>\n      <td>13i312w</td>\n      <td>AesPleasingAsianGirls</td>\n      <td>Defiant-Appearance64</td>\n      <td>Yoo Sul Young</td>\n      <td></td>\n      <td></td>\n      <td>/r/AesPleasingAsianGirls/comments/13i312w/yoo_...</td>\n      <td>https://v3.redgifs.com/watch/excellentoutrageo...</td>\n      <td>13i312w.jpg</td>\n      <td></td>\n      <td></td>\n      <td>False</td>\n      <td>False</td>\n      <td>False</td>\n      <td>[]</td>\n    </tr>\n    <tr>\n      <th>13i8lv5</th>\n      <td>13i8lv5</td>\n      <td>AesPleasingAsianGirls</td>\n      <td>sandalsanglir2</td>\n      <td>Balinese Singer</td>\n      <td></td>\n      <td></td>\n      <td>/r/AesPleasingAsianGirls/comments/13i8lv5/bali...</td>\n      <td>https://www.reddit.com/gallery/13i8lv5</td>\n      <td>13i8lv5.jpg</td>\n      <td></td>\n      <td></td>\n      <td>False</td>\n      <td>False</td>\n      <td>False</td>\n      <td>[]</td>\n    </tr>\n    <tr>\n      <th>13ic6oa</th>\n      <td>13ic6oa</td>\n      <td>AesPleasingAsianGirls</td>\n      <td>notyouraveragehero88</td>\n      <td>Radiant Smile! - Sri Lankan</td>\n      <td></td>\n      <td></td>\n      <td>/r/AesPleasingAsianGirls/comments/13ic6oa/radi...</td>\n      <td>https://i.redd.it/85aw0ana720b1.jpg</td>\n      <td>13ic6oa.jpg</td>\n      <td></td>\n      <td></td>\n      <td>False</td>\n      <td>False</td>\n      <td>False</td>\n      <td>[]</td>\n    </tr>\n    <tr>\n      <th>13icw40</th>\n      <td>13icw40</td>\n      <td>AesPleasingAsianGirls</td>\n      <td>yummybanchan</td>\n      <td>Song Yu Qi</td>\n      <td></td>\n      <td></td>\n      <td>/r/AesPleasingAsianGirls/comments/13icw40/song...</td>\n      <td>https://i.redd.it/ps6qly5dc20b1.jpg</td>\n      <td>13icw40.jpg</td>\n      <td></td>\n      <td></td>\n      <td>False</td>\n      <td>False</td>\n      <td>False</td>\n      <td>[]</td>\n    </tr>\n    <tr>\n      <th>13ip5uc</th>\n      <td>13ip5uc</td>\n      <td>AesPleasingAsianGirls</td>\n      <td>shoujobunbun</td>\n      <td>Ann</td>\n      <td></td>\n      <td></td>\n      <td>/r/AesPleasingAsianGirls/comments/13ip5uc/ann/</td>\n      <td>https://www.reddit.com/gallery/13ip5uc</td>\n      <td>13ip5uc.jpg</td>\n      <td></td>\n      <td></td>\n      <td>False</td>\n      <td>False</td>\n      <td>False</td>\n      <td>[]</td>\n    </tr>\n  </tbody>\n</table>\n<p>2697 rows × 15 columns</p>\n</div>"
     },
     "metadata": {},
     "output_type": "display_data"
    },
    {
     "name": "stdout",
     "output_type": "stream",
     "text": [
      "CPU times: total: 3.92 s\n",
      "Wall time: 6.52 s\n"
     ]
    }
   ],
   "source": [
    "%%time\n",
    "\n",
    "data = []\n",
    "for sub in tqdm(subs, desc=\"Reading Temp Dir For Subs...\"):\n",
    "\tdf = pandas.read_parquet(f\"temp/{sub}\", schema=schema, engine='pyarrow')\n",
    "\trecords = df.to_dict(orient='records')\n",
    "\tdata.extend(records)\n",
    "\n",
    "temp_data = pandas.DataFrame(data)\n",
    "\n",
    "for i, r in temp_data.iterrows():\n",
    "\ttemp_data.loc[i, 'image_name'] = r.id + \".jpg\"\n",
    "\ttemp_data.loc[i, 'path'] = \"\"\n",
    "\ttemp_data.loc[i, 'hash'] = \"\"\n",
    "\ttemp_data.loc[i, 'caption'] = \"\"\n",
    "\ttemp_data.loc[i, 'model'] = \"\"\n",
    "\ttemp_data.loc[i, 'exists'] = False\n",
    "\ttemp_data.loc[i, 'curated'] = False\n",
    "\ttemp_data.loc[i, 'accept'] = False\n",
    "\ttemp_data.loc[i, 'tags'] = ['']\n",
    "\n",
    "temp_data.set_index('id', inplace=True, drop=False)\n",
    "\n",
    "display(\"==== TEMP DATA ====\")\n",
    "display(temp_data.shape)\n",
    "display(temp_data)"
   ],
   "metadata": {
    "collapsed": false,
    "ExecuteTime": {
     "end_time": "2023-05-16T02:39:06.288360500Z",
     "start_time": "2023-05-16T02:38:59.660202400Z"
    }
   }
  },
  {
   "cell_type": "code",
   "execution_count": 11,
   "outputs": [
    {
     "data": {
      "text/plain": "'==== FILTERED DATA ===='"
     },
     "metadata": {},
     "output_type": "display_data"
    },
    {
     "data": {
      "text/plain": "(1362, 15)"
     },
     "metadata": {},
     "output_type": "display_data"
    },
    {
     "data": {
      "text/plain": "              id              subreddit                author   \nid                                                              \n13azmti  13azmti            SFWRedheads     Scarlett_somebody  \\\n13b0cv0  13b0cv0            SFWRedheads           RedWicked91   \n13b2ghi  13b2ghi            SFWRedheads    Powerful_Frame9794   \n13c3bc5  13c3bc5            SFWRedheads          Redhotwife88   \n13dcf19  13dcf19            SFWRedheads     Scarlett_somebody   \n...          ...                    ...                   ...   \n13g70ma  13g70ma  AesPleasingAsianGirls          yummybanchan   \n13g9d43  13g9d43  AesPleasingAsianGirls    ExperienceOver7707   \n13h4frm  13h4frm  AesPleasingAsianGirls          No_Slide3921   \n13ic6oa  13ic6oa  AesPleasingAsianGirls  notyouraveragehero88   \n13icw40  13icw40  AesPleasingAsianGirls          yummybanchan   \n\n                                                     title caption hash   \nid                                                                        \n13azmti  I’m going out for the first time in so long! W...               \\\n13b0cv0                                    Up for a trip?😁                \n13b2ghi          Good morning loves! Like my braids again?                \n13c3bc5         Redhead Wife in my Little Black Dress! [F]                \n13dcf19                         Messy hair, cannot care 😹💚                \n...                                                    ...     ...  ...   \n13g70ma                                         Song Yu Qi                \n13g9d43                                             KitKat                \n13h4frm                 Wwyd if you had a date with elfie?                \n13ic6oa                        Radiant Smile! - Sri Lankan                \n13icw40                                         Song Yu Qi                \n\n                                                 permalink   \nid                                                           \n13azmti  /r/SFWRedheads/comments/13azmti/im_going_out_f...  \\\n13b0cv0     /r/SFWRedheads/comments/13b0cv0/up_for_a_trip/   \n13b2ghi  /r/SFWRedheads/comments/13b2ghi/good_morning_l...   \n13c3bc5  /r/SFWRedheads/comments/13c3bc5/redhead_wife_i...   \n13dcf19  /r/SFWRedheads/comments/13dcf19/messy_hair_can...   \n...                                                    ...   \n13g70ma  /r/AesPleasingAsianGirls/comments/13g70ma/song...   \n13g9d43  /r/AesPleasingAsianGirls/comments/13g9d43/kitkat/   \n13h4frm  /r/AesPleasingAsianGirls/comments/13h4frm/wwyd...   \n13ic6oa  /r/AesPleasingAsianGirls/comments/13ic6oa/radi...   \n13icw40  /r/AesPleasingAsianGirls/comments/13icw40/song...   \n\n                                              original_url   image_name path   \nid                                                                             \n13azmti                https://i.redd.it/ktflvdzo1iya1.jpg  13azmti.jpg       \\\n13b0cv0  https://i.redgifs.com/i/neighboringmediumgolde...  13b0cv0.jpg        \n13b2ghi                https://i.redd.it/cpe6hy2h2hya1.jpg  13b2ghi.jpg        \n13c3bc5  https://i.redgifs.com/i/admiredoutstandingpape...  13c3bc5.jpg        \n13dcf19                https://i.redd.it/alhlwwlp6yya1.jpg  13dcf19.jpg        \n...                                                    ...          ...  ...   \n13g70ma                https://i.redd.it/m86fb2tugkza1.jpg  13g70ma.jpg        \n13g9d43                https://i.redd.it/bekk940j2lza1.jpg  13g9d43.jpg        \n13h4frm                https://i.redd.it/c08d0u2n6sza1.jpg  13h4frm.jpg        \n13ic6oa                https://i.redd.it/85aw0ana720b1.jpg  13ic6oa.jpg        \n13icw40                https://i.redd.it/ps6qly5dc20b1.jpg  13icw40.jpg        \n\n        model  exists  curated accept tags  \nid                                          \n13azmti         False    False  False   []  \n13b0cv0         False    False  False   []  \n13b2ghi         False    False  False   []  \n13c3bc5         False    False  False   []  \n13dcf19         False    False  False   []  \n...       ...     ...      ...    ...  ...  \n13g70ma         False    False  False   []  \n13g9d43         False    False  False   []  \n13h4frm         False    False  False   []  \n13ic6oa         False    False  False   []  \n13icw40         False    False  False   []  \n\n[1362 rows x 15 columns]",
      "text/html": "<div>\n<style scoped>\n    .dataframe tbody tr th:only-of-type {\n        vertical-align: middle;\n    }\n\n    .dataframe tbody tr th {\n        vertical-align: top;\n    }\n\n    .dataframe thead th {\n        text-align: right;\n    }\n</style>\n<table border=\"1\" class=\"dataframe\">\n  <thead>\n    <tr style=\"text-align: right;\">\n      <th></th>\n      <th>id</th>\n      <th>subreddit</th>\n      <th>author</th>\n      <th>title</th>\n      <th>caption</th>\n      <th>hash</th>\n      <th>permalink</th>\n      <th>original_url</th>\n      <th>image_name</th>\n      <th>path</th>\n      <th>model</th>\n      <th>exists</th>\n      <th>curated</th>\n      <th>accept</th>\n      <th>tags</th>\n    </tr>\n    <tr>\n      <th>id</th>\n      <th></th>\n      <th></th>\n      <th></th>\n      <th></th>\n      <th></th>\n      <th></th>\n      <th></th>\n      <th></th>\n      <th></th>\n      <th></th>\n      <th></th>\n      <th></th>\n      <th></th>\n      <th></th>\n      <th></th>\n    </tr>\n  </thead>\n  <tbody>\n    <tr>\n      <th>13azmti</th>\n      <td>13azmti</td>\n      <td>SFWRedheads</td>\n      <td>Scarlett_somebody</td>\n      <td>I’m going out for the first time in so long! W...</td>\n      <td></td>\n      <td></td>\n      <td>/r/SFWRedheads/comments/13azmti/im_going_out_f...</td>\n      <td>https://i.redd.it/ktflvdzo1iya1.jpg</td>\n      <td>13azmti.jpg</td>\n      <td></td>\n      <td></td>\n      <td>False</td>\n      <td>False</td>\n      <td>False</td>\n      <td>[]</td>\n    </tr>\n    <tr>\n      <th>13b0cv0</th>\n      <td>13b0cv0</td>\n      <td>SFWRedheads</td>\n      <td>RedWicked91</td>\n      <td>Up for a trip?😁</td>\n      <td></td>\n      <td></td>\n      <td>/r/SFWRedheads/comments/13b0cv0/up_for_a_trip/</td>\n      <td>https://i.redgifs.com/i/neighboringmediumgolde...</td>\n      <td>13b0cv0.jpg</td>\n      <td></td>\n      <td></td>\n      <td>False</td>\n      <td>False</td>\n      <td>False</td>\n      <td>[]</td>\n    </tr>\n    <tr>\n      <th>13b2ghi</th>\n      <td>13b2ghi</td>\n      <td>SFWRedheads</td>\n      <td>Powerful_Frame9794</td>\n      <td>Good morning loves! Like my braids again?</td>\n      <td></td>\n      <td></td>\n      <td>/r/SFWRedheads/comments/13b2ghi/good_morning_l...</td>\n      <td>https://i.redd.it/cpe6hy2h2hya1.jpg</td>\n      <td>13b2ghi.jpg</td>\n      <td></td>\n      <td></td>\n      <td>False</td>\n      <td>False</td>\n      <td>False</td>\n      <td>[]</td>\n    </tr>\n    <tr>\n      <th>13c3bc5</th>\n      <td>13c3bc5</td>\n      <td>SFWRedheads</td>\n      <td>Redhotwife88</td>\n      <td>Redhead Wife in my Little Black Dress! [F]</td>\n      <td></td>\n      <td></td>\n      <td>/r/SFWRedheads/comments/13c3bc5/redhead_wife_i...</td>\n      <td>https://i.redgifs.com/i/admiredoutstandingpape...</td>\n      <td>13c3bc5.jpg</td>\n      <td></td>\n      <td></td>\n      <td>False</td>\n      <td>False</td>\n      <td>False</td>\n      <td>[]</td>\n    </tr>\n    <tr>\n      <th>13dcf19</th>\n      <td>13dcf19</td>\n      <td>SFWRedheads</td>\n      <td>Scarlett_somebody</td>\n      <td>Messy hair, cannot care 😹💚</td>\n      <td></td>\n      <td></td>\n      <td>/r/SFWRedheads/comments/13dcf19/messy_hair_can...</td>\n      <td>https://i.redd.it/alhlwwlp6yya1.jpg</td>\n      <td>13dcf19.jpg</td>\n      <td></td>\n      <td></td>\n      <td>False</td>\n      <td>False</td>\n      <td>False</td>\n      <td>[]</td>\n    </tr>\n    <tr>\n      <th>...</th>\n      <td>...</td>\n      <td>...</td>\n      <td>...</td>\n      <td>...</td>\n      <td>...</td>\n      <td>...</td>\n      <td>...</td>\n      <td>...</td>\n      <td>...</td>\n      <td>...</td>\n      <td>...</td>\n      <td>...</td>\n      <td>...</td>\n      <td>...</td>\n      <td>...</td>\n    </tr>\n    <tr>\n      <th>13g70ma</th>\n      <td>13g70ma</td>\n      <td>AesPleasingAsianGirls</td>\n      <td>yummybanchan</td>\n      <td>Song Yu Qi</td>\n      <td></td>\n      <td></td>\n      <td>/r/AesPleasingAsianGirls/comments/13g70ma/song...</td>\n      <td>https://i.redd.it/m86fb2tugkza1.jpg</td>\n      <td>13g70ma.jpg</td>\n      <td></td>\n      <td></td>\n      <td>False</td>\n      <td>False</td>\n      <td>False</td>\n      <td>[]</td>\n    </tr>\n    <tr>\n      <th>13g9d43</th>\n      <td>13g9d43</td>\n      <td>AesPleasingAsianGirls</td>\n      <td>ExperienceOver7707</td>\n      <td>KitKat</td>\n      <td></td>\n      <td></td>\n      <td>/r/AesPleasingAsianGirls/comments/13g9d43/kitkat/</td>\n      <td>https://i.redd.it/bekk940j2lza1.jpg</td>\n      <td>13g9d43.jpg</td>\n      <td></td>\n      <td></td>\n      <td>False</td>\n      <td>False</td>\n      <td>False</td>\n      <td>[]</td>\n    </tr>\n    <tr>\n      <th>13h4frm</th>\n      <td>13h4frm</td>\n      <td>AesPleasingAsianGirls</td>\n      <td>No_Slide3921</td>\n      <td>Wwyd if you had a date with elfie?</td>\n      <td></td>\n      <td></td>\n      <td>/r/AesPleasingAsianGirls/comments/13h4frm/wwyd...</td>\n      <td>https://i.redd.it/c08d0u2n6sza1.jpg</td>\n      <td>13h4frm.jpg</td>\n      <td></td>\n      <td></td>\n      <td>False</td>\n      <td>False</td>\n      <td>False</td>\n      <td>[]</td>\n    </tr>\n    <tr>\n      <th>13ic6oa</th>\n      <td>13ic6oa</td>\n      <td>AesPleasingAsianGirls</td>\n      <td>notyouraveragehero88</td>\n      <td>Radiant Smile! - Sri Lankan</td>\n      <td></td>\n      <td></td>\n      <td>/r/AesPleasingAsianGirls/comments/13ic6oa/radi...</td>\n      <td>https://i.redd.it/85aw0ana720b1.jpg</td>\n      <td>13ic6oa.jpg</td>\n      <td></td>\n      <td></td>\n      <td>False</td>\n      <td>False</td>\n      <td>False</td>\n      <td>[]</td>\n    </tr>\n    <tr>\n      <th>13icw40</th>\n      <td>13icw40</td>\n      <td>AesPleasingAsianGirls</td>\n      <td>yummybanchan</td>\n      <td>Song Yu Qi</td>\n      <td></td>\n      <td></td>\n      <td>/r/AesPleasingAsianGirls/comments/13icw40/song...</td>\n      <td>https://i.redd.it/ps6qly5dc20b1.jpg</td>\n      <td>13icw40.jpg</td>\n      <td></td>\n      <td></td>\n      <td>False</td>\n      <td>False</td>\n      <td>False</td>\n      <td>[]</td>\n    </tr>\n  </tbody>\n</table>\n<p>1362 rows × 15 columns</p>\n</div>"
     },
     "metadata": {},
     "output_type": "display_data"
    },
    {
     "name": "stdout",
     "output_type": "stream",
     "text": [
      "CPU times: total: 15.6 ms\n",
      "Wall time: 93.9 ms\n"
     ]
    }
   ],
   "source": [
    "%%time\n",
    "\n",
    "filtered = temp_data[~temp_data['id'].isin(extant_data.index.values) & temp_data['original_url'].str.endswith('.jpg') & (~temp_data['id'].isin(curated_data.index.values))]\n",
    "filtered.dropna(axis=1, how='all')\n",
    "filtered.reset_index(drop=True, inplace=True)\n",
    "filtered.set_index('id', inplace=True, drop=False)\n",
    "display(\"==== FILTERED DATA ====\")\n",
    "display(filtered.shape)\n",
    "display(filtered)"
   ],
   "metadata": {
    "collapsed": false,
    "ExecuteTime": {
     "end_time": "2023-05-16T02:39:06.835347800Z",
     "start_time": "2023-05-16T02:39:06.288360500Z"
    }
   }
  },
  {
   "cell_type": "code",
   "execution_count": 12,
   "outputs": [
    {
     "name": "stderr",
     "output_type": "stream",
     "text": [
      "Progress: 100%|██████████| 1362/1362 [00:00<00:00, 87175.98it/s]\n",
      "<timed exec>:1: SettingWithCopyWarning: \n",
      "A value is trying to be set on a copy of a slice from a DataFrame.\n",
      "Try using .loc[row_indexer,col_indexer] = value instead\n",
      "\n",
      "See the caveats in the documentation: https://pandas.pydata.org/pandas-docs/stable/user_guide/indexing.html#returning-a-view-versus-a-copy\n"
     ]
    },
    {
     "data": {
      "text/plain": "'== Filtered Data With Model =='"
     },
     "metadata": {},
     "output_type": "display_data"
    },
    {
     "data": {
      "text/plain": "(1362, 15)"
     },
     "metadata": {},
     "output_type": "display_data"
    },
    {
     "data": {
      "text/plain": "              id              subreddit                author   \nid                                                              \n13azmti  13azmti            SFWRedheads     Scarlett_somebody  \\\n13b0cv0  13b0cv0            SFWRedheads           RedWicked91   \n13b2ghi  13b2ghi            SFWRedheads    Powerful_Frame9794   \n13c3bc5  13c3bc5            SFWRedheads          Redhotwife88   \n13dcf19  13dcf19            SFWRedheads     Scarlett_somebody   \n...          ...                    ...                   ...   \n13g70ma  13g70ma  AesPleasingAsianGirls          yummybanchan   \n13g9d43  13g9d43  AesPleasingAsianGirls    ExperienceOver7707   \n13h4frm  13h4frm  AesPleasingAsianGirls          No_Slide3921   \n13ic6oa  13ic6oa  AesPleasingAsianGirls  notyouraveragehero88   \n13icw40  13icw40  AesPleasingAsianGirls          yummybanchan   \n\n                                                     title caption hash   \nid                                                                        \n13azmti  I’m going out for the first time in so long! W...               \\\n13b0cv0                                    Up for a trip?😁                \n13b2ghi          Good morning loves! Like my braids again?                \n13c3bc5         Redhead Wife in my Little Black Dress! [F]                \n13dcf19                         Messy hair, cannot care 😹💚                \n...                                                    ...     ...  ...   \n13g70ma                                         Song Yu Qi                \n13g9d43                                             KitKat                \n13h4frm                 Wwyd if you had a date with elfie?                \n13ic6oa                        Radiant Smile! - Sri Lankan                \n13icw40                                         Song Yu Qi                \n\n                                                 permalink   \nid                                                           \n13azmti  /r/SFWRedheads/comments/13azmti/im_going_out_f...  \\\n13b0cv0     /r/SFWRedheads/comments/13b0cv0/up_for_a_trip/   \n13b2ghi  /r/SFWRedheads/comments/13b2ghi/good_morning_l...   \n13c3bc5  /r/SFWRedheads/comments/13c3bc5/redhead_wife_i...   \n13dcf19  /r/SFWRedheads/comments/13dcf19/messy_hair_can...   \n...                                                    ...   \n13g70ma  /r/AesPleasingAsianGirls/comments/13g70ma/song...   \n13g9d43  /r/AesPleasingAsianGirls/comments/13g9d43/kitkat/   \n13h4frm  /r/AesPleasingAsianGirls/comments/13h4frm/wwyd...   \n13ic6oa  /r/AesPleasingAsianGirls/comments/13ic6oa/radi...   \n13icw40  /r/AesPleasingAsianGirls/comments/13icw40/song...   \n\n                                              original_url   image_name path   \nid                                                                             \n13azmti                https://i.redd.it/ktflvdzo1iya1.jpg  13azmti.jpg       \\\n13b0cv0  https://i.redgifs.com/i/neighboringmediumgolde...  13b0cv0.jpg        \n13b2ghi                https://i.redd.it/cpe6hy2h2hya1.jpg  13b2ghi.jpg        \n13c3bc5  https://i.redgifs.com/i/admiredoutstandingpape...  13c3bc5.jpg        \n13dcf19                https://i.redd.it/alhlwwlp6yya1.jpg  13dcf19.jpg        \n...                                                    ...          ...  ...   \n13g70ma                https://i.redd.it/m86fb2tugkza1.jpg  13g70ma.jpg        \n13g9d43                https://i.redd.it/bekk940j2lza1.jpg  13g9d43.jpg        \n13h4frm                https://i.redd.it/c08d0u2n6sza1.jpg  13h4frm.jpg        \n13ic6oa                https://i.redd.it/85aw0ana720b1.jpg  13ic6oa.jpg        \n13icw40                https://i.redd.it/ps6qly5dc20b1.jpg  13icw40.jpg        \n\n                      model  exists  curated accept tags  \nid                                                        \n13azmti    RedHeadDiffusion   False    False  False   []  \n13b0cv0    RedHeadDiffusion   False    False  False   []  \n13b2ghi    RedHeadDiffusion   False    False  False   []  \n13c3bc5    RedHeadDiffusion   False    False  False   []  \n13dcf19    RedHeadDiffusion   False    False  False   []  \n...                     ...     ...      ...    ...  ...  \n13g70ma  SexyAsianDiffusion   False    False  False   []  \n13g9d43  SexyAsianDiffusion   False    False  False   []  \n13h4frm  SexyAsianDiffusion   False    False  False   []  \n13ic6oa  SexyAsianDiffusion   False    False  False   []  \n13icw40  SexyAsianDiffusion   False    False  False   []  \n\n[1362 rows x 15 columns]",
      "text/html": "<div>\n<style scoped>\n    .dataframe tbody tr th:only-of-type {\n        vertical-align: middle;\n    }\n\n    .dataframe tbody tr th {\n        vertical-align: top;\n    }\n\n    .dataframe thead th {\n        text-align: right;\n    }\n</style>\n<table border=\"1\" class=\"dataframe\">\n  <thead>\n    <tr style=\"text-align: right;\">\n      <th></th>\n      <th>id</th>\n      <th>subreddit</th>\n      <th>author</th>\n      <th>title</th>\n      <th>caption</th>\n      <th>hash</th>\n      <th>permalink</th>\n      <th>original_url</th>\n      <th>image_name</th>\n      <th>path</th>\n      <th>model</th>\n      <th>exists</th>\n      <th>curated</th>\n      <th>accept</th>\n      <th>tags</th>\n    </tr>\n    <tr>\n      <th>id</th>\n      <th></th>\n      <th></th>\n      <th></th>\n      <th></th>\n      <th></th>\n      <th></th>\n      <th></th>\n      <th></th>\n      <th></th>\n      <th></th>\n      <th></th>\n      <th></th>\n      <th></th>\n      <th></th>\n      <th></th>\n    </tr>\n  </thead>\n  <tbody>\n    <tr>\n      <th>13azmti</th>\n      <td>13azmti</td>\n      <td>SFWRedheads</td>\n      <td>Scarlett_somebody</td>\n      <td>I’m going out for the first time in so long! W...</td>\n      <td></td>\n      <td></td>\n      <td>/r/SFWRedheads/comments/13azmti/im_going_out_f...</td>\n      <td>https://i.redd.it/ktflvdzo1iya1.jpg</td>\n      <td>13azmti.jpg</td>\n      <td></td>\n      <td>RedHeadDiffusion</td>\n      <td>False</td>\n      <td>False</td>\n      <td>False</td>\n      <td>[]</td>\n    </tr>\n    <tr>\n      <th>13b0cv0</th>\n      <td>13b0cv0</td>\n      <td>SFWRedheads</td>\n      <td>RedWicked91</td>\n      <td>Up for a trip?😁</td>\n      <td></td>\n      <td></td>\n      <td>/r/SFWRedheads/comments/13b0cv0/up_for_a_trip/</td>\n      <td>https://i.redgifs.com/i/neighboringmediumgolde...</td>\n      <td>13b0cv0.jpg</td>\n      <td></td>\n      <td>RedHeadDiffusion</td>\n      <td>False</td>\n      <td>False</td>\n      <td>False</td>\n      <td>[]</td>\n    </tr>\n    <tr>\n      <th>13b2ghi</th>\n      <td>13b2ghi</td>\n      <td>SFWRedheads</td>\n      <td>Powerful_Frame9794</td>\n      <td>Good morning loves! Like my braids again?</td>\n      <td></td>\n      <td></td>\n      <td>/r/SFWRedheads/comments/13b2ghi/good_morning_l...</td>\n      <td>https://i.redd.it/cpe6hy2h2hya1.jpg</td>\n      <td>13b2ghi.jpg</td>\n      <td></td>\n      <td>RedHeadDiffusion</td>\n      <td>False</td>\n      <td>False</td>\n      <td>False</td>\n      <td>[]</td>\n    </tr>\n    <tr>\n      <th>13c3bc5</th>\n      <td>13c3bc5</td>\n      <td>SFWRedheads</td>\n      <td>Redhotwife88</td>\n      <td>Redhead Wife in my Little Black Dress! [F]</td>\n      <td></td>\n      <td></td>\n      <td>/r/SFWRedheads/comments/13c3bc5/redhead_wife_i...</td>\n      <td>https://i.redgifs.com/i/admiredoutstandingpape...</td>\n      <td>13c3bc5.jpg</td>\n      <td></td>\n      <td>RedHeadDiffusion</td>\n      <td>False</td>\n      <td>False</td>\n      <td>False</td>\n      <td>[]</td>\n    </tr>\n    <tr>\n      <th>13dcf19</th>\n      <td>13dcf19</td>\n      <td>SFWRedheads</td>\n      <td>Scarlett_somebody</td>\n      <td>Messy hair, cannot care 😹💚</td>\n      <td></td>\n      <td></td>\n      <td>/r/SFWRedheads/comments/13dcf19/messy_hair_can...</td>\n      <td>https://i.redd.it/alhlwwlp6yya1.jpg</td>\n      <td>13dcf19.jpg</td>\n      <td></td>\n      <td>RedHeadDiffusion</td>\n      <td>False</td>\n      <td>False</td>\n      <td>False</td>\n      <td>[]</td>\n    </tr>\n    <tr>\n      <th>...</th>\n      <td>...</td>\n      <td>...</td>\n      <td>...</td>\n      <td>...</td>\n      <td>...</td>\n      <td>...</td>\n      <td>...</td>\n      <td>...</td>\n      <td>...</td>\n      <td>...</td>\n      <td>...</td>\n      <td>...</td>\n      <td>...</td>\n      <td>...</td>\n      <td>...</td>\n    </tr>\n    <tr>\n      <th>13g70ma</th>\n      <td>13g70ma</td>\n      <td>AesPleasingAsianGirls</td>\n      <td>yummybanchan</td>\n      <td>Song Yu Qi</td>\n      <td></td>\n      <td></td>\n      <td>/r/AesPleasingAsianGirls/comments/13g70ma/song...</td>\n      <td>https://i.redd.it/m86fb2tugkza1.jpg</td>\n      <td>13g70ma.jpg</td>\n      <td></td>\n      <td>SexyAsianDiffusion</td>\n      <td>False</td>\n      <td>False</td>\n      <td>False</td>\n      <td>[]</td>\n    </tr>\n    <tr>\n      <th>13g9d43</th>\n      <td>13g9d43</td>\n      <td>AesPleasingAsianGirls</td>\n      <td>ExperienceOver7707</td>\n      <td>KitKat</td>\n      <td></td>\n      <td></td>\n      <td>/r/AesPleasingAsianGirls/comments/13g9d43/kitkat/</td>\n      <td>https://i.redd.it/bekk940j2lza1.jpg</td>\n      <td>13g9d43.jpg</td>\n      <td></td>\n      <td>SexyAsianDiffusion</td>\n      <td>False</td>\n      <td>False</td>\n      <td>False</td>\n      <td>[]</td>\n    </tr>\n    <tr>\n      <th>13h4frm</th>\n      <td>13h4frm</td>\n      <td>AesPleasingAsianGirls</td>\n      <td>No_Slide3921</td>\n      <td>Wwyd if you had a date with elfie?</td>\n      <td></td>\n      <td></td>\n      <td>/r/AesPleasingAsianGirls/comments/13h4frm/wwyd...</td>\n      <td>https://i.redd.it/c08d0u2n6sza1.jpg</td>\n      <td>13h4frm.jpg</td>\n      <td></td>\n      <td>SexyAsianDiffusion</td>\n      <td>False</td>\n      <td>False</td>\n      <td>False</td>\n      <td>[]</td>\n    </tr>\n    <tr>\n      <th>13ic6oa</th>\n      <td>13ic6oa</td>\n      <td>AesPleasingAsianGirls</td>\n      <td>notyouraveragehero88</td>\n      <td>Radiant Smile! - Sri Lankan</td>\n      <td></td>\n      <td></td>\n      <td>/r/AesPleasingAsianGirls/comments/13ic6oa/radi...</td>\n      <td>https://i.redd.it/85aw0ana720b1.jpg</td>\n      <td>13ic6oa.jpg</td>\n      <td></td>\n      <td>SexyAsianDiffusion</td>\n      <td>False</td>\n      <td>False</td>\n      <td>False</td>\n      <td>[]</td>\n    </tr>\n    <tr>\n      <th>13icw40</th>\n      <td>13icw40</td>\n      <td>AesPleasingAsianGirls</td>\n      <td>yummybanchan</td>\n      <td>Song Yu Qi</td>\n      <td></td>\n      <td></td>\n      <td>/r/AesPleasingAsianGirls/comments/13icw40/song...</td>\n      <td>https://i.redd.it/ps6qly5dc20b1.jpg</td>\n      <td>13icw40.jpg</td>\n      <td></td>\n      <td>SexyAsianDiffusion</td>\n      <td>False</td>\n      <td>False</td>\n      <td>False</td>\n      <td>[]</td>\n    </tr>\n  </tbody>\n</table>\n<p>1362 rows × 15 columns</p>\n</div>"
     },
     "metadata": {},
     "output_type": "display_data"
    },
    {
     "name": "stdout",
     "output_type": "stream",
     "text": [
      "CPU times: total: 31.2 ms\n",
      "Wall time: 62.5 ms\n"
     ]
    }
   ],
   "source": [
    "%%time\n",
    "\n",
    "filtered['model'] = filtered.progress_apply(lambda x: functions.add_source(x, sources), axis=1)\n",
    "\n",
    "display(\"== Filtered Data With Model ==\")\n",
    "display(filtered.shape)\n",
    "display(filtered)"
   ],
   "metadata": {
    "collapsed": false,
    "ExecuteTime": {
     "end_time": "2023-05-16T02:39:06.991597900Z",
     "start_time": "2023-05-16T02:39:06.413477200Z"
    }
   }
  },
  {
   "cell_type": "code",
   "execution_count": 13,
   "outputs": [
    {
     "name": "stderr",
     "output_type": "stream",
     "text": [
      "Progress: 100%|██████████| 1362/1362 [00:16<00:00, 84.87it/s] \n",
      "<timed exec>:3: SettingWithCopyWarning: \n",
      "A value is trying to be set on a copy of a slice from a DataFrame.\n",
      "Try using .loc[row_indexer,col_indexer] = value instead\n",
      "\n",
      "See the caveats in the documentation: https://pandas.pydata.org/pandas-docs/stable/user_guide/indexing.html#returning-a-view-versus-a-copy\n"
     ]
    },
    {
     "data": {
      "text/plain": "'== Filtered Data With Path =='"
     },
     "metadata": {},
     "output_type": "display_data"
    },
    {
     "data": {
      "text/plain": "(1362, 15)"
     },
     "metadata": {},
     "output_type": "display_data"
    },
    {
     "data": {
      "text/plain": "              id              subreddit                author   \nid                                                              \n13azmti  13azmti            SFWRedheads     Scarlett_somebody  \\\n13b0cv0  13b0cv0            SFWRedheads           RedWicked91   \n13b2ghi  13b2ghi            SFWRedheads    Powerful_Frame9794   \n13c3bc5  13c3bc5            SFWRedheads          Redhotwife88   \n13dcf19  13dcf19            SFWRedheads     Scarlett_somebody   \n...          ...                    ...                   ...   \n13g70ma  13g70ma  AesPleasingAsianGirls          yummybanchan   \n13g9d43  13g9d43  AesPleasingAsianGirls    ExperienceOver7707   \n13h4frm  13h4frm  AesPleasingAsianGirls          No_Slide3921   \n13ic6oa  13ic6oa  AesPleasingAsianGirls  notyouraveragehero88   \n13icw40  13icw40  AesPleasingAsianGirls          yummybanchan   \n\n                                                     title caption hash   \nid                                                                        \n13azmti  I’m going out for the first time in so long! W...               \\\n13b0cv0                                    Up for a trip?😁                \n13b2ghi          Good morning loves! Like my braids again?                \n13c3bc5         Redhead Wife in my Little Black Dress! [F]                \n13dcf19                         Messy hair, cannot care 😹💚                \n...                                                    ...     ...  ...   \n13g70ma                                         Song Yu Qi                \n13g9d43                                             KitKat                \n13h4frm                 Wwyd if you had a date with elfie?                \n13ic6oa                        Radiant Smile! - Sri Lankan                \n13icw40                                         Song Yu Qi                \n\n                                                 permalink   \nid                                                           \n13azmti  /r/SFWRedheads/comments/13azmti/im_going_out_f...  \\\n13b0cv0     /r/SFWRedheads/comments/13b0cv0/up_for_a_trip/   \n13b2ghi  /r/SFWRedheads/comments/13b2ghi/good_morning_l...   \n13c3bc5  /r/SFWRedheads/comments/13c3bc5/redhead_wife_i...   \n13dcf19  /r/SFWRedheads/comments/13dcf19/messy_hair_can...   \n...                                                    ...   \n13g70ma  /r/AesPleasingAsianGirls/comments/13g70ma/song...   \n13g9d43  /r/AesPleasingAsianGirls/comments/13g9d43/kitkat/   \n13h4frm  /r/AesPleasingAsianGirls/comments/13h4frm/wwyd...   \n13ic6oa  /r/AesPleasingAsianGirls/comments/13ic6oa/radi...   \n13icw40  /r/AesPleasingAsianGirls/comments/13icw40/song...   \n\n                                              original_url   image_name   \nid                                                                        \n13azmti                https://i.redd.it/ktflvdzo1iya1.jpg  13azmti.jpg  \\\n13b0cv0  https://i.redgifs.com/i/neighboringmediumgolde...  13b0cv0.jpg   \n13b2ghi                https://i.redd.it/cpe6hy2h2hya1.jpg  13b2ghi.jpg   \n13c3bc5  https://i.redgifs.com/i/admiredoutstandingpape...  13c3bc5.jpg   \n13dcf19                https://i.redd.it/alhlwwlp6yya1.jpg  13dcf19.jpg   \n...                                                    ...          ...   \n13g70ma                https://i.redd.it/m86fb2tugkza1.jpg  13g70ma.jpg   \n13g9d43                https://i.redd.it/bekk940j2lza1.jpg  13g9d43.jpg   \n13h4frm                https://i.redd.it/c08d0u2n6sza1.jpg  13h4frm.jpg   \n13ic6oa                https://i.redd.it/85aw0ana720b1.jpg  13ic6oa.jpg   \n13icw40                https://i.redd.it/ps6qly5dc20b1.jpg  13icw40.jpg   \n\n                           path               model  exists  curated accept   \nid                                                                            \n13azmti  data/image/13azmti.jpg    RedHeadDiffusion   False    False  False  \\\n13b0cv0                            RedHeadDiffusion   False    False  False   \n13b2ghi  data/image/13b2ghi.jpg    RedHeadDiffusion   False    False  False   \n13c3bc5                            RedHeadDiffusion   False    False  False   \n13dcf19  data/image/13dcf19.jpg    RedHeadDiffusion   False    False  False   \n...                         ...                 ...     ...      ...    ...   \n13g70ma  data/image/13g70ma.jpg  SexyAsianDiffusion   False    False  False   \n13g9d43  data/image/13g9d43.jpg  SexyAsianDiffusion   False    False  False   \n13h4frm  data/image/13h4frm.jpg  SexyAsianDiffusion   False    False  False   \n13ic6oa  data/image/13ic6oa.jpg  SexyAsianDiffusion   False    False  False   \n13icw40  data/image/13icw40.jpg  SexyAsianDiffusion   False    False  False   \n\n        tags  \nid            \n13azmti   []  \n13b0cv0   []  \n13b2ghi   []  \n13c3bc5   []  \n13dcf19   []  \n...      ...  \n13g70ma   []  \n13g9d43   []  \n13h4frm   []  \n13ic6oa   []  \n13icw40   []  \n\n[1362 rows x 15 columns]",
      "text/html": "<div>\n<style scoped>\n    .dataframe tbody tr th:only-of-type {\n        vertical-align: middle;\n    }\n\n    .dataframe tbody tr th {\n        vertical-align: top;\n    }\n\n    .dataframe thead th {\n        text-align: right;\n    }\n</style>\n<table border=\"1\" class=\"dataframe\">\n  <thead>\n    <tr style=\"text-align: right;\">\n      <th></th>\n      <th>id</th>\n      <th>subreddit</th>\n      <th>author</th>\n      <th>title</th>\n      <th>caption</th>\n      <th>hash</th>\n      <th>permalink</th>\n      <th>original_url</th>\n      <th>image_name</th>\n      <th>path</th>\n      <th>model</th>\n      <th>exists</th>\n      <th>curated</th>\n      <th>accept</th>\n      <th>tags</th>\n    </tr>\n    <tr>\n      <th>id</th>\n      <th></th>\n      <th></th>\n      <th></th>\n      <th></th>\n      <th></th>\n      <th></th>\n      <th></th>\n      <th></th>\n      <th></th>\n      <th></th>\n      <th></th>\n      <th></th>\n      <th></th>\n      <th></th>\n      <th></th>\n    </tr>\n  </thead>\n  <tbody>\n    <tr>\n      <th>13azmti</th>\n      <td>13azmti</td>\n      <td>SFWRedheads</td>\n      <td>Scarlett_somebody</td>\n      <td>I’m going out for the first time in so long! W...</td>\n      <td></td>\n      <td></td>\n      <td>/r/SFWRedheads/comments/13azmti/im_going_out_f...</td>\n      <td>https://i.redd.it/ktflvdzo1iya1.jpg</td>\n      <td>13azmti.jpg</td>\n      <td>data/image/13azmti.jpg</td>\n      <td>RedHeadDiffusion</td>\n      <td>False</td>\n      <td>False</td>\n      <td>False</td>\n      <td>[]</td>\n    </tr>\n    <tr>\n      <th>13b0cv0</th>\n      <td>13b0cv0</td>\n      <td>SFWRedheads</td>\n      <td>RedWicked91</td>\n      <td>Up for a trip?😁</td>\n      <td></td>\n      <td></td>\n      <td>/r/SFWRedheads/comments/13b0cv0/up_for_a_trip/</td>\n      <td>https://i.redgifs.com/i/neighboringmediumgolde...</td>\n      <td>13b0cv0.jpg</td>\n      <td></td>\n      <td>RedHeadDiffusion</td>\n      <td>False</td>\n      <td>False</td>\n      <td>False</td>\n      <td>[]</td>\n    </tr>\n    <tr>\n      <th>13b2ghi</th>\n      <td>13b2ghi</td>\n      <td>SFWRedheads</td>\n      <td>Powerful_Frame9794</td>\n      <td>Good morning loves! Like my braids again?</td>\n      <td></td>\n      <td></td>\n      <td>/r/SFWRedheads/comments/13b2ghi/good_morning_l...</td>\n      <td>https://i.redd.it/cpe6hy2h2hya1.jpg</td>\n      <td>13b2ghi.jpg</td>\n      <td>data/image/13b2ghi.jpg</td>\n      <td>RedHeadDiffusion</td>\n      <td>False</td>\n      <td>False</td>\n      <td>False</td>\n      <td>[]</td>\n    </tr>\n    <tr>\n      <th>13c3bc5</th>\n      <td>13c3bc5</td>\n      <td>SFWRedheads</td>\n      <td>Redhotwife88</td>\n      <td>Redhead Wife in my Little Black Dress! [F]</td>\n      <td></td>\n      <td></td>\n      <td>/r/SFWRedheads/comments/13c3bc5/redhead_wife_i...</td>\n      <td>https://i.redgifs.com/i/admiredoutstandingpape...</td>\n      <td>13c3bc5.jpg</td>\n      <td></td>\n      <td>RedHeadDiffusion</td>\n      <td>False</td>\n      <td>False</td>\n      <td>False</td>\n      <td>[]</td>\n    </tr>\n    <tr>\n      <th>13dcf19</th>\n      <td>13dcf19</td>\n      <td>SFWRedheads</td>\n      <td>Scarlett_somebody</td>\n      <td>Messy hair, cannot care 😹💚</td>\n      <td></td>\n      <td></td>\n      <td>/r/SFWRedheads/comments/13dcf19/messy_hair_can...</td>\n      <td>https://i.redd.it/alhlwwlp6yya1.jpg</td>\n      <td>13dcf19.jpg</td>\n      <td>data/image/13dcf19.jpg</td>\n      <td>RedHeadDiffusion</td>\n      <td>False</td>\n      <td>False</td>\n      <td>False</td>\n      <td>[]</td>\n    </tr>\n    <tr>\n      <th>...</th>\n      <td>...</td>\n      <td>...</td>\n      <td>...</td>\n      <td>...</td>\n      <td>...</td>\n      <td>...</td>\n      <td>...</td>\n      <td>...</td>\n      <td>...</td>\n      <td>...</td>\n      <td>...</td>\n      <td>...</td>\n      <td>...</td>\n      <td>...</td>\n      <td>...</td>\n    </tr>\n    <tr>\n      <th>13g70ma</th>\n      <td>13g70ma</td>\n      <td>AesPleasingAsianGirls</td>\n      <td>yummybanchan</td>\n      <td>Song Yu Qi</td>\n      <td></td>\n      <td></td>\n      <td>/r/AesPleasingAsianGirls/comments/13g70ma/song...</td>\n      <td>https://i.redd.it/m86fb2tugkza1.jpg</td>\n      <td>13g70ma.jpg</td>\n      <td>data/image/13g70ma.jpg</td>\n      <td>SexyAsianDiffusion</td>\n      <td>False</td>\n      <td>False</td>\n      <td>False</td>\n      <td>[]</td>\n    </tr>\n    <tr>\n      <th>13g9d43</th>\n      <td>13g9d43</td>\n      <td>AesPleasingAsianGirls</td>\n      <td>ExperienceOver7707</td>\n      <td>KitKat</td>\n      <td></td>\n      <td></td>\n      <td>/r/AesPleasingAsianGirls/comments/13g9d43/kitkat/</td>\n      <td>https://i.redd.it/bekk940j2lza1.jpg</td>\n      <td>13g9d43.jpg</td>\n      <td>data/image/13g9d43.jpg</td>\n      <td>SexyAsianDiffusion</td>\n      <td>False</td>\n      <td>False</td>\n      <td>False</td>\n      <td>[]</td>\n    </tr>\n    <tr>\n      <th>13h4frm</th>\n      <td>13h4frm</td>\n      <td>AesPleasingAsianGirls</td>\n      <td>No_Slide3921</td>\n      <td>Wwyd if you had a date with elfie?</td>\n      <td></td>\n      <td></td>\n      <td>/r/AesPleasingAsianGirls/comments/13h4frm/wwyd...</td>\n      <td>https://i.redd.it/c08d0u2n6sza1.jpg</td>\n      <td>13h4frm.jpg</td>\n      <td>data/image/13h4frm.jpg</td>\n      <td>SexyAsianDiffusion</td>\n      <td>False</td>\n      <td>False</td>\n      <td>False</td>\n      <td>[]</td>\n    </tr>\n    <tr>\n      <th>13ic6oa</th>\n      <td>13ic6oa</td>\n      <td>AesPleasingAsianGirls</td>\n      <td>notyouraveragehero88</td>\n      <td>Radiant Smile! - Sri Lankan</td>\n      <td></td>\n      <td></td>\n      <td>/r/AesPleasingAsianGirls/comments/13ic6oa/radi...</td>\n      <td>https://i.redd.it/85aw0ana720b1.jpg</td>\n      <td>13ic6oa.jpg</td>\n      <td>data/image/13ic6oa.jpg</td>\n      <td>SexyAsianDiffusion</td>\n      <td>False</td>\n      <td>False</td>\n      <td>False</td>\n      <td>[]</td>\n    </tr>\n    <tr>\n      <th>13icw40</th>\n      <td>13icw40</td>\n      <td>AesPleasingAsianGirls</td>\n      <td>yummybanchan</td>\n      <td>Song Yu Qi</td>\n      <td></td>\n      <td></td>\n      <td>/r/AesPleasingAsianGirls/comments/13icw40/song...</td>\n      <td>https://i.redd.it/ps6qly5dc20b1.jpg</td>\n      <td>13icw40.jpg</td>\n      <td>data/image/13icw40.jpg</td>\n      <td>SexyAsianDiffusion</td>\n      <td>False</td>\n      <td>False</td>\n      <td>False</td>\n      <td>[]</td>\n    </tr>\n  </tbody>\n</table>\n<p>1362 rows × 15 columns</p>\n</div>"
     },
     "metadata": {},
     "output_type": "display_data"
    },
    {
     "name": "stdout",
     "output_type": "stream",
     "text": [
      "CPU times: total: 14 s\n",
      "Wall time: 1min 8s\n"
     ]
    }
   ],
   "source": [
    "%%time\n",
    "\n",
    "file_list = file_system.ls(\"data/image\")\n",
    "\n",
    "filtered['path'] = filtered.progress_apply(lambda x: functions.fetch_image(x, file_list, file_system), axis=1)\n",
    "\n",
    "display(\"== Filtered Data With Path ==\")\n",
    "display(filtered.shape)\n",
    "display(filtered)"
   ],
   "metadata": {
    "collapsed": false,
    "ExecuteTime": {
     "end_time": "2023-05-16T02:40:14.742754500Z",
     "start_time": "2023-05-16T02:39:06.491600900Z"
    }
   }
  },
  {
   "cell_type": "code",
   "execution_count": 14,
   "outputs": [
    {
     "name": "stderr",
     "output_type": "stream",
     "text": [
      "Progress: 100%|██████████| 1362/1362 [00:00<00:00, 12411.64it/s]\n",
      "<timed exec>:1: SettingWithCopyWarning: \n",
      "A value is trying to be set on a copy of a slice from a DataFrame.\n",
      "Try using .loc[row_indexer,col_indexer] = value instead\n",
      "\n",
      "See the caveats in the documentation: https://pandas.pydata.org/pandas-docs/stable/user_guide/indexing.html#returning-a-view-versus-a-copy\n"
     ]
    },
    {
     "data": {
      "text/plain": "'== Filtered Data With Exists =='"
     },
     "metadata": {},
     "output_type": "display_data"
    },
    {
     "data": {
      "text/plain": "(1362, 15)"
     },
     "metadata": {},
     "output_type": "display_data"
    },
    {
     "data": {
      "text/plain": "              id              subreddit                author   \nid                                                              \n13azmti  13azmti            SFWRedheads     Scarlett_somebody  \\\n13b0cv0  13b0cv0            SFWRedheads           RedWicked91   \n13b2ghi  13b2ghi            SFWRedheads    Powerful_Frame9794   \n13c3bc5  13c3bc5            SFWRedheads          Redhotwife88   \n13dcf19  13dcf19            SFWRedheads     Scarlett_somebody   \n...          ...                    ...                   ...   \n13g70ma  13g70ma  AesPleasingAsianGirls          yummybanchan   \n13g9d43  13g9d43  AesPleasingAsianGirls    ExperienceOver7707   \n13h4frm  13h4frm  AesPleasingAsianGirls          No_Slide3921   \n13ic6oa  13ic6oa  AesPleasingAsianGirls  notyouraveragehero88   \n13icw40  13icw40  AesPleasingAsianGirls          yummybanchan   \n\n                                                     title caption hash   \nid                                                                        \n13azmti  I’m going out for the first time in so long! W...               \\\n13b0cv0                                    Up for a trip?😁                \n13b2ghi          Good morning loves! Like my braids again?                \n13c3bc5         Redhead Wife in my Little Black Dress! [F]                \n13dcf19                         Messy hair, cannot care 😹💚                \n...                                                    ...     ...  ...   \n13g70ma                                         Song Yu Qi                \n13g9d43                                             KitKat                \n13h4frm                 Wwyd if you had a date with elfie?                \n13ic6oa                        Radiant Smile! - Sri Lankan                \n13icw40                                         Song Yu Qi                \n\n                                                 permalink   \nid                                                           \n13azmti  /r/SFWRedheads/comments/13azmti/im_going_out_f...  \\\n13b0cv0     /r/SFWRedheads/comments/13b0cv0/up_for_a_trip/   \n13b2ghi  /r/SFWRedheads/comments/13b2ghi/good_morning_l...   \n13c3bc5  /r/SFWRedheads/comments/13c3bc5/redhead_wife_i...   \n13dcf19  /r/SFWRedheads/comments/13dcf19/messy_hair_can...   \n...                                                    ...   \n13g70ma  /r/AesPleasingAsianGirls/comments/13g70ma/song...   \n13g9d43  /r/AesPleasingAsianGirls/comments/13g9d43/kitkat/   \n13h4frm  /r/AesPleasingAsianGirls/comments/13h4frm/wwyd...   \n13ic6oa  /r/AesPleasingAsianGirls/comments/13ic6oa/radi...   \n13icw40  /r/AesPleasingAsianGirls/comments/13icw40/song...   \n\n                                              original_url   image_name   \nid                                                                        \n13azmti                https://i.redd.it/ktflvdzo1iya1.jpg  13azmti.jpg  \\\n13b0cv0  https://i.redgifs.com/i/neighboringmediumgolde...  13b0cv0.jpg   \n13b2ghi                https://i.redd.it/cpe6hy2h2hya1.jpg  13b2ghi.jpg   \n13c3bc5  https://i.redgifs.com/i/admiredoutstandingpape...  13c3bc5.jpg   \n13dcf19                https://i.redd.it/alhlwwlp6yya1.jpg  13dcf19.jpg   \n...                                                    ...          ...   \n13g70ma                https://i.redd.it/m86fb2tugkza1.jpg  13g70ma.jpg   \n13g9d43                https://i.redd.it/bekk940j2lza1.jpg  13g9d43.jpg   \n13h4frm                https://i.redd.it/c08d0u2n6sza1.jpg  13h4frm.jpg   \n13ic6oa                https://i.redd.it/85aw0ana720b1.jpg  13ic6oa.jpg   \n13icw40                https://i.redd.it/ps6qly5dc20b1.jpg  13icw40.jpg   \n\n                           path               model  exists  curated accept   \nid                                                                            \n13azmti  data/image/13azmti.jpg    RedHeadDiffusion    True    False  False  \\\n13b0cv0                            RedHeadDiffusion   False    False  False   \n13b2ghi  data/image/13b2ghi.jpg    RedHeadDiffusion    True    False  False   \n13c3bc5                            RedHeadDiffusion   False    False  False   \n13dcf19  data/image/13dcf19.jpg    RedHeadDiffusion    True    False  False   \n...                         ...                 ...     ...      ...    ...   \n13g70ma  data/image/13g70ma.jpg  SexyAsianDiffusion    True    False  False   \n13g9d43  data/image/13g9d43.jpg  SexyAsianDiffusion    True    False  False   \n13h4frm  data/image/13h4frm.jpg  SexyAsianDiffusion    True    False  False   \n13ic6oa  data/image/13ic6oa.jpg  SexyAsianDiffusion    True    False  False   \n13icw40  data/image/13icw40.jpg  SexyAsianDiffusion    True    False  False   \n\n        tags  \nid            \n13azmti   []  \n13b0cv0   []  \n13b2ghi   []  \n13c3bc5   []  \n13dcf19   []  \n...      ...  \n13g70ma   []  \n13g9d43   []  \n13h4frm   []  \n13ic6oa   []  \n13icw40   []  \n\n[1362 rows x 15 columns]",
      "text/html": "<div>\n<style scoped>\n    .dataframe tbody tr th:only-of-type {\n        vertical-align: middle;\n    }\n\n    .dataframe tbody tr th {\n        vertical-align: top;\n    }\n\n    .dataframe thead th {\n        text-align: right;\n    }\n</style>\n<table border=\"1\" class=\"dataframe\">\n  <thead>\n    <tr style=\"text-align: right;\">\n      <th></th>\n      <th>id</th>\n      <th>subreddit</th>\n      <th>author</th>\n      <th>title</th>\n      <th>caption</th>\n      <th>hash</th>\n      <th>permalink</th>\n      <th>original_url</th>\n      <th>image_name</th>\n      <th>path</th>\n      <th>model</th>\n      <th>exists</th>\n      <th>curated</th>\n      <th>accept</th>\n      <th>tags</th>\n    </tr>\n    <tr>\n      <th>id</th>\n      <th></th>\n      <th></th>\n      <th></th>\n      <th></th>\n      <th></th>\n      <th></th>\n      <th></th>\n      <th></th>\n      <th></th>\n      <th></th>\n      <th></th>\n      <th></th>\n      <th></th>\n      <th></th>\n      <th></th>\n    </tr>\n  </thead>\n  <tbody>\n    <tr>\n      <th>13azmti</th>\n      <td>13azmti</td>\n      <td>SFWRedheads</td>\n      <td>Scarlett_somebody</td>\n      <td>I’m going out for the first time in so long! W...</td>\n      <td></td>\n      <td></td>\n      <td>/r/SFWRedheads/comments/13azmti/im_going_out_f...</td>\n      <td>https://i.redd.it/ktflvdzo1iya1.jpg</td>\n      <td>13azmti.jpg</td>\n      <td>data/image/13azmti.jpg</td>\n      <td>RedHeadDiffusion</td>\n      <td>True</td>\n      <td>False</td>\n      <td>False</td>\n      <td>[]</td>\n    </tr>\n    <tr>\n      <th>13b0cv0</th>\n      <td>13b0cv0</td>\n      <td>SFWRedheads</td>\n      <td>RedWicked91</td>\n      <td>Up for a trip?😁</td>\n      <td></td>\n      <td></td>\n      <td>/r/SFWRedheads/comments/13b0cv0/up_for_a_trip/</td>\n      <td>https://i.redgifs.com/i/neighboringmediumgolde...</td>\n      <td>13b0cv0.jpg</td>\n      <td></td>\n      <td>RedHeadDiffusion</td>\n      <td>False</td>\n      <td>False</td>\n      <td>False</td>\n      <td>[]</td>\n    </tr>\n    <tr>\n      <th>13b2ghi</th>\n      <td>13b2ghi</td>\n      <td>SFWRedheads</td>\n      <td>Powerful_Frame9794</td>\n      <td>Good morning loves! Like my braids again?</td>\n      <td></td>\n      <td></td>\n      <td>/r/SFWRedheads/comments/13b2ghi/good_morning_l...</td>\n      <td>https://i.redd.it/cpe6hy2h2hya1.jpg</td>\n      <td>13b2ghi.jpg</td>\n      <td>data/image/13b2ghi.jpg</td>\n      <td>RedHeadDiffusion</td>\n      <td>True</td>\n      <td>False</td>\n      <td>False</td>\n      <td>[]</td>\n    </tr>\n    <tr>\n      <th>13c3bc5</th>\n      <td>13c3bc5</td>\n      <td>SFWRedheads</td>\n      <td>Redhotwife88</td>\n      <td>Redhead Wife in my Little Black Dress! [F]</td>\n      <td></td>\n      <td></td>\n      <td>/r/SFWRedheads/comments/13c3bc5/redhead_wife_i...</td>\n      <td>https://i.redgifs.com/i/admiredoutstandingpape...</td>\n      <td>13c3bc5.jpg</td>\n      <td></td>\n      <td>RedHeadDiffusion</td>\n      <td>False</td>\n      <td>False</td>\n      <td>False</td>\n      <td>[]</td>\n    </tr>\n    <tr>\n      <th>13dcf19</th>\n      <td>13dcf19</td>\n      <td>SFWRedheads</td>\n      <td>Scarlett_somebody</td>\n      <td>Messy hair, cannot care 😹💚</td>\n      <td></td>\n      <td></td>\n      <td>/r/SFWRedheads/comments/13dcf19/messy_hair_can...</td>\n      <td>https://i.redd.it/alhlwwlp6yya1.jpg</td>\n      <td>13dcf19.jpg</td>\n      <td>data/image/13dcf19.jpg</td>\n      <td>RedHeadDiffusion</td>\n      <td>True</td>\n      <td>False</td>\n      <td>False</td>\n      <td>[]</td>\n    </tr>\n    <tr>\n      <th>...</th>\n      <td>...</td>\n      <td>...</td>\n      <td>...</td>\n      <td>...</td>\n      <td>...</td>\n      <td>...</td>\n      <td>...</td>\n      <td>...</td>\n      <td>...</td>\n      <td>...</td>\n      <td>...</td>\n      <td>...</td>\n      <td>...</td>\n      <td>...</td>\n      <td>...</td>\n    </tr>\n    <tr>\n      <th>13g70ma</th>\n      <td>13g70ma</td>\n      <td>AesPleasingAsianGirls</td>\n      <td>yummybanchan</td>\n      <td>Song Yu Qi</td>\n      <td></td>\n      <td></td>\n      <td>/r/AesPleasingAsianGirls/comments/13g70ma/song...</td>\n      <td>https://i.redd.it/m86fb2tugkza1.jpg</td>\n      <td>13g70ma.jpg</td>\n      <td>data/image/13g70ma.jpg</td>\n      <td>SexyAsianDiffusion</td>\n      <td>True</td>\n      <td>False</td>\n      <td>False</td>\n      <td>[]</td>\n    </tr>\n    <tr>\n      <th>13g9d43</th>\n      <td>13g9d43</td>\n      <td>AesPleasingAsianGirls</td>\n      <td>ExperienceOver7707</td>\n      <td>KitKat</td>\n      <td></td>\n      <td></td>\n      <td>/r/AesPleasingAsianGirls/comments/13g9d43/kitkat/</td>\n      <td>https://i.redd.it/bekk940j2lza1.jpg</td>\n      <td>13g9d43.jpg</td>\n      <td>data/image/13g9d43.jpg</td>\n      <td>SexyAsianDiffusion</td>\n      <td>True</td>\n      <td>False</td>\n      <td>False</td>\n      <td>[]</td>\n    </tr>\n    <tr>\n      <th>13h4frm</th>\n      <td>13h4frm</td>\n      <td>AesPleasingAsianGirls</td>\n      <td>No_Slide3921</td>\n      <td>Wwyd if you had a date with elfie?</td>\n      <td></td>\n      <td></td>\n      <td>/r/AesPleasingAsianGirls/comments/13h4frm/wwyd...</td>\n      <td>https://i.redd.it/c08d0u2n6sza1.jpg</td>\n      <td>13h4frm.jpg</td>\n      <td>data/image/13h4frm.jpg</td>\n      <td>SexyAsianDiffusion</td>\n      <td>True</td>\n      <td>False</td>\n      <td>False</td>\n      <td>[]</td>\n    </tr>\n    <tr>\n      <th>13ic6oa</th>\n      <td>13ic6oa</td>\n      <td>AesPleasingAsianGirls</td>\n      <td>notyouraveragehero88</td>\n      <td>Radiant Smile! - Sri Lankan</td>\n      <td></td>\n      <td></td>\n      <td>/r/AesPleasingAsianGirls/comments/13ic6oa/radi...</td>\n      <td>https://i.redd.it/85aw0ana720b1.jpg</td>\n      <td>13ic6oa.jpg</td>\n      <td>data/image/13ic6oa.jpg</td>\n      <td>SexyAsianDiffusion</td>\n      <td>True</td>\n      <td>False</td>\n      <td>False</td>\n      <td>[]</td>\n    </tr>\n    <tr>\n      <th>13icw40</th>\n      <td>13icw40</td>\n      <td>AesPleasingAsianGirls</td>\n      <td>yummybanchan</td>\n      <td>Song Yu Qi</td>\n      <td></td>\n      <td></td>\n      <td>/r/AesPleasingAsianGirls/comments/13icw40/song...</td>\n      <td>https://i.redd.it/ps6qly5dc20b1.jpg</td>\n      <td>13icw40.jpg</td>\n      <td>data/image/13icw40.jpg</td>\n      <td>SexyAsianDiffusion</td>\n      <td>True</td>\n      <td>False</td>\n      <td>False</td>\n      <td>[]</td>\n    </tr>\n  </tbody>\n</table>\n<p>1362 rows × 15 columns</p>\n</div>"
     },
     "metadata": {},
     "output_type": "display_data"
    },
    {
     "name": "stdout",
     "output_type": "stream",
     "text": [
      "CPU times: total: 0 ns\n",
      "Wall time: 157 ms\n"
     ]
    }
   ],
   "source": [
    "%%time\n",
    "\n",
    "filtered['exists'] = filtered.progress_apply(lambda x: functions.set_exists(x), axis=1)\n",
    "\n",
    "display(\"== Filtered Data With Exists ==\")\n",
    "display(filtered.shape)\n",
    "display(filtered)"
   ],
   "metadata": {
    "collapsed": false,
    "ExecuteTime": {
     "end_time": "2023-05-16T02:40:14.945897Z",
     "start_time": "2023-05-16T02:40:14.679863800Z"
    }
   }
  },
  {
   "cell_type": "code",
   "execution_count": 15,
   "outputs": [
    {
     "name": "stderr",
     "output_type": "stream",
     "text": [
      "Progress: 100%|██████████| 1362/1362 [00:04<00:00, 305.97it/s]\n",
      "<timed exec>:1: SettingWithCopyWarning: \n",
      "A value is trying to be set on a copy of a slice from a DataFrame.\n",
      "Try using .loc[row_indexer,col_indexer] = value instead\n",
      "\n",
      "See the caveats in the documentation: https://pandas.pydata.org/pandas-docs/stable/user_guide/indexing.html#returning-a-view-versus-a-copy\n"
     ]
    },
    {
     "data": {
      "text/plain": "'== Filtered Data With Hash =='"
     },
     "metadata": {},
     "output_type": "display_data"
    },
    {
     "data": {
      "text/plain": "(1362, 15)"
     },
     "metadata": {},
     "output_type": "display_data"
    },
    {
     "data": {
      "text/plain": "              id              subreddit                author   \nid                                                              \n13azmti  13azmti            SFWRedheads     Scarlett_somebody  \\\n13b0cv0  13b0cv0            SFWRedheads           RedWicked91   \n13b2ghi  13b2ghi            SFWRedheads    Powerful_Frame9794   \n13c3bc5  13c3bc5            SFWRedheads          Redhotwife88   \n13dcf19  13dcf19            SFWRedheads     Scarlett_somebody   \n...          ...                    ...                   ...   \n13g70ma  13g70ma  AesPleasingAsianGirls          yummybanchan   \n13g9d43  13g9d43  AesPleasingAsianGirls    ExperienceOver7707   \n13h4frm  13h4frm  AesPleasingAsianGirls          No_Slide3921   \n13ic6oa  13ic6oa  AesPleasingAsianGirls  notyouraveragehero88   \n13icw40  13icw40  AesPleasingAsianGirls          yummybanchan   \n\n                                                     title caption   \nid                                                                   \n13azmti  I’m going out for the first time in so long! W...          \\\n13b0cv0                                    Up for a trip?😁           \n13b2ghi          Good morning loves! Like my braids again?           \n13c3bc5         Redhead Wife in my Little Black Dress! [F]           \n13dcf19                         Messy hair, cannot care 😹💚           \n...                                                    ...     ...   \n13g70ma                                         Song Yu Qi           \n13g9d43                                             KitKat           \n13h4frm                 Wwyd if you had a date with elfie?           \n13ic6oa                        Radiant Smile! - Sri Lankan           \n13icw40                                         Song Yu Qi           \n\n                                     hash   \nid                                          \n13azmti  1d176a4d01d33d41d1e333a883ad37b5  \\\n13b0cv0                                     \n13b2ghi  d0d31e82e07a8ef0ca177c1b8657a5ec   \n13c3bc5                                     \n13dcf19  3b6546176b2d9e39c53fd0674ed7c734   \n...                                   ...   \n13g70ma  c0ae1c6550ea4a077ed704c04f6ecaf7   \n13g9d43  2594e389e9b167cd7cc996c5be6302a9   \n13h4frm  d5d369461053f80a685cadf0fbbc9e37   \n13ic6oa  083a423366e3ba6a31b37393dc112fce   \n13icw40  e0fac8effa20354f65549b58acee6eb3   \n\n                                                 permalink   \nid                                                           \n13azmti  /r/SFWRedheads/comments/13azmti/im_going_out_f...  \\\n13b0cv0     /r/SFWRedheads/comments/13b0cv0/up_for_a_trip/   \n13b2ghi  /r/SFWRedheads/comments/13b2ghi/good_morning_l...   \n13c3bc5  /r/SFWRedheads/comments/13c3bc5/redhead_wife_i...   \n13dcf19  /r/SFWRedheads/comments/13dcf19/messy_hair_can...   \n...                                                    ...   \n13g70ma  /r/AesPleasingAsianGirls/comments/13g70ma/song...   \n13g9d43  /r/AesPleasingAsianGirls/comments/13g9d43/kitkat/   \n13h4frm  /r/AesPleasingAsianGirls/comments/13h4frm/wwyd...   \n13ic6oa  /r/AesPleasingAsianGirls/comments/13ic6oa/radi...   \n13icw40  /r/AesPleasingAsianGirls/comments/13icw40/song...   \n\n                                              original_url   image_name   \nid                                                                        \n13azmti                https://i.redd.it/ktflvdzo1iya1.jpg  13azmti.jpg  \\\n13b0cv0  https://i.redgifs.com/i/neighboringmediumgolde...  13b0cv0.jpg   \n13b2ghi                https://i.redd.it/cpe6hy2h2hya1.jpg  13b2ghi.jpg   \n13c3bc5  https://i.redgifs.com/i/admiredoutstandingpape...  13c3bc5.jpg   \n13dcf19                https://i.redd.it/alhlwwlp6yya1.jpg  13dcf19.jpg   \n...                                                    ...          ...   \n13g70ma                https://i.redd.it/m86fb2tugkza1.jpg  13g70ma.jpg   \n13g9d43                https://i.redd.it/bekk940j2lza1.jpg  13g9d43.jpg   \n13h4frm                https://i.redd.it/c08d0u2n6sza1.jpg  13h4frm.jpg   \n13ic6oa                https://i.redd.it/85aw0ana720b1.jpg  13ic6oa.jpg   \n13icw40                https://i.redd.it/ps6qly5dc20b1.jpg  13icw40.jpg   \n\n                           path               model  exists  curated accept   \nid                                                                            \n13azmti  data/image/13azmti.jpg    RedHeadDiffusion    True    False  False  \\\n13b0cv0                            RedHeadDiffusion   False    False  False   \n13b2ghi  data/image/13b2ghi.jpg    RedHeadDiffusion    True    False  False   \n13c3bc5                            RedHeadDiffusion   False    False  False   \n13dcf19  data/image/13dcf19.jpg    RedHeadDiffusion    True    False  False   \n...                         ...                 ...     ...      ...    ...   \n13g70ma  data/image/13g70ma.jpg  SexyAsianDiffusion    True    False  False   \n13g9d43  data/image/13g9d43.jpg  SexyAsianDiffusion    True    False  False   \n13h4frm  data/image/13h4frm.jpg  SexyAsianDiffusion    True    False  False   \n13ic6oa  data/image/13ic6oa.jpg  SexyAsianDiffusion    True    False  False   \n13icw40  data/image/13icw40.jpg  SexyAsianDiffusion    True    False  False   \n\n        tags  \nid            \n13azmti   []  \n13b0cv0   []  \n13b2ghi   []  \n13c3bc5   []  \n13dcf19   []  \n...      ...  \n13g70ma   []  \n13g9d43   []  \n13h4frm   []  \n13ic6oa   []  \n13icw40   []  \n\n[1362 rows x 15 columns]",
      "text/html": "<div>\n<style scoped>\n    .dataframe tbody tr th:only-of-type {\n        vertical-align: middle;\n    }\n\n    .dataframe tbody tr th {\n        vertical-align: top;\n    }\n\n    .dataframe thead th {\n        text-align: right;\n    }\n</style>\n<table border=\"1\" class=\"dataframe\">\n  <thead>\n    <tr style=\"text-align: right;\">\n      <th></th>\n      <th>id</th>\n      <th>subreddit</th>\n      <th>author</th>\n      <th>title</th>\n      <th>caption</th>\n      <th>hash</th>\n      <th>permalink</th>\n      <th>original_url</th>\n      <th>image_name</th>\n      <th>path</th>\n      <th>model</th>\n      <th>exists</th>\n      <th>curated</th>\n      <th>accept</th>\n      <th>tags</th>\n    </tr>\n    <tr>\n      <th>id</th>\n      <th></th>\n      <th></th>\n      <th></th>\n      <th></th>\n      <th></th>\n      <th></th>\n      <th></th>\n      <th></th>\n      <th></th>\n      <th></th>\n      <th></th>\n      <th></th>\n      <th></th>\n      <th></th>\n      <th></th>\n    </tr>\n  </thead>\n  <tbody>\n    <tr>\n      <th>13azmti</th>\n      <td>13azmti</td>\n      <td>SFWRedheads</td>\n      <td>Scarlett_somebody</td>\n      <td>I’m going out for the first time in so long! W...</td>\n      <td></td>\n      <td>1d176a4d01d33d41d1e333a883ad37b5</td>\n      <td>/r/SFWRedheads/comments/13azmti/im_going_out_f...</td>\n      <td>https://i.redd.it/ktflvdzo1iya1.jpg</td>\n      <td>13azmti.jpg</td>\n      <td>data/image/13azmti.jpg</td>\n      <td>RedHeadDiffusion</td>\n      <td>True</td>\n      <td>False</td>\n      <td>False</td>\n      <td>[]</td>\n    </tr>\n    <tr>\n      <th>13b0cv0</th>\n      <td>13b0cv0</td>\n      <td>SFWRedheads</td>\n      <td>RedWicked91</td>\n      <td>Up for a trip?😁</td>\n      <td></td>\n      <td></td>\n      <td>/r/SFWRedheads/comments/13b0cv0/up_for_a_trip/</td>\n      <td>https://i.redgifs.com/i/neighboringmediumgolde...</td>\n      <td>13b0cv0.jpg</td>\n      <td></td>\n      <td>RedHeadDiffusion</td>\n      <td>False</td>\n      <td>False</td>\n      <td>False</td>\n      <td>[]</td>\n    </tr>\n    <tr>\n      <th>13b2ghi</th>\n      <td>13b2ghi</td>\n      <td>SFWRedheads</td>\n      <td>Powerful_Frame9794</td>\n      <td>Good morning loves! Like my braids again?</td>\n      <td></td>\n      <td>d0d31e82e07a8ef0ca177c1b8657a5ec</td>\n      <td>/r/SFWRedheads/comments/13b2ghi/good_morning_l...</td>\n      <td>https://i.redd.it/cpe6hy2h2hya1.jpg</td>\n      <td>13b2ghi.jpg</td>\n      <td>data/image/13b2ghi.jpg</td>\n      <td>RedHeadDiffusion</td>\n      <td>True</td>\n      <td>False</td>\n      <td>False</td>\n      <td>[]</td>\n    </tr>\n    <tr>\n      <th>13c3bc5</th>\n      <td>13c3bc5</td>\n      <td>SFWRedheads</td>\n      <td>Redhotwife88</td>\n      <td>Redhead Wife in my Little Black Dress! [F]</td>\n      <td></td>\n      <td></td>\n      <td>/r/SFWRedheads/comments/13c3bc5/redhead_wife_i...</td>\n      <td>https://i.redgifs.com/i/admiredoutstandingpape...</td>\n      <td>13c3bc5.jpg</td>\n      <td></td>\n      <td>RedHeadDiffusion</td>\n      <td>False</td>\n      <td>False</td>\n      <td>False</td>\n      <td>[]</td>\n    </tr>\n    <tr>\n      <th>13dcf19</th>\n      <td>13dcf19</td>\n      <td>SFWRedheads</td>\n      <td>Scarlett_somebody</td>\n      <td>Messy hair, cannot care 😹💚</td>\n      <td></td>\n      <td>3b6546176b2d9e39c53fd0674ed7c734</td>\n      <td>/r/SFWRedheads/comments/13dcf19/messy_hair_can...</td>\n      <td>https://i.redd.it/alhlwwlp6yya1.jpg</td>\n      <td>13dcf19.jpg</td>\n      <td>data/image/13dcf19.jpg</td>\n      <td>RedHeadDiffusion</td>\n      <td>True</td>\n      <td>False</td>\n      <td>False</td>\n      <td>[]</td>\n    </tr>\n    <tr>\n      <th>...</th>\n      <td>...</td>\n      <td>...</td>\n      <td>...</td>\n      <td>...</td>\n      <td>...</td>\n      <td>...</td>\n      <td>...</td>\n      <td>...</td>\n      <td>...</td>\n      <td>...</td>\n      <td>...</td>\n      <td>...</td>\n      <td>...</td>\n      <td>...</td>\n      <td>...</td>\n    </tr>\n    <tr>\n      <th>13g70ma</th>\n      <td>13g70ma</td>\n      <td>AesPleasingAsianGirls</td>\n      <td>yummybanchan</td>\n      <td>Song Yu Qi</td>\n      <td></td>\n      <td>c0ae1c6550ea4a077ed704c04f6ecaf7</td>\n      <td>/r/AesPleasingAsianGirls/comments/13g70ma/song...</td>\n      <td>https://i.redd.it/m86fb2tugkza1.jpg</td>\n      <td>13g70ma.jpg</td>\n      <td>data/image/13g70ma.jpg</td>\n      <td>SexyAsianDiffusion</td>\n      <td>True</td>\n      <td>False</td>\n      <td>False</td>\n      <td>[]</td>\n    </tr>\n    <tr>\n      <th>13g9d43</th>\n      <td>13g9d43</td>\n      <td>AesPleasingAsianGirls</td>\n      <td>ExperienceOver7707</td>\n      <td>KitKat</td>\n      <td></td>\n      <td>2594e389e9b167cd7cc996c5be6302a9</td>\n      <td>/r/AesPleasingAsianGirls/comments/13g9d43/kitkat/</td>\n      <td>https://i.redd.it/bekk940j2lza1.jpg</td>\n      <td>13g9d43.jpg</td>\n      <td>data/image/13g9d43.jpg</td>\n      <td>SexyAsianDiffusion</td>\n      <td>True</td>\n      <td>False</td>\n      <td>False</td>\n      <td>[]</td>\n    </tr>\n    <tr>\n      <th>13h4frm</th>\n      <td>13h4frm</td>\n      <td>AesPleasingAsianGirls</td>\n      <td>No_Slide3921</td>\n      <td>Wwyd if you had a date with elfie?</td>\n      <td></td>\n      <td>d5d369461053f80a685cadf0fbbc9e37</td>\n      <td>/r/AesPleasingAsianGirls/comments/13h4frm/wwyd...</td>\n      <td>https://i.redd.it/c08d0u2n6sza1.jpg</td>\n      <td>13h4frm.jpg</td>\n      <td>data/image/13h4frm.jpg</td>\n      <td>SexyAsianDiffusion</td>\n      <td>True</td>\n      <td>False</td>\n      <td>False</td>\n      <td>[]</td>\n    </tr>\n    <tr>\n      <th>13ic6oa</th>\n      <td>13ic6oa</td>\n      <td>AesPleasingAsianGirls</td>\n      <td>notyouraveragehero88</td>\n      <td>Radiant Smile! - Sri Lankan</td>\n      <td></td>\n      <td>083a423366e3ba6a31b37393dc112fce</td>\n      <td>/r/AesPleasingAsianGirls/comments/13ic6oa/radi...</td>\n      <td>https://i.redd.it/85aw0ana720b1.jpg</td>\n      <td>13ic6oa.jpg</td>\n      <td>data/image/13ic6oa.jpg</td>\n      <td>SexyAsianDiffusion</td>\n      <td>True</td>\n      <td>False</td>\n      <td>False</td>\n      <td>[]</td>\n    </tr>\n    <tr>\n      <th>13icw40</th>\n      <td>13icw40</td>\n      <td>AesPleasingAsianGirls</td>\n      <td>yummybanchan</td>\n      <td>Song Yu Qi</td>\n      <td></td>\n      <td>e0fac8effa20354f65549b58acee6eb3</td>\n      <td>/r/AesPleasingAsianGirls/comments/13icw40/song...</td>\n      <td>https://i.redd.it/ps6qly5dc20b1.jpg</td>\n      <td>13icw40.jpg</td>\n      <td>data/image/13icw40.jpg</td>\n      <td>SexyAsianDiffusion</td>\n      <td>True</td>\n      <td>False</td>\n      <td>False</td>\n      <td>[]</td>\n    </tr>\n  </tbody>\n</table>\n<p>1362 rows × 15 columns</p>\n</div>"
     },
     "metadata": {},
     "output_type": "display_data"
    },
    {
     "name": "stdout",
     "output_type": "stream",
     "text": [
      "CPU times: total: 828 ms\n",
      "Wall time: 4.58 s\n"
     ]
    }
   ],
   "source": [
    "%%time\n",
    "\n",
    "filtered['hash'] = filtered.progress_apply(lambda x: functions.set_hash(x), axis=1)\n",
    "\n",
    "display(\"== Filtered Data With Hash ==\")\n",
    "display(filtered.shape)\n",
    "display(filtered)"
   ],
   "metadata": {
    "collapsed": false,
    "ExecuteTime": {
     "end_time": "2023-05-16T02:40:19.584871100Z",
     "start_time": "2023-05-16T02:40:14.883415500Z"
    }
   }
  },
  {
   "cell_type": "code",
   "execution_count": null,
   "outputs": [],
   "source": [
    "%%time\n",
    "import torch\n",
    "if torch.cuda.is_available():\n",
    "\tcaption_0 = BlipCaption(\"cuda\")\n",
    "\tcaption_1 = BlipCaption(\"cuda\")\n",
    "else:\n",
    "\tcaption_0 = BlipCaption(\"cpu\")\n",
    "\tcaption_1 = BlipCaption(\"cpu\")"
   ],
   "metadata": {
    "collapsed": false,
    "is_executing": true,
    "ExecuteTime": {
     "start_time": "2023-05-16T02:40:19.506733300Z"
    }
   }
  },
  {
   "cell_type": "code",
   "execution_count": null,
   "outputs": [],
   "source": [
    "%%time\n",
    "\n",
    "filtered['caption'] = filtered.progress_apply(lambda x: functions.apply_caption(x, [caption_0, caption_1]), axis=1)\n",
    "\n",
    "display(\"== Filtered Data With Caption ==\")\n",
    "display(filtered.shape)\n",
    "display(filtered)"
   ],
   "metadata": {
    "collapsed": false,
    "is_executing": true
   }
  },
  {
   "cell_type": "code",
   "execution_count": null,
   "outputs": [],
   "source": [
    "%%time\n",
    "\n",
    "filtered_more = filtered.loc[(filtered['caption'] != \"\") & (filtered['caption'].notnull()) & (filtered['exists'] == True)]\n",
    "\n",
    "display(\"== Filtered On Missing Caption ==\")\n",
    "display(filtered_more.shape)\n",
    "display(filtered_more)"
   ],
   "metadata": {
    "collapsed": false,
    "is_executing": true
   }
  },
  {
   "cell_type": "code",
   "execution_count": null,
   "outputs": [],
   "source": [
    "%%time\n",
    "\n",
    "dropped = filtered_more.dropna(axis=1, how='all')\n",
    "dropped.reset_index(drop=True, inplace=True)\n",
    "\n",
    "display(\"== Dropped And Reset Data ==\")\n",
    "display(dropped.shape)\n",
    "display(dropped)"
   ],
   "metadata": {
    "collapsed": false,
    "is_executing": true
   }
  },
  {
   "cell_type": "code",
   "execution_count": null,
   "outputs": [],
   "source": [
    "%%time\n",
    "\n",
    "current = pandas.read_parquet(\"data/parquet/back.parquet\", engine='pyarrow', filesystem=file_system)\n",
    "\n",
    "display(current.shape)\n",
    "display(current)"
   ],
   "metadata": {
    "collapsed": false,
    "is_executing": true
   }
  },
  {
   "cell_type": "code",
   "execution_count": null,
   "outputs": [],
   "source": [
    "%%time\n",
    "\n",
    "temp_current = current\n",
    "temp_current.set_index('id', inplace=True, drop=False)\n",
    "\n",
    "temp_new = dropped\n",
    "temp_new.set_index('id', inplace=True, drop=False)\n",
    "\n",
    "temp_new.loc[~temp_new.index.isin(temp_current.index)]"
   ],
   "metadata": {
    "collapsed": false,
    "is_executing": true
   }
  },
  {
   "cell_type": "code",
   "execution_count": null,
   "outputs": [],
   "source": [
    "%%time\n",
    "\n",
    "concat = pd.concat([current, dropped])\n",
    "\n",
    "display(\"== Concatenated Data ==\")\n",
    "display(concat.shape)\n",
    "display(concat)"
   ],
   "metadata": {
    "collapsed": false,
    "is_executing": true
   }
  },
  {
   "cell_type": "code",
   "execution_count": null,
   "outputs": [],
   "source": [
    "%%time\n",
    "\n",
    "file_list_ = file_system.ls(\"data/image\")\n",
    "concat['path'] = concat.progress_apply(lambda x: functions.fix_path(x, file_list), axis=1)\n",
    "\n",
    "display(\"== Concatenated Data With Path ==\")\n",
    "display(concat.shape)\n",
    "display(concat)"
   ],
   "metadata": {
    "collapsed": false,
    "is_executing": true
   }
  },
  {
   "cell_type": "code",
   "execution_count": null,
   "outputs": [],
   "source": [
    "%%time\n",
    "\n",
    "back_up_name = f\"data/parquet/back_{dt.datetime.timestamp(dt.datetime.now())}.parquet\"\n",
    "display(f\"== Writing Back-Up {back_up_name} ==\")\n",
    "current.to_parquet(back_up_name, schema=schema, filesystem=file_system)"
   ],
   "metadata": {
    "collapsed": false,
    "is_executing": true
   }
  },
  {
   "cell_type": "code",
   "execution_count": null,
   "outputs": [],
   "source": [
    "%%time\n",
    "\n",
    "concat.to_parquet(\"data/parquet/back.parquet\", schema=schema, filesystem=file_system)\n",
    "new = pd.read_parquet(\"data/parquet/back.parquet\", engine='pyarrow', schema=schema, filesystem=file_system)\n",
    "\n",
    "display(\"== New Data ==\")\n",
    "display(new.shape)\n",
    "display(new)"
   ],
   "metadata": {
    "collapsed": false,
    "is_executing": true
   }
  },
  {
   "cell_type": "code",
   "execution_count": null,
   "outputs": [],
   "source": [
    "!jupyter notebook stop"
   ],
   "metadata": {
    "collapsed": false,
    "is_executing": true
   }
  }
 ],
 "metadata": {
  "kernelspec": {
   "display_name": "Python 3",
   "language": "python",
   "name": "python3"
  },
  "language_info": {
   "codemirror_mode": {
    "name": "ipython",
    "version": 2
   },
   "file_extension": ".py",
   "mimetype": "text/x-python",
   "name": "python",
   "nbconvert_exporter": "python",
   "pygments_lexer": "ipython2",
   "version": "2.7.6"
  }
 },
 "nbformat": 4,
 "nbformat_minor": 0
}
