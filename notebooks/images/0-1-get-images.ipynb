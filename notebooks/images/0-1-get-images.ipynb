{
 "cells": [
  {
   "cell_type": "markdown",
   "source": [
    "%%time\n",
    "\n",
    "import datetime as dt\n",
    "import os\n",
    "\n",
    "import pandas\n",
    "import pandas as pd\n",
    "import praw\n",
    "from praw.models import ListingGenerator\n",
    "from tqdm import tqdm\n",
    "\n",
    "from common.captioning.caption import BlipCaption\n",
    "from common.schemas.pyarrow_schema import schema\n",
    "from common.storage.azure_file_storage import AzureFileStorageAdapter\n",
    "\n",
    "tqdm.pandas(desc=\"Progress\")\n",
    "\n",
    "file_system = AzureFileStorageAdapter('data').get_file_storage()\n",
    "\n",
    "from common.data_frame_functions.functions import Functions\n",
    "\n",
    "functions: Functions = Functions()"
   ],
   "metadata": {
    "collapsed": false
   }
  },
  {
   "cell_type": "code",
   "execution_count": 2,
   "outputs": [
    {
     "name": "stdout",
     "output_type": "stream",
     "text": [
      "CPU times: total: 0 ns\n",
      "Wall time: 0 ns\n"
     ]
    }
   ],
   "source": [
    "%%time\n",
    "\n",
    "# \"memes\",\"CityPorn\", \"EarthPorn\", \"spaceporn\",\t\"itookapicture\",\t\"trippinthroughtime\",\n",
    "subs = [\n",
    "\t\"SFWRedheads\",\n",
    "\t\"sfwpetite\",\n",
    "\t\"SFWNextDoorGirls\",\n",
    "\t\"fatsquirrelhate\",\n",
    "\t\"realasians\",\n",
    "\t\"KoreanHotties\",\n",
    "\t\"prettyasiangirls\",\n",
    "\t\"AsianOfficeLady\",\n",
    "\t\"mildlypenis\",\n",
    "\t\"AsianInvasion\",\n",
    "\t\"sexygirls\",\n",
    "\t\"PrettyGirls\",\n",
    "\t\"gentlemanboners\",\n",
    "\t\"hotofficegirls\",\n",
    "\t\"tightdresses\",\n",
    "\t\"DLAH\",\n",
    "\t\"bathandbodyworks\"\n",
    "]"
   ],
   "metadata": {
    "collapsed": false,
    "ExecuteTime": {
     "end_time": "2023-05-10T01:15:47.994641100Z",
     "start_time": "2023-05-10T01:15:47.864639700Z"
    }
   }
  },
  {
   "cell_type": "code",
   "execution_count": 3,
   "outputs": [
    {
     "name": "stdout",
     "output_type": "stream",
     "text": [
      "CPU times: total: 0 ns\n",
      "Wall time: 15.6 ms\n"
     ]
    }
   ],
   "source": [
    "%%time\n",
    "\n",
    "sources = [\n",
    "\t{\"name\": \"CityDiffusion\", \"data\": [\"CityPorn\"]},\n",
    "\t{\"name\": \"NatureDiffusion\", \"data\": [\"EarthPorn\"]},\n",
    "\t{\"name\": \"CosmicDiffusion\", \"data\": [\"spaceporn\"]},\n",
    "\t{\"name\": \"ITAPDiffusion\", \"data\": [\"itookapicture\"]},\n",
    "\t{\"name\": \"MemeDiffusion\", \"data\": [\"memes\"]},\n",
    "\t{\"name\": \"TTTDiffusion\", \"data\": [\"trippinthroughtime\"]},\n",
    "\t{\"name\": \"WallStreetDiffusion\", \"data\": [\"wallstreetbets\"]},\n",
    "\t{\"name\": \"SexyDiffusion\", \"data\": [\"selfies\", \"Amicute\", \"amihot\", \"AmIhotAF\", \"HotGirlNextDoor\"]},\n",
    "\t{\"name\": \"FatSquirrelDiffusion\", \"data\": [\"fatsquirrelhate\"]},\n",
    "\t{\"name\": \"CelebrityDiffusion\", \"data\": [\"celebrities\"]},\n",
    "\t{\"name\": \"OldLadyDiffusion\", \"data\": [\"oldladiesbakingpies\"]},\n",
    "\t{\"name\": \"SWFPetite\", \"data\": [\"sfwpetite\"]},\n",
    "\t{\"name\": \"SFWMilfs\", \"data\": [\"cougars_and_milfs_sfw\"]},\n",
    "\t{\"name\": \"RedHeadDiffusion\", \"data\": [\"SFWRedheads\"]},\n",
    "\t{\"name\": \"NextDoorGirlsDiffusion\", \"data\": [\"SFWNextDoorGirls\"]},\n",
    "\t{\"name\": \"SexyAsianDiffusion\",\"data\": [\"realasians\", \"KoreanHotties\", \"prettyasiangirls\", \"AsianOfficeLady\", \"AsianInvasion\"]},\n",
    "\t{\"name\": \"MildlyPenisDiffusion\", \"data\": [\"mildlypenis\"]},\n",
    "\t{\"name\": \"PrettyGirlDiffusion\",\"data\": [\"sexygirls\", \"PrettyGirls\", \"gentlemanboners\", \"hotofficegirls\", \"tightdresses\", \"DLAH\"]},\n",
    "\t{\"name\": \"CandleDiffusion\", \"data\": [\"bathandbodyworks\"]}\n",
    "]\n",
    "sources_df = pd.DataFrame.from_records(sources)"
   ],
   "metadata": {
    "collapsed": false,
    "ExecuteTime": {
     "end_time": "2023-05-10T01:15:47.994641100Z",
     "start_time": "2023-05-10T01:15:47.865638200Z"
    }
   }
  },
  {
   "cell_type": "code",
   "execution_count": 4,
   "outputs": [
    {
     "data": {
      "text/plain": "        subreddit                author   \nid                                        \n100rn7k  AmIhotAF          veritynicole  \\\n1013bdt  AmIhotAF           RaulDea9286   \n105mekt  AmIhotAF              lindaniz   \n105qvgl  AmIhotAF           CaitVLove11   \n105rpcj  AmIhotAF       Flashy-Desk1858   \n...           ...                   ...   \n131dso7      DLAH        Wallydinger123   \n131eznp      DLAH          Long_dong111   \n131g3am      DLAH       ThrownAwayMiles   \n131jvcx      DLAH              robok212   \n131n2by      DLAH  Dependent_Secret9424   \n\n                                                  title   \nid                                                        \n100rn7k             hey, hows your new year going (23F)  \\\n1013bdt                                   36F - ITALIAN   \n105mekt  interesting in good forward relationship (f24)   \n105qvgl                       Laughing is my favorite 😆   \n105rpcj        [f22] What do you think when you see me?   \n...                                                 ...   \n131dso7                                     Happy B Day   \n131eznp                                         Perfect   \n131g3am                              DLAH left or right   \n131jvcx                                  Good morning 😍   \n131n2by                            Perfection (Sisters)   \n\n                                                   caption   \nid                                                           \n100rn7k  a woman in a white shirt and black pants is po...  \\\n1013bdt            arafed image of a woman in a bikini top   \n105mekt  a close up of a woman with red hair and a whit...   \n105qvgl  a woman in a blue tank top and shorts is smili...   \n105rpcj    a woman in a blue bikini top and a blue bra top   \n...                                                    ...   \n131dso7  there are three women posing for a picture in ...   \n131eznp  araffe woman in a white dress sitting on a pur...   \n131g3am  two women in short dresses posing for a pictur...   \n131jvcx      araffe in a pink dress posing on a white wall   \n131n2by  two women in shorts and sandals taking a selfi...   \n\n                                     hash   \nid                                          \n100rn7k  4bd00c19fa0ff2ade855e6d364b0760b  \\\n1013bdt  7c0d158cba8654ef1c635cbc5471d597   \n105mekt  ba4a0962cca2266a741e1e1700589c04   \n105qvgl  27bfe82c37314a0bcf02ab72eaf3a9e5   \n105rpcj  329eb42b8267fa1cc2980da8e48bcef1   \n...                                   ...   \n131dso7  ebb4b4a88dc79e2f2f57b10f32bf03c0   \n131eznp  5c944c6d62b1ae182c5a6a40c64195f4   \n131g3am  ab1f8fc33c85f4cfce12c810cf22229e   \n131jvcx  01f5058855526ef25888cff88065db4c   \n131n2by  b162dd1999dbf9ea3c7adccd34624a46   \n\n                                                 permalink   \nid                                                           \n100rn7k  /r/AmIhotAF/comments/100rn7k/hey_hows_your_new...  \\\n1013bdt          /r/AmIhotAF/comments/1013bdt/36f_italian/   \n105mekt  /r/AmIhotAF/comments/105mekt/interesting_in_go...   \n105qvgl  /r/AmIhotAF/comments/105qvgl/laughing_is_my_fa...   \n105rpcj  /r/AmIhotAF/comments/105rpcj/f22_what_do_you_t...   \n...                                                    ...   \n131dso7              /r/DLAH/comments/131dso7/happy_b_day/   \n131eznp                  /r/DLAH/comments/131eznp/perfect/   \n131g3am       /r/DLAH/comments/131g3am/dlah_left_or_right/   \n131jvcx             /r/DLAH/comments/131jvcx/good_morning/   \n131n2by       /r/DLAH/comments/131n2by/perfection_sisters/   \n\n                                original_url   image_name   \nid                                                          \n100rn7k  https://i.redd.it/n7r47s0gkh9a1.jpg  100rn7k.jpg  \\\n1013bdt  https://i.redd.it/bg0wwdlt5k9a1.jpg  1013bdt.jpg   \n105mekt  https://i.redd.it/4avjshsz8naa1.jpg  105mekt.jpg   \n105qvgl  https://i.redd.it/2pulzr0lxmaa1.jpg  105qvgl.jpg   \n105rpcj  https://i.redd.it/rz68pf934naa1.jpg  105rpcj.jpg   \n...                                      ...          ...   \n131dso7  https://i.redd.it/36gurz533jwa1.jpg  131dso7.jpg   \n131eznp  https://i.redd.it/dnbbx4zucjwa1.jpg  131eznp.jpg   \n131g3am  https://i.redd.it/zpp70oor3lwa1.jpg  131g3am.jpg   \n131jvcx  https://i.redd.it/ozmbfhjv3mwa1.jpg  131jvcx.jpg   \n131n2by  https://i.redd.it/pfg1u0aw1nwa1.jpg  131n2by.jpg   \n\n                           path                model  exists  curated accept   \nid                                                                             \n100rn7k  data/image/100rn7k.jpg        SexyDiffusion    True     True  False  \\\n1013bdt  data/image/1013bdt.jpg        SexyDiffusion    True     True   True   \n105mekt  data/image/105mekt.jpg        SexyDiffusion    True     True   True   \n105qvgl  data/image/105qvgl.jpg        SexyDiffusion    True     True   True   \n105rpcj  data/image/105rpcj.jpg        SexyDiffusion    True     True   True   \n...                         ...                  ...     ...      ...    ...   \n131dso7  data/image/131dso7.jpg  PrettyGirlDiffusion    True     True  False   \n131eznp  data/image/131eznp.jpg  PrettyGirlDiffusion    True     True   True   \n131g3am  data/image/131g3am.jpg  PrettyGirlDiffusion    True     True   True   \n131jvcx  data/image/131jvcx.jpg  PrettyGirlDiffusion    True     True  False   \n131n2by  data/image/131n2by.jpg  PrettyGirlDiffusion    True     True  False   \n\n        tags  \nid            \n100rn7k   []  \n1013bdt   []  \n105mekt   []  \n105qvgl   []  \n105rpcj   []  \n...      ...  \n131dso7   []  \n131eznp   []  \n131g3am   []  \n131jvcx   []  \n131n2by   []  \n\n[41505 rows x 14 columns]",
      "text/html": "<div>\n<style scoped>\n    .dataframe tbody tr th:only-of-type {\n        vertical-align: middle;\n    }\n\n    .dataframe tbody tr th {\n        vertical-align: top;\n    }\n\n    .dataframe thead th {\n        text-align: right;\n    }\n</style>\n<table border=\"1\" class=\"dataframe\">\n  <thead>\n    <tr style=\"text-align: right;\">\n      <th></th>\n      <th>subreddit</th>\n      <th>author</th>\n      <th>title</th>\n      <th>caption</th>\n      <th>hash</th>\n      <th>permalink</th>\n      <th>original_url</th>\n      <th>image_name</th>\n      <th>path</th>\n      <th>model</th>\n      <th>exists</th>\n      <th>curated</th>\n      <th>accept</th>\n      <th>tags</th>\n    </tr>\n    <tr>\n      <th>id</th>\n      <th></th>\n      <th></th>\n      <th></th>\n      <th></th>\n      <th></th>\n      <th></th>\n      <th></th>\n      <th></th>\n      <th></th>\n      <th></th>\n      <th></th>\n      <th></th>\n      <th></th>\n      <th></th>\n    </tr>\n  </thead>\n  <tbody>\n    <tr>\n      <th>100rn7k</th>\n      <td>AmIhotAF</td>\n      <td>veritynicole</td>\n      <td>hey, hows your new year going (23F)</td>\n      <td>a woman in a white shirt and black pants is po...</td>\n      <td>4bd00c19fa0ff2ade855e6d364b0760b</td>\n      <td>/r/AmIhotAF/comments/100rn7k/hey_hows_your_new...</td>\n      <td>https://i.redd.it/n7r47s0gkh9a1.jpg</td>\n      <td>100rn7k.jpg</td>\n      <td>data/image/100rn7k.jpg</td>\n      <td>SexyDiffusion</td>\n      <td>True</td>\n      <td>True</td>\n      <td>False</td>\n      <td>[]</td>\n    </tr>\n    <tr>\n      <th>1013bdt</th>\n      <td>AmIhotAF</td>\n      <td>RaulDea9286</td>\n      <td>36F - ITALIAN</td>\n      <td>arafed image of a woman in a bikini top</td>\n      <td>7c0d158cba8654ef1c635cbc5471d597</td>\n      <td>/r/AmIhotAF/comments/1013bdt/36f_italian/</td>\n      <td>https://i.redd.it/bg0wwdlt5k9a1.jpg</td>\n      <td>1013bdt.jpg</td>\n      <td>data/image/1013bdt.jpg</td>\n      <td>SexyDiffusion</td>\n      <td>True</td>\n      <td>True</td>\n      <td>True</td>\n      <td>[]</td>\n    </tr>\n    <tr>\n      <th>105mekt</th>\n      <td>AmIhotAF</td>\n      <td>lindaniz</td>\n      <td>interesting in good forward relationship (f24)</td>\n      <td>a close up of a woman with red hair and a whit...</td>\n      <td>ba4a0962cca2266a741e1e1700589c04</td>\n      <td>/r/AmIhotAF/comments/105mekt/interesting_in_go...</td>\n      <td>https://i.redd.it/4avjshsz8naa1.jpg</td>\n      <td>105mekt.jpg</td>\n      <td>data/image/105mekt.jpg</td>\n      <td>SexyDiffusion</td>\n      <td>True</td>\n      <td>True</td>\n      <td>True</td>\n      <td>[]</td>\n    </tr>\n    <tr>\n      <th>105qvgl</th>\n      <td>AmIhotAF</td>\n      <td>CaitVLove11</td>\n      <td>Laughing is my favorite 😆</td>\n      <td>a woman in a blue tank top and shorts is smili...</td>\n      <td>27bfe82c37314a0bcf02ab72eaf3a9e5</td>\n      <td>/r/AmIhotAF/comments/105qvgl/laughing_is_my_fa...</td>\n      <td>https://i.redd.it/2pulzr0lxmaa1.jpg</td>\n      <td>105qvgl.jpg</td>\n      <td>data/image/105qvgl.jpg</td>\n      <td>SexyDiffusion</td>\n      <td>True</td>\n      <td>True</td>\n      <td>True</td>\n      <td>[]</td>\n    </tr>\n    <tr>\n      <th>105rpcj</th>\n      <td>AmIhotAF</td>\n      <td>Flashy-Desk1858</td>\n      <td>[f22] What do you think when you see me?</td>\n      <td>a woman in a blue bikini top and a blue bra top</td>\n      <td>329eb42b8267fa1cc2980da8e48bcef1</td>\n      <td>/r/AmIhotAF/comments/105rpcj/f22_what_do_you_t...</td>\n      <td>https://i.redd.it/rz68pf934naa1.jpg</td>\n      <td>105rpcj.jpg</td>\n      <td>data/image/105rpcj.jpg</td>\n      <td>SexyDiffusion</td>\n      <td>True</td>\n      <td>True</td>\n      <td>True</td>\n      <td>[]</td>\n    </tr>\n    <tr>\n      <th>...</th>\n      <td>...</td>\n      <td>...</td>\n      <td>...</td>\n      <td>...</td>\n      <td>...</td>\n      <td>...</td>\n      <td>...</td>\n      <td>...</td>\n      <td>...</td>\n      <td>...</td>\n      <td>...</td>\n      <td>...</td>\n      <td>...</td>\n      <td>...</td>\n    </tr>\n    <tr>\n      <th>131dso7</th>\n      <td>DLAH</td>\n      <td>Wallydinger123</td>\n      <td>Happy B Day</td>\n      <td>there are three women posing for a picture in ...</td>\n      <td>ebb4b4a88dc79e2f2f57b10f32bf03c0</td>\n      <td>/r/DLAH/comments/131dso7/happy_b_day/</td>\n      <td>https://i.redd.it/36gurz533jwa1.jpg</td>\n      <td>131dso7.jpg</td>\n      <td>data/image/131dso7.jpg</td>\n      <td>PrettyGirlDiffusion</td>\n      <td>True</td>\n      <td>True</td>\n      <td>False</td>\n      <td>[]</td>\n    </tr>\n    <tr>\n      <th>131eznp</th>\n      <td>DLAH</td>\n      <td>Long_dong111</td>\n      <td>Perfect</td>\n      <td>araffe woman in a white dress sitting on a pur...</td>\n      <td>5c944c6d62b1ae182c5a6a40c64195f4</td>\n      <td>/r/DLAH/comments/131eznp/perfect/</td>\n      <td>https://i.redd.it/dnbbx4zucjwa1.jpg</td>\n      <td>131eznp.jpg</td>\n      <td>data/image/131eznp.jpg</td>\n      <td>PrettyGirlDiffusion</td>\n      <td>True</td>\n      <td>True</td>\n      <td>True</td>\n      <td>[]</td>\n    </tr>\n    <tr>\n      <th>131g3am</th>\n      <td>DLAH</td>\n      <td>ThrownAwayMiles</td>\n      <td>DLAH left or right</td>\n      <td>two women in short dresses posing for a pictur...</td>\n      <td>ab1f8fc33c85f4cfce12c810cf22229e</td>\n      <td>/r/DLAH/comments/131g3am/dlah_left_or_right/</td>\n      <td>https://i.redd.it/zpp70oor3lwa1.jpg</td>\n      <td>131g3am.jpg</td>\n      <td>data/image/131g3am.jpg</td>\n      <td>PrettyGirlDiffusion</td>\n      <td>True</td>\n      <td>True</td>\n      <td>True</td>\n      <td>[]</td>\n    </tr>\n    <tr>\n      <th>131jvcx</th>\n      <td>DLAH</td>\n      <td>robok212</td>\n      <td>Good morning 😍</td>\n      <td>araffe in a pink dress posing on a white wall</td>\n      <td>01f5058855526ef25888cff88065db4c</td>\n      <td>/r/DLAH/comments/131jvcx/good_morning/</td>\n      <td>https://i.redd.it/ozmbfhjv3mwa1.jpg</td>\n      <td>131jvcx.jpg</td>\n      <td>data/image/131jvcx.jpg</td>\n      <td>PrettyGirlDiffusion</td>\n      <td>True</td>\n      <td>True</td>\n      <td>False</td>\n      <td>[]</td>\n    </tr>\n    <tr>\n      <th>131n2by</th>\n      <td>DLAH</td>\n      <td>Dependent_Secret9424</td>\n      <td>Perfection (Sisters)</td>\n      <td>two women in shorts and sandals taking a selfi...</td>\n      <td>b162dd1999dbf9ea3c7adccd34624a46</td>\n      <td>/r/DLAH/comments/131n2by/perfection_sisters/</td>\n      <td>https://i.redd.it/pfg1u0aw1nwa1.jpg</td>\n      <td>131n2by.jpg</td>\n      <td>data/image/131n2by.jpg</td>\n      <td>PrettyGirlDiffusion</td>\n      <td>True</td>\n      <td>True</td>\n      <td>False</td>\n      <td>[]</td>\n    </tr>\n  </tbody>\n</table>\n<p>41505 rows × 14 columns</p>\n</div>"
     },
     "metadata": {},
     "output_type": "display_data"
    },
    {
     "name": "stdout",
     "output_type": "stream",
     "text": [
      "CPU times: total: 844 ms\n",
      "Wall time: 2.22 s\n"
     ]
    }
   ],
   "source": [
    "%%time\n",
    "\n",
    "extant_data = pandas.read_parquet(\"data/processed_raw_data.parquet\", engine='pyarrow', filesystem=file_system,\n",
    "\t\t\t\t\t\t\t\t  schema=schema)\n",
    "extant_data.set_index('id', inplace=True)\n",
    "display(extant_data)"
   ],
   "metadata": {
    "collapsed": false,
    "ExecuteTime": {
     "end_time": "2023-05-10T01:15:47.995639100Z",
     "start_time": "2023-05-10T01:15:47.866641900Z"
    }
   }
  },
  {
   "cell_type": "code",
   "execution_count": 5,
   "outputs": [
    {
     "data": {
      "text/plain": "'==== CURATED DATA ===='"
     },
     "metadata": {},
     "output_type": "display_data"
    },
    {
     "data": {
      "text/plain": "(36636, 14)"
     },
     "metadata": {},
     "output_type": "display_data"
    },
    {
     "data": {
      "text/plain": "                subreddit             author   \nid                                             \n100rn7k          AmIhotAF       veritynicole  \\\n1013bdt          AmIhotAF        RaulDea9286   \n105mekt          AmIhotAF           lindaniz   \n105qvgl          AmIhotAF        CaitVLove11   \n105rpcj          AmIhotAF    Flashy-Desk1858   \n...                   ...                ...   \n13bya6k  bathandbodyworks       PetiteTXgirl   \n13byvzd  bathandbodyworks          iluvsunni   \n13bzh6l  bathandbodyworks         huskyyyy21   \n13c2k1d  bathandbodyworks             xeloux   \n13c7x8w  bathandbodyworks  CharacterSoft6158   \n\n                                                     title   \nid                                                           \n100rn7k                hey, hows your new year going (23F)  \\\n1013bdt                                      36F - ITALIAN   \n105mekt     interesting in good forward relationship (f24)   \n105qvgl                          Laughing is my favorite 😆   \n105rpcj           [f22] What do you think when you see me?   \n...                                                    ...   \n13bya6k                           Late March-April empties   \n13byvzd                                   Some semi-oldies   \n13bzh6l                      my summer lotion line up 🪼🌞🌴🩵   \n13c2k1d  Rainy day here, decided to burn for cozy. What...   \n13c7x8w  Keep forgetting I have this still. Anyone know...   \n\n                                                   caption   \nid                                                           \n100rn7k  a woman in a white shirt and black pants is po...  \\\n1013bdt            arafed image of a woman in a bikini top   \n105mekt  a close up of a woman with red hair and a whit...   \n105qvgl  a woman in a blue tank top and shorts is smili...   \n105rpcj    a woman in a blue bikini top and a blue bra top   \n...                                                    ...   \n13bya6k  there are many different types of skin care pr...   \n13byvzd  there are two bottles of perfume sitting on a ...   \n13bzh6l  a close up of a table with various types of bo...   \n13c2k1d       there is a candle that is sitting on a table   \n13c7x8w   a close up of a bottle of body lotion on a table   \n\n                                     hash   \nid                                          \n100rn7k  4bd00c19fa0ff2ade855e6d364b0760b  \\\n1013bdt  7c0d158cba8654ef1c635cbc5471d597   \n105mekt  ba4a0962cca2266a741e1e1700589c04   \n105qvgl  27bfe82c37314a0bcf02ab72eaf3a9e5   \n105rpcj  329eb42b8267fa1cc2980da8e48bcef1   \n...                                   ...   \n13bya6k  71169906f34149ab001ecc885898d9a9   \n13byvzd  031430dae686b90afe2f602d81d4df2e   \n13bzh6l  35d94f4e9675c8d8d4964b2c03d73b4c   \n13c2k1d  09388a91d70ee4e5f03211f7c457bfc9   \n13c7x8w  ea160fb2263c1f1408c37ba20eb6cff0   \n\n                                                 permalink   \nid                                                           \n100rn7k  /r/AmIhotAF/comments/100rn7k/hey_hows_your_new...  \\\n1013bdt          /r/AmIhotAF/comments/1013bdt/36f_italian/   \n105mekt  /r/AmIhotAF/comments/105mekt/interesting_in_go...   \n105qvgl  /r/AmIhotAF/comments/105qvgl/laughing_is_my_fa...   \n105rpcj  /r/AmIhotAF/comments/105rpcj/f22_what_do_you_t...   \n...                                                    ...   \n13bya6k  /r/bathandbodyworks/comments/13bya6k/late_marc...   \n13byvzd  /r/bathandbodyworks/comments/13byvzd/some_semi...   \n13bzh6l  /r/bathandbodyworks/comments/13bzh6l/my_summer...   \n13c2k1d  /r/bathandbodyworks/comments/13c2k1d/rainy_day...   \n13c7x8w  /r/bathandbodyworks/comments/13c7x8w/keep_forg...   \n\n                                original_url   image_name   \nid                                                          \n100rn7k  https://i.redd.it/n7r47s0gkh9a1.jpg  100rn7k.jpg  \\\n1013bdt  https://i.redd.it/bg0wwdlt5k9a1.jpg  1013bdt.jpg   \n105mekt  https://i.redd.it/4avjshsz8naa1.jpg  105mekt.jpg   \n105qvgl  https://i.redd.it/2pulzr0lxmaa1.jpg  105qvgl.jpg   \n105rpcj  https://i.redd.it/rz68pf934naa1.jpg  105rpcj.jpg   \n...                                      ...          ...   \n13bya6k  https://i.redd.it/7tivxy31moya1.jpg  13bya6k.jpg   \n13byvzd  https://i.redd.it/c4qskam2qoya1.jpg  13byvzd.jpg   \n13bzh6l  https://i.redd.it/eezk3i7ytoya1.jpg  13bzh6l.jpg   \n13c2k1d  https://i.redd.it/w8c4gtb9dpya1.jpg  13c2k1d.jpg   \n13c7x8w  https://i.redd.it/xv859cj8cqya1.jpg  13c7x8w.jpg   \n\n                           path            model  exists  curated  accept tags  \nid                                                                              \n100rn7k  data/image/100rn7k.jpg    SexyDiffusion    True     True   False   []  \n1013bdt  data/image/1013bdt.jpg    SexyDiffusion    True     True    True   []  \n105mekt  data/image/105mekt.jpg    SexyDiffusion    True     True    True   []  \n105qvgl  data/image/105qvgl.jpg    SexyDiffusion    True     True    True   []  \n105rpcj  data/image/105rpcj.jpg    SexyDiffusion    True     True    True   []  \n...                         ...              ...     ...      ...     ...  ...  \n13bya6k  data/image/13bya6k.jpg  CandleDiffusion    True     True   False   []  \n13byvzd  data/image/13byvzd.jpg  CandleDiffusion    True     True    True   []  \n13bzh6l  data/image/13bzh6l.jpg  CandleDiffusion    True     True    True   []  \n13c2k1d  data/image/13c2k1d.jpg  CandleDiffusion    True     True    True   []  \n13c7x8w  data/image/13c7x8w.jpg  CandleDiffusion    True     True   False   []  \n\n[36636 rows x 14 columns]",
      "text/html": "<div>\n<style scoped>\n    .dataframe tbody tr th:only-of-type {\n        vertical-align: middle;\n    }\n\n    .dataframe tbody tr th {\n        vertical-align: top;\n    }\n\n    .dataframe thead th {\n        text-align: right;\n    }\n</style>\n<table border=\"1\" class=\"dataframe\">\n  <thead>\n    <tr style=\"text-align: right;\">\n      <th></th>\n      <th>subreddit</th>\n      <th>author</th>\n      <th>title</th>\n      <th>caption</th>\n      <th>hash</th>\n      <th>permalink</th>\n      <th>original_url</th>\n      <th>image_name</th>\n      <th>path</th>\n      <th>model</th>\n      <th>exists</th>\n      <th>curated</th>\n      <th>accept</th>\n      <th>tags</th>\n    </tr>\n    <tr>\n      <th>id</th>\n      <th></th>\n      <th></th>\n      <th></th>\n      <th></th>\n      <th></th>\n      <th></th>\n      <th></th>\n      <th></th>\n      <th></th>\n      <th></th>\n      <th></th>\n      <th></th>\n      <th></th>\n      <th></th>\n    </tr>\n  </thead>\n  <tbody>\n    <tr>\n      <th>100rn7k</th>\n      <td>AmIhotAF</td>\n      <td>veritynicole</td>\n      <td>hey, hows your new year going (23F)</td>\n      <td>a woman in a white shirt and black pants is po...</td>\n      <td>4bd00c19fa0ff2ade855e6d364b0760b</td>\n      <td>/r/AmIhotAF/comments/100rn7k/hey_hows_your_new...</td>\n      <td>https://i.redd.it/n7r47s0gkh9a1.jpg</td>\n      <td>100rn7k.jpg</td>\n      <td>data/image/100rn7k.jpg</td>\n      <td>SexyDiffusion</td>\n      <td>True</td>\n      <td>True</td>\n      <td>False</td>\n      <td>[]</td>\n    </tr>\n    <tr>\n      <th>1013bdt</th>\n      <td>AmIhotAF</td>\n      <td>RaulDea9286</td>\n      <td>36F - ITALIAN</td>\n      <td>arafed image of a woman in a bikini top</td>\n      <td>7c0d158cba8654ef1c635cbc5471d597</td>\n      <td>/r/AmIhotAF/comments/1013bdt/36f_italian/</td>\n      <td>https://i.redd.it/bg0wwdlt5k9a1.jpg</td>\n      <td>1013bdt.jpg</td>\n      <td>data/image/1013bdt.jpg</td>\n      <td>SexyDiffusion</td>\n      <td>True</td>\n      <td>True</td>\n      <td>True</td>\n      <td>[]</td>\n    </tr>\n    <tr>\n      <th>105mekt</th>\n      <td>AmIhotAF</td>\n      <td>lindaniz</td>\n      <td>interesting in good forward relationship (f24)</td>\n      <td>a close up of a woman with red hair and a whit...</td>\n      <td>ba4a0962cca2266a741e1e1700589c04</td>\n      <td>/r/AmIhotAF/comments/105mekt/interesting_in_go...</td>\n      <td>https://i.redd.it/4avjshsz8naa1.jpg</td>\n      <td>105mekt.jpg</td>\n      <td>data/image/105mekt.jpg</td>\n      <td>SexyDiffusion</td>\n      <td>True</td>\n      <td>True</td>\n      <td>True</td>\n      <td>[]</td>\n    </tr>\n    <tr>\n      <th>105qvgl</th>\n      <td>AmIhotAF</td>\n      <td>CaitVLove11</td>\n      <td>Laughing is my favorite 😆</td>\n      <td>a woman in a blue tank top and shorts is smili...</td>\n      <td>27bfe82c37314a0bcf02ab72eaf3a9e5</td>\n      <td>/r/AmIhotAF/comments/105qvgl/laughing_is_my_fa...</td>\n      <td>https://i.redd.it/2pulzr0lxmaa1.jpg</td>\n      <td>105qvgl.jpg</td>\n      <td>data/image/105qvgl.jpg</td>\n      <td>SexyDiffusion</td>\n      <td>True</td>\n      <td>True</td>\n      <td>True</td>\n      <td>[]</td>\n    </tr>\n    <tr>\n      <th>105rpcj</th>\n      <td>AmIhotAF</td>\n      <td>Flashy-Desk1858</td>\n      <td>[f22] What do you think when you see me?</td>\n      <td>a woman in a blue bikini top and a blue bra top</td>\n      <td>329eb42b8267fa1cc2980da8e48bcef1</td>\n      <td>/r/AmIhotAF/comments/105rpcj/f22_what_do_you_t...</td>\n      <td>https://i.redd.it/rz68pf934naa1.jpg</td>\n      <td>105rpcj.jpg</td>\n      <td>data/image/105rpcj.jpg</td>\n      <td>SexyDiffusion</td>\n      <td>True</td>\n      <td>True</td>\n      <td>True</td>\n      <td>[]</td>\n    </tr>\n    <tr>\n      <th>...</th>\n      <td>...</td>\n      <td>...</td>\n      <td>...</td>\n      <td>...</td>\n      <td>...</td>\n      <td>...</td>\n      <td>...</td>\n      <td>...</td>\n      <td>...</td>\n      <td>...</td>\n      <td>...</td>\n      <td>...</td>\n      <td>...</td>\n      <td>...</td>\n    </tr>\n    <tr>\n      <th>13bya6k</th>\n      <td>bathandbodyworks</td>\n      <td>PetiteTXgirl</td>\n      <td>Late March-April empties</td>\n      <td>there are many different types of skin care pr...</td>\n      <td>71169906f34149ab001ecc885898d9a9</td>\n      <td>/r/bathandbodyworks/comments/13bya6k/late_marc...</td>\n      <td>https://i.redd.it/7tivxy31moya1.jpg</td>\n      <td>13bya6k.jpg</td>\n      <td>data/image/13bya6k.jpg</td>\n      <td>CandleDiffusion</td>\n      <td>True</td>\n      <td>True</td>\n      <td>False</td>\n      <td>[]</td>\n    </tr>\n    <tr>\n      <th>13byvzd</th>\n      <td>bathandbodyworks</td>\n      <td>iluvsunni</td>\n      <td>Some semi-oldies</td>\n      <td>there are two bottles of perfume sitting on a ...</td>\n      <td>031430dae686b90afe2f602d81d4df2e</td>\n      <td>/r/bathandbodyworks/comments/13byvzd/some_semi...</td>\n      <td>https://i.redd.it/c4qskam2qoya1.jpg</td>\n      <td>13byvzd.jpg</td>\n      <td>data/image/13byvzd.jpg</td>\n      <td>CandleDiffusion</td>\n      <td>True</td>\n      <td>True</td>\n      <td>True</td>\n      <td>[]</td>\n    </tr>\n    <tr>\n      <th>13bzh6l</th>\n      <td>bathandbodyworks</td>\n      <td>huskyyyy21</td>\n      <td>my summer lotion line up 🪼🌞🌴🩵</td>\n      <td>a close up of a table with various types of bo...</td>\n      <td>35d94f4e9675c8d8d4964b2c03d73b4c</td>\n      <td>/r/bathandbodyworks/comments/13bzh6l/my_summer...</td>\n      <td>https://i.redd.it/eezk3i7ytoya1.jpg</td>\n      <td>13bzh6l.jpg</td>\n      <td>data/image/13bzh6l.jpg</td>\n      <td>CandleDiffusion</td>\n      <td>True</td>\n      <td>True</td>\n      <td>True</td>\n      <td>[]</td>\n    </tr>\n    <tr>\n      <th>13c2k1d</th>\n      <td>bathandbodyworks</td>\n      <td>xeloux</td>\n      <td>Rainy day here, decided to burn for cozy. What...</td>\n      <td>there is a candle that is sitting on a table</td>\n      <td>09388a91d70ee4e5f03211f7c457bfc9</td>\n      <td>/r/bathandbodyworks/comments/13c2k1d/rainy_day...</td>\n      <td>https://i.redd.it/w8c4gtb9dpya1.jpg</td>\n      <td>13c2k1d.jpg</td>\n      <td>data/image/13c2k1d.jpg</td>\n      <td>CandleDiffusion</td>\n      <td>True</td>\n      <td>True</td>\n      <td>True</td>\n      <td>[]</td>\n    </tr>\n    <tr>\n      <th>13c7x8w</th>\n      <td>bathandbodyworks</td>\n      <td>CharacterSoft6158</td>\n      <td>Keep forgetting I have this still. Anyone know...</td>\n      <td>a close up of a bottle of body lotion on a table</td>\n      <td>ea160fb2263c1f1408c37ba20eb6cff0</td>\n      <td>/r/bathandbodyworks/comments/13c7x8w/keep_forg...</td>\n      <td>https://i.redd.it/xv859cj8cqya1.jpg</td>\n      <td>13c7x8w.jpg</td>\n      <td>data/image/13c7x8w.jpg</td>\n      <td>CandleDiffusion</td>\n      <td>True</td>\n      <td>True</td>\n      <td>False</td>\n      <td>[]</td>\n    </tr>\n  </tbody>\n</table>\n<p>36636 rows × 14 columns</p>\n</div>"
     },
     "metadata": {},
     "output_type": "display_data"
    },
    {
     "name": "stdout",
     "output_type": "stream",
     "text": [
      "CPU times: total: 766 ms\n",
      "Wall time: 906 ms\n"
     ]
    }
   ],
   "source": [
    "%%time\n",
    "\n",
    "curated_data = pandas.read_parquet(\"data/parquet/back.parquet\", engine='pyarrow', filesystem=file_system, schema=schema)\n",
    "curated_data.set_index('id', inplace=True)\n",
    "\n",
    "display(\"==== CURATED DATA ====\")\n",
    "display(curated_data.shape)\n",
    "display(curated_data)"
   ],
   "metadata": {
    "collapsed": false,
    "ExecuteTime": {
     "end_time": "2023-05-10T01:15:47.996643900Z",
     "start_time": "2023-05-10T01:15:47.867640300Z"
    }
   }
  },
  {
   "cell_type": "code",
   "execution_count": 6,
   "outputs": [
    {
     "data": {
      "text/plain": "'==== UPDATED EXTANT DATA ===='"
     },
     "metadata": {},
     "output_type": "display_data"
    },
    {
     "data": {
      "text/plain": "(41505, 15)"
     },
     "metadata": {},
     "output_type": "display_data"
    },
    {
     "data": {
      "text/plain": "            id subreddit                author   \n0      100rn7k  AmIhotAF          veritynicole  \\\n1      1013bdt  AmIhotAF           RaulDea9286   \n2      105mekt  AmIhotAF              lindaniz   \n3      105qvgl  AmIhotAF           CaitVLove11   \n4      105rpcj  AmIhotAF       Flashy-Desk1858   \n...        ...       ...                   ...   \n41500  131dso7      DLAH        Wallydinger123   \n41501  131eznp      DLAH          Long_dong111   \n41502  131g3am      DLAH       ThrownAwayMiles   \n41503  131jvcx      DLAH              robok212   \n41504  131n2by      DLAH  Dependent_Secret9424   \n\n                                                title   \n0                 hey, hows your new year going (23F)  \\\n1                                       36F - ITALIAN   \n2      interesting in good forward relationship (f24)   \n3                           Laughing is my favorite 😆   \n4            [f22] What do you think when you see me?   \n...                                               ...   \n41500                                     Happy B Day   \n41501                                         Perfect   \n41502                              DLAH left or right   \n41503                                  Good morning 😍   \n41504                            Perfection (Sisters)   \n\n                                                 caption   \n0      a woman in a white shirt and black pants is po...  \\\n1                arafed image of a woman in a bikini top   \n2      a close up of a woman with red hair and a whit...   \n3      a woman in a blue tank top and shorts is smili...   \n4        a woman in a blue bikini top and a blue bra top   \n...                                                  ...   \n41500  there are three women posing for a picture in ...   \n41501  araffe woman in a white dress sitting on a pur...   \n41502  two women in short dresses posing for a pictur...   \n41503      araffe in a pink dress posing on a white wall   \n41504  two women in shorts and sandals taking a selfi...   \n\n                                   hash   \n0      4bd00c19fa0ff2ade855e6d364b0760b  \\\n1      7c0d158cba8654ef1c635cbc5471d597   \n2      ba4a0962cca2266a741e1e1700589c04   \n3      27bfe82c37314a0bcf02ab72eaf3a9e5   \n4      329eb42b8267fa1cc2980da8e48bcef1   \n...                                 ...   \n41500  ebb4b4a88dc79e2f2f57b10f32bf03c0   \n41501  5c944c6d62b1ae182c5a6a40c64195f4   \n41502  ab1f8fc33c85f4cfce12c810cf22229e   \n41503  01f5058855526ef25888cff88065db4c   \n41504  b162dd1999dbf9ea3c7adccd34624a46   \n\n                                               permalink   \n0      /r/AmIhotAF/comments/100rn7k/hey_hows_your_new...  \\\n1              /r/AmIhotAF/comments/1013bdt/36f_italian/   \n2      /r/AmIhotAF/comments/105mekt/interesting_in_go...   \n3      /r/AmIhotAF/comments/105qvgl/laughing_is_my_fa...   \n4      /r/AmIhotAF/comments/105rpcj/f22_what_do_you_t...   \n...                                                  ...   \n41500              /r/DLAH/comments/131dso7/happy_b_day/   \n41501                  /r/DLAH/comments/131eznp/perfect/   \n41502       /r/DLAH/comments/131g3am/dlah_left_or_right/   \n41503             /r/DLAH/comments/131jvcx/good_morning/   \n41504       /r/DLAH/comments/131n2by/perfection_sisters/   \n\n                              original_url   image_name   \n0      https://i.redd.it/n7r47s0gkh9a1.jpg  100rn7k.jpg  \\\n1      https://i.redd.it/bg0wwdlt5k9a1.jpg  1013bdt.jpg   \n2      https://i.redd.it/4avjshsz8naa1.jpg  105mekt.jpg   \n3      https://i.redd.it/2pulzr0lxmaa1.jpg  105qvgl.jpg   \n4      https://i.redd.it/rz68pf934naa1.jpg  105rpcj.jpg   \n...                                    ...          ...   \n41500  https://i.redd.it/36gurz533jwa1.jpg  131dso7.jpg   \n41501  https://i.redd.it/dnbbx4zucjwa1.jpg  131eznp.jpg   \n41502  https://i.redd.it/zpp70oor3lwa1.jpg  131g3am.jpg   \n41503  https://i.redd.it/ozmbfhjv3mwa1.jpg  131jvcx.jpg   \n41504  https://i.redd.it/pfg1u0aw1nwa1.jpg  131n2by.jpg   \n\n                         path                model exists curated accept tags  \n0      data/image/100rn7k.jpg        SexyDiffusion   True    True  False   []  \n1      data/image/1013bdt.jpg        SexyDiffusion   True    True   True   []  \n2      data/image/105mekt.jpg        SexyDiffusion   True    True   True   []  \n3      data/image/105qvgl.jpg        SexyDiffusion   True    True   True   []  \n4      data/image/105rpcj.jpg        SexyDiffusion   True    True   True   []  \n...                       ...                  ...    ...     ...    ...  ...  \n41500  data/image/131dso7.jpg  PrettyGirlDiffusion   True    True  False   []  \n41501  data/image/131eznp.jpg  PrettyGirlDiffusion   True    True   True   []  \n41502  data/image/131g3am.jpg  PrettyGirlDiffusion   True    True   True   []  \n41503  data/image/131jvcx.jpg  PrettyGirlDiffusion   True    True  False   []  \n41504  data/image/131n2by.jpg  PrettyGirlDiffusion   True    True  False   []  \n\n[41505 rows x 15 columns]",
      "text/html": "<div>\n<style scoped>\n    .dataframe tbody tr th:only-of-type {\n        vertical-align: middle;\n    }\n\n    .dataframe tbody tr th {\n        vertical-align: top;\n    }\n\n    .dataframe thead th {\n        text-align: right;\n    }\n</style>\n<table border=\"1\" class=\"dataframe\">\n  <thead>\n    <tr style=\"text-align: right;\">\n      <th></th>\n      <th>id</th>\n      <th>subreddit</th>\n      <th>author</th>\n      <th>title</th>\n      <th>caption</th>\n      <th>hash</th>\n      <th>permalink</th>\n      <th>original_url</th>\n      <th>image_name</th>\n      <th>path</th>\n      <th>model</th>\n      <th>exists</th>\n      <th>curated</th>\n      <th>accept</th>\n      <th>tags</th>\n    </tr>\n  </thead>\n  <tbody>\n    <tr>\n      <th>0</th>\n      <td>100rn7k</td>\n      <td>AmIhotAF</td>\n      <td>veritynicole</td>\n      <td>hey, hows your new year going (23F)</td>\n      <td>a woman in a white shirt and black pants is po...</td>\n      <td>4bd00c19fa0ff2ade855e6d364b0760b</td>\n      <td>/r/AmIhotAF/comments/100rn7k/hey_hows_your_new...</td>\n      <td>https://i.redd.it/n7r47s0gkh9a1.jpg</td>\n      <td>100rn7k.jpg</td>\n      <td>data/image/100rn7k.jpg</td>\n      <td>SexyDiffusion</td>\n      <td>True</td>\n      <td>True</td>\n      <td>False</td>\n      <td>[]</td>\n    </tr>\n    <tr>\n      <th>1</th>\n      <td>1013bdt</td>\n      <td>AmIhotAF</td>\n      <td>RaulDea9286</td>\n      <td>36F - ITALIAN</td>\n      <td>arafed image of a woman in a bikini top</td>\n      <td>7c0d158cba8654ef1c635cbc5471d597</td>\n      <td>/r/AmIhotAF/comments/1013bdt/36f_italian/</td>\n      <td>https://i.redd.it/bg0wwdlt5k9a1.jpg</td>\n      <td>1013bdt.jpg</td>\n      <td>data/image/1013bdt.jpg</td>\n      <td>SexyDiffusion</td>\n      <td>True</td>\n      <td>True</td>\n      <td>True</td>\n      <td>[]</td>\n    </tr>\n    <tr>\n      <th>2</th>\n      <td>105mekt</td>\n      <td>AmIhotAF</td>\n      <td>lindaniz</td>\n      <td>interesting in good forward relationship (f24)</td>\n      <td>a close up of a woman with red hair and a whit...</td>\n      <td>ba4a0962cca2266a741e1e1700589c04</td>\n      <td>/r/AmIhotAF/comments/105mekt/interesting_in_go...</td>\n      <td>https://i.redd.it/4avjshsz8naa1.jpg</td>\n      <td>105mekt.jpg</td>\n      <td>data/image/105mekt.jpg</td>\n      <td>SexyDiffusion</td>\n      <td>True</td>\n      <td>True</td>\n      <td>True</td>\n      <td>[]</td>\n    </tr>\n    <tr>\n      <th>3</th>\n      <td>105qvgl</td>\n      <td>AmIhotAF</td>\n      <td>CaitVLove11</td>\n      <td>Laughing is my favorite 😆</td>\n      <td>a woman in a blue tank top and shorts is smili...</td>\n      <td>27bfe82c37314a0bcf02ab72eaf3a9e5</td>\n      <td>/r/AmIhotAF/comments/105qvgl/laughing_is_my_fa...</td>\n      <td>https://i.redd.it/2pulzr0lxmaa1.jpg</td>\n      <td>105qvgl.jpg</td>\n      <td>data/image/105qvgl.jpg</td>\n      <td>SexyDiffusion</td>\n      <td>True</td>\n      <td>True</td>\n      <td>True</td>\n      <td>[]</td>\n    </tr>\n    <tr>\n      <th>4</th>\n      <td>105rpcj</td>\n      <td>AmIhotAF</td>\n      <td>Flashy-Desk1858</td>\n      <td>[f22] What do you think when you see me?</td>\n      <td>a woman in a blue bikini top and a blue bra top</td>\n      <td>329eb42b8267fa1cc2980da8e48bcef1</td>\n      <td>/r/AmIhotAF/comments/105rpcj/f22_what_do_you_t...</td>\n      <td>https://i.redd.it/rz68pf934naa1.jpg</td>\n      <td>105rpcj.jpg</td>\n      <td>data/image/105rpcj.jpg</td>\n      <td>SexyDiffusion</td>\n      <td>True</td>\n      <td>True</td>\n      <td>True</td>\n      <td>[]</td>\n    </tr>\n    <tr>\n      <th>...</th>\n      <td>...</td>\n      <td>...</td>\n      <td>...</td>\n      <td>...</td>\n      <td>...</td>\n      <td>...</td>\n      <td>...</td>\n      <td>...</td>\n      <td>...</td>\n      <td>...</td>\n      <td>...</td>\n      <td>...</td>\n      <td>...</td>\n      <td>...</td>\n      <td>...</td>\n    </tr>\n    <tr>\n      <th>41500</th>\n      <td>131dso7</td>\n      <td>DLAH</td>\n      <td>Wallydinger123</td>\n      <td>Happy B Day</td>\n      <td>there are three women posing for a picture in ...</td>\n      <td>ebb4b4a88dc79e2f2f57b10f32bf03c0</td>\n      <td>/r/DLAH/comments/131dso7/happy_b_day/</td>\n      <td>https://i.redd.it/36gurz533jwa1.jpg</td>\n      <td>131dso7.jpg</td>\n      <td>data/image/131dso7.jpg</td>\n      <td>PrettyGirlDiffusion</td>\n      <td>True</td>\n      <td>True</td>\n      <td>False</td>\n      <td>[]</td>\n    </tr>\n    <tr>\n      <th>41501</th>\n      <td>131eznp</td>\n      <td>DLAH</td>\n      <td>Long_dong111</td>\n      <td>Perfect</td>\n      <td>araffe woman in a white dress sitting on a pur...</td>\n      <td>5c944c6d62b1ae182c5a6a40c64195f4</td>\n      <td>/r/DLAH/comments/131eznp/perfect/</td>\n      <td>https://i.redd.it/dnbbx4zucjwa1.jpg</td>\n      <td>131eznp.jpg</td>\n      <td>data/image/131eznp.jpg</td>\n      <td>PrettyGirlDiffusion</td>\n      <td>True</td>\n      <td>True</td>\n      <td>True</td>\n      <td>[]</td>\n    </tr>\n    <tr>\n      <th>41502</th>\n      <td>131g3am</td>\n      <td>DLAH</td>\n      <td>ThrownAwayMiles</td>\n      <td>DLAH left or right</td>\n      <td>two women in short dresses posing for a pictur...</td>\n      <td>ab1f8fc33c85f4cfce12c810cf22229e</td>\n      <td>/r/DLAH/comments/131g3am/dlah_left_or_right/</td>\n      <td>https://i.redd.it/zpp70oor3lwa1.jpg</td>\n      <td>131g3am.jpg</td>\n      <td>data/image/131g3am.jpg</td>\n      <td>PrettyGirlDiffusion</td>\n      <td>True</td>\n      <td>True</td>\n      <td>True</td>\n      <td>[]</td>\n    </tr>\n    <tr>\n      <th>41503</th>\n      <td>131jvcx</td>\n      <td>DLAH</td>\n      <td>robok212</td>\n      <td>Good morning 😍</td>\n      <td>araffe in a pink dress posing on a white wall</td>\n      <td>01f5058855526ef25888cff88065db4c</td>\n      <td>/r/DLAH/comments/131jvcx/good_morning/</td>\n      <td>https://i.redd.it/ozmbfhjv3mwa1.jpg</td>\n      <td>131jvcx.jpg</td>\n      <td>data/image/131jvcx.jpg</td>\n      <td>PrettyGirlDiffusion</td>\n      <td>True</td>\n      <td>True</td>\n      <td>False</td>\n      <td>[]</td>\n    </tr>\n    <tr>\n      <th>41504</th>\n      <td>131n2by</td>\n      <td>DLAH</td>\n      <td>Dependent_Secret9424</td>\n      <td>Perfection (Sisters)</td>\n      <td>two women in shorts and sandals taking a selfi...</td>\n      <td>b162dd1999dbf9ea3c7adccd34624a46</td>\n      <td>/r/DLAH/comments/131n2by/perfection_sisters/</td>\n      <td>https://i.redd.it/pfg1u0aw1nwa1.jpg</td>\n      <td>131n2by.jpg</td>\n      <td>data/image/131n2by.jpg</td>\n      <td>PrettyGirlDiffusion</td>\n      <td>True</td>\n      <td>True</td>\n      <td>False</td>\n      <td>[]</td>\n    </tr>\n  </tbody>\n</table>\n<p>41505 rows × 15 columns</p>\n</div>"
     },
     "metadata": {},
     "output_type": "display_data"
    },
    {
     "name": "stdout",
     "output_type": "stream",
     "text": [
      "CPU times: total: 859 ms\n",
      "Wall time: 4.09 s\n"
     ]
    }
   ],
   "source": [
    "%%time\n",
    "\n",
    "extant_data.update(curated_data)\n",
    "updated_extant_data = extant_data.reset_index()\n",
    "\n",
    "display(\"==== UPDATED EXTANT DATA ====\")\n",
    "display(updated_extant_data.shape)\n",
    "display(updated_extant_data)\n",
    "updated_extant_data.to_parquet(\"data/processed_raw_data.parquet\", engine='pyarrow', filesystem=file_system, schema=schema)"
   ],
   "metadata": {
    "collapsed": false,
    "ExecuteTime": {
     "end_time": "2023-05-10T01:15:47.997638500Z",
     "start_time": "2023-05-10T01:15:47.868643200Z"
    }
   }
  },
  {
   "cell_type": "code",
   "execution_count": 7,
   "outputs": [
    {
     "name": "stdout",
     "output_type": "stream",
     "text": [
      "CPU times: total: 109 ms\n",
      "Wall time: 190 ms\n"
     ]
    }
   ],
   "source": [
    "%%time\n",
    "\n",
    "reddit: praw.Reddit = praw.Reddit(client_id='5hVavL0PIRyM_1JSvqT6UQ', client_secret='BjD2kS3WNLnJc59RKY-JJUuc_Z9-JA', user_agent='script:%(bot_name)s:v%(bot_version)s (by /u/%(bot_author)s)')"
   ],
   "metadata": {
    "collapsed": false,
    "ExecuteTime": {
     "end_time": "2023-05-10T01:15:47.997638500Z",
     "start_time": "2023-05-10T01:15:47.869641100Z"
    }
   }
  },
  {
   "cell_type": "code",
   "execution_count": 8,
   "outputs": [
    {
     "name": "stderr",
     "output_type": "stream",
     "text": [
      "Creating Temp Dir For Subs...: 100%|██████████| 17/17 [00:00<00:00, 2389.76it/s]\n"
     ]
    }
   ],
   "source": [
    "for sub in tqdm(subs, total=len(subs), desc=\"Creating Temp Dir For Subs...\"):\n",
    "\ttemp_dir_path_ = f\"temp/{sub}\"\n",
    "\tif not os.path.exists(temp_dir_path_):\n",
    "\t\tos.makedirs(temp_dir_path_)\n",
    "\tos.makedirs(temp_dir_path_, exist_ok=True)"
   ],
   "metadata": {
    "collapsed": false,
    "ExecuteTime": {
     "end_time": "2023-05-10T01:15:47.998639100Z",
     "start_time": "2023-05-10T01:15:47.869641100Z"
    }
   }
  },
  {
   "cell_type": "code",
   "execution_count": 9,
   "outputs": [
    {
     "name": "stderr",
     "output_type": "stream",
     "text": [
      "week:   0%|          | 0/17 [00:00<?, ?it/s]\n",
      "Posts - SFWRedheads - week:   0%|          | 0/100 [00:00<?, ?it/s]\u001B[A\n",
      "Posts - SFWRedheads - week:   7%|▋         | 7/100 [00:00<00:01, 69.31it/s]\u001B[A\n",
      "Posts - SFWRedheads - week:  14%|█▍        | 14/100 [00:00<00:01, 61.75it/s]\u001B[A\n",
      "Posts - SFWRedheads - week:  21%|██        | 21/100 [00:00<00:01, 60.14it/s]\u001B[A\n",
      "Posts - SFWRedheads - week:  28%|██▊       | 28/100 [00:00<00:01, 59.41it/s]\u001B[A\n",
      "Posts - SFWRedheads - week:  34%|███▍      | 34/100 [00:00<00:01, 55.98it/s]\u001B[A\n",
      "Posts - SFWRedheads - week:  40%|████      | 40/100 [00:00<00:01, 56.18it/s]\u001B[A\n",
      "Posts - SFWRedheads - week:  47%|████▋     | 47/100 [00:00<00:01, 51.15it/s]\u001B[A\n",
      "Posts - SFWRedheads - week:  53%|█████▎    | 53/100 [00:00<00:00, 52.94it/s]\u001B[A\n",
      "Posts - SFWRedheads - week:  59%|█████▉    | 59/100 [00:01<00:00, 47.03it/s]\u001B[A\n",
      "Posts - SFWRedheads - week:  64%|██████▍   | 64/100 [00:01<00:00, 42.94it/s]\u001B[A\n",
      "Posts - SFWRedheads - week:  72%|███████▏  | 72/100 [00:01<00:00, 50.13it/s]\u001B[A\n",
      "Posts - SFWRedheads - week:  78%|███████▊  | 78/100 [00:01<00:00, 50.82it/s]\u001B[A\n",
      "Posts - SFWRedheads - week:  84%|████████▍ | 84/100 [00:01<00:00, 52.57it/s]\u001B[A\n",
      "Posts - SFWRedheads - week:  90%|█████████ | 90/100 [00:01<00:00, 50.89it/s]\u001B[A\n",
      "Posts - SFWRedheads - week: 100%|██████████| 100/100 [00:01<00:00, 54.16it/s][A\n",
      "week:   6%|▌         | 1/17 [00:03<00:59,  3.71s/it]\n",
      "Posts - sfwpetite - week:   0%|          | 0/33 [00:00<?, ?it/s]\u001B[A\n",
      "Posts - sfwpetite - week:  27%|██▋       | 9/33 [00:00<00:00, 78.95it/s]\u001B[A\n",
      "Posts - sfwpetite - week:  52%|█████▏    | 17/33 [00:00<00:00, 53.00it/s]\u001B[A\n",
      "Posts - sfwpetite - week:  70%|██████▉   | 23/33 [00:00<00:00, 49.74it/s]\u001B[A\n",
      "Posts - sfwpetite - week: 100%|██████████| 33/33 [00:00<00:00, 46.35it/s]\u001B[A\n",
      "week:  12%|█▏        | 2/17 [00:05<00:35,  2.35s/it]\n",
      "Posts - SFWNextDoorGirls - week:   0%|          | 0/100 [00:00<?, ?it/s]\u001B[A\n",
      "Posts - SFWNextDoorGirls - week:   6%|▌         | 6/100 [00:00<00:01, 49.18it/s]\u001B[A\n",
      "Posts - SFWNextDoorGirls - week:  11%|█         | 11/100 [00:00<00:01, 46.14it/s]\u001B[A\n",
      "Posts - SFWNextDoorGirls - week:  18%|█▊        | 18/100 [00:00<00:01, 55.40it/s]\u001B[A\n",
      "Posts - SFWNextDoorGirls - week:  24%|██▍       | 24/100 [00:00<00:01, 41.66it/s]\u001B[A\n",
      "Posts - SFWNextDoorGirls - week:  30%|███       | 30/100 [00:00<00:01, 46.39it/s]\u001B[A\n",
      "Posts - SFWNextDoorGirls - week:  37%|███▋      | 37/100 [00:00<00:01, 49.69it/s]\u001B[A\n",
      "Posts - SFWNextDoorGirls - week:  45%|████▌     | 45/100 [00:00<00:00, 55.14it/s]\u001B[A\n",
      "Posts - SFWNextDoorGirls - week:  51%|█████     | 51/100 [00:01<00:00, 51.18it/s]\u001B[A\n",
      "Posts - SFWNextDoorGirls - week:  57%|█████▋    | 57/100 [00:01<00:00, 53.20it/s]\u001B[A\n",
      "Posts - SFWNextDoorGirls - week:  63%|██████▎   | 63/100 [00:01<00:00, 54.01it/s]\u001B[A\n",
      "Posts - SFWNextDoorGirls - week:  69%|██████▉   | 69/100 [00:01<00:00, 49.54it/s]\u001B[A\n",
      "Posts - SFWNextDoorGirls - week:  76%|███████▌  | 76/100 [00:01<00:00, 47.78it/s]\u001B[A\n",
      "Posts - SFWNextDoorGirls - week:  82%|████████▏ | 82/100 [00:01<00:00, 47.85it/s]\u001B[A\n",
      "Posts - SFWNextDoorGirls - week:  87%|████████▋ | 87/100 [00:01<00:00, 47.67it/s]\u001B[A\n",
      "Posts - SFWNextDoorGirls - week: 100%|██████████| 100/100 [00:01<00:00, 50.71it/s][A\n",
      "week:  18%|█▊        | 3/17 [00:08<00:39,  2.79s/it]\n",
      "Posts - fatsquirrelhate - week:   0%|          | 0/100 [00:00<?, ?it/s]\u001B[A\n",
      "Posts - fatsquirrelhate - week:  10%|█         | 10/100 [00:00<00:00, 99.01it/s]\u001B[A\n",
      "Posts - fatsquirrelhate - week:  20%|██        | 20/100 [00:00<00:01, 58.28it/s]\u001B[A\n",
      "Posts - fatsquirrelhate - week:  27%|██▋       | 27/100 [00:00<00:01, 52.91it/s]\u001B[A\n",
      "Posts - fatsquirrelhate - week:  33%|███▎      | 33/100 [00:00<00:01, 51.97it/s]\u001B[A\n",
      "Posts - fatsquirrelhate - week:  44%|████▍     | 44/100 [00:00<00:00, 63.86it/s]\u001B[A\n",
      "Posts - fatsquirrelhate - week:  51%|█████     | 51/100 [00:00<00:00, 61.21it/s]\u001B[A\n",
      "Posts - fatsquirrelhate - week:  58%|█████▊    | 58/100 [00:00<00:00, 62.55it/s]\u001B[A\n",
      "Posts - fatsquirrelhate - week:  65%|██████▌   | 65/100 [00:01<00:00, 58.09it/s]\u001B[A\n",
      "Posts - fatsquirrelhate - week:  72%|███████▏  | 72/100 [00:01<00:00, 58.16it/s]\u001B[A\n",
      "Posts - fatsquirrelhate - week:  78%|███████▊  | 78/100 [00:01<00:00, 52.01it/s]\u001B[A\n",
      "Posts - fatsquirrelhate - week:  87%|████████▋ | 87/100 [00:01<00:00, 59.37it/s]\u001B[A\n",
      "Posts - fatsquirrelhate - week:  94%|█████████▍| 94/100 [00:01<00:00, 46.53it/s]\u001B[A\n",
      "Posts - fatsquirrelhate - week: 100%|██████████| 100/100 [00:01<00:00, 52.94it/s]\u001B[A\n",
      "week:  24%|██▎       | 4/17 [00:12<00:40,  3.11s/it]\n",
      "Posts - realasians - week:   0%|          | 0/100 [00:00<?, ?it/s]\u001B[A\n",
      "Posts - realasians - week:   6%|▌         | 6/100 [00:00<00:01, 58.25it/s]\u001B[A\n",
      "Posts - realasians - week:  12%|█▏        | 12/100 [00:00<00:02, 40.46it/s]\u001B[A\n",
      "Posts - realasians - week:  17%|█▋        | 17/100 [00:00<00:02, 37.30it/s]\u001B[A\n",
      "Posts - realasians - week:  23%|██▎       | 23/100 [00:00<00:01, 43.56it/s]\u001B[A\n",
      "Posts - realasians - week:  30%|███       | 30/100 [00:00<00:01, 48.45it/s]\u001B[A\n",
      "Posts - realasians - week:  36%|███▌      | 36/100 [00:00<00:01, 43.62it/s]\u001B[A\n",
      "Posts - realasians - week:  41%|████      | 41/100 [00:01<00:01, 34.59it/s]\u001B[A\n",
      "Posts - realasians - week:  45%|████▌     | 45/100 [00:01<00:01, 28.23it/s]\u001B[A\n",
      "Posts - realasians - week:  49%|████▉     | 49/100 [00:01<00:01, 30.08it/s]\u001B[A\n",
      "Posts - realasians - week:  53%|█████▎    | 53/100 [00:01<00:01, 31.29it/s]\u001B[A\n",
      "Posts - realasians - week:  57%|█████▋    | 57/100 [00:01<00:01, 32.93it/s]\u001B[A\n",
      "Posts - realasians - week:  64%|██████▍   | 64/100 [00:01<00:00, 42.08it/s]\u001B[A\n",
      "Posts - realasians - week:  71%|███████   | 71/100 [00:01<00:00, 47.98it/s]\u001B[A\n",
      "Posts - realasians - week:  77%|███████▋  | 77/100 [00:01<00:00, 50.64it/s]\u001B[A\n",
      "Posts - realasians - week:  83%|████████▎ | 83/100 [00:02<00:00, 46.58it/s]\u001B[A\n",
      "Posts - realasians - week:  89%|████████▉ | 89/100 [00:02<00:00, 44.50it/s]\u001B[A\n",
      "Posts - realasians - week: 100%|██████████| 100/100 [00:02<00:00, 40.93it/s][A\n",
      "week:  29%|██▉       | 5/17 [00:16<00:41,  3.46s/it]\n",
      "Posts - KoreanHotties - week:   0%|          | 0/100 [00:00<?, ?it/s]\u001B[A\n",
      "Posts - KoreanHotties - week:   5%|▌         | 5/100 [00:00<00:02, 45.16it/s]\u001B[A\n",
      "Posts - KoreanHotties - week:  10%|█         | 10/100 [00:00<00:02, 38.59it/s]\u001B[A\n",
      "Posts - KoreanHotties - week:  16%|█▌        | 16/100 [00:00<00:01, 45.34it/s]\u001B[A\n",
      "Posts - KoreanHotties - week:  22%|██▏       | 22/100 [00:00<00:01, 48.88it/s]\u001B[A\n",
      "Posts - KoreanHotties - week:  27%|██▋       | 27/100 [00:00<00:01, 47.78it/s]\u001B[A\n",
      "Posts - KoreanHotties - week:  32%|███▏      | 32/100 [00:00<00:01, 38.08it/s]\u001B[A\n",
      "Posts - KoreanHotties - week:  37%|███▋      | 37/100 [00:00<00:01, 40.24it/s]\u001B[A\n",
      "Posts - KoreanHotties - week:  42%|████▏     | 42/100 [00:01<00:01, 30.56it/s]\u001B[A\n",
      "Posts - KoreanHotties - week:  46%|████▌     | 46/100 [00:01<00:01, 28.87it/s]\u001B[A\n",
      "Posts - KoreanHotties - week:  50%|█████     | 50/100 [00:01<00:01, 27.23it/s]\u001B[A\n",
      "Posts - KoreanHotties - week:  53%|█████▎    | 53/100 [00:01<00:01, 24.97it/s]\u001B[A\n",
      "Posts - KoreanHotties - week:  57%|█████▋    | 57/100 [00:01<00:01, 26.05it/s]\u001B[A\n",
      "Posts - KoreanHotties - week:  61%|██████    | 61/100 [00:01<00:01, 28.89it/s]\u001B[A\n",
      "Posts - KoreanHotties - week:  65%|██████▌   | 65/100 [00:01<00:01, 30.65it/s]\u001B[A\n",
      "Posts - KoreanHotties - week:  69%|██████▉   | 69/100 [00:02<00:00, 32.23it/s]\u001B[A\n",
      "Posts - KoreanHotties - week:  73%|███████▎  | 73/100 [00:02<00:00, 33.25it/s]\u001B[A\n",
      "Posts - KoreanHotties - week:  79%|███████▉  | 79/100 [00:02<00:00, 39.18it/s]\u001B[A\n",
      "Posts - KoreanHotties - week:  84%|████████▍ | 84/100 [00:02<00:00, 36.61it/s]\u001B[A\n",
      "Posts - KoreanHotties - week:  88%|████████▊ | 88/100 [00:02<00:00, 35.76it/s]\u001B[A\n",
      "Posts - KoreanHotties - week:  93%|█████████▎| 93/100 [00:02<00:00, 37.76it/s]\u001B[A\n",
      "Posts - KoreanHotties - week: 100%|██████████| 100/100 [00:02<00:00, 35.11it/s][A\n",
      "week:  35%|███▌      | 6/17 [00:20<00:41,  3.76s/it]\n",
      "Posts - prettyasiangirls - week:   0%|          | 0/100 [00:00<?, ?it/s]\u001B[A\n",
      "Posts - prettyasiangirls - week:   7%|▋         | 7/100 [00:00<00:01, 63.73it/s]\u001B[A\n",
      "Posts - prettyasiangirls - week:  14%|█▍        | 14/100 [00:00<00:01, 52.25it/s]\u001B[A\n",
      "Posts - prettyasiangirls - week:  20%|██        | 20/100 [00:00<00:01, 52.12it/s]\u001B[A\n",
      "Posts - prettyasiangirls - week:  26%|██▌       | 26/100 [00:00<00:01, 45.62it/s]\u001B[A\n",
      "Posts - prettyasiangirls - week:  31%|███       | 31/100 [00:00<00:01, 45.49it/s]\u001B[A\n",
      "Posts - prettyasiangirls - week:  37%|███▋      | 37/100 [00:00<00:01, 48.45it/s]\u001B[A\n",
      "Posts - prettyasiangirls - week:  42%|████▏     | 42/100 [00:00<00:01, 47.47it/s]\u001B[A\n",
      "Posts - prettyasiangirls - week:  47%|████▋     | 47/100 [00:01<00:01, 43.40it/s]\u001B[A\n",
      "Posts - prettyasiangirls - week:  52%|█████▏    | 52/100 [00:01<00:01, 39.26it/s]\u001B[A\n",
      "Posts - prettyasiangirls - week:  58%|█████▊    | 58/100 [00:01<00:00, 43.28it/s]\u001B[A\n",
      "Posts - prettyasiangirls - week:  63%|██████▎   | 63/100 [00:01<00:00, 39.53it/s]\u001B[A\n",
      "Posts - prettyasiangirls - week:  68%|██████▊   | 68/100 [00:01<00:00, 36.91it/s]\u001B[A\n",
      "Posts - prettyasiangirls - week:  73%|███████▎  | 73/100 [00:01<00:00, 36.27it/s]\u001B[A\n",
      "Posts - prettyasiangirls - week:  77%|███████▋  | 77/100 [00:01<00:00, 36.20it/s]\u001B[A\n",
      "Posts - prettyasiangirls - week:  86%|████████▌ | 86/100 [00:01<00:00, 48.12it/s]\u001B[A\n",
      "Posts - prettyasiangirls - week:  92%|█████████▏| 92/100 [00:02<00:00, 49.61it/s]\u001B[A\n",
      "Posts - prettyasiangirls - week: 100%|██████████| 100/100 [00:02<00:00, 44.65it/s][A\n",
      "week:  41%|████      | 7/17 [00:24<00:37,  3.73s/it]\n",
      "Posts - AsianOfficeLady - week:   0%|          | 0/12 [00:00<?, ?it/s]\u001B[A\n",
      "Posts - AsianOfficeLady - week: 100%|██████████| 12/12 [00:00<00:00, 61.86it/s]\u001B[A\n",
      "week:  47%|████▋     | 8/17 [00:24<00:24,  2.67s/it]\n",
      "Posts - mildlypenis - week:   0%|          | 0/100 [00:00<?, ?it/s]\u001B[A\n",
      "Posts - mildlypenis - week:   6%|▌         | 6/100 [00:00<00:01, 57.14it/s]\u001B[A\n",
      "Posts - mildlypenis - week:  12%|█▏        | 12/100 [00:00<00:01, 54.69it/s]\u001B[A\n",
      "Posts - mildlypenis - week:  18%|█▊        | 18/100 [00:00<00:01, 45.07it/s]\u001B[A\n",
      "Posts - mildlypenis - week:  26%|██▌       | 26/100 [00:00<00:01, 50.57it/s]\u001B[A\n",
      "Posts - mildlypenis - week:  33%|███▎      | 33/100 [00:00<00:01, 52.01it/s]\u001B[A\n",
      "Posts - mildlypenis - week:  39%|███▉      | 39/100 [00:00<00:01, 49.27it/s]\u001B[A\n",
      "Posts - mildlypenis - week:  48%|████▊     | 48/100 [00:00<00:00, 59.99it/s]\u001B[A\n",
      "Posts - mildlypenis - week:  55%|█████▌    | 55/100 [00:01<00:00, 53.21it/s]\u001B[A\n",
      "Posts - mildlypenis - week:  61%|██████    | 61/100 [00:01<00:00, 52.76it/s]\u001B[A\n",
      "Posts - mildlypenis - week:  70%|███████   | 70/100 [00:01<00:00, 60.00it/s]\u001B[A\n",
      "Posts - mildlypenis - week:  77%|███████▋  | 77/100 [00:01<00:00, 61.44it/s]\u001B[A\n",
      "Posts - mildlypenis - week:  84%|████████▍ | 84/100 [00:01<00:00, 55.34it/s]\u001B[A\n",
      "Posts - mildlypenis - week:  90%|█████████ | 90/100 [00:01<00:00, 52.16it/s]\u001B[A\n",
      "Posts - mildlypenis - week: 100%|██████████| 100/100 [00:01<00:00, 53.83it/s][A\n",
      "week:  53%|█████▎    | 9/17 [00:27<00:23,  2.88s/it]\n",
      "Posts - AsianInvasion - week:   0%|          | 0/16 [00:00<?, ?it/s]\u001B[A\n",
      "Posts - AsianInvasion - week: 100%|██████████| 16/16 [00:00<00:00, 76.18it/s]\u001B[A\n",
      "week:  59%|█████▉    | 10/17 [00:28<00:15,  2.22s/it]\n",
      "Posts - sexygirls - week:   0%|          | 0/87 [00:00<?, ?it/s]\u001B[A\n",
      "Posts - sexygirls - week:   9%|▉         | 8/87 [00:00<00:01, 50.80it/s]\u001B[A\n",
      "Posts - sexygirls - week:  16%|█▌        | 14/87 [00:00<00:01, 43.35it/s]\u001B[A\n",
      "Posts - sexygirls - week:  22%|██▏       | 19/87 [00:00<00:01, 45.07it/s]\u001B[A\n",
      "Posts - sexygirls - week:  30%|██▉       | 26/87 [00:00<00:01, 50.76it/s]\u001B[A\n",
      "Posts - sexygirls - week:  41%|████▏     | 36/87 [00:00<00:00, 62.40it/s]\u001B[A\n",
      "Posts - sexygirls - week:  49%|████▉     | 43/87 [00:00<00:00, 63.78it/s]\u001B[A\n",
      "Posts - sexygirls - week:  57%|█████▋    | 50/87 [00:00<00:00, 56.91it/s]\u001B[A\n",
      "Posts - sexygirls - week:  66%|██████▌   | 57/87 [00:01<00:00, 59.33it/s]\u001B[A\n",
      "Posts - sexygirls - week:  75%|███████▍  | 65/87 [00:01<00:00, 59.02it/s]\u001B[A\n",
      "Posts - sexygirls - week:  87%|████████▋ | 76/87 [00:01<00:00, 71.86it/s]\u001B[A\n",
      "Posts - sexygirls - week: 100%|██████████| 87/87 [00:01<00:00, 57.59it/s]\u001B[A\n",
      "week:  65%|██████▍   | 11/17 [00:30<00:13,  2.23s/it]\n",
      "Posts - PrettyGirls - week:   0%|          | 0/77 [00:00<?, ?it/s]\u001B[A\n",
      "Posts - PrettyGirls - week:   6%|▋         | 5/77 [00:00<00:01, 48.13it/s]\u001B[A\n",
      "Posts - PrettyGirls - week:  16%|█▌        | 12/77 [00:00<00:01, 59.75it/s]\u001B[A\n",
      "Posts - PrettyGirls - week:  25%|██▍       | 19/77 [00:00<00:00, 58.57it/s]\u001B[A\n",
      "Posts - PrettyGirls - week:  32%|███▏      | 25/77 [00:00<00:00, 57.20it/s]\u001B[A\n",
      "Posts - PrettyGirls - week:  40%|████      | 31/77 [00:00<00:00, 56.80it/s]\u001B[A\n",
      "Posts - PrettyGirls - week:  48%|████▊     | 37/77 [00:00<00:00, 50.23it/s]\u001B[A\n",
      "Posts - PrettyGirls - week:  56%|█████▌    | 43/77 [00:00<00:00, 50.12it/s]\u001B[A\n",
      "Posts - PrettyGirls - week:  71%|███████▏  | 55/77 [00:00<00:00, 65.82it/s]\u001B[A\n",
      "Posts - PrettyGirls - week:  81%|████████  | 62/77 [00:01<00:00, 54.24it/s]\u001B[A\n",
      "Posts - PrettyGirls - week:  91%|█████████ | 70/77 [00:01<00:00, 54.19it/s]\u001B[A\n",
      "Posts - PrettyGirls - week: 100%|██████████| 77/77 [00:01<00:00, 52.57it/s]\u001B[A\n",
      "week:  71%|███████   | 12/17 [00:32<00:10,  2.17s/it]\n",
      "Posts - gentlemanboners - week:   0%|          | 0/100 [00:00<?, ?it/s]\u001B[A\n",
      "Posts - gentlemanboners - week:   7%|▋         | 7/100 [00:00<00:02, 44.89it/s]\u001B[A\n",
      "Posts - gentlemanboners - week:  15%|█▌        | 15/100 [00:00<00:01, 59.16it/s]\u001B[A\n",
      "Posts - gentlemanboners - week:  22%|██▏       | 22/100 [00:00<00:01, 60.71it/s]\u001B[A\n",
      "Posts - gentlemanboners - week:  29%|██▉       | 29/100 [00:00<00:01, 54.16it/s]\u001B[A\n",
      "Posts - gentlemanboners - week:  37%|███▋      | 37/100 [00:00<00:01, 57.66it/s]\u001B[A\n",
      "Posts - gentlemanboners - week:  44%|████▍     | 44/100 [00:00<00:00, 57.79it/s]\u001B[A\n",
      "Posts - gentlemanboners - week:  51%|█████     | 51/100 [00:00<00:00, 56.54it/s]\u001B[A\n",
      "Posts - gentlemanboners - week:  58%|█████▊    | 58/100 [00:01<00:00, 58.43it/s]\u001B[A\n",
      "Posts - gentlemanboners - week:  64%|██████▍   | 64/100 [00:01<00:00, 56.85it/s]\u001B[A\n",
      "Posts - gentlemanboners - week:  70%|███████   | 70/100 [00:01<00:00, 49.72it/s]\u001B[A\n",
      "Posts - gentlemanboners - week:  76%|███████▌  | 76/100 [00:01<00:00, 45.76it/s]\u001B[A\n",
      "Posts - gentlemanboners - week:  84%|████████▍ | 84/100 [00:01<00:00, 51.67it/s]\u001B[A\n",
      "Posts - gentlemanboners - week:  90%|█████████ | 90/100 [00:01<00:00, 52.71it/s]\u001B[A\n",
      "Posts - gentlemanboners - week: 100%|██████████| 100/100 [00:01<00:00, 51.57it/s][A\n",
      "week:  76%|███████▋  | 13/17 [00:35<00:09,  2.42s/it]\n",
      "Posts - hotofficegirls - week:   0%|          | 0/14 [00:00<?, ?it/s]\u001B[A\n",
      "Posts - hotofficegirls - week:  50%|█████     | 7/14 [00:00<00:00, 69.31it/s]\u001B[A\n",
      "Posts - hotofficegirls - week: 100%|██████████| 14/14 [00:00<00:00, 56.63it/s]\u001B[A\n",
      "week:  82%|████████▏ | 14/17 [00:36<00:05,  1.86s/it]\n",
      "Posts - tightdresses - week:   0%|          | 0/100 [00:00<?, ?it/s]\u001B[A\n",
      "Posts - tightdresses - week:   4%|▍         | 4/100 [00:00<00:03, 25.49it/s]\u001B[A\n",
      "Posts - tightdresses - week:   7%|▋         | 7/100 [00:00<00:03, 26.22it/s]\u001B[A\n",
      "Posts - tightdresses - week:  13%|█▎        | 13/100 [00:00<00:02, 29.78it/s]\u001B[A\n",
      "Posts - tightdresses - week:  17%|█▋        | 17/100 [00:00<00:02, 31.08it/s]\u001B[A\n",
      "Posts - tightdresses - week:  24%|██▍       | 24/100 [00:00<00:02, 36.49it/s]\u001B[A\n",
      "Posts - tightdresses - week:  28%|██▊       | 28/100 [00:00<00:02, 33.65it/s]\u001B[A\n",
      "Posts - tightdresses - week:  35%|███▌      | 35/100 [00:00<00:01, 40.09it/s]\u001B[A\n",
      "Posts - tightdresses - week:  40%|████      | 40/100 [00:01<00:01, 36.96it/s]\u001B[A\n",
      "Posts - tightdresses - week:  45%|████▌     | 45/100 [00:01<00:01, 40.00it/s]\u001B[A\n",
      "Posts - tightdresses - week:  50%|█████     | 50/100 [00:01<00:01, 38.38it/s]\u001B[A\n",
      "Posts - tightdresses - week:  56%|█████▌    | 56/100 [00:01<00:01, 42.02it/s]\u001B[A\n",
      "Posts - tightdresses - week:  63%|██████▎   | 63/100 [00:01<00:00, 45.38it/s]\u001B[A\n",
      "Posts - tightdresses - week:  69%|██████▉   | 69/100 [00:01<00:00, 46.13it/s]\u001B[A\n",
      "Posts - tightdresses - week:  74%|███████▍  | 74/100 [00:01<00:00, 43.06it/s]\u001B[A\n",
      "Posts - tightdresses - week:  80%|████████  | 80/100 [00:02<00:00, 41.68it/s]\u001B[A\n",
      "Posts - tightdresses - week:  87%|████████▋ | 87/100 [00:02<00:00, 47.18it/s]\u001B[A\n",
      "Posts - tightdresses - week:  93%|█████████▎| 93/100 [00:02<00:00, 48.25it/s]\u001B[A\n",
      "Posts - tightdresses - week: 100%|██████████| 100/100 [00:02<00:00, 40.27it/s][A\n",
      "week:  88%|████████▊ | 15/17 [00:40<00:04,  2.43s/it]\n",
      "Posts - DLAH - week:   0%|          | 0/100 [00:00<?, ?it/s]\u001B[A\n",
      "Posts - DLAH - week:   3%|▎         | 3/100 [00:00<00:04, 23.50it/s]\u001B[A\n",
      "Posts - DLAH - week:   9%|▉         | 9/100 [00:00<00:02, 40.07it/s]\u001B[A\n",
      "Posts - DLAH - week:  14%|█▍        | 14/100 [00:00<00:02, 41.75it/s]\u001B[A\n",
      "Posts - DLAH - week:  20%|██        | 20/100 [00:00<00:01, 43.16it/s]\u001B[A\n",
      "Posts - DLAH - week:  25%|██▌       | 25/100 [00:00<00:01, 42.47it/s]\u001B[A\n",
      "Posts - DLAH - week:  32%|███▏      | 32/100 [00:00<00:01, 44.86it/s]\u001B[A\n",
      "Posts - DLAH - week:  37%|███▋      | 37/100 [00:00<00:01, 41.43it/s]\u001B[A\n",
      "Posts - DLAH - week:  42%|████▏     | 42/100 [00:01<00:01, 39.49it/s]\u001B[A\n",
      "Posts - DLAH - week:  46%|████▌     | 46/100 [00:01<00:01, 36.32it/s]\u001B[A\n",
      "Posts - DLAH - week:  50%|█████     | 50/100 [00:01<00:01, 35.77it/s]\u001B[A\n",
      "Posts - DLAH - week:  54%|█████▍    | 54/100 [00:01<00:01, 36.74it/s]\u001B[A\n",
      "Posts - DLAH - week:  59%|█████▉    | 59/100 [00:01<00:01, 40.21it/s]\u001B[A\n",
      "Posts - DLAH - week:  64%|██████▍   | 64/100 [00:01<00:00, 39.12it/s]\u001B[A\n",
      "Posts - DLAH - week:  68%|██████▊   | 68/100 [00:01<00:00, 36.77it/s]\u001B[A\n",
      "Posts - DLAH - week:  72%|███████▏  | 72/100 [00:01<00:00, 35.17it/s]\u001B[A\n",
      "Posts - DLAH - week:  77%|███████▋  | 77/100 [00:01<00:00, 37.95it/s]\u001B[A\n",
      "Posts - DLAH - week:  82%|████████▏ | 82/100 [00:02<00:00, 35.70it/s]\u001B[A\n",
      "Posts - DLAH - week:  89%|████████▉ | 89/100 [00:02<00:00, 42.60it/s]\u001B[A\n",
      "Posts - DLAH - week:  94%|█████████▍| 94/100 [00:02<00:00, 39.03it/s]\u001B[A\n",
      "Posts - DLAH - week: 100%|██████████| 100/100 [00:02<00:00, 38.00it/s][A\n",
      "week:  94%|█████████▍| 16/17 [00:44<00:03,  3.14s/it]\n",
      "Posts - bathandbodyworks - week:   0%|          | 0/100 [00:00<?, ?it/s]\u001B[A\n",
      "Posts - bathandbodyworks - week:   4%|▍         | 4/100 [00:00<00:02, 33.62it/s]\u001B[A\n",
      "Posts - bathandbodyworks - week:   8%|▊         | 8/100 [00:00<00:02, 30.78it/s]\u001B[A\n",
      "Posts - bathandbodyworks - week:  12%|█▏        | 12/100 [00:00<00:03, 29.25it/s]\u001B[A\n",
      "Posts - bathandbodyworks - week:  16%|█▌        | 16/100 [00:00<00:02, 32.24it/s]\u001B[A\n",
      "Posts - bathandbodyworks - week:  20%|██        | 20/100 [00:00<00:02, 30.87it/s]\u001B[A\n",
      "Posts - bathandbodyworks - week:  24%|██▍       | 24/100 [00:00<00:02, 31.92it/s]\u001B[A\n",
      "Posts - bathandbodyworks - week:  28%|██▊       | 28/100 [00:00<00:02, 28.64it/s]\u001B[A\n",
      "Posts - bathandbodyworks - week:  31%|███       | 31/100 [00:01<00:02, 28.45it/s]\u001B[A\n",
      "Posts - bathandbodyworks - week:  34%|███▍      | 34/100 [00:01<00:02, 25.79it/s]\u001B[A\n",
      "Posts - bathandbodyworks - week:  38%|███▊      | 38/100 [00:01<00:02, 27.17it/s]\u001B[A\n",
      "Posts - bathandbodyworks - week:  42%|████▏     | 42/100 [00:01<00:02, 26.50it/s]\u001B[A\n",
      "Posts - bathandbodyworks - week:  45%|████▌     | 45/100 [00:01<00:02, 24.48it/s]\u001B[A\n",
      "Posts - bathandbodyworks - week:  48%|████▊     | 48/100 [00:01<00:02, 25.49it/s]\u001B[A\n",
      "Posts - bathandbodyworks - week:  52%|█████▏    | 52/100 [00:01<00:01, 27.70it/s]\u001B[A\n",
      "Posts - bathandbodyworks - week:  55%|█████▌    | 55/100 [00:01<00:01, 26.40it/s]\u001B[A\n",
      "Posts - bathandbodyworks - week:  59%|█████▉    | 59/100 [00:02<00:01, 27.81it/s]\u001B[A\n",
      "Posts - bathandbodyworks - week:  63%|██████▎   | 63/100 [00:02<00:01, 28.28it/s]\u001B[A\n",
      "Posts - bathandbodyworks - week:  67%|██████▋   | 67/100 [00:02<00:01, 28.16it/s]\u001B[A\n",
      "Posts - bathandbodyworks - week:  71%|███████   | 71/100 [00:02<00:01, 27.95it/s]\u001B[A\n",
      "Posts - bathandbodyworks - week:  74%|███████▍  | 74/100 [00:02<00:01, 25.24it/s]\u001B[A\n",
      "Posts - bathandbodyworks - week:  78%|███████▊  | 78/100 [00:02<00:00, 27.67it/s]\u001B[A\n",
      "Posts - bathandbodyworks - week:  82%|████████▏ | 82/100 [00:02<00:00, 27.79it/s]\u001B[A\n",
      "Posts - bathandbodyworks - week:  87%|████████▋ | 87/100 [00:03<00:00, 32.60it/s]\u001B[A\n",
      "Posts - bathandbodyworks - week:  91%|█████████ | 91/100 [00:03<00:00, 29.65it/s]\u001B[A\n",
      "Posts - bathandbodyworks - week:  95%|█████████▌| 95/100 [00:03<00:00, 25.04it/s]\u001B[A\n",
      "Posts - bathandbodyworks - week: 100%|██████████| 100/100 [00:03<00:00, 27.91it/s][A\n",
      "week: 100%|██████████| 17/17 [00:50<00:00,  2.94s/it]\n",
      "day:   0%|          | 0/17 [00:00<?, ?it/s]\n",
      "Posts - SFWRedheads - day:   0%|          | 0/57 [00:00<?, ?it/s]\u001B[A\n",
      "Posts - SFWRedheads - day:   7%|▋         | 4/57 [00:00<00:01, 30.82it/s]\u001B[A\n",
      "Posts - SFWRedheads - day:  14%|█▍        | 8/57 [00:00<00:01, 26.99it/s]\u001B[A\n",
      "Posts - SFWRedheads - day:  21%|██        | 12/57 [00:00<00:01, 29.21it/s]\u001B[A\n",
      "Posts - SFWRedheads - day:  28%|██▊       | 16/57 [00:00<00:01, 31.47it/s]\u001B[A\n",
      "Posts - SFWRedheads - day:  35%|███▌      | 20/57 [00:00<00:01, 29.63it/s]\u001B[A\n",
      "Posts - SFWRedheads - day:  44%|████▍     | 25/57 [00:00<00:00, 34.03it/s]\u001B[A\n",
      "Posts - SFWRedheads - day:  51%|█████     | 29/57 [00:00<00:00, 33.23it/s]\u001B[A\n",
      "Posts - SFWRedheads - day:  58%|█████▊    | 33/57 [00:01<00:00, 33.26it/s]\u001B[A\n",
      "Posts - SFWRedheads - day:  65%|██████▍   | 37/57 [00:01<00:00, 31.77it/s]\u001B[A\n",
      "Posts - SFWRedheads - day:  72%|███████▏  | 41/57 [00:01<00:00, 33.07it/s]\u001B[A\n",
      "Posts - SFWRedheads - day:  79%|███████▉  | 45/57 [00:01<00:00, 31.86it/s]\u001B[A\n",
      "Posts - SFWRedheads - day:  88%|████████▊ | 50/57 [00:01<00:00, 34.51it/s]\u001B[A\n",
      "Posts - SFWRedheads - day: 100%|██████████| 57/57 [00:01<00:00, 31.82it/s]\u001B[A\n",
      "day:   6%|▌         | 1/17 [00:02<00:38,  2.41s/it]\n",
      "Posts - sfwpetite - day:   0%|          | 0/8 [00:00<?, ?it/s]\u001B[A\n",
      "Posts - sfwpetite - day:  50%|█████     | 4/8 [00:00<00:00, 32.16it/s]\u001B[A\n",
      "Posts - sfwpetite - day: 100%|██████████| 8/8 [00:00<00:00, 27.38it/s]\u001B[A\n",
      "day:  12%|█▏        | 2/17 [00:02<00:19,  1.30s/it]\n",
      "Posts - SFWNextDoorGirls - day:   0%|          | 0/95 [00:00<?, ?it/s]\u001B[A\n",
      "Posts - SFWNextDoorGirls - day:   5%|▌         | 5/95 [00:00<00:02, 34.36it/s]\u001B[A\n",
      "Posts - SFWNextDoorGirls - day:  11%|█         | 10/95 [00:00<00:02, 37.93it/s]\u001B[A\n",
      "Posts - SFWNextDoorGirls - day:  15%|█▍        | 14/95 [00:00<00:02, 30.14it/s]\u001B[A\n",
      "Posts - SFWNextDoorGirls - day:  19%|█▉        | 18/95 [00:00<00:02, 31.19it/s]\u001B[A\n",
      "Posts - SFWNextDoorGirls - day:  24%|██▍       | 23/95 [00:00<00:02, 35.00it/s]\u001B[A\n",
      "Posts - SFWNextDoorGirls - day:  28%|██▊       | 27/95 [00:00<00:02, 33.71it/s]\u001B[A\n",
      "Posts - SFWNextDoorGirls - day:  33%|███▎      | 31/95 [00:00<00:01, 32.39it/s]\u001B[A\n",
      "Posts - SFWNextDoorGirls - day:  37%|███▋      | 35/95 [00:01<00:02, 26.43it/s]\u001B[A\n",
      "Posts - SFWNextDoorGirls - day:  40%|████      | 38/95 [00:01<00:02, 22.77it/s]\u001B[A\n",
      "Posts - SFWNextDoorGirls - day:  43%|████▎     | 41/95 [00:01<00:02, 23.87it/s]\u001B[A\n",
      "Posts - SFWNextDoorGirls - day:  46%|████▋     | 44/95 [00:01<00:02, 24.69it/s]\u001B[A\n",
      "Posts - SFWNextDoorGirls - day:  52%|█████▏    | 49/95 [00:01<00:01, 29.53it/s]\u001B[A\n",
      "Posts - SFWNextDoorGirls - day:  57%|█████▋    | 54/95 [00:01<00:01, 34.20it/s]\u001B[A\n",
      "Posts - SFWNextDoorGirls - day:  61%|██████    | 58/95 [00:01<00:01, 35.14it/s]\u001B[A\n",
      "Posts - SFWNextDoorGirls - day:  65%|██████▌   | 62/95 [00:02<00:00, 34.03it/s]\u001B[A\n",
      "Posts - SFWNextDoorGirls - day:  71%|███████   | 67/95 [00:02<00:00, 36.19it/s]\u001B[A\n",
      "Posts - SFWNextDoorGirls - day:  75%|███████▍  | 71/95 [00:02<00:00, 35.99it/s]\u001B[A\n",
      "Posts - SFWNextDoorGirls - day:  79%|███████▉  | 75/95 [00:02<00:00, 35.38it/s]\u001B[A\n",
      "Posts - SFWNextDoorGirls - day:  83%|████████▎ | 79/95 [00:02<00:00, 32.37it/s]\u001B[A\n",
      "Posts - SFWNextDoorGirls - day:  88%|████████▊ | 84/95 [00:02<00:00, 34.15it/s]\u001B[A\n",
      "Posts - SFWNextDoorGirls - day:  93%|█████████▎| 88/95 [00:02<00:00, 35.38it/s]\u001B[A\n",
      "Posts - SFWNextDoorGirls - day: 100%|██████████| 95/95 [00:02<00:00, 32.59it/s]\u001B[A\n",
      "day:  18%|█▊        | 3/17 [00:06<00:33,  2.42s/it]\n",
      "Posts - fatsquirrelhate - day:   0%|          | 0/7 [00:00<?, ?it/s]\u001B[A\n",
      "Posts - fatsquirrelhate - day: 100%|██████████| 7/7 [00:00<00:00, 43.28it/s]\u001B[A\n",
      "day:  24%|██▎       | 4/17 [00:07<00:20,  1.61s/it]\n",
      "Posts - realasians - day:   0%|          | 0/69 [00:00<?, ?it/s]\u001B[A\n",
      "Posts - realasians - day:   7%|▋         | 5/69 [00:00<00:01, 43.68it/s]\u001B[A\n",
      "Posts - realasians - day:  14%|█▍        | 10/69 [00:00<00:02, 27.48it/s]\u001B[A\n",
      "Posts - realasians - day:  20%|██        | 14/69 [00:00<00:01, 29.81it/s]\u001B[A\n",
      "Posts - realasians - day:  26%|██▌       | 18/69 [00:00<00:01, 30.95it/s]\u001B[A\n",
      "Posts - realasians - day:  32%|███▏      | 22/69 [00:00<00:01, 25.91it/s]\u001B[A\n",
      "Posts - realasians - day:  38%|███▊      | 26/69 [00:00<00:01, 25.97it/s]\u001B[A\n",
      "Posts - realasians - day:  43%|████▎     | 30/69 [00:01<00:01, 28.52it/s]\u001B[A\n",
      "Posts - realasians - day:  49%|████▉     | 34/69 [00:01<00:01, 28.76it/s]\u001B[A\n",
      "Posts - realasians - day:  55%|█████▌    | 38/69 [00:01<00:01, 30.56it/s]\u001B[A\n",
      "Posts - realasians - day:  61%|██████    | 42/69 [00:01<00:00, 31.22it/s]\u001B[A\n",
      "Posts - realasians - day:  68%|██████▊   | 47/69 [00:01<00:00, 35.37it/s]\u001B[A\n",
      "Posts - realasians - day:  74%|███████▍  | 51/69 [00:01<00:00, 36.00it/s]\u001B[A\n",
      "Posts - realasians - day:  80%|███████▉  | 55/69 [00:01<00:00, 31.55it/s]\u001B[A\n",
      "Posts - realasians - day:  86%|████████▌ | 59/69 [00:01<00:00, 32.91it/s]\u001B[A\n",
      "Posts - realasians - day:  91%|█████████▏| 63/69 [00:02<00:00, 33.69it/s]\u001B[A\n",
      "Posts - realasians - day: 100%|██████████| 69/69 [00:02<00:00, 31.74it/s]\u001B[A\n",
      "day:  29%|██▉       | 5/17 [00:10<00:25,  2.13s/it]\n",
      "Posts - KoreanHotties - day:   0%|          | 0/39 [00:00<?, ?it/s]\u001B[A\n",
      "Posts - KoreanHotties - day:  13%|█▎        | 5/39 [00:00<00:00, 46.90it/s]\u001B[A\n",
      "Posts - KoreanHotties - day:  26%|██▌       | 10/39 [00:00<00:00, 38.58it/s]\u001B[A\n",
      "Posts - KoreanHotties - day:  36%|███▌      | 14/39 [00:00<00:00, 38.21it/s]\u001B[A\n",
      "Posts - KoreanHotties - day:  46%|████▌     | 18/39 [00:00<00:00, 38.66it/s]\u001B[A\n",
      "Posts - KoreanHotties - day:  56%|█████▋    | 22/39 [00:00<00:00, 33.21it/s]\u001B[A\n",
      "Posts - KoreanHotties - day:  69%|██████▉   | 27/39 [00:00<00:00, 36.58it/s]\u001B[A\n",
      "Posts - KoreanHotties - day:  82%|████████▏ | 32/39 [00:00<00:00, 37.82it/s]\u001B[A\n",
      "Posts - KoreanHotties - day: 100%|██████████| 39/39 [00:01<00:00, 37.91it/s]\u001B[A\n",
      "day:  35%|███▌      | 6/17 [00:11<00:21,  1.97s/it]\n",
      "Posts - prettyasiangirls - day:   0%|          | 0/37 [00:00<?, ?it/s]\u001B[A\n",
      "Posts - prettyasiangirls - day:  14%|█▎        | 5/37 [00:00<00:00, 37.12it/s]\u001B[A\n",
      "Posts - prettyasiangirls - day:  24%|██▍       | 9/37 [00:00<00:00, 30.72it/s]\u001B[A\n",
      "Posts - prettyasiangirls - day:  38%|███▊      | 14/37 [00:00<00:00, 35.83it/s]\u001B[A\n",
      "Posts - prettyasiangirls - day:  49%|████▊     | 18/37 [00:00<00:00, 31.97it/s]\u001B[A\n",
      "Posts - prettyasiangirls - day:  59%|█████▉    | 22/37 [00:00<00:00, 30.60it/s]\u001B[A\n",
      "Posts - prettyasiangirls - day:  70%|███████   | 26/37 [00:00<00:00, 30.20it/s]\u001B[A\n",
      "Posts - prettyasiangirls - day:  86%|████████▋ | 32/37 [00:00<00:00, 34.13it/s]\u001B[A\n",
      "Posts - prettyasiangirls - day: 100%|██████████| 37/37 [00:01<00:00, 32.32it/s]\u001B[A\n",
      "day:  41%|████      | 7/17 [00:13<00:18,  1.85s/it]\n",
      "Posts - AsianOfficeLady - day: 100%|██████████| 2/2 [00:00<00:00, 42.25it/s]\n",
      "day:  47%|████▋     | 8/17 [00:13<00:11,  1.31s/it]\n",
      "Posts - mildlypenis - day:   0%|          | 0/48 [00:00<?, ?it/s]\u001B[A\n",
      "Posts - mildlypenis - day:  10%|█         | 5/48 [00:00<00:01, 40.81it/s]\u001B[A\n",
      "Posts - mildlypenis - day:  21%|██        | 10/48 [00:00<00:00, 39.42it/s]\u001B[A\n",
      "Posts - mildlypenis - day:  29%|██▉       | 14/48 [00:00<00:00, 37.19it/s]\u001B[A\n",
      "Posts - mildlypenis - day:  42%|████▏     | 20/48 [00:00<00:00, 42.73it/s]\u001B[A\n",
      "Posts - mildlypenis - day:  52%|█████▏    | 25/48 [00:00<00:00, 43.60it/s]\u001B[A\n",
      "Posts - mildlypenis - day:  62%|██████▎   | 30/48 [00:00<00:00, 42.47it/s]\u001B[A\n",
      "Posts - mildlypenis - day:  73%|███████▎  | 35/48 [00:00<00:00, 42.35it/s]\u001B[A\n",
      "Posts - mildlypenis - day:  83%|████████▎ | 40/48 [00:00<00:00, 41.38it/s]\u001B[A\n",
      "Posts - mildlypenis - day: 100%|██████████| 48/48 [00:01<00:00, 41.89it/s]\u001B[A\n",
      "day:  53%|█████▎    | 9/17 [00:15<00:11,  1.44s/it]\n",
      "Posts - AsianInvasion - day: 100%|██████████| 3/3 [00:00<00:00, 62.52it/s]\n",
      "day:  59%|█████▉    | 10/17 [00:15<00:07,  1.05s/it]\n",
      "Posts - sexygirls - day:   0%|          | 0/14 [00:00<?, ?it/s]\u001B[A\n",
      "Posts - sexygirls - day:  29%|██▊       | 4/14 [00:00<00:00, 33.64it/s]\u001B[A\n",
      "Posts - sexygirls - day: 100%|██████████| 14/14 [00:00<00:00, 38.86it/s]\u001B[A\n",
      "day:  65%|██████▍   | 11/17 [00:16<00:05,  1.10it/s]\n",
      "Posts - PrettyGirls - day:   0%|          | 0/12 [00:00<?, ?it/s]\u001B[A\n",
      "Posts - PrettyGirls - day:  50%|█████     | 6/12 [00:00<00:00, 42.14it/s]\u001B[A\n",
      "Posts - PrettyGirls - day: 100%|██████████| 12/12 [00:00<00:00, 39.18it/s]\u001B[A\n",
      "day:  71%|███████   | 12/17 [00:16<00:03,  1.29it/s]\n",
      "Posts - gentlemanboners - day:   0%|          | 0/36 [00:00<?, ?it/s]\u001B[A\n",
      "Posts - gentlemanboners - day:  11%|█         | 4/36 [00:00<00:00, 39.96it/s]\u001B[A\n",
      "Posts - gentlemanboners - day:  22%|██▏       | 8/36 [00:00<00:00, 38.70it/s]\u001B[A\n",
      "Posts - gentlemanboners - day:  36%|███▌      | 13/36 [00:00<00:00, 39.98it/s]\u001B[A\n",
      "Posts - gentlemanboners - day:  47%|████▋     | 17/36 [00:00<00:00, 39.40it/s]\u001B[A\n",
      "Posts - gentlemanboners - day:  58%|█████▊    | 21/36 [00:00<00:00, 35.24it/s]\u001B[A\n",
      "Posts - gentlemanboners - day:  69%|██████▉   | 25/36 [00:00<00:00, 36.68it/s]\u001B[A\n",
      "Posts - gentlemanboners - day:  81%|████████  | 29/36 [00:00<00:00, 37.60it/s]\u001B[A\n",
      "Posts - gentlemanboners - day: 100%|██████████| 36/36 [00:00<00:00, 37.59it/s]\u001B[A\n",
      "day:  76%|███████▋  | 13/17 [00:17<00:03,  1.07it/s]\n",
      "Posts - hotofficegirls - day: 100%|██████████| 2/2 [00:00<00:00, 55.13it/s]\n",
      "day:  82%|████████▏ | 14/17 [00:17<00:02,  1.41it/s]\n",
      "Posts - tightdresses - day:   0%|          | 0/53 [00:00<?, ?it/s]\u001B[A\n",
      "Posts - tightdresses - day:   8%|▊         | 4/53 [00:00<00:01, 33.70it/s]\u001B[A\n",
      "Posts - tightdresses - day:  17%|█▋        | 9/53 [00:00<00:01, 40.78it/s]\u001B[A\n",
      "Posts - tightdresses - day:  26%|██▋       | 14/53 [00:00<00:00, 43.52it/s]\u001B[A\n",
      "Posts - tightdresses - day:  36%|███▌      | 19/53 [00:00<00:00, 40.79it/s]\u001B[A\n",
      "Posts - tightdresses - day:  45%|████▌     | 24/53 [00:00<00:00, 37.87it/s]\u001B[A\n",
      "Posts - tightdresses - day:  53%|█████▎    | 28/53 [00:00<00:00, 34.81it/s]\u001B[A\n",
      "Posts - tightdresses - day:  60%|██████    | 32/53 [00:00<00:00, 35.07it/s]\u001B[A\n",
      "Posts - tightdresses - day:  68%|██████▊   | 36/53 [00:00<00:00, 35.72it/s]\u001B[A\n",
      "Posts - tightdresses - day:  77%|███████▋  | 41/53 [00:01<00:00, 39.09it/s]\u001B[A\n",
      "Posts - tightdresses - day:  85%|████████▍ | 45/53 [00:01<00:00, 37.63it/s]\u001B[A\n",
      "Posts - tightdresses - day: 100%|██████████| 53/53 [00:01<00:00, 37.82it/s]\u001B[A\n",
      "day:  88%|████████▊ | 15/17 [00:20<00:02,  1.18s/it]\n",
      "Posts - DLAH - day:   0%|          | 0/65 [00:00<?, ?it/s]\u001B[A\n",
      "Posts - DLAH - day:   6%|▌         | 4/65 [00:00<00:01, 39.19it/s]\u001B[A\n",
      "Posts - DLAH - day:  12%|█▏        | 8/65 [00:00<00:01, 36.38it/s]\u001B[A\n",
      "Posts - DLAH - day:  18%|█▊        | 12/65 [00:00<00:01, 29.20it/s]\u001B[A\n",
      "Posts - DLAH - day:  25%|██▍       | 16/65 [00:00<00:01, 31.76it/s]\u001B[A\n",
      "Posts - DLAH - day:  31%|███       | 20/65 [00:00<00:01, 33.88it/s]\u001B[A\n",
      "Posts - DLAH - day:  37%|███▋      | 24/65 [00:00<00:01, 34.07it/s]\u001B[A\n",
      "Posts - DLAH - day:  43%|████▎     | 28/65 [00:00<00:01, 34.54it/s]\u001B[A\n",
      "Posts - DLAH - day:  49%|████▉     | 32/65 [00:00<00:00, 33.15it/s]\u001B[A\n",
      "Posts - DLAH - day:  55%|█████▌    | 36/65 [00:01<00:00, 34.00it/s]\u001B[A\n",
      "Posts - DLAH - day:  62%|██████▏   | 40/65 [00:01<00:00, 33.02it/s]\u001B[A\n",
      "Posts - DLAH - day:  68%|██████▊   | 44/65 [00:01<00:00, 32.14it/s]\u001B[A\n",
      "Posts - DLAH - day:  74%|███████▍  | 48/65 [00:01<00:00, 33.74it/s]\u001B[A\n",
      "Posts - DLAH - day:  80%|████████  | 52/65 [00:01<00:00, 32.11it/s]\u001B[A\n",
      "Posts - DLAH - day:  86%|████████▌ | 56/65 [00:01<00:00, 28.41it/s]\u001B[A\n",
      "Posts - DLAH - day:  91%|█████████ | 59/65 [00:01<00:00, 28.06it/s]\u001B[A\n",
      "Posts - DLAH - day:  95%|█████████▌| 62/65 [00:02<00:00, 23.48it/s]\u001B[A\n",
      "Posts - DLAH - day: 100%|██████████| 65/65 [00:02<00:00, 29.72it/s]\u001B[A\n",
      "day:  94%|█████████▍| 16/17 [00:23<00:01,  1.79s/it]\n",
      "Posts - bathandbodyworks - day:   0%|          | 0/43 [00:00<?, ?it/s]\u001B[A\n",
      "Posts - bathandbodyworks - day:  12%|█▏        | 5/43 [00:00<00:00, 44.84it/s]\u001B[A\n",
      "Posts - bathandbodyworks - day:  23%|██▎       | 10/43 [00:00<00:00, 43.13it/s]\u001B[A\n",
      "Posts - bathandbodyworks - day:  35%|███▍      | 15/43 [00:00<00:00, 41.49it/s]\u001B[A\n",
      "Posts - bathandbodyworks - day:  47%|████▋     | 20/43 [00:00<00:00, 41.97it/s]\u001B[A\n",
      "Posts - bathandbodyworks - day:  58%|█████▊    | 25/43 [00:00<00:00, 43.20it/s]\u001B[A\n",
      "Posts - bathandbodyworks - day:  70%|██████▉   | 30/43 [00:00<00:00, 44.68it/s]\u001B[A\n",
      "Posts - bathandbodyworks - day:  81%|████████▏ | 35/43 [00:00<00:00, 45.55it/s]\u001B[A\n",
      "Posts - bathandbodyworks - day: 100%|██████████| 43/43 [00:00<00:00, 43.61it/s]\u001B[A\n",
      "day: 100%|██████████| 17/17 [00:24<00:00,  1.47s/it]\n"
     ]
    }
   ],
   "source": [
    "with open('log.txt', 'a') as f:\n",
    "\tfor time_filter in ['week', 'day']:\n",
    "\t\tfor sub in tqdm(subs, desc=f\"{time_filter}\", total=len(subs)):\n",
    "\t\t\ttemp_dir_path = f\"temp/{sub}\"\n",
    "\t\t\ttry:\n",
    "\t\t\t\tsubreddit_stream: ListingGenerator = reddit.subreddit(display_name=sub).top(limit=100, time_filter=time_filter)\n",
    "\t\t\t\tsubreddit_stream = list(subreddit_stream)\n",
    "\t\t\t\tfor submission in tqdm(subreddit_stream, total=len(subreddit_stream),\n",
    "\t\t\t\t\t\t\t\t\t   desc=f\"Posts - {sub} - {time_filter}\"):\n",
    "\t\t\t\t\tif submission is None:\n",
    "\t\t\t\t\t\tcontinue\n",
    "\t\t\t\t\telse:\n",
    "\t\t\t\t\t\tif submission.id in extant_data.index.values:\n",
    "\t\t\t\t\t\t\tcontinue\n",
    "\t\t\t\t\ttry:\n",
    "\t\t\t\t\t\tauthor_name = 'Unknown'\n",
    "\t\t\t\t\t\tsubreddit_name = sub\n",
    "\t\t\t\t\t\ttry:\n",
    "\t\t\t\t\t\t\tauthor_name = submission.author.name\n",
    "\t\t\t\t\t\texcept Exception as e:\n",
    "\t\t\t\t\t\t\tauthor_name = 'Unknown'\n",
    "\t\t\t\t\t\t\tpass\n",
    "\t\t\t\t\t\tp = {\n",
    "\t\t\t\t\t\t\t'id': submission.id,\n",
    "\t\t\t\t\t\t\t'subreddit': subreddit_name,\n",
    "\t\t\t\t\t\t\t'author': author_name,\n",
    "\t\t\t\t\t\t\t'title': submission.title,\n",
    "\t\t\t\t\t\t\t'caption': '',\n",
    "\t\t\t\t\t\t\t'hash': '',\n",
    "\t\t\t\t\t\t\t'permalink': submission.permalink,\n",
    "\t\t\t\t\t\t\t'original_url': submission.url,\n",
    "\t\t\t\t\t\t\t'image_name': '',\n",
    "\t\t\t\t\t\t\t'path': '',\n",
    "\t\t\t\t\t\t\t'thumbnail_path': '',\n",
    "\t\t\t\t\t\t\t'exists': False,\n",
    "\t\t\t\t\t\t\t'curated': False,\n",
    "\t\t\t\t\t\t\t'Tags': ['']\n",
    "\t\t\t\t\t\t}\n",
    "\t\t\t\t\t\tpd.DataFrame([p]).to_parquet(f\"{temp_dir_path}/{submission.id}.parquet\")\n",
    "\t\t\t\t\texcept Exception as e:\n",
    "\t\t\t\t\t\tlog = functions.write_log_message(submission.id, sub, \"Error Writing Post\", e)\n",
    "\t\t\t\t\t\tf.write(log)\n",
    "\t\t\t\t\t\tcontinue\n",
    "\t\t\texcept Exception as e:\n",
    "\t\t\t\tlog = functions.write_log_message(submission.id, sub, f\"Error Getting Posts For SubReddit\", e)\n",
    "\t\t\t\tf.write(log)\n",
    "\t\t\t\tcontinue"
   ],
   "metadata": {
    "collapsed": false,
    "ExecuteTime": {
     "end_time": "2023-05-10T01:17:01.041630Z",
     "start_time": "2023-05-10T01:15:47.869641100Z"
    }
   }
  },
  {
   "cell_type": "code",
   "execution_count": 10,
   "outputs": [
    {
     "name": "stderr",
     "output_type": "stream",
     "text": [
      "Reading Temp Dir For Subs...: 100%|██████████| 17/17 [00:10<00:00,  1.67it/s]\n"
     ]
    },
    {
     "data": {
      "text/plain": "'==== TEMP DATA ===='"
     },
     "metadata": {},
     "output_type": "display_data"
    },
    {
     "data": {
      "text/plain": "(2245, 15)"
     },
     "metadata": {},
     "output_type": "display_data"
    },
    {
     "data": {
      "text/plain": "              id         subreddit                author   \nid                                                         \n133garc  133garc       SFWRedheads   festivalfashionista  \\\n13571tn  13571tn       SFWRedheads         Anikaprincess   \n135ezva  135ezva       SFWRedheads  Historical_Ratio_294   \n135g58p  135g58p       SFWRedheads     Scarlett_somebody   \n1360008  1360008       SFWRedheads           MalloyPanda   \n...          ...               ...                   ...   \n13d97vz  13d97vz  bathandbodyworks       FreshPrincess90   \n13dagbr  13dagbr  bathandbodyworks                Dove04   \n13daik7  13daik7  bathandbodyworks    Emergency_Room_777   \n13dbhn4  13dbhn4  bathandbodyworks         Thebigbooty01   \n13dblrf  13dblrf  bathandbodyworks         singshopsleep   \n\n                                                     title caption hash   \nid                                                                        \n133garc                                 In my fave uniform               \\\n13571tn                                        Sexy or no?                \n135ezva           Not usually a red lipstick kinda girl...                \n135g58p                                        Sunshine ☀️                \n1360008                  Sweater for Chilly Spring Weather                \n...                                                    ...     ...  ...   \n13d97vz  I'm so obsessed with these two candles! What c...                \n13dagbr  Does anyone know how I could get rid of this r...                \n13daik7  Issues with hyaluronic acid body creams....Try...                \n13dbhn4                               Gratis today at work                \n13dblrf                                    Tomorrow's Sale                \n\n                                                 permalink   \nid                                                           \n133garc  /r/SFWRedheads/comments/133garc/in_my_fave_uni...  \\\n13571tn        /r/SFWRedheads/comments/13571tn/sexy_or_no/   \n135ezva  /r/SFWRedheads/comments/135ezva/not_usually_a_...   \n135g58p          /r/SFWRedheads/comments/135g58p/sunshine/   \n1360008  /r/SFWRedheads/comments/1360008/sweater_for_ch...   \n...                                                    ...   \n13d97vz  /r/bathandbodyworks/comments/13d97vz/im_so_obs...   \n13dagbr  /r/bathandbodyworks/comments/13dagbr/does_anyo...   \n13daik7  /r/bathandbodyworks/comments/13daik7/issues_wi...   \n13dbhn4  /r/bathandbodyworks/comments/13dbhn4/gratis_to...   \n13dblrf  /r/bathandbodyworks/comments/13dblrf/tomorrows...   \n\n                                              original_url   image_name path   \nid                                                                             \n133garc                   https://i.imgur.com/O2CHhag.gifv  133garc.jpg       \\\n13571tn                   https://i.imgur.com/1wUudk8.gifv  13571tn.jpg        \n135ezva                https://i.redd.it/4nb3ruke5fxa1.png  135ezva.jpg        \n135g58p             https://www.reddit.com/gallery/135g58p  135g58p.jpg        \n1360008                    https://v.redd.it/md4388wcwixa1  1360008.jpg        \n...                                                    ...          ...  ...   \n13d97vz             https://www.reddit.com/gallery/13d97vz  13d97vz.jpg        \n13dagbr                https://i.redd.it/p0j6atz6rxya1.jpg  13dagbr.jpg        \n13daik7  https://www.reddit.com/r/bathandbodyworks/comm...  13daik7.jpg        \n13dbhn4                https://i.redd.it/x954qki8zxya1.jpg  13dbhn4.jpg        \n13dblrf                https://i.redd.it/wio8nee40yya1.png  13dblrf.jpg        \n\n        model  exists  curated accept tags  \nid                                          \n133garc         False    False  False   []  \n13571tn         False    False  False   []  \n135ezva         False    False  False   []  \n135g58p         False    False  False   []  \n1360008         False    False  False   []  \n...       ...     ...      ...    ...  ...  \n13d97vz         False    False  False   []  \n13dagbr         False    False  False   []  \n13daik7         False    False  False   []  \n13dbhn4         False    False  False   []  \n13dblrf         False    False  False   []  \n\n[2245 rows x 15 columns]",
      "text/html": "<div>\n<style scoped>\n    .dataframe tbody tr th:only-of-type {\n        vertical-align: middle;\n    }\n\n    .dataframe tbody tr th {\n        vertical-align: top;\n    }\n\n    .dataframe thead th {\n        text-align: right;\n    }\n</style>\n<table border=\"1\" class=\"dataframe\">\n  <thead>\n    <tr style=\"text-align: right;\">\n      <th></th>\n      <th>id</th>\n      <th>subreddit</th>\n      <th>author</th>\n      <th>title</th>\n      <th>caption</th>\n      <th>hash</th>\n      <th>permalink</th>\n      <th>original_url</th>\n      <th>image_name</th>\n      <th>path</th>\n      <th>model</th>\n      <th>exists</th>\n      <th>curated</th>\n      <th>accept</th>\n      <th>tags</th>\n    </tr>\n    <tr>\n      <th>id</th>\n      <th></th>\n      <th></th>\n      <th></th>\n      <th></th>\n      <th></th>\n      <th></th>\n      <th></th>\n      <th></th>\n      <th></th>\n      <th></th>\n      <th></th>\n      <th></th>\n      <th></th>\n      <th></th>\n      <th></th>\n    </tr>\n  </thead>\n  <tbody>\n    <tr>\n      <th>133garc</th>\n      <td>133garc</td>\n      <td>SFWRedheads</td>\n      <td>festivalfashionista</td>\n      <td>In my fave uniform</td>\n      <td></td>\n      <td></td>\n      <td>/r/SFWRedheads/comments/133garc/in_my_fave_uni...</td>\n      <td>https://i.imgur.com/O2CHhag.gifv</td>\n      <td>133garc.jpg</td>\n      <td></td>\n      <td></td>\n      <td>False</td>\n      <td>False</td>\n      <td>False</td>\n      <td>[]</td>\n    </tr>\n    <tr>\n      <th>13571tn</th>\n      <td>13571tn</td>\n      <td>SFWRedheads</td>\n      <td>Anikaprincess</td>\n      <td>Sexy or no?</td>\n      <td></td>\n      <td></td>\n      <td>/r/SFWRedheads/comments/13571tn/sexy_or_no/</td>\n      <td>https://i.imgur.com/1wUudk8.gifv</td>\n      <td>13571tn.jpg</td>\n      <td></td>\n      <td></td>\n      <td>False</td>\n      <td>False</td>\n      <td>False</td>\n      <td>[]</td>\n    </tr>\n    <tr>\n      <th>135ezva</th>\n      <td>135ezva</td>\n      <td>SFWRedheads</td>\n      <td>Historical_Ratio_294</td>\n      <td>Not usually a red lipstick kinda girl...</td>\n      <td></td>\n      <td></td>\n      <td>/r/SFWRedheads/comments/135ezva/not_usually_a_...</td>\n      <td>https://i.redd.it/4nb3ruke5fxa1.png</td>\n      <td>135ezva.jpg</td>\n      <td></td>\n      <td></td>\n      <td>False</td>\n      <td>False</td>\n      <td>False</td>\n      <td>[]</td>\n    </tr>\n    <tr>\n      <th>135g58p</th>\n      <td>135g58p</td>\n      <td>SFWRedheads</td>\n      <td>Scarlett_somebody</td>\n      <td>Sunshine ☀️</td>\n      <td></td>\n      <td></td>\n      <td>/r/SFWRedheads/comments/135g58p/sunshine/</td>\n      <td>https://www.reddit.com/gallery/135g58p</td>\n      <td>135g58p.jpg</td>\n      <td></td>\n      <td></td>\n      <td>False</td>\n      <td>False</td>\n      <td>False</td>\n      <td>[]</td>\n    </tr>\n    <tr>\n      <th>1360008</th>\n      <td>1360008</td>\n      <td>SFWRedheads</td>\n      <td>MalloyPanda</td>\n      <td>Sweater for Chilly Spring Weather</td>\n      <td></td>\n      <td></td>\n      <td>/r/SFWRedheads/comments/1360008/sweater_for_ch...</td>\n      <td>https://v.redd.it/md4388wcwixa1</td>\n      <td>1360008.jpg</td>\n      <td></td>\n      <td></td>\n      <td>False</td>\n      <td>False</td>\n      <td>False</td>\n      <td>[]</td>\n    </tr>\n    <tr>\n      <th>...</th>\n      <td>...</td>\n      <td>...</td>\n      <td>...</td>\n      <td>...</td>\n      <td>...</td>\n      <td>...</td>\n      <td>...</td>\n      <td>...</td>\n      <td>...</td>\n      <td>...</td>\n      <td>...</td>\n      <td>...</td>\n      <td>...</td>\n      <td>...</td>\n      <td>...</td>\n    </tr>\n    <tr>\n      <th>13d97vz</th>\n      <td>13d97vz</td>\n      <td>bathandbodyworks</td>\n      <td>FreshPrincess90</td>\n      <td>I'm so obsessed with these two candles! What c...</td>\n      <td></td>\n      <td></td>\n      <td>/r/bathandbodyworks/comments/13d97vz/im_so_obs...</td>\n      <td>https://www.reddit.com/gallery/13d97vz</td>\n      <td>13d97vz.jpg</td>\n      <td></td>\n      <td></td>\n      <td>False</td>\n      <td>False</td>\n      <td>False</td>\n      <td>[]</td>\n    </tr>\n    <tr>\n      <th>13dagbr</th>\n      <td>13dagbr</td>\n      <td>bathandbodyworks</td>\n      <td>Dove04</td>\n      <td>Does anyone know how I could get rid of this r...</td>\n      <td></td>\n      <td></td>\n      <td>/r/bathandbodyworks/comments/13dagbr/does_anyo...</td>\n      <td>https://i.redd.it/p0j6atz6rxya1.jpg</td>\n      <td>13dagbr.jpg</td>\n      <td></td>\n      <td></td>\n      <td>False</td>\n      <td>False</td>\n      <td>False</td>\n      <td>[]</td>\n    </tr>\n    <tr>\n      <th>13daik7</th>\n      <td>13daik7</td>\n      <td>bathandbodyworks</td>\n      <td>Emergency_Room_777</td>\n      <td>Issues with hyaluronic acid body creams....Try...</td>\n      <td></td>\n      <td></td>\n      <td>/r/bathandbodyworks/comments/13daik7/issues_wi...</td>\n      <td>https://www.reddit.com/r/bathandbodyworks/comm...</td>\n      <td>13daik7.jpg</td>\n      <td></td>\n      <td></td>\n      <td>False</td>\n      <td>False</td>\n      <td>False</td>\n      <td>[]</td>\n    </tr>\n    <tr>\n      <th>13dbhn4</th>\n      <td>13dbhn4</td>\n      <td>bathandbodyworks</td>\n      <td>Thebigbooty01</td>\n      <td>Gratis today at work</td>\n      <td></td>\n      <td></td>\n      <td>/r/bathandbodyworks/comments/13dbhn4/gratis_to...</td>\n      <td>https://i.redd.it/x954qki8zxya1.jpg</td>\n      <td>13dbhn4.jpg</td>\n      <td></td>\n      <td></td>\n      <td>False</td>\n      <td>False</td>\n      <td>False</td>\n      <td>[]</td>\n    </tr>\n    <tr>\n      <th>13dblrf</th>\n      <td>13dblrf</td>\n      <td>bathandbodyworks</td>\n      <td>singshopsleep</td>\n      <td>Tomorrow's Sale</td>\n      <td></td>\n      <td></td>\n      <td>/r/bathandbodyworks/comments/13dblrf/tomorrows...</td>\n      <td>https://i.redd.it/wio8nee40yya1.png</td>\n      <td>13dblrf.jpg</td>\n      <td></td>\n      <td></td>\n      <td>False</td>\n      <td>False</td>\n      <td>False</td>\n      <td>[]</td>\n    </tr>\n  </tbody>\n</table>\n<p>2245 rows × 15 columns</p>\n</div>"
     },
     "metadata": {},
     "output_type": "display_data"
    },
    {
     "name": "stdout",
     "output_type": "stream",
     "text": [
      "CPU times: total: 21.8 s\n",
      "Wall time: 23.3 s\n"
     ]
    }
   ],
   "source": [
    "%%time\n",
    "\n",
    "data = []\n",
    "for sub in tqdm(subs, desc=\"Reading Temp Dir For Subs...\"):\n",
    "\tdf = pandas.read_parquet(f\"temp/{sub}\", schema=schema, engine='pyarrow')\n",
    "\trecords = df.to_dict(orient='records')\n",
    "\tdata.extend(records)\n",
    "\n",
    "temp_data = pandas.DataFrame(data)\n",
    "\n",
    "for i, r in temp_data.iterrows():\n",
    "\ttemp_data.loc[i, 'image_name'] = r.id + \".jpg\"\n",
    "\ttemp_data.loc[i, 'path'] = \"\"\n",
    "\ttemp_data.loc[i, 'hash'] = \"\"\n",
    "\ttemp_data.loc[i, 'caption'] = \"\"\n",
    "\ttemp_data.loc[i, 'model'] = \"\"\n",
    "\ttemp_data.loc[i, 'exists'] = False\n",
    "\ttemp_data.loc[i, 'curated'] = False\n",
    "\ttemp_data.loc[i, 'accept'] = False\n",
    "\ttemp_data.loc[i, 'tags'] = ['']\n",
    "\n",
    "temp_data.set_index('id', inplace=True, drop=False)\n",
    "\n",
    "display(\"==== TEMP DATA ====\")\n",
    "display(temp_data.shape)\n",
    "display(temp_data)"
   ],
   "metadata": {
    "collapsed": false,
    "ExecuteTime": {
     "end_time": "2023-05-10T01:17:38.096682700Z",
     "start_time": "2023-05-10T01:17:00.907586200Z"
    }
   }
  },
  {
   "cell_type": "code",
   "execution_count": 11,
   "outputs": [
    {
     "data": {
      "text/plain": "'==== FILTERED DATA ===='"
     },
     "metadata": {},
     "output_type": "display_data"
    },
    {
     "data": {
      "text/plain": "(406, 15)"
     },
     "metadata": {},
     "output_type": "display_data"
    },
    {
     "data": {
      "text/plain": "              id         subreddit                author   \nid                                                         \n13c3bc5  13c3bc5       SFWRedheads          Redhotwife88  \\\n13cbhj1  13cbhj1       SFWRedheads      itsSavannahWilde   \n13cf7m7  13cf7m7       SFWRedheads    ZealousidealEnd947   \n13cffyg  13cffyg       SFWRedheads    MortgageFormer1946   \n13cfi2n  13cfi2n       SFWRedheads         istayyawayyyX   \n...          ...               ...                   ...   \n13d2hsf  13d2hsf  bathandbodyworks           alesieoksap   \n13d661b  13d661b  bathandbodyworks                xeloux   \n13d8s0i  13d8s0i  bathandbodyworks  Alternative-Tea-9355   \n13dagbr  13dagbr  bathandbodyworks                Dove04   \n13dbhn4  13dbhn4  bathandbodyworks         Thebigbooty01   \n\n                                                     title caption hash   \nid                                                                        \n13c3bc5         Redhead Wife in my Little Black Dress! [F]               \\\n13cbhj1                             Red hair & pink frames                \n13cf7m7                40 pounds down! Feeling ✨confident✨                \n13cffyg                                            Tired 😴                \n13cfi2n  redheads-for those brave enough to play with f...                \n...                                                    ...     ...  ...   \n13d2hsf                         Ice Cream Shop Collection?                \n13d661b                             Facebook market finds!                \n13d8s0i                           Black Cherry Merlot dupe                \n13dagbr  Does anyone know how I could get rid of this r...                \n13dbhn4                               Gratis today at work                \n\n                                                 permalink   \nid                                                           \n13c3bc5  /r/SFWRedheads/comments/13c3bc5/redhead_wife_i...  \\\n13cbhj1  /r/SFWRedheads/comments/13cbhj1/red_hair_pink_...   \n13cf7m7  /r/SFWRedheads/comments/13cf7m7/40_pounds_down...   \n13cffyg             /r/SFWRedheads/comments/13cffyg/tired/   \n13cfi2n  /r/SFWRedheads/comments/13cfi2n/redheadsfor_th...   \n...                                                    ...   \n13d2hsf  /r/bathandbodyworks/comments/13d2hsf/ice_cream...   \n13d661b  /r/bathandbodyworks/comments/13d661b/facebook_...   \n13d8s0i  /r/bathandbodyworks/comments/13d8s0i/black_che...   \n13dagbr  /r/bathandbodyworks/comments/13dagbr/does_anyo...   \n13dbhn4  /r/bathandbodyworks/comments/13dbhn4/gratis_to...   \n\n                                              original_url   image_name path   \nid                                                                             \n13c3bc5  https://i.redgifs.com/i/admiredoutstandingpape...  13c3bc5.jpg       \\\n13cbhj1                https://i.redd.it/bnqlx1ku3rya1.jpg  13cbhj1.jpg        \n13cf7m7                https://i.redd.it/vigduj3bxrya1.jpg  13cf7m7.jpg        \n13cffyg                https://i.redd.it/vbtgztbdzrya1.jpg  13cffyg.jpg        \n13cfi2n                https://i.redd.it/rx899dkwzrya1.jpg  13cfi2n.jpg        \n...                                                    ...          ...  ...   \n13d2hsf                https://i.redd.it/uhwamoq99wya1.jpg  13d2hsf.jpg        \n13d661b                https://i.redd.it/skd10hefxwya1.jpg  13d661b.jpg        \n13d8s0i                https://i.redd.it/xt7qew9qexya1.jpg  13d8s0i.jpg        \n13dagbr                https://i.redd.it/p0j6atz6rxya1.jpg  13dagbr.jpg        \n13dbhn4                https://i.redd.it/x954qki8zxya1.jpg  13dbhn4.jpg        \n\n        model  exists  curated accept tags  \nid                                          \n13c3bc5         False    False  False   []  \n13cbhj1         False    False  False   []  \n13cf7m7         False    False  False   []  \n13cffyg         False    False  False   []  \n13cfi2n         False    False  False   []  \n...       ...     ...      ...    ...  ...  \n13d2hsf         False    False  False   []  \n13d661b         False    False  False   []  \n13d8s0i         False    False  False   []  \n13dagbr         False    False  False   []  \n13dbhn4         False    False  False   []  \n\n[406 rows x 15 columns]",
      "text/html": "<div>\n<style scoped>\n    .dataframe tbody tr th:only-of-type {\n        vertical-align: middle;\n    }\n\n    .dataframe tbody tr th {\n        vertical-align: top;\n    }\n\n    .dataframe thead th {\n        text-align: right;\n    }\n</style>\n<table border=\"1\" class=\"dataframe\">\n  <thead>\n    <tr style=\"text-align: right;\">\n      <th></th>\n      <th>id</th>\n      <th>subreddit</th>\n      <th>author</th>\n      <th>title</th>\n      <th>caption</th>\n      <th>hash</th>\n      <th>permalink</th>\n      <th>original_url</th>\n      <th>image_name</th>\n      <th>path</th>\n      <th>model</th>\n      <th>exists</th>\n      <th>curated</th>\n      <th>accept</th>\n      <th>tags</th>\n    </tr>\n    <tr>\n      <th>id</th>\n      <th></th>\n      <th></th>\n      <th></th>\n      <th></th>\n      <th></th>\n      <th></th>\n      <th></th>\n      <th></th>\n      <th></th>\n      <th></th>\n      <th></th>\n      <th></th>\n      <th></th>\n      <th></th>\n      <th></th>\n    </tr>\n  </thead>\n  <tbody>\n    <tr>\n      <th>13c3bc5</th>\n      <td>13c3bc5</td>\n      <td>SFWRedheads</td>\n      <td>Redhotwife88</td>\n      <td>Redhead Wife in my Little Black Dress! [F]</td>\n      <td></td>\n      <td></td>\n      <td>/r/SFWRedheads/comments/13c3bc5/redhead_wife_i...</td>\n      <td>https://i.redgifs.com/i/admiredoutstandingpape...</td>\n      <td>13c3bc5.jpg</td>\n      <td></td>\n      <td></td>\n      <td>False</td>\n      <td>False</td>\n      <td>False</td>\n      <td>[]</td>\n    </tr>\n    <tr>\n      <th>13cbhj1</th>\n      <td>13cbhj1</td>\n      <td>SFWRedheads</td>\n      <td>itsSavannahWilde</td>\n      <td>Red hair &amp; pink frames</td>\n      <td></td>\n      <td></td>\n      <td>/r/SFWRedheads/comments/13cbhj1/red_hair_pink_...</td>\n      <td>https://i.redd.it/bnqlx1ku3rya1.jpg</td>\n      <td>13cbhj1.jpg</td>\n      <td></td>\n      <td></td>\n      <td>False</td>\n      <td>False</td>\n      <td>False</td>\n      <td>[]</td>\n    </tr>\n    <tr>\n      <th>13cf7m7</th>\n      <td>13cf7m7</td>\n      <td>SFWRedheads</td>\n      <td>ZealousidealEnd947</td>\n      <td>40 pounds down! Feeling ✨confident✨</td>\n      <td></td>\n      <td></td>\n      <td>/r/SFWRedheads/comments/13cf7m7/40_pounds_down...</td>\n      <td>https://i.redd.it/vigduj3bxrya1.jpg</td>\n      <td>13cf7m7.jpg</td>\n      <td></td>\n      <td></td>\n      <td>False</td>\n      <td>False</td>\n      <td>False</td>\n      <td>[]</td>\n    </tr>\n    <tr>\n      <th>13cffyg</th>\n      <td>13cffyg</td>\n      <td>SFWRedheads</td>\n      <td>MortgageFormer1946</td>\n      <td>Tired 😴</td>\n      <td></td>\n      <td></td>\n      <td>/r/SFWRedheads/comments/13cffyg/tired/</td>\n      <td>https://i.redd.it/vbtgztbdzrya1.jpg</td>\n      <td>13cffyg.jpg</td>\n      <td></td>\n      <td></td>\n      <td>False</td>\n      <td>False</td>\n      <td>False</td>\n      <td>[]</td>\n    </tr>\n    <tr>\n      <th>13cfi2n</th>\n      <td>13cfi2n</td>\n      <td>SFWRedheads</td>\n      <td>istayyawayyyX</td>\n      <td>redheads-for those brave enough to play with f...</td>\n      <td></td>\n      <td></td>\n      <td>/r/SFWRedheads/comments/13cfi2n/redheadsfor_th...</td>\n      <td>https://i.redd.it/rx899dkwzrya1.jpg</td>\n      <td>13cfi2n.jpg</td>\n      <td></td>\n      <td></td>\n      <td>False</td>\n      <td>False</td>\n      <td>False</td>\n      <td>[]</td>\n    </tr>\n    <tr>\n      <th>...</th>\n      <td>...</td>\n      <td>...</td>\n      <td>...</td>\n      <td>...</td>\n      <td>...</td>\n      <td>...</td>\n      <td>...</td>\n      <td>...</td>\n      <td>...</td>\n      <td>...</td>\n      <td>...</td>\n      <td>...</td>\n      <td>...</td>\n      <td>...</td>\n      <td>...</td>\n    </tr>\n    <tr>\n      <th>13d2hsf</th>\n      <td>13d2hsf</td>\n      <td>bathandbodyworks</td>\n      <td>alesieoksap</td>\n      <td>Ice Cream Shop Collection?</td>\n      <td></td>\n      <td></td>\n      <td>/r/bathandbodyworks/comments/13d2hsf/ice_cream...</td>\n      <td>https://i.redd.it/uhwamoq99wya1.jpg</td>\n      <td>13d2hsf.jpg</td>\n      <td></td>\n      <td></td>\n      <td>False</td>\n      <td>False</td>\n      <td>False</td>\n      <td>[]</td>\n    </tr>\n    <tr>\n      <th>13d661b</th>\n      <td>13d661b</td>\n      <td>bathandbodyworks</td>\n      <td>xeloux</td>\n      <td>Facebook market finds!</td>\n      <td></td>\n      <td></td>\n      <td>/r/bathandbodyworks/comments/13d661b/facebook_...</td>\n      <td>https://i.redd.it/skd10hefxwya1.jpg</td>\n      <td>13d661b.jpg</td>\n      <td></td>\n      <td></td>\n      <td>False</td>\n      <td>False</td>\n      <td>False</td>\n      <td>[]</td>\n    </tr>\n    <tr>\n      <th>13d8s0i</th>\n      <td>13d8s0i</td>\n      <td>bathandbodyworks</td>\n      <td>Alternative-Tea-9355</td>\n      <td>Black Cherry Merlot dupe</td>\n      <td></td>\n      <td></td>\n      <td>/r/bathandbodyworks/comments/13d8s0i/black_che...</td>\n      <td>https://i.redd.it/xt7qew9qexya1.jpg</td>\n      <td>13d8s0i.jpg</td>\n      <td></td>\n      <td></td>\n      <td>False</td>\n      <td>False</td>\n      <td>False</td>\n      <td>[]</td>\n    </tr>\n    <tr>\n      <th>13dagbr</th>\n      <td>13dagbr</td>\n      <td>bathandbodyworks</td>\n      <td>Dove04</td>\n      <td>Does anyone know how I could get rid of this r...</td>\n      <td></td>\n      <td></td>\n      <td>/r/bathandbodyworks/comments/13dagbr/does_anyo...</td>\n      <td>https://i.redd.it/p0j6atz6rxya1.jpg</td>\n      <td>13dagbr.jpg</td>\n      <td></td>\n      <td></td>\n      <td>False</td>\n      <td>False</td>\n      <td>False</td>\n      <td>[]</td>\n    </tr>\n    <tr>\n      <th>13dbhn4</th>\n      <td>13dbhn4</td>\n      <td>bathandbodyworks</td>\n      <td>Thebigbooty01</td>\n      <td>Gratis today at work</td>\n      <td></td>\n      <td></td>\n      <td>/r/bathandbodyworks/comments/13dbhn4/gratis_to...</td>\n      <td>https://i.redd.it/x954qki8zxya1.jpg</td>\n      <td>13dbhn4.jpg</td>\n      <td></td>\n      <td></td>\n      <td>False</td>\n      <td>False</td>\n      <td>False</td>\n      <td>[]</td>\n    </tr>\n  </tbody>\n</table>\n<p>406 rows × 15 columns</p>\n</div>"
     },
     "metadata": {},
     "output_type": "display_data"
    },
    {
     "name": "stdout",
     "output_type": "stream",
     "text": [
      "CPU times: total: 109 ms\n",
      "Wall time: 111 ms\n"
     ]
    }
   ],
   "source": [
    "%%time\n",
    "\n",
    "filtered = temp_data[~temp_data['id'].isin(extant_data.index.values) & temp_data['original_url'].str.endswith('.jpg') & (~temp_data['id'].isin(curated_data.index.values))]\n",
    "filtered.dropna(axis=1, how='all')\n",
    "filtered.reset_index(drop=True, inplace=True)\n",
    "filtered.set_index('id', inplace=True, drop=False)\n",
    "display(\"==== FILTERED DATA ====\")\n",
    "display(filtered.shape)\n",
    "display(filtered)"
   ],
   "metadata": {
    "collapsed": false,
    "ExecuteTime": {
     "end_time": "2023-05-10T01:17:38.099690500Z",
     "start_time": "2023-05-10T01:17:27.565168100Z"
    }
   }
  },
  {
   "cell_type": "code",
   "execution_count": 12,
   "outputs": [
    {
     "name": "stderr",
     "output_type": "stream",
     "text": [
      "Progress: 100%|██████████| 406/406 [00:00<00:00, 16235.14it/s]\n",
      "<timed exec>:1: SettingWithCopyWarning: \n",
      "A value is trying to be set on a copy of a slice from a DataFrame.\n",
      "Try using .loc[row_indexer,col_indexer] = value instead\n",
      "\n",
      "See the caveats in the documentation: https://pandas.pydata.org/pandas-docs/stable/user_guide/indexing.html#returning-a-view-versus-a-copy\n"
     ]
    },
    {
     "data": {
      "text/plain": "'== Filtered Data With Model =='"
     },
     "metadata": {},
     "output_type": "display_data"
    },
    {
     "data": {
      "text/plain": "(406, 15)"
     },
     "metadata": {},
     "output_type": "display_data"
    },
    {
     "data": {
      "text/plain": "              id         subreddit                author   \nid                                                         \n13c3bc5  13c3bc5       SFWRedheads          Redhotwife88  \\\n13cbhj1  13cbhj1       SFWRedheads      itsSavannahWilde   \n13cf7m7  13cf7m7       SFWRedheads    ZealousidealEnd947   \n13cffyg  13cffyg       SFWRedheads    MortgageFormer1946   \n13cfi2n  13cfi2n       SFWRedheads         istayyawayyyX   \n...          ...               ...                   ...   \n13d2hsf  13d2hsf  bathandbodyworks           alesieoksap   \n13d661b  13d661b  bathandbodyworks                xeloux   \n13d8s0i  13d8s0i  bathandbodyworks  Alternative-Tea-9355   \n13dagbr  13dagbr  bathandbodyworks                Dove04   \n13dbhn4  13dbhn4  bathandbodyworks         Thebigbooty01   \n\n                                                     title caption hash   \nid                                                                        \n13c3bc5         Redhead Wife in my Little Black Dress! [F]               \\\n13cbhj1                             Red hair & pink frames                \n13cf7m7                40 pounds down! Feeling ✨confident✨                \n13cffyg                                            Tired 😴                \n13cfi2n  redheads-for those brave enough to play with f...                \n...                                                    ...     ...  ...   \n13d2hsf                         Ice Cream Shop Collection?                \n13d661b                             Facebook market finds!                \n13d8s0i                           Black Cherry Merlot dupe                \n13dagbr  Does anyone know how I could get rid of this r...                \n13dbhn4                               Gratis today at work                \n\n                                                 permalink   \nid                                                           \n13c3bc5  /r/SFWRedheads/comments/13c3bc5/redhead_wife_i...  \\\n13cbhj1  /r/SFWRedheads/comments/13cbhj1/red_hair_pink_...   \n13cf7m7  /r/SFWRedheads/comments/13cf7m7/40_pounds_down...   \n13cffyg             /r/SFWRedheads/comments/13cffyg/tired/   \n13cfi2n  /r/SFWRedheads/comments/13cfi2n/redheadsfor_th...   \n...                                                    ...   \n13d2hsf  /r/bathandbodyworks/comments/13d2hsf/ice_cream...   \n13d661b  /r/bathandbodyworks/comments/13d661b/facebook_...   \n13d8s0i  /r/bathandbodyworks/comments/13d8s0i/black_che...   \n13dagbr  /r/bathandbodyworks/comments/13dagbr/does_anyo...   \n13dbhn4  /r/bathandbodyworks/comments/13dbhn4/gratis_to...   \n\n                                              original_url   image_name path   \nid                                                                             \n13c3bc5  https://i.redgifs.com/i/admiredoutstandingpape...  13c3bc5.jpg       \\\n13cbhj1                https://i.redd.it/bnqlx1ku3rya1.jpg  13cbhj1.jpg        \n13cf7m7                https://i.redd.it/vigduj3bxrya1.jpg  13cf7m7.jpg        \n13cffyg                https://i.redd.it/vbtgztbdzrya1.jpg  13cffyg.jpg        \n13cfi2n                https://i.redd.it/rx899dkwzrya1.jpg  13cfi2n.jpg        \n...                                                    ...          ...  ...   \n13d2hsf                https://i.redd.it/uhwamoq99wya1.jpg  13d2hsf.jpg        \n13d661b                https://i.redd.it/skd10hefxwya1.jpg  13d661b.jpg        \n13d8s0i                https://i.redd.it/xt7qew9qexya1.jpg  13d8s0i.jpg        \n13dagbr                https://i.redd.it/p0j6atz6rxya1.jpg  13dagbr.jpg        \n13dbhn4                https://i.redd.it/x954qki8zxya1.jpg  13dbhn4.jpg        \n\n                    model  exists  curated accept tags  \nid                                                      \n13c3bc5  RedHeadDiffusion   False    False  False   []  \n13cbhj1  RedHeadDiffusion   False    False  False   []  \n13cf7m7  RedHeadDiffusion   False    False  False   []  \n13cffyg  RedHeadDiffusion   False    False  False   []  \n13cfi2n  RedHeadDiffusion   False    False  False   []  \n...                   ...     ...      ...    ...  ...  \n13d2hsf   CandleDiffusion   False    False  False   []  \n13d661b   CandleDiffusion   False    False  False   []  \n13d8s0i   CandleDiffusion   False    False  False   []  \n13dagbr   CandleDiffusion   False    False  False   []  \n13dbhn4   CandleDiffusion   False    False  False   []  \n\n[406 rows x 15 columns]",
      "text/html": "<div>\n<style scoped>\n    .dataframe tbody tr th:only-of-type {\n        vertical-align: middle;\n    }\n\n    .dataframe tbody tr th {\n        vertical-align: top;\n    }\n\n    .dataframe thead th {\n        text-align: right;\n    }\n</style>\n<table border=\"1\" class=\"dataframe\">\n  <thead>\n    <tr style=\"text-align: right;\">\n      <th></th>\n      <th>id</th>\n      <th>subreddit</th>\n      <th>author</th>\n      <th>title</th>\n      <th>caption</th>\n      <th>hash</th>\n      <th>permalink</th>\n      <th>original_url</th>\n      <th>image_name</th>\n      <th>path</th>\n      <th>model</th>\n      <th>exists</th>\n      <th>curated</th>\n      <th>accept</th>\n      <th>tags</th>\n    </tr>\n    <tr>\n      <th>id</th>\n      <th></th>\n      <th></th>\n      <th></th>\n      <th></th>\n      <th></th>\n      <th></th>\n      <th></th>\n      <th></th>\n      <th></th>\n      <th></th>\n      <th></th>\n      <th></th>\n      <th></th>\n      <th></th>\n      <th></th>\n    </tr>\n  </thead>\n  <tbody>\n    <tr>\n      <th>13c3bc5</th>\n      <td>13c3bc5</td>\n      <td>SFWRedheads</td>\n      <td>Redhotwife88</td>\n      <td>Redhead Wife in my Little Black Dress! [F]</td>\n      <td></td>\n      <td></td>\n      <td>/r/SFWRedheads/comments/13c3bc5/redhead_wife_i...</td>\n      <td>https://i.redgifs.com/i/admiredoutstandingpape...</td>\n      <td>13c3bc5.jpg</td>\n      <td></td>\n      <td>RedHeadDiffusion</td>\n      <td>False</td>\n      <td>False</td>\n      <td>False</td>\n      <td>[]</td>\n    </tr>\n    <tr>\n      <th>13cbhj1</th>\n      <td>13cbhj1</td>\n      <td>SFWRedheads</td>\n      <td>itsSavannahWilde</td>\n      <td>Red hair &amp; pink frames</td>\n      <td></td>\n      <td></td>\n      <td>/r/SFWRedheads/comments/13cbhj1/red_hair_pink_...</td>\n      <td>https://i.redd.it/bnqlx1ku3rya1.jpg</td>\n      <td>13cbhj1.jpg</td>\n      <td></td>\n      <td>RedHeadDiffusion</td>\n      <td>False</td>\n      <td>False</td>\n      <td>False</td>\n      <td>[]</td>\n    </tr>\n    <tr>\n      <th>13cf7m7</th>\n      <td>13cf7m7</td>\n      <td>SFWRedheads</td>\n      <td>ZealousidealEnd947</td>\n      <td>40 pounds down! Feeling ✨confident✨</td>\n      <td></td>\n      <td></td>\n      <td>/r/SFWRedheads/comments/13cf7m7/40_pounds_down...</td>\n      <td>https://i.redd.it/vigduj3bxrya1.jpg</td>\n      <td>13cf7m7.jpg</td>\n      <td></td>\n      <td>RedHeadDiffusion</td>\n      <td>False</td>\n      <td>False</td>\n      <td>False</td>\n      <td>[]</td>\n    </tr>\n    <tr>\n      <th>13cffyg</th>\n      <td>13cffyg</td>\n      <td>SFWRedheads</td>\n      <td>MortgageFormer1946</td>\n      <td>Tired 😴</td>\n      <td></td>\n      <td></td>\n      <td>/r/SFWRedheads/comments/13cffyg/tired/</td>\n      <td>https://i.redd.it/vbtgztbdzrya1.jpg</td>\n      <td>13cffyg.jpg</td>\n      <td></td>\n      <td>RedHeadDiffusion</td>\n      <td>False</td>\n      <td>False</td>\n      <td>False</td>\n      <td>[]</td>\n    </tr>\n    <tr>\n      <th>13cfi2n</th>\n      <td>13cfi2n</td>\n      <td>SFWRedheads</td>\n      <td>istayyawayyyX</td>\n      <td>redheads-for those brave enough to play with f...</td>\n      <td></td>\n      <td></td>\n      <td>/r/SFWRedheads/comments/13cfi2n/redheadsfor_th...</td>\n      <td>https://i.redd.it/rx899dkwzrya1.jpg</td>\n      <td>13cfi2n.jpg</td>\n      <td></td>\n      <td>RedHeadDiffusion</td>\n      <td>False</td>\n      <td>False</td>\n      <td>False</td>\n      <td>[]</td>\n    </tr>\n    <tr>\n      <th>...</th>\n      <td>...</td>\n      <td>...</td>\n      <td>...</td>\n      <td>...</td>\n      <td>...</td>\n      <td>...</td>\n      <td>...</td>\n      <td>...</td>\n      <td>...</td>\n      <td>...</td>\n      <td>...</td>\n      <td>...</td>\n      <td>...</td>\n      <td>...</td>\n      <td>...</td>\n    </tr>\n    <tr>\n      <th>13d2hsf</th>\n      <td>13d2hsf</td>\n      <td>bathandbodyworks</td>\n      <td>alesieoksap</td>\n      <td>Ice Cream Shop Collection?</td>\n      <td></td>\n      <td></td>\n      <td>/r/bathandbodyworks/comments/13d2hsf/ice_cream...</td>\n      <td>https://i.redd.it/uhwamoq99wya1.jpg</td>\n      <td>13d2hsf.jpg</td>\n      <td></td>\n      <td>CandleDiffusion</td>\n      <td>False</td>\n      <td>False</td>\n      <td>False</td>\n      <td>[]</td>\n    </tr>\n    <tr>\n      <th>13d661b</th>\n      <td>13d661b</td>\n      <td>bathandbodyworks</td>\n      <td>xeloux</td>\n      <td>Facebook market finds!</td>\n      <td></td>\n      <td></td>\n      <td>/r/bathandbodyworks/comments/13d661b/facebook_...</td>\n      <td>https://i.redd.it/skd10hefxwya1.jpg</td>\n      <td>13d661b.jpg</td>\n      <td></td>\n      <td>CandleDiffusion</td>\n      <td>False</td>\n      <td>False</td>\n      <td>False</td>\n      <td>[]</td>\n    </tr>\n    <tr>\n      <th>13d8s0i</th>\n      <td>13d8s0i</td>\n      <td>bathandbodyworks</td>\n      <td>Alternative-Tea-9355</td>\n      <td>Black Cherry Merlot dupe</td>\n      <td></td>\n      <td></td>\n      <td>/r/bathandbodyworks/comments/13d8s0i/black_che...</td>\n      <td>https://i.redd.it/xt7qew9qexya1.jpg</td>\n      <td>13d8s0i.jpg</td>\n      <td></td>\n      <td>CandleDiffusion</td>\n      <td>False</td>\n      <td>False</td>\n      <td>False</td>\n      <td>[]</td>\n    </tr>\n    <tr>\n      <th>13dagbr</th>\n      <td>13dagbr</td>\n      <td>bathandbodyworks</td>\n      <td>Dove04</td>\n      <td>Does anyone know how I could get rid of this r...</td>\n      <td></td>\n      <td></td>\n      <td>/r/bathandbodyworks/comments/13dagbr/does_anyo...</td>\n      <td>https://i.redd.it/p0j6atz6rxya1.jpg</td>\n      <td>13dagbr.jpg</td>\n      <td></td>\n      <td>CandleDiffusion</td>\n      <td>False</td>\n      <td>False</td>\n      <td>False</td>\n      <td>[]</td>\n    </tr>\n    <tr>\n      <th>13dbhn4</th>\n      <td>13dbhn4</td>\n      <td>bathandbodyworks</td>\n      <td>Thebigbooty01</td>\n      <td>Gratis today at work</td>\n      <td></td>\n      <td></td>\n      <td>/r/bathandbodyworks/comments/13dbhn4/gratis_to...</td>\n      <td>https://i.redd.it/x954qki8zxya1.jpg</td>\n      <td>13dbhn4.jpg</td>\n      <td></td>\n      <td>CandleDiffusion</td>\n      <td>False</td>\n      <td>False</td>\n      <td>False</td>\n      <td>[]</td>\n    </tr>\n  </tbody>\n</table>\n<p>406 rows × 15 columns</p>\n</div>"
     },
     "metadata": {},
     "output_type": "display_data"
    },
    {
     "name": "stdout",
     "output_type": "stream",
     "text": [
      "CPU times: total: 109 ms\n",
      "Wall time: 100 ms\n"
     ]
    }
   ],
   "source": [
    "%%time\n",
    "\n",
    "filtered['model'] = filtered.progress_apply(lambda x: functions.add_source(x, sources), axis=1)\n",
    "\n",
    "display(\"== Filtered Data With Model ==\")\n",
    "display(filtered.shape)\n",
    "display(filtered)"
   ],
   "metadata": {
    "collapsed": false,
    "ExecuteTime": {
     "end_time": "2023-05-10T01:17:38.155686900Z",
     "start_time": "2023-05-10T01:17:27.565168100Z"
    }
   }
  },
  {
   "cell_type": "code",
   "execution_count": 13,
   "outputs": [
    {
     "name": "stderr",
     "output_type": "stream",
     "text": [
      "Progress: 100%|██████████| 406/406 [05:05<00:00,  1.33it/s]\n",
      "<timed exec>:3: SettingWithCopyWarning: \n",
      "A value is trying to be set on a copy of a slice from a DataFrame.\n",
      "Try using .loc[row_indexer,col_indexer] = value instead\n",
      "\n",
      "See the caveats in the documentation: https://pandas.pydata.org/pandas-docs/stable/user_guide/indexing.html#returning-a-view-versus-a-copy\n"
     ]
    },
    {
     "data": {
      "text/plain": "'== Filtered Data With Path =='"
     },
     "metadata": {},
     "output_type": "display_data"
    },
    {
     "data": {
      "text/plain": "(406, 15)"
     },
     "metadata": {},
     "output_type": "display_data"
    },
    {
     "data": {
      "text/plain": "              id         subreddit                author   \nid                                                         \n13c3bc5  13c3bc5       SFWRedheads          Redhotwife88  \\\n13cbhj1  13cbhj1       SFWRedheads      itsSavannahWilde   \n13cf7m7  13cf7m7       SFWRedheads    ZealousidealEnd947   \n13cffyg  13cffyg       SFWRedheads    MortgageFormer1946   \n13cfi2n  13cfi2n       SFWRedheads         istayyawayyyX   \n...          ...               ...                   ...   \n13d2hsf  13d2hsf  bathandbodyworks           alesieoksap   \n13d661b  13d661b  bathandbodyworks                xeloux   \n13d8s0i  13d8s0i  bathandbodyworks  Alternative-Tea-9355   \n13dagbr  13dagbr  bathandbodyworks                Dove04   \n13dbhn4  13dbhn4  bathandbodyworks         Thebigbooty01   \n\n                                                     title caption hash   \nid                                                                        \n13c3bc5         Redhead Wife in my Little Black Dress! [F]               \\\n13cbhj1                             Red hair & pink frames                \n13cf7m7                40 pounds down! Feeling ✨confident✨                \n13cffyg                                            Tired 😴                \n13cfi2n  redheads-for those brave enough to play with f...                \n...                                                    ...     ...  ...   \n13d2hsf                         Ice Cream Shop Collection?                \n13d661b                             Facebook market finds!                \n13d8s0i                           Black Cherry Merlot dupe                \n13dagbr  Does anyone know how I could get rid of this r...                \n13dbhn4                               Gratis today at work                \n\n                                                 permalink   \nid                                                           \n13c3bc5  /r/SFWRedheads/comments/13c3bc5/redhead_wife_i...  \\\n13cbhj1  /r/SFWRedheads/comments/13cbhj1/red_hair_pink_...   \n13cf7m7  /r/SFWRedheads/comments/13cf7m7/40_pounds_down...   \n13cffyg             /r/SFWRedheads/comments/13cffyg/tired/   \n13cfi2n  /r/SFWRedheads/comments/13cfi2n/redheadsfor_th...   \n...                                                    ...   \n13d2hsf  /r/bathandbodyworks/comments/13d2hsf/ice_cream...   \n13d661b  /r/bathandbodyworks/comments/13d661b/facebook_...   \n13d8s0i  /r/bathandbodyworks/comments/13d8s0i/black_che...   \n13dagbr  /r/bathandbodyworks/comments/13dagbr/does_anyo...   \n13dbhn4  /r/bathandbodyworks/comments/13dbhn4/gratis_to...   \n\n                                              original_url   image_name   \nid                                                                        \n13c3bc5  https://i.redgifs.com/i/admiredoutstandingpape...  13c3bc5.jpg  \\\n13cbhj1                https://i.redd.it/bnqlx1ku3rya1.jpg  13cbhj1.jpg   \n13cf7m7                https://i.redd.it/vigduj3bxrya1.jpg  13cf7m7.jpg   \n13cffyg                https://i.redd.it/vbtgztbdzrya1.jpg  13cffyg.jpg   \n13cfi2n                https://i.redd.it/rx899dkwzrya1.jpg  13cfi2n.jpg   \n...                                                    ...          ...   \n13d2hsf                https://i.redd.it/uhwamoq99wya1.jpg  13d2hsf.jpg   \n13d661b                https://i.redd.it/skd10hefxwya1.jpg  13d661b.jpg   \n13d8s0i                https://i.redd.it/xt7qew9qexya1.jpg  13d8s0i.jpg   \n13dagbr                https://i.redd.it/p0j6atz6rxya1.jpg  13dagbr.jpg   \n13dbhn4                https://i.redd.it/x954qki8zxya1.jpg  13dbhn4.jpg   \n\n                           path             model  exists  curated accept tags  \nid                                                                              \n13c3bc5                          RedHeadDiffusion   False    False  False   []  \n13cbhj1  data/image/13cbhj1.jpg  RedHeadDiffusion   False    False  False   []  \n13cf7m7  data/image/13cf7m7.jpg  RedHeadDiffusion   False    False  False   []  \n13cffyg  data/image/13cffyg.jpg  RedHeadDiffusion   False    False  False   []  \n13cfi2n  data/image/13cfi2n.jpg  RedHeadDiffusion   False    False  False   []  \n...                         ...               ...     ...      ...    ...  ...  \n13d2hsf  data/image/13d2hsf.jpg   CandleDiffusion   False    False  False   []  \n13d661b  data/image/13d661b.jpg   CandleDiffusion   False    False  False   []  \n13d8s0i  data/image/13d8s0i.jpg   CandleDiffusion   False    False  False   []  \n13dagbr  data/image/13dagbr.jpg   CandleDiffusion   False    False  False   []  \n13dbhn4  data/image/13dbhn4.jpg   CandleDiffusion   False    False  False   []  \n\n[406 rows x 15 columns]",
      "text/html": "<div>\n<style scoped>\n    .dataframe tbody tr th:only-of-type {\n        vertical-align: middle;\n    }\n\n    .dataframe tbody tr th {\n        vertical-align: top;\n    }\n\n    .dataframe thead th {\n        text-align: right;\n    }\n</style>\n<table border=\"1\" class=\"dataframe\">\n  <thead>\n    <tr style=\"text-align: right;\">\n      <th></th>\n      <th>id</th>\n      <th>subreddit</th>\n      <th>author</th>\n      <th>title</th>\n      <th>caption</th>\n      <th>hash</th>\n      <th>permalink</th>\n      <th>original_url</th>\n      <th>image_name</th>\n      <th>path</th>\n      <th>model</th>\n      <th>exists</th>\n      <th>curated</th>\n      <th>accept</th>\n      <th>tags</th>\n    </tr>\n    <tr>\n      <th>id</th>\n      <th></th>\n      <th></th>\n      <th></th>\n      <th></th>\n      <th></th>\n      <th></th>\n      <th></th>\n      <th></th>\n      <th></th>\n      <th></th>\n      <th></th>\n      <th></th>\n      <th></th>\n      <th></th>\n      <th></th>\n    </tr>\n  </thead>\n  <tbody>\n    <tr>\n      <th>13c3bc5</th>\n      <td>13c3bc5</td>\n      <td>SFWRedheads</td>\n      <td>Redhotwife88</td>\n      <td>Redhead Wife in my Little Black Dress! [F]</td>\n      <td></td>\n      <td></td>\n      <td>/r/SFWRedheads/comments/13c3bc5/redhead_wife_i...</td>\n      <td>https://i.redgifs.com/i/admiredoutstandingpape...</td>\n      <td>13c3bc5.jpg</td>\n      <td></td>\n      <td>RedHeadDiffusion</td>\n      <td>False</td>\n      <td>False</td>\n      <td>False</td>\n      <td>[]</td>\n    </tr>\n    <tr>\n      <th>13cbhj1</th>\n      <td>13cbhj1</td>\n      <td>SFWRedheads</td>\n      <td>itsSavannahWilde</td>\n      <td>Red hair &amp; pink frames</td>\n      <td></td>\n      <td></td>\n      <td>/r/SFWRedheads/comments/13cbhj1/red_hair_pink_...</td>\n      <td>https://i.redd.it/bnqlx1ku3rya1.jpg</td>\n      <td>13cbhj1.jpg</td>\n      <td>data/image/13cbhj1.jpg</td>\n      <td>RedHeadDiffusion</td>\n      <td>False</td>\n      <td>False</td>\n      <td>False</td>\n      <td>[]</td>\n    </tr>\n    <tr>\n      <th>13cf7m7</th>\n      <td>13cf7m7</td>\n      <td>SFWRedheads</td>\n      <td>ZealousidealEnd947</td>\n      <td>40 pounds down! Feeling ✨confident✨</td>\n      <td></td>\n      <td></td>\n      <td>/r/SFWRedheads/comments/13cf7m7/40_pounds_down...</td>\n      <td>https://i.redd.it/vigduj3bxrya1.jpg</td>\n      <td>13cf7m7.jpg</td>\n      <td>data/image/13cf7m7.jpg</td>\n      <td>RedHeadDiffusion</td>\n      <td>False</td>\n      <td>False</td>\n      <td>False</td>\n      <td>[]</td>\n    </tr>\n    <tr>\n      <th>13cffyg</th>\n      <td>13cffyg</td>\n      <td>SFWRedheads</td>\n      <td>MortgageFormer1946</td>\n      <td>Tired 😴</td>\n      <td></td>\n      <td></td>\n      <td>/r/SFWRedheads/comments/13cffyg/tired/</td>\n      <td>https://i.redd.it/vbtgztbdzrya1.jpg</td>\n      <td>13cffyg.jpg</td>\n      <td>data/image/13cffyg.jpg</td>\n      <td>RedHeadDiffusion</td>\n      <td>False</td>\n      <td>False</td>\n      <td>False</td>\n      <td>[]</td>\n    </tr>\n    <tr>\n      <th>13cfi2n</th>\n      <td>13cfi2n</td>\n      <td>SFWRedheads</td>\n      <td>istayyawayyyX</td>\n      <td>redheads-for those brave enough to play with f...</td>\n      <td></td>\n      <td></td>\n      <td>/r/SFWRedheads/comments/13cfi2n/redheadsfor_th...</td>\n      <td>https://i.redd.it/rx899dkwzrya1.jpg</td>\n      <td>13cfi2n.jpg</td>\n      <td>data/image/13cfi2n.jpg</td>\n      <td>RedHeadDiffusion</td>\n      <td>False</td>\n      <td>False</td>\n      <td>False</td>\n      <td>[]</td>\n    </tr>\n    <tr>\n      <th>...</th>\n      <td>...</td>\n      <td>...</td>\n      <td>...</td>\n      <td>...</td>\n      <td>...</td>\n      <td>...</td>\n      <td>...</td>\n      <td>...</td>\n      <td>...</td>\n      <td>...</td>\n      <td>...</td>\n      <td>...</td>\n      <td>...</td>\n      <td>...</td>\n      <td>...</td>\n    </tr>\n    <tr>\n      <th>13d2hsf</th>\n      <td>13d2hsf</td>\n      <td>bathandbodyworks</td>\n      <td>alesieoksap</td>\n      <td>Ice Cream Shop Collection?</td>\n      <td></td>\n      <td></td>\n      <td>/r/bathandbodyworks/comments/13d2hsf/ice_cream...</td>\n      <td>https://i.redd.it/uhwamoq99wya1.jpg</td>\n      <td>13d2hsf.jpg</td>\n      <td>data/image/13d2hsf.jpg</td>\n      <td>CandleDiffusion</td>\n      <td>False</td>\n      <td>False</td>\n      <td>False</td>\n      <td>[]</td>\n    </tr>\n    <tr>\n      <th>13d661b</th>\n      <td>13d661b</td>\n      <td>bathandbodyworks</td>\n      <td>xeloux</td>\n      <td>Facebook market finds!</td>\n      <td></td>\n      <td></td>\n      <td>/r/bathandbodyworks/comments/13d661b/facebook_...</td>\n      <td>https://i.redd.it/skd10hefxwya1.jpg</td>\n      <td>13d661b.jpg</td>\n      <td>data/image/13d661b.jpg</td>\n      <td>CandleDiffusion</td>\n      <td>False</td>\n      <td>False</td>\n      <td>False</td>\n      <td>[]</td>\n    </tr>\n    <tr>\n      <th>13d8s0i</th>\n      <td>13d8s0i</td>\n      <td>bathandbodyworks</td>\n      <td>Alternative-Tea-9355</td>\n      <td>Black Cherry Merlot dupe</td>\n      <td></td>\n      <td></td>\n      <td>/r/bathandbodyworks/comments/13d8s0i/black_che...</td>\n      <td>https://i.redd.it/xt7qew9qexya1.jpg</td>\n      <td>13d8s0i.jpg</td>\n      <td>data/image/13d8s0i.jpg</td>\n      <td>CandleDiffusion</td>\n      <td>False</td>\n      <td>False</td>\n      <td>False</td>\n      <td>[]</td>\n    </tr>\n    <tr>\n      <th>13dagbr</th>\n      <td>13dagbr</td>\n      <td>bathandbodyworks</td>\n      <td>Dove04</td>\n      <td>Does anyone know how I could get rid of this r...</td>\n      <td></td>\n      <td></td>\n      <td>/r/bathandbodyworks/comments/13dagbr/does_anyo...</td>\n      <td>https://i.redd.it/p0j6atz6rxya1.jpg</td>\n      <td>13dagbr.jpg</td>\n      <td>data/image/13dagbr.jpg</td>\n      <td>CandleDiffusion</td>\n      <td>False</td>\n      <td>False</td>\n      <td>False</td>\n      <td>[]</td>\n    </tr>\n    <tr>\n      <th>13dbhn4</th>\n      <td>13dbhn4</td>\n      <td>bathandbodyworks</td>\n      <td>Thebigbooty01</td>\n      <td>Gratis today at work</td>\n      <td></td>\n      <td></td>\n      <td>/r/bathandbodyworks/comments/13dbhn4/gratis_to...</td>\n      <td>https://i.redd.it/x954qki8zxya1.jpg</td>\n      <td>13dbhn4.jpg</td>\n      <td>data/image/13dbhn4.jpg</td>\n      <td>CandleDiffusion</td>\n      <td>False</td>\n      <td>False</td>\n      <td>False</td>\n      <td>[]</td>\n    </tr>\n  </tbody>\n</table>\n<p>406 rows × 15 columns</p>\n</div>"
     },
     "metadata": {},
     "output_type": "display_data"
    },
    {
     "name": "stdout",
     "output_type": "stream",
     "text": [
      "CPU times: total: 2min 59s\n",
      "Wall time: 7min 4s\n"
     ]
    }
   ],
   "source": [
    "%%time\n",
    "\n",
    "file_list = file_system.ls(\"data/image\")\n",
    "\n",
    "filtered['path'] = filtered.progress_apply(lambda x: functions.fetch_image(x, file_list, file_system), axis=1)\n",
    "\n",
    "display(\"== Filtered Data With Path ==\")\n",
    "display(filtered.shape)\n",
    "display(filtered)"
   ],
   "metadata": {
    "collapsed": false,
    "ExecuteTime": {
     "end_time": "2023-05-10T01:24:42.784880300Z",
     "start_time": "2023-05-10T01:17:27.566151900Z"
    }
   }
  },
  {
   "cell_type": "code",
   "execution_count": 14,
   "outputs": [
    {
     "name": "stderr",
     "output_type": "stream",
     "text": [
      "Progress: 100%|██████████| 406/406 [00:00<00:00, 2103.63it/s]\n",
      "<timed exec>:1: SettingWithCopyWarning: \n",
      "A value is trying to be set on a copy of a slice from a DataFrame.\n",
      "Try using .loc[row_indexer,col_indexer] = value instead\n",
      "\n",
      "See the caveats in the documentation: https://pandas.pydata.org/pandas-docs/stable/user_guide/indexing.html#returning-a-view-versus-a-copy\n"
     ]
    },
    {
     "data": {
      "text/plain": "'== Filtered Data With Exists =='"
     },
     "metadata": {},
     "output_type": "display_data"
    },
    {
     "data": {
      "text/plain": "(406, 15)"
     },
     "metadata": {},
     "output_type": "display_data"
    },
    {
     "data": {
      "text/plain": "              id         subreddit                author   \nid                                                         \n13c3bc5  13c3bc5       SFWRedheads          Redhotwife88  \\\n13cbhj1  13cbhj1       SFWRedheads      itsSavannahWilde   \n13cf7m7  13cf7m7       SFWRedheads    ZealousidealEnd947   \n13cffyg  13cffyg       SFWRedheads    MortgageFormer1946   \n13cfi2n  13cfi2n       SFWRedheads         istayyawayyyX   \n...          ...               ...                   ...   \n13d2hsf  13d2hsf  bathandbodyworks           alesieoksap   \n13d661b  13d661b  bathandbodyworks                xeloux   \n13d8s0i  13d8s0i  bathandbodyworks  Alternative-Tea-9355   \n13dagbr  13dagbr  bathandbodyworks                Dove04   \n13dbhn4  13dbhn4  bathandbodyworks         Thebigbooty01   \n\n                                                     title caption hash   \nid                                                                        \n13c3bc5         Redhead Wife in my Little Black Dress! [F]               \\\n13cbhj1                             Red hair & pink frames                \n13cf7m7                40 pounds down! Feeling ✨confident✨                \n13cffyg                                            Tired 😴                \n13cfi2n  redheads-for those brave enough to play with f...                \n...                                                    ...     ...  ...   \n13d2hsf                         Ice Cream Shop Collection?                \n13d661b                             Facebook market finds!                \n13d8s0i                           Black Cherry Merlot dupe                \n13dagbr  Does anyone know how I could get rid of this r...                \n13dbhn4                               Gratis today at work                \n\n                                                 permalink   \nid                                                           \n13c3bc5  /r/SFWRedheads/comments/13c3bc5/redhead_wife_i...  \\\n13cbhj1  /r/SFWRedheads/comments/13cbhj1/red_hair_pink_...   \n13cf7m7  /r/SFWRedheads/comments/13cf7m7/40_pounds_down...   \n13cffyg             /r/SFWRedheads/comments/13cffyg/tired/   \n13cfi2n  /r/SFWRedheads/comments/13cfi2n/redheadsfor_th...   \n...                                                    ...   \n13d2hsf  /r/bathandbodyworks/comments/13d2hsf/ice_cream...   \n13d661b  /r/bathandbodyworks/comments/13d661b/facebook_...   \n13d8s0i  /r/bathandbodyworks/comments/13d8s0i/black_che...   \n13dagbr  /r/bathandbodyworks/comments/13dagbr/does_anyo...   \n13dbhn4  /r/bathandbodyworks/comments/13dbhn4/gratis_to...   \n\n                                              original_url   image_name   \nid                                                                        \n13c3bc5  https://i.redgifs.com/i/admiredoutstandingpape...  13c3bc5.jpg  \\\n13cbhj1                https://i.redd.it/bnqlx1ku3rya1.jpg  13cbhj1.jpg   \n13cf7m7                https://i.redd.it/vigduj3bxrya1.jpg  13cf7m7.jpg   \n13cffyg                https://i.redd.it/vbtgztbdzrya1.jpg  13cffyg.jpg   \n13cfi2n                https://i.redd.it/rx899dkwzrya1.jpg  13cfi2n.jpg   \n...                                                    ...          ...   \n13d2hsf                https://i.redd.it/uhwamoq99wya1.jpg  13d2hsf.jpg   \n13d661b                https://i.redd.it/skd10hefxwya1.jpg  13d661b.jpg   \n13d8s0i                https://i.redd.it/xt7qew9qexya1.jpg  13d8s0i.jpg   \n13dagbr                https://i.redd.it/p0j6atz6rxya1.jpg  13dagbr.jpg   \n13dbhn4                https://i.redd.it/x954qki8zxya1.jpg  13dbhn4.jpg   \n\n                           path             model  exists  curated accept tags  \nid                                                                              \n13c3bc5                          RedHeadDiffusion   False    False  False   []  \n13cbhj1  data/image/13cbhj1.jpg  RedHeadDiffusion    True    False  False   []  \n13cf7m7  data/image/13cf7m7.jpg  RedHeadDiffusion    True    False  False   []  \n13cffyg  data/image/13cffyg.jpg  RedHeadDiffusion    True    False  False   []  \n13cfi2n  data/image/13cfi2n.jpg  RedHeadDiffusion    True    False  False   []  \n...                         ...               ...     ...      ...    ...  ...  \n13d2hsf  data/image/13d2hsf.jpg   CandleDiffusion    True    False  False   []  \n13d661b  data/image/13d661b.jpg   CandleDiffusion    True    False  False   []  \n13d8s0i  data/image/13d8s0i.jpg   CandleDiffusion    True    False  False   []  \n13dagbr  data/image/13dagbr.jpg   CandleDiffusion    True    False  False   []  \n13dbhn4  data/image/13dbhn4.jpg   CandleDiffusion    True    False  False   []  \n\n[406 rows x 15 columns]",
      "text/html": "<div>\n<style scoped>\n    .dataframe tbody tr th:only-of-type {\n        vertical-align: middle;\n    }\n\n    .dataframe tbody tr th {\n        vertical-align: top;\n    }\n\n    .dataframe thead th {\n        text-align: right;\n    }\n</style>\n<table border=\"1\" class=\"dataframe\">\n  <thead>\n    <tr style=\"text-align: right;\">\n      <th></th>\n      <th>id</th>\n      <th>subreddit</th>\n      <th>author</th>\n      <th>title</th>\n      <th>caption</th>\n      <th>hash</th>\n      <th>permalink</th>\n      <th>original_url</th>\n      <th>image_name</th>\n      <th>path</th>\n      <th>model</th>\n      <th>exists</th>\n      <th>curated</th>\n      <th>accept</th>\n      <th>tags</th>\n    </tr>\n    <tr>\n      <th>id</th>\n      <th></th>\n      <th></th>\n      <th></th>\n      <th></th>\n      <th></th>\n      <th></th>\n      <th></th>\n      <th></th>\n      <th></th>\n      <th></th>\n      <th></th>\n      <th></th>\n      <th></th>\n      <th></th>\n      <th></th>\n    </tr>\n  </thead>\n  <tbody>\n    <tr>\n      <th>13c3bc5</th>\n      <td>13c3bc5</td>\n      <td>SFWRedheads</td>\n      <td>Redhotwife88</td>\n      <td>Redhead Wife in my Little Black Dress! [F]</td>\n      <td></td>\n      <td></td>\n      <td>/r/SFWRedheads/comments/13c3bc5/redhead_wife_i...</td>\n      <td>https://i.redgifs.com/i/admiredoutstandingpape...</td>\n      <td>13c3bc5.jpg</td>\n      <td></td>\n      <td>RedHeadDiffusion</td>\n      <td>False</td>\n      <td>False</td>\n      <td>False</td>\n      <td>[]</td>\n    </tr>\n    <tr>\n      <th>13cbhj1</th>\n      <td>13cbhj1</td>\n      <td>SFWRedheads</td>\n      <td>itsSavannahWilde</td>\n      <td>Red hair &amp; pink frames</td>\n      <td></td>\n      <td></td>\n      <td>/r/SFWRedheads/comments/13cbhj1/red_hair_pink_...</td>\n      <td>https://i.redd.it/bnqlx1ku3rya1.jpg</td>\n      <td>13cbhj1.jpg</td>\n      <td>data/image/13cbhj1.jpg</td>\n      <td>RedHeadDiffusion</td>\n      <td>True</td>\n      <td>False</td>\n      <td>False</td>\n      <td>[]</td>\n    </tr>\n    <tr>\n      <th>13cf7m7</th>\n      <td>13cf7m7</td>\n      <td>SFWRedheads</td>\n      <td>ZealousidealEnd947</td>\n      <td>40 pounds down! Feeling ✨confident✨</td>\n      <td></td>\n      <td></td>\n      <td>/r/SFWRedheads/comments/13cf7m7/40_pounds_down...</td>\n      <td>https://i.redd.it/vigduj3bxrya1.jpg</td>\n      <td>13cf7m7.jpg</td>\n      <td>data/image/13cf7m7.jpg</td>\n      <td>RedHeadDiffusion</td>\n      <td>True</td>\n      <td>False</td>\n      <td>False</td>\n      <td>[]</td>\n    </tr>\n    <tr>\n      <th>13cffyg</th>\n      <td>13cffyg</td>\n      <td>SFWRedheads</td>\n      <td>MortgageFormer1946</td>\n      <td>Tired 😴</td>\n      <td></td>\n      <td></td>\n      <td>/r/SFWRedheads/comments/13cffyg/tired/</td>\n      <td>https://i.redd.it/vbtgztbdzrya1.jpg</td>\n      <td>13cffyg.jpg</td>\n      <td>data/image/13cffyg.jpg</td>\n      <td>RedHeadDiffusion</td>\n      <td>True</td>\n      <td>False</td>\n      <td>False</td>\n      <td>[]</td>\n    </tr>\n    <tr>\n      <th>13cfi2n</th>\n      <td>13cfi2n</td>\n      <td>SFWRedheads</td>\n      <td>istayyawayyyX</td>\n      <td>redheads-for those brave enough to play with f...</td>\n      <td></td>\n      <td></td>\n      <td>/r/SFWRedheads/comments/13cfi2n/redheadsfor_th...</td>\n      <td>https://i.redd.it/rx899dkwzrya1.jpg</td>\n      <td>13cfi2n.jpg</td>\n      <td>data/image/13cfi2n.jpg</td>\n      <td>RedHeadDiffusion</td>\n      <td>True</td>\n      <td>False</td>\n      <td>False</td>\n      <td>[]</td>\n    </tr>\n    <tr>\n      <th>...</th>\n      <td>...</td>\n      <td>...</td>\n      <td>...</td>\n      <td>...</td>\n      <td>...</td>\n      <td>...</td>\n      <td>...</td>\n      <td>...</td>\n      <td>...</td>\n      <td>...</td>\n      <td>...</td>\n      <td>...</td>\n      <td>...</td>\n      <td>...</td>\n      <td>...</td>\n    </tr>\n    <tr>\n      <th>13d2hsf</th>\n      <td>13d2hsf</td>\n      <td>bathandbodyworks</td>\n      <td>alesieoksap</td>\n      <td>Ice Cream Shop Collection?</td>\n      <td></td>\n      <td></td>\n      <td>/r/bathandbodyworks/comments/13d2hsf/ice_cream...</td>\n      <td>https://i.redd.it/uhwamoq99wya1.jpg</td>\n      <td>13d2hsf.jpg</td>\n      <td>data/image/13d2hsf.jpg</td>\n      <td>CandleDiffusion</td>\n      <td>True</td>\n      <td>False</td>\n      <td>False</td>\n      <td>[]</td>\n    </tr>\n    <tr>\n      <th>13d661b</th>\n      <td>13d661b</td>\n      <td>bathandbodyworks</td>\n      <td>xeloux</td>\n      <td>Facebook market finds!</td>\n      <td></td>\n      <td></td>\n      <td>/r/bathandbodyworks/comments/13d661b/facebook_...</td>\n      <td>https://i.redd.it/skd10hefxwya1.jpg</td>\n      <td>13d661b.jpg</td>\n      <td>data/image/13d661b.jpg</td>\n      <td>CandleDiffusion</td>\n      <td>True</td>\n      <td>False</td>\n      <td>False</td>\n      <td>[]</td>\n    </tr>\n    <tr>\n      <th>13d8s0i</th>\n      <td>13d8s0i</td>\n      <td>bathandbodyworks</td>\n      <td>Alternative-Tea-9355</td>\n      <td>Black Cherry Merlot dupe</td>\n      <td></td>\n      <td></td>\n      <td>/r/bathandbodyworks/comments/13d8s0i/black_che...</td>\n      <td>https://i.redd.it/xt7qew9qexya1.jpg</td>\n      <td>13d8s0i.jpg</td>\n      <td>data/image/13d8s0i.jpg</td>\n      <td>CandleDiffusion</td>\n      <td>True</td>\n      <td>False</td>\n      <td>False</td>\n      <td>[]</td>\n    </tr>\n    <tr>\n      <th>13dagbr</th>\n      <td>13dagbr</td>\n      <td>bathandbodyworks</td>\n      <td>Dove04</td>\n      <td>Does anyone know how I could get rid of this r...</td>\n      <td></td>\n      <td></td>\n      <td>/r/bathandbodyworks/comments/13dagbr/does_anyo...</td>\n      <td>https://i.redd.it/p0j6atz6rxya1.jpg</td>\n      <td>13dagbr.jpg</td>\n      <td>data/image/13dagbr.jpg</td>\n      <td>CandleDiffusion</td>\n      <td>True</td>\n      <td>False</td>\n      <td>False</td>\n      <td>[]</td>\n    </tr>\n    <tr>\n      <th>13dbhn4</th>\n      <td>13dbhn4</td>\n      <td>bathandbodyworks</td>\n      <td>Thebigbooty01</td>\n      <td>Gratis today at work</td>\n      <td></td>\n      <td></td>\n      <td>/r/bathandbodyworks/comments/13dbhn4/gratis_to...</td>\n      <td>https://i.redd.it/x954qki8zxya1.jpg</td>\n      <td>13dbhn4.jpg</td>\n      <td>data/image/13dbhn4.jpg</td>\n      <td>CandleDiffusion</td>\n      <td>True</td>\n      <td>False</td>\n      <td>False</td>\n      <td>[]</td>\n    </tr>\n  </tbody>\n</table>\n<p>406 rows × 15 columns</p>\n</div>"
     },
     "metadata": {},
     "output_type": "display_data"
    },
    {
     "name": "stdout",
     "output_type": "stream",
     "text": [
      "CPU times: total: 250 ms\n",
      "Wall time: 344 ms\n"
     ]
    }
   ],
   "source": [
    "%%time\n",
    "\n",
    "filtered['exists'] = filtered.progress_apply(lambda x: functions.set_exists(x), axis=1)\n",
    "\n",
    "display(\"== Filtered Data With Exists ==\")\n",
    "display(filtered.shape)\n",
    "display(filtered)"
   ],
   "metadata": {
    "collapsed": false,
    "ExecuteTime": {
     "end_time": "2023-05-10T01:24:43.024885900Z",
     "start_time": "2023-05-10T01:24:41.045881800Z"
    }
   }
  },
  {
   "cell_type": "code",
   "execution_count": 15,
   "outputs": [
    {
     "name": "stderr",
     "output_type": "stream",
     "text": [
      "Progress: 100%|██████████| 406/406 [00:03<00:00, 128.32it/s]\n",
      "<timed exec>:1: SettingWithCopyWarning: \n",
      "A value is trying to be set on a copy of a slice from a DataFrame.\n",
      "Try using .loc[row_indexer,col_indexer] = value instead\n",
      "\n",
      "See the caveats in the documentation: https://pandas.pydata.org/pandas-docs/stable/user_guide/indexing.html#returning-a-view-versus-a-copy\n"
     ]
    },
    {
     "data": {
      "text/plain": "'== Filtered Data With Hash =='"
     },
     "metadata": {},
     "output_type": "display_data"
    },
    {
     "data": {
      "text/plain": "(406, 15)"
     },
     "metadata": {},
     "output_type": "display_data"
    },
    {
     "data": {
      "text/plain": "              id         subreddit                author   \nid                                                         \n13c3bc5  13c3bc5       SFWRedheads          Redhotwife88  \\\n13cbhj1  13cbhj1       SFWRedheads      itsSavannahWilde   \n13cf7m7  13cf7m7       SFWRedheads    ZealousidealEnd947   \n13cffyg  13cffyg       SFWRedheads    MortgageFormer1946   \n13cfi2n  13cfi2n       SFWRedheads         istayyawayyyX   \n...          ...               ...                   ...   \n13d2hsf  13d2hsf  bathandbodyworks           alesieoksap   \n13d661b  13d661b  bathandbodyworks                xeloux   \n13d8s0i  13d8s0i  bathandbodyworks  Alternative-Tea-9355   \n13dagbr  13dagbr  bathandbodyworks                Dove04   \n13dbhn4  13dbhn4  bathandbodyworks         Thebigbooty01   \n\n                                                     title caption   \nid                                                                   \n13c3bc5         Redhead Wife in my Little Black Dress! [F]          \\\n13cbhj1                             Red hair & pink frames           \n13cf7m7                40 pounds down! Feeling ✨confident✨           \n13cffyg                                            Tired 😴           \n13cfi2n  redheads-for those brave enough to play with f...           \n...                                                    ...     ...   \n13d2hsf                         Ice Cream Shop Collection?           \n13d661b                             Facebook market finds!           \n13d8s0i                           Black Cherry Merlot dupe           \n13dagbr  Does anyone know how I could get rid of this r...           \n13dbhn4                               Gratis today at work           \n\n                                     hash   \nid                                          \n13c3bc5                                    \\\n13cbhj1  0c2da695483dd7562ec9ef13f791b934   \n13cf7m7  4c3fe8876deccd1f3e9f19ba3d8f5cfc   \n13cffyg  58382c40ac34f2fa5b23666e9c939948   \n13cfi2n  bbc65198cbe68d8efdc6f45187939f68   \n...                                   ...   \n13d2hsf  c6788074138175c661fc652bd7630e33   \n13d661b  e868289445c195815dd67dd0df1a65cb   \n13d8s0i  965bc5a58a597192700234729758101b   \n13dagbr  41732e4109a99c99c91c2181867d18e3   \n13dbhn4  f2afdcbed21cc1f44ac757bf2f797ae6   \n\n                                                 permalink   \nid                                                           \n13c3bc5  /r/SFWRedheads/comments/13c3bc5/redhead_wife_i...  \\\n13cbhj1  /r/SFWRedheads/comments/13cbhj1/red_hair_pink_...   \n13cf7m7  /r/SFWRedheads/comments/13cf7m7/40_pounds_down...   \n13cffyg             /r/SFWRedheads/comments/13cffyg/tired/   \n13cfi2n  /r/SFWRedheads/comments/13cfi2n/redheadsfor_th...   \n...                                                    ...   \n13d2hsf  /r/bathandbodyworks/comments/13d2hsf/ice_cream...   \n13d661b  /r/bathandbodyworks/comments/13d661b/facebook_...   \n13d8s0i  /r/bathandbodyworks/comments/13d8s0i/black_che...   \n13dagbr  /r/bathandbodyworks/comments/13dagbr/does_anyo...   \n13dbhn4  /r/bathandbodyworks/comments/13dbhn4/gratis_to...   \n\n                                              original_url   image_name   \nid                                                                        \n13c3bc5  https://i.redgifs.com/i/admiredoutstandingpape...  13c3bc5.jpg  \\\n13cbhj1                https://i.redd.it/bnqlx1ku3rya1.jpg  13cbhj1.jpg   \n13cf7m7                https://i.redd.it/vigduj3bxrya1.jpg  13cf7m7.jpg   \n13cffyg                https://i.redd.it/vbtgztbdzrya1.jpg  13cffyg.jpg   \n13cfi2n                https://i.redd.it/rx899dkwzrya1.jpg  13cfi2n.jpg   \n...                                                    ...          ...   \n13d2hsf                https://i.redd.it/uhwamoq99wya1.jpg  13d2hsf.jpg   \n13d661b                https://i.redd.it/skd10hefxwya1.jpg  13d661b.jpg   \n13d8s0i                https://i.redd.it/xt7qew9qexya1.jpg  13d8s0i.jpg   \n13dagbr                https://i.redd.it/p0j6atz6rxya1.jpg  13dagbr.jpg   \n13dbhn4                https://i.redd.it/x954qki8zxya1.jpg  13dbhn4.jpg   \n\n                           path             model  exists  curated accept tags  \nid                                                                              \n13c3bc5                          RedHeadDiffusion   False    False  False   []  \n13cbhj1  data/image/13cbhj1.jpg  RedHeadDiffusion    True    False  False   []  \n13cf7m7  data/image/13cf7m7.jpg  RedHeadDiffusion    True    False  False   []  \n13cffyg  data/image/13cffyg.jpg  RedHeadDiffusion    True    False  False   []  \n13cfi2n  data/image/13cfi2n.jpg  RedHeadDiffusion    True    False  False   []  \n...                         ...               ...     ...      ...    ...  ...  \n13d2hsf  data/image/13d2hsf.jpg   CandleDiffusion    True    False  False   []  \n13d661b  data/image/13d661b.jpg   CandleDiffusion    True    False  False   []  \n13d8s0i  data/image/13d8s0i.jpg   CandleDiffusion    True    False  False   []  \n13dagbr  data/image/13dagbr.jpg   CandleDiffusion    True    False  False   []  \n13dbhn4  data/image/13dbhn4.jpg   CandleDiffusion    True    False  False   []  \n\n[406 rows x 15 columns]",
      "text/html": "<div>\n<style scoped>\n    .dataframe tbody tr th:only-of-type {\n        vertical-align: middle;\n    }\n\n    .dataframe tbody tr th {\n        vertical-align: top;\n    }\n\n    .dataframe thead th {\n        text-align: right;\n    }\n</style>\n<table border=\"1\" class=\"dataframe\">\n  <thead>\n    <tr style=\"text-align: right;\">\n      <th></th>\n      <th>id</th>\n      <th>subreddit</th>\n      <th>author</th>\n      <th>title</th>\n      <th>caption</th>\n      <th>hash</th>\n      <th>permalink</th>\n      <th>original_url</th>\n      <th>image_name</th>\n      <th>path</th>\n      <th>model</th>\n      <th>exists</th>\n      <th>curated</th>\n      <th>accept</th>\n      <th>tags</th>\n    </tr>\n    <tr>\n      <th>id</th>\n      <th></th>\n      <th></th>\n      <th></th>\n      <th></th>\n      <th></th>\n      <th></th>\n      <th></th>\n      <th></th>\n      <th></th>\n      <th></th>\n      <th></th>\n      <th></th>\n      <th></th>\n      <th></th>\n      <th></th>\n    </tr>\n  </thead>\n  <tbody>\n    <tr>\n      <th>13c3bc5</th>\n      <td>13c3bc5</td>\n      <td>SFWRedheads</td>\n      <td>Redhotwife88</td>\n      <td>Redhead Wife in my Little Black Dress! [F]</td>\n      <td></td>\n      <td></td>\n      <td>/r/SFWRedheads/comments/13c3bc5/redhead_wife_i...</td>\n      <td>https://i.redgifs.com/i/admiredoutstandingpape...</td>\n      <td>13c3bc5.jpg</td>\n      <td></td>\n      <td>RedHeadDiffusion</td>\n      <td>False</td>\n      <td>False</td>\n      <td>False</td>\n      <td>[]</td>\n    </tr>\n    <tr>\n      <th>13cbhj1</th>\n      <td>13cbhj1</td>\n      <td>SFWRedheads</td>\n      <td>itsSavannahWilde</td>\n      <td>Red hair &amp; pink frames</td>\n      <td></td>\n      <td>0c2da695483dd7562ec9ef13f791b934</td>\n      <td>/r/SFWRedheads/comments/13cbhj1/red_hair_pink_...</td>\n      <td>https://i.redd.it/bnqlx1ku3rya1.jpg</td>\n      <td>13cbhj1.jpg</td>\n      <td>data/image/13cbhj1.jpg</td>\n      <td>RedHeadDiffusion</td>\n      <td>True</td>\n      <td>False</td>\n      <td>False</td>\n      <td>[]</td>\n    </tr>\n    <tr>\n      <th>13cf7m7</th>\n      <td>13cf7m7</td>\n      <td>SFWRedheads</td>\n      <td>ZealousidealEnd947</td>\n      <td>40 pounds down! Feeling ✨confident✨</td>\n      <td></td>\n      <td>4c3fe8876deccd1f3e9f19ba3d8f5cfc</td>\n      <td>/r/SFWRedheads/comments/13cf7m7/40_pounds_down...</td>\n      <td>https://i.redd.it/vigduj3bxrya1.jpg</td>\n      <td>13cf7m7.jpg</td>\n      <td>data/image/13cf7m7.jpg</td>\n      <td>RedHeadDiffusion</td>\n      <td>True</td>\n      <td>False</td>\n      <td>False</td>\n      <td>[]</td>\n    </tr>\n    <tr>\n      <th>13cffyg</th>\n      <td>13cffyg</td>\n      <td>SFWRedheads</td>\n      <td>MortgageFormer1946</td>\n      <td>Tired 😴</td>\n      <td></td>\n      <td>58382c40ac34f2fa5b23666e9c939948</td>\n      <td>/r/SFWRedheads/comments/13cffyg/tired/</td>\n      <td>https://i.redd.it/vbtgztbdzrya1.jpg</td>\n      <td>13cffyg.jpg</td>\n      <td>data/image/13cffyg.jpg</td>\n      <td>RedHeadDiffusion</td>\n      <td>True</td>\n      <td>False</td>\n      <td>False</td>\n      <td>[]</td>\n    </tr>\n    <tr>\n      <th>13cfi2n</th>\n      <td>13cfi2n</td>\n      <td>SFWRedheads</td>\n      <td>istayyawayyyX</td>\n      <td>redheads-for those brave enough to play with f...</td>\n      <td></td>\n      <td>bbc65198cbe68d8efdc6f45187939f68</td>\n      <td>/r/SFWRedheads/comments/13cfi2n/redheadsfor_th...</td>\n      <td>https://i.redd.it/rx899dkwzrya1.jpg</td>\n      <td>13cfi2n.jpg</td>\n      <td>data/image/13cfi2n.jpg</td>\n      <td>RedHeadDiffusion</td>\n      <td>True</td>\n      <td>False</td>\n      <td>False</td>\n      <td>[]</td>\n    </tr>\n    <tr>\n      <th>...</th>\n      <td>...</td>\n      <td>...</td>\n      <td>...</td>\n      <td>...</td>\n      <td>...</td>\n      <td>...</td>\n      <td>...</td>\n      <td>...</td>\n      <td>...</td>\n      <td>...</td>\n      <td>...</td>\n      <td>...</td>\n      <td>...</td>\n      <td>...</td>\n      <td>...</td>\n    </tr>\n    <tr>\n      <th>13d2hsf</th>\n      <td>13d2hsf</td>\n      <td>bathandbodyworks</td>\n      <td>alesieoksap</td>\n      <td>Ice Cream Shop Collection?</td>\n      <td></td>\n      <td>c6788074138175c661fc652bd7630e33</td>\n      <td>/r/bathandbodyworks/comments/13d2hsf/ice_cream...</td>\n      <td>https://i.redd.it/uhwamoq99wya1.jpg</td>\n      <td>13d2hsf.jpg</td>\n      <td>data/image/13d2hsf.jpg</td>\n      <td>CandleDiffusion</td>\n      <td>True</td>\n      <td>False</td>\n      <td>False</td>\n      <td>[]</td>\n    </tr>\n    <tr>\n      <th>13d661b</th>\n      <td>13d661b</td>\n      <td>bathandbodyworks</td>\n      <td>xeloux</td>\n      <td>Facebook market finds!</td>\n      <td></td>\n      <td>e868289445c195815dd67dd0df1a65cb</td>\n      <td>/r/bathandbodyworks/comments/13d661b/facebook_...</td>\n      <td>https://i.redd.it/skd10hefxwya1.jpg</td>\n      <td>13d661b.jpg</td>\n      <td>data/image/13d661b.jpg</td>\n      <td>CandleDiffusion</td>\n      <td>True</td>\n      <td>False</td>\n      <td>False</td>\n      <td>[]</td>\n    </tr>\n    <tr>\n      <th>13d8s0i</th>\n      <td>13d8s0i</td>\n      <td>bathandbodyworks</td>\n      <td>Alternative-Tea-9355</td>\n      <td>Black Cherry Merlot dupe</td>\n      <td></td>\n      <td>965bc5a58a597192700234729758101b</td>\n      <td>/r/bathandbodyworks/comments/13d8s0i/black_che...</td>\n      <td>https://i.redd.it/xt7qew9qexya1.jpg</td>\n      <td>13d8s0i.jpg</td>\n      <td>data/image/13d8s0i.jpg</td>\n      <td>CandleDiffusion</td>\n      <td>True</td>\n      <td>False</td>\n      <td>False</td>\n      <td>[]</td>\n    </tr>\n    <tr>\n      <th>13dagbr</th>\n      <td>13dagbr</td>\n      <td>bathandbodyworks</td>\n      <td>Dove04</td>\n      <td>Does anyone know how I could get rid of this r...</td>\n      <td></td>\n      <td>41732e4109a99c99c91c2181867d18e3</td>\n      <td>/r/bathandbodyworks/comments/13dagbr/does_anyo...</td>\n      <td>https://i.redd.it/p0j6atz6rxya1.jpg</td>\n      <td>13dagbr.jpg</td>\n      <td>data/image/13dagbr.jpg</td>\n      <td>CandleDiffusion</td>\n      <td>True</td>\n      <td>False</td>\n      <td>False</td>\n      <td>[]</td>\n    </tr>\n    <tr>\n      <th>13dbhn4</th>\n      <td>13dbhn4</td>\n      <td>bathandbodyworks</td>\n      <td>Thebigbooty01</td>\n      <td>Gratis today at work</td>\n      <td></td>\n      <td>f2afdcbed21cc1f44ac757bf2f797ae6</td>\n      <td>/r/bathandbodyworks/comments/13dbhn4/gratis_to...</td>\n      <td>https://i.redd.it/x954qki8zxya1.jpg</td>\n      <td>13dbhn4.jpg</td>\n      <td>data/image/13dbhn4.jpg</td>\n      <td>CandleDiffusion</td>\n      <td>True</td>\n      <td>False</td>\n      <td>False</td>\n      <td>[]</td>\n    </tr>\n  </tbody>\n</table>\n<p>406 rows × 15 columns</p>\n</div>"
     },
     "metadata": {},
     "output_type": "display_data"
    },
    {
     "name": "stdout",
     "output_type": "stream",
     "text": [
      "CPU times: total: 1.25 s\n",
      "Wall time: 3.36 s\n"
     ]
    }
   ],
   "source": [
    "%%time\n",
    "\n",
    "filtered['hash'] = filtered.progress_apply(lambda x: functions.set_hash(x), axis=1)\n",
    "\n",
    "display(\"== Filtered Data With Hash ==\")\n",
    "display(filtered.shape)\n",
    "display(filtered)"
   ],
   "metadata": {
    "collapsed": false,
    "ExecuteTime": {
     "end_time": "2023-05-10T01:24:43.027879700Z",
     "start_time": "2023-05-10T01:24:41.068886300Z"
    }
   }
  },
  {
   "cell_type": "code",
   "execution_count": 16,
   "outputs": [
    {
     "name": "stdout",
     "output_type": "stream",
     "text": [
      "CPU times: total: 2min 11s\n",
      "Wall time: 2min 52s\n"
     ]
    }
   ],
   "source": [
    "%%time\n",
    "\n",
    "caption_0 = BlipCaption(\"cuda:0\")\n",
    "caption_1 = BlipCaption(\"cuda:1\")"
   ],
   "metadata": {
    "collapsed": false,
    "ExecuteTime": {
     "end_time": "2023-05-10T01:27:25.591707200Z",
     "start_time": "2023-05-10T01:24:41.069883200Z"
    }
   }
  },
  {
   "cell_type": "code",
   "execution_count": 17,
   "outputs": [
    {
     "name": "stderr",
     "output_type": "stream",
     "text": [
      "Progress:   0%|          | 0/406 [00:00<?, ?it/s]D:\\code\\repos\\simple-collection\\venv\\lib\\site-packages\\transformers\\generation\\utils.py:1313: UserWarning: Using `max_length`'s default (20) to control the generation length. This behaviour is deprecated and will be removed from the config in v5 of Transformers -- we recommend using `max_new_tokens` to control the maximum length of the generation.\n",
      "  warnings.warn(\n",
      "Progress: 100%|██████████| 406/406 [15:42<00:00,  2.32s/it]\n",
      "<timed exec>:1: SettingWithCopyWarning: \n",
      "A value is trying to be set on a copy of a slice from a DataFrame.\n",
      "Try using .loc[row_indexer,col_indexer] = value instead\n",
      "\n",
      "See the caveats in the documentation: https://pandas.pydata.org/pandas-docs/stable/user_guide/indexing.html#returning-a-view-versus-a-copy\n"
     ]
    },
    {
     "data": {
      "text/plain": "'== Filtered Data With Caption =='"
     },
     "metadata": {},
     "output_type": "display_data"
    },
    {
     "data": {
      "text/plain": "(406, 15)"
     },
     "metadata": {},
     "output_type": "display_data"
    },
    {
     "data": {
      "text/plain": "              id         subreddit                author   \nid                                                         \n13c3bc5  13c3bc5       SFWRedheads          Redhotwife88  \\\n13cbhj1  13cbhj1       SFWRedheads      itsSavannahWilde   \n13cf7m7  13cf7m7       SFWRedheads    ZealousidealEnd947   \n13cffyg  13cffyg       SFWRedheads    MortgageFormer1946   \n13cfi2n  13cfi2n       SFWRedheads         istayyawayyyX   \n...          ...               ...                   ...   \n13d2hsf  13d2hsf  bathandbodyworks           alesieoksap   \n13d661b  13d661b  bathandbodyworks                xeloux   \n13d8s0i  13d8s0i  bathandbodyworks  Alternative-Tea-9355   \n13dagbr  13dagbr  bathandbodyworks                Dove04   \n13dbhn4  13dbhn4  bathandbodyworks         Thebigbooty01   \n\n                                                     title   \nid                                                           \n13c3bc5         Redhead Wife in my Little Black Dress! [F]  \\\n13cbhj1                             Red hair & pink frames   \n13cf7m7                40 pounds down! Feeling ✨confident✨   \n13cffyg                                            Tired 😴   \n13cfi2n  redheads-for those brave enough to play with f...   \n...                                                    ...   \n13d2hsf                         Ice Cream Shop Collection?   \n13d661b                             Facebook market finds!   \n13d8s0i                           Black Cherry Merlot dupe   \n13dagbr  Does anyone know how I could get rid of this r...   \n13dbhn4                               Gratis today at work   \n\n                                                   caption   \nid                                                           \n13c3bc5                                                     \\\n13cbhj1  there is a woman with glasses and a black top ...   \n13cf7m7     there is a woman with red hair and a brown top   \n13cffyg  arafed woman sitting in a car with her hand on...   \n13cfi2n  arafed woman with red hair and blue eyes weari...   \n...                                                    ...   \n13d2hsf   someone holding a cup of ice cream in their hand   \n13d661b    three candles are sitting on a blanket on a bed   \n13d8s0i    someone holding a tube of body cream in a store   \n13dagbr  someone is holding a white device with a hole ...   \n13dbhn4  there are some bottles of bath and body produc...   \n\n                                     hash   \nid                                          \n13c3bc5                                    \\\n13cbhj1  0c2da695483dd7562ec9ef13f791b934   \n13cf7m7  4c3fe8876deccd1f3e9f19ba3d8f5cfc   \n13cffyg  58382c40ac34f2fa5b23666e9c939948   \n13cfi2n  bbc65198cbe68d8efdc6f45187939f68   \n...                                   ...   \n13d2hsf  c6788074138175c661fc652bd7630e33   \n13d661b  e868289445c195815dd67dd0df1a65cb   \n13d8s0i  965bc5a58a597192700234729758101b   \n13dagbr  41732e4109a99c99c91c2181867d18e3   \n13dbhn4  f2afdcbed21cc1f44ac757bf2f797ae6   \n\n                                                 permalink   \nid                                                           \n13c3bc5  /r/SFWRedheads/comments/13c3bc5/redhead_wife_i...  \\\n13cbhj1  /r/SFWRedheads/comments/13cbhj1/red_hair_pink_...   \n13cf7m7  /r/SFWRedheads/comments/13cf7m7/40_pounds_down...   \n13cffyg             /r/SFWRedheads/comments/13cffyg/tired/   \n13cfi2n  /r/SFWRedheads/comments/13cfi2n/redheadsfor_th...   \n...                                                    ...   \n13d2hsf  /r/bathandbodyworks/comments/13d2hsf/ice_cream...   \n13d661b  /r/bathandbodyworks/comments/13d661b/facebook_...   \n13d8s0i  /r/bathandbodyworks/comments/13d8s0i/black_che...   \n13dagbr  /r/bathandbodyworks/comments/13dagbr/does_anyo...   \n13dbhn4  /r/bathandbodyworks/comments/13dbhn4/gratis_to...   \n\n                                              original_url   image_name   \nid                                                                        \n13c3bc5  https://i.redgifs.com/i/admiredoutstandingpape...  13c3bc5.jpg  \\\n13cbhj1                https://i.redd.it/bnqlx1ku3rya1.jpg  13cbhj1.jpg   \n13cf7m7                https://i.redd.it/vigduj3bxrya1.jpg  13cf7m7.jpg   \n13cffyg                https://i.redd.it/vbtgztbdzrya1.jpg  13cffyg.jpg   \n13cfi2n                https://i.redd.it/rx899dkwzrya1.jpg  13cfi2n.jpg   \n...                                                    ...          ...   \n13d2hsf                https://i.redd.it/uhwamoq99wya1.jpg  13d2hsf.jpg   \n13d661b                https://i.redd.it/skd10hefxwya1.jpg  13d661b.jpg   \n13d8s0i                https://i.redd.it/xt7qew9qexya1.jpg  13d8s0i.jpg   \n13dagbr                https://i.redd.it/p0j6atz6rxya1.jpg  13dagbr.jpg   \n13dbhn4                https://i.redd.it/x954qki8zxya1.jpg  13dbhn4.jpg   \n\n                           path             model  exists  curated accept tags  \nid                                                                              \n13c3bc5                          RedHeadDiffusion   False    False  False   []  \n13cbhj1  data/image/13cbhj1.jpg  RedHeadDiffusion    True    False  False   []  \n13cf7m7  data/image/13cf7m7.jpg  RedHeadDiffusion    True    False  False   []  \n13cffyg  data/image/13cffyg.jpg  RedHeadDiffusion    True    False  False   []  \n13cfi2n  data/image/13cfi2n.jpg  RedHeadDiffusion    True    False  False   []  \n...                         ...               ...     ...      ...    ...  ...  \n13d2hsf  data/image/13d2hsf.jpg   CandleDiffusion    True    False  False   []  \n13d661b  data/image/13d661b.jpg   CandleDiffusion    True    False  False   []  \n13d8s0i  data/image/13d8s0i.jpg   CandleDiffusion    True    False  False   []  \n13dagbr  data/image/13dagbr.jpg   CandleDiffusion    True    False  False   []  \n13dbhn4  data/image/13dbhn4.jpg   CandleDiffusion    True    False  False   []  \n\n[406 rows x 15 columns]",
      "text/html": "<div>\n<style scoped>\n    .dataframe tbody tr th:only-of-type {\n        vertical-align: middle;\n    }\n\n    .dataframe tbody tr th {\n        vertical-align: top;\n    }\n\n    .dataframe thead th {\n        text-align: right;\n    }\n</style>\n<table border=\"1\" class=\"dataframe\">\n  <thead>\n    <tr style=\"text-align: right;\">\n      <th></th>\n      <th>id</th>\n      <th>subreddit</th>\n      <th>author</th>\n      <th>title</th>\n      <th>caption</th>\n      <th>hash</th>\n      <th>permalink</th>\n      <th>original_url</th>\n      <th>image_name</th>\n      <th>path</th>\n      <th>model</th>\n      <th>exists</th>\n      <th>curated</th>\n      <th>accept</th>\n      <th>tags</th>\n    </tr>\n    <tr>\n      <th>id</th>\n      <th></th>\n      <th></th>\n      <th></th>\n      <th></th>\n      <th></th>\n      <th></th>\n      <th></th>\n      <th></th>\n      <th></th>\n      <th></th>\n      <th></th>\n      <th></th>\n      <th></th>\n      <th></th>\n      <th></th>\n    </tr>\n  </thead>\n  <tbody>\n    <tr>\n      <th>13c3bc5</th>\n      <td>13c3bc5</td>\n      <td>SFWRedheads</td>\n      <td>Redhotwife88</td>\n      <td>Redhead Wife in my Little Black Dress! [F]</td>\n      <td></td>\n      <td></td>\n      <td>/r/SFWRedheads/comments/13c3bc5/redhead_wife_i...</td>\n      <td>https://i.redgifs.com/i/admiredoutstandingpape...</td>\n      <td>13c3bc5.jpg</td>\n      <td></td>\n      <td>RedHeadDiffusion</td>\n      <td>False</td>\n      <td>False</td>\n      <td>False</td>\n      <td>[]</td>\n    </tr>\n    <tr>\n      <th>13cbhj1</th>\n      <td>13cbhj1</td>\n      <td>SFWRedheads</td>\n      <td>itsSavannahWilde</td>\n      <td>Red hair &amp; pink frames</td>\n      <td>there is a woman with glasses and a black top ...</td>\n      <td>0c2da695483dd7562ec9ef13f791b934</td>\n      <td>/r/SFWRedheads/comments/13cbhj1/red_hair_pink_...</td>\n      <td>https://i.redd.it/bnqlx1ku3rya1.jpg</td>\n      <td>13cbhj1.jpg</td>\n      <td>data/image/13cbhj1.jpg</td>\n      <td>RedHeadDiffusion</td>\n      <td>True</td>\n      <td>False</td>\n      <td>False</td>\n      <td>[]</td>\n    </tr>\n    <tr>\n      <th>13cf7m7</th>\n      <td>13cf7m7</td>\n      <td>SFWRedheads</td>\n      <td>ZealousidealEnd947</td>\n      <td>40 pounds down! Feeling ✨confident✨</td>\n      <td>there is a woman with red hair and a brown top</td>\n      <td>4c3fe8876deccd1f3e9f19ba3d8f5cfc</td>\n      <td>/r/SFWRedheads/comments/13cf7m7/40_pounds_down...</td>\n      <td>https://i.redd.it/vigduj3bxrya1.jpg</td>\n      <td>13cf7m7.jpg</td>\n      <td>data/image/13cf7m7.jpg</td>\n      <td>RedHeadDiffusion</td>\n      <td>True</td>\n      <td>False</td>\n      <td>False</td>\n      <td>[]</td>\n    </tr>\n    <tr>\n      <th>13cffyg</th>\n      <td>13cffyg</td>\n      <td>SFWRedheads</td>\n      <td>MortgageFormer1946</td>\n      <td>Tired 😴</td>\n      <td>arafed woman sitting in a car with her hand on...</td>\n      <td>58382c40ac34f2fa5b23666e9c939948</td>\n      <td>/r/SFWRedheads/comments/13cffyg/tired/</td>\n      <td>https://i.redd.it/vbtgztbdzrya1.jpg</td>\n      <td>13cffyg.jpg</td>\n      <td>data/image/13cffyg.jpg</td>\n      <td>RedHeadDiffusion</td>\n      <td>True</td>\n      <td>False</td>\n      <td>False</td>\n      <td>[]</td>\n    </tr>\n    <tr>\n      <th>13cfi2n</th>\n      <td>13cfi2n</td>\n      <td>SFWRedheads</td>\n      <td>istayyawayyyX</td>\n      <td>redheads-for those brave enough to play with f...</td>\n      <td>arafed woman with red hair and blue eyes weari...</td>\n      <td>bbc65198cbe68d8efdc6f45187939f68</td>\n      <td>/r/SFWRedheads/comments/13cfi2n/redheadsfor_th...</td>\n      <td>https://i.redd.it/rx899dkwzrya1.jpg</td>\n      <td>13cfi2n.jpg</td>\n      <td>data/image/13cfi2n.jpg</td>\n      <td>RedHeadDiffusion</td>\n      <td>True</td>\n      <td>False</td>\n      <td>False</td>\n      <td>[]</td>\n    </tr>\n    <tr>\n      <th>...</th>\n      <td>...</td>\n      <td>...</td>\n      <td>...</td>\n      <td>...</td>\n      <td>...</td>\n      <td>...</td>\n      <td>...</td>\n      <td>...</td>\n      <td>...</td>\n      <td>...</td>\n      <td>...</td>\n      <td>...</td>\n      <td>...</td>\n      <td>...</td>\n      <td>...</td>\n    </tr>\n    <tr>\n      <th>13d2hsf</th>\n      <td>13d2hsf</td>\n      <td>bathandbodyworks</td>\n      <td>alesieoksap</td>\n      <td>Ice Cream Shop Collection?</td>\n      <td>someone holding a cup of ice cream in their hand</td>\n      <td>c6788074138175c661fc652bd7630e33</td>\n      <td>/r/bathandbodyworks/comments/13d2hsf/ice_cream...</td>\n      <td>https://i.redd.it/uhwamoq99wya1.jpg</td>\n      <td>13d2hsf.jpg</td>\n      <td>data/image/13d2hsf.jpg</td>\n      <td>CandleDiffusion</td>\n      <td>True</td>\n      <td>False</td>\n      <td>False</td>\n      <td>[]</td>\n    </tr>\n    <tr>\n      <th>13d661b</th>\n      <td>13d661b</td>\n      <td>bathandbodyworks</td>\n      <td>xeloux</td>\n      <td>Facebook market finds!</td>\n      <td>three candles are sitting on a blanket on a bed</td>\n      <td>e868289445c195815dd67dd0df1a65cb</td>\n      <td>/r/bathandbodyworks/comments/13d661b/facebook_...</td>\n      <td>https://i.redd.it/skd10hefxwya1.jpg</td>\n      <td>13d661b.jpg</td>\n      <td>data/image/13d661b.jpg</td>\n      <td>CandleDiffusion</td>\n      <td>True</td>\n      <td>False</td>\n      <td>False</td>\n      <td>[]</td>\n    </tr>\n    <tr>\n      <th>13d8s0i</th>\n      <td>13d8s0i</td>\n      <td>bathandbodyworks</td>\n      <td>Alternative-Tea-9355</td>\n      <td>Black Cherry Merlot dupe</td>\n      <td>someone holding a tube of body cream in a store</td>\n      <td>965bc5a58a597192700234729758101b</td>\n      <td>/r/bathandbodyworks/comments/13d8s0i/black_che...</td>\n      <td>https://i.redd.it/xt7qew9qexya1.jpg</td>\n      <td>13d8s0i.jpg</td>\n      <td>data/image/13d8s0i.jpg</td>\n      <td>CandleDiffusion</td>\n      <td>True</td>\n      <td>False</td>\n      <td>False</td>\n      <td>[]</td>\n    </tr>\n    <tr>\n      <th>13dagbr</th>\n      <td>13dagbr</td>\n      <td>bathandbodyworks</td>\n      <td>Dove04</td>\n      <td>Does anyone know how I could get rid of this r...</td>\n      <td>someone is holding a white device with a hole ...</td>\n      <td>41732e4109a99c99c91c2181867d18e3</td>\n      <td>/r/bathandbodyworks/comments/13dagbr/does_anyo...</td>\n      <td>https://i.redd.it/p0j6atz6rxya1.jpg</td>\n      <td>13dagbr.jpg</td>\n      <td>data/image/13dagbr.jpg</td>\n      <td>CandleDiffusion</td>\n      <td>True</td>\n      <td>False</td>\n      <td>False</td>\n      <td>[]</td>\n    </tr>\n    <tr>\n      <th>13dbhn4</th>\n      <td>13dbhn4</td>\n      <td>bathandbodyworks</td>\n      <td>Thebigbooty01</td>\n      <td>Gratis today at work</td>\n      <td>there are some bottles of bath and body produc...</td>\n      <td>f2afdcbed21cc1f44ac757bf2f797ae6</td>\n      <td>/r/bathandbodyworks/comments/13dbhn4/gratis_to...</td>\n      <td>https://i.redd.it/x954qki8zxya1.jpg</td>\n      <td>13dbhn4.jpg</td>\n      <td>data/image/13dbhn4.jpg</td>\n      <td>CandleDiffusion</td>\n      <td>True</td>\n      <td>False</td>\n      <td>False</td>\n      <td>[]</td>\n    </tr>\n  </tbody>\n</table>\n<p>406 rows × 15 columns</p>\n</div>"
     },
     "metadata": {},
     "output_type": "display_data"
    },
    {
     "name": "stdout",
     "output_type": "stream",
     "text": [
      "CPU times: total: 14min 58s\n",
      "Wall time: 15min 42s\n"
     ]
    }
   ],
   "source": [
    "%%time\n",
    "\n",
    "filtered['caption'] = filtered.progress_apply(lambda x: functions.apply_caption(x, [caption_0, caption_1]), axis=1)\n",
    "\n",
    "display(\"== Filtered Data With Caption ==\")\n",
    "display(filtered.shape)\n",
    "display(filtered)"
   ],
   "metadata": {
    "collapsed": false,
    "ExecuteTime": {
     "end_time": "2023-05-10T01:43:08.650555400Z",
     "start_time": "2023-05-10T01:27:25.591707200Z"
    }
   }
  },
  {
   "cell_type": "code",
   "execution_count": 18,
   "outputs": [
    {
     "data": {
      "text/plain": "'== Filtered On Missing Caption =='"
     },
     "metadata": {},
     "output_type": "display_data"
    },
    {
     "data": {
      "text/plain": "(395, 15)"
     },
     "metadata": {},
     "output_type": "display_data"
    },
    {
     "data": {
      "text/plain": "              id         subreddit                author   \nid                                                         \n13cbhj1  13cbhj1       SFWRedheads      itsSavannahWilde  \\\n13cf7m7  13cf7m7       SFWRedheads    ZealousidealEnd947   \n13cffyg  13cffyg       SFWRedheads    MortgageFormer1946   \n13cfi2n  13cfi2n       SFWRedheads         istayyawayyyX   \n13ck3w5  13ck3w5       SFWRedheads         kisstheredfox   \n...          ...               ...                   ...   \n13d2hsf  13d2hsf  bathandbodyworks           alesieoksap   \n13d661b  13d661b  bathandbodyworks                xeloux   \n13d8s0i  13d8s0i  bathandbodyworks  Alternative-Tea-9355   \n13dagbr  13dagbr  bathandbodyworks                Dove04   \n13dbhn4  13dbhn4  bathandbodyworks         Thebigbooty01   \n\n                                                     title   \nid                                                           \n13cbhj1                             Red hair & pink frames  \\\n13cf7m7                40 pounds down! Feeling ✨confident✨   \n13cffyg                                            Tired 😴   \n13cfi2n  redheads-for those brave enough to play with f...   \n13ck3w5                       Good morning from the studio   \n...                                                    ...   \n13d2hsf                         Ice Cream Shop Collection?   \n13d661b                             Facebook market finds!   \n13d8s0i                           Black Cherry Merlot dupe   \n13dagbr  Does anyone know how I could get rid of this r...   \n13dbhn4                               Gratis today at work   \n\n                                                   caption   \nid                                                           \n13cbhj1  there is a woman with glasses and a black top ...  \\\n13cf7m7     there is a woman with red hair and a brown top   \n13cffyg  arafed woman sitting in a car with her hand on...   \n13cfi2n  arafed woman with red hair and blue eyes weari...   \n13ck3w5  there is a woman with long red hair posing for...   \n...                                                    ...   \n13d2hsf   someone holding a cup of ice cream in their hand   \n13d661b    three candles are sitting on a blanket on a bed   \n13d8s0i    someone holding a tube of body cream in a store   \n13dagbr  someone is holding a white device with a hole ...   \n13dbhn4  there are some bottles of bath and body produc...   \n\n                                     hash   \nid                                          \n13cbhj1  0c2da695483dd7562ec9ef13f791b934  \\\n13cf7m7  4c3fe8876deccd1f3e9f19ba3d8f5cfc   \n13cffyg  58382c40ac34f2fa5b23666e9c939948   \n13cfi2n  bbc65198cbe68d8efdc6f45187939f68   \n13ck3w5  46882166f463eccc64e63b698c975234   \n...                                   ...   \n13d2hsf  c6788074138175c661fc652bd7630e33   \n13d661b  e868289445c195815dd67dd0df1a65cb   \n13d8s0i  965bc5a58a597192700234729758101b   \n13dagbr  41732e4109a99c99c91c2181867d18e3   \n13dbhn4  f2afdcbed21cc1f44ac757bf2f797ae6   \n\n                                                 permalink   \nid                                                           \n13cbhj1  /r/SFWRedheads/comments/13cbhj1/red_hair_pink_...  \\\n13cf7m7  /r/SFWRedheads/comments/13cf7m7/40_pounds_down...   \n13cffyg             /r/SFWRedheads/comments/13cffyg/tired/   \n13cfi2n  /r/SFWRedheads/comments/13cfi2n/redheadsfor_th...   \n13ck3w5  /r/SFWRedheads/comments/13ck3w5/good_morning_f...   \n...                                                    ...   \n13d2hsf  /r/bathandbodyworks/comments/13d2hsf/ice_cream...   \n13d661b  /r/bathandbodyworks/comments/13d661b/facebook_...   \n13d8s0i  /r/bathandbodyworks/comments/13d8s0i/black_che...   \n13dagbr  /r/bathandbodyworks/comments/13dagbr/does_anyo...   \n13dbhn4  /r/bathandbodyworks/comments/13dbhn4/gratis_to...   \n\n                                original_url   image_name   \nid                                                          \n13cbhj1  https://i.redd.it/bnqlx1ku3rya1.jpg  13cbhj1.jpg  \\\n13cf7m7  https://i.redd.it/vigduj3bxrya1.jpg  13cf7m7.jpg   \n13cffyg  https://i.redd.it/vbtgztbdzrya1.jpg  13cffyg.jpg   \n13cfi2n  https://i.redd.it/rx899dkwzrya1.jpg  13cfi2n.jpg   \n13ck3w5  https://i.redd.it/jso53o4zsrya1.jpg  13ck3w5.jpg   \n...                                      ...          ...   \n13d2hsf  https://i.redd.it/uhwamoq99wya1.jpg  13d2hsf.jpg   \n13d661b  https://i.redd.it/skd10hefxwya1.jpg  13d661b.jpg   \n13d8s0i  https://i.redd.it/xt7qew9qexya1.jpg  13d8s0i.jpg   \n13dagbr  https://i.redd.it/p0j6atz6rxya1.jpg  13dagbr.jpg   \n13dbhn4  https://i.redd.it/x954qki8zxya1.jpg  13dbhn4.jpg   \n\n                           path             model  exists  curated accept tags  \nid                                                                              \n13cbhj1  data/image/13cbhj1.jpg  RedHeadDiffusion    True    False  False   []  \n13cf7m7  data/image/13cf7m7.jpg  RedHeadDiffusion    True    False  False   []  \n13cffyg  data/image/13cffyg.jpg  RedHeadDiffusion    True    False  False   []  \n13cfi2n  data/image/13cfi2n.jpg  RedHeadDiffusion    True    False  False   []  \n13ck3w5  data/image/13ck3w5.jpg  RedHeadDiffusion    True    False  False   []  \n...                         ...               ...     ...      ...    ...  ...  \n13d2hsf  data/image/13d2hsf.jpg   CandleDiffusion    True    False  False   []  \n13d661b  data/image/13d661b.jpg   CandleDiffusion    True    False  False   []  \n13d8s0i  data/image/13d8s0i.jpg   CandleDiffusion    True    False  False   []  \n13dagbr  data/image/13dagbr.jpg   CandleDiffusion    True    False  False   []  \n13dbhn4  data/image/13dbhn4.jpg   CandleDiffusion    True    False  False   []  \n\n[395 rows x 15 columns]",
      "text/html": "<div>\n<style scoped>\n    .dataframe tbody tr th:only-of-type {\n        vertical-align: middle;\n    }\n\n    .dataframe tbody tr th {\n        vertical-align: top;\n    }\n\n    .dataframe thead th {\n        text-align: right;\n    }\n</style>\n<table border=\"1\" class=\"dataframe\">\n  <thead>\n    <tr style=\"text-align: right;\">\n      <th></th>\n      <th>id</th>\n      <th>subreddit</th>\n      <th>author</th>\n      <th>title</th>\n      <th>caption</th>\n      <th>hash</th>\n      <th>permalink</th>\n      <th>original_url</th>\n      <th>image_name</th>\n      <th>path</th>\n      <th>model</th>\n      <th>exists</th>\n      <th>curated</th>\n      <th>accept</th>\n      <th>tags</th>\n    </tr>\n    <tr>\n      <th>id</th>\n      <th></th>\n      <th></th>\n      <th></th>\n      <th></th>\n      <th></th>\n      <th></th>\n      <th></th>\n      <th></th>\n      <th></th>\n      <th></th>\n      <th></th>\n      <th></th>\n      <th></th>\n      <th></th>\n      <th></th>\n    </tr>\n  </thead>\n  <tbody>\n    <tr>\n      <th>13cbhj1</th>\n      <td>13cbhj1</td>\n      <td>SFWRedheads</td>\n      <td>itsSavannahWilde</td>\n      <td>Red hair &amp; pink frames</td>\n      <td>there is a woman with glasses and a black top ...</td>\n      <td>0c2da695483dd7562ec9ef13f791b934</td>\n      <td>/r/SFWRedheads/comments/13cbhj1/red_hair_pink_...</td>\n      <td>https://i.redd.it/bnqlx1ku3rya1.jpg</td>\n      <td>13cbhj1.jpg</td>\n      <td>data/image/13cbhj1.jpg</td>\n      <td>RedHeadDiffusion</td>\n      <td>True</td>\n      <td>False</td>\n      <td>False</td>\n      <td>[]</td>\n    </tr>\n    <tr>\n      <th>13cf7m7</th>\n      <td>13cf7m7</td>\n      <td>SFWRedheads</td>\n      <td>ZealousidealEnd947</td>\n      <td>40 pounds down! Feeling ✨confident✨</td>\n      <td>there is a woman with red hair and a brown top</td>\n      <td>4c3fe8876deccd1f3e9f19ba3d8f5cfc</td>\n      <td>/r/SFWRedheads/comments/13cf7m7/40_pounds_down...</td>\n      <td>https://i.redd.it/vigduj3bxrya1.jpg</td>\n      <td>13cf7m7.jpg</td>\n      <td>data/image/13cf7m7.jpg</td>\n      <td>RedHeadDiffusion</td>\n      <td>True</td>\n      <td>False</td>\n      <td>False</td>\n      <td>[]</td>\n    </tr>\n    <tr>\n      <th>13cffyg</th>\n      <td>13cffyg</td>\n      <td>SFWRedheads</td>\n      <td>MortgageFormer1946</td>\n      <td>Tired 😴</td>\n      <td>arafed woman sitting in a car with her hand on...</td>\n      <td>58382c40ac34f2fa5b23666e9c939948</td>\n      <td>/r/SFWRedheads/comments/13cffyg/tired/</td>\n      <td>https://i.redd.it/vbtgztbdzrya1.jpg</td>\n      <td>13cffyg.jpg</td>\n      <td>data/image/13cffyg.jpg</td>\n      <td>RedHeadDiffusion</td>\n      <td>True</td>\n      <td>False</td>\n      <td>False</td>\n      <td>[]</td>\n    </tr>\n    <tr>\n      <th>13cfi2n</th>\n      <td>13cfi2n</td>\n      <td>SFWRedheads</td>\n      <td>istayyawayyyX</td>\n      <td>redheads-for those brave enough to play with f...</td>\n      <td>arafed woman with red hair and blue eyes weari...</td>\n      <td>bbc65198cbe68d8efdc6f45187939f68</td>\n      <td>/r/SFWRedheads/comments/13cfi2n/redheadsfor_th...</td>\n      <td>https://i.redd.it/rx899dkwzrya1.jpg</td>\n      <td>13cfi2n.jpg</td>\n      <td>data/image/13cfi2n.jpg</td>\n      <td>RedHeadDiffusion</td>\n      <td>True</td>\n      <td>False</td>\n      <td>False</td>\n      <td>[]</td>\n    </tr>\n    <tr>\n      <th>13ck3w5</th>\n      <td>13ck3w5</td>\n      <td>SFWRedheads</td>\n      <td>kisstheredfox</td>\n      <td>Good morning from the studio</td>\n      <td>there is a woman with long red hair posing for...</td>\n      <td>46882166f463eccc64e63b698c975234</td>\n      <td>/r/SFWRedheads/comments/13ck3w5/good_morning_f...</td>\n      <td>https://i.redd.it/jso53o4zsrya1.jpg</td>\n      <td>13ck3w5.jpg</td>\n      <td>data/image/13ck3w5.jpg</td>\n      <td>RedHeadDiffusion</td>\n      <td>True</td>\n      <td>False</td>\n      <td>False</td>\n      <td>[]</td>\n    </tr>\n    <tr>\n      <th>...</th>\n      <td>...</td>\n      <td>...</td>\n      <td>...</td>\n      <td>...</td>\n      <td>...</td>\n      <td>...</td>\n      <td>...</td>\n      <td>...</td>\n      <td>...</td>\n      <td>...</td>\n      <td>...</td>\n      <td>...</td>\n      <td>...</td>\n      <td>...</td>\n      <td>...</td>\n    </tr>\n    <tr>\n      <th>13d2hsf</th>\n      <td>13d2hsf</td>\n      <td>bathandbodyworks</td>\n      <td>alesieoksap</td>\n      <td>Ice Cream Shop Collection?</td>\n      <td>someone holding a cup of ice cream in their hand</td>\n      <td>c6788074138175c661fc652bd7630e33</td>\n      <td>/r/bathandbodyworks/comments/13d2hsf/ice_cream...</td>\n      <td>https://i.redd.it/uhwamoq99wya1.jpg</td>\n      <td>13d2hsf.jpg</td>\n      <td>data/image/13d2hsf.jpg</td>\n      <td>CandleDiffusion</td>\n      <td>True</td>\n      <td>False</td>\n      <td>False</td>\n      <td>[]</td>\n    </tr>\n    <tr>\n      <th>13d661b</th>\n      <td>13d661b</td>\n      <td>bathandbodyworks</td>\n      <td>xeloux</td>\n      <td>Facebook market finds!</td>\n      <td>three candles are sitting on a blanket on a bed</td>\n      <td>e868289445c195815dd67dd0df1a65cb</td>\n      <td>/r/bathandbodyworks/comments/13d661b/facebook_...</td>\n      <td>https://i.redd.it/skd10hefxwya1.jpg</td>\n      <td>13d661b.jpg</td>\n      <td>data/image/13d661b.jpg</td>\n      <td>CandleDiffusion</td>\n      <td>True</td>\n      <td>False</td>\n      <td>False</td>\n      <td>[]</td>\n    </tr>\n    <tr>\n      <th>13d8s0i</th>\n      <td>13d8s0i</td>\n      <td>bathandbodyworks</td>\n      <td>Alternative-Tea-9355</td>\n      <td>Black Cherry Merlot dupe</td>\n      <td>someone holding a tube of body cream in a store</td>\n      <td>965bc5a58a597192700234729758101b</td>\n      <td>/r/bathandbodyworks/comments/13d8s0i/black_che...</td>\n      <td>https://i.redd.it/xt7qew9qexya1.jpg</td>\n      <td>13d8s0i.jpg</td>\n      <td>data/image/13d8s0i.jpg</td>\n      <td>CandleDiffusion</td>\n      <td>True</td>\n      <td>False</td>\n      <td>False</td>\n      <td>[]</td>\n    </tr>\n    <tr>\n      <th>13dagbr</th>\n      <td>13dagbr</td>\n      <td>bathandbodyworks</td>\n      <td>Dove04</td>\n      <td>Does anyone know how I could get rid of this r...</td>\n      <td>someone is holding a white device with a hole ...</td>\n      <td>41732e4109a99c99c91c2181867d18e3</td>\n      <td>/r/bathandbodyworks/comments/13dagbr/does_anyo...</td>\n      <td>https://i.redd.it/p0j6atz6rxya1.jpg</td>\n      <td>13dagbr.jpg</td>\n      <td>data/image/13dagbr.jpg</td>\n      <td>CandleDiffusion</td>\n      <td>True</td>\n      <td>False</td>\n      <td>False</td>\n      <td>[]</td>\n    </tr>\n    <tr>\n      <th>13dbhn4</th>\n      <td>13dbhn4</td>\n      <td>bathandbodyworks</td>\n      <td>Thebigbooty01</td>\n      <td>Gratis today at work</td>\n      <td>there are some bottles of bath and body produc...</td>\n      <td>f2afdcbed21cc1f44ac757bf2f797ae6</td>\n      <td>/r/bathandbodyworks/comments/13dbhn4/gratis_to...</td>\n      <td>https://i.redd.it/x954qki8zxya1.jpg</td>\n      <td>13dbhn4.jpg</td>\n      <td>data/image/13dbhn4.jpg</td>\n      <td>CandleDiffusion</td>\n      <td>True</td>\n      <td>False</td>\n      <td>False</td>\n      <td>[]</td>\n    </tr>\n  </tbody>\n</table>\n<p>395 rows × 15 columns</p>\n</div>"
     },
     "metadata": {},
     "output_type": "display_data"
    },
    {
     "name": "stdout",
     "output_type": "stream",
     "text": [
      "CPU times: total: 78.1 ms\n",
      "Wall time: 143 ms\n"
     ]
    }
   ],
   "source": [
    "%%time\n",
    "\n",
    "filtered_more = filtered.loc[(filtered['caption'] != \"\") & (filtered['caption'].notnull()) & (filtered['exists'] == True)]\n",
    "\n",
    "display(\"== Filtered On Missing Caption ==\")\n",
    "display(filtered_more.shape)\n",
    "display(filtered_more)"
   ],
   "metadata": {
    "collapsed": false,
    "ExecuteTime": {
     "end_time": "2023-05-10T01:43:09.156551500Z",
     "start_time": "2023-05-10T01:43:08.668555300Z"
    }
   }
  },
  {
   "cell_type": "code",
   "execution_count": 19,
   "outputs": [
    {
     "data": {
      "text/plain": "'== Dropped And Reset Data =='"
     },
     "metadata": {},
     "output_type": "display_data"
    },
    {
     "data": {
      "text/plain": "(395, 15)"
     },
     "metadata": {},
     "output_type": "display_data"
    },
    {
     "data": {
      "text/plain": "          id         subreddit                author   \n0    13cbhj1       SFWRedheads      itsSavannahWilde  \\\n1    13cf7m7       SFWRedheads    ZealousidealEnd947   \n2    13cffyg       SFWRedheads    MortgageFormer1946   \n3    13cfi2n       SFWRedheads         istayyawayyyX   \n4    13ck3w5       SFWRedheads         kisstheredfox   \n..       ...               ...                   ...   \n390  13d2hsf  bathandbodyworks           alesieoksap   \n391  13d661b  bathandbodyworks                xeloux   \n392  13d8s0i  bathandbodyworks  Alternative-Tea-9355   \n393  13dagbr  bathandbodyworks                Dove04   \n394  13dbhn4  bathandbodyworks         Thebigbooty01   \n\n                                                 title   \n0                               Red hair & pink frames  \\\n1                  40 pounds down! Feeling ✨confident✨   \n2                                              Tired 😴   \n3    redheads-for those brave enough to play with f...   \n4                         Good morning from the studio   \n..                                                 ...   \n390                         Ice Cream Shop Collection?   \n391                             Facebook market finds!   \n392                           Black Cherry Merlot dupe   \n393  Does anyone know how I could get rid of this r...   \n394                               Gratis today at work   \n\n                                               caption   \n0    there is a woman with glasses and a black top ...  \\\n1       there is a woman with red hair and a brown top   \n2    arafed woman sitting in a car with her hand on...   \n3    arafed woman with red hair and blue eyes weari...   \n4    there is a woman with long red hair posing for...   \n..                                                 ...   \n390   someone holding a cup of ice cream in their hand   \n391    three candles are sitting on a blanket on a bed   \n392    someone holding a tube of body cream in a store   \n393  someone is holding a white device with a hole ...   \n394  there are some bottles of bath and body produc...   \n\n                                 hash   \n0    0c2da695483dd7562ec9ef13f791b934  \\\n1    4c3fe8876deccd1f3e9f19ba3d8f5cfc   \n2    58382c40ac34f2fa5b23666e9c939948   \n3    bbc65198cbe68d8efdc6f45187939f68   \n4    46882166f463eccc64e63b698c975234   \n..                                ...   \n390  c6788074138175c661fc652bd7630e33   \n391  e868289445c195815dd67dd0df1a65cb   \n392  965bc5a58a597192700234729758101b   \n393  41732e4109a99c99c91c2181867d18e3   \n394  f2afdcbed21cc1f44ac757bf2f797ae6   \n\n                                             permalink   \n0    /r/SFWRedheads/comments/13cbhj1/red_hair_pink_...  \\\n1    /r/SFWRedheads/comments/13cf7m7/40_pounds_down...   \n2               /r/SFWRedheads/comments/13cffyg/tired/   \n3    /r/SFWRedheads/comments/13cfi2n/redheadsfor_th...   \n4    /r/SFWRedheads/comments/13ck3w5/good_morning_f...   \n..                                                 ...   \n390  /r/bathandbodyworks/comments/13d2hsf/ice_cream...   \n391  /r/bathandbodyworks/comments/13d661b/facebook_...   \n392  /r/bathandbodyworks/comments/13d8s0i/black_che...   \n393  /r/bathandbodyworks/comments/13dagbr/does_anyo...   \n394  /r/bathandbodyworks/comments/13dbhn4/gratis_to...   \n\n                            original_url   image_name                    path   \n0    https://i.redd.it/bnqlx1ku3rya1.jpg  13cbhj1.jpg  data/image/13cbhj1.jpg  \\\n1    https://i.redd.it/vigduj3bxrya1.jpg  13cf7m7.jpg  data/image/13cf7m7.jpg   \n2    https://i.redd.it/vbtgztbdzrya1.jpg  13cffyg.jpg  data/image/13cffyg.jpg   \n3    https://i.redd.it/rx899dkwzrya1.jpg  13cfi2n.jpg  data/image/13cfi2n.jpg   \n4    https://i.redd.it/jso53o4zsrya1.jpg  13ck3w5.jpg  data/image/13ck3w5.jpg   \n..                                   ...          ...                     ...   \n390  https://i.redd.it/uhwamoq99wya1.jpg  13d2hsf.jpg  data/image/13d2hsf.jpg   \n391  https://i.redd.it/skd10hefxwya1.jpg  13d661b.jpg  data/image/13d661b.jpg   \n392  https://i.redd.it/xt7qew9qexya1.jpg  13d8s0i.jpg  data/image/13d8s0i.jpg   \n393  https://i.redd.it/p0j6atz6rxya1.jpg  13dagbr.jpg  data/image/13dagbr.jpg   \n394  https://i.redd.it/x954qki8zxya1.jpg  13dbhn4.jpg  data/image/13dbhn4.jpg   \n\n                model  exists  curated accept tags  \n0    RedHeadDiffusion    True    False  False   []  \n1    RedHeadDiffusion    True    False  False   []  \n2    RedHeadDiffusion    True    False  False   []  \n3    RedHeadDiffusion    True    False  False   []  \n4    RedHeadDiffusion    True    False  False   []  \n..                ...     ...      ...    ...  ...  \n390   CandleDiffusion    True    False  False   []  \n391   CandleDiffusion    True    False  False   []  \n392   CandleDiffusion    True    False  False   []  \n393   CandleDiffusion    True    False  False   []  \n394   CandleDiffusion    True    False  False   []  \n\n[395 rows x 15 columns]",
      "text/html": "<div>\n<style scoped>\n    .dataframe tbody tr th:only-of-type {\n        vertical-align: middle;\n    }\n\n    .dataframe tbody tr th {\n        vertical-align: top;\n    }\n\n    .dataframe thead th {\n        text-align: right;\n    }\n</style>\n<table border=\"1\" class=\"dataframe\">\n  <thead>\n    <tr style=\"text-align: right;\">\n      <th></th>\n      <th>id</th>\n      <th>subreddit</th>\n      <th>author</th>\n      <th>title</th>\n      <th>caption</th>\n      <th>hash</th>\n      <th>permalink</th>\n      <th>original_url</th>\n      <th>image_name</th>\n      <th>path</th>\n      <th>model</th>\n      <th>exists</th>\n      <th>curated</th>\n      <th>accept</th>\n      <th>tags</th>\n    </tr>\n  </thead>\n  <tbody>\n    <tr>\n      <th>0</th>\n      <td>13cbhj1</td>\n      <td>SFWRedheads</td>\n      <td>itsSavannahWilde</td>\n      <td>Red hair &amp; pink frames</td>\n      <td>there is a woman with glasses and a black top ...</td>\n      <td>0c2da695483dd7562ec9ef13f791b934</td>\n      <td>/r/SFWRedheads/comments/13cbhj1/red_hair_pink_...</td>\n      <td>https://i.redd.it/bnqlx1ku3rya1.jpg</td>\n      <td>13cbhj1.jpg</td>\n      <td>data/image/13cbhj1.jpg</td>\n      <td>RedHeadDiffusion</td>\n      <td>True</td>\n      <td>False</td>\n      <td>False</td>\n      <td>[]</td>\n    </tr>\n    <tr>\n      <th>1</th>\n      <td>13cf7m7</td>\n      <td>SFWRedheads</td>\n      <td>ZealousidealEnd947</td>\n      <td>40 pounds down! Feeling ✨confident✨</td>\n      <td>there is a woman with red hair and a brown top</td>\n      <td>4c3fe8876deccd1f3e9f19ba3d8f5cfc</td>\n      <td>/r/SFWRedheads/comments/13cf7m7/40_pounds_down...</td>\n      <td>https://i.redd.it/vigduj3bxrya1.jpg</td>\n      <td>13cf7m7.jpg</td>\n      <td>data/image/13cf7m7.jpg</td>\n      <td>RedHeadDiffusion</td>\n      <td>True</td>\n      <td>False</td>\n      <td>False</td>\n      <td>[]</td>\n    </tr>\n    <tr>\n      <th>2</th>\n      <td>13cffyg</td>\n      <td>SFWRedheads</td>\n      <td>MortgageFormer1946</td>\n      <td>Tired 😴</td>\n      <td>arafed woman sitting in a car with her hand on...</td>\n      <td>58382c40ac34f2fa5b23666e9c939948</td>\n      <td>/r/SFWRedheads/comments/13cffyg/tired/</td>\n      <td>https://i.redd.it/vbtgztbdzrya1.jpg</td>\n      <td>13cffyg.jpg</td>\n      <td>data/image/13cffyg.jpg</td>\n      <td>RedHeadDiffusion</td>\n      <td>True</td>\n      <td>False</td>\n      <td>False</td>\n      <td>[]</td>\n    </tr>\n    <tr>\n      <th>3</th>\n      <td>13cfi2n</td>\n      <td>SFWRedheads</td>\n      <td>istayyawayyyX</td>\n      <td>redheads-for those brave enough to play with f...</td>\n      <td>arafed woman with red hair and blue eyes weari...</td>\n      <td>bbc65198cbe68d8efdc6f45187939f68</td>\n      <td>/r/SFWRedheads/comments/13cfi2n/redheadsfor_th...</td>\n      <td>https://i.redd.it/rx899dkwzrya1.jpg</td>\n      <td>13cfi2n.jpg</td>\n      <td>data/image/13cfi2n.jpg</td>\n      <td>RedHeadDiffusion</td>\n      <td>True</td>\n      <td>False</td>\n      <td>False</td>\n      <td>[]</td>\n    </tr>\n    <tr>\n      <th>4</th>\n      <td>13ck3w5</td>\n      <td>SFWRedheads</td>\n      <td>kisstheredfox</td>\n      <td>Good morning from the studio</td>\n      <td>there is a woman with long red hair posing for...</td>\n      <td>46882166f463eccc64e63b698c975234</td>\n      <td>/r/SFWRedheads/comments/13ck3w5/good_morning_f...</td>\n      <td>https://i.redd.it/jso53o4zsrya1.jpg</td>\n      <td>13ck3w5.jpg</td>\n      <td>data/image/13ck3w5.jpg</td>\n      <td>RedHeadDiffusion</td>\n      <td>True</td>\n      <td>False</td>\n      <td>False</td>\n      <td>[]</td>\n    </tr>\n    <tr>\n      <th>...</th>\n      <td>...</td>\n      <td>...</td>\n      <td>...</td>\n      <td>...</td>\n      <td>...</td>\n      <td>...</td>\n      <td>...</td>\n      <td>...</td>\n      <td>...</td>\n      <td>...</td>\n      <td>...</td>\n      <td>...</td>\n      <td>...</td>\n      <td>...</td>\n      <td>...</td>\n    </tr>\n    <tr>\n      <th>390</th>\n      <td>13d2hsf</td>\n      <td>bathandbodyworks</td>\n      <td>alesieoksap</td>\n      <td>Ice Cream Shop Collection?</td>\n      <td>someone holding a cup of ice cream in their hand</td>\n      <td>c6788074138175c661fc652bd7630e33</td>\n      <td>/r/bathandbodyworks/comments/13d2hsf/ice_cream...</td>\n      <td>https://i.redd.it/uhwamoq99wya1.jpg</td>\n      <td>13d2hsf.jpg</td>\n      <td>data/image/13d2hsf.jpg</td>\n      <td>CandleDiffusion</td>\n      <td>True</td>\n      <td>False</td>\n      <td>False</td>\n      <td>[]</td>\n    </tr>\n    <tr>\n      <th>391</th>\n      <td>13d661b</td>\n      <td>bathandbodyworks</td>\n      <td>xeloux</td>\n      <td>Facebook market finds!</td>\n      <td>three candles are sitting on a blanket on a bed</td>\n      <td>e868289445c195815dd67dd0df1a65cb</td>\n      <td>/r/bathandbodyworks/comments/13d661b/facebook_...</td>\n      <td>https://i.redd.it/skd10hefxwya1.jpg</td>\n      <td>13d661b.jpg</td>\n      <td>data/image/13d661b.jpg</td>\n      <td>CandleDiffusion</td>\n      <td>True</td>\n      <td>False</td>\n      <td>False</td>\n      <td>[]</td>\n    </tr>\n    <tr>\n      <th>392</th>\n      <td>13d8s0i</td>\n      <td>bathandbodyworks</td>\n      <td>Alternative-Tea-9355</td>\n      <td>Black Cherry Merlot dupe</td>\n      <td>someone holding a tube of body cream in a store</td>\n      <td>965bc5a58a597192700234729758101b</td>\n      <td>/r/bathandbodyworks/comments/13d8s0i/black_che...</td>\n      <td>https://i.redd.it/xt7qew9qexya1.jpg</td>\n      <td>13d8s0i.jpg</td>\n      <td>data/image/13d8s0i.jpg</td>\n      <td>CandleDiffusion</td>\n      <td>True</td>\n      <td>False</td>\n      <td>False</td>\n      <td>[]</td>\n    </tr>\n    <tr>\n      <th>393</th>\n      <td>13dagbr</td>\n      <td>bathandbodyworks</td>\n      <td>Dove04</td>\n      <td>Does anyone know how I could get rid of this r...</td>\n      <td>someone is holding a white device with a hole ...</td>\n      <td>41732e4109a99c99c91c2181867d18e3</td>\n      <td>/r/bathandbodyworks/comments/13dagbr/does_anyo...</td>\n      <td>https://i.redd.it/p0j6atz6rxya1.jpg</td>\n      <td>13dagbr.jpg</td>\n      <td>data/image/13dagbr.jpg</td>\n      <td>CandleDiffusion</td>\n      <td>True</td>\n      <td>False</td>\n      <td>False</td>\n      <td>[]</td>\n    </tr>\n    <tr>\n      <th>394</th>\n      <td>13dbhn4</td>\n      <td>bathandbodyworks</td>\n      <td>Thebigbooty01</td>\n      <td>Gratis today at work</td>\n      <td>there are some bottles of bath and body produc...</td>\n      <td>f2afdcbed21cc1f44ac757bf2f797ae6</td>\n      <td>/r/bathandbodyworks/comments/13dbhn4/gratis_to...</td>\n      <td>https://i.redd.it/x954qki8zxya1.jpg</td>\n      <td>13dbhn4.jpg</td>\n      <td>data/image/13dbhn4.jpg</td>\n      <td>CandleDiffusion</td>\n      <td>True</td>\n      <td>False</td>\n      <td>False</td>\n      <td>[]</td>\n    </tr>\n  </tbody>\n</table>\n<p>395 rows × 15 columns</p>\n</div>"
     },
     "metadata": {},
     "output_type": "display_data"
    },
    {
     "name": "stdout",
     "output_type": "stream",
     "text": [
      "CPU times: total: 125 ms\n",
      "Wall time: 128 ms\n"
     ]
    }
   ],
   "source": [
    "%%time\n",
    "\n",
    "dropped = filtered_more.dropna(axis=1, how='all')\n",
    "dropped.reset_index(drop=True, inplace=True)\n",
    "\n",
    "display(\"== Dropped And Reset Data ==\")\n",
    "display(dropped.shape)\n",
    "display(dropped)"
   ],
   "metadata": {
    "collapsed": false,
    "ExecuteTime": {
     "end_time": "2023-05-10T01:43:09.178551600Z",
     "start_time": "2023-05-10T01:43:08.756552400Z"
    }
   }
  },
  {
   "cell_type": "code",
   "execution_count": 20,
   "outputs": [
    {
     "data": {
      "text/plain": "(36636, 15)"
     },
     "metadata": {},
     "output_type": "display_data"
    },
    {
     "data": {
      "text/plain": "            id         subreddit             author   \n0      100rn7k          AmIhotAF       veritynicole  \\\n1      1013bdt          AmIhotAF        RaulDea9286   \n2      105mekt          AmIhotAF           lindaniz   \n3      105qvgl          AmIhotAF        CaitVLove11   \n4      105rpcj          AmIhotAF    Flashy-Desk1858   \n...        ...               ...                ...   \n36631  13bya6k  bathandbodyworks       PetiteTXgirl   \n36632  13byvzd  bathandbodyworks          iluvsunni   \n36633  13bzh6l  bathandbodyworks         huskyyyy21   \n36634  13c2k1d  bathandbodyworks             xeloux   \n36635  13c7x8w  bathandbodyworks  CharacterSoft6158   \n\n                                                   title   \n0                    hey, hows your new year going (23F)  \\\n1                                          36F - ITALIAN   \n2         interesting in good forward relationship (f24)   \n3                              Laughing is my favorite 😆   \n4               [f22] What do you think when you see me?   \n...                                                  ...   \n36631                           Late March-April empties   \n36632                                   Some semi-oldies   \n36633                      my summer lotion line up 🪼🌞🌴🩵   \n36634  Rainy day here, decided to burn for cozy. What...   \n36635  Keep forgetting I have this still. Anyone know...   \n\n                                                 caption   \n0      a woman in a white shirt and black pants is po...  \\\n1                arafed image of a woman in a bikini top   \n2      a close up of a woman with red hair and a whit...   \n3      a woman in a blue tank top and shorts is smili...   \n4        a woman in a blue bikini top and a blue bra top   \n...                                                  ...   \n36631  there are many different types of skin care pr...   \n36632  there are two bottles of perfume sitting on a ...   \n36633  a close up of a table with various types of bo...   \n36634       there is a candle that is sitting on a table   \n36635   a close up of a bottle of body lotion on a table   \n\n                                   hash   \n0      4bd00c19fa0ff2ade855e6d364b0760b  \\\n1      7c0d158cba8654ef1c635cbc5471d597   \n2      ba4a0962cca2266a741e1e1700589c04   \n3      27bfe82c37314a0bcf02ab72eaf3a9e5   \n4      329eb42b8267fa1cc2980da8e48bcef1   \n...                                 ...   \n36631  71169906f34149ab001ecc885898d9a9   \n36632  031430dae686b90afe2f602d81d4df2e   \n36633  35d94f4e9675c8d8d4964b2c03d73b4c   \n36634  09388a91d70ee4e5f03211f7c457bfc9   \n36635  ea160fb2263c1f1408c37ba20eb6cff0   \n\n                                               permalink   \n0      /r/AmIhotAF/comments/100rn7k/hey_hows_your_new...  \\\n1              /r/AmIhotAF/comments/1013bdt/36f_italian/   \n2      /r/AmIhotAF/comments/105mekt/interesting_in_go...   \n3      /r/AmIhotAF/comments/105qvgl/laughing_is_my_fa...   \n4      /r/AmIhotAF/comments/105rpcj/f22_what_do_you_t...   \n...                                                  ...   \n36631  /r/bathandbodyworks/comments/13bya6k/late_marc...   \n36632  /r/bathandbodyworks/comments/13byvzd/some_semi...   \n36633  /r/bathandbodyworks/comments/13bzh6l/my_summer...   \n36634  /r/bathandbodyworks/comments/13c2k1d/rainy_day...   \n36635  /r/bathandbodyworks/comments/13c7x8w/keep_forg...   \n\n                              original_url   image_name   \n0      https://i.redd.it/n7r47s0gkh9a1.jpg  100rn7k.jpg  \\\n1      https://i.redd.it/bg0wwdlt5k9a1.jpg  1013bdt.jpg   \n2      https://i.redd.it/4avjshsz8naa1.jpg  105mekt.jpg   \n3      https://i.redd.it/2pulzr0lxmaa1.jpg  105qvgl.jpg   \n4      https://i.redd.it/rz68pf934naa1.jpg  105rpcj.jpg   \n...                                    ...          ...   \n36631  https://i.redd.it/7tivxy31moya1.jpg  13bya6k.jpg   \n36632  https://i.redd.it/c4qskam2qoya1.jpg  13byvzd.jpg   \n36633  https://i.redd.it/eezk3i7ytoya1.jpg  13bzh6l.jpg   \n36634  https://i.redd.it/w8c4gtb9dpya1.jpg  13c2k1d.jpg   \n36635  https://i.redd.it/xv859cj8cqya1.jpg  13c7x8w.jpg   \n\n                         path            model  exists  curated  accept tags  \n0      data/image/100rn7k.jpg    SexyDiffusion    True     True   False   []  \n1      data/image/1013bdt.jpg    SexyDiffusion    True     True    True   []  \n2      data/image/105mekt.jpg    SexyDiffusion    True     True    True   []  \n3      data/image/105qvgl.jpg    SexyDiffusion    True     True    True   []  \n4      data/image/105rpcj.jpg    SexyDiffusion    True     True    True   []  \n...                       ...              ...     ...      ...     ...  ...  \n36631  data/image/13bya6k.jpg  CandleDiffusion    True     True   False   []  \n36632  data/image/13byvzd.jpg  CandleDiffusion    True     True    True   []  \n36633  data/image/13bzh6l.jpg  CandleDiffusion    True     True    True   []  \n36634  data/image/13c2k1d.jpg  CandleDiffusion    True     True    True   []  \n36635  data/image/13c7x8w.jpg  CandleDiffusion    True     True   False   []  \n\n[36636 rows x 15 columns]",
      "text/html": "<div>\n<style scoped>\n    .dataframe tbody tr th:only-of-type {\n        vertical-align: middle;\n    }\n\n    .dataframe tbody tr th {\n        vertical-align: top;\n    }\n\n    .dataframe thead th {\n        text-align: right;\n    }\n</style>\n<table border=\"1\" class=\"dataframe\">\n  <thead>\n    <tr style=\"text-align: right;\">\n      <th></th>\n      <th>id</th>\n      <th>subreddit</th>\n      <th>author</th>\n      <th>title</th>\n      <th>caption</th>\n      <th>hash</th>\n      <th>permalink</th>\n      <th>original_url</th>\n      <th>image_name</th>\n      <th>path</th>\n      <th>model</th>\n      <th>exists</th>\n      <th>curated</th>\n      <th>accept</th>\n      <th>tags</th>\n    </tr>\n  </thead>\n  <tbody>\n    <tr>\n      <th>0</th>\n      <td>100rn7k</td>\n      <td>AmIhotAF</td>\n      <td>veritynicole</td>\n      <td>hey, hows your new year going (23F)</td>\n      <td>a woman in a white shirt and black pants is po...</td>\n      <td>4bd00c19fa0ff2ade855e6d364b0760b</td>\n      <td>/r/AmIhotAF/comments/100rn7k/hey_hows_your_new...</td>\n      <td>https://i.redd.it/n7r47s0gkh9a1.jpg</td>\n      <td>100rn7k.jpg</td>\n      <td>data/image/100rn7k.jpg</td>\n      <td>SexyDiffusion</td>\n      <td>True</td>\n      <td>True</td>\n      <td>False</td>\n      <td>[]</td>\n    </tr>\n    <tr>\n      <th>1</th>\n      <td>1013bdt</td>\n      <td>AmIhotAF</td>\n      <td>RaulDea9286</td>\n      <td>36F - ITALIAN</td>\n      <td>arafed image of a woman in a bikini top</td>\n      <td>7c0d158cba8654ef1c635cbc5471d597</td>\n      <td>/r/AmIhotAF/comments/1013bdt/36f_italian/</td>\n      <td>https://i.redd.it/bg0wwdlt5k9a1.jpg</td>\n      <td>1013bdt.jpg</td>\n      <td>data/image/1013bdt.jpg</td>\n      <td>SexyDiffusion</td>\n      <td>True</td>\n      <td>True</td>\n      <td>True</td>\n      <td>[]</td>\n    </tr>\n    <tr>\n      <th>2</th>\n      <td>105mekt</td>\n      <td>AmIhotAF</td>\n      <td>lindaniz</td>\n      <td>interesting in good forward relationship (f24)</td>\n      <td>a close up of a woman with red hair and a whit...</td>\n      <td>ba4a0962cca2266a741e1e1700589c04</td>\n      <td>/r/AmIhotAF/comments/105mekt/interesting_in_go...</td>\n      <td>https://i.redd.it/4avjshsz8naa1.jpg</td>\n      <td>105mekt.jpg</td>\n      <td>data/image/105mekt.jpg</td>\n      <td>SexyDiffusion</td>\n      <td>True</td>\n      <td>True</td>\n      <td>True</td>\n      <td>[]</td>\n    </tr>\n    <tr>\n      <th>3</th>\n      <td>105qvgl</td>\n      <td>AmIhotAF</td>\n      <td>CaitVLove11</td>\n      <td>Laughing is my favorite 😆</td>\n      <td>a woman in a blue tank top and shorts is smili...</td>\n      <td>27bfe82c37314a0bcf02ab72eaf3a9e5</td>\n      <td>/r/AmIhotAF/comments/105qvgl/laughing_is_my_fa...</td>\n      <td>https://i.redd.it/2pulzr0lxmaa1.jpg</td>\n      <td>105qvgl.jpg</td>\n      <td>data/image/105qvgl.jpg</td>\n      <td>SexyDiffusion</td>\n      <td>True</td>\n      <td>True</td>\n      <td>True</td>\n      <td>[]</td>\n    </tr>\n    <tr>\n      <th>4</th>\n      <td>105rpcj</td>\n      <td>AmIhotAF</td>\n      <td>Flashy-Desk1858</td>\n      <td>[f22] What do you think when you see me?</td>\n      <td>a woman in a blue bikini top and a blue bra top</td>\n      <td>329eb42b8267fa1cc2980da8e48bcef1</td>\n      <td>/r/AmIhotAF/comments/105rpcj/f22_what_do_you_t...</td>\n      <td>https://i.redd.it/rz68pf934naa1.jpg</td>\n      <td>105rpcj.jpg</td>\n      <td>data/image/105rpcj.jpg</td>\n      <td>SexyDiffusion</td>\n      <td>True</td>\n      <td>True</td>\n      <td>True</td>\n      <td>[]</td>\n    </tr>\n    <tr>\n      <th>...</th>\n      <td>...</td>\n      <td>...</td>\n      <td>...</td>\n      <td>...</td>\n      <td>...</td>\n      <td>...</td>\n      <td>...</td>\n      <td>...</td>\n      <td>...</td>\n      <td>...</td>\n      <td>...</td>\n      <td>...</td>\n      <td>...</td>\n      <td>...</td>\n      <td>...</td>\n    </tr>\n    <tr>\n      <th>36631</th>\n      <td>13bya6k</td>\n      <td>bathandbodyworks</td>\n      <td>PetiteTXgirl</td>\n      <td>Late March-April empties</td>\n      <td>there are many different types of skin care pr...</td>\n      <td>71169906f34149ab001ecc885898d9a9</td>\n      <td>/r/bathandbodyworks/comments/13bya6k/late_marc...</td>\n      <td>https://i.redd.it/7tivxy31moya1.jpg</td>\n      <td>13bya6k.jpg</td>\n      <td>data/image/13bya6k.jpg</td>\n      <td>CandleDiffusion</td>\n      <td>True</td>\n      <td>True</td>\n      <td>False</td>\n      <td>[]</td>\n    </tr>\n    <tr>\n      <th>36632</th>\n      <td>13byvzd</td>\n      <td>bathandbodyworks</td>\n      <td>iluvsunni</td>\n      <td>Some semi-oldies</td>\n      <td>there are two bottles of perfume sitting on a ...</td>\n      <td>031430dae686b90afe2f602d81d4df2e</td>\n      <td>/r/bathandbodyworks/comments/13byvzd/some_semi...</td>\n      <td>https://i.redd.it/c4qskam2qoya1.jpg</td>\n      <td>13byvzd.jpg</td>\n      <td>data/image/13byvzd.jpg</td>\n      <td>CandleDiffusion</td>\n      <td>True</td>\n      <td>True</td>\n      <td>True</td>\n      <td>[]</td>\n    </tr>\n    <tr>\n      <th>36633</th>\n      <td>13bzh6l</td>\n      <td>bathandbodyworks</td>\n      <td>huskyyyy21</td>\n      <td>my summer lotion line up 🪼🌞🌴🩵</td>\n      <td>a close up of a table with various types of bo...</td>\n      <td>35d94f4e9675c8d8d4964b2c03d73b4c</td>\n      <td>/r/bathandbodyworks/comments/13bzh6l/my_summer...</td>\n      <td>https://i.redd.it/eezk3i7ytoya1.jpg</td>\n      <td>13bzh6l.jpg</td>\n      <td>data/image/13bzh6l.jpg</td>\n      <td>CandleDiffusion</td>\n      <td>True</td>\n      <td>True</td>\n      <td>True</td>\n      <td>[]</td>\n    </tr>\n    <tr>\n      <th>36634</th>\n      <td>13c2k1d</td>\n      <td>bathandbodyworks</td>\n      <td>xeloux</td>\n      <td>Rainy day here, decided to burn for cozy. What...</td>\n      <td>there is a candle that is sitting on a table</td>\n      <td>09388a91d70ee4e5f03211f7c457bfc9</td>\n      <td>/r/bathandbodyworks/comments/13c2k1d/rainy_day...</td>\n      <td>https://i.redd.it/w8c4gtb9dpya1.jpg</td>\n      <td>13c2k1d.jpg</td>\n      <td>data/image/13c2k1d.jpg</td>\n      <td>CandleDiffusion</td>\n      <td>True</td>\n      <td>True</td>\n      <td>True</td>\n      <td>[]</td>\n    </tr>\n    <tr>\n      <th>36635</th>\n      <td>13c7x8w</td>\n      <td>bathandbodyworks</td>\n      <td>CharacterSoft6158</td>\n      <td>Keep forgetting I have this still. Anyone know...</td>\n      <td>a close up of a bottle of body lotion on a table</td>\n      <td>ea160fb2263c1f1408c37ba20eb6cff0</td>\n      <td>/r/bathandbodyworks/comments/13c7x8w/keep_forg...</td>\n      <td>https://i.redd.it/xv859cj8cqya1.jpg</td>\n      <td>13c7x8w.jpg</td>\n      <td>data/image/13c7x8w.jpg</td>\n      <td>CandleDiffusion</td>\n      <td>True</td>\n      <td>True</td>\n      <td>False</td>\n      <td>[]</td>\n    </tr>\n  </tbody>\n</table>\n<p>36636 rows × 15 columns</p>\n</div>"
     },
     "metadata": {},
     "output_type": "display_data"
    },
    {
     "name": "stdout",
     "output_type": "stream",
     "text": [
      "CPU times: total: 1.58 s\n",
      "Wall time: 2.33 s\n"
     ]
    }
   ],
   "source": [
    "%%time\n",
    "\n",
    "current = pandas.read_parquet(\"data/parquet/back.parquet\", engine='pyarrow', filesystem=file_system)\n",
    "\n",
    "display(current.shape)\n",
    "display(current)"
   ],
   "metadata": {
    "collapsed": false,
    "ExecuteTime": {
     "end_time": "2023-05-10T01:43:12.325475100Z",
     "start_time": "2023-05-10T01:43:08.904552200Z"
    }
   }
  },
  {
   "cell_type": "code",
   "execution_count": 21,
   "outputs": [
    {
     "name": "stdout",
     "output_type": "stream",
     "text": [
      "CPU times: total: 15.6 ms\n",
      "Wall time: 21 ms\n"
     ]
    },
    {
     "data": {
      "text/plain": "              id         subreddit                author   \nid                                                         \n13cbhj1  13cbhj1       SFWRedheads      itsSavannahWilde  \\\n13cf7m7  13cf7m7       SFWRedheads    ZealousidealEnd947   \n13cffyg  13cffyg       SFWRedheads    MortgageFormer1946   \n13cfi2n  13cfi2n       SFWRedheads         istayyawayyyX   \n13ck3w5  13ck3w5       SFWRedheads         kisstheredfox   \n...          ...               ...                   ...   \n13d2hsf  13d2hsf  bathandbodyworks           alesieoksap   \n13d661b  13d661b  bathandbodyworks                xeloux   \n13d8s0i  13d8s0i  bathandbodyworks  Alternative-Tea-9355   \n13dagbr  13dagbr  bathandbodyworks                Dove04   \n13dbhn4  13dbhn4  bathandbodyworks         Thebigbooty01   \n\n                                                     title   \nid                                                           \n13cbhj1                             Red hair & pink frames  \\\n13cf7m7                40 pounds down! Feeling ✨confident✨   \n13cffyg                                            Tired 😴   \n13cfi2n  redheads-for those brave enough to play with f...   \n13ck3w5                       Good morning from the studio   \n...                                                    ...   \n13d2hsf                         Ice Cream Shop Collection?   \n13d661b                             Facebook market finds!   \n13d8s0i                           Black Cherry Merlot dupe   \n13dagbr  Does anyone know how I could get rid of this r...   \n13dbhn4                               Gratis today at work   \n\n                                                   caption   \nid                                                           \n13cbhj1  there is a woman with glasses and a black top ...  \\\n13cf7m7     there is a woman with red hair and a brown top   \n13cffyg  arafed woman sitting in a car with her hand on...   \n13cfi2n  arafed woman with red hair and blue eyes weari...   \n13ck3w5  there is a woman with long red hair posing for...   \n...                                                    ...   \n13d2hsf   someone holding a cup of ice cream in their hand   \n13d661b    three candles are sitting on a blanket on a bed   \n13d8s0i    someone holding a tube of body cream in a store   \n13dagbr  someone is holding a white device with a hole ...   \n13dbhn4  there are some bottles of bath and body produc...   \n\n                                     hash   \nid                                          \n13cbhj1  0c2da695483dd7562ec9ef13f791b934  \\\n13cf7m7  4c3fe8876deccd1f3e9f19ba3d8f5cfc   \n13cffyg  58382c40ac34f2fa5b23666e9c939948   \n13cfi2n  bbc65198cbe68d8efdc6f45187939f68   \n13ck3w5  46882166f463eccc64e63b698c975234   \n...                                   ...   \n13d2hsf  c6788074138175c661fc652bd7630e33   \n13d661b  e868289445c195815dd67dd0df1a65cb   \n13d8s0i  965bc5a58a597192700234729758101b   \n13dagbr  41732e4109a99c99c91c2181867d18e3   \n13dbhn4  f2afdcbed21cc1f44ac757bf2f797ae6   \n\n                                                 permalink   \nid                                                           \n13cbhj1  /r/SFWRedheads/comments/13cbhj1/red_hair_pink_...  \\\n13cf7m7  /r/SFWRedheads/comments/13cf7m7/40_pounds_down...   \n13cffyg             /r/SFWRedheads/comments/13cffyg/tired/   \n13cfi2n  /r/SFWRedheads/comments/13cfi2n/redheadsfor_th...   \n13ck3w5  /r/SFWRedheads/comments/13ck3w5/good_morning_f...   \n...                                                    ...   \n13d2hsf  /r/bathandbodyworks/comments/13d2hsf/ice_cream...   \n13d661b  /r/bathandbodyworks/comments/13d661b/facebook_...   \n13d8s0i  /r/bathandbodyworks/comments/13d8s0i/black_che...   \n13dagbr  /r/bathandbodyworks/comments/13dagbr/does_anyo...   \n13dbhn4  /r/bathandbodyworks/comments/13dbhn4/gratis_to...   \n\n                                original_url   image_name   \nid                                                          \n13cbhj1  https://i.redd.it/bnqlx1ku3rya1.jpg  13cbhj1.jpg  \\\n13cf7m7  https://i.redd.it/vigduj3bxrya1.jpg  13cf7m7.jpg   \n13cffyg  https://i.redd.it/vbtgztbdzrya1.jpg  13cffyg.jpg   \n13cfi2n  https://i.redd.it/rx899dkwzrya1.jpg  13cfi2n.jpg   \n13ck3w5  https://i.redd.it/jso53o4zsrya1.jpg  13ck3w5.jpg   \n...                                      ...          ...   \n13d2hsf  https://i.redd.it/uhwamoq99wya1.jpg  13d2hsf.jpg   \n13d661b  https://i.redd.it/skd10hefxwya1.jpg  13d661b.jpg   \n13d8s0i  https://i.redd.it/xt7qew9qexya1.jpg  13d8s0i.jpg   \n13dagbr  https://i.redd.it/p0j6atz6rxya1.jpg  13dagbr.jpg   \n13dbhn4  https://i.redd.it/x954qki8zxya1.jpg  13dbhn4.jpg   \n\n                           path             model  exists  curated accept tags  \nid                                                                              \n13cbhj1  data/image/13cbhj1.jpg  RedHeadDiffusion    True    False  False   []  \n13cf7m7  data/image/13cf7m7.jpg  RedHeadDiffusion    True    False  False   []  \n13cffyg  data/image/13cffyg.jpg  RedHeadDiffusion    True    False  False   []  \n13cfi2n  data/image/13cfi2n.jpg  RedHeadDiffusion    True    False  False   []  \n13ck3w5  data/image/13ck3w5.jpg  RedHeadDiffusion    True    False  False   []  \n...                         ...               ...     ...      ...    ...  ...  \n13d2hsf  data/image/13d2hsf.jpg   CandleDiffusion    True    False  False   []  \n13d661b  data/image/13d661b.jpg   CandleDiffusion    True    False  False   []  \n13d8s0i  data/image/13d8s0i.jpg   CandleDiffusion    True    False  False   []  \n13dagbr  data/image/13dagbr.jpg   CandleDiffusion    True    False  False   []  \n13dbhn4  data/image/13dbhn4.jpg   CandleDiffusion    True    False  False   []  \n\n[395 rows x 15 columns]",
      "text/html": "<div>\n<style scoped>\n    .dataframe tbody tr th:only-of-type {\n        vertical-align: middle;\n    }\n\n    .dataframe tbody tr th {\n        vertical-align: top;\n    }\n\n    .dataframe thead th {\n        text-align: right;\n    }\n</style>\n<table border=\"1\" class=\"dataframe\">\n  <thead>\n    <tr style=\"text-align: right;\">\n      <th></th>\n      <th>id</th>\n      <th>subreddit</th>\n      <th>author</th>\n      <th>title</th>\n      <th>caption</th>\n      <th>hash</th>\n      <th>permalink</th>\n      <th>original_url</th>\n      <th>image_name</th>\n      <th>path</th>\n      <th>model</th>\n      <th>exists</th>\n      <th>curated</th>\n      <th>accept</th>\n      <th>tags</th>\n    </tr>\n    <tr>\n      <th>id</th>\n      <th></th>\n      <th></th>\n      <th></th>\n      <th></th>\n      <th></th>\n      <th></th>\n      <th></th>\n      <th></th>\n      <th></th>\n      <th></th>\n      <th></th>\n      <th></th>\n      <th></th>\n      <th></th>\n      <th></th>\n    </tr>\n  </thead>\n  <tbody>\n    <tr>\n      <th>13cbhj1</th>\n      <td>13cbhj1</td>\n      <td>SFWRedheads</td>\n      <td>itsSavannahWilde</td>\n      <td>Red hair &amp; pink frames</td>\n      <td>there is a woman with glasses and a black top ...</td>\n      <td>0c2da695483dd7562ec9ef13f791b934</td>\n      <td>/r/SFWRedheads/comments/13cbhj1/red_hair_pink_...</td>\n      <td>https://i.redd.it/bnqlx1ku3rya1.jpg</td>\n      <td>13cbhj1.jpg</td>\n      <td>data/image/13cbhj1.jpg</td>\n      <td>RedHeadDiffusion</td>\n      <td>True</td>\n      <td>False</td>\n      <td>False</td>\n      <td>[]</td>\n    </tr>\n    <tr>\n      <th>13cf7m7</th>\n      <td>13cf7m7</td>\n      <td>SFWRedheads</td>\n      <td>ZealousidealEnd947</td>\n      <td>40 pounds down! Feeling ✨confident✨</td>\n      <td>there is a woman with red hair and a brown top</td>\n      <td>4c3fe8876deccd1f3e9f19ba3d8f5cfc</td>\n      <td>/r/SFWRedheads/comments/13cf7m7/40_pounds_down...</td>\n      <td>https://i.redd.it/vigduj3bxrya1.jpg</td>\n      <td>13cf7m7.jpg</td>\n      <td>data/image/13cf7m7.jpg</td>\n      <td>RedHeadDiffusion</td>\n      <td>True</td>\n      <td>False</td>\n      <td>False</td>\n      <td>[]</td>\n    </tr>\n    <tr>\n      <th>13cffyg</th>\n      <td>13cffyg</td>\n      <td>SFWRedheads</td>\n      <td>MortgageFormer1946</td>\n      <td>Tired 😴</td>\n      <td>arafed woman sitting in a car with her hand on...</td>\n      <td>58382c40ac34f2fa5b23666e9c939948</td>\n      <td>/r/SFWRedheads/comments/13cffyg/tired/</td>\n      <td>https://i.redd.it/vbtgztbdzrya1.jpg</td>\n      <td>13cffyg.jpg</td>\n      <td>data/image/13cffyg.jpg</td>\n      <td>RedHeadDiffusion</td>\n      <td>True</td>\n      <td>False</td>\n      <td>False</td>\n      <td>[]</td>\n    </tr>\n    <tr>\n      <th>13cfi2n</th>\n      <td>13cfi2n</td>\n      <td>SFWRedheads</td>\n      <td>istayyawayyyX</td>\n      <td>redheads-for those brave enough to play with f...</td>\n      <td>arafed woman with red hair and blue eyes weari...</td>\n      <td>bbc65198cbe68d8efdc6f45187939f68</td>\n      <td>/r/SFWRedheads/comments/13cfi2n/redheadsfor_th...</td>\n      <td>https://i.redd.it/rx899dkwzrya1.jpg</td>\n      <td>13cfi2n.jpg</td>\n      <td>data/image/13cfi2n.jpg</td>\n      <td>RedHeadDiffusion</td>\n      <td>True</td>\n      <td>False</td>\n      <td>False</td>\n      <td>[]</td>\n    </tr>\n    <tr>\n      <th>13ck3w5</th>\n      <td>13ck3w5</td>\n      <td>SFWRedheads</td>\n      <td>kisstheredfox</td>\n      <td>Good morning from the studio</td>\n      <td>there is a woman with long red hair posing for...</td>\n      <td>46882166f463eccc64e63b698c975234</td>\n      <td>/r/SFWRedheads/comments/13ck3w5/good_morning_f...</td>\n      <td>https://i.redd.it/jso53o4zsrya1.jpg</td>\n      <td>13ck3w5.jpg</td>\n      <td>data/image/13ck3w5.jpg</td>\n      <td>RedHeadDiffusion</td>\n      <td>True</td>\n      <td>False</td>\n      <td>False</td>\n      <td>[]</td>\n    </tr>\n    <tr>\n      <th>...</th>\n      <td>...</td>\n      <td>...</td>\n      <td>...</td>\n      <td>...</td>\n      <td>...</td>\n      <td>...</td>\n      <td>...</td>\n      <td>...</td>\n      <td>...</td>\n      <td>...</td>\n      <td>...</td>\n      <td>...</td>\n      <td>...</td>\n      <td>...</td>\n      <td>...</td>\n    </tr>\n    <tr>\n      <th>13d2hsf</th>\n      <td>13d2hsf</td>\n      <td>bathandbodyworks</td>\n      <td>alesieoksap</td>\n      <td>Ice Cream Shop Collection?</td>\n      <td>someone holding a cup of ice cream in their hand</td>\n      <td>c6788074138175c661fc652bd7630e33</td>\n      <td>/r/bathandbodyworks/comments/13d2hsf/ice_cream...</td>\n      <td>https://i.redd.it/uhwamoq99wya1.jpg</td>\n      <td>13d2hsf.jpg</td>\n      <td>data/image/13d2hsf.jpg</td>\n      <td>CandleDiffusion</td>\n      <td>True</td>\n      <td>False</td>\n      <td>False</td>\n      <td>[]</td>\n    </tr>\n    <tr>\n      <th>13d661b</th>\n      <td>13d661b</td>\n      <td>bathandbodyworks</td>\n      <td>xeloux</td>\n      <td>Facebook market finds!</td>\n      <td>three candles are sitting on a blanket on a bed</td>\n      <td>e868289445c195815dd67dd0df1a65cb</td>\n      <td>/r/bathandbodyworks/comments/13d661b/facebook_...</td>\n      <td>https://i.redd.it/skd10hefxwya1.jpg</td>\n      <td>13d661b.jpg</td>\n      <td>data/image/13d661b.jpg</td>\n      <td>CandleDiffusion</td>\n      <td>True</td>\n      <td>False</td>\n      <td>False</td>\n      <td>[]</td>\n    </tr>\n    <tr>\n      <th>13d8s0i</th>\n      <td>13d8s0i</td>\n      <td>bathandbodyworks</td>\n      <td>Alternative-Tea-9355</td>\n      <td>Black Cherry Merlot dupe</td>\n      <td>someone holding a tube of body cream in a store</td>\n      <td>965bc5a58a597192700234729758101b</td>\n      <td>/r/bathandbodyworks/comments/13d8s0i/black_che...</td>\n      <td>https://i.redd.it/xt7qew9qexya1.jpg</td>\n      <td>13d8s0i.jpg</td>\n      <td>data/image/13d8s0i.jpg</td>\n      <td>CandleDiffusion</td>\n      <td>True</td>\n      <td>False</td>\n      <td>False</td>\n      <td>[]</td>\n    </tr>\n    <tr>\n      <th>13dagbr</th>\n      <td>13dagbr</td>\n      <td>bathandbodyworks</td>\n      <td>Dove04</td>\n      <td>Does anyone know how I could get rid of this r...</td>\n      <td>someone is holding a white device with a hole ...</td>\n      <td>41732e4109a99c99c91c2181867d18e3</td>\n      <td>/r/bathandbodyworks/comments/13dagbr/does_anyo...</td>\n      <td>https://i.redd.it/p0j6atz6rxya1.jpg</td>\n      <td>13dagbr.jpg</td>\n      <td>data/image/13dagbr.jpg</td>\n      <td>CandleDiffusion</td>\n      <td>True</td>\n      <td>False</td>\n      <td>False</td>\n      <td>[]</td>\n    </tr>\n    <tr>\n      <th>13dbhn4</th>\n      <td>13dbhn4</td>\n      <td>bathandbodyworks</td>\n      <td>Thebigbooty01</td>\n      <td>Gratis today at work</td>\n      <td>there are some bottles of bath and body produc...</td>\n      <td>f2afdcbed21cc1f44ac757bf2f797ae6</td>\n      <td>/r/bathandbodyworks/comments/13dbhn4/gratis_to...</td>\n      <td>https://i.redd.it/x954qki8zxya1.jpg</td>\n      <td>13dbhn4.jpg</td>\n      <td>data/image/13dbhn4.jpg</td>\n      <td>CandleDiffusion</td>\n      <td>True</td>\n      <td>False</td>\n      <td>False</td>\n      <td>[]</td>\n    </tr>\n  </tbody>\n</table>\n<p>395 rows × 15 columns</p>\n</div>"
     },
     "execution_count": 21,
     "metadata": {},
     "output_type": "execute_result"
    }
   ],
   "source": [
    "%%time\n",
    "\n",
    "temp_current = current\n",
    "temp_current.set_index('id', inplace=True, drop=False)\n",
    "\n",
    "temp_new = dropped\n",
    "temp_new.set_index('id', inplace=True, drop=False)\n",
    "\n",
    "temp_new.loc[~temp_new.index.isin(temp_current.index)]"
   ],
   "metadata": {
    "collapsed": false,
    "ExecuteTime": {
     "end_time": "2023-05-10T01:43:12.336475700Z",
     "start_time": "2023-05-10T01:43:11.260782400Z"
    }
   }
  },
  {
   "cell_type": "code",
   "execution_count": 22,
   "outputs": [
    {
     "data": {
      "text/plain": "'== Concatenated Data =='"
     },
     "metadata": {},
     "output_type": "display_data"
    },
    {
     "data": {
      "text/plain": "(37031, 15)"
     },
     "metadata": {},
     "output_type": "display_data"
    },
    {
     "data": {
      "text/plain": "              id         subreddit                author   \nid                                                         \n100rn7k  100rn7k          AmIhotAF          veritynicole  \\\n1013bdt  1013bdt          AmIhotAF           RaulDea9286   \n105mekt  105mekt          AmIhotAF              lindaniz   \n105qvgl  105qvgl          AmIhotAF           CaitVLove11   \n105rpcj  105rpcj          AmIhotAF       Flashy-Desk1858   \n...          ...               ...                   ...   \n13d2hsf  13d2hsf  bathandbodyworks           alesieoksap   \n13d661b  13d661b  bathandbodyworks                xeloux   \n13d8s0i  13d8s0i  bathandbodyworks  Alternative-Tea-9355   \n13dagbr  13dagbr  bathandbodyworks                Dove04   \n13dbhn4  13dbhn4  bathandbodyworks         Thebigbooty01   \n\n                                                     title   \nid                                                           \n100rn7k                hey, hows your new year going (23F)  \\\n1013bdt                                      36F - ITALIAN   \n105mekt     interesting in good forward relationship (f24)   \n105qvgl                          Laughing is my favorite 😆   \n105rpcj           [f22] What do you think when you see me?   \n...                                                    ...   \n13d2hsf                         Ice Cream Shop Collection?   \n13d661b                             Facebook market finds!   \n13d8s0i                           Black Cherry Merlot dupe   \n13dagbr  Does anyone know how I could get rid of this r...   \n13dbhn4                               Gratis today at work   \n\n                                                   caption   \nid                                                           \n100rn7k  a woman in a white shirt and black pants is po...  \\\n1013bdt            arafed image of a woman in a bikini top   \n105mekt  a close up of a woman with red hair and a whit...   \n105qvgl  a woman in a blue tank top and shorts is smili...   \n105rpcj    a woman in a blue bikini top and a blue bra top   \n...                                                    ...   \n13d2hsf   someone holding a cup of ice cream in their hand   \n13d661b    three candles are sitting on a blanket on a bed   \n13d8s0i    someone holding a tube of body cream in a store   \n13dagbr  someone is holding a white device with a hole ...   \n13dbhn4  there are some bottles of bath and body produc...   \n\n                                     hash   \nid                                          \n100rn7k  4bd00c19fa0ff2ade855e6d364b0760b  \\\n1013bdt  7c0d158cba8654ef1c635cbc5471d597   \n105mekt  ba4a0962cca2266a741e1e1700589c04   \n105qvgl  27bfe82c37314a0bcf02ab72eaf3a9e5   \n105rpcj  329eb42b8267fa1cc2980da8e48bcef1   \n...                                   ...   \n13d2hsf  c6788074138175c661fc652bd7630e33   \n13d661b  e868289445c195815dd67dd0df1a65cb   \n13d8s0i  965bc5a58a597192700234729758101b   \n13dagbr  41732e4109a99c99c91c2181867d18e3   \n13dbhn4  f2afdcbed21cc1f44ac757bf2f797ae6   \n\n                                                 permalink   \nid                                                           \n100rn7k  /r/AmIhotAF/comments/100rn7k/hey_hows_your_new...  \\\n1013bdt          /r/AmIhotAF/comments/1013bdt/36f_italian/   \n105mekt  /r/AmIhotAF/comments/105mekt/interesting_in_go...   \n105qvgl  /r/AmIhotAF/comments/105qvgl/laughing_is_my_fa...   \n105rpcj  /r/AmIhotAF/comments/105rpcj/f22_what_do_you_t...   \n...                                                    ...   \n13d2hsf  /r/bathandbodyworks/comments/13d2hsf/ice_cream...   \n13d661b  /r/bathandbodyworks/comments/13d661b/facebook_...   \n13d8s0i  /r/bathandbodyworks/comments/13d8s0i/black_che...   \n13dagbr  /r/bathandbodyworks/comments/13dagbr/does_anyo...   \n13dbhn4  /r/bathandbodyworks/comments/13dbhn4/gratis_to...   \n\n                                original_url   image_name   \nid                                                          \n100rn7k  https://i.redd.it/n7r47s0gkh9a1.jpg  100rn7k.jpg  \\\n1013bdt  https://i.redd.it/bg0wwdlt5k9a1.jpg  1013bdt.jpg   \n105mekt  https://i.redd.it/4avjshsz8naa1.jpg  105mekt.jpg   \n105qvgl  https://i.redd.it/2pulzr0lxmaa1.jpg  105qvgl.jpg   \n105rpcj  https://i.redd.it/rz68pf934naa1.jpg  105rpcj.jpg   \n...                                      ...          ...   \n13d2hsf  https://i.redd.it/uhwamoq99wya1.jpg  13d2hsf.jpg   \n13d661b  https://i.redd.it/skd10hefxwya1.jpg  13d661b.jpg   \n13d8s0i  https://i.redd.it/xt7qew9qexya1.jpg  13d8s0i.jpg   \n13dagbr  https://i.redd.it/p0j6atz6rxya1.jpg  13dagbr.jpg   \n13dbhn4  https://i.redd.it/x954qki8zxya1.jpg  13dbhn4.jpg   \n\n                           path            model  exists  curated accept tags  \nid                                                                             \n100rn7k  data/image/100rn7k.jpg    SexyDiffusion    True     True  False   []  \n1013bdt  data/image/1013bdt.jpg    SexyDiffusion    True     True   True   []  \n105mekt  data/image/105mekt.jpg    SexyDiffusion    True     True   True   []  \n105qvgl  data/image/105qvgl.jpg    SexyDiffusion    True     True   True   []  \n105rpcj  data/image/105rpcj.jpg    SexyDiffusion    True     True   True   []  \n...                         ...              ...     ...      ...    ...  ...  \n13d2hsf  data/image/13d2hsf.jpg  CandleDiffusion    True    False  False   []  \n13d661b  data/image/13d661b.jpg  CandleDiffusion    True    False  False   []  \n13d8s0i  data/image/13d8s0i.jpg  CandleDiffusion    True    False  False   []  \n13dagbr  data/image/13dagbr.jpg  CandleDiffusion    True    False  False   []  \n13dbhn4  data/image/13dbhn4.jpg  CandleDiffusion    True    False  False   []  \n\n[37031 rows x 15 columns]",
      "text/html": "<div>\n<style scoped>\n    .dataframe tbody tr th:only-of-type {\n        vertical-align: middle;\n    }\n\n    .dataframe tbody tr th {\n        vertical-align: top;\n    }\n\n    .dataframe thead th {\n        text-align: right;\n    }\n</style>\n<table border=\"1\" class=\"dataframe\">\n  <thead>\n    <tr style=\"text-align: right;\">\n      <th></th>\n      <th>id</th>\n      <th>subreddit</th>\n      <th>author</th>\n      <th>title</th>\n      <th>caption</th>\n      <th>hash</th>\n      <th>permalink</th>\n      <th>original_url</th>\n      <th>image_name</th>\n      <th>path</th>\n      <th>model</th>\n      <th>exists</th>\n      <th>curated</th>\n      <th>accept</th>\n      <th>tags</th>\n    </tr>\n    <tr>\n      <th>id</th>\n      <th></th>\n      <th></th>\n      <th></th>\n      <th></th>\n      <th></th>\n      <th></th>\n      <th></th>\n      <th></th>\n      <th></th>\n      <th></th>\n      <th></th>\n      <th></th>\n      <th></th>\n      <th></th>\n      <th></th>\n    </tr>\n  </thead>\n  <tbody>\n    <tr>\n      <th>100rn7k</th>\n      <td>100rn7k</td>\n      <td>AmIhotAF</td>\n      <td>veritynicole</td>\n      <td>hey, hows your new year going (23F)</td>\n      <td>a woman in a white shirt and black pants is po...</td>\n      <td>4bd00c19fa0ff2ade855e6d364b0760b</td>\n      <td>/r/AmIhotAF/comments/100rn7k/hey_hows_your_new...</td>\n      <td>https://i.redd.it/n7r47s0gkh9a1.jpg</td>\n      <td>100rn7k.jpg</td>\n      <td>data/image/100rn7k.jpg</td>\n      <td>SexyDiffusion</td>\n      <td>True</td>\n      <td>True</td>\n      <td>False</td>\n      <td>[]</td>\n    </tr>\n    <tr>\n      <th>1013bdt</th>\n      <td>1013bdt</td>\n      <td>AmIhotAF</td>\n      <td>RaulDea9286</td>\n      <td>36F - ITALIAN</td>\n      <td>arafed image of a woman in a bikini top</td>\n      <td>7c0d158cba8654ef1c635cbc5471d597</td>\n      <td>/r/AmIhotAF/comments/1013bdt/36f_italian/</td>\n      <td>https://i.redd.it/bg0wwdlt5k9a1.jpg</td>\n      <td>1013bdt.jpg</td>\n      <td>data/image/1013bdt.jpg</td>\n      <td>SexyDiffusion</td>\n      <td>True</td>\n      <td>True</td>\n      <td>True</td>\n      <td>[]</td>\n    </tr>\n    <tr>\n      <th>105mekt</th>\n      <td>105mekt</td>\n      <td>AmIhotAF</td>\n      <td>lindaniz</td>\n      <td>interesting in good forward relationship (f24)</td>\n      <td>a close up of a woman with red hair and a whit...</td>\n      <td>ba4a0962cca2266a741e1e1700589c04</td>\n      <td>/r/AmIhotAF/comments/105mekt/interesting_in_go...</td>\n      <td>https://i.redd.it/4avjshsz8naa1.jpg</td>\n      <td>105mekt.jpg</td>\n      <td>data/image/105mekt.jpg</td>\n      <td>SexyDiffusion</td>\n      <td>True</td>\n      <td>True</td>\n      <td>True</td>\n      <td>[]</td>\n    </tr>\n    <tr>\n      <th>105qvgl</th>\n      <td>105qvgl</td>\n      <td>AmIhotAF</td>\n      <td>CaitVLove11</td>\n      <td>Laughing is my favorite 😆</td>\n      <td>a woman in a blue tank top and shorts is smili...</td>\n      <td>27bfe82c37314a0bcf02ab72eaf3a9e5</td>\n      <td>/r/AmIhotAF/comments/105qvgl/laughing_is_my_fa...</td>\n      <td>https://i.redd.it/2pulzr0lxmaa1.jpg</td>\n      <td>105qvgl.jpg</td>\n      <td>data/image/105qvgl.jpg</td>\n      <td>SexyDiffusion</td>\n      <td>True</td>\n      <td>True</td>\n      <td>True</td>\n      <td>[]</td>\n    </tr>\n    <tr>\n      <th>105rpcj</th>\n      <td>105rpcj</td>\n      <td>AmIhotAF</td>\n      <td>Flashy-Desk1858</td>\n      <td>[f22] What do you think when you see me?</td>\n      <td>a woman in a blue bikini top and a blue bra top</td>\n      <td>329eb42b8267fa1cc2980da8e48bcef1</td>\n      <td>/r/AmIhotAF/comments/105rpcj/f22_what_do_you_t...</td>\n      <td>https://i.redd.it/rz68pf934naa1.jpg</td>\n      <td>105rpcj.jpg</td>\n      <td>data/image/105rpcj.jpg</td>\n      <td>SexyDiffusion</td>\n      <td>True</td>\n      <td>True</td>\n      <td>True</td>\n      <td>[]</td>\n    </tr>\n    <tr>\n      <th>...</th>\n      <td>...</td>\n      <td>...</td>\n      <td>...</td>\n      <td>...</td>\n      <td>...</td>\n      <td>...</td>\n      <td>...</td>\n      <td>...</td>\n      <td>...</td>\n      <td>...</td>\n      <td>...</td>\n      <td>...</td>\n      <td>...</td>\n      <td>...</td>\n      <td>...</td>\n    </tr>\n    <tr>\n      <th>13d2hsf</th>\n      <td>13d2hsf</td>\n      <td>bathandbodyworks</td>\n      <td>alesieoksap</td>\n      <td>Ice Cream Shop Collection?</td>\n      <td>someone holding a cup of ice cream in their hand</td>\n      <td>c6788074138175c661fc652bd7630e33</td>\n      <td>/r/bathandbodyworks/comments/13d2hsf/ice_cream...</td>\n      <td>https://i.redd.it/uhwamoq99wya1.jpg</td>\n      <td>13d2hsf.jpg</td>\n      <td>data/image/13d2hsf.jpg</td>\n      <td>CandleDiffusion</td>\n      <td>True</td>\n      <td>False</td>\n      <td>False</td>\n      <td>[]</td>\n    </tr>\n    <tr>\n      <th>13d661b</th>\n      <td>13d661b</td>\n      <td>bathandbodyworks</td>\n      <td>xeloux</td>\n      <td>Facebook market finds!</td>\n      <td>three candles are sitting on a blanket on a bed</td>\n      <td>e868289445c195815dd67dd0df1a65cb</td>\n      <td>/r/bathandbodyworks/comments/13d661b/facebook_...</td>\n      <td>https://i.redd.it/skd10hefxwya1.jpg</td>\n      <td>13d661b.jpg</td>\n      <td>data/image/13d661b.jpg</td>\n      <td>CandleDiffusion</td>\n      <td>True</td>\n      <td>False</td>\n      <td>False</td>\n      <td>[]</td>\n    </tr>\n    <tr>\n      <th>13d8s0i</th>\n      <td>13d8s0i</td>\n      <td>bathandbodyworks</td>\n      <td>Alternative-Tea-9355</td>\n      <td>Black Cherry Merlot dupe</td>\n      <td>someone holding a tube of body cream in a store</td>\n      <td>965bc5a58a597192700234729758101b</td>\n      <td>/r/bathandbodyworks/comments/13d8s0i/black_che...</td>\n      <td>https://i.redd.it/xt7qew9qexya1.jpg</td>\n      <td>13d8s0i.jpg</td>\n      <td>data/image/13d8s0i.jpg</td>\n      <td>CandleDiffusion</td>\n      <td>True</td>\n      <td>False</td>\n      <td>False</td>\n      <td>[]</td>\n    </tr>\n    <tr>\n      <th>13dagbr</th>\n      <td>13dagbr</td>\n      <td>bathandbodyworks</td>\n      <td>Dove04</td>\n      <td>Does anyone know how I could get rid of this r...</td>\n      <td>someone is holding a white device with a hole ...</td>\n      <td>41732e4109a99c99c91c2181867d18e3</td>\n      <td>/r/bathandbodyworks/comments/13dagbr/does_anyo...</td>\n      <td>https://i.redd.it/p0j6atz6rxya1.jpg</td>\n      <td>13dagbr.jpg</td>\n      <td>data/image/13dagbr.jpg</td>\n      <td>CandleDiffusion</td>\n      <td>True</td>\n      <td>False</td>\n      <td>False</td>\n      <td>[]</td>\n    </tr>\n    <tr>\n      <th>13dbhn4</th>\n      <td>13dbhn4</td>\n      <td>bathandbodyworks</td>\n      <td>Thebigbooty01</td>\n      <td>Gratis today at work</td>\n      <td>there are some bottles of bath and body produc...</td>\n      <td>f2afdcbed21cc1f44ac757bf2f797ae6</td>\n      <td>/r/bathandbodyworks/comments/13dbhn4/gratis_to...</td>\n      <td>https://i.redd.it/x954qki8zxya1.jpg</td>\n      <td>13dbhn4.jpg</td>\n      <td>data/image/13dbhn4.jpg</td>\n      <td>CandleDiffusion</td>\n      <td>True</td>\n      <td>False</td>\n      <td>False</td>\n      <td>[]</td>\n    </tr>\n  </tbody>\n</table>\n<p>37031 rows × 15 columns</p>\n</div>"
     },
     "metadata": {},
     "output_type": "display_data"
    },
    {
     "name": "stdout",
     "output_type": "stream",
     "text": [
      "CPU times: total: 93.8 ms\n",
      "Wall time: 187 ms\n"
     ]
    }
   ],
   "source": [
    "%%time\n",
    "\n",
    "concat = pd.concat([current, dropped])\n",
    "\n",
    "display(\"== Concatenated Data ==\")\n",
    "display(concat.shape)\n",
    "display(concat)"
   ],
   "metadata": {
    "collapsed": false,
    "ExecuteTime": {
     "end_time": "2023-05-10T01:43:12.337480100Z",
     "start_time": "2023-05-10T01:43:11.423785900Z"
    }
   }
  },
  {
   "cell_type": "code",
   "execution_count": null,
   "outputs": [],
   "source": [
    "%%time\n",
    "\n",
    "file_list_ = file_system.ls(\"data/image\")\n",
    "concat['path'] = concat.progress_apply(lambda x: functions.fix_path(x, file_list), axis=1)\n",
    "\n",
    "display(\"== Concatenated Data With Path ==\")\n",
    "display(concat.shape)\n",
    "display(concat)"
   ],
   "metadata": {
    "collapsed": false,
    "is_executing": true,
    "ExecuteTime": {
     "start_time": "2023-05-10T01:43:11.664309600Z"
    }
   }
  },
  {
   "cell_type": "code",
   "execution_count": null,
   "outputs": [],
   "source": [
    "%%time\n",
    "\n",
    "back_up_name = f\"data/parquet/back_{dt.datetime.timestamp(dt.datetime.now())}.parquet\"\n",
    "display(f\"== Writing Back-Up {back_up_name} ==\")\n",
    "current.to_parquet(back_up_name, schema=schema, filesystem=file_system)"
   ],
   "metadata": {
    "collapsed": false,
    "is_executing": true
   }
  },
  {
   "cell_type": "code",
   "execution_count": null,
   "outputs": [],
   "source": [
    "%%time\n",
    "\n",
    "concat.to_parquet(\"data/parquet/back.parquet\", schema=schema, filesystem=file_system)\n",
    "new = pd.read_parquet(\"data/parquet/back.parquet\", engine='pyarrow', schema=schema, filesystem=file_system)\n",
    "\n",
    "display(\"== New Data ==\")\n",
    "display(new.shape)\n",
    "display(new)"
   ],
   "metadata": {
    "collapsed": false,
    "is_executing": true
   }
  },
  {
   "cell_type": "code",
   "execution_count": null,
   "outputs": [],
   "source": [
    "!jupyter notebook stop"
   ],
   "metadata": {
    "collapsed": false,
    "is_executing": true
   }
  }
 ],
 "metadata": {
  "kernelspec": {
   "display_name": "Python 3",
   "language": "python",
   "name": "python3"
  },
  "language_info": {
   "codemirror_mode": {
    "name": "ipython",
    "version": 2
   },
   "file_extension": ".py",
   "mimetype": "text/x-python",
   "name": "python",
   "nbconvert_exporter": "python",
   "pygments_lexer": "ipython2",
   "version": "2.7.6"
  }
 },
 "nbformat": 4,
 "nbformat_minor": 0
}
