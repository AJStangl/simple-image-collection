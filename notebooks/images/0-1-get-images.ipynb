{
 "cells": [
  {
   "cell_type": "code",
   "execution_count": 1,
   "outputs": [
    {
     "name": "stdout",
     "output_type": "stream",
     "text": [
      "CPU times: total: 2.66 s\n",
      "Wall time: 22.5 s\n"
     ]
    }
   ],
   "source": [
    "%%time\n",
    "\n",
    "import datetime as dt\n",
    "import os\n",
    "\n",
    "import pandas\n",
    "import pandas as pd\n",
    "import praw\n",
    "from praw.models import ListingGenerator\n",
    "from tqdm import tqdm\n",
    "\n",
    "from common.captioning.caption import BlipCaption\n",
    "from common.schemas.pyarrow_schema import schema\n",
    "from common.storage.azure_file_storage import AzureFileStorageAdapter\n",
    "\n",
    "tqdm.pandas(desc=\"Progress\")\n",
    "\n",
    "file_system = AzureFileStorageAdapter('data').get_file_storage()\n",
    "\n",
    "from common.data_frame_functions.functions import Functions\n",
    "\n",
    "functions: Functions = Functions()"
   ],
   "metadata": {
    "collapsed": false,
    "ExecuteTime": {
     "end_time": "2023-05-15T20:56:02.323133700Z",
     "start_time": "2023-05-15T20:55:39.815043900Z"
    }
   }
  },
  {
   "cell_type": "code",
   "execution_count": 2,
   "outputs": [
    {
     "name": "stdout",
     "output_type": "stream",
     "text": [
      "CPU times: total: 0 ns\n",
      "Wall time: 0 ns\n"
     ]
    }
   ],
   "source": [
    "%%time\n",
    "\n",
    "# \"memes\",\"CityPorn\", \"EarthPorn\", \"spaceporn\",\t\"itookapicture\",\t\"trippinthroughtime\",\n",
    "subs = [\n",
    "\t\"SFWRedheads\",\n",
    "\t\"sfwpetite\",\n",
    "\t\"SFWNextDoorGirls\",\n",
    "\t\"fatsquirrelhate\",\n",
    "\t\"realasians\",\n",
    "\t\"KoreanHotties\",\n",
    "\t\"prettyasiangirls\",\n",
    "\t\"AsianOfficeLady\",\n",
    "\t\"mildlypenis\",\n",
    "\t\"AsianInvasion\",\n",
    "\t\"sexygirls\",\n",
    "\t\"PrettyGirls\",\n",
    "\t\"gentlemanboners\",\n",
    "\t\"hotofficegirls\",\n",
    "\t\"tightdresses\",\n",
    "\t\"DLAH\",\n",
    "\t\"bathandbodyworks\",\n",
    "\t\"AesPleasingAsianGirls\"\n",
    "]"
   ],
   "metadata": {
    "collapsed": false,
    "ExecuteTime": {
     "end_time": "2023-05-15T20:56:02.493260600Z",
     "start_time": "2023-05-15T20:56:02.313082300Z"
    }
   }
  },
  {
   "cell_type": "code",
   "execution_count": 3,
   "outputs": [
    {
     "name": "stdout",
     "output_type": "stream",
     "text": [
      "CPU times: total: 0 ns\n",
      "Wall time: 4.54 ms\n"
     ]
    }
   ],
   "source": [
    "%%time\n",
    "\n",
    "sources = [\n",
    "\t{\"name\": \"CityDiffusion\", \"data\": [\"CityPorn\"]},\n",
    "\t{\"name\": \"NatureDiffusion\", \"data\": [\"EarthPorn\"]},\n",
    "\t{\"name\": \"CosmicDiffusion\", \"data\": [\"spaceporn\"]},\n",
    "\t{\"name\": \"ITAPDiffusion\", \"data\": [\"itookapicture\"]},\n",
    "\t{\"name\": \"MemeDiffusion\", \"data\": [\"memes\"]},\n",
    "\t{\"name\": \"TTTDiffusion\", \"data\": [\"trippinthroughtime\"]},\n",
    "\t{\"name\": \"WallStreetDiffusion\", \"data\": [\"wallstreetbets\"]},\n",
    "\t{\"name\": \"SexyDiffusion\", \"data\": [\"selfies\", \"Amicute\", \"amihot\", \"AmIhotAF\", \"HotGirlNextDoor\"]},\n",
    "\t{\"name\": \"FatSquirrelDiffusion\", \"data\": [\"fatsquirrelhate\"]},\n",
    "\t{\"name\": \"CelebrityDiffusion\", \"data\": [\"celebrities\"]},\n",
    "\t{\"name\": \"OldLadyDiffusion\", \"data\": [\"oldladiesbakingpies\"]},\n",
    "\t{\"name\": \"SWFPetite\", \"data\": [\"sfwpetite\"]},\n",
    "\t{\"name\": \"SFWMilfs\", \"data\": [\"cougars_and_milfs_sfw\"]},\n",
    "\t{\"name\": \"RedHeadDiffusion\", \"data\": [\"SFWRedheads\"]},\n",
    "\t{\"name\": \"NextDoorGirlsDiffusion\", \"data\": [\"SFWNextDoorGirls\"]},\n",
    "\t{\"name\": \"SexyAsianDiffusion\",\"data\": [\"realasians\", \"KoreanHotties\", \"prettyasiangirls\", \"AsianOfficeLady\", \"AsianInvasion\",\"AesPleasingAsianGirls\"]},\n",
    "\t{\"name\": \"MildlyPenisDiffusion\", \"data\": [\"mildlypenis\"]},\n",
    "\t{\"name\": \"PrettyGirlDiffusion\",\"data\": [\"sexygirls\", \"PrettyGirls\", \"gentlemanboners\", \"hotofficegirls\", \"tightdresses\", \"DLAH\"]},\n",
    "\t{\"name\": \"CandleDiffusion\", \"data\": [\"bathandbodyworks\"]}\n",
    "]\n",
    "sources_df = pd.DataFrame.from_records(sources)"
   ],
   "metadata": {
    "collapsed": false,
    "ExecuteTime": {
     "end_time": "2023-05-15T20:56:02.643471600Z",
     "start_time": "2023-05-15T20:56:02.343081100Z"
    }
   }
  },
  {
   "cell_type": "code",
   "execution_count": 4,
   "outputs": [
    {
     "data": {
      "text/plain": "        subreddit                author   \nid                                        \n100rn7k  AmIhotAF          veritynicole  \\\n1013bdt  AmIhotAF           RaulDea9286   \n105mekt  AmIhotAF              lindaniz   \n105qvgl  AmIhotAF           CaitVLove11   \n105rpcj  AmIhotAF       Flashy-Desk1858   \n...           ...                   ...   \n131dso7      DLAH        Wallydinger123   \n131eznp      DLAH          Long_dong111   \n131g3am      DLAH       ThrownAwayMiles   \n131jvcx      DLAH              robok212   \n131n2by      DLAH  Dependent_Secret9424   \n\n                                                  title   \nid                                                        \n100rn7k             hey, hows your new year going (23F)  \\\n1013bdt                                   36F - ITALIAN   \n105mekt  interesting in good forward relationship (f24)   \n105qvgl                       Laughing is my favorite 😆   \n105rpcj        [f22] What do you think when you see me?   \n...                                                 ...   \n131dso7                                     Happy B Day   \n131eznp                                         Perfect   \n131g3am                              DLAH left or right   \n131jvcx                                  Good morning 😍   \n131n2by                            Perfection (Sisters)   \n\n                                                   caption   \nid                                                           \n100rn7k  a woman in a white shirt and black pants is po...  \\\n1013bdt            arafed image of a woman in a bikini top   \n105mekt  a close up of a woman with red hair and a whit...   \n105qvgl  a woman in a blue tank top and shorts is smili...   \n105rpcj    a woman in a blue bikini top and a blue bra top   \n...                                                    ...   \n131dso7  there are three women posing for a picture in ...   \n131eznp  araffe woman in a white dress sitting on a pur...   \n131g3am  two women in short dresses posing for a pictur...   \n131jvcx      araffe in a pink dress posing on a white wall   \n131n2by  two women in shorts and sandals taking a selfi...   \n\n                                     hash   \nid                                          \n100rn7k  4bd00c19fa0ff2ade855e6d364b0760b  \\\n1013bdt  7c0d158cba8654ef1c635cbc5471d597   \n105mekt  ba4a0962cca2266a741e1e1700589c04   \n105qvgl  27bfe82c37314a0bcf02ab72eaf3a9e5   \n105rpcj  329eb42b8267fa1cc2980da8e48bcef1   \n...                                   ...   \n131dso7  ebb4b4a88dc79e2f2f57b10f32bf03c0   \n131eznp  5c944c6d62b1ae182c5a6a40c64195f4   \n131g3am  ab1f8fc33c85f4cfce12c810cf22229e   \n131jvcx  01f5058855526ef25888cff88065db4c   \n131n2by  b162dd1999dbf9ea3c7adccd34624a46   \n\n                                                 permalink   \nid                                                           \n100rn7k  /r/AmIhotAF/comments/100rn7k/hey_hows_your_new...  \\\n1013bdt          /r/AmIhotAF/comments/1013bdt/36f_italian/   \n105mekt  /r/AmIhotAF/comments/105mekt/interesting_in_go...   \n105qvgl  /r/AmIhotAF/comments/105qvgl/laughing_is_my_fa...   \n105rpcj  /r/AmIhotAF/comments/105rpcj/f22_what_do_you_t...   \n...                                                    ...   \n131dso7              /r/DLAH/comments/131dso7/happy_b_day/   \n131eznp                  /r/DLAH/comments/131eznp/perfect/   \n131g3am       /r/DLAH/comments/131g3am/dlah_left_or_right/   \n131jvcx             /r/DLAH/comments/131jvcx/good_morning/   \n131n2by       /r/DLAH/comments/131n2by/perfection_sisters/   \n\n                                original_url   image_name   \nid                                                          \n100rn7k  https://i.redd.it/n7r47s0gkh9a1.jpg  100rn7k.jpg  \\\n1013bdt  https://i.redd.it/bg0wwdlt5k9a1.jpg  1013bdt.jpg   \n105mekt  https://i.redd.it/4avjshsz8naa1.jpg  105mekt.jpg   \n105qvgl  https://i.redd.it/2pulzr0lxmaa1.jpg  105qvgl.jpg   \n105rpcj  https://i.redd.it/rz68pf934naa1.jpg  105rpcj.jpg   \n...                                      ...          ...   \n131dso7  https://i.redd.it/36gurz533jwa1.jpg  131dso7.jpg   \n131eznp  https://i.redd.it/dnbbx4zucjwa1.jpg  131eznp.jpg   \n131g3am  https://i.redd.it/zpp70oor3lwa1.jpg  131g3am.jpg   \n131jvcx  https://i.redd.it/ozmbfhjv3mwa1.jpg  131jvcx.jpg   \n131n2by  https://i.redd.it/pfg1u0aw1nwa1.jpg  131n2by.jpg   \n\n                           path                model  exists  curated accept   \nid                                                                             \n100rn7k  data/image/100rn7k.jpg        SexyDiffusion    True     True  False  \\\n1013bdt  data/image/1013bdt.jpg        SexyDiffusion    True     True   True   \n105mekt  data/image/105mekt.jpg        SexyDiffusion    True     True   True   \n105qvgl  data/image/105qvgl.jpg        SexyDiffusion    True     True   True   \n105rpcj  data/image/105rpcj.jpg        SexyDiffusion    True     True   True   \n...                         ...                  ...     ...      ...    ...   \n131dso7  data/image/131dso7.jpg  PrettyGirlDiffusion    True     True  False   \n131eznp  data/image/131eznp.jpg  PrettyGirlDiffusion    True     True   True   \n131g3am  data/image/131g3am.jpg  PrettyGirlDiffusion    True     True   True   \n131jvcx  data/image/131jvcx.jpg  PrettyGirlDiffusion    True     True  False   \n131n2by  data/image/131n2by.jpg  PrettyGirlDiffusion    True     True  False   \n\n        tags  \nid            \n100rn7k   []  \n1013bdt   []  \n105mekt   []  \n105qvgl   []  \n105rpcj   []  \n...      ...  \n131dso7   []  \n131eznp   []  \n131g3am   []  \n131jvcx   []  \n131n2by   []  \n\n[41505 rows x 14 columns]",
      "text/html": "<div>\n<style scoped>\n    .dataframe tbody tr th:only-of-type {\n        vertical-align: middle;\n    }\n\n    .dataframe tbody tr th {\n        vertical-align: top;\n    }\n\n    .dataframe thead th {\n        text-align: right;\n    }\n</style>\n<table border=\"1\" class=\"dataframe\">\n  <thead>\n    <tr style=\"text-align: right;\">\n      <th></th>\n      <th>subreddit</th>\n      <th>author</th>\n      <th>title</th>\n      <th>caption</th>\n      <th>hash</th>\n      <th>permalink</th>\n      <th>original_url</th>\n      <th>image_name</th>\n      <th>path</th>\n      <th>model</th>\n      <th>exists</th>\n      <th>curated</th>\n      <th>accept</th>\n      <th>tags</th>\n    </tr>\n    <tr>\n      <th>id</th>\n      <th></th>\n      <th></th>\n      <th></th>\n      <th></th>\n      <th></th>\n      <th></th>\n      <th></th>\n      <th></th>\n      <th></th>\n      <th></th>\n      <th></th>\n      <th></th>\n      <th></th>\n      <th></th>\n    </tr>\n  </thead>\n  <tbody>\n    <tr>\n      <th>100rn7k</th>\n      <td>AmIhotAF</td>\n      <td>veritynicole</td>\n      <td>hey, hows your new year going (23F)</td>\n      <td>a woman in a white shirt and black pants is po...</td>\n      <td>4bd00c19fa0ff2ade855e6d364b0760b</td>\n      <td>/r/AmIhotAF/comments/100rn7k/hey_hows_your_new...</td>\n      <td>https://i.redd.it/n7r47s0gkh9a1.jpg</td>\n      <td>100rn7k.jpg</td>\n      <td>data/image/100rn7k.jpg</td>\n      <td>SexyDiffusion</td>\n      <td>True</td>\n      <td>True</td>\n      <td>False</td>\n      <td>[]</td>\n    </tr>\n    <tr>\n      <th>1013bdt</th>\n      <td>AmIhotAF</td>\n      <td>RaulDea9286</td>\n      <td>36F - ITALIAN</td>\n      <td>arafed image of a woman in a bikini top</td>\n      <td>7c0d158cba8654ef1c635cbc5471d597</td>\n      <td>/r/AmIhotAF/comments/1013bdt/36f_italian/</td>\n      <td>https://i.redd.it/bg0wwdlt5k9a1.jpg</td>\n      <td>1013bdt.jpg</td>\n      <td>data/image/1013bdt.jpg</td>\n      <td>SexyDiffusion</td>\n      <td>True</td>\n      <td>True</td>\n      <td>True</td>\n      <td>[]</td>\n    </tr>\n    <tr>\n      <th>105mekt</th>\n      <td>AmIhotAF</td>\n      <td>lindaniz</td>\n      <td>interesting in good forward relationship (f24)</td>\n      <td>a close up of a woman with red hair and a whit...</td>\n      <td>ba4a0962cca2266a741e1e1700589c04</td>\n      <td>/r/AmIhotAF/comments/105mekt/interesting_in_go...</td>\n      <td>https://i.redd.it/4avjshsz8naa1.jpg</td>\n      <td>105mekt.jpg</td>\n      <td>data/image/105mekt.jpg</td>\n      <td>SexyDiffusion</td>\n      <td>True</td>\n      <td>True</td>\n      <td>True</td>\n      <td>[]</td>\n    </tr>\n    <tr>\n      <th>105qvgl</th>\n      <td>AmIhotAF</td>\n      <td>CaitVLove11</td>\n      <td>Laughing is my favorite 😆</td>\n      <td>a woman in a blue tank top and shorts is smili...</td>\n      <td>27bfe82c37314a0bcf02ab72eaf3a9e5</td>\n      <td>/r/AmIhotAF/comments/105qvgl/laughing_is_my_fa...</td>\n      <td>https://i.redd.it/2pulzr0lxmaa1.jpg</td>\n      <td>105qvgl.jpg</td>\n      <td>data/image/105qvgl.jpg</td>\n      <td>SexyDiffusion</td>\n      <td>True</td>\n      <td>True</td>\n      <td>True</td>\n      <td>[]</td>\n    </tr>\n    <tr>\n      <th>105rpcj</th>\n      <td>AmIhotAF</td>\n      <td>Flashy-Desk1858</td>\n      <td>[f22] What do you think when you see me?</td>\n      <td>a woman in a blue bikini top and a blue bra top</td>\n      <td>329eb42b8267fa1cc2980da8e48bcef1</td>\n      <td>/r/AmIhotAF/comments/105rpcj/f22_what_do_you_t...</td>\n      <td>https://i.redd.it/rz68pf934naa1.jpg</td>\n      <td>105rpcj.jpg</td>\n      <td>data/image/105rpcj.jpg</td>\n      <td>SexyDiffusion</td>\n      <td>True</td>\n      <td>True</td>\n      <td>True</td>\n      <td>[]</td>\n    </tr>\n    <tr>\n      <th>...</th>\n      <td>...</td>\n      <td>...</td>\n      <td>...</td>\n      <td>...</td>\n      <td>...</td>\n      <td>...</td>\n      <td>...</td>\n      <td>...</td>\n      <td>...</td>\n      <td>...</td>\n      <td>...</td>\n      <td>...</td>\n      <td>...</td>\n      <td>...</td>\n    </tr>\n    <tr>\n      <th>131dso7</th>\n      <td>DLAH</td>\n      <td>Wallydinger123</td>\n      <td>Happy B Day</td>\n      <td>there are three women posing for a picture in ...</td>\n      <td>ebb4b4a88dc79e2f2f57b10f32bf03c0</td>\n      <td>/r/DLAH/comments/131dso7/happy_b_day/</td>\n      <td>https://i.redd.it/36gurz533jwa1.jpg</td>\n      <td>131dso7.jpg</td>\n      <td>data/image/131dso7.jpg</td>\n      <td>PrettyGirlDiffusion</td>\n      <td>True</td>\n      <td>True</td>\n      <td>False</td>\n      <td>[]</td>\n    </tr>\n    <tr>\n      <th>131eznp</th>\n      <td>DLAH</td>\n      <td>Long_dong111</td>\n      <td>Perfect</td>\n      <td>araffe woman in a white dress sitting on a pur...</td>\n      <td>5c944c6d62b1ae182c5a6a40c64195f4</td>\n      <td>/r/DLAH/comments/131eznp/perfect/</td>\n      <td>https://i.redd.it/dnbbx4zucjwa1.jpg</td>\n      <td>131eznp.jpg</td>\n      <td>data/image/131eznp.jpg</td>\n      <td>PrettyGirlDiffusion</td>\n      <td>True</td>\n      <td>True</td>\n      <td>True</td>\n      <td>[]</td>\n    </tr>\n    <tr>\n      <th>131g3am</th>\n      <td>DLAH</td>\n      <td>ThrownAwayMiles</td>\n      <td>DLAH left or right</td>\n      <td>two women in short dresses posing for a pictur...</td>\n      <td>ab1f8fc33c85f4cfce12c810cf22229e</td>\n      <td>/r/DLAH/comments/131g3am/dlah_left_or_right/</td>\n      <td>https://i.redd.it/zpp70oor3lwa1.jpg</td>\n      <td>131g3am.jpg</td>\n      <td>data/image/131g3am.jpg</td>\n      <td>PrettyGirlDiffusion</td>\n      <td>True</td>\n      <td>True</td>\n      <td>True</td>\n      <td>[]</td>\n    </tr>\n    <tr>\n      <th>131jvcx</th>\n      <td>DLAH</td>\n      <td>robok212</td>\n      <td>Good morning 😍</td>\n      <td>araffe in a pink dress posing on a white wall</td>\n      <td>01f5058855526ef25888cff88065db4c</td>\n      <td>/r/DLAH/comments/131jvcx/good_morning/</td>\n      <td>https://i.redd.it/ozmbfhjv3mwa1.jpg</td>\n      <td>131jvcx.jpg</td>\n      <td>data/image/131jvcx.jpg</td>\n      <td>PrettyGirlDiffusion</td>\n      <td>True</td>\n      <td>True</td>\n      <td>False</td>\n      <td>[]</td>\n    </tr>\n    <tr>\n      <th>131n2by</th>\n      <td>DLAH</td>\n      <td>Dependent_Secret9424</td>\n      <td>Perfection (Sisters)</td>\n      <td>two women in shorts and sandals taking a selfi...</td>\n      <td>b162dd1999dbf9ea3c7adccd34624a46</td>\n      <td>/r/DLAH/comments/131n2by/perfection_sisters/</td>\n      <td>https://i.redd.it/pfg1u0aw1nwa1.jpg</td>\n      <td>131n2by.jpg</td>\n      <td>data/image/131n2by.jpg</td>\n      <td>PrettyGirlDiffusion</td>\n      <td>True</td>\n      <td>True</td>\n      <td>False</td>\n      <td>[]</td>\n    </tr>\n  </tbody>\n</table>\n<p>41505 rows × 14 columns</p>\n</div>"
     },
     "metadata": {},
     "output_type": "display_data"
    },
    {
     "name": "stdout",
     "output_type": "stream",
     "text": [
      "CPU times: total: 391 ms\n",
      "Wall time: 5.37 s\n"
     ]
    }
   ],
   "source": [
    "%%time\n",
    "\n",
    "extant_data = pandas.read_parquet(\"data/processed_raw_data.parquet\", engine='pyarrow', filesystem=file_system,\n",
    "\t\t\t\t\t\t\t\t  schema=schema)\n",
    "extant_data.set_index('id', inplace=True)\n",
    "display(extant_data)"
   ],
   "metadata": {
    "collapsed": false,
    "ExecuteTime": {
     "end_time": "2023-05-15T20:56:07.798414400Z",
     "start_time": "2023-05-15T20:56:02.388148500Z"
    }
   }
  },
  {
   "cell_type": "code",
   "execution_count": 5,
   "outputs": [
    {
     "data": {
      "text/plain": "'==== CURATED DATA ===='"
     },
     "metadata": {},
     "output_type": "display_data"
    },
    {
     "data": {
      "text/plain": "(37031, 14)"
     },
     "metadata": {},
     "output_type": "display_data"
    },
    {
     "data": {
      "text/plain": "                subreddit                author   \nid                                                \n100rn7k          AmIhotAF          veritynicole  \\\n1013bdt          AmIhotAF           RaulDea9286   \n105mekt          AmIhotAF              lindaniz   \n105qvgl          AmIhotAF           CaitVLove11   \n105rpcj          AmIhotAF       Flashy-Desk1858   \n...                   ...                   ...   \n13d2hsf  bathandbodyworks           alesieoksap   \n13d661b  bathandbodyworks                xeloux   \n13d8s0i  bathandbodyworks  Alternative-Tea-9355   \n13dagbr  bathandbodyworks                Dove04   \n13dbhn4  bathandbodyworks         Thebigbooty01   \n\n                                                     title   \nid                                                           \n100rn7k                hey, hows your new year going (23F)  \\\n1013bdt                                      36F - ITALIAN   \n105mekt     interesting in good forward relationship (f24)   \n105qvgl                          Laughing is my favorite 😆   \n105rpcj           [f22] What do you think when you see me?   \n...                                                    ...   \n13d2hsf                         Ice Cream Shop Collection?   \n13d661b                             Facebook market finds!   \n13d8s0i                           Black Cherry Merlot dupe   \n13dagbr  Does anyone know how I could get rid of this r...   \n13dbhn4                               Gratis today at work   \n\n                                                   caption   \nid                                                           \n100rn7k  a woman in a white shirt and black pants is po...  \\\n1013bdt            arafed image of a woman in a bikini top   \n105mekt  a close up of a woman with red hair and a whit...   \n105qvgl  a woman in a blue tank top and shorts is smili...   \n105rpcj    a woman in a blue bikini top and a blue bra top   \n...                                                    ...   \n13d2hsf   someone holding a cup of ice cream in their hand   \n13d661b    three candles are sitting on a blanket on a bed   \n13d8s0i    someone holding a tube of body cream in a store   \n13dagbr  someone is holding a white device with a hole ...   \n13dbhn4  there are some bottles of bath and body produc...   \n\n                                     hash   \nid                                          \n100rn7k  4bd00c19fa0ff2ade855e6d364b0760b  \\\n1013bdt  7c0d158cba8654ef1c635cbc5471d597   \n105mekt  ba4a0962cca2266a741e1e1700589c04   \n105qvgl  27bfe82c37314a0bcf02ab72eaf3a9e5   \n105rpcj  329eb42b8267fa1cc2980da8e48bcef1   \n...                                   ...   \n13d2hsf  c6788074138175c661fc652bd7630e33   \n13d661b  e868289445c195815dd67dd0df1a65cb   \n13d8s0i  965bc5a58a597192700234729758101b   \n13dagbr  41732e4109a99c99c91c2181867d18e3   \n13dbhn4  f2afdcbed21cc1f44ac757bf2f797ae6   \n\n                                                 permalink   \nid                                                           \n100rn7k  /r/AmIhotAF/comments/100rn7k/hey_hows_your_new...  \\\n1013bdt          /r/AmIhotAF/comments/1013bdt/36f_italian/   \n105mekt  /r/AmIhotAF/comments/105mekt/interesting_in_go...   \n105qvgl  /r/AmIhotAF/comments/105qvgl/laughing_is_my_fa...   \n105rpcj  /r/AmIhotAF/comments/105rpcj/f22_what_do_you_t...   \n...                                                    ...   \n13d2hsf  /r/bathandbodyworks/comments/13d2hsf/ice_cream...   \n13d661b  /r/bathandbodyworks/comments/13d661b/facebook_...   \n13d8s0i  /r/bathandbodyworks/comments/13d8s0i/black_che...   \n13dagbr  /r/bathandbodyworks/comments/13dagbr/does_anyo...   \n13dbhn4  /r/bathandbodyworks/comments/13dbhn4/gratis_to...   \n\n                                original_url   image_name   \nid                                                          \n100rn7k  https://i.redd.it/n7r47s0gkh9a1.jpg  100rn7k.jpg  \\\n1013bdt  https://i.redd.it/bg0wwdlt5k9a1.jpg  1013bdt.jpg   \n105mekt  https://i.redd.it/4avjshsz8naa1.jpg  105mekt.jpg   \n105qvgl  https://i.redd.it/2pulzr0lxmaa1.jpg  105qvgl.jpg   \n105rpcj  https://i.redd.it/rz68pf934naa1.jpg  105rpcj.jpg   \n...                                      ...          ...   \n13d2hsf  https://i.redd.it/uhwamoq99wya1.jpg  13d2hsf.jpg   \n13d661b  https://i.redd.it/skd10hefxwya1.jpg  13d661b.jpg   \n13d8s0i  https://i.redd.it/xt7qew9qexya1.jpg  13d8s0i.jpg   \n13dagbr  https://i.redd.it/p0j6atz6rxya1.jpg  13dagbr.jpg   \n13dbhn4  https://i.redd.it/x954qki8zxya1.jpg  13dbhn4.jpg   \n\n                           path            model  exists  curated  accept tags  \nid                                                                              \n100rn7k  data/image/100rn7k.jpg    SexyDiffusion    True     True   False   []  \n1013bdt  data/image/1013bdt.jpg    SexyDiffusion    True     True    True   []  \n105mekt  data/image/105mekt.jpg    SexyDiffusion    True     True    True   []  \n105qvgl  data/image/105qvgl.jpg    SexyDiffusion    True     True    True   []  \n105rpcj  data/image/105rpcj.jpg    SexyDiffusion    True     True    True   []  \n...                         ...              ...     ...      ...     ...  ...  \n13d2hsf  data/image/13d2hsf.jpg  CandleDiffusion    True     True    True   []  \n13d661b  data/image/13d661b.jpg  CandleDiffusion    True     True    True   []  \n13d8s0i  data/image/13d8s0i.jpg  CandleDiffusion    True     True   False   []  \n13dagbr  data/image/13dagbr.jpg  CandleDiffusion    True     True   False   []  \n13dbhn4  data/image/13dbhn4.jpg  CandleDiffusion    True     True    True   []  \n\n[37031 rows x 14 columns]",
      "text/html": "<div>\n<style scoped>\n    .dataframe tbody tr th:only-of-type {\n        vertical-align: middle;\n    }\n\n    .dataframe tbody tr th {\n        vertical-align: top;\n    }\n\n    .dataframe thead th {\n        text-align: right;\n    }\n</style>\n<table border=\"1\" class=\"dataframe\">\n  <thead>\n    <tr style=\"text-align: right;\">\n      <th></th>\n      <th>subreddit</th>\n      <th>author</th>\n      <th>title</th>\n      <th>caption</th>\n      <th>hash</th>\n      <th>permalink</th>\n      <th>original_url</th>\n      <th>image_name</th>\n      <th>path</th>\n      <th>model</th>\n      <th>exists</th>\n      <th>curated</th>\n      <th>accept</th>\n      <th>tags</th>\n    </tr>\n    <tr>\n      <th>id</th>\n      <th></th>\n      <th></th>\n      <th></th>\n      <th></th>\n      <th></th>\n      <th></th>\n      <th></th>\n      <th></th>\n      <th></th>\n      <th></th>\n      <th></th>\n      <th></th>\n      <th></th>\n      <th></th>\n    </tr>\n  </thead>\n  <tbody>\n    <tr>\n      <th>100rn7k</th>\n      <td>AmIhotAF</td>\n      <td>veritynicole</td>\n      <td>hey, hows your new year going (23F)</td>\n      <td>a woman in a white shirt and black pants is po...</td>\n      <td>4bd00c19fa0ff2ade855e6d364b0760b</td>\n      <td>/r/AmIhotAF/comments/100rn7k/hey_hows_your_new...</td>\n      <td>https://i.redd.it/n7r47s0gkh9a1.jpg</td>\n      <td>100rn7k.jpg</td>\n      <td>data/image/100rn7k.jpg</td>\n      <td>SexyDiffusion</td>\n      <td>True</td>\n      <td>True</td>\n      <td>False</td>\n      <td>[]</td>\n    </tr>\n    <tr>\n      <th>1013bdt</th>\n      <td>AmIhotAF</td>\n      <td>RaulDea9286</td>\n      <td>36F - ITALIAN</td>\n      <td>arafed image of a woman in a bikini top</td>\n      <td>7c0d158cba8654ef1c635cbc5471d597</td>\n      <td>/r/AmIhotAF/comments/1013bdt/36f_italian/</td>\n      <td>https://i.redd.it/bg0wwdlt5k9a1.jpg</td>\n      <td>1013bdt.jpg</td>\n      <td>data/image/1013bdt.jpg</td>\n      <td>SexyDiffusion</td>\n      <td>True</td>\n      <td>True</td>\n      <td>True</td>\n      <td>[]</td>\n    </tr>\n    <tr>\n      <th>105mekt</th>\n      <td>AmIhotAF</td>\n      <td>lindaniz</td>\n      <td>interesting in good forward relationship (f24)</td>\n      <td>a close up of a woman with red hair and a whit...</td>\n      <td>ba4a0962cca2266a741e1e1700589c04</td>\n      <td>/r/AmIhotAF/comments/105mekt/interesting_in_go...</td>\n      <td>https://i.redd.it/4avjshsz8naa1.jpg</td>\n      <td>105mekt.jpg</td>\n      <td>data/image/105mekt.jpg</td>\n      <td>SexyDiffusion</td>\n      <td>True</td>\n      <td>True</td>\n      <td>True</td>\n      <td>[]</td>\n    </tr>\n    <tr>\n      <th>105qvgl</th>\n      <td>AmIhotAF</td>\n      <td>CaitVLove11</td>\n      <td>Laughing is my favorite 😆</td>\n      <td>a woman in a blue tank top and shorts is smili...</td>\n      <td>27bfe82c37314a0bcf02ab72eaf3a9e5</td>\n      <td>/r/AmIhotAF/comments/105qvgl/laughing_is_my_fa...</td>\n      <td>https://i.redd.it/2pulzr0lxmaa1.jpg</td>\n      <td>105qvgl.jpg</td>\n      <td>data/image/105qvgl.jpg</td>\n      <td>SexyDiffusion</td>\n      <td>True</td>\n      <td>True</td>\n      <td>True</td>\n      <td>[]</td>\n    </tr>\n    <tr>\n      <th>105rpcj</th>\n      <td>AmIhotAF</td>\n      <td>Flashy-Desk1858</td>\n      <td>[f22] What do you think when you see me?</td>\n      <td>a woman in a blue bikini top and a blue bra top</td>\n      <td>329eb42b8267fa1cc2980da8e48bcef1</td>\n      <td>/r/AmIhotAF/comments/105rpcj/f22_what_do_you_t...</td>\n      <td>https://i.redd.it/rz68pf934naa1.jpg</td>\n      <td>105rpcj.jpg</td>\n      <td>data/image/105rpcj.jpg</td>\n      <td>SexyDiffusion</td>\n      <td>True</td>\n      <td>True</td>\n      <td>True</td>\n      <td>[]</td>\n    </tr>\n    <tr>\n      <th>...</th>\n      <td>...</td>\n      <td>...</td>\n      <td>...</td>\n      <td>...</td>\n      <td>...</td>\n      <td>...</td>\n      <td>...</td>\n      <td>...</td>\n      <td>...</td>\n      <td>...</td>\n      <td>...</td>\n      <td>...</td>\n      <td>...</td>\n      <td>...</td>\n    </tr>\n    <tr>\n      <th>13d2hsf</th>\n      <td>bathandbodyworks</td>\n      <td>alesieoksap</td>\n      <td>Ice Cream Shop Collection?</td>\n      <td>someone holding a cup of ice cream in their hand</td>\n      <td>c6788074138175c661fc652bd7630e33</td>\n      <td>/r/bathandbodyworks/comments/13d2hsf/ice_cream...</td>\n      <td>https://i.redd.it/uhwamoq99wya1.jpg</td>\n      <td>13d2hsf.jpg</td>\n      <td>data/image/13d2hsf.jpg</td>\n      <td>CandleDiffusion</td>\n      <td>True</td>\n      <td>True</td>\n      <td>True</td>\n      <td>[]</td>\n    </tr>\n    <tr>\n      <th>13d661b</th>\n      <td>bathandbodyworks</td>\n      <td>xeloux</td>\n      <td>Facebook market finds!</td>\n      <td>three candles are sitting on a blanket on a bed</td>\n      <td>e868289445c195815dd67dd0df1a65cb</td>\n      <td>/r/bathandbodyworks/comments/13d661b/facebook_...</td>\n      <td>https://i.redd.it/skd10hefxwya1.jpg</td>\n      <td>13d661b.jpg</td>\n      <td>data/image/13d661b.jpg</td>\n      <td>CandleDiffusion</td>\n      <td>True</td>\n      <td>True</td>\n      <td>True</td>\n      <td>[]</td>\n    </tr>\n    <tr>\n      <th>13d8s0i</th>\n      <td>bathandbodyworks</td>\n      <td>Alternative-Tea-9355</td>\n      <td>Black Cherry Merlot dupe</td>\n      <td>someone holding a tube of body cream in a store</td>\n      <td>965bc5a58a597192700234729758101b</td>\n      <td>/r/bathandbodyworks/comments/13d8s0i/black_che...</td>\n      <td>https://i.redd.it/xt7qew9qexya1.jpg</td>\n      <td>13d8s0i.jpg</td>\n      <td>data/image/13d8s0i.jpg</td>\n      <td>CandleDiffusion</td>\n      <td>True</td>\n      <td>True</td>\n      <td>False</td>\n      <td>[]</td>\n    </tr>\n    <tr>\n      <th>13dagbr</th>\n      <td>bathandbodyworks</td>\n      <td>Dove04</td>\n      <td>Does anyone know how I could get rid of this r...</td>\n      <td>someone is holding a white device with a hole ...</td>\n      <td>41732e4109a99c99c91c2181867d18e3</td>\n      <td>/r/bathandbodyworks/comments/13dagbr/does_anyo...</td>\n      <td>https://i.redd.it/p0j6atz6rxya1.jpg</td>\n      <td>13dagbr.jpg</td>\n      <td>data/image/13dagbr.jpg</td>\n      <td>CandleDiffusion</td>\n      <td>True</td>\n      <td>True</td>\n      <td>False</td>\n      <td>[]</td>\n    </tr>\n    <tr>\n      <th>13dbhn4</th>\n      <td>bathandbodyworks</td>\n      <td>Thebigbooty01</td>\n      <td>Gratis today at work</td>\n      <td>there are some bottles of bath and body produc...</td>\n      <td>f2afdcbed21cc1f44ac757bf2f797ae6</td>\n      <td>/r/bathandbodyworks/comments/13dbhn4/gratis_to...</td>\n      <td>https://i.redd.it/x954qki8zxya1.jpg</td>\n      <td>13dbhn4.jpg</td>\n      <td>data/image/13dbhn4.jpg</td>\n      <td>CandleDiffusion</td>\n      <td>True</td>\n      <td>True</td>\n      <td>True</td>\n      <td>[]</td>\n    </tr>\n  </tbody>\n</table>\n<p>37031 rows × 14 columns</p>\n</div>"
     },
     "metadata": {},
     "output_type": "display_data"
    },
    {
     "name": "stdout",
     "output_type": "stream",
     "text": [
      "CPU times: total: 516 ms\n",
      "Wall time: 5.42 s\n"
     ]
    }
   ],
   "source": [
    "%%time\n",
    "\n",
    "curated_data = pandas.read_parquet(\"data/parquet/back.parquet\", engine='pyarrow', filesystem=file_system, schema=schema)\n",
    "curated_data.set_index('id', inplace=True)\n",
    "\n",
    "display(\"==== CURATED DATA ====\")\n",
    "display(curated_data.shape)\n",
    "display(curated_data)"
   ],
   "metadata": {
    "collapsed": false,
    "ExecuteTime": {
     "end_time": "2023-05-15T20:56:15.401944800Z",
     "start_time": "2023-05-15T20:56:07.798414400Z"
    }
   }
  },
  {
   "cell_type": "code",
   "execution_count": 6,
   "outputs": [
    {
     "data": {
      "text/plain": "'==== UPDATED EXTANT DATA ===='"
     },
     "metadata": {},
     "output_type": "display_data"
    },
    {
     "data": {
      "text/plain": "(41505, 15)"
     },
     "metadata": {},
     "output_type": "display_data"
    },
    {
     "data": {
      "text/plain": "            id subreddit                author   \n0      100rn7k  AmIhotAF          veritynicole  \\\n1      1013bdt  AmIhotAF           RaulDea9286   \n2      105mekt  AmIhotAF              lindaniz   \n3      105qvgl  AmIhotAF           CaitVLove11   \n4      105rpcj  AmIhotAF       Flashy-Desk1858   \n...        ...       ...                   ...   \n41500  131dso7      DLAH        Wallydinger123   \n41501  131eznp      DLAH          Long_dong111   \n41502  131g3am      DLAH       ThrownAwayMiles   \n41503  131jvcx      DLAH              robok212   \n41504  131n2by      DLAH  Dependent_Secret9424   \n\n                                                title   \n0                 hey, hows your new year going (23F)  \\\n1                                       36F - ITALIAN   \n2      interesting in good forward relationship (f24)   \n3                           Laughing is my favorite 😆   \n4            [f22] What do you think when you see me?   \n...                                               ...   \n41500                                     Happy B Day   \n41501                                         Perfect   \n41502                              DLAH left or right   \n41503                                  Good morning 😍   \n41504                            Perfection (Sisters)   \n\n                                                 caption   \n0      a woman in a white shirt and black pants is po...  \\\n1                arafed image of a woman in a bikini top   \n2      a close up of a woman with red hair and a whit...   \n3      a woman in a blue tank top and shorts is smili...   \n4        a woman in a blue bikini top and a blue bra top   \n...                                                  ...   \n41500  there are three women posing for a picture in ...   \n41501  araffe woman in a white dress sitting on a pur...   \n41502  two women in short dresses posing for a pictur...   \n41503      araffe in a pink dress posing on a white wall   \n41504  two women in shorts and sandals taking a selfi...   \n\n                                   hash   \n0      4bd00c19fa0ff2ade855e6d364b0760b  \\\n1      7c0d158cba8654ef1c635cbc5471d597   \n2      ba4a0962cca2266a741e1e1700589c04   \n3      27bfe82c37314a0bcf02ab72eaf3a9e5   \n4      329eb42b8267fa1cc2980da8e48bcef1   \n...                                 ...   \n41500  ebb4b4a88dc79e2f2f57b10f32bf03c0   \n41501  5c944c6d62b1ae182c5a6a40c64195f4   \n41502  ab1f8fc33c85f4cfce12c810cf22229e   \n41503  01f5058855526ef25888cff88065db4c   \n41504  b162dd1999dbf9ea3c7adccd34624a46   \n\n                                               permalink   \n0      /r/AmIhotAF/comments/100rn7k/hey_hows_your_new...  \\\n1              /r/AmIhotAF/comments/1013bdt/36f_italian/   \n2      /r/AmIhotAF/comments/105mekt/interesting_in_go...   \n3      /r/AmIhotAF/comments/105qvgl/laughing_is_my_fa...   \n4      /r/AmIhotAF/comments/105rpcj/f22_what_do_you_t...   \n...                                                  ...   \n41500              /r/DLAH/comments/131dso7/happy_b_day/   \n41501                  /r/DLAH/comments/131eznp/perfect/   \n41502       /r/DLAH/comments/131g3am/dlah_left_or_right/   \n41503             /r/DLAH/comments/131jvcx/good_morning/   \n41504       /r/DLAH/comments/131n2by/perfection_sisters/   \n\n                              original_url   image_name   \n0      https://i.redd.it/n7r47s0gkh9a1.jpg  100rn7k.jpg  \\\n1      https://i.redd.it/bg0wwdlt5k9a1.jpg  1013bdt.jpg   \n2      https://i.redd.it/4avjshsz8naa1.jpg  105mekt.jpg   \n3      https://i.redd.it/2pulzr0lxmaa1.jpg  105qvgl.jpg   \n4      https://i.redd.it/rz68pf934naa1.jpg  105rpcj.jpg   \n...                                    ...          ...   \n41500  https://i.redd.it/36gurz533jwa1.jpg  131dso7.jpg   \n41501  https://i.redd.it/dnbbx4zucjwa1.jpg  131eznp.jpg   \n41502  https://i.redd.it/zpp70oor3lwa1.jpg  131g3am.jpg   \n41503  https://i.redd.it/ozmbfhjv3mwa1.jpg  131jvcx.jpg   \n41504  https://i.redd.it/pfg1u0aw1nwa1.jpg  131n2by.jpg   \n\n                         path                model exists curated accept tags  \n0      data/image/100rn7k.jpg        SexyDiffusion   True    True  False   []  \n1      data/image/1013bdt.jpg        SexyDiffusion   True    True   True   []  \n2      data/image/105mekt.jpg        SexyDiffusion   True    True   True   []  \n3      data/image/105qvgl.jpg        SexyDiffusion   True    True   True   []  \n4      data/image/105rpcj.jpg        SexyDiffusion   True    True   True   []  \n...                       ...                  ...    ...     ...    ...  ...  \n41500  data/image/131dso7.jpg  PrettyGirlDiffusion   True    True  False   []  \n41501  data/image/131eznp.jpg  PrettyGirlDiffusion   True    True   True   []  \n41502  data/image/131g3am.jpg  PrettyGirlDiffusion   True    True   True   []  \n41503  data/image/131jvcx.jpg  PrettyGirlDiffusion   True    True  False   []  \n41504  data/image/131n2by.jpg  PrettyGirlDiffusion   True    True  False   []  \n\n[41505 rows x 15 columns]",
      "text/html": "<div>\n<style scoped>\n    .dataframe tbody tr th:only-of-type {\n        vertical-align: middle;\n    }\n\n    .dataframe tbody tr th {\n        vertical-align: top;\n    }\n\n    .dataframe thead th {\n        text-align: right;\n    }\n</style>\n<table border=\"1\" class=\"dataframe\">\n  <thead>\n    <tr style=\"text-align: right;\">\n      <th></th>\n      <th>id</th>\n      <th>subreddit</th>\n      <th>author</th>\n      <th>title</th>\n      <th>caption</th>\n      <th>hash</th>\n      <th>permalink</th>\n      <th>original_url</th>\n      <th>image_name</th>\n      <th>path</th>\n      <th>model</th>\n      <th>exists</th>\n      <th>curated</th>\n      <th>accept</th>\n      <th>tags</th>\n    </tr>\n  </thead>\n  <tbody>\n    <tr>\n      <th>0</th>\n      <td>100rn7k</td>\n      <td>AmIhotAF</td>\n      <td>veritynicole</td>\n      <td>hey, hows your new year going (23F)</td>\n      <td>a woman in a white shirt and black pants is po...</td>\n      <td>4bd00c19fa0ff2ade855e6d364b0760b</td>\n      <td>/r/AmIhotAF/comments/100rn7k/hey_hows_your_new...</td>\n      <td>https://i.redd.it/n7r47s0gkh9a1.jpg</td>\n      <td>100rn7k.jpg</td>\n      <td>data/image/100rn7k.jpg</td>\n      <td>SexyDiffusion</td>\n      <td>True</td>\n      <td>True</td>\n      <td>False</td>\n      <td>[]</td>\n    </tr>\n    <tr>\n      <th>1</th>\n      <td>1013bdt</td>\n      <td>AmIhotAF</td>\n      <td>RaulDea9286</td>\n      <td>36F - ITALIAN</td>\n      <td>arafed image of a woman in a bikini top</td>\n      <td>7c0d158cba8654ef1c635cbc5471d597</td>\n      <td>/r/AmIhotAF/comments/1013bdt/36f_italian/</td>\n      <td>https://i.redd.it/bg0wwdlt5k9a1.jpg</td>\n      <td>1013bdt.jpg</td>\n      <td>data/image/1013bdt.jpg</td>\n      <td>SexyDiffusion</td>\n      <td>True</td>\n      <td>True</td>\n      <td>True</td>\n      <td>[]</td>\n    </tr>\n    <tr>\n      <th>2</th>\n      <td>105mekt</td>\n      <td>AmIhotAF</td>\n      <td>lindaniz</td>\n      <td>interesting in good forward relationship (f24)</td>\n      <td>a close up of a woman with red hair and a whit...</td>\n      <td>ba4a0962cca2266a741e1e1700589c04</td>\n      <td>/r/AmIhotAF/comments/105mekt/interesting_in_go...</td>\n      <td>https://i.redd.it/4avjshsz8naa1.jpg</td>\n      <td>105mekt.jpg</td>\n      <td>data/image/105mekt.jpg</td>\n      <td>SexyDiffusion</td>\n      <td>True</td>\n      <td>True</td>\n      <td>True</td>\n      <td>[]</td>\n    </tr>\n    <tr>\n      <th>3</th>\n      <td>105qvgl</td>\n      <td>AmIhotAF</td>\n      <td>CaitVLove11</td>\n      <td>Laughing is my favorite 😆</td>\n      <td>a woman in a blue tank top and shorts is smili...</td>\n      <td>27bfe82c37314a0bcf02ab72eaf3a9e5</td>\n      <td>/r/AmIhotAF/comments/105qvgl/laughing_is_my_fa...</td>\n      <td>https://i.redd.it/2pulzr0lxmaa1.jpg</td>\n      <td>105qvgl.jpg</td>\n      <td>data/image/105qvgl.jpg</td>\n      <td>SexyDiffusion</td>\n      <td>True</td>\n      <td>True</td>\n      <td>True</td>\n      <td>[]</td>\n    </tr>\n    <tr>\n      <th>4</th>\n      <td>105rpcj</td>\n      <td>AmIhotAF</td>\n      <td>Flashy-Desk1858</td>\n      <td>[f22] What do you think when you see me?</td>\n      <td>a woman in a blue bikini top and a blue bra top</td>\n      <td>329eb42b8267fa1cc2980da8e48bcef1</td>\n      <td>/r/AmIhotAF/comments/105rpcj/f22_what_do_you_t...</td>\n      <td>https://i.redd.it/rz68pf934naa1.jpg</td>\n      <td>105rpcj.jpg</td>\n      <td>data/image/105rpcj.jpg</td>\n      <td>SexyDiffusion</td>\n      <td>True</td>\n      <td>True</td>\n      <td>True</td>\n      <td>[]</td>\n    </tr>\n    <tr>\n      <th>...</th>\n      <td>...</td>\n      <td>...</td>\n      <td>...</td>\n      <td>...</td>\n      <td>...</td>\n      <td>...</td>\n      <td>...</td>\n      <td>...</td>\n      <td>...</td>\n      <td>...</td>\n      <td>...</td>\n      <td>...</td>\n      <td>...</td>\n      <td>...</td>\n      <td>...</td>\n    </tr>\n    <tr>\n      <th>41500</th>\n      <td>131dso7</td>\n      <td>DLAH</td>\n      <td>Wallydinger123</td>\n      <td>Happy B Day</td>\n      <td>there are three women posing for a picture in ...</td>\n      <td>ebb4b4a88dc79e2f2f57b10f32bf03c0</td>\n      <td>/r/DLAH/comments/131dso7/happy_b_day/</td>\n      <td>https://i.redd.it/36gurz533jwa1.jpg</td>\n      <td>131dso7.jpg</td>\n      <td>data/image/131dso7.jpg</td>\n      <td>PrettyGirlDiffusion</td>\n      <td>True</td>\n      <td>True</td>\n      <td>False</td>\n      <td>[]</td>\n    </tr>\n    <tr>\n      <th>41501</th>\n      <td>131eznp</td>\n      <td>DLAH</td>\n      <td>Long_dong111</td>\n      <td>Perfect</td>\n      <td>araffe woman in a white dress sitting on a pur...</td>\n      <td>5c944c6d62b1ae182c5a6a40c64195f4</td>\n      <td>/r/DLAH/comments/131eznp/perfect/</td>\n      <td>https://i.redd.it/dnbbx4zucjwa1.jpg</td>\n      <td>131eznp.jpg</td>\n      <td>data/image/131eznp.jpg</td>\n      <td>PrettyGirlDiffusion</td>\n      <td>True</td>\n      <td>True</td>\n      <td>True</td>\n      <td>[]</td>\n    </tr>\n    <tr>\n      <th>41502</th>\n      <td>131g3am</td>\n      <td>DLAH</td>\n      <td>ThrownAwayMiles</td>\n      <td>DLAH left or right</td>\n      <td>two women in short dresses posing for a pictur...</td>\n      <td>ab1f8fc33c85f4cfce12c810cf22229e</td>\n      <td>/r/DLAH/comments/131g3am/dlah_left_or_right/</td>\n      <td>https://i.redd.it/zpp70oor3lwa1.jpg</td>\n      <td>131g3am.jpg</td>\n      <td>data/image/131g3am.jpg</td>\n      <td>PrettyGirlDiffusion</td>\n      <td>True</td>\n      <td>True</td>\n      <td>True</td>\n      <td>[]</td>\n    </tr>\n    <tr>\n      <th>41503</th>\n      <td>131jvcx</td>\n      <td>DLAH</td>\n      <td>robok212</td>\n      <td>Good morning 😍</td>\n      <td>araffe in a pink dress posing on a white wall</td>\n      <td>01f5058855526ef25888cff88065db4c</td>\n      <td>/r/DLAH/comments/131jvcx/good_morning/</td>\n      <td>https://i.redd.it/ozmbfhjv3mwa1.jpg</td>\n      <td>131jvcx.jpg</td>\n      <td>data/image/131jvcx.jpg</td>\n      <td>PrettyGirlDiffusion</td>\n      <td>True</td>\n      <td>True</td>\n      <td>False</td>\n      <td>[]</td>\n    </tr>\n    <tr>\n      <th>41504</th>\n      <td>131n2by</td>\n      <td>DLAH</td>\n      <td>Dependent_Secret9424</td>\n      <td>Perfection (Sisters)</td>\n      <td>two women in shorts and sandals taking a selfi...</td>\n      <td>b162dd1999dbf9ea3c7adccd34624a46</td>\n      <td>/r/DLAH/comments/131n2by/perfection_sisters/</td>\n      <td>https://i.redd.it/pfg1u0aw1nwa1.jpg</td>\n      <td>131n2by.jpg</td>\n      <td>data/image/131n2by.jpg</td>\n      <td>PrettyGirlDiffusion</td>\n      <td>True</td>\n      <td>True</td>\n      <td>False</td>\n      <td>[]</td>\n    </tr>\n  </tbody>\n</table>\n<p>41505 rows × 15 columns</p>\n</div>"
     },
     "metadata": {},
     "output_type": "display_data"
    },
    {
     "name": "stdout",
     "output_type": "stream",
     "text": [
      "CPU times: total: 359 ms\n",
      "Wall time: 6.48 s\n"
     ]
    }
   ],
   "source": [
    "%%time\n",
    "\n",
    "extant_data.update(curated_data)\n",
    "updated_extant_data = extant_data.reset_index()\n",
    "\n",
    "display(\"==== UPDATED EXTANT DATA ====\")\n",
    "display(updated_extant_data.shape)\n",
    "display(updated_extant_data)\n",
    "updated_extant_data.to_parquet(\"data/processed_raw_data.parquet\", engine='pyarrow', filesystem=file_system, schema=schema)"
   ],
   "metadata": {
    "collapsed": false,
    "ExecuteTime": {
     "end_time": "2023-05-15T20:56:21.775311200Z",
     "start_time": "2023-05-15T20:56:15.540806300Z"
    }
   }
  },
  {
   "cell_type": "code",
   "execution_count": 7,
   "outputs": [
    {
     "name": "stdout",
     "output_type": "stream",
     "text": [
      "CPU times: total: 125 ms\n",
      "Wall time: 468 ms\n"
     ]
    }
   ],
   "source": [
    "%%time\n",
    "\n",
    "reddit: praw.Reddit = praw.Reddit(client_id='5hVavL0PIRyM_1JSvqT6UQ', client_secret='BjD2kS3WNLnJc59RKY-JJUuc_Z9-JA', user_agent='script:%(bot_name)s:v%(bot_version)s (by /u/%(bot_author)s)')"
   ],
   "metadata": {
    "collapsed": false,
    "ExecuteTime": {
     "end_time": "2023-05-15T20:56:22.338410700Z",
     "start_time": "2023-05-15T20:56:21.733417600Z"
    }
   }
  },
  {
   "cell_type": "code",
   "execution_count": 8,
   "outputs": [
    {
     "name": "stderr",
     "output_type": "stream",
     "text": [
      "Creating Temp Dir For Subs...: 100%|██████████| 18/18 [00:00<00:00, 58.95it/s]\n"
     ]
    }
   ],
   "source": [
    "for sub in tqdm(subs, total=len(subs), desc=\"Creating Temp Dir For Subs...\"):\n",
    "\ttemp_dir_path_ = f\"temp/{sub}\"\n",
    "\tif not os.path.exists(temp_dir_path_):\n",
    "\t\tos.makedirs(temp_dir_path_)\n",
    "\tos.makedirs(temp_dir_path_, exist_ok=True)"
   ],
   "metadata": {
    "collapsed": false,
    "ExecuteTime": {
     "end_time": "2023-05-15T20:56:22.992300Z",
     "start_time": "2023-05-15T20:56:22.308074100Z"
    }
   }
  },
  {
   "cell_type": "code",
   "execution_count": 9,
   "outputs": [
    {
     "name": "stderr",
     "output_type": "stream",
     "text": [
      "week:   0%|          | 0/18 [00:00<?, ?it/s]\n",
      "Posts - SFWRedheads - week:   0%|          | 0/100 [00:00<?, ?it/s]\u001B[A\n",
      "Posts - SFWRedheads - week:   1%|          | 1/100 [00:00<00:42,  2.33it/s]\u001B[A\n",
      "Posts - SFWRedheads - week:   2%|▏         | 2/100 [00:00<00:25,  3.86it/s]\u001B[A\n",
      "Posts - SFWRedheads - week:   3%|▎         | 3/100 [00:00<00:24,  3.99it/s]\u001B[A\n",
      "Posts - SFWRedheads - week:   8%|▊         | 8/100 [00:00<00:07, 12.97it/s]\u001B[A\n",
      "Posts - SFWRedheads - week:  12%|█▏        | 12/100 [00:01<00:04, 18.52it/s]\u001B[A\n",
      "Posts - SFWRedheads - week:  16%|█▌        | 16/100 [00:01<00:05, 16.56it/s]\u001B[A\n",
      "Posts - SFWRedheads - week:  19%|█▉        | 19/100 [00:01<00:07, 10.95it/s]\u001B[A\n",
      "Posts - SFWRedheads - week:  21%|██        | 21/100 [00:02<00:07, 10.07it/s]\u001B[A\n",
      "Posts - SFWRedheads - week:  24%|██▍       | 24/100 [00:02<00:06, 12.38it/s]\u001B[A\n",
      "Posts - SFWRedheads - week:  29%|██▉       | 29/100 [00:02<00:03, 18.09it/s]\u001B[A\n",
      "Posts - SFWRedheads - week:  35%|███▌      | 35/100 [00:02<00:02, 25.30it/s]\u001B[A\n",
      "Posts - SFWRedheads - week:  39%|███▉      | 39/100 [00:02<00:03, 17.68it/s]\u001B[A\n",
      "Posts - SFWRedheads - week:  42%|████▏     | 42/100 [00:03<00:03, 17.07it/s]\u001B[A\n",
      "Posts - SFWRedheads - week:  45%|████▌     | 45/100 [00:03<00:02, 18.42it/s]\u001B[A\n",
      "Posts - SFWRedheads - week:  53%|█████▎    | 53/100 [00:03<00:01, 29.44it/s]\u001B[A\n",
      "Posts - SFWRedheads - week:  61%|██████    | 61/100 [00:03<00:01, 38.44it/s]\u001B[A\n",
      "Posts - SFWRedheads - week:  66%|██████▌   | 66/100 [00:03<00:00, 38.02it/s]\u001B[A\n",
      "Posts - SFWRedheads - week:  72%|███████▏  | 72/100 [00:03<00:00, 42.52it/s]\u001B[A\n",
      "Posts - SFWRedheads - week:  77%|███████▋  | 77/100 [00:03<00:00, 41.81it/s]\u001B[A\n",
      "Posts - SFWRedheads - week:  82%|████████▏ | 82/100 [00:03<00:00, 42.74it/s]\u001B[A\n",
      "Posts - SFWRedheads - week:  90%|█████████ | 90/100 [00:03<00:00, 50.45it/s]\u001B[A\n",
      "Posts - SFWRedheads - week: 100%|██████████| 100/100 [00:04<00:00, 24.21it/s][A\n",
      "week:   6%|▌         | 1/18 [00:06<01:48,  6.38s/it]\n",
      "Posts - sfwpetite - week:   0%|          | 0/33 [00:00<?, ?it/s]\u001B[A\n",
      "Posts - sfwpetite - week:   9%|▉         | 3/33 [00:00<00:01, 22.34it/s]\u001B[A\n",
      "Posts - sfwpetite - week:  18%|█▊        | 6/33 [00:00<00:01, 22.47it/s]\u001B[A\n",
      "Posts - sfwpetite - week:  27%|██▋       | 9/33 [00:00<00:01, 16.91it/s]\u001B[A\n",
      "Posts - sfwpetite - week:  52%|█████▏    | 17/33 [00:00<00:00, 33.69it/s]\u001B[A\n",
      "Posts - sfwpetite - week:  67%|██████▋   | 22/33 [00:00<00:00, 36.39it/s]\u001B[A\n",
      "Posts - sfwpetite - week: 100%|██████████| 33/33 [00:00<00:00, 37.12it/s]\u001B[A\n",
      "week:  11%|█         | 2/18 [00:13<01:49,  6.86s/it]\n",
      "Posts - SFWNextDoorGirls - week:   0%|          | 0/100 [00:00<?, ?it/s]\u001B[A\n",
      "Posts - SFWNextDoorGirls - week:   7%|▋         | 7/100 [00:00<00:01, 63.97it/s]\u001B[A\n",
      "Posts - SFWNextDoorGirls - week:  15%|█▌        | 15/100 [00:00<00:01, 68.52it/s]\u001B[A\n",
      "Posts - SFWNextDoorGirls - week:  23%|██▎       | 23/100 [00:00<00:01, 68.16it/s]\u001B[A\n",
      "Posts - SFWNextDoorGirls - week:  32%|███▏      | 32/100 [00:00<00:00, 75.97it/s]\u001B[A\n",
      "Posts - SFWNextDoorGirls - week:  40%|████      | 40/100 [00:00<00:00, 64.53it/s]\u001B[A\n",
      "Posts - SFWNextDoorGirls - week:  49%|████▉     | 49/100 [00:00<00:00, 71.88it/s]\u001B[A\n",
      "Posts - SFWNextDoorGirls - week:  58%|█████▊    | 58/100 [00:00<00:00, 75.06it/s]\u001B[A\n",
      "Posts - SFWNextDoorGirls - week:  66%|██████▌   | 66/100 [00:00<00:00, 76.41it/s]\u001B[A\n",
      "Posts - SFWNextDoorGirls - week:  74%|███████▍  | 74/100 [00:01<00:00, 67.64it/s]\u001B[A\n",
      "Posts - SFWNextDoorGirls - week:  82%|████████▏ | 82/100 [00:01<00:00, 69.05it/s]\u001B[A\n",
      "Posts - SFWNextDoorGirls - week:  92%|█████████▏| 92/100 [00:01<00:00, 75.46it/s]\u001B[A\n",
      "Posts - SFWNextDoorGirls - week: 100%|██████████| 100/100 [00:01<00:00, 72.28it/s]\u001B[A\n",
      "week:  17%|█▋        | 3/18 [00:25<02:14,  8.97s/it]\n",
      "Posts - fatsquirrelhate - week:   0%|          | 0/100 [00:00<?, ?it/s]\u001B[A\n",
      "Posts - fatsquirrelhate - week:  11%|█         | 11/100 [00:00<00:00, 100.57it/s]\u001B[A\n",
      "Posts - fatsquirrelhate - week:  22%|██▏       | 22/100 [00:00<00:00, 100.55it/s]\u001B[A\n",
      "Posts - fatsquirrelhate - week:  33%|███▎      | 33/100 [00:00<00:00, 100.58it/s]\u001B[A\n",
      "Posts - fatsquirrelhate - week:  44%|████▍     | 44/100 [00:00<00:00, 95.21it/s] \u001B[A\n",
      "Posts - fatsquirrelhate - week:  54%|█████▍    | 54/100 [00:00<00:00, 83.33it/s]\u001B[A\n",
      "Posts - fatsquirrelhate - week:  65%|██████▌   | 65/100 [00:00<00:00, 87.21it/s]\u001B[A\n",
      "Posts - fatsquirrelhate - week:  74%|███████▍  | 74/100 [00:00<00:00, 85.87it/s]\u001B[A\n",
      "Posts - fatsquirrelhate - week:  83%|████████▎ | 83/100 [00:00<00:00, 84.79it/s]\u001B[A\n",
      "Posts - fatsquirrelhate - week: 100%|██████████| 100/100 [00:01<00:00, 86.63it/s][A\n",
      "week:  22%|██▏       | 4/18 [00:36<02:17,  9.80s/it]\n",
      "Posts - realasians - week:   0%|          | 0/100 [00:00<?, ?it/s]\u001B[A\n",
      "Posts - realasians - week:  12%|█▏        | 12/100 [00:00<00:00, 110.30it/s]\u001B[A\n",
      "Posts - realasians - week:  24%|██▍       | 24/100 [00:00<00:00, 109.96it/s]\u001B[A\n",
      "Posts - realasians - week:  35%|███▌      | 35/100 [00:00<00:00, 99.16it/s] \u001B[A\n",
      "Posts - realasians - week:  47%|████▋     | 47/100 [00:00<00:00, 103.20it/s]\u001B[A\n",
      "Posts - realasians - week:  58%|█████▊    | 58/100 [00:00<00:00, 100.16it/s]\u001B[A\n",
      "Posts - realasians - week:  69%|██████▉   | 69/100 [00:00<00:00, 100.28it/s]\u001B[A\n",
      "Posts - realasians - week:  80%|████████  | 80/100 [00:00<00:00, 100.39it/s]\u001B[A\n",
      "Posts - realasians - week: 100%|██████████| 100/100 [00:01<00:00, 99.41it/s]\u001B[A\n",
      "week:  28%|██▊       | 5/18 [00:47<02:16, 10.52s/it]\n",
      "Posts - KoreanHotties - week:   0%|          | 0/100 [00:00<?, ?it/s]\u001B[A\n",
      "Posts - KoreanHotties - week:  10%|█         | 10/100 [00:00<00:00, 91.43it/s]\u001B[A\n",
      "Posts - KoreanHotties - week:  20%|██        | 20/100 [00:00<00:00, 91.27it/s]\u001B[A\n",
      "Posts - KoreanHotties - week:  30%|███       | 30/100 [00:00<00:00, 91.33it/s]\u001B[A\n",
      "Posts - KoreanHotties - week:  44%|████▍     | 44/100 [00:00<00:00, 105.80it/s]\u001B[A\n",
      "Posts - KoreanHotties - week:  55%|█████▌    | 55/100 [00:00<00:00, 102.83it/s]\u001B[A\n",
      "Posts - KoreanHotties - week:  66%|██████▌   | 66/100 [00:00<00:00, 102.07it/s]\u001B[A\n",
      "Posts - KoreanHotties - week:  79%|███████▉  | 79/100 [00:00<00:00, 107.53it/s]\u001B[A\n",
      "Posts - KoreanHotties - week: 100%|██████████| 100/100 [00:00<00:00, 104.48it/s][A\n",
      "week:  33%|███▎      | 6/18 [00:59<02:09, 10.78s/it]\n",
      "Posts - prettyasiangirls - week:   0%|          | 0/100 [00:00<?, ?it/s]\u001B[A\n",
      "Posts - prettyasiangirls - week:   8%|▊         | 8/100 [00:00<00:01, 71.28it/s]\u001B[A\n",
      "Posts - prettyasiangirls - week:  16%|█▌        | 16/100 [00:00<00:01, 62.85it/s]\u001B[A\n",
      "Posts - prettyasiangirls - week:  23%|██▎       | 23/100 [00:00<00:01, 41.89it/s]\u001B[A\n",
      "Posts - prettyasiangirls - week:  28%|██▊       | 28/100 [00:00<00:01, 36.87it/s]\u001B[A\n",
      "Posts - prettyasiangirls - week:  35%|███▌      | 35/100 [00:00<00:01, 43.42it/s]\u001B[A\n",
      "Posts - prettyasiangirls - week:  40%|████      | 40/100 [00:00<00:01, 43.96it/s]\u001B[A\n",
      "Posts - prettyasiangirls - week:  50%|█████     | 50/100 [00:00<00:00, 56.99it/s]\u001B[A\n",
      "Posts - prettyasiangirls - week:  62%|██████▏   | 62/100 [00:01<00:00, 73.64it/s]\u001B[A\n",
      "Posts - prettyasiangirls - week:  75%|███████▌  | 75/100 [00:01<00:00, 89.08it/s]\u001B[A\n",
      "Posts - prettyasiangirls - week: 100%|██████████| 100/100 [00:01<00:00, 66.10it/s]\u001B[A\n",
      "week:  39%|███▉      | 7/18 [01:13<02:10, 11.84s/it]\n",
      "Posts - AsianOfficeLady - week:   0%|          | 0/13 [00:00<?, ?it/s]\u001B[A\n",
      "Posts - AsianOfficeLady - week: 100%|██████████| 13/13 [00:00<00:00, 88.16it/s][A\n",
      "week:  44%|████▍     | 8/18 [01:20<01:43, 10.38s/it]\n",
      "Posts - mildlypenis - week:   0%|          | 0/100 [00:00<?, ?it/s]\u001B[A\n",
      "Posts - mildlypenis - week:   3%|▎         | 3/100 [00:00<00:03, 25.59it/s]\u001B[A\n",
      "Posts - mildlypenis - week:   6%|▌         | 6/100 [00:01<00:27,  3.45it/s]\u001B[A\n",
      "Posts - mildlypenis - week:   8%|▊         | 8/100 [00:02<00:25,  3.60it/s]\u001B[A\n",
      "Posts - mildlypenis - week:  10%|█         | 10/100 [00:02<00:21,  4.21it/s]\u001B[A\n",
      "Posts - mildlypenis - week:  11%|█         | 11/100 [00:02<00:26,  3.31it/s]\u001B[A\n",
      "Posts - mildlypenis - week:  12%|█▏        | 12/100 [00:03<00:26,  3.30it/s]\u001B[A\n",
      "Posts - mildlypenis - week:  13%|█▎        | 13/100 [00:03<00:23,  3.75it/s]\u001B[A\n",
      "Posts - mildlypenis - week:  14%|█▍        | 14/100 [00:03<00:20,  4.19it/s]\u001B[A\n",
      "Posts - mildlypenis - week:  19%|█▉        | 19/100 [00:03<00:07, 10.16it/s]\u001B[A\n",
      "Posts - mildlypenis - week:  25%|██▌       | 25/100 [00:03<00:04, 17.87it/s]\u001B[A\n",
      "Posts - mildlypenis - week:  33%|███▎      | 33/100 [00:03<00:02, 28.95it/s]\u001B[A\n",
      "Posts - mildlypenis - week:  42%|████▏     | 42/100 [00:03<00:01, 41.48it/s]\u001B[A\n",
      "Posts - mildlypenis - week:  48%|████▊     | 48/100 [00:04<00:01, 44.87it/s]\u001B[A\n",
      "Posts - mildlypenis - week:  58%|█████▊    | 58/100 [00:04<00:00, 57.20it/s]\u001B[A\n",
      "Posts - mildlypenis - week:  68%|██████▊   | 68/100 [00:04<00:00, 66.41it/s]\u001B[A\n",
      "Posts - mildlypenis - week:  79%|███████▉  | 79/100 [00:04<00:00, 75.80it/s]\u001B[A\n",
      "Posts - mildlypenis - week:  88%|████████▊ | 88/100 [00:04<00:00, 73.45it/s]\u001B[A\n",
      "Posts - mildlypenis - week: 100%|██████████| 100/100 [00:04<00:00, 21.67it/s][A\n",
      "week:  50%|█████     | 9/18 [01:36<01:49, 12.19s/it]\n",
      "Posts - AsianInvasion - week:   0%|          | 0/14 [00:00<?, ?it/s]\u001B[A\n",
      "Posts - AsianInvasion - week:   7%|▋         | 1/14 [00:00<00:01,  9.98it/s]\u001B[A\n",
      "Posts - AsianInvasion - week:  14%|█▍        | 2/14 [00:00<00:05,  2.23it/s]\u001B[A\n",
      "Posts - AsianInvasion - week:  36%|███▌      | 5/14 [00:00<00:01,  6.54it/s]\u001B[A\n",
      "Posts - AsianInvasion - week:  64%|██████▍   | 9/14 [00:01<00:00, 12.19it/s]\u001B[A\n",
      "Posts - AsianInvasion - week: 100%|██████████| 14/14 [00:01<00:00, 12.20it/s]\u001B[A\n",
      "week:  56%|█████▌    | 10/18 [01:43<01:23, 10.43s/it]\n",
      "Posts - sexygirls - week:   0%|          | 0/85 [00:00<?, ?it/s]\u001B[A\n",
      "Posts - sexygirls - week:  15%|█▌        | 13/85 [00:00<00:00, 129.82it/s]\u001B[A\n",
      "Posts - sexygirls - week:  31%|███       | 26/85 [00:00<00:00, 129.89it/s]\u001B[A\n",
      "Posts - sexygirls - week:  47%|████▋     | 40/85 [00:00<00:00, 134.40it/s]\u001B[A\n",
      "Posts - sexygirls - week:  64%|██████▎   | 54/85 [00:00<00:00, 136.57it/s]\u001B[A\n",
      "Posts - sexygirls - week:  80%|████████  | 68/85 [00:00<00:00, 128.77it/s]\u001B[A\n",
      "Posts - sexygirls - week: 100%|██████████| 85/85 [00:00<00:00, 126.16it/s]\u001B[A\n",
      "week:  61%|██████    | 11/18 [01:53<01:13, 10.47s/it]\n",
      "Posts - PrettyGirls - week:   0%|          | 0/94 [00:00<?, ?it/s]\u001B[A\n",
      "Posts - PrettyGirls - week:  13%|█▎        | 12/94 [00:00<00:00, 115.33it/s]\u001B[A\n",
      "Posts - PrettyGirls - week:  27%|██▋       | 25/94 [00:00<00:00, 119.80it/s]\u001B[A\n",
      "Posts - PrettyGirls - week:  41%|████▏     | 39/94 [00:00<00:00, 126.98it/s]\u001B[A\n",
      "Posts - PrettyGirls - week:  55%|█████▌    | 52/94 [00:00<00:00, 101.88it/s]\u001B[A\n",
      "Posts - PrettyGirls - week:  70%|███████   | 66/94 [00:00<00:00, 111.72it/s]\u001B[A\n",
      "Posts - PrettyGirls - week:  84%|████████▍ | 79/94 [00:00<00:00, 115.54it/s]\u001B[A\n",
      "Posts - PrettyGirls - week: 100%|██████████| 94/94 [00:00<00:00, 117.55it/s]\u001B[A\n",
      "week:  67%|██████▋   | 12/18 [02:04<01:02, 10.44s/it]\n",
      "Posts - gentlemanboners - week:   0%|          | 0/100 [00:00<?, ?it/s]\u001B[A\n",
      "Posts - gentlemanboners - week:  14%|█▍        | 14/100 [00:00<00:00, 135.45it/s]\u001B[A\n",
      "Posts - gentlemanboners - week:  28%|██▊       | 28/100 [00:00<00:00, 125.90it/s]\u001B[A\n",
      "Posts - gentlemanboners - week:  43%|████▎     | 43/100 [00:00<00:00, 132.79it/s]\u001B[A\n",
      "Posts - gentlemanboners - week:  57%|█████▋    | 57/100 [00:00<00:00, 109.31it/s]\u001B[A\n",
      "Posts - gentlemanboners - week:  69%|██████▉   | 69/100 [00:00<00:00, 103.28it/s]\u001B[A\n",
      "Posts - gentlemanboners - week:  80%|████████  | 80/100 [00:00<00:00, 104.85it/s]\u001B[A\n",
      "Posts - gentlemanboners - week: 100%|██████████| 100/100 [00:00<00:00, 111.59it/s][A\n",
      "week:  72%|███████▏  | 13/18 [02:10<00:46,  9.21s/it]\n",
      "Posts - hotofficegirls - week: 100%|██████████| 10/10 [00:00<00:00, 131.22it/s]\n",
      "week:  78%|███████▊  | 14/18 [02:12<00:28,  7.02s/it]\n",
      "Posts - tightdresses - week:   0%|          | 0/100 [00:00<?, ?it/s]\u001B[A\n",
      "Posts - tightdresses - week:   8%|▊         | 8/100 [00:00<00:01, 59.95it/s]\u001B[A\n",
      "Posts - tightdresses - week:  20%|██        | 20/100 [00:00<00:00, 87.24it/s]\u001B[A\n",
      "Posts - tightdresses - week:  29%|██▉       | 29/100 [00:00<00:00, 87.17it/s]\u001B[A\n",
      "Posts - tightdresses - week:  39%|███▉      | 39/100 [00:00<00:00, 91.10it/s]\u001B[A\n",
      "Posts - tightdresses - week:  51%|█████     | 51/100 [00:00<00:00, 97.91it/s]\u001B[A\n",
      "Posts - tightdresses - week:  64%|██████▍   | 64/100 [00:00<00:00, 107.27it/s]\u001B[A\n",
      "Posts - tightdresses - week:  75%|███████▌  | 75/100 [00:00<00:00, 104.85it/s]\u001B[A\n",
      "Posts - tightdresses - week:  88%|████████▊ | 88/100 [00:00<00:00, 111.03it/s]\u001B[A\n",
      "Posts - tightdresses - week: 100%|██████████| 100/100 [00:00<00:00, 100.51it/s]\u001B[A\n",
      "week:  83%|████████▎ | 15/18 [02:15<00:17,  5.93s/it]\n",
      "Posts - DLAH - week:   0%|          | 0/100 [00:00<?, ?it/s]\u001B[A\n",
      "Posts - DLAH - week:   7%|▋         | 7/100 [00:00<00:03, 30.45it/s]\u001B[A\n",
      "Posts - DLAH - week:  11%|█         | 11/100 [00:00<00:03, 28.18it/s]\u001B[A\n",
      "Posts - DLAH - week:  14%|█▍        | 14/100 [00:00<00:05, 14.74it/s]\u001B[A\n",
      "Posts - DLAH - week:  17%|█▋        | 17/100 [00:00<00:05, 15.26it/s]\u001B[A\n",
      "Posts - DLAH - week:  19%|█▉        | 19/100 [00:01<00:05, 15.47it/s]\u001B[A\n",
      "Posts - DLAH - week:  23%|██▎       | 23/100 [00:01<00:04, 19.19it/s]\u001B[A\n",
      "Posts - DLAH - week:  26%|██▌       | 26/100 [00:01<00:04, 17.35it/s]\u001B[A\n",
      "Posts - DLAH - week:  30%|███       | 30/100 [00:01<00:03, 21.69it/s]\u001B[A\n",
      "Posts - DLAH - week:  34%|███▍      | 34/100 [00:01<00:02, 25.34it/s]\u001B[A\n",
      "Posts - DLAH - week:  43%|████▎     | 43/100 [00:01<00:01, 40.46it/s]\u001B[A\n",
      "Posts - DLAH - week:  54%|█████▍    | 54/100 [00:01<00:00, 57.40it/s]\u001B[A\n",
      "Posts - DLAH - week:  61%|██████    | 61/100 [00:01<00:00, 59.94it/s]\u001B[A\n",
      "Posts - DLAH - week:  68%|██████▊   | 68/100 [00:02<00:00, 61.81it/s]\u001B[A\n",
      "Posts - DLAH - week:  75%|███████▌  | 75/100 [00:02<00:00, 61.54it/s]\u001B[A\n",
      "Posts - DLAH - week:  86%|████████▌ | 86/100 [00:02<00:00, 74.83it/s]\u001B[A\n",
      "Posts - DLAH - week: 100%|██████████| 100/100 [00:02<00:00, 41.85it/s]\u001B[A\n",
      "week:  89%|████████▉ | 16/18 [02:19<00:10,  5.35s/it]\n",
      "Posts - bathandbodyworks - week:   0%|          | 0/100 [00:00<?, ?it/s]\u001B[A\n",
      "Posts - bathandbodyworks - week:  10%|█         | 10/100 [00:00<00:00, 98.43it/s]\u001B[A\n",
      "Posts - bathandbodyworks - week:  23%|██▎       | 23/100 [00:00<00:00, 111.69it/s]\u001B[A\n",
      "Posts - bathandbodyworks - week:  37%|███▋      | 37/100 [00:00<00:00, 124.17it/s]\u001B[A\n",
      "Posts - bathandbodyworks - week:  51%|█████     | 51/100 [00:00<00:00, 125.54it/s]\u001B[A\n",
      "Posts - bathandbodyworks - week:  64%|██████▍   | 64/100 [00:00<00:00, 125.10it/s]\u001B[A\n",
      "Posts - bathandbodyworks - week:  77%|███████▋  | 77/100 [00:00<00:00, 104.28it/s]\u001B[A\n",
      "Posts - bathandbodyworks - week:  88%|████████▊ | 88/100 [00:00<00:00, 92.89it/s] \u001B[A\n",
      "Posts - bathandbodyworks - week: 100%|██████████| 100/100 [00:00<00:00, 104.24it/s]A\n",
      "week:  94%|█████████▍| 17/18 [02:22<00:04,  4.44s/it]\n",
      "Posts - AesPleasingAsianGirls - week:   0%|          | 0/44 [00:00<?, ?it/s]\u001B[A\n",
      "Posts - AesPleasingAsianGirls - week:  16%|█▌        | 7/44 [00:00<00:00, 67.33it/s]\u001B[A\n",
      "Posts - AesPleasingAsianGirls - week:  32%|███▏      | 14/44 [00:00<00:00, 57.96it/s]\u001B[A\n",
      "Posts - AesPleasingAsianGirls - week:  45%|████▌     | 20/44 [00:00<00:00, 47.16it/s]\u001B[A\n",
      "Posts - AesPleasingAsianGirls - week:  57%|█████▋    | 25/44 [00:00<00:00, 38.28it/s]\u001B[A\n",
      "Posts - AesPleasingAsianGirls - week: 100%|██████████| 44/44 [00:00<00:00, 57.40it/s]\u001B[A\n",
      "week: 100%|██████████| 18/18 [02:23<00:00,  7.99s/it]\n",
      "day:   0%|          | 0/18 [00:00<?, ?it/s]\n",
      "Posts - SFWRedheads - day:   0%|          | 0/55 [00:00<?, ?it/s]\u001B[A\n",
      "Posts - SFWRedheads - day:   9%|▉         | 5/55 [00:00<00:01, 47.61it/s]\u001B[A\n",
      "Posts - SFWRedheads - day:  18%|█▊        | 10/55 [00:00<00:01, 35.32it/s]\u001B[A\n",
      "Posts - SFWRedheads - day:  40%|████      | 22/55 [00:00<00:00, 65.59it/s]\u001B[A\n",
      "Posts - SFWRedheads - day:  64%|██████▎   | 35/55 [00:00<00:00, 86.16it/s]\u001B[A\n",
      "Posts - SFWRedheads - day: 100%|██████████| 55/55 [00:00<00:00, 56.56it/s]\u001B[A\n",
      "day:   6%|▌         | 1/18 [00:01<00:28,  1.67s/it]\n",
      "Posts - sfwpetite - day: 100%|██████████| 5/5 [00:00<00:00, 111.00it/s]\n",
      "day:  11%|█         | 2/18 [00:01<00:13,  1.22it/s]\n",
      "Posts - SFWNextDoorGirls - day:   0%|          | 0/95 [00:00<?, ?it/s]\u001B[A\n",
      "Posts - SFWNextDoorGirls - day:  15%|█▍        | 14/95 [00:00<00:00, 132.83it/s]\u001B[A\n",
      "Posts - SFWNextDoorGirls - day:  31%|███       | 29/95 [00:00<00:00, 135.12it/s]\u001B[A\n",
      "Posts - SFWNextDoorGirls - day:  45%|████▌     | 43/95 [00:00<00:00, 130.59it/s]\u001B[A\n",
      "Posts - SFWNextDoorGirls - day:  60%|██████    | 57/95 [00:00<00:00, 113.60it/s]\u001B[A\n",
      "Posts - SFWNextDoorGirls - day:  73%|███████▎  | 69/95 [00:00<00:00, 107.73it/s]\u001B[A\n",
      "Posts - SFWNextDoorGirls - day: 100%|██████████| 95/95 [00:00<00:00, 120.52it/s]\u001B[A\n",
      "day:  17%|█▋        | 3/18 [00:03<00:20,  1.33s/it]\n",
      "Posts - fatsquirrelhate - day:   0%|          | 0/23 [00:00<?, ?it/s]\u001B[A\n",
      "Posts - fatsquirrelhate - day: 100%|██████████| 23/23 [00:00<00:00, 126.28it/s]\u001B[A\n",
      "day:  22%|██▏       | 4/18 [00:04<00:14,  1.02s/it]\n",
      "Posts - realasians - day:   0%|          | 0/38 [00:00<?, ?it/s]\u001B[A\n",
      "Posts - realasians - day:  32%|███▏      | 12/38 [00:00<00:00, 108.94it/s]\u001B[A\n",
      "Posts - realasians - day: 100%|██████████| 38/38 [00:00<00:00, 118.82it/s]\u001B[A\n",
      "day:  28%|██▊       | 5/18 [00:05<00:13,  1.03s/it]\n",
      "Posts - KoreanHotties - day:   0%|          | 0/32 [00:00<?, ?it/s]\u001B[A\n",
      "Posts - KoreanHotties - day:  41%|████      | 13/32 [00:00<00:00, 117.16it/s]\u001B[A\n",
      "Posts - KoreanHotties - day: 100%|██████████| 32/32 [00:00<00:00, 114.50it/s]\u001B[A\n",
      "day:  33%|███▎      | 6/18 [00:06<00:11,  1.01it/s]\n",
      "Posts - prettyasiangirls - day:   0%|          | 0/22 [00:00<?, ?it/s]\u001B[A\n",
      "Posts - prettyasiangirls - day:  45%|████▌     | 10/22 [00:00<00:00, 92.93it/s]\u001B[A\n",
      "Posts - prettyasiangirls - day: 100%|██████████| 22/22 [00:00<00:00, 92.95it/s]\u001B[A\n",
      "day:  39%|███▉      | 7/18 [00:07<00:10,  1.06it/s]\n",
      "Posts - AsianOfficeLady - day: 100%|██████████| 2/2 [00:00<00:00, 57.80it/s]\n",
      "day:  44%|████▍     | 8/18 [00:07<00:07,  1.40it/s]\n",
      "Posts - mildlypenis - day:   0%|          | 0/36 [00:00<?, ?it/s]\u001B[A\n",
      "Posts - mildlypenis - day:  22%|██▏       | 8/36 [00:00<00:00, 50.75it/s]\u001B[A\n",
      "Posts - mildlypenis - day:  39%|███▉      | 14/36 [00:00<00:01, 14.07it/s]\u001B[A\n",
      "Posts - mildlypenis - day:  47%|████▋     | 17/36 [00:01<00:02,  8.81it/s]\u001B[A\n",
      "Posts - mildlypenis - day:  64%|██████▍   | 23/36 [00:01<00:00, 13.60it/s]\u001B[A\n",
      "Posts - mildlypenis - day:  78%|███████▊  | 28/36 [00:01<00:00, 17.76it/s]\u001B[A\n",
      "Posts - mildlypenis - day: 100%|██████████| 36/36 [00:01<00:00, 18.78it/s]\u001B[A\n",
      "day:  50%|█████     | 9/18 [00:09<00:11,  1.26s/it]\n",
      "Posts - AsianInvasion - day: 100%|██████████| 2/2 [00:00<00:00, 66.71it/s]\n",
      "day:  56%|█████▌    | 10/18 [00:10<00:07,  1.05it/s]\n",
      "Posts - sexygirls - day: 100%|██████████| 8/8 [00:00<00:00, 99.77it/s]\n",
      "day:  61%|██████    | 11/18 [00:10<00:05,  1.33it/s]\n",
      "Posts - PrettyGirls - day: 100%|██████████| 16/16 [00:00<00:00, 167.65it/s]\n",
      "day:  67%|██████▋   | 12/18 [00:10<00:03,  1.62it/s]\n",
      "Posts - gentlemanboners - day:   0%|          | 0/26 [00:00<?, ?it/s]\u001B[A\n",
      "Posts - gentlemanboners - day:  46%|████▌     | 12/26 [00:00<00:00, 108.77it/s]\u001B[A\n",
      "Posts - gentlemanboners - day: 100%|██████████| 26/26 [00:00<00:00, 104.00it/s]\u001B[A\n",
      "day:  72%|███████▏  | 13/18 [00:11<00:03,  1.61it/s]\n",
      "Posts - hotofficegirls - day: 100%|██████████| 1/1 [00:00<00:00, 284.44it/s]\n",
      "day:  78%|███████▊  | 14/18 [00:11<00:01,  2.15it/s]\n",
      "Posts - tightdresses - day:   0%|          | 0/42 [00:00<?, ?it/s]\u001B[A\n",
      "Posts - tightdresses - day:  33%|███▎      | 14/42 [00:00<00:00, 132.02it/s]\u001B[A\n",
      "Posts - tightdresses - day:  67%|██████▋   | 28/42 [00:00<00:00, 122.33it/s]\u001B[A\n",
      "Posts - tightdresses - day: 100%|██████████| 42/42 [00:00<00:00, 120.23it/s]\u001B[A\n",
      "day:  83%|████████▎ | 15/18 [00:12<00:01,  1.57it/s]\n",
      "Posts - DLAH - day:   0%|          | 0/74 [00:00<?, ?it/s]\u001B[A\n",
      "Posts - DLAH - day:  19%|█▉        | 14/74 [00:00<00:00, 136.91it/s]\u001B[A\n",
      "Posts - DLAH - day:  38%|███▊      | 28/74 [00:00<00:00, 134.92it/s]\u001B[A\n",
      "Posts - DLAH - day:  57%|█████▋    | 42/74 [00:00<00:00, 133.83it/s]\u001B[A\n",
      "Posts - DLAH - day:  76%|███████▌  | 56/74 [00:00<00:00, 104.20it/s]\u001B[A\n",
      "Posts - DLAH - day: 100%|██████████| 74/74 [00:00<00:00, 106.01it/s]\u001B[A\n",
      "day:  89%|████████▉ | 16/18 [00:14<00:01,  1.07it/s]\n",
      "Posts - bathandbodyworks - day:   0%|          | 0/52 [00:00<?, ?it/s]\u001B[A\n",
      "Posts - bathandbodyworks - day:  23%|██▎       | 12/52 [00:00<00:00, 113.75it/s]\u001B[A\n",
      "Posts - bathandbodyworks - day:  46%|████▌     | 24/52 [00:00<00:00, 114.46it/s]\u001B[A\n",
      "Posts - bathandbodyworks - day:  69%|██████▉   | 36/52 [00:00<00:00, 115.02it/s]\u001B[A\n",
      "Posts - bathandbodyworks - day: 100%|██████████| 52/52 [00:00<00:00, 121.00it/s]\u001B[A\n",
      "day:  94%|█████████▍| 17/18 [00:15<00:00,  1.05it/s]\n",
      "Posts - AesPleasingAsianGirls - day: 100%|██████████| 6/6 [00:00<00:00, 142.63it/s]\n",
      "day: 100%|██████████| 18/18 [00:15<00:00,  1.16it/s]\n"
     ]
    }
   ],
   "source": [
    "with open('log.txt', 'a') as f:\n",
    "\tfor time_filter in ['week', 'day']:\n",
    "\t\tfor sub in tqdm(subs, desc=f\"{time_filter}\", total=len(subs)):\n",
    "\t\t\ttemp_dir_path = f\"temp/{sub}\"\n",
    "\t\t\ttry:\n",
    "\t\t\t\tsubreddit_stream: ListingGenerator = reddit.subreddit(display_name=sub).top(limit=100, time_filter=time_filter)\n",
    "\t\t\t\tsubreddit_stream = list(subreddit_stream)\n",
    "\t\t\t\tfor submission in tqdm(subreddit_stream, total=len(subreddit_stream),\n",
    "\t\t\t\t\t\t\t\t\t   desc=f\"Posts - {sub} - {time_filter}\"):\n",
    "\t\t\t\t\tif submission is None:\n",
    "\t\t\t\t\t\tcontinue\n",
    "\t\t\t\t\telse:\n",
    "\t\t\t\t\t\tif submission.id in extant_data.index.values:\n",
    "\t\t\t\t\t\t\tcontinue\n",
    "\t\t\t\t\ttry:\n",
    "\t\t\t\t\t\tauthor_name = 'Unknown'\n",
    "\t\t\t\t\t\tsubreddit_name = sub\n",
    "\t\t\t\t\t\ttry:\n",
    "\t\t\t\t\t\t\tauthor_name = submission.author.name\n",
    "\t\t\t\t\t\texcept Exception as e:\n",
    "\t\t\t\t\t\t\tauthor_name = 'Unknown'\n",
    "\t\t\t\t\t\t\tpass\n",
    "\t\t\t\t\t\tp = {\n",
    "\t\t\t\t\t\t\t'id': submission.id,\n",
    "\t\t\t\t\t\t\t'subreddit': subreddit_name,\n",
    "\t\t\t\t\t\t\t'author': author_name,\n",
    "\t\t\t\t\t\t\t'title': submission.title,\n",
    "\t\t\t\t\t\t\t'caption': '',\n",
    "\t\t\t\t\t\t\t'hash': '',\n",
    "\t\t\t\t\t\t\t'permalink': submission.permalink,\n",
    "\t\t\t\t\t\t\t'original_url': submission.url,\n",
    "\t\t\t\t\t\t\t'image_name': '',\n",
    "\t\t\t\t\t\t\t'path': '',\n",
    "\t\t\t\t\t\t\t'thumbnail_path': '',\n",
    "\t\t\t\t\t\t\t'exists': False,\n",
    "\t\t\t\t\t\t\t'curated': False,\n",
    "\t\t\t\t\t\t\t'Tags': ['']\n",
    "\t\t\t\t\t\t}\n",
    "\t\t\t\t\t\tpd.DataFrame([p]).to_parquet(f\"{temp_dir_path}/{submission.id}.parquet\")\n",
    "\t\t\t\t\texcept Exception as e:\n",
    "\t\t\t\t\t\tlog = functions.write_log_message(submission.id, sub, \"Error Writing Post\", e)\n",
    "\t\t\t\t\t\tf.write(log)\n",
    "\t\t\t\t\t\tcontinue\n",
    "\t\t\texcept Exception as e:\n",
    "\t\t\t\tlog = functions.write_log_message(submission.id, sub, f\"Error Getting Posts For SubReddit\", e)\n",
    "\t\t\t\tf.write(log)\n",
    "\t\t\t\tcontinue"
   ],
   "metadata": {
    "collapsed": false,
    "ExecuteTime": {
     "end_time": "2023-05-15T20:59:03.193305200Z",
     "start_time": "2023-05-15T20:56:22.960143900Z"
    }
   }
  },
  {
   "cell_type": "code",
   "execution_count": 10,
   "outputs": [
    {
     "name": "stderr",
     "output_type": "stream",
     "text": [
      "Reading Temp Dir For Subs...: 100%|██████████| 18/18 [00:03<00:00,  5.03it/s]\n"
     ]
    },
    {
     "data": {
      "text/plain": "'==== TEMP DATA ===='"
     },
     "metadata": {},
     "output_type": "display_data"
    },
    {
     "data": {
      "text/plain": "(2532, 15)"
     },
     "metadata": {},
     "output_type": "display_data"
    },
    {
     "data": {
      "text/plain": "              id              subreddit                author   \nid                                                              \n13a5o5w  13a5o5w            SFWRedheads         Sofia_Red_Fox  \\\n13a63qc  13a63qc            SFWRedheads          Bakedredhead   \n13aa5bw  13aa5bw            SFWRedheads          Redhotwife88   \n13ae244  13ae244            SFWRedheads     evelynclaire_xoxo   \n13af0tb  13af0tb            SFWRedheads      itsSavannahWilde   \n...          ...                    ...                   ...   \n13huk92  13huk92  AesPleasingAsianGirls           Low-Day1071   \n13i312w  13i312w  AesPleasingAsianGirls  Defiant-Appearance64   \n13i8lv5  13i8lv5  AesPleasingAsianGirls        sandalsanglir2   \n13ic6oa  13ic6oa  AesPleasingAsianGirls  notyouraveragehero88   \n13icw40  13icw40  AesPleasingAsianGirls          yummybanchan   \n\n                                                     title caption hash   \nid                                                                        \n13a5o5w                                   Am I dateable? 💕               \\\n13a63qc                      Sunsets look best on redheads                \n13aa5bw                 Just a Mom in Regular Clothes! [F]                \n13ae244                       Fully body shot... thoughts?                \n13af0tb  About to hit the gym. Got any good weekend plans?                \n...                                                    ...     ...  ...   \n13huk92                                           Precious                \n13i312w                                      Yoo Sul Young                \n13i8lv5                                    Balinese Singer                \n13ic6oa                        Radiant Smile! - Sri Lankan                \n13icw40                                         Song Yu Qi                \n\n                                                 permalink   \nid                                                           \n13a5o5w     /r/SFWRedheads/comments/13a5o5w/am_i_dateable/  \\\n13a63qc  /r/SFWRedheads/comments/13a63qc/sunsets_look_b...   \n13aa5bw  /r/SFWRedheads/comments/13aa5bw/just_a_mom_in_...   \n13ae244  /r/SFWRedheads/comments/13ae244/fully_body_sho...   \n13af0tb  /r/SFWRedheads/comments/13af0tb/about_to_hit_t...   \n...                                                    ...   \n13huk92  /r/AesPleasingAsianGirls/comments/13huk92/prec...   \n13i312w  /r/AesPleasingAsianGirls/comments/13i312w/yoo_...   \n13i8lv5  /r/AesPleasingAsianGirls/comments/13i8lv5/bali...   \n13ic6oa  /r/AesPleasingAsianGirls/comments/13ic6oa/radi...   \n13icw40  /r/AesPleasingAsianGirls/comments/13icw40/song...   \n\n                                              original_url   image_name path   \nid                                                                             \n13a5o5w                    https://i.imgur.com/V4aYZoC.jpg  13a5o5w.jpg       \\\n13a63qc                https://i.redd.it/hnmnfup79cya1.jpg  13a63qc.jpg        \n13aa5bw                    https://i.imgur.com/hUXcket.jpg  13aa5bw.jpg        \n13ae244                https://i.redd.it/irgp2rclicya1.jpg  13ae244.jpg        \n13af0tb                https://i.redd.it/behzhc90rcya1.jpg  13af0tb.jpg        \n...                                                    ...          ...  ...   \n13huk92             https://www.reddit.com/gallery/13huk92  13huk92.jpg        \n13i312w  https://v3.redgifs.com/watch/excellentoutrageo...  13i312w.jpg        \n13i8lv5             https://www.reddit.com/gallery/13i8lv5  13i8lv5.jpg        \n13ic6oa                https://i.redd.it/85aw0ana720b1.jpg  13ic6oa.jpg        \n13icw40                https://i.redd.it/ps6qly5dc20b1.jpg  13icw40.jpg        \n\n        model  exists  curated accept tags  \nid                                          \n13a5o5w         False    False  False   []  \n13a63qc         False    False  False   []  \n13aa5bw         False    False  False   []  \n13ae244         False    False  False   []  \n13af0tb         False    False  False   []  \n...       ...     ...      ...    ...  ...  \n13huk92         False    False  False   []  \n13i312w         False    False  False   []  \n13i8lv5         False    False  False   []  \n13ic6oa         False    False  False   []  \n13icw40         False    False  False   []  \n\n[2532 rows x 15 columns]",
      "text/html": "<div>\n<style scoped>\n    .dataframe tbody tr th:only-of-type {\n        vertical-align: middle;\n    }\n\n    .dataframe tbody tr th {\n        vertical-align: top;\n    }\n\n    .dataframe thead th {\n        text-align: right;\n    }\n</style>\n<table border=\"1\" class=\"dataframe\">\n  <thead>\n    <tr style=\"text-align: right;\">\n      <th></th>\n      <th>id</th>\n      <th>subreddit</th>\n      <th>author</th>\n      <th>title</th>\n      <th>caption</th>\n      <th>hash</th>\n      <th>permalink</th>\n      <th>original_url</th>\n      <th>image_name</th>\n      <th>path</th>\n      <th>model</th>\n      <th>exists</th>\n      <th>curated</th>\n      <th>accept</th>\n      <th>tags</th>\n    </tr>\n    <tr>\n      <th>id</th>\n      <th></th>\n      <th></th>\n      <th></th>\n      <th></th>\n      <th></th>\n      <th></th>\n      <th></th>\n      <th></th>\n      <th></th>\n      <th></th>\n      <th></th>\n      <th></th>\n      <th></th>\n      <th></th>\n      <th></th>\n    </tr>\n  </thead>\n  <tbody>\n    <tr>\n      <th>13a5o5w</th>\n      <td>13a5o5w</td>\n      <td>SFWRedheads</td>\n      <td>Sofia_Red_Fox</td>\n      <td>Am I dateable? 💕</td>\n      <td></td>\n      <td></td>\n      <td>/r/SFWRedheads/comments/13a5o5w/am_i_dateable/</td>\n      <td>https://i.imgur.com/V4aYZoC.jpg</td>\n      <td>13a5o5w.jpg</td>\n      <td></td>\n      <td></td>\n      <td>False</td>\n      <td>False</td>\n      <td>False</td>\n      <td>[]</td>\n    </tr>\n    <tr>\n      <th>13a63qc</th>\n      <td>13a63qc</td>\n      <td>SFWRedheads</td>\n      <td>Bakedredhead</td>\n      <td>Sunsets look best on redheads</td>\n      <td></td>\n      <td></td>\n      <td>/r/SFWRedheads/comments/13a63qc/sunsets_look_b...</td>\n      <td>https://i.redd.it/hnmnfup79cya1.jpg</td>\n      <td>13a63qc.jpg</td>\n      <td></td>\n      <td></td>\n      <td>False</td>\n      <td>False</td>\n      <td>False</td>\n      <td>[]</td>\n    </tr>\n    <tr>\n      <th>13aa5bw</th>\n      <td>13aa5bw</td>\n      <td>SFWRedheads</td>\n      <td>Redhotwife88</td>\n      <td>Just a Mom in Regular Clothes! [F]</td>\n      <td></td>\n      <td></td>\n      <td>/r/SFWRedheads/comments/13aa5bw/just_a_mom_in_...</td>\n      <td>https://i.imgur.com/hUXcket.jpg</td>\n      <td>13aa5bw.jpg</td>\n      <td></td>\n      <td></td>\n      <td>False</td>\n      <td>False</td>\n      <td>False</td>\n      <td>[]</td>\n    </tr>\n    <tr>\n      <th>13ae244</th>\n      <td>13ae244</td>\n      <td>SFWRedheads</td>\n      <td>evelynclaire_xoxo</td>\n      <td>Fully body shot... thoughts?</td>\n      <td></td>\n      <td></td>\n      <td>/r/SFWRedheads/comments/13ae244/fully_body_sho...</td>\n      <td>https://i.redd.it/irgp2rclicya1.jpg</td>\n      <td>13ae244.jpg</td>\n      <td></td>\n      <td></td>\n      <td>False</td>\n      <td>False</td>\n      <td>False</td>\n      <td>[]</td>\n    </tr>\n    <tr>\n      <th>13af0tb</th>\n      <td>13af0tb</td>\n      <td>SFWRedheads</td>\n      <td>itsSavannahWilde</td>\n      <td>About to hit the gym. Got any good weekend plans?</td>\n      <td></td>\n      <td></td>\n      <td>/r/SFWRedheads/comments/13af0tb/about_to_hit_t...</td>\n      <td>https://i.redd.it/behzhc90rcya1.jpg</td>\n      <td>13af0tb.jpg</td>\n      <td></td>\n      <td></td>\n      <td>False</td>\n      <td>False</td>\n      <td>False</td>\n      <td>[]</td>\n    </tr>\n    <tr>\n      <th>...</th>\n      <td>...</td>\n      <td>...</td>\n      <td>...</td>\n      <td>...</td>\n      <td>...</td>\n      <td>...</td>\n      <td>...</td>\n      <td>...</td>\n      <td>...</td>\n      <td>...</td>\n      <td>...</td>\n      <td>...</td>\n      <td>...</td>\n      <td>...</td>\n      <td>...</td>\n    </tr>\n    <tr>\n      <th>13huk92</th>\n      <td>13huk92</td>\n      <td>AesPleasingAsianGirls</td>\n      <td>Low-Day1071</td>\n      <td>Precious</td>\n      <td></td>\n      <td></td>\n      <td>/r/AesPleasingAsianGirls/comments/13huk92/prec...</td>\n      <td>https://www.reddit.com/gallery/13huk92</td>\n      <td>13huk92.jpg</td>\n      <td></td>\n      <td></td>\n      <td>False</td>\n      <td>False</td>\n      <td>False</td>\n      <td>[]</td>\n    </tr>\n    <tr>\n      <th>13i312w</th>\n      <td>13i312w</td>\n      <td>AesPleasingAsianGirls</td>\n      <td>Defiant-Appearance64</td>\n      <td>Yoo Sul Young</td>\n      <td></td>\n      <td></td>\n      <td>/r/AesPleasingAsianGirls/comments/13i312w/yoo_...</td>\n      <td>https://v3.redgifs.com/watch/excellentoutrageo...</td>\n      <td>13i312w.jpg</td>\n      <td></td>\n      <td></td>\n      <td>False</td>\n      <td>False</td>\n      <td>False</td>\n      <td>[]</td>\n    </tr>\n    <tr>\n      <th>13i8lv5</th>\n      <td>13i8lv5</td>\n      <td>AesPleasingAsianGirls</td>\n      <td>sandalsanglir2</td>\n      <td>Balinese Singer</td>\n      <td></td>\n      <td></td>\n      <td>/r/AesPleasingAsianGirls/comments/13i8lv5/bali...</td>\n      <td>https://www.reddit.com/gallery/13i8lv5</td>\n      <td>13i8lv5.jpg</td>\n      <td></td>\n      <td></td>\n      <td>False</td>\n      <td>False</td>\n      <td>False</td>\n      <td>[]</td>\n    </tr>\n    <tr>\n      <th>13ic6oa</th>\n      <td>13ic6oa</td>\n      <td>AesPleasingAsianGirls</td>\n      <td>notyouraveragehero88</td>\n      <td>Radiant Smile! - Sri Lankan</td>\n      <td></td>\n      <td></td>\n      <td>/r/AesPleasingAsianGirls/comments/13ic6oa/radi...</td>\n      <td>https://i.redd.it/85aw0ana720b1.jpg</td>\n      <td>13ic6oa.jpg</td>\n      <td></td>\n      <td></td>\n      <td>False</td>\n      <td>False</td>\n      <td>False</td>\n      <td>[]</td>\n    </tr>\n    <tr>\n      <th>13icw40</th>\n      <td>13icw40</td>\n      <td>AesPleasingAsianGirls</td>\n      <td>yummybanchan</td>\n      <td>Song Yu Qi</td>\n      <td></td>\n      <td></td>\n      <td>/r/AesPleasingAsianGirls/comments/13icw40/song...</td>\n      <td>https://i.redd.it/ps6qly5dc20b1.jpg</td>\n      <td>13icw40.jpg</td>\n      <td></td>\n      <td></td>\n      <td>False</td>\n      <td>False</td>\n      <td>False</td>\n      <td>[]</td>\n    </tr>\n  </tbody>\n</table>\n<p>2532 rows × 15 columns</p>\n</div>"
     },
     "metadata": {},
     "output_type": "display_data"
    },
    {
     "name": "stdout",
     "output_type": "stream",
     "text": [
      "CPU times: total: 3.88 s\n",
      "Wall time: 6.06 s\n"
     ]
    }
   ],
   "source": [
    "%%time\n",
    "\n",
    "data = []\n",
    "for sub in tqdm(subs, desc=\"Reading Temp Dir For Subs...\"):\n",
    "\tdf = pandas.read_parquet(f\"temp/{sub}\", schema=schema, engine='pyarrow')\n",
    "\trecords = df.to_dict(orient='records')\n",
    "\tdata.extend(records)\n",
    "\n",
    "temp_data = pandas.DataFrame(data)\n",
    "\n",
    "for i, r in temp_data.iterrows():\n",
    "\ttemp_data.loc[i, 'image_name'] = r.id + \".jpg\"\n",
    "\ttemp_data.loc[i, 'path'] = \"\"\n",
    "\ttemp_data.loc[i, 'hash'] = \"\"\n",
    "\ttemp_data.loc[i, 'caption'] = \"\"\n",
    "\ttemp_data.loc[i, 'model'] = \"\"\n",
    "\ttemp_data.loc[i, 'exists'] = False\n",
    "\ttemp_data.loc[i, 'curated'] = False\n",
    "\ttemp_data.loc[i, 'accept'] = False\n",
    "\ttemp_data.loc[i, 'tags'] = ['']\n",
    "\n",
    "temp_data.set_index('id', inplace=True, drop=False)\n",
    "\n",
    "display(\"==== TEMP DATA ====\")\n",
    "display(temp_data.shape)\n",
    "display(temp_data)"
   ],
   "metadata": {
    "collapsed": false,
    "ExecuteTime": {
     "end_time": "2023-05-15T20:59:09.390954900Z",
     "start_time": "2023-05-15T20:59:03.295602500Z"
    }
   }
  },
  {
   "cell_type": "code",
   "execution_count": 11,
   "outputs": [
    {
     "data": {
      "text/plain": "'==== FILTERED DATA ===='"
     },
     "metadata": {},
     "output_type": "display_data"
    },
    {
     "data": {
      "text/plain": "(1244, 15)"
     },
     "metadata": {},
     "output_type": "display_data"
    },
    {
     "data": {
      "text/plain": "              id              subreddit                author   \nid                                                              \n13azmti  13azmti            SFWRedheads     Scarlett_somebody  \\\n13b0cv0  13b0cv0            SFWRedheads           RedWicked91   \n13b2ghi  13b2ghi            SFWRedheads    Powerful_Frame9794   \n13c3bc5  13c3bc5            SFWRedheads          Redhotwife88   \n13dcf19  13dcf19            SFWRedheads     Scarlett_somebody   \n...          ...                    ...                   ...   \n13g70ma  13g70ma  AesPleasingAsianGirls          yummybanchan   \n13g9d43  13g9d43  AesPleasingAsianGirls    ExperienceOver7707   \n13h4frm  13h4frm  AesPleasingAsianGirls          No_Slide3921   \n13ic6oa  13ic6oa  AesPleasingAsianGirls  notyouraveragehero88   \n13icw40  13icw40  AesPleasingAsianGirls          yummybanchan   \n\n                                                     title caption hash   \nid                                                                        \n13azmti  I’m going out for the first time in so long! W...               \\\n13b0cv0                                    Up for a trip?😁                \n13b2ghi          Good morning loves! Like my braids again?                \n13c3bc5         Redhead Wife in my Little Black Dress! [F]                \n13dcf19                         Messy hair, cannot care 😹💚                \n...                                                    ...     ...  ...   \n13g70ma                                         Song Yu Qi                \n13g9d43                                             KitKat                \n13h4frm                 Wwyd if you had a date with elfie?                \n13ic6oa                        Radiant Smile! - Sri Lankan                \n13icw40                                         Song Yu Qi                \n\n                                                 permalink   \nid                                                           \n13azmti  /r/SFWRedheads/comments/13azmti/im_going_out_f...  \\\n13b0cv0     /r/SFWRedheads/comments/13b0cv0/up_for_a_trip/   \n13b2ghi  /r/SFWRedheads/comments/13b2ghi/good_morning_l...   \n13c3bc5  /r/SFWRedheads/comments/13c3bc5/redhead_wife_i...   \n13dcf19  /r/SFWRedheads/comments/13dcf19/messy_hair_can...   \n...                                                    ...   \n13g70ma  /r/AesPleasingAsianGirls/comments/13g70ma/song...   \n13g9d43  /r/AesPleasingAsianGirls/comments/13g9d43/kitkat/   \n13h4frm  /r/AesPleasingAsianGirls/comments/13h4frm/wwyd...   \n13ic6oa  /r/AesPleasingAsianGirls/comments/13ic6oa/radi...   \n13icw40  /r/AesPleasingAsianGirls/comments/13icw40/song...   \n\n                                              original_url   image_name path   \nid                                                                             \n13azmti                https://i.redd.it/ktflvdzo1iya1.jpg  13azmti.jpg       \\\n13b0cv0  https://i.redgifs.com/i/neighboringmediumgolde...  13b0cv0.jpg        \n13b2ghi                https://i.redd.it/cpe6hy2h2hya1.jpg  13b2ghi.jpg        \n13c3bc5  https://i.redgifs.com/i/admiredoutstandingpape...  13c3bc5.jpg        \n13dcf19                https://i.redd.it/alhlwwlp6yya1.jpg  13dcf19.jpg        \n...                                                    ...          ...  ...   \n13g70ma                https://i.redd.it/m86fb2tugkza1.jpg  13g70ma.jpg        \n13g9d43                https://i.redd.it/bekk940j2lza1.jpg  13g9d43.jpg        \n13h4frm                https://i.redd.it/c08d0u2n6sza1.jpg  13h4frm.jpg        \n13ic6oa                https://i.redd.it/85aw0ana720b1.jpg  13ic6oa.jpg        \n13icw40                https://i.redd.it/ps6qly5dc20b1.jpg  13icw40.jpg        \n\n        model  exists  curated accept tags  \nid                                          \n13azmti         False    False  False   []  \n13b0cv0         False    False  False   []  \n13b2ghi         False    False  False   []  \n13c3bc5         False    False  False   []  \n13dcf19         False    False  False   []  \n...       ...     ...      ...    ...  ...  \n13g70ma         False    False  False   []  \n13g9d43         False    False  False   []  \n13h4frm         False    False  False   []  \n13ic6oa         False    False  False   []  \n13icw40         False    False  False   []  \n\n[1244 rows x 15 columns]",
      "text/html": "<div>\n<style scoped>\n    .dataframe tbody tr th:only-of-type {\n        vertical-align: middle;\n    }\n\n    .dataframe tbody tr th {\n        vertical-align: top;\n    }\n\n    .dataframe thead th {\n        text-align: right;\n    }\n</style>\n<table border=\"1\" class=\"dataframe\">\n  <thead>\n    <tr style=\"text-align: right;\">\n      <th></th>\n      <th>id</th>\n      <th>subreddit</th>\n      <th>author</th>\n      <th>title</th>\n      <th>caption</th>\n      <th>hash</th>\n      <th>permalink</th>\n      <th>original_url</th>\n      <th>image_name</th>\n      <th>path</th>\n      <th>model</th>\n      <th>exists</th>\n      <th>curated</th>\n      <th>accept</th>\n      <th>tags</th>\n    </tr>\n    <tr>\n      <th>id</th>\n      <th></th>\n      <th></th>\n      <th></th>\n      <th></th>\n      <th></th>\n      <th></th>\n      <th></th>\n      <th></th>\n      <th></th>\n      <th></th>\n      <th></th>\n      <th></th>\n      <th></th>\n      <th></th>\n      <th></th>\n    </tr>\n  </thead>\n  <tbody>\n    <tr>\n      <th>13azmti</th>\n      <td>13azmti</td>\n      <td>SFWRedheads</td>\n      <td>Scarlett_somebody</td>\n      <td>I’m going out for the first time in so long! W...</td>\n      <td></td>\n      <td></td>\n      <td>/r/SFWRedheads/comments/13azmti/im_going_out_f...</td>\n      <td>https://i.redd.it/ktflvdzo1iya1.jpg</td>\n      <td>13azmti.jpg</td>\n      <td></td>\n      <td></td>\n      <td>False</td>\n      <td>False</td>\n      <td>False</td>\n      <td>[]</td>\n    </tr>\n    <tr>\n      <th>13b0cv0</th>\n      <td>13b0cv0</td>\n      <td>SFWRedheads</td>\n      <td>RedWicked91</td>\n      <td>Up for a trip?😁</td>\n      <td></td>\n      <td></td>\n      <td>/r/SFWRedheads/comments/13b0cv0/up_for_a_trip/</td>\n      <td>https://i.redgifs.com/i/neighboringmediumgolde...</td>\n      <td>13b0cv0.jpg</td>\n      <td></td>\n      <td></td>\n      <td>False</td>\n      <td>False</td>\n      <td>False</td>\n      <td>[]</td>\n    </tr>\n    <tr>\n      <th>13b2ghi</th>\n      <td>13b2ghi</td>\n      <td>SFWRedheads</td>\n      <td>Powerful_Frame9794</td>\n      <td>Good morning loves! Like my braids again?</td>\n      <td></td>\n      <td></td>\n      <td>/r/SFWRedheads/comments/13b2ghi/good_morning_l...</td>\n      <td>https://i.redd.it/cpe6hy2h2hya1.jpg</td>\n      <td>13b2ghi.jpg</td>\n      <td></td>\n      <td></td>\n      <td>False</td>\n      <td>False</td>\n      <td>False</td>\n      <td>[]</td>\n    </tr>\n    <tr>\n      <th>13c3bc5</th>\n      <td>13c3bc5</td>\n      <td>SFWRedheads</td>\n      <td>Redhotwife88</td>\n      <td>Redhead Wife in my Little Black Dress! [F]</td>\n      <td></td>\n      <td></td>\n      <td>/r/SFWRedheads/comments/13c3bc5/redhead_wife_i...</td>\n      <td>https://i.redgifs.com/i/admiredoutstandingpape...</td>\n      <td>13c3bc5.jpg</td>\n      <td></td>\n      <td></td>\n      <td>False</td>\n      <td>False</td>\n      <td>False</td>\n      <td>[]</td>\n    </tr>\n    <tr>\n      <th>13dcf19</th>\n      <td>13dcf19</td>\n      <td>SFWRedheads</td>\n      <td>Scarlett_somebody</td>\n      <td>Messy hair, cannot care 😹💚</td>\n      <td></td>\n      <td></td>\n      <td>/r/SFWRedheads/comments/13dcf19/messy_hair_can...</td>\n      <td>https://i.redd.it/alhlwwlp6yya1.jpg</td>\n      <td>13dcf19.jpg</td>\n      <td></td>\n      <td></td>\n      <td>False</td>\n      <td>False</td>\n      <td>False</td>\n      <td>[]</td>\n    </tr>\n    <tr>\n      <th>...</th>\n      <td>...</td>\n      <td>...</td>\n      <td>...</td>\n      <td>...</td>\n      <td>...</td>\n      <td>...</td>\n      <td>...</td>\n      <td>...</td>\n      <td>...</td>\n      <td>...</td>\n      <td>...</td>\n      <td>...</td>\n      <td>...</td>\n      <td>...</td>\n      <td>...</td>\n    </tr>\n    <tr>\n      <th>13g70ma</th>\n      <td>13g70ma</td>\n      <td>AesPleasingAsianGirls</td>\n      <td>yummybanchan</td>\n      <td>Song Yu Qi</td>\n      <td></td>\n      <td></td>\n      <td>/r/AesPleasingAsianGirls/comments/13g70ma/song...</td>\n      <td>https://i.redd.it/m86fb2tugkza1.jpg</td>\n      <td>13g70ma.jpg</td>\n      <td></td>\n      <td></td>\n      <td>False</td>\n      <td>False</td>\n      <td>False</td>\n      <td>[]</td>\n    </tr>\n    <tr>\n      <th>13g9d43</th>\n      <td>13g9d43</td>\n      <td>AesPleasingAsianGirls</td>\n      <td>ExperienceOver7707</td>\n      <td>KitKat</td>\n      <td></td>\n      <td></td>\n      <td>/r/AesPleasingAsianGirls/comments/13g9d43/kitkat/</td>\n      <td>https://i.redd.it/bekk940j2lza1.jpg</td>\n      <td>13g9d43.jpg</td>\n      <td></td>\n      <td></td>\n      <td>False</td>\n      <td>False</td>\n      <td>False</td>\n      <td>[]</td>\n    </tr>\n    <tr>\n      <th>13h4frm</th>\n      <td>13h4frm</td>\n      <td>AesPleasingAsianGirls</td>\n      <td>No_Slide3921</td>\n      <td>Wwyd if you had a date with elfie?</td>\n      <td></td>\n      <td></td>\n      <td>/r/AesPleasingAsianGirls/comments/13h4frm/wwyd...</td>\n      <td>https://i.redd.it/c08d0u2n6sza1.jpg</td>\n      <td>13h4frm.jpg</td>\n      <td></td>\n      <td></td>\n      <td>False</td>\n      <td>False</td>\n      <td>False</td>\n      <td>[]</td>\n    </tr>\n    <tr>\n      <th>13ic6oa</th>\n      <td>13ic6oa</td>\n      <td>AesPleasingAsianGirls</td>\n      <td>notyouraveragehero88</td>\n      <td>Radiant Smile! - Sri Lankan</td>\n      <td></td>\n      <td></td>\n      <td>/r/AesPleasingAsianGirls/comments/13ic6oa/radi...</td>\n      <td>https://i.redd.it/85aw0ana720b1.jpg</td>\n      <td>13ic6oa.jpg</td>\n      <td></td>\n      <td></td>\n      <td>False</td>\n      <td>False</td>\n      <td>False</td>\n      <td>[]</td>\n    </tr>\n    <tr>\n      <th>13icw40</th>\n      <td>13icw40</td>\n      <td>AesPleasingAsianGirls</td>\n      <td>yummybanchan</td>\n      <td>Song Yu Qi</td>\n      <td></td>\n      <td></td>\n      <td>/r/AesPleasingAsianGirls/comments/13icw40/song...</td>\n      <td>https://i.redd.it/ps6qly5dc20b1.jpg</td>\n      <td>13icw40.jpg</td>\n      <td></td>\n      <td></td>\n      <td>False</td>\n      <td>False</td>\n      <td>False</td>\n      <td>[]</td>\n    </tr>\n  </tbody>\n</table>\n<p>1244 rows × 15 columns</p>\n</div>"
     },
     "metadata": {},
     "output_type": "display_data"
    },
    {
     "name": "stdout",
     "output_type": "stream",
     "text": [
      "CPU times: total: 0 ns\n",
      "Wall time: 120 ms\n"
     ]
    }
   ],
   "source": [
    "%%time\n",
    "\n",
    "filtered = temp_data[~temp_data['id'].isin(extant_data.index.values) & temp_data['original_url'].str.endswith('.jpg') & (~temp_data['id'].isin(curated_data.index.values))]\n",
    "filtered.dropna(axis=1, how='all')\n",
    "filtered.reset_index(drop=True, inplace=True)\n",
    "filtered.set_index('id', inplace=True, drop=False)\n",
    "display(\"==== FILTERED DATA ====\")\n",
    "display(filtered.shape)\n",
    "display(filtered)"
   ],
   "metadata": {
    "collapsed": false,
    "ExecuteTime": {
     "end_time": "2023-05-15T20:59:10.741562100Z",
     "start_time": "2023-05-15T20:59:09.395470300Z"
    }
   }
  },
  {
   "cell_type": "code",
   "execution_count": 12,
   "outputs": [
    {
     "name": "stderr",
     "output_type": "stream",
     "text": [
      "Progress: 100%|██████████| 1244/1244 [00:00<00:00, 47749.34it/s]\n",
      "<timed exec>:1: SettingWithCopyWarning: \n",
      "A value is trying to be set on a copy of a slice from a DataFrame.\n",
      "Try using .loc[row_indexer,col_indexer] = value instead\n",
      "\n",
      "See the caveats in the documentation: https://pandas.pydata.org/pandas-docs/stable/user_guide/indexing.html#returning-a-view-versus-a-copy\n"
     ]
    },
    {
     "data": {
      "text/plain": "'== Filtered Data With Model =='"
     },
     "metadata": {},
     "output_type": "display_data"
    },
    {
     "data": {
      "text/plain": "(1244, 15)"
     },
     "metadata": {},
     "output_type": "display_data"
    },
    {
     "data": {
      "text/plain": "              id              subreddit                author   \nid                                                              \n13azmti  13azmti            SFWRedheads     Scarlett_somebody  \\\n13b0cv0  13b0cv0            SFWRedheads           RedWicked91   \n13b2ghi  13b2ghi            SFWRedheads    Powerful_Frame9794   \n13c3bc5  13c3bc5            SFWRedheads          Redhotwife88   \n13dcf19  13dcf19            SFWRedheads     Scarlett_somebody   \n...          ...                    ...                   ...   \n13g70ma  13g70ma  AesPleasingAsianGirls          yummybanchan   \n13g9d43  13g9d43  AesPleasingAsianGirls    ExperienceOver7707   \n13h4frm  13h4frm  AesPleasingAsianGirls          No_Slide3921   \n13ic6oa  13ic6oa  AesPleasingAsianGirls  notyouraveragehero88   \n13icw40  13icw40  AesPleasingAsianGirls          yummybanchan   \n\n                                                     title caption hash   \nid                                                                        \n13azmti  I’m going out for the first time in so long! W...               \\\n13b0cv0                                    Up for a trip?😁                \n13b2ghi          Good morning loves! Like my braids again?                \n13c3bc5         Redhead Wife in my Little Black Dress! [F]                \n13dcf19                         Messy hair, cannot care 😹💚                \n...                                                    ...     ...  ...   \n13g70ma                                         Song Yu Qi                \n13g9d43                                             KitKat                \n13h4frm                 Wwyd if you had a date with elfie?                \n13ic6oa                        Radiant Smile! - Sri Lankan                \n13icw40                                         Song Yu Qi                \n\n                                                 permalink   \nid                                                           \n13azmti  /r/SFWRedheads/comments/13azmti/im_going_out_f...  \\\n13b0cv0     /r/SFWRedheads/comments/13b0cv0/up_for_a_trip/   \n13b2ghi  /r/SFWRedheads/comments/13b2ghi/good_morning_l...   \n13c3bc5  /r/SFWRedheads/comments/13c3bc5/redhead_wife_i...   \n13dcf19  /r/SFWRedheads/comments/13dcf19/messy_hair_can...   \n...                                                    ...   \n13g70ma  /r/AesPleasingAsianGirls/comments/13g70ma/song...   \n13g9d43  /r/AesPleasingAsianGirls/comments/13g9d43/kitkat/   \n13h4frm  /r/AesPleasingAsianGirls/comments/13h4frm/wwyd...   \n13ic6oa  /r/AesPleasingAsianGirls/comments/13ic6oa/radi...   \n13icw40  /r/AesPleasingAsianGirls/comments/13icw40/song...   \n\n                                              original_url   image_name path   \nid                                                                             \n13azmti                https://i.redd.it/ktflvdzo1iya1.jpg  13azmti.jpg       \\\n13b0cv0  https://i.redgifs.com/i/neighboringmediumgolde...  13b0cv0.jpg        \n13b2ghi                https://i.redd.it/cpe6hy2h2hya1.jpg  13b2ghi.jpg        \n13c3bc5  https://i.redgifs.com/i/admiredoutstandingpape...  13c3bc5.jpg        \n13dcf19                https://i.redd.it/alhlwwlp6yya1.jpg  13dcf19.jpg        \n...                                                    ...          ...  ...   \n13g70ma                https://i.redd.it/m86fb2tugkza1.jpg  13g70ma.jpg        \n13g9d43                https://i.redd.it/bekk940j2lza1.jpg  13g9d43.jpg        \n13h4frm                https://i.redd.it/c08d0u2n6sza1.jpg  13h4frm.jpg        \n13ic6oa                https://i.redd.it/85aw0ana720b1.jpg  13ic6oa.jpg        \n13icw40                https://i.redd.it/ps6qly5dc20b1.jpg  13icw40.jpg        \n\n                      model  exists  curated accept tags  \nid                                                        \n13azmti    RedHeadDiffusion   False    False  False   []  \n13b0cv0    RedHeadDiffusion   False    False  False   []  \n13b2ghi    RedHeadDiffusion   False    False  False   []  \n13c3bc5    RedHeadDiffusion   False    False  False   []  \n13dcf19    RedHeadDiffusion   False    False  False   []  \n...                     ...     ...      ...    ...  ...  \n13g70ma  SexyAsianDiffusion   False    False  False   []  \n13g9d43  SexyAsianDiffusion   False    False  False   []  \n13h4frm  SexyAsianDiffusion   False    False  False   []  \n13ic6oa  SexyAsianDiffusion   False    False  False   []  \n13icw40  SexyAsianDiffusion   False    False  False   []  \n\n[1244 rows x 15 columns]",
      "text/html": "<div>\n<style scoped>\n    .dataframe tbody tr th:only-of-type {\n        vertical-align: middle;\n    }\n\n    .dataframe tbody tr th {\n        vertical-align: top;\n    }\n\n    .dataframe thead th {\n        text-align: right;\n    }\n</style>\n<table border=\"1\" class=\"dataframe\">\n  <thead>\n    <tr style=\"text-align: right;\">\n      <th></th>\n      <th>id</th>\n      <th>subreddit</th>\n      <th>author</th>\n      <th>title</th>\n      <th>caption</th>\n      <th>hash</th>\n      <th>permalink</th>\n      <th>original_url</th>\n      <th>image_name</th>\n      <th>path</th>\n      <th>model</th>\n      <th>exists</th>\n      <th>curated</th>\n      <th>accept</th>\n      <th>tags</th>\n    </tr>\n    <tr>\n      <th>id</th>\n      <th></th>\n      <th></th>\n      <th></th>\n      <th></th>\n      <th></th>\n      <th></th>\n      <th></th>\n      <th></th>\n      <th></th>\n      <th></th>\n      <th></th>\n      <th></th>\n      <th></th>\n      <th></th>\n      <th></th>\n    </tr>\n  </thead>\n  <tbody>\n    <tr>\n      <th>13azmti</th>\n      <td>13azmti</td>\n      <td>SFWRedheads</td>\n      <td>Scarlett_somebody</td>\n      <td>I’m going out for the first time in so long! W...</td>\n      <td></td>\n      <td></td>\n      <td>/r/SFWRedheads/comments/13azmti/im_going_out_f...</td>\n      <td>https://i.redd.it/ktflvdzo1iya1.jpg</td>\n      <td>13azmti.jpg</td>\n      <td></td>\n      <td>RedHeadDiffusion</td>\n      <td>False</td>\n      <td>False</td>\n      <td>False</td>\n      <td>[]</td>\n    </tr>\n    <tr>\n      <th>13b0cv0</th>\n      <td>13b0cv0</td>\n      <td>SFWRedheads</td>\n      <td>RedWicked91</td>\n      <td>Up for a trip?😁</td>\n      <td></td>\n      <td></td>\n      <td>/r/SFWRedheads/comments/13b0cv0/up_for_a_trip/</td>\n      <td>https://i.redgifs.com/i/neighboringmediumgolde...</td>\n      <td>13b0cv0.jpg</td>\n      <td></td>\n      <td>RedHeadDiffusion</td>\n      <td>False</td>\n      <td>False</td>\n      <td>False</td>\n      <td>[]</td>\n    </tr>\n    <tr>\n      <th>13b2ghi</th>\n      <td>13b2ghi</td>\n      <td>SFWRedheads</td>\n      <td>Powerful_Frame9794</td>\n      <td>Good morning loves! Like my braids again?</td>\n      <td></td>\n      <td></td>\n      <td>/r/SFWRedheads/comments/13b2ghi/good_morning_l...</td>\n      <td>https://i.redd.it/cpe6hy2h2hya1.jpg</td>\n      <td>13b2ghi.jpg</td>\n      <td></td>\n      <td>RedHeadDiffusion</td>\n      <td>False</td>\n      <td>False</td>\n      <td>False</td>\n      <td>[]</td>\n    </tr>\n    <tr>\n      <th>13c3bc5</th>\n      <td>13c3bc5</td>\n      <td>SFWRedheads</td>\n      <td>Redhotwife88</td>\n      <td>Redhead Wife in my Little Black Dress! [F]</td>\n      <td></td>\n      <td></td>\n      <td>/r/SFWRedheads/comments/13c3bc5/redhead_wife_i...</td>\n      <td>https://i.redgifs.com/i/admiredoutstandingpape...</td>\n      <td>13c3bc5.jpg</td>\n      <td></td>\n      <td>RedHeadDiffusion</td>\n      <td>False</td>\n      <td>False</td>\n      <td>False</td>\n      <td>[]</td>\n    </tr>\n    <tr>\n      <th>13dcf19</th>\n      <td>13dcf19</td>\n      <td>SFWRedheads</td>\n      <td>Scarlett_somebody</td>\n      <td>Messy hair, cannot care 😹💚</td>\n      <td></td>\n      <td></td>\n      <td>/r/SFWRedheads/comments/13dcf19/messy_hair_can...</td>\n      <td>https://i.redd.it/alhlwwlp6yya1.jpg</td>\n      <td>13dcf19.jpg</td>\n      <td></td>\n      <td>RedHeadDiffusion</td>\n      <td>False</td>\n      <td>False</td>\n      <td>False</td>\n      <td>[]</td>\n    </tr>\n    <tr>\n      <th>...</th>\n      <td>...</td>\n      <td>...</td>\n      <td>...</td>\n      <td>...</td>\n      <td>...</td>\n      <td>...</td>\n      <td>...</td>\n      <td>...</td>\n      <td>...</td>\n      <td>...</td>\n      <td>...</td>\n      <td>...</td>\n      <td>...</td>\n      <td>...</td>\n      <td>...</td>\n    </tr>\n    <tr>\n      <th>13g70ma</th>\n      <td>13g70ma</td>\n      <td>AesPleasingAsianGirls</td>\n      <td>yummybanchan</td>\n      <td>Song Yu Qi</td>\n      <td></td>\n      <td></td>\n      <td>/r/AesPleasingAsianGirls/comments/13g70ma/song...</td>\n      <td>https://i.redd.it/m86fb2tugkza1.jpg</td>\n      <td>13g70ma.jpg</td>\n      <td></td>\n      <td>SexyAsianDiffusion</td>\n      <td>False</td>\n      <td>False</td>\n      <td>False</td>\n      <td>[]</td>\n    </tr>\n    <tr>\n      <th>13g9d43</th>\n      <td>13g9d43</td>\n      <td>AesPleasingAsianGirls</td>\n      <td>ExperienceOver7707</td>\n      <td>KitKat</td>\n      <td></td>\n      <td></td>\n      <td>/r/AesPleasingAsianGirls/comments/13g9d43/kitkat/</td>\n      <td>https://i.redd.it/bekk940j2lza1.jpg</td>\n      <td>13g9d43.jpg</td>\n      <td></td>\n      <td>SexyAsianDiffusion</td>\n      <td>False</td>\n      <td>False</td>\n      <td>False</td>\n      <td>[]</td>\n    </tr>\n    <tr>\n      <th>13h4frm</th>\n      <td>13h4frm</td>\n      <td>AesPleasingAsianGirls</td>\n      <td>No_Slide3921</td>\n      <td>Wwyd if you had a date with elfie?</td>\n      <td></td>\n      <td></td>\n      <td>/r/AesPleasingAsianGirls/comments/13h4frm/wwyd...</td>\n      <td>https://i.redd.it/c08d0u2n6sza1.jpg</td>\n      <td>13h4frm.jpg</td>\n      <td></td>\n      <td>SexyAsianDiffusion</td>\n      <td>False</td>\n      <td>False</td>\n      <td>False</td>\n      <td>[]</td>\n    </tr>\n    <tr>\n      <th>13ic6oa</th>\n      <td>13ic6oa</td>\n      <td>AesPleasingAsianGirls</td>\n      <td>notyouraveragehero88</td>\n      <td>Radiant Smile! - Sri Lankan</td>\n      <td></td>\n      <td></td>\n      <td>/r/AesPleasingAsianGirls/comments/13ic6oa/radi...</td>\n      <td>https://i.redd.it/85aw0ana720b1.jpg</td>\n      <td>13ic6oa.jpg</td>\n      <td></td>\n      <td>SexyAsianDiffusion</td>\n      <td>False</td>\n      <td>False</td>\n      <td>False</td>\n      <td>[]</td>\n    </tr>\n    <tr>\n      <th>13icw40</th>\n      <td>13icw40</td>\n      <td>AesPleasingAsianGirls</td>\n      <td>yummybanchan</td>\n      <td>Song Yu Qi</td>\n      <td></td>\n      <td></td>\n      <td>/r/AesPleasingAsianGirls/comments/13icw40/song...</td>\n      <td>https://i.redd.it/ps6qly5dc20b1.jpg</td>\n      <td>13icw40.jpg</td>\n      <td></td>\n      <td>SexyAsianDiffusion</td>\n      <td>False</td>\n      <td>False</td>\n      <td>False</td>\n      <td>[]</td>\n    </tr>\n  </tbody>\n</table>\n<p>1244 rows × 15 columns</p>\n</div>"
     },
     "metadata": {},
     "output_type": "display_data"
    },
    {
     "name": "stdout",
     "output_type": "stream",
     "text": [
      "CPU times: total: 46.9 ms\n",
      "Wall time: 69.8 ms\n"
     ]
    }
   ],
   "source": [
    "%%time\n",
    "\n",
    "filtered['model'] = filtered.progress_apply(lambda x: functions.add_source(x, sources), axis=1)\n",
    "\n",
    "display(\"== Filtered Data With Model ==\")\n",
    "display(filtered.shape)\n",
    "display(filtered)"
   ],
   "metadata": {
    "collapsed": false,
    "ExecuteTime": {
     "end_time": "2023-05-15T20:59:10.890736Z",
     "start_time": "2023-05-15T20:59:09.535787700Z"
    }
   }
  },
  {
   "cell_type": "code",
   "execution_count": 13,
   "outputs": [
    {
     "name": "stderr",
     "output_type": "stream",
     "text": [
      "Progress: 100%|██████████| 1244/1244 [11:52<00:00,  1.75it/s]\n",
      "<timed exec>:3: SettingWithCopyWarning: \n",
      "A value is trying to be set on a copy of a slice from a DataFrame.\n",
      "Try using .loc[row_indexer,col_indexer] = value instead\n",
      "\n",
      "See the caveats in the documentation: https://pandas.pydata.org/pandas-docs/stable/user_guide/indexing.html#returning-a-view-versus-a-copy\n"
     ]
    },
    {
     "data": {
      "text/plain": "'== Filtered Data With Path =='"
     },
     "metadata": {},
     "output_type": "display_data"
    },
    {
     "data": {
      "text/plain": "(1244, 15)"
     },
     "metadata": {},
     "output_type": "display_data"
    },
    {
     "data": {
      "text/plain": "              id              subreddit                author   \nid                                                              \n13azmti  13azmti            SFWRedheads     Scarlett_somebody  \\\n13b0cv0  13b0cv0            SFWRedheads           RedWicked91   \n13b2ghi  13b2ghi            SFWRedheads    Powerful_Frame9794   \n13c3bc5  13c3bc5            SFWRedheads          Redhotwife88   \n13dcf19  13dcf19            SFWRedheads     Scarlett_somebody   \n...          ...                    ...                   ...   \n13g70ma  13g70ma  AesPleasingAsianGirls          yummybanchan   \n13g9d43  13g9d43  AesPleasingAsianGirls    ExperienceOver7707   \n13h4frm  13h4frm  AesPleasingAsianGirls          No_Slide3921   \n13ic6oa  13ic6oa  AesPleasingAsianGirls  notyouraveragehero88   \n13icw40  13icw40  AesPleasingAsianGirls          yummybanchan   \n\n                                                     title caption hash   \nid                                                                        \n13azmti  I’m going out for the first time in so long! W...               \\\n13b0cv0                                    Up for a trip?😁                \n13b2ghi          Good morning loves! Like my braids again?                \n13c3bc5         Redhead Wife in my Little Black Dress! [F]                \n13dcf19                         Messy hair, cannot care 😹💚                \n...                                                    ...     ...  ...   \n13g70ma                                         Song Yu Qi                \n13g9d43                                             KitKat                \n13h4frm                 Wwyd if you had a date with elfie?                \n13ic6oa                        Radiant Smile! - Sri Lankan                \n13icw40                                         Song Yu Qi                \n\n                                                 permalink   \nid                                                           \n13azmti  /r/SFWRedheads/comments/13azmti/im_going_out_f...  \\\n13b0cv0     /r/SFWRedheads/comments/13b0cv0/up_for_a_trip/   \n13b2ghi  /r/SFWRedheads/comments/13b2ghi/good_morning_l...   \n13c3bc5  /r/SFWRedheads/comments/13c3bc5/redhead_wife_i...   \n13dcf19  /r/SFWRedheads/comments/13dcf19/messy_hair_can...   \n...                                                    ...   \n13g70ma  /r/AesPleasingAsianGirls/comments/13g70ma/song...   \n13g9d43  /r/AesPleasingAsianGirls/comments/13g9d43/kitkat/   \n13h4frm  /r/AesPleasingAsianGirls/comments/13h4frm/wwyd...   \n13ic6oa  /r/AesPleasingAsianGirls/comments/13ic6oa/radi...   \n13icw40  /r/AesPleasingAsianGirls/comments/13icw40/song...   \n\n                                              original_url   image_name   \nid                                                                        \n13azmti                https://i.redd.it/ktflvdzo1iya1.jpg  13azmti.jpg  \\\n13b0cv0  https://i.redgifs.com/i/neighboringmediumgolde...  13b0cv0.jpg   \n13b2ghi                https://i.redd.it/cpe6hy2h2hya1.jpg  13b2ghi.jpg   \n13c3bc5  https://i.redgifs.com/i/admiredoutstandingpape...  13c3bc5.jpg   \n13dcf19                https://i.redd.it/alhlwwlp6yya1.jpg  13dcf19.jpg   \n...                                                    ...          ...   \n13g70ma                https://i.redd.it/m86fb2tugkza1.jpg  13g70ma.jpg   \n13g9d43                https://i.redd.it/bekk940j2lza1.jpg  13g9d43.jpg   \n13h4frm                https://i.redd.it/c08d0u2n6sza1.jpg  13h4frm.jpg   \n13ic6oa                https://i.redd.it/85aw0ana720b1.jpg  13ic6oa.jpg   \n13icw40                https://i.redd.it/ps6qly5dc20b1.jpg  13icw40.jpg   \n\n                           path               model  exists  curated accept   \nid                                                                            \n13azmti  data/image/13azmti.jpg    RedHeadDiffusion   False    False  False  \\\n13b0cv0                            RedHeadDiffusion   False    False  False   \n13b2ghi  data/image/13b2ghi.jpg    RedHeadDiffusion   False    False  False   \n13c3bc5                            RedHeadDiffusion   False    False  False   \n13dcf19  data/image/13dcf19.jpg    RedHeadDiffusion   False    False  False   \n...                         ...                 ...     ...      ...    ...   \n13g70ma  data/image/13g70ma.jpg  SexyAsianDiffusion   False    False  False   \n13g9d43  data/image/13g9d43.jpg  SexyAsianDiffusion   False    False  False   \n13h4frm  data/image/13h4frm.jpg  SexyAsianDiffusion   False    False  False   \n13ic6oa  data/image/13ic6oa.jpg  SexyAsianDiffusion   False    False  False   \n13icw40  data/image/13icw40.jpg  SexyAsianDiffusion   False    False  False   \n\n        tags  \nid            \n13azmti   []  \n13b0cv0   []  \n13b2ghi   []  \n13c3bc5   []  \n13dcf19   []  \n...      ...  \n13g70ma   []  \n13g9d43   []  \n13h4frm   []  \n13ic6oa   []  \n13icw40   []  \n\n[1244 rows x 15 columns]",
      "text/html": "<div>\n<style scoped>\n    .dataframe tbody tr th:only-of-type {\n        vertical-align: middle;\n    }\n\n    .dataframe tbody tr th {\n        vertical-align: top;\n    }\n\n    .dataframe thead th {\n        text-align: right;\n    }\n</style>\n<table border=\"1\" class=\"dataframe\">\n  <thead>\n    <tr style=\"text-align: right;\">\n      <th></th>\n      <th>id</th>\n      <th>subreddit</th>\n      <th>author</th>\n      <th>title</th>\n      <th>caption</th>\n      <th>hash</th>\n      <th>permalink</th>\n      <th>original_url</th>\n      <th>image_name</th>\n      <th>path</th>\n      <th>model</th>\n      <th>exists</th>\n      <th>curated</th>\n      <th>accept</th>\n      <th>tags</th>\n    </tr>\n    <tr>\n      <th>id</th>\n      <th></th>\n      <th></th>\n      <th></th>\n      <th></th>\n      <th></th>\n      <th></th>\n      <th></th>\n      <th></th>\n      <th></th>\n      <th></th>\n      <th></th>\n      <th></th>\n      <th></th>\n      <th></th>\n      <th></th>\n    </tr>\n  </thead>\n  <tbody>\n    <tr>\n      <th>13azmti</th>\n      <td>13azmti</td>\n      <td>SFWRedheads</td>\n      <td>Scarlett_somebody</td>\n      <td>I’m going out for the first time in so long! W...</td>\n      <td></td>\n      <td></td>\n      <td>/r/SFWRedheads/comments/13azmti/im_going_out_f...</td>\n      <td>https://i.redd.it/ktflvdzo1iya1.jpg</td>\n      <td>13azmti.jpg</td>\n      <td>data/image/13azmti.jpg</td>\n      <td>RedHeadDiffusion</td>\n      <td>False</td>\n      <td>False</td>\n      <td>False</td>\n      <td>[]</td>\n    </tr>\n    <tr>\n      <th>13b0cv0</th>\n      <td>13b0cv0</td>\n      <td>SFWRedheads</td>\n      <td>RedWicked91</td>\n      <td>Up for a trip?😁</td>\n      <td></td>\n      <td></td>\n      <td>/r/SFWRedheads/comments/13b0cv0/up_for_a_trip/</td>\n      <td>https://i.redgifs.com/i/neighboringmediumgolde...</td>\n      <td>13b0cv0.jpg</td>\n      <td></td>\n      <td>RedHeadDiffusion</td>\n      <td>False</td>\n      <td>False</td>\n      <td>False</td>\n      <td>[]</td>\n    </tr>\n    <tr>\n      <th>13b2ghi</th>\n      <td>13b2ghi</td>\n      <td>SFWRedheads</td>\n      <td>Powerful_Frame9794</td>\n      <td>Good morning loves! Like my braids again?</td>\n      <td></td>\n      <td></td>\n      <td>/r/SFWRedheads/comments/13b2ghi/good_morning_l...</td>\n      <td>https://i.redd.it/cpe6hy2h2hya1.jpg</td>\n      <td>13b2ghi.jpg</td>\n      <td>data/image/13b2ghi.jpg</td>\n      <td>RedHeadDiffusion</td>\n      <td>False</td>\n      <td>False</td>\n      <td>False</td>\n      <td>[]</td>\n    </tr>\n    <tr>\n      <th>13c3bc5</th>\n      <td>13c3bc5</td>\n      <td>SFWRedheads</td>\n      <td>Redhotwife88</td>\n      <td>Redhead Wife in my Little Black Dress! [F]</td>\n      <td></td>\n      <td></td>\n      <td>/r/SFWRedheads/comments/13c3bc5/redhead_wife_i...</td>\n      <td>https://i.redgifs.com/i/admiredoutstandingpape...</td>\n      <td>13c3bc5.jpg</td>\n      <td></td>\n      <td>RedHeadDiffusion</td>\n      <td>False</td>\n      <td>False</td>\n      <td>False</td>\n      <td>[]</td>\n    </tr>\n    <tr>\n      <th>13dcf19</th>\n      <td>13dcf19</td>\n      <td>SFWRedheads</td>\n      <td>Scarlett_somebody</td>\n      <td>Messy hair, cannot care 😹💚</td>\n      <td></td>\n      <td></td>\n      <td>/r/SFWRedheads/comments/13dcf19/messy_hair_can...</td>\n      <td>https://i.redd.it/alhlwwlp6yya1.jpg</td>\n      <td>13dcf19.jpg</td>\n      <td>data/image/13dcf19.jpg</td>\n      <td>RedHeadDiffusion</td>\n      <td>False</td>\n      <td>False</td>\n      <td>False</td>\n      <td>[]</td>\n    </tr>\n    <tr>\n      <th>...</th>\n      <td>...</td>\n      <td>...</td>\n      <td>...</td>\n      <td>...</td>\n      <td>...</td>\n      <td>...</td>\n      <td>...</td>\n      <td>...</td>\n      <td>...</td>\n      <td>...</td>\n      <td>...</td>\n      <td>...</td>\n      <td>...</td>\n      <td>...</td>\n      <td>...</td>\n    </tr>\n    <tr>\n      <th>13g70ma</th>\n      <td>13g70ma</td>\n      <td>AesPleasingAsianGirls</td>\n      <td>yummybanchan</td>\n      <td>Song Yu Qi</td>\n      <td></td>\n      <td></td>\n      <td>/r/AesPleasingAsianGirls/comments/13g70ma/song...</td>\n      <td>https://i.redd.it/m86fb2tugkza1.jpg</td>\n      <td>13g70ma.jpg</td>\n      <td>data/image/13g70ma.jpg</td>\n      <td>SexyAsianDiffusion</td>\n      <td>False</td>\n      <td>False</td>\n      <td>False</td>\n      <td>[]</td>\n    </tr>\n    <tr>\n      <th>13g9d43</th>\n      <td>13g9d43</td>\n      <td>AesPleasingAsianGirls</td>\n      <td>ExperienceOver7707</td>\n      <td>KitKat</td>\n      <td></td>\n      <td></td>\n      <td>/r/AesPleasingAsianGirls/comments/13g9d43/kitkat/</td>\n      <td>https://i.redd.it/bekk940j2lza1.jpg</td>\n      <td>13g9d43.jpg</td>\n      <td>data/image/13g9d43.jpg</td>\n      <td>SexyAsianDiffusion</td>\n      <td>False</td>\n      <td>False</td>\n      <td>False</td>\n      <td>[]</td>\n    </tr>\n    <tr>\n      <th>13h4frm</th>\n      <td>13h4frm</td>\n      <td>AesPleasingAsianGirls</td>\n      <td>No_Slide3921</td>\n      <td>Wwyd if you had a date with elfie?</td>\n      <td></td>\n      <td></td>\n      <td>/r/AesPleasingAsianGirls/comments/13h4frm/wwyd...</td>\n      <td>https://i.redd.it/c08d0u2n6sza1.jpg</td>\n      <td>13h4frm.jpg</td>\n      <td>data/image/13h4frm.jpg</td>\n      <td>SexyAsianDiffusion</td>\n      <td>False</td>\n      <td>False</td>\n      <td>False</td>\n      <td>[]</td>\n    </tr>\n    <tr>\n      <th>13ic6oa</th>\n      <td>13ic6oa</td>\n      <td>AesPleasingAsianGirls</td>\n      <td>notyouraveragehero88</td>\n      <td>Radiant Smile! - Sri Lankan</td>\n      <td></td>\n      <td></td>\n      <td>/r/AesPleasingAsianGirls/comments/13ic6oa/radi...</td>\n      <td>https://i.redd.it/85aw0ana720b1.jpg</td>\n      <td>13ic6oa.jpg</td>\n      <td>data/image/13ic6oa.jpg</td>\n      <td>SexyAsianDiffusion</td>\n      <td>False</td>\n      <td>False</td>\n      <td>False</td>\n      <td>[]</td>\n    </tr>\n    <tr>\n      <th>13icw40</th>\n      <td>13icw40</td>\n      <td>AesPleasingAsianGirls</td>\n      <td>yummybanchan</td>\n      <td>Song Yu Qi</td>\n      <td></td>\n      <td></td>\n      <td>/r/AesPleasingAsianGirls/comments/13icw40/song...</td>\n      <td>https://i.redd.it/ps6qly5dc20b1.jpg</td>\n      <td>13icw40.jpg</td>\n      <td>data/image/13icw40.jpg</td>\n      <td>SexyAsianDiffusion</td>\n      <td>False</td>\n      <td>False</td>\n      <td>False</td>\n      <td>[]</td>\n    </tr>\n  </tbody>\n</table>\n<p>1244 rows × 15 columns</p>\n</div>"
     },
     "metadata": {},
     "output_type": "display_data"
    },
    {
     "name": "stdout",
     "output_type": "stream",
     "text": [
      "CPU times: total: 51.4 s\n",
      "Wall time: 13min 5s\n"
     ]
    }
   ],
   "source": [
    "%%time\n",
    "\n",
    "file_list = file_system.ls(\"data/image\")\n",
    "\n",
    "filtered['path'] = filtered.progress_apply(lambda x: functions.fetch_image(x, file_list, file_system), axis=1)\n",
    "\n",
    "display(\"== Filtered Data With Path ==\")\n",
    "display(filtered.shape)\n",
    "display(filtered)"
   ],
   "metadata": {
    "collapsed": false,
    "ExecuteTime": {
     "end_time": "2023-05-15T21:12:15.988579200Z",
     "start_time": "2023-05-15T20:59:09.745399900Z"
    }
   }
  },
  {
   "cell_type": "code",
   "execution_count": 14,
   "outputs": [
    {
     "name": "stderr",
     "output_type": "stream",
     "text": [
      "Progress: 100%|██████████| 1244/1244 [00:00<00:00, 3461.57it/s]\n",
      "<timed exec>:1: SettingWithCopyWarning: \n",
      "A value is trying to be set on a copy of a slice from a DataFrame.\n",
      "Try using .loc[row_indexer,col_indexer] = value instead\n",
      "\n",
      "See the caveats in the documentation: https://pandas.pydata.org/pandas-docs/stable/user_guide/indexing.html#returning-a-view-versus-a-copy\n"
     ]
    },
    {
     "data": {
      "text/plain": "'== Filtered Data With Exists =='"
     },
     "metadata": {},
     "output_type": "display_data"
    },
    {
     "data": {
      "text/plain": "(1244, 15)"
     },
     "metadata": {},
     "output_type": "display_data"
    },
    {
     "data": {
      "text/plain": "              id              subreddit                author   \nid                                                              \n13azmti  13azmti            SFWRedheads     Scarlett_somebody  \\\n13b0cv0  13b0cv0            SFWRedheads           RedWicked91   \n13b2ghi  13b2ghi            SFWRedheads    Powerful_Frame9794   \n13c3bc5  13c3bc5            SFWRedheads          Redhotwife88   \n13dcf19  13dcf19            SFWRedheads     Scarlett_somebody   \n...          ...                    ...                   ...   \n13g70ma  13g70ma  AesPleasingAsianGirls          yummybanchan   \n13g9d43  13g9d43  AesPleasingAsianGirls    ExperienceOver7707   \n13h4frm  13h4frm  AesPleasingAsianGirls          No_Slide3921   \n13ic6oa  13ic6oa  AesPleasingAsianGirls  notyouraveragehero88   \n13icw40  13icw40  AesPleasingAsianGirls          yummybanchan   \n\n                                                     title caption hash   \nid                                                                        \n13azmti  I’m going out for the first time in so long! W...               \\\n13b0cv0                                    Up for a trip?😁                \n13b2ghi          Good morning loves! Like my braids again?                \n13c3bc5         Redhead Wife in my Little Black Dress! [F]                \n13dcf19                         Messy hair, cannot care 😹💚                \n...                                                    ...     ...  ...   \n13g70ma                                         Song Yu Qi                \n13g9d43                                             KitKat                \n13h4frm                 Wwyd if you had a date with elfie?                \n13ic6oa                        Radiant Smile! - Sri Lankan                \n13icw40                                         Song Yu Qi                \n\n                                                 permalink   \nid                                                           \n13azmti  /r/SFWRedheads/comments/13azmti/im_going_out_f...  \\\n13b0cv0     /r/SFWRedheads/comments/13b0cv0/up_for_a_trip/   \n13b2ghi  /r/SFWRedheads/comments/13b2ghi/good_morning_l...   \n13c3bc5  /r/SFWRedheads/comments/13c3bc5/redhead_wife_i...   \n13dcf19  /r/SFWRedheads/comments/13dcf19/messy_hair_can...   \n...                                                    ...   \n13g70ma  /r/AesPleasingAsianGirls/comments/13g70ma/song...   \n13g9d43  /r/AesPleasingAsianGirls/comments/13g9d43/kitkat/   \n13h4frm  /r/AesPleasingAsianGirls/comments/13h4frm/wwyd...   \n13ic6oa  /r/AesPleasingAsianGirls/comments/13ic6oa/radi...   \n13icw40  /r/AesPleasingAsianGirls/comments/13icw40/song...   \n\n                                              original_url   image_name   \nid                                                                        \n13azmti                https://i.redd.it/ktflvdzo1iya1.jpg  13azmti.jpg  \\\n13b0cv0  https://i.redgifs.com/i/neighboringmediumgolde...  13b0cv0.jpg   \n13b2ghi                https://i.redd.it/cpe6hy2h2hya1.jpg  13b2ghi.jpg   \n13c3bc5  https://i.redgifs.com/i/admiredoutstandingpape...  13c3bc5.jpg   \n13dcf19                https://i.redd.it/alhlwwlp6yya1.jpg  13dcf19.jpg   \n...                                                    ...          ...   \n13g70ma                https://i.redd.it/m86fb2tugkza1.jpg  13g70ma.jpg   \n13g9d43                https://i.redd.it/bekk940j2lza1.jpg  13g9d43.jpg   \n13h4frm                https://i.redd.it/c08d0u2n6sza1.jpg  13h4frm.jpg   \n13ic6oa                https://i.redd.it/85aw0ana720b1.jpg  13ic6oa.jpg   \n13icw40                https://i.redd.it/ps6qly5dc20b1.jpg  13icw40.jpg   \n\n                           path               model  exists  curated accept   \nid                                                                            \n13azmti  data/image/13azmti.jpg    RedHeadDiffusion    True    False  False  \\\n13b0cv0                            RedHeadDiffusion   False    False  False   \n13b2ghi  data/image/13b2ghi.jpg    RedHeadDiffusion    True    False  False   \n13c3bc5                            RedHeadDiffusion   False    False  False   \n13dcf19  data/image/13dcf19.jpg    RedHeadDiffusion    True    False  False   \n...                         ...                 ...     ...      ...    ...   \n13g70ma  data/image/13g70ma.jpg  SexyAsianDiffusion    True    False  False   \n13g9d43  data/image/13g9d43.jpg  SexyAsianDiffusion    True    False  False   \n13h4frm  data/image/13h4frm.jpg  SexyAsianDiffusion    True    False  False   \n13ic6oa  data/image/13ic6oa.jpg  SexyAsianDiffusion    True    False  False   \n13icw40  data/image/13icw40.jpg  SexyAsianDiffusion    True    False  False   \n\n        tags  \nid            \n13azmti   []  \n13b0cv0   []  \n13b2ghi   []  \n13c3bc5   []  \n13dcf19   []  \n...      ...  \n13g70ma   []  \n13g9d43   []  \n13h4frm   []  \n13ic6oa   []  \n13icw40   []  \n\n[1244 rows x 15 columns]",
      "text/html": "<div>\n<style scoped>\n    .dataframe tbody tr th:only-of-type {\n        vertical-align: middle;\n    }\n\n    .dataframe tbody tr th {\n        vertical-align: top;\n    }\n\n    .dataframe thead th {\n        text-align: right;\n    }\n</style>\n<table border=\"1\" class=\"dataframe\">\n  <thead>\n    <tr style=\"text-align: right;\">\n      <th></th>\n      <th>id</th>\n      <th>subreddit</th>\n      <th>author</th>\n      <th>title</th>\n      <th>caption</th>\n      <th>hash</th>\n      <th>permalink</th>\n      <th>original_url</th>\n      <th>image_name</th>\n      <th>path</th>\n      <th>model</th>\n      <th>exists</th>\n      <th>curated</th>\n      <th>accept</th>\n      <th>tags</th>\n    </tr>\n    <tr>\n      <th>id</th>\n      <th></th>\n      <th></th>\n      <th></th>\n      <th></th>\n      <th></th>\n      <th></th>\n      <th></th>\n      <th></th>\n      <th></th>\n      <th></th>\n      <th></th>\n      <th></th>\n      <th></th>\n      <th></th>\n      <th></th>\n    </tr>\n  </thead>\n  <tbody>\n    <tr>\n      <th>13azmti</th>\n      <td>13azmti</td>\n      <td>SFWRedheads</td>\n      <td>Scarlett_somebody</td>\n      <td>I’m going out for the first time in so long! W...</td>\n      <td></td>\n      <td></td>\n      <td>/r/SFWRedheads/comments/13azmti/im_going_out_f...</td>\n      <td>https://i.redd.it/ktflvdzo1iya1.jpg</td>\n      <td>13azmti.jpg</td>\n      <td>data/image/13azmti.jpg</td>\n      <td>RedHeadDiffusion</td>\n      <td>True</td>\n      <td>False</td>\n      <td>False</td>\n      <td>[]</td>\n    </tr>\n    <tr>\n      <th>13b0cv0</th>\n      <td>13b0cv0</td>\n      <td>SFWRedheads</td>\n      <td>RedWicked91</td>\n      <td>Up for a trip?😁</td>\n      <td></td>\n      <td></td>\n      <td>/r/SFWRedheads/comments/13b0cv0/up_for_a_trip/</td>\n      <td>https://i.redgifs.com/i/neighboringmediumgolde...</td>\n      <td>13b0cv0.jpg</td>\n      <td></td>\n      <td>RedHeadDiffusion</td>\n      <td>False</td>\n      <td>False</td>\n      <td>False</td>\n      <td>[]</td>\n    </tr>\n    <tr>\n      <th>13b2ghi</th>\n      <td>13b2ghi</td>\n      <td>SFWRedheads</td>\n      <td>Powerful_Frame9794</td>\n      <td>Good morning loves! Like my braids again?</td>\n      <td></td>\n      <td></td>\n      <td>/r/SFWRedheads/comments/13b2ghi/good_morning_l...</td>\n      <td>https://i.redd.it/cpe6hy2h2hya1.jpg</td>\n      <td>13b2ghi.jpg</td>\n      <td>data/image/13b2ghi.jpg</td>\n      <td>RedHeadDiffusion</td>\n      <td>True</td>\n      <td>False</td>\n      <td>False</td>\n      <td>[]</td>\n    </tr>\n    <tr>\n      <th>13c3bc5</th>\n      <td>13c3bc5</td>\n      <td>SFWRedheads</td>\n      <td>Redhotwife88</td>\n      <td>Redhead Wife in my Little Black Dress! [F]</td>\n      <td></td>\n      <td></td>\n      <td>/r/SFWRedheads/comments/13c3bc5/redhead_wife_i...</td>\n      <td>https://i.redgifs.com/i/admiredoutstandingpape...</td>\n      <td>13c3bc5.jpg</td>\n      <td></td>\n      <td>RedHeadDiffusion</td>\n      <td>False</td>\n      <td>False</td>\n      <td>False</td>\n      <td>[]</td>\n    </tr>\n    <tr>\n      <th>13dcf19</th>\n      <td>13dcf19</td>\n      <td>SFWRedheads</td>\n      <td>Scarlett_somebody</td>\n      <td>Messy hair, cannot care 😹💚</td>\n      <td></td>\n      <td></td>\n      <td>/r/SFWRedheads/comments/13dcf19/messy_hair_can...</td>\n      <td>https://i.redd.it/alhlwwlp6yya1.jpg</td>\n      <td>13dcf19.jpg</td>\n      <td>data/image/13dcf19.jpg</td>\n      <td>RedHeadDiffusion</td>\n      <td>True</td>\n      <td>False</td>\n      <td>False</td>\n      <td>[]</td>\n    </tr>\n    <tr>\n      <th>...</th>\n      <td>...</td>\n      <td>...</td>\n      <td>...</td>\n      <td>...</td>\n      <td>...</td>\n      <td>...</td>\n      <td>...</td>\n      <td>...</td>\n      <td>...</td>\n      <td>...</td>\n      <td>...</td>\n      <td>...</td>\n      <td>...</td>\n      <td>...</td>\n      <td>...</td>\n    </tr>\n    <tr>\n      <th>13g70ma</th>\n      <td>13g70ma</td>\n      <td>AesPleasingAsianGirls</td>\n      <td>yummybanchan</td>\n      <td>Song Yu Qi</td>\n      <td></td>\n      <td></td>\n      <td>/r/AesPleasingAsianGirls/comments/13g70ma/song...</td>\n      <td>https://i.redd.it/m86fb2tugkza1.jpg</td>\n      <td>13g70ma.jpg</td>\n      <td>data/image/13g70ma.jpg</td>\n      <td>SexyAsianDiffusion</td>\n      <td>True</td>\n      <td>False</td>\n      <td>False</td>\n      <td>[]</td>\n    </tr>\n    <tr>\n      <th>13g9d43</th>\n      <td>13g9d43</td>\n      <td>AesPleasingAsianGirls</td>\n      <td>ExperienceOver7707</td>\n      <td>KitKat</td>\n      <td></td>\n      <td></td>\n      <td>/r/AesPleasingAsianGirls/comments/13g9d43/kitkat/</td>\n      <td>https://i.redd.it/bekk940j2lza1.jpg</td>\n      <td>13g9d43.jpg</td>\n      <td>data/image/13g9d43.jpg</td>\n      <td>SexyAsianDiffusion</td>\n      <td>True</td>\n      <td>False</td>\n      <td>False</td>\n      <td>[]</td>\n    </tr>\n    <tr>\n      <th>13h4frm</th>\n      <td>13h4frm</td>\n      <td>AesPleasingAsianGirls</td>\n      <td>No_Slide3921</td>\n      <td>Wwyd if you had a date with elfie?</td>\n      <td></td>\n      <td></td>\n      <td>/r/AesPleasingAsianGirls/comments/13h4frm/wwyd...</td>\n      <td>https://i.redd.it/c08d0u2n6sza1.jpg</td>\n      <td>13h4frm.jpg</td>\n      <td>data/image/13h4frm.jpg</td>\n      <td>SexyAsianDiffusion</td>\n      <td>True</td>\n      <td>False</td>\n      <td>False</td>\n      <td>[]</td>\n    </tr>\n    <tr>\n      <th>13ic6oa</th>\n      <td>13ic6oa</td>\n      <td>AesPleasingAsianGirls</td>\n      <td>notyouraveragehero88</td>\n      <td>Radiant Smile! - Sri Lankan</td>\n      <td></td>\n      <td></td>\n      <td>/r/AesPleasingAsianGirls/comments/13ic6oa/radi...</td>\n      <td>https://i.redd.it/85aw0ana720b1.jpg</td>\n      <td>13ic6oa.jpg</td>\n      <td>data/image/13ic6oa.jpg</td>\n      <td>SexyAsianDiffusion</td>\n      <td>True</td>\n      <td>False</td>\n      <td>False</td>\n      <td>[]</td>\n    </tr>\n    <tr>\n      <th>13icw40</th>\n      <td>13icw40</td>\n      <td>AesPleasingAsianGirls</td>\n      <td>yummybanchan</td>\n      <td>Song Yu Qi</td>\n      <td></td>\n      <td></td>\n      <td>/r/AesPleasingAsianGirls/comments/13icw40/song...</td>\n      <td>https://i.redd.it/ps6qly5dc20b1.jpg</td>\n      <td>13icw40.jpg</td>\n      <td>data/image/13icw40.jpg</td>\n      <td>SexyAsianDiffusion</td>\n      <td>True</td>\n      <td>False</td>\n      <td>False</td>\n      <td>[]</td>\n    </tr>\n  </tbody>\n</table>\n<p>1244 rows × 15 columns</p>\n</div>"
     },
     "metadata": {},
     "output_type": "display_data"
    },
    {
     "name": "stdout",
     "output_type": "stream",
     "text": [
      "CPU times: total: 156 ms\n",
      "Wall time: 453 ms\n"
     ]
    }
   ],
   "source": [
    "%%time\n",
    "\n",
    "filtered['exists'] = filtered.progress_apply(lambda x: functions.set_exists(x), axis=1)\n",
    "\n",
    "display(\"== Filtered Data With Exists ==\")\n",
    "display(filtered.shape)\n",
    "display(filtered)"
   ],
   "metadata": {
    "collapsed": false,
    "ExecuteTime": {
     "end_time": "2023-05-15T21:12:17.035725100Z",
     "start_time": "2023-05-15T21:12:15.519829100Z"
    }
   }
  },
  {
   "cell_type": "code",
   "execution_count": 15,
   "outputs": [
    {
     "name": "stderr",
     "output_type": "stream",
     "text": [
      "Progress: 100%|██████████| 1244/1244 [00:07<00:00, 169.09it/s]\n",
      "<timed exec>:1: SettingWithCopyWarning: \n",
      "A value is trying to be set on a copy of a slice from a DataFrame.\n",
      "Try using .loc[row_indexer,col_indexer] = value instead\n",
      "\n",
      "See the caveats in the documentation: https://pandas.pydata.org/pandas-docs/stable/user_guide/indexing.html#returning-a-view-versus-a-copy\n"
     ]
    },
    {
     "data": {
      "text/plain": "'== Filtered Data With Hash =='"
     },
     "metadata": {},
     "output_type": "display_data"
    },
    {
     "data": {
      "text/plain": "(1244, 15)"
     },
     "metadata": {},
     "output_type": "display_data"
    },
    {
     "data": {
      "text/plain": "              id              subreddit                author   \nid                                                              \n13azmti  13azmti            SFWRedheads     Scarlett_somebody  \\\n13b0cv0  13b0cv0            SFWRedheads           RedWicked91   \n13b2ghi  13b2ghi            SFWRedheads    Powerful_Frame9794   \n13c3bc5  13c3bc5            SFWRedheads          Redhotwife88   \n13dcf19  13dcf19            SFWRedheads     Scarlett_somebody   \n...          ...                    ...                   ...   \n13g70ma  13g70ma  AesPleasingAsianGirls          yummybanchan   \n13g9d43  13g9d43  AesPleasingAsianGirls    ExperienceOver7707   \n13h4frm  13h4frm  AesPleasingAsianGirls          No_Slide3921   \n13ic6oa  13ic6oa  AesPleasingAsianGirls  notyouraveragehero88   \n13icw40  13icw40  AesPleasingAsianGirls          yummybanchan   \n\n                                                     title caption   \nid                                                                   \n13azmti  I’m going out for the first time in so long! W...          \\\n13b0cv0                                    Up for a trip?😁           \n13b2ghi          Good morning loves! Like my braids again?           \n13c3bc5         Redhead Wife in my Little Black Dress! [F]           \n13dcf19                         Messy hair, cannot care 😹💚           \n...                                                    ...     ...   \n13g70ma                                         Song Yu Qi           \n13g9d43                                             KitKat           \n13h4frm                 Wwyd if you had a date with elfie?           \n13ic6oa                        Radiant Smile! - Sri Lankan           \n13icw40                                         Song Yu Qi           \n\n                                     hash   \nid                                          \n13azmti  1d176a4d01d33d41d1e333a883ad37b5  \\\n13b0cv0                                     \n13b2ghi  d0d31e82e07a8ef0ca177c1b8657a5ec   \n13c3bc5                                     \n13dcf19  3b6546176b2d9e39c53fd0674ed7c734   \n...                                   ...   \n13g70ma  c0ae1c6550ea4a077ed704c04f6ecaf7   \n13g9d43  2594e389e9b167cd7cc996c5be6302a9   \n13h4frm  d5d369461053f80a685cadf0fbbc9e37   \n13ic6oa  083a423366e3ba6a31b37393dc112fce   \n13icw40  e0fac8effa20354f65549b58acee6eb3   \n\n                                                 permalink   \nid                                                           \n13azmti  /r/SFWRedheads/comments/13azmti/im_going_out_f...  \\\n13b0cv0     /r/SFWRedheads/comments/13b0cv0/up_for_a_trip/   \n13b2ghi  /r/SFWRedheads/comments/13b2ghi/good_morning_l...   \n13c3bc5  /r/SFWRedheads/comments/13c3bc5/redhead_wife_i...   \n13dcf19  /r/SFWRedheads/comments/13dcf19/messy_hair_can...   \n...                                                    ...   \n13g70ma  /r/AesPleasingAsianGirls/comments/13g70ma/song...   \n13g9d43  /r/AesPleasingAsianGirls/comments/13g9d43/kitkat/   \n13h4frm  /r/AesPleasingAsianGirls/comments/13h4frm/wwyd...   \n13ic6oa  /r/AesPleasingAsianGirls/comments/13ic6oa/radi...   \n13icw40  /r/AesPleasingAsianGirls/comments/13icw40/song...   \n\n                                              original_url   image_name   \nid                                                                        \n13azmti                https://i.redd.it/ktflvdzo1iya1.jpg  13azmti.jpg  \\\n13b0cv0  https://i.redgifs.com/i/neighboringmediumgolde...  13b0cv0.jpg   \n13b2ghi                https://i.redd.it/cpe6hy2h2hya1.jpg  13b2ghi.jpg   \n13c3bc5  https://i.redgifs.com/i/admiredoutstandingpape...  13c3bc5.jpg   \n13dcf19                https://i.redd.it/alhlwwlp6yya1.jpg  13dcf19.jpg   \n...                                                    ...          ...   \n13g70ma                https://i.redd.it/m86fb2tugkza1.jpg  13g70ma.jpg   \n13g9d43                https://i.redd.it/bekk940j2lza1.jpg  13g9d43.jpg   \n13h4frm                https://i.redd.it/c08d0u2n6sza1.jpg  13h4frm.jpg   \n13ic6oa                https://i.redd.it/85aw0ana720b1.jpg  13ic6oa.jpg   \n13icw40                https://i.redd.it/ps6qly5dc20b1.jpg  13icw40.jpg   \n\n                           path               model  exists  curated accept   \nid                                                                            \n13azmti  data/image/13azmti.jpg    RedHeadDiffusion    True    False  False  \\\n13b0cv0                            RedHeadDiffusion   False    False  False   \n13b2ghi  data/image/13b2ghi.jpg    RedHeadDiffusion    True    False  False   \n13c3bc5                            RedHeadDiffusion   False    False  False   \n13dcf19  data/image/13dcf19.jpg    RedHeadDiffusion    True    False  False   \n...                         ...                 ...     ...      ...    ...   \n13g70ma  data/image/13g70ma.jpg  SexyAsianDiffusion    True    False  False   \n13g9d43  data/image/13g9d43.jpg  SexyAsianDiffusion    True    False  False   \n13h4frm  data/image/13h4frm.jpg  SexyAsianDiffusion    True    False  False   \n13ic6oa  data/image/13ic6oa.jpg  SexyAsianDiffusion    True    False  False   \n13icw40  data/image/13icw40.jpg  SexyAsianDiffusion    True    False  False   \n\n        tags  \nid            \n13azmti   []  \n13b0cv0   []  \n13b2ghi   []  \n13c3bc5   []  \n13dcf19   []  \n...      ...  \n13g70ma   []  \n13g9d43   []  \n13h4frm   []  \n13ic6oa   []  \n13icw40   []  \n\n[1244 rows x 15 columns]",
      "text/html": "<div>\n<style scoped>\n    .dataframe tbody tr th:only-of-type {\n        vertical-align: middle;\n    }\n\n    .dataframe tbody tr th {\n        vertical-align: top;\n    }\n\n    .dataframe thead th {\n        text-align: right;\n    }\n</style>\n<table border=\"1\" class=\"dataframe\">\n  <thead>\n    <tr style=\"text-align: right;\">\n      <th></th>\n      <th>id</th>\n      <th>subreddit</th>\n      <th>author</th>\n      <th>title</th>\n      <th>caption</th>\n      <th>hash</th>\n      <th>permalink</th>\n      <th>original_url</th>\n      <th>image_name</th>\n      <th>path</th>\n      <th>model</th>\n      <th>exists</th>\n      <th>curated</th>\n      <th>accept</th>\n      <th>tags</th>\n    </tr>\n    <tr>\n      <th>id</th>\n      <th></th>\n      <th></th>\n      <th></th>\n      <th></th>\n      <th></th>\n      <th></th>\n      <th></th>\n      <th></th>\n      <th></th>\n      <th></th>\n      <th></th>\n      <th></th>\n      <th></th>\n      <th></th>\n      <th></th>\n    </tr>\n  </thead>\n  <tbody>\n    <tr>\n      <th>13azmti</th>\n      <td>13azmti</td>\n      <td>SFWRedheads</td>\n      <td>Scarlett_somebody</td>\n      <td>I’m going out for the first time in so long! W...</td>\n      <td></td>\n      <td>1d176a4d01d33d41d1e333a883ad37b5</td>\n      <td>/r/SFWRedheads/comments/13azmti/im_going_out_f...</td>\n      <td>https://i.redd.it/ktflvdzo1iya1.jpg</td>\n      <td>13azmti.jpg</td>\n      <td>data/image/13azmti.jpg</td>\n      <td>RedHeadDiffusion</td>\n      <td>True</td>\n      <td>False</td>\n      <td>False</td>\n      <td>[]</td>\n    </tr>\n    <tr>\n      <th>13b0cv0</th>\n      <td>13b0cv0</td>\n      <td>SFWRedheads</td>\n      <td>RedWicked91</td>\n      <td>Up for a trip?😁</td>\n      <td></td>\n      <td></td>\n      <td>/r/SFWRedheads/comments/13b0cv0/up_for_a_trip/</td>\n      <td>https://i.redgifs.com/i/neighboringmediumgolde...</td>\n      <td>13b0cv0.jpg</td>\n      <td></td>\n      <td>RedHeadDiffusion</td>\n      <td>False</td>\n      <td>False</td>\n      <td>False</td>\n      <td>[]</td>\n    </tr>\n    <tr>\n      <th>13b2ghi</th>\n      <td>13b2ghi</td>\n      <td>SFWRedheads</td>\n      <td>Powerful_Frame9794</td>\n      <td>Good morning loves! Like my braids again?</td>\n      <td></td>\n      <td>d0d31e82e07a8ef0ca177c1b8657a5ec</td>\n      <td>/r/SFWRedheads/comments/13b2ghi/good_morning_l...</td>\n      <td>https://i.redd.it/cpe6hy2h2hya1.jpg</td>\n      <td>13b2ghi.jpg</td>\n      <td>data/image/13b2ghi.jpg</td>\n      <td>RedHeadDiffusion</td>\n      <td>True</td>\n      <td>False</td>\n      <td>False</td>\n      <td>[]</td>\n    </tr>\n    <tr>\n      <th>13c3bc5</th>\n      <td>13c3bc5</td>\n      <td>SFWRedheads</td>\n      <td>Redhotwife88</td>\n      <td>Redhead Wife in my Little Black Dress! [F]</td>\n      <td></td>\n      <td></td>\n      <td>/r/SFWRedheads/comments/13c3bc5/redhead_wife_i...</td>\n      <td>https://i.redgifs.com/i/admiredoutstandingpape...</td>\n      <td>13c3bc5.jpg</td>\n      <td></td>\n      <td>RedHeadDiffusion</td>\n      <td>False</td>\n      <td>False</td>\n      <td>False</td>\n      <td>[]</td>\n    </tr>\n    <tr>\n      <th>13dcf19</th>\n      <td>13dcf19</td>\n      <td>SFWRedheads</td>\n      <td>Scarlett_somebody</td>\n      <td>Messy hair, cannot care 😹💚</td>\n      <td></td>\n      <td>3b6546176b2d9e39c53fd0674ed7c734</td>\n      <td>/r/SFWRedheads/comments/13dcf19/messy_hair_can...</td>\n      <td>https://i.redd.it/alhlwwlp6yya1.jpg</td>\n      <td>13dcf19.jpg</td>\n      <td>data/image/13dcf19.jpg</td>\n      <td>RedHeadDiffusion</td>\n      <td>True</td>\n      <td>False</td>\n      <td>False</td>\n      <td>[]</td>\n    </tr>\n    <tr>\n      <th>...</th>\n      <td>...</td>\n      <td>...</td>\n      <td>...</td>\n      <td>...</td>\n      <td>...</td>\n      <td>...</td>\n      <td>...</td>\n      <td>...</td>\n      <td>...</td>\n      <td>...</td>\n      <td>...</td>\n      <td>...</td>\n      <td>...</td>\n      <td>...</td>\n      <td>...</td>\n    </tr>\n    <tr>\n      <th>13g70ma</th>\n      <td>13g70ma</td>\n      <td>AesPleasingAsianGirls</td>\n      <td>yummybanchan</td>\n      <td>Song Yu Qi</td>\n      <td></td>\n      <td>c0ae1c6550ea4a077ed704c04f6ecaf7</td>\n      <td>/r/AesPleasingAsianGirls/comments/13g70ma/song...</td>\n      <td>https://i.redd.it/m86fb2tugkza1.jpg</td>\n      <td>13g70ma.jpg</td>\n      <td>data/image/13g70ma.jpg</td>\n      <td>SexyAsianDiffusion</td>\n      <td>True</td>\n      <td>False</td>\n      <td>False</td>\n      <td>[]</td>\n    </tr>\n    <tr>\n      <th>13g9d43</th>\n      <td>13g9d43</td>\n      <td>AesPleasingAsianGirls</td>\n      <td>ExperienceOver7707</td>\n      <td>KitKat</td>\n      <td></td>\n      <td>2594e389e9b167cd7cc996c5be6302a9</td>\n      <td>/r/AesPleasingAsianGirls/comments/13g9d43/kitkat/</td>\n      <td>https://i.redd.it/bekk940j2lza1.jpg</td>\n      <td>13g9d43.jpg</td>\n      <td>data/image/13g9d43.jpg</td>\n      <td>SexyAsianDiffusion</td>\n      <td>True</td>\n      <td>False</td>\n      <td>False</td>\n      <td>[]</td>\n    </tr>\n    <tr>\n      <th>13h4frm</th>\n      <td>13h4frm</td>\n      <td>AesPleasingAsianGirls</td>\n      <td>No_Slide3921</td>\n      <td>Wwyd if you had a date with elfie?</td>\n      <td></td>\n      <td>d5d369461053f80a685cadf0fbbc9e37</td>\n      <td>/r/AesPleasingAsianGirls/comments/13h4frm/wwyd...</td>\n      <td>https://i.redd.it/c08d0u2n6sza1.jpg</td>\n      <td>13h4frm.jpg</td>\n      <td>data/image/13h4frm.jpg</td>\n      <td>SexyAsianDiffusion</td>\n      <td>True</td>\n      <td>False</td>\n      <td>False</td>\n      <td>[]</td>\n    </tr>\n    <tr>\n      <th>13ic6oa</th>\n      <td>13ic6oa</td>\n      <td>AesPleasingAsianGirls</td>\n      <td>notyouraveragehero88</td>\n      <td>Radiant Smile! - Sri Lankan</td>\n      <td></td>\n      <td>083a423366e3ba6a31b37393dc112fce</td>\n      <td>/r/AesPleasingAsianGirls/comments/13ic6oa/radi...</td>\n      <td>https://i.redd.it/85aw0ana720b1.jpg</td>\n      <td>13ic6oa.jpg</td>\n      <td>data/image/13ic6oa.jpg</td>\n      <td>SexyAsianDiffusion</td>\n      <td>True</td>\n      <td>False</td>\n      <td>False</td>\n      <td>[]</td>\n    </tr>\n    <tr>\n      <th>13icw40</th>\n      <td>13icw40</td>\n      <td>AesPleasingAsianGirls</td>\n      <td>yummybanchan</td>\n      <td>Song Yu Qi</td>\n      <td></td>\n      <td>e0fac8effa20354f65549b58acee6eb3</td>\n      <td>/r/AesPleasingAsianGirls/comments/13icw40/song...</td>\n      <td>https://i.redd.it/ps6qly5dc20b1.jpg</td>\n      <td>13icw40.jpg</td>\n      <td>data/image/13icw40.jpg</td>\n      <td>SexyAsianDiffusion</td>\n      <td>True</td>\n      <td>False</td>\n      <td>False</td>\n      <td>[]</td>\n    </tr>\n  </tbody>\n</table>\n<p>1244 rows × 15 columns</p>\n</div>"
     },
     "metadata": {},
     "output_type": "display_data"
    },
    {
     "name": "stdout",
     "output_type": "stream",
     "text": [
      "CPU times: total: 1.8 s\n",
      "Wall time: 7.54 s\n"
     ]
    }
   ],
   "source": [
    "%%time\n",
    "\n",
    "filtered['hash'] = filtered.progress_apply(lambda x: functions.set_hash(x), axis=1)\n",
    "\n",
    "display(\"== Filtered Data With Hash ==\")\n",
    "display(filtered.shape)\n",
    "display(filtered)"
   ],
   "metadata": {
    "collapsed": false,
    "ExecuteTime": {
     "end_time": "2023-05-15T21:12:24.314558700Z",
     "start_time": "2023-05-15T21:12:16.129204500Z"
    }
   }
  },
  {
   "cell_type": "code",
   "execution_count": 16,
   "outputs": [
    {
     "data": {
      "text/plain": "Downloading (…)rocessor_config.json:   0%|          | 0.00/445 [00:00<?, ?B/s]",
      "application/vnd.jupyter.widget-view+json": {
       "version_major": 2,
       "version_minor": 0,
       "model_id": "bf41d125ffe347908f4c068715a2a326"
      }
     },
     "metadata": {},
     "output_type": "display_data"
    },
    {
     "name": "stderr",
     "output_type": "stream",
     "text": [
      "C:\\Users\\ajsta\\PycharmProjects\\simple-image-collection\\venv\\lib\\site-packages\\huggingface_hub\\file_download.py:133: UserWarning: `huggingface_hub` cache-system uses symlinks by default to efficiently store duplicated files but your machine does not support them in C:\\Users\\ajsta\\.cache\\huggingface\\hub. Caching files will still work but in a degraded version that might require more space on your disk. This warning can be disabled by setting the `HF_HUB_DISABLE_SYMLINKS_WARNING` environment variable. For more details, see https://huggingface.co/docs/huggingface_hub/how-to-cache#limitations.\n",
      "To support symlinks on Windows, you either need to activate Developer Mode or to run Python as an administrator. In order to see activate developer mode, see this article: https://docs.microsoft.com/en-us/windows/apps/get-started/enable-your-device-for-development\n",
      "  warnings.warn(message)\n"
     ]
    },
    {
     "data": {
      "text/plain": "Downloading (…)okenizer_config.json:   0%|          | 0.00/456 [00:00<?, ?B/s]",
      "application/vnd.jupyter.widget-view+json": {
       "version_major": 2,
       "version_minor": 0,
       "model_id": "11df7d30ce324250bcdc95a5bc1e1323"
      }
     },
     "metadata": {},
     "output_type": "display_data"
    },
    {
     "data": {
      "text/plain": "Downloading (…)solve/main/vocab.txt:   0%|          | 0.00/232k [00:00<?, ?B/s]",
      "application/vnd.jupyter.widget-view+json": {
       "version_major": 2,
       "version_minor": 0,
       "model_id": "7fcb6956eeb94ef69516833be4bb275a"
      }
     },
     "metadata": {},
     "output_type": "display_data"
    },
    {
     "data": {
      "text/plain": "Downloading (…)/main/tokenizer.json:   0%|          | 0.00/711k [00:00<?, ?B/s]",
      "application/vnd.jupyter.widget-view+json": {
       "version_major": 2,
       "version_minor": 0,
       "model_id": "59441dd16e324827a251028de3cd748d"
      }
     },
     "metadata": {},
     "output_type": "display_data"
    },
    {
     "data": {
      "text/plain": "Downloading (…)cial_tokens_map.json:   0%|          | 0.00/125 [00:00<?, ?B/s]",
      "application/vnd.jupyter.widget-view+json": {
       "version_major": 2,
       "version_minor": 0,
       "model_id": "c0ca64250e2b45a99af8e398658a6c2e"
      }
     },
     "metadata": {},
     "output_type": "display_data"
    },
    {
     "data": {
      "text/plain": "Downloading (…)lve/main/config.json:   0%|          | 0.00/4.60k [00:00<?, ?B/s]",
      "application/vnd.jupyter.widget-view+json": {
       "version_major": 2,
       "version_minor": 0,
       "model_id": "4817ba985d294fa9bb0e6d39e296e15f"
      }
     },
     "metadata": {},
     "output_type": "display_data"
    },
    {
     "data": {
      "text/plain": "Downloading pytorch_model.bin:   0%|          | 0.00/1.88G [00:00<?, ?B/s]",
      "application/vnd.jupyter.widget-view+json": {
       "version_major": 2,
       "version_minor": 0,
       "model_id": "940f9f11e28144bba4694c6bfc832ced"
      }
     },
     "metadata": {},
     "output_type": "display_data"
    },
    {
     "name": "stdout",
     "output_type": "stream",
     "text": [
      "CPU times: total: 41.9 s\n",
      "Wall time: 19min 19s\n"
     ]
    }
   ],
   "source": [
    "%%time\n",
    "import torch\n",
    "if torch.cuda.is_available():\n",
    "\tcaption_0 = BlipCaption(\"cuda\")\n",
    "\tcaption_1 = BlipCaption(\"cuda\")\n",
    "else:\n",
    "\tcaption_0 = BlipCaption(\"cpu\")\n",
    "\tcaption_1 = BlipCaption(\"cpu\")"
   ],
   "metadata": {
    "collapsed": false,
    "ExecuteTime": {
     "end_time": "2023-05-15T21:31:43.619911600Z",
     "start_time": "2023-05-15T21:12:24.267682900Z"
    }
   }
  },
  {
   "cell_type": "code",
   "execution_count": 17,
   "outputs": [
    {
     "name": "stderr",
     "output_type": "stream",
     "text": [
      "Progress:   0%|          | 4/1244 [00:02<12:13,  1.69it/s]"
     ]
    },
    {
     "name": "stdout",
     "output_type": "stream",
     "text": [
      "\"slow_conv2d_cpu\" not implemented for 'Half'\n",
      "\"slow_conv2d_cpu\" not implemented for 'Half'\n"
     ]
    },
    {
     "name": "stderr",
     "output_type": "stream",
     "text": [
      "Progress:   0%|          | 6/1244 [00:03<07:37,  2.71it/s]"
     ]
    },
    {
     "name": "stdout",
     "output_type": "stream",
     "text": [
      "\"slow_conv2d_cpu\" not implemented for 'Half'\n"
     ]
    },
    {
     "name": "stderr",
     "output_type": "stream",
     "text": [
      "Progress:   1%|          | 8/1244 [00:04<11:21,  1.81it/s]"
     ]
    },
    {
     "name": "stdout",
     "output_type": "stream",
     "text": [
      "\"slow_conv2d_cpu\" not implemented for 'Half'\n",
      "\"slow_conv2d_cpu\" not implemented for 'Half'\n"
     ]
    },
    {
     "name": "stderr",
     "output_type": "stream",
     "text": [
      "Progress:   1%|          | 9/1244 [00:05<12:36,  1.63it/s]"
     ]
    },
    {
     "name": "stdout",
     "output_type": "stream",
     "text": [
      "\"slow_conv2d_cpu\" not implemented for 'Half'\n"
     ]
    },
    {
     "name": "stderr",
     "output_type": "stream",
     "text": [
      "Progress:   1%|          | 10/1244 [00:06<13:19,  1.54it/s]"
     ]
    },
    {
     "name": "stdout",
     "output_type": "stream",
     "text": [
      "\"slow_conv2d_cpu\" not implemented for 'Half'\n"
     ]
    },
    {
     "name": "stderr",
     "output_type": "stream",
     "text": [
      "Progress:   1%|          | 11/1244 [00:07<15:24,  1.33it/s]"
     ]
    },
    {
     "name": "stdout",
     "output_type": "stream",
     "text": [
      "\"slow_conv2d_cpu\" not implemented for 'Half'\n"
     ]
    },
    {
     "name": "stderr",
     "output_type": "stream",
     "text": [
      "Progress:   1%|          | 12/1244 [00:07<13:53,  1.48it/s]"
     ]
    },
    {
     "name": "stdout",
     "output_type": "stream",
     "text": [
      "\"slow_conv2d_cpu\" not implemented for 'Half'\n"
     ]
    },
    {
     "name": "stderr",
     "output_type": "stream",
     "text": [
      "Progress:   1%|          | 13/1244 [00:08<15:57,  1.29it/s]"
     ]
    },
    {
     "name": "stdout",
     "output_type": "stream",
     "text": [
      "\"slow_conv2d_cpu\" not implemented for 'Half'\n"
     ]
    },
    {
     "name": "stderr",
     "output_type": "stream",
     "text": [
      "Progress:   1%|          | 15/1244 [00:09<11:30,  1.78it/s]"
     ]
    },
    {
     "name": "stdout",
     "output_type": "stream",
     "text": [
      "\"slow_conv2d_cpu\" not implemented for 'Half'\n",
      "\"slow_conv2d_cpu\" not implemented for 'Half'\n"
     ]
    },
    {
     "name": "stderr",
     "output_type": "stream",
     "text": [
      "Progress:   1%|▏         | 17/1244 [00:10<07:39,  2.67it/s]"
     ]
    },
    {
     "name": "stdout",
     "output_type": "stream",
     "text": [
      "\"slow_conv2d_cpu\" not implemented for 'Half'\n",
      "\"slow_conv2d_cpu\" not implemented for 'Half'\n"
     ]
    },
    {
     "name": "stderr",
     "output_type": "stream",
     "text": [
      "Progress:   1%|▏         | 18/1244 [00:10<06:08,  3.32it/s]"
     ]
    },
    {
     "name": "stdout",
     "output_type": "stream",
     "text": [
      "\"slow_conv2d_cpu\" not implemented for 'Half'\n"
     ]
    },
    {
     "name": "stderr",
     "output_type": "stream",
     "text": [
      "Progress:   2%|▏         | 19/1244 [00:10<06:24,  3.19it/s]"
     ]
    },
    {
     "name": "stdout",
     "output_type": "stream",
     "text": [
      "\"slow_conv2d_cpu\" not implemented for 'Half'\n"
     ]
    },
    {
     "name": "stderr",
     "output_type": "stream",
     "text": [
      "Progress:   2%|▏         | 20/1244 [00:10<06:06,  3.34it/s]"
     ]
    },
    {
     "name": "stdout",
     "output_type": "stream",
     "text": [
      "\"slow_conv2d_cpu\" not implemented for 'Half'\n"
     ]
    },
    {
     "name": "stderr",
     "output_type": "stream",
     "text": [
      "Progress:   2%|▏         | 22/1244 [00:11<07:14,  2.81it/s]"
     ]
    },
    {
     "name": "stdout",
     "output_type": "stream",
     "text": [
      "\"slow_conv2d_cpu\" not implemented for 'Half'\n",
      "\"slow_conv2d_cpu\" not implemented for 'Half'\n"
     ]
    },
    {
     "name": "stderr",
     "output_type": "stream",
     "text": [
      "Progress:   2%|▏         | 23/1244 [00:12<07:46,  2.62it/s]"
     ]
    },
    {
     "name": "stdout",
     "output_type": "stream",
     "text": [
      "\"slow_conv2d_cpu\" not implemented for 'Half'\n"
     ]
    },
    {
     "name": "stderr",
     "output_type": "stream",
     "text": [
      "Progress:   2%|▏         | 24/1244 [00:12<08:11,  2.48it/s]"
     ]
    },
    {
     "name": "stdout",
     "output_type": "stream",
     "text": [
      "\"slow_conv2d_cpu\" not implemented for 'Half'\n"
     ]
    },
    {
     "name": "stderr",
     "output_type": "stream",
     "text": [
      "Progress:   2%|▏         | 25/1244 [00:12<08:23,  2.42it/s]"
     ]
    },
    {
     "name": "stdout",
     "output_type": "stream",
     "text": [
      "\"slow_conv2d_cpu\" not implemented for 'Half'\n"
     ]
    },
    {
     "name": "stderr",
     "output_type": "stream",
     "text": [
      "Progress:   2%|▏         | 26/1244 [00:13<08:11,  2.48it/s]"
     ]
    },
    {
     "name": "stdout",
     "output_type": "stream",
     "text": [
      "\"slow_conv2d_cpu\" not implemented for 'Half'\n"
     ]
    },
    {
     "name": "stderr",
     "output_type": "stream",
     "text": [
      "Progress:   2%|▏         | 28/1244 [00:13<06:34,  3.08it/s]"
     ]
    },
    {
     "name": "stdout",
     "output_type": "stream",
     "text": [
      "\"slow_conv2d_cpu\" not implemented for 'Half'\n",
      "\"slow_conv2d_cpu\" not implemented for 'Half'\n"
     ]
    },
    {
     "name": "stderr",
     "output_type": "stream",
     "text": [
      "Progress:   2%|▏         | 29/1244 [00:14<05:28,  3.70it/s]"
     ]
    },
    {
     "name": "stdout",
     "output_type": "stream",
     "text": [
      "\"slow_conv2d_cpu\" not implemented for 'Half'\n"
     ]
    },
    {
     "name": "stderr",
     "output_type": "stream",
     "text": [
      "Progress:   2%|▏         | 30/1244 [00:14<06:31,  3.10it/s]"
     ]
    },
    {
     "name": "stdout",
     "output_type": "stream",
     "text": [
      "\"slow_conv2d_cpu\" not implemented for 'Half'\n"
     ]
    },
    {
     "name": "stderr",
     "output_type": "stream",
     "text": [
      "Progress:   2%|▏         | 31/1244 [00:14<06:12,  3.26it/s]"
     ]
    },
    {
     "name": "stdout",
     "output_type": "stream",
     "text": [
      "\"slow_conv2d_cpu\" not implemented for 'Half'\n",
      "\"slow_conv2d_cpu\" not implemented for 'Half'\n"
     ]
    },
    {
     "name": "stderr",
     "output_type": "stream",
     "text": [
      "Progress:   3%|▎         | 33/1244 [00:15<05:31,  3.66it/s]"
     ]
    },
    {
     "name": "stdout",
     "output_type": "stream",
     "text": [
      "\"slow_conv2d_cpu\" not implemented for 'Half'\n"
     ]
    },
    {
     "name": "stderr",
     "output_type": "stream",
     "text": [
      "Progress:   3%|▎         | 34/1244 [00:15<05:19,  3.79it/s]"
     ]
    },
    {
     "name": "stdout",
     "output_type": "stream",
     "text": [
      "\"slow_conv2d_cpu\" not implemented for 'Half'\n"
     ]
    },
    {
     "name": "stderr",
     "output_type": "stream",
     "text": [
      "Progress:   3%|▎         | 35/1244 [00:15<05:36,  3.60it/s]"
     ]
    },
    {
     "name": "stdout",
     "output_type": "stream",
     "text": [
      "\"slow_conv2d_cpu\" not implemented for 'Half'\n"
     ]
    },
    {
     "name": "stderr",
     "output_type": "stream",
     "text": [
      "Progress:   3%|▎         | 37/1244 [00:16<04:23,  4.58it/s]"
     ]
    },
    {
     "name": "stdout",
     "output_type": "stream",
     "text": [
      "\"slow_conv2d_cpu\" not implemented for 'Half'\n",
      "\"slow_conv2d_cpu\" not implemented for 'Half'\n"
     ]
    },
    {
     "name": "stderr",
     "output_type": "stream",
     "text": [
      "Progress:   3%|▎         | 39/1244 [00:16<03:36,  5.55it/s]"
     ]
    },
    {
     "name": "stdout",
     "output_type": "stream",
     "text": [
      "\"slow_conv2d_cpu\" not implemented for 'Half'\n",
      "\"slow_conv2d_cpu\" not implemented for 'Half'\n"
     ]
    },
    {
     "name": "stderr",
     "output_type": "stream",
     "text": [
      "Progress:   3%|▎         | 41/1244 [00:16<03:51,  5.20it/s]"
     ]
    },
    {
     "name": "stdout",
     "output_type": "stream",
     "text": [
      "\"slow_conv2d_cpu\" not implemented for 'Half'\n",
      "\"slow_conv2d_cpu\" not implemented for 'Half'\n"
     ]
    },
    {
     "name": "stderr",
     "output_type": "stream",
     "text": [
      "Progress:   3%|▎         | 43/1244 [00:17<05:41,  3.51it/s]"
     ]
    },
    {
     "name": "stdout",
     "output_type": "stream",
     "text": [
      "\"slow_conv2d_cpu\" not implemented for 'Half'\n"
     ]
    },
    {
     "name": "stderr",
     "output_type": "stream",
     "text": [
      "Progress:   4%|▎         | 44/1244 [00:17<05:17,  3.78it/s]"
     ]
    },
    {
     "name": "stdout",
     "output_type": "stream",
     "text": [
      "\"slow_conv2d_cpu\" not implemented for 'Half'\n"
     ]
    },
    {
     "name": "stderr",
     "output_type": "stream",
     "text": [
      "Progress:   4%|▎         | 45/1244 [00:17<05:13,  3.83it/s]"
     ]
    },
    {
     "name": "stdout",
     "output_type": "stream",
     "text": [
      "\"slow_conv2d_cpu\" not implemented for 'Half'\n"
     ]
    },
    {
     "name": "stderr",
     "output_type": "stream",
     "text": [
      "Progress:   4%|▎         | 46/1244 [00:18<06:16,  3.18it/s]"
     ]
    },
    {
     "name": "stdout",
     "output_type": "stream",
     "text": [
      "\"slow_conv2d_cpu\" not implemented for 'Half'\n"
     ]
    },
    {
     "name": "stderr",
     "output_type": "stream",
     "text": [
      "Progress:   4%|▍         | 47/1244 [00:18<05:39,  3.53it/s]"
     ]
    },
    {
     "name": "stdout",
     "output_type": "stream",
     "text": [
      "\"slow_conv2d_cpu\" not implemented for 'Half'\n"
     ]
    },
    {
     "name": "stderr",
     "output_type": "stream",
     "text": [
      "Progress:   4%|▍         | 49/1244 [00:19<05:24,  3.68it/s]"
     ]
    },
    {
     "name": "stdout",
     "output_type": "stream",
     "text": [
      "\"slow_conv2d_cpu\" not implemented for 'Half'\n",
      "\"slow_conv2d_cpu\" not implemented for 'Half'\n"
     ]
    },
    {
     "name": "stderr",
     "output_type": "stream",
     "text": [
      "Progress:   4%|▍         | 50/1244 [00:19<04:49,  4.12it/s]"
     ]
    },
    {
     "name": "stdout",
     "output_type": "stream",
     "text": [
      "\"slow_conv2d_cpu\" not implemented for 'Half'\n"
     ]
    },
    {
     "name": "stderr",
     "output_type": "stream",
     "text": [
      "Progress:   4%|▍         | 51/1244 [00:20<07:19,  2.71it/s]"
     ]
    },
    {
     "name": "stdout",
     "output_type": "stream",
     "text": [
      "\"slow_conv2d_cpu\" not implemented for 'Half'\n"
     ]
    },
    {
     "name": "stderr",
     "output_type": "stream",
     "text": [
      "Progress:   4%|▍         | 52/1244 [00:20<09:05,  2.18it/s]"
     ]
    },
    {
     "name": "stdout",
     "output_type": "stream",
     "text": [
      "\"slow_conv2d_cpu\" not implemented for 'Half'\n"
     ]
    },
    {
     "name": "stderr",
     "output_type": "stream",
     "text": [
      "Progress:   4%|▍         | 53/1244 [00:21<08:31,  2.33it/s]"
     ]
    },
    {
     "name": "stdout",
     "output_type": "stream",
     "text": [
      "\"slow_conv2d_cpu\" not implemented for 'Half'\n"
     ]
    },
    {
     "name": "stderr",
     "output_type": "stream",
     "text": [
      "Progress:   4%|▍         | 54/1244 [00:22<12:26,  1.59it/s]"
     ]
    },
    {
     "name": "stdout",
     "output_type": "stream",
     "text": [
      "\"slow_conv2d_cpu\" not implemented for 'Half'\n"
     ]
    },
    {
     "name": "stderr",
     "output_type": "stream",
     "text": [
      "Progress:   4%|▍         | 55/1244 [00:22<11:02,  1.80it/s]"
     ]
    },
    {
     "name": "stdout",
     "output_type": "stream",
     "text": [
      "\"slow_conv2d_cpu\" not implemented for 'Half'\n"
     ]
    },
    {
     "name": "stderr",
     "output_type": "stream",
     "text": [
      "Progress:   5%|▍         | 56/1244 [00:23<10:21,  1.91it/s]"
     ]
    },
    {
     "name": "stdout",
     "output_type": "stream",
     "text": [
      "\"slow_conv2d_cpu\" not implemented for 'Half'\n"
     ]
    },
    {
     "name": "stderr",
     "output_type": "stream",
     "text": [
      "Progress:   5%|▍         | 58/1244 [00:23<07:11,  2.75it/s]"
     ]
    },
    {
     "name": "stdout",
     "output_type": "stream",
     "text": [
      "\"slow_conv2d_cpu\" not implemented for 'Half'\n",
      "\"slow_conv2d_cpu\" not implemented for 'Half'\n"
     ]
    },
    {
     "name": "stderr",
     "output_type": "stream",
     "text": [
      "Progress:   5%|▍         | 59/1244 [00:23<06:08,  3.21it/s]"
     ]
    },
    {
     "name": "stdout",
     "output_type": "stream",
     "text": [
      "\"slow_conv2d_cpu\" not implemented for 'Half'\n"
     ]
    },
    {
     "name": "stderr",
     "output_type": "stream",
     "text": [
      "Progress:   5%|▍         | 60/1244 [00:23<05:52,  3.36it/s]"
     ]
    },
    {
     "name": "stdout",
     "output_type": "stream",
     "text": [
      "\"slow_conv2d_cpu\" not implemented for 'Half'\n"
     ]
    },
    {
     "name": "stderr",
     "output_type": "stream",
     "text": [
      "Progress:   5%|▍         | 61/1244 [00:24<05:18,  3.71it/s]"
     ]
    },
    {
     "name": "stdout",
     "output_type": "stream",
     "text": [
      "\"slow_conv2d_cpu\" not implemented for 'Half'\n"
     ]
    },
    {
     "name": "stderr",
     "output_type": "stream",
     "text": [
      "Progress:   5%|▍         | 62/1244 [00:24<05:46,  3.41it/s]"
     ]
    },
    {
     "name": "stdout",
     "output_type": "stream",
     "text": [
      "\"slow_conv2d_cpu\" not implemented for 'Half'\n"
     ]
    },
    {
     "name": "stderr",
     "output_type": "stream",
     "text": [
      "Progress:   5%|▌         | 63/1244 [00:25<10:15,  1.92it/s]"
     ]
    },
    {
     "name": "stdout",
     "output_type": "stream",
     "text": [
      "\"slow_conv2d_cpu\" not implemented for 'Half'\n",
      "\"slow_conv2d_cpu\" not implemented for 'Half'\n"
     ]
    },
    {
     "name": "stderr",
     "output_type": "stream",
     "text": [
      "Progress:   5%|▌         | 65/1244 [00:25<06:37,  2.97it/s]"
     ]
    },
    {
     "name": "stdout",
     "output_type": "stream",
     "text": [
      "\"slow_conv2d_cpu\" not implemented for 'Half'\n"
     ]
    },
    {
     "name": "stderr",
     "output_type": "stream",
     "text": [
      "Progress:   5%|▌         | 66/1244 [00:26<05:55,  3.32it/s]"
     ]
    },
    {
     "name": "stdout",
     "output_type": "stream",
     "text": [
      "\"slow_conv2d_cpu\" not implemented for 'Half'\n"
     ]
    },
    {
     "name": "stderr",
     "output_type": "stream",
     "text": [
      "Progress:   5%|▌         | 67/1244 [00:26<07:54,  2.48it/s]"
     ]
    },
    {
     "name": "stdout",
     "output_type": "stream",
     "text": [
      "\"slow_conv2d_cpu\" not implemented for 'Half'\n"
     ]
    },
    {
     "name": "stderr",
     "output_type": "stream",
     "text": [
      "Progress:   5%|▌         | 68/1244 [00:26<06:55,  2.83it/s]"
     ]
    },
    {
     "name": "stdout",
     "output_type": "stream",
     "text": [
      "\"slow_conv2d_cpu\" not implemented for 'Half'\n"
     ]
    },
    {
     "name": "stderr",
     "output_type": "stream",
     "text": [
      "Progress:   6%|▌         | 69/1244 [00:27<10:38,  1.84it/s]"
     ]
    },
    {
     "name": "stdout",
     "output_type": "stream",
     "text": [
      "\"slow_conv2d_cpu\" not implemented for 'Half'\n"
     ]
    },
    {
     "name": "stderr",
     "output_type": "stream",
     "text": [
      "Progress:   6%|▌         | 71/1244 [00:29<10:00,  1.95it/s]"
     ]
    },
    {
     "name": "stdout",
     "output_type": "stream",
     "text": [
      "\"slow_conv2d_cpu\" not implemented for 'Half'\n",
      "\"slow_conv2d_cpu\" not implemented for 'Half'\n"
     ]
    },
    {
     "name": "stderr",
     "output_type": "stream",
     "text": [
      "Progress:   6%|▌         | 73/1244 [00:30<09:56,  1.96it/s]"
     ]
    },
    {
     "name": "stdout",
     "output_type": "stream",
     "text": [
      "\"slow_conv2d_cpu\" not implemented for 'Half'\n",
      "\"slow_conv2d_cpu\" not implemented for 'Half'\n"
     ]
    },
    {
     "name": "stderr",
     "output_type": "stream",
     "text": [
      "Progress:   6%|▌         | 76/1244 [00:30<06:03,  3.21it/s]"
     ]
    },
    {
     "name": "stdout",
     "output_type": "stream",
     "text": [
      "\"slow_conv2d_cpu\" not implemented for 'Half'\n",
      "\"slow_conv2d_cpu\" not implemented for 'Half'\n"
     ]
    },
    {
     "name": "stderr",
     "output_type": "stream",
     "text": [
      "Progress:   6%|▌         | 77/1244 [00:30<05:11,  3.75it/s]"
     ]
    },
    {
     "name": "stdout",
     "output_type": "stream",
     "text": [
      "\"slow_conv2d_cpu\" not implemented for 'Half'\n"
     ]
    },
    {
     "name": "stderr",
     "output_type": "stream",
     "text": [
      "Progress:   6%|▋         | 78/1244 [00:32<12:16,  1.58it/s]"
     ]
    },
    {
     "name": "stdout",
     "output_type": "stream",
     "text": [
      "\"slow_conv2d_cpu\" not implemented for 'Half'\n",
      "\"slow_conv2d_cpu\" not implemented for 'Half'\n"
     ]
    },
    {
     "name": "stderr",
     "output_type": "stream",
     "text": [
      "Progress:   6%|▋         | 80/1244 [00:32<09:20,  2.08it/s]"
     ]
    },
    {
     "name": "stdout",
     "output_type": "stream",
     "text": [
      "\"slow_conv2d_cpu\" not implemented for 'Half'\n",
      "\"slow_conv2d_cpu\" not implemented for 'Half'\n"
     ]
    },
    {
     "name": "stderr",
     "output_type": "stream",
     "text": [
      "Progress:   7%|▋         | 83/1244 [00:33<07:05,  2.73it/s]"
     ]
    },
    {
     "name": "stdout",
     "output_type": "stream",
     "text": [
      "\"slow_conv2d_cpu\" not implemented for 'Half'\n",
      "\"slow_conv2d_cpu\" not implemented for 'Half'\n"
     ]
    },
    {
     "name": "stderr",
     "output_type": "stream",
     "text": [
      "Progress:   7%|▋         | 84/1244 [00:34<09:08,  2.11it/s]"
     ]
    },
    {
     "name": "stdout",
     "output_type": "stream",
     "text": [
      "\"slow_conv2d_cpu\" not implemented for 'Half'\n"
     ]
    },
    {
     "name": "stderr",
     "output_type": "stream",
     "text": [
      "Progress:   7%|▋         | 85/1244 [00:35<13:39,  1.41it/s]"
     ]
    },
    {
     "name": "stdout",
     "output_type": "stream",
     "text": [
      "\"slow_conv2d_cpu\" not implemented for 'Half'\n",
      "\"slow_conv2d_cpu\" not implemented for 'Half'\n",
      "\"slow_conv2d_cpu\" not implemented for 'Half'\n"
     ]
    },
    {
     "name": "stderr",
     "output_type": "stream",
     "text": [
      "Progress:   7%|▋         | 88/1244 [00:36<08:09,  2.36it/s]"
     ]
    },
    {
     "name": "stdout",
     "output_type": "stream",
     "text": [
      "\"slow_conv2d_cpu\" not implemented for 'Half'\n"
     ]
    },
    {
     "name": "stderr",
     "output_type": "stream",
     "text": [
      "Progress:   7%|▋         | 89/1244 [00:36<07:54,  2.44it/s]"
     ]
    },
    {
     "name": "stdout",
     "output_type": "stream",
     "text": [
      "\"slow_conv2d_cpu\" not implemented for 'Half'\n"
     ]
    },
    {
     "name": "stderr",
     "output_type": "stream",
     "text": [
      "Progress:   7%|▋         | 90/1244 [00:37<07:57,  2.42it/s]"
     ]
    },
    {
     "name": "stdout",
     "output_type": "stream",
     "text": [
      "\"slow_conv2d_cpu\" not implemented for 'Half'\n"
     ]
    },
    {
     "name": "stderr",
     "output_type": "stream",
     "text": [
      "Progress:   7%|▋         | 91/1244 [00:37<09:42,  1.98it/s]"
     ]
    },
    {
     "name": "stdout",
     "output_type": "stream",
     "text": [
      "\"slow_conv2d_cpu\" not implemented for 'Half'\n"
     ]
    },
    {
     "name": "stderr",
     "output_type": "stream",
     "text": [
      "Progress:   7%|▋         | 93/1244 [00:38<07:16,  2.63it/s]"
     ]
    },
    {
     "name": "stdout",
     "output_type": "stream",
     "text": [
      "\"slow_conv2d_cpu\" not implemented for 'Half'\n"
     ]
    },
    {
     "name": "stderr",
     "output_type": "stream",
     "text": [
      "Progress:   8%|▊         | 94/1244 [00:38<07:01,  2.73it/s]"
     ]
    },
    {
     "name": "stdout",
     "output_type": "stream",
     "text": [
      "\"slow_conv2d_cpu\" not implemented for 'Half'\n"
     ]
    },
    {
     "name": "stderr",
     "output_type": "stream",
     "text": [
      "Progress:   8%|▊         | 95/1244 [00:39<07:50,  2.44it/s]"
     ]
    },
    {
     "name": "stdout",
     "output_type": "stream",
     "text": [
      "\"slow_conv2d_cpu\" not implemented for 'Half'\n"
     ]
    },
    {
     "name": "stderr",
     "output_type": "stream",
     "text": [
      "Progress:   8%|▊         | 97/1244 [00:39<05:29,  3.48it/s]"
     ]
    },
    {
     "name": "stdout",
     "output_type": "stream",
     "text": [
      "\"slow_conv2d_cpu\" not implemented for 'Half'\n",
      "\"slow_conv2d_cpu\" not implemented for 'Half'\n"
     ]
    },
    {
     "name": "stderr",
     "output_type": "stream",
     "text": [
      "Progress:   8%|▊         | 98/1244 [00:40<09:05,  2.10it/s]"
     ]
    },
    {
     "name": "stdout",
     "output_type": "stream",
     "text": [
      "\"slow_conv2d_cpu\" not implemented for 'Half'\n"
     ]
    },
    {
     "name": "stderr",
     "output_type": "stream",
     "text": [
      "Progress:   8%|▊         | 100/1244 [00:41<07:09,  2.67it/s]"
     ]
    },
    {
     "name": "stdout",
     "output_type": "stream",
     "text": [
      "\"slow_conv2d_cpu\" not implemented for 'Half'\n"
     ]
    },
    {
     "name": "stderr",
     "output_type": "stream",
     "text": [
      "Progress:   8%|▊         | 101/1244 [00:42<11:54,  1.60it/s]"
     ]
    },
    {
     "name": "stdout",
     "output_type": "stream",
     "text": [
      "\"slow_conv2d_cpu\" not implemented for 'Half'\n"
     ]
    },
    {
     "name": "stderr",
     "output_type": "stream",
     "text": [
      "Progress:   8%|▊         | 102/1244 [00:43<13:57,  1.36it/s]"
     ]
    },
    {
     "name": "stdout",
     "output_type": "stream",
     "text": [
      "\"slow_conv2d_cpu\" not implemented for 'Half'\n"
     ]
    },
    {
     "name": "stderr",
     "output_type": "stream",
     "text": [
      "Progress:   8%|▊         | 103/1244 [00:44<13:09,  1.45it/s]"
     ]
    },
    {
     "name": "stdout",
     "output_type": "stream",
     "text": [
      "\"slow_conv2d_cpu\" not implemented for 'Half'\n"
     ]
    },
    {
     "name": "stderr",
     "output_type": "stream",
     "text": [
      "Progress:   8%|▊         | 104/1244 [00:44<12:03,  1.58it/s]"
     ]
    },
    {
     "name": "stdout",
     "output_type": "stream",
     "text": [
      "\"slow_conv2d_cpu\" not implemented for 'Half'\n"
     ]
    },
    {
     "name": "stderr",
     "output_type": "stream",
     "text": [
      "Progress:   8%|▊         | 105/1244 [00:45<14:28,  1.31it/s]"
     ]
    },
    {
     "name": "stdout",
     "output_type": "stream",
     "text": [
      "\"slow_conv2d_cpu\" not implemented for 'Half'\n"
     ]
    },
    {
     "name": "stderr",
     "output_type": "stream",
     "text": [
      "Progress:   9%|▊         | 106/1244 [00:46<12:46,  1.48it/s]"
     ]
    },
    {
     "name": "stdout",
     "output_type": "stream",
     "text": [
      "\"slow_conv2d_cpu\" not implemented for 'Half'\n"
     ]
    },
    {
     "name": "stderr",
     "output_type": "stream",
     "text": [
      "Progress:   9%|▊         | 107/1244 [00:46<13:31,  1.40it/s]"
     ]
    },
    {
     "name": "stdout",
     "output_type": "stream",
     "text": [
      "\"slow_conv2d_cpu\" not implemented for 'Half'\n"
     ]
    },
    {
     "name": "stderr",
     "output_type": "stream",
     "text": [
      "Progress:   9%|▉         | 109/1244 [00:47<11:07,  1.70it/s]"
     ]
    },
    {
     "name": "stdout",
     "output_type": "stream",
     "text": [
      "\"slow_conv2d_cpu\" not implemented for 'Half'\n",
      "\"slow_conv2d_cpu\" not implemented for 'Half'\n"
     ]
    },
    {
     "name": "stderr",
     "output_type": "stream",
     "text": [
      "Progress:   9%|▉         | 110/1244 [00:48<10:48,  1.75it/s]"
     ]
    },
    {
     "name": "stdout",
     "output_type": "stream",
     "text": [
      "\"slow_conv2d_cpu\" not implemented for 'Half'\n"
     ]
    },
    {
     "name": "stderr",
     "output_type": "stream",
     "text": [
      "Progress:   9%|▉         | 111/1244 [00:48<09:57,  1.90it/s]"
     ]
    },
    {
     "name": "stdout",
     "output_type": "stream",
     "text": [
      "\"slow_conv2d_cpu\" not implemented for 'Half'\n"
     ]
    },
    {
     "name": "stderr",
     "output_type": "stream",
     "text": [
      "Progress:   9%|▉         | 112/1244 [00:49<10:14,  1.84it/s]"
     ]
    },
    {
     "name": "stdout",
     "output_type": "stream",
     "text": [
      "\"slow_conv2d_cpu\" not implemented for 'Half'\n"
     ]
    },
    {
     "name": "stderr",
     "output_type": "stream",
     "text": [
      "Progress:   9%|▉         | 113/1244 [00:50<11:13,  1.68it/s]"
     ]
    },
    {
     "name": "stdout",
     "output_type": "stream",
     "text": [
      "\"slow_conv2d_cpu\" not implemented for 'Half'\n",
      "\"slow_conv2d_cpu\" not implemented for 'Half'\n"
     ]
    },
    {
     "name": "stderr",
     "output_type": "stream",
     "text": [
      "Progress:   9%|▉         | 115/1244 [00:50<07:10,  2.62it/s]"
     ]
    },
    {
     "name": "stdout",
     "output_type": "stream",
     "text": [
      "\"slow_conv2d_cpu\" not implemented for 'Half'\n"
     ]
    },
    {
     "name": "stderr",
     "output_type": "stream",
     "text": [
      "Progress:   9%|▉         | 116/1244 [00:50<07:05,  2.65it/s]"
     ]
    },
    {
     "name": "stdout",
     "output_type": "stream",
     "text": [
      "\"slow_conv2d_cpu\" not implemented for 'Half'\n"
     ]
    },
    {
     "name": "stderr",
     "output_type": "stream",
     "text": [
      "Progress:   9%|▉         | 117/1244 [00:51<09:41,  1.94it/s]"
     ]
    },
    {
     "name": "stdout",
     "output_type": "stream",
     "text": [
      "\"slow_conv2d_cpu\" not implemented for 'Half'\n"
     ]
    },
    {
     "name": "stderr",
     "output_type": "stream",
     "text": [
      "Progress:   9%|▉         | 118/1244 [00:52<08:20,  2.25it/s]"
     ]
    },
    {
     "name": "stdout",
     "output_type": "stream",
     "text": [
      "\"slow_conv2d_cpu\" not implemented for 'Half'\n"
     ]
    },
    {
     "name": "stderr",
     "output_type": "stream",
     "text": [
      "Progress:  10%|▉         | 119/1244 [00:52<09:42,  1.93it/s]"
     ]
    },
    {
     "name": "stdout",
     "output_type": "stream",
     "text": [
      "\"slow_conv2d_cpu\" not implemented for 'Half'\n"
     ]
    },
    {
     "name": "stderr",
     "output_type": "stream",
     "text": [
      "Progress:  10%|▉         | 120/1244 [00:53<11:08,  1.68it/s]"
     ]
    },
    {
     "name": "stdout",
     "output_type": "stream",
     "text": [
      "\"slow_conv2d_cpu\" not implemented for 'Half'\n"
     ]
    },
    {
     "name": "stderr",
     "output_type": "stream",
     "text": [
      "Progress:  10%|▉         | 121/1244 [00:53<09:16,  2.02it/s]"
     ]
    },
    {
     "name": "stdout",
     "output_type": "stream",
     "text": [
      "\"slow_conv2d_cpu\" not implemented for 'Half'\n"
     ]
    },
    {
     "name": "stderr",
     "output_type": "stream",
     "text": [
      "Progress:  10%|▉         | 123/1244 [00:54<07:47,  2.40it/s]"
     ]
    },
    {
     "name": "stdout",
     "output_type": "stream",
     "text": [
      "\"slow_conv2d_cpu\" not implemented for 'Half'\n",
      "\"slow_conv2d_cpu\" not implemented for 'Half'\n"
     ]
    },
    {
     "name": "stderr",
     "output_type": "stream",
     "text": [
      "Progress:  10%|▉         | 124/1244 [00:55<10:17,  1.81it/s]"
     ]
    }
   ],
   "source": [
    "%%time\n",
    "\n",
    "filtered['caption'] = filtered.progress_apply(lambda x: functions.apply_caption(x, [caption_0, caption_1]), axis=1)\n",
    "\n",
    "display(\"== Filtered Data With Caption ==\")\n",
    "display(filtered.shape)\n",
    "display(filtered)"
   ],
   "metadata": {
    "collapsed": false,
    "ExecuteTime": {
     "end_time": "2023-05-15T21:37:47.398142300Z",
     "start_time": "2023-05-15T21:31:43.557410800Z"
    }
   }
  },
  {
   "cell_type": "code",
   "execution_count": 18,
   "outputs": [],
   "source": [
    "%%time\n",
    "\n",
    "filtered_more = filtered.loc[(filtered['caption'] != \"\") & (filtered['caption'].notnull()) & (filtered['exists'] == True)]\n",
    "\n",
    "display(\"== Filtered On Missing Caption ==\")\n",
    "display(filtered_more.shape)\n",
    "display(filtered_more)"
   ],
   "metadata": {
    "collapsed": false
   }
  },
  {
   "cell_type": "code",
   "execution_count": 19,
   "outputs": [],
   "source": [
    "%%time\n",
    "\n",
    "dropped = filtered_more.dropna(axis=1, how='all')\n",
    "dropped.reset_index(drop=True, inplace=True)\n",
    "\n",
    "display(\"== Dropped And Reset Data ==\")\n",
    "display(dropped.shape)\n",
    "display(dropped)"
   ],
   "metadata": {
    "collapsed": false
   }
  },
  {
   "cell_type": "code",
   "execution_count": 20,
   "outputs": [],
   "source": [
    "%%time\n",
    "\n",
    "current = pandas.read_parquet(\"data/parquet/back.parquet\", engine='pyarrow', filesystem=file_system)\n",
    "\n",
    "display(current.shape)\n",
    "display(current)"
   ],
   "metadata": {
    "collapsed": false
   }
  },
  {
   "cell_type": "code",
   "execution_count": 21,
   "outputs": [],
   "source": [
    "%%time\n",
    "\n",
    "temp_current = current\n",
    "temp_current.set_index('id', inplace=True, drop=False)\n",
    "\n",
    "temp_new = dropped\n",
    "temp_new.set_index('id', inplace=True, drop=False)\n",
    "\n",
    "temp_new.loc[~temp_new.index.isin(temp_current.index)]"
   ],
   "metadata": {
    "collapsed": false
   }
  },
  {
   "cell_type": "code",
   "execution_count": 22,
   "outputs": [],
   "source": [
    "%%time\n",
    "\n",
    "concat = pd.concat([current, dropped])\n",
    "\n",
    "display(\"== Concatenated Data ==\")\n",
    "display(concat.shape)\n",
    "display(concat)"
   ],
   "metadata": {
    "collapsed": false
   }
  },
  {
   "cell_type": "code",
   "execution_count": 23,
   "outputs": [],
   "source": [
    "%%time\n",
    "\n",
    "file_list_ = file_system.ls(\"data/image\")\n",
    "concat['path'] = concat.progress_apply(lambda x: functions.fix_path(x, file_list), axis=1)\n",
    "\n",
    "display(\"== Concatenated Data With Path ==\")\n",
    "display(concat.shape)\n",
    "display(concat)"
   ],
   "metadata": {
    "collapsed": false
   }
  },
  {
   "cell_type": "code",
   "execution_count": 24,
   "outputs": [],
   "source": [
    "%%time\n",
    "\n",
    "back_up_name = f\"data/parquet/back_{dt.datetime.timestamp(dt.datetime.now())}.parquet\"\n",
    "display(f\"== Writing Back-Up {back_up_name} ==\")\n",
    "current.to_parquet(back_up_name, schema=schema, filesystem=file_system)"
   ],
   "metadata": {
    "collapsed": false
   }
  },
  {
   "cell_type": "code",
   "execution_count": 25,
   "outputs": [],
   "source": [
    "%%time\n",
    "\n",
    "concat.to_parquet(\"data/parquet/back.parquet\", schema=schema, filesystem=file_system)\n",
    "new = pd.read_parquet(\"data/parquet/back.parquet\", engine='pyarrow', schema=schema, filesystem=file_system)\n",
    "\n",
    "display(\"== New Data ==\")\n",
    "display(new.shape)\n",
    "display(new)"
   ],
   "metadata": {
    "collapsed": false
   }
  },
  {
   "cell_type": "code",
   "execution_count": 26,
   "outputs": [],
   "source": [
    "!jupyter notebook stop"
   ],
   "metadata": {
    "collapsed": false
   }
  }
 ],
 "metadata": {
  "kernelspec": {
   "display_name": "Python 3",
   "language": "python",
   "name": "python3"
  },
  "language_info": {
   "codemirror_mode": {
    "name": "ipython",
    "version": 2
   },
   "file_extension": ".py",
   "mimetype": "text/x-python",
   "name": "python",
   "nbconvert_exporter": "python",
   "pygments_lexer": "ipython2",
   "version": "2.7.6"
  }
 },
 "nbformat": 4,
 "nbformat_minor": 0
}
