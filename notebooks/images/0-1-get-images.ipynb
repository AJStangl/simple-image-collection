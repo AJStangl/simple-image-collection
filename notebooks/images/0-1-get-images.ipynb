{
 "cells": [
  {
   "cell_type": "code",
   "execution_count": 1,
   "outputs": [
    {
     "name": "stdout",
     "output_type": "stream",
     "text": [
      "CPU times: total: 3.31 s\n",
      "Wall time: 3.61 s\n"
     ]
    }
   ],
   "source": [
    "%%time\n",
    "\n",
    "display(\"==== Starting 0-1 Image Acquisition ====\")\n",
    "\n",
    "import datetime as dt\n",
    "import os\n",
    "from datetime import datetime\n",
    "import pandas\n",
    "import pandas as pd\n",
    "import praw\n",
    "from praw.models import ListingGenerator\n",
    "from tqdm import tqdm\n",
    "\n",
    "from common.captioning.caption import BlipCaption\n",
    "from common.schemas.pyarrow_schema import schema\n",
    "from common.storage.azure_file_storage import AzureFileStorageAdapter\n",
    "from common.functions.functions import Functions\n",
    "\n",
    "tqdm.pandas(desc=\"Progress\")\n",
    "\n",
    "file_system = AzureFileStorageAdapter('data').get_file_storage()\n",
    "\n",
    "functions: Functions = Functions()"
   ],
   "metadata": {
    "collapsed": false,
    "ExecuteTime": {
     "end_time": "2023-05-21T15:00:24.345648Z",
     "start_time": "2023-05-21T15:00:20.721635600Z"
    }
   }
  },
  {
   "cell_type": "code",
   "execution_count": 2,
   "outputs": [
    {
     "name": "stdout",
     "output_type": "stream",
     "text": [
      "CPU times: total: 0 ns\n",
      "Wall time: 0 ns\n"
     ]
    }
   ],
   "source": [
    "%%time\n",
    "\n",
    "# \"memes\",\"CityPorn\", \"EarthPorn\", \"spaceporn\",\t\"itookapicture\", \"trippinthroughtime\"\n",
    "subs = [\n",
    "\t\"SFWRedheads\",\n",
    "\t\"sfwpetite\",\n",
    "\t\"SFWNextDoorGirls\",\n",
    "\t\"fatsquirrelhate\",\n",
    "\t\"realasians\",\n",
    "\t\"KoreanHotties\",\n",
    "\t\"prettyasiangirls\",\n",
    "\t\"AsianOfficeLady\",\n",
    "\t\"mildlypenis\",\n",
    "\t\"AsianInvasion\",\n",
    "\t\"sexygirls\",\n",
    "\t\"PrettyGirls\",\n",
    "\t\"gentlemanboners\",\n",
    "\t\"hotofficegirls\",\n",
    "\t\"tightdresses\",\n",
    "\t\"DLAH\",\n",
    "\t\"bathandbodyworks\",\n",
    "\t\"AesPleasingAsianGirls\"\n",
    "]"
   ],
   "metadata": {
    "collapsed": false,
    "ExecuteTime": {
     "end_time": "2023-05-21T15:00:24.434915200Z",
     "start_time": "2023-05-21T15:00:24.349645400Z"
    }
   }
  },
  {
   "cell_type": "code",
   "execution_count": 3,
   "outputs": [
    {
     "name": "stdout",
     "output_type": "stream",
     "text": [
      "CPU times: total: 0 ns\n",
      "Wall time: 0 ns\n"
     ]
    }
   ],
   "source": [
    "%%time\n",
    "\n",
    "sources = [\n",
    "\t{\"name\": \"CityDiffusion\", \"data\": [\"CityPorn\"]},\n",
    "\t{\"name\": \"NatureDiffusion\", \"data\": [\"EarthPorn\"]},\n",
    "\t{\"name\": \"CosmicDiffusion\", \"data\": [\"spaceporn\"]},\n",
    "\t{\"name\": \"ITAPDiffusion\", \"data\": [\"itookapicture\"]},\n",
    "\t{\"name\": \"MemeDiffusion\", \"data\": [\"memes\"]},\n",
    "\t{\"name\": \"TTTDiffusion\", \"data\": [\"trippinthroughtime\"]},\n",
    "\t{\"name\": \"WallStreetDiffusion\", \"data\": [\"wallstreetbets\"]},\n",
    "\t{\"name\": \"SexyDiffusion\", \"data\": [\"selfies\", \"Amicute\", \"amihot\", \"AmIhotAF\", \"HotGirlNextDoor\"]},\n",
    "\t{\"name\": \"FatSquirrelDiffusion\", \"data\": [\"fatsquirrelhate\"]},\n",
    "\t{\"name\": \"CelebrityDiffusion\", \"data\": [\"celebrities\"]},\n",
    "\t{\"name\": \"OldLadyDiffusion\", \"data\": [\"oldladiesbakingpies\"]},\n",
    "\t{\"name\": \"SWFPetite\", \"data\": [\"sfwpetite\"]},\n",
    "\t{\"name\": \"SFWMilfs\", \"data\": [\"cougars_and_milfs_sfw\"]},\n",
    "\t{\"name\": \"RedHeadDiffusion\", \"data\": [\"SFWRedheads\"]},\n",
    "\t{\"name\": \"NextDoorGirlsDiffusion\", \"data\": [\"SFWNextDoorGirls\"]},\n",
    "\t{\"name\": \"SexyAsianDiffusion\",\"data\": [\"realasians\", \"KoreanHotties\", \"prettyasiangirls\", \"AsianOfficeLady\", \"AsianInvasion\",\"AesPleasingAsianGirls\"]},\n",
    "\t{\"name\": \"MildlyPenisDiffusion\", \"data\": [\"mildlypenis\"]},\n",
    "\t{\"name\": \"PrettyGirlDiffusion\",\"data\": [\"sexygirls\", \"PrettyGirls\", \"gentlemanboners\", \"hotofficegirls\", \"tightdresses\", \"DLAH\"]},\n",
    "\t{\"name\": \"CandleDiffusion\", \"data\": [\"bathandbodyworks\"]}\n",
    "]\n",
    "sources_df = pd.DataFrame.from_records(sources)"
   ],
   "metadata": {
    "collapsed": false,
    "ExecuteTime": {
     "end_time": "2023-05-21T15:00:24.474880800Z",
     "start_time": "2023-05-21T15:00:24.365634600Z"
    }
   }
  },
  {
   "cell_type": "code",
   "execution_count": 4,
   "outputs": [
    {
     "data": {
      "text/plain": "        subreddit                author   \nid                                        \n100rn7k  AmIhotAF          veritynicole  \\\n1013bdt  AmIhotAF           RaulDea9286   \n105mekt  AmIhotAF              lindaniz   \n105qvgl  AmIhotAF           CaitVLove11   \n105rpcj  AmIhotAF       Flashy-Desk1858   \n...           ...                   ...   \n131dso7      DLAH        Wallydinger123   \n131eznp      DLAH          Long_dong111   \n131g3am      DLAH       ThrownAwayMiles   \n131jvcx      DLAH              robok212   \n131n2by      DLAH  Dependent_Secret9424   \n\n                                                  title   \nid                                                        \n100rn7k             hey, hows your new year going (23F)  \\\n1013bdt                                   36F - ITALIAN   \n105mekt  interesting in good forward relationship (f24)   \n105qvgl                       Laughing is my favorite 😆   \n105rpcj        [f22] What do you think when you see me?   \n...                                                 ...   \n131dso7                                     Happy B Day   \n131eznp                                         Perfect   \n131g3am                              DLAH left or right   \n131jvcx                                  Good morning 😍   \n131n2by                            Perfection (Sisters)   \n\n                                                   caption   \nid                                                           \n100rn7k  a woman in a white shirt and black pants is po...  \\\n1013bdt            arafed image of a woman in a bikini top   \n105mekt  a close up of a woman with red hair and a whit...   \n105qvgl  a woman in a blue tank top and shorts is smili...   \n105rpcj    a woman in a blue bikini top and a blue bra top   \n...                                                    ...   \n131dso7  there are three women posing for a picture in ...   \n131eznp  araffe woman in a white dress sitting on a pur...   \n131g3am  two women in short dresses posing for a pictur...   \n131jvcx      araffe in a pink dress posing on a white wall   \n131n2by  two women in shorts and sandals taking a selfi...   \n\n                                     hash   \nid                                          \n100rn7k  4bd00c19fa0ff2ade855e6d364b0760b  \\\n1013bdt  7c0d158cba8654ef1c635cbc5471d597   \n105mekt  ba4a0962cca2266a741e1e1700589c04   \n105qvgl  27bfe82c37314a0bcf02ab72eaf3a9e5   \n105rpcj  329eb42b8267fa1cc2980da8e48bcef1   \n...                                   ...   \n131dso7  ebb4b4a88dc79e2f2f57b10f32bf03c0   \n131eznp  5c944c6d62b1ae182c5a6a40c64195f4   \n131g3am  ab1f8fc33c85f4cfce12c810cf22229e   \n131jvcx  01f5058855526ef25888cff88065db4c   \n131n2by  b162dd1999dbf9ea3c7adccd34624a46   \n\n                                                 permalink   \nid                                                           \n100rn7k  /r/AmIhotAF/comments/100rn7k/hey_hows_your_new...  \\\n1013bdt          /r/AmIhotAF/comments/1013bdt/36f_italian/   \n105mekt  /r/AmIhotAF/comments/105mekt/interesting_in_go...   \n105qvgl  /r/AmIhotAF/comments/105qvgl/laughing_is_my_fa...   \n105rpcj  /r/AmIhotAF/comments/105rpcj/f22_what_do_you_t...   \n...                                                    ...   \n131dso7              /r/DLAH/comments/131dso7/happy_b_day/   \n131eznp                  /r/DLAH/comments/131eznp/perfect/   \n131g3am       /r/DLAH/comments/131g3am/dlah_left_or_right/   \n131jvcx             /r/DLAH/comments/131jvcx/good_morning/   \n131n2by       /r/DLAH/comments/131n2by/perfection_sisters/   \n\n                                original_url   image_name   \nid                                                          \n100rn7k  https://i.redd.it/n7r47s0gkh9a1.jpg  100rn7k.jpg  \\\n1013bdt  https://i.redd.it/bg0wwdlt5k9a1.jpg  1013bdt.jpg   \n105mekt  https://i.redd.it/4avjshsz8naa1.jpg  105mekt.jpg   \n105qvgl  https://i.redd.it/2pulzr0lxmaa1.jpg  105qvgl.jpg   \n105rpcj  https://i.redd.it/rz68pf934naa1.jpg  105rpcj.jpg   \n...                                      ...          ...   \n131dso7  https://i.redd.it/36gurz533jwa1.jpg  131dso7.jpg   \n131eznp  https://i.redd.it/dnbbx4zucjwa1.jpg  131eznp.jpg   \n131g3am  https://i.redd.it/zpp70oor3lwa1.jpg  131g3am.jpg   \n131jvcx  https://i.redd.it/ozmbfhjv3mwa1.jpg  131jvcx.jpg   \n131n2by  https://i.redd.it/pfg1u0aw1nwa1.jpg  131n2by.jpg   \n\n                           path                model  exists  curated accept   \nid                                                                             \n100rn7k  data/image/100rn7k.jpg        SexyDiffusion    True     True  False  \\\n1013bdt  data/image/1013bdt.jpg        SexyDiffusion    True     True   True   \n105mekt  data/image/105mekt.jpg        SexyDiffusion    True     True   True   \n105qvgl  data/image/105qvgl.jpg        SexyDiffusion    True     True   True   \n105rpcj  data/image/105rpcj.jpg        SexyDiffusion    True     True   True   \n...                         ...                  ...     ...      ...    ...   \n131dso7  data/image/131dso7.jpg  PrettyGirlDiffusion    True     True  False   \n131eznp  data/image/131eznp.jpg  PrettyGirlDiffusion    True     True   True   \n131g3am  data/image/131g3am.jpg  PrettyGirlDiffusion    True     True   True   \n131jvcx  data/image/131jvcx.jpg  PrettyGirlDiffusion    True     True  False   \n131n2by  data/image/131n2by.jpg  PrettyGirlDiffusion    True     True  False   \n\n        tags  \nid            \n100rn7k   []  \n1013bdt   []  \n105mekt   []  \n105qvgl   []  \n105rpcj   []  \n...      ...  \n131dso7   []  \n131eznp   []  \n131g3am   []  \n131jvcx   []  \n131n2by   []  \n\n[41505 rows x 14 columns]",
      "text/html": "<div>\n<style scoped>\n    .dataframe tbody tr th:only-of-type {\n        vertical-align: middle;\n    }\n\n    .dataframe tbody tr th {\n        vertical-align: top;\n    }\n\n    .dataframe thead th {\n        text-align: right;\n    }\n</style>\n<table border=\"1\" class=\"dataframe\">\n  <thead>\n    <tr style=\"text-align: right;\">\n      <th></th>\n      <th>subreddit</th>\n      <th>author</th>\n      <th>title</th>\n      <th>caption</th>\n      <th>hash</th>\n      <th>permalink</th>\n      <th>original_url</th>\n      <th>image_name</th>\n      <th>path</th>\n      <th>model</th>\n      <th>exists</th>\n      <th>curated</th>\n      <th>accept</th>\n      <th>tags</th>\n    </tr>\n    <tr>\n      <th>id</th>\n      <th></th>\n      <th></th>\n      <th></th>\n      <th></th>\n      <th></th>\n      <th></th>\n      <th></th>\n      <th></th>\n      <th></th>\n      <th></th>\n      <th></th>\n      <th></th>\n      <th></th>\n      <th></th>\n    </tr>\n  </thead>\n  <tbody>\n    <tr>\n      <th>100rn7k</th>\n      <td>AmIhotAF</td>\n      <td>veritynicole</td>\n      <td>hey, hows your new year going (23F)</td>\n      <td>a woman in a white shirt and black pants is po...</td>\n      <td>4bd00c19fa0ff2ade855e6d364b0760b</td>\n      <td>/r/AmIhotAF/comments/100rn7k/hey_hows_your_new...</td>\n      <td>https://i.redd.it/n7r47s0gkh9a1.jpg</td>\n      <td>100rn7k.jpg</td>\n      <td>data/image/100rn7k.jpg</td>\n      <td>SexyDiffusion</td>\n      <td>True</td>\n      <td>True</td>\n      <td>False</td>\n      <td>[]</td>\n    </tr>\n    <tr>\n      <th>1013bdt</th>\n      <td>AmIhotAF</td>\n      <td>RaulDea9286</td>\n      <td>36F - ITALIAN</td>\n      <td>arafed image of a woman in a bikini top</td>\n      <td>7c0d158cba8654ef1c635cbc5471d597</td>\n      <td>/r/AmIhotAF/comments/1013bdt/36f_italian/</td>\n      <td>https://i.redd.it/bg0wwdlt5k9a1.jpg</td>\n      <td>1013bdt.jpg</td>\n      <td>data/image/1013bdt.jpg</td>\n      <td>SexyDiffusion</td>\n      <td>True</td>\n      <td>True</td>\n      <td>True</td>\n      <td>[]</td>\n    </tr>\n    <tr>\n      <th>105mekt</th>\n      <td>AmIhotAF</td>\n      <td>lindaniz</td>\n      <td>interesting in good forward relationship (f24)</td>\n      <td>a close up of a woman with red hair and a whit...</td>\n      <td>ba4a0962cca2266a741e1e1700589c04</td>\n      <td>/r/AmIhotAF/comments/105mekt/interesting_in_go...</td>\n      <td>https://i.redd.it/4avjshsz8naa1.jpg</td>\n      <td>105mekt.jpg</td>\n      <td>data/image/105mekt.jpg</td>\n      <td>SexyDiffusion</td>\n      <td>True</td>\n      <td>True</td>\n      <td>True</td>\n      <td>[]</td>\n    </tr>\n    <tr>\n      <th>105qvgl</th>\n      <td>AmIhotAF</td>\n      <td>CaitVLove11</td>\n      <td>Laughing is my favorite 😆</td>\n      <td>a woman in a blue tank top and shorts is smili...</td>\n      <td>27bfe82c37314a0bcf02ab72eaf3a9e5</td>\n      <td>/r/AmIhotAF/comments/105qvgl/laughing_is_my_fa...</td>\n      <td>https://i.redd.it/2pulzr0lxmaa1.jpg</td>\n      <td>105qvgl.jpg</td>\n      <td>data/image/105qvgl.jpg</td>\n      <td>SexyDiffusion</td>\n      <td>True</td>\n      <td>True</td>\n      <td>True</td>\n      <td>[]</td>\n    </tr>\n    <tr>\n      <th>105rpcj</th>\n      <td>AmIhotAF</td>\n      <td>Flashy-Desk1858</td>\n      <td>[f22] What do you think when you see me?</td>\n      <td>a woman in a blue bikini top and a blue bra top</td>\n      <td>329eb42b8267fa1cc2980da8e48bcef1</td>\n      <td>/r/AmIhotAF/comments/105rpcj/f22_what_do_you_t...</td>\n      <td>https://i.redd.it/rz68pf934naa1.jpg</td>\n      <td>105rpcj.jpg</td>\n      <td>data/image/105rpcj.jpg</td>\n      <td>SexyDiffusion</td>\n      <td>True</td>\n      <td>True</td>\n      <td>True</td>\n      <td>[]</td>\n    </tr>\n    <tr>\n      <th>...</th>\n      <td>...</td>\n      <td>...</td>\n      <td>...</td>\n      <td>...</td>\n      <td>...</td>\n      <td>...</td>\n      <td>...</td>\n      <td>...</td>\n      <td>...</td>\n      <td>...</td>\n      <td>...</td>\n      <td>...</td>\n      <td>...</td>\n      <td>...</td>\n    </tr>\n    <tr>\n      <th>131dso7</th>\n      <td>DLAH</td>\n      <td>Wallydinger123</td>\n      <td>Happy B Day</td>\n      <td>there are three women posing for a picture in ...</td>\n      <td>ebb4b4a88dc79e2f2f57b10f32bf03c0</td>\n      <td>/r/DLAH/comments/131dso7/happy_b_day/</td>\n      <td>https://i.redd.it/36gurz533jwa1.jpg</td>\n      <td>131dso7.jpg</td>\n      <td>data/image/131dso7.jpg</td>\n      <td>PrettyGirlDiffusion</td>\n      <td>True</td>\n      <td>True</td>\n      <td>False</td>\n      <td>[]</td>\n    </tr>\n    <tr>\n      <th>131eznp</th>\n      <td>DLAH</td>\n      <td>Long_dong111</td>\n      <td>Perfect</td>\n      <td>araffe woman in a white dress sitting on a pur...</td>\n      <td>5c944c6d62b1ae182c5a6a40c64195f4</td>\n      <td>/r/DLAH/comments/131eznp/perfect/</td>\n      <td>https://i.redd.it/dnbbx4zucjwa1.jpg</td>\n      <td>131eznp.jpg</td>\n      <td>data/image/131eznp.jpg</td>\n      <td>PrettyGirlDiffusion</td>\n      <td>True</td>\n      <td>True</td>\n      <td>True</td>\n      <td>[]</td>\n    </tr>\n    <tr>\n      <th>131g3am</th>\n      <td>DLAH</td>\n      <td>ThrownAwayMiles</td>\n      <td>DLAH left or right</td>\n      <td>two women in short dresses posing for a pictur...</td>\n      <td>ab1f8fc33c85f4cfce12c810cf22229e</td>\n      <td>/r/DLAH/comments/131g3am/dlah_left_or_right/</td>\n      <td>https://i.redd.it/zpp70oor3lwa1.jpg</td>\n      <td>131g3am.jpg</td>\n      <td>data/image/131g3am.jpg</td>\n      <td>PrettyGirlDiffusion</td>\n      <td>True</td>\n      <td>True</td>\n      <td>True</td>\n      <td>[]</td>\n    </tr>\n    <tr>\n      <th>131jvcx</th>\n      <td>DLAH</td>\n      <td>robok212</td>\n      <td>Good morning 😍</td>\n      <td>araffe in a pink dress posing on a white wall</td>\n      <td>01f5058855526ef25888cff88065db4c</td>\n      <td>/r/DLAH/comments/131jvcx/good_morning/</td>\n      <td>https://i.redd.it/ozmbfhjv3mwa1.jpg</td>\n      <td>131jvcx.jpg</td>\n      <td>data/image/131jvcx.jpg</td>\n      <td>PrettyGirlDiffusion</td>\n      <td>True</td>\n      <td>True</td>\n      <td>False</td>\n      <td>[]</td>\n    </tr>\n    <tr>\n      <th>131n2by</th>\n      <td>DLAH</td>\n      <td>Dependent_Secret9424</td>\n      <td>Perfection (Sisters)</td>\n      <td>two women in shorts and sandals taking a selfi...</td>\n      <td>b162dd1999dbf9ea3c7adccd34624a46</td>\n      <td>/r/DLAH/comments/131n2by/perfection_sisters/</td>\n      <td>https://i.redd.it/pfg1u0aw1nwa1.jpg</td>\n      <td>131n2by.jpg</td>\n      <td>data/image/131n2by.jpg</td>\n      <td>PrettyGirlDiffusion</td>\n      <td>True</td>\n      <td>True</td>\n      <td>False</td>\n      <td>[]</td>\n    </tr>\n  </tbody>\n</table>\n<p>41505 rows × 14 columns</p>\n</div>"
     },
     "metadata": {},
     "output_type": "display_data"
    },
    {
     "name": "stdout",
     "output_type": "stream",
     "text": [
      "CPU times: total: 422 ms\n",
      "Wall time: 986 ms\n"
     ]
    }
   ],
   "source": [
    "%%time\n",
    "\n",
    "extant_data = pandas.read_parquet(\"data/processed_raw_data.parquet\", engine='pyarrow', filesystem=file_system,\n",
    "\t\t\t\t\t\t\t\t  schema=schema)\n",
    "extant_data.set_index('id', inplace=True)\n",
    "display(extant_data)"
   ],
   "metadata": {
    "collapsed": false,
    "ExecuteTime": {
     "end_time": "2023-05-21T15:00:25.368544900Z",
     "start_time": "2023-05-21T15:00:24.375762800Z"
    }
   }
  },
  {
   "cell_type": "code",
   "execution_count": 5,
   "outputs": [
    {
     "data": {
      "text/plain": "'==== CURATED DATA ===='"
     },
     "metadata": {},
     "output_type": "display_data"
    },
    {
     "data": {
      "text/plain": "(39719, 14)"
     },
     "metadata": {},
     "output_type": "display_data"
    },
    {
     "data": {
      "text/plain": "                     subreddit                author   \nid                                                     \n100rn7k               AmIhotAF          veritynicole  \\\n1013bdt               AmIhotAF           RaulDea9286   \n105mekt               AmIhotAF              lindaniz   \n105qvgl               AmIhotAF           CaitVLove11   \n105rpcj               AmIhotAF       Flashy-Desk1858   \n...                        ...                   ...   \n13no1on                   DLAH  Majestic_Painter8660   \n13nhylw       bathandbodyworks          BathbeautyXO   \n13nlz14       bathandbodyworks  Fresh-Blueberry-milk   \n13npfx3       bathandbodyworks         singshopsleep   \n13nnpg1  AesPleasingAsianGirls           miazinhaaaa   \n\n                                                     title   \nid                                                           \n100rn7k                hey, hows your new year going (23F)  \\\n1013bdt                                      36F - ITALIAN   \n105mekt     interesting in good forward relationship (f24)   \n105qvgl                          Laughing is my favorite 😆   \n105rpcj           [f22] What do you think when you see me?   \n...                                                    ...   \n13no1on                        Tight dress, legs and heels   \n13nhylw           (Late) February/valentines empties! 💕❤️💖   \n13nlz14  figured this would be appreciated 😏 also what ...   \n13npfx3                              All of Today's Offers   \n13nnpg1                     I love this beach (Copacabana)   \n\n                                                   caption   \nid                                                           \n100rn7k  a woman in a white shirt and black pants is po...  \\\n1013bdt            arafed image of a woman in a bikini top   \n105mekt  a close up of a woman with red hair and a whit...   \n105qvgl  a woman in a blue tank top and shorts is smili...   \n105rpcj    a woman in a blue bikini top and a blue bra top   \n...                                                    ...   \n13no1on      there is a woman sitting on a chair in a room   \n13nhylw  there are many different types of skin care pr...   \n13nlz14  someone is holding a bottle of lotion in their...   \n13npfx3  a poster with a variety of products for sale o...   \n13nnpg1  araffe woman in a white bikini standing on the...   \n\n                                     hash   \nid                                          \n100rn7k  4bd00c19fa0ff2ade855e6d364b0760b  \\\n1013bdt  7c0d158cba8654ef1c635cbc5471d597   \n105mekt  ba4a0962cca2266a741e1e1700589c04   \n105qvgl  27bfe82c37314a0bcf02ab72eaf3a9e5   \n105rpcj  329eb42b8267fa1cc2980da8e48bcef1   \n...                                   ...   \n13no1on  dbab04d6a37e17e6cc6df9cfc16ed51e   \n13nhylw  7d79ab2ad5d7fe73454db01b4351388c   \n13nlz14  8b7dfc23aeb352024f0a696ab49351ae   \n13npfx3  635af0f6bb1a2b81c9ce46bd29374d72   \n13nnpg1  9f06af9e6fb671f8f828e62a0949a9af   \n\n                                                 permalink   \nid                                                           \n100rn7k  /r/AmIhotAF/comments/100rn7k/hey_hows_your_new...  \\\n1013bdt          /r/AmIhotAF/comments/1013bdt/36f_italian/   \n105mekt  /r/AmIhotAF/comments/105mekt/interesting_in_go...   \n105qvgl  /r/AmIhotAF/comments/105qvgl/laughing_is_my_fa...   \n105rpcj  /r/AmIhotAF/comments/105rpcj/f22_what_do_you_t...   \n...                                                    ...   \n13no1on  /r/DLAH/comments/13no1on/tight_dress_legs_and_...   \n13nhylw  /r/bathandbodyworks/comments/13nhylw/late_febr...   \n13nlz14  /r/bathandbodyworks/comments/13nlz14/figured_t...   \n13npfx3  /r/bathandbodyworks/comments/13npfx3/all_of_to...   \n13nnpg1  /r/AesPleasingAsianGirls/comments/13nnpg1/i_lo...   \n\n                                original_url   image_name   \nid                                                          \n100rn7k  https://i.redd.it/n7r47s0gkh9a1.jpg  100rn7k.jpg  \\\n1013bdt  https://i.redd.it/bg0wwdlt5k9a1.jpg  1013bdt.jpg   \n105mekt  https://i.redd.it/4avjshsz8naa1.jpg  105mekt.jpg   \n105qvgl  https://i.redd.it/2pulzr0lxmaa1.jpg  105qvgl.jpg   \n105rpcj  https://i.redd.it/rz68pf934naa1.jpg  105rpcj.jpg   \n...                                      ...          ...   \n13no1on  https://i.redd.it/0pq456mci51b1.jpg  13no1on.jpg   \n13nhylw  https://i.redd.it/t2yvxblvd51b1.jpg  13nhylw.jpg   \n13nlz14  https://i.redd.it/or6fujdmf61b1.jpg  13nlz14.jpg   \n13npfx3  https://i.redd.it/skqywk3qd71b1.jpg  13npfx3.jpg   \n13nnpg1  https://i.redd.it/7udfhs8ow61b1.jpg  13nnpg1.jpg   \n\n                           path                model  exists  curated  accept   \nid                                                                              \n100rn7k  data/image/100rn7k.jpg        SexyDiffusion    True     True   False  \\\n1013bdt  data/image/1013bdt.jpg        SexyDiffusion    True     True    True   \n105mekt  data/image/105mekt.jpg        SexyDiffusion    True     True    True   \n105qvgl  data/image/105qvgl.jpg        SexyDiffusion    True     True    True   \n105rpcj  data/image/105rpcj.jpg        SexyDiffusion    True     True    True   \n...                         ...                  ...     ...      ...     ...   \n13no1on  data/image/13no1on.jpg  PrettyGirlDiffusion    True    False   False   \n13nhylw  data/image/13nhylw.jpg      CandleDiffusion    True    False   False   \n13nlz14  data/image/13nlz14.jpg      CandleDiffusion    True    False   False   \n13npfx3  data/image/13npfx3.jpg      CandleDiffusion    True    False   False   \n13nnpg1  data/image/13nnpg1.jpg   SexyAsianDiffusion    True    False   False   \n\n        tags  \nid            \n100rn7k   []  \n1013bdt   []  \n105mekt   []  \n105qvgl   []  \n105rpcj   []  \n...      ...  \n13no1on   []  \n13nhylw   []  \n13nlz14   []  \n13npfx3   []  \n13nnpg1   []  \n\n[39719 rows x 14 columns]",
      "text/html": "<div>\n<style scoped>\n    .dataframe tbody tr th:only-of-type {\n        vertical-align: middle;\n    }\n\n    .dataframe tbody tr th {\n        vertical-align: top;\n    }\n\n    .dataframe thead th {\n        text-align: right;\n    }\n</style>\n<table border=\"1\" class=\"dataframe\">\n  <thead>\n    <tr style=\"text-align: right;\">\n      <th></th>\n      <th>subreddit</th>\n      <th>author</th>\n      <th>title</th>\n      <th>caption</th>\n      <th>hash</th>\n      <th>permalink</th>\n      <th>original_url</th>\n      <th>image_name</th>\n      <th>path</th>\n      <th>model</th>\n      <th>exists</th>\n      <th>curated</th>\n      <th>accept</th>\n      <th>tags</th>\n    </tr>\n    <tr>\n      <th>id</th>\n      <th></th>\n      <th></th>\n      <th></th>\n      <th></th>\n      <th></th>\n      <th></th>\n      <th></th>\n      <th></th>\n      <th></th>\n      <th></th>\n      <th></th>\n      <th></th>\n      <th></th>\n      <th></th>\n    </tr>\n  </thead>\n  <tbody>\n    <tr>\n      <th>100rn7k</th>\n      <td>AmIhotAF</td>\n      <td>veritynicole</td>\n      <td>hey, hows your new year going (23F)</td>\n      <td>a woman in a white shirt and black pants is po...</td>\n      <td>4bd00c19fa0ff2ade855e6d364b0760b</td>\n      <td>/r/AmIhotAF/comments/100rn7k/hey_hows_your_new...</td>\n      <td>https://i.redd.it/n7r47s0gkh9a1.jpg</td>\n      <td>100rn7k.jpg</td>\n      <td>data/image/100rn7k.jpg</td>\n      <td>SexyDiffusion</td>\n      <td>True</td>\n      <td>True</td>\n      <td>False</td>\n      <td>[]</td>\n    </tr>\n    <tr>\n      <th>1013bdt</th>\n      <td>AmIhotAF</td>\n      <td>RaulDea9286</td>\n      <td>36F - ITALIAN</td>\n      <td>arafed image of a woman in a bikini top</td>\n      <td>7c0d158cba8654ef1c635cbc5471d597</td>\n      <td>/r/AmIhotAF/comments/1013bdt/36f_italian/</td>\n      <td>https://i.redd.it/bg0wwdlt5k9a1.jpg</td>\n      <td>1013bdt.jpg</td>\n      <td>data/image/1013bdt.jpg</td>\n      <td>SexyDiffusion</td>\n      <td>True</td>\n      <td>True</td>\n      <td>True</td>\n      <td>[]</td>\n    </tr>\n    <tr>\n      <th>105mekt</th>\n      <td>AmIhotAF</td>\n      <td>lindaniz</td>\n      <td>interesting in good forward relationship (f24)</td>\n      <td>a close up of a woman with red hair and a whit...</td>\n      <td>ba4a0962cca2266a741e1e1700589c04</td>\n      <td>/r/AmIhotAF/comments/105mekt/interesting_in_go...</td>\n      <td>https://i.redd.it/4avjshsz8naa1.jpg</td>\n      <td>105mekt.jpg</td>\n      <td>data/image/105mekt.jpg</td>\n      <td>SexyDiffusion</td>\n      <td>True</td>\n      <td>True</td>\n      <td>True</td>\n      <td>[]</td>\n    </tr>\n    <tr>\n      <th>105qvgl</th>\n      <td>AmIhotAF</td>\n      <td>CaitVLove11</td>\n      <td>Laughing is my favorite 😆</td>\n      <td>a woman in a blue tank top and shorts is smili...</td>\n      <td>27bfe82c37314a0bcf02ab72eaf3a9e5</td>\n      <td>/r/AmIhotAF/comments/105qvgl/laughing_is_my_fa...</td>\n      <td>https://i.redd.it/2pulzr0lxmaa1.jpg</td>\n      <td>105qvgl.jpg</td>\n      <td>data/image/105qvgl.jpg</td>\n      <td>SexyDiffusion</td>\n      <td>True</td>\n      <td>True</td>\n      <td>True</td>\n      <td>[]</td>\n    </tr>\n    <tr>\n      <th>105rpcj</th>\n      <td>AmIhotAF</td>\n      <td>Flashy-Desk1858</td>\n      <td>[f22] What do you think when you see me?</td>\n      <td>a woman in a blue bikini top and a blue bra top</td>\n      <td>329eb42b8267fa1cc2980da8e48bcef1</td>\n      <td>/r/AmIhotAF/comments/105rpcj/f22_what_do_you_t...</td>\n      <td>https://i.redd.it/rz68pf934naa1.jpg</td>\n      <td>105rpcj.jpg</td>\n      <td>data/image/105rpcj.jpg</td>\n      <td>SexyDiffusion</td>\n      <td>True</td>\n      <td>True</td>\n      <td>True</td>\n      <td>[]</td>\n    </tr>\n    <tr>\n      <th>...</th>\n      <td>...</td>\n      <td>...</td>\n      <td>...</td>\n      <td>...</td>\n      <td>...</td>\n      <td>...</td>\n      <td>...</td>\n      <td>...</td>\n      <td>...</td>\n      <td>...</td>\n      <td>...</td>\n      <td>...</td>\n      <td>...</td>\n      <td>...</td>\n    </tr>\n    <tr>\n      <th>13no1on</th>\n      <td>DLAH</td>\n      <td>Majestic_Painter8660</td>\n      <td>Tight dress, legs and heels</td>\n      <td>there is a woman sitting on a chair in a room</td>\n      <td>dbab04d6a37e17e6cc6df9cfc16ed51e</td>\n      <td>/r/DLAH/comments/13no1on/tight_dress_legs_and_...</td>\n      <td>https://i.redd.it/0pq456mci51b1.jpg</td>\n      <td>13no1on.jpg</td>\n      <td>data/image/13no1on.jpg</td>\n      <td>PrettyGirlDiffusion</td>\n      <td>True</td>\n      <td>False</td>\n      <td>False</td>\n      <td>[]</td>\n    </tr>\n    <tr>\n      <th>13nhylw</th>\n      <td>bathandbodyworks</td>\n      <td>BathbeautyXO</td>\n      <td>(Late) February/valentines empties! 💕❤️💖</td>\n      <td>there are many different types of skin care pr...</td>\n      <td>7d79ab2ad5d7fe73454db01b4351388c</td>\n      <td>/r/bathandbodyworks/comments/13nhylw/late_febr...</td>\n      <td>https://i.redd.it/t2yvxblvd51b1.jpg</td>\n      <td>13nhylw.jpg</td>\n      <td>data/image/13nhylw.jpg</td>\n      <td>CandleDiffusion</td>\n      <td>True</td>\n      <td>False</td>\n      <td>False</td>\n      <td>[]</td>\n    </tr>\n    <tr>\n      <th>13nlz14</th>\n      <td>bathandbodyworks</td>\n      <td>Fresh-Blueberry-milk</td>\n      <td>figured this would be appreciated 😏 also what ...</td>\n      <td>someone is holding a bottle of lotion in their...</td>\n      <td>8b7dfc23aeb352024f0a696ab49351ae</td>\n      <td>/r/bathandbodyworks/comments/13nlz14/figured_t...</td>\n      <td>https://i.redd.it/or6fujdmf61b1.jpg</td>\n      <td>13nlz14.jpg</td>\n      <td>data/image/13nlz14.jpg</td>\n      <td>CandleDiffusion</td>\n      <td>True</td>\n      <td>False</td>\n      <td>False</td>\n      <td>[]</td>\n    </tr>\n    <tr>\n      <th>13npfx3</th>\n      <td>bathandbodyworks</td>\n      <td>singshopsleep</td>\n      <td>All of Today's Offers</td>\n      <td>a poster with a variety of products for sale o...</td>\n      <td>635af0f6bb1a2b81c9ce46bd29374d72</td>\n      <td>/r/bathandbodyworks/comments/13npfx3/all_of_to...</td>\n      <td>https://i.redd.it/skqywk3qd71b1.jpg</td>\n      <td>13npfx3.jpg</td>\n      <td>data/image/13npfx3.jpg</td>\n      <td>CandleDiffusion</td>\n      <td>True</td>\n      <td>False</td>\n      <td>False</td>\n      <td>[]</td>\n    </tr>\n    <tr>\n      <th>13nnpg1</th>\n      <td>AesPleasingAsianGirls</td>\n      <td>miazinhaaaa</td>\n      <td>I love this beach (Copacabana)</td>\n      <td>araffe woman in a white bikini standing on the...</td>\n      <td>9f06af9e6fb671f8f828e62a0949a9af</td>\n      <td>/r/AesPleasingAsianGirls/comments/13nnpg1/i_lo...</td>\n      <td>https://i.redd.it/7udfhs8ow61b1.jpg</td>\n      <td>13nnpg1.jpg</td>\n      <td>data/image/13nnpg1.jpg</td>\n      <td>SexyAsianDiffusion</td>\n      <td>True</td>\n      <td>False</td>\n      <td>False</td>\n      <td>[]</td>\n    </tr>\n  </tbody>\n</table>\n<p>39719 rows × 14 columns</p>\n</div>"
     },
     "metadata": {},
     "output_type": "display_data"
    },
    {
     "name": "stdout",
     "output_type": "stream",
     "text": [
      "CPU times: total: 250 ms\n",
      "Wall time: 523 ms\n"
     ]
    }
   ],
   "source": [
    "%%time\n",
    "\n",
    "curated_data = pandas.read_parquet(\"data/parquet/back.parquet\", engine='pyarrow', filesystem=file_system, schema=schema)\n",
    "curated_data.set_index('id', inplace=True)\n",
    "\n",
    "display(\"==== CURATED DATA ====\")\n",
    "display(curated_data.shape)\n",
    "display(curated_data)"
   ],
   "metadata": {
    "collapsed": false,
    "ExecuteTime": {
     "end_time": "2023-05-21T15:00:26.004545300Z",
     "start_time": "2023-05-21T15:00:25.370518100Z"
    }
   }
  },
  {
   "cell_type": "code",
   "execution_count": 6,
   "outputs": [
    {
     "data": {
      "text/plain": "'==== UPDATED EXTANT DATA ===='"
     },
     "metadata": {},
     "output_type": "display_data"
    },
    {
     "data": {
      "text/plain": "(41505, 15)"
     },
     "metadata": {},
     "output_type": "display_data"
    },
    {
     "data": {
      "text/plain": "            id subreddit                author   \n0      100rn7k  AmIhotAF          veritynicole  \\\n1      1013bdt  AmIhotAF           RaulDea9286   \n2      105mekt  AmIhotAF              lindaniz   \n3      105qvgl  AmIhotAF           CaitVLove11   \n4      105rpcj  AmIhotAF       Flashy-Desk1858   \n...        ...       ...                   ...   \n41500  131dso7      DLAH        Wallydinger123   \n41501  131eznp      DLAH          Long_dong111   \n41502  131g3am      DLAH       ThrownAwayMiles   \n41503  131jvcx      DLAH              robok212   \n41504  131n2by      DLAH  Dependent_Secret9424   \n\n                                                title   \n0                 hey, hows your new year going (23F)  \\\n1                                       36F - ITALIAN   \n2      interesting in good forward relationship (f24)   \n3                           Laughing is my favorite 😆   \n4            [f22] What do you think when you see me?   \n...                                               ...   \n41500                                     Happy B Day   \n41501                                         Perfect   \n41502                              DLAH left or right   \n41503                                  Good morning 😍   \n41504                            Perfection (Sisters)   \n\n                                                 caption   \n0      a woman in a white shirt and black pants is po...  \\\n1                arafed image of a woman in a bikini top   \n2      a close up of a woman with red hair and a whit...   \n3      a woman in a blue tank top and shorts is smili...   \n4        a woman in a blue bikini top and a blue bra top   \n...                                                  ...   \n41500  there are three women posing for a picture in ...   \n41501  araffe woman in a white dress sitting on a pur...   \n41502  two women in short dresses posing for a pictur...   \n41503      araffe in a pink dress posing on a white wall   \n41504  two women in shorts and sandals taking a selfi...   \n\n                                   hash   \n0      4bd00c19fa0ff2ade855e6d364b0760b  \\\n1      7c0d158cba8654ef1c635cbc5471d597   \n2      ba4a0962cca2266a741e1e1700589c04   \n3      27bfe82c37314a0bcf02ab72eaf3a9e5   \n4      329eb42b8267fa1cc2980da8e48bcef1   \n...                                 ...   \n41500  ebb4b4a88dc79e2f2f57b10f32bf03c0   \n41501  5c944c6d62b1ae182c5a6a40c64195f4   \n41502  ab1f8fc33c85f4cfce12c810cf22229e   \n41503  01f5058855526ef25888cff88065db4c   \n41504  b162dd1999dbf9ea3c7adccd34624a46   \n\n                                               permalink   \n0      /r/AmIhotAF/comments/100rn7k/hey_hows_your_new...  \\\n1              /r/AmIhotAF/comments/1013bdt/36f_italian/   \n2      /r/AmIhotAF/comments/105mekt/interesting_in_go...   \n3      /r/AmIhotAF/comments/105qvgl/laughing_is_my_fa...   \n4      /r/AmIhotAF/comments/105rpcj/f22_what_do_you_t...   \n...                                                  ...   \n41500              /r/DLAH/comments/131dso7/happy_b_day/   \n41501                  /r/DLAH/comments/131eznp/perfect/   \n41502       /r/DLAH/comments/131g3am/dlah_left_or_right/   \n41503             /r/DLAH/comments/131jvcx/good_morning/   \n41504       /r/DLAH/comments/131n2by/perfection_sisters/   \n\n                              original_url   image_name   \n0      https://i.redd.it/n7r47s0gkh9a1.jpg  100rn7k.jpg  \\\n1      https://i.redd.it/bg0wwdlt5k9a1.jpg  1013bdt.jpg   \n2      https://i.redd.it/4avjshsz8naa1.jpg  105mekt.jpg   \n3      https://i.redd.it/2pulzr0lxmaa1.jpg  105qvgl.jpg   \n4      https://i.redd.it/rz68pf934naa1.jpg  105rpcj.jpg   \n...                                    ...          ...   \n41500  https://i.redd.it/36gurz533jwa1.jpg  131dso7.jpg   \n41501  https://i.redd.it/dnbbx4zucjwa1.jpg  131eznp.jpg   \n41502  https://i.redd.it/zpp70oor3lwa1.jpg  131g3am.jpg   \n41503  https://i.redd.it/ozmbfhjv3mwa1.jpg  131jvcx.jpg   \n41504  https://i.redd.it/pfg1u0aw1nwa1.jpg  131n2by.jpg   \n\n                         path                model exists curated accept tags  \n0      data/image/100rn7k.jpg        SexyDiffusion   True    True  False   []  \n1      data/image/1013bdt.jpg        SexyDiffusion   True    True   True   []  \n2      data/image/105mekt.jpg        SexyDiffusion   True    True   True   []  \n3      data/image/105qvgl.jpg        SexyDiffusion   True    True   True   []  \n4      data/image/105rpcj.jpg        SexyDiffusion   True    True   True   []  \n...                       ...                  ...    ...     ...    ...  ...  \n41500  data/image/131dso7.jpg  PrettyGirlDiffusion   True    True  False   []  \n41501  data/image/131eznp.jpg  PrettyGirlDiffusion   True    True   True   []  \n41502  data/image/131g3am.jpg  PrettyGirlDiffusion   True    True   True   []  \n41503  data/image/131jvcx.jpg  PrettyGirlDiffusion   True    True  False   []  \n41504  data/image/131n2by.jpg  PrettyGirlDiffusion   True    True  False   []  \n\n[41505 rows x 15 columns]",
      "text/html": "<div>\n<style scoped>\n    .dataframe tbody tr th:only-of-type {\n        vertical-align: middle;\n    }\n\n    .dataframe tbody tr th {\n        vertical-align: top;\n    }\n\n    .dataframe thead th {\n        text-align: right;\n    }\n</style>\n<table border=\"1\" class=\"dataframe\">\n  <thead>\n    <tr style=\"text-align: right;\">\n      <th></th>\n      <th>id</th>\n      <th>subreddit</th>\n      <th>author</th>\n      <th>title</th>\n      <th>caption</th>\n      <th>hash</th>\n      <th>permalink</th>\n      <th>original_url</th>\n      <th>image_name</th>\n      <th>path</th>\n      <th>model</th>\n      <th>exists</th>\n      <th>curated</th>\n      <th>accept</th>\n      <th>tags</th>\n    </tr>\n  </thead>\n  <tbody>\n    <tr>\n      <th>0</th>\n      <td>100rn7k</td>\n      <td>AmIhotAF</td>\n      <td>veritynicole</td>\n      <td>hey, hows your new year going (23F)</td>\n      <td>a woman in a white shirt and black pants is po...</td>\n      <td>4bd00c19fa0ff2ade855e6d364b0760b</td>\n      <td>/r/AmIhotAF/comments/100rn7k/hey_hows_your_new...</td>\n      <td>https://i.redd.it/n7r47s0gkh9a1.jpg</td>\n      <td>100rn7k.jpg</td>\n      <td>data/image/100rn7k.jpg</td>\n      <td>SexyDiffusion</td>\n      <td>True</td>\n      <td>True</td>\n      <td>False</td>\n      <td>[]</td>\n    </tr>\n    <tr>\n      <th>1</th>\n      <td>1013bdt</td>\n      <td>AmIhotAF</td>\n      <td>RaulDea9286</td>\n      <td>36F - ITALIAN</td>\n      <td>arafed image of a woman in a bikini top</td>\n      <td>7c0d158cba8654ef1c635cbc5471d597</td>\n      <td>/r/AmIhotAF/comments/1013bdt/36f_italian/</td>\n      <td>https://i.redd.it/bg0wwdlt5k9a1.jpg</td>\n      <td>1013bdt.jpg</td>\n      <td>data/image/1013bdt.jpg</td>\n      <td>SexyDiffusion</td>\n      <td>True</td>\n      <td>True</td>\n      <td>True</td>\n      <td>[]</td>\n    </tr>\n    <tr>\n      <th>2</th>\n      <td>105mekt</td>\n      <td>AmIhotAF</td>\n      <td>lindaniz</td>\n      <td>interesting in good forward relationship (f24)</td>\n      <td>a close up of a woman with red hair and a whit...</td>\n      <td>ba4a0962cca2266a741e1e1700589c04</td>\n      <td>/r/AmIhotAF/comments/105mekt/interesting_in_go...</td>\n      <td>https://i.redd.it/4avjshsz8naa1.jpg</td>\n      <td>105mekt.jpg</td>\n      <td>data/image/105mekt.jpg</td>\n      <td>SexyDiffusion</td>\n      <td>True</td>\n      <td>True</td>\n      <td>True</td>\n      <td>[]</td>\n    </tr>\n    <tr>\n      <th>3</th>\n      <td>105qvgl</td>\n      <td>AmIhotAF</td>\n      <td>CaitVLove11</td>\n      <td>Laughing is my favorite 😆</td>\n      <td>a woman in a blue tank top and shorts is smili...</td>\n      <td>27bfe82c37314a0bcf02ab72eaf3a9e5</td>\n      <td>/r/AmIhotAF/comments/105qvgl/laughing_is_my_fa...</td>\n      <td>https://i.redd.it/2pulzr0lxmaa1.jpg</td>\n      <td>105qvgl.jpg</td>\n      <td>data/image/105qvgl.jpg</td>\n      <td>SexyDiffusion</td>\n      <td>True</td>\n      <td>True</td>\n      <td>True</td>\n      <td>[]</td>\n    </tr>\n    <tr>\n      <th>4</th>\n      <td>105rpcj</td>\n      <td>AmIhotAF</td>\n      <td>Flashy-Desk1858</td>\n      <td>[f22] What do you think when you see me?</td>\n      <td>a woman in a blue bikini top and a blue bra top</td>\n      <td>329eb42b8267fa1cc2980da8e48bcef1</td>\n      <td>/r/AmIhotAF/comments/105rpcj/f22_what_do_you_t...</td>\n      <td>https://i.redd.it/rz68pf934naa1.jpg</td>\n      <td>105rpcj.jpg</td>\n      <td>data/image/105rpcj.jpg</td>\n      <td>SexyDiffusion</td>\n      <td>True</td>\n      <td>True</td>\n      <td>True</td>\n      <td>[]</td>\n    </tr>\n    <tr>\n      <th>...</th>\n      <td>...</td>\n      <td>...</td>\n      <td>...</td>\n      <td>...</td>\n      <td>...</td>\n      <td>...</td>\n      <td>...</td>\n      <td>...</td>\n      <td>...</td>\n      <td>...</td>\n      <td>...</td>\n      <td>...</td>\n      <td>...</td>\n      <td>...</td>\n      <td>...</td>\n    </tr>\n    <tr>\n      <th>41500</th>\n      <td>131dso7</td>\n      <td>DLAH</td>\n      <td>Wallydinger123</td>\n      <td>Happy B Day</td>\n      <td>there are three women posing for a picture in ...</td>\n      <td>ebb4b4a88dc79e2f2f57b10f32bf03c0</td>\n      <td>/r/DLAH/comments/131dso7/happy_b_day/</td>\n      <td>https://i.redd.it/36gurz533jwa1.jpg</td>\n      <td>131dso7.jpg</td>\n      <td>data/image/131dso7.jpg</td>\n      <td>PrettyGirlDiffusion</td>\n      <td>True</td>\n      <td>True</td>\n      <td>False</td>\n      <td>[]</td>\n    </tr>\n    <tr>\n      <th>41501</th>\n      <td>131eznp</td>\n      <td>DLAH</td>\n      <td>Long_dong111</td>\n      <td>Perfect</td>\n      <td>araffe woman in a white dress sitting on a pur...</td>\n      <td>5c944c6d62b1ae182c5a6a40c64195f4</td>\n      <td>/r/DLAH/comments/131eznp/perfect/</td>\n      <td>https://i.redd.it/dnbbx4zucjwa1.jpg</td>\n      <td>131eznp.jpg</td>\n      <td>data/image/131eznp.jpg</td>\n      <td>PrettyGirlDiffusion</td>\n      <td>True</td>\n      <td>True</td>\n      <td>True</td>\n      <td>[]</td>\n    </tr>\n    <tr>\n      <th>41502</th>\n      <td>131g3am</td>\n      <td>DLAH</td>\n      <td>ThrownAwayMiles</td>\n      <td>DLAH left or right</td>\n      <td>two women in short dresses posing for a pictur...</td>\n      <td>ab1f8fc33c85f4cfce12c810cf22229e</td>\n      <td>/r/DLAH/comments/131g3am/dlah_left_or_right/</td>\n      <td>https://i.redd.it/zpp70oor3lwa1.jpg</td>\n      <td>131g3am.jpg</td>\n      <td>data/image/131g3am.jpg</td>\n      <td>PrettyGirlDiffusion</td>\n      <td>True</td>\n      <td>True</td>\n      <td>True</td>\n      <td>[]</td>\n    </tr>\n    <tr>\n      <th>41503</th>\n      <td>131jvcx</td>\n      <td>DLAH</td>\n      <td>robok212</td>\n      <td>Good morning 😍</td>\n      <td>araffe in a pink dress posing on a white wall</td>\n      <td>01f5058855526ef25888cff88065db4c</td>\n      <td>/r/DLAH/comments/131jvcx/good_morning/</td>\n      <td>https://i.redd.it/ozmbfhjv3mwa1.jpg</td>\n      <td>131jvcx.jpg</td>\n      <td>data/image/131jvcx.jpg</td>\n      <td>PrettyGirlDiffusion</td>\n      <td>True</td>\n      <td>True</td>\n      <td>False</td>\n      <td>[]</td>\n    </tr>\n    <tr>\n      <th>41504</th>\n      <td>131n2by</td>\n      <td>DLAH</td>\n      <td>Dependent_Secret9424</td>\n      <td>Perfection (Sisters)</td>\n      <td>two women in shorts and sandals taking a selfi...</td>\n      <td>b162dd1999dbf9ea3c7adccd34624a46</td>\n      <td>/r/DLAH/comments/131n2by/perfection_sisters/</td>\n      <td>https://i.redd.it/pfg1u0aw1nwa1.jpg</td>\n      <td>131n2by.jpg</td>\n      <td>data/image/131n2by.jpg</td>\n      <td>PrettyGirlDiffusion</td>\n      <td>True</td>\n      <td>True</td>\n      <td>False</td>\n      <td>[]</td>\n    </tr>\n  </tbody>\n</table>\n<p>41505 rows × 15 columns</p>\n</div>"
     },
     "metadata": {},
     "output_type": "display_data"
    },
    {
     "name": "stdout",
     "output_type": "stream",
     "text": [
      "CPU times: total: 328 ms\n",
      "Wall time: 3.01 s\n"
     ]
    }
   ],
   "source": [
    "%%time\n",
    "\n",
    "extant_data.update(curated_data)\n",
    "updated_extant_data = extant_data.reset_index()\n",
    "\n",
    "display(\"==== UPDATED EXTANT DATA ====\")\n",
    "display(updated_extant_data.shape)\n",
    "display(updated_extant_data)\n",
    "updated_extant_data.to_parquet(\"data/processed_raw_data.parquet\", engine='pyarrow', filesystem=file_system, schema=schema)"
   ],
   "metadata": {
    "collapsed": false,
    "ExecuteTime": {
     "end_time": "2023-05-21T15:00:28.932270100Z",
     "start_time": "2023-05-21T15:00:25.899517100Z"
    }
   }
  },
  {
   "cell_type": "code",
   "execution_count": 7,
   "outputs": [
    {
     "name": "stdout",
     "output_type": "stream",
     "text": [
      "CPU times: total: 31.2 ms\n",
      "Wall time: 78 ms\n"
     ]
    }
   ],
   "source": [
    "%%time\n",
    "\n",
    "reddit: praw.Reddit = praw.Reddit(client_id='5hVavL0PIRyM_1JSvqT6UQ', client_secret='BjD2kS3WNLnJc59RKY-JJUuc_Z9-JA', user_agent='script:%(bot_name)s:v%(bot_version)s (by /u/%(bot_author)s)')"
   ],
   "metadata": {
    "collapsed": false,
    "ExecuteTime": {
     "end_time": "2023-05-21T15:00:29.046137700Z",
     "start_time": "2023-05-21T15:00:28.920267100Z"
    }
   }
  },
  {
   "cell_type": "code",
   "execution_count": 8,
   "outputs": [
    {
     "name": "stderr",
     "output_type": "stream",
     "text": [
      "Creating Temp Dir For Subs...: 100%|██████████| 18/18 [00:00<00:00, 8959.00it/s]\n"
     ]
    }
   ],
   "source": [
    "for sub in tqdm(subs, total=len(subs), desc=\"Creating Temp Dir For Subs...\"):\n",
    "\ttemp_dir_path_ = f\"temp/{sub}\"\n",
    "\tif not os.path.exists(temp_dir_path_):\n",
    "\t\tos.makedirs(temp_dir_path_)\n",
    "\tos.makedirs(temp_dir_path_, exist_ok=True)"
   ],
   "metadata": {
    "collapsed": false,
    "ExecuteTime": {
     "end_time": "2023-05-21T15:00:29.046137700Z",
     "start_time": "2023-05-21T15:00:29.014268900Z"
    }
   }
  },
  {
   "cell_type": "code",
   "execution_count": 9,
   "outputs": [
    {
     "name": "stderr",
     "output_type": "stream",
     "text": [
      "week:   0%|          | 0/18 [00:00<?, ?it/s]\n",
      "Posts - SFWRedheads - week:   0%|          | 0/100 [00:00<?, ?it/s]\u001B[A\n",
      "Posts - SFWRedheads - week:  17%|█▋        | 17/100 [00:00<00:00, 170.00it/s]\u001B[A\n",
      "Posts - SFWRedheads - week:  34%|███▍      | 34/100 [00:00<00:00, 167.05it/s]\u001B[A\n",
      "Posts - SFWRedheads - week:  51%|█████     | 51/100 [00:00<00:00, 165.40it/s]\u001B[A\n",
      "Posts - SFWRedheads - week:  68%|██████▊   | 68/100 [00:00<00:00, 166.52it/s]\u001B[A\n",
      "Posts - SFWRedheads - week: 100%|██████████| 100/100 [00:00<00:00, 168.63it/s][A\n",
      "week:   6%|▌         | 1/18 [00:02<00:34,  2.04s/it]\n",
      "Posts - sfwpetite - week:   0%|          | 0/41 [00:00<?, ?it/s]\u001B[A\n",
      "Posts - sfwpetite - week: 100%|██████████| 41/41 [00:00<00:00, 204.00it/s]\u001B[A\n",
      "week:  11%|█         | 2/18 [00:12<01:49,  6.85s/it]\n",
      "Posts - SFWNextDoorGirls - week:   0%|          | 0/100 [00:00<?, ?it/s]\u001B[A\n",
      "Posts - SFWNextDoorGirls - week:  21%|██        | 21/100 [00:00<00:00, 207.87it/s]\u001B[A\n",
      "Posts - SFWNextDoorGirls - week:  42%|████▏     | 42/100 [00:00<00:00, 200.88it/s]\u001B[A\n",
      "Posts - SFWNextDoorGirls - week:  63%|██████▎   | 63/100 [00:00<00:00, 196.20it/s]\u001B[A\n",
      "Posts - SFWNextDoorGirls - week: 100%|██████████| 100/100 [00:00<00:00, 195.68it/s][A\n",
      "week:  17%|█▋        | 3/18 [00:23<02:13,  8.87s/it]\n",
      "Posts - fatsquirrelhate - week:   0%|          | 0/100 [00:00<?, ?it/s]\u001B[A\n",
      "Posts - fatsquirrelhate - week:  23%|██▎       | 23/100 [00:00<00:00, 221.09it/s]\u001B[A\n",
      "Posts - fatsquirrelhate - week:  46%|████▌     | 46/100 [00:00<00:00, 215.04it/s]\u001B[A\n",
      "Posts - fatsquirrelhate - week:  68%|██████▊   | 68/100 [00:00<00:00, 211.66it/s]\u001B[A\n",
      "Posts - fatsquirrelhate - week: 100%|██████████| 100/100 [00:00<00:00, 209.64it/s][A\n",
      "week:  22%|██▏       | 4/18 [00:35<02:20, 10.01s/it]\n",
      "Posts - realasians - week:   0%|          | 0/100 [00:00<?, ?it/s]\u001B[A\n",
      "Posts - realasians - week:  25%|██▌       | 25/100 [00:00<00:00, 245.04it/s]\u001B[A\n",
      "Posts - realasians - week:  50%|█████     | 50/100 [00:00<00:00, 242.32it/s]\u001B[A\n",
      "Posts - realasians - week:  75%|███████▌  | 75/100 [00:00<00:00, 239.29it/s]\u001B[A\n",
      "Posts - realasians - week: 100%|██████████| 100/100 [00:00<00:00, 235.84it/s][A\n",
      "week:  28%|██▊       | 5/18 [00:47<02:18, 10.67s/it]\n",
      "Posts - KoreanHotties - week:   0%|          | 0/100 [00:00<?, ?it/s]\u001B[A\n",
      "Posts - KoreanHotties - week:  25%|██▌       | 25/100 [00:00<00:00, 242.78it/s]\u001B[A\n",
      "Posts - KoreanHotties - week:  50%|█████     | 50/100 [00:00<00:00, 242.74it/s]\u001B[A\n",
      "Posts - KoreanHotties - week:  75%|███████▌  | 75/100 [00:00<00:00, 238.47it/s]\u001B[A\n",
      "Posts - KoreanHotties - week: 100%|██████████| 100/100 [00:00<00:00, 237.19it/s][A\n",
      "week:  33%|███▎      | 6/18 [00:58<02:12, 11.05s/it]\n",
      "Posts - prettyasiangirls - week:   0%|          | 0/100 [00:00<?, ?it/s]\u001B[A\n",
      "Posts - prettyasiangirls - week:  21%|██        | 21/100 [00:00<00:00, 205.98it/s]\u001B[A\n",
      "Posts - prettyasiangirls - week:  43%|████▎     | 43/100 [00:00<00:00, 212.92it/s]\u001B[A\n",
      "Posts - prettyasiangirls - week:  65%|██████▌   | 65/100 [00:00<00:00, 215.13it/s]\u001B[A\n",
      "Posts - prettyasiangirls - week: 100%|██████████| 100/100 [00:00<00:00, 212.79it/s][A\n",
      "week:  39%|███▉      | 7/18 [01:10<02:04, 11.36s/it]\n",
      "Posts - AsianOfficeLady - week: 100%|██████████| 14/14 [00:00<00:00, 225.92it/s]\n",
      "week:  44%|████▍     | 8/18 [01:21<01:50, 11.00s/it]\n",
      "Posts - mildlypenis - week:   0%|          | 0/100 [00:00<?, ?it/s]\u001B[A\n",
      "Posts - mildlypenis - week:  19%|█▉        | 19/100 [00:00<00:00, 179.25it/s]\u001B[A\n",
      "Posts - mildlypenis - week:  37%|███▋      | 37/100 [00:00<00:00, 174.67it/s]\u001B[A\n",
      "Posts - mildlypenis - week:  56%|█████▌    | 56/100 [00:00<00:00, 176.76it/s]\u001B[A\n",
      "Posts - mildlypenis - week:  77%|███████▋  | 77/100 [00:00<00:00, 186.58it/s]\u001B[A\n",
      "Posts - mildlypenis - week: 100%|██████████| 100/100 [00:00<00:00, 185.88it/s][A\n",
      "week:  50%|█████     | 9/18 [01:33<01:41, 11.30s/it]\n",
      "Posts - AsianInvasion - week: 100%|██████████| 14/14 [00:00<00:00, 212.10it/s]\n",
      "week:  56%|█████▌    | 10/18 [01:42<01:26, 10.82s/it]\n",
      "Posts - sexygirls - week:   0%|          | 0/90 [00:00<?, ?it/s]\u001B[A\n",
      "Posts - sexygirls - week:  23%|██▎       | 21/90 [00:00<00:00, 205.83it/s]\u001B[A\n",
      "Posts - sexygirls - week:  47%|████▋     | 42/90 [00:00<00:00, 205.85it/s]\u001B[A\n",
      "Posts - sexygirls - week:  70%|███████   | 63/90 [00:00<00:00, 203.14it/s]\u001B[A\n",
      "Posts - sexygirls - week: 100%|██████████| 90/90 [00:00<00:00, 199.11it/s]\u001B[A\n",
      "week:  61%|██████    | 11/18 [01:54<01:16, 10.96s/it]\n",
      "Posts - PrettyGirls - week:   0%|          | 0/100 [00:00<?, ?it/s]\u001B[A\n",
      "Posts - PrettyGirls - week:  22%|██▏       | 22/100 [00:00<00:00, 211.49it/s]\u001B[A\n",
      "Posts - PrettyGirls - week:  44%|████▍     | 44/100 [00:00<00:00, 210.36it/s]\u001B[A\n",
      "Posts - PrettyGirls - week:  66%|██████▌   | 66/100 [00:00<00:00, 208.16it/s]\u001B[A\n",
      "Posts - PrettyGirls - week: 100%|██████████| 100/100 [00:00<00:00, 203.65it/s][A\n",
      "week:  67%|██████▋   | 12/18 [02:05<01:06, 11.06s/it]\n",
      "Posts - gentlemanboners - week:   0%|          | 0/100 [00:00<?, ?it/s]\u001B[A\n",
      "Posts - gentlemanboners - week:  22%|██▏       | 22/100 [00:00<00:00, 209.52it/s]\u001B[A\n",
      "Posts - gentlemanboners - week:  43%|████▎     | 43/100 [00:00<00:00, 168.91it/s]\u001B[A\n",
      "Posts - gentlemanboners - week:  61%|██████    | 61/100 [00:00<00:00, 170.59it/s]\u001B[A\n",
      "Posts - gentlemanboners - week: 100%|██████████| 100/100 [00:00<00:00, 179.53it/s][A\n",
      "week:  72%|███████▏  | 13/18 [02:16<00:55, 11.09s/it]\n",
      "Posts - hotofficegirls - week: 100%|██████████| 15/15 [00:00<00:00, 195.02it/s]\n",
      "week:  78%|███████▊  | 14/18 [02:26<00:42, 10.68s/it]\n",
      "Posts - tightdresses - week:   0%|          | 0/100 [00:00<?, ?it/s]\u001B[A\n",
      "Posts - tightdresses - week:  16%|█▌        | 16/100 [00:00<00:00, 156.86it/s]\u001B[A\n",
      "Posts - tightdresses - week:  32%|███▏      | 32/100 [00:00<00:00, 144.37it/s]\u001B[A\n",
      "Posts - tightdresses - week:  47%|████▋     | 47/100 [00:00<00:00, 140.73it/s]\u001B[A\n",
      "Posts - tightdresses - week:  62%|██████▏   | 62/100 [00:00<00:00, 135.14it/s]\u001B[A\n",
      "Posts - tightdresses - week:  76%|███████▌  | 76/100 [00:00<00:00, 135.85it/s]\u001B[A\n",
      "Posts - tightdresses - week: 100%|██████████| 100/100 [00:00<00:00, 138.12it/s][A\n",
      "week:  83%|████████▎ | 15/18 [02:38<00:33, 11.11s/it]\n",
      "Posts - DLAH - week:   0%|          | 0/100 [00:00<?, ?it/s]\u001B[A\n",
      "Posts - DLAH - week:  11%|█         | 11/100 [00:00<00:00, 106.80it/s]\u001B[A\n",
      "Posts - DLAH - week:  22%|██▏       | 22/100 [00:00<00:00, 101.03it/s]\u001B[A\n",
      "Posts - DLAH - week:  33%|███▎      | 33/100 [00:00<00:00, 99.72it/s] \u001B[A\n",
      "Posts - DLAH - week:  44%|████▍     | 44/100 [00:00<00:00, 102.40it/s]\u001B[A\n",
      "Posts - DLAH - week:  56%|█████▌    | 56/100 [00:00<00:00, 106.99it/s]\u001B[A\n",
      "Posts - DLAH - week:  67%|██████▋   | 67/100 [00:00<00:00, 105.56it/s]\u001B[A\n",
      "Posts - DLAH - week:  78%|███████▊  | 78/100 [00:00<00:00, 104.34it/s]\u001B[A\n",
      "Posts - DLAH - week:  89%|████████▉ | 89/100 [00:00<00:00, 102.63it/s]\u001B[A\n",
      "Posts - DLAH - week: 100%|██████████| 100/100 [00:00<00:00, 103.31it/s]\u001B[A\n",
      "week:  89%|████████▉ | 16/18 [02:50<00:22, 11.31s/it]\n",
      "Posts - bathandbodyworks - week:   0%|          | 0/100 [00:00<?, ?it/s]\u001B[A\n",
      "Posts - bathandbodyworks - week:  11%|█         | 11/100 [00:00<00:00, 100.92it/s]\u001B[A\n",
      "Posts - bathandbodyworks - week:  22%|██▏       | 22/100 [00:00<00:00, 104.88it/s]\u001B[A\n",
      "Posts - bathandbodyworks - week:  34%|███▍      | 34/100 [00:00<00:00, 108.24it/s]\u001B[A\n",
      "Posts - bathandbodyworks - week:  45%|████▌     | 45/100 [00:00<00:00, 100.48it/s]\u001B[A\n",
      "Posts - bathandbodyworks - week:  56%|█████▌    | 56/100 [00:00<00:00, 96.56it/s] \u001B[A\n",
      "Posts - bathandbodyworks - week:  66%|██████▌   | 66/100 [00:00<00:00, 93.03it/s]\u001B[A\n",
      "Posts - bathandbodyworks - week:  76%|███████▌  | 76/100 [00:00<00:00, 93.44it/s]\u001B[A\n",
      "Posts - bathandbodyworks - week:  86%|████████▌ | 86/100 [00:00<00:00, 88.85it/s]\u001B[A\n",
      "Posts - bathandbodyworks - week: 100%|██████████| 100/100 [00:01<00:00, 94.52it/s][A\n",
      "week:  94%|█████████▍| 17/18 [03:01<00:11, 11.38s/it]\n",
      "Posts - AesPleasingAsianGirls - week:   0%|          | 0/26 [00:00<?, ?it/s]\u001B[A\n",
      "Posts - AesPleasingAsianGirls - week:  46%|████▌     | 12/26 [00:00<00:00, 115.38it/s]\u001B[A\n",
      "Posts - AesPleasingAsianGirls - week: 100%|██████████| 26/26 [00:00<00:00, 98.48it/s] \u001B[A\n",
      "week: 100%|██████████| 18/18 [03:11<00:00, 10.64s/it]\n",
      "day:   0%|          | 0/18 [00:00<?, ?it/s]\n",
      "Posts - SFWRedheads - day:   0%|          | 0/54 [00:00<?, ?it/s]\u001B[A\n",
      "Posts - SFWRedheads - day:  20%|██        | 11/54 [00:00<00:00, 104.76it/s]\u001B[A\n",
      "Posts - SFWRedheads - day:  41%|████      | 22/54 [00:00<00:00, 102.47it/s]\u001B[A\n",
      "Posts - SFWRedheads - day:  61%|██████    | 33/54 [00:00<00:00, 100.90it/s]\u001B[A\n",
      "Posts - SFWRedheads - day: 100%|██████████| 54/54 [00:00<00:00, 99.63it/s] \u001B[A\n",
      "day:   6%|▌         | 1/18 [00:12<03:27, 12.21s/it]\n",
      "Posts - sfwpetite - day: 100%|██████████| 8/8 [00:00<00:00, 98.77it/s]\n",
      "day:  11%|█         | 2/18 [00:21<02:51, 10.75s/it]\n",
      "Posts - SFWNextDoorGirls - day:   0%|          | 0/79 [00:00<?, ?it/s]\u001B[A\n",
      "Posts - SFWNextDoorGirls - day:  10%|█         | 8/79 [00:00<00:00, 78.44it/s]\u001B[A\n",
      "Posts - SFWNextDoorGirls - day:  22%|██▏       | 17/79 [00:00<00:00, 78.33it/s]\u001B[A\n",
      "Posts - SFWNextDoorGirls - day:  33%|███▎      | 26/79 [00:00<00:00, 79.92it/s]\u001B[A\n",
      "Posts - SFWNextDoorGirls - day:  44%|████▍     | 35/79 [00:00<00:00, 80.09it/s]\u001B[A\n",
      "Posts - SFWNextDoorGirls - day:  56%|█████▌    | 44/79 [00:00<00:00, 77.67it/s]\u001B[A\n",
      "Posts - SFWNextDoorGirls - day:  68%|██████▊   | 54/79 [00:00<00:00, 83.30it/s]\u001B[A\n",
      "Posts - SFWNextDoorGirls - day:  80%|███████▉  | 63/79 [00:00<00:00, 81.38it/s]\u001B[A\n",
      "Posts - SFWNextDoorGirls - day: 100%|██████████| 79/79 [00:00<00:00, 79.08it/s]\u001B[A\n",
      "day:  17%|█▋        | 3/18 [00:33<02:47, 11.17s/it]\n",
      "Posts - fatsquirrelhate - day:   0%|          | 0/27 [00:00<?, ?it/s]\u001B[A\n",
      "Posts - fatsquirrelhate - day:  30%|██▉       | 8/27 [00:00<00:00, 76.19it/s]\u001B[A\n",
      "Posts - fatsquirrelhate - day:  59%|█████▉    | 16/27 [00:00<00:00, 75.77it/s]\u001B[A\n",
      "Posts - fatsquirrelhate - day: 100%|██████████| 27/27 [00:00<00:00, 70.13it/s]\u001B[A\n",
      "day:  22%|██▏       | 4/18 [00:43<02:28, 10.60s/it]\n",
      "Posts - realasians - day:   0%|          | 0/47 [00:00<?, ?it/s]\u001B[A\n",
      "Posts - realasians - day:  21%|██▏       | 10/47 [00:00<00:00, 93.22it/s]\u001B[A\n",
      "Posts - realasians - day:  43%|████▎     | 20/47 [00:00<00:00, 73.88it/s]\u001B[A\n",
      "Posts - realasians - day:  60%|█████▉    | 28/47 [00:00<00:00, 75.94it/s]\u001B[A\n",
      "Posts - realasians - day:  77%|███████▋  | 36/47 [00:00<00:00, 75.77it/s]\u001B[A\n",
      "Posts - realasians - day: 100%|██████████| 47/47 [00:00<00:00, 76.02it/s]\u001B[A\n",
      "day:  28%|██▊       | 5/18 [00:54<02:20, 10.82s/it]\n",
      "Posts - KoreanHotties - day:   0%|          | 0/27 [00:00<?, ?it/s]\u001B[A\n",
      "Posts - KoreanHotties - day:  33%|███▎      | 9/27 [00:00<00:00, 89.11it/s]\u001B[A\n",
      "Posts - KoreanHotties - day:  67%|██████▋   | 18/27 [00:00<00:00, 81.95it/s]\u001B[A\n",
      "Posts - KoreanHotties - day: 100%|██████████| 27/27 [00:00<00:00, 79.65it/s]\u001B[A\n",
      "day:  33%|███▎      | 6/18 [01:04<02:07, 10.63s/it]\n",
      "Posts - prettyasiangirls - day:   0%|          | 0/36 [00:00<?, ?it/s]\u001B[A\n",
      "Posts - prettyasiangirls - day:  44%|████▍     | 16/36 [00:00<00:00, 155.29it/s]\u001B[A\n",
      "Posts - prettyasiangirls - day: 100%|██████████| 36/36 [00:00<00:00, 162.14it/s]\u001B[A\n",
      "day:  39%|███▉      | 7/18 [01:15<01:56, 10.59s/it]\n",
      "Posts - AsianOfficeLady - day: 100%|██████████| 2/2 [00:00<00:00, 153.88it/s]\n",
      "day:  44%|████▍     | 8/18 [01:25<01:43, 10.37s/it]\n",
      "Posts - mildlypenis - day:   0%|          | 0/43 [00:00<?, ?it/s]\u001B[A\n",
      "Posts - mildlypenis - day:  47%|████▋     | 20/43 [00:00<00:00, 188.69it/s]\u001B[A\n",
      "Posts - mildlypenis - day: 100%|██████████| 43/43 [00:00<00:00, 183.76it/s]\u001B[A\n",
      "day:  50%|█████     | 9/18 [01:36<01:34, 10.51s/it]\n",
      "Posts - AsianInvasion - day: 100%|██████████| 2/2 [00:00<00:00, 181.82it/s]\n",
      "day:  56%|█████▌    | 10/18 [01:45<01:22, 10.31s/it]\n",
      "Posts - sexygirls - day: 100%|██████████| 12/12 [00:00<00:00, 179.10it/s]\n",
      "day:  61%|██████    | 11/18 [01:56<01:12, 10.29s/it]\n",
      "Posts - PrettyGirls - day: 100%|██████████| 19/19 [00:00<00:00, 231.76it/s]\n",
      "day:  67%|██████▋   | 12/18 [02:06<01:02, 10.40s/it]\n",
      "Posts - gentlemanboners - day:   0%|          | 0/36 [00:00<?, ?it/s]\u001B[A\n",
      "Posts - gentlemanboners - day: 100%|██████████| 36/36 [00:00<00:00, 205.71it/s]\u001B[A\n",
      "day:  72%|███████▏  | 13/18 [02:17<00:51, 10.40s/it]\n",
      "Posts - hotofficegirls - day: 100%|██████████| 4/4 [00:00<00:00, 246.22it/s]\n",
      "day:  78%|███████▊  | 14/18 [02:27<00:41, 10.27s/it]\n",
      "Posts - tightdresses - day:   0%|          | 0/25 [00:00<?, ?it/s]\u001B[A\n",
      "Posts - tightdresses - day: 100%|██████████| 25/25 [00:00<00:00, 235.79it/s]\u001B[A\n",
      "day:  83%|████████▎ | 15/18 [02:37<00:31, 10.35s/it]\n",
      "Posts - DLAH - day:   0%|          | 0/41 [00:00<?, ?it/s]\u001B[A\n",
      "Posts - DLAH - day: 100%|██████████| 41/41 [00:00<00:00, 238.34it/s]\u001B[A\n",
      "day:  89%|████████▉ | 16/18 [02:48<00:21, 10.53s/it]\n",
      "Posts - bathandbodyworks - day:   0%|          | 0/44 [00:00<?, ?it/s]\u001B[A\n",
      "Posts - bathandbodyworks - day:  45%|████▌     | 20/44 [00:00<00:00, 200.00it/s]\u001B[A\n",
      "Posts - bathandbodyworks - day: 100%|██████████| 44/44 [00:00<00:00, 188.04it/s]\u001B[A\n",
      "day:  94%|█████████▍| 17/18 [02:59<00:10, 10.59s/it]\n",
      "Posts - AesPleasingAsianGirls - day: 100%|██████████| 4/4 [00:00<00:00, 210.27it/s]\n",
      "day: 100%|██████████| 18/18 [03:09<00:00, 10.52s/it]\n"
     ]
    }
   ],
   "source": [
    "with open('log.txt', 'a') as f:\n",
    "\tfor time_filter in ['week', 'day']:\n",
    "\t\ts = tqdm(subs, desc=f\"{time_filter}\", total=len(subs))\n",
    "\t\tfor sub in s:\n",
    "\t\t# for sub in tqdm(subs, desc=f\"{time_filter}\", total=len(subs)):\n",
    "\t\t\ttemp_dir_path = f\"temp/{sub}\"\n",
    "\t\t\ttry:\n",
    "\t\t\t\tsubreddit_stream: ListingGenerator = reddit.subreddit(display_name=sub).top(limit=100, time_filter=time_filter)\n",
    "\t\t\t\tsubreddit_stream = list(subreddit_stream)\n",
    "\t\t\t\tp = tqdm(subreddit_stream, total=len(subreddit_stream), desc=f\"Posts - {sub} - {time_filter}\")\n",
    "\t\t\t\tfor submission in p:\n",
    "\t\t\t\t\tif submission is None:\n",
    "\t\t\t\t\t\tcontinue\n",
    "\t\t\t\t\telse:\n",
    "\t\t\t\t\t\tif submission.id in extant_data.index.values:\n",
    "\t\t\t\t\t\t\tcontinue\n",
    "\t\t\t\t\ttry:\n",
    "\t\t\t\t\t\tauthor_name = 'Unknown'\n",
    "\t\t\t\t\t\tsubreddit_name = sub\n",
    "\t\t\t\t\t\ttry:\n",
    "\t\t\t\t\t\t\tauthor_name = submission.author.name\n",
    "\t\t\t\t\t\texcept Exception as e:\n",
    "\t\t\t\t\t\t\tauthor_name = 'Unknown'\n",
    "\t\t\t\t\t\t\tpass\n",
    "\t\t\t\t\t\tp = {\n",
    "\t\t\t\t\t\t\t'id': submission.id,\n",
    "\t\t\t\t\t\t\t'subreddit': subreddit_name,\n",
    "\t\t\t\t\t\t\t'author': author_name,\n",
    "\t\t\t\t\t\t\t'title': submission.title,\n",
    "\t\t\t\t\t\t\t'caption': '',\n",
    "\t\t\t\t\t\t\t'hash': '',\n",
    "\t\t\t\t\t\t\t'permalink': submission.permalink,\n",
    "\t\t\t\t\t\t\t'original_url': submission.url,\n",
    "\t\t\t\t\t\t\t'image_name': '',\n",
    "\t\t\t\t\t\t\t'path': '',\n",
    "\t\t\t\t\t\t\t'thumbnail_path': '',\n",
    "\t\t\t\t\t\t\t'exists': False,\n",
    "\t\t\t\t\t\t\t'curated': False,\n",
    "\t\t\t\t\t\t\t'Tags': ['']\n",
    "\t\t\t\t\t\t}\n",
    "\t\t\t\t\t\tpd.DataFrame([p]).to_parquet(f\"{temp_dir_path}/{submission.id}.parquet\")\n",
    "\t\t\t\t\texcept Exception as e:\n",
    "\t\t\t\t\t\tlog = functions.write_log_message(submission.id, sub, \"Error Writing Post\", e)\n",
    "\t\t\t\t\t\tf.write(log)\n",
    "\t\t\t\t\t\tcontinue\n",
    "\t\t\texcept Exception as e:\n",
    "\t\t\t\tlog = functions.write_log_message(submission.id, sub, f\"Error Getting Posts For SubReddit\", e)\n",
    "\t\t\t\tf.write(log)\n",
    "\t\t\t\tcontinue"
   ],
   "metadata": {
    "collapsed": false,
    "ExecuteTime": {
     "end_time": "2023-05-21T15:06:50.017658500Z",
     "start_time": "2023-05-21T15:00:29.040250200Z"
    }
   }
  },
  {
   "cell_type": "code",
   "execution_count": 10,
   "outputs": [
    {
     "name": "stderr",
     "output_type": "stream",
     "text": [
      "Reading Temp Dir For Subs...: 100%|██████████| 18/18 [00:00<00:00, 20.86it/s]\n"
     ]
    },
    {
     "data": {
      "text/plain": "'==== TEMP DATA ===='"
     },
     "metadata": {},
     "output_type": "display_data"
    },
    {
     "data": {
      "text/plain": "(1992, 15)"
     },
     "metadata": {},
     "output_type": "display_data"
    },
    {
     "data": {
      "text/plain": "              id              subreddit                author   \nid                                                              \n13h67sb  13h67sb            SFWRedheads       Dasharkiss_real  \\\n13h93zj  13h93zj            SFWRedheads       thatgirlmarie97   \n13h9lq5  13h9lq5            SFWRedheads              snildeep   \n13hc2uz  13hc2uz            SFWRedheads            nurselacey   \n13hcvxr  13hcvxr            SFWRedheads            Puzzled_MJ   \n...          ...                    ...                   ...   \n13mh4fw  13mh4fw  AesPleasingAsianGirls  Korean_Celebrity_Fap   \n13n9xdx  13n9xdx  AesPleasingAsianGirls          yummybanchan   \n13nm990  13nm990  AesPleasingAsianGirls  Defiant-Appearance64   \n13nmrk8  13nmrk8  AesPleasingAsianGirls   Throwawaythebasuras   \n13nnpg1  13nnpg1  AesPleasingAsianGirls           miazinhaaaa   \n\n                                              title caption hash   \nid                                                                 \n13h67sb       Love life and life will love you too.               \\\n13h93zj               Who wants to play some games?                \n13h9lq5                Hey! My eyes are up here! 😂💕                \n13hc2uz                 How do you like my haircut?                \n13hcvxr  Happy Sunday. Where would u take me today?                \n...                                             ...     ...  ...   \n13mh4fw                            Arin Compilation                \n13n9xdx                                  Song Yu Qi                \n13nm990                            Somi compilation                \n13nmrk8                                    nice car                \n13nnpg1              I love this beach (Copacabana)                \n\n                                                 permalink   \nid                                                           \n13h67sb  /r/SFWRedheads/comments/13h67sb/love_life_and_...  \\\n13h93zj  /r/SFWRedheads/comments/13h93zj/who_wants_to_p...   \n13h9lq5  /r/SFWRedheads/comments/13h9lq5/hey_my_eyes_ar...   \n13hc2uz  /r/SFWRedheads/comments/13hc2uz/how_do_you_lik...   \n13hcvxr  /r/SFWRedheads/comments/13hcvxr/happy_sunday_w...   \n...                                                    ...   \n13mh4fw  /r/AesPleasingAsianGirls/comments/13mh4fw/arin...   \n13n9xdx  /r/AesPleasingAsianGirls/comments/13n9xdx/song...   \n13nm990  /r/AesPleasingAsianGirls/comments/13nm990/somi...   \n13nmrk8  /r/AesPleasingAsianGirls/comments/13nmrk8/nice...   \n13nnpg1  /r/AesPleasingAsianGirls/comments/13nnpg1/i_lo...   \n\n                                   original_url   image_name path model   \nid                                                                        \n13h67sb         https://i.imgur.com/NBCDz3f.jpg  13h67sb.jpg             \\\n13h93zj  https://www.reddit.com/gallery/13h93zj  13h93zj.jpg              \n13h9lq5     https://i.redd.it/schip1qaotza1.jpg  13h9lq5.jpg              \n13hc2uz     https://i.redd.it/0qgvz4uy9uza1.jpg  13hc2uz.jpg              \n13hcvxr     https://i.redd.it/h6bwkyw8guza1.jpg  13hcvxr.jpg              \n...                                         ...          ...  ...   ...   \n13mh4fw        https://i.imgur.com/bukbo8v.gifv  13mh4fw.jpg              \n13n9xdx     https://i.redd.it/xl0v8fgbk31b1.jpg  13n9xdx.jpg              \n13nm990        https://i.imgur.com/ISJoDGW.gifv  13nm990.jpg              \n13nmrk8  https://www.reddit.com/gallery/13nmrk8  13nmrk8.jpg              \n13nnpg1     https://i.redd.it/7udfhs8ow61b1.jpg  13nnpg1.jpg              \n\n         exists  curated accept tags  \nid                                    \n13h67sb   False    False  False   []  \n13h93zj   False    False  False   []  \n13h9lq5   False    False  False   []  \n13hc2uz   False    False  False   []  \n13hcvxr   False    False  False   []  \n...         ...      ...    ...  ...  \n13mh4fw   False    False  False   []  \n13n9xdx   False    False  False   []  \n13nm990   False    False  False   []  \n13nmrk8   False    False  False   []  \n13nnpg1   False    False  False   []  \n\n[1992 rows x 15 columns]",
      "text/html": "<div>\n<style scoped>\n    .dataframe tbody tr th:only-of-type {\n        vertical-align: middle;\n    }\n\n    .dataframe tbody tr th {\n        vertical-align: top;\n    }\n\n    .dataframe thead th {\n        text-align: right;\n    }\n</style>\n<table border=\"1\" class=\"dataframe\">\n  <thead>\n    <tr style=\"text-align: right;\">\n      <th></th>\n      <th>id</th>\n      <th>subreddit</th>\n      <th>author</th>\n      <th>title</th>\n      <th>caption</th>\n      <th>hash</th>\n      <th>permalink</th>\n      <th>original_url</th>\n      <th>image_name</th>\n      <th>path</th>\n      <th>model</th>\n      <th>exists</th>\n      <th>curated</th>\n      <th>accept</th>\n      <th>tags</th>\n    </tr>\n    <tr>\n      <th>id</th>\n      <th></th>\n      <th></th>\n      <th></th>\n      <th></th>\n      <th></th>\n      <th></th>\n      <th></th>\n      <th></th>\n      <th></th>\n      <th></th>\n      <th></th>\n      <th></th>\n      <th></th>\n      <th></th>\n      <th></th>\n    </tr>\n  </thead>\n  <tbody>\n    <tr>\n      <th>13h67sb</th>\n      <td>13h67sb</td>\n      <td>SFWRedheads</td>\n      <td>Dasharkiss_real</td>\n      <td>Love life and life will love you too.</td>\n      <td></td>\n      <td></td>\n      <td>/r/SFWRedheads/comments/13h67sb/love_life_and_...</td>\n      <td>https://i.imgur.com/NBCDz3f.jpg</td>\n      <td>13h67sb.jpg</td>\n      <td></td>\n      <td></td>\n      <td>False</td>\n      <td>False</td>\n      <td>False</td>\n      <td>[]</td>\n    </tr>\n    <tr>\n      <th>13h93zj</th>\n      <td>13h93zj</td>\n      <td>SFWRedheads</td>\n      <td>thatgirlmarie97</td>\n      <td>Who wants to play some games?</td>\n      <td></td>\n      <td></td>\n      <td>/r/SFWRedheads/comments/13h93zj/who_wants_to_p...</td>\n      <td>https://www.reddit.com/gallery/13h93zj</td>\n      <td>13h93zj.jpg</td>\n      <td></td>\n      <td></td>\n      <td>False</td>\n      <td>False</td>\n      <td>False</td>\n      <td>[]</td>\n    </tr>\n    <tr>\n      <th>13h9lq5</th>\n      <td>13h9lq5</td>\n      <td>SFWRedheads</td>\n      <td>snildeep</td>\n      <td>Hey! My eyes are up here! 😂💕</td>\n      <td></td>\n      <td></td>\n      <td>/r/SFWRedheads/comments/13h9lq5/hey_my_eyes_ar...</td>\n      <td>https://i.redd.it/schip1qaotza1.jpg</td>\n      <td>13h9lq5.jpg</td>\n      <td></td>\n      <td></td>\n      <td>False</td>\n      <td>False</td>\n      <td>False</td>\n      <td>[]</td>\n    </tr>\n    <tr>\n      <th>13hc2uz</th>\n      <td>13hc2uz</td>\n      <td>SFWRedheads</td>\n      <td>nurselacey</td>\n      <td>How do you like my haircut?</td>\n      <td></td>\n      <td></td>\n      <td>/r/SFWRedheads/comments/13hc2uz/how_do_you_lik...</td>\n      <td>https://i.redd.it/0qgvz4uy9uza1.jpg</td>\n      <td>13hc2uz.jpg</td>\n      <td></td>\n      <td></td>\n      <td>False</td>\n      <td>False</td>\n      <td>False</td>\n      <td>[]</td>\n    </tr>\n    <tr>\n      <th>13hcvxr</th>\n      <td>13hcvxr</td>\n      <td>SFWRedheads</td>\n      <td>Puzzled_MJ</td>\n      <td>Happy Sunday. Where would u take me today?</td>\n      <td></td>\n      <td></td>\n      <td>/r/SFWRedheads/comments/13hcvxr/happy_sunday_w...</td>\n      <td>https://i.redd.it/h6bwkyw8guza1.jpg</td>\n      <td>13hcvxr.jpg</td>\n      <td></td>\n      <td></td>\n      <td>False</td>\n      <td>False</td>\n      <td>False</td>\n      <td>[]</td>\n    </tr>\n    <tr>\n      <th>...</th>\n      <td>...</td>\n      <td>...</td>\n      <td>...</td>\n      <td>...</td>\n      <td>...</td>\n      <td>...</td>\n      <td>...</td>\n      <td>...</td>\n      <td>...</td>\n      <td>...</td>\n      <td>...</td>\n      <td>...</td>\n      <td>...</td>\n      <td>...</td>\n      <td>...</td>\n    </tr>\n    <tr>\n      <th>13mh4fw</th>\n      <td>13mh4fw</td>\n      <td>AesPleasingAsianGirls</td>\n      <td>Korean_Celebrity_Fap</td>\n      <td>Arin Compilation</td>\n      <td></td>\n      <td></td>\n      <td>/r/AesPleasingAsianGirls/comments/13mh4fw/arin...</td>\n      <td>https://i.imgur.com/bukbo8v.gifv</td>\n      <td>13mh4fw.jpg</td>\n      <td></td>\n      <td></td>\n      <td>False</td>\n      <td>False</td>\n      <td>False</td>\n      <td>[]</td>\n    </tr>\n    <tr>\n      <th>13n9xdx</th>\n      <td>13n9xdx</td>\n      <td>AesPleasingAsianGirls</td>\n      <td>yummybanchan</td>\n      <td>Song Yu Qi</td>\n      <td></td>\n      <td></td>\n      <td>/r/AesPleasingAsianGirls/comments/13n9xdx/song...</td>\n      <td>https://i.redd.it/xl0v8fgbk31b1.jpg</td>\n      <td>13n9xdx.jpg</td>\n      <td></td>\n      <td></td>\n      <td>False</td>\n      <td>False</td>\n      <td>False</td>\n      <td>[]</td>\n    </tr>\n    <tr>\n      <th>13nm990</th>\n      <td>13nm990</td>\n      <td>AesPleasingAsianGirls</td>\n      <td>Defiant-Appearance64</td>\n      <td>Somi compilation</td>\n      <td></td>\n      <td></td>\n      <td>/r/AesPleasingAsianGirls/comments/13nm990/somi...</td>\n      <td>https://i.imgur.com/ISJoDGW.gifv</td>\n      <td>13nm990.jpg</td>\n      <td></td>\n      <td></td>\n      <td>False</td>\n      <td>False</td>\n      <td>False</td>\n      <td>[]</td>\n    </tr>\n    <tr>\n      <th>13nmrk8</th>\n      <td>13nmrk8</td>\n      <td>AesPleasingAsianGirls</td>\n      <td>Throwawaythebasuras</td>\n      <td>nice car</td>\n      <td></td>\n      <td></td>\n      <td>/r/AesPleasingAsianGirls/comments/13nmrk8/nice...</td>\n      <td>https://www.reddit.com/gallery/13nmrk8</td>\n      <td>13nmrk8.jpg</td>\n      <td></td>\n      <td></td>\n      <td>False</td>\n      <td>False</td>\n      <td>False</td>\n      <td>[]</td>\n    </tr>\n    <tr>\n      <th>13nnpg1</th>\n      <td>13nnpg1</td>\n      <td>AesPleasingAsianGirls</td>\n      <td>miazinhaaaa</td>\n      <td>I love this beach (Copacabana)</td>\n      <td></td>\n      <td></td>\n      <td>/r/AesPleasingAsianGirls/comments/13nnpg1/i_lo...</td>\n      <td>https://i.redd.it/7udfhs8ow61b1.jpg</td>\n      <td>13nnpg1.jpg</td>\n      <td></td>\n      <td></td>\n      <td>False</td>\n      <td>False</td>\n      <td>False</td>\n      <td>[]</td>\n    </tr>\n  </tbody>\n</table>\n<p>1992 rows × 15 columns</p>\n</div>"
     },
     "metadata": {},
     "output_type": "display_data"
    },
    {
     "name": "stdout",
     "output_type": "stream",
     "text": [
      "CPU times: total: 5.95 s\n",
      "Wall time: 2.75 s\n"
     ]
    }
   ],
   "source": [
    "%%time\n",
    "\n",
    "data = []\n",
    "for sub in tqdm(subs, desc=\"Reading Temp Dir For Subs...\"):\n",
    "\tdf = pandas.read_parquet(f\"temp/{sub}\", schema=schema, engine='pyarrow')\n",
    "\trecords = df.to_dict(orient='records')\n",
    "\tdata.extend(records)\n",
    "\n",
    "temp_data = pandas.DataFrame(data)\n",
    "\n",
    "for i, r in temp_data.iterrows():\n",
    "\ttemp_data.loc[i, 'image_name'] = r.id + \".jpg\"\n",
    "\ttemp_data.loc[i, 'path'] = \"\"\n",
    "\ttemp_data.loc[i, 'hash'] = \"\"\n",
    "\ttemp_data.loc[i, 'caption'] = \"\"\n",
    "\ttemp_data.loc[i, 'model'] = \"\"\n",
    "\ttemp_data.loc[i, 'exists'] = False\n",
    "\ttemp_data.loc[i, 'curated'] = False\n",
    "\ttemp_data.loc[i, 'accept'] = False\n",
    "\ttemp_data.loc[i, 'tags'] = ['']\n",
    "\n",
    "temp_data.set_index('id', inplace=True, drop=False)\n",
    "\n",
    "display(\"==== TEMP DATA ====\")\n",
    "display(temp_data.shape)\n",
    "display(temp_data)"
   ],
   "metadata": {
    "collapsed": false,
    "ExecuteTime": {
     "end_time": "2023-05-21T15:06:52.814885Z",
     "start_time": "2023-05-21T15:06:50.005658800Z"
    }
   }
  },
  {
   "cell_type": "code",
   "execution_count": 11,
   "outputs": [
    {
     "data": {
      "text/plain": "'==== FILTERED DATA ===='"
     },
     "metadata": {},
     "output_type": "display_data"
    },
    {
     "data": {
      "text/plain": "(84, 15)"
     },
     "metadata": {},
     "output_type": "display_data"
    },
    {
     "data": {
      "text/plain": "              id         subreddit                author   \nid                                                         \n13hgme0  13hgme0       SFWRedheads          Redhotwife88  \\\n13ibnsi  13ibnsi       SFWRedheads       Dasharkiss_real   \n13imeet  13imeet       SFWRedheads             imjenrose   \n13jm7mh  13jm7mh       SFWRedheads          Redhotwife88   \n13nr68v  13nr68v       SFWRedheads  ComprehensiveCap1691   \n...          ...               ...                   ...   \n13nwjqp  13nwjqp              DLAH      spicy_kingWest44   \n13nx3q5  13nx3q5              DLAH              robok212   \n13nt4ei  13nt4ei  bathandbodyworks           LadyMisfits   \n13nwdel  13nwdel  bathandbodyworks     lifeinsidethepage   \n13nwu1r  13nwu1r  bathandbodyworks     lifeinsidethepage   \n\n                                                     title caption hash   \nid                                                                        \n13hgme0     I Love wearing my Leather Pants and Heels! [F]               \\\n13ibnsi  I can live without money but I can't live with...                \n13imeet              Adorable girl to make your day better                \n13jm7mh      Do I look Cute for my Anniversary Dinner? [F]                \n13nr68v  I hope i can make your day better with a littl...                \n...                                                    ...     ...  ...   \n13nwjqp                              Gotta get them angles                \n13nx3q5  I know there is not much dress ... but there i...                \n13nt4ei                       Nice surprise from Micheal’s                \n13nwdel                                    Laundry Scoop 😉                \n13nwu1r  Bath and Body Works Semi Annual Sale Shopper B...                \n\n                                                 permalink   \nid                                                           \n13hgme0  /r/SFWRedheads/comments/13hgme0/i_love_wearing...  \\\n13ibnsi  /r/SFWRedheads/comments/13ibnsi/i_can_live_wit...   \n13imeet  /r/SFWRedheads/comments/13imeet/adorable_girl_...   \n13jm7mh  /r/SFWRedheads/comments/13jm7mh/do_i_look_cute...   \n13nr68v  /r/SFWRedheads/comments/13nr68v/i_hope_i_can_m...   \n...                                                    ...   \n13nwjqp    /r/DLAH/comments/13nwjqp/gotta_get_them_angles/   \n13nx3q5  /r/DLAH/comments/13nx3q5/i_know_there_is_not_m...   \n13nt4ei  /r/bathandbodyworks/comments/13nt4ei/nice_surp...   \n13nwdel  /r/bathandbodyworks/comments/13nwdel/laundry_s...   \n13nwu1r  /r/bathandbodyworks/comments/13nwu1r/bath_and_...   \n\n                                              original_url   image_name path   \nid                                                                             \n13hgme0    https://i.redgifs.com/i/frayedmadeupsparrow.jpg  13hgme0.jpg       \\\n13ibnsi    https://i.redgifs.com/i/imaginaryrawleveret.jpg  13ibnsi.jpg        \n13imeet  https://i.redgifs.com/i/dangerousfilthyhornedv...  13imeet.jpg        \n13jm7mh  https://i.redgifs.com/i/tensedarkmagentabedlin...  13jm7mh.jpg        \n13nr68v                https://i.redd.it/52i233v4u71b1.jpg  13nr68v.jpg        \n...                                                    ...          ...  ...   \n13nwjqp                https://i.redd.it/7xdtvt84l81b1.jpg  13nwjqp.jpg        \n13nx3q5                https://i.redd.it/1jdres3dp81b1.jpg  13nx3q5.jpg        \n13nt4ei                https://i.redd.it/mse5auo4681b1.jpg  13nt4ei.jpg        \n13nwdel                https://i.redd.it/zr5pm949271b1.jpg  13nwdel.jpg        \n13nwu1r                https://i.redd.it/ar0vy0zr571b1.jpg  13nwu1r.jpg        \n\n        model  exists  curated accept tags  \nid                                          \n13hgme0         False    False  False   []  \n13ibnsi         False    False  False   []  \n13imeet         False    False  False   []  \n13jm7mh         False    False  False   []  \n13nr68v         False    False  False   []  \n...       ...     ...      ...    ...  ...  \n13nwjqp         False    False  False   []  \n13nx3q5         False    False  False   []  \n13nt4ei         False    False  False   []  \n13nwdel         False    False  False   []  \n13nwu1r         False    False  False   []  \n\n[84 rows x 15 columns]",
      "text/html": "<div>\n<style scoped>\n    .dataframe tbody tr th:only-of-type {\n        vertical-align: middle;\n    }\n\n    .dataframe tbody tr th {\n        vertical-align: top;\n    }\n\n    .dataframe thead th {\n        text-align: right;\n    }\n</style>\n<table border=\"1\" class=\"dataframe\">\n  <thead>\n    <tr style=\"text-align: right;\">\n      <th></th>\n      <th>id</th>\n      <th>subreddit</th>\n      <th>author</th>\n      <th>title</th>\n      <th>caption</th>\n      <th>hash</th>\n      <th>permalink</th>\n      <th>original_url</th>\n      <th>image_name</th>\n      <th>path</th>\n      <th>model</th>\n      <th>exists</th>\n      <th>curated</th>\n      <th>accept</th>\n      <th>tags</th>\n    </tr>\n    <tr>\n      <th>id</th>\n      <th></th>\n      <th></th>\n      <th></th>\n      <th></th>\n      <th></th>\n      <th></th>\n      <th></th>\n      <th></th>\n      <th></th>\n      <th></th>\n      <th></th>\n      <th></th>\n      <th></th>\n      <th></th>\n      <th></th>\n    </tr>\n  </thead>\n  <tbody>\n    <tr>\n      <th>13hgme0</th>\n      <td>13hgme0</td>\n      <td>SFWRedheads</td>\n      <td>Redhotwife88</td>\n      <td>I Love wearing my Leather Pants and Heels! [F]</td>\n      <td></td>\n      <td></td>\n      <td>/r/SFWRedheads/comments/13hgme0/i_love_wearing...</td>\n      <td>https://i.redgifs.com/i/frayedmadeupsparrow.jpg</td>\n      <td>13hgme0.jpg</td>\n      <td></td>\n      <td></td>\n      <td>False</td>\n      <td>False</td>\n      <td>False</td>\n      <td>[]</td>\n    </tr>\n    <tr>\n      <th>13ibnsi</th>\n      <td>13ibnsi</td>\n      <td>SFWRedheads</td>\n      <td>Dasharkiss_real</td>\n      <td>I can live without money but I can't live with...</td>\n      <td></td>\n      <td></td>\n      <td>/r/SFWRedheads/comments/13ibnsi/i_can_live_wit...</td>\n      <td>https://i.redgifs.com/i/imaginaryrawleveret.jpg</td>\n      <td>13ibnsi.jpg</td>\n      <td></td>\n      <td></td>\n      <td>False</td>\n      <td>False</td>\n      <td>False</td>\n      <td>[]</td>\n    </tr>\n    <tr>\n      <th>13imeet</th>\n      <td>13imeet</td>\n      <td>SFWRedheads</td>\n      <td>imjenrose</td>\n      <td>Adorable girl to make your day better</td>\n      <td></td>\n      <td></td>\n      <td>/r/SFWRedheads/comments/13imeet/adorable_girl_...</td>\n      <td>https://i.redgifs.com/i/dangerousfilthyhornedv...</td>\n      <td>13imeet.jpg</td>\n      <td></td>\n      <td></td>\n      <td>False</td>\n      <td>False</td>\n      <td>False</td>\n      <td>[]</td>\n    </tr>\n    <tr>\n      <th>13jm7mh</th>\n      <td>13jm7mh</td>\n      <td>SFWRedheads</td>\n      <td>Redhotwife88</td>\n      <td>Do I look Cute for my Anniversary Dinner? [F]</td>\n      <td></td>\n      <td></td>\n      <td>/r/SFWRedheads/comments/13jm7mh/do_i_look_cute...</td>\n      <td>https://i.redgifs.com/i/tensedarkmagentabedlin...</td>\n      <td>13jm7mh.jpg</td>\n      <td></td>\n      <td></td>\n      <td>False</td>\n      <td>False</td>\n      <td>False</td>\n      <td>[]</td>\n    </tr>\n    <tr>\n      <th>13nr68v</th>\n      <td>13nr68v</td>\n      <td>SFWRedheads</td>\n      <td>ComprehensiveCap1691</td>\n      <td>I hope i can make your day better with a littl...</td>\n      <td></td>\n      <td></td>\n      <td>/r/SFWRedheads/comments/13nr68v/i_hope_i_can_m...</td>\n      <td>https://i.redd.it/52i233v4u71b1.jpg</td>\n      <td>13nr68v.jpg</td>\n      <td></td>\n      <td></td>\n      <td>False</td>\n      <td>False</td>\n      <td>False</td>\n      <td>[]</td>\n    </tr>\n    <tr>\n      <th>...</th>\n      <td>...</td>\n      <td>...</td>\n      <td>...</td>\n      <td>...</td>\n      <td>...</td>\n      <td>...</td>\n      <td>...</td>\n      <td>...</td>\n      <td>...</td>\n      <td>...</td>\n      <td>...</td>\n      <td>...</td>\n      <td>...</td>\n      <td>...</td>\n      <td>...</td>\n    </tr>\n    <tr>\n      <th>13nwjqp</th>\n      <td>13nwjqp</td>\n      <td>DLAH</td>\n      <td>spicy_kingWest44</td>\n      <td>Gotta get them angles</td>\n      <td></td>\n      <td></td>\n      <td>/r/DLAH/comments/13nwjqp/gotta_get_them_angles/</td>\n      <td>https://i.redd.it/7xdtvt84l81b1.jpg</td>\n      <td>13nwjqp.jpg</td>\n      <td></td>\n      <td></td>\n      <td>False</td>\n      <td>False</td>\n      <td>False</td>\n      <td>[]</td>\n    </tr>\n    <tr>\n      <th>13nx3q5</th>\n      <td>13nx3q5</td>\n      <td>DLAH</td>\n      <td>robok212</td>\n      <td>I know there is not much dress ... but there i...</td>\n      <td></td>\n      <td></td>\n      <td>/r/DLAH/comments/13nx3q5/i_know_there_is_not_m...</td>\n      <td>https://i.redd.it/1jdres3dp81b1.jpg</td>\n      <td>13nx3q5.jpg</td>\n      <td></td>\n      <td></td>\n      <td>False</td>\n      <td>False</td>\n      <td>False</td>\n      <td>[]</td>\n    </tr>\n    <tr>\n      <th>13nt4ei</th>\n      <td>13nt4ei</td>\n      <td>bathandbodyworks</td>\n      <td>LadyMisfits</td>\n      <td>Nice surprise from Micheal’s</td>\n      <td></td>\n      <td></td>\n      <td>/r/bathandbodyworks/comments/13nt4ei/nice_surp...</td>\n      <td>https://i.redd.it/mse5auo4681b1.jpg</td>\n      <td>13nt4ei.jpg</td>\n      <td></td>\n      <td></td>\n      <td>False</td>\n      <td>False</td>\n      <td>False</td>\n      <td>[]</td>\n    </tr>\n    <tr>\n      <th>13nwdel</th>\n      <td>13nwdel</td>\n      <td>bathandbodyworks</td>\n      <td>lifeinsidethepage</td>\n      <td>Laundry Scoop 😉</td>\n      <td></td>\n      <td></td>\n      <td>/r/bathandbodyworks/comments/13nwdel/laundry_s...</td>\n      <td>https://i.redd.it/zr5pm949271b1.jpg</td>\n      <td>13nwdel.jpg</td>\n      <td></td>\n      <td></td>\n      <td>False</td>\n      <td>False</td>\n      <td>False</td>\n      <td>[]</td>\n    </tr>\n    <tr>\n      <th>13nwu1r</th>\n      <td>13nwu1r</td>\n      <td>bathandbodyworks</td>\n      <td>lifeinsidethepage</td>\n      <td>Bath and Body Works Semi Annual Sale Shopper B...</td>\n      <td></td>\n      <td></td>\n      <td>/r/bathandbodyworks/comments/13nwu1r/bath_and_...</td>\n      <td>https://i.redd.it/ar0vy0zr571b1.jpg</td>\n      <td>13nwu1r.jpg</td>\n      <td></td>\n      <td></td>\n      <td>False</td>\n      <td>False</td>\n      <td>False</td>\n      <td>[]</td>\n    </tr>\n  </tbody>\n</table>\n<p>84 rows × 15 columns</p>\n</div>"
     },
     "metadata": {},
     "output_type": "display_data"
    },
    {
     "name": "stdout",
     "output_type": "stream",
     "text": [
      "CPU times: total: 15.6 ms\n",
      "Wall time: 21 ms\n"
     ]
    }
   ],
   "source": [
    "%%time\n",
    "\n",
    "filtered = temp_data[~temp_data['id'].isin(extant_data.index.values) & temp_data['original_url'].str.endswith('.jpg') & (~temp_data['id'].isin(curated_data.index.values))]\n",
    "\n",
    "filtered.dropna(axis=1, how='all')\n",
    "\n",
    "filtered.reset_index(drop=True, inplace=True)\n",
    "\n",
    "filtered.set_index('id', inplace=True, drop=False)\n",
    "\n",
    "display(\"==== FILTERED DATA ====\")\n",
    "\n",
    "display(filtered.shape)\n",
    "\n",
    "display(filtered)"
   ],
   "metadata": {
    "collapsed": false,
    "ExecuteTime": {
     "end_time": "2023-05-21T15:06:52.876379Z",
     "start_time": "2023-05-21T15:06:52.770658900Z"
    }
   }
  },
  {
   "cell_type": "code",
   "execution_count": 12,
   "outputs": [
    {
     "name": "stderr",
     "output_type": "stream",
     "text": [
      "Progress: 100%|██████████| 84/84 [00:00<00:00, 84327.80it/s]\n",
      "<timed exec>:1: SettingWithCopyWarning: \n",
      "A value is trying to be set on a copy of a slice from a DataFrame.\n",
      "Try using .loc[row_indexer,col_indexer] = value instead\n",
      "\n",
      "See the caveats in the documentation: https://pandas.pydata.org/pandas-docs/stable/user_guide/indexing.html#returning-a-view-versus-a-copy\n"
     ]
    },
    {
     "data": {
      "text/plain": "'== Filtered Data With Model =='"
     },
     "metadata": {},
     "output_type": "display_data"
    },
    {
     "data": {
      "text/plain": "(84, 15)"
     },
     "metadata": {},
     "output_type": "display_data"
    },
    {
     "data": {
      "text/plain": "              id         subreddit                author   \nid                                                         \n13hgme0  13hgme0       SFWRedheads          Redhotwife88  \\\n13ibnsi  13ibnsi       SFWRedheads       Dasharkiss_real   \n13imeet  13imeet       SFWRedheads             imjenrose   \n13jm7mh  13jm7mh       SFWRedheads          Redhotwife88   \n13nr68v  13nr68v       SFWRedheads  ComprehensiveCap1691   \n...          ...               ...                   ...   \n13nwjqp  13nwjqp              DLAH      spicy_kingWest44   \n13nx3q5  13nx3q5              DLAH              robok212   \n13nt4ei  13nt4ei  bathandbodyworks           LadyMisfits   \n13nwdel  13nwdel  bathandbodyworks     lifeinsidethepage   \n13nwu1r  13nwu1r  bathandbodyworks     lifeinsidethepage   \n\n                                                     title caption hash   \nid                                                                        \n13hgme0     I Love wearing my Leather Pants and Heels! [F]               \\\n13ibnsi  I can live without money but I can't live with...                \n13imeet              Adorable girl to make your day better                \n13jm7mh      Do I look Cute for my Anniversary Dinner? [F]                \n13nr68v  I hope i can make your day better with a littl...                \n...                                                    ...     ...  ...   \n13nwjqp                              Gotta get them angles                \n13nx3q5  I know there is not much dress ... but there i...                \n13nt4ei                       Nice surprise from Micheal’s                \n13nwdel                                    Laundry Scoop 😉                \n13nwu1r  Bath and Body Works Semi Annual Sale Shopper B...                \n\n                                                 permalink   \nid                                                           \n13hgme0  /r/SFWRedheads/comments/13hgme0/i_love_wearing...  \\\n13ibnsi  /r/SFWRedheads/comments/13ibnsi/i_can_live_wit...   \n13imeet  /r/SFWRedheads/comments/13imeet/adorable_girl_...   \n13jm7mh  /r/SFWRedheads/comments/13jm7mh/do_i_look_cute...   \n13nr68v  /r/SFWRedheads/comments/13nr68v/i_hope_i_can_m...   \n...                                                    ...   \n13nwjqp    /r/DLAH/comments/13nwjqp/gotta_get_them_angles/   \n13nx3q5  /r/DLAH/comments/13nx3q5/i_know_there_is_not_m...   \n13nt4ei  /r/bathandbodyworks/comments/13nt4ei/nice_surp...   \n13nwdel  /r/bathandbodyworks/comments/13nwdel/laundry_s...   \n13nwu1r  /r/bathandbodyworks/comments/13nwu1r/bath_and_...   \n\n                                              original_url   image_name path   \nid                                                                             \n13hgme0    https://i.redgifs.com/i/frayedmadeupsparrow.jpg  13hgme0.jpg       \\\n13ibnsi    https://i.redgifs.com/i/imaginaryrawleveret.jpg  13ibnsi.jpg        \n13imeet  https://i.redgifs.com/i/dangerousfilthyhornedv...  13imeet.jpg        \n13jm7mh  https://i.redgifs.com/i/tensedarkmagentabedlin...  13jm7mh.jpg        \n13nr68v                https://i.redd.it/52i233v4u71b1.jpg  13nr68v.jpg        \n...                                                    ...          ...  ...   \n13nwjqp                https://i.redd.it/7xdtvt84l81b1.jpg  13nwjqp.jpg        \n13nx3q5                https://i.redd.it/1jdres3dp81b1.jpg  13nx3q5.jpg        \n13nt4ei                https://i.redd.it/mse5auo4681b1.jpg  13nt4ei.jpg        \n13nwdel                https://i.redd.it/zr5pm949271b1.jpg  13nwdel.jpg        \n13nwu1r                https://i.redd.it/ar0vy0zr571b1.jpg  13nwu1r.jpg        \n\n                       model  exists  curated accept tags  \nid                                                         \n13hgme0     RedHeadDiffusion   False    False  False   []  \n13ibnsi     RedHeadDiffusion   False    False  False   []  \n13imeet     RedHeadDiffusion   False    False  False   []  \n13jm7mh     RedHeadDiffusion   False    False  False   []  \n13nr68v     RedHeadDiffusion   False    False  False   []  \n...                      ...     ...      ...    ...  ...  \n13nwjqp  PrettyGirlDiffusion   False    False  False   []  \n13nx3q5  PrettyGirlDiffusion   False    False  False   []  \n13nt4ei      CandleDiffusion   False    False  False   []  \n13nwdel      CandleDiffusion   False    False  False   []  \n13nwu1r      CandleDiffusion   False    False  False   []  \n\n[84 rows x 15 columns]",
      "text/html": "<div>\n<style scoped>\n    .dataframe tbody tr th:only-of-type {\n        vertical-align: middle;\n    }\n\n    .dataframe tbody tr th {\n        vertical-align: top;\n    }\n\n    .dataframe thead th {\n        text-align: right;\n    }\n</style>\n<table border=\"1\" class=\"dataframe\">\n  <thead>\n    <tr style=\"text-align: right;\">\n      <th></th>\n      <th>id</th>\n      <th>subreddit</th>\n      <th>author</th>\n      <th>title</th>\n      <th>caption</th>\n      <th>hash</th>\n      <th>permalink</th>\n      <th>original_url</th>\n      <th>image_name</th>\n      <th>path</th>\n      <th>model</th>\n      <th>exists</th>\n      <th>curated</th>\n      <th>accept</th>\n      <th>tags</th>\n    </tr>\n    <tr>\n      <th>id</th>\n      <th></th>\n      <th></th>\n      <th></th>\n      <th></th>\n      <th></th>\n      <th></th>\n      <th></th>\n      <th></th>\n      <th></th>\n      <th></th>\n      <th></th>\n      <th></th>\n      <th></th>\n      <th></th>\n      <th></th>\n    </tr>\n  </thead>\n  <tbody>\n    <tr>\n      <th>13hgme0</th>\n      <td>13hgme0</td>\n      <td>SFWRedheads</td>\n      <td>Redhotwife88</td>\n      <td>I Love wearing my Leather Pants and Heels! [F]</td>\n      <td></td>\n      <td></td>\n      <td>/r/SFWRedheads/comments/13hgme0/i_love_wearing...</td>\n      <td>https://i.redgifs.com/i/frayedmadeupsparrow.jpg</td>\n      <td>13hgme0.jpg</td>\n      <td></td>\n      <td>RedHeadDiffusion</td>\n      <td>False</td>\n      <td>False</td>\n      <td>False</td>\n      <td>[]</td>\n    </tr>\n    <tr>\n      <th>13ibnsi</th>\n      <td>13ibnsi</td>\n      <td>SFWRedheads</td>\n      <td>Dasharkiss_real</td>\n      <td>I can live without money but I can't live with...</td>\n      <td></td>\n      <td></td>\n      <td>/r/SFWRedheads/comments/13ibnsi/i_can_live_wit...</td>\n      <td>https://i.redgifs.com/i/imaginaryrawleveret.jpg</td>\n      <td>13ibnsi.jpg</td>\n      <td></td>\n      <td>RedHeadDiffusion</td>\n      <td>False</td>\n      <td>False</td>\n      <td>False</td>\n      <td>[]</td>\n    </tr>\n    <tr>\n      <th>13imeet</th>\n      <td>13imeet</td>\n      <td>SFWRedheads</td>\n      <td>imjenrose</td>\n      <td>Adorable girl to make your day better</td>\n      <td></td>\n      <td></td>\n      <td>/r/SFWRedheads/comments/13imeet/adorable_girl_...</td>\n      <td>https://i.redgifs.com/i/dangerousfilthyhornedv...</td>\n      <td>13imeet.jpg</td>\n      <td></td>\n      <td>RedHeadDiffusion</td>\n      <td>False</td>\n      <td>False</td>\n      <td>False</td>\n      <td>[]</td>\n    </tr>\n    <tr>\n      <th>13jm7mh</th>\n      <td>13jm7mh</td>\n      <td>SFWRedheads</td>\n      <td>Redhotwife88</td>\n      <td>Do I look Cute for my Anniversary Dinner? [F]</td>\n      <td></td>\n      <td></td>\n      <td>/r/SFWRedheads/comments/13jm7mh/do_i_look_cute...</td>\n      <td>https://i.redgifs.com/i/tensedarkmagentabedlin...</td>\n      <td>13jm7mh.jpg</td>\n      <td></td>\n      <td>RedHeadDiffusion</td>\n      <td>False</td>\n      <td>False</td>\n      <td>False</td>\n      <td>[]</td>\n    </tr>\n    <tr>\n      <th>13nr68v</th>\n      <td>13nr68v</td>\n      <td>SFWRedheads</td>\n      <td>ComprehensiveCap1691</td>\n      <td>I hope i can make your day better with a littl...</td>\n      <td></td>\n      <td></td>\n      <td>/r/SFWRedheads/comments/13nr68v/i_hope_i_can_m...</td>\n      <td>https://i.redd.it/52i233v4u71b1.jpg</td>\n      <td>13nr68v.jpg</td>\n      <td></td>\n      <td>RedHeadDiffusion</td>\n      <td>False</td>\n      <td>False</td>\n      <td>False</td>\n      <td>[]</td>\n    </tr>\n    <tr>\n      <th>...</th>\n      <td>...</td>\n      <td>...</td>\n      <td>...</td>\n      <td>...</td>\n      <td>...</td>\n      <td>...</td>\n      <td>...</td>\n      <td>...</td>\n      <td>...</td>\n      <td>...</td>\n      <td>...</td>\n      <td>...</td>\n      <td>...</td>\n      <td>...</td>\n      <td>...</td>\n    </tr>\n    <tr>\n      <th>13nwjqp</th>\n      <td>13nwjqp</td>\n      <td>DLAH</td>\n      <td>spicy_kingWest44</td>\n      <td>Gotta get them angles</td>\n      <td></td>\n      <td></td>\n      <td>/r/DLAH/comments/13nwjqp/gotta_get_them_angles/</td>\n      <td>https://i.redd.it/7xdtvt84l81b1.jpg</td>\n      <td>13nwjqp.jpg</td>\n      <td></td>\n      <td>PrettyGirlDiffusion</td>\n      <td>False</td>\n      <td>False</td>\n      <td>False</td>\n      <td>[]</td>\n    </tr>\n    <tr>\n      <th>13nx3q5</th>\n      <td>13nx3q5</td>\n      <td>DLAH</td>\n      <td>robok212</td>\n      <td>I know there is not much dress ... but there i...</td>\n      <td></td>\n      <td></td>\n      <td>/r/DLAH/comments/13nx3q5/i_know_there_is_not_m...</td>\n      <td>https://i.redd.it/1jdres3dp81b1.jpg</td>\n      <td>13nx3q5.jpg</td>\n      <td></td>\n      <td>PrettyGirlDiffusion</td>\n      <td>False</td>\n      <td>False</td>\n      <td>False</td>\n      <td>[]</td>\n    </tr>\n    <tr>\n      <th>13nt4ei</th>\n      <td>13nt4ei</td>\n      <td>bathandbodyworks</td>\n      <td>LadyMisfits</td>\n      <td>Nice surprise from Micheal’s</td>\n      <td></td>\n      <td></td>\n      <td>/r/bathandbodyworks/comments/13nt4ei/nice_surp...</td>\n      <td>https://i.redd.it/mse5auo4681b1.jpg</td>\n      <td>13nt4ei.jpg</td>\n      <td></td>\n      <td>CandleDiffusion</td>\n      <td>False</td>\n      <td>False</td>\n      <td>False</td>\n      <td>[]</td>\n    </tr>\n    <tr>\n      <th>13nwdel</th>\n      <td>13nwdel</td>\n      <td>bathandbodyworks</td>\n      <td>lifeinsidethepage</td>\n      <td>Laundry Scoop 😉</td>\n      <td></td>\n      <td></td>\n      <td>/r/bathandbodyworks/comments/13nwdel/laundry_s...</td>\n      <td>https://i.redd.it/zr5pm949271b1.jpg</td>\n      <td>13nwdel.jpg</td>\n      <td></td>\n      <td>CandleDiffusion</td>\n      <td>False</td>\n      <td>False</td>\n      <td>False</td>\n      <td>[]</td>\n    </tr>\n    <tr>\n      <th>13nwu1r</th>\n      <td>13nwu1r</td>\n      <td>bathandbodyworks</td>\n      <td>lifeinsidethepage</td>\n      <td>Bath and Body Works Semi Annual Sale Shopper B...</td>\n      <td></td>\n      <td></td>\n      <td>/r/bathandbodyworks/comments/13nwu1r/bath_and_...</td>\n      <td>https://i.redd.it/ar0vy0zr571b1.jpg</td>\n      <td>13nwu1r.jpg</td>\n      <td></td>\n      <td>CandleDiffusion</td>\n      <td>False</td>\n      <td>False</td>\n      <td>False</td>\n      <td>[]</td>\n    </tr>\n  </tbody>\n</table>\n<p>84 rows × 15 columns</p>\n</div>"
     },
     "metadata": {},
     "output_type": "display_data"
    },
    {
     "name": "stdout",
     "output_type": "stream",
     "text": [
      "CPU times: total: 15.6 ms\n",
      "Wall time: 18 ms\n"
     ]
    }
   ],
   "source": [
    "%%time\n",
    "\n",
    "filtered['model'] = filtered.progress_apply(lambda x: functions.add_source(x, sources), axis=1)\n",
    "\n",
    "display(\"== Filtered Data With Model ==\")\n",
    "display(filtered.shape)\n",
    "display(filtered)"
   ],
   "metadata": {
    "collapsed": false,
    "ExecuteTime": {
     "end_time": "2023-05-21T15:06:53.097377Z",
     "start_time": "2023-05-21T15:06:52.802659500Z"
    }
   }
  },
  {
   "cell_type": "code",
   "execution_count": 13,
   "outputs": [
    {
     "name": "stderr",
     "output_type": "stream",
     "text": [
      "Progress: 100%|██████████| 84/84 [00:40<00:00,  2.09it/s]\n",
      "<timed exec>:3: SettingWithCopyWarning: \n",
      "A value is trying to be set on a copy of a slice from a DataFrame.\n",
      "Try using .loc[row_indexer,col_indexer] = value instead\n",
      "\n",
      "See the caveats in the documentation: https://pandas.pydata.org/pandas-docs/stable/user_guide/indexing.html#returning-a-view-versus-a-copy\n"
     ]
    },
    {
     "data": {
      "text/plain": "'== Filtered Data With Path =='"
     },
     "metadata": {},
     "output_type": "display_data"
    },
    {
     "data": {
      "text/plain": "(84, 15)"
     },
     "metadata": {},
     "output_type": "display_data"
    },
    {
     "data": {
      "text/plain": "              id         subreddit                author   \nid                                                         \n13hgme0  13hgme0       SFWRedheads          Redhotwife88  \\\n13ibnsi  13ibnsi       SFWRedheads       Dasharkiss_real   \n13imeet  13imeet       SFWRedheads             imjenrose   \n13jm7mh  13jm7mh       SFWRedheads          Redhotwife88   \n13nr68v  13nr68v       SFWRedheads  ComprehensiveCap1691   \n...          ...               ...                   ...   \n13nwjqp  13nwjqp              DLAH      spicy_kingWest44   \n13nx3q5  13nx3q5              DLAH              robok212   \n13nt4ei  13nt4ei  bathandbodyworks           LadyMisfits   \n13nwdel  13nwdel  bathandbodyworks     lifeinsidethepage   \n13nwu1r  13nwu1r  bathandbodyworks     lifeinsidethepage   \n\n                                                     title caption hash   \nid                                                                        \n13hgme0     I Love wearing my Leather Pants and Heels! [F]               \\\n13ibnsi  I can live without money but I can't live with...                \n13imeet              Adorable girl to make your day better                \n13jm7mh      Do I look Cute for my Anniversary Dinner? [F]                \n13nr68v  I hope i can make your day better with a littl...                \n...                                                    ...     ...  ...   \n13nwjqp                              Gotta get them angles                \n13nx3q5  I know there is not much dress ... but there i...                \n13nt4ei                       Nice surprise from Micheal’s                \n13nwdel                                    Laundry Scoop 😉                \n13nwu1r  Bath and Body Works Semi Annual Sale Shopper B...                \n\n                                                 permalink   \nid                                                           \n13hgme0  /r/SFWRedheads/comments/13hgme0/i_love_wearing...  \\\n13ibnsi  /r/SFWRedheads/comments/13ibnsi/i_can_live_wit...   \n13imeet  /r/SFWRedheads/comments/13imeet/adorable_girl_...   \n13jm7mh  /r/SFWRedheads/comments/13jm7mh/do_i_look_cute...   \n13nr68v  /r/SFWRedheads/comments/13nr68v/i_hope_i_can_m...   \n...                                                    ...   \n13nwjqp    /r/DLAH/comments/13nwjqp/gotta_get_them_angles/   \n13nx3q5  /r/DLAH/comments/13nx3q5/i_know_there_is_not_m...   \n13nt4ei  /r/bathandbodyworks/comments/13nt4ei/nice_surp...   \n13nwdel  /r/bathandbodyworks/comments/13nwdel/laundry_s...   \n13nwu1r  /r/bathandbodyworks/comments/13nwu1r/bath_and_...   \n\n                                              original_url   image_name   \nid                                                                        \n13hgme0    https://i.redgifs.com/i/frayedmadeupsparrow.jpg  13hgme0.jpg  \\\n13ibnsi    https://i.redgifs.com/i/imaginaryrawleveret.jpg  13ibnsi.jpg   \n13imeet  https://i.redgifs.com/i/dangerousfilthyhornedv...  13imeet.jpg   \n13jm7mh  https://i.redgifs.com/i/tensedarkmagentabedlin...  13jm7mh.jpg   \n13nr68v                https://i.redd.it/52i233v4u71b1.jpg  13nr68v.jpg   \n...                                                    ...          ...   \n13nwjqp                https://i.redd.it/7xdtvt84l81b1.jpg  13nwjqp.jpg   \n13nx3q5                https://i.redd.it/1jdres3dp81b1.jpg  13nx3q5.jpg   \n13nt4ei                https://i.redd.it/mse5auo4681b1.jpg  13nt4ei.jpg   \n13nwdel                https://i.redd.it/zr5pm949271b1.jpg  13nwdel.jpg   \n13nwu1r                https://i.redd.it/ar0vy0zr571b1.jpg  13nwu1r.jpg   \n\n                           path                model  exists  curated accept   \nid                                                                             \n13hgme0                             RedHeadDiffusion   False    False  False  \\\n13ibnsi                             RedHeadDiffusion   False    False  False   \n13imeet                             RedHeadDiffusion   False    False  False   \n13jm7mh                             RedHeadDiffusion   False    False  False   \n13nr68v  data/image/13nr68v.jpg     RedHeadDiffusion   False    False  False   \n...                         ...                  ...     ...      ...    ...   \n13nwjqp  data/image/13nwjqp.jpg  PrettyGirlDiffusion   False    False  False   \n13nx3q5  data/image/13nx3q5.jpg  PrettyGirlDiffusion   False    False  False   \n13nt4ei  data/image/13nt4ei.jpg      CandleDiffusion   False    False  False   \n13nwdel  data/image/13nwdel.jpg      CandleDiffusion   False    False  False   \n13nwu1r  data/image/13nwu1r.jpg      CandleDiffusion   False    False  False   \n\n        tags  \nid            \n13hgme0   []  \n13ibnsi   []  \n13imeet   []  \n13jm7mh   []  \n13nr68v   []  \n...      ...  \n13nwjqp   []  \n13nx3q5   []  \n13nt4ei   []  \n13nwdel   []  \n13nwu1r   []  \n\n[84 rows x 15 columns]",
      "text/html": "<div>\n<style scoped>\n    .dataframe tbody tr th:only-of-type {\n        vertical-align: middle;\n    }\n\n    .dataframe tbody tr th {\n        vertical-align: top;\n    }\n\n    .dataframe thead th {\n        text-align: right;\n    }\n</style>\n<table border=\"1\" class=\"dataframe\">\n  <thead>\n    <tr style=\"text-align: right;\">\n      <th></th>\n      <th>id</th>\n      <th>subreddit</th>\n      <th>author</th>\n      <th>title</th>\n      <th>caption</th>\n      <th>hash</th>\n      <th>permalink</th>\n      <th>original_url</th>\n      <th>image_name</th>\n      <th>path</th>\n      <th>model</th>\n      <th>exists</th>\n      <th>curated</th>\n      <th>accept</th>\n      <th>tags</th>\n    </tr>\n    <tr>\n      <th>id</th>\n      <th></th>\n      <th></th>\n      <th></th>\n      <th></th>\n      <th></th>\n      <th></th>\n      <th></th>\n      <th></th>\n      <th></th>\n      <th></th>\n      <th></th>\n      <th></th>\n      <th></th>\n      <th></th>\n      <th></th>\n    </tr>\n  </thead>\n  <tbody>\n    <tr>\n      <th>13hgme0</th>\n      <td>13hgme0</td>\n      <td>SFWRedheads</td>\n      <td>Redhotwife88</td>\n      <td>I Love wearing my Leather Pants and Heels! [F]</td>\n      <td></td>\n      <td></td>\n      <td>/r/SFWRedheads/comments/13hgme0/i_love_wearing...</td>\n      <td>https://i.redgifs.com/i/frayedmadeupsparrow.jpg</td>\n      <td>13hgme0.jpg</td>\n      <td></td>\n      <td>RedHeadDiffusion</td>\n      <td>False</td>\n      <td>False</td>\n      <td>False</td>\n      <td>[]</td>\n    </tr>\n    <tr>\n      <th>13ibnsi</th>\n      <td>13ibnsi</td>\n      <td>SFWRedheads</td>\n      <td>Dasharkiss_real</td>\n      <td>I can live without money but I can't live with...</td>\n      <td></td>\n      <td></td>\n      <td>/r/SFWRedheads/comments/13ibnsi/i_can_live_wit...</td>\n      <td>https://i.redgifs.com/i/imaginaryrawleveret.jpg</td>\n      <td>13ibnsi.jpg</td>\n      <td></td>\n      <td>RedHeadDiffusion</td>\n      <td>False</td>\n      <td>False</td>\n      <td>False</td>\n      <td>[]</td>\n    </tr>\n    <tr>\n      <th>13imeet</th>\n      <td>13imeet</td>\n      <td>SFWRedheads</td>\n      <td>imjenrose</td>\n      <td>Adorable girl to make your day better</td>\n      <td></td>\n      <td></td>\n      <td>/r/SFWRedheads/comments/13imeet/adorable_girl_...</td>\n      <td>https://i.redgifs.com/i/dangerousfilthyhornedv...</td>\n      <td>13imeet.jpg</td>\n      <td></td>\n      <td>RedHeadDiffusion</td>\n      <td>False</td>\n      <td>False</td>\n      <td>False</td>\n      <td>[]</td>\n    </tr>\n    <tr>\n      <th>13jm7mh</th>\n      <td>13jm7mh</td>\n      <td>SFWRedheads</td>\n      <td>Redhotwife88</td>\n      <td>Do I look Cute for my Anniversary Dinner? [F]</td>\n      <td></td>\n      <td></td>\n      <td>/r/SFWRedheads/comments/13jm7mh/do_i_look_cute...</td>\n      <td>https://i.redgifs.com/i/tensedarkmagentabedlin...</td>\n      <td>13jm7mh.jpg</td>\n      <td></td>\n      <td>RedHeadDiffusion</td>\n      <td>False</td>\n      <td>False</td>\n      <td>False</td>\n      <td>[]</td>\n    </tr>\n    <tr>\n      <th>13nr68v</th>\n      <td>13nr68v</td>\n      <td>SFWRedheads</td>\n      <td>ComprehensiveCap1691</td>\n      <td>I hope i can make your day better with a littl...</td>\n      <td></td>\n      <td></td>\n      <td>/r/SFWRedheads/comments/13nr68v/i_hope_i_can_m...</td>\n      <td>https://i.redd.it/52i233v4u71b1.jpg</td>\n      <td>13nr68v.jpg</td>\n      <td>data/image/13nr68v.jpg</td>\n      <td>RedHeadDiffusion</td>\n      <td>False</td>\n      <td>False</td>\n      <td>False</td>\n      <td>[]</td>\n    </tr>\n    <tr>\n      <th>...</th>\n      <td>...</td>\n      <td>...</td>\n      <td>...</td>\n      <td>...</td>\n      <td>...</td>\n      <td>...</td>\n      <td>...</td>\n      <td>...</td>\n      <td>...</td>\n      <td>...</td>\n      <td>...</td>\n      <td>...</td>\n      <td>...</td>\n      <td>...</td>\n      <td>...</td>\n    </tr>\n    <tr>\n      <th>13nwjqp</th>\n      <td>13nwjqp</td>\n      <td>DLAH</td>\n      <td>spicy_kingWest44</td>\n      <td>Gotta get them angles</td>\n      <td></td>\n      <td></td>\n      <td>/r/DLAH/comments/13nwjqp/gotta_get_them_angles/</td>\n      <td>https://i.redd.it/7xdtvt84l81b1.jpg</td>\n      <td>13nwjqp.jpg</td>\n      <td>data/image/13nwjqp.jpg</td>\n      <td>PrettyGirlDiffusion</td>\n      <td>False</td>\n      <td>False</td>\n      <td>False</td>\n      <td>[]</td>\n    </tr>\n    <tr>\n      <th>13nx3q5</th>\n      <td>13nx3q5</td>\n      <td>DLAH</td>\n      <td>robok212</td>\n      <td>I know there is not much dress ... but there i...</td>\n      <td></td>\n      <td></td>\n      <td>/r/DLAH/comments/13nx3q5/i_know_there_is_not_m...</td>\n      <td>https://i.redd.it/1jdres3dp81b1.jpg</td>\n      <td>13nx3q5.jpg</td>\n      <td>data/image/13nx3q5.jpg</td>\n      <td>PrettyGirlDiffusion</td>\n      <td>False</td>\n      <td>False</td>\n      <td>False</td>\n      <td>[]</td>\n    </tr>\n    <tr>\n      <th>13nt4ei</th>\n      <td>13nt4ei</td>\n      <td>bathandbodyworks</td>\n      <td>LadyMisfits</td>\n      <td>Nice surprise from Micheal’s</td>\n      <td></td>\n      <td></td>\n      <td>/r/bathandbodyworks/comments/13nt4ei/nice_surp...</td>\n      <td>https://i.redd.it/mse5auo4681b1.jpg</td>\n      <td>13nt4ei.jpg</td>\n      <td>data/image/13nt4ei.jpg</td>\n      <td>CandleDiffusion</td>\n      <td>False</td>\n      <td>False</td>\n      <td>False</td>\n      <td>[]</td>\n    </tr>\n    <tr>\n      <th>13nwdel</th>\n      <td>13nwdel</td>\n      <td>bathandbodyworks</td>\n      <td>lifeinsidethepage</td>\n      <td>Laundry Scoop 😉</td>\n      <td></td>\n      <td></td>\n      <td>/r/bathandbodyworks/comments/13nwdel/laundry_s...</td>\n      <td>https://i.redd.it/zr5pm949271b1.jpg</td>\n      <td>13nwdel.jpg</td>\n      <td>data/image/13nwdel.jpg</td>\n      <td>CandleDiffusion</td>\n      <td>False</td>\n      <td>False</td>\n      <td>False</td>\n      <td>[]</td>\n    </tr>\n    <tr>\n      <th>13nwu1r</th>\n      <td>13nwu1r</td>\n      <td>bathandbodyworks</td>\n      <td>lifeinsidethepage</td>\n      <td>Bath and Body Works Semi Annual Sale Shopper B...</td>\n      <td></td>\n      <td></td>\n      <td>/r/bathandbodyworks/comments/13nwu1r/bath_and_...</td>\n      <td>https://i.redd.it/ar0vy0zr571b1.jpg</td>\n      <td>13nwu1r.jpg</td>\n      <td>data/image/13nwu1r.jpg</td>\n      <td>CandleDiffusion</td>\n      <td>False</td>\n      <td>False</td>\n      <td>False</td>\n      <td>[]</td>\n    </tr>\n  </tbody>\n</table>\n<p>84 rows × 15 columns</p>\n</div>"
     },
     "metadata": {},
     "output_type": "display_data"
    },
    {
     "name": "stdout",
     "output_type": "stream",
     "text": [
      "CPU times: total: 24 s\n",
      "Wall time: 1min 18s\n"
     ]
    }
   ],
   "source": [
    "%%time\n",
    "\n",
    "file_list = file_system.ls(\"data/image\")\n",
    "\n",
    "filtered['path'] = filtered.progress_apply(lambda x: functions.fetch_image(x, file_list, file_system), axis=1)\n",
    "\n",
    "display(\"== Filtered Data With Path ==\")\n",
    "display(filtered.shape)\n",
    "display(filtered)"
   ],
   "metadata": {
    "collapsed": false,
    "ExecuteTime": {
     "end_time": "2023-05-21T15:08:11.153589500Z",
     "start_time": "2023-05-21T15:06:52.851378900Z"
    }
   }
  },
  {
   "cell_type": "code",
   "execution_count": 14,
   "outputs": [
    {
     "name": "stderr",
     "output_type": "stream",
     "text": [
      "Progress: 100%|██████████| 84/84 [00:00<00:00, 16789.21it/s]\n",
      "<timed exec>:1: SettingWithCopyWarning: \n",
      "A value is trying to be set on a copy of a slice from a DataFrame.\n",
      "Try using .loc[row_indexer,col_indexer] = value instead\n",
      "\n",
      "See the caveats in the documentation: https://pandas.pydata.org/pandas-docs/stable/user_guide/indexing.html#returning-a-view-versus-a-copy\n"
     ]
    },
    {
     "data": {
      "text/plain": "'== Filtered Data With Exists =='"
     },
     "metadata": {},
     "output_type": "display_data"
    },
    {
     "data": {
      "text/plain": "(84, 15)"
     },
     "metadata": {},
     "output_type": "display_data"
    },
    {
     "data": {
      "text/plain": "              id         subreddit                author   \nid                                                         \n13hgme0  13hgme0       SFWRedheads          Redhotwife88  \\\n13ibnsi  13ibnsi       SFWRedheads       Dasharkiss_real   \n13imeet  13imeet       SFWRedheads             imjenrose   \n13jm7mh  13jm7mh       SFWRedheads          Redhotwife88   \n13nr68v  13nr68v       SFWRedheads  ComprehensiveCap1691   \n...          ...               ...                   ...   \n13nwjqp  13nwjqp              DLAH      spicy_kingWest44   \n13nx3q5  13nx3q5              DLAH              robok212   \n13nt4ei  13nt4ei  bathandbodyworks           LadyMisfits   \n13nwdel  13nwdel  bathandbodyworks     lifeinsidethepage   \n13nwu1r  13nwu1r  bathandbodyworks     lifeinsidethepage   \n\n                                                     title caption hash   \nid                                                                        \n13hgme0     I Love wearing my Leather Pants and Heels! [F]               \\\n13ibnsi  I can live without money but I can't live with...                \n13imeet              Adorable girl to make your day better                \n13jm7mh      Do I look Cute for my Anniversary Dinner? [F]                \n13nr68v  I hope i can make your day better with a littl...                \n...                                                    ...     ...  ...   \n13nwjqp                              Gotta get them angles                \n13nx3q5  I know there is not much dress ... but there i...                \n13nt4ei                       Nice surprise from Micheal’s                \n13nwdel                                    Laundry Scoop 😉                \n13nwu1r  Bath and Body Works Semi Annual Sale Shopper B...                \n\n                                                 permalink   \nid                                                           \n13hgme0  /r/SFWRedheads/comments/13hgme0/i_love_wearing...  \\\n13ibnsi  /r/SFWRedheads/comments/13ibnsi/i_can_live_wit...   \n13imeet  /r/SFWRedheads/comments/13imeet/adorable_girl_...   \n13jm7mh  /r/SFWRedheads/comments/13jm7mh/do_i_look_cute...   \n13nr68v  /r/SFWRedheads/comments/13nr68v/i_hope_i_can_m...   \n...                                                    ...   \n13nwjqp    /r/DLAH/comments/13nwjqp/gotta_get_them_angles/   \n13nx3q5  /r/DLAH/comments/13nx3q5/i_know_there_is_not_m...   \n13nt4ei  /r/bathandbodyworks/comments/13nt4ei/nice_surp...   \n13nwdel  /r/bathandbodyworks/comments/13nwdel/laundry_s...   \n13nwu1r  /r/bathandbodyworks/comments/13nwu1r/bath_and_...   \n\n                                              original_url   image_name   \nid                                                                        \n13hgme0    https://i.redgifs.com/i/frayedmadeupsparrow.jpg  13hgme0.jpg  \\\n13ibnsi    https://i.redgifs.com/i/imaginaryrawleveret.jpg  13ibnsi.jpg   \n13imeet  https://i.redgifs.com/i/dangerousfilthyhornedv...  13imeet.jpg   \n13jm7mh  https://i.redgifs.com/i/tensedarkmagentabedlin...  13jm7mh.jpg   \n13nr68v                https://i.redd.it/52i233v4u71b1.jpg  13nr68v.jpg   \n...                                                    ...          ...   \n13nwjqp                https://i.redd.it/7xdtvt84l81b1.jpg  13nwjqp.jpg   \n13nx3q5                https://i.redd.it/1jdres3dp81b1.jpg  13nx3q5.jpg   \n13nt4ei                https://i.redd.it/mse5auo4681b1.jpg  13nt4ei.jpg   \n13nwdel                https://i.redd.it/zr5pm949271b1.jpg  13nwdel.jpg   \n13nwu1r                https://i.redd.it/ar0vy0zr571b1.jpg  13nwu1r.jpg   \n\n                           path                model  exists  curated accept   \nid                                                                             \n13hgme0                             RedHeadDiffusion   False    False  False  \\\n13ibnsi                             RedHeadDiffusion   False    False  False   \n13imeet                             RedHeadDiffusion   False    False  False   \n13jm7mh                             RedHeadDiffusion   False    False  False   \n13nr68v  data/image/13nr68v.jpg     RedHeadDiffusion    True    False  False   \n...                         ...                  ...     ...      ...    ...   \n13nwjqp  data/image/13nwjqp.jpg  PrettyGirlDiffusion    True    False  False   \n13nx3q5  data/image/13nx3q5.jpg  PrettyGirlDiffusion    True    False  False   \n13nt4ei  data/image/13nt4ei.jpg      CandleDiffusion    True    False  False   \n13nwdel  data/image/13nwdel.jpg      CandleDiffusion    True    False  False   \n13nwu1r  data/image/13nwu1r.jpg      CandleDiffusion    True    False  False   \n\n        tags  \nid            \n13hgme0   []  \n13ibnsi   []  \n13imeet   []  \n13jm7mh   []  \n13nr68v   []  \n...      ...  \n13nwjqp   []  \n13nx3q5   []  \n13nt4ei   []  \n13nwdel   []  \n13nwu1r   []  \n\n[84 rows x 15 columns]",
      "text/html": "<div>\n<style scoped>\n    .dataframe tbody tr th:only-of-type {\n        vertical-align: middle;\n    }\n\n    .dataframe tbody tr th {\n        vertical-align: top;\n    }\n\n    .dataframe thead th {\n        text-align: right;\n    }\n</style>\n<table border=\"1\" class=\"dataframe\">\n  <thead>\n    <tr style=\"text-align: right;\">\n      <th></th>\n      <th>id</th>\n      <th>subreddit</th>\n      <th>author</th>\n      <th>title</th>\n      <th>caption</th>\n      <th>hash</th>\n      <th>permalink</th>\n      <th>original_url</th>\n      <th>image_name</th>\n      <th>path</th>\n      <th>model</th>\n      <th>exists</th>\n      <th>curated</th>\n      <th>accept</th>\n      <th>tags</th>\n    </tr>\n    <tr>\n      <th>id</th>\n      <th></th>\n      <th></th>\n      <th></th>\n      <th></th>\n      <th></th>\n      <th></th>\n      <th></th>\n      <th></th>\n      <th></th>\n      <th></th>\n      <th></th>\n      <th></th>\n      <th></th>\n      <th></th>\n      <th></th>\n    </tr>\n  </thead>\n  <tbody>\n    <tr>\n      <th>13hgme0</th>\n      <td>13hgme0</td>\n      <td>SFWRedheads</td>\n      <td>Redhotwife88</td>\n      <td>I Love wearing my Leather Pants and Heels! [F]</td>\n      <td></td>\n      <td></td>\n      <td>/r/SFWRedheads/comments/13hgme0/i_love_wearing...</td>\n      <td>https://i.redgifs.com/i/frayedmadeupsparrow.jpg</td>\n      <td>13hgme0.jpg</td>\n      <td></td>\n      <td>RedHeadDiffusion</td>\n      <td>False</td>\n      <td>False</td>\n      <td>False</td>\n      <td>[]</td>\n    </tr>\n    <tr>\n      <th>13ibnsi</th>\n      <td>13ibnsi</td>\n      <td>SFWRedheads</td>\n      <td>Dasharkiss_real</td>\n      <td>I can live without money but I can't live with...</td>\n      <td></td>\n      <td></td>\n      <td>/r/SFWRedheads/comments/13ibnsi/i_can_live_wit...</td>\n      <td>https://i.redgifs.com/i/imaginaryrawleveret.jpg</td>\n      <td>13ibnsi.jpg</td>\n      <td></td>\n      <td>RedHeadDiffusion</td>\n      <td>False</td>\n      <td>False</td>\n      <td>False</td>\n      <td>[]</td>\n    </tr>\n    <tr>\n      <th>13imeet</th>\n      <td>13imeet</td>\n      <td>SFWRedheads</td>\n      <td>imjenrose</td>\n      <td>Adorable girl to make your day better</td>\n      <td></td>\n      <td></td>\n      <td>/r/SFWRedheads/comments/13imeet/adorable_girl_...</td>\n      <td>https://i.redgifs.com/i/dangerousfilthyhornedv...</td>\n      <td>13imeet.jpg</td>\n      <td></td>\n      <td>RedHeadDiffusion</td>\n      <td>False</td>\n      <td>False</td>\n      <td>False</td>\n      <td>[]</td>\n    </tr>\n    <tr>\n      <th>13jm7mh</th>\n      <td>13jm7mh</td>\n      <td>SFWRedheads</td>\n      <td>Redhotwife88</td>\n      <td>Do I look Cute for my Anniversary Dinner? [F]</td>\n      <td></td>\n      <td></td>\n      <td>/r/SFWRedheads/comments/13jm7mh/do_i_look_cute...</td>\n      <td>https://i.redgifs.com/i/tensedarkmagentabedlin...</td>\n      <td>13jm7mh.jpg</td>\n      <td></td>\n      <td>RedHeadDiffusion</td>\n      <td>False</td>\n      <td>False</td>\n      <td>False</td>\n      <td>[]</td>\n    </tr>\n    <tr>\n      <th>13nr68v</th>\n      <td>13nr68v</td>\n      <td>SFWRedheads</td>\n      <td>ComprehensiveCap1691</td>\n      <td>I hope i can make your day better with a littl...</td>\n      <td></td>\n      <td></td>\n      <td>/r/SFWRedheads/comments/13nr68v/i_hope_i_can_m...</td>\n      <td>https://i.redd.it/52i233v4u71b1.jpg</td>\n      <td>13nr68v.jpg</td>\n      <td>data/image/13nr68v.jpg</td>\n      <td>RedHeadDiffusion</td>\n      <td>True</td>\n      <td>False</td>\n      <td>False</td>\n      <td>[]</td>\n    </tr>\n    <tr>\n      <th>...</th>\n      <td>...</td>\n      <td>...</td>\n      <td>...</td>\n      <td>...</td>\n      <td>...</td>\n      <td>...</td>\n      <td>...</td>\n      <td>...</td>\n      <td>...</td>\n      <td>...</td>\n      <td>...</td>\n      <td>...</td>\n      <td>...</td>\n      <td>...</td>\n      <td>...</td>\n    </tr>\n    <tr>\n      <th>13nwjqp</th>\n      <td>13nwjqp</td>\n      <td>DLAH</td>\n      <td>spicy_kingWest44</td>\n      <td>Gotta get them angles</td>\n      <td></td>\n      <td></td>\n      <td>/r/DLAH/comments/13nwjqp/gotta_get_them_angles/</td>\n      <td>https://i.redd.it/7xdtvt84l81b1.jpg</td>\n      <td>13nwjqp.jpg</td>\n      <td>data/image/13nwjqp.jpg</td>\n      <td>PrettyGirlDiffusion</td>\n      <td>True</td>\n      <td>False</td>\n      <td>False</td>\n      <td>[]</td>\n    </tr>\n    <tr>\n      <th>13nx3q5</th>\n      <td>13nx3q5</td>\n      <td>DLAH</td>\n      <td>robok212</td>\n      <td>I know there is not much dress ... but there i...</td>\n      <td></td>\n      <td></td>\n      <td>/r/DLAH/comments/13nx3q5/i_know_there_is_not_m...</td>\n      <td>https://i.redd.it/1jdres3dp81b1.jpg</td>\n      <td>13nx3q5.jpg</td>\n      <td>data/image/13nx3q5.jpg</td>\n      <td>PrettyGirlDiffusion</td>\n      <td>True</td>\n      <td>False</td>\n      <td>False</td>\n      <td>[]</td>\n    </tr>\n    <tr>\n      <th>13nt4ei</th>\n      <td>13nt4ei</td>\n      <td>bathandbodyworks</td>\n      <td>LadyMisfits</td>\n      <td>Nice surprise from Micheal’s</td>\n      <td></td>\n      <td></td>\n      <td>/r/bathandbodyworks/comments/13nt4ei/nice_surp...</td>\n      <td>https://i.redd.it/mse5auo4681b1.jpg</td>\n      <td>13nt4ei.jpg</td>\n      <td>data/image/13nt4ei.jpg</td>\n      <td>CandleDiffusion</td>\n      <td>True</td>\n      <td>False</td>\n      <td>False</td>\n      <td>[]</td>\n    </tr>\n    <tr>\n      <th>13nwdel</th>\n      <td>13nwdel</td>\n      <td>bathandbodyworks</td>\n      <td>lifeinsidethepage</td>\n      <td>Laundry Scoop 😉</td>\n      <td></td>\n      <td></td>\n      <td>/r/bathandbodyworks/comments/13nwdel/laundry_s...</td>\n      <td>https://i.redd.it/zr5pm949271b1.jpg</td>\n      <td>13nwdel.jpg</td>\n      <td>data/image/13nwdel.jpg</td>\n      <td>CandleDiffusion</td>\n      <td>True</td>\n      <td>False</td>\n      <td>False</td>\n      <td>[]</td>\n    </tr>\n    <tr>\n      <th>13nwu1r</th>\n      <td>13nwu1r</td>\n      <td>bathandbodyworks</td>\n      <td>lifeinsidethepage</td>\n      <td>Bath and Body Works Semi Annual Sale Shopper B...</td>\n      <td></td>\n      <td></td>\n      <td>/r/bathandbodyworks/comments/13nwu1r/bath_and_...</td>\n      <td>https://i.redd.it/ar0vy0zr571b1.jpg</td>\n      <td>13nwu1r.jpg</td>\n      <td>data/image/13nwu1r.jpg</td>\n      <td>CandleDiffusion</td>\n      <td>True</td>\n      <td>False</td>\n      <td>False</td>\n      <td>[]</td>\n    </tr>\n  </tbody>\n</table>\n<p>84 rows × 15 columns</p>\n</div>"
     },
     "metadata": {},
     "output_type": "display_data"
    },
    {
     "name": "stdout",
     "output_type": "stream",
     "text": [
      "CPU times: total: 15.6 ms\n",
      "Wall time: 26 ms\n"
     ]
    }
   ],
   "source": [
    "%%time\n",
    "\n",
    "filtered['exists'] = filtered.progress_apply(lambda x: functions.set_exists(x), axis=1)\n",
    "\n",
    "display(\"== Filtered Data With Exists ==\")\n",
    "display(filtered.shape)\n",
    "display(filtered)"
   ],
   "metadata": {
    "collapsed": false,
    "ExecuteTime": {
     "end_time": "2023-05-21T15:08:11.320590200Z",
     "start_time": "2023-05-21T15:08:11.155589600Z"
    }
   }
  },
  {
   "cell_type": "code",
   "execution_count": 15,
   "outputs": [
    {
     "name": "stderr",
     "output_type": "stream",
     "text": [
      "Progress: 100%|██████████| 84/84 [00:00<00:00, 1023.75it/s]\n",
      "<timed exec>:1: SettingWithCopyWarning: \n",
      "A value is trying to be set on a copy of a slice from a DataFrame.\n",
      "Try using .loc[row_indexer,col_indexer] = value instead\n",
      "\n",
      "See the caveats in the documentation: https://pandas.pydata.org/pandas-docs/stable/user_guide/indexing.html#returning-a-view-versus-a-copy\n"
     ]
    },
    {
     "data": {
      "text/plain": "'== Filtered Data With Hash =='"
     },
     "metadata": {},
     "output_type": "display_data"
    },
    {
     "data": {
      "text/plain": "(84, 15)"
     },
     "metadata": {},
     "output_type": "display_data"
    },
    {
     "data": {
      "text/plain": "              id         subreddit                author   \nid                                                         \n13hgme0  13hgme0       SFWRedheads          Redhotwife88  \\\n13ibnsi  13ibnsi       SFWRedheads       Dasharkiss_real   \n13imeet  13imeet       SFWRedheads             imjenrose   \n13jm7mh  13jm7mh       SFWRedheads          Redhotwife88   \n13nr68v  13nr68v       SFWRedheads  ComprehensiveCap1691   \n...          ...               ...                   ...   \n13nwjqp  13nwjqp              DLAH      spicy_kingWest44   \n13nx3q5  13nx3q5              DLAH              robok212   \n13nt4ei  13nt4ei  bathandbodyworks           LadyMisfits   \n13nwdel  13nwdel  bathandbodyworks     lifeinsidethepage   \n13nwu1r  13nwu1r  bathandbodyworks     lifeinsidethepage   \n\n                                                     title caption   \nid                                                                   \n13hgme0     I Love wearing my Leather Pants and Heels! [F]          \\\n13ibnsi  I can live without money but I can't live with...           \n13imeet              Adorable girl to make your day better           \n13jm7mh      Do I look Cute for my Anniversary Dinner? [F]           \n13nr68v  I hope i can make your day better with a littl...           \n...                                                    ...     ...   \n13nwjqp                              Gotta get them angles           \n13nx3q5  I know there is not much dress ... but there i...           \n13nt4ei                       Nice surprise from Micheal’s           \n13nwdel                                    Laundry Scoop 😉           \n13nwu1r  Bath and Body Works Semi Annual Sale Shopper B...           \n\n                                     hash   \nid                                          \n13hgme0                                    \\\n13ibnsi                                     \n13imeet                                     \n13jm7mh                                     \n13nr68v  9c76d407de60c8b396ffccd749b7d563   \n...                                   ...   \n13nwjqp  26a955b5d75d32d39ac452a9a934d15d   \n13nx3q5  5fd63ab2fb5a39229ba0eba3a2775f8a   \n13nt4ei  362b6a403ebe68409fdefbcf7729ffbc   \n13nwdel  fdbf23831cd5776d1b93d902d626d4ec   \n13nwu1r  a1fad1780ca38f42130e8ab82617f315   \n\n                                                 permalink   \nid                                                           \n13hgme0  /r/SFWRedheads/comments/13hgme0/i_love_wearing...  \\\n13ibnsi  /r/SFWRedheads/comments/13ibnsi/i_can_live_wit...   \n13imeet  /r/SFWRedheads/comments/13imeet/adorable_girl_...   \n13jm7mh  /r/SFWRedheads/comments/13jm7mh/do_i_look_cute...   \n13nr68v  /r/SFWRedheads/comments/13nr68v/i_hope_i_can_m...   \n...                                                    ...   \n13nwjqp    /r/DLAH/comments/13nwjqp/gotta_get_them_angles/   \n13nx3q5  /r/DLAH/comments/13nx3q5/i_know_there_is_not_m...   \n13nt4ei  /r/bathandbodyworks/comments/13nt4ei/nice_surp...   \n13nwdel  /r/bathandbodyworks/comments/13nwdel/laundry_s...   \n13nwu1r  /r/bathandbodyworks/comments/13nwu1r/bath_and_...   \n\n                                              original_url   image_name   \nid                                                                        \n13hgme0    https://i.redgifs.com/i/frayedmadeupsparrow.jpg  13hgme0.jpg  \\\n13ibnsi    https://i.redgifs.com/i/imaginaryrawleveret.jpg  13ibnsi.jpg   \n13imeet  https://i.redgifs.com/i/dangerousfilthyhornedv...  13imeet.jpg   \n13jm7mh  https://i.redgifs.com/i/tensedarkmagentabedlin...  13jm7mh.jpg   \n13nr68v                https://i.redd.it/52i233v4u71b1.jpg  13nr68v.jpg   \n...                                                    ...          ...   \n13nwjqp                https://i.redd.it/7xdtvt84l81b1.jpg  13nwjqp.jpg   \n13nx3q5                https://i.redd.it/1jdres3dp81b1.jpg  13nx3q5.jpg   \n13nt4ei                https://i.redd.it/mse5auo4681b1.jpg  13nt4ei.jpg   \n13nwdel                https://i.redd.it/zr5pm949271b1.jpg  13nwdel.jpg   \n13nwu1r                https://i.redd.it/ar0vy0zr571b1.jpg  13nwu1r.jpg   \n\n                           path                model  exists  curated accept   \nid                                                                             \n13hgme0                             RedHeadDiffusion   False    False  False  \\\n13ibnsi                             RedHeadDiffusion   False    False  False   \n13imeet                             RedHeadDiffusion   False    False  False   \n13jm7mh                             RedHeadDiffusion   False    False  False   \n13nr68v  data/image/13nr68v.jpg     RedHeadDiffusion    True    False  False   \n...                         ...                  ...     ...      ...    ...   \n13nwjqp  data/image/13nwjqp.jpg  PrettyGirlDiffusion    True    False  False   \n13nx3q5  data/image/13nx3q5.jpg  PrettyGirlDiffusion    True    False  False   \n13nt4ei  data/image/13nt4ei.jpg      CandleDiffusion    True    False  False   \n13nwdel  data/image/13nwdel.jpg      CandleDiffusion    True    False  False   \n13nwu1r  data/image/13nwu1r.jpg      CandleDiffusion    True    False  False   \n\n        tags  \nid            \n13hgme0   []  \n13ibnsi   []  \n13imeet   []  \n13jm7mh   []  \n13nr68v   []  \n...      ...  \n13nwjqp   []  \n13nx3q5   []  \n13nt4ei   []  \n13nwdel   []  \n13nwu1r   []  \n\n[84 rows x 15 columns]",
      "text/html": "<div>\n<style scoped>\n    .dataframe tbody tr th:only-of-type {\n        vertical-align: middle;\n    }\n\n    .dataframe tbody tr th {\n        vertical-align: top;\n    }\n\n    .dataframe thead th {\n        text-align: right;\n    }\n</style>\n<table border=\"1\" class=\"dataframe\">\n  <thead>\n    <tr style=\"text-align: right;\">\n      <th></th>\n      <th>id</th>\n      <th>subreddit</th>\n      <th>author</th>\n      <th>title</th>\n      <th>caption</th>\n      <th>hash</th>\n      <th>permalink</th>\n      <th>original_url</th>\n      <th>image_name</th>\n      <th>path</th>\n      <th>model</th>\n      <th>exists</th>\n      <th>curated</th>\n      <th>accept</th>\n      <th>tags</th>\n    </tr>\n    <tr>\n      <th>id</th>\n      <th></th>\n      <th></th>\n      <th></th>\n      <th></th>\n      <th></th>\n      <th></th>\n      <th></th>\n      <th></th>\n      <th></th>\n      <th></th>\n      <th></th>\n      <th></th>\n      <th></th>\n      <th></th>\n      <th></th>\n    </tr>\n  </thead>\n  <tbody>\n    <tr>\n      <th>13hgme0</th>\n      <td>13hgme0</td>\n      <td>SFWRedheads</td>\n      <td>Redhotwife88</td>\n      <td>I Love wearing my Leather Pants and Heels! [F]</td>\n      <td></td>\n      <td></td>\n      <td>/r/SFWRedheads/comments/13hgme0/i_love_wearing...</td>\n      <td>https://i.redgifs.com/i/frayedmadeupsparrow.jpg</td>\n      <td>13hgme0.jpg</td>\n      <td></td>\n      <td>RedHeadDiffusion</td>\n      <td>False</td>\n      <td>False</td>\n      <td>False</td>\n      <td>[]</td>\n    </tr>\n    <tr>\n      <th>13ibnsi</th>\n      <td>13ibnsi</td>\n      <td>SFWRedheads</td>\n      <td>Dasharkiss_real</td>\n      <td>I can live without money but I can't live with...</td>\n      <td></td>\n      <td></td>\n      <td>/r/SFWRedheads/comments/13ibnsi/i_can_live_wit...</td>\n      <td>https://i.redgifs.com/i/imaginaryrawleveret.jpg</td>\n      <td>13ibnsi.jpg</td>\n      <td></td>\n      <td>RedHeadDiffusion</td>\n      <td>False</td>\n      <td>False</td>\n      <td>False</td>\n      <td>[]</td>\n    </tr>\n    <tr>\n      <th>13imeet</th>\n      <td>13imeet</td>\n      <td>SFWRedheads</td>\n      <td>imjenrose</td>\n      <td>Adorable girl to make your day better</td>\n      <td></td>\n      <td></td>\n      <td>/r/SFWRedheads/comments/13imeet/adorable_girl_...</td>\n      <td>https://i.redgifs.com/i/dangerousfilthyhornedv...</td>\n      <td>13imeet.jpg</td>\n      <td></td>\n      <td>RedHeadDiffusion</td>\n      <td>False</td>\n      <td>False</td>\n      <td>False</td>\n      <td>[]</td>\n    </tr>\n    <tr>\n      <th>13jm7mh</th>\n      <td>13jm7mh</td>\n      <td>SFWRedheads</td>\n      <td>Redhotwife88</td>\n      <td>Do I look Cute for my Anniversary Dinner? [F]</td>\n      <td></td>\n      <td></td>\n      <td>/r/SFWRedheads/comments/13jm7mh/do_i_look_cute...</td>\n      <td>https://i.redgifs.com/i/tensedarkmagentabedlin...</td>\n      <td>13jm7mh.jpg</td>\n      <td></td>\n      <td>RedHeadDiffusion</td>\n      <td>False</td>\n      <td>False</td>\n      <td>False</td>\n      <td>[]</td>\n    </tr>\n    <tr>\n      <th>13nr68v</th>\n      <td>13nr68v</td>\n      <td>SFWRedheads</td>\n      <td>ComprehensiveCap1691</td>\n      <td>I hope i can make your day better with a littl...</td>\n      <td></td>\n      <td>9c76d407de60c8b396ffccd749b7d563</td>\n      <td>/r/SFWRedheads/comments/13nr68v/i_hope_i_can_m...</td>\n      <td>https://i.redd.it/52i233v4u71b1.jpg</td>\n      <td>13nr68v.jpg</td>\n      <td>data/image/13nr68v.jpg</td>\n      <td>RedHeadDiffusion</td>\n      <td>True</td>\n      <td>False</td>\n      <td>False</td>\n      <td>[]</td>\n    </tr>\n    <tr>\n      <th>...</th>\n      <td>...</td>\n      <td>...</td>\n      <td>...</td>\n      <td>...</td>\n      <td>...</td>\n      <td>...</td>\n      <td>...</td>\n      <td>...</td>\n      <td>...</td>\n      <td>...</td>\n      <td>...</td>\n      <td>...</td>\n      <td>...</td>\n      <td>...</td>\n      <td>...</td>\n    </tr>\n    <tr>\n      <th>13nwjqp</th>\n      <td>13nwjqp</td>\n      <td>DLAH</td>\n      <td>spicy_kingWest44</td>\n      <td>Gotta get them angles</td>\n      <td></td>\n      <td>26a955b5d75d32d39ac452a9a934d15d</td>\n      <td>/r/DLAH/comments/13nwjqp/gotta_get_them_angles/</td>\n      <td>https://i.redd.it/7xdtvt84l81b1.jpg</td>\n      <td>13nwjqp.jpg</td>\n      <td>data/image/13nwjqp.jpg</td>\n      <td>PrettyGirlDiffusion</td>\n      <td>True</td>\n      <td>False</td>\n      <td>False</td>\n      <td>[]</td>\n    </tr>\n    <tr>\n      <th>13nx3q5</th>\n      <td>13nx3q5</td>\n      <td>DLAH</td>\n      <td>robok212</td>\n      <td>I know there is not much dress ... but there i...</td>\n      <td></td>\n      <td>5fd63ab2fb5a39229ba0eba3a2775f8a</td>\n      <td>/r/DLAH/comments/13nx3q5/i_know_there_is_not_m...</td>\n      <td>https://i.redd.it/1jdres3dp81b1.jpg</td>\n      <td>13nx3q5.jpg</td>\n      <td>data/image/13nx3q5.jpg</td>\n      <td>PrettyGirlDiffusion</td>\n      <td>True</td>\n      <td>False</td>\n      <td>False</td>\n      <td>[]</td>\n    </tr>\n    <tr>\n      <th>13nt4ei</th>\n      <td>13nt4ei</td>\n      <td>bathandbodyworks</td>\n      <td>LadyMisfits</td>\n      <td>Nice surprise from Micheal’s</td>\n      <td></td>\n      <td>362b6a403ebe68409fdefbcf7729ffbc</td>\n      <td>/r/bathandbodyworks/comments/13nt4ei/nice_surp...</td>\n      <td>https://i.redd.it/mse5auo4681b1.jpg</td>\n      <td>13nt4ei.jpg</td>\n      <td>data/image/13nt4ei.jpg</td>\n      <td>CandleDiffusion</td>\n      <td>True</td>\n      <td>False</td>\n      <td>False</td>\n      <td>[]</td>\n    </tr>\n    <tr>\n      <th>13nwdel</th>\n      <td>13nwdel</td>\n      <td>bathandbodyworks</td>\n      <td>lifeinsidethepage</td>\n      <td>Laundry Scoop 😉</td>\n      <td></td>\n      <td>fdbf23831cd5776d1b93d902d626d4ec</td>\n      <td>/r/bathandbodyworks/comments/13nwdel/laundry_s...</td>\n      <td>https://i.redd.it/zr5pm949271b1.jpg</td>\n      <td>13nwdel.jpg</td>\n      <td>data/image/13nwdel.jpg</td>\n      <td>CandleDiffusion</td>\n      <td>True</td>\n      <td>False</td>\n      <td>False</td>\n      <td>[]</td>\n    </tr>\n    <tr>\n      <th>13nwu1r</th>\n      <td>13nwu1r</td>\n      <td>bathandbodyworks</td>\n      <td>lifeinsidethepage</td>\n      <td>Bath and Body Works Semi Annual Sale Shopper B...</td>\n      <td></td>\n      <td>a1fad1780ca38f42130e8ab82617f315</td>\n      <td>/r/bathandbodyworks/comments/13nwu1r/bath_and_...</td>\n      <td>https://i.redd.it/ar0vy0zr571b1.jpg</td>\n      <td>13nwu1r.jpg</td>\n      <td>data/image/13nwu1r.jpg</td>\n      <td>CandleDiffusion</td>\n      <td>True</td>\n      <td>False</td>\n      <td>False</td>\n      <td>[]</td>\n    </tr>\n  </tbody>\n</table>\n<p>84 rows × 15 columns</p>\n</div>"
     },
     "metadata": {},
     "output_type": "display_data"
    },
    {
     "name": "stdout",
     "output_type": "stream",
     "text": [
      "CPU times: total: 109 ms\n",
      "Wall time: 103 ms\n"
     ]
    }
   ],
   "source": [
    "%%time\n",
    "\n",
    "filtered['hash'] = filtered.progress_apply(lambda x: functions.set_hash(x), axis=1)\n",
    "\n",
    "display(\"== Filtered Data With Hash ==\")\n",
    "display(filtered.shape)\n",
    "display(filtered)"
   ],
   "metadata": {
    "collapsed": false,
    "ExecuteTime": {
     "end_time": "2023-05-21T15:08:11.819602Z",
     "start_time": "2023-05-21T15:08:11.201588600Z"
    }
   }
  },
  {
   "cell_type": "code",
   "execution_count": 27,
   "outputs": [
    {
     "data": {
      "text/plain": "         id         subreddit                author   \n0   13nr68v       SFWRedheads  ComprehensiveCap1691  \\\n1   13nrcar       SFWRedheads          AnnSweetBaby   \n2   13nrkgm       SFWRedheads  Junior-Midnight-8241   \n3   13nrutc       SFWRedheads       Dasharkiss_real   \n4   13ns48w       SFWRedheads         JenniferCoope   \n..      ...               ...                   ...   \n67  13nwjqp              DLAH      spicy_kingWest44   \n68  13nx3q5              DLAH              robok212   \n69  13nt4ei  bathandbodyworks           LadyMisfits   \n70  13nwdel  bathandbodyworks     lifeinsidethepage   \n71  13nwu1r  bathandbodyworks     lifeinsidethepage   \n\n                                                title caption   \n0   I hope i can make your day better with a littl...          \\\n1   At first I wanted a pink skirt, but I decided ...           \n2                  Hey…you look like you need a hug 🫂           \n3   today the weather is bad, we stay at home and ...           \n4                        Hey! My eyes are up here! 😂💕           \n..                                                ...     ...   \n67                              Gotta get them angles           \n68  I know there is not much dress ... but there i...           \n69                       Nice surprise from Micheal’s           \n70                                    Laundry Scoop 😉           \n71  Bath and Body Works Semi Annual Sale Shopper B...           \n\n                                hash   \n0   9c76d407de60c8b396ffccd749b7d563  \\\n1   62e7826405bdc556cb923a98498c9872   \n2   80fe1c72b6bf976448ffb9161a5245f3   \n3   f5da1c7c918ff25c06b53bc0ecf2d071   \n4   80c2a694f5492f4885de0cd9553f02dd   \n..                               ...   \n67  26a955b5d75d32d39ac452a9a934d15d   \n68  5fd63ab2fb5a39229ba0eba3a2775f8a   \n69  362b6a403ebe68409fdefbcf7729ffbc   \n70  fdbf23831cd5776d1b93d902d626d4ec   \n71  a1fad1780ca38f42130e8ab82617f315   \n\n                                            permalink   \n0   /r/SFWRedheads/comments/13nr68v/i_hope_i_can_m...  \\\n1   /r/SFWRedheads/comments/13nrcar/at_first_i_wan...   \n2   /r/SFWRedheads/comments/13nrkgm/heyyou_look_li...   \n3   /r/SFWRedheads/comments/13nrutc/today_the_weat...   \n4   /r/SFWRedheads/comments/13ns48w/hey_my_eyes_ar...   \n..                                                ...   \n67    /r/DLAH/comments/13nwjqp/gotta_get_them_angles/   \n68  /r/DLAH/comments/13nx3q5/i_know_there_is_not_m...   \n69  /r/bathandbodyworks/comments/13nt4ei/nice_surp...   \n70  /r/bathandbodyworks/comments/13nwdel/laundry_s...   \n71  /r/bathandbodyworks/comments/13nwu1r/bath_and_...   \n\n                           original_url   image_name                    path   \n0   https://i.redd.it/52i233v4u71b1.jpg  13nr68v.jpg  data/image/13nr68v.jpg  \\\n1   https://i.redd.it/9k0md38kv71b1.jpg  13nrcar.jpg  data/image/13nrcar.jpg   \n2   https://i.redd.it/r0z64kzhx71b1.jpg  13nrkgm.jpg  data/image/13nrkgm.jpg   \n3   https://i.redd.it/yu2u0kvdi61b1.jpg  13nrutc.jpg  data/image/13nrutc.jpg   \n4       https://i.imgur.com/72fXRTa.jpg  13ns48w.jpg  data/image/13ns48w.jpg   \n..                                  ...          ...                     ...   \n67  https://i.redd.it/7xdtvt84l81b1.jpg  13nwjqp.jpg  data/image/13nwjqp.jpg   \n68  https://i.redd.it/1jdres3dp81b1.jpg  13nx3q5.jpg  data/image/13nx3q5.jpg   \n69  https://i.redd.it/mse5auo4681b1.jpg  13nt4ei.jpg  data/image/13nt4ei.jpg   \n70  https://i.redd.it/zr5pm949271b1.jpg  13nwdel.jpg  data/image/13nwdel.jpg   \n71  https://i.redd.it/ar0vy0zr571b1.jpg  13nwu1r.jpg  data/image/13nwu1r.jpg   \n\n                  model  exists  curated accept tags  \n0      RedHeadDiffusion    True    False  False   []  \n1      RedHeadDiffusion    True    False  False   []  \n2      RedHeadDiffusion    True    False  False   []  \n3      RedHeadDiffusion    True    False  False   []  \n4      RedHeadDiffusion    True    False  False   []  \n..                  ...     ...      ...    ...  ...  \n67  PrettyGirlDiffusion    True    False  False   []  \n68  PrettyGirlDiffusion    True    False  False   []  \n69      CandleDiffusion    True    False  False   []  \n70      CandleDiffusion    True    False  False   []  \n71      CandleDiffusion    True    False  False   []  \n\n[72 rows x 15 columns]",
      "text/html": "<div>\n<style scoped>\n    .dataframe tbody tr th:only-of-type {\n        vertical-align: middle;\n    }\n\n    .dataframe tbody tr th {\n        vertical-align: top;\n    }\n\n    .dataframe thead th {\n        text-align: right;\n    }\n</style>\n<table border=\"1\" class=\"dataframe\">\n  <thead>\n    <tr style=\"text-align: right;\">\n      <th></th>\n      <th>id</th>\n      <th>subreddit</th>\n      <th>author</th>\n      <th>title</th>\n      <th>caption</th>\n      <th>hash</th>\n      <th>permalink</th>\n      <th>original_url</th>\n      <th>image_name</th>\n      <th>path</th>\n      <th>model</th>\n      <th>exists</th>\n      <th>curated</th>\n      <th>accept</th>\n      <th>tags</th>\n    </tr>\n  </thead>\n  <tbody>\n    <tr>\n      <th>0</th>\n      <td>13nr68v</td>\n      <td>SFWRedheads</td>\n      <td>ComprehensiveCap1691</td>\n      <td>I hope i can make your day better with a littl...</td>\n      <td></td>\n      <td>9c76d407de60c8b396ffccd749b7d563</td>\n      <td>/r/SFWRedheads/comments/13nr68v/i_hope_i_can_m...</td>\n      <td>https://i.redd.it/52i233v4u71b1.jpg</td>\n      <td>13nr68v.jpg</td>\n      <td>data/image/13nr68v.jpg</td>\n      <td>RedHeadDiffusion</td>\n      <td>True</td>\n      <td>False</td>\n      <td>False</td>\n      <td>[]</td>\n    </tr>\n    <tr>\n      <th>1</th>\n      <td>13nrcar</td>\n      <td>SFWRedheads</td>\n      <td>AnnSweetBaby</td>\n      <td>At first I wanted a pink skirt, but I decided ...</td>\n      <td></td>\n      <td>62e7826405bdc556cb923a98498c9872</td>\n      <td>/r/SFWRedheads/comments/13nrcar/at_first_i_wan...</td>\n      <td>https://i.redd.it/9k0md38kv71b1.jpg</td>\n      <td>13nrcar.jpg</td>\n      <td>data/image/13nrcar.jpg</td>\n      <td>RedHeadDiffusion</td>\n      <td>True</td>\n      <td>False</td>\n      <td>False</td>\n      <td>[]</td>\n    </tr>\n    <tr>\n      <th>2</th>\n      <td>13nrkgm</td>\n      <td>SFWRedheads</td>\n      <td>Junior-Midnight-8241</td>\n      <td>Hey…you look like you need a hug 🫂</td>\n      <td></td>\n      <td>80fe1c72b6bf976448ffb9161a5245f3</td>\n      <td>/r/SFWRedheads/comments/13nrkgm/heyyou_look_li...</td>\n      <td>https://i.redd.it/r0z64kzhx71b1.jpg</td>\n      <td>13nrkgm.jpg</td>\n      <td>data/image/13nrkgm.jpg</td>\n      <td>RedHeadDiffusion</td>\n      <td>True</td>\n      <td>False</td>\n      <td>False</td>\n      <td>[]</td>\n    </tr>\n    <tr>\n      <th>3</th>\n      <td>13nrutc</td>\n      <td>SFWRedheads</td>\n      <td>Dasharkiss_real</td>\n      <td>today the weather is bad, we stay at home and ...</td>\n      <td></td>\n      <td>f5da1c7c918ff25c06b53bc0ecf2d071</td>\n      <td>/r/SFWRedheads/comments/13nrutc/today_the_weat...</td>\n      <td>https://i.redd.it/yu2u0kvdi61b1.jpg</td>\n      <td>13nrutc.jpg</td>\n      <td>data/image/13nrutc.jpg</td>\n      <td>RedHeadDiffusion</td>\n      <td>True</td>\n      <td>False</td>\n      <td>False</td>\n      <td>[]</td>\n    </tr>\n    <tr>\n      <th>4</th>\n      <td>13ns48w</td>\n      <td>SFWRedheads</td>\n      <td>JenniferCoope</td>\n      <td>Hey! My eyes are up here! 😂💕</td>\n      <td></td>\n      <td>80c2a694f5492f4885de0cd9553f02dd</td>\n      <td>/r/SFWRedheads/comments/13ns48w/hey_my_eyes_ar...</td>\n      <td>https://i.imgur.com/72fXRTa.jpg</td>\n      <td>13ns48w.jpg</td>\n      <td>data/image/13ns48w.jpg</td>\n      <td>RedHeadDiffusion</td>\n      <td>True</td>\n      <td>False</td>\n      <td>False</td>\n      <td>[]</td>\n    </tr>\n    <tr>\n      <th>...</th>\n      <td>...</td>\n      <td>...</td>\n      <td>...</td>\n      <td>...</td>\n      <td>...</td>\n      <td>...</td>\n      <td>...</td>\n      <td>...</td>\n      <td>...</td>\n      <td>...</td>\n      <td>...</td>\n      <td>...</td>\n      <td>...</td>\n      <td>...</td>\n      <td>...</td>\n    </tr>\n    <tr>\n      <th>67</th>\n      <td>13nwjqp</td>\n      <td>DLAH</td>\n      <td>spicy_kingWest44</td>\n      <td>Gotta get them angles</td>\n      <td></td>\n      <td>26a955b5d75d32d39ac452a9a934d15d</td>\n      <td>/r/DLAH/comments/13nwjqp/gotta_get_them_angles/</td>\n      <td>https://i.redd.it/7xdtvt84l81b1.jpg</td>\n      <td>13nwjqp.jpg</td>\n      <td>data/image/13nwjqp.jpg</td>\n      <td>PrettyGirlDiffusion</td>\n      <td>True</td>\n      <td>False</td>\n      <td>False</td>\n      <td>[]</td>\n    </tr>\n    <tr>\n      <th>68</th>\n      <td>13nx3q5</td>\n      <td>DLAH</td>\n      <td>robok212</td>\n      <td>I know there is not much dress ... but there i...</td>\n      <td></td>\n      <td>5fd63ab2fb5a39229ba0eba3a2775f8a</td>\n      <td>/r/DLAH/comments/13nx3q5/i_know_there_is_not_m...</td>\n      <td>https://i.redd.it/1jdres3dp81b1.jpg</td>\n      <td>13nx3q5.jpg</td>\n      <td>data/image/13nx3q5.jpg</td>\n      <td>PrettyGirlDiffusion</td>\n      <td>True</td>\n      <td>False</td>\n      <td>False</td>\n      <td>[]</td>\n    </tr>\n    <tr>\n      <th>69</th>\n      <td>13nt4ei</td>\n      <td>bathandbodyworks</td>\n      <td>LadyMisfits</td>\n      <td>Nice surprise from Micheal’s</td>\n      <td></td>\n      <td>362b6a403ebe68409fdefbcf7729ffbc</td>\n      <td>/r/bathandbodyworks/comments/13nt4ei/nice_surp...</td>\n      <td>https://i.redd.it/mse5auo4681b1.jpg</td>\n      <td>13nt4ei.jpg</td>\n      <td>data/image/13nt4ei.jpg</td>\n      <td>CandleDiffusion</td>\n      <td>True</td>\n      <td>False</td>\n      <td>False</td>\n      <td>[]</td>\n    </tr>\n    <tr>\n      <th>70</th>\n      <td>13nwdel</td>\n      <td>bathandbodyworks</td>\n      <td>lifeinsidethepage</td>\n      <td>Laundry Scoop 😉</td>\n      <td></td>\n      <td>fdbf23831cd5776d1b93d902d626d4ec</td>\n      <td>/r/bathandbodyworks/comments/13nwdel/laundry_s...</td>\n      <td>https://i.redd.it/zr5pm949271b1.jpg</td>\n      <td>13nwdel.jpg</td>\n      <td>data/image/13nwdel.jpg</td>\n      <td>CandleDiffusion</td>\n      <td>True</td>\n      <td>False</td>\n      <td>False</td>\n      <td>[]</td>\n    </tr>\n    <tr>\n      <th>71</th>\n      <td>13nwu1r</td>\n      <td>bathandbodyworks</td>\n      <td>lifeinsidethepage</td>\n      <td>Bath and Body Works Semi Annual Sale Shopper B...</td>\n      <td></td>\n      <td>a1fad1780ca38f42130e8ab82617f315</td>\n      <td>/r/bathandbodyworks/comments/13nwu1r/bath_and_...</td>\n      <td>https://i.redd.it/ar0vy0zr571b1.jpg</td>\n      <td>13nwu1r.jpg</td>\n      <td>data/image/13nwu1r.jpg</td>\n      <td>CandleDiffusion</td>\n      <td>True</td>\n      <td>False</td>\n      <td>False</td>\n      <td>[]</td>\n    </tr>\n  </tbody>\n</table>\n<p>72 rows × 15 columns</p>\n</div>"
     },
     "metadata": {},
     "output_type": "display_data"
    },
    {
     "data": {
      "text/plain": "'== New Records To Process =='"
     },
     "metadata": {},
     "output_type": "display_data"
    },
    {
     "data": {
      "text/plain": "(72, 15)"
     },
     "metadata": {},
     "output_type": "display_data"
    },
    {
     "data": {
      "text/plain": "         id         subreddit                author   \n0   13nr68v       SFWRedheads  ComprehensiveCap1691  \\\n1   13nrcar       SFWRedheads          AnnSweetBaby   \n2   13nrkgm       SFWRedheads  Junior-Midnight-8241   \n3   13nrutc       SFWRedheads       Dasharkiss_real   \n4   13ns48w       SFWRedheads         JenniferCoope   \n..      ...               ...                   ...   \n67  13nwjqp              DLAH      spicy_kingWest44   \n68  13nx3q5              DLAH              robok212   \n69  13nt4ei  bathandbodyworks           LadyMisfits   \n70  13nwdel  bathandbodyworks     lifeinsidethepage   \n71  13nwu1r  bathandbodyworks     lifeinsidethepage   \n\n                                                title caption   \n0   I hope i can make your day better with a littl...          \\\n1   At first I wanted a pink skirt, but I decided ...           \n2                  Hey…you look like you need a hug 🫂           \n3   today the weather is bad, we stay at home and ...           \n4                        Hey! My eyes are up here! 😂💕           \n..                                                ...     ...   \n67                              Gotta get them angles           \n68  I know there is not much dress ... but there i...           \n69                       Nice surprise from Micheal’s           \n70                                    Laundry Scoop 😉           \n71  Bath and Body Works Semi Annual Sale Shopper B...           \n\n                                hash   \n0   9c76d407de60c8b396ffccd749b7d563  \\\n1   62e7826405bdc556cb923a98498c9872   \n2   80fe1c72b6bf976448ffb9161a5245f3   \n3   f5da1c7c918ff25c06b53bc0ecf2d071   \n4   80c2a694f5492f4885de0cd9553f02dd   \n..                               ...   \n67  26a955b5d75d32d39ac452a9a934d15d   \n68  5fd63ab2fb5a39229ba0eba3a2775f8a   \n69  362b6a403ebe68409fdefbcf7729ffbc   \n70  fdbf23831cd5776d1b93d902d626d4ec   \n71  a1fad1780ca38f42130e8ab82617f315   \n\n                                            permalink   \n0   /r/SFWRedheads/comments/13nr68v/i_hope_i_can_m...  \\\n1   /r/SFWRedheads/comments/13nrcar/at_first_i_wan...   \n2   /r/SFWRedheads/comments/13nrkgm/heyyou_look_li...   \n3   /r/SFWRedheads/comments/13nrutc/today_the_weat...   \n4   /r/SFWRedheads/comments/13ns48w/hey_my_eyes_ar...   \n..                                                ...   \n67    /r/DLAH/comments/13nwjqp/gotta_get_them_angles/   \n68  /r/DLAH/comments/13nx3q5/i_know_there_is_not_m...   \n69  /r/bathandbodyworks/comments/13nt4ei/nice_surp...   \n70  /r/bathandbodyworks/comments/13nwdel/laundry_s...   \n71  /r/bathandbodyworks/comments/13nwu1r/bath_and_...   \n\n                           original_url   image_name                    path   \n0   https://i.redd.it/52i233v4u71b1.jpg  13nr68v.jpg  data/image/13nr68v.jpg  \\\n1   https://i.redd.it/9k0md38kv71b1.jpg  13nrcar.jpg  data/image/13nrcar.jpg   \n2   https://i.redd.it/r0z64kzhx71b1.jpg  13nrkgm.jpg  data/image/13nrkgm.jpg   \n3   https://i.redd.it/yu2u0kvdi61b1.jpg  13nrutc.jpg  data/image/13nrutc.jpg   \n4       https://i.imgur.com/72fXRTa.jpg  13ns48w.jpg  data/image/13ns48w.jpg   \n..                                  ...          ...                     ...   \n67  https://i.redd.it/7xdtvt84l81b1.jpg  13nwjqp.jpg  data/image/13nwjqp.jpg   \n68  https://i.redd.it/1jdres3dp81b1.jpg  13nx3q5.jpg  data/image/13nx3q5.jpg   \n69  https://i.redd.it/mse5auo4681b1.jpg  13nt4ei.jpg  data/image/13nt4ei.jpg   \n70  https://i.redd.it/zr5pm949271b1.jpg  13nwdel.jpg  data/image/13nwdel.jpg   \n71  https://i.redd.it/ar0vy0zr571b1.jpg  13nwu1r.jpg  data/image/13nwu1r.jpg   \n\n                  model  exists  curated  accept tags  \n0      RedHeadDiffusion    True    False   False   []  \n1      RedHeadDiffusion    True    False   False   []  \n2      RedHeadDiffusion    True    False   False   []  \n3      RedHeadDiffusion    True    False   False   []  \n4      RedHeadDiffusion    True    False   False   []  \n..                  ...     ...      ...     ...  ...  \n67  PrettyGirlDiffusion    True    False   False   []  \n68  PrettyGirlDiffusion    True    False   False   []  \n69      CandleDiffusion    True    False   False   []  \n70      CandleDiffusion    True    False   False   []  \n71      CandleDiffusion    True    False   False   []  \n\n[72 rows x 15 columns]",
      "text/html": "<div>\n<style scoped>\n    .dataframe tbody tr th:only-of-type {\n        vertical-align: middle;\n    }\n\n    .dataframe tbody tr th {\n        vertical-align: top;\n    }\n\n    .dataframe thead th {\n        text-align: right;\n    }\n</style>\n<table border=\"1\" class=\"dataframe\">\n  <thead>\n    <tr style=\"text-align: right;\">\n      <th></th>\n      <th>id</th>\n      <th>subreddit</th>\n      <th>author</th>\n      <th>title</th>\n      <th>caption</th>\n      <th>hash</th>\n      <th>permalink</th>\n      <th>original_url</th>\n      <th>image_name</th>\n      <th>path</th>\n      <th>model</th>\n      <th>exists</th>\n      <th>curated</th>\n      <th>accept</th>\n      <th>tags</th>\n    </tr>\n  </thead>\n  <tbody>\n    <tr>\n      <th>0</th>\n      <td>13nr68v</td>\n      <td>SFWRedheads</td>\n      <td>ComprehensiveCap1691</td>\n      <td>I hope i can make your day better with a littl...</td>\n      <td></td>\n      <td>9c76d407de60c8b396ffccd749b7d563</td>\n      <td>/r/SFWRedheads/comments/13nr68v/i_hope_i_can_m...</td>\n      <td>https://i.redd.it/52i233v4u71b1.jpg</td>\n      <td>13nr68v.jpg</td>\n      <td>data/image/13nr68v.jpg</td>\n      <td>RedHeadDiffusion</td>\n      <td>True</td>\n      <td>False</td>\n      <td>False</td>\n      <td>[]</td>\n    </tr>\n    <tr>\n      <th>1</th>\n      <td>13nrcar</td>\n      <td>SFWRedheads</td>\n      <td>AnnSweetBaby</td>\n      <td>At first I wanted a pink skirt, but I decided ...</td>\n      <td></td>\n      <td>62e7826405bdc556cb923a98498c9872</td>\n      <td>/r/SFWRedheads/comments/13nrcar/at_first_i_wan...</td>\n      <td>https://i.redd.it/9k0md38kv71b1.jpg</td>\n      <td>13nrcar.jpg</td>\n      <td>data/image/13nrcar.jpg</td>\n      <td>RedHeadDiffusion</td>\n      <td>True</td>\n      <td>False</td>\n      <td>False</td>\n      <td>[]</td>\n    </tr>\n    <tr>\n      <th>2</th>\n      <td>13nrkgm</td>\n      <td>SFWRedheads</td>\n      <td>Junior-Midnight-8241</td>\n      <td>Hey…you look like you need a hug 🫂</td>\n      <td></td>\n      <td>80fe1c72b6bf976448ffb9161a5245f3</td>\n      <td>/r/SFWRedheads/comments/13nrkgm/heyyou_look_li...</td>\n      <td>https://i.redd.it/r0z64kzhx71b1.jpg</td>\n      <td>13nrkgm.jpg</td>\n      <td>data/image/13nrkgm.jpg</td>\n      <td>RedHeadDiffusion</td>\n      <td>True</td>\n      <td>False</td>\n      <td>False</td>\n      <td>[]</td>\n    </tr>\n    <tr>\n      <th>3</th>\n      <td>13nrutc</td>\n      <td>SFWRedheads</td>\n      <td>Dasharkiss_real</td>\n      <td>today the weather is bad, we stay at home and ...</td>\n      <td></td>\n      <td>f5da1c7c918ff25c06b53bc0ecf2d071</td>\n      <td>/r/SFWRedheads/comments/13nrutc/today_the_weat...</td>\n      <td>https://i.redd.it/yu2u0kvdi61b1.jpg</td>\n      <td>13nrutc.jpg</td>\n      <td>data/image/13nrutc.jpg</td>\n      <td>RedHeadDiffusion</td>\n      <td>True</td>\n      <td>False</td>\n      <td>False</td>\n      <td>[]</td>\n    </tr>\n    <tr>\n      <th>4</th>\n      <td>13ns48w</td>\n      <td>SFWRedheads</td>\n      <td>JenniferCoope</td>\n      <td>Hey! My eyes are up here! 😂💕</td>\n      <td></td>\n      <td>80c2a694f5492f4885de0cd9553f02dd</td>\n      <td>/r/SFWRedheads/comments/13ns48w/hey_my_eyes_ar...</td>\n      <td>https://i.imgur.com/72fXRTa.jpg</td>\n      <td>13ns48w.jpg</td>\n      <td>data/image/13ns48w.jpg</td>\n      <td>RedHeadDiffusion</td>\n      <td>True</td>\n      <td>False</td>\n      <td>False</td>\n      <td>[]</td>\n    </tr>\n    <tr>\n      <th>...</th>\n      <td>...</td>\n      <td>...</td>\n      <td>...</td>\n      <td>...</td>\n      <td>...</td>\n      <td>...</td>\n      <td>...</td>\n      <td>...</td>\n      <td>...</td>\n      <td>...</td>\n      <td>...</td>\n      <td>...</td>\n      <td>...</td>\n      <td>...</td>\n      <td>...</td>\n    </tr>\n    <tr>\n      <th>67</th>\n      <td>13nwjqp</td>\n      <td>DLAH</td>\n      <td>spicy_kingWest44</td>\n      <td>Gotta get them angles</td>\n      <td></td>\n      <td>26a955b5d75d32d39ac452a9a934d15d</td>\n      <td>/r/DLAH/comments/13nwjqp/gotta_get_them_angles/</td>\n      <td>https://i.redd.it/7xdtvt84l81b1.jpg</td>\n      <td>13nwjqp.jpg</td>\n      <td>data/image/13nwjqp.jpg</td>\n      <td>PrettyGirlDiffusion</td>\n      <td>True</td>\n      <td>False</td>\n      <td>False</td>\n      <td>[]</td>\n    </tr>\n    <tr>\n      <th>68</th>\n      <td>13nx3q5</td>\n      <td>DLAH</td>\n      <td>robok212</td>\n      <td>I know there is not much dress ... but there i...</td>\n      <td></td>\n      <td>5fd63ab2fb5a39229ba0eba3a2775f8a</td>\n      <td>/r/DLAH/comments/13nx3q5/i_know_there_is_not_m...</td>\n      <td>https://i.redd.it/1jdres3dp81b1.jpg</td>\n      <td>13nx3q5.jpg</td>\n      <td>data/image/13nx3q5.jpg</td>\n      <td>PrettyGirlDiffusion</td>\n      <td>True</td>\n      <td>False</td>\n      <td>False</td>\n      <td>[]</td>\n    </tr>\n    <tr>\n      <th>69</th>\n      <td>13nt4ei</td>\n      <td>bathandbodyworks</td>\n      <td>LadyMisfits</td>\n      <td>Nice surprise from Micheal’s</td>\n      <td></td>\n      <td>362b6a403ebe68409fdefbcf7729ffbc</td>\n      <td>/r/bathandbodyworks/comments/13nt4ei/nice_surp...</td>\n      <td>https://i.redd.it/mse5auo4681b1.jpg</td>\n      <td>13nt4ei.jpg</td>\n      <td>data/image/13nt4ei.jpg</td>\n      <td>CandleDiffusion</td>\n      <td>True</td>\n      <td>False</td>\n      <td>False</td>\n      <td>[]</td>\n    </tr>\n    <tr>\n      <th>70</th>\n      <td>13nwdel</td>\n      <td>bathandbodyworks</td>\n      <td>lifeinsidethepage</td>\n      <td>Laundry Scoop 😉</td>\n      <td></td>\n      <td>fdbf23831cd5776d1b93d902d626d4ec</td>\n      <td>/r/bathandbodyworks/comments/13nwdel/laundry_s...</td>\n      <td>https://i.redd.it/zr5pm949271b1.jpg</td>\n      <td>13nwdel.jpg</td>\n      <td>data/image/13nwdel.jpg</td>\n      <td>CandleDiffusion</td>\n      <td>True</td>\n      <td>False</td>\n      <td>False</td>\n      <td>[]</td>\n    </tr>\n    <tr>\n      <th>71</th>\n      <td>13nwu1r</td>\n      <td>bathandbodyworks</td>\n      <td>lifeinsidethepage</td>\n      <td>Bath and Body Works Semi Annual Sale Shopper B...</td>\n      <td></td>\n      <td>a1fad1780ca38f42130e8ab82617f315</td>\n      <td>/r/bathandbodyworks/comments/13nwu1r/bath_and_...</td>\n      <td>https://i.redd.it/ar0vy0zr571b1.jpg</td>\n      <td>13nwu1r.jpg</td>\n      <td>data/image/13nwu1r.jpg</td>\n      <td>CandleDiffusion</td>\n      <td>True</td>\n      <td>False</td>\n      <td>False</td>\n      <td>[]</td>\n    </tr>\n  </tbody>\n</table>\n<p>72 rows × 15 columns</p>\n</div>"
     },
     "metadata": {},
     "output_type": "display_data"
    }
   ],
   "source": [
    "ts = datetime.today().timestamp()\n",
    "\n",
    "exists = filtered.loc[filtered['exists'] == True]\n",
    "exists.dropna(axis=1, how='all')\n",
    "exists.reset_index(drop=True, inplace=True)\n",
    "\n",
    "new_records_to_process = exists.copy()\n",
    "del exists\n",
    "\n",
    "new_records_to_process.reset_index(drop=True, inplace=True)\n",
    "display(new_records_to_process)\n",
    "\n",
    "out_name = f\"data/temp/caption/{ts}_new_records_to_process.parquet\"\n",
    "new_records_to_process.to_parquet(out_name, engine='pyarrow', filesystem=file_system, schema=schema)\n",
    "del new_records_to_process\n",
    "\n",
    "new_df = pandas.read_parquet(out_name, engine='pyarrow', filesystem=file_system, schema=schema)\n",
    "\n",
    "display(\"== New Records To Process ==\")\n",
    "display(new_df.shape)\n",
    "display(new_df)\n",
    "del new_df"
   ],
   "metadata": {
    "collapsed": false,
    "ExecuteTime": {
     "end_time": "2023-05-21T15:22:18.240826200Z",
     "start_time": "2023-05-21T15:22:17.384581800Z"
    }
   }
  },
  {
   "cell_type": "code",
   "execution_count": 28,
   "outputs": [
    {
     "data": {
      "text/plain": "'Total Number Of New Images - 72'"
     },
     "metadata": {},
     "output_type": "display_data"
    },
    {
     "data": {
      "text/plain": "'0-1 Image Acquisition Complete - Shutting Down'"
     },
     "metadata": {},
     "output_type": "display_data"
    }
   ],
   "source": [
    "display(f\"Total Number Of New Images - {new_df.shape[0]}\")\n",
    "display(\"0-1 Image Acquisition Complete - Shutting Down\")"
   ],
   "metadata": {
    "collapsed": false,
    "ExecuteTime": {
     "end_time": "2023-05-21T15:22:53.937536400Z",
     "start_time": "2023-05-21T15:22:53.918532200Z"
    }
   }
  },
  {
   "cell_type": "code",
   "execution_count": 29,
   "outputs": [
    {
     "name": "stdout",
     "output_type": "stream",
     "text": [
      "^C\n"
     ]
    },
    {
     "name": "stderr",
     "output_type": "stream",
     "text": [
      "Error processing line 1 of D:\\code\\repos\\simple-collection\\venv\\lib\\site-packages\\vision-1.0.0-py3.9-nspkg.pth:\n",
      "\n",
      "  Traceback (most recent call last):\n",
      "    File \"C:\\Users\\AJ Stangl\\AppData\\Local\\Programs\\Python\\Python39\\lib\\site.py\", line 169, in addpackage\n",
      "      exec(line)\n",
      "    File \"<string>\", line 1, in <module>\n",
      "    File \"<frozen importlib._bootstrap>\", line 562, in module_from_spec\n",
      "  AttributeError: 'NoneType' object has no attribute 'loader'\n",
      "\n",
      "Remainder of file ignored\n",
      "Error processing line 1 of D:\\code\\repos\\simple-collection\\venv\\lib\\site-packages\\vision-1.0.0-py3.9-nspkg.pth:\n",
      "\n",
      "  Traceback (most recent call last):\n",
      "    File \"C:\\Users\\AJ Stangl\\AppData\\Local\\Programs\\Python\\Python39\\lib\\site.py\", line 169, in addpackage\n",
      "      exec(line)\n",
      "    File \"<string>\", line 1, in <module>\n",
      "    File \"<frozen importlib._bootstrap>\", line 562, in module_from_spec\n",
      "  AttributeError: 'NoneType' object has no attribute 'loader'\n",
      "\n",
      "Remainder of file ignored\n",
      "Error processing line 1 of D:\\code\\repos\\simple-collection\\venv\\lib\\site-packages\\vision-1.0.0-py3.9-nspkg.pth:\n",
      "\n",
      "  Traceback (most recent call last):\n",
      "    File \"C:\\Users\\AJ Stangl\\AppData\\Local\\Programs\\Python\\Python39\\lib\\site.py\", line 169, in addpackage\n",
      "      exec(line)\n",
      "    File \"<string>\", line 1, in <module>\n",
      "    File \"<frozen importlib._bootstrap>\", line 562, in module_from_spec\n",
      "  AttributeError: 'NoneType' object has no attribute 'loader'\n",
      "\n",
      "Remainder of file ignored\n",
      "Error processing line 1 of D:\\code\\repos\\simple-collection\\venv\\lib\\site-packages\\vision-1.0.0-py3.9-nspkg.pth:\n",
      "\n",
      "  Traceback (most recent call last):\n",
      "    File \"C:\\Users\\AJ Stangl\\AppData\\Local\\Programs\\Python\\Python39\\lib\\site.py\", line 169, in addpackage\n",
      "      exec(line)\n",
      "    File \"<string>\", line 1, in <module>\n",
      "    File \"<frozen importlib._bootstrap>\", line 562, in module_from_spec\n",
      "  AttributeError: 'NoneType' object has no attribute 'loader'\n",
      "\n",
      "Remainder of file ignored\n"
     ]
    }
   ],
   "source": [
    "!jupyter notebook stop"
   ],
   "metadata": {
    "collapsed": false,
    "ExecuteTime": {
     "end_time": "2023-05-21T15:23:04.442560300Z",
     "start_time": "2023-05-21T15:23:02.371534200Z"
    }
   }
  }
 ],
 "metadata": {
  "kernelspec": {
   "display_name": "Python 3",
   "language": "python",
   "name": "python3"
  },
  "language_info": {
   "codemirror_mode": {
    "name": "ipython",
    "version": 2
   },
   "file_extension": ".py",
   "mimetype": "text/x-python",
   "name": "python",
   "nbconvert_exporter": "python",
   "pygments_lexer": "ipython2",
   "version": "2.7.6"
  }
 },
 "nbformat": 4,
 "nbformat_minor": 0
}
