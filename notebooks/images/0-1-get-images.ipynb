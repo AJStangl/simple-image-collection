{
 "cells": [
  {
   "cell_type": "code",
   "execution_count": 1,
   "outputs": [
    {
     "name": "stdout",
     "output_type": "stream",
     "text": [
      "CPU times: total: 9.53 s\n",
      "Wall time: 18.1 s\n"
     ]
    }
   ],
   "source": [
    "%%time\n",
    "\n",
    "import datetime as dt\n",
    "import os\n",
    "\n",
    "import pandas\n",
    "import pandas as pd\n",
    "import praw\n",
    "from praw.models import ListingGenerator\n",
    "from tqdm import tqdm\n",
    "\n",
    "from common.captioning.caption import BlipCaption\n",
    "from common.schemas.pyarrow_schema import schema\n",
    "from common.storage.azure_file_storage import AzureFileStorageAdapter\n",
    "from common.functions.functions import Functions\n",
    "\n",
    "tqdm.pandas(desc=\"Progress\")\n",
    "\n",
    "file_system = AzureFileStorageAdapter('data').get_file_storage()\n",
    "\n",
    "functions: Functions = Functions()"
   ],
   "metadata": {
    "collapsed": false,
    "ExecuteTime": {
     "end_time": "2023-05-21T11:59:49.912608300Z",
     "start_time": "2023-05-21T11:59:31.797606300Z"
    }
   }
  },
  {
   "cell_type": "code",
   "execution_count": 2,
   "outputs": [
    {
     "name": "stdout",
     "output_type": "stream",
     "text": [
      "CPU times: total: 0 ns\n",
      "Wall time: 0 ns\n"
     ]
    }
   ],
   "source": [
    "%%time\n",
    "\n",
    "# \"memes\",\"CityPorn\", \"EarthPorn\", \"spaceporn\",\t\"itookapicture\", \"trippinthroughtime\"\n",
    "subs = [\n",
    "\t\"SFWRedheads\",\n",
    "\t\"sfwpetite\",\n",
    "\t\"SFWNextDoorGirls\",\n",
    "\t\"fatsquirrelhate\",\n",
    "\t\"realasians\",\n",
    "\t\"KoreanHotties\",\n",
    "\t\"prettyasiangirls\",\n",
    "\t\"AsianOfficeLady\",\n",
    "\t\"mildlypenis\",\n",
    "\t\"AsianInvasion\",\n",
    "\t\"sexygirls\",\n",
    "\t\"PrettyGirls\",\n",
    "\t\"gentlemanboners\",\n",
    "\t\"hotofficegirls\",\n",
    "\t\"tightdresses\",\n",
    "\t\"DLAH\",\n",
    "\t\"bathandbodyworks\",\n",
    "\t\"AesPleasingAsianGirls\"\n",
    "]"
   ],
   "metadata": {
    "collapsed": false,
    "ExecuteTime": {
     "end_time": "2023-05-21T11:59:49.929605600Z",
     "start_time": "2023-05-21T11:59:49.918604400Z"
    }
   }
  },
  {
   "cell_type": "code",
   "execution_count": 3,
   "outputs": [
    {
     "name": "stdout",
     "output_type": "stream",
     "text": [
      "CPU times: total: 0 ns\n",
      "Wall time: 10 ms\n"
     ]
    }
   ],
   "source": [
    "%%time\n",
    "\n",
    "sources = [\n",
    "\t{\"name\": \"CityDiffusion\", \"data\": [\"CityPorn\"]},\n",
    "\t{\"name\": \"NatureDiffusion\", \"data\": [\"EarthPorn\"]},\n",
    "\t{\"name\": \"CosmicDiffusion\", \"data\": [\"spaceporn\"]},\n",
    "\t{\"name\": \"ITAPDiffusion\", \"data\": [\"itookapicture\"]},\n",
    "\t{\"name\": \"MemeDiffusion\", \"data\": [\"memes\"]},\n",
    "\t{\"name\": \"TTTDiffusion\", \"data\": [\"trippinthroughtime\"]},\n",
    "\t{\"name\": \"WallStreetDiffusion\", \"data\": [\"wallstreetbets\"]},\n",
    "\t{\"name\": \"SexyDiffusion\", \"data\": [\"selfies\", \"Amicute\", \"amihot\", \"AmIhotAF\", \"HotGirlNextDoor\"]},\n",
    "\t{\"name\": \"FatSquirrelDiffusion\", \"data\": [\"fatsquirrelhate\"]},\n",
    "\t{\"name\": \"CelebrityDiffusion\", \"data\": [\"celebrities\"]},\n",
    "\t{\"name\": \"OldLadyDiffusion\", \"data\": [\"oldladiesbakingpies\"]},\n",
    "\t{\"name\": \"SWFPetite\", \"data\": [\"sfwpetite\"]},\n",
    "\t{\"name\": \"SFWMilfs\", \"data\": [\"cougars_and_milfs_sfw\"]},\n",
    "\t{\"name\": \"RedHeadDiffusion\", \"data\": [\"SFWRedheads\"]},\n",
    "\t{\"name\": \"NextDoorGirlsDiffusion\", \"data\": [\"SFWNextDoorGirls\"]},\n",
    "\t{\"name\": \"SexyAsianDiffusion\",\"data\": [\"realasians\", \"KoreanHotties\", \"prettyasiangirls\", \"AsianOfficeLady\", \"AsianInvasion\",\"AesPleasingAsianGirls\"]},\n",
    "\t{\"name\": \"MildlyPenisDiffusion\", \"data\": [\"mildlypenis\"]},\n",
    "\t{\"name\": \"PrettyGirlDiffusion\",\"data\": [\"sexygirls\", \"PrettyGirls\", \"gentlemanboners\", \"hotofficegirls\", \"tightdresses\", \"DLAH\"]},\n",
    "\t{\"name\": \"CandleDiffusion\", \"data\": [\"bathandbodyworks\"]}\n",
    "]\n",
    "sources_df = pd.DataFrame.from_records(sources)"
   ],
   "metadata": {
    "collapsed": false,
    "ExecuteTime": {
     "end_time": "2023-05-21T11:59:50.025604700Z",
     "start_time": "2023-05-21T11:59:49.945604300Z"
    }
   }
  },
  {
   "cell_type": "code",
   "execution_count": 4,
   "outputs": [
    {
     "data": {
      "text/plain": "        subreddit                author   \nid                                        \n100rn7k  AmIhotAF          veritynicole  \\\n1013bdt  AmIhotAF           RaulDea9286   \n105mekt  AmIhotAF              lindaniz   \n105qvgl  AmIhotAF           CaitVLove11   \n105rpcj  AmIhotAF       Flashy-Desk1858   \n...           ...                   ...   \n131dso7      DLAH        Wallydinger123   \n131eznp      DLAH          Long_dong111   \n131g3am      DLAH       ThrownAwayMiles   \n131jvcx      DLAH              robok212   \n131n2by      DLAH  Dependent_Secret9424   \n\n                                                  title   \nid                                                        \n100rn7k             hey, hows your new year going (23F)  \\\n1013bdt                                   36F - ITALIAN   \n105mekt  interesting in good forward relationship (f24)   \n105qvgl                       Laughing is my favorite 😆   \n105rpcj        [f22] What do you think when you see me?   \n...                                                 ...   \n131dso7                                     Happy B Day   \n131eznp                                         Perfect   \n131g3am                              DLAH left or right   \n131jvcx                                  Good morning 😍   \n131n2by                            Perfection (Sisters)   \n\n                                                   caption   \nid                                                           \n100rn7k  a woman in a white shirt and black pants is po...  \\\n1013bdt            arafed image of a woman in a bikini top   \n105mekt  a close up of a woman with red hair and a whit...   \n105qvgl  a woman in a blue tank top and shorts is smili...   \n105rpcj    a woman in a blue bikini top and a blue bra top   \n...                                                    ...   \n131dso7  there are three women posing for a picture in ...   \n131eznp  araffe woman in a white dress sitting on a pur...   \n131g3am  two women in short dresses posing for a pictur...   \n131jvcx      araffe in a pink dress posing on a white wall   \n131n2by  two women in shorts and sandals taking a selfi...   \n\n                                     hash   \nid                                          \n100rn7k  4bd00c19fa0ff2ade855e6d364b0760b  \\\n1013bdt  7c0d158cba8654ef1c635cbc5471d597   \n105mekt  ba4a0962cca2266a741e1e1700589c04   \n105qvgl  27bfe82c37314a0bcf02ab72eaf3a9e5   \n105rpcj  329eb42b8267fa1cc2980da8e48bcef1   \n...                                   ...   \n131dso7  ebb4b4a88dc79e2f2f57b10f32bf03c0   \n131eznp  5c944c6d62b1ae182c5a6a40c64195f4   \n131g3am  ab1f8fc33c85f4cfce12c810cf22229e   \n131jvcx  01f5058855526ef25888cff88065db4c   \n131n2by  b162dd1999dbf9ea3c7adccd34624a46   \n\n                                                 permalink   \nid                                                           \n100rn7k  /r/AmIhotAF/comments/100rn7k/hey_hows_your_new...  \\\n1013bdt          /r/AmIhotAF/comments/1013bdt/36f_italian/   \n105mekt  /r/AmIhotAF/comments/105mekt/interesting_in_go...   \n105qvgl  /r/AmIhotAF/comments/105qvgl/laughing_is_my_fa...   \n105rpcj  /r/AmIhotAF/comments/105rpcj/f22_what_do_you_t...   \n...                                                    ...   \n131dso7              /r/DLAH/comments/131dso7/happy_b_day/   \n131eznp                  /r/DLAH/comments/131eznp/perfect/   \n131g3am       /r/DLAH/comments/131g3am/dlah_left_or_right/   \n131jvcx             /r/DLAH/comments/131jvcx/good_morning/   \n131n2by       /r/DLAH/comments/131n2by/perfection_sisters/   \n\n                                original_url   image_name   \nid                                                          \n100rn7k  https://i.redd.it/n7r47s0gkh9a1.jpg  100rn7k.jpg  \\\n1013bdt  https://i.redd.it/bg0wwdlt5k9a1.jpg  1013bdt.jpg   \n105mekt  https://i.redd.it/4avjshsz8naa1.jpg  105mekt.jpg   \n105qvgl  https://i.redd.it/2pulzr0lxmaa1.jpg  105qvgl.jpg   \n105rpcj  https://i.redd.it/rz68pf934naa1.jpg  105rpcj.jpg   \n...                                      ...          ...   \n131dso7  https://i.redd.it/36gurz533jwa1.jpg  131dso7.jpg   \n131eznp  https://i.redd.it/dnbbx4zucjwa1.jpg  131eznp.jpg   \n131g3am  https://i.redd.it/zpp70oor3lwa1.jpg  131g3am.jpg   \n131jvcx  https://i.redd.it/ozmbfhjv3mwa1.jpg  131jvcx.jpg   \n131n2by  https://i.redd.it/pfg1u0aw1nwa1.jpg  131n2by.jpg   \n\n                           path                model  exists  curated accept   \nid                                                                             \n100rn7k  data/image/100rn7k.jpg        SexyDiffusion    True     True  False  \\\n1013bdt  data/image/1013bdt.jpg        SexyDiffusion    True     True   True   \n105mekt  data/image/105mekt.jpg        SexyDiffusion    True     True   True   \n105qvgl  data/image/105qvgl.jpg        SexyDiffusion    True     True   True   \n105rpcj  data/image/105rpcj.jpg        SexyDiffusion    True     True   True   \n...                         ...                  ...     ...      ...    ...   \n131dso7  data/image/131dso7.jpg  PrettyGirlDiffusion    True     True  False   \n131eznp  data/image/131eznp.jpg  PrettyGirlDiffusion    True     True   True   \n131g3am  data/image/131g3am.jpg  PrettyGirlDiffusion    True     True   True   \n131jvcx  data/image/131jvcx.jpg  PrettyGirlDiffusion    True     True  False   \n131n2by  data/image/131n2by.jpg  PrettyGirlDiffusion    True     True  False   \n\n        tags  \nid            \n100rn7k   []  \n1013bdt   []  \n105mekt   []  \n105qvgl   []  \n105rpcj   []  \n...      ...  \n131dso7   []  \n131eznp   []  \n131g3am   []  \n131jvcx   []  \n131n2by   []  \n\n[41505 rows x 14 columns]",
      "text/html": "<div>\n<style scoped>\n    .dataframe tbody tr th:only-of-type {\n        vertical-align: middle;\n    }\n\n    .dataframe tbody tr th {\n        vertical-align: top;\n    }\n\n    .dataframe thead th {\n        text-align: right;\n    }\n</style>\n<table border=\"1\" class=\"dataframe\">\n  <thead>\n    <tr style=\"text-align: right;\">\n      <th></th>\n      <th>subreddit</th>\n      <th>author</th>\n      <th>title</th>\n      <th>caption</th>\n      <th>hash</th>\n      <th>permalink</th>\n      <th>original_url</th>\n      <th>image_name</th>\n      <th>path</th>\n      <th>model</th>\n      <th>exists</th>\n      <th>curated</th>\n      <th>accept</th>\n      <th>tags</th>\n    </tr>\n    <tr>\n      <th>id</th>\n      <th></th>\n      <th></th>\n      <th></th>\n      <th></th>\n      <th></th>\n      <th></th>\n      <th></th>\n      <th></th>\n      <th></th>\n      <th></th>\n      <th></th>\n      <th></th>\n      <th></th>\n      <th></th>\n    </tr>\n  </thead>\n  <tbody>\n    <tr>\n      <th>100rn7k</th>\n      <td>AmIhotAF</td>\n      <td>veritynicole</td>\n      <td>hey, hows your new year going (23F)</td>\n      <td>a woman in a white shirt and black pants is po...</td>\n      <td>4bd00c19fa0ff2ade855e6d364b0760b</td>\n      <td>/r/AmIhotAF/comments/100rn7k/hey_hows_your_new...</td>\n      <td>https://i.redd.it/n7r47s0gkh9a1.jpg</td>\n      <td>100rn7k.jpg</td>\n      <td>data/image/100rn7k.jpg</td>\n      <td>SexyDiffusion</td>\n      <td>True</td>\n      <td>True</td>\n      <td>False</td>\n      <td>[]</td>\n    </tr>\n    <tr>\n      <th>1013bdt</th>\n      <td>AmIhotAF</td>\n      <td>RaulDea9286</td>\n      <td>36F - ITALIAN</td>\n      <td>arafed image of a woman in a bikini top</td>\n      <td>7c0d158cba8654ef1c635cbc5471d597</td>\n      <td>/r/AmIhotAF/comments/1013bdt/36f_italian/</td>\n      <td>https://i.redd.it/bg0wwdlt5k9a1.jpg</td>\n      <td>1013bdt.jpg</td>\n      <td>data/image/1013bdt.jpg</td>\n      <td>SexyDiffusion</td>\n      <td>True</td>\n      <td>True</td>\n      <td>True</td>\n      <td>[]</td>\n    </tr>\n    <tr>\n      <th>105mekt</th>\n      <td>AmIhotAF</td>\n      <td>lindaniz</td>\n      <td>interesting in good forward relationship (f24)</td>\n      <td>a close up of a woman with red hair and a whit...</td>\n      <td>ba4a0962cca2266a741e1e1700589c04</td>\n      <td>/r/AmIhotAF/comments/105mekt/interesting_in_go...</td>\n      <td>https://i.redd.it/4avjshsz8naa1.jpg</td>\n      <td>105mekt.jpg</td>\n      <td>data/image/105mekt.jpg</td>\n      <td>SexyDiffusion</td>\n      <td>True</td>\n      <td>True</td>\n      <td>True</td>\n      <td>[]</td>\n    </tr>\n    <tr>\n      <th>105qvgl</th>\n      <td>AmIhotAF</td>\n      <td>CaitVLove11</td>\n      <td>Laughing is my favorite 😆</td>\n      <td>a woman in a blue tank top and shorts is smili...</td>\n      <td>27bfe82c37314a0bcf02ab72eaf3a9e5</td>\n      <td>/r/AmIhotAF/comments/105qvgl/laughing_is_my_fa...</td>\n      <td>https://i.redd.it/2pulzr0lxmaa1.jpg</td>\n      <td>105qvgl.jpg</td>\n      <td>data/image/105qvgl.jpg</td>\n      <td>SexyDiffusion</td>\n      <td>True</td>\n      <td>True</td>\n      <td>True</td>\n      <td>[]</td>\n    </tr>\n    <tr>\n      <th>105rpcj</th>\n      <td>AmIhotAF</td>\n      <td>Flashy-Desk1858</td>\n      <td>[f22] What do you think when you see me?</td>\n      <td>a woman in a blue bikini top and a blue bra top</td>\n      <td>329eb42b8267fa1cc2980da8e48bcef1</td>\n      <td>/r/AmIhotAF/comments/105rpcj/f22_what_do_you_t...</td>\n      <td>https://i.redd.it/rz68pf934naa1.jpg</td>\n      <td>105rpcj.jpg</td>\n      <td>data/image/105rpcj.jpg</td>\n      <td>SexyDiffusion</td>\n      <td>True</td>\n      <td>True</td>\n      <td>True</td>\n      <td>[]</td>\n    </tr>\n    <tr>\n      <th>...</th>\n      <td>...</td>\n      <td>...</td>\n      <td>...</td>\n      <td>...</td>\n      <td>...</td>\n      <td>...</td>\n      <td>...</td>\n      <td>...</td>\n      <td>...</td>\n      <td>...</td>\n      <td>...</td>\n      <td>...</td>\n      <td>...</td>\n      <td>...</td>\n    </tr>\n    <tr>\n      <th>131dso7</th>\n      <td>DLAH</td>\n      <td>Wallydinger123</td>\n      <td>Happy B Day</td>\n      <td>there are three women posing for a picture in ...</td>\n      <td>ebb4b4a88dc79e2f2f57b10f32bf03c0</td>\n      <td>/r/DLAH/comments/131dso7/happy_b_day/</td>\n      <td>https://i.redd.it/36gurz533jwa1.jpg</td>\n      <td>131dso7.jpg</td>\n      <td>data/image/131dso7.jpg</td>\n      <td>PrettyGirlDiffusion</td>\n      <td>True</td>\n      <td>True</td>\n      <td>False</td>\n      <td>[]</td>\n    </tr>\n    <tr>\n      <th>131eznp</th>\n      <td>DLAH</td>\n      <td>Long_dong111</td>\n      <td>Perfect</td>\n      <td>araffe woman in a white dress sitting on a pur...</td>\n      <td>5c944c6d62b1ae182c5a6a40c64195f4</td>\n      <td>/r/DLAH/comments/131eznp/perfect/</td>\n      <td>https://i.redd.it/dnbbx4zucjwa1.jpg</td>\n      <td>131eznp.jpg</td>\n      <td>data/image/131eznp.jpg</td>\n      <td>PrettyGirlDiffusion</td>\n      <td>True</td>\n      <td>True</td>\n      <td>True</td>\n      <td>[]</td>\n    </tr>\n    <tr>\n      <th>131g3am</th>\n      <td>DLAH</td>\n      <td>ThrownAwayMiles</td>\n      <td>DLAH left or right</td>\n      <td>two women in short dresses posing for a pictur...</td>\n      <td>ab1f8fc33c85f4cfce12c810cf22229e</td>\n      <td>/r/DLAH/comments/131g3am/dlah_left_or_right/</td>\n      <td>https://i.redd.it/zpp70oor3lwa1.jpg</td>\n      <td>131g3am.jpg</td>\n      <td>data/image/131g3am.jpg</td>\n      <td>PrettyGirlDiffusion</td>\n      <td>True</td>\n      <td>True</td>\n      <td>True</td>\n      <td>[]</td>\n    </tr>\n    <tr>\n      <th>131jvcx</th>\n      <td>DLAH</td>\n      <td>robok212</td>\n      <td>Good morning 😍</td>\n      <td>araffe in a pink dress posing on a white wall</td>\n      <td>01f5058855526ef25888cff88065db4c</td>\n      <td>/r/DLAH/comments/131jvcx/good_morning/</td>\n      <td>https://i.redd.it/ozmbfhjv3mwa1.jpg</td>\n      <td>131jvcx.jpg</td>\n      <td>data/image/131jvcx.jpg</td>\n      <td>PrettyGirlDiffusion</td>\n      <td>True</td>\n      <td>True</td>\n      <td>False</td>\n      <td>[]</td>\n    </tr>\n    <tr>\n      <th>131n2by</th>\n      <td>DLAH</td>\n      <td>Dependent_Secret9424</td>\n      <td>Perfection (Sisters)</td>\n      <td>two women in shorts and sandals taking a selfi...</td>\n      <td>b162dd1999dbf9ea3c7adccd34624a46</td>\n      <td>/r/DLAH/comments/131n2by/perfection_sisters/</td>\n      <td>https://i.redd.it/pfg1u0aw1nwa1.jpg</td>\n      <td>131n2by.jpg</td>\n      <td>data/image/131n2by.jpg</td>\n      <td>PrettyGirlDiffusion</td>\n      <td>True</td>\n      <td>True</td>\n      <td>False</td>\n      <td>[]</td>\n    </tr>\n  </tbody>\n</table>\n<p>41505 rows × 14 columns</p>\n</div>"
     },
     "metadata": {},
     "output_type": "display_data"
    },
    {
     "name": "stdout",
     "output_type": "stream",
     "text": [
      "CPU times: total: 688 ms\n",
      "Wall time: 1.4 s\n"
     ]
    }
   ],
   "source": [
    "%%time\n",
    "\n",
    "extant_data = pandas.read_parquet(\"data/processed_raw_data.parquet\", engine='pyarrow', filesystem=file_system,\n",
    "\t\t\t\t\t\t\t\t  schema=schema)\n",
    "extant_data.set_index('id', inplace=True)\n",
    "display(extant_data)"
   ],
   "metadata": {
    "collapsed": false,
    "ExecuteTime": {
     "end_time": "2023-05-21T11:59:51.375607500Z",
     "start_time": "2023-05-21T11:59:49.970607700Z"
    }
   }
  },
  {
   "cell_type": "code",
   "execution_count": 5,
   "outputs": [
    {
     "data": {
      "text/plain": "'==== CURATED DATA ===='"
     },
     "metadata": {},
     "output_type": "display_data"
    },
    {
     "data": {
      "text/plain": "(39632, 14)"
     },
     "metadata": {},
     "output_type": "display_data"
    },
    {
     "data": {
      "text/plain": "                     subreddit              author   \nid                                                   \n100rn7k               AmIhotAF        veritynicole  \\\n1013bdt               AmIhotAF         RaulDea9286   \n105mekt               AmIhotAF            lindaniz   \n105qvgl               AmIhotAF         CaitVLove11   \n105rpcj               AmIhotAF     Flashy-Desk1858   \n...                        ...                 ...   \n13n9x6y       bathandbodyworks  PhysicalCharacter3   \n13nc2ad       bathandbodyworks       TFCosplayer92   \n13nczq7       bathandbodyworks    blondenextdoor30   \n13nd8ob       bathandbodyworks        angry_owl253   \n13n9xdx  AesPleasingAsianGirls        yummybanchan   \n\n                                                     title   \nid                                                           \n100rn7k                hey, hows your new year going (23F)  \\\n1013bdt                                      36F - ITALIAN   \n105mekt     interesting in good forward relationship (f24)   \n105qvgl                          Laughing is my favorite 😆   \n105rpcj           [f22] What do you think when you see me?   \n...                                                    ...   \n13n9x6y                      Anyone buy or try this one? 👀   \n13nc2ad                Just a SMALL Firecracker Pop Haul 🤣   \n13nczq7  Happy Saturday from the West Coast!🌞🩶🍾 What’s ...   \n13nd8ob                                       Sunset glow!   \n13n9xdx                                         Song Yu Qi   \n\n                                                   caption   \nid                                                           \n100rn7k  a woman in a white shirt and black pants is po...  \\\n1013bdt            arafed image of a woman in a bikini top   \n105mekt  a close up of a woman with red hair and a whit...   \n105qvgl  a woman in a blue tank top and shorts is smili...   \n105rpcj    a woman in a blue bikini top and a blue bra top   \n...                                                    ...   \n13n9x6y    a close up of a jar of candles on a store shelf   \n13nc2ad   arafed items are laid out on the floor in a room   \n13nczq7   candles are lit on a counter top with a gold lid   \n13nd8ob  there is a bottle of liquid and a bag of soap ...   \n13n9xdx  araffe asian woman in black dress holding a bo...   \n\n                                     hash   \nid                                          \n100rn7k  4bd00c19fa0ff2ade855e6d364b0760b  \\\n1013bdt  7c0d158cba8654ef1c635cbc5471d597   \n105mekt  ba4a0962cca2266a741e1e1700589c04   \n105qvgl  27bfe82c37314a0bcf02ab72eaf3a9e5   \n105rpcj  329eb42b8267fa1cc2980da8e48bcef1   \n...                                   ...   \n13n9x6y  77b37fb1987d8d0d8aff7cadd6942b95   \n13nc2ad  e4e276e4dbd240d546248f2951212e2e   \n13nczq7  8bcf2db56ca1390ad579fa44a0d5716d   \n13nd8ob  20357839c2d8e688ffd7deba0bb300eb   \n13n9xdx  ee475cccc09d80b6d77ad6efed75b812   \n\n                                                 permalink   \nid                                                           \n100rn7k  /r/AmIhotAF/comments/100rn7k/hey_hows_your_new...  \\\n1013bdt          /r/AmIhotAF/comments/1013bdt/36f_italian/   \n105mekt  /r/AmIhotAF/comments/105mekt/interesting_in_go...   \n105qvgl  /r/AmIhotAF/comments/105qvgl/laughing_is_my_fa...   \n105rpcj  /r/AmIhotAF/comments/105rpcj/f22_what_do_you_t...   \n...                                                    ...   \n13n9x6y  /r/bathandbodyworks/comments/13n9x6y/anyone_bu...   \n13nc2ad  /r/bathandbodyworks/comments/13nc2ad/just_a_sm...   \n13nczq7  /r/bathandbodyworks/comments/13nczq7/happy_sat...   \n13nd8ob  /r/bathandbodyworks/comments/13nd8ob/sunset_glow/   \n13n9xdx  /r/AesPleasingAsianGirls/comments/13n9xdx/song...   \n\n                                original_url   image_name   \nid                                                          \n100rn7k  https://i.redd.it/n7r47s0gkh9a1.jpg  100rn7k.jpg  \\\n1013bdt  https://i.redd.it/bg0wwdlt5k9a1.jpg  1013bdt.jpg   \n105mekt  https://i.redd.it/4avjshsz8naa1.jpg  105mekt.jpg   \n105qvgl  https://i.redd.it/2pulzr0lxmaa1.jpg  105qvgl.jpg   \n105rpcj  https://i.redd.it/rz68pf934naa1.jpg  105rpcj.jpg   \n...                                      ...          ...   \n13n9x6y  https://i.redd.it/paiuac5fk31b1.jpg  13n9x6y.jpg   \n13nc2ad  https://i.redd.it/lf40r0xk041b1.jpg  13nc2ad.jpg   \n13nczq7  https://i.redd.it/7b78c8l2841b1.jpg  13nczq7.jpg   \n13nd8ob  https://i.redd.it/qr929v34a41b1.jpg  13nd8ob.jpg   \n13n9xdx  https://i.redd.it/xl0v8fgbk31b1.jpg  13n9xdx.jpg   \n\n                           path               model  exists  curated  accept   \nid                                                                             \n100rn7k  data/image/100rn7k.jpg       SexyDiffusion    True     True   False  \\\n1013bdt  data/image/1013bdt.jpg       SexyDiffusion    True     True    True   \n105mekt  data/image/105mekt.jpg       SexyDiffusion    True     True    True   \n105qvgl  data/image/105qvgl.jpg       SexyDiffusion    True     True    True   \n105rpcj  data/image/105rpcj.jpg       SexyDiffusion    True     True    True   \n...                         ...                 ...     ...      ...     ...   \n13n9x6y  data/image/13n9x6y.jpg     CandleDiffusion    True    False   False   \n13nc2ad  data/image/13nc2ad.jpg     CandleDiffusion    True    False   False   \n13nczq7  data/image/13nczq7.jpg     CandleDiffusion    True    False   False   \n13nd8ob  data/image/13nd8ob.jpg     CandleDiffusion    True    False   False   \n13n9xdx  data/image/13n9xdx.jpg  SexyAsianDiffusion    True    False   False   \n\n        tags  \nid            \n100rn7k   []  \n1013bdt   []  \n105mekt   []  \n105qvgl   []  \n105rpcj   []  \n...      ...  \n13n9x6y   []  \n13nc2ad   []  \n13nczq7   []  \n13nd8ob   []  \n13n9xdx   []  \n\n[39632 rows x 14 columns]",
      "text/html": "<div>\n<style scoped>\n    .dataframe tbody tr th:only-of-type {\n        vertical-align: middle;\n    }\n\n    .dataframe tbody tr th {\n        vertical-align: top;\n    }\n\n    .dataframe thead th {\n        text-align: right;\n    }\n</style>\n<table border=\"1\" class=\"dataframe\">\n  <thead>\n    <tr style=\"text-align: right;\">\n      <th></th>\n      <th>subreddit</th>\n      <th>author</th>\n      <th>title</th>\n      <th>caption</th>\n      <th>hash</th>\n      <th>permalink</th>\n      <th>original_url</th>\n      <th>image_name</th>\n      <th>path</th>\n      <th>model</th>\n      <th>exists</th>\n      <th>curated</th>\n      <th>accept</th>\n      <th>tags</th>\n    </tr>\n    <tr>\n      <th>id</th>\n      <th></th>\n      <th></th>\n      <th></th>\n      <th></th>\n      <th></th>\n      <th></th>\n      <th></th>\n      <th></th>\n      <th></th>\n      <th></th>\n      <th></th>\n      <th></th>\n      <th></th>\n      <th></th>\n    </tr>\n  </thead>\n  <tbody>\n    <tr>\n      <th>100rn7k</th>\n      <td>AmIhotAF</td>\n      <td>veritynicole</td>\n      <td>hey, hows your new year going (23F)</td>\n      <td>a woman in a white shirt and black pants is po...</td>\n      <td>4bd00c19fa0ff2ade855e6d364b0760b</td>\n      <td>/r/AmIhotAF/comments/100rn7k/hey_hows_your_new...</td>\n      <td>https://i.redd.it/n7r47s0gkh9a1.jpg</td>\n      <td>100rn7k.jpg</td>\n      <td>data/image/100rn7k.jpg</td>\n      <td>SexyDiffusion</td>\n      <td>True</td>\n      <td>True</td>\n      <td>False</td>\n      <td>[]</td>\n    </tr>\n    <tr>\n      <th>1013bdt</th>\n      <td>AmIhotAF</td>\n      <td>RaulDea9286</td>\n      <td>36F - ITALIAN</td>\n      <td>arafed image of a woman in a bikini top</td>\n      <td>7c0d158cba8654ef1c635cbc5471d597</td>\n      <td>/r/AmIhotAF/comments/1013bdt/36f_italian/</td>\n      <td>https://i.redd.it/bg0wwdlt5k9a1.jpg</td>\n      <td>1013bdt.jpg</td>\n      <td>data/image/1013bdt.jpg</td>\n      <td>SexyDiffusion</td>\n      <td>True</td>\n      <td>True</td>\n      <td>True</td>\n      <td>[]</td>\n    </tr>\n    <tr>\n      <th>105mekt</th>\n      <td>AmIhotAF</td>\n      <td>lindaniz</td>\n      <td>interesting in good forward relationship (f24)</td>\n      <td>a close up of a woman with red hair and a whit...</td>\n      <td>ba4a0962cca2266a741e1e1700589c04</td>\n      <td>/r/AmIhotAF/comments/105mekt/interesting_in_go...</td>\n      <td>https://i.redd.it/4avjshsz8naa1.jpg</td>\n      <td>105mekt.jpg</td>\n      <td>data/image/105mekt.jpg</td>\n      <td>SexyDiffusion</td>\n      <td>True</td>\n      <td>True</td>\n      <td>True</td>\n      <td>[]</td>\n    </tr>\n    <tr>\n      <th>105qvgl</th>\n      <td>AmIhotAF</td>\n      <td>CaitVLove11</td>\n      <td>Laughing is my favorite 😆</td>\n      <td>a woman in a blue tank top and shorts is smili...</td>\n      <td>27bfe82c37314a0bcf02ab72eaf3a9e5</td>\n      <td>/r/AmIhotAF/comments/105qvgl/laughing_is_my_fa...</td>\n      <td>https://i.redd.it/2pulzr0lxmaa1.jpg</td>\n      <td>105qvgl.jpg</td>\n      <td>data/image/105qvgl.jpg</td>\n      <td>SexyDiffusion</td>\n      <td>True</td>\n      <td>True</td>\n      <td>True</td>\n      <td>[]</td>\n    </tr>\n    <tr>\n      <th>105rpcj</th>\n      <td>AmIhotAF</td>\n      <td>Flashy-Desk1858</td>\n      <td>[f22] What do you think when you see me?</td>\n      <td>a woman in a blue bikini top and a blue bra top</td>\n      <td>329eb42b8267fa1cc2980da8e48bcef1</td>\n      <td>/r/AmIhotAF/comments/105rpcj/f22_what_do_you_t...</td>\n      <td>https://i.redd.it/rz68pf934naa1.jpg</td>\n      <td>105rpcj.jpg</td>\n      <td>data/image/105rpcj.jpg</td>\n      <td>SexyDiffusion</td>\n      <td>True</td>\n      <td>True</td>\n      <td>True</td>\n      <td>[]</td>\n    </tr>\n    <tr>\n      <th>...</th>\n      <td>...</td>\n      <td>...</td>\n      <td>...</td>\n      <td>...</td>\n      <td>...</td>\n      <td>...</td>\n      <td>...</td>\n      <td>...</td>\n      <td>...</td>\n      <td>...</td>\n      <td>...</td>\n      <td>...</td>\n      <td>...</td>\n      <td>...</td>\n    </tr>\n    <tr>\n      <th>13n9x6y</th>\n      <td>bathandbodyworks</td>\n      <td>PhysicalCharacter3</td>\n      <td>Anyone buy or try this one? 👀</td>\n      <td>a close up of a jar of candles on a store shelf</td>\n      <td>77b37fb1987d8d0d8aff7cadd6942b95</td>\n      <td>/r/bathandbodyworks/comments/13n9x6y/anyone_bu...</td>\n      <td>https://i.redd.it/paiuac5fk31b1.jpg</td>\n      <td>13n9x6y.jpg</td>\n      <td>data/image/13n9x6y.jpg</td>\n      <td>CandleDiffusion</td>\n      <td>True</td>\n      <td>False</td>\n      <td>False</td>\n      <td>[]</td>\n    </tr>\n    <tr>\n      <th>13nc2ad</th>\n      <td>bathandbodyworks</td>\n      <td>TFCosplayer92</td>\n      <td>Just a SMALL Firecracker Pop Haul 🤣</td>\n      <td>arafed items are laid out on the floor in a room</td>\n      <td>e4e276e4dbd240d546248f2951212e2e</td>\n      <td>/r/bathandbodyworks/comments/13nc2ad/just_a_sm...</td>\n      <td>https://i.redd.it/lf40r0xk041b1.jpg</td>\n      <td>13nc2ad.jpg</td>\n      <td>data/image/13nc2ad.jpg</td>\n      <td>CandleDiffusion</td>\n      <td>True</td>\n      <td>False</td>\n      <td>False</td>\n      <td>[]</td>\n    </tr>\n    <tr>\n      <th>13nczq7</th>\n      <td>bathandbodyworks</td>\n      <td>blondenextdoor30</td>\n      <td>Happy Saturday from the West Coast!🌞🩶🍾 What’s ...</td>\n      <td>candles are lit on a counter top with a gold lid</td>\n      <td>8bcf2db56ca1390ad579fa44a0d5716d</td>\n      <td>/r/bathandbodyworks/comments/13nczq7/happy_sat...</td>\n      <td>https://i.redd.it/7b78c8l2841b1.jpg</td>\n      <td>13nczq7.jpg</td>\n      <td>data/image/13nczq7.jpg</td>\n      <td>CandleDiffusion</td>\n      <td>True</td>\n      <td>False</td>\n      <td>False</td>\n      <td>[]</td>\n    </tr>\n    <tr>\n      <th>13nd8ob</th>\n      <td>bathandbodyworks</td>\n      <td>angry_owl253</td>\n      <td>Sunset glow!</td>\n      <td>there is a bottle of liquid and a bag of soap ...</td>\n      <td>20357839c2d8e688ffd7deba0bb300eb</td>\n      <td>/r/bathandbodyworks/comments/13nd8ob/sunset_glow/</td>\n      <td>https://i.redd.it/qr929v34a41b1.jpg</td>\n      <td>13nd8ob.jpg</td>\n      <td>data/image/13nd8ob.jpg</td>\n      <td>CandleDiffusion</td>\n      <td>True</td>\n      <td>False</td>\n      <td>False</td>\n      <td>[]</td>\n    </tr>\n    <tr>\n      <th>13n9xdx</th>\n      <td>AesPleasingAsianGirls</td>\n      <td>yummybanchan</td>\n      <td>Song Yu Qi</td>\n      <td>araffe asian woman in black dress holding a bo...</td>\n      <td>ee475cccc09d80b6d77ad6efed75b812</td>\n      <td>/r/AesPleasingAsianGirls/comments/13n9xdx/song...</td>\n      <td>https://i.redd.it/xl0v8fgbk31b1.jpg</td>\n      <td>13n9xdx.jpg</td>\n      <td>data/image/13n9xdx.jpg</td>\n      <td>SexyAsianDiffusion</td>\n      <td>True</td>\n      <td>False</td>\n      <td>False</td>\n      <td>[]</td>\n    </tr>\n  </tbody>\n</table>\n<p>39632 rows × 14 columns</p>\n</div>"
     },
     "metadata": {},
     "output_type": "display_data"
    },
    {
     "name": "stdout",
     "output_type": "stream",
     "text": [
      "CPU times: total: 594 ms\n",
      "Wall time: 977 ms\n"
     ]
    }
   ],
   "source": [
    "%%time\n",
    "\n",
    "curated_data = pandas.read_parquet(\"data/parquet/back.parquet\", engine='pyarrow', filesystem=file_system, schema=schema)\n",
    "curated_data.set_index('id', inplace=True)\n",
    "\n",
    "display(\"==== CURATED DATA ====\")\n",
    "display(curated_data.shape)\n",
    "display(curated_data)"
   ],
   "metadata": {
    "collapsed": false,
    "ExecuteTime": {
     "end_time": "2023-05-21T11:59:52.366601400Z",
     "start_time": "2023-05-21T11:59:51.378608100Z"
    }
   }
  },
  {
   "cell_type": "code",
   "execution_count": 6,
   "outputs": [
    {
     "data": {
      "text/plain": "'==== UPDATED EXTANT DATA ===='"
     },
     "metadata": {},
     "output_type": "display_data"
    },
    {
     "data": {
      "text/plain": "(41505, 15)"
     },
     "metadata": {},
     "output_type": "display_data"
    },
    {
     "data": {
      "text/plain": "            id subreddit                author   \n0      100rn7k  AmIhotAF          veritynicole  \\\n1      1013bdt  AmIhotAF           RaulDea9286   \n2      105mekt  AmIhotAF              lindaniz   \n3      105qvgl  AmIhotAF           CaitVLove11   \n4      105rpcj  AmIhotAF       Flashy-Desk1858   \n...        ...       ...                   ...   \n41500  131dso7      DLAH        Wallydinger123   \n41501  131eznp      DLAH          Long_dong111   \n41502  131g3am      DLAH       ThrownAwayMiles   \n41503  131jvcx      DLAH              robok212   \n41504  131n2by      DLAH  Dependent_Secret9424   \n\n                                                title   \n0                 hey, hows your new year going (23F)  \\\n1                                       36F - ITALIAN   \n2      interesting in good forward relationship (f24)   \n3                           Laughing is my favorite 😆   \n4            [f22] What do you think when you see me?   \n...                                               ...   \n41500                                     Happy B Day   \n41501                                         Perfect   \n41502                              DLAH left or right   \n41503                                  Good morning 😍   \n41504                            Perfection (Sisters)   \n\n                                                 caption   \n0      a woman in a white shirt and black pants is po...  \\\n1                arafed image of a woman in a bikini top   \n2      a close up of a woman with red hair and a whit...   \n3      a woman in a blue tank top and shorts is smili...   \n4        a woman in a blue bikini top and a blue bra top   \n...                                                  ...   \n41500  there are three women posing for a picture in ...   \n41501  araffe woman in a white dress sitting on a pur...   \n41502  two women in short dresses posing for a pictur...   \n41503      araffe in a pink dress posing on a white wall   \n41504  two women in shorts and sandals taking a selfi...   \n\n                                   hash   \n0      4bd00c19fa0ff2ade855e6d364b0760b  \\\n1      7c0d158cba8654ef1c635cbc5471d597   \n2      ba4a0962cca2266a741e1e1700589c04   \n3      27bfe82c37314a0bcf02ab72eaf3a9e5   \n4      329eb42b8267fa1cc2980da8e48bcef1   \n...                                 ...   \n41500  ebb4b4a88dc79e2f2f57b10f32bf03c0   \n41501  5c944c6d62b1ae182c5a6a40c64195f4   \n41502  ab1f8fc33c85f4cfce12c810cf22229e   \n41503  01f5058855526ef25888cff88065db4c   \n41504  b162dd1999dbf9ea3c7adccd34624a46   \n\n                                               permalink   \n0      /r/AmIhotAF/comments/100rn7k/hey_hows_your_new...  \\\n1              /r/AmIhotAF/comments/1013bdt/36f_italian/   \n2      /r/AmIhotAF/comments/105mekt/interesting_in_go...   \n3      /r/AmIhotAF/comments/105qvgl/laughing_is_my_fa...   \n4      /r/AmIhotAF/comments/105rpcj/f22_what_do_you_t...   \n...                                                  ...   \n41500              /r/DLAH/comments/131dso7/happy_b_day/   \n41501                  /r/DLAH/comments/131eznp/perfect/   \n41502       /r/DLAH/comments/131g3am/dlah_left_or_right/   \n41503             /r/DLAH/comments/131jvcx/good_morning/   \n41504       /r/DLAH/comments/131n2by/perfection_sisters/   \n\n                              original_url   image_name   \n0      https://i.redd.it/n7r47s0gkh9a1.jpg  100rn7k.jpg  \\\n1      https://i.redd.it/bg0wwdlt5k9a1.jpg  1013bdt.jpg   \n2      https://i.redd.it/4avjshsz8naa1.jpg  105mekt.jpg   \n3      https://i.redd.it/2pulzr0lxmaa1.jpg  105qvgl.jpg   \n4      https://i.redd.it/rz68pf934naa1.jpg  105rpcj.jpg   \n...                                    ...          ...   \n41500  https://i.redd.it/36gurz533jwa1.jpg  131dso7.jpg   \n41501  https://i.redd.it/dnbbx4zucjwa1.jpg  131eznp.jpg   \n41502  https://i.redd.it/zpp70oor3lwa1.jpg  131g3am.jpg   \n41503  https://i.redd.it/ozmbfhjv3mwa1.jpg  131jvcx.jpg   \n41504  https://i.redd.it/pfg1u0aw1nwa1.jpg  131n2by.jpg   \n\n                         path                model exists curated accept tags  \n0      data/image/100rn7k.jpg        SexyDiffusion   True    True  False   []  \n1      data/image/1013bdt.jpg        SexyDiffusion   True    True   True   []  \n2      data/image/105mekt.jpg        SexyDiffusion   True    True   True   []  \n3      data/image/105qvgl.jpg        SexyDiffusion   True    True   True   []  \n4      data/image/105rpcj.jpg        SexyDiffusion   True    True   True   []  \n...                       ...                  ...    ...     ...    ...  ...  \n41500  data/image/131dso7.jpg  PrettyGirlDiffusion   True    True  False   []  \n41501  data/image/131eznp.jpg  PrettyGirlDiffusion   True    True   True   []  \n41502  data/image/131g3am.jpg  PrettyGirlDiffusion   True    True   True   []  \n41503  data/image/131jvcx.jpg  PrettyGirlDiffusion   True    True  False   []  \n41504  data/image/131n2by.jpg  PrettyGirlDiffusion   True    True  False   []  \n\n[41505 rows x 15 columns]",
      "text/html": "<div>\n<style scoped>\n    .dataframe tbody tr th:only-of-type {\n        vertical-align: middle;\n    }\n\n    .dataframe tbody tr th {\n        vertical-align: top;\n    }\n\n    .dataframe thead th {\n        text-align: right;\n    }\n</style>\n<table border=\"1\" class=\"dataframe\">\n  <thead>\n    <tr style=\"text-align: right;\">\n      <th></th>\n      <th>id</th>\n      <th>subreddit</th>\n      <th>author</th>\n      <th>title</th>\n      <th>caption</th>\n      <th>hash</th>\n      <th>permalink</th>\n      <th>original_url</th>\n      <th>image_name</th>\n      <th>path</th>\n      <th>model</th>\n      <th>exists</th>\n      <th>curated</th>\n      <th>accept</th>\n      <th>tags</th>\n    </tr>\n  </thead>\n  <tbody>\n    <tr>\n      <th>0</th>\n      <td>100rn7k</td>\n      <td>AmIhotAF</td>\n      <td>veritynicole</td>\n      <td>hey, hows your new year going (23F)</td>\n      <td>a woman in a white shirt and black pants is po...</td>\n      <td>4bd00c19fa0ff2ade855e6d364b0760b</td>\n      <td>/r/AmIhotAF/comments/100rn7k/hey_hows_your_new...</td>\n      <td>https://i.redd.it/n7r47s0gkh9a1.jpg</td>\n      <td>100rn7k.jpg</td>\n      <td>data/image/100rn7k.jpg</td>\n      <td>SexyDiffusion</td>\n      <td>True</td>\n      <td>True</td>\n      <td>False</td>\n      <td>[]</td>\n    </tr>\n    <tr>\n      <th>1</th>\n      <td>1013bdt</td>\n      <td>AmIhotAF</td>\n      <td>RaulDea9286</td>\n      <td>36F - ITALIAN</td>\n      <td>arafed image of a woman in a bikini top</td>\n      <td>7c0d158cba8654ef1c635cbc5471d597</td>\n      <td>/r/AmIhotAF/comments/1013bdt/36f_italian/</td>\n      <td>https://i.redd.it/bg0wwdlt5k9a1.jpg</td>\n      <td>1013bdt.jpg</td>\n      <td>data/image/1013bdt.jpg</td>\n      <td>SexyDiffusion</td>\n      <td>True</td>\n      <td>True</td>\n      <td>True</td>\n      <td>[]</td>\n    </tr>\n    <tr>\n      <th>2</th>\n      <td>105mekt</td>\n      <td>AmIhotAF</td>\n      <td>lindaniz</td>\n      <td>interesting in good forward relationship (f24)</td>\n      <td>a close up of a woman with red hair and a whit...</td>\n      <td>ba4a0962cca2266a741e1e1700589c04</td>\n      <td>/r/AmIhotAF/comments/105mekt/interesting_in_go...</td>\n      <td>https://i.redd.it/4avjshsz8naa1.jpg</td>\n      <td>105mekt.jpg</td>\n      <td>data/image/105mekt.jpg</td>\n      <td>SexyDiffusion</td>\n      <td>True</td>\n      <td>True</td>\n      <td>True</td>\n      <td>[]</td>\n    </tr>\n    <tr>\n      <th>3</th>\n      <td>105qvgl</td>\n      <td>AmIhotAF</td>\n      <td>CaitVLove11</td>\n      <td>Laughing is my favorite 😆</td>\n      <td>a woman in a blue tank top and shorts is smili...</td>\n      <td>27bfe82c37314a0bcf02ab72eaf3a9e5</td>\n      <td>/r/AmIhotAF/comments/105qvgl/laughing_is_my_fa...</td>\n      <td>https://i.redd.it/2pulzr0lxmaa1.jpg</td>\n      <td>105qvgl.jpg</td>\n      <td>data/image/105qvgl.jpg</td>\n      <td>SexyDiffusion</td>\n      <td>True</td>\n      <td>True</td>\n      <td>True</td>\n      <td>[]</td>\n    </tr>\n    <tr>\n      <th>4</th>\n      <td>105rpcj</td>\n      <td>AmIhotAF</td>\n      <td>Flashy-Desk1858</td>\n      <td>[f22] What do you think when you see me?</td>\n      <td>a woman in a blue bikini top and a blue bra top</td>\n      <td>329eb42b8267fa1cc2980da8e48bcef1</td>\n      <td>/r/AmIhotAF/comments/105rpcj/f22_what_do_you_t...</td>\n      <td>https://i.redd.it/rz68pf934naa1.jpg</td>\n      <td>105rpcj.jpg</td>\n      <td>data/image/105rpcj.jpg</td>\n      <td>SexyDiffusion</td>\n      <td>True</td>\n      <td>True</td>\n      <td>True</td>\n      <td>[]</td>\n    </tr>\n    <tr>\n      <th>...</th>\n      <td>...</td>\n      <td>...</td>\n      <td>...</td>\n      <td>...</td>\n      <td>...</td>\n      <td>...</td>\n      <td>...</td>\n      <td>...</td>\n      <td>...</td>\n      <td>...</td>\n      <td>...</td>\n      <td>...</td>\n      <td>...</td>\n      <td>...</td>\n      <td>...</td>\n    </tr>\n    <tr>\n      <th>41500</th>\n      <td>131dso7</td>\n      <td>DLAH</td>\n      <td>Wallydinger123</td>\n      <td>Happy B Day</td>\n      <td>there are three women posing for a picture in ...</td>\n      <td>ebb4b4a88dc79e2f2f57b10f32bf03c0</td>\n      <td>/r/DLAH/comments/131dso7/happy_b_day/</td>\n      <td>https://i.redd.it/36gurz533jwa1.jpg</td>\n      <td>131dso7.jpg</td>\n      <td>data/image/131dso7.jpg</td>\n      <td>PrettyGirlDiffusion</td>\n      <td>True</td>\n      <td>True</td>\n      <td>False</td>\n      <td>[]</td>\n    </tr>\n    <tr>\n      <th>41501</th>\n      <td>131eznp</td>\n      <td>DLAH</td>\n      <td>Long_dong111</td>\n      <td>Perfect</td>\n      <td>araffe woman in a white dress sitting on a pur...</td>\n      <td>5c944c6d62b1ae182c5a6a40c64195f4</td>\n      <td>/r/DLAH/comments/131eznp/perfect/</td>\n      <td>https://i.redd.it/dnbbx4zucjwa1.jpg</td>\n      <td>131eznp.jpg</td>\n      <td>data/image/131eznp.jpg</td>\n      <td>PrettyGirlDiffusion</td>\n      <td>True</td>\n      <td>True</td>\n      <td>True</td>\n      <td>[]</td>\n    </tr>\n    <tr>\n      <th>41502</th>\n      <td>131g3am</td>\n      <td>DLAH</td>\n      <td>ThrownAwayMiles</td>\n      <td>DLAH left or right</td>\n      <td>two women in short dresses posing for a pictur...</td>\n      <td>ab1f8fc33c85f4cfce12c810cf22229e</td>\n      <td>/r/DLAH/comments/131g3am/dlah_left_or_right/</td>\n      <td>https://i.redd.it/zpp70oor3lwa1.jpg</td>\n      <td>131g3am.jpg</td>\n      <td>data/image/131g3am.jpg</td>\n      <td>PrettyGirlDiffusion</td>\n      <td>True</td>\n      <td>True</td>\n      <td>True</td>\n      <td>[]</td>\n    </tr>\n    <tr>\n      <th>41503</th>\n      <td>131jvcx</td>\n      <td>DLAH</td>\n      <td>robok212</td>\n      <td>Good morning 😍</td>\n      <td>araffe in a pink dress posing on a white wall</td>\n      <td>01f5058855526ef25888cff88065db4c</td>\n      <td>/r/DLAH/comments/131jvcx/good_morning/</td>\n      <td>https://i.redd.it/ozmbfhjv3mwa1.jpg</td>\n      <td>131jvcx.jpg</td>\n      <td>data/image/131jvcx.jpg</td>\n      <td>PrettyGirlDiffusion</td>\n      <td>True</td>\n      <td>True</td>\n      <td>False</td>\n      <td>[]</td>\n    </tr>\n    <tr>\n      <th>41504</th>\n      <td>131n2by</td>\n      <td>DLAH</td>\n      <td>Dependent_Secret9424</td>\n      <td>Perfection (Sisters)</td>\n      <td>two women in shorts and sandals taking a selfi...</td>\n      <td>b162dd1999dbf9ea3c7adccd34624a46</td>\n      <td>/r/DLAH/comments/131n2by/perfection_sisters/</td>\n      <td>https://i.redd.it/pfg1u0aw1nwa1.jpg</td>\n      <td>131n2by.jpg</td>\n      <td>data/image/131n2by.jpg</td>\n      <td>PrettyGirlDiffusion</td>\n      <td>True</td>\n      <td>True</td>\n      <td>False</td>\n      <td>[]</td>\n    </tr>\n  </tbody>\n</table>\n<p>41505 rows × 15 columns</p>\n</div>"
     },
     "metadata": {},
     "output_type": "display_data"
    },
    {
     "name": "stdout",
     "output_type": "stream",
     "text": [
      "CPU times: total: 781 ms\n",
      "Wall time: 3.39 s\n"
     ]
    }
   ],
   "source": [
    "%%time\n",
    "\n",
    "extant_data.update(curated_data)\n",
    "updated_extant_data = extant_data.reset_index()\n",
    "\n",
    "display(\"==== UPDATED EXTANT DATA ====\")\n",
    "display(updated_extant_data.shape)\n",
    "display(updated_extant_data)\n",
    "updated_extant_data.to_parquet(\"data/processed_raw_data.parquet\", engine='pyarrow', filesystem=file_system, schema=schema)"
   ],
   "metadata": {
    "collapsed": false,
    "ExecuteTime": {
     "end_time": "2023-05-21T11:59:55.784647Z",
     "start_time": "2023-05-21T11:59:52.366601400Z"
    }
   }
  },
  {
   "cell_type": "code",
   "execution_count": 7,
   "outputs": [
    {
     "name": "stdout",
     "output_type": "stream",
     "text": [
      "CPU times: total: 62.5 ms\n",
      "Wall time: 133 ms\n"
     ]
    }
   ],
   "source": [
    "%%time\n",
    "\n",
    "reddit: praw.Reddit = praw.Reddit(client_id='5hVavL0PIRyM_1JSvqT6UQ', client_secret='BjD2kS3WNLnJc59RKY-JJUuc_Z9-JA', user_agent='script:%(bot_name)s:v%(bot_version)s (by /u/%(bot_author)s)')"
   ],
   "metadata": {
    "collapsed": false,
    "ExecuteTime": {
     "end_time": "2023-05-21T11:59:56.036649100Z",
     "start_time": "2023-05-21T11:59:55.789647600Z"
    }
   }
  },
  {
   "cell_type": "code",
   "execution_count": 8,
   "outputs": [
    {
     "name": "stderr",
     "output_type": "stream",
     "text": [
      "Creating Temp Dir For Subs...: 100%|██████████| 18/18 [00:00<00:00, 3600.95it/s]\n"
     ]
    }
   ],
   "source": [
    "for sub in tqdm(subs, total=len(subs), desc=\"Creating Temp Dir For Subs...\"):\n",
    "\ttemp_dir_path_ = f\"temp/{sub}\"\n",
    "\tif not os.path.exists(temp_dir_path_):\n",
    "\t\tos.makedirs(temp_dir_path_)\n",
    "\tos.makedirs(temp_dir_path_, exist_ok=True)"
   ],
   "metadata": {
    "collapsed": false,
    "ExecuteTime": {
     "end_time": "2023-05-21T11:59:56.037651300Z",
     "start_time": "2023-05-21T11:59:55.944648900Z"
    }
   }
  },
  {
   "cell_type": "code",
   "execution_count": 9,
   "outputs": [
    {
     "name": "stderr",
     "output_type": "stream",
     "text": [
      "week:   0%|          | 0/18 [00:00<?, ?it/s]\n",
      "Posts - SFWRedheads - week:   0%|          | 0/100 [00:00<?, ?it/s]\u001B[A\n",
      "Posts - SFWRedheads - week:   9%|▉         | 9/100 [00:00<00:01, 74.38it/s]\u001B[A\n",
      "Posts - SFWRedheads - week:  17%|█▋        | 17/100 [00:00<00:01, 61.99it/s]\u001B[A\n",
      "Posts - SFWRedheads - week:  26%|██▌       | 26/100 [00:00<00:01, 70.80it/s]\u001B[A\n",
      "Posts - SFWRedheads - week:  34%|███▍      | 34/100 [00:00<00:01, 64.00it/s]\u001B[A\n",
      "Posts - SFWRedheads - week:  43%|████▎     | 43/100 [00:00<00:00, 71.38it/s]\u001B[A\n",
      "Posts - SFWRedheads - week:  51%|█████     | 51/100 [00:00<00:00, 64.00it/s]\u001B[A\n",
      "Posts - SFWRedheads - week:  58%|█████▊    | 58/100 [00:00<00:00, 65.10it/s]\u001B[A\n",
      "Posts - SFWRedheads - week:  68%|██████▊   | 68/100 [00:00<00:00, 73.73it/s]\u001B[A\n",
      "Posts - SFWRedheads - week:  77%|███████▋  | 77/100 [00:01<00:00, 77.00it/s]\u001B[A\n",
      "Posts - SFWRedheads - week:  85%|████████▌ | 85/100 [00:01<00:00, 77.63it/s]\u001B[A\n",
      "Posts - SFWRedheads - week: 100%|██████████| 100/100 [00:01<00:00, 74.35it/s][A\n",
      "week:   6%|▌         | 1/18 [00:02<00:44,  2.63s/it]\n",
      "Posts - sfwpetite - week:   0%|          | 0/39 [00:00<?, ?it/s]\u001B[A\n",
      "Posts - sfwpetite - week:  21%|██        | 8/39 [00:00<00:00, 76.19it/s]\u001B[A\n",
      "Posts - sfwpetite - week:  41%|████      | 16/39 [00:00<00:00, 58.64it/s]\u001B[A\n",
      "Posts - sfwpetite - week:  59%|█████▉    | 23/39 [00:00<00:00, 55.19it/s]\u001B[A\n",
      "Posts - sfwpetite - week:  74%|███████▍  | 29/39 [00:00<00:00, 51.43it/s]\u001B[A\n",
      "Posts - sfwpetite - week: 100%|██████████| 39/39 [00:00<00:00, 54.06it/s]\u001B[A\n",
      "week:  11%|█         | 2/18 [00:03<00:29,  1.87s/it]\n",
      "Posts - SFWNextDoorGirls - week:   0%|          | 0/100 [00:00<?, ?it/s]\u001B[A\n",
      "Posts - SFWNextDoorGirls - week:   4%|▍         | 4/100 [00:00<00:02, 37.67it/s]\u001B[A\n",
      "Posts - SFWNextDoorGirls - week:   8%|▊         | 8/100 [00:00<00:02, 34.11it/s]\u001B[A\n",
      "Posts - SFWNextDoorGirls - week:  12%|█▏        | 12/100 [00:00<00:02, 32.62it/s]\u001B[A\n",
      "Posts - SFWNextDoorGirls - week:  16%|█▌        | 16/100 [00:00<00:02, 33.44it/s]\u001B[A\n",
      "Posts - SFWNextDoorGirls - week:  20%|██        | 20/100 [00:00<00:02, 33.71it/s]\u001B[A\n",
      "Posts - SFWNextDoorGirls - week:  24%|██▍       | 24/100 [00:00<00:02, 32.11it/s]\u001B[A\n",
      "Posts - SFWNextDoorGirls - week:  28%|██▊       | 28/100 [00:00<00:02, 33.39it/s]\u001B[A\n",
      "Posts - SFWNextDoorGirls - week:  32%|███▏      | 32/100 [00:00<00:02, 32.85it/s]\u001B[A\n",
      "Posts - SFWNextDoorGirls - week:  37%|███▋      | 37/100 [00:01<00:01, 35.39it/s]\u001B[A\n",
      "Posts - SFWNextDoorGirls - week:  41%|████      | 41/100 [00:01<00:01, 36.05it/s]\u001B[A\n",
      "Posts - SFWNextDoorGirls - week:  46%|████▌     | 46/100 [00:01<00:01, 38.60it/s]\u001B[A\n",
      "Posts - SFWNextDoorGirls - week:  52%|█████▏    | 52/100 [00:01<00:01, 42.16it/s]\u001B[A\n",
      "Posts - SFWNextDoorGirls - week:  58%|█████▊    | 58/100 [00:01<00:00, 45.52it/s]\u001B[A\n",
      "Posts - SFWNextDoorGirls - week:  64%|██████▍   | 64/100 [00:01<00:00, 47.40it/s]\u001B[A\n",
      "Posts - SFWNextDoorGirls - week:  69%|██████▉   | 69/100 [00:01<00:00, 46.96it/s]\u001B[A\n",
      "Posts - SFWNextDoorGirls - week:  74%|███████▍  | 74/100 [00:01<00:00, 47.66it/s]\u001B[A\n",
      "Posts - SFWNextDoorGirls - week:  80%|████████  | 80/100 [00:01<00:00, 49.74it/s]\u001B[A\n",
      "Posts - SFWNextDoorGirls - week:  86%|████████▌ | 86/100 [00:02<00:00, 50.36it/s]\u001B[A\n",
      "Posts - SFWNextDoorGirls - week:  92%|█████████▏| 92/100 [00:02<00:00, 50.64it/s]\u001B[A\n",
      "Posts - SFWNextDoorGirls - week: 100%|██████████| 100/100 [00:02<00:00, 42.42it/s][A\n",
      "week:  17%|█▋        | 3/18 [00:07<00:42,  2.83s/it]\n",
      "Posts - fatsquirrelhate - week:   0%|          | 0/100 [00:00<?, ?it/s]\u001B[A\n",
      "Posts - fatsquirrelhate - week:   6%|▌         | 6/100 [00:00<00:01, 56.60it/s]\u001B[A\n",
      "Posts - fatsquirrelhate - week:  12%|█▏        | 12/100 [00:00<00:01, 51.99it/s]\u001B[A\n",
      "Posts - fatsquirrelhate - week:  18%|█▊        | 18/100 [00:00<00:01, 51.66it/s]\u001B[A\n",
      "Posts - fatsquirrelhate - week:  24%|██▍       | 24/100 [00:00<00:01, 50.65it/s]\u001B[A\n",
      "Posts - fatsquirrelhate - week:  30%|███       | 30/100 [00:00<00:01, 51.03it/s]\u001B[A\n",
      "Posts - fatsquirrelhate - week:  36%|███▌      | 36/100 [00:00<00:01, 50.25it/s]\u001B[A\n",
      "Posts - fatsquirrelhate - week:  42%|████▏     | 42/100 [00:00<00:01, 49.22it/s]\u001B[A\n",
      "Posts - fatsquirrelhate - week:  48%|████▊     | 48/100 [00:00<00:01, 49.73it/s]\u001B[A\n",
      "Posts - fatsquirrelhate - week:  53%|█████▎    | 53/100 [00:01<00:00, 49.53it/s]\u001B[A\n",
      "Posts - fatsquirrelhate - week:  58%|█████▊    | 58/100 [00:01<00:00, 49.52it/s]\u001B[A\n",
      "Posts - fatsquirrelhate - week:  64%|██████▍   | 64/100 [00:01<00:00, 50.36it/s]\u001B[A\n",
      "Posts - fatsquirrelhate - week:  70%|███████   | 70/100 [00:01<00:00, 48.82it/s]\u001B[A\n",
      "Posts - fatsquirrelhate - week:  75%|███████▌  | 75/100 [00:01<00:00, 48.48it/s]\u001B[A\n",
      "Posts - fatsquirrelhate - week:  80%|████████  | 80/100 [00:01<00:00, 48.50it/s]\u001B[A\n",
      "Posts - fatsquirrelhate - week:  86%|████████▌ | 86/100 [00:01<00:00, 48.85it/s]\u001B[A\n",
      "Posts - fatsquirrelhate - week:  92%|█████████▏| 92/100 [00:01<00:00, 49.46it/s]\u001B[A\n",
      "Posts - fatsquirrelhate - week: 100%|██████████| 100/100 [00:02<00:00, 49.83it/s][A\n",
      "week:  22%|██▏       | 4/18 [00:11<00:42,  3.05s/it]\n",
      "Posts - realasians - week:   0%|          | 0/100 [00:00<?, ?it/s]\u001B[A\n",
      "Posts - realasians - week:   6%|▌         | 6/100 [00:00<00:01, 54.06it/s]\u001B[A\n",
      "Posts - realasians - week:  12%|█▏        | 12/100 [00:00<00:01, 54.05it/s]\u001B[A\n",
      "Posts - realasians - week:  18%|█▊        | 18/100 [00:00<00:01, 53.39it/s]\u001B[A\n",
      "Posts - realasians - week:  24%|██▍       | 24/100 [00:00<00:01, 51.47it/s]\u001B[A\n",
      "Posts - realasians - week:  30%|███       | 30/100 [00:00<00:01, 51.40it/s]\u001B[A\n",
      "Posts - realasians - week:  36%|███▌      | 36/100 [00:00<00:01, 51.06it/s]\u001B[A\n",
      "Posts - realasians - week:  42%|████▏     | 42/100 [00:00<00:01, 51.42it/s]\u001B[A\n",
      "Posts - realasians - week:  48%|████▊     | 48/100 [00:00<00:00, 52.82it/s]\u001B[A\n",
      "Posts - realasians - week:  54%|█████▍    | 54/100 [00:01<00:00, 52.47it/s]\u001B[A\n",
      "Posts - realasians - week:  60%|██████    | 60/100 [00:01<00:00, 52.24it/s]\u001B[A\n",
      "Posts - realasians - week:  66%|██████▌   | 66/100 [00:01<00:00, 52.78it/s]\u001B[A\n",
      "Posts - realasians - week:  72%|███████▏  | 72/100 [00:01<00:00, 51.77it/s]\u001B[A\n",
      "Posts - realasians - week:  78%|███████▊  | 78/100 [00:01<00:00, 52.58it/s]\u001B[A\n",
      "Posts - realasians - week:  84%|████████▍ | 84/100 [00:01<00:00, 52.73it/s]\u001B[A\n",
      "Posts - realasians - week:  90%|█████████ | 90/100 [00:01<00:00, 53.41it/s]\u001B[A\n",
      "Posts - realasians - week: 100%|██████████| 100/100 [00:01<00:00, 52.55it/s][A\n",
      "week:  28%|██▊       | 5/18 [00:23<01:20,  6.17s/it]\n",
      "Posts - KoreanHotties - week:   0%|          | 0/100 [00:00<?, ?it/s]\u001B[A\n",
      "Posts - KoreanHotties - week:   9%|▉         | 9/100 [00:00<00:01, 82.57it/s]\u001B[A\n",
      "Posts - KoreanHotties - week:  18%|█▊        | 18/100 [00:00<00:01, 63.41it/s]\u001B[A\n",
      "Posts - KoreanHotties - week:  27%|██▋       | 27/100 [00:00<00:01, 72.22it/s]\u001B[A\n",
      "Posts - KoreanHotties - week:  35%|███▌      | 35/100 [00:00<00:00, 74.13it/s]\u001B[A\n",
      "Posts - KoreanHotties - week:  43%|████▎     | 43/100 [00:00<00:00, 69.26it/s]\u001B[A\n",
      "Posts - KoreanHotties - week:  52%|█████▏    | 52/100 [00:00<00:00, 74.78it/s]\u001B[A\n",
      "Posts - KoreanHotties - week:  60%|██████    | 60/100 [00:00<00:00, 69.70it/s]\u001B[A\n",
      "Posts - KoreanHotties - week:  69%|██████▉   | 69/100 [00:00<00:00, 74.75it/s]\u001B[A\n",
      "Posts - KoreanHotties - week:  77%|███████▋  | 77/100 [00:01<00:00, 68.30it/s]\u001B[A\n",
      "Posts - KoreanHotties - week:  85%|████████▌ | 85/100 [00:01<00:00, 71.22it/s]\u001B[A\n",
      "Posts - KoreanHotties - week: 100%|██████████| 100/100 [00:01<00:00, 70.82it/s][A\n",
      "week:  33%|███▎      | 6/18 [00:34<01:37,  8.09s/it]\n",
      "Posts - prettyasiangirls - week:   0%|          | 0/100 [00:00<?, ?it/s]\u001B[A\n",
      "Posts - prettyasiangirls - week:   6%|▌         | 6/100 [00:00<00:01, 57.68it/s]\u001B[A\n",
      "Posts - prettyasiangirls - week:  12%|█▏        | 12/100 [00:00<00:01, 54.90it/s]\u001B[A\n",
      "Posts - prettyasiangirls - week:  18%|█▊        | 18/100 [00:00<00:01, 52.76it/s]\u001B[A\n",
      "Posts - prettyasiangirls - week:  24%|██▍       | 24/100 [00:00<00:01, 52.35it/s]\u001B[A\n",
      "Posts - prettyasiangirls - week:  30%|███       | 30/100 [00:00<00:01, 51.47it/s]\u001B[A\n",
      "Posts - prettyasiangirls - week:  36%|███▌      | 36/100 [00:00<00:01, 49.95it/s]\u001B[A\n",
      "Posts - prettyasiangirls - week:  42%|████▏     | 42/100 [00:00<00:01, 50.94it/s]\u001B[A\n",
      "Posts - prettyasiangirls - week:  48%|████▊     | 48/100 [00:00<00:01, 51.89it/s]\u001B[A\n",
      "Posts - prettyasiangirls - week:  54%|█████▍    | 54/100 [00:01<00:00, 52.55it/s]\u001B[A\n",
      "Posts - prettyasiangirls - week:  60%|██████    | 60/100 [00:01<00:00, 53.15it/s]\u001B[A\n",
      "Posts - prettyasiangirls - week:  66%|██████▌   | 66/100 [00:01<00:00, 53.57it/s]\u001B[A\n",
      "Posts - prettyasiangirls - week:  72%|███████▏  | 72/100 [00:01<00:00, 54.61it/s]\u001B[A\n",
      "Posts - prettyasiangirls - week:  78%|███████▊  | 78/100 [00:01<00:00, 54.59it/s]\u001B[A\n",
      "Posts - prettyasiangirls - week:  84%|████████▍ | 84/100 [00:01<00:00, 53.98it/s]\u001B[A\n",
      "Posts - prettyasiangirls - week:  90%|█████████ | 90/100 [00:01<00:00, 54.15it/s]\u001B[A\n",
      "Posts - prettyasiangirls - week: 100%|██████████| 100/100 [00:01<00:00, 52.83it/s][A\n",
      "week:  39%|███▉      | 7/18 [00:47<01:43,  9.45s/it]\n",
      "Posts - AsianOfficeLady - week:   0%|          | 0/14 [00:00<?, ?it/s]\u001B[A\n",
      "Posts - AsianOfficeLady - week: 100%|██████████| 14/14 [00:00<00:00, 104.48it/s]\u001B[A\n",
      "week:  44%|████▍     | 8/18 [00:55<01:31,  9.13s/it]\n",
      "Posts - mildlypenis - week:   0%|          | 0/100 [00:00<?, ?it/s]\u001B[A\n",
      "Posts - mildlypenis - week:   6%|▌         | 6/100 [00:00<00:01, 59.40it/s]\u001B[A\n",
      "Posts - mildlypenis - week:  16%|█▌        | 16/100 [00:00<00:01, 82.23it/s]\u001B[A\n",
      "Posts - mildlypenis - week:  25%|██▌       | 25/100 [00:00<00:01, 74.31it/s]\u001B[A\n",
      "Posts - mildlypenis - week:  33%|███▎      | 33/100 [00:00<00:00, 70.29it/s]\u001B[A\n",
      "Posts - mildlypenis - week:  41%|████      | 41/100 [00:00<00:00, 70.04it/s]\u001B[A\n",
      "Posts - mildlypenis - week:  49%|████▉     | 49/100 [00:00<00:00, 70.29it/s]\u001B[A\n",
      "Posts - mildlypenis - week:  57%|█████▋    | 57/100 [00:00<00:00, 71.06it/s]\u001B[A\n",
      "Posts - mildlypenis - week:  65%|██████▌   | 65/100 [00:00<00:00, 67.39it/s]\u001B[A\n",
      "Posts - mildlypenis - week:  74%|███████▍  | 74/100 [00:01<00:00, 73.61it/s]\u001B[A\n",
      "Posts - mildlypenis - week:  82%|████████▏ | 82/100 [00:01<00:00, 70.45it/s]\u001B[A\n",
      "Posts - mildlypenis - week:  90%|█████████ | 90/100 [00:01<00:00, 72.86it/s]\u001B[A\n",
      "Posts - mildlypenis - week: 100%|██████████| 100/100 [00:01<00:00, 69.40it/s][A\n",
      "week:  50%|█████     | 9/18 [01:08<01:31, 10.18s/it]\n",
      "Posts - AsianInvasion - week:   0%|          | 0/13 [00:00<?, ?it/s]\u001B[A\n",
      "Posts - AsianInvasion - week: 100%|██████████| 13/13 [00:00<00:00, 69.89it/s][A\n",
      "week:  56%|█████▌    | 10/18 [01:16<01:18,  9.79s/it]\n",
      "Posts - sexygirls - week:   0%|          | 0/88 [00:00<?, ?it/s]\u001B[A\n",
      "Posts - sexygirls - week:   7%|▋         | 6/88 [00:00<00:01, 57.14it/s]\u001B[A\n",
      "Posts - sexygirls - week:  14%|█▎        | 12/88 [00:00<00:01, 56.20it/s]\u001B[A\n",
      "Posts - sexygirls - week:  20%|██        | 18/88 [00:00<00:01, 40.18it/s]\u001B[A\n",
      "Posts - sexygirls - week:  26%|██▌       | 23/88 [00:00<00:01, 43.03it/s]\u001B[A\n",
      "Posts - sexygirls - week:  32%|███▏      | 28/88 [00:00<00:01, 44.87it/s]\u001B[A\n",
      "Posts - sexygirls - week:  39%|███▊      | 34/88 [00:00<00:01, 48.25it/s]\u001B[A\n",
      "Posts - sexygirls - week:  45%|████▌     | 40/88 [00:00<00:00, 49.81it/s]\u001B[A\n",
      "Posts - sexygirls - week:  52%|█████▏    | 46/88 [00:00<00:00, 50.42it/s]\u001B[A\n",
      "Posts - sexygirls - week:  59%|█████▉    | 52/88 [00:01<00:00, 51.39it/s]\u001B[A\n",
      "Posts - sexygirls - week:  66%|██████▌   | 58/88 [00:01<00:00, 51.77it/s]\u001B[A\n",
      "Posts - sexygirls - week:  73%|███████▎  | 64/88 [00:01<00:00, 51.48it/s]\u001B[A\n",
      "Posts - sexygirls - week:  80%|███████▉  | 70/88 [00:01<00:00, 39.02it/s]\u001B[A\n",
      "Posts - sexygirls - week:  86%|████████▋ | 76/88 [00:01<00:00, 42.82it/s]\u001B[A\n",
      "Posts - sexygirls - week:  93%|█████████▎| 82/88 [00:01<00:00, 45.70it/s]\u001B[A\n",
      "Posts - sexygirls - week: 100%|██████████| 88/88 [00:01<00:00, 46.66it/s]\u001B[A\n",
      "week:  61%|██████    | 11/18 [01:29<01:15, 10.72s/it]\n",
      "Posts - PrettyGirls - week:   0%|          | 0/100 [00:00<?, ?it/s]\u001B[A\n",
      "Posts - PrettyGirls - week:   6%|▌         | 6/100 [00:00<00:01, 54.05it/s]\u001B[A\n",
      "Posts - PrettyGirls - week:  12%|█▏        | 12/100 [00:00<00:01, 48.18it/s]\u001B[A\n",
      "Posts - PrettyGirls - week:  18%|█▊        | 18/100 [00:00<00:01, 51.90it/s]\u001B[A\n",
      "Posts - PrettyGirls - week:  24%|██▍       | 24/100 [00:00<00:01, 53.66it/s]\u001B[A\n",
      "Posts - PrettyGirls - week:  30%|███       | 30/100 [00:00<00:01, 52.28it/s]\u001B[A\n",
      "Posts - PrettyGirls - week:  36%|███▌      | 36/100 [00:00<00:01, 50.45it/s]\u001B[A\n",
      "Posts - PrettyGirls - week:  42%|████▏     | 42/100 [00:00<00:01, 51.29it/s]\u001B[A\n",
      "Posts - PrettyGirls - week:  48%|████▊     | 48/100 [00:00<00:01, 50.73it/s]\u001B[A\n",
      "Posts - PrettyGirls - week:  54%|█████▍    | 54/100 [00:01<00:00, 50.50it/s]\u001B[A\n",
      "Posts - PrettyGirls - week:  60%|██████    | 60/100 [00:01<00:00, 49.83it/s]\u001B[A\n",
      "Posts - PrettyGirls - week:  66%|██████▌   | 66/100 [00:01<00:00, 50.14it/s]\u001B[A\n",
      "Posts - PrettyGirls - week:  72%|███████▏  | 72/100 [00:01<00:00, 49.34it/s]\u001B[A\n",
      "Posts - PrettyGirls - week:  78%|███████▊  | 78/100 [00:01<00:00, 50.42it/s]\u001B[A\n",
      "Posts - PrettyGirls - week:  84%|████████▍ | 84/100 [00:01<00:00, 50.17it/s]\u001B[A\n",
      "Posts - PrettyGirls - week:  90%|█████████ | 90/100 [00:01<00:00, 49.99it/s]\u001B[A\n",
      "Posts - PrettyGirls - week: 100%|██████████| 100/100 [00:01<00:00, 50.61it/s][A\n",
      "week:  67%|██████▋   | 12/18 [01:40<01:05, 10.85s/it]\n",
      "Posts - gentlemanboners - week:   0%|          | 0/100 [00:00<?, ?it/s]\u001B[A\n",
      "Posts - gentlemanboners - week:   6%|▌         | 6/100 [00:00<00:01, 56.06it/s]\u001B[A\n",
      "Posts - gentlemanboners - week:  12%|█▏        | 12/100 [00:00<00:01, 54.58it/s]\u001B[A\n",
      "Posts - gentlemanboners - week:  18%|█▊        | 18/100 [00:00<00:01, 55.02it/s]\u001B[A\n",
      "Posts - gentlemanboners - week:  24%|██▍       | 24/100 [00:00<00:01, 54.83it/s]\u001B[A\n",
      "Posts - gentlemanboners - week:  32%|███▏      | 32/100 [00:00<00:01, 63.39it/s]\u001B[A\n",
      "Posts - gentlemanboners - week:  41%|████      | 41/100 [00:00<00:00, 68.94it/s]\u001B[A\n",
      "Posts - gentlemanboners - week:  48%|████▊     | 48/100 [00:00<00:00, 68.42it/s]\u001B[A\n",
      "Posts - gentlemanboners - week:  56%|█████▌    | 56/100 [00:00<00:00, 70.02it/s]\u001B[A\n",
      "Posts - gentlemanboners - week:  66%|██████▌   | 66/100 [00:00<00:00, 78.22it/s]\u001B[A\n",
      "Posts - gentlemanboners - week:  77%|███████▋  | 77/100 [00:01<00:00, 86.60it/s]\u001B[A\n",
      "Posts - gentlemanboners - week:  86%|████████▌ | 86/100 [00:01<00:00, 87.60it/s]\u001B[A\n",
      "Posts - gentlemanboners - week: 100%|██████████| 100/100 [00:01<00:00, 76.16it/s][A\n",
      "week:  72%|███████▏  | 13/18 [01:51<00:53, 10.67s/it]\n",
      "Posts - hotofficegirls - week:   0%|          | 0/14 [00:00<?, ?it/s]\u001B[A\n",
      "Posts - hotofficegirls - week:  43%|████▎     | 6/14 [00:00<00:00, 58.25it/s]\u001B[A\n",
      "Posts - hotofficegirls - week: 100%|██████████| 14/14 [00:00<00:00, 54.05it/s]\u001B[A\n",
      "week:  78%|███████▊  | 14/18 [02:00<00:40, 10.21s/it]\n",
      "Posts - tightdresses - week:   0%|          | 0/100 [00:00<?, ?it/s]\u001B[A\n",
      "Posts - tightdresses - week:   6%|▌         | 6/100 [00:00<00:01, 57.14it/s]\u001B[A\n",
      "Posts - tightdresses - week:  13%|█▎        | 13/100 [00:00<00:01, 61.37it/s]\u001B[A\n",
      "Posts - tightdresses - week:  20%|██        | 20/100 [00:00<00:01, 59.90it/s]\u001B[A\n",
      "Posts - tightdresses - week:  29%|██▉       | 29/100 [00:00<00:01, 70.14it/s]\u001B[A\n",
      "Posts - tightdresses - week:  38%|███▊      | 38/100 [00:00<00:00, 74.86it/s]\u001B[A\n",
      "Posts - tightdresses - week:  46%|████▌     | 46/100 [00:00<00:00, 71.46it/s]\u001B[A\n",
      "Posts - tightdresses - week:  54%|█████▍    | 54/100 [00:00<00:00, 68.10it/s]\u001B[A\n",
      "Posts - tightdresses - week:  61%|██████    | 61/100 [00:00<00:00, 64.79it/s]\u001B[A\n",
      "Posts - tightdresses - week:  72%|███████▏  | 72/100 [00:01<00:00, 76.22it/s]\u001B[A\n",
      "Posts - tightdresses - week:  80%|████████  | 80/100 [00:01<00:00, 69.14it/s]\u001B[A\n",
      "Posts - tightdresses - week:  88%|████████▊ | 88/100 [00:01<00:00, 70.88it/s]\u001B[A\n",
      "Posts - tightdresses - week: 100%|██████████| 100/100 [00:01<00:00, 68.26it/s][A\n",
      "week:  83%|████████▎ | 15/18 [02:13<00:33, 11.00s/it]\n",
      "Posts - DLAH - week:   0%|          | 0/100 [00:00<?, ?it/s]\u001B[A\n",
      "Posts - DLAH - week:  10%|█         | 10/100 [00:00<00:00, 94.34it/s]\u001B[A\n",
      "Posts - DLAH - week:  20%|██        | 20/100 [00:00<00:01, 68.49it/s]\u001B[A\n",
      "Posts - DLAH - week:  28%|██▊       | 28/100 [00:00<00:01, 63.63it/s]\u001B[A\n",
      "Posts - DLAH - week:  35%|███▌      | 35/100 [00:00<00:01, 61.39it/s]\u001B[A\n",
      "Posts - DLAH - week:  43%|████▎     | 43/100 [00:00<00:00, 66.49it/s]\u001B[A\n",
      "Posts - DLAH - week:  51%|█████     | 51/100 [00:00<00:00, 68.66it/s]\u001B[A\n",
      "Posts - DLAH - week:  58%|█████▊    | 58/100 [00:00<00:00, 65.79it/s]\u001B[A\n",
      "Posts - DLAH - week:  68%|██████▊   | 68/100 [00:00<00:00, 73.62it/s]\u001B[A\n",
      "Posts - DLAH - week:  76%|███████▌  | 76/100 [00:01<00:00, 65.10it/s]\u001B[A\n",
      "Posts - DLAH - week:  85%|████████▌ | 85/100 [00:01<00:00, 70.09it/s]\u001B[A\n",
      "Posts - DLAH - week: 100%|██████████| 100/100 [00:01<00:00, 68.49it/s][A\n",
      "week:  89%|████████▉ | 16/18 [02:25<00:22, 11.39s/it]\n",
      "Posts - bathandbodyworks - week:   0%|          | 0/100 [00:00<?, ?it/s]\u001B[A\n",
      "Posts - bathandbodyworks - week:   9%|▉         | 9/100 [00:00<00:01, 88.24it/s]\u001B[A\n",
      "Posts - bathandbodyworks - week:  18%|█▊        | 18/100 [00:00<00:00, 85.28it/s]\u001B[A\n",
      "Posts - bathandbodyworks - week:  27%|██▋       | 27/100 [00:00<00:00, 73.11it/s]\u001B[A\n",
      "Posts - bathandbodyworks - week:  37%|███▋      | 37/100 [00:00<00:00, 80.20it/s]\u001B[A\n",
      "Posts - bathandbodyworks - week:  46%|████▌     | 46/100 [00:00<00:00, 71.73it/s]\u001B[A\n",
      "Posts - bathandbodyworks - week:  56%|█████▌    | 56/100 [00:00<00:00, 77.80it/s]\u001B[A\n",
      "Posts - bathandbodyworks - week:  65%|██████▌   | 65/100 [00:00<00:00, 70.62it/s]\u001B[A\n",
      "Posts - bathandbodyworks - week:  75%|███████▌  | 75/100 [00:00<00:00, 75.91it/s]\u001B[A\n",
      "Posts - bathandbodyworks - week:  83%|████████▎ | 83/100 [00:01<00:00, 70.11it/s]\u001B[A\n",
      "Posts - bathandbodyworks - week: 100%|██████████| 100/100 [00:01<00:00, 75.81it/s][A\n",
      "week:  94%|█████████▍| 17/18 [02:37<00:11, 11.45s/it]\n",
      "Posts - AesPleasingAsianGirls - week:   0%|          | 0/26 [00:00<?, ?it/s]\u001B[A\n",
      "Posts - AesPleasingAsianGirls - week:  46%|████▌     | 12/26 [00:00<00:00, 116.50it/s]\u001B[A\n",
      "Posts - AesPleasingAsianGirls - week: 100%|██████████| 26/26 [00:00<00:00, 117.12it/s]\u001B[A\n",
      "week: 100%|██████████| 18/18 [02:46<00:00,  9.26s/it]\n",
      "day:   0%|          | 0/18 [00:00<?, ?it/s]\n",
      "Posts - SFWRedheads - day:   0%|          | 0/50 [00:00<?, ?it/s]\u001B[A\n",
      "Posts - SFWRedheads - day:  16%|█▌        | 8/50 [00:00<00:00, 72.07it/s]\u001B[A\n",
      "Posts - SFWRedheads - day:  32%|███▏      | 16/50 [00:00<00:00, 71.31it/s]\u001B[A\n",
      "Posts - SFWRedheads - day:  48%|████▊     | 24/50 [00:00<00:00, 67.88it/s]\u001B[A\n",
      "Posts - SFWRedheads - day:  62%|██████▏   | 31/50 [00:00<00:00, 67.67it/s]\u001B[A\n",
      "Posts - SFWRedheads - day:  82%|████████▏ | 41/50 [00:00<00:00, 77.18it/s]\u001B[A\n",
      "Posts - SFWRedheads - day: 100%|██████████| 50/50 [00:00<00:00, 72.61it/s]\u001B[A\n",
      "day:   6%|▌         | 1/18 [00:11<03:09, 11.13s/it]\n",
      "Posts - sfwpetite - day: 100%|██████████| 5/5 [00:00<00:00, 55.56it/s]\n",
      "day:  11%|█         | 2/18 [00:20<02:42, 10.18s/it]\n",
      "Posts - SFWNextDoorGirls - day:   0%|          | 0/91 [00:00<?, ?it/s]\u001B[A\n",
      "Posts - SFWNextDoorGirls - day:  11%|█         | 10/91 [00:00<00:00, 88.50it/s]\u001B[A\n",
      "Posts - SFWNextDoorGirls - day:  21%|██        | 19/91 [00:00<00:00, 74.39it/s]\u001B[A\n",
      "Posts - SFWNextDoorGirls - day:  31%|███       | 28/91 [00:00<00:00, 76.93it/s]\u001B[A\n",
      "Posts - SFWNextDoorGirls - day:  40%|███▉      | 36/91 [00:00<00:00, 76.93it/s]\u001B[A\n",
      "Posts - SFWNextDoorGirls - day:  49%|████▉     | 45/91 [00:00<00:00, 79.42it/s]\u001B[A\n",
      "Posts - SFWNextDoorGirls - day:  60%|██████    | 55/91 [00:00<00:00, 85.93it/s]\u001B[A\n",
      "Posts - SFWNextDoorGirls - day:  73%|███████▎  | 66/91 [00:00<00:00, 88.99it/s]\u001B[A\n",
      "Posts - SFWNextDoorGirls - day:  82%|████████▏ | 75/91 [00:00<00:00, 85.72it/s]\u001B[A\n",
      "Posts - SFWNextDoorGirls - day: 100%|██████████| 91/91 [00:01<00:00, 82.88it/s]\u001B[A\n",
      "day:  17%|█▋        | 3/18 [00:32<02:43, 10.92s/it]\n",
      "Posts - fatsquirrelhate - day:   0%|          | 0/25 [00:00<?, ?it/s]\u001B[A\n",
      "Posts - fatsquirrelhate - day:  40%|████      | 10/25 [00:00<00:00, 98.04it/s]\u001B[A\n",
      "Posts - fatsquirrelhate - day: 100%|██████████| 25/25 [00:00<00:00, 93.63it/s]\u001B[A\n",
      "day:  22%|██▏       | 4/18 [00:42<02:26, 10.47s/it]\n",
      "Posts - realasians - day:   0%|          | 0/49 [00:00<?, ?it/s]\u001B[A\n",
      "Posts - realasians - day:  29%|██▊       | 14/49 [00:00<00:00, 133.37it/s]\u001B[A\n",
      "Posts - realasians - day:  57%|█████▋    | 28/49 [00:00<00:00, 134.10it/s]\u001B[A\n",
      "Posts - realasians - day: 100%|██████████| 49/49 [00:00<00:00, 111.37it/s]\u001B[A\n",
      "day:  28%|██▊       | 5/18 [00:53<02:17, 10.60s/it]\n",
      "Posts - KoreanHotties - day:   0%|          | 0/29 [00:00<?, ?it/s]\u001B[A\n",
      "Posts - KoreanHotties - day:  41%|████▏     | 12/29 [00:00<00:00, 118.81it/s]\u001B[A\n",
      "Posts - KoreanHotties - day: 100%|██████████| 29/29 [00:00<00:00, 100.69it/s]\u001B[A\n",
      "day:  33%|███▎      | 6/18 [01:03<02:06, 10.56s/it]\n",
      "Posts - prettyasiangirls - day:   0%|          | 0/36 [00:00<?, ?it/s]\u001B[A\n",
      "Posts - prettyasiangirls - day:  25%|██▌       | 9/36 [00:00<00:00, 88.24it/s]\u001B[A\n",
      "Posts - prettyasiangirls - day:  56%|█████▌    | 20/36 [00:00<00:00, 96.43it/s]\u001B[A\n",
      "Posts - prettyasiangirls - day: 100%|██████████| 36/36 [00:00<00:00, 88.89it/s]\u001B[A\n",
      "day:  39%|███▉      | 7/18 [01:14<01:57, 10.65s/it]\n",
      "Posts - AsianOfficeLady - day: 100%|██████████| 2/2 [00:00<00:00, 142.86it/s]\n",
      "day:  44%|████▍     | 8/18 [01:24<01:43, 10.35s/it]\n",
      "Posts - mildlypenis - day:   0%|          | 0/40 [00:00<?, ?it/s]\u001B[A\n",
      "Posts - mildlypenis - day:  25%|██▌       | 10/40 [00:00<00:00, 87.72it/s]\u001B[A\n",
      "Posts - mildlypenis - day:  48%|████▊     | 19/40 [00:00<00:00, 78.13it/s]\u001B[A\n",
      "Posts - mildlypenis - day:  68%|██████▊   | 27/40 [00:00<00:00, 76.69it/s]\u001B[A\n",
      "Posts - mildlypenis - day: 100%|██████████| 40/40 [00:00<00:00, 77.82it/s]\u001B[A\n",
      "day:  50%|█████     | 9/18 [01:35<01:35, 10.57s/it]\n",
      "Posts - AsianInvasion - day: 100%|██████████| 2/2 [00:00<00:00, 80.00it/s]\n",
      "day:  56%|█████▌    | 10/18 [01:44<01:22, 10.27s/it]\n",
      "Posts - sexygirls - day:   0%|          | 0/10 [00:00<?, ?it/s]\u001B[A\n",
      "Posts - sexygirls - day: 100%|██████████| 10/10 [00:00<00:00, 90.09it/s]\u001B[A\n",
      "day:  61%|██████    | 11/18 [01:54<01:11, 10.26s/it]\n",
      "Posts - PrettyGirls - day:   0%|          | 0/18 [00:00<?, ?it/s]\u001B[A\n",
      "Posts - PrettyGirls - day: 100%|██████████| 18/18 [00:00<00:00, 98.90it/s] \u001B[A\n",
      "day:  67%|██████▋   | 12/18 [02:05<01:01, 10.32s/it]\n",
      "Posts - gentlemanboners - day:   0%|          | 0/33 [00:00<?, ?it/s]\u001B[A\n",
      "Posts - gentlemanboners - day:  24%|██▍       | 8/33 [00:00<00:00, 77.67it/s]\u001B[A\n",
      "Posts - gentlemanboners - day:  52%|█████▏    | 17/33 [00:00<00:00, 84.34it/s]\u001B[A\n",
      "Posts - gentlemanboners - day: 100%|██████████| 33/33 [00:00<00:00, 91.92it/s]\u001B[A\n",
      "day:  72%|███████▏  | 13/18 [02:16<00:52, 10.44s/it]\n",
      "Posts - hotofficegirls - day: 100%|██████████| 2/2 [00:00<00:00, 58.82it/s]\n",
      "day:  78%|███████▊  | 14/18 [02:25<00:40, 10.24s/it]\n",
      "Posts - tightdresses - day:   0%|          | 0/30 [00:00<?, ?it/s]\u001B[A\n",
      "Posts - tightdresses - day:  23%|██▎       | 7/30 [00:00<00:00, 64.22it/s]\u001B[A\n",
      "Posts - tightdresses - day:  60%|██████    | 18/30 [00:00<00:00, 83.99it/s]\u001B[A\n",
      "Posts - tightdresses - day: 100%|██████████| 30/30 [00:00<00:00, 70.92it/s]\u001B[A\n",
      "day:  83%|████████▎ | 15/18 [02:37<00:31, 10.52s/it]\n",
      "Posts - DLAH - day:   0%|          | 0/43 [00:00<?, ?it/s]\u001B[A\n",
      "Posts - DLAH - day:  16%|█▋        | 7/43 [00:00<00:00, 61.40it/s]\u001B[A\n",
      "Posts - DLAH - day:  33%|███▎      | 14/43 [00:00<00:00, 58.39it/s]\u001B[A\n",
      "Posts - DLAH - day:  49%|████▉     | 21/43 [00:00<00:00, 58.81it/s]\u001B[A\n",
      "Posts - DLAH - day:  63%|██████▎   | 27/43 [00:00<00:00, 57.60it/s]\u001B[A\n",
      "Posts - DLAH - day:  77%|███████▋  | 33/43 [00:00<00:00, 58.20it/s]\u001B[A\n",
      "Posts - DLAH - day: 100%|██████████| 43/43 [00:00<00:00, 63.14it/s]\u001B[A\n",
      "day:  89%|████████▉ | 16/18 [02:48<00:21, 10.76s/it]\n",
      "Posts - bathandbodyworks - day:   0%|          | 0/43 [00:00<?, ?it/s]\u001B[A\n",
      "Posts - bathandbodyworks - day:  14%|█▍        | 6/43 [00:00<00:00, 54.05it/s]\u001B[A\n",
      "Posts - bathandbodyworks - day:  28%|██▊       | 12/43 [00:00<00:00, 55.83it/s]\u001B[A\n",
      "Posts - bathandbodyworks - day:  44%|████▍     | 19/43 [00:00<00:00, 58.70it/s]\u001B[A\n",
      "Posts - bathandbodyworks - day:  58%|█████▊    | 25/43 [00:00<00:00, 57.06it/s]\u001B[A\n",
      "Posts - bathandbodyworks - day:  72%|███████▏  | 31/43 [00:00<00:00, 55.61it/s]\u001B[A\n",
      "Posts - bathandbodyworks - day:  86%|████████▌ | 37/43 [00:00<00:00, 56.82it/s]\u001B[A\n",
      "Posts - bathandbodyworks - day: 100%|██████████| 43/43 [00:00<00:00, 55.34it/s]\u001B[A\n",
      "day:  94%|█████████▍| 17/18 [02:59<00:10, 10.88s/it]\n",
      "Posts - AesPleasingAsianGirls - day: 100%|██████████| 4/4 [00:00<00:00, 59.70it/s]\n",
      "day: 100%|██████████| 18/18 [03:09<00:00, 10.50s/it]\n"
     ]
    }
   ],
   "source": [
    "with open('log.txt', 'a') as f:\n",
    "\tfor time_filter in ['week', 'day']:\n",
    "\t\tfor sub in tqdm(subs, desc=f\"{time_filter}\", total=len(subs)):\n",
    "\t\t\ttemp_dir_path = f\"temp/{sub}\"\n",
    "\t\t\ttry:\n",
    "\t\t\t\tsubreddit_stream: ListingGenerator = reddit.subreddit(display_name=sub).top(limit=100, time_filter=time_filter)\n",
    "\t\t\t\tsubreddit_stream = list(subreddit_stream)\n",
    "\t\t\t\tfor submission in tqdm(subreddit_stream, total=len(subreddit_stream), desc=f\"Posts - {sub} - {time_filter}\"):\n",
    "\t\t\t\t\tif submission is None:\n",
    "\t\t\t\t\t\tcontinue\n",
    "\t\t\t\t\telse:\n",
    "\t\t\t\t\t\tif submission.id in extant_data.index.values:\n",
    "\t\t\t\t\t\t\tcontinue\n",
    "\t\t\t\t\ttry:\n",
    "\t\t\t\t\t\tauthor_name = 'Unknown'\n",
    "\t\t\t\t\t\tsubreddit_name = sub\n",
    "\t\t\t\t\t\ttry:\n",
    "\t\t\t\t\t\t\tauthor_name = submission.author.name\n",
    "\t\t\t\t\t\texcept Exception as e:\n",
    "\t\t\t\t\t\t\tauthor_name = 'Unknown'\n",
    "\t\t\t\t\t\t\tpass\n",
    "\t\t\t\t\t\tp = {\n",
    "\t\t\t\t\t\t\t'id': submission.id,\n",
    "\t\t\t\t\t\t\t'subreddit': subreddit_name,\n",
    "\t\t\t\t\t\t\t'author': author_name,\n",
    "\t\t\t\t\t\t\t'title': submission.title,\n",
    "\t\t\t\t\t\t\t'caption': '',\n",
    "\t\t\t\t\t\t\t'hash': '',\n",
    "\t\t\t\t\t\t\t'permalink': submission.permalink,\n",
    "\t\t\t\t\t\t\t'original_url': submission.url,\n",
    "\t\t\t\t\t\t\t'image_name': '',\n",
    "\t\t\t\t\t\t\t'path': '',\n",
    "\t\t\t\t\t\t\t'thumbnail_path': '',\n",
    "\t\t\t\t\t\t\t'exists': False,\n",
    "\t\t\t\t\t\t\t'curated': False,\n",
    "\t\t\t\t\t\t\t'Tags': ['']\n",
    "\t\t\t\t\t\t}\n",
    "\t\t\t\t\t\tpd.DataFrame([p]).to_parquet(f\"{temp_dir_path}/{submission.id}.parquet\")\n",
    "\t\t\t\t\texcept Exception as e:\n",
    "\t\t\t\t\t\tlog = functions.write_log_message(submission.id, sub, \"Error Writing Post\", e)\n",
    "\t\t\t\t\t\tf.write(log)\n",
    "\t\t\t\t\t\tcontinue\n",
    "\t\t\texcept Exception as e:\n",
    "\t\t\t\tlog = functions.write_log_message(submission.id, sub, f\"Error Getting Posts For SubReddit\", e)\n",
    "\t\t\t\tf.write(log)\n",
    "\t\t\t\tcontinue"
   ],
   "metadata": {
    "collapsed": false,
    "ExecuteTime": {
     "end_time": "2023-05-21T12:05:51.771576100Z",
     "start_time": "2023-05-21T11:59:55.987647400Z"
    }
   }
  },
  {
   "cell_type": "code",
   "execution_count": 10,
   "outputs": [
    {
     "name": "stderr",
     "output_type": "stream",
     "text": [
      "Reading Temp Dir For Subs...: 100%|██████████| 18/18 [00:02<00:00,  8.14it/s]\n"
     ]
    },
    {
     "data": {
      "text/plain": "'==== TEMP DATA ===='"
     },
     "metadata": {},
     "output_type": "display_data"
    },
    {
     "data": {
      "text/plain": "(1895, 15)"
     },
     "metadata": {},
     "output_type": "display_data"
    },
    {
     "data": {
      "text/plain": "              id              subreddit                author   \nid                                                              \n13h67sb  13h67sb            SFWRedheads       Dasharkiss_real  \\\n13h93zj  13h93zj            SFWRedheads       thatgirlmarie97   \n13h9lq5  13h9lq5            SFWRedheads              snildeep   \n13hc2uz  13hc2uz            SFWRedheads            nurselacey   \n13hcvxr  13hcvxr            SFWRedheads            Puzzled_MJ   \n...          ...                    ...                   ...   \n13mh4fw  13mh4fw  AesPleasingAsianGirls  Korean_Celebrity_Fap   \n13n9xdx  13n9xdx  AesPleasingAsianGirls          yummybanchan   \n13nm990  13nm990  AesPleasingAsianGirls  Defiant-Appearance64   \n13nmrk8  13nmrk8  AesPleasingAsianGirls   Throwawaythebasuras   \n13nnpg1  13nnpg1  AesPleasingAsianGirls           miazinhaaaa   \n\n                                              title caption hash   \nid                                                                 \n13h67sb       Love life and life will love you too.               \\\n13h93zj               Who wants to play some games?                \n13h9lq5                Hey! My eyes are up here! 😂💕                \n13hc2uz                 How do you like my haircut?                \n13hcvxr  Happy Sunday. Where would u take me today?                \n...                                             ...     ...  ...   \n13mh4fw                            Arin Compilation                \n13n9xdx                                  Song Yu Qi                \n13nm990                            Somi compilation                \n13nmrk8                                    nice car                \n13nnpg1              I love this beach (Copacabana)                \n\n                                                 permalink   \nid                                                           \n13h67sb  /r/SFWRedheads/comments/13h67sb/love_life_and_...  \\\n13h93zj  /r/SFWRedheads/comments/13h93zj/who_wants_to_p...   \n13h9lq5  /r/SFWRedheads/comments/13h9lq5/hey_my_eyes_ar...   \n13hc2uz  /r/SFWRedheads/comments/13hc2uz/how_do_you_lik...   \n13hcvxr  /r/SFWRedheads/comments/13hcvxr/happy_sunday_w...   \n...                                                    ...   \n13mh4fw  /r/AesPleasingAsianGirls/comments/13mh4fw/arin...   \n13n9xdx  /r/AesPleasingAsianGirls/comments/13n9xdx/song...   \n13nm990  /r/AesPleasingAsianGirls/comments/13nm990/somi...   \n13nmrk8  /r/AesPleasingAsianGirls/comments/13nmrk8/nice...   \n13nnpg1  /r/AesPleasingAsianGirls/comments/13nnpg1/i_lo...   \n\n                                   original_url   image_name path model   \nid                                                                        \n13h67sb         https://i.imgur.com/NBCDz3f.jpg  13h67sb.jpg             \\\n13h93zj  https://www.reddit.com/gallery/13h93zj  13h93zj.jpg              \n13h9lq5     https://i.redd.it/schip1qaotza1.jpg  13h9lq5.jpg              \n13hc2uz     https://i.redd.it/0qgvz4uy9uza1.jpg  13hc2uz.jpg              \n13hcvxr     https://i.redd.it/h6bwkyw8guza1.jpg  13hcvxr.jpg              \n...                                         ...          ...  ...   ...   \n13mh4fw        https://i.imgur.com/bukbo8v.gifv  13mh4fw.jpg              \n13n9xdx     https://i.redd.it/xl0v8fgbk31b1.jpg  13n9xdx.jpg              \n13nm990        https://i.imgur.com/ISJoDGW.gifv  13nm990.jpg              \n13nmrk8  https://www.reddit.com/gallery/13nmrk8  13nmrk8.jpg              \n13nnpg1     https://i.redd.it/7udfhs8ow61b1.jpg  13nnpg1.jpg              \n\n         exists  curated accept tags  \nid                                    \n13h67sb   False    False  False   []  \n13h93zj   False    False  False   []  \n13h9lq5   False    False  False   []  \n13hc2uz   False    False  False   []  \n13hcvxr   False    False  False   []  \n...         ...      ...    ...  ...  \n13mh4fw   False    False  False   []  \n13n9xdx   False    False  False   []  \n13nm990   False    False  False   []  \n13nmrk8   False    False  False   []  \n13nnpg1   False    False  False   []  \n\n[1895 rows x 15 columns]",
      "text/html": "<div>\n<style scoped>\n    .dataframe tbody tr th:only-of-type {\n        vertical-align: middle;\n    }\n\n    .dataframe tbody tr th {\n        vertical-align: top;\n    }\n\n    .dataframe thead th {\n        text-align: right;\n    }\n</style>\n<table border=\"1\" class=\"dataframe\">\n  <thead>\n    <tr style=\"text-align: right;\">\n      <th></th>\n      <th>id</th>\n      <th>subreddit</th>\n      <th>author</th>\n      <th>title</th>\n      <th>caption</th>\n      <th>hash</th>\n      <th>permalink</th>\n      <th>original_url</th>\n      <th>image_name</th>\n      <th>path</th>\n      <th>model</th>\n      <th>exists</th>\n      <th>curated</th>\n      <th>accept</th>\n      <th>tags</th>\n    </tr>\n    <tr>\n      <th>id</th>\n      <th></th>\n      <th></th>\n      <th></th>\n      <th></th>\n      <th></th>\n      <th></th>\n      <th></th>\n      <th></th>\n      <th></th>\n      <th></th>\n      <th></th>\n      <th></th>\n      <th></th>\n      <th></th>\n      <th></th>\n    </tr>\n  </thead>\n  <tbody>\n    <tr>\n      <th>13h67sb</th>\n      <td>13h67sb</td>\n      <td>SFWRedheads</td>\n      <td>Dasharkiss_real</td>\n      <td>Love life and life will love you too.</td>\n      <td></td>\n      <td></td>\n      <td>/r/SFWRedheads/comments/13h67sb/love_life_and_...</td>\n      <td>https://i.imgur.com/NBCDz3f.jpg</td>\n      <td>13h67sb.jpg</td>\n      <td></td>\n      <td></td>\n      <td>False</td>\n      <td>False</td>\n      <td>False</td>\n      <td>[]</td>\n    </tr>\n    <tr>\n      <th>13h93zj</th>\n      <td>13h93zj</td>\n      <td>SFWRedheads</td>\n      <td>thatgirlmarie97</td>\n      <td>Who wants to play some games?</td>\n      <td></td>\n      <td></td>\n      <td>/r/SFWRedheads/comments/13h93zj/who_wants_to_p...</td>\n      <td>https://www.reddit.com/gallery/13h93zj</td>\n      <td>13h93zj.jpg</td>\n      <td></td>\n      <td></td>\n      <td>False</td>\n      <td>False</td>\n      <td>False</td>\n      <td>[]</td>\n    </tr>\n    <tr>\n      <th>13h9lq5</th>\n      <td>13h9lq5</td>\n      <td>SFWRedheads</td>\n      <td>snildeep</td>\n      <td>Hey! My eyes are up here! 😂💕</td>\n      <td></td>\n      <td></td>\n      <td>/r/SFWRedheads/comments/13h9lq5/hey_my_eyes_ar...</td>\n      <td>https://i.redd.it/schip1qaotza1.jpg</td>\n      <td>13h9lq5.jpg</td>\n      <td></td>\n      <td></td>\n      <td>False</td>\n      <td>False</td>\n      <td>False</td>\n      <td>[]</td>\n    </tr>\n    <tr>\n      <th>13hc2uz</th>\n      <td>13hc2uz</td>\n      <td>SFWRedheads</td>\n      <td>nurselacey</td>\n      <td>How do you like my haircut?</td>\n      <td></td>\n      <td></td>\n      <td>/r/SFWRedheads/comments/13hc2uz/how_do_you_lik...</td>\n      <td>https://i.redd.it/0qgvz4uy9uza1.jpg</td>\n      <td>13hc2uz.jpg</td>\n      <td></td>\n      <td></td>\n      <td>False</td>\n      <td>False</td>\n      <td>False</td>\n      <td>[]</td>\n    </tr>\n    <tr>\n      <th>13hcvxr</th>\n      <td>13hcvxr</td>\n      <td>SFWRedheads</td>\n      <td>Puzzled_MJ</td>\n      <td>Happy Sunday. Where would u take me today?</td>\n      <td></td>\n      <td></td>\n      <td>/r/SFWRedheads/comments/13hcvxr/happy_sunday_w...</td>\n      <td>https://i.redd.it/h6bwkyw8guza1.jpg</td>\n      <td>13hcvxr.jpg</td>\n      <td></td>\n      <td></td>\n      <td>False</td>\n      <td>False</td>\n      <td>False</td>\n      <td>[]</td>\n    </tr>\n    <tr>\n      <th>...</th>\n      <td>...</td>\n      <td>...</td>\n      <td>...</td>\n      <td>...</td>\n      <td>...</td>\n      <td>...</td>\n      <td>...</td>\n      <td>...</td>\n      <td>...</td>\n      <td>...</td>\n      <td>...</td>\n      <td>...</td>\n      <td>...</td>\n      <td>...</td>\n      <td>...</td>\n    </tr>\n    <tr>\n      <th>13mh4fw</th>\n      <td>13mh4fw</td>\n      <td>AesPleasingAsianGirls</td>\n      <td>Korean_Celebrity_Fap</td>\n      <td>Arin Compilation</td>\n      <td></td>\n      <td></td>\n      <td>/r/AesPleasingAsianGirls/comments/13mh4fw/arin...</td>\n      <td>https://i.imgur.com/bukbo8v.gifv</td>\n      <td>13mh4fw.jpg</td>\n      <td></td>\n      <td></td>\n      <td>False</td>\n      <td>False</td>\n      <td>False</td>\n      <td>[]</td>\n    </tr>\n    <tr>\n      <th>13n9xdx</th>\n      <td>13n9xdx</td>\n      <td>AesPleasingAsianGirls</td>\n      <td>yummybanchan</td>\n      <td>Song Yu Qi</td>\n      <td></td>\n      <td></td>\n      <td>/r/AesPleasingAsianGirls/comments/13n9xdx/song...</td>\n      <td>https://i.redd.it/xl0v8fgbk31b1.jpg</td>\n      <td>13n9xdx.jpg</td>\n      <td></td>\n      <td></td>\n      <td>False</td>\n      <td>False</td>\n      <td>False</td>\n      <td>[]</td>\n    </tr>\n    <tr>\n      <th>13nm990</th>\n      <td>13nm990</td>\n      <td>AesPleasingAsianGirls</td>\n      <td>Defiant-Appearance64</td>\n      <td>Somi compilation</td>\n      <td></td>\n      <td></td>\n      <td>/r/AesPleasingAsianGirls/comments/13nm990/somi...</td>\n      <td>https://i.imgur.com/ISJoDGW.gifv</td>\n      <td>13nm990.jpg</td>\n      <td></td>\n      <td></td>\n      <td>False</td>\n      <td>False</td>\n      <td>False</td>\n      <td>[]</td>\n    </tr>\n    <tr>\n      <th>13nmrk8</th>\n      <td>13nmrk8</td>\n      <td>AesPleasingAsianGirls</td>\n      <td>Throwawaythebasuras</td>\n      <td>nice car</td>\n      <td></td>\n      <td></td>\n      <td>/r/AesPleasingAsianGirls/comments/13nmrk8/nice...</td>\n      <td>https://www.reddit.com/gallery/13nmrk8</td>\n      <td>13nmrk8.jpg</td>\n      <td></td>\n      <td></td>\n      <td>False</td>\n      <td>False</td>\n      <td>False</td>\n      <td>[]</td>\n    </tr>\n    <tr>\n      <th>13nnpg1</th>\n      <td>13nnpg1</td>\n      <td>AesPleasingAsianGirls</td>\n      <td>miazinhaaaa</td>\n      <td>I love this beach (Copacabana)</td>\n      <td></td>\n      <td></td>\n      <td>/r/AesPleasingAsianGirls/comments/13nnpg1/i_lo...</td>\n      <td>https://i.redd.it/7udfhs8ow61b1.jpg</td>\n      <td>13nnpg1.jpg</td>\n      <td></td>\n      <td></td>\n      <td>False</td>\n      <td>False</td>\n      <td>False</td>\n      <td>[]</td>\n    </tr>\n  </tbody>\n</table>\n<p>1895 rows × 15 columns</p>\n</div>"
     },
     "metadata": {},
     "output_type": "display_data"
    },
    {
     "name": "stdout",
     "output_type": "stream",
     "text": [
      "CPU times: total: 15.2 s\n",
      "Wall time: 8.31 s\n"
     ]
    }
   ],
   "source": [
    "%%time\n",
    "\n",
    "data = []\n",
    "for sub in tqdm(subs, desc=\"Reading Temp Dir For Subs...\"):\n",
    "\tdf = pandas.read_parquet(f\"temp/{sub}\", schema=schema, engine='pyarrow')\n",
    "\trecords = df.to_dict(orient='records')\n",
    "\tdata.extend(records)\n",
    "\n",
    "temp_data = pandas.DataFrame(data)\n",
    "\n",
    "for i, r in temp_data.iterrows():\n",
    "\ttemp_data.loc[i, 'image_name'] = r.id + \".jpg\"\n",
    "\ttemp_data.loc[i, 'path'] = \"\"\n",
    "\ttemp_data.loc[i, 'hash'] = \"\"\n",
    "\ttemp_data.loc[i, 'caption'] = \"\"\n",
    "\ttemp_data.loc[i, 'model'] = \"\"\n",
    "\ttemp_data.loc[i, 'exists'] = False\n",
    "\ttemp_data.loc[i, 'curated'] = False\n",
    "\ttemp_data.loc[i, 'accept'] = False\n",
    "\ttemp_data.loc[i, 'tags'] = ['']\n",
    "\n",
    "temp_data.set_index('id', inplace=True, drop=False)\n",
    "\n",
    "display(\"==== TEMP DATA ====\")\n",
    "display(temp_data.shape)\n",
    "display(temp_data)"
   ],
   "metadata": {
    "collapsed": false,
    "ExecuteTime": {
     "end_time": "2023-05-21T12:06:00.172577700Z",
     "start_time": "2023-05-21T12:05:51.774575700Z"
    }
   }
  },
  {
   "cell_type": "code",
   "execution_count": 11,
   "outputs": [
    {
     "data": {
      "text/plain": "'==== FILTERED DATA ===='"
     },
     "metadata": {},
     "output_type": "display_data"
    },
    {
     "data": {
      "text/plain": "(99, 15)"
     },
     "metadata": {},
     "output_type": "display_data"
    },
    {
     "data": {
      "text/plain": "              id              subreddit                author   \nid                                                              \n13hgme0  13hgme0            SFWRedheads          Redhotwife88  \\\n13ibnsi  13ibnsi            SFWRedheads       Dasharkiss_real   \n13imeet  13imeet            SFWRedheads             imjenrose   \n13jm7mh  13jm7mh            SFWRedheads          Redhotwife88   \n13nhxcp  13nhxcp            SFWRedheads         Middle-Ad4300   \n...          ...                    ...                   ...   \n13no1on  13no1on                   DLAH  Majestic_Painter8660   \n13nhylw  13nhylw       bathandbodyworks          BathbeautyXO   \n13nlz14  13nlz14       bathandbodyworks  Fresh-Blueberry-milk   \n13npfx3  13npfx3       bathandbodyworks         singshopsleep   \n13nnpg1  13nnpg1  AesPleasingAsianGirls           miazinhaaaa   \n\n                                                     title caption hash   \nid                                                                        \n13hgme0     I Love wearing my Leather Pants and Heels! [F]               \\\n13ibnsi  I can live without money but I can't live with...                \n13imeet              Adorable girl to make your day better                \n13jm7mh      Do I look Cute for my Anniversary Dinner? [F]                \n13nhxcp                                           Hello 👋🏻                \n...                                                    ...     ...  ...   \n13no1on                        Tight dress, legs and heels                \n13nhylw           (Late) February/valentines empties! 💕❤️💖                \n13nlz14  figured this would be appreciated 😏 also what ...                \n13npfx3                              All of Today's Offers                \n13nnpg1                     I love this beach (Copacabana)                \n\n                                                 permalink   \nid                                                           \n13hgme0  /r/SFWRedheads/comments/13hgme0/i_love_wearing...  \\\n13ibnsi  /r/SFWRedheads/comments/13ibnsi/i_can_live_wit...   \n13imeet  /r/SFWRedheads/comments/13imeet/adorable_girl_...   \n13jm7mh  /r/SFWRedheads/comments/13jm7mh/do_i_look_cute...   \n13nhxcp             /r/SFWRedheads/comments/13nhxcp/hello/   \n...                                                    ...   \n13no1on  /r/DLAH/comments/13no1on/tight_dress_legs_and_...   \n13nhylw  /r/bathandbodyworks/comments/13nhylw/late_febr...   \n13nlz14  /r/bathandbodyworks/comments/13nlz14/figured_t...   \n13npfx3  /r/bathandbodyworks/comments/13npfx3/all_of_to...   \n13nnpg1  /r/AesPleasingAsianGirls/comments/13nnpg1/i_lo...   \n\n                                              original_url   image_name path   \nid                                                                             \n13hgme0    https://i.redgifs.com/i/frayedmadeupsparrow.jpg  13hgme0.jpg       \\\n13ibnsi    https://i.redgifs.com/i/imaginaryrawleveret.jpg  13ibnsi.jpg        \n13imeet  https://i.redgifs.com/i/dangerousfilthyhornedv...  13imeet.jpg        \n13jm7mh  https://i.redgifs.com/i/tensedarkmagentabedlin...  13jm7mh.jpg        \n13nhxcp                https://i.redd.it/1g3nvmrwv31b1.jpg  13nhxcp.jpg        \n...                                                    ...          ...  ...   \n13no1on                https://i.redd.it/0pq456mci51b1.jpg  13no1on.jpg        \n13nhylw                https://i.redd.it/t2yvxblvd51b1.jpg  13nhylw.jpg        \n13nlz14                https://i.redd.it/or6fujdmf61b1.jpg  13nlz14.jpg        \n13npfx3                https://i.redd.it/skqywk3qd71b1.jpg  13npfx3.jpg        \n13nnpg1                https://i.redd.it/7udfhs8ow61b1.jpg  13nnpg1.jpg        \n\n        model  exists  curated accept tags  \nid                                          \n13hgme0         False    False  False   []  \n13ibnsi         False    False  False   []  \n13imeet         False    False  False   []  \n13jm7mh         False    False  False   []  \n13nhxcp         False    False  False   []  \n...       ...     ...      ...    ...  ...  \n13no1on         False    False  False   []  \n13nhylw         False    False  False   []  \n13nlz14         False    False  False   []  \n13npfx3         False    False  False   []  \n13nnpg1         False    False  False   []  \n\n[99 rows x 15 columns]",
      "text/html": "<div>\n<style scoped>\n    .dataframe tbody tr th:only-of-type {\n        vertical-align: middle;\n    }\n\n    .dataframe tbody tr th {\n        vertical-align: top;\n    }\n\n    .dataframe thead th {\n        text-align: right;\n    }\n</style>\n<table border=\"1\" class=\"dataframe\">\n  <thead>\n    <tr style=\"text-align: right;\">\n      <th></th>\n      <th>id</th>\n      <th>subreddit</th>\n      <th>author</th>\n      <th>title</th>\n      <th>caption</th>\n      <th>hash</th>\n      <th>permalink</th>\n      <th>original_url</th>\n      <th>image_name</th>\n      <th>path</th>\n      <th>model</th>\n      <th>exists</th>\n      <th>curated</th>\n      <th>accept</th>\n      <th>tags</th>\n    </tr>\n    <tr>\n      <th>id</th>\n      <th></th>\n      <th></th>\n      <th></th>\n      <th></th>\n      <th></th>\n      <th></th>\n      <th></th>\n      <th></th>\n      <th></th>\n      <th></th>\n      <th></th>\n      <th></th>\n      <th></th>\n      <th></th>\n      <th></th>\n    </tr>\n  </thead>\n  <tbody>\n    <tr>\n      <th>13hgme0</th>\n      <td>13hgme0</td>\n      <td>SFWRedheads</td>\n      <td>Redhotwife88</td>\n      <td>I Love wearing my Leather Pants and Heels! [F]</td>\n      <td></td>\n      <td></td>\n      <td>/r/SFWRedheads/comments/13hgme0/i_love_wearing...</td>\n      <td>https://i.redgifs.com/i/frayedmadeupsparrow.jpg</td>\n      <td>13hgme0.jpg</td>\n      <td></td>\n      <td></td>\n      <td>False</td>\n      <td>False</td>\n      <td>False</td>\n      <td>[]</td>\n    </tr>\n    <tr>\n      <th>13ibnsi</th>\n      <td>13ibnsi</td>\n      <td>SFWRedheads</td>\n      <td>Dasharkiss_real</td>\n      <td>I can live without money but I can't live with...</td>\n      <td></td>\n      <td></td>\n      <td>/r/SFWRedheads/comments/13ibnsi/i_can_live_wit...</td>\n      <td>https://i.redgifs.com/i/imaginaryrawleveret.jpg</td>\n      <td>13ibnsi.jpg</td>\n      <td></td>\n      <td></td>\n      <td>False</td>\n      <td>False</td>\n      <td>False</td>\n      <td>[]</td>\n    </tr>\n    <tr>\n      <th>13imeet</th>\n      <td>13imeet</td>\n      <td>SFWRedheads</td>\n      <td>imjenrose</td>\n      <td>Adorable girl to make your day better</td>\n      <td></td>\n      <td></td>\n      <td>/r/SFWRedheads/comments/13imeet/adorable_girl_...</td>\n      <td>https://i.redgifs.com/i/dangerousfilthyhornedv...</td>\n      <td>13imeet.jpg</td>\n      <td></td>\n      <td></td>\n      <td>False</td>\n      <td>False</td>\n      <td>False</td>\n      <td>[]</td>\n    </tr>\n    <tr>\n      <th>13jm7mh</th>\n      <td>13jm7mh</td>\n      <td>SFWRedheads</td>\n      <td>Redhotwife88</td>\n      <td>Do I look Cute for my Anniversary Dinner? [F]</td>\n      <td></td>\n      <td></td>\n      <td>/r/SFWRedheads/comments/13jm7mh/do_i_look_cute...</td>\n      <td>https://i.redgifs.com/i/tensedarkmagentabedlin...</td>\n      <td>13jm7mh.jpg</td>\n      <td></td>\n      <td></td>\n      <td>False</td>\n      <td>False</td>\n      <td>False</td>\n      <td>[]</td>\n    </tr>\n    <tr>\n      <th>13nhxcp</th>\n      <td>13nhxcp</td>\n      <td>SFWRedheads</td>\n      <td>Middle-Ad4300</td>\n      <td>Hello 👋🏻</td>\n      <td></td>\n      <td></td>\n      <td>/r/SFWRedheads/comments/13nhxcp/hello/</td>\n      <td>https://i.redd.it/1g3nvmrwv31b1.jpg</td>\n      <td>13nhxcp.jpg</td>\n      <td></td>\n      <td></td>\n      <td>False</td>\n      <td>False</td>\n      <td>False</td>\n      <td>[]</td>\n    </tr>\n    <tr>\n      <th>...</th>\n      <td>...</td>\n      <td>...</td>\n      <td>...</td>\n      <td>...</td>\n      <td>...</td>\n      <td>...</td>\n      <td>...</td>\n      <td>...</td>\n      <td>...</td>\n      <td>...</td>\n      <td>...</td>\n      <td>...</td>\n      <td>...</td>\n      <td>...</td>\n      <td>...</td>\n    </tr>\n    <tr>\n      <th>13no1on</th>\n      <td>13no1on</td>\n      <td>DLAH</td>\n      <td>Majestic_Painter8660</td>\n      <td>Tight dress, legs and heels</td>\n      <td></td>\n      <td></td>\n      <td>/r/DLAH/comments/13no1on/tight_dress_legs_and_...</td>\n      <td>https://i.redd.it/0pq456mci51b1.jpg</td>\n      <td>13no1on.jpg</td>\n      <td></td>\n      <td></td>\n      <td>False</td>\n      <td>False</td>\n      <td>False</td>\n      <td>[]</td>\n    </tr>\n    <tr>\n      <th>13nhylw</th>\n      <td>13nhylw</td>\n      <td>bathandbodyworks</td>\n      <td>BathbeautyXO</td>\n      <td>(Late) February/valentines empties! 💕❤️💖</td>\n      <td></td>\n      <td></td>\n      <td>/r/bathandbodyworks/comments/13nhylw/late_febr...</td>\n      <td>https://i.redd.it/t2yvxblvd51b1.jpg</td>\n      <td>13nhylw.jpg</td>\n      <td></td>\n      <td></td>\n      <td>False</td>\n      <td>False</td>\n      <td>False</td>\n      <td>[]</td>\n    </tr>\n    <tr>\n      <th>13nlz14</th>\n      <td>13nlz14</td>\n      <td>bathandbodyworks</td>\n      <td>Fresh-Blueberry-milk</td>\n      <td>figured this would be appreciated 😏 also what ...</td>\n      <td></td>\n      <td></td>\n      <td>/r/bathandbodyworks/comments/13nlz14/figured_t...</td>\n      <td>https://i.redd.it/or6fujdmf61b1.jpg</td>\n      <td>13nlz14.jpg</td>\n      <td></td>\n      <td></td>\n      <td>False</td>\n      <td>False</td>\n      <td>False</td>\n      <td>[]</td>\n    </tr>\n    <tr>\n      <th>13npfx3</th>\n      <td>13npfx3</td>\n      <td>bathandbodyworks</td>\n      <td>singshopsleep</td>\n      <td>All of Today's Offers</td>\n      <td></td>\n      <td></td>\n      <td>/r/bathandbodyworks/comments/13npfx3/all_of_to...</td>\n      <td>https://i.redd.it/skqywk3qd71b1.jpg</td>\n      <td>13npfx3.jpg</td>\n      <td></td>\n      <td></td>\n      <td>False</td>\n      <td>False</td>\n      <td>False</td>\n      <td>[]</td>\n    </tr>\n    <tr>\n      <th>13nnpg1</th>\n      <td>13nnpg1</td>\n      <td>AesPleasingAsianGirls</td>\n      <td>miazinhaaaa</td>\n      <td>I love this beach (Copacabana)</td>\n      <td></td>\n      <td></td>\n      <td>/r/AesPleasingAsianGirls/comments/13nnpg1/i_lo...</td>\n      <td>https://i.redd.it/7udfhs8ow61b1.jpg</td>\n      <td>13nnpg1.jpg</td>\n      <td></td>\n      <td></td>\n      <td>False</td>\n      <td>False</td>\n      <td>False</td>\n      <td>[]</td>\n    </tr>\n  </tbody>\n</table>\n<p>99 rows × 15 columns</p>\n</div>"
     },
     "metadata": {},
     "output_type": "display_data"
    },
    {
     "name": "stdout",
     "output_type": "stream",
     "text": [
      "CPU times: total: 78.1 ms\n",
      "Wall time: 94 ms\n"
     ]
    }
   ],
   "source": [
    "%%time\n",
    "\n",
    "filtered = temp_data[~temp_data['id'].isin(extant_data.index.values) & temp_data['original_url'].str.endswith('.jpg') & (~temp_data['id'].isin(curated_data.index.values))]\n",
    "filtered.dropna(axis=1, how='all')\n",
    "filtered.reset_index(drop=True, inplace=True)\n",
    "filtered.set_index('id', inplace=True, drop=False)\n",
    "display(\"==== FILTERED DATA ====\")\n",
    "display(filtered.shape)\n",
    "display(filtered)"
   ],
   "metadata": {
    "collapsed": false,
    "ExecuteTime": {
     "end_time": "2023-05-21T12:06:00.378577Z",
     "start_time": "2023-05-21T12:06:00.109582200Z"
    }
   }
  },
  {
   "cell_type": "code",
   "execution_count": 12,
   "outputs": [
    {
     "name": "stderr",
     "output_type": "stream",
     "text": [
      "Progress: 100%|██████████| 99/99 [00:00<00:00, 16502.51it/s]\n",
      "<timed exec>:1: SettingWithCopyWarning: \n",
      "A value is trying to be set on a copy of a slice from a DataFrame.\n",
      "Try using .loc[row_indexer,col_indexer] = value instead\n",
      "\n",
      "See the caveats in the documentation: https://pandas.pydata.org/pandas-docs/stable/user_guide/indexing.html#returning-a-view-versus-a-copy\n"
     ]
    },
    {
     "data": {
      "text/plain": "'== Filtered Data With Model =='"
     },
     "metadata": {},
     "output_type": "display_data"
    },
    {
     "data": {
      "text/plain": "(99, 15)"
     },
     "metadata": {},
     "output_type": "display_data"
    },
    {
     "data": {
      "text/plain": "              id              subreddit                author   \nid                                                              \n13hgme0  13hgme0            SFWRedheads          Redhotwife88  \\\n13ibnsi  13ibnsi            SFWRedheads       Dasharkiss_real   \n13imeet  13imeet            SFWRedheads             imjenrose   \n13jm7mh  13jm7mh            SFWRedheads          Redhotwife88   \n13nhxcp  13nhxcp            SFWRedheads         Middle-Ad4300   \n...          ...                    ...                   ...   \n13no1on  13no1on                   DLAH  Majestic_Painter8660   \n13nhylw  13nhylw       bathandbodyworks          BathbeautyXO   \n13nlz14  13nlz14       bathandbodyworks  Fresh-Blueberry-milk   \n13npfx3  13npfx3       bathandbodyworks         singshopsleep   \n13nnpg1  13nnpg1  AesPleasingAsianGirls           miazinhaaaa   \n\n                                                     title caption hash   \nid                                                                        \n13hgme0     I Love wearing my Leather Pants and Heels! [F]               \\\n13ibnsi  I can live without money but I can't live with...                \n13imeet              Adorable girl to make your day better                \n13jm7mh      Do I look Cute for my Anniversary Dinner? [F]                \n13nhxcp                                           Hello 👋🏻                \n...                                                    ...     ...  ...   \n13no1on                        Tight dress, legs and heels                \n13nhylw           (Late) February/valentines empties! 💕❤️💖                \n13nlz14  figured this would be appreciated 😏 also what ...                \n13npfx3                              All of Today's Offers                \n13nnpg1                     I love this beach (Copacabana)                \n\n                                                 permalink   \nid                                                           \n13hgme0  /r/SFWRedheads/comments/13hgme0/i_love_wearing...  \\\n13ibnsi  /r/SFWRedheads/comments/13ibnsi/i_can_live_wit...   \n13imeet  /r/SFWRedheads/comments/13imeet/adorable_girl_...   \n13jm7mh  /r/SFWRedheads/comments/13jm7mh/do_i_look_cute...   \n13nhxcp             /r/SFWRedheads/comments/13nhxcp/hello/   \n...                                                    ...   \n13no1on  /r/DLAH/comments/13no1on/tight_dress_legs_and_...   \n13nhylw  /r/bathandbodyworks/comments/13nhylw/late_febr...   \n13nlz14  /r/bathandbodyworks/comments/13nlz14/figured_t...   \n13npfx3  /r/bathandbodyworks/comments/13npfx3/all_of_to...   \n13nnpg1  /r/AesPleasingAsianGirls/comments/13nnpg1/i_lo...   \n\n                                              original_url   image_name path   \nid                                                                             \n13hgme0    https://i.redgifs.com/i/frayedmadeupsparrow.jpg  13hgme0.jpg       \\\n13ibnsi    https://i.redgifs.com/i/imaginaryrawleveret.jpg  13ibnsi.jpg        \n13imeet  https://i.redgifs.com/i/dangerousfilthyhornedv...  13imeet.jpg        \n13jm7mh  https://i.redgifs.com/i/tensedarkmagentabedlin...  13jm7mh.jpg        \n13nhxcp                https://i.redd.it/1g3nvmrwv31b1.jpg  13nhxcp.jpg        \n...                                                    ...          ...  ...   \n13no1on                https://i.redd.it/0pq456mci51b1.jpg  13no1on.jpg        \n13nhylw                https://i.redd.it/t2yvxblvd51b1.jpg  13nhylw.jpg        \n13nlz14                https://i.redd.it/or6fujdmf61b1.jpg  13nlz14.jpg        \n13npfx3                https://i.redd.it/skqywk3qd71b1.jpg  13npfx3.jpg        \n13nnpg1                https://i.redd.it/7udfhs8ow61b1.jpg  13nnpg1.jpg        \n\n                       model  exists  curated accept tags  \nid                                                         \n13hgme0     RedHeadDiffusion   False    False  False   []  \n13ibnsi     RedHeadDiffusion   False    False  False   []  \n13imeet     RedHeadDiffusion   False    False  False   []  \n13jm7mh     RedHeadDiffusion   False    False  False   []  \n13nhxcp     RedHeadDiffusion   False    False  False   []  \n...                      ...     ...      ...    ...  ...  \n13no1on  PrettyGirlDiffusion   False    False  False   []  \n13nhylw      CandleDiffusion   False    False  False   []  \n13nlz14      CandleDiffusion   False    False  False   []  \n13npfx3      CandleDiffusion   False    False  False   []  \n13nnpg1   SexyAsianDiffusion   False    False  False   []  \n\n[99 rows x 15 columns]",
      "text/html": "<div>\n<style scoped>\n    .dataframe tbody tr th:only-of-type {\n        vertical-align: middle;\n    }\n\n    .dataframe tbody tr th {\n        vertical-align: top;\n    }\n\n    .dataframe thead th {\n        text-align: right;\n    }\n</style>\n<table border=\"1\" class=\"dataframe\">\n  <thead>\n    <tr style=\"text-align: right;\">\n      <th></th>\n      <th>id</th>\n      <th>subreddit</th>\n      <th>author</th>\n      <th>title</th>\n      <th>caption</th>\n      <th>hash</th>\n      <th>permalink</th>\n      <th>original_url</th>\n      <th>image_name</th>\n      <th>path</th>\n      <th>model</th>\n      <th>exists</th>\n      <th>curated</th>\n      <th>accept</th>\n      <th>tags</th>\n    </tr>\n    <tr>\n      <th>id</th>\n      <th></th>\n      <th></th>\n      <th></th>\n      <th></th>\n      <th></th>\n      <th></th>\n      <th></th>\n      <th></th>\n      <th></th>\n      <th></th>\n      <th></th>\n      <th></th>\n      <th></th>\n      <th></th>\n      <th></th>\n    </tr>\n  </thead>\n  <tbody>\n    <tr>\n      <th>13hgme0</th>\n      <td>13hgme0</td>\n      <td>SFWRedheads</td>\n      <td>Redhotwife88</td>\n      <td>I Love wearing my Leather Pants and Heels! [F]</td>\n      <td></td>\n      <td></td>\n      <td>/r/SFWRedheads/comments/13hgme0/i_love_wearing...</td>\n      <td>https://i.redgifs.com/i/frayedmadeupsparrow.jpg</td>\n      <td>13hgme0.jpg</td>\n      <td></td>\n      <td>RedHeadDiffusion</td>\n      <td>False</td>\n      <td>False</td>\n      <td>False</td>\n      <td>[]</td>\n    </tr>\n    <tr>\n      <th>13ibnsi</th>\n      <td>13ibnsi</td>\n      <td>SFWRedheads</td>\n      <td>Dasharkiss_real</td>\n      <td>I can live without money but I can't live with...</td>\n      <td></td>\n      <td></td>\n      <td>/r/SFWRedheads/comments/13ibnsi/i_can_live_wit...</td>\n      <td>https://i.redgifs.com/i/imaginaryrawleveret.jpg</td>\n      <td>13ibnsi.jpg</td>\n      <td></td>\n      <td>RedHeadDiffusion</td>\n      <td>False</td>\n      <td>False</td>\n      <td>False</td>\n      <td>[]</td>\n    </tr>\n    <tr>\n      <th>13imeet</th>\n      <td>13imeet</td>\n      <td>SFWRedheads</td>\n      <td>imjenrose</td>\n      <td>Adorable girl to make your day better</td>\n      <td></td>\n      <td></td>\n      <td>/r/SFWRedheads/comments/13imeet/adorable_girl_...</td>\n      <td>https://i.redgifs.com/i/dangerousfilthyhornedv...</td>\n      <td>13imeet.jpg</td>\n      <td></td>\n      <td>RedHeadDiffusion</td>\n      <td>False</td>\n      <td>False</td>\n      <td>False</td>\n      <td>[]</td>\n    </tr>\n    <tr>\n      <th>13jm7mh</th>\n      <td>13jm7mh</td>\n      <td>SFWRedheads</td>\n      <td>Redhotwife88</td>\n      <td>Do I look Cute for my Anniversary Dinner? [F]</td>\n      <td></td>\n      <td></td>\n      <td>/r/SFWRedheads/comments/13jm7mh/do_i_look_cute...</td>\n      <td>https://i.redgifs.com/i/tensedarkmagentabedlin...</td>\n      <td>13jm7mh.jpg</td>\n      <td></td>\n      <td>RedHeadDiffusion</td>\n      <td>False</td>\n      <td>False</td>\n      <td>False</td>\n      <td>[]</td>\n    </tr>\n    <tr>\n      <th>13nhxcp</th>\n      <td>13nhxcp</td>\n      <td>SFWRedheads</td>\n      <td>Middle-Ad4300</td>\n      <td>Hello 👋🏻</td>\n      <td></td>\n      <td></td>\n      <td>/r/SFWRedheads/comments/13nhxcp/hello/</td>\n      <td>https://i.redd.it/1g3nvmrwv31b1.jpg</td>\n      <td>13nhxcp.jpg</td>\n      <td></td>\n      <td>RedHeadDiffusion</td>\n      <td>False</td>\n      <td>False</td>\n      <td>False</td>\n      <td>[]</td>\n    </tr>\n    <tr>\n      <th>...</th>\n      <td>...</td>\n      <td>...</td>\n      <td>...</td>\n      <td>...</td>\n      <td>...</td>\n      <td>...</td>\n      <td>...</td>\n      <td>...</td>\n      <td>...</td>\n      <td>...</td>\n      <td>...</td>\n      <td>...</td>\n      <td>...</td>\n      <td>...</td>\n      <td>...</td>\n    </tr>\n    <tr>\n      <th>13no1on</th>\n      <td>13no1on</td>\n      <td>DLAH</td>\n      <td>Majestic_Painter8660</td>\n      <td>Tight dress, legs and heels</td>\n      <td></td>\n      <td></td>\n      <td>/r/DLAH/comments/13no1on/tight_dress_legs_and_...</td>\n      <td>https://i.redd.it/0pq456mci51b1.jpg</td>\n      <td>13no1on.jpg</td>\n      <td></td>\n      <td>PrettyGirlDiffusion</td>\n      <td>False</td>\n      <td>False</td>\n      <td>False</td>\n      <td>[]</td>\n    </tr>\n    <tr>\n      <th>13nhylw</th>\n      <td>13nhylw</td>\n      <td>bathandbodyworks</td>\n      <td>BathbeautyXO</td>\n      <td>(Late) February/valentines empties! 💕❤️💖</td>\n      <td></td>\n      <td></td>\n      <td>/r/bathandbodyworks/comments/13nhylw/late_febr...</td>\n      <td>https://i.redd.it/t2yvxblvd51b1.jpg</td>\n      <td>13nhylw.jpg</td>\n      <td></td>\n      <td>CandleDiffusion</td>\n      <td>False</td>\n      <td>False</td>\n      <td>False</td>\n      <td>[]</td>\n    </tr>\n    <tr>\n      <th>13nlz14</th>\n      <td>13nlz14</td>\n      <td>bathandbodyworks</td>\n      <td>Fresh-Blueberry-milk</td>\n      <td>figured this would be appreciated 😏 also what ...</td>\n      <td></td>\n      <td></td>\n      <td>/r/bathandbodyworks/comments/13nlz14/figured_t...</td>\n      <td>https://i.redd.it/or6fujdmf61b1.jpg</td>\n      <td>13nlz14.jpg</td>\n      <td></td>\n      <td>CandleDiffusion</td>\n      <td>False</td>\n      <td>False</td>\n      <td>False</td>\n      <td>[]</td>\n    </tr>\n    <tr>\n      <th>13npfx3</th>\n      <td>13npfx3</td>\n      <td>bathandbodyworks</td>\n      <td>singshopsleep</td>\n      <td>All of Today's Offers</td>\n      <td></td>\n      <td></td>\n      <td>/r/bathandbodyworks/comments/13npfx3/all_of_to...</td>\n      <td>https://i.redd.it/skqywk3qd71b1.jpg</td>\n      <td>13npfx3.jpg</td>\n      <td></td>\n      <td>CandleDiffusion</td>\n      <td>False</td>\n      <td>False</td>\n      <td>False</td>\n      <td>[]</td>\n    </tr>\n    <tr>\n      <th>13nnpg1</th>\n      <td>13nnpg1</td>\n      <td>AesPleasingAsianGirls</td>\n      <td>miazinhaaaa</td>\n      <td>I love this beach (Copacabana)</td>\n      <td></td>\n      <td></td>\n      <td>/r/AesPleasingAsianGirls/comments/13nnpg1/i_lo...</td>\n      <td>https://i.redd.it/7udfhs8ow61b1.jpg</td>\n      <td>13nnpg1.jpg</td>\n      <td></td>\n      <td>SexyAsianDiffusion</td>\n      <td>False</td>\n      <td>False</td>\n      <td>False</td>\n      <td>[]</td>\n    </tr>\n  </tbody>\n</table>\n<p>99 rows × 15 columns</p>\n</div>"
     },
     "metadata": {},
     "output_type": "display_data"
    },
    {
     "name": "stdout",
     "output_type": "stream",
     "text": [
      "CPU times: total: 78.1 ms\n",
      "Wall time: 75 ms\n"
     ]
    }
   ],
   "source": [
    "%%time\n",
    "\n",
    "filtered['model'] = filtered.progress_apply(lambda x: functions.add_source(x, sources), axis=1)\n",
    "\n",
    "display(\"== Filtered Data With Model ==\")\n",
    "display(filtered.shape)\n",
    "display(filtered)"
   ],
   "metadata": {
    "collapsed": false,
    "ExecuteTime": {
     "end_time": "2023-05-21T12:06:00.832577Z",
     "start_time": "2023-05-21T12:06:00.211576400Z"
    }
   }
  },
  {
   "cell_type": "code",
   "execution_count": 13,
   "outputs": [
    {
     "name": "stderr",
     "output_type": "stream",
     "text": [
      "Progress: 100%|██████████| 99/99 [00:51<00:00,  1.94it/s]\n",
      "<timed exec>:3: SettingWithCopyWarning: \n",
      "A value is trying to be set on a copy of a slice from a DataFrame.\n",
      "Try using .loc[row_indexer,col_indexer] = value instead\n",
      "\n",
      "See the caveats in the documentation: https://pandas.pydata.org/pandas-docs/stable/user_guide/indexing.html#returning-a-view-versus-a-copy\n"
     ]
    },
    {
     "data": {
      "text/plain": "'== Filtered Data With Path =='"
     },
     "metadata": {},
     "output_type": "display_data"
    },
    {
     "data": {
      "text/plain": "(99, 15)"
     },
     "metadata": {},
     "output_type": "display_data"
    },
    {
     "data": {
      "text/plain": "              id              subreddit                author   \nid                                                              \n13hgme0  13hgme0            SFWRedheads          Redhotwife88  \\\n13ibnsi  13ibnsi            SFWRedheads       Dasharkiss_real   \n13imeet  13imeet            SFWRedheads             imjenrose   \n13jm7mh  13jm7mh            SFWRedheads          Redhotwife88   \n13nhxcp  13nhxcp            SFWRedheads         Middle-Ad4300   \n...          ...                    ...                   ...   \n13no1on  13no1on                   DLAH  Majestic_Painter8660   \n13nhylw  13nhylw       bathandbodyworks          BathbeautyXO   \n13nlz14  13nlz14       bathandbodyworks  Fresh-Blueberry-milk   \n13npfx3  13npfx3       bathandbodyworks         singshopsleep   \n13nnpg1  13nnpg1  AesPleasingAsianGirls           miazinhaaaa   \n\n                                                     title caption hash   \nid                                                                        \n13hgme0     I Love wearing my Leather Pants and Heels! [F]               \\\n13ibnsi  I can live without money but I can't live with...                \n13imeet              Adorable girl to make your day better                \n13jm7mh      Do I look Cute for my Anniversary Dinner? [F]                \n13nhxcp                                           Hello 👋🏻                \n...                                                    ...     ...  ...   \n13no1on                        Tight dress, legs and heels                \n13nhylw           (Late) February/valentines empties! 💕❤️💖                \n13nlz14  figured this would be appreciated 😏 also what ...                \n13npfx3                              All of Today's Offers                \n13nnpg1                     I love this beach (Copacabana)                \n\n                                                 permalink   \nid                                                           \n13hgme0  /r/SFWRedheads/comments/13hgme0/i_love_wearing...  \\\n13ibnsi  /r/SFWRedheads/comments/13ibnsi/i_can_live_wit...   \n13imeet  /r/SFWRedheads/comments/13imeet/adorable_girl_...   \n13jm7mh  /r/SFWRedheads/comments/13jm7mh/do_i_look_cute...   \n13nhxcp             /r/SFWRedheads/comments/13nhxcp/hello/   \n...                                                    ...   \n13no1on  /r/DLAH/comments/13no1on/tight_dress_legs_and_...   \n13nhylw  /r/bathandbodyworks/comments/13nhylw/late_febr...   \n13nlz14  /r/bathandbodyworks/comments/13nlz14/figured_t...   \n13npfx3  /r/bathandbodyworks/comments/13npfx3/all_of_to...   \n13nnpg1  /r/AesPleasingAsianGirls/comments/13nnpg1/i_lo...   \n\n                                              original_url   image_name   \nid                                                                        \n13hgme0    https://i.redgifs.com/i/frayedmadeupsparrow.jpg  13hgme0.jpg  \\\n13ibnsi    https://i.redgifs.com/i/imaginaryrawleveret.jpg  13ibnsi.jpg   \n13imeet  https://i.redgifs.com/i/dangerousfilthyhornedv...  13imeet.jpg   \n13jm7mh  https://i.redgifs.com/i/tensedarkmagentabedlin...  13jm7mh.jpg   \n13nhxcp                https://i.redd.it/1g3nvmrwv31b1.jpg  13nhxcp.jpg   \n...                                                    ...          ...   \n13no1on                https://i.redd.it/0pq456mci51b1.jpg  13no1on.jpg   \n13nhylw                https://i.redd.it/t2yvxblvd51b1.jpg  13nhylw.jpg   \n13nlz14                https://i.redd.it/or6fujdmf61b1.jpg  13nlz14.jpg   \n13npfx3                https://i.redd.it/skqywk3qd71b1.jpg  13npfx3.jpg   \n13nnpg1                https://i.redd.it/7udfhs8ow61b1.jpg  13nnpg1.jpg   \n\n                           path                model  exists  curated accept   \nid                                                                             \n13hgme0                             RedHeadDiffusion   False    False  False  \\\n13ibnsi                             RedHeadDiffusion   False    False  False   \n13imeet                             RedHeadDiffusion   False    False  False   \n13jm7mh                             RedHeadDiffusion   False    False  False   \n13nhxcp  data/image/13nhxcp.jpg     RedHeadDiffusion   False    False  False   \n...                         ...                  ...     ...      ...    ...   \n13no1on  data/image/13no1on.jpg  PrettyGirlDiffusion   False    False  False   \n13nhylw  data/image/13nhylw.jpg      CandleDiffusion   False    False  False   \n13nlz14  data/image/13nlz14.jpg      CandleDiffusion   False    False  False   \n13npfx3  data/image/13npfx3.jpg      CandleDiffusion   False    False  False   \n13nnpg1  data/image/13nnpg1.jpg   SexyAsianDiffusion   False    False  False   \n\n        tags  \nid            \n13hgme0   []  \n13ibnsi   []  \n13imeet   []  \n13jm7mh   []  \n13nhxcp   []  \n...      ...  \n13no1on   []  \n13nhylw   []  \n13nlz14   []  \n13npfx3   []  \n13nnpg1   []  \n\n[99 rows x 15 columns]",
      "text/html": "<div>\n<style scoped>\n    .dataframe tbody tr th:only-of-type {\n        vertical-align: middle;\n    }\n\n    .dataframe tbody tr th {\n        vertical-align: top;\n    }\n\n    .dataframe thead th {\n        text-align: right;\n    }\n</style>\n<table border=\"1\" class=\"dataframe\">\n  <thead>\n    <tr style=\"text-align: right;\">\n      <th></th>\n      <th>id</th>\n      <th>subreddit</th>\n      <th>author</th>\n      <th>title</th>\n      <th>caption</th>\n      <th>hash</th>\n      <th>permalink</th>\n      <th>original_url</th>\n      <th>image_name</th>\n      <th>path</th>\n      <th>model</th>\n      <th>exists</th>\n      <th>curated</th>\n      <th>accept</th>\n      <th>tags</th>\n    </tr>\n    <tr>\n      <th>id</th>\n      <th></th>\n      <th></th>\n      <th></th>\n      <th></th>\n      <th></th>\n      <th></th>\n      <th></th>\n      <th></th>\n      <th></th>\n      <th></th>\n      <th></th>\n      <th></th>\n      <th></th>\n      <th></th>\n      <th></th>\n    </tr>\n  </thead>\n  <tbody>\n    <tr>\n      <th>13hgme0</th>\n      <td>13hgme0</td>\n      <td>SFWRedheads</td>\n      <td>Redhotwife88</td>\n      <td>I Love wearing my Leather Pants and Heels! [F]</td>\n      <td></td>\n      <td></td>\n      <td>/r/SFWRedheads/comments/13hgme0/i_love_wearing...</td>\n      <td>https://i.redgifs.com/i/frayedmadeupsparrow.jpg</td>\n      <td>13hgme0.jpg</td>\n      <td></td>\n      <td>RedHeadDiffusion</td>\n      <td>False</td>\n      <td>False</td>\n      <td>False</td>\n      <td>[]</td>\n    </tr>\n    <tr>\n      <th>13ibnsi</th>\n      <td>13ibnsi</td>\n      <td>SFWRedheads</td>\n      <td>Dasharkiss_real</td>\n      <td>I can live without money but I can't live with...</td>\n      <td></td>\n      <td></td>\n      <td>/r/SFWRedheads/comments/13ibnsi/i_can_live_wit...</td>\n      <td>https://i.redgifs.com/i/imaginaryrawleveret.jpg</td>\n      <td>13ibnsi.jpg</td>\n      <td></td>\n      <td>RedHeadDiffusion</td>\n      <td>False</td>\n      <td>False</td>\n      <td>False</td>\n      <td>[]</td>\n    </tr>\n    <tr>\n      <th>13imeet</th>\n      <td>13imeet</td>\n      <td>SFWRedheads</td>\n      <td>imjenrose</td>\n      <td>Adorable girl to make your day better</td>\n      <td></td>\n      <td></td>\n      <td>/r/SFWRedheads/comments/13imeet/adorable_girl_...</td>\n      <td>https://i.redgifs.com/i/dangerousfilthyhornedv...</td>\n      <td>13imeet.jpg</td>\n      <td></td>\n      <td>RedHeadDiffusion</td>\n      <td>False</td>\n      <td>False</td>\n      <td>False</td>\n      <td>[]</td>\n    </tr>\n    <tr>\n      <th>13jm7mh</th>\n      <td>13jm7mh</td>\n      <td>SFWRedheads</td>\n      <td>Redhotwife88</td>\n      <td>Do I look Cute for my Anniversary Dinner? [F]</td>\n      <td></td>\n      <td></td>\n      <td>/r/SFWRedheads/comments/13jm7mh/do_i_look_cute...</td>\n      <td>https://i.redgifs.com/i/tensedarkmagentabedlin...</td>\n      <td>13jm7mh.jpg</td>\n      <td></td>\n      <td>RedHeadDiffusion</td>\n      <td>False</td>\n      <td>False</td>\n      <td>False</td>\n      <td>[]</td>\n    </tr>\n    <tr>\n      <th>13nhxcp</th>\n      <td>13nhxcp</td>\n      <td>SFWRedheads</td>\n      <td>Middle-Ad4300</td>\n      <td>Hello 👋🏻</td>\n      <td></td>\n      <td></td>\n      <td>/r/SFWRedheads/comments/13nhxcp/hello/</td>\n      <td>https://i.redd.it/1g3nvmrwv31b1.jpg</td>\n      <td>13nhxcp.jpg</td>\n      <td>data/image/13nhxcp.jpg</td>\n      <td>RedHeadDiffusion</td>\n      <td>False</td>\n      <td>False</td>\n      <td>False</td>\n      <td>[]</td>\n    </tr>\n    <tr>\n      <th>...</th>\n      <td>...</td>\n      <td>...</td>\n      <td>...</td>\n      <td>...</td>\n      <td>...</td>\n      <td>...</td>\n      <td>...</td>\n      <td>...</td>\n      <td>...</td>\n      <td>...</td>\n      <td>...</td>\n      <td>...</td>\n      <td>...</td>\n      <td>...</td>\n      <td>...</td>\n    </tr>\n    <tr>\n      <th>13no1on</th>\n      <td>13no1on</td>\n      <td>DLAH</td>\n      <td>Majestic_Painter8660</td>\n      <td>Tight dress, legs and heels</td>\n      <td></td>\n      <td></td>\n      <td>/r/DLAH/comments/13no1on/tight_dress_legs_and_...</td>\n      <td>https://i.redd.it/0pq456mci51b1.jpg</td>\n      <td>13no1on.jpg</td>\n      <td>data/image/13no1on.jpg</td>\n      <td>PrettyGirlDiffusion</td>\n      <td>False</td>\n      <td>False</td>\n      <td>False</td>\n      <td>[]</td>\n    </tr>\n    <tr>\n      <th>13nhylw</th>\n      <td>13nhylw</td>\n      <td>bathandbodyworks</td>\n      <td>BathbeautyXO</td>\n      <td>(Late) February/valentines empties! 💕❤️💖</td>\n      <td></td>\n      <td></td>\n      <td>/r/bathandbodyworks/comments/13nhylw/late_febr...</td>\n      <td>https://i.redd.it/t2yvxblvd51b1.jpg</td>\n      <td>13nhylw.jpg</td>\n      <td>data/image/13nhylw.jpg</td>\n      <td>CandleDiffusion</td>\n      <td>False</td>\n      <td>False</td>\n      <td>False</td>\n      <td>[]</td>\n    </tr>\n    <tr>\n      <th>13nlz14</th>\n      <td>13nlz14</td>\n      <td>bathandbodyworks</td>\n      <td>Fresh-Blueberry-milk</td>\n      <td>figured this would be appreciated 😏 also what ...</td>\n      <td></td>\n      <td></td>\n      <td>/r/bathandbodyworks/comments/13nlz14/figured_t...</td>\n      <td>https://i.redd.it/or6fujdmf61b1.jpg</td>\n      <td>13nlz14.jpg</td>\n      <td>data/image/13nlz14.jpg</td>\n      <td>CandleDiffusion</td>\n      <td>False</td>\n      <td>False</td>\n      <td>False</td>\n      <td>[]</td>\n    </tr>\n    <tr>\n      <th>13npfx3</th>\n      <td>13npfx3</td>\n      <td>bathandbodyworks</td>\n      <td>singshopsleep</td>\n      <td>All of Today's Offers</td>\n      <td></td>\n      <td></td>\n      <td>/r/bathandbodyworks/comments/13npfx3/all_of_to...</td>\n      <td>https://i.redd.it/skqywk3qd71b1.jpg</td>\n      <td>13npfx3.jpg</td>\n      <td>data/image/13npfx3.jpg</td>\n      <td>CandleDiffusion</td>\n      <td>False</td>\n      <td>False</td>\n      <td>False</td>\n      <td>[]</td>\n    </tr>\n    <tr>\n      <th>13nnpg1</th>\n      <td>13nnpg1</td>\n      <td>AesPleasingAsianGirls</td>\n      <td>miazinhaaaa</td>\n      <td>I love this beach (Copacabana)</td>\n      <td></td>\n      <td></td>\n      <td>/r/AesPleasingAsianGirls/comments/13nnpg1/i_lo...</td>\n      <td>https://i.redd.it/7udfhs8ow61b1.jpg</td>\n      <td>13nnpg1.jpg</td>\n      <td>data/image/13nnpg1.jpg</td>\n      <td>SexyAsianDiffusion</td>\n      <td>False</td>\n      <td>False</td>\n      <td>False</td>\n      <td>[]</td>\n    </tr>\n  </tbody>\n</table>\n<p>99 rows × 15 columns</p>\n</div>"
     },
     "metadata": {},
     "output_type": "display_data"
    },
    {
     "name": "stdout",
     "output_type": "stream",
     "text": [
      "CPU times: total: 1min 2s\n",
      "Wall time: 1min 54s\n"
     ]
    }
   ],
   "source": [
    "%%time\n",
    "\n",
    "file_list = file_system.ls(\"data/image\")\n",
    "\n",
    "filtered['path'] = filtered.progress_apply(lambda x: functions.fetch_image(x, file_list, file_system), axis=1)\n",
    "\n",
    "display(\"== Filtered Data With Path ==\")\n",
    "display(filtered.shape)\n",
    "display(filtered)"
   ],
   "metadata": {
    "collapsed": false,
    "ExecuteTime": {
     "end_time": "2023-05-21T12:07:55.054331600Z",
     "start_time": "2023-05-21T12:06:00.312573900Z"
    }
   }
  },
  {
   "cell_type": "code",
   "execution_count": 14,
   "outputs": [
    {
     "name": "stderr",
     "output_type": "stream",
     "text": [
      "Progress: 100%|██████████| 99/99 [00:00<00:00, 9897.89it/s]\n",
      "<timed exec>:1: SettingWithCopyWarning: \n",
      "A value is trying to be set on a copy of a slice from a DataFrame.\n",
      "Try using .loc[row_indexer,col_indexer] = value instead\n",
      "\n",
      "See the caveats in the documentation: https://pandas.pydata.org/pandas-docs/stable/user_guide/indexing.html#returning-a-view-versus-a-copy\n"
     ]
    },
    {
     "data": {
      "text/plain": "'== Filtered Data With Exists =='"
     },
     "metadata": {},
     "output_type": "display_data"
    },
    {
     "data": {
      "text/plain": "(99, 15)"
     },
     "metadata": {},
     "output_type": "display_data"
    },
    {
     "data": {
      "text/plain": "              id              subreddit                author   \nid                                                              \n13hgme0  13hgme0            SFWRedheads          Redhotwife88  \\\n13ibnsi  13ibnsi            SFWRedheads       Dasharkiss_real   \n13imeet  13imeet            SFWRedheads             imjenrose   \n13jm7mh  13jm7mh            SFWRedheads          Redhotwife88   \n13nhxcp  13nhxcp            SFWRedheads         Middle-Ad4300   \n...          ...                    ...                   ...   \n13no1on  13no1on                   DLAH  Majestic_Painter8660   \n13nhylw  13nhylw       bathandbodyworks          BathbeautyXO   \n13nlz14  13nlz14       bathandbodyworks  Fresh-Blueberry-milk   \n13npfx3  13npfx3       bathandbodyworks         singshopsleep   \n13nnpg1  13nnpg1  AesPleasingAsianGirls           miazinhaaaa   \n\n                                                     title caption hash   \nid                                                                        \n13hgme0     I Love wearing my Leather Pants and Heels! [F]               \\\n13ibnsi  I can live without money but I can't live with...                \n13imeet              Adorable girl to make your day better                \n13jm7mh      Do I look Cute for my Anniversary Dinner? [F]                \n13nhxcp                                           Hello 👋🏻                \n...                                                    ...     ...  ...   \n13no1on                        Tight dress, legs and heels                \n13nhylw           (Late) February/valentines empties! 💕❤️💖                \n13nlz14  figured this would be appreciated 😏 also what ...                \n13npfx3                              All of Today's Offers                \n13nnpg1                     I love this beach (Copacabana)                \n\n                                                 permalink   \nid                                                           \n13hgme0  /r/SFWRedheads/comments/13hgme0/i_love_wearing...  \\\n13ibnsi  /r/SFWRedheads/comments/13ibnsi/i_can_live_wit...   \n13imeet  /r/SFWRedheads/comments/13imeet/adorable_girl_...   \n13jm7mh  /r/SFWRedheads/comments/13jm7mh/do_i_look_cute...   \n13nhxcp             /r/SFWRedheads/comments/13nhxcp/hello/   \n...                                                    ...   \n13no1on  /r/DLAH/comments/13no1on/tight_dress_legs_and_...   \n13nhylw  /r/bathandbodyworks/comments/13nhylw/late_febr...   \n13nlz14  /r/bathandbodyworks/comments/13nlz14/figured_t...   \n13npfx3  /r/bathandbodyworks/comments/13npfx3/all_of_to...   \n13nnpg1  /r/AesPleasingAsianGirls/comments/13nnpg1/i_lo...   \n\n                                              original_url   image_name   \nid                                                                        \n13hgme0    https://i.redgifs.com/i/frayedmadeupsparrow.jpg  13hgme0.jpg  \\\n13ibnsi    https://i.redgifs.com/i/imaginaryrawleveret.jpg  13ibnsi.jpg   \n13imeet  https://i.redgifs.com/i/dangerousfilthyhornedv...  13imeet.jpg   \n13jm7mh  https://i.redgifs.com/i/tensedarkmagentabedlin...  13jm7mh.jpg   \n13nhxcp                https://i.redd.it/1g3nvmrwv31b1.jpg  13nhxcp.jpg   \n...                                                    ...          ...   \n13no1on                https://i.redd.it/0pq456mci51b1.jpg  13no1on.jpg   \n13nhylw                https://i.redd.it/t2yvxblvd51b1.jpg  13nhylw.jpg   \n13nlz14                https://i.redd.it/or6fujdmf61b1.jpg  13nlz14.jpg   \n13npfx3                https://i.redd.it/skqywk3qd71b1.jpg  13npfx3.jpg   \n13nnpg1                https://i.redd.it/7udfhs8ow61b1.jpg  13nnpg1.jpg   \n\n                           path                model  exists  curated accept   \nid                                                                             \n13hgme0                             RedHeadDiffusion   False    False  False  \\\n13ibnsi                             RedHeadDiffusion   False    False  False   \n13imeet                             RedHeadDiffusion   False    False  False   \n13jm7mh                             RedHeadDiffusion   False    False  False   \n13nhxcp  data/image/13nhxcp.jpg     RedHeadDiffusion    True    False  False   \n...                         ...                  ...     ...      ...    ...   \n13no1on  data/image/13no1on.jpg  PrettyGirlDiffusion    True    False  False   \n13nhylw  data/image/13nhylw.jpg      CandleDiffusion    True    False  False   \n13nlz14  data/image/13nlz14.jpg      CandleDiffusion    True    False  False   \n13npfx3  data/image/13npfx3.jpg      CandleDiffusion    True    False  False   \n13nnpg1  data/image/13nnpg1.jpg   SexyAsianDiffusion    True    False  False   \n\n        tags  \nid            \n13hgme0   []  \n13ibnsi   []  \n13imeet   []  \n13jm7mh   []  \n13nhxcp   []  \n...      ...  \n13no1on   []  \n13nhylw   []  \n13nlz14   []  \n13npfx3   []  \n13nnpg1   []  \n\n[99 rows x 15 columns]",
      "text/html": "<div>\n<style scoped>\n    .dataframe tbody tr th:only-of-type {\n        vertical-align: middle;\n    }\n\n    .dataframe tbody tr th {\n        vertical-align: top;\n    }\n\n    .dataframe thead th {\n        text-align: right;\n    }\n</style>\n<table border=\"1\" class=\"dataframe\">\n  <thead>\n    <tr style=\"text-align: right;\">\n      <th></th>\n      <th>id</th>\n      <th>subreddit</th>\n      <th>author</th>\n      <th>title</th>\n      <th>caption</th>\n      <th>hash</th>\n      <th>permalink</th>\n      <th>original_url</th>\n      <th>image_name</th>\n      <th>path</th>\n      <th>model</th>\n      <th>exists</th>\n      <th>curated</th>\n      <th>accept</th>\n      <th>tags</th>\n    </tr>\n    <tr>\n      <th>id</th>\n      <th></th>\n      <th></th>\n      <th></th>\n      <th></th>\n      <th></th>\n      <th></th>\n      <th></th>\n      <th></th>\n      <th></th>\n      <th></th>\n      <th></th>\n      <th></th>\n      <th></th>\n      <th></th>\n      <th></th>\n    </tr>\n  </thead>\n  <tbody>\n    <tr>\n      <th>13hgme0</th>\n      <td>13hgme0</td>\n      <td>SFWRedheads</td>\n      <td>Redhotwife88</td>\n      <td>I Love wearing my Leather Pants and Heels! [F]</td>\n      <td></td>\n      <td></td>\n      <td>/r/SFWRedheads/comments/13hgme0/i_love_wearing...</td>\n      <td>https://i.redgifs.com/i/frayedmadeupsparrow.jpg</td>\n      <td>13hgme0.jpg</td>\n      <td></td>\n      <td>RedHeadDiffusion</td>\n      <td>False</td>\n      <td>False</td>\n      <td>False</td>\n      <td>[]</td>\n    </tr>\n    <tr>\n      <th>13ibnsi</th>\n      <td>13ibnsi</td>\n      <td>SFWRedheads</td>\n      <td>Dasharkiss_real</td>\n      <td>I can live without money but I can't live with...</td>\n      <td></td>\n      <td></td>\n      <td>/r/SFWRedheads/comments/13ibnsi/i_can_live_wit...</td>\n      <td>https://i.redgifs.com/i/imaginaryrawleveret.jpg</td>\n      <td>13ibnsi.jpg</td>\n      <td></td>\n      <td>RedHeadDiffusion</td>\n      <td>False</td>\n      <td>False</td>\n      <td>False</td>\n      <td>[]</td>\n    </tr>\n    <tr>\n      <th>13imeet</th>\n      <td>13imeet</td>\n      <td>SFWRedheads</td>\n      <td>imjenrose</td>\n      <td>Adorable girl to make your day better</td>\n      <td></td>\n      <td></td>\n      <td>/r/SFWRedheads/comments/13imeet/adorable_girl_...</td>\n      <td>https://i.redgifs.com/i/dangerousfilthyhornedv...</td>\n      <td>13imeet.jpg</td>\n      <td></td>\n      <td>RedHeadDiffusion</td>\n      <td>False</td>\n      <td>False</td>\n      <td>False</td>\n      <td>[]</td>\n    </tr>\n    <tr>\n      <th>13jm7mh</th>\n      <td>13jm7mh</td>\n      <td>SFWRedheads</td>\n      <td>Redhotwife88</td>\n      <td>Do I look Cute for my Anniversary Dinner? [F]</td>\n      <td></td>\n      <td></td>\n      <td>/r/SFWRedheads/comments/13jm7mh/do_i_look_cute...</td>\n      <td>https://i.redgifs.com/i/tensedarkmagentabedlin...</td>\n      <td>13jm7mh.jpg</td>\n      <td></td>\n      <td>RedHeadDiffusion</td>\n      <td>False</td>\n      <td>False</td>\n      <td>False</td>\n      <td>[]</td>\n    </tr>\n    <tr>\n      <th>13nhxcp</th>\n      <td>13nhxcp</td>\n      <td>SFWRedheads</td>\n      <td>Middle-Ad4300</td>\n      <td>Hello 👋🏻</td>\n      <td></td>\n      <td></td>\n      <td>/r/SFWRedheads/comments/13nhxcp/hello/</td>\n      <td>https://i.redd.it/1g3nvmrwv31b1.jpg</td>\n      <td>13nhxcp.jpg</td>\n      <td>data/image/13nhxcp.jpg</td>\n      <td>RedHeadDiffusion</td>\n      <td>True</td>\n      <td>False</td>\n      <td>False</td>\n      <td>[]</td>\n    </tr>\n    <tr>\n      <th>...</th>\n      <td>...</td>\n      <td>...</td>\n      <td>...</td>\n      <td>...</td>\n      <td>...</td>\n      <td>...</td>\n      <td>...</td>\n      <td>...</td>\n      <td>...</td>\n      <td>...</td>\n      <td>...</td>\n      <td>...</td>\n      <td>...</td>\n      <td>...</td>\n      <td>...</td>\n    </tr>\n    <tr>\n      <th>13no1on</th>\n      <td>13no1on</td>\n      <td>DLAH</td>\n      <td>Majestic_Painter8660</td>\n      <td>Tight dress, legs and heels</td>\n      <td></td>\n      <td></td>\n      <td>/r/DLAH/comments/13no1on/tight_dress_legs_and_...</td>\n      <td>https://i.redd.it/0pq456mci51b1.jpg</td>\n      <td>13no1on.jpg</td>\n      <td>data/image/13no1on.jpg</td>\n      <td>PrettyGirlDiffusion</td>\n      <td>True</td>\n      <td>False</td>\n      <td>False</td>\n      <td>[]</td>\n    </tr>\n    <tr>\n      <th>13nhylw</th>\n      <td>13nhylw</td>\n      <td>bathandbodyworks</td>\n      <td>BathbeautyXO</td>\n      <td>(Late) February/valentines empties! 💕❤️💖</td>\n      <td></td>\n      <td></td>\n      <td>/r/bathandbodyworks/comments/13nhylw/late_febr...</td>\n      <td>https://i.redd.it/t2yvxblvd51b1.jpg</td>\n      <td>13nhylw.jpg</td>\n      <td>data/image/13nhylw.jpg</td>\n      <td>CandleDiffusion</td>\n      <td>True</td>\n      <td>False</td>\n      <td>False</td>\n      <td>[]</td>\n    </tr>\n    <tr>\n      <th>13nlz14</th>\n      <td>13nlz14</td>\n      <td>bathandbodyworks</td>\n      <td>Fresh-Blueberry-milk</td>\n      <td>figured this would be appreciated 😏 also what ...</td>\n      <td></td>\n      <td></td>\n      <td>/r/bathandbodyworks/comments/13nlz14/figured_t...</td>\n      <td>https://i.redd.it/or6fujdmf61b1.jpg</td>\n      <td>13nlz14.jpg</td>\n      <td>data/image/13nlz14.jpg</td>\n      <td>CandleDiffusion</td>\n      <td>True</td>\n      <td>False</td>\n      <td>False</td>\n      <td>[]</td>\n    </tr>\n    <tr>\n      <th>13npfx3</th>\n      <td>13npfx3</td>\n      <td>bathandbodyworks</td>\n      <td>singshopsleep</td>\n      <td>All of Today's Offers</td>\n      <td></td>\n      <td></td>\n      <td>/r/bathandbodyworks/comments/13npfx3/all_of_to...</td>\n      <td>https://i.redd.it/skqywk3qd71b1.jpg</td>\n      <td>13npfx3.jpg</td>\n      <td>data/image/13npfx3.jpg</td>\n      <td>CandleDiffusion</td>\n      <td>True</td>\n      <td>False</td>\n      <td>False</td>\n      <td>[]</td>\n    </tr>\n    <tr>\n      <th>13nnpg1</th>\n      <td>13nnpg1</td>\n      <td>AesPleasingAsianGirls</td>\n      <td>miazinhaaaa</td>\n      <td>I love this beach (Copacabana)</td>\n      <td></td>\n      <td></td>\n      <td>/r/AesPleasingAsianGirls/comments/13nnpg1/i_lo...</td>\n      <td>https://i.redd.it/7udfhs8ow61b1.jpg</td>\n      <td>13nnpg1.jpg</td>\n      <td>data/image/13nnpg1.jpg</td>\n      <td>SexyAsianDiffusion</td>\n      <td>True</td>\n      <td>False</td>\n      <td>False</td>\n      <td>[]</td>\n    </tr>\n  </tbody>\n</table>\n<p>99 rows × 15 columns</p>\n</div>"
     },
     "metadata": {},
     "output_type": "display_data"
    },
    {
     "name": "stdout",
     "output_type": "stream",
     "text": [
      "CPU times: total: 62.5 ms\n",
      "Wall time: 53 ms\n"
     ]
    }
   ],
   "source": [
    "%%time\n",
    "\n",
    "filtered['exists'] = filtered.progress_apply(lambda x: functions.set_exists(x), axis=1)\n",
    "\n",
    "display(\"== Filtered Data With Exists ==\")\n",
    "display(filtered.shape)\n",
    "display(filtered)"
   ],
   "metadata": {
    "collapsed": false,
    "ExecuteTime": {
     "end_time": "2023-05-21T12:07:55.300330200Z",
     "start_time": "2023-05-21T12:07:55.034327700Z"
    }
   }
  },
  {
   "cell_type": "code",
   "execution_count": 15,
   "outputs": [
    {
     "name": "stderr",
     "output_type": "stream",
     "text": [
      "Progress: 100%|██████████| 99/99 [00:00<00:00, 565.73it/s]\n",
      "<timed exec>:1: SettingWithCopyWarning: \n",
      "A value is trying to be set on a copy of a slice from a DataFrame.\n",
      "Try using .loc[row_indexer,col_indexer] = value instead\n",
      "\n",
      "See the caveats in the documentation: https://pandas.pydata.org/pandas-docs/stable/user_guide/indexing.html#returning-a-view-versus-a-copy\n"
     ]
    },
    {
     "data": {
      "text/plain": "'== Filtered Data With Hash =='"
     },
     "metadata": {},
     "output_type": "display_data"
    },
    {
     "data": {
      "text/plain": "(99, 15)"
     },
     "metadata": {},
     "output_type": "display_data"
    },
    {
     "data": {
      "text/plain": "              id              subreddit                author   \nid                                                              \n13hgme0  13hgme0            SFWRedheads          Redhotwife88  \\\n13ibnsi  13ibnsi            SFWRedheads       Dasharkiss_real   \n13imeet  13imeet            SFWRedheads             imjenrose   \n13jm7mh  13jm7mh            SFWRedheads          Redhotwife88   \n13nhxcp  13nhxcp            SFWRedheads         Middle-Ad4300   \n...          ...                    ...                   ...   \n13no1on  13no1on                   DLAH  Majestic_Painter8660   \n13nhylw  13nhylw       bathandbodyworks          BathbeautyXO   \n13nlz14  13nlz14       bathandbodyworks  Fresh-Blueberry-milk   \n13npfx3  13npfx3       bathandbodyworks         singshopsleep   \n13nnpg1  13nnpg1  AesPleasingAsianGirls           miazinhaaaa   \n\n                                                     title caption   \nid                                                                   \n13hgme0     I Love wearing my Leather Pants and Heels! [F]          \\\n13ibnsi  I can live without money but I can't live with...           \n13imeet              Adorable girl to make your day better           \n13jm7mh      Do I look Cute for my Anniversary Dinner? [F]           \n13nhxcp                                           Hello 👋🏻           \n...                                                    ...     ...   \n13no1on                        Tight dress, legs and heels           \n13nhylw           (Late) February/valentines empties! 💕❤️💖           \n13nlz14  figured this would be appreciated 😏 also what ...           \n13npfx3                              All of Today's Offers           \n13nnpg1                     I love this beach (Copacabana)           \n\n                                     hash   \nid                                          \n13hgme0                                    \\\n13ibnsi                                     \n13imeet                                     \n13jm7mh                                     \n13nhxcp  955d683562bc7177e5369c129030c888   \n...                                   ...   \n13no1on  dbab04d6a37e17e6cc6df9cfc16ed51e   \n13nhylw  7d79ab2ad5d7fe73454db01b4351388c   \n13nlz14  8b7dfc23aeb352024f0a696ab49351ae   \n13npfx3  635af0f6bb1a2b81c9ce46bd29374d72   \n13nnpg1  9f06af9e6fb671f8f828e62a0949a9af   \n\n                                                 permalink   \nid                                                           \n13hgme0  /r/SFWRedheads/comments/13hgme0/i_love_wearing...  \\\n13ibnsi  /r/SFWRedheads/comments/13ibnsi/i_can_live_wit...   \n13imeet  /r/SFWRedheads/comments/13imeet/adorable_girl_...   \n13jm7mh  /r/SFWRedheads/comments/13jm7mh/do_i_look_cute...   \n13nhxcp             /r/SFWRedheads/comments/13nhxcp/hello/   \n...                                                    ...   \n13no1on  /r/DLAH/comments/13no1on/tight_dress_legs_and_...   \n13nhylw  /r/bathandbodyworks/comments/13nhylw/late_febr...   \n13nlz14  /r/bathandbodyworks/comments/13nlz14/figured_t...   \n13npfx3  /r/bathandbodyworks/comments/13npfx3/all_of_to...   \n13nnpg1  /r/AesPleasingAsianGirls/comments/13nnpg1/i_lo...   \n\n                                              original_url   image_name   \nid                                                                        \n13hgme0    https://i.redgifs.com/i/frayedmadeupsparrow.jpg  13hgme0.jpg  \\\n13ibnsi    https://i.redgifs.com/i/imaginaryrawleveret.jpg  13ibnsi.jpg   \n13imeet  https://i.redgifs.com/i/dangerousfilthyhornedv...  13imeet.jpg   \n13jm7mh  https://i.redgifs.com/i/tensedarkmagentabedlin...  13jm7mh.jpg   \n13nhxcp                https://i.redd.it/1g3nvmrwv31b1.jpg  13nhxcp.jpg   \n...                                                    ...          ...   \n13no1on                https://i.redd.it/0pq456mci51b1.jpg  13no1on.jpg   \n13nhylw                https://i.redd.it/t2yvxblvd51b1.jpg  13nhylw.jpg   \n13nlz14                https://i.redd.it/or6fujdmf61b1.jpg  13nlz14.jpg   \n13npfx3                https://i.redd.it/skqywk3qd71b1.jpg  13npfx3.jpg   \n13nnpg1                https://i.redd.it/7udfhs8ow61b1.jpg  13nnpg1.jpg   \n\n                           path                model  exists  curated accept   \nid                                                                             \n13hgme0                             RedHeadDiffusion   False    False  False  \\\n13ibnsi                             RedHeadDiffusion   False    False  False   \n13imeet                             RedHeadDiffusion   False    False  False   \n13jm7mh                             RedHeadDiffusion   False    False  False   \n13nhxcp  data/image/13nhxcp.jpg     RedHeadDiffusion    True    False  False   \n...                         ...                  ...     ...      ...    ...   \n13no1on  data/image/13no1on.jpg  PrettyGirlDiffusion    True    False  False   \n13nhylw  data/image/13nhylw.jpg      CandleDiffusion    True    False  False   \n13nlz14  data/image/13nlz14.jpg      CandleDiffusion    True    False  False   \n13npfx3  data/image/13npfx3.jpg      CandleDiffusion    True    False  False   \n13nnpg1  data/image/13nnpg1.jpg   SexyAsianDiffusion    True    False  False   \n\n        tags  \nid            \n13hgme0   []  \n13ibnsi   []  \n13imeet   []  \n13jm7mh   []  \n13nhxcp   []  \n...      ...  \n13no1on   []  \n13nhylw   []  \n13nlz14   []  \n13npfx3   []  \n13nnpg1   []  \n\n[99 rows x 15 columns]",
      "text/html": "<div>\n<style scoped>\n    .dataframe tbody tr th:only-of-type {\n        vertical-align: middle;\n    }\n\n    .dataframe tbody tr th {\n        vertical-align: top;\n    }\n\n    .dataframe thead th {\n        text-align: right;\n    }\n</style>\n<table border=\"1\" class=\"dataframe\">\n  <thead>\n    <tr style=\"text-align: right;\">\n      <th></th>\n      <th>id</th>\n      <th>subreddit</th>\n      <th>author</th>\n      <th>title</th>\n      <th>caption</th>\n      <th>hash</th>\n      <th>permalink</th>\n      <th>original_url</th>\n      <th>image_name</th>\n      <th>path</th>\n      <th>model</th>\n      <th>exists</th>\n      <th>curated</th>\n      <th>accept</th>\n      <th>tags</th>\n    </tr>\n    <tr>\n      <th>id</th>\n      <th></th>\n      <th></th>\n      <th></th>\n      <th></th>\n      <th></th>\n      <th></th>\n      <th></th>\n      <th></th>\n      <th></th>\n      <th></th>\n      <th></th>\n      <th></th>\n      <th></th>\n      <th></th>\n      <th></th>\n    </tr>\n  </thead>\n  <tbody>\n    <tr>\n      <th>13hgme0</th>\n      <td>13hgme0</td>\n      <td>SFWRedheads</td>\n      <td>Redhotwife88</td>\n      <td>I Love wearing my Leather Pants and Heels! [F]</td>\n      <td></td>\n      <td></td>\n      <td>/r/SFWRedheads/comments/13hgme0/i_love_wearing...</td>\n      <td>https://i.redgifs.com/i/frayedmadeupsparrow.jpg</td>\n      <td>13hgme0.jpg</td>\n      <td></td>\n      <td>RedHeadDiffusion</td>\n      <td>False</td>\n      <td>False</td>\n      <td>False</td>\n      <td>[]</td>\n    </tr>\n    <tr>\n      <th>13ibnsi</th>\n      <td>13ibnsi</td>\n      <td>SFWRedheads</td>\n      <td>Dasharkiss_real</td>\n      <td>I can live without money but I can't live with...</td>\n      <td></td>\n      <td></td>\n      <td>/r/SFWRedheads/comments/13ibnsi/i_can_live_wit...</td>\n      <td>https://i.redgifs.com/i/imaginaryrawleveret.jpg</td>\n      <td>13ibnsi.jpg</td>\n      <td></td>\n      <td>RedHeadDiffusion</td>\n      <td>False</td>\n      <td>False</td>\n      <td>False</td>\n      <td>[]</td>\n    </tr>\n    <tr>\n      <th>13imeet</th>\n      <td>13imeet</td>\n      <td>SFWRedheads</td>\n      <td>imjenrose</td>\n      <td>Adorable girl to make your day better</td>\n      <td></td>\n      <td></td>\n      <td>/r/SFWRedheads/comments/13imeet/adorable_girl_...</td>\n      <td>https://i.redgifs.com/i/dangerousfilthyhornedv...</td>\n      <td>13imeet.jpg</td>\n      <td></td>\n      <td>RedHeadDiffusion</td>\n      <td>False</td>\n      <td>False</td>\n      <td>False</td>\n      <td>[]</td>\n    </tr>\n    <tr>\n      <th>13jm7mh</th>\n      <td>13jm7mh</td>\n      <td>SFWRedheads</td>\n      <td>Redhotwife88</td>\n      <td>Do I look Cute for my Anniversary Dinner? [F]</td>\n      <td></td>\n      <td></td>\n      <td>/r/SFWRedheads/comments/13jm7mh/do_i_look_cute...</td>\n      <td>https://i.redgifs.com/i/tensedarkmagentabedlin...</td>\n      <td>13jm7mh.jpg</td>\n      <td></td>\n      <td>RedHeadDiffusion</td>\n      <td>False</td>\n      <td>False</td>\n      <td>False</td>\n      <td>[]</td>\n    </tr>\n    <tr>\n      <th>13nhxcp</th>\n      <td>13nhxcp</td>\n      <td>SFWRedheads</td>\n      <td>Middle-Ad4300</td>\n      <td>Hello 👋🏻</td>\n      <td></td>\n      <td>955d683562bc7177e5369c129030c888</td>\n      <td>/r/SFWRedheads/comments/13nhxcp/hello/</td>\n      <td>https://i.redd.it/1g3nvmrwv31b1.jpg</td>\n      <td>13nhxcp.jpg</td>\n      <td>data/image/13nhxcp.jpg</td>\n      <td>RedHeadDiffusion</td>\n      <td>True</td>\n      <td>False</td>\n      <td>False</td>\n      <td>[]</td>\n    </tr>\n    <tr>\n      <th>...</th>\n      <td>...</td>\n      <td>...</td>\n      <td>...</td>\n      <td>...</td>\n      <td>...</td>\n      <td>...</td>\n      <td>...</td>\n      <td>...</td>\n      <td>...</td>\n      <td>...</td>\n      <td>...</td>\n      <td>...</td>\n      <td>...</td>\n      <td>...</td>\n      <td>...</td>\n    </tr>\n    <tr>\n      <th>13no1on</th>\n      <td>13no1on</td>\n      <td>DLAH</td>\n      <td>Majestic_Painter8660</td>\n      <td>Tight dress, legs and heels</td>\n      <td></td>\n      <td>dbab04d6a37e17e6cc6df9cfc16ed51e</td>\n      <td>/r/DLAH/comments/13no1on/tight_dress_legs_and_...</td>\n      <td>https://i.redd.it/0pq456mci51b1.jpg</td>\n      <td>13no1on.jpg</td>\n      <td>data/image/13no1on.jpg</td>\n      <td>PrettyGirlDiffusion</td>\n      <td>True</td>\n      <td>False</td>\n      <td>False</td>\n      <td>[]</td>\n    </tr>\n    <tr>\n      <th>13nhylw</th>\n      <td>13nhylw</td>\n      <td>bathandbodyworks</td>\n      <td>BathbeautyXO</td>\n      <td>(Late) February/valentines empties! 💕❤️💖</td>\n      <td></td>\n      <td>7d79ab2ad5d7fe73454db01b4351388c</td>\n      <td>/r/bathandbodyworks/comments/13nhylw/late_febr...</td>\n      <td>https://i.redd.it/t2yvxblvd51b1.jpg</td>\n      <td>13nhylw.jpg</td>\n      <td>data/image/13nhylw.jpg</td>\n      <td>CandleDiffusion</td>\n      <td>True</td>\n      <td>False</td>\n      <td>False</td>\n      <td>[]</td>\n    </tr>\n    <tr>\n      <th>13nlz14</th>\n      <td>13nlz14</td>\n      <td>bathandbodyworks</td>\n      <td>Fresh-Blueberry-milk</td>\n      <td>figured this would be appreciated 😏 also what ...</td>\n      <td></td>\n      <td>8b7dfc23aeb352024f0a696ab49351ae</td>\n      <td>/r/bathandbodyworks/comments/13nlz14/figured_t...</td>\n      <td>https://i.redd.it/or6fujdmf61b1.jpg</td>\n      <td>13nlz14.jpg</td>\n      <td>data/image/13nlz14.jpg</td>\n      <td>CandleDiffusion</td>\n      <td>True</td>\n      <td>False</td>\n      <td>False</td>\n      <td>[]</td>\n    </tr>\n    <tr>\n      <th>13npfx3</th>\n      <td>13npfx3</td>\n      <td>bathandbodyworks</td>\n      <td>singshopsleep</td>\n      <td>All of Today's Offers</td>\n      <td></td>\n      <td>635af0f6bb1a2b81c9ce46bd29374d72</td>\n      <td>/r/bathandbodyworks/comments/13npfx3/all_of_to...</td>\n      <td>https://i.redd.it/skqywk3qd71b1.jpg</td>\n      <td>13npfx3.jpg</td>\n      <td>data/image/13npfx3.jpg</td>\n      <td>CandleDiffusion</td>\n      <td>True</td>\n      <td>False</td>\n      <td>False</td>\n      <td>[]</td>\n    </tr>\n    <tr>\n      <th>13nnpg1</th>\n      <td>13nnpg1</td>\n      <td>AesPleasingAsianGirls</td>\n      <td>miazinhaaaa</td>\n      <td>I love this beach (Copacabana)</td>\n      <td></td>\n      <td>9f06af9e6fb671f8f828e62a0949a9af</td>\n      <td>/r/AesPleasingAsianGirls/comments/13nnpg1/i_lo...</td>\n      <td>https://i.redd.it/7udfhs8ow61b1.jpg</td>\n      <td>13nnpg1.jpg</td>\n      <td>data/image/13nnpg1.jpg</td>\n      <td>SexyAsianDiffusion</td>\n      <td>True</td>\n      <td>False</td>\n      <td>False</td>\n      <td>[]</td>\n    </tr>\n  </tbody>\n</table>\n<p>99 rows × 15 columns</p>\n</div>"
     },
     "metadata": {},
     "output_type": "display_data"
    },
    {
     "name": "stdout",
     "output_type": "stream",
     "text": [
      "CPU times: total: 219 ms\n",
      "Wall time: 209 ms\n"
     ]
    }
   ],
   "source": [
    "%%time\n",
    "\n",
    "filtered['hash'] = filtered.progress_apply(lambda x: functions.set_hash(x), axis=1)\n",
    "\n",
    "display(\"== Filtered Data With Hash ==\")\n",
    "display(filtered.shape)\n",
    "display(filtered)"
   ],
   "metadata": {
    "collapsed": false,
    "ExecuteTime": {
     "end_time": "2023-05-21T12:07:55.824333500Z",
     "start_time": "2023-05-21T12:07:55.104332100Z"
    }
   }
  },
  {
   "cell_type": "code",
   "execution_count": 16,
   "outputs": [
    {
     "name": "stdout",
     "output_type": "stream",
     "text": [
      "CPU times: total: 1min 33s\n",
      "Wall time: 1min 32s\n"
     ]
    }
   ],
   "source": [
    "%%time\n",
    "import torch\n",
    "if torch.cuda.is_available():\n",
    "\tcaption_0 = BlipCaption(\"cuda:0\")\n",
    "\tcaption_1 = BlipCaption(\"cuda:1\")\n",
    "else:\n",
    "\tcaption_0 = BlipCaption(\"cpu\")\n",
    "\tcaption_1 = BlipCaption(\"cpu\")"
   ],
   "metadata": {
    "collapsed": false,
    "ExecuteTime": {
     "end_time": "2023-05-21T12:09:28.243055100Z",
     "start_time": "2023-05-21T12:07:55.599329300Z"
    }
   }
  },
  {
   "cell_type": "code",
   "execution_count": 17,
   "outputs": [
    {
     "name": "stderr",
     "output_type": "stream",
     "text": [
      "Progress:   0%|          | 0/99 [00:00<?, ?it/s]D:\\code\\repos\\simple-collection\\venv\\lib\\site-packages\\transformers\\generation\\utils.py:1313: UserWarning: Using `max_length`'s default (20) to control the generation length. This behaviour is deprecated and will be removed from the config in v5 of Transformers -- we recommend using `max_new_tokens` to control the maximum length of the generation.\n",
      "  warnings.warn(\n",
      "Progress: 100%|██████████| 99/99 [02:12<00:00,  1.34s/it]\n",
      "<timed exec>:1: SettingWithCopyWarning: \n",
      "A value is trying to be set on a copy of a slice from a DataFrame.\n",
      "Try using .loc[row_indexer,col_indexer] = value instead\n",
      "\n",
      "See the caveats in the documentation: https://pandas.pydata.org/pandas-docs/stable/user_guide/indexing.html#returning-a-view-versus-a-copy\n"
     ]
    },
    {
     "data": {
      "text/plain": "'== Filtered Data With Caption =='"
     },
     "metadata": {},
     "output_type": "display_data"
    },
    {
     "data": {
      "text/plain": "(99, 15)"
     },
     "metadata": {},
     "output_type": "display_data"
    },
    {
     "data": {
      "text/plain": "              id              subreddit                author   \nid                                                              \n13hgme0  13hgme0            SFWRedheads          Redhotwife88  \\\n13ibnsi  13ibnsi            SFWRedheads       Dasharkiss_real   \n13imeet  13imeet            SFWRedheads             imjenrose   \n13jm7mh  13jm7mh            SFWRedheads          Redhotwife88   \n13nhxcp  13nhxcp            SFWRedheads         Middle-Ad4300   \n...          ...                    ...                   ...   \n13no1on  13no1on                   DLAH  Majestic_Painter8660   \n13nhylw  13nhylw       bathandbodyworks          BathbeautyXO   \n13nlz14  13nlz14       bathandbodyworks  Fresh-Blueberry-milk   \n13npfx3  13npfx3       bathandbodyworks         singshopsleep   \n13nnpg1  13nnpg1  AesPleasingAsianGirls           miazinhaaaa   \n\n                                                     title   \nid                                                           \n13hgme0     I Love wearing my Leather Pants and Heels! [F]  \\\n13ibnsi  I can live without money but I can't live with...   \n13imeet              Adorable girl to make your day better   \n13jm7mh      Do I look Cute for my Anniversary Dinner? [F]   \n13nhxcp                                           Hello 👋🏻   \n...                                                    ...   \n13no1on                        Tight dress, legs and heels   \n13nhylw           (Late) February/valentines empties! 💕❤️💖   \n13nlz14  figured this would be appreciated 😏 also what ...   \n13npfx3                              All of Today's Offers   \n13nnpg1                     I love this beach (Copacabana)   \n\n                                                   caption   \nid                                                           \n13hgme0                                                     \\\n13ibnsi                                                      \n13imeet                                                      \n13jm7mh                                                      \n13nhxcp  arafed woman sitting in a car with her legs cr...   \n...                                                    ...   \n13no1on      there is a woman sitting on a chair in a room   \n13nhylw  there are many different types of skin care pr...   \n13nlz14  someone is holding a bottle of lotion in their...   \n13npfx3  a poster with a variety of products for sale o...   \n13nnpg1  araffe woman in a white bikini standing on the...   \n\n                                     hash   \nid                                          \n13hgme0                                    \\\n13ibnsi                                     \n13imeet                                     \n13jm7mh                                     \n13nhxcp  955d683562bc7177e5369c129030c888   \n...                                   ...   \n13no1on  dbab04d6a37e17e6cc6df9cfc16ed51e   \n13nhylw  7d79ab2ad5d7fe73454db01b4351388c   \n13nlz14  8b7dfc23aeb352024f0a696ab49351ae   \n13npfx3  635af0f6bb1a2b81c9ce46bd29374d72   \n13nnpg1  9f06af9e6fb671f8f828e62a0949a9af   \n\n                                                 permalink   \nid                                                           \n13hgme0  /r/SFWRedheads/comments/13hgme0/i_love_wearing...  \\\n13ibnsi  /r/SFWRedheads/comments/13ibnsi/i_can_live_wit...   \n13imeet  /r/SFWRedheads/comments/13imeet/adorable_girl_...   \n13jm7mh  /r/SFWRedheads/comments/13jm7mh/do_i_look_cute...   \n13nhxcp             /r/SFWRedheads/comments/13nhxcp/hello/   \n...                                                    ...   \n13no1on  /r/DLAH/comments/13no1on/tight_dress_legs_and_...   \n13nhylw  /r/bathandbodyworks/comments/13nhylw/late_febr...   \n13nlz14  /r/bathandbodyworks/comments/13nlz14/figured_t...   \n13npfx3  /r/bathandbodyworks/comments/13npfx3/all_of_to...   \n13nnpg1  /r/AesPleasingAsianGirls/comments/13nnpg1/i_lo...   \n\n                                              original_url   image_name   \nid                                                                        \n13hgme0    https://i.redgifs.com/i/frayedmadeupsparrow.jpg  13hgme0.jpg  \\\n13ibnsi    https://i.redgifs.com/i/imaginaryrawleveret.jpg  13ibnsi.jpg   \n13imeet  https://i.redgifs.com/i/dangerousfilthyhornedv...  13imeet.jpg   \n13jm7mh  https://i.redgifs.com/i/tensedarkmagentabedlin...  13jm7mh.jpg   \n13nhxcp                https://i.redd.it/1g3nvmrwv31b1.jpg  13nhxcp.jpg   \n...                                                    ...          ...   \n13no1on                https://i.redd.it/0pq456mci51b1.jpg  13no1on.jpg   \n13nhylw                https://i.redd.it/t2yvxblvd51b1.jpg  13nhylw.jpg   \n13nlz14                https://i.redd.it/or6fujdmf61b1.jpg  13nlz14.jpg   \n13npfx3                https://i.redd.it/skqywk3qd71b1.jpg  13npfx3.jpg   \n13nnpg1                https://i.redd.it/7udfhs8ow61b1.jpg  13nnpg1.jpg   \n\n                           path                model  exists  curated accept   \nid                                                                             \n13hgme0                             RedHeadDiffusion   False    False  False  \\\n13ibnsi                             RedHeadDiffusion   False    False  False   \n13imeet                             RedHeadDiffusion   False    False  False   \n13jm7mh                             RedHeadDiffusion   False    False  False   \n13nhxcp  data/image/13nhxcp.jpg     RedHeadDiffusion    True    False  False   \n...                         ...                  ...     ...      ...    ...   \n13no1on  data/image/13no1on.jpg  PrettyGirlDiffusion    True    False  False   \n13nhylw  data/image/13nhylw.jpg      CandleDiffusion    True    False  False   \n13nlz14  data/image/13nlz14.jpg      CandleDiffusion    True    False  False   \n13npfx3  data/image/13npfx3.jpg      CandleDiffusion    True    False  False   \n13nnpg1  data/image/13nnpg1.jpg   SexyAsianDiffusion    True    False  False   \n\n        tags  \nid            \n13hgme0   []  \n13ibnsi   []  \n13imeet   []  \n13jm7mh   []  \n13nhxcp   []  \n...      ...  \n13no1on   []  \n13nhylw   []  \n13nlz14   []  \n13npfx3   []  \n13nnpg1   []  \n\n[99 rows x 15 columns]",
      "text/html": "<div>\n<style scoped>\n    .dataframe tbody tr th:only-of-type {\n        vertical-align: middle;\n    }\n\n    .dataframe tbody tr th {\n        vertical-align: top;\n    }\n\n    .dataframe thead th {\n        text-align: right;\n    }\n</style>\n<table border=\"1\" class=\"dataframe\">\n  <thead>\n    <tr style=\"text-align: right;\">\n      <th></th>\n      <th>id</th>\n      <th>subreddit</th>\n      <th>author</th>\n      <th>title</th>\n      <th>caption</th>\n      <th>hash</th>\n      <th>permalink</th>\n      <th>original_url</th>\n      <th>image_name</th>\n      <th>path</th>\n      <th>model</th>\n      <th>exists</th>\n      <th>curated</th>\n      <th>accept</th>\n      <th>tags</th>\n    </tr>\n    <tr>\n      <th>id</th>\n      <th></th>\n      <th></th>\n      <th></th>\n      <th></th>\n      <th></th>\n      <th></th>\n      <th></th>\n      <th></th>\n      <th></th>\n      <th></th>\n      <th></th>\n      <th></th>\n      <th></th>\n      <th></th>\n      <th></th>\n    </tr>\n  </thead>\n  <tbody>\n    <tr>\n      <th>13hgme0</th>\n      <td>13hgme0</td>\n      <td>SFWRedheads</td>\n      <td>Redhotwife88</td>\n      <td>I Love wearing my Leather Pants and Heels! [F]</td>\n      <td></td>\n      <td></td>\n      <td>/r/SFWRedheads/comments/13hgme0/i_love_wearing...</td>\n      <td>https://i.redgifs.com/i/frayedmadeupsparrow.jpg</td>\n      <td>13hgme0.jpg</td>\n      <td></td>\n      <td>RedHeadDiffusion</td>\n      <td>False</td>\n      <td>False</td>\n      <td>False</td>\n      <td>[]</td>\n    </tr>\n    <tr>\n      <th>13ibnsi</th>\n      <td>13ibnsi</td>\n      <td>SFWRedheads</td>\n      <td>Dasharkiss_real</td>\n      <td>I can live without money but I can't live with...</td>\n      <td></td>\n      <td></td>\n      <td>/r/SFWRedheads/comments/13ibnsi/i_can_live_wit...</td>\n      <td>https://i.redgifs.com/i/imaginaryrawleveret.jpg</td>\n      <td>13ibnsi.jpg</td>\n      <td></td>\n      <td>RedHeadDiffusion</td>\n      <td>False</td>\n      <td>False</td>\n      <td>False</td>\n      <td>[]</td>\n    </tr>\n    <tr>\n      <th>13imeet</th>\n      <td>13imeet</td>\n      <td>SFWRedheads</td>\n      <td>imjenrose</td>\n      <td>Adorable girl to make your day better</td>\n      <td></td>\n      <td></td>\n      <td>/r/SFWRedheads/comments/13imeet/adorable_girl_...</td>\n      <td>https://i.redgifs.com/i/dangerousfilthyhornedv...</td>\n      <td>13imeet.jpg</td>\n      <td></td>\n      <td>RedHeadDiffusion</td>\n      <td>False</td>\n      <td>False</td>\n      <td>False</td>\n      <td>[]</td>\n    </tr>\n    <tr>\n      <th>13jm7mh</th>\n      <td>13jm7mh</td>\n      <td>SFWRedheads</td>\n      <td>Redhotwife88</td>\n      <td>Do I look Cute for my Anniversary Dinner? [F]</td>\n      <td></td>\n      <td></td>\n      <td>/r/SFWRedheads/comments/13jm7mh/do_i_look_cute...</td>\n      <td>https://i.redgifs.com/i/tensedarkmagentabedlin...</td>\n      <td>13jm7mh.jpg</td>\n      <td></td>\n      <td>RedHeadDiffusion</td>\n      <td>False</td>\n      <td>False</td>\n      <td>False</td>\n      <td>[]</td>\n    </tr>\n    <tr>\n      <th>13nhxcp</th>\n      <td>13nhxcp</td>\n      <td>SFWRedheads</td>\n      <td>Middle-Ad4300</td>\n      <td>Hello 👋🏻</td>\n      <td>arafed woman sitting in a car with her legs cr...</td>\n      <td>955d683562bc7177e5369c129030c888</td>\n      <td>/r/SFWRedheads/comments/13nhxcp/hello/</td>\n      <td>https://i.redd.it/1g3nvmrwv31b1.jpg</td>\n      <td>13nhxcp.jpg</td>\n      <td>data/image/13nhxcp.jpg</td>\n      <td>RedHeadDiffusion</td>\n      <td>True</td>\n      <td>False</td>\n      <td>False</td>\n      <td>[]</td>\n    </tr>\n    <tr>\n      <th>...</th>\n      <td>...</td>\n      <td>...</td>\n      <td>...</td>\n      <td>...</td>\n      <td>...</td>\n      <td>...</td>\n      <td>...</td>\n      <td>...</td>\n      <td>...</td>\n      <td>...</td>\n      <td>...</td>\n      <td>...</td>\n      <td>...</td>\n      <td>...</td>\n      <td>...</td>\n    </tr>\n    <tr>\n      <th>13no1on</th>\n      <td>13no1on</td>\n      <td>DLAH</td>\n      <td>Majestic_Painter8660</td>\n      <td>Tight dress, legs and heels</td>\n      <td>there is a woman sitting on a chair in a room</td>\n      <td>dbab04d6a37e17e6cc6df9cfc16ed51e</td>\n      <td>/r/DLAH/comments/13no1on/tight_dress_legs_and_...</td>\n      <td>https://i.redd.it/0pq456mci51b1.jpg</td>\n      <td>13no1on.jpg</td>\n      <td>data/image/13no1on.jpg</td>\n      <td>PrettyGirlDiffusion</td>\n      <td>True</td>\n      <td>False</td>\n      <td>False</td>\n      <td>[]</td>\n    </tr>\n    <tr>\n      <th>13nhylw</th>\n      <td>13nhylw</td>\n      <td>bathandbodyworks</td>\n      <td>BathbeautyXO</td>\n      <td>(Late) February/valentines empties! 💕❤️💖</td>\n      <td>there are many different types of skin care pr...</td>\n      <td>7d79ab2ad5d7fe73454db01b4351388c</td>\n      <td>/r/bathandbodyworks/comments/13nhylw/late_febr...</td>\n      <td>https://i.redd.it/t2yvxblvd51b1.jpg</td>\n      <td>13nhylw.jpg</td>\n      <td>data/image/13nhylw.jpg</td>\n      <td>CandleDiffusion</td>\n      <td>True</td>\n      <td>False</td>\n      <td>False</td>\n      <td>[]</td>\n    </tr>\n    <tr>\n      <th>13nlz14</th>\n      <td>13nlz14</td>\n      <td>bathandbodyworks</td>\n      <td>Fresh-Blueberry-milk</td>\n      <td>figured this would be appreciated 😏 also what ...</td>\n      <td>someone is holding a bottle of lotion in their...</td>\n      <td>8b7dfc23aeb352024f0a696ab49351ae</td>\n      <td>/r/bathandbodyworks/comments/13nlz14/figured_t...</td>\n      <td>https://i.redd.it/or6fujdmf61b1.jpg</td>\n      <td>13nlz14.jpg</td>\n      <td>data/image/13nlz14.jpg</td>\n      <td>CandleDiffusion</td>\n      <td>True</td>\n      <td>False</td>\n      <td>False</td>\n      <td>[]</td>\n    </tr>\n    <tr>\n      <th>13npfx3</th>\n      <td>13npfx3</td>\n      <td>bathandbodyworks</td>\n      <td>singshopsleep</td>\n      <td>All of Today's Offers</td>\n      <td>a poster with a variety of products for sale o...</td>\n      <td>635af0f6bb1a2b81c9ce46bd29374d72</td>\n      <td>/r/bathandbodyworks/comments/13npfx3/all_of_to...</td>\n      <td>https://i.redd.it/skqywk3qd71b1.jpg</td>\n      <td>13npfx3.jpg</td>\n      <td>data/image/13npfx3.jpg</td>\n      <td>CandleDiffusion</td>\n      <td>True</td>\n      <td>False</td>\n      <td>False</td>\n      <td>[]</td>\n    </tr>\n    <tr>\n      <th>13nnpg1</th>\n      <td>13nnpg1</td>\n      <td>AesPleasingAsianGirls</td>\n      <td>miazinhaaaa</td>\n      <td>I love this beach (Copacabana)</td>\n      <td>araffe woman in a white bikini standing on the...</td>\n      <td>9f06af9e6fb671f8f828e62a0949a9af</td>\n      <td>/r/AesPleasingAsianGirls/comments/13nnpg1/i_lo...</td>\n      <td>https://i.redd.it/7udfhs8ow61b1.jpg</td>\n      <td>13nnpg1.jpg</td>\n      <td>data/image/13nnpg1.jpg</td>\n      <td>SexyAsianDiffusion</td>\n      <td>True</td>\n      <td>False</td>\n      <td>False</td>\n      <td>[]</td>\n    </tr>\n  </tbody>\n</table>\n<p>99 rows × 15 columns</p>\n</div>"
     },
     "metadata": {},
     "output_type": "display_data"
    },
    {
     "name": "stdout",
     "output_type": "stream",
     "text": [
      "CPU times: total: 3min 11s\n",
      "Wall time: 2min 12s\n"
     ]
    }
   ],
   "source": [
    "%%time\n",
    "\n",
    "filtered['caption'] = filtered.progress_apply(lambda x: functions.apply_caption(x, [caption_0, caption_1]), axis=1)\n",
    "\n",
    "display(\"== Filtered Data With Caption ==\")\n",
    "display(filtered.shape)\n",
    "display(filtered)"
   ],
   "metadata": {
    "collapsed": false,
    "ExecuteTime": {
     "end_time": "2023-05-21T12:11:40.871185900Z",
     "start_time": "2023-05-21T12:09:28.245057500Z"
    }
   }
  },
  {
   "cell_type": "code",
   "execution_count": 18,
   "outputs": [
    {
     "data": {
      "text/plain": "'== Filtered On Missing Caption =='"
     },
     "metadata": {},
     "output_type": "display_data"
    },
    {
     "data": {
      "text/plain": "(87, 15)"
     },
     "metadata": {},
     "output_type": "display_data"
    },
    {
     "data": {
      "text/plain": "              id              subreddit                author   \nid                                                              \n13nhxcp  13nhxcp            SFWRedheads         Middle-Ad4300  \\\n13nifj6  13nifj6            SFWRedheads    arayofsexysunshine   \n13njz51  13njz51            SFWRedheads         madelynlouise   \n13nka7r  13nka7r            SFWRedheads              celluxxx   \n13np8z0  13np8z0            SFWRedheads  Junior-Midnight-8241   \n...          ...                    ...                   ...   \n13no1on  13no1on                   DLAH  Majestic_Painter8660   \n13nhylw  13nhylw       bathandbodyworks          BathbeautyXO   \n13nlz14  13nlz14       bathandbodyworks  Fresh-Blueberry-milk   \n13npfx3  13npfx3       bathandbodyworks         singshopsleep   \n13nnpg1  13nnpg1  AesPleasingAsianGirls           miazinhaaaa   \n\n                                                     title   \nid                                                           \n13nhxcp                                           Hello 👋🏻  \\\n13nifj6  What a crazy and touching time I’ve had on the...   \n13njz51                  Went to the grocery store in this   \n13nka7r                        Felt cute in this outfit ❤️   \n13np8z0                              Do I look innocent? 👀   \n...                                                    ...   \n13no1on                        Tight dress, legs and heels   \n13nhylw           (Late) February/valentines empties! 💕❤️💖   \n13nlz14  figured this would be appreciated 😏 also what ...   \n13npfx3                              All of Today's Offers   \n13nnpg1                     I love this beach (Copacabana)   \n\n                                                   caption   \nid                                                           \n13nhxcp  arafed woman sitting in a car with her legs cr...  \\\n13nifj6  arafed woman with red hair wearing a green jac...   \n13njz51       there is a woman taking a selfie in a mirror   \n13nka7r  there is a woman sitting on a bed with a red d...   \n13np8z0  arafed woman with long red hair and white top ...   \n...                                                    ...   \n13no1on      there is a woman sitting on a chair in a room   \n13nhylw  there are many different types of skin care pr...   \n13nlz14  someone is holding a bottle of lotion in their...   \n13npfx3  a poster with a variety of products for sale o...   \n13nnpg1  araffe woman in a white bikini standing on the...   \n\n                                     hash   \nid                                          \n13nhxcp  955d683562bc7177e5369c129030c888  \\\n13nifj6  f59f2c71f8c64da25432c72fa2ddd099   \n13njz51  7e70167383380384e1f6fe47455faf0f   \n13nka7r  49bed56ba79c6c236ca818ed33b2cd04   \n13np8z0  17c5c634443b786c265dbe4bded9f20f   \n...                                   ...   \n13no1on  dbab04d6a37e17e6cc6df9cfc16ed51e   \n13nhylw  7d79ab2ad5d7fe73454db01b4351388c   \n13nlz14  8b7dfc23aeb352024f0a696ab49351ae   \n13npfx3  635af0f6bb1a2b81c9ce46bd29374d72   \n13nnpg1  9f06af9e6fb671f8f828e62a0949a9af   \n\n                                                 permalink   \nid                                                           \n13nhxcp             /r/SFWRedheads/comments/13nhxcp/hello/  \\\n13nifj6  /r/SFWRedheads/comments/13nifj6/what_a_crazy_a...   \n13njz51  /r/SFWRedheads/comments/13njz51/went_to_the_gr...   \n13nka7r  /r/SFWRedheads/comments/13nka7r/felt_cute_in_t...   \n13np8z0  /r/SFWRedheads/comments/13np8z0/do_i_look_inno...   \n...                                                    ...   \n13no1on  /r/DLAH/comments/13no1on/tight_dress_legs_and_...   \n13nhylw  /r/bathandbodyworks/comments/13nhylw/late_febr...   \n13nlz14  /r/bathandbodyworks/comments/13nlz14/figured_t...   \n13npfx3  /r/bathandbodyworks/comments/13npfx3/all_of_to...   \n13nnpg1  /r/AesPleasingAsianGirls/comments/13nnpg1/i_lo...   \n\n                                original_url   image_name   \nid                                                          \n13nhxcp  https://i.redd.it/1g3nvmrwv31b1.jpg  13nhxcp.jpg  \\\n13nifj6  https://i.redd.it/f2anwulzh51b1.jpg  13nifj6.jpg   \n13njz51  https://i.redd.it/wcr5fnxcw51b1.jpg  13njz51.jpg   \n13nka7r  https://i.redd.it/m1lefhhaz51b1.jpg  13nka7r.jpg   \n13np8z0  https://i.redd.it/nf7kb3tub71b1.jpg  13np8z0.jpg   \n...                                      ...          ...   \n13no1on  https://i.redd.it/0pq456mci51b1.jpg  13no1on.jpg   \n13nhylw  https://i.redd.it/t2yvxblvd51b1.jpg  13nhylw.jpg   \n13nlz14  https://i.redd.it/or6fujdmf61b1.jpg  13nlz14.jpg   \n13npfx3  https://i.redd.it/skqywk3qd71b1.jpg  13npfx3.jpg   \n13nnpg1  https://i.redd.it/7udfhs8ow61b1.jpg  13nnpg1.jpg   \n\n                           path                model  exists  curated accept   \nid                                                                             \n13nhxcp  data/image/13nhxcp.jpg     RedHeadDiffusion    True    False  False  \\\n13nifj6  data/image/13nifj6.jpg     RedHeadDiffusion    True    False  False   \n13njz51  data/image/13njz51.jpg     RedHeadDiffusion    True    False  False   \n13nka7r  data/image/13nka7r.jpg     RedHeadDiffusion    True    False  False   \n13np8z0  data/image/13np8z0.jpg     RedHeadDiffusion    True    False  False   \n...                         ...                  ...     ...      ...    ...   \n13no1on  data/image/13no1on.jpg  PrettyGirlDiffusion    True    False  False   \n13nhylw  data/image/13nhylw.jpg      CandleDiffusion    True    False  False   \n13nlz14  data/image/13nlz14.jpg      CandleDiffusion    True    False  False   \n13npfx3  data/image/13npfx3.jpg      CandleDiffusion    True    False  False   \n13nnpg1  data/image/13nnpg1.jpg   SexyAsianDiffusion    True    False  False   \n\n        tags  \nid            \n13nhxcp   []  \n13nifj6   []  \n13njz51   []  \n13nka7r   []  \n13np8z0   []  \n...      ...  \n13no1on   []  \n13nhylw   []  \n13nlz14   []  \n13npfx3   []  \n13nnpg1   []  \n\n[87 rows x 15 columns]",
      "text/html": "<div>\n<style scoped>\n    .dataframe tbody tr th:only-of-type {\n        vertical-align: middle;\n    }\n\n    .dataframe tbody tr th {\n        vertical-align: top;\n    }\n\n    .dataframe thead th {\n        text-align: right;\n    }\n</style>\n<table border=\"1\" class=\"dataframe\">\n  <thead>\n    <tr style=\"text-align: right;\">\n      <th></th>\n      <th>id</th>\n      <th>subreddit</th>\n      <th>author</th>\n      <th>title</th>\n      <th>caption</th>\n      <th>hash</th>\n      <th>permalink</th>\n      <th>original_url</th>\n      <th>image_name</th>\n      <th>path</th>\n      <th>model</th>\n      <th>exists</th>\n      <th>curated</th>\n      <th>accept</th>\n      <th>tags</th>\n    </tr>\n    <tr>\n      <th>id</th>\n      <th></th>\n      <th></th>\n      <th></th>\n      <th></th>\n      <th></th>\n      <th></th>\n      <th></th>\n      <th></th>\n      <th></th>\n      <th></th>\n      <th></th>\n      <th></th>\n      <th></th>\n      <th></th>\n      <th></th>\n    </tr>\n  </thead>\n  <tbody>\n    <tr>\n      <th>13nhxcp</th>\n      <td>13nhxcp</td>\n      <td>SFWRedheads</td>\n      <td>Middle-Ad4300</td>\n      <td>Hello 👋🏻</td>\n      <td>arafed woman sitting in a car with her legs cr...</td>\n      <td>955d683562bc7177e5369c129030c888</td>\n      <td>/r/SFWRedheads/comments/13nhxcp/hello/</td>\n      <td>https://i.redd.it/1g3nvmrwv31b1.jpg</td>\n      <td>13nhxcp.jpg</td>\n      <td>data/image/13nhxcp.jpg</td>\n      <td>RedHeadDiffusion</td>\n      <td>True</td>\n      <td>False</td>\n      <td>False</td>\n      <td>[]</td>\n    </tr>\n    <tr>\n      <th>13nifj6</th>\n      <td>13nifj6</td>\n      <td>SFWRedheads</td>\n      <td>arayofsexysunshine</td>\n      <td>What a crazy and touching time I’ve had on the...</td>\n      <td>arafed woman with red hair wearing a green jac...</td>\n      <td>f59f2c71f8c64da25432c72fa2ddd099</td>\n      <td>/r/SFWRedheads/comments/13nifj6/what_a_crazy_a...</td>\n      <td>https://i.redd.it/f2anwulzh51b1.jpg</td>\n      <td>13nifj6.jpg</td>\n      <td>data/image/13nifj6.jpg</td>\n      <td>RedHeadDiffusion</td>\n      <td>True</td>\n      <td>False</td>\n      <td>False</td>\n      <td>[]</td>\n    </tr>\n    <tr>\n      <th>13njz51</th>\n      <td>13njz51</td>\n      <td>SFWRedheads</td>\n      <td>madelynlouise</td>\n      <td>Went to the grocery store in this</td>\n      <td>there is a woman taking a selfie in a mirror</td>\n      <td>7e70167383380384e1f6fe47455faf0f</td>\n      <td>/r/SFWRedheads/comments/13njz51/went_to_the_gr...</td>\n      <td>https://i.redd.it/wcr5fnxcw51b1.jpg</td>\n      <td>13njz51.jpg</td>\n      <td>data/image/13njz51.jpg</td>\n      <td>RedHeadDiffusion</td>\n      <td>True</td>\n      <td>False</td>\n      <td>False</td>\n      <td>[]</td>\n    </tr>\n    <tr>\n      <th>13nka7r</th>\n      <td>13nka7r</td>\n      <td>SFWRedheads</td>\n      <td>celluxxx</td>\n      <td>Felt cute in this outfit ❤️</td>\n      <td>there is a woman sitting on a bed with a red d...</td>\n      <td>49bed56ba79c6c236ca818ed33b2cd04</td>\n      <td>/r/SFWRedheads/comments/13nka7r/felt_cute_in_t...</td>\n      <td>https://i.redd.it/m1lefhhaz51b1.jpg</td>\n      <td>13nka7r.jpg</td>\n      <td>data/image/13nka7r.jpg</td>\n      <td>RedHeadDiffusion</td>\n      <td>True</td>\n      <td>False</td>\n      <td>False</td>\n      <td>[]</td>\n    </tr>\n    <tr>\n      <th>13np8z0</th>\n      <td>13np8z0</td>\n      <td>SFWRedheads</td>\n      <td>Junior-Midnight-8241</td>\n      <td>Do I look innocent? 👀</td>\n      <td>arafed woman with long red hair and white top ...</td>\n      <td>17c5c634443b786c265dbe4bded9f20f</td>\n      <td>/r/SFWRedheads/comments/13np8z0/do_i_look_inno...</td>\n      <td>https://i.redd.it/nf7kb3tub71b1.jpg</td>\n      <td>13np8z0.jpg</td>\n      <td>data/image/13np8z0.jpg</td>\n      <td>RedHeadDiffusion</td>\n      <td>True</td>\n      <td>False</td>\n      <td>False</td>\n      <td>[]</td>\n    </tr>\n    <tr>\n      <th>...</th>\n      <td>...</td>\n      <td>...</td>\n      <td>...</td>\n      <td>...</td>\n      <td>...</td>\n      <td>...</td>\n      <td>...</td>\n      <td>...</td>\n      <td>...</td>\n      <td>...</td>\n      <td>...</td>\n      <td>...</td>\n      <td>...</td>\n      <td>...</td>\n      <td>...</td>\n    </tr>\n    <tr>\n      <th>13no1on</th>\n      <td>13no1on</td>\n      <td>DLAH</td>\n      <td>Majestic_Painter8660</td>\n      <td>Tight dress, legs and heels</td>\n      <td>there is a woman sitting on a chair in a room</td>\n      <td>dbab04d6a37e17e6cc6df9cfc16ed51e</td>\n      <td>/r/DLAH/comments/13no1on/tight_dress_legs_and_...</td>\n      <td>https://i.redd.it/0pq456mci51b1.jpg</td>\n      <td>13no1on.jpg</td>\n      <td>data/image/13no1on.jpg</td>\n      <td>PrettyGirlDiffusion</td>\n      <td>True</td>\n      <td>False</td>\n      <td>False</td>\n      <td>[]</td>\n    </tr>\n    <tr>\n      <th>13nhylw</th>\n      <td>13nhylw</td>\n      <td>bathandbodyworks</td>\n      <td>BathbeautyXO</td>\n      <td>(Late) February/valentines empties! 💕❤️💖</td>\n      <td>there are many different types of skin care pr...</td>\n      <td>7d79ab2ad5d7fe73454db01b4351388c</td>\n      <td>/r/bathandbodyworks/comments/13nhylw/late_febr...</td>\n      <td>https://i.redd.it/t2yvxblvd51b1.jpg</td>\n      <td>13nhylw.jpg</td>\n      <td>data/image/13nhylw.jpg</td>\n      <td>CandleDiffusion</td>\n      <td>True</td>\n      <td>False</td>\n      <td>False</td>\n      <td>[]</td>\n    </tr>\n    <tr>\n      <th>13nlz14</th>\n      <td>13nlz14</td>\n      <td>bathandbodyworks</td>\n      <td>Fresh-Blueberry-milk</td>\n      <td>figured this would be appreciated 😏 also what ...</td>\n      <td>someone is holding a bottle of lotion in their...</td>\n      <td>8b7dfc23aeb352024f0a696ab49351ae</td>\n      <td>/r/bathandbodyworks/comments/13nlz14/figured_t...</td>\n      <td>https://i.redd.it/or6fujdmf61b1.jpg</td>\n      <td>13nlz14.jpg</td>\n      <td>data/image/13nlz14.jpg</td>\n      <td>CandleDiffusion</td>\n      <td>True</td>\n      <td>False</td>\n      <td>False</td>\n      <td>[]</td>\n    </tr>\n    <tr>\n      <th>13npfx3</th>\n      <td>13npfx3</td>\n      <td>bathandbodyworks</td>\n      <td>singshopsleep</td>\n      <td>All of Today's Offers</td>\n      <td>a poster with a variety of products for sale o...</td>\n      <td>635af0f6bb1a2b81c9ce46bd29374d72</td>\n      <td>/r/bathandbodyworks/comments/13npfx3/all_of_to...</td>\n      <td>https://i.redd.it/skqywk3qd71b1.jpg</td>\n      <td>13npfx3.jpg</td>\n      <td>data/image/13npfx3.jpg</td>\n      <td>CandleDiffusion</td>\n      <td>True</td>\n      <td>False</td>\n      <td>False</td>\n      <td>[]</td>\n    </tr>\n    <tr>\n      <th>13nnpg1</th>\n      <td>13nnpg1</td>\n      <td>AesPleasingAsianGirls</td>\n      <td>miazinhaaaa</td>\n      <td>I love this beach (Copacabana)</td>\n      <td>araffe woman in a white bikini standing on the...</td>\n      <td>9f06af9e6fb671f8f828e62a0949a9af</td>\n      <td>/r/AesPleasingAsianGirls/comments/13nnpg1/i_lo...</td>\n      <td>https://i.redd.it/7udfhs8ow61b1.jpg</td>\n      <td>13nnpg1.jpg</td>\n      <td>data/image/13nnpg1.jpg</td>\n      <td>SexyAsianDiffusion</td>\n      <td>True</td>\n      <td>False</td>\n      <td>False</td>\n      <td>[]</td>\n    </tr>\n  </tbody>\n</table>\n<p>87 rows × 15 columns</p>\n</div>"
     },
     "metadata": {},
     "output_type": "display_data"
    },
    {
     "name": "stdout",
     "output_type": "stream",
     "text": [
      "CPU times: total: 62.5 ms\n",
      "Wall time: 45 ms\n"
     ]
    }
   ],
   "source": [
    "%%time\n",
    "\n",
    "filtered_more = filtered.loc[(filtered['caption'] != \"\") & (filtered['caption'].notnull()) & (filtered['exists'] == True)]\n",
    "\n",
    "display(\"== Filtered On Missing Caption ==\")\n",
    "display(filtered_more.shape)\n",
    "display(filtered_more)"
   ],
   "metadata": {
    "collapsed": false,
    "ExecuteTime": {
     "end_time": "2023-05-21T12:11:40.932190400Z",
     "start_time": "2023-05-21T12:11:40.830189600Z"
    }
   }
  },
  {
   "cell_type": "code",
   "execution_count": 19,
   "outputs": [
    {
     "data": {
      "text/plain": "'== Dropped And Reset Data =='"
     },
     "metadata": {},
     "output_type": "display_data"
    },
    {
     "data": {
      "text/plain": "(87, 15)"
     },
     "metadata": {},
     "output_type": "display_data"
    },
    {
     "data": {
      "text/plain": "         id              subreddit                author   \n0   13nhxcp            SFWRedheads         Middle-Ad4300  \\\n1   13nifj6            SFWRedheads    arayofsexysunshine   \n2   13njz51            SFWRedheads         madelynlouise   \n3   13nka7r            SFWRedheads              celluxxx   \n4   13np8z0            SFWRedheads  Junior-Midnight-8241   \n..      ...                    ...                   ...   \n82  13no1on                   DLAH  Majestic_Painter8660   \n83  13nhylw       bathandbodyworks          BathbeautyXO   \n84  13nlz14       bathandbodyworks  Fresh-Blueberry-milk   \n85  13npfx3       bathandbodyworks         singshopsleep   \n86  13nnpg1  AesPleasingAsianGirls           miazinhaaaa   \n\n                                                title   \n0                                            Hello 👋🏻  \\\n1   What a crazy and touching time I’ve had on the...   \n2                   Went to the grocery store in this   \n3                         Felt cute in this outfit ❤️   \n4                               Do I look innocent? 👀   \n..                                                ...   \n82                        Tight dress, legs and heels   \n83           (Late) February/valentines empties! 💕❤️💖   \n84  figured this would be appreciated 😏 also what ...   \n85                              All of Today's Offers   \n86                     I love this beach (Copacabana)   \n\n                                              caption   \n0   arafed woman sitting in a car with her legs cr...  \\\n1   arafed woman with red hair wearing a green jac...   \n2        there is a woman taking a selfie in a mirror   \n3   there is a woman sitting on a bed with a red d...   \n4   arafed woman with long red hair and white top ...   \n..                                                ...   \n82      there is a woman sitting on a chair in a room   \n83  there are many different types of skin care pr...   \n84  someone is holding a bottle of lotion in their...   \n85  a poster with a variety of products for sale o...   \n86  araffe woman in a white bikini standing on the...   \n\n                                hash   \n0   955d683562bc7177e5369c129030c888  \\\n1   f59f2c71f8c64da25432c72fa2ddd099   \n2   7e70167383380384e1f6fe47455faf0f   \n3   49bed56ba79c6c236ca818ed33b2cd04   \n4   17c5c634443b786c265dbe4bded9f20f   \n..                               ...   \n82  dbab04d6a37e17e6cc6df9cfc16ed51e   \n83  7d79ab2ad5d7fe73454db01b4351388c   \n84  8b7dfc23aeb352024f0a696ab49351ae   \n85  635af0f6bb1a2b81c9ce46bd29374d72   \n86  9f06af9e6fb671f8f828e62a0949a9af   \n\n                                            permalink   \n0              /r/SFWRedheads/comments/13nhxcp/hello/  \\\n1   /r/SFWRedheads/comments/13nifj6/what_a_crazy_a...   \n2   /r/SFWRedheads/comments/13njz51/went_to_the_gr...   \n3   /r/SFWRedheads/comments/13nka7r/felt_cute_in_t...   \n4   /r/SFWRedheads/comments/13np8z0/do_i_look_inno...   \n..                                                ...   \n82  /r/DLAH/comments/13no1on/tight_dress_legs_and_...   \n83  /r/bathandbodyworks/comments/13nhylw/late_febr...   \n84  /r/bathandbodyworks/comments/13nlz14/figured_t...   \n85  /r/bathandbodyworks/comments/13npfx3/all_of_to...   \n86  /r/AesPleasingAsianGirls/comments/13nnpg1/i_lo...   \n\n                           original_url   image_name                    path   \n0   https://i.redd.it/1g3nvmrwv31b1.jpg  13nhxcp.jpg  data/image/13nhxcp.jpg  \\\n1   https://i.redd.it/f2anwulzh51b1.jpg  13nifj6.jpg  data/image/13nifj6.jpg   \n2   https://i.redd.it/wcr5fnxcw51b1.jpg  13njz51.jpg  data/image/13njz51.jpg   \n3   https://i.redd.it/m1lefhhaz51b1.jpg  13nka7r.jpg  data/image/13nka7r.jpg   \n4   https://i.redd.it/nf7kb3tub71b1.jpg  13np8z0.jpg  data/image/13np8z0.jpg   \n..                                  ...          ...                     ...   \n82  https://i.redd.it/0pq456mci51b1.jpg  13no1on.jpg  data/image/13no1on.jpg   \n83  https://i.redd.it/t2yvxblvd51b1.jpg  13nhylw.jpg  data/image/13nhylw.jpg   \n84  https://i.redd.it/or6fujdmf61b1.jpg  13nlz14.jpg  data/image/13nlz14.jpg   \n85  https://i.redd.it/skqywk3qd71b1.jpg  13npfx3.jpg  data/image/13npfx3.jpg   \n86  https://i.redd.it/7udfhs8ow61b1.jpg  13nnpg1.jpg  data/image/13nnpg1.jpg   \n\n                  model  exists  curated accept tags  \n0      RedHeadDiffusion    True    False  False   []  \n1      RedHeadDiffusion    True    False  False   []  \n2      RedHeadDiffusion    True    False  False   []  \n3      RedHeadDiffusion    True    False  False   []  \n4      RedHeadDiffusion    True    False  False   []  \n..                  ...     ...      ...    ...  ...  \n82  PrettyGirlDiffusion    True    False  False   []  \n83      CandleDiffusion    True    False  False   []  \n84      CandleDiffusion    True    False  False   []  \n85      CandleDiffusion    True    False  False   []  \n86   SexyAsianDiffusion    True    False  False   []  \n\n[87 rows x 15 columns]",
      "text/html": "<div>\n<style scoped>\n    .dataframe tbody tr th:only-of-type {\n        vertical-align: middle;\n    }\n\n    .dataframe tbody tr th {\n        vertical-align: top;\n    }\n\n    .dataframe thead th {\n        text-align: right;\n    }\n</style>\n<table border=\"1\" class=\"dataframe\">\n  <thead>\n    <tr style=\"text-align: right;\">\n      <th></th>\n      <th>id</th>\n      <th>subreddit</th>\n      <th>author</th>\n      <th>title</th>\n      <th>caption</th>\n      <th>hash</th>\n      <th>permalink</th>\n      <th>original_url</th>\n      <th>image_name</th>\n      <th>path</th>\n      <th>model</th>\n      <th>exists</th>\n      <th>curated</th>\n      <th>accept</th>\n      <th>tags</th>\n    </tr>\n  </thead>\n  <tbody>\n    <tr>\n      <th>0</th>\n      <td>13nhxcp</td>\n      <td>SFWRedheads</td>\n      <td>Middle-Ad4300</td>\n      <td>Hello 👋🏻</td>\n      <td>arafed woman sitting in a car with her legs cr...</td>\n      <td>955d683562bc7177e5369c129030c888</td>\n      <td>/r/SFWRedheads/comments/13nhxcp/hello/</td>\n      <td>https://i.redd.it/1g3nvmrwv31b1.jpg</td>\n      <td>13nhxcp.jpg</td>\n      <td>data/image/13nhxcp.jpg</td>\n      <td>RedHeadDiffusion</td>\n      <td>True</td>\n      <td>False</td>\n      <td>False</td>\n      <td>[]</td>\n    </tr>\n    <tr>\n      <th>1</th>\n      <td>13nifj6</td>\n      <td>SFWRedheads</td>\n      <td>arayofsexysunshine</td>\n      <td>What a crazy and touching time I’ve had on the...</td>\n      <td>arafed woman with red hair wearing a green jac...</td>\n      <td>f59f2c71f8c64da25432c72fa2ddd099</td>\n      <td>/r/SFWRedheads/comments/13nifj6/what_a_crazy_a...</td>\n      <td>https://i.redd.it/f2anwulzh51b1.jpg</td>\n      <td>13nifj6.jpg</td>\n      <td>data/image/13nifj6.jpg</td>\n      <td>RedHeadDiffusion</td>\n      <td>True</td>\n      <td>False</td>\n      <td>False</td>\n      <td>[]</td>\n    </tr>\n    <tr>\n      <th>2</th>\n      <td>13njz51</td>\n      <td>SFWRedheads</td>\n      <td>madelynlouise</td>\n      <td>Went to the grocery store in this</td>\n      <td>there is a woman taking a selfie in a mirror</td>\n      <td>7e70167383380384e1f6fe47455faf0f</td>\n      <td>/r/SFWRedheads/comments/13njz51/went_to_the_gr...</td>\n      <td>https://i.redd.it/wcr5fnxcw51b1.jpg</td>\n      <td>13njz51.jpg</td>\n      <td>data/image/13njz51.jpg</td>\n      <td>RedHeadDiffusion</td>\n      <td>True</td>\n      <td>False</td>\n      <td>False</td>\n      <td>[]</td>\n    </tr>\n    <tr>\n      <th>3</th>\n      <td>13nka7r</td>\n      <td>SFWRedheads</td>\n      <td>celluxxx</td>\n      <td>Felt cute in this outfit ❤️</td>\n      <td>there is a woman sitting on a bed with a red d...</td>\n      <td>49bed56ba79c6c236ca818ed33b2cd04</td>\n      <td>/r/SFWRedheads/comments/13nka7r/felt_cute_in_t...</td>\n      <td>https://i.redd.it/m1lefhhaz51b1.jpg</td>\n      <td>13nka7r.jpg</td>\n      <td>data/image/13nka7r.jpg</td>\n      <td>RedHeadDiffusion</td>\n      <td>True</td>\n      <td>False</td>\n      <td>False</td>\n      <td>[]</td>\n    </tr>\n    <tr>\n      <th>4</th>\n      <td>13np8z0</td>\n      <td>SFWRedheads</td>\n      <td>Junior-Midnight-8241</td>\n      <td>Do I look innocent? 👀</td>\n      <td>arafed woman with long red hair and white top ...</td>\n      <td>17c5c634443b786c265dbe4bded9f20f</td>\n      <td>/r/SFWRedheads/comments/13np8z0/do_i_look_inno...</td>\n      <td>https://i.redd.it/nf7kb3tub71b1.jpg</td>\n      <td>13np8z0.jpg</td>\n      <td>data/image/13np8z0.jpg</td>\n      <td>RedHeadDiffusion</td>\n      <td>True</td>\n      <td>False</td>\n      <td>False</td>\n      <td>[]</td>\n    </tr>\n    <tr>\n      <th>...</th>\n      <td>...</td>\n      <td>...</td>\n      <td>...</td>\n      <td>...</td>\n      <td>...</td>\n      <td>...</td>\n      <td>...</td>\n      <td>...</td>\n      <td>...</td>\n      <td>...</td>\n      <td>...</td>\n      <td>...</td>\n      <td>...</td>\n      <td>...</td>\n      <td>...</td>\n    </tr>\n    <tr>\n      <th>82</th>\n      <td>13no1on</td>\n      <td>DLAH</td>\n      <td>Majestic_Painter8660</td>\n      <td>Tight dress, legs and heels</td>\n      <td>there is a woman sitting on a chair in a room</td>\n      <td>dbab04d6a37e17e6cc6df9cfc16ed51e</td>\n      <td>/r/DLAH/comments/13no1on/tight_dress_legs_and_...</td>\n      <td>https://i.redd.it/0pq456mci51b1.jpg</td>\n      <td>13no1on.jpg</td>\n      <td>data/image/13no1on.jpg</td>\n      <td>PrettyGirlDiffusion</td>\n      <td>True</td>\n      <td>False</td>\n      <td>False</td>\n      <td>[]</td>\n    </tr>\n    <tr>\n      <th>83</th>\n      <td>13nhylw</td>\n      <td>bathandbodyworks</td>\n      <td>BathbeautyXO</td>\n      <td>(Late) February/valentines empties! 💕❤️💖</td>\n      <td>there are many different types of skin care pr...</td>\n      <td>7d79ab2ad5d7fe73454db01b4351388c</td>\n      <td>/r/bathandbodyworks/comments/13nhylw/late_febr...</td>\n      <td>https://i.redd.it/t2yvxblvd51b1.jpg</td>\n      <td>13nhylw.jpg</td>\n      <td>data/image/13nhylw.jpg</td>\n      <td>CandleDiffusion</td>\n      <td>True</td>\n      <td>False</td>\n      <td>False</td>\n      <td>[]</td>\n    </tr>\n    <tr>\n      <th>84</th>\n      <td>13nlz14</td>\n      <td>bathandbodyworks</td>\n      <td>Fresh-Blueberry-milk</td>\n      <td>figured this would be appreciated 😏 also what ...</td>\n      <td>someone is holding a bottle of lotion in their...</td>\n      <td>8b7dfc23aeb352024f0a696ab49351ae</td>\n      <td>/r/bathandbodyworks/comments/13nlz14/figured_t...</td>\n      <td>https://i.redd.it/or6fujdmf61b1.jpg</td>\n      <td>13nlz14.jpg</td>\n      <td>data/image/13nlz14.jpg</td>\n      <td>CandleDiffusion</td>\n      <td>True</td>\n      <td>False</td>\n      <td>False</td>\n      <td>[]</td>\n    </tr>\n    <tr>\n      <th>85</th>\n      <td>13npfx3</td>\n      <td>bathandbodyworks</td>\n      <td>singshopsleep</td>\n      <td>All of Today's Offers</td>\n      <td>a poster with a variety of products for sale o...</td>\n      <td>635af0f6bb1a2b81c9ce46bd29374d72</td>\n      <td>/r/bathandbodyworks/comments/13npfx3/all_of_to...</td>\n      <td>https://i.redd.it/skqywk3qd71b1.jpg</td>\n      <td>13npfx3.jpg</td>\n      <td>data/image/13npfx3.jpg</td>\n      <td>CandleDiffusion</td>\n      <td>True</td>\n      <td>False</td>\n      <td>False</td>\n      <td>[]</td>\n    </tr>\n    <tr>\n      <th>86</th>\n      <td>13nnpg1</td>\n      <td>AesPleasingAsianGirls</td>\n      <td>miazinhaaaa</td>\n      <td>I love this beach (Copacabana)</td>\n      <td>araffe woman in a white bikini standing on the...</td>\n      <td>9f06af9e6fb671f8f828e62a0949a9af</td>\n      <td>/r/AesPleasingAsianGirls/comments/13nnpg1/i_lo...</td>\n      <td>https://i.redd.it/7udfhs8ow61b1.jpg</td>\n      <td>13nnpg1.jpg</td>\n      <td>data/image/13nnpg1.jpg</td>\n      <td>SexyAsianDiffusion</td>\n      <td>True</td>\n      <td>False</td>\n      <td>False</td>\n      <td>[]</td>\n    </tr>\n  </tbody>\n</table>\n<p>87 rows × 15 columns</p>\n</div>"
     },
     "metadata": {},
     "output_type": "display_data"
    },
    {
     "name": "stdout",
     "output_type": "stream",
     "text": [
      "CPU times: total: 31.2 ms\n",
      "Wall time: 34 ms\n"
     ]
    }
   ],
   "source": [
    "%%time\n",
    "\n",
    "dropped = filtered_more.dropna(axis=1, how='all')\n",
    "dropped.reset_index(drop=True, inplace=True)\n",
    "\n",
    "display(\"== Dropped And Reset Data ==\")\n",
    "display(dropped.shape)\n",
    "display(dropped)"
   ],
   "metadata": {
    "collapsed": false,
    "ExecuteTime": {
     "end_time": "2023-05-21T12:11:41.318194100Z",
     "start_time": "2023-05-21T12:11:40.899186200Z"
    }
   }
  },
  {
   "cell_type": "code",
   "execution_count": 20,
   "outputs": [
    {
     "data": {
      "text/plain": "(39632, 15)"
     },
     "metadata": {},
     "output_type": "display_data"
    },
    {
     "data": {
      "text/plain": "            id              subreddit              author   \n0      100rn7k               AmIhotAF        veritynicole  \\\n1      1013bdt               AmIhotAF         RaulDea9286   \n2      105mekt               AmIhotAF            lindaniz   \n3      105qvgl               AmIhotAF         CaitVLove11   \n4      105rpcj               AmIhotAF     Flashy-Desk1858   \n...        ...                    ...                 ...   \n39627  13n9x6y       bathandbodyworks  PhysicalCharacter3   \n39628  13nc2ad       bathandbodyworks       TFCosplayer92   \n39629  13nczq7       bathandbodyworks    blondenextdoor30   \n39630  13nd8ob       bathandbodyworks        angry_owl253   \n39631  13n9xdx  AesPleasingAsianGirls        yummybanchan   \n\n                                                   title   \n0                    hey, hows your new year going (23F)  \\\n1                                          36F - ITALIAN   \n2         interesting in good forward relationship (f24)   \n3                              Laughing is my favorite 😆   \n4               [f22] What do you think when you see me?   \n...                                                  ...   \n39627                      Anyone buy or try this one? 👀   \n39628                Just a SMALL Firecracker Pop Haul 🤣   \n39629  Happy Saturday from the West Coast!🌞🩶🍾 What’s ...   \n39630                                       Sunset glow!   \n39631                                         Song Yu Qi   \n\n                                                 caption   \n0      a woman in a white shirt and black pants is po...  \\\n1                arafed image of a woman in a bikini top   \n2      a close up of a woman with red hair and a whit...   \n3      a woman in a blue tank top and shorts is smili...   \n4        a woman in a blue bikini top and a blue bra top   \n...                                                  ...   \n39627    a close up of a jar of candles on a store shelf   \n39628   arafed items are laid out on the floor in a room   \n39629   candles are lit on a counter top with a gold lid   \n39630  there is a bottle of liquid and a bag of soap ...   \n39631  araffe asian woman in black dress holding a bo...   \n\n                                   hash   \n0      4bd00c19fa0ff2ade855e6d364b0760b  \\\n1      7c0d158cba8654ef1c635cbc5471d597   \n2      ba4a0962cca2266a741e1e1700589c04   \n3      27bfe82c37314a0bcf02ab72eaf3a9e5   \n4      329eb42b8267fa1cc2980da8e48bcef1   \n...                                 ...   \n39627  77b37fb1987d8d0d8aff7cadd6942b95   \n39628  e4e276e4dbd240d546248f2951212e2e   \n39629  8bcf2db56ca1390ad579fa44a0d5716d   \n39630  20357839c2d8e688ffd7deba0bb300eb   \n39631  ee475cccc09d80b6d77ad6efed75b812   \n\n                                               permalink   \n0      /r/AmIhotAF/comments/100rn7k/hey_hows_your_new...  \\\n1              /r/AmIhotAF/comments/1013bdt/36f_italian/   \n2      /r/AmIhotAF/comments/105mekt/interesting_in_go...   \n3      /r/AmIhotAF/comments/105qvgl/laughing_is_my_fa...   \n4      /r/AmIhotAF/comments/105rpcj/f22_what_do_you_t...   \n...                                                  ...   \n39627  /r/bathandbodyworks/comments/13n9x6y/anyone_bu...   \n39628  /r/bathandbodyworks/comments/13nc2ad/just_a_sm...   \n39629  /r/bathandbodyworks/comments/13nczq7/happy_sat...   \n39630  /r/bathandbodyworks/comments/13nd8ob/sunset_glow/   \n39631  /r/AesPleasingAsianGirls/comments/13n9xdx/song...   \n\n                              original_url   image_name   \n0      https://i.redd.it/n7r47s0gkh9a1.jpg  100rn7k.jpg  \\\n1      https://i.redd.it/bg0wwdlt5k9a1.jpg  1013bdt.jpg   \n2      https://i.redd.it/4avjshsz8naa1.jpg  105mekt.jpg   \n3      https://i.redd.it/2pulzr0lxmaa1.jpg  105qvgl.jpg   \n4      https://i.redd.it/rz68pf934naa1.jpg  105rpcj.jpg   \n...                                    ...          ...   \n39627  https://i.redd.it/paiuac5fk31b1.jpg  13n9x6y.jpg   \n39628  https://i.redd.it/lf40r0xk041b1.jpg  13nc2ad.jpg   \n39629  https://i.redd.it/7b78c8l2841b1.jpg  13nczq7.jpg   \n39630  https://i.redd.it/qr929v34a41b1.jpg  13nd8ob.jpg   \n39631  https://i.redd.it/xl0v8fgbk31b1.jpg  13n9xdx.jpg   \n\n                         path               model  exists  curated  accept   \n0      data/image/100rn7k.jpg       SexyDiffusion    True     True   False  \\\n1      data/image/1013bdt.jpg       SexyDiffusion    True     True    True   \n2      data/image/105mekt.jpg       SexyDiffusion    True     True    True   \n3      data/image/105qvgl.jpg       SexyDiffusion    True     True    True   \n4      data/image/105rpcj.jpg       SexyDiffusion    True     True    True   \n...                       ...                 ...     ...      ...     ...   \n39627  data/image/13n9x6y.jpg     CandleDiffusion    True    False   False   \n39628  data/image/13nc2ad.jpg     CandleDiffusion    True    False   False   \n39629  data/image/13nczq7.jpg     CandleDiffusion    True    False   False   \n39630  data/image/13nd8ob.jpg     CandleDiffusion    True    False   False   \n39631  data/image/13n9xdx.jpg  SexyAsianDiffusion    True    False   False   \n\n      tags  \n0       []  \n1       []  \n2       []  \n3       []  \n4       []  \n...    ...  \n39627   []  \n39628   []  \n39629   []  \n39630   []  \n39631   []  \n\n[39632 rows x 15 columns]",
      "text/html": "<div>\n<style scoped>\n    .dataframe tbody tr th:only-of-type {\n        vertical-align: middle;\n    }\n\n    .dataframe tbody tr th {\n        vertical-align: top;\n    }\n\n    .dataframe thead th {\n        text-align: right;\n    }\n</style>\n<table border=\"1\" class=\"dataframe\">\n  <thead>\n    <tr style=\"text-align: right;\">\n      <th></th>\n      <th>id</th>\n      <th>subreddit</th>\n      <th>author</th>\n      <th>title</th>\n      <th>caption</th>\n      <th>hash</th>\n      <th>permalink</th>\n      <th>original_url</th>\n      <th>image_name</th>\n      <th>path</th>\n      <th>model</th>\n      <th>exists</th>\n      <th>curated</th>\n      <th>accept</th>\n      <th>tags</th>\n    </tr>\n  </thead>\n  <tbody>\n    <tr>\n      <th>0</th>\n      <td>100rn7k</td>\n      <td>AmIhotAF</td>\n      <td>veritynicole</td>\n      <td>hey, hows your new year going (23F)</td>\n      <td>a woman in a white shirt and black pants is po...</td>\n      <td>4bd00c19fa0ff2ade855e6d364b0760b</td>\n      <td>/r/AmIhotAF/comments/100rn7k/hey_hows_your_new...</td>\n      <td>https://i.redd.it/n7r47s0gkh9a1.jpg</td>\n      <td>100rn7k.jpg</td>\n      <td>data/image/100rn7k.jpg</td>\n      <td>SexyDiffusion</td>\n      <td>True</td>\n      <td>True</td>\n      <td>False</td>\n      <td>[]</td>\n    </tr>\n    <tr>\n      <th>1</th>\n      <td>1013bdt</td>\n      <td>AmIhotAF</td>\n      <td>RaulDea9286</td>\n      <td>36F - ITALIAN</td>\n      <td>arafed image of a woman in a bikini top</td>\n      <td>7c0d158cba8654ef1c635cbc5471d597</td>\n      <td>/r/AmIhotAF/comments/1013bdt/36f_italian/</td>\n      <td>https://i.redd.it/bg0wwdlt5k9a1.jpg</td>\n      <td>1013bdt.jpg</td>\n      <td>data/image/1013bdt.jpg</td>\n      <td>SexyDiffusion</td>\n      <td>True</td>\n      <td>True</td>\n      <td>True</td>\n      <td>[]</td>\n    </tr>\n    <tr>\n      <th>2</th>\n      <td>105mekt</td>\n      <td>AmIhotAF</td>\n      <td>lindaniz</td>\n      <td>interesting in good forward relationship (f24)</td>\n      <td>a close up of a woman with red hair and a whit...</td>\n      <td>ba4a0962cca2266a741e1e1700589c04</td>\n      <td>/r/AmIhotAF/comments/105mekt/interesting_in_go...</td>\n      <td>https://i.redd.it/4avjshsz8naa1.jpg</td>\n      <td>105mekt.jpg</td>\n      <td>data/image/105mekt.jpg</td>\n      <td>SexyDiffusion</td>\n      <td>True</td>\n      <td>True</td>\n      <td>True</td>\n      <td>[]</td>\n    </tr>\n    <tr>\n      <th>3</th>\n      <td>105qvgl</td>\n      <td>AmIhotAF</td>\n      <td>CaitVLove11</td>\n      <td>Laughing is my favorite 😆</td>\n      <td>a woman in a blue tank top and shorts is smili...</td>\n      <td>27bfe82c37314a0bcf02ab72eaf3a9e5</td>\n      <td>/r/AmIhotAF/comments/105qvgl/laughing_is_my_fa...</td>\n      <td>https://i.redd.it/2pulzr0lxmaa1.jpg</td>\n      <td>105qvgl.jpg</td>\n      <td>data/image/105qvgl.jpg</td>\n      <td>SexyDiffusion</td>\n      <td>True</td>\n      <td>True</td>\n      <td>True</td>\n      <td>[]</td>\n    </tr>\n    <tr>\n      <th>4</th>\n      <td>105rpcj</td>\n      <td>AmIhotAF</td>\n      <td>Flashy-Desk1858</td>\n      <td>[f22] What do you think when you see me?</td>\n      <td>a woman in a blue bikini top and a blue bra top</td>\n      <td>329eb42b8267fa1cc2980da8e48bcef1</td>\n      <td>/r/AmIhotAF/comments/105rpcj/f22_what_do_you_t...</td>\n      <td>https://i.redd.it/rz68pf934naa1.jpg</td>\n      <td>105rpcj.jpg</td>\n      <td>data/image/105rpcj.jpg</td>\n      <td>SexyDiffusion</td>\n      <td>True</td>\n      <td>True</td>\n      <td>True</td>\n      <td>[]</td>\n    </tr>\n    <tr>\n      <th>...</th>\n      <td>...</td>\n      <td>...</td>\n      <td>...</td>\n      <td>...</td>\n      <td>...</td>\n      <td>...</td>\n      <td>...</td>\n      <td>...</td>\n      <td>...</td>\n      <td>...</td>\n      <td>...</td>\n      <td>...</td>\n      <td>...</td>\n      <td>...</td>\n      <td>...</td>\n    </tr>\n    <tr>\n      <th>39627</th>\n      <td>13n9x6y</td>\n      <td>bathandbodyworks</td>\n      <td>PhysicalCharacter3</td>\n      <td>Anyone buy or try this one? 👀</td>\n      <td>a close up of a jar of candles on a store shelf</td>\n      <td>77b37fb1987d8d0d8aff7cadd6942b95</td>\n      <td>/r/bathandbodyworks/comments/13n9x6y/anyone_bu...</td>\n      <td>https://i.redd.it/paiuac5fk31b1.jpg</td>\n      <td>13n9x6y.jpg</td>\n      <td>data/image/13n9x6y.jpg</td>\n      <td>CandleDiffusion</td>\n      <td>True</td>\n      <td>False</td>\n      <td>False</td>\n      <td>[]</td>\n    </tr>\n    <tr>\n      <th>39628</th>\n      <td>13nc2ad</td>\n      <td>bathandbodyworks</td>\n      <td>TFCosplayer92</td>\n      <td>Just a SMALL Firecracker Pop Haul 🤣</td>\n      <td>arafed items are laid out on the floor in a room</td>\n      <td>e4e276e4dbd240d546248f2951212e2e</td>\n      <td>/r/bathandbodyworks/comments/13nc2ad/just_a_sm...</td>\n      <td>https://i.redd.it/lf40r0xk041b1.jpg</td>\n      <td>13nc2ad.jpg</td>\n      <td>data/image/13nc2ad.jpg</td>\n      <td>CandleDiffusion</td>\n      <td>True</td>\n      <td>False</td>\n      <td>False</td>\n      <td>[]</td>\n    </tr>\n    <tr>\n      <th>39629</th>\n      <td>13nczq7</td>\n      <td>bathandbodyworks</td>\n      <td>blondenextdoor30</td>\n      <td>Happy Saturday from the West Coast!🌞🩶🍾 What’s ...</td>\n      <td>candles are lit on a counter top with a gold lid</td>\n      <td>8bcf2db56ca1390ad579fa44a0d5716d</td>\n      <td>/r/bathandbodyworks/comments/13nczq7/happy_sat...</td>\n      <td>https://i.redd.it/7b78c8l2841b1.jpg</td>\n      <td>13nczq7.jpg</td>\n      <td>data/image/13nczq7.jpg</td>\n      <td>CandleDiffusion</td>\n      <td>True</td>\n      <td>False</td>\n      <td>False</td>\n      <td>[]</td>\n    </tr>\n    <tr>\n      <th>39630</th>\n      <td>13nd8ob</td>\n      <td>bathandbodyworks</td>\n      <td>angry_owl253</td>\n      <td>Sunset glow!</td>\n      <td>there is a bottle of liquid and a bag of soap ...</td>\n      <td>20357839c2d8e688ffd7deba0bb300eb</td>\n      <td>/r/bathandbodyworks/comments/13nd8ob/sunset_glow/</td>\n      <td>https://i.redd.it/qr929v34a41b1.jpg</td>\n      <td>13nd8ob.jpg</td>\n      <td>data/image/13nd8ob.jpg</td>\n      <td>CandleDiffusion</td>\n      <td>True</td>\n      <td>False</td>\n      <td>False</td>\n      <td>[]</td>\n    </tr>\n    <tr>\n      <th>39631</th>\n      <td>13n9xdx</td>\n      <td>AesPleasingAsianGirls</td>\n      <td>yummybanchan</td>\n      <td>Song Yu Qi</td>\n      <td>araffe asian woman in black dress holding a bo...</td>\n      <td>ee475cccc09d80b6d77ad6efed75b812</td>\n      <td>/r/AesPleasingAsianGirls/comments/13n9xdx/song...</td>\n      <td>https://i.redd.it/xl0v8fgbk31b1.jpg</td>\n      <td>13n9xdx.jpg</td>\n      <td>data/image/13n9xdx.jpg</td>\n      <td>SexyAsianDiffusion</td>\n      <td>True</td>\n      <td>False</td>\n      <td>False</td>\n      <td>[]</td>\n    </tr>\n  </tbody>\n</table>\n<p>39632 rows × 15 columns</p>\n</div>"
     },
     "metadata": {},
     "output_type": "display_data"
    },
    {
     "name": "stdout",
     "output_type": "stream",
     "text": [
      "CPU times: total: 609 ms\n",
      "Wall time: 1.32 s\n"
     ]
    }
   ],
   "source": [
    "%%time\n",
    "\n",
    "current = pandas.read_parquet(\"data/parquet/back.parquet\", engine='pyarrow', filesystem=file_system)\n",
    "\n",
    "display(current.shape)\n",
    "display(current)"
   ],
   "metadata": {
    "collapsed": false,
    "ExecuteTime": {
     "end_time": "2023-05-21T12:11:42.626714300Z",
     "start_time": "2023-05-21T12:11:40.966188800Z"
    }
   }
  },
  {
   "cell_type": "code",
   "execution_count": 21,
   "outputs": [
    {
     "name": "stdout",
     "output_type": "stream",
     "text": [
      "CPU times: total: 15.6 ms\n",
      "Wall time: 13 ms\n"
     ]
    },
    {
     "data": {
      "text/plain": "              id              subreddit                author   \nid                                                              \n13nhxcp  13nhxcp            SFWRedheads         Middle-Ad4300  \\\n13nifj6  13nifj6            SFWRedheads    arayofsexysunshine   \n13njz51  13njz51            SFWRedheads         madelynlouise   \n13nka7r  13nka7r            SFWRedheads              celluxxx   \n13np8z0  13np8z0            SFWRedheads  Junior-Midnight-8241   \n...          ...                    ...                   ...   \n13no1on  13no1on                   DLAH  Majestic_Painter8660   \n13nhylw  13nhylw       bathandbodyworks          BathbeautyXO   \n13nlz14  13nlz14       bathandbodyworks  Fresh-Blueberry-milk   \n13npfx3  13npfx3       bathandbodyworks         singshopsleep   \n13nnpg1  13nnpg1  AesPleasingAsianGirls           miazinhaaaa   \n\n                                                     title   \nid                                                           \n13nhxcp                                           Hello 👋🏻  \\\n13nifj6  What a crazy and touching time I’ve had on the...   \n13njz51                  Went to the grocery store in this   \n13nka7r                        Felt cute in this outfit ❤️   \n13np8z0                              Do I look innocent? 👀   \n...                                                    ...   \n13no1on                        Tight dress, legs and heels   \n13nhylw           (Late) February/valentines empties! 💕❤️💖   \n13nlz14  figured this would be appreciated 😏 also what ...   \n13npfx3                              All of Today's Offers   \n13nnpg1                     I love this beach (Copacabana)   \n\n                                                   caption   \nid                                                           \n13nhxcp  arafed woman sitting in a car with her legs cr...  \\\n13nifj6  arafed woman with red hair wearing a green jac...   \n13njz51       there is a woman taking a selfie in a mirror   \n13nka7r  there is a woman sitting on a bed with a red d...   \n13np8z0  arafed woman with long red hair and white top ...   \n...                                                    ...   \n13no1on      there is a woman sitting on a chair in a room   \n13nhylw  there are many different types of skin care pr...   \n13nlz14  someone is holding a bottle of lotion in their...   \n13npfx3  a poster with a variety of products for sale o...   \n13nnpg1  araffe woman in a white bikini standing on the...   \n\n                                     hash   \nid                                          \n13nhxcp  955d683562bc7177e5369c129030c888  \\\n13nifj6  f59f2c71f8c64da25432c72fa2ddd099   \n13njz51  7e70167383380384e1f6fe47455faf0f   \n13nka7r  49bed56ba79c6c236ca818ed33b2cd04   \n13np8z0  17c5c634443b786c265dbe4bded9f20f   \n...                                   ...   \n13no1on  dbab04d6a37e17e6cc6df9cfc16ed51e   \n13nhylw  7d79ab2ad5d7fe73454db01b4351388c   \n13nlz14  8b7dfc23aeb352024f0a696ab49351ae   \n13npfx3  635af0f6bb1a2b81c9ce46bd29374d72   \n13nnpg1  9f06af9e6fb671f8f828e62a0949a9af   \n\n                                                 permalink   \nid                                                           \n13nhxcp             /r/SFWRedheads/comments/13nhxcp/hello/  \\\n13nifj6  /r/SFWRedheads/comments/13nifj6/what_a_crazy_a...   \n13njz51  /r/SFWRedheads/comments/13njz51/went_to_the_gr...   \n13nka7r  /r/SFWRedheads/comments/13nka7r/felt_cute_in_t...   \n13np8z0  /r/SFWRedheads/comments/13np8z0/do_i_look_inno...   \n...                                                    ...   \n13no1on  /r/DLAH/comments/13no1on/tight_dress_legs_and_...   \n13nhylw  /r/bathandbodyworks/comments/13nhylw/late_febr...   \n13nlz14  /r/bathandbodyworks/comments/13nlz14/figured_t...   \n13npfx3  /r/bathandbodyworks/comments/13npfx3/all_of_to...   \n13nnpg1  /r/AesPleasingAsianGirls/comments/13nnpg1/i_lo...   \n\n                                original_url   image_name   \nid                                                          \n13nhxcp  https://i.redd.it/1g3nvmrwv31b1.jpg  13nhxcp.jpg  \\\n13nifj6  https://i.redd.it/f2anwulzh51b1.jpg  13nifj6.jpg   \n13njz51  https://i.redd.it/wcr5fnxcw51b1.jpg  13njz51.jpg   \n13nka7r  https://i.redd.it/m1lefhhaz51b1.jpg  13nka7r.jpg   \n13np8z0  https://i.redd.it/nf7kb3tub71b1.jpg  13np8z0.jpg   \n...                                      ...          ...   \n13no1on  https://i.redd.it/0pq456mci51b1.jpg  13no1on.jpg   \n13nhylw  https://i.redd.it/t2yvxblvd51b1.jpg  13nhylw.jpg   \n13nlz14  https://i.redd.it/or6fujdmf61b1.jpg  13nlz14.jpg   \n13npfx3  https://i.redd.it/skqywk3qd71b1.jpg  13npfx3.jpg   \n13nnpg1  https://i.redd.it/7udfhs8ow61b1.jpg  13nnpg1.jpg   \n\n                           path                model  exists  curated accept   \nid                                                                             \n13nhxcp  data/image/13nhxcp.jpg     RedHeadDiffusion    True    False  False  \\\n13nifj6  data/image/13nifj6.jpg     RedHeadDiffusion    True    False  False   \n13njz51  data/image/13njz51.jpg     RedHeadDiffusion    True    False  False   \n13nka7r  data/image/13nka7r.jpg     RedHeadDiffusion    True    False  False   \n13np8z0  data/image/13np8z0.jpg     RedHeadDiffusion    True    False  False   \n...                         ...                  ...     ...      ...    ...   \n13no1on  data/image/13no1on.jpg  PrettyGirlDiffusion    True    False  False   \n13nhylw  data/image/13nhylw.jpg      CandleDiffusion    True    False  False   \n13nlz14  data/image/13nlz14.jpg      CandleDiffusion    True    False  False   \n13npfx3  data/image/13npfx3.jpg      CandleDiffusion    True    False  False   \n13nnpg1  data/image/13nnpg1.jpg   SexyAsianDiffusion    True    False  False   \n\n        tags  \nid            \n13nhxcp   []  \n13nifj6   []  \n13njz51   []  \n13nka7r   []  \n13np8z0   []  \n...      ...  \n13no1on   []  \n13nhylw   []  \n13nlz14   []  \n13npfx3   []  \n13nnpg1   []  \n\n[87 rows x 15 columns]",
      "text/html": "<div>\n<style scoped>\n    .dataframe tbody tr th:only-of-type {\n        vertical-align: middle;\n    }\n\n    .dataframe tbody tr th {\n        vertical-align: top;\n    }\n\n    .dataframe thead th {\n        text-align: right;\n    }\n</style>\n<table border=\"1\" class=\"dataframe\">\n  <thead>\n    <tr style=\"text-align: right;\">\n      <th></th>\n      <th>id</th>\n      <th>subreddit</th>\n      <th>author</th>\n      <th>title</th>\n      <th>caption</th>\n      <th>hash</th>\n      <th>permalink</th>\n      <th>original_url</th>\n      <th>image_name</th>\n      <th>path</th>\n      <th>model</th>\n      <th>exists</th>\n      <th>curated</th>\n      <th>accept</th>\n      <th>tags</th>\n    </tr>\n    <tr>\n      <th>id</th>\n      <th></th>\n      <th></th>\n      <th></th>\n      <th></th>\n      <th></th>\n      <th></th>\n      <th></th>\n      <th></th>\n      <th></th>\n      <th></th>\n      <th></th>\n      <th></th>\n      <th></th>\n      <th></th>\n      <th></th>\n    </tr>\n  </thead>\n  <tbody>\n    <tr>\n      <th>13nhxcp</th>\n      <td>13nhxcp</td>\n      <td>SFWRedheads</td>\n      <td>Middle-Ad4300</td>\n      <td>Hello 👋🏻</td>\n      <td>arafed woman sitting in a car with her legs cr...</td>\n      <td>955d683562bc7177e5369c129030c888</td>\n      <td>/r/SFWRedheads/comments/13nhxcp/hello/</td>\n      <td>https://i.redd.it/1g3nvmrwv31b1.jpg</td>\n      <td>13nhxcp.jpg</td>\n      <td>data/image/13nhxcp.jpg</td>\n      <td>RedHeadDiffusion</td>\n      <td>True</td>\n      <td>False</td>\n      <td>False</td>\n      <td>[]</td>\n    </tr>\n    <tr>\n      <th>13nifj6</th>\n      <td>13nifj6</td>\n      <td>SFWRedheads</td>\n      <td>arayofsexysunshine</td>\n      <td>What a crazy and touching time I’ve had on the...</td>\n      <td>arafed woman with red hair wearing a green jac...</td>\n      <td>f59f2c71f8c64da25432c72fa2ddd099</td>\n      <td>/r/SFWRedheads/comments/13nifj6/what_a_crazy_a...</td>\n      <td>https://i.redd.it/f2anwulzh51b1.jpg</td>\n      <td>13nifj6.jpg</td>\n      <td>data/image/13nifj6.jpg</td>\n      <td>RedHeadDiffusion</td>\n      <td>True</td>\n      <td>False</td>\n      <td>False</td>\n      <td>[]</td>\n    </tr>\n    <tr>\n      <th>13njz51</th>\n      <td>13njz51</td>\n      <td>SFWRedheads</td>\n      <td>madelynlouise</td>\n      <td>Went to the grocery store in this</td>\n      <td>there is a woman taking a selfie in a mirror</td>\n      <td>7e70167383380384e1f6fe47455faf0f</td>\n      <td>/r/SFWRedheads/comments/13njz51/went_to_the_gr...</td>\n      <td>https://i.redd.it/wcr5fnxcw51b1.jpg</td>\n      <td>13njz51.jpg</td>\n      <td>data/image/13njz51.jpg</td>\n      <td>RedHeadDiffusion</td>\n      <td>True</td>\n      <td>False</td>\n      <td>False</td>\n      <td>[]</td>\n    </tr>\n    <tr>\n      <th>13nka7r</th>\n      <td>13nka7r</td>\n      <td>SFWRedheads</td>\n      <td>celluxxx</td>\n      <td>Felt cute in this outfit ❤️</td>\n      <td>there is a woman sitting on a bed with a red d...</td>\n      <td>49bed56ba79c6c236ca818ed33b2cd04</td>\n      <td>/r/SFWRedheads/comments/13nka7r/felt_cute_in_t...</td>\n      <td>https://i.redd.it/m1lefhhaz51b1.jpg</td>\n      <td>13nka7r.jpg</td>\n      <td>data/image/13nka7r.jpg</td>\n      <td>RedHeadDiffusion</td>\n      <td>True</td>\n      <td>False</td>\n      <td>False</td>\n      <td>[]</td>\n    </tr>\n    <tr>\n      <th>13np8z0</th>\n      <td>13np8z0</td>\n      <td>SFWRedheads</td>\n      <td>Junior-Midnight-8241</td>\n      <td>Do I look innocent? 👀</td>\n      <td>arafed woman with long red hair and white top ...</td>\n      <td>17c5c634443b786c265dbe4bded9f20f</td>\n      <td>/r/SFWRedheads/comments/13np8z0/do_i_look_inno...</td>\n      <td>https://i.redd.it/nf7kb3tub71b1.jpg</td>\n      <td>13np8z0.jpg</td>\n      <td>data/image/13np8z0.jpg</td>\n      <td>RedHeadDiffusion</td>\n      <td>True</td>\n      <td>False</td>\n      <td>False</td>\n      <td>[]</td>\n    </tr>\n    <tr>\n      <th>...</th>\n      <td>...</td>\n      <td>...</td>\n      <td>...</td>\n      <td>...</td>\n      <td>...</td>\n      <td>...</td>\n      <td>...</td>\n      <td>...</td>\n      <td>...</td>\n      <td>...</td>\n      <td>...</td>\n      <td>...</td>\n      <td>...</td>\n      <td>...</td>\n      <td>...</td>\n    </tr>\n    <tr>\n      <th>13no1on</th>\n      <td>13no1on</td>\n      <td>DLAH</td>\n      <td>Majestic_Painter8660</td>\n      <td>Tight dress, legs and heels</td>\n      <td>there is a woman sitting on a chair in a room</td>\n      <td>dbab04d6a37e17e6cc6df9cfc16ed51e</td>\n      <td>/r/DLAH/comments/13no1on/tight_dress_legs_and_...</td>\n      <td>https://i.redd.it/0pq456mci51b1.jpg</td>\n      <td>13no1on.jpg</td>\n      <td>data/image/13no1on.jpg</td>\n      <td>PrettyGirlDiffusion</td>\n      <td>True</td>\n      <td>False</td>\n      <td>False</td>\n      <td>[]</td>\n    </tr>\n    <tr>\n      <th>13nhylw</th>\n      <td>13nhylw</td>\n      <td>bathandbodyworks</td>\n      <td>BathbeautyXO</td>\n      <td>(Late) February/valentines empties! 💕❤️💖</td>\n      <td>there are many different types of skin care pr...</td>\n      <td>7d79ab2ad5d7fe73454db01b4351388c</td>\n      <td>/r/bathandbodyworks/comments/13nhylw/late_febr...</td>\n      <td>https://i.redd.it/t2yvxblvd51b1.jpg</td>\n      <td>13nhylw.jpg</td>\n      <td>data/image/13nhylw.jpg</td>\n      <td>CandleDiffusion</td>\n      <td>True</td>\n      <td>False</td>\n      <td>False</td>\n      <td>[]</td>\n    </tr>\n    <tr>\n      <th>13nlz14</th>\n      <td>13nlz14</td>\n      <td>bathandbodyworks</td>\n      <td>Fresh-Blueberry-milk</td>\n      <td>figured this would be appreciated 😏 also what ...</td>\n      <td>someone is holding a bottle of lotion in their...</td>\n      <td>8b7dfc23aeb352024f0a696ab49351ae</td>\n      <td>/r/bathandbodyworks/comments/13nlz14/figured_t...</td>\n      <td>https://i.redd.it/or6fujdmf61b1.jpg</td>\n      <td>13nlz14.jpg</td>\n      <td>data/image/13nlz14.jpg</td>\n      <td>CandleDiffusion</td>\n      <td>True</td>\n      <td>False</td>\n      <td>False</td>\n      <td>[]</td>\n    </tr>\n    <tr>\n      <th>13npfx3</th>\n      <td>13npfx3</td>\n      <td>bathandbodyworks</td>\n      <td>singshopsleep</td>\n      <td>All of Today's Offers</td>\n      <td>a poster with a variety of products for sale o...</td>\n      <td>635af0f6bb1a2b81c9ce46bd29374d72</td>\n      <td>/r/bathandbodyworks/comments/13npfx3/all_of_to...</td>\n      <td>https://i.redd.it/skqywk3qd71b1.jpg</td>\n      <td>13npfx3.jpg</td>\n      <td>data/image/13npfx3.jpg</td>\n      <td>CandleDiffusion</td>\n      <td>True</td>\n      <td>False</td>\n      <td>False</td>\n      <td>[]</td>\n    </tr>\n    <tr>\n      <th>13nnpg1</th>\n      <td>13nnpg1</td>\n      <td>AesPleasingAsianGirls</td>\n      <td>miazinhaaaa</td>\n      <td>I love this beach (Copacabana)</td>\n      <td>araffe woman in a white bikini standing on the...</td>\n      <td>9f06af9e6fb671f8f828e62a0949a9af</td>\n      <td>/r/AesPleasingAsianGirls/comments/13nnpg1/i_lo...</td>\n      <td>https://i.redd.it/7udfhs8ow61b1.jpg</td>\n      <td>13nnpg1.jpg</td>\n      <td>data/image/13nnpg1.jpg</td>\n      <td>SexyAsianDiffusion</td>\n      <td>True</td>\n      <td>False</td>\n      <td>False</td>\n      <td>[]</td>\n    </tr>\n  </tbody>\n</table>\n<p>87 rows × 15 columns</p>\n</div>"
     },
     "execution_count": 21,
     "metadata": {},
     "output_type": "execute_result"
    }
   ],
   "source": [
    "%%time\n",
    "\n",
    "temp_current = current\n",
    "temp_current.set_index('id', inplace=True, drop=False)\n",
    "\n",
    "temp_new = dropped\n",
    "temp_new.set_index('id', inplace=True, drop=False)\n",
    "\n",
    "temp_new.loc[~temp_new.index.isin(temp_current.index)]"
   ],
   "metadata": {
    "collapsed": false,
    "ExecuteTime": {
     "end_time": "2023-05-21T12:11:42.657712300Z",
     "start_time": "2023-05-21T12:11:42.279715500Z"
    }
   }
  },
  {
   "cell_type": "code",
   "execution_count": 22,
   "outputs": [
    {
     "data": {
      "text/plain": "'== Concatenated Data =='"
     },
     "metadata": {},
     "output_type": "display_data"
    },
    {
     "data": {
      "text/plain": "(39719, 15)"
     },
     "metadata": {},
     "output_type": "display_data"
    },
    {
     "data": {
      "text/plain": "              id              subreddit                author   \nid                                                              \n100rn7k  100rn7k               AmIhotAF          veritynicole  \\\n1013bdt  1013bdt               AmIhotAF           RaulDea9286   \n105mekt  105mekt               AmIhotAF              lindaniz   \n105qvgl  105qvgl               AmIhotAF           CaitVLove11   \n105rpcj  105rpcj               AmIhotAF       Flashy-Desk1858   \n...          ...                    ...                   ...   \n13no1on  13no1on                   DLAH  Majestic_Painter8660   \n13nhylw  13nhylw       bathandbodyworks          BathbeautyXO   \n13nlz14  13nlz14       bathandbodyworks  Fresh-Blueberry-milk   \n13npfx3  13npfx3       bathandbodyworks         singshopsleep   \n13nnpg1  13nnpg1  AesPleasingAsianGirls           miazinhaaaa   \n\n                                                     title   \nid                                                           \n100rn7k                hey, hows your new year going (23F)  \\\n1013bdt                                      36F - ITALIAN   \n105mekt     interesting in good forward relationship (f24)   \n105qvgl                          Laughing is my favorite 😆   \n105rpcj           [f22] What do you think when you see me?   \n...                                                    ...   \n13no1on                        Tight dress, legs and heels   \n13nhylw           (Late) February/valentines empties! 💕❤️💖   \n13nlz14  figured this would be appreciated 😏 also what ...   \n13npfx3                              All of Today's Offers   \n13nnpg1                     I love this beach (Copacabana)   \n\n                                                   caption   \nid                                                           \n100rn7k  a woman in a white shirt and black pants is po...  \\\n1013bdt            arafed image of a woman in a bikini top   \n105mekt  a close up of a woman with red hair and a whit...   \n105qvgl  a woman in a blue tank top and shorts is smili...   \n105rpcj    a woman in a blue bikini top and a blue bra top   \n...                                                    ...   \n13no1on      there is a woman sitting on a chair in a room   \n13nhylw  there are many different types of skin care pr...   \n13nlz14  someone is holding a bottle of lotion in their...   \n13npfx3  a poster with a variety of products for sale o...   \n13nnpg1  araffe woman in a white bikini standing on the...   \n\n                                     hash   \nid                                          \n100rn7k  4bd00c19fa0ff2ade855e6d364b0760b  \\\n1013bdt  7c0d158cba8654ef1c635cbc5471d597   \n105mekt  ba4a0962cca2266a741e1e1700589c04   \n105qvgl  27bfe82c37314a0bcf02ab72eaf3a9e5   \n105rpcj  329eb42b8267fa1cc2980da8e48bcef1   \n...                                   ...   \n13no1on  dbab04d6a37e17e6cc6df9cfc16ed51e   \n13nhylw  7d79ab2ad5d7fe73454db01b4351388c   \n13nlz14  8b7dfc23aeb352024f0a696ab49351ae   \n13npfx3  635af0f6bb1a2b81c9ce46bd29374d72   \n13nnpg1  9f06af9e6fb671f8f828e62a0949a9af   \n\n                                                 permalink   \nid                                                           \n100rn7k  /r/AmIhotAF/comments/100rn7k/hey_hows_your_new...  \\\n1013bdt          /r/AmIhotAF/comments/1013bdt/36f_italian/   \n105mekt  /r/AmIhotAF/comments/105mekt/interesting_in_go...   \n105qvgl  /r/AmIhotAF/comments/105qvgl/laughing_is_my_fa...   \n105rpcj  /r/AmIhotAF/comments/105rpcj/f22_what_do_you_t...   \n...                                                    ...   \n13no1on  /r/DLAH/comments/13no1on/tight_dress_legs_and_...   \n13nhylw  /r/bathandbodyworks/comments/13nhylw/late_febr...   \n13nlz14  /r/bathandbodyworks/comments/13nlz14/figured_t...   \n13npfx3  /r/bathandbodyworks/comments/13npfx3/all_of_to...   \n13nnpg1  /r/AesPleasingAsianGirls/comments/13nnpg1/i_lo...   \n\n                                original_url   image_name   \nid                                                          \n100rn7k  https://i.redd.it/n7r47s0gkh9a1.jpg  100rn7k.jpg  \\\n1013bdt  https://i.redd.it/bg0wwdlt5k9a1.jpg  1013bdt.jpg   \n105mekt  https://i.redd.it/4avjshsz8naa1.jpg  105mekt.jpg   \n105qvgl  https://i.redd.it/2pulzr0lxmaa1.jpg  105qvgl.jpg   \n105rpcj  https://i.redd.it/rz68pf934naa1.jpg  105rpcj.jpg   \n...                                      ...          ...   \n13no1on  https://i.redd.it/0pq456mci51b1.jpg  13no1on.jpg   \n13nhylw  https://i.redd.it/t2yvxblvd51b1.jpg  13nhylw.jpg   \n13nlz14  https://i.redd.it/or6fujdmf61b1.jpg  13nlz14.jpg   \n13npfx3  https://i.redd.it/skqywk3qd71b1.jpg  13npfx3.jpg   \n13nnpg1  https://i.redd.it/7udfhs8ow61b1.jpg  13nnpg1.jpg   \n\n                           path                model  exists  curated accept   \nid                                                                             \n100rn7k  data/image/100rn7k.jpg        SexyDiffusion    True     True  False  \\\n1013bdt  data/image/1013bdt.jpg        SexyDiffusion    True     True   True   \n105mekt  data/image/105mekt.jpg        SexyDiffusion    True     True   True   \n105qvgl  data/image/105qvgl.jpg        SexyDiffusion    True     True   True   \n105rpcj  data/image/105rpcj.jpg        SexyDiffusion    True     True   True   \n...                         ...                  ...     ...      ...    ...   \n13no1on  data/image/13no1on.jpg  PrettyGirlDiffusion    True    False  False   \n13nhylw  data/image/13nhylw.jpg      CandleDiffusion    True    False  False   \n13nlz14  data/image/13nlz14.jpg      CandleDiffusion    True    False  False   \n13npfx3  data/image/13npfx3.jpg      CandleDiffusion    True    False  False   \n13nnpg1  data/image/13nnpg1.jpg   SexyAsianDiffusion    True    False  False   \n\n        tags  \nid            \n100rn7k   []  \n1013bdt   []  \n105mekt   []  \n105qvgl   []  \n105rpcj   []  \n...      ...  \n13no1on   []  \n13nhylw   []  \n13nlz14   []  \n13npfx3   []  \n13nnpg1   []  \n\n[39719 rows x 15 columns]",
      "text/html": "<div>\n<style scoped>\n    .dataframe tbody tr th:only-of-type {\n        vertical-align: middle;\n    }\n\n    .dataframe tbody tr th {\n        vertical-align: top;\n    }\n\n    .dataframe thead th {\n        text-align: right;\n    }\n</style>\n<table border=\"1\" class=\"dataframe\">\n  <thead>\n    <tr style=\"text-align: right;\">\n      <th></th>\n      <th>id</th>\n      <th>subreddit</th>\n      <th>author</th>\n      <th>title</th>\n      <th>caption</th>\n      <th>hash</th>\n      <th>permalink</th>\n      <th>original_url</th>\n      <th>image_name</th>\n      <th>path</th>\n      <th>model</th>\n      <th>exists</th>\n      <th>curated</th>\n      <th>accept</th>\n      <th>tags</th>\n    </tr>\n    <tr>\n      <th>id</th>\n      <th></th>\n      <th></th>\n      <th></th>\n      <th></th>\n      <th></th>\n      <th></th>\n      <th></th>\n      <th></th>\n      <th></th>\n      <th></th>\n      <th></th>\n      <th></th>\n      <th></th>\n      <th></th>\n      <th></th>\n    </tr>\n  </thead>\n  <tbody>\n    <tr>\n      <th>100rn7k</th>\n      <td>100rn7k</td>\n      <td>AmIhotAF</td>\n      <td>veritynicole</td>\n      <td>hey, hows your new year going (23F)</td>\n      <td>a woman in a white shirt and black pants is po...</td>\n      <td>4bd00c19fa0ff2ade855e6d364b0760b</td>\n      <td>/r/AmIhotAF/comments/100rn7k/hey_hows_your_new...</td>\n      <td>https://i.redd.it/n7r47s0gkh9a1.jpg</td>\n      <td>100rn7k.jpg</td>\n      <td>data/image/100rn7k.jpg</td>\n      <td>SexyDiffusion</td>\n      <td>True</td>\n      <td>True</td>\n      <td>False</td>\n      <td>[]</td>\n    </tr>\n    <tr>\n      <th>1013bdt</th>\n      <td>1013bdt</td>\n      <td>AmIhotAF</td>\n      <td>RaulDea9286</td>\n      <td>36F - ITALIAN</td>\n      <td>arafed image of a woman in a bikini top</td>\n      <td>7c0d158cba8654ef1c635cbc5471d597</td>\n      <td>/r/AmIhotAF/comments/1013bdt/36f_italian/</td>\n      <td>https://i.redd.it/bg0wwdlt5k9a1.jpg</td>\n      <td>1013bdt.jpg</td>\n      <td>data/image/1013bdt.jpg</td>\n      <td>SexyDiffusion</td>\n      <td>True</td>\n      <td>True</td>\n      <td>True</td>\n      <td>[]</td>\n    </tr>\n    <tr>\n      <th>105mekt</th>\n      <td>105mekt</td>\n      <td>AmIhotAF</td>\n      <td>lindaniz</td>\n      <td>interesting in good forward relationship (f24)</td>\n      <td>a close up of a woman with red hair and a whit...</td>\n      <td>ba4a0962cca2266a741e1e1700589c04</td>\n      <td>/r/AmIhotAF/comments/105mekt/interesting_in_go...</td>\n      <td>https://i.redd.it/4avjshsz8naa1.jpg</td>\n      <td>105mekt.jpg</td>\n      <td>data/image/105mekt.jpg</td>\n      <td>SexyDiffusion</td>\n      <td>True</td>\n      <td>True</td>\n      <td>True</td>\n      <td>[]</td>\n    </tr>\n    <tr>\n      <th>105qvgl</th>\n      <td>105qvgl</td>\n      <td>AmIhotAF</td>\n      <td>CaitVLove11</td>\n      <td>Laughing is my favorite 😆</td>\n      <td>a woman in a blue tank top and shorts is smili...</td>\n      <td>27bfe82c37314a0bcf02ab72eaf3a9e5</td>\n      <td>/r/AmIhotAF/comments/105qvgl/laughing_is_my_fa...</td>\n      <td>https://i.redd.it/2pulzr0lxmaa1.jpg</td>\n      <td>105qvgl.jpg</td>\n      <td>data/image/105qvgl.jpg</td>\n      <td>SexyDiffusion</td>\n      <td>True</td>\n      <td>True</td>\n      <td>True</td>\n      <td>[]</td>\n    </tr>\n    <tr>\n      <th>105rpcj</th>\n      <td>105rpcj</td>\n      <td>AmIhotAF</td>\n      <td>Flashy-Desk1858</td>\n      <td>[f22] What do you think when you see me?</td>\n      <td>a woman in a blue bikini top and a blue bra top</td>\n      <td>329eb42b8267fa1cc2980da8e48bcef1</td>\n      <td>/r/AmIhotAF/comments/105rpcj/f22_what_do_you_t...</td>\n      <td>https://i.redd.it/rz68pf934naa1.jpg</td>\n      <td>105rpcj.jpg</td>\n      <td>data/image/105rpcj.jpg</td>\n      <td>SexyDiffusion</td>\n      <td>True</td>\n      <td>True</td>\n      <td>True</td>\n      <td>[]</td>\n    </tr>\n    <tr>\n      <th>...</th>\n      <td>...</td>\n      <td>...</td>\n      <td>...</td>\n      <td>...</td>\n      <td>...</td>\n      <td>...</td>\n      <td>...</td>\n      <td>...</td>\n      <td>...</td>\n      <td>...</td>\n      <td>...</td>\n      <td>...</td>\n      <td>...</td>\n      <td>...</td>\n      <td>...</td>\n    </tr>\n    <tr>\n      <th>13no1on</th>\n      <td>13no1on</td>\n      <td>DLAH</td>\n      <td>Majestic_Painter8660</td>\n      <td>Tight dress, legs and heels</td>\n      <td>there is a woman sitting on a chair in a room</td>\n      <td>dbab04d6a37e17e6cc6df9cfc16ed51e</td>\n      <td>/r/DLAH/comments/13no1on/tight_dress_legs_and_...</td>\n      <td>https://i.redd.it/0pq456mci51b1.jpg</td>\n      <td>13no1on.jpg</td>\n      <td>data/image/13no1on.jpg</td>\n      <td>PrettyGirlDiffusion</td>\n      <td>True</td>\n      <td>False</td>\n      <td>False</td>\n      <td>[]</td>\n    </tr>\n    <tr>\n      <th>13nhylw</th>\n      <td>13nhylw</td>\n      <td>bathandbodyworks</td>\n      <td>BathbeautyXO</td>\n      <td>(Late) February/valentines empties! 💕❤️💖</td>\n      <td>there are many different types of skin care pr...</td>\n      <td>7d79ab2ad5d7fe73454db01b4351388c</td>\n      <td>/r/bathandbodyworks/comments/13nhylw/late_febr...</td>\n      <td>https://i.redd.it/t2yvxblvd51b1.jpg</td>\n      <td>13nhylw.jpg</td>\n      <td>data/image/13nhylw.jpg</td>\n      <td>CandleDiffusion</td>\n      <td>True</td>\n      <td>False</td>\n      <td>False</td>\n      <td>[]</td>\n    </tr>\n    <tr>\n      <th>13nlz14</th>\n      <td>13nlz14</td>\n      <td>bathandbodyworks</td>\n      <td>Fresh-Blueberry-milk</td>\n      <td>figured this would be appreciated 😏 also what ...</td>\n      <td>someone is holding a bottle of lotion in their...</td>\n      <td>8b7dfc23aeb352024f0a696ab49351ae</td>\n      <td>/r/bathandbodyworks/comments/13nlz14/figured_t...</td>\n      <td>https://i.redd.it/or6fujdmf61b1.jpg</td>\n      <td>13nlz14.jpg</td>\n      <td>data/image/13nlz14.jpg</td>\n      <td>CandleDiffusion</td>\n      <td>True</td>\n      <td>False</td>\n      <td>False</td>\n      <td>[]</td>\n    </tr>\n    <tr>\n      <th>13npfx3</th>\n      <td>13npfx3</td>\n      <td>bathandbodyworks</td>\n      <td>singshopsleep</td>\n      <td>All of Today's Offers</td>\n      <td>a poster with a variety of products for sale o...</td>\n      <td>635af0f6bb1a2b81c9ce46bd29374d72</td>\n      <td>/r/bathandbodyworks/comments/13npfx3/all_of_to...</td>\n      <td>https://i.redd.it/skqywk3qd71b1.jpg</td>\n      <td>13npfx3.jpg</td>\n      <td>data/image/13npfx3.jpg</td>\n      <td>CandleDiffusion</td>\n      <td>True</td>\n      <td>False</td>\n      <td>False</td>\n      <td>[]</td>\n    </tr>\n    <tr>\n      <th>13nnpg1</th>\n      <td>13nnpg1</td>\n      <td>AesPleasingAsianGirls</td>\n      <td>miazinhaaaa</td>\n      <td>I love this beach (Copacabana)</td>\n      <td>araffe woman in a white bikini standing on the...</td>\n      <td>9f06af9e6fb671f8f828e62a0949a9af</td>\n      <td>/r/AesPleasingAsianGirls/comments/13nnpg1/i_lo...</td>\n      <td>https://i.redd.it/7udfhs8ow61b1.jpg</td>\n      <td>13nnpg1.jpg</td>\n      <td>data/image/13nnpg1.jpg</td>\n      <td>SexyAsianDiffusion</td>\n      <td>True</td>\n      <td>False</td>\n      <td>False</td>\n      <td>[]</td>\n    </tr>\n  </tbody>\n</table>\n<p>39719 rows × 15 columns</p>\n</div>"
     },
     "metadata": {},
     "output_type": "display_data"
    },
    {
     "name": "stdout",
     "output_type": "stream",
     "text": [
      "CPU times: total: 109 ms\n",
      "Wall time: 74 ms\n"
     ]
    }
   ],
   "source": [
    "%%time\n",
    "\n",
    "concat = pd.concat([current, dropped])\n",
    "\n",
    "display(\"== Concatenated Data ==\")\n",
    "display(concat.shape)\n",
    "display(concat)"
   ],
   "metadata": {
    "collapsed": false,
    "ExecuteTime": {
     "end_time": "2023-05-21T12:11:42.723712400Z",
     "start_time": "2023-05-21T12:11:42.381714300Z"
    }
   }
  },
  {
   "cell_type": "code",
   "execution_count": 23,
   "outputs": [
    {
     "name": "stderr",
     "output_type": "stream",
     "text": [
      "Progress: 100%|██████████| 39719/39719 [01:19<00:00, 501.46it/s] \n"
     ]
    },
    {
     "data": {
      "text/plain": "'== Concatenated Data With Path =='"
     },
     "metadata": {},
     "output_type": "display_data"
    },
    {
     "data": {
      "text/plain": "(39719, 15)"
     },
     "metadata": {},
     "output_type": "display_data"
    },
    {
     "data": {
      "text/plain": "              id              subreddit                author   \nid                                                              \n100rn7k  100rn7k               AmIhotAF          veritynicole  \\\n1013bdt  1013bdt               AmIhotAF           RaulDea9286   \n105mekt  105mekt               AmIhotAF              lindaniz   \n105qvgl  105qvgl               AmIhotAF           CaitVLove11   \n105rpcj  105rpcj               AmIhotAF       Flashy-Desk1858   \n...          ...                    ...                   ...   \n13no1on  13no1on                   DLAH  Majestic_Painter8660   \n13nhylw  13nhylw       bathandbodyworks          BathbeautyXO   \n13nlz14  13nlz14       bathandbodyworks  Fresh-Blueberry-milk   \n13npfx3  13npfx3       bathandbodyworks         singshopsleep   \n13nnpg1  13nnpg1  AesPleasingAsianGirls           miazinhaaaa   \n\n                                                     title   \nid                                                           \n100rn7k                hey, hows your new year going (23F)  \\\n1013bdt                                      36F - ITALIAN   \n105mekt     interesting in good forward relationship (f24)   \n105qvgl                          Laughing is my favorite 😆   \n105rpcj           [f22] What do you think when you see me?   \n...                                                    ...   \n13no1on                        Tight dress, legs and heels   \n13nhylw           (Late) February/valentines empties! 💕❤️💖   \n13nlz14  figured this would be appreciated 😏 also what ...   \n13npfx3                              All of Today's Offers   \n13nnpg1                     I love this beach (Copacabana)   \n\n                                                   caption   \nid                                                           \n100rn7k  a woman in a white shirt and black pants is po...  \\\n1013bdt            arafed image of a woman in a bikini top   \n105mekt  a close up of a woman with red hair and a whit...   \n105qvgl  a woman in a blue tank top and shorts is smili...   \n105rpcj    a woman in a blue bikini top and a blue bra top   \n...                                                    ...   \n13no1on      there is a woman sitting on a chair in a room   \n13nhylw  there are many different types of skin care pr...   \n13nlz14  someone is holding a bottle of lotion in their...   \n13npfx3  a poster with a variety of products for sale o...   \n13nnpg1  araffe woman in a white bikini standing on the...   \n\n                                     hash   \nid                                          \n100rn7k  4bd00c19fa0ff2ade855e6d364b0760b  \\\n1013bdt  7c0d158cba8654ef1c635cbc5471d597   \n105mekt  ba4a0962cca2266a741e1e1700589c04   \n105qvgl  27bfe82c37314a0bcf02ab72eaf3a9e5   \n105rpcj  329eb42b8267fa1cc2980da8e48bcef1   \n...                                   ...   \n13no1on  dbab04d6a37e17e6cc6df9cfc16ed51e   \n13nhylw  7d79ab2ad5d7fe73454db01b4351388c   \n13nlz14  8b7dfc23aeb352024f0a696ab49351ae   \n13npfx3  635af0f6bb1a2b81c9ce46bd29374d72   \n13nnpg1  9f06af9e6fb671f8f828e62a0949a9af   \n\n                                                 permalink   \nid                                                           \n100rn7k  /r/AmIhotAF/comments/100rn7k/hey_hows_your_new...  \\\n1013bdt          /r/AmIhotAF/comments/1013bdt/36f_italian/   \n105mekt  /r/AmIhotAF/comments/105mekt/interesting_in_go...   \n105qvgl  /r/AmIhotAF/comments/105qvgl/laughing_is_my_fa...   \n105rpcj  /r/AmIhotAF/comments/105rpcj/f22_what_do_you_t...   \n...                                                    ...   \n13no1on  /r/DLAH/comments/13no1on/tight_dress_legs_and_...   \n13nhylw  /r/bathandbodyworks/comments/13nhylw/late_febr...   \n13nlz14  /r/bathandbodyworks/comments/13nlz14/figured_t...   \n13npfx3  /r/bathandbodyworks/comments/13npfx3/all_of_to...   \n13nnpg1  /r/AesPleasingAsianGirls/comments/13nnpg1/i_lo...   \n\n                                original_url   image_name   \nid                                                          \n100rn7k  https://i.redd.it/n7r47s0gkh9a1.jpg  100rn7k.jpg  \\\n1013bdt  https://i.redd.it/bg0wwdlt5k9a1.jpg  1013bdt.jpg   \n105mekt  https://i.redd.it/4avjshsz8naa1.jpg  105mekt.jpg   \n105qvgl  https://i.redd.it/2pulzr0lxmaa1.jpg  105qvgl.jpg   \n105rpcj  https://i.redd.it/rz68pf934naa1.jpg  105rpcj.jpg   \n...                                      ...          ...   \n13no1on  https://i.redd.it/0pq456mci51b1.jpg  13no1on.jpg   \n13nhylw  https://i.redd.it/t2yvxblvd51b1.jpg  13nhylw.jpg   \n13nlz14  https://i.redd.it/or6fujdmf61b1.jpg  13nlz14.jpg   \n13npfx3  https://i.redd.it/skqywk3qd71b1.jpg  13npfx3.jpg   \n13nnpg1  https://i.redd.it/7udfhs8ow61b1.jpg  13nnpg1.jpg   \n\n                           path                model  exists  curated accept   \nid                                                                             \n100rn7k  data/image/100rn7k.jpg        SexyDiffusion    True     True  False  \\\n1013bdt  data/image/1013bdt.jpg        SexyDiffusion    True     True   True   \n105mekt  data/image/105mekt.jpg        SexyDiffusion    True     True   True   \n105qvgl  data/image/105qvgl.jpg        SexyDiffusion    True     True   True   \n105rpcj  data/image/105rpcj.jpg        SexyDiffusion    True     True   True   \n...                         ...                  ...     ...      ...    ...   \n13no1on  data/image/13no1on.jpg  PrettyGirlDiffusion    True    False  False   \n13nhylw  data/image/13nhylw.jpg      CandleDiffusion    True    False  False   \n13nlz14  data/image/13nlz14.jpg      CandleDiffusion    True    False  False   \n13npfx3  data/image/13npfx3.jpg      CandleDiffusion    True    False  False   \n13nnpg1  data/image/13nnpg1.jpg   SexyAsianDiffusion    True    False  False   \n\n        tags  \nid            \n100rn7k   []  \n1013bdt   []  \n105mekt   []  \n105qvgl   []  \n105rpcj   []  \n...      ...  \n13no1on   []  \n13nhylw   []  \n13nlz14   []  \n13npfx3   []  \n13nnpg1   []  \n\n[39719 rows x 15 columns]",
      "text/html": "<div>\n<style scoped>\n    .dataframe tbody tr th:only-of-type {\n        vertical-align: middle;\n    }\n\n    .dataframe tbody tr th {\n        vertical-align: top;\n    }\n\n    .dataframe thead th {\n        text-align: right;\n    }\n</style>\n<table border=\"1\" class=\"dataframe\">\n  <thead>\n    <tr style=\"text-align: right;\">\n      <th></th>\n      <th>id</th>\n      <th>subreddit</th>\n      <th>author</th>\n      <th>title</th>\n      <th>caption</th>\n      <th>hash</th>\n      <th>permalink</th>\n      <th>original_url</th>\n      <th>image_name</th>\n      <th>path</th>\n      <th>model</th>\n      <th>exists</th>\n      <th>curated</th>\n      <th>accept</th>\n      <th>tags</th>\n    </tr>\n    <tr>\n      <th>id</th>\n      <th></th>\n      <th></th>\n      <th></th>\n      <th></th>\n      <th></th>\n      <th></th>\n      <th></th>\n      <th></th>\n      <th></th>\n      <th></th>\n      <th></th>\n      <th></th>\n      <th></th>\n      <th></th>\n      <th></th>\n    </tr>\n  </thead>\n  <tbody>\n    <tr>\n      <th>100rn7k</th>\n      <td>100rn7k</td>\n      <td>AmIhotAF</td>\n      <td>veritynicole</td>\n      <td>hey, hows your new year going (23F)</td>\n      <td>a woman in a white shirt and black pants is po...</td>\n      <td>4bd00c19fa0ff2ade855e6d364b0760b</td>\n      <td>/r/AmIhotAF/comments/100rn7k/hey_hows_your_new...</td>\n      <td>https://i.redd.it/n7r47s0gkh9a1.jpg</td>\n      <td>100rn7k.jpg</td>\n      <td>data/image/100rn7k.jpg</td>\n      <td>SexyDiffusion</td>\n      <td>True</td>\n      <td>True</td>\n      <td>False</td>\n      <td>[]</td>\n    </tr>\n    <tr>\n      <th>1013bdt</th>\n      <td>1013bdt</td>\n      <td>AmIhotAF</td>\n      <td>RaulDea9286</td>\n      <td>36F - ITALIAN</td>\n      <td>arafed image of a woman in a bikini top</td>\n      <td>7c0d158cba8654ef1c635cbc5471d597</td>\n      <td>/r/AmIhotAF/comments/1013bdt/36f_italian/</td>\n      <td>https://i.redd.it/bg0wwdlt5k9a1.jpg</td>\n      <td>1013bdt.jpg</td>\n      <td>data/image/1013bdt.jpg</td>\n      <td>SexyDiffusion</td>\n      <td>True</td>\n      <td>True</td>\n      <td>True</td>\n      <td>[]</td>\n    </tr>\n    <tr>\n      <th>105mekt</th>\n      <td>105mekt</td>\n      <td>AmIhotAF</td>\n      <td>lindaniz</td>\n      <td>interesting in good forward relationship (f24)</td>\n      <td>a close up of a woman with red hair and a whit...</td>\n      <td>ba4a0962cca2266a741e1e1700589c04</td>\n      <td>/r/AmIhotAF/comments/105mekt/interesting_in_go...</td>\n      <td>https://i.redd.it/4avjshsz8naa1.jpg</td>\n      <td>105mekt.jpg</td>\n      <td>data/image/105mekt.jpg</td>\n      <td>SexyDiffusion</td>\n      <td>True</td>\n      <td>True</td>\n      <td>True</td>\n      <td>[]</td>\n    </tr>\n    <tr>\n      <th>105qvgl</th>\n      <td>105qvgl</td>\n      <td>AmIhotAF</td>\n      <td>CaitVLove11</td>\n      <td>Laughing is my favorite 😆</td>\n      <td>a woman in a blue tank top and shorts is smili...</td>\n      <td>27bfe82c37314a0bcf02ab72eaf3a9e5</td>\n      <td>/r/AmIhotAF/comments/105qvgl/laughing_is_my_fa...</td>\n      <td>https://i.redd.it/2pulzr0lxmaa1.jpg</td>\n      <td>105qvgl.jpg</td>\n      <td>data/image/105qvgl.jpg</td>\n      <td>SexyDiffusion</td>\n      <td>True</td>\n      <td>True</td>\n      <td>True</td>\n      <td>[]</td>\n    </tr>\n    <tr>\n      <th>105rpcj</th>\n      <td>105rpcj</td>\n      <td>AmIhotAF</td>\n      <td>Flashy-Desk1858</td>\n      <td>[f22] What do you think when you see me?</td>\n      <td>a woman in a blue bikini top and a blue bra top</td>\n      <td>329eb42b8267fa1cc2980da8e48bcef1</td>\n      <td>/r/AmIhotAF/comments/105rpcj/f22_what_do_you_t...</td>\n      <td>https://i.redd.it/rz68pf934naa1.jpg</td>\n      <td>105rpcj.jpg</td>\n      <td>data/image/105rpcj.jpg</td>\n      <td>SexyDiffusion</td>\n      <td>True</td>\n      <td>True</td>\n      <td>True</td>\n      <td>[]</td>\n    </tr>\n    <tr>\n      <th>...</th>\n      <td>...</td>\n      <td>...</td>\n      <td>...</td>\n      <td>...</td>\n      <td>...</td>\n      <td>...</td>\n      <td>...</td>\n      <td>...</td>\n      <td>...</td>\n      <td>...</td>\n      <td>...</td>\n      <td>...</td>\n      <td>...</td>\n      <td>...</td>\n      <td>...</td>\n    </tr>\n    <tr>\n      <th>13no1on</th>\n      <td>13no1on</td>\n      <td>DLAH</td>\n      <td>Majestic_Painter8660</td>\n      <td>Tight dress, legs and heels</td>\n      <td>there is a woman sitting on a chair in a room</td>\n      <td>dbab04d6a37e17e6cc6df9cfc16ed51e</td>\n      <td>/r/DLAH/comments/13no1on/tight_dress_legs_and_...</td>\n      <td>https://i.redd.it/0pq456mci51b1.jpg</td>\n      <td>13no1on.jpg</td>\n      <td>data/image/13no1on.jpg</td>\n      <td>PrettyGirlDiffusion</td>\n      <td>True</td>\n      <td>False</td>\n      <td>False</td>\n      <td>[]</td>\n    </tr>\n    <tr>\n      <th>13nhylw</th>\n      <td>13nhylw</td>\n      <td>bathandbodyworks</td>\n      <td>BathbeautyXO</td>\n      <td>(Late) February/valentines empties! 💕❤️💖</td>\n      <td>there are many different types of skin care pr...</td>\n      <td>7d79ab2ad5d7fe73454db01b4351388c</td>\n      <td>/r/bathandbodyworks/comments/13nhylw/late_febr...</td>\n      <td>https://i.redd.it/t2yvxblvd51b1.jpg</td>\n      <td>13nhylw.jpg</td>\n      <td>data/image/13nhylw.jpg</td>\n      <td>CandleDiffusion</td>\n      <td>True</td>\n      <td>False</td>\n      <td>False</td>\n      <td>[]</td>\n    </tr>\n    <tr>\n      <th>13nlz14</th>\n      <td>13nlz14</td>\n      <td>bathandbodyworks</td>\n      <td>Fresh-Blueberry-milk</td>\n      <td>figured this would be appreciated 😏 also what ...</td>\n      <td>someone is holding a bottle of lotion in their...</td>\n      <td>8b7dfc23aeb352024f0a696ab49351ae</td>\n      <td>/r/bathandbodyworks/comments/13nlz14/figured_t...</td>\n      <td>https://i.redd.it/or6fujdmf61b1.jpg</td>\n      <td>13nlz14.jpg</td>\n      <td>data/image/13nlz14.jpg</td>\n      <td>CandleDiffusion</td>\n      <td>True</td>\n      <td>False</td>\n      <td>False</td>\n      <td>[]</td>\n    </tr>\n    <tr>\n      <th>13npfx3</th>\n      <td>13npfx3</td>\n      <td>bathandbodyworks</td>\n      <td>singshopsleep</td>\n      <td>All of Today's Offers</td>\n      <td>a poster with a variety of products for sale o...</td>\n      <td>635af0f6bb1a2b81c9ce46bd29374d72</td>\n      <td>/r/bathandbodyworks/comments/13npfx3/all_of_to...</td>\n      <td>https://i.redd.it/skqywk3qd71b1.jpg</td>\n      <td>13npfx3.jpg</td>\n      <td>data/image/13npfx3.jpg</td>\n      <td>CandleDiffusion</td>\n      <td>True</td>\n      <td>False</td>\n      <td>False</td>\n      <td>[]</td>\n    </tr>\n    <tr>\n      <th>13nnpg1</th>\n      <td>13nnpg1</td>\n      <td>AesPleasingAsianGirls</td>\n      <td>miazinhaaaa</td>\n      <td>I love this beach (Copacabana)</td>\n      <td>araffe woman in a white bikini standing on the...</td>\n      <td>9f06af9e6fb671f8f828e62a0949a9af</td>\n      <td>/r/AesPleasingAsianGirls/comments/13nnpg1/i_lo...</td>\n      <td>https://i.redd.it/7udfhs8ow61b1.jpg</td>\n      <td>13nnpg1.jpg</td>\n      <td>data/image/13nnpg1.jpg</td>\n      <td>SexyAsianDiffusion</td>\n      <td>True</td>\n      <td>False</td>\n      <td>False</td>\n      <td>[]</td>\n    </tr>\n  </tbody>\n</table>\n<p>39719 rows × 15 columns</p>\n</div>"
     },
     "metadata": {},
     "output_type": "display_data"
    },
    {
     "name": "stdout",
     "output_type": "stream",
     "text": [
      "CPU times: total: 2min 18s\n",
      "Wall time: 2min 32s\n"
     ]
    }
   ],
   "source": [
    "%%time\n",
    "\n",
    "file_list_ = file_system.ls(\"data/image\")\n",
    "concat['path'] = concat.progress_apply(lambda x: functions.fix_path(x, file_list), axis=1)\n",
    "\n",
    "display(\"== Concatenated Data With Path ==\")\n",
    "display(concat.shape)\n",
    "display(concat)"
   ],
   "metadata": {
    "collapsed": false,
    "ExecuteTime": {
     "end_time": "2023-05-21T12:14:14.887873Z",
     "start_time": "2023-05-21T12:11:42.473710800Z"
    }
   }
  },
  {
   "cell_type": "code",
   "execution_count": 24,
   "outputs": [
    {
     "data": {
      "text/plain": "'== Writing Back-Up data/parquet/back_1684671254.881872.parquet =='"
     },
     "metadata": {},
     "output_type": "display_data"
    },
    {
     "name": "stdout",
     "output_type": "stream",
     "text": [
      "CPU times: total: 516 ms\n",
      "Wall time: 3.11 s\n"
     ]
    }
   ],
   "source": [
    "%%time\n",
    "\n",
    "back_up_name = f\"data/parquet/back_{dt.datetime.timestamp(dt.datetime.now())}.parquet\"\n",
    "display(f\"== Writing Back-Up {back_up_name} ==\")\n",
    "current.to_parquet(back_up_name, schema=schema, filesystem=file_system)"
   ],
   "metadata": {
    "collapsed": false,
    "ExecuteTime": {
     "end_time": "2023-05-21T12:14:18.008393900Z",
     "start_time": "2023-05-21T12:14:14.877866900Z"
    }
   }
  },
  {
   "cell_type": "code",
   "execution_count": 25,
   "outputs": [
    {
     "data": {
      "text/plain": "'== New Data =='"
     },
     "metadata": {},
     "output_type": "display_data"
    },
    {
     "data": {
      "text/plain": "(39719, 15)"
     },
     "metadata": {},
     "output_type": "display_data"
    },
    {
     "data": {
      "text/plain": "            id              subreddit                author   \n0      100rn7k               AmIhotAF          veritynicole  \\\n1      1013bdt               AmIhotAF           RaulDea9286   \n2      105mekt               AmIhotAF              lindaniz   \n3      105qvgl               AmIhotAF           CaitVLove11   \n4      105rpcj               AmIhotAF       Flashy-Desk1858   \n...        ...                    ...                   ...   \n39714  13no1on                   DLAH  Majestic_Painter8660   \n39715  13nhylw       bathandbodyworks          BathbeautyXO   \n39716  13nlz14       bathandbodyworks  Fresh-Blueberry-milk   \n39717  13npfx3       bathandbodyworks         singshopsleep   \n39718  13nnpg1  AesPleasingAsianGirls           miazinhaaaa   \n\n                                                   title   \n0                    hey, hows your new year going (23F)  \\\n1                                          36F - ITALIAN   \n2         interesting in good forward relationship (f24)   \n3                              Laughing is my favorite 😆   \n4               [f22] What do you think when you see me?   \n...                                                  ...   \n39714                        Tight dress, legs and heels   \n39715           (Late) February/valentines empties! 💕❤️💖   \n39716  figured this would be appreciated 😏 also what ...   \n39717                              All of Today's Offers   \n39718                     I love this beach (Copacabana)   \n\n                                                 caption   \n0      a woman in a white shirt and black pants is po...  \\\n1                arafed image of a woman in a bikini top   \n2      a close up of a woman with red hair and a whit...   \n3      a woman in a blue tank top and shorts is smili...   \n4        a woman in a blue bikini top and a blue bra top   \n...                                                  ...   \n39714      there is a woman sitting on a chair in a room   \n39715  there are many different types of skin care pr...   \n39716  someone is holding a bottle of lotion in their...   \n39717  a poster with a variety of products for sale o...   \n39718  araffe woman in a white bikini standing on the...   \n\n                                   hash   \n0      4bd00c19fa0ff2ade855e6d364b0760b  \\\n1      7c0d158cba8654ef1c635cbc5471d597   \n2      ba4a0962cca2266a741e1e1700589c04   \n3      27bfe82c37314a0bcf02ab72eaf3a9e5   \n4      329eb42b8267fa1cc2980da8e48bcef1   \n...                                 ...   \n39714  dbab04d6a37e17e6cc6df9cfc16ed51e   \n39715  7d79ab2ad5d7fe73454db01b4351388c   \n39716  8b7dfc23aeb352024f0a696ab49351ae   \n39717  635af0f6bb1a2b81c9ce46bd29374d72   \n39718  9f06af9e6fb671f8f828e62a0949a9af   \n\n                                               permalink   \n0      /r/AmIhotAF/comments/100rn7k/hey_hows_your_new...  \\\n1              /r/AmIhotAF/comments/1013bdt/36f_italian/   \n2      /r/AmIhotAF/comments/105mekt/interesting_in_go...   \n3      /r/AmIhotAF/comments/105qvgl/laughing_is_my_fa...   \n4      /r/AmIhotAF/comments/105rpcj/f22_what_do_you_t...   \n...                                                  ...   \n39714  /r/DLAH/comments/13no1on/tight_dress_legs_and_...   \n39715  /r/bathandbodyworks/comments/13nhylw/late_febr...   \n39716  /r/bathandbodyworks/comments/13nlz14/figured_t...   \n39717  /r/bathandbodyworks/comments/13npfx3/all_of_to...   \n39718  /r/AesPleasingAsianGirls/comments/13nnpg1/i_lo...   \n\n                              original_url   image_name   \n0      https://i.redd.it/n7r47s0gkh9a1.jpg  100rn7k.jpg  \\\n1      https://i.redd.it/bg0wwdlt5k9a1.jpg  1013bdt.jpg   \n2      https://i.redd.it/4avjshsz8naa1.jpg  105mekt.jpg   \n3      https://i.redd.it/2pulzr0lxmaa1.jpg  105qvgl.jpg   \n4      https://i.redd.it/rz68pf934naa1.jpg  105rpcj.jpg   \n...                                    ...          ...   \n39714  https://i.redd.it/0pq456mci51b1.jpg  13no1on.jpg   \n39715  https://i.redd.it/t2yvxblvd51b1.jpg  13nhylw.jpg   \n39716  https://i.redd.it/or6fujdmf61b1.jpg  13nlz14.jpg   \n39717  https://i.redd.it/skqywk3qd71b1.jpg  13npfx3.jpg   \n39718  https://i.redd.it/7udfhs8ow61b1.jpg  13nnpg1.jpg   \n\n                         path                model  exists  curated  accept   \n0      data/image/100rn7k.jpg        SexyDiffusion    True     True   False  \\\n1      data/image/1013bdt.jpg        SexyDiffusion    True     True    True   \n2      data/image/105mekt.jpg        SexyDiffusion    True     True    True   \n3      data/image/105qvgl.jpg        SexyDiffusion    True     True    True   \n4      data/image/105rpcj.jpg        SexyDiffusion    True     True    True   \n...                       ...                  ...     ...      ...     ...   \n39714  data/image/13no1on.jpg  PrettyGirlDiffusion    True    False   False   \n39715  data/image/13nhylw.jpg      CandleDiffusion    True    False   False   \n39716  data/image/13nlz14.jpg      CandleDiffusion    True    False   False   \n39717  data/image/13npfx3.jpg      CandleDiffusion    True    False   False   \n39718  data/image/13nnpg1.jpg   SexyAsianDiffusion    True    False   False   \n\n      tags  \n0       []  \n1       []  \n2       []  \n3       []  \n4       []  \n...    ...  \n39714   []  \n39715   []  \n39716   []  \n39717   []  \n39718   []  \n\n[39719 rows x 15 columns]",
      "text/html": "<div>\n<style scoped>\n    .dataframe tbody tr th:only-of-type {\n        vertical-align: middle;\n    }\n\n    .dataframe tbody tr th {\n        vertical-align: top;\n    }\n\n    .dataframe thead th {\n        text-align: right;\n    }\n</style>\n<table border=\"1\" class=\"dataframe\">\n  <thead>\n    <tr style=\"text-align: right;\">\n      <th></th>\n      <th>id</th>\n      <th>subreddit</th>\n      <th>author</th>\n      <th>title</th>\n      <th>caption</th>\n      <th>hash</th>\n      <th>permalink</th>\n      <th>original_url</th>\n      <th>image_name</th>\n      <th>path</th>\n      <th>model</th>\n      <th>exists</th>\n      <th>curated</th>\n      <th>accept</th>\n      <th>tags</th>\n    </tr>\n  </thead>\n  <tbody>\n    <tr>\n      <th>0</th>\n      <td>100rn7k</td>\n      <td>AmIhotAF</td>\n      <td>veritynicole</td>\n      <td>hey, hows your new year going (23F)</td>\n      <td>a woman in a white shirt and black pants is po...</td>\n      <td>4bd00c19fa0ff2ade855e6d364b0760b</td>\n      <td>/r/AmIhotAF/comments/100rn7k/hey_hows_your_new...</td>\n      <td>https://i.redd.it/n7r47s0gkh9a1.jpg</td>\n      <td>100rn7k.jpg</td>\n      <td>data/image/100rn7k.jpg</td>\n      <td>SexyDiffusion</td>\n      <td>True</td>\n      <td>True</td>\n      <td>False</td>\n      <td>[]</td>\n    </tr>\n    <tr>\n      <th>1</th>\n      <td>1013bdt</td>\n      <td>AmIhotAF</td>\n      <td>RaulDea9286</td>\n      <td>36F - ITALIAN</td>\n      <td>arafed image of a woman in a bikini top</td>\n      <td>7c0d158cba8654ef1c635cbc5471d597</td>\n      <td>/r/AmIhotAF/comments/1013bdt/36f_italian/</td>\n      <td>https://i.redd.it/bg0wwdlt5k9a1.jpg</td>\n      <td>1013bdt.jpg</td>\n      <td>data/image/1013bdt.jpg</td>\n      <td>SexyDiffusion</td>\n      <td>True</td>\n      <td>True</td>\n      <td>True</td>\n      <td>[]</td>\n    </tr>\n    <tr>\n      <th>2</th>\n      <td>105mekt</td>\n      <td>AmIhotAF</td>\n      <td>lindaniz</td>\n      <td>interesting in good forward relationship (f24)</td>\n      <td>a close up of a woman with red hair and a whit...</td>\n      <td>ba4a0962cca2266a741e1e1700589c04</td>\n      <td>/r/AmIhotAF/comments/105mekt/interesting_in_go...</td>\n      <td>https://i.redd.it/4avjshsz8naa1.jpg</td>\n      <td>105mekt.jpg</td>\n      <td>data/image/105mekt.jpg</td>\n      <td>SexyDiffusion</td>\n      <td>True</td>\n      <td>True</td>\n      <td>True</td>\n      <td>[]</td>\n    </tr>\n    <tr>\n      <th>3</th>\n      <td>105qvgl</td>\n      <td>AmIhotAF</td>\n      <td>CaitVLove11</td>\n      <td>Laughing is my favorite 😆</td>\n      <td>a woman in a blue tank top and shorts is smili...</td>\n      <td>27bfe82c37314a0bcf02ab72eaf3a9e5</td>\n      <td>/r/AmIhotAF/comments/105qvgl/laughing_is_my_fa...</td>\n      <td>https://i.redd.it/2pulzr0lxmaa1.jpg</td>\n      <td>105qvgl.jpg</td>\n      <td>data/image/105qvgl.jpg</td>\n      <td>SexyDiffusion</td>\n      <td>True</td>\n      <td>True</td>\n      <td>True</td>\n      <td>[]</td>\n    </tr>\n    <tr>\n      <th>4</th>\n      <td>105rpcj</td>\n      <td>AmIhotAF</td>\n      <td>Flashy-Desk1858</td>\n      <td>[f22] What do you think when you see me?</td>\n      <td>a woman in a blue bikini top and a blue bra top</td>\n      <td>329eb42b8267fa1cc2980da8e48bcef1</td>\n      <td>/r/AmIhotAF/comments/105rpcj/f22_what_do_you_t...</td>\n      <td>https://i.redd.it/rz68pf934naa1.jpg</td>\n      <td>105rpcj.jpg</td>\n      <td>data/image/105rpcj.jpg</td>\n      <td>SexyDiffusion</td>\n      <td>True</td>\n      <td>True</td>\n      <td>True</td>\n      <td>[]</td>\n    </tr>\n    <tr>\n      <th>...</th>\n      <td>...</td>\n      <td>...</td>\n      <td>...</td>\n      <td>...</td>\n      <td>...</td>\n      <td>...</td>\n      <td>...</td>\n      <td>...</td>\n      <td>...</td>\n      <td>...</td>\n      <td>...</td>\n      <td>...</td>\n      <td>...</td>\n      <td>...</td>\n      <td>...</td>\n    </tr>\n    <tr>\n      <th>39714</th>\n      <td>13no1on</td>\n      <td>DLAH</td>\n      <td>Majestic_Painter8660</td>\n      <td>Tight dress, legs and heels</td>\n      <td>there is a woman sitting on a chair in a room</td>\n      <td>dbab04d6a37e17e6cc6df9cfc16ed51e</td>\n      <td>/r/DLAH/comments/13no1on/tight_dress_legs_and_...</td>\n      <td>https://i.redd.it/0pq456mci51b1.jpg</td>\n      <td>13no1on.jpg</td>\n      <td>data/image/13no1on.jpg</td>\n      <td>PrettyGirlDiffusion</td>\n      <td>True</td>\n      <td>False</td>\n      <td>False</td>\n      <td>[]</td>\n    </tr>\n    <tr>\n      <th>39715</th>\n      <td>13nhylw</td>\n      <td>bathandbodyworks</td>\n      <td>BathbeautyXO</td>\n      <td>(Late) February/valentines empties! 💕❤️💖</td>\n      <td>there are many different types of skin care pr...</td>\n      <td>7d79ab2ad5d7fe73454db01b4351388c</td>\n      <td>/r/bathandbodyworks/comments/13nhylw/late_febr...</td>\n      <td>https://i.redd.it/t2yvxblvd51b1.jpg</td>\n      <td>13nhylw.jpg</td>\n      <td>data/image/13nhylw.jpg</td>\n      <td>CandleDiffusion</td>\n      <td>True</td>\n      <td>False</td>\n      <td>False</td>\n      <td>[]</td>\n    </tr>\n    <tr>\n      <th>39716</th>\n      <td>13nlz14</td>\n      <td>bathandbodyworks</td>\n      <td>Fresh-Blueberry-milk</td>\n      <td>figured this would be appreciated 😏 also what ...</td>\n      <td>someone is holding a bottle of lotion in their...</td>\n      <td>8b7dfc23aeb352024f0a696ab49351ae</td>\n      <td>/r/bathandbodyworks/comments/13nlz14/figured_t...</td>\n      <td>https://i.redd.it/or6fujdmf61b1.jpg</td>\n      <td>13nlz14.jpg</td>\n      <td>data/image/13nlz14.jpg</td>\n      <td>CandleDiffusion</td>\n      <td>True</td>\n      <td>False</td>\n      <td>False</td>\n      <td>[]</td>\n    </tr>\n    <tr>\n      <th>39717</th>\n      <td>13npfx3</td>\n      <td>bathandbodyworks</td>\n      <td>singshopsleep</td>\n      <td>All of Today's Offers</td>\n      <td>a poster with a variety of products for sale o...</td>\n      <td>635af0f6bb1a2b81c9ce46bd29374d72</td>\n      <td>/r/bathandbodyworks/comments/13npfx3/all_of_to...</td>\n      <td>https://i.redd.it/skqywk3qd71b1.jpg</td>\n      <td>13npfx3.jpg</td>\n      <td>data/image/13npfx3.jpg</td>\n      <td>CandleDiffusion</td>\n      <td>True</td>\n      <td>False</td>\n      <td>False</td>\n      <td>[]</td>\n    </tr>\n    <tr>\n      <th>39718</th>\n      <td>13nnpg1</td>\n      <td>AesPleasingAsianGirls</td>\n      <td>miazinhaaaa</td>\n      <td>I love this beach (Copacabana)</td>\n      <td>araffe woman in a white bikini standing on the...</td>\n      <td>9f06af9e6fb671f8f828e62a0949a9af</td>\n      <td>/r/AesPleasingAsianGirls/comments/13nnpg1/i_lo...</td>\n      <td>https://i.redd.it/7udfhs8ow61b1.jpg</td>\n      <td>13nnpg1.jpg</td>\n      <td>data/image/13nnpg1.jpg</td>\n      <td>SexyAsianDiffusion</td>\n      <td>True</td>\n      <td>False</td>\n      <td>False</td>\n      <td>[]</td>\n    </tr>\n  </tbody>\n</table>\n<p>39719 rows × 15 columns</p>\n</div>"
     },
     "metadata": {},
     "output_type": "display_data"
    },
    {
     "name": "stdout",
     "output_type": "stream",
     "text": [
      "CPU times: total: 1 s\n",
      "Wall time: 3.72 s\n"
     ]
    }
   ],
   "source": [
    "%%time\n",
    "\n",
    "concat.to_parquet(\"data/parquet/back.parquet\", schema=schema, filesystem=file_system)\n",
    "new = pd.read_parquet(\"data/parquet/back.parquet\", engine='pyarrow', schema=schema, filesystem=file_system)\n",
    "\n",
    "display(\"== New Data ==\")\n",
    "display(new.shape)\n",
    "display(new)"
   ],
   "metadata": {
    "collapsed": false,
    "ExecuteTime": {
     "end_time": "2023-05-21T12:14:21.785399300Z",
     "start_time": "2023-05-21T12:14:18.013395500Z"
    }
   }
  },
  {
   "cell_type": "code",
   "execution_count": 26,
   "outputs": [
    {
     "name": "stdout",
     "output_type": "stream",
     "text": [
      "^C\n"
     ]
    },
    {
     "name": "stderr",
     "output_type": "stream",
     "text": [
      "Error processing line 1 of D:\\code\\repos\\simple-collection\\venv\\lib\\site-packages\\vision-1.0.0-py3.9-nspkg.pth:\n",
      "\n",
      "  Traceback (most recent call last):\n",
      "    File \"C:\\Users\\AJ Stangl\\AppData\\Local\\Programs\\Python\\Python39\\lib\\site.py\", line 169, in addpackage\n",
      "      exec(line)\n",
      "    File \"<string>\", line 1, in <module>\n",
      "    File \"<frozen importlib._bootstrap>\", line 562, in module_from_spec\n",
      "  AttributeError: 'NoneType' object has no attribute 'loader'\n",
      "\n",
      "Remainder of file ignored\n",
      "Error processing line 1 of D:\\code\\repos\\simple-collection\\venv\\lib\\site-packages\\vision-1.0.0-py3.9-nspkg.pth:\n",
      "\n",
      "  Traceback (most recent call last):\n",
      "    File \"C:\\Users\\AJ Stangl\\AppData\\Local\\Programs\\Python\\Python39\\lib\\site.py\", line 169, in addpackage\n",
      "      exec(line)\n",
      "    File \"<string>\", line 1, in <module>\n",
      "    File \"<frozen importlib._bootstrap>\", line 562, in module_from_spec\n",
      "  AttributeError: 'NoneType' object has no attribute 'loader'\n",
      "\n",
      "Remainder of file ignored\n",
      "Error processing line 1 of D:\\code\\repos\\simple-collection\\venv\\lib\\site-packages\\vision-1.0.0-py3.9-nspkg.pth:\n",
      "\n",
      "  Traceback (most recent call last):\n",
      "    File \"C:\\Users\\AJ Stangl\\AppData\\Local\\Programs\\Python\\Python39\\lib\\site.py\", line 169, in addpackage\n",
      "      exec(line)\n",
      "    File \"<string>\", line 1, in <module>\n",
      "    File \"<frozen importlib._bootstrap>\", line 562, in module_from_spec\n",
      "  AttributeError: 'NoneType' object has no attribute 'loader'\n",
      "\n",
      "Remainder of file ignored\n",
      "Error processing line 1 of D:\\code\\repos\\simple-collection\\venv\\lib\\site-packages\\vision-1.0.0-py3.9-nspkg.pth:\n",
      "\n",
      "  Traceback (most recent call last):\n",
      "    File \"C:\\Users\\AJ Stangl\\AppData\\Local\\Programs\\Python\\Python39\\lib\\site.py\", line 169, in addpackage\n",
      "      exec(line)\n",
      "    File \"<string>\", line 1, in <module>\n",
      "    File \"<frozen importlib._bootstrap>\", line 562, in module_from_spec\n",
      "  AttributeError: 'NoneType' object has no attribute 'loader'\n",
      "\n",
      "Remainder of file ignored\n"
     ]
    }
   ],
   "source": [
    "!jupyter notebook stop"
   ],
   "metadata": {
    "collapsed": false,
    "ExecuteTime": {
     "end_time": "2023-05-21T12:14:25.136443500Z",
     "start_time": "2023-05-21T12:14:21.746396700Z"
    }
   }
  }
 ],
 "metadata": {
  "kernelspec": {
   "display_name": "Python 3",
   "language": "python",
   "name": "python3"
  },
  "language_info": {
   "codemirror_mode": {
    "name": "ipython",
    "version": 2
   },
   "file_extension": ".py",
   "mimetype": "text/x-python",
   "name": "python",
   "nbconvert_exporter": "python",
   "pygments_lexer": "ipython2",
   "version": "2.7.6"
  }
 },
 "nbformat": 4,
 "nbformat_minor": 0
}
