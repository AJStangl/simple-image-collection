{
 "cells": [
  {
   "cell_type": "code",
   "execution_count": 1,
   "outputs": [
    {
     "name": "stdout",
     "output_type": "stream",
     "text": [
      "CPU times: total: 2.28 s\n",
      "Wall time: 14.1 s\n"
     ]
    }
   ],
   "source": [
    "%%time\n",
    "\n",
    "import datetime as dt\n",
    "import os\n",
    "\n",
    "import pandas\n",
    "import pandas as pd\n",
    "import praw\n",
    "from praw.models import ListingGenerator\n",
    "from tqdm import tqdm\n",
    "\n",
    "from common.captioning.caption import BlipCaption\n",
    "from common.schemas.pyarrow_schema import schema\n",
    "from common.storage.azure_file_storage import AzureFileStorageAdapter\n",
    "\n",
    "tqdm.pandas(desc=\"Progress\")\n",
    "\n",
    "file_system = AzureFileStorageAdapter('data').get_file_storage()\n",
    "\n",
    "from common.data_frame_functions.functions import Functions\n",
    "\n",
    "functions: Functions = Functions()"
   ],
   "metadata": {
    "collapsed": false,
    "ExecuteTime": {
     "end_time": "2023-05-13T22:29:45.111046400Z",
     "start_time": "2023-05-13T22:29:30.941568700Z"
    }
   }
  },
  {
   "cell_type": "code",
   "execution_count": 2,
   "outputs": [
    {
     "name": "stdout",
     "output_type": "stream",
     "text": [
      "CPU times: total: 0 ns\n",
      "Wall time: 0 ns\n"
     ]
    }
   ],
   "source": [
    "%%time\n",
    "\n",
    "# \"memes\",\"CityPorn\", \"EarthPorn\", \"spaceporn\",\t\"itookapicture\",\t\"trippinthroughtime\",\n",
    "subs = [\n",
    "\t\"SFWRedheads\",\n",
    "\t\"sfwpetite\",\n",
    "\t\"SFWNextDoorGirls\",\n",
    "\t\"fatsquirrelhate\",\n",
    "\t\"realasians\",\n",
    "\t\"KoreanHotties\",\n",
    "\t\"prettyasiangirls\",\n",
    "\t\"AsianOfficeLady\",\n",
    "\t\"mildlypenis\",\n",
    "\t\"AsianInvasion\",\n",
    "\t\"sexygirls\",\n",
    "\t\"PrettyGirls\",\n",
    "\t\"gentlemanboners\",\n",
    "\t\"hotofficegirls\",\n",
    "\t\"tightdresses\",\n",
    "\t\"DLAH\",\n",
    "\t\"bathandbodyworks\",\n",
    "\t\"AesPleasingAsianGirls\"\n",
    "]"
   ],
   "metadata": {
    "collapsed": false,
    "ExecuteTime": {
     "end_time": "2023-05-13T22:29:45.220421800Z",
     "start_time": "2023-05-13T22:29:45.126672600Z"
    }
   }
  },
  {
   "cell_type": "code",
   "execution_count": 3,
   "outputs": [
    {
     "name": "stdout",
     "output_type": "stream",
     "text": [
      "CPU times: total: 0 ns\n",
      "Wall time: 46.9 ms\n"
     ]
    }
   ],
   "source": [
    "%%time\n",
    "\n",
    "sources = [\n",
    "\t{\"name\": \"CityDiffusion\", \"data\": [\"CityPorn\"]},\n",
    "\t{\"name\": \"NatureDiffusion\", \"data\": [\"EarthPorn\"]},\n",
    "\t{\"name\": \"CosmicDiffusion\", \"data\": [\"spaceporn\"]},\n",
    "\t{\"name\": \"ITAPDiffusion\", \"data\": [\"itookapicture\"]},\n",
    "\t{\"name\": \"MemeDiffusion\", \"data\": [\"memes\"]},\n",
    "\t{\"name\": \"TTTDiffusion\", \"data\": [\"trippinthroughtime\"]},\n",
    "\t{\"name\": \"WallStreetDiffusion\", \"data\": [\"wallstreetbets\"]},\n",
    "\t{\"name\": \"SexyDiffusion\", \"data\": [\"selfies\", \"Amicute\", \"amihot\", \"AmIhotAF\", \"HotGirlNextDoor\"]},\n",
    "\t{\"name\": \"FatSquirrelDiffusion\", \"data\": [\"fatsquirrelhate\"]},\n",
    "\t{\"name\": \"CelebrityDiffusion\", \"data\": [\"celebrities\"]},\n",
    "\t{\"name\": \"OldLadyDiffusion\", \"data\": [\"oldladiesbakingpies\"]},\n",
    "\t{\"name\": \"SWFPetite\", \"data\": [\"sfwpetite\"]},\n",
    "\t{\"name\": \"SFWMilfs\", \"data\": [\"cougars_and_milfs_sfw\"]},\n",
    "\t{\"name\": \"RedHeadDiffusion\", \"data\": [\"SFWRedheads\"]},\n",
    "\t{\"name\": \"NextDoorGirlsDiffusion\", \"data\": [\"SFWNextDoorGirls\"]},\n",
    "\t{\"name\": \"SexyAsianDiffusion\",\"data\": [\"realasians\", \"KoreanHotties\", \"prettyasiangirls\", \"AsianOfficeLady\", \"AsianInvasion\",\"AesPleasingAsianGirls\"]},\n",
    "\t{\"name\": \"MildlyPenisDiffusion\", \"data\": [\"mildlypenis\"]},\n",
    "\t{\"name\": \"PrettyGirlDiffusion\",\"data\": [\"sexygirls\", \"PrettyGirls\", \"gentlemanboners\", \"hotofficegirls\", \"tightdresses\", \"DLAH\"]},\n",
    "\t{\"name\": \"CandleDiffusion\", \"data\": [\"bathandbodyworks\"]}\n",
    "]\n",
    "sources_df = pd.DataFrame.from_records(sources)"
   ],
   "metadata": {
    "collapsed": false,
    "ExecuteTime": {
     "end_time": "2023-05-13T22:29:45.329797100Z",
     "start_time": "2023-05-13T22:29:45.173564Z"
    }
   }
  },
  {
   "cell_type": "code",
   "execution_count": 4,
   "outputs": [
    {
     "data": {
      "text/plain": "        subreddit                author   \nid                                        \n100rn7k  AmIhotAF          veritynicole  \\\n1013bdt  AmIhotAF           RaulDea9286   \n105mekt  AmIhotAF              lindaniz   \n105qvgl  AmIhotAF           CaitVLove11   \n105rpcj  AmIhotAF       Flashy-Desk1858   \n...           ...                   ...   \n131dso7      DLAH        Wallydinger123   \n131eznp      DLAH          Long_dong111   \n131g3am      DLAH       ThrownAwayMiles   \n131jvcx      DLAH              robok212   \n131n2by      DLAH  Dependent_Secret9424   \n\n                                                  title   \nid                                                        \n100rn7k             hey, hows your new year going (23F)  \\\n1013bdt                                   36F - ITALIAN   \n105mekt  interesting in good forward relationship (f24)   \n105qvgl                       Laughing is my favorite 😆   \n105rpcj        [f22] What do you think when you see me?   \n...                                                 ...   \n131dso7                                     Happy B Day   \n131eznp                                         Perfect   \n131g3am                              DLAH left or right   \n131jvcx                                  Good morning 😍   \n131n2by                            Perfection (Sisters)   \n\n                                                   caption   \nid                                                           \n100rn7k  a woman in a white shirt and black pants is po...  \\\n1013bdt            arafed image of a woman in a bikini top   \n105mekt  a close up of a woman with red hair and a whit...   \n105qvgl  a woman in a blue tank top and shorts is smili...   \n105rpcj    a woman in a blue bikini top and a blue bra top   \n...                                                    ...   \n131dso7  there are three women posing for a picture in ...   \n131eznp  araffe woman in a white dress sitting on a pur...   \n131g3am  two women in short dresses posing for a pictur...   \n131jvcx      araffe in a pink dress posing on a white wall   \n131n2by  two women in shorts and sandals taking a selfi...   \n\n                                     hash   \nid                                          \n100rn7k  4bd00c19fa0ff2ade855e6d364b0760b  \\\n1013bdt  7c0d158cba8654ef1c635cbc5471d597   \n105mekt  ba4a0962cca2266a741e1e1700589c04   \n105qvgl  27bfe82c37314a0bcf02ab72eaf3a9e5   \n105rpcj  329eb42b8267fa1cc2980da8e48bcef1   \n...                                   ...   \n131dso7  ebb4b4a88dc79e2f2f57b10f32bf03c0   \n131eznp  5c944c6d62b1ae182c5a6a40c64195f4   \n131g3am  ab1f8fc33c85f4cfce12c810cf22229e   \n131jvcx  01f5058855526ef25888cff88065db4c   \n131n2by  b162dd1999dbf9ea3c7adccd34624a46   \n\n                                                 permalink   \nid                                                           \n100rn7k  /r/AmIhotAF/comments/100rn7k/hey_hows_your_new...  \\\n1013bdt          /r/AmIhotAF/comments/1013bdt/36f_italian/   \n105mekt  /r/AmIhotAF/comments/105mekt/interesting_in_go...   \n105qvgl  /r/AmIhotAF/comments/105qvgl/laughing_is_my_fa...   \n105rpcj  /r/AmIhotAF/comments/105rpcj/f22_what_do_you_t...   \n...                                                    ...   \n131dso7              /r/DLAH/comments/131dso7/happy_b_day/   \n131eznp                  /r/DLAH/comments/131eznp/perfect/   \n131g3am       /r/DLAH/comments/131g3am/dlah_left_or_right/   \n131jvcx             /r/DLAH/comments/131jvcx/good_morning/   \n131n2by       /r/DLAH/comments/131n2by/perfection_sisters/   \n\n                                original_url   image_name   \nid                                                          \n100rn7k  https://i.redd.it/n7r47s0gkh9a1.jpg  100rn7k.jpg  \\\n1013bdt  https://i.redd.it/bg0wwdlt5k9a1.jpg  1013bdt.jpg   \n105mekt  https://i.redd.it/4avjshsz8naa1.jpg  105mekt.jpg   \n105qvgl  https://i.redd.it/2pulzr0lxmaa1.jpg  105qvgl.jpg   \n105rpcj  https://i.redd.it/rz68pf934naa1.jpg  105rpcj.jpg   \n...                                      ...          ...   \n131dso7  https://i.redd.it/36gurz533jwa1.jpg  131dso7.jpg   \n131eznp  https://i.redd.it/dnbbx4zucjwa1.jpg  131eznp.jpg   \n131g3am  https://i.redd.it/zpp70oor3lwa1.jpg  131g3am.jpg   \n131jvcx  https://i.redd.it/ozmbfhjv3mwa1.jpg  131jvcx.jpg   \n131n2by  https://i.redd.it/pfg1u0aw1nwa1.jpg  131n2by.jpg   \n\n                           path                model  exists  curated accept   \nid                                                                             \n100rn7k  data/image/100rn7k.jpg        SexyDiffusion    True     True  False  \\\n1013bdt  data/image/1013bdt.jpg        SexyDiffusion    True     True   True   \n105mekt  data/image/105mekt.jpg        SexyDiffusion    True     True   True   \n105qvgl  data/image/105qvgl.jpg        SexyDiffusion    True     True   True   \n105rpcj  data/image/105rpcj.jpg        SexyDiffusion    True     True   True   \n...                         ...                  ...     ...      ...    ...   \n131dso7  data/image/131dso7.jpg  PrettyGirlDiffusion    True     True  False   \n131eznp  data/image/131eznp.jpg  PrettyGirlDiffusion    True     True   True   \n131g3am  data/image/131g3am.jpg  PrettyGirlDiffusion    True     True   True   \n131jvcx  data/image/131jvcx.jpg  PrettyGirlDiffusion    True     True  False   \n131n2by  data/image/131n2by.jpg  PrettyGirlDiffusion    True     True  False   \n\n        tags  \nid            \n100rn7k   []  \n1013bdt   []  \n105mekt   []  \n105qvgl   []  \n105rpcj   []  \n...      ...  \n131dso7   []  \n131eznp   []  \n131g3am   []  \n131jvcx   []  \n131n2by   []  \n\n[41505 rows x 14 columns]",
      "text/html": "<div>\n<style scoped>\n    .dataframe tbody tr th:only-of-type {\n        vertical-align: middle;\n    }\n\n    .dataframe tbody tr th {\n        vertical-align: top;\n    }\n\n    .dataframe thead th {\n        text-align: right;\n    }\n</style>\n<table border=\"1\" class=\"dataframe\">\n  <thead>\n    <tr style=\"text-align: right;\">\n      <th></th>\n      <th>subreddit</th>\n      <th>author</th>\n      <th>title</th>\n      <th>caption</th>\n      <th>hash</th>\n      <th>permalink</th>\n      <th>original_url</th>\n      <th>image_name</th>\n      <th>path</th>\n      <th>model</th>\n      <th>exists</th>\n      <th>curated</th>\n      <th>accept</th>\n      <th>tags</th>\n    </tr>\n    <tr>\n      <th>id</th>\n      <th></th>\n      <th></th>\n      <th></th>\n      <th></th>\n      <th></th>\n      <th></th>\n      <th></th>\n      <th></th>\n      <th></th>\n      <th></th>\n      <th></th>\n      <th></th>\n      <th></th>\n      <th></th>\n    </tr>\n  </thead>\n  <tbody>\n    <tr>\n      <th>100rn7k</th>\n      <td>AmIhotAF</td>\n      <td>veritynicole</td>\n      <td>hey, hows your new year going (23F)</td>\n      <td>a woman in a white shirt and black pants is po...</td>\n      <td>4bd00c19fa0ff2ade855e6d364b0760b</td>\n      <td>/r/AmIhotAF/comments/100rn7k/hey_hows_your_new...</td>\n      <td>https://i.redd.it/n7r47s0gkh9a1.jpg</td>\n      <td>100rn7k.jpg</td>\n      <td>data/image/100rn7k.jpg</td>\n      <td>SexyDiffusion</td>\n      <td>True</td>\n      <td>True</td>\n      <td>False</td>\n      <td>[]</td>\n    </tr>\n    <tr>\n      <th>1013bdt</th>\n      <td>AmIhotAF</td>\n      <td>RaulDea9286</td>\n      <td>36F - ITALIAN</td>\n      <td>arafed image of a woman in a bikini top</td>\n      <td>7c0d158cba8654ef1c635cbc5471d597</td>\n      <td>/r/AmIhotAF/comments/1013bdt/36f_italian/</td>\n      <td>https://i.redd.it/bg0wwdlt5k9a1.jpg</td>\n      <td>1013bdt.jpg</td>\n      <td>data/image/1013bdt.jpg</td>\n      <td>SexyDiffusion</td>\n      <td>True</td>\n      <td>True</td>\n      <td>True</td>\n      <td>[]</td>\n    </tr>\n    <tr>\n      <th>105mekt</th>\n      <td>AmIhotAF</td>\n      <td>lindaniz</td>\n      <td>interesting in good forward relationship (f24)</td>\n      <td>a close up of a woman with red hair and a whit...</td>\n      <td>ba4a0962cca2266a741e1e1700589c04</td>\n      <td>/r/AmIhotAF/comments/105mekt/interesting_in_go...</td>\n      <td>https://i.redd.it/4avjshsz8naa1.jpg</td>\n      <td>105mekt.jpg</td>\n      <td>data/image/105mekt.jpg</td>\n      <td>SexyDiffusion</td>\n      <td>True</td>\n      <td>True</td>\n      <td>True</td>\n      <td>[]</td>\n    </tr>\n    <tr>\n      <th>105qvgl</th>\n      <td>AmIhotAF</td>\n      <td>CaitVLove11</td>\n      <td>Laughing is my favorite 😆</td>\n      <td>a woman in a blue tank top and shorts is smili...</td>\n      <td>27bfe82c37314a0bcf02ab72eaf3a9e5</td>\n      <td>/r/AmIhotAF/comments/105qvgl/laughing_is_my_fa...</td>\n      <td>https://i.redd.it/2pulzr0lxmaa1.jpg</td>\n      <td>105qvgl.jpg</td>\n      <td>data/image/105qvgl.jpg</td>\n      <td>SexyDiffusion</td>\n      <td>True</td>\n      <td>True</td>\n      <td>True</td>\n      <td>[]</td>\n    </tr>\n    <tr>\n      <th>105rpcj</th>\n      <td>AmIhotAF</td>\n      <td>Flashy-Desk1858</td>\n      <td>[f22] What do you think when you see me?</td>\n      <td>a woman in a blue bikini top and a blue bra top</td>\n      <td>329eb42b8267fa1cc2980da8e48bcef1</td>\n      <td>/r/AmIhotAF/comments/105rpcj/f22_what_do_you_t...</td>\n      <td>https://i.redd.it/rz68pf934naa1.jpg</td>\n      <td>105rpcj.jpg</td>\n      <td>data/image/105rpcj.jpg</td>\n      <td>SexyDiffusion</td>\n      <td>True</td>\n      <td>True</td>\n      <td>True</td>\n      <td>[]</td>\n    </tr>\n    <tr>\n      <th>...</th>\n      <td>...</td>\n      <td>...</td>\n      <td>...</td>\n      <td>...</td>\n      <td>...</td>\n      <td>...</td>\n      <td>...</td>\n      <td>...</td>\n      <td>...</td>\n      <td>...</td>\n      <td>...</td>\n      <td>...</td>\n      <td>...</td>\n      <td>...</td>\n    </tr>\n    <tr>\n      <th>131dso7</th>\n      <td>DLAH</td>\n      <td>Wallydinger123</td>\n      <td>Happy B Day</td>\n      <td>there are three women posing for a picture in ...</td>\n      <td>ebb4b4a88dc79e2f2f57b10f32bf03c0</td>\n      <td>/r/DLAH/comments/131dso7/happy_b_day/</td>\n      <td>https://i.redd.it/36gurz533jwa1.jpg</td>\n      <td>131dso7.jpg</td>\n      <td>data/image/131dso7.jpg</td>\n      <td>PrettyGirlDiffusion</td>\n      <td>True</td>\n      <td>True</td>\n      <td>False</td>\n      <td>[]</td>\n    </tr>\n    <tr>\n      <th>131eznp</th>\n      <td>DLAH</td>\n      <td>Long_dong111</td>\n      <td>Perfect</td>\n      <td>araffe woman in a white dress sitting on a pur...</td>\n      <td>5c944c6d62b1ae182c5a6a40c64195f4</td>\n      <td>/r/DLAH/comments/131eznp/perfect/</td>\n      <td>https://i.redd.it/dnbbx4zucjwa1.jpg</td>\n      <td>131eznp.jpg</td>\n      <td>data/image/131eznp.jpg</td>\n      <td>PrettyGirlDiffusion</td>\n      <td>True</td>\n      <td>True</td>\n      <td>True</td>\n      <td>[]</td>\n    </tr>\n    <tr>\n      <th>131g3am</th>\n      <td>DLAH</td>\n      <td>ThrownAwayMiles</td>\n      <td>DLAH left or right</td>\n      <td>two women in short dresses posing for a pictur...</td>\n      <td>ab1f8fc33c85f4cfce12c810cf22229e</td>\n      <td>/r/DLAH/comments/131g3am/dlah_left_or_right/</td>\n      <td>https://i.redd.it/zpp70oor3lwa1.jpg</td>\n      <td>131g3am.jpg</td>\n      <td>data/image/131g3am.jpg</td>\n      <td>PrettyGirlDiffusion</td>\n      <td>True</td>\n      <td>True</td>\n      <td>True</td>\n      <td>[]</td>\n    </tr>\n    <tr>\n      <th>131jvcx</th>\n      <td>DLAH</td>\n      <td>robok212</td>\n      <td>Good morning 😍</td>\n      <td>araffe in a pink dress posing on a white wall</td>\n      <td>01f5058855526ef25888cff88065db4c</td>\n      <td>/r/DLAH/comments/131jvcx/good_morning/</td>\n      <td>https://i.redd.it/ozmbfhjv3mwa1.jpg</td>\n      <td>131jvcx.jpg</td>\n      <td>data/image/131jvcx.jpg</td>\n      <td>PrettyGirlDiffusion</td>\n      <td>True</td>\n      <td>True</td>\n      <td>False</td>\n      <td>[]</td>\n    </tr>\n    <tr>\n      <th>131n2by</th>\n      <td>DLAH</td>\n      <td>Dependent_Secret9424</td>\n      <td>Perfection (Sisters)</td>\n      <td>two women in shorts and sandals taking a selfi...</td>\n      <td>b162dd1999dbf9ea3c7adccd34624a46</td>\n      <td>/r/DLAH/comments/131n2by/perfection_sisters/</td>\n      <td>https://i.redd.it/pfg1u0aw1nwa1.jpg</td>\n      <td>131n2by.jpg</td>\n      <td>data/image/131n2by.jpg</td>\n      <td>PrettyGirlDiffusion</td>\n      <td>True</td>\n      <td>True</td>\n      <td>False</td>\n      <td>[]</td>\n    </tr>\n  </tbody>\n</table>\n<p>41505 rows × 14 columns</p>\n</div>"
     },
     "metadata": {},
     "output_type": "display_data"
    },
    {
     "name": "stdout",
     "output_type": "stream",
     "text": [
      "CPU times: total: 531 ms\n",
      "Wall time: 5.06 s\n"
     ]
    }
   ],
   "source": [
    "%%time\n",
    "\n",
    "extant_data = pandas.read_parquet(\"data/processed_raw_data.parquet\", engine='pyarrow', filesystem=file_system,\n",
    "\t\t\t\t\t\t\t\t  schema=schema)\n",
    "extant_data.set_index('id', inplace=True)\n",
    "display(extant_data)"
   ],
   "metadata": {
    "collapsed": false,
    "ExecuteTime": {
     "end_time": "2023-05-13T22:29:50.373524400Z",
     "start_time": "2023-05-13T22:29:45.282924Z"
    }
   }
  },
  {
   "cell_type": "code",
   "execution_count": 5,
   "outputs": [
    {
     "data": {
      "text/plain": "'==== CURATED DATA ===='"
     },
     "metadata": {},
     "output_type": "display_data"
    },
    {
     "data": {
      "text/plain": "(37031, 14)"
     },
     "metadata": {},
     "output_type": "display_data"
    },
    {
     "data": {
      "text/plain": "                subreddit                author   \nid                                                \n100rn7k          AmIhotAF          veritynicole  \\\n1013bdt          AmIhotAF           RaulDea9286   \n105mekt          AmIhotAF              lindaniz   \n105qvgl          AmIhotAF           CaitVLove11   \n105rpcj          AmIhotAF       Flashy-Desk1858   \n...                   ...                   ...   \n13d2hsf  bathandbodyworks           alesieoksap   \n13d661b  bathandbodyworks                xeloux   \n13d8s0i  bathandbodyworks  Alternative-Tea-9355   \n13dagbr  bathandbodyworks                Dove04   \n13dbhn4  bathandbodyworks         Thebigbooty01   \n\n                                                     title   \nid                                                           \n100rn7k                hey, hows your new year going (23F)  \\\n1013bdt                                      36F - ITALIAN   \n105mekt     interesting in good forward relationship (f24)   \n105qvgl                          Laughing is my favorite 😆   \n105rpcj           [f22] What do you think when you see me?   \n...                                                    ...   \n13d2hsf                         Ice Cream Shop Collection?   \n13d661b                             Facebook market finds!   \n13d8s0i                           Black Cherry Merlot dupe   \n13dagbr  Does anyone know how I could get rid of this r...   \n13dbhn4                               Gratis today at work   \n\n                                                   caption   \nid                                                           \n100rn7k  a woman in a white shirt and black pants is po...  \\\n1013bdt            arafed image of a woman in a bikini top   \n105mekt  a close up of a woman with red hair and a whit...   \n105qvgl  a woman in a blue tank top and shorts is smili...   \n105rpcj    a woman in a blue bikini top and a blue bra top   \n...                                                    ...   \n13d2hsf   someone holding a cup of ice cream in their hand   \n13d661b    three candles are sitting on a blanket on a bed   \n13d8s0i    someone holding a tube of body cream in a store   \n13dagbr  someone is holding a white device with a hole ...   \n13dbhn4  there are some bottles of bath and body produc...   \n\n                                     hash   \nid                                          \n100rn7k  4bd00c19fa0ff2ade855e6d364b0760b  \\\n1013bdt  7c0d158cba8654ef1c635cbc5471d597   \n105mekt  ba4a0962cca2266a741e1e1700589c04   \n105qvgl  27bfe82c37314a0bcf02ab72eaf3a9e5   \n105rpcj  329eb42b8267fa1cc2980da8e48bcef1   \n...                                   ...   \n13d2hsf  c6788074138175c661fc652bd7630e33   \n13d661b  e868289445c195815dd67dd0df1a65cb   \n13d8s0i  965bc5a58a597192700234729758101b   \n13dagbr  41732e4109a99c99c91c2181867d18e3   \n13dbhn4  f2afdcbed21cc1f44ac757bf2f797ae6   \n\n                                                 permalink   \nid                                                           \n100rn7k  /r/AmIhotAF/comments/100rn7k/hey_hows_your_new...  \\\n1013bdt          /r/AmIhotAF/comments/1013bdt/36f_italian/   \n105mekt  /r/AmIhotAF/comments/105mekt/interesting_in_go...   \n105qvgl  /r/AmIhotAF/comments/105qvgl/laughing_is_my_fa...   \n105rpcj  /r/AmIhotAF/comments/105rpcj/f22_what_do_you_t...   \n...                                                    ...   \n13d2hsf  /r/bathandbodyworks/comments/13d2hsf/ice_cream...   \n13d661b  /r/bathandbodyworks/comments/13d661b/facebook_...   \n13d8s0i  /r/bathandbodyworks/comments/13d8s0i/black_che...   \n13dagbr  /r/bathandbodyworks/comments/13dagbr/does_anyo...   \n13dbhn4  /r/bathandbodyworks/comments/13dbhn4/gratis_to...   \n\n                                original_url   image_name   \nid                                                          \n100rn7k  https://i.redd.it/n7r47s0gkh9a1.jpg  100rn7k.jpg  \\\n1013bdt  https://i.redd.it/bg0wwdlt5k9a1.jpg  1013bdt.jpg   \n105mekt  https://i.redd.it/4avjshsz8naa1.jpg  105mekt.jpg   \n105qvgl  https://i.redd.it/2pulzr0lxmaa1.jpg  105qvgl.jpg   \n105rpcj  https://i.redd.it/rz68pf934naa1.jpg  105rpcj.jpg   \n...                                      ...          ...   \n13d2hsf  https://i.redd.it/uhwamoq99wya1.jpg  13d2hsf.jpg   \n13d661b  https://i.redd.it/skd10hefxwya1.jpg  13d661b.jpg   \n13d8s0i  https://i.redd.it/xt7qew9qexya1.jpg  13d8s0i.jpg   \n13dagbr  https://i.redd.it/p0j6atz6rxya1.jpg  13dagbr.jpg   \n13dbhn4  https://i.redd.it/x954qki8zxya1.jpg  13dbhn4.jpg   \n\n                           path            model  exists  curated  accept tags  \nid                                                                              \n100rn7k  data/image/100rn7k.jpg    SexyDiffusion    True     True   False   []  \n1013bdt  data/image/1013bdt.jpg    SexyDiffusion    True     True    True   []  \n105mekt  data/image/105mekt.jpg    SexyDiffusion    True     True    True   []  \n105qvgl  data/image/105qvgl.jpg    SexyDiffusion    True     True    True   []  \n105rpcj  data/image/105rpcj.jpg    SexyDiffusion    True     True    True   []  \n...                         ...              ...     ...      ...     ...  ...  \n13d2hsf  data/image/13d2hsf.jpg  CandleDiffusion    True     True    True   []  \n13d661b  data/image/13d661b.jpg  CandleDiffusion    True     True    True   []  \n13d8s0i  data/image/13d8s0i.jpg  CandleDiffusion    True     True   False   []  \n13dagbr  data/image/13dagbr.jpg  CandleDiffusion    True     True   False   []  \n13dbhn4  data/image/13dbhn4.jpg  CandleDiffusion    True     True    True   []  \n\n[37031 rows x 14 columns]",
      "text/html": "<div>\n<style scoped>\n    .dataframe tbody tr th:only-of-type {\n        vertical-align: middle;\n    }\n\n    .dataframe tbody tr th {\n        vertical-align: top;\n    }\n\n    .dataframe thead th {\n        text-align: right;\n    }\n</style>\n<table border=\"1\" class=\"dataframe\">\n  <thead>\n    <tr style=\"text-align: right;\">\n      <th></th>\n      <th>subreddit</th>\n      <th>author</th>\n      <th>title</th>\n      <th>caption</th>\n      <th>hash</th>\n      <th>permalink</th>\n      <th>original_url</th>\n      <th>image_name</th>\n      <th>path</th>\n      <th>model</th>\n      <th>exists</th>\n      <th>curated</th>\n      <th>accept</th>\n      <th>tags</th>\n    </tr>\n    <tr>\n      <th>id</th>\n      <th></th>\n      <th></th>\n      <th></th>\n      <th></th>\n      <th></th>\n      <th></th>\n      <th></th>\n      <th></th>\n      <th></th>\n      <th></th>\n      <th></th>\n      <th></th>\n      <th></th>\n      <th></th>\n    </tr>\n  </thead>\n  <tbody>\n    <tr>\n      <th>100rn7k</th>\n      <td>AmIhotAF</td>\n      <td>veritynicole</td>\n      <td>hey, hows your new year going (23F)</td>\n      <td>a woman in a white shirt and black pants is po...</td>\n      <td>4bd00c19fa0ff2ade855e6d364b0760b</td>\n      <td>/r/AmIhotAF/comments/100rn7k/hey_hows_your_new...</td>\n      <td>https://i.redd.it/n7r47s0gkh9a1.jpg</td>\n      <td>100rn7k.jpg</td>\n      <td>data/image/100rn7k.jpg</td>\n      <td>SexyDiffusion</td>\n      <td>True</td>\n      <td>True</td>\n      <td>False</td>\n      <td>[]</td>\n    </tr>\n    <tr>\n      <th>1013bdt</th>\n      <td>AmIhotAF</td>\n      <td>RaulDea9286</td>\n      <td>36F - ITALIAN</td>\n      <td>arafed image of a woman in a bikini top</td>\n      <td>7c0d158cba8654ef1c635cbc5471d597</td>\n      <td>/r/AmIhotAF/comments/1013bdt/36f_italian/</td>\n      <td>https://i.redd.it/bg0wwdlt5k9a1.jpg</td>\n      <td>1013bdt.jpg</td>\n      <td>data/image/1013bdt.jpg</td>\n      <td>SexyDiffusion</td>\n      <td>True</td>\n      <td>True</td>\n      <td>True</td>\n      <td>[]</td>\n    </tr>\n    <tr>\n      <th>105mekt</th>\n      <td>AmIhotAF</td>\n      <td>lindaniz</td>\n      <td>interesting in good forward relationship (f24)</td>\n      <td>a close up of a woman with red hair and a whit...</td>\n      <td>ba4a0962cca2266a741e1e1700589c04</td>\n      <td>/r/AmIhotAF/comments/105mekt/interesting_in_go...</td>\n      <td>https://i.redd.it/4avjshsz8naa1.jpg</td>\n      <td>105mekt.jpg</td>\n      <td>data/image/105mekt.jpg</td>\n      <td>SexyDiffusion</td>\n      <td>True</td>\n      <td>True</td>\n      <td>True</td>\n      <td>[]</td>\n    </tr>\n    <tr>\n      <th>105qvgl</th>\n      <td>AmIhotAF</td>\n      <td>CaitVLove11</td>\n      <td>Laughing is my favorite 😆</td>\n      <td>a woman in a blue tank top and shorts is smili...</td>\n      <td>27bfe82c37314a0bcf02ab72eaf3a9e5</td>\n      <td>/r/AmIhotAF/comments/105qvgl/laughing_is_my_fa...</td>\n      <td>https://i.redd.it/2pulzr0lxmaa1.jpg</td>\n      <td>105qvgl.jpg</td>\n      <td>data/image/105qvgl.jpg</td>\n      <td>SexyDiffusion</td>\n      <td>True</td>\n      <td>True</td>\n      <td>True</td>\n      <td>[]</td>\n    </tr>\n    <tr>\n      <th>105rpcj</th>\n      <td>AmIhotAF</td>\n      <td>Flashy-Desk1858</td>\n      <td>[f22] What do you think when you see me?</td>\n      <td>a woman in a blue bikini top and a blue bra top</td>\n      <td>329eb42b8267fa1cc2980da8e48bcef1</td>\n      <td>/r/AmIhotAF/comments/105rpcj/f22_what_do_you_t...</td>\n      <td>https://i.redd.it/rz68pf934naa1.jpg</td>\n      <td>105rpcj.jpg</td>\n      <td>data/image/105rpcj.jpg</td>\n      <td>SexyDiffusion</td>\n      <td>True</td>\n      <td>True</td>\n      <td>True</td>\n      <td>[]</td>\n    </tr>\n    <tr>\n      <th>...</th>\n      <td>...</td>\n      <td>...</td>\n      <td>...</td>\n      <td>...</td>\n      <td>...</td>\n      <td>...</td>\n      <td>...</td>\n      <td>...</td>\n      <td>...</td>\n      <td>...</td>\n      <td>...</td>\n      <td>...</td>\n      <td>...</td>\n      <td>...</td>\n    </tr>\n    <tr>\n      <th>13d2hsf</th>\n      <td>bathandbodyworks</td>\n      <td>alesieoksap</td>\n      <td>Ice Cream Shop Collection?</td>\n      <td>someone holding a cup of ice cream in their hand</td>\n      <td>c6788074138175c661fc652bd7630e33</td>\n      <td>/r/bathandbodyworks/comments/13d2hsf/ice_cream...</td>\n      <td>https://i.redd.it/uhwamoq99wya1.jpg</td>\n      <td>13d2hsf.jpg</td>\n      <td>data/image/13d2hsf.jpg</td>\n      <td>CandleDiffusion</td>\n      <td>True</td>\n      <td>True</td>\n      <td>True</td>\n      <td>[]</td>\n    </tr>\n    <tr>\n      <th>13d661b</th>\n      <td>bathandbodyworks</td>\n      <td>xeloux</td>\n      <td>Facebook market finds!</td>\n      <td>three candles are sitting on a blanket on a bed</td>\n      <td>e868289445c195815dd67dd0df1a65cb</td>\n      <td>/r/bathandbodyworks/comments/13d661b/facebook_...</td>\n      <td>https://i.redd.it/skd10hefxwya1.jpg</td>\n      <td>13d661b.jpg</td>\n      <td>data/image/13d661b.jpg</td>\n      <td>CandleDiffusion</td>\n      <td>True</td>\n      <td>True</td>\n      <td>True</td>\n      <td>[]</td>\n    </tr>\n    <tr>\n      <th>13d8s0i</th>\n      <td>bathandbodyworks</td>\n      <td>Alternative-Tea-9355</td>\n      <td>Black Cherry Merlot dupe</td>\n      <td>someone holding a tube of body cream in a store</td>\n      <td>965bc5a58a597192700234729758101b</td>\n      <td>/r/bathandbodyworks/comments/13d8s0i/black_che...</td>\n      <td>https://i.redd.it/xt7qew9qexya1.jpg</td>\n      <td>13d8s0i.jpg</td>\n      <td>data/image/13d8s0i.jpg</td>\n      <td>CandleDiffusion</td>\n      <td>True</td>\n      <td>True</td>\n      <td>False</td>\n      <td>[]</td>\n    </tr>\n    <tr>\n      <th>13dagbr</th>\n      <td>bathandbodyworks</td>\n      <td>Dove04</td>\n      <td>Does anyone know how I could get rid of this r...</td>\n      <td>someone is holding a white device with a hole ...</td>\n      <td>41732e4109a99c99c91c2181867d18e3</td>\n      <td>/r/bathandbodyworks/comments/13dagbr/does_anyo...</td>\n      <td>https://i.redd.it/p0j6atz6rxya1.jpg</td>\n      <td>13dagbr.jpg</td>\n      <td>data/image/13dagbr.jpg</td>\n      <td>CandleDiffusion</td>\n      <td>True</td>\n      <td>True</td>\n      <td>False</td>\n      <td>[]</td>\n    </tr>\n    <tr>\n      <th>13dbhn4</th>\n      <td>bathandbodyworks</td>\n      <td>Thebigbooty01</td>\n      <td>Gratis today at work</td>\n      <td>there are some bottles of bath and body produc...</td>\n      <td>f2afdcbed21cc1f44ac757bf2f797ae6</td>\n      <td>/r/bathandbodyworks/comments/13dbhn4/gratis_to...</td>\n      <td>https://i.redd.it/x954qki8zxya1.jpg</td>\n      <td>13dbhn4.jpg</td>\n      <td>data/image/13dbhn4.jpg</td>\n      <td>CandleDiffusion</td>\n      <td>True</td>\n      <td>True</td>\n      <td>True</td>\n      <td>[]</td>\n    </tr>\n  </tbody>\n</table>\n<p>37031 rows × 14 columns</p>\n</div>"
     },
     "metadata": {},
     "output_type": "display_data"
    },
    {
     "name": "stdout",
     "output_type": "stream",
     "text": [
      "CPU times: total: 797 ms\n",
      "Wall time: 4.3 s\n"
     ]
    }
   ],
   "source": [
    "%%time\n",
    "\n",
    "curated_data = pandas.read_parquet(\"data/parquet/back.parquet\", engine='pyarrow', filesystem=file_system, schema=schema)\n",
    "curated_data.set_index('id', inplace=True)\n",
    "\n",
    "display(\"==== CURATED DATA ====\")\n",
    "display(curated_data.shape)\n",
    "display(curated_data)"
   ],
   "metadata": {
    "collapsed": false,
    "ExecuteTime": {
     "end_time": "2023-05-13T22:29:54.716858700Z",
     "start_time": "2023-05-13T22:29:50.373524400Z"
    }
   }
  },
  {
   "cell_type": "code",
   "execution_count": 6,
   "outputs": [
    {
     "data": {
      "text/plain": "'==== UPDATED EXTANT DATA ===='"
     },
     "metadata": {},
     "output_type": "display_data"
    },
    {
     "data": {
      "text/plain": "(41505, 15)"
     },
     "metadata": {},
     "output_type": "display_data"
    },
    {
     "data": {
      "text/plain": "            id subreddit                author   \n0      100rn7k  AmIhotAF          veritynicole  \\\n1      1013bdt  AmIhotAF           RaulDea9286   \n2      105mekt  AmIhotAF              lindaniz   \n3      105qvgl  AmIhotAF           CaitVLove11   \n4      105rpcj  AmIhotAF       Flashy-Desk1858   \n...        ...       ...                   ...   \n41500  131dso7      DLAH        Wallydinger123   \n41501  131eznp      DLAH          Long_dong111   \n41502  131g3am      DLAH       ThrownAwayMiles   \n41503  131jvcx      DLAH              robok212   \n41504  131n2by      DLAH  Dependent_Secret9424   \n\n                                                title   \n0                 hey, hows your new year going (23F)  \\\n1                                       36F - ITALIAN   \n2      interesting in good forward relationship (f24)   \n3                           Laughing is my favorite 😆   \n4            [f22] What do you think when you see me?   \n...                                               ...   \n41500                                     Happy B Day   \n41501                                         Perfect   \n41502                              DLAH left or right   \n41503                                  Good morning 😍   \n41504                            Perfection (Sisters)   \n\n                                                 caption   \n0      a woman in a white shirt and black pants is po...  \\\n1                arafed image of a woman in a bikini top   \n2      a close up of a woman with red hair and a whit...   \n3      a woman in a blue tank top and shorts is smili...   \n4        a woman in a blue bikini top and a blue bra top   \n...                                                  ...   \n41500  there are three women posing for a picture in ...   \n41501  araffe woman in a white dress sitting on a pur...   \n41502  two women in short dresses posing for a pictur...   \n41503      araffe in a pink dress posing on a white wall   \n41504  two women in shorts and sandals taking a selfi...   \n\n                                   hash   \n0      4bd00c19fa0ff2ade855e6d364b0760b  \\\n1      7c0d158cba8654ef1c635cbc5471d597   \n2      ba4a0962cca2266a741e1e1700589c04   \n3      27bfe82c37314a0bcf02ab72eaf3a9e5   \n4      329eb42b8267fa1cc2980da8e48bcef1   \n...                                 ...   \n41500  ebb4b4a88dc79e2f2f57b10f32bf03c0   \n41501  5c944c6d62b1ae182c5a6a40c64195f4   \n41502  ab1f8fc33c85f4cfce12c810cf22229e   \n41503  01f5058855526ef25888cff88065db4c   \n41504  b162dd1999dbf9ea3c7adccd34624a46   \n\n                                               permalink   \n0      /r/AmIhotAF/comments/100rn7k/hey_hows_your_new...  \\\n1              /r/AmIhotAF/comments/1013bdt/36f_italian/   \n2      /r/AmIhotAF/comments/105mekt/interesting_in_go...   \n3      /r/AmIhotAF/comments/105qvgl/laughing_is_my_fa...   \n4      /r/AmIhotAF/comments/105rpcj/f22_what_do_you_t...   \n...                                                  ...   \n41500              /r/DLAH/comments/131dso7/happy_b_day/   \n41501                  /r/DLAH/comments/131eznp/perfect/   \n41502       /r/DLAH/comments/131g3am/dlah_left_or_right/   \n41503             /r/DLAH/comments/131jvcx/good_morning/   \n41504       /r/DLAH/comments/131n2by/perfection_sisters/   \n\n                              original_url   image_name   \n0      https://i.redd.it/n7r47s0gkh9a1.jpg  100rn7k.jpg  \\\n1      https://i.redd.it/bg0wwdlt5k9a1.jpg  1013bdt.jpg   \n2      https://i.redd.it/4avjshsz8naa1.jpg  105mekt.jpg   \n3      https://i.redd.it/2pulzr0lxmaa1.jpg  105qvgl.jpg   \n4      https://i.redd.it/rz68pf934naa1.jpg  105rpcj.jpg   \n...                                    ...          ...   \n41500  https://i.redd.it/36gurz533jwa1.jpg  131dso7.jpg   \n41501  https://i.redd.it/dnbbx4zucjwa1.jpg  131eznp.jpg   \n41502  https://i.redd.it/zpp70oor3lwa1.jpg  131g3am.jpg   \n41503  https://i.redd.it/ozmbfhjv3mwa1.jpg  131jvcx.jpg   \n41504  https://i.redd.it/pfg1u0aw1nwa1.jpg  131n2by.jpg   \n\n                         path                model exists curated accept tags  \n0      data/image/100rn7k.jpg        SexyDiffusion   True    True  False   []  \n1      data/image/1013bdt.jpg        SexyDiffusion   True    True   True   []  \n2      data/image/105mekt.jpg        SexyDiffusion   True    True   True   []  \n3      data/image/105qvgl.jpg        SexyDiffusion   True    True   True   []  \n4      data/image/105rpcj.jpg        SexyDiffusion   True    True   True   []  \n...                       ...                  ...    ...     ...    ...  ...  \n41500  data/image/131dso7.jpg  PrettyGirlDiffusion   True    True  False   []  \n41501  data/image/131eznp.jpg  PrettyGirlDiffusion   True    True   True   []  \n41502  data/image/131g3am.jpg  PrettyGirlDiffusion   True    True   True   []  \n41503  data/image/131jvcx.jpg  PrettyGirlDiffusion   True    True  False   []  \n41504  data/image/131n2by.jpg  PrettyGirlDiffusion   True    True  False   []  \n\n[41505 rows x 15 columns]",
      "text/html": "<div>\n<style scoped>\n    .dataframe tbody tr th:only-of-type {\n        vertical-align: middle;\n    }\n\n    .dataframe tbody tr th {\n        vertical-align: top;\n    }\n\n    .dataframe thead th {\n        text-align: right;\n    }\n</style>\n<table border=\"1\" class=\"dataframe\">\n  <thead>\n    <tr style=\"text-align: right;\">\n      <th></th>\n      <th>id</th>\n      <th>subreddit</th>\n      <th>author</th>\n      <th>title</th>\n      <th>caption</th>\n      <th>hash</th>\n      <th>permalink</th>\n      <th>original_url</th>\n      <th>image_name</th>\n      <th>path</th>\n      <th>model</th>\n      <th>exists</th>\n      <th>curated</th>\n      <th>accept</th>\n      <th>tags</th>\n    </tr>\n  </thead>\n  <tbody>\n    <tr>\n      <th>0</th>\n      <td>100rn7k</td>\n      <td>AmIhotAF</td>\n      <td>veritynicole</td>\n      <td>hey, hows your new year going (23F)</td>\n      <td>a woman in a white shirt and black pants is po...</td>\n      <td>4bd00c19fa0ff2ade855e6d364b0760b</td>\n      <td>/r/AmIhotAF/comments/100rn7k/hey_hows_your_new...</td>\n      <td>https://i.redd.it/n7r47s0gkh9a1.jpg</td>\n      <td>100rn7k.jpg</td>\n      <td>data/image/100rn7k.jpg</td>\n      <td>SexyDiffusion</td>\n      <td>True</td>\n      <td>True</td>\n      <td>False</td>\n      <td>[]</td>\n    </tr>\n    <tr>\n      <th>1</th>\n      <td>1013bdt</td>\n      <td>AmIhotAF</td>\n      <td>RaulDea9286</td>\n      <td>36F - ITALIAN</td>\n      <td>arafed image of a woman in a bikini top</td>\n      <td>7c0d158cba8654ef1c635cbc5471d597</td>\n      <td>/r/AmIhotAF/comments/1013bdt/36f_italian/</td>\n      <td>https://i.redd.it/bg0wwdlt5k9a1.jpg</td>\n      <td>1013bdt.jpg</td>\n      <td>data/image/1013bdt.jpg</td>\n      <td>SexyDiffusion</td>\n      <td>True</td>\n      <td>True</td>\n      <td>True</td>\n      <td>[]</td>\n    </tr>\n    <tr>\n      <th>2</th>\n      <td>105mekt</td>\n      <td>AmIhotAF</td>\n      <td>lindaniz</td>\n      <td>interesting in good forward relationship (f24)</td>\n      <td>a close up of a woman with red hair and a whit...</td>\n      <td>ba4a0962cca2266a741e1e1700589c04</td>\n      <td>/r/AmIhotAF/comments/105mekt/interesting_in_go...</td>\n      <td>https://i.redd.it/4avjshsz8naa1.jpg</td>\n      <td>105mekt.jpg</td>\n      <td>data/image/105mekt.jpg</td>\n      <td>SexyDiffusion</td>\n      <td>True</td>\n      <td>True</td>\n      <td>True</td>\n      <td>[]</td>\n    </tr>\n    <tr>\n      <th>3</th>\n      <td>105qvgl</td>\n      <td>AmIhotAF</td>\n      <td>CaitVLove11</td>\n      <td>Laughing is my favorite 😆</td>\n      <td>a woman in a blue tank top and shorts is smili...</td>\n      <td>27bfe82c37314a0bcf02ab72eaf3a9e5</td>\n      <td>/r/AmIhotAF/comments/105qvgl/laughing_is_my_fa...</td>\n      <td>https://i.redd.it/2pulzr0lxmaa1.jpg</td>\n      <td>105qvgl.jpg</td>\n      <td>data/image/105qvgl.jpg</td>\n      <td>SexyDiffusion</td>\n      <td>True</td>\n      <td>True</td>\n      <td>True</td>\n      <td>[]</td>\n    </tr>\n    <tr>\n      <th>4</th>\n      <td>105rpcj</td>\n      <td>AmIhotAF</td>\n      <td>Flashy-Desk1858</td>\n      <td>[f22] What do you think when you see me?</td>\n      <td>a woman in a blue bikini top and a blue bra top</td>\n      <td>329eb42b8267fa1cc2980da8e48bcef1</td>\n      <td>/r/AmIhotAF/comments/105rpcj/f22_what_do_you_t...</td>\n      <td>https://i.redd.it/rz68pf934naa1.jpg</td>\n      <td>105rpcj.jpg</td>\n      <td>data/image/105rpcj.jpg</td>\n      <td>SexyDiffusion</td>\n      <td>True</td>\n      <td>True</td>\n      <td>True</td>\n      <td>[]</td>\n    </tr>\n    <tr>\n      <th>...</th>\n      <td>...</td>\n      <td>...</td>\n      <td>...</td>\n      <td>...</td>\n      <td>...</td>\n      <td>...</td>\n      <td>...</td>\n      <td>...</td>\n      <td>...</td>\n      <td>...</td>\n      <td>...</td>\n      <td>...</td>\n      <td>...</td>\n      <td>...</td>\n      <td>...</td>\n    </tr>\n    <tr>\n      <th>41500</th>\n      <td>131dso7</td>\n      <td>DLAH</td>\n      <td>Wallydinger123</td>\n      <td>Happy B Day</td>\n      <td>there are three women posing for a picture in ...</td>\n      <td>ebb4b4a88dc79e2f2f57b10f32bf03c0</td>\n      <td>/r/DLAH/comments/131dso7/happy_b_day/</td>\n      <td>https://i.redd.it/36gurz533jwa1.jpg</td>\n      <td>131dso7.jpg</td>\n      <td>data/image/131dso7.jpg</td>\n      <td>PrettyGirlDiffusion</td>\n      <td>True</td>\n      <td>True</td>\n      <td>False</td>\n      <td>[]</td>\n    </tr>\n    <tr>\n      <th>41501</th>\n      <td>131eznp</td>\n      <td>DLAH</td>\n      <td>Long_dong111</td>\n      <td>Perfect</td>\n      <td>araffe woman in a white dress sitting on a pur...</td>\n      <td>5c944c6d62b1ae182c5a6a40c64195f4</td>\n      <td>/r/DLAH/comments/131eznp/perfect/</td>\n      <td>https://i.redd.it/dnbbx4zucjwa1.jpg</td>\n      <td>131eznp.jpg</td>\n      <td>data/image/131eznp.jpg</td>\n      <td>PrettyGirlDiffusion</td>\n      <td>True</td>\n      <td>True</td>\n      <td>True</td>\n      <td>[]</td>\n    </tr>\n    <tr>\n      <th>41502</th>\n      <td>131g3am</td>\n      <td>DLAH</td>\n      <td>ThrownAwayMiles</td>\n      <td>DLAH left or right</td>\n      <td>two women in short dresses posing for a pictur...</td>\n      <td>ab1f8fc33c85f4cfce12c810cf22229e</td>\n      <td>/r/DLAH/comments/131g3am/dlah_left_or_right/</td>\n      <td>https://i.redd.it/zpp70oor3lwa1.jpg</td>\n      <td>131g3am.jpg</td>\n      <td>data/image/131g3am.jpg</td>\n      <td>PrettyGirlDiffusion</td>\n      <td>True</td>\n      <td>True</td>\n      <td>True</td>\n      <td>[]</td>\n    </tr>\n    <tr>\n      <th>41503</th>\n      <td>131jvcx</td>\n      <td>DLAH</td>\n      <td>robok212</td>\n      <td>Good morning 😍</td>\n      <td>araffe in a pink dress posing on a white wall</td>\n      <td>01f5058855526ef25888cff88065db4c</td>\n      <td>/r/DLAH/comments/131jvcx/good_morning/</td>\n      <td>https://i.redd.it/ozmbfhjv3mwa1.jpg</td>\n      <td>131jvcx.jpg</td>\n      <td>data/image/131jvcx.jpg</td>\n      <td>PrettyGirlDiffusion</td>\n      <td>True</td>\n      <td>True</td>\n      <td>False</td>\n      <td>[]</td>\n    </tr>\n    <tr>\n      <th>41504</th>\n      <td>131n2by</td>\n      <td>DLAH</td>\n      <td>Dependent_Secret9424</td>\n      <td>Perfection (Sisters)</td>\n      <td>two women in shorts and sandals taking a selfi...</td>\n      <td>b162dd1999dbf9ea3c7adccd34624a46</td>\n      <td>/r/DLAH/comments/131n2by/perfection_sisters/</td>\n      <td>https://i.redd.it/pfg1u0aw1nwa1.jpg</td>\n      <td>131n2by.jpg</td>\n      <td>data/image/131n2by.jpg</td>\n      <td>PrettyGirlDiffusion</td>\n      <td>True</td>\n      <td>True</td>\n      <td>False</td>\n      <td>[]</td>\n    </tr>\n  </tbody>\n</table>\n<p>41505 rows × 15 columns</p>\n</div>"
     },
     "metadata": {},
     "output_type": "display_data"
    },
    {
     "name": "stdout",
     "output_type": "stream",
     "text": [
      "CPU times: total: 359 ms\n",
      "Wall time: 4.45 s\n"
     ]
    }
   ],
   "source": [
    "%%time\n",
    "\n",
    "extant_data.update(curated_data)\n",
    "updated_extant_data = extant_data.reset_index()\n",
    "\n",
    "display(\"==== UPDATED EXTANT DATA ====\")\n",
    "display(updated_extant_data.shape)\n",
    "display(updated_extant_data)\n",
    "updated_extant_data.to_parquet(\"data/processed_raw_data.parquet\", engine='pyarrow', filesystem=file_system, schema=schema)"
   ],
   "metadata": {
    "collapsed": false,
    "ExecuteTime": {
     "end_time": "2023-05-13T22:29:59.186325700Z",
     "start_time": "2023-05-13T22:29:54.685450600Z"
    }
   }
  },
  {
   "cell_type": "code",
   "execution_count": 7,
   "outputs": [
    {
     "name": "stdout",
     "output_type": "stream",
     "text": [
      "CPU times: total: 109 ms\n",
      "Wall time: 212 ms\n"
     ]
    }
   ],
   "source": [
    "%%time\n",
    "\n",
    "reddit: praw.Reddit = praw.Reddit(client_id='5hVavL0PIRyM_1JSvqT6UQ', client_secret='BjD2kS3WNLnJc59RKY-JJUuc_Z9-JA', user_agent='script:%(bot_name)s:v%(bot_version)s (by /u/%(bot_author)s)')"
   ],
   "metadata": {
    "collapsed": false,
    "ExecuteTime": {
     "end_time": "2023-05-13T22:29:59.429468900Z",
     "start_time": "2023-05-13T22:29:59.186325700Z"
    }
   }
  },
  {
   "cell_type": "code",
   "execution_count": 8,
   "outputs": [
    {
     "name": "stderr",
     "output_type": "stream",
     "text": [
      "Creating Temp Dir For Subs...: 100%|██████████| 18/18 [00:00<00:00, 575.99it/s]\n"
     ]
    }
   ],
   "source": [
    "for sub in tqdm(subs, total=len(subs), desc=\"Creating Temp Dir For Subs...\"):\n",
    "\ttemp_dir_path_ = f\"temp/{sub}\"\n",
    "\tif not os.path.exists(temp_dir_path_):\n",
    "\t\tos.makedirs(temp_dir_path_)\n",
    "\tos.makedirs(temp_dir_path_, exist_ok=True)"
   ],
   "metadata": {
    "collapsed": false,
    "ExecuteTime": {
     "end_time": "2023-05-13T22:29:59.689170500Z",
     "start_time": "2023-05-13T22:29:59.429468900Z"
    }
   }
  },
  {
   "cell_type": "code",
   "execution_count": 9,
   "outputs": [
    {
     "name": "stderr",
     "output_type": "stream",
     "text": [
      "week:   0%|          | 0/18 [00:00<?, ?it/s]\n",
      "Posts - SFWRedheads - week:   0%|          | 0/100 [00:00<?, ?it/s]\u001B[A\n",
      "Posts - SFWRedheads - week:   7%|▋         | 7/100 [00:00<00:01, 64.00it/s]\u001B[A\n",
      "Posts - SFWRedheads - week:  14%|█▍        | 14/100 [00:00<00:01, 65.33it/s]\u001B[A\n",
      "Posts - SFWRedheads - week:  21%|██        | 21/100 [00:00<00:01, 60.70it/s]\u001B[A\n",
      "Posts - SFWRedheads - week:  28%|██▊       | 28/100 [00:00<00:01, 61.96it/s]\u001B[A\n",
      "Posts - SFWRedheads - week:  35%|███▌      | 35/100 [00:00<00:01, 60.61it/s]\u001B[A\n",
      "Posts - SFWRedheads - week:  42%|████▏     | 42/100 [00:00<00:01, 51.97it/s]\u001B[A\n",
      "Posts - SFWRedheads - week:  48%|████▊     | 48/100 [00:00<00:01, 38.76it/s]\u001B[A\n",
      "Posts - SFWRedheads - week:  53%|█████▎    | 53/100 [00:01<00:01, 33.73it/s]\u001B[A\n",
      "Posts - SFWRedheads - week:  57%|█████▋    | 57/100 [00:01<00:01, 31.45it/s]\u001B[A\n",
      "Posts - SFWRedheads - week:  63%|██████▎   | 63/100 [00:01<00:01, 29.25it/s]\u001B[A\n",
      "Posts - SFWRedheads - week:  67%|██████▋   | 67/100 [00:01<00:01, 26.87it/s]\u001B[A\n",
      "Posts - SFWRedheads - week:  73%|███████▎  | 73/100 [00:01<00:00, 32.47it/s]\u001B[A\n",
      "Posts - SFWRedheads - week:  79%|███████▉  | 79/100 [00:01<00:00, 37.66it/s]\u001B[A\n",
      "Posts - SFWRedheads - week:  84%|████████▍ | 84/100 [00:02<00:00, 38.29it/s]\u001B[A\n",
      "Posts - SFWRedheads - week:  89%|████████▉ | 89/100 [00:02<00:00, 40.15it/s]\u001B[A\n",
      "Posts - SFWRedheads - week:  94%|█████████▍| 94/100 [00:02<00:00, 36.17it/s]\u001B[A\n",
      "Posts - SFWRedheads - week: 100%|██████████| 100/100 [00:02<00:00, 37.93it/s][A\n",
      "week:   6%|▌         | 1/18 [00:04<01:11,  4.23s/it]\n",
      "Posts - sfwpetite - week:   0%|          | 0/35 [00:00<?, ?it/s]\u001B[A\n",
      "Posts - sfwpetite - week:  11%|█▏        | 4/35 [00:00<00:00, 32.00it/s]\u001B[A\n",
      "Posts - sfwpetite - week:  23%|██▎       | 8/35 [00:00<00:01, 21.66it/s]\u001B[A\n",
      "Posts - sfwpetite - week:  31%|███▏      | 11/35 [00:00<00:01, 21.53it/s]\u001B[A\n",
      "Posts - sfwpetite - week:  40%|████      | 14/35 [00:00<00:00, 22.35it/s]\u001B[A\n",
      "Posts - sfwpetite - week:  49%|████▊     | 17/35 [00:00<00:00, 21.18it/s]\u001B[A\n",
      "Posts - sfwpetite - week:  63%|██████▎   | 22/35 [00:00<00:00, 27.99it/s]\u001B[A\n",
      "Posts - sfwpetite - week:  77%|███████▋  | 27/35 [00:00<00:00, 32.96it/s]\u001B[A\n",
      "Posts - sfwpetite - week: 100%|██████████| 35/35 [00:01<00:00, 28.96it/s]\u001B[A\n",
      "week:  11%|█         | 2/18 [00:13<01:52,  7.06s/it]\n",
      "Posts - SFWNextDoorGirls - week:   0%|          | 0/100 [00:00<?, ?it/s]\u001B[A\n",
      "Posts - SFWNextDoorGirls - week:   6%|▌         | 6/100 [00:00<00:01, 54.86it/s]\u001B[A\n",
      "Posts - SFWNextDoorGirls - week:  14%|█▍        | 14/100 [00:00<00:01, 65.61it/s]\u001B[A\n",
      "Posts - SFWNextDoorGirls - week:  21%|██        | 21/100 [00:00<00:01, 64.88it/s]\u001B[A\n",
      "Posts - SFWNextDoorGirls - week:  28%|██▊       | 28/100 [00:00<00:02, 27.42it/s]\u001B[A\n",
      "Posts - SFWNextDoorGirls - week:  33%|███▎      | 33/100 [00:02<00:06, 10.36it/s]\u001B[A\n",
      "Posts - SFWNextDoorGirls - week:  37%|███▋      | 37/100 [00:02<00:05, 11.72it/s]\u001B[A\n",
      "Posts - SFWNextDoorGirls - week:  40%|████      | 40/100 [00:02<00:04, 12.09it/s]\u001B[A\n",
      "Posts - SFWNextDoorGirls - week:  44%|████▍     | 44/100 [00:02<00:03, 14.45it/s]\u001B[A\n",
      "Posts - SFWNextDoorGirls - week:  47%|████▋     | 47/100 [00:02<00:03, 15.63it/s]\u001B[A\n",
      "Posts - SFWNextDoorGirls - week:  50%|█████     | 50/100 [00:03<00:03, 14.00it/s]\u001B[A\n",
      "Posts - SFWNextDoorGirls - week:  52%|█████▏    | 52/100 [00:03<00:04, 10.33it/s]\u001B[A\n",
      "Posts - SFWNextDoorGirls - week:  55%|█████▌    | 55/100 [00:03<00:03, 12.39it/s]\u001B[A\n",
      "Posts - SFWNextDoorGirls - week:  59%|█████▉    | 59/100 [00:03<00:02, 16.23it/s]\u001B[A\n",
      "Posts - SFWNextDoorGirls - week:  64%|██████▍   | 64/100 [00:03<00:01, 20.09it/s]\u001B[A\n",
      "Posts - SFWNextDoorGirls - week:  67%|██████▋   | 67/100 [00:04<00:02, 14.87it/s]\u001B[A\n",
      "Posts - SFWNextDoorGirls - week:  70%|███████   | 70/100 [00:05<00:04,  6.95it/s]\u001B[A\n",
      "Posts - SFWNextDoorGirls - week:  72%|███████▏  | 72/100 [00:05<00:04,  6.98it/s]\u001B[A\n",
      "Posts - SFWNextDoorGirls - week:  74%|███████▍  | 74/100 [00:05<00:03,  7.37it/s]\u001B[A\n",
      "Posts - SFWNextDoorGirls - week:  78%|███████▊  | 78/100 [00:05<00:02, 10.51it/s]\u001B[A\n",
      "Posts - SFWNextDoorGirls - week:  81%|████████  | 81/100 [00:05<00:01, 12.84it/s]\u001B[A\n",
      "Posts - SFWNextDoorGirls - week:  85%|████████▌ | 85/100 [00:06<00:00, 16.74it/s]\u001B[A\n",
      "Posts - SFWNextDoorGirls - week:  88%|████████▊ | 88/100 [00:06<00:00, 15.42it/s]\u001B[A\n",
      "Posts - SFWNextDoorGirls - week:  91%|█████████ | 91/100 [00:06<00:00, 17.61it/s]\u001B[A\n",
      "Posts - SFWNextDoorGirls - week:  95%|█████████▌| 95/100 [00:06<00:00, 15.93it/s]\u001B[A\n",
      "Posts - SFWNextDoorGirls - week: 100%|██████████| 100/100 [00:07<00:00, 13.14it/s][A\n",
      "week:  17%|█▋        | 3/18 [00:34<03:21, 13.46s/it]\n",
      "Posts - fatsquirrelhate - week:   0%|          | 0/100 [00:00<?, ?it/s]\u001B[A\n",
      "Posts - fatsquirrelhate - week:   1%|          | 1/100 [00:00<00:12,  7.83it/s]\u001B[A\n",
      "Posts - fatsquirrelhate - week:   6%|▌         | 6/100 [00:00<00:03, 28.43it/s]\u001B[A\n",
      "Posts - fatsquirrelhate - week:  10%|█         | 10/100 [00:00<00:02, 32.00it/s]\u001B[A\n",
      "Posts - fatsquirrelhate - week:  14%|█▍        | 14/100 [00:00<00:03, 26.48it/s]\u001B[A\n",
      "Posts - fatsquirrelhate - week:  17%|█▋        | 17/100 [00:00<00:03, 25.74it/s]\u001B[A\n",
      "Posts - fatsquirrelhate - week:  23%|██▎       | 23/100 [00:00<00:02, 32.89it/s]\u001B[A\n",
      "Posts - fatsquirrelhate - week:  31%|███       | 31/100 [00:00<00:01, 44.42it/s]\u001B[A\n",
      "Posts - fatsquirrelhate - week:  36%|███▌      | 36/100 [00:01<00:01, 44.79it/s]\u001B[A\n",
      "Posts - fatsquirrelhate - week:  41%|████      | 41/100 [00:01<00:01, 44.61it/s]\u001B[A\n",
      "Posts - fatsquirrelhate - week:  46%|████▌     | 46/100 [00:01<00:01, 39.47it/s]\u001B[A\n",
      "Posts - fatsquirrelhate - week:  51%|█████     | 51/100 [00:01<00:01, 39.62it/s]\u001B[A\n",
      "Posts - fatsquirrelhate - week:  56%|█████▌    | 56/100 [00:01<00:01, 39.74it/s]\u001B[A\n",
      "Posts - fatsquirrelhate - week:  61%|██████    | 61/100 [00:01<00:01, 37.05it/s]\u001B[A\n",
      "Posts - fatsquirrelhate - week:  65%|██████▌   | 65/100 [00:01<00:01, 33.07it/s]\u001B[A\n",
      "Posts - fatsquirrelhate - week:  69%|██████▉   | 69/100 [00:02<00:01, 29.73it/s]\u001B[A\n",
      "Posts - fatsquirrelhate - week:  73%|███████▎  | 73/100 [00:02<00:01, 24.09it/s]\u001B[A\n",
      "Posts - fatsquirrelhate - week:  76%|███████▌  | 76/100 [00:02<00:01, 19.58it/s]\u001B[A\n",
      "Posts - fatsquirrelhate - week:  79%|███████▉  | 79/100 [00:02<00:01, 20.51it/s]\u001B[A\n",
      "Posts - fatsquirrelhate - week:  82%|████████▏ | 82/100 [00:02<00:00, 21.95it/s]\u001B[A\n",
      "Posts - fatsquirrelhate - week:  86%|████████▌ | 86/100 [00:02<00:00, 25.46it/s]\u001B[A\n",
      "Posts - fatsquirrelhate - week:  89%|████████▉ | 89/100 [00:02<00:00, 25.94it/s]\u001B[A\n",
      "Posts - fatsquirrelhate - week:  92%|█████████▏| 92/100 [00:03<00:00, 22.90it/s]\u001B[A\n",
      "Posts - fatsquirrelhate - week:  95%|█████████▌| 95/100 [00:03<00:00, 23.20it/s]\u001B[A\n",
      "Posts - fatsquirrelhate - week: 100%|██████████| 100/100 [00:03<00:00, 29.62it/s][A\n",
      "week:  22%|██▏       | 4/18 [00:46<03:00, 12.86s/it]\n",
      "Posts - realasians - week:   0%|          | 0/100 [00:00<?, ?it/s]\u001B[A\n",
      "Posts - realasians - week:   8%|▊         | 8/100 [00:00<00:01, 77.05it/s]\u001B[A\n",
      "Posts - realasians - week:  17%|█▋        | 17/100 [00:00<00:01, 80.20it/s]\u001B[A\n",
      "Posts - realasians - week:  26%|██▌       | 26/100 [00:00<00:00, 76.14it/s]\u001B[A\n",
      "Posts - realasians - week:  35%|███▌      | 35/100 [00:00<00:00, 78.42it/s]\u001B[A\n",
      "Posts - realasians - week:  47%|████▋     | 47/100 [00:00<00:00, 89.48it/s]\u001B[A\n",
      "Posts - realasians - week:  57%|█████▋    | 57/100 [00:00<00:00, 89.19it/s]\u001B[A\n",
      "Posts - realasians - week:  70%|███████   | 70/100 [00:00<00:00, 98.73it/s]\u001B[A\n",
      "Posts - realasians - week:  80%|████████  | 80/100 [00:00<00:00, 88.48it/s]\u001B[A\n",
      "Posts - realasians - week:  90%|█████████ | 90/100 [00:01<00:00, 89.34it/s]\u001B[A\n",
      "Posts - realasians - week: 100%|██████████| 100/100 [00:01<00:00, 85.47it/s]\u001B[A\n",
      "week:  28%|██▊       | 5/18 [00:55<02:31, 11.69s/it]\n",
      "Posts - KoreanHotties - week:   0%|          | 0/100 [00:00<?, ?it/s]\u001B[A\n",
      "Posts - KoreanHotties - week:  10%|█         | 10/100 [00:00<00:00, 91.43it/s]\u001B[A\n",
      "Posts - KoreanHotties - week:  20%|██        | 20/100 [00:00<00:01, 79.75it/s]\u001B[A\n",
      "Posts - KoreanHotties - week:  31%|███       | 31/100 [00:00<00:00, 88.46it/s]\u001B[A\n",
      "Posts - KoreanHotties - week:  40%|████      | 40/100 [00:00<00:00, 86.14it/s]\u001B[A\n",
      "Posts - KoreanHotties - week:  50%|█████     | 50/100 [00:00<00:00, 87.99it/s]\u001B[A\n",
      "Posts - KoreanHotties - week:  62%|██████▏   | 62/100 [00:00<00:00, 95.11it/s]\u001B[A\n",
      "Posts - KoreanHotties - week:  73%|███████▎  | 73/100 [00:00<00:00, 95.46it/s]\u001B[A\n",
      "Posts - KoreanHotties - week:  83%|████████▎ | 83/100 [00:00<00:00, 90.17it/s]\u001B[A\n",
      "Posts - KoreanHotties - week: 100%|██████████| 100/100 [00:01<00:00, 84.09it/s][A\n",
      "week:  33%|███▎      | 6/18 [01:07<02:19, 11.58s/it]\n",
      "Posts - prettyasiangirls - week:   0%|          | 0/100 [00:00<?, ?it/s]\u001B[A\n",
      "Posts - prettyasiangirls - week:   4%|▍         | 4/100 [00:00<00:02, 36.57it/s]\u001B[A\n",
      "Posts - prettyasiangirls - week:   8%|▊         | 8/100 [00:00<00:02, 36.57it/s]\u001B[A\n",
      "Posts - prettyasiangirls - week:  13%|█▎        | 13/100 [00:00<00:02, 40.69it/s]\u001B[A\n",
      "Posts - prettyasiangirls - week:  18%|█▊        | 18/100 [00:00<00:02, 39.94it/s]\u001B[A\n",
      "Posts - prettyasiangirls - week:  22%|██▏       | 22/100 [00:00<00:02, 35.28it/s]\u001B[A\n",
      "Posts - prettyasiangirls - week:  26%|██▌       | 26/100 [00:00<00:02, 34.17it/s]\u001B[A\n",
      "Posts - prettyasiangirls - week:  30%|███       | 30/100 [00:00<00:02, 32.15it/s]\u001B[A\n",
      "Posts - prettyasiangirls - week:  34%|███▍      | 34/100 [00:01<00:02, 26.62it/s]\u001B[A\n",
      "Posts - prettyasiangirls - week:  37%|███▋      | 37/100 [00:01<00:02, 25.08it/s]\u001B[A\n",
      "Posts - prettyasiangirls - week:  40%|████      | 40/100 [00:01<00:02, 22.50it/s]\u001B[A\n",
      "Posts - prettyasiangirls - week:  43%|████▎     | 43/100 [00:01<00:02, 22.17it/s]\u001B[A\n",
      "Posts - prettyasiangirls - week:  46%|████▌     | 46/100 [00:01<00:02, 23.42it/s]\u001B[A\n",
      "Posts - prettyasiangirls - week:  49%|████▉     | 49/100 [00:01<00:02, 19.83it/s]\u001B[A\n",
      "Posts - prettyasiangirls - week:  52%|█████▏    | 52/100 [00:02<00:02, 17.56it/s]\u001B[A\n",
      "Posts - prettyasiangirls - week:  55%|█████▌    | 55/100 [00:02<00:02, 19.65it/s]\u001B[A\n",
      "Posts - prettyasiangirls - week:  58%|█████▊    | 58/100 [00:02<00:02, 18.86it/s]\u001B[A\n",
      "Posts - prettyasiangirls - week:  63%|██████▎   | 63/100 [00:02<00:01, 24.89it/s]\u001B[A\n",
      "Posts - prettyasiangirls - week:  67%|██████▋   | 67/100 [00:02<00:01, 27.73it/s]\u001B[A\n",
      "Posts - prettyasiangirls - week:  71%|███████   | 71/100 [00:02<00:01, 27.69it/s]\u001B[A\n",
      "Posts - prettyasiangirls - week:  75%|███████▌  | 75/100 [00:02<00:00, 29.94it/s]\u001B[A\n",
      "Posts - prettyasiangirls - week:  79%|███████▉  | 79/100 [00:02<00:00, 31.71it/s]\u001B[A\n",
      "Posts - prettyasiangirls - week:  83%|████████▎ | 83/100 [00:03<00:00, 29.56it/s]\u001B[A\n",
      "Posts - prettyasiangirls - week:  87%|████████▋ | 87/100 [00:03<00:00, 29.32it/s]\u001B[A\n",
      "Posts - prettyasiangirls - week:  91%|█████████ | 91/100 [00:03<00:00, 28.12it/s]\u001B[A\n",
      "Posts - prettyasiangirls - week:  95%|█████████▌| 95/100 [00:03<00:00, 30.23it/s]\u001B[A\n",
      "Posts - prettyasiangirls - week: 100%|██████████| 100/100 [00:03<00:00, 27.55it/s][A\n",
      "week:  39%|███▉      | 7/18 [01:25<02:32, 13.83s/it]\n",
      "Posts - AsianOfficeLady - week:   0%|          | 0/13 [00:00<?, ?it/s]\u001B[A\n",
      "Posts - AsianOfficeLady - week: 100%|██████████| 13/13 [00:00<00:00, 69.34it/s][A\n",
      "week:  44%|████▍     | 8/18 [01:28<01:42, 10.23s/it]\n",
      "Posts - mildlypenis - week:   0%|          | 0/100 [00:00<?, ?it/s]\u001B[A\n",
      "Posts - mildlypenis - week:  10%|█         | 10/100 [00:00<00:00, 91.43it/s]\u001B[A\n",
      "Posts - mildlypenis - week:  21%|██        | 21/100 [00:00<00:00, 96.79it/s]\u001B[A\n",
      "Posts - mildlypenis - week:  31%|███       | 31/100 [00:00<00:00, 88.58it/s]\u001B[A\n",
      "Posts - mildlypenis - week:  40%|████      | 40/100 [00:00<00:00, 86.18it/s]\u001B[A\n",
      "Posts - mildlypenis - week:  49%|████▉     | 49/100 [00:00<00:00, 80.76it/s]\u001B[A\n",
      "Posts - mildlypenis - week:  58%|█████▊    | 58/100 [00:00<00:00, 61.37it/s]\u001B[A\n",
      "Posts - mildlypenis - week:  65%|██████▌   | 65/100 [00:01<00:00, 50.78it/s]\u001B[A\n",
      "Posts - mildlypenis - week:  73%|███████▎  | 73/100 [00:01<00:00, 55.98it/s]\u001B[A\n",
      "Posts - mildlypenis - week:  80%|████████  | 80/100 [00:01<00:00, 57.98it/s]\u001B[A\n",
      "Posts - mildlypenis - week:  88%|████████▊ | 88/100 [00:01<00:00, 61.96it/s]\u001B[A\n",
      "Posts - mildlypenis - week: 100%|██████████| 100/100 [00:01<00:00, 67.36it/s][A\n",
      "week:  50%|█████     | 9/18 [01:40<01:38, 10.96s/it]\n",
      "Posts - AsianInvasion - week:   0%|          | 0/14 [00:00<?, ?it/s]\u001B[A\n",
      "Posts - AsianInvasion - week: 100%|██████████| 14/14 [00:00<00:00, 81.46it/s][A\n",
      "week:  56%|█████▌    | 10/18 [01:49<01:22, 10.32s/it]\n",
      "Posts - sexygirls - week:   0%|          | 0/84 [00:00<?, ?it/s]\u001B[A\n",
      "Posts - sexygirls - week:  11%|█         | 9/84 [00:00<00:00, 82.28it/s]\u001B[A\n",
      "Posts - sexygirls - week:  21%|██▏       | 18/84 [00:00<00:00, 75.90it/s]\u001B[A\n",
      "Posts - sexygirls - week:  32%|███▏      | 27/84 [00:00<00:00, 78.68it/s]\u001B[A\n",
      "Posts - sexygirls - week:  44%|████▍     | 37/84 [00:00<00:00, 85.01it/s]\u001B[A\n",
      "Posts - sexygirls - week:  55%|█████▍    | 46/84 [00:00<00:00, 78.02it/s]\u001B[A\n",
      "Posts - sexygirls - week:  64%|██████▍   | 54/84 [00:00<00:00, 72.99it/s]\u001B[A\n",
      "Posts - sexygirls - week:  74%|███████▍  | 62/84 [00:00<00:00, 69.98it/s]\u001B[A\n",
      "Posts - sexygirls - week:  85%|████████▍ | 71/84 [00:00<00:00, 73.54it/s]\u001B[A\n",
      "Posts - sexygirls - week: 100%|██████████| 84/84 [00:01<00:00, 75.43it/s]\u001B[A\n",
      "week:  61%|██████    | 11/18 [02:01<01:15, 10.77s/it]\n",
      "Posts - PrettyGirls - week:   0%|          | 0/84 [00:00<?, ?it/s]\u001B[A\n",
      "Posts - PrettyGirls - week:  11%|█         | 9/84 [00:00<00:00, 82.29it/s]\u001B[A\n",
      "Posts - PrettyGirls - week:  21%|██▏       | 18/84 [00:00<00:00, 75.90it/s]\u001B[A\n",
      "Posts - PrettyGirls - week:  31%|███       | 26/84 [00:00<00:00, 71.03it/s]\u001B[A\n",
      "Posts - PrettyGirls - week:  40%|████      | 34/84 [00:00<00:00, 71.81it/s]\u001B[A\n",
      "Posts - PrettyGirls - week:  51%|█████     | 43/84 [00:00<00:00, 75.27it/s]\u001B[A\n",
      "Posts - PrettyGirls - week:  62%|██████▏   | 52/84 [00:00<00:00, 77.73it/s]\u001B[A\n",
      "Posts - PrettyGirls - week:  73%|███████▎  | 61/84 [00:00<00:00, 80.55it/s]\u001B[A\n",
      "Posts - PrettyGirls - week:  85%|████████▍ | 71/84 [00:00<00:00, 84.01it/s]\u001B[A\n",
      "Posts - PrettyGirls - week: 100%|██████████| 84/84 [00:01<00:00, 79.67it/s]\u001B[A\n",
      "week:  67%|██████▋   | 12/18 [02:12<01:04, 10.71s/it]\n",
      "Posts - gentlemanboners - week:   0%|          | 0/100 [00:00<?, ?it/s]\u001B[A\n",
      "Posts - gentlemanboners - week:   9%|▉         | 9/100 [00:00<00:01, 84.93it/s]\u001B[A\n",
      "Posts - gentlemanboners - week:  21%|██        | 21/100 [00:00<00:00, 99.69it/s]\u001B[A\n",
      "Posts - gentlemanboners - week:  31%|███       | 31/100 [00:00<00:00, 95.90it/s]\u001B[A\n",
      "Posts - gentlemanboners - week:  42%|████▏     | 42/100 [00:00<00:00, 97.75it/s]\u001B[A\n",
      "Posts - gentlemanboners - week:  52%|█████▏    | 52/100 [00:00<00:00, 95.46it/s]\u001B[A\n",
      "Posts - gentlemanboners - week:  62%|██████▏   | 62/100 [00:00<00:00, 85.75it/s]\u001B[A\n",
      "Posts - gentlemanboners - week:  71%|███████   | 71/100 [00:00<00:00, 84.63it/s]\u001B[A\n",
      "Posts - gentlemanboners - week:  80%|████████  | 80/100 [00:00<00:00, 83.92it/s]\u001B[A\n",
      "Posts - gentlemanboners - week:  91%|█████████ | 91/100 [00:01<00:00, 88.97it/s]\u001B[A\n",
      "Posts - gentlemanboners - week: 100%|██████████| 100/100 [00:01<00:00, 87.92it/s]\u001B[A\n",
      "week:  72%|███████▏  | 13/18 [02:23<00:54, 10.84s/it]\n",
      "Posts - hotofficegirls - week:   0%|          | 0/12 [00:00<?, ?it/s]\u001B[A\n",
      "Posts - hotofficegirls - week: 100%|██████████| 12/12 [00:00<00:00, 109.69it/s]\u001B[A\n",
      "week:  78%|███████▊  | 14/18 [02:32<00:41, 10.38s/it]\n",
      "Posts - tightdresses - week:   0%|          | 0/100 [00:00<?, ?it/s]\u001B[A\n",
      "Posts - tightdresses - week:   5%|▌         | 5/100 [00:00<00:02, 45.71it/s]\u001B[A\n",
      "Posts - tightdresses - week:  10%|█         | 10/100 [00:00<00:02, 40.97it/s]\u001B[A\n",
      "Posts - tightdresses - week:  22%|██▏       | 22/100 [00:00<00:01, 70.50it/s]\u001B[A\n",
      "Posts - tightdresses - week:  31%|███       | 31/100 [00:00<00:00, 74.98it/s]\u001B[A\n",
      "Posts - tightdresses - week:  42%|████▏     | 42/100 [00:00<00:00, 83.93it/s]\u001B[A\n",
      "Posts - tightdresses - week:  53%|█████▎    | 53/100 [00:00<00:00, 89.49it/s]\u001B[A\n",
      "Posts - tightdresses - week:  65%|██████▌   | 65/100 [00:00<00:00, 96.04it/s]\u001B[A\n",
      "Posts - tightdresses - week:  75%|███████▌  | 75/100 [00:00<00:00, 95.13it/s]\u001B[A\n",
      "Posts - tightdresses - week:  85%|████████▌ | 85/100 [00:01<00:00, 93.97it/s]\u001B[A\n",
      "Posts - tightdresses - week: 100%|██████████| 100/100 [00:01<00:00, 86.18it/s][A\n",
      "week:  83%|████████▎ | 15/18 [02:44<00:32, 10.96s/it]\n",
      "Posts - DLAH - week:   0%|          | 0/100 [00:00<?, ?it/s]\u001B[A\n",
      "Posts - DLAH - week:   9%|▉         | 9/100 [00:00<00:01, 81.42it/s]\u001B[A\n",
      "Posts - DLAH - week:  18%|█▊        | 18/100 [00:00<00:01, 75.61it/s]\u001B[A\n",
      "Posts - DLAH - week:  27%|██▋       | 27/100 [00:00<00:00, 78.52it/s]\u001B[A\n",
      "Posts - DLAH - week:  36%|███▌      | 36/100 [00:00<00:00, 79.91it/s]\u001B[A\n",
      "Posts - DLAH - week:  45%|████▌     | 45/100 [00:00<00:00, 79.71it/s]\u001B[A\n",
      "Posts - DLAH - week:  53%|█████▎    | 53/100 [00:00<00:00, 77.55it/s]\u001B[A\n",
      "Posts - DLAH - week:  61%|██████    | 61/100 [00:00<00:00, 72.78it/s]\u001B[A\n",
      "Posts - DLAH - week:  70%|███████   | 70/100 [00:00<00:00, 75.68it/s]\u001B[A\n",
      "Posts - DLAH - week:  81%|████████  | 81/100 [00:01<00:00, 83.25it/s]\u001B[A\n",
      "Posts - DLAH - week: 100%|██████████| 100/100 [00:01<00:00, 80.83it/s][A\n",
      "week:  89%|████████▉ | 16/18 [02:56<00:22, 11.10s/it]\n",
      "Posts - bathandbodyworks - week:   0%|          | 0/100 [00:00<?, ?it/s]\u001B[A\n",
      "Posts - bathandbodyworks - week:  10%|█         | 10/100 [00:00<00:00, 91.43it/s]\u001B[A\n",
      "Posts - bathandbodyworks - week:  20%|██        | 20/100 [00:00<00:00, 91.42it/s]\u001B[A\n",
      "Posts - bathandbodyworks - week:  31%|███       | 31/100 [00:00<00:00, 98.34it/s]\u001B[A\n",
      "Posts - bathandbodyworks - week:  42%|████▏     | 42/100 [00:00<00:00, 99.23it/s]\u001B[A\n",
      "Posts - bathandbodyworks - week:  52%|█████▏    | 52/100 [00:00<00:00, 76.47it/s]\u001B[A\n",
      "Posts - bathandbodyworks - week:  62%|██████▏   | 62/100 [00:00<00:00, 80.85it/s]\u001B[A\n",
      "Posts - bathandbodyworks - week:  73%|███████▎  | 73/100 [00:00<00:00, 86.65it/s]\u001B[A\n",
      "Posts - bathandbodyworks - week:  83%|████████▎ | 83/100 [00:00<00:00, 81.57it/s]\u001B[A\n",
      "Posts - bathandbodyworks - week: 100%|██████████| 100/100 [00:01<00:00, 88.33it/s][A\n",
      "week:  94%|█████████▍| 17/18 [03:07<00:11, 11.12s/it]\n",
      "Posts - AesPleasingAsianGirls - week:   0%|          | 0/45 [00:00<?, ?it/s]\u001B[A\n",
      "Posts - AesPleasingAsianGirls - week:  22%|██▏       | 10/45 [00:00<00:00, 91.41it/s]\u001B[A\n",
      "Posts - AesPleasingAsianGirls - week:  51%|█████     | 23/45 [00:00<00:00, 107.57it/s]\u001B[A\n",
      "Posts - AesPleasingAsianGirls - week: 100%|██████████| 45/45 [00:00<00:00, 106.15it/s]\u001B[A\n",
      "week: 100%|██████████| 18/18 [03:17<00:00, 10.99s/it]\n",
      "day:   0%|          | 0/18 [00:00<?, ?it/s]\n",
      "Posts - SFWRedheads - day:   0%|          | 0/46 [00:00<?, ?it/s]\u001B[A\n",
      "Posts - SFWRedheads - day:  15%|█▌        | 7/46 [00:00<00:00, 67.28it/s]\u001B[A\n",
      "Posts - SFWRedheads - day:  43%|████▎     | 20/46 [00:00<00:00, 95.35it/s]\u001B[A\n",
      "Posts - SFWRedheads - day:  70%|██████▉   | 32/46 [00:00<00:00, 104.47it/s]\u001B[A\n",
      "Posts - SFWRedheads - day: 100%|██████████| 46/46 [00:00<00:00, 102.84it/s]\u001B[A\n",
      "day:   6%|▌         | 1/18 [00:10<02:58, 10.48s/it]\n",
      "Posts - sfwpetite - day: 100%|██████████| 2/2 [00:00<00:00, 63.99it/s]\n",
      "day:  11%|█         | 2/18 [00:20<02:40, 10.06s/it]\n",
      "Posts - SFWNextDoorGirls - day:   0%|          | 0/80 [00:00<?, ?it/s]\u001B[A\n",
      "Posts - SFWNextDoorGirls - day:   9%|▉         | 7/80 [00:00<00:01, 61.12it/s]\u001B[A\n",
      "Posts - SFWNextDoorGirls - day:  24%|██▍       | 19/80 [00:00<00:00, 89.16it/s]\u001B[A\n",
      "Posts - SFWNextDoorGirls - day:  39%|███▉      | 31/80 [00:00<00:00, 98.44it/s]\u001B[A\n",
      "Posts - SFWNextDoorGirls - day:  55%|█████▌    | 44/80 [00:00<00:00, 106.38it/s]\u001B[A\n",
      "Posts - SFWNextDoorGirls - day:  69%|██████▉   | 55/80 [00:00<00:00, 104.29it/s]\u001B[A\n",
      "Posts - SFWNextDoorGirls - day:  82%|████████▎ | 66/80 [00:00<00:00, 103.22it/s]\u001B[A\n",
      "Posts - SFWNextDoorGirls - day: 100%|██████████| 80/80 [00:00<00:00, 101.78it/s]\u001B[A\n",
      "day:  17%|█▋        | 3/18 [00:31<02:42, 10.82s/it]\n",
      "Posts - fatsquirrelhate - day:   0%|          | 0/44 [00:00<?, ?it/s]\u001B[A\n",
      "Posts - fatsquirrelhate - day:  25%|██▌       | 11/44 [00:00<00:00, 100.39it/s]\u001B[A\n",
      "Posts - fatsquirrelhate - day:  57%|█████▋    | 25/44 [00:00<00:00, 116.60it/s]\u001B[A\n",
      "Posts - fatsquirrelhate - day: 100%|██████████| 44/44 [00:00<00:00, 117.27it/s]\u001B[A\n",
      "day:  22%|██▏       | 4/18 [00:42<02:27, 10.54s/it]\n",
      "Posts - realasians - day:   0%|          | 0/44 [00:00<?, ?it/s]\u001B[A\n",
      "Posts - realasians - day:  25%|██▌       | 11/44 [00:00<00:00, 100.57it/s]\u001B[A\n",
      "Posts - realasians - day:  50%|█████     | 22/44 [00:00<00:00, 100.12it/s]\u001B[A\n",
      "Posts - realasians - day: 100%|██████████| 44/44 [00:00<00:00, 108.08it/s]\u001B[A\n",
      "day:  28%|██▊       | 5/18 [00:52<02:17, 10.56s/it]\n",
      "Posts - KoreanHotties - day:   0%|          | 0/47 [00:00<?, ?it/s]\u001B[A\n",
      "Posts - KoreanHotties - day:  17%|█▋        | 8/47 [00:00<00:00, 73.01it/s]\u001B[A\n",
      "Posts - KoreanHotties - day:  45%|████▍     | 21/47 [00:00<00:00, 99.96it/s]\u001B[A\n",
      "Posts - KoreanHotties - day:  72%|███████▏  | 34/47 [00:00<00:00, 108.57it/s]\u001B[A\n",
      "Posts - KoreanHotties - day: 100%|██████████| 47/47 [00:00<00:00, 107.38it/s]\u001B[A\n",
      "day:  33%|███▎      | 6/18 [01:03<02:07, 10.65s/it]\n",
      "Posts - prettyasiangirls - day:   0%|          | 0/32 [00:00<?, ?it/s]\u001B[A\n",
      "Posts - prettyasiangirls - day:  19%|█▉        | 6/32 [00:00<00:00, 58.47it/s]\u001B[A\n",
      "Posts - prettyasiangirls - day:  47%|████▋     | 15/32 [00:00<00:00, 72.83it/s]\u001B[A\n",
      "Posts - prettyasiangirls - day: 100%|██████████| 32/32 [00:00<00:00, 80.10it/s]\u001B[A\n",
      "day:  39%|███▉      | 7/18 [01:13<01:56, 10.56s/it]\n",
      "Posts - AsianOfficeLady - day: 100%|██████████| 2/2 [00:00<00:00, 42.64it/s]\n",
      "day:  44%|████▍     | 8/18 [01:23<01:43, 10.31s/it]\n",
      "Posts - mildlypenis - day:   0%|          | 0/41 [00:00<?, ?it/s]\u001B[A\n",
      "Posts - mildlypenis - day:  17%|█▋        | 7/41 [00:00<00:00, 64.00it/s]\u001B[A\n",
      "Posts - mildlypenis - day:  46%|████▋     | 19/41 [00:00<00:00, 90.89it/s]\u001B[A\n",
      "Posts - mildlypenis - day:  71%|███████   | 29/41 [00:00<00:00, 75.74it/s]\u001B[A\n",
      "Posts - mildlypenis - day: 100%|██████████| 41/41 [00:00<00:00, 79.19it/s]\u001B[A\n",
      "day:  50%|█████     | 9/18 [01:34<01:34, 10.55s/it]\n",
      "Posts - AsianInvasion - day:   0%|          | 0/2 [00:00<?, ?it/s]\u001B[A\n",
      "Posts - AsianInvasion - day: 100%|██████████| 2/2 [00:00<00:00,  3.88it/s]\u001B[A\n",
      "day:  56%|█████▌    | 10/18 [01:45<01:25, 10.71s/it]\n",
      "Posts - sexygirls - day:   0%|          | 0/9 [00:00<?, ?it/s]\u001B[A\n",
      "Posts - sexygirls - day:  11%|█         | 1/9 [00:00<00:01,  8.00it/s]\u001B[A\n",
      "Posts - sexygirls - day: 100%|██████████| 9/9 [00:00<00:00, 27.09it/s]\u001B[A\n",
      "day:  61%|██████    | 11/18 [01:56<01:14, 10.62s/it]\n",
      "Posts - PrettyGirls - day:   0%|          | 0/14 [00:00<?, ?it/s]\u001B[A\n",
      "Posts - PrettyGirls - day: 100%|██████████| 14/14 [00:00<00:00, 80.01it/s]\u001B[A\n",
      "day:  67%|██████▋   | 12/18 [02:06<01:02, 10.38s/it]\n",
      "Posts - gentlemanboners - day:   0%|          | 0/37 [00:00<?, ?it/s]\u001B[A\n",
      "Posts - gentlemanboners - day:  22%|██▏       | 8/37 [00:00<00:00, 73.04it/s]\u001B[A\n",
      "Posts - gentlemanboners - day:  43%|████▎     | 16/37 [00:00<00:00, 73.07it/s]\u001B[A\n",
      "Posts - gentlemanboners - day:  65%|██████▍   | 24/37 [00:00<00:00, 64.69it/s]\u001B[A\n",
      "Posts - gentlemanboners - day: 100%|██████████| 37/37 [00:00<00:00, 65.76it/s]\u001B[A\n",
      "day:  72%|███████▏  | 13/18 [02:17<00:52, 10.57s/it]\n",
      "Posts - hotofficegirls - day: 100%|██████████| 1/1 [00:00<00:00, 21.34it/s]\n",
      "day:  78%|███████▊  | 14/18 [02:26<00:41, 10.28s/it]\n",
      "Posts - tightdresses - day:   0%|          | 0/27 [00:00<?, ?it/s]\u001B[A\n",
      "Posts - tightdresses - day:  41%|████      | 11/27 [00:00<00:00, 100.57it/s]\u001B[A\n",
      "Posts - tightdresses - day: 100%|██████████| 27/27 [00:00<00:00, 63.66it/s] \u001B[A\n",
      "day:  83%|████████▎ | 15/18 [02:37<00:31, 10.45s/it]\n",
      "Posts - DLAH - day:   0%|          | 0/40 [00:00<?, ?it/s]\u001B[A\n",
      "Posts - DLAH - day:  15%|█▌        | 6/40 [00:00<00:00, 54.86it/s]\u001B[A\n",
      "Posts - DLAH - day:  42%|████▎     | 17/40 [00:00<00:00, 81.74it/s]\u001B[A\n",
      "Posts - DLAH - day:  65%|██████▌   | 26/40 [00:00<00:00, 80.94it/s]\u001B[A\n",
      "Posts - DLAH - day: 100%|██████████| 40/40 [00:00<00:00, 82.05it/s]\u001B[A\n",
      "day:  89%|████████▉ | 16/18 [02:48<00:20, 10.49s/it]\n",
      "Posts - bathandbodyworks - day:   0%|          | 0/42 [00:00<?, ?it/s]\u001B[A\n",
      "Posts - bathandbodyworks - day:  24%|██▍       | 10/42 [00:00<00:00, 91.39it/s]\u001B[A\n",
      "Posts - bathandbodyworks - day:  50%|█████     | 21/42 [00:00<00:00, 96.71it/s]\u001B[A\n",
      "Posts - bathandbodyworks - day: 100%|██████████| 42/42 [00:00<00:00, 99.51it/s] \u001B[A\n",
      "day:  94%|█████████▍| 17/18 [02:58<00:10, 10.48s/it]\n",
      "Posts - AesPleasingAsianGirls - day: 100%|██████████| 5/5 [00:00<00:00, 53.33it/s]\n",
      "day: 100%|██████████| 18/18 [03:08<00:00, 10.47s/it]\n"
     ]
    }
   ],
   "source": [
    "with open('log.txt', 'a') as f:\n",
    "\tfor time_filter in ['week', 'day']:\n",
    "\t\tfor sub in tqdm(subs, desc=f\"{time_filter}\", total=len(subs)):\n",
    "\t\t\ttemp_dir_path = f\"temp/{sub}\"\n",
    "\t\t\ttry:\n",
    "\t\t\t\tsubreddit_stream: ListingGenerator = reddit.subreddit(display_name=sub).top(limit=100, time_filter=time_filter)\n",
    "\t\t\t\tsubreddit_stream = list(subreddit_stream)\n",
    "\t\t\t\tfor submission in tqdm(subreddit_stream, total=len(subreddit_stream),\n",
    "\t\t\t\t\t\t\t\t\t   desc=f\"Posts - {sub} - {time_filter}\"):\n",
    "\t\t\t\t\tif submission is None:\n",
    "\t\t\t\t\t\tcontinue\n",
    "\t\t\t\t\telse:\n",
    "\t\t\t\t\t\tif submission.id in extant_data.index.values:\n",
    "\t\t\t\t\t\t\tcontinue\n",
    "\t\t\t\t\ttry:\n",
    "\t\t\t\t\t\tauthor_name = 'Unknown'\n",
    "\t\t\t\t\t\tsubreddit_name = sub\n",
    "\t\t\t\t\t\ttry:\n",
    "\t\t\t\t\t\t\tauthor_name = submission.author.name\n",
    "\t\t\t\t\t\texcept Exception as e:\n",
    "\t\t\t\t\t\t\tauthor_name = 'Unknown'\n",
    "\t\t\t\t\t\t\tpass\n",
    "\t\t\t\t\t\tp = {\n",
    "\t\t\t\t\t\t\t'id': submission.id,\n",
    "\t\t\t\t\t\t\t'subreddit': subreddit_name,\n",
    "\t\t\t\t\t\t\t'author': author_name,\n",
    "\t\t\t\t\t\t\t'title': submission.title,\n",
    "\t\t\t\t\t\t\t'caption': '',\n",
    "\t\t\t\t\t\t\t'hash': '',\n",
    "\t\t\t\t\t\t\t'permalink': submission.permalink,\n",
    "\t\t\t\t\t\t\t'original_url': submission.url,\n",
    "\t\t\t\t\t\t\t'image_name': '',\n",
    "\t\t\t\t\t\t\t'path': '',\n",
    "\t\t\t\t\t\t\t'thumbnail_path': '',\n",
    "\t\t\t\t\t\t\t'exists': False,\n",
    "\t\t\t\t\t\t\t'curated': False,\n",
    "\t\t\t\t\t\t\t'Tags': ['']\n",
    "\t\t\t\t\t\t}\n",
    "\t\t\t\t\t\tpd.DataFrame([p]).to_parquet(f\"{temp_dir_path}/{submission.id}.parquet\")\n",
    "\t\t\t\t\texcept Exception as e:\n",
    "\t\t\t\t\t\tlog = functions.write_log_message(submission.id, sub, \"Error Writing Post\", e)\n",
    "\t\t\t\t\t\tf.write(log)\n",
    "\t\t\t\t\t\tcontinue\n",
    "\t\t\texcept Exception as e:\n",
    "\t\t\t\tlog = functions.write_log_message(submission.id, sub, f\"Error Getting Posts For SubReddit\", e)\n",
    "\t\t\t\tf.write(log)\n",
    "\t\t\t\tcontinue"
   ],
   "metadata": {
    "collapsed": false,
    "ExecuteTime": {
     "end_time": "2023-05-13T22:36:26.033501400Z",
     "start_time": "2023-05-13T22:29:59.689170500Z"
    }
   }
  },
  {
   "cell_type": "code",
   "execution_count": 10,
   "outputs": [
    {
     "name": "stderr",
     "output_type": "stream",
     "text": [
      "Reading Temp Dir For Subs...: 100%|██████████| 18/18 [00:05<00:00,  3.35it/s]\n"
     ]
    },
    {
     "data": {
      "text/plain": "'==== TEMP DATA ===='"
     },
     "metadata": {},
     "output_type": "display_data"
    },
    {
     "data": {
      "text/plain": "(1745, 15)"
     },
     "metadata": {},
     "output_type": "display_data"
    },
    {
     "data": {
      "text/plain": "              id              subreddit                author   \nid                                                              \n13a5o5w  13a5o5w            SFWRedheads         Sofia_Red_Fox  \\\n13a63qc  13a63qc            SFWRedheads          Bakedredhead   \n13aa5bw  13aa5bw            SFWRedheads          Redhotwife88   \n13ae244  13ae244            SFWRedheads     evelynclaire_xoxo   \n13af0tb  13af0tb            SFWRedheads      itsSavannahWilde   \n...          ...                    ...                   ...   \n13g70ma  13g70ma  AesPleasingAsianGirls          yummybanchan   \n13g9d43  13g9d43  AesPleasingAsianGirls    ExperienceOver7707   \n13gcnxq  13gcnxq  AesPleasingAsianGirls  Defiant-Appearance64   \n13giect  13giect  AesPleasingAsianGirls      No-Amphibian2696   \n13gndhz  13gndhz  AesPleasingAsianGirls    ExperienceOver7707   \n\n                                                     title caption hash   \nid                                                                        \n13a5o5w                                   Am I dateable? 💕               \\\n13a63qc                      Sunsets look best on redheads                \n13aa5bw                 Just a Mom in Regular Clothes! [F]                \n13ae244                       Fully body shot... thoughts?                \n13af0tb  About to hit the gym. Got any good weekend plans?                \n...                                                    ...     ...  ...   \n13g70ma                                         Song Yu Qi                \n13g9d43                                             KitKat                \n13gcnxq                                        Jung Yoo Na                \n13giect                                             Sweet                 \n13gndhz                                   Hot to the touch                \n\n                                                 permalink   \nid                                                           \n13a5o5w     /r/SFWRedheads/comments/13a5o5w/am_i_dateable/  \\\n13a63qc  /r/SFWRedheads/comments/13a63qc/sunsets_look_b...   \n13aa5bw  /r/SFWRedheads/comments/13aa5bw/just_a_mom_in_...   \n13ae244  /r/SFWRedheads/comments/13ae244/fully_body_sho...   \n13af0tb  /r/SFWRedheads/comments/13af0tb/about_to_hit_t...   \n...                                                    ...   \n13g70ma  /r/AesPleasingAsianGirls/comments/13g70ma/song...   \n13g9d43  /r/AesPleasingAsianGirls/comments/13g9d43/kitkat/   \n13gcnxq  /r/AesPleasingAsianGirls/comments/13gcnxq/jung...   \n13giect   /r/AesPleasingAsianGirls/comments/13giect/sweet/   \n13gndhz  /r/AesPleasingAsianGirls/comments/13gndhz/hot_...   \n\n                                              original_url   image_name path   \nid                                                                             \n13a5o5w                    https://i.imgur.com/V4aYZoC.jpg  13a5o5w.jpg       \\\n13a63qc                https://i.redd.it/hnmnfup79cya1.jpg  13a63qc.jpg        \n13aa5bw                    https://i.imgur.com/hUXcket.jpg  13aa5bw.jpg        \n13ae244                https://i.redd.it/irgp2rclicya1.jpg  13ae244.jpg        \n13af0tb                https://i.redd.it/behzhc90rcya1.jpg  13af0tb.jpg        \n...                                                    ...          ...  ...   \n13g70ma                https://i.redd.it/m86fb2tugkza1.jpg  13g70ma.jpg        \n13g9d43                https://i.redd.it/bekk940j2lza1.jpg  13g9d43.jpg        \n13gcnxq  https://v3.redgifs.com/watch/unfoldedusableoct...  13gcnxq.jpg        \n13giect                    https://v.redd.it/dfj8l49wulza1  13giect.jpg        \n13gndhz             https://www.reddit.com/gallery/13gndhz  13gndhz.jpg        \n\n        model  exists  curated accept tags  \nid                                          \n13a5o5w         False    False  False   []  \n13a63qc         False    False  False   []  \n13aa5bw         False    False  False   []  \n13ae244         False    False  False   []  \n13af0tb         False    False  False   []  \n...       ...     ...      ...    ...  ...  \n13g70ma         False    False  False   []  \n13g9d43         False    False  False   []  \n13gcnxq         False    False  False   []  \n13giect         False    False  False   []  \n13gndhz         False    False  False   []  \n\n[1745 rows x 15 columns]",
      "text/html": "<div>\n<style scoped>\n    .dataframe tbody tr th:only-of-type {\n        vertical-align: middle;\n    }\n\n    .dataframe tbody tr th {\n        vertical-align: top;\n    }\n\n    .dataframe thead th {\n        text-align: right;\n    }\n</style>\n<table border=\"1\" class=\"dataframe\">\n  <thead>\n    <tr style=\"text-align: right;\">\n      <th></th>\n      <th>id</th>\n      <th>subreddit</th>\n      <th>author</th>\n      <th>title</th>\n      <th>caption</th>\n      <th>hash</th>\n      <th>permalink</th>\n      <th>original_url</th>\n      <th>image_name</th>\n      <th>path</th>\n      <th>model</th>\n      <th>exists</th>\n      <th>curated</th>\n      <th>accept</th>\n      <th>tags</th>\n    </tr>\n    <tr>\n      <th>id</th>\n      <th></th>\n      <th></th>\n      <th></th>\n      <th></th>\n      <th></th>\n      <th></th>\n      <th></th>\n      <th></th>\n      <th></th>\n      <th></th>\n      <th></th>\n      <th></th>\n      <th></th>\n      <th></th>\n      <th></th>\n    </tr>\n  </thead>\n  <tbody>\n    <tr>\n      <th>13a5o5w</th>\n      <td>13a5o5w</td>\n      <td>SFWRedheads</td>\n      <td>Sofia_Red_Fox</td>\n      <td>Am I dateable? 💕</td>\n      <td></td>\n      <td></td>\n      <td>/r/SFWRedheads/comments/13a5o5w/am_i_dateable/</td>\n      <td>https://i.imgur.com/V4aYZoC.jpg</td>\n      <td>13a5o5w.jpg</td>\n      <td></td>\n      <td></td>\n      <td>False</td>\n      <td>False</td>\n      <td>False</td>\n      <td>[]</td>\n    </tr>\n    <tr>\n      <th>13a63qc</th>\n      <td>13a63qc</td>\n      <td>SFWRedheads</td>\n      <td>Bakedredhead</td>\n      <td>Sunsets look best on redheads</td>\n      <td></td>\n      <td></td>\n      <td>/r/SFWRedheads/comments/13a63qc/sunsets_look_b...</td>\n      <td>https://i.redd.it/hnmnfup79cya1.jpg</td>\n      <td>13a63qc.jpg</td>\n      <td></td>\n      <td></td>\n      <td>False</td>\n      <td>False</td>\n      <td>False</td>\n      <td>[]</td>\n    </tr>\n    <tr>\n      <th>13aa5bw</th>\n      <td>13aa5bw</td>\n      <td>SFWRedheads</td>\n      <td>Redhotwife88</td>\n      <td>Just a Mom in Regular Clothes! [F]</td>\n      <td></td>\n      <td></td>\n      <td>/r/SFWRedheads/comments/13aa5bw/just_a_mom_in_...</td>\n      <td>https://i.imgur.com/hUXcket.jpg</td>\n      <td>13aa5bw.jpg</td>\n      <td></td>\n      <td></td>\n      <td>False</td>\n      <td>False</td>\n      <td>False</td>\n      <td>[]</td>\n    </tr>\n    <tr>\n      <th>13ae244</th>\n      <td>13ae244</td>\n      <td>SFWRedheads</td>\n      <td>evelynclaire_xoxo</td>\n      <td>Fully body shot... thoughts?</td>\n      <td></td>\n      <td></td>\n      <td>/r/SFWRedheads/comments/13ae244/fully_body_sho...</td>\n      <td>https://i.redd.it/irgp2rclicya1.jpg</td>\n      <td>13ae244.jpg</td>\n      <td></td>\n      <td></td>\n      <td>False</td>\n      <td>False</td>\n      <td>False</td>\n      <td>[]</td>\n    </tr>\n    <tr>\n      <th>13af0tb</th>\n      <td>13af0tb</td>\n      <td>SFWRedheads</td>\n      <td>itsSavannahWilde</td>\n      <td>About to hit the gym. Got any good weekend plans?</td>\n      <td></td>\n      <td></td>\n      <td>/r/SFWRedheads/comments/13af0tb/about_to_hit_t...</td>\n      <td>https://i.redd.it/behzhc90rcya1.jpg</td>\n      <td>13af0tb.jpg</td>\n      <td></td>\n      <td></td>\n      <td>False</td>\n      <td>False</td>\n      <td>False</td>\n      <td>[]</td>\n    </tr>\n    <tr>\n      <th>...</th>\n      <td>...</td>\n      <td>...</td>\n      <td>...</td>\n      <td>...</td>\n      <td>...</td>\n      <td>...</td>\n      <td>...</td>\n      <td>...</td>\n      <td>...</td>\n      <td>...</td>\n      <td>...</td>\n      <td>...</td>\n      <td>...</td>\n      <td>...</td>\n      <td>...</td>\n    </tr>\n    <tr>\n      <th>13g70ma</th>\n      <td>13g70ma</td>\n      <td>AesPleasingAsianGirls</td>\n      <td>yummybanchan</td>\n      <td>Song Yu Qi</td>\n      <td></td>\n      <td></td>\n      <td>/r/AesPleasingAsianGirls/comments/13g70ma/song...</td>\n      <td>https://i.redd.it/m86fb2tugkza1.jpg</td>\n      <td>13g70ma.jpg</td>\n      <td></td>\n      <td></td>\n      <td>False</td>\n      <td>False</td>\n      <td>False</td>\n      <td>[]</td>\n    </tr>\n    <tr>\n      <th>13g9d43</th>\n      <td>13g9d43</td>\n      <td>AesPleasingAsianGirls</td>\n      <td>ExperienceOver7707</td>\n      <td>KitKat</td>\n      <td></td>\n      <td></td>\n      <td>/r/AesPleasingAsianGirls/comments/13g9d43/kitkat/</td>\n      <td>https://i.redd.it/bekk940j2lza1.jpg</td>\n      <td>13g9d43.jpg</td>\n      <td></td>\n      <td></td>\n      <td>False</td>\n      <td>False</td>\n      <td>False</td>\n      <td>[]</td>\n    </tr>\n    <tr>\n      <th>13gcnxq</th>\n      <td>13gcnxq</td>\n      <td>AesPleasingAsianGirls</td>\n      <td>Defiant-Appearance64</td>\n      <td>Jung Yoo Na</td>\n      <td></td>\n      <td></td>\n      <td>/r/AesPleasingAsianGirls/comments/13gcnxq/jung...</td>\n      <td>https://v3.redgifs.com/watch/unfoldedusableoct...</td>\n      <td>13gcnxq.jpg</td>\n      <td></td>\n      <td></td>\n      <td>False</td>\n      <td>False</td>\n      <td>False</td>\n      <td>[]</td>\n    </tr>\n    <tr>\n      <th>13giect</th>\n      <td>13giect</td>\n      <td>AesPleasingAsianGirls</td>\n      <td>No-Amphibian2696</td>\n      <td>Sweet</td>\n      <td></td>\n      <td></td>\n      <td>/r/AesPleasingAsianGirls/comments/13giect/sweet/</td>\n      <td>https://v.redd.it/dfj8l49wulza1</td>\n      <td>13giect.jpg</td>\n      <td></td>\n      <td></td>\n      <td>False</td>\n      <td>False</td>\n      <td>False</td>\n      <td>[]</td>\n    </tr>\n    <tr>\n      <th>13gndhz</th>\n      <td>13gndhz</td>\n      <td>AesPleasingAsianGirls</td>\n      <td>ExperienceOver7707</td>\n      <td>Hot to the touch</td>\n      <td></td>\n      <td></td>\n      <td>/r/AesPleasingAsianGirls/comments/13gndhz/hot_...</td>\n      <td>https://www.reddit.com/gallery/13gndhz</td>\n      <td>13gndhz.jpg</td>\n      <td></td>\n      <td></td>\n      <td>False</td>\n      <td>False</td>\n      <td>False</td>\n      <td>[]</td>\n    </tr>\n  </tbody>\n</table>\n<p>1745 rows × 15 columns</p>\n</div>"
     },
     "metadata": {},
     "output_type": "display_data"
    },
    {
     "name": "stdout",
     "output_type": "stream",
     "text": [
      "CPU times: total: 4.98 s\n",
      "Wall time: 8.96 s\n"
     ]
    }
   ],
   "source": [
    "%%time\n",
    "\n",
    "data = []\n",
    "for sub in tqdm(subs, desc=\"Reading Temp Dir For Subs...\"):\n",
    "\tdf = pandas.read_parquet(f\"temp/{sub}\", schema=schema, engine='pyarrow')\n",
    "\trecords = df.to_dict(orient='records')\n",
    "\tdata.extend(records)\n",
    "\n",
    "temp_data = pandas.DataFrame(data)\n",
    "\n",
    "for i, r in temp_data.iterrows():\n",
    "\ttemp_data.loc[i, 'image_name'] = r.id + \".jpg\"\n",
    "\ttemp_data.loc[i, 'path'] = \"\"\n",
    "\ttemp_data.loc[i, 'hash'] = \"\"\n",
    "\ttemp_data.loc[i, 'caption'] = \"\"\n",
    "\ttemp_data.loc[i, 'model'] = \"\"\n",
    "\ttemp_data.loc[i, 'exists'] = False\n",
    "\ttemp_data.loc[i, 'curated'] = False\n",
    "\ttemp_data.loc[i, 'accept'] = False\n",
    "\ttemp_data.loc[i, 'tags'] = ['']\n",
    "\n",
    "temp_data.set_index('id', inplace=True, drop=False)\n",
    "\n",
    "display(\"==== TEMP DATA ====\")\n",
    "display(temp_data.shape)\n",
    "display(temp_data)"
   ],
   "metadata": {
    "collapsed": false,
    "ExecuteTime": {
     "end_time": "2023-05-13T22:36:35.079925700Z",
     "start_time": "2023-05-13T22:36:26.069774Z"
    }
   }
  },
  {
   "cell_type": "code",
   "execution_count": 11,
   "outputs": [
    {
     "data": {
      "text/plain": "'==== FILTERED DATA ===='"
     },
     "metadata": {},
     "output_type": "display_data"
    },
    {
     "data": {
      "text/plain": "(721, 15)"
     },
     "metadata": {},
     "output_type": "display_data"
    },
    {
     "data": {
      "text/plain": "              id              subreddit                author   \nid                                                              \n13azmti  13azmti            SFWRedheads     Scarlett_somebody  \\\n13b0cv0  13b0cv0            SFWRedheads           RedWicked91   \n13b2ghi  13b2ghi            SFWRedheads    Powerful_Frame9794   \n13c3bc5  13c3bc5            SFWRedheads          Redhotwife88   \n13dcf19  13dcf19            SFWRedheads     Scarlett_somebody   \n...          ...                    ...                   ...   \n13f8eqg  13f8eqg  AesPleasingAsianGirls        tracypeters666   \n13foeob  13foeob  AesPleasingAsianGirls  WishboneBeautiful777   \n13ftsfk  13ftsfk  AesPleasingAsianGirls         theowuriwufoa   \n13g70ma  13g70ma  AesPleasingAsianGirls          yummybanchan   \n13g9d43  13g9d43  AesPleasingAsianGirls    ExperienceOver7707   \n\n                                                     title caption hash   \nid                                                                        \n13azmti  I’m going out for the first time in so long! W...               \\\n13b0cv0                                    Up for a trip?😁                \n13b2ghi          Good morning loves! Like my braids again?                \n13c3bc5         Redhead Wife in my Little Black Dress! [F]                \n13dcf19                         Messy hair, cannot care 😹💚                \n...                                                    ...     ...  ...   \n13f8eqg                                 Enjoying the ocean                \n13foeob                                          Jenny Yen                \n13ftsfk                                     White crop top                \n13g70ma                                         Song Yu Qi                \n13g9d43                                             KitKat                \n\n                                                 permalink   \nid                                                           \n13azmti  /r/SFWRedheads/comments/13azmti/im_going_out_f...  \\\n13b0cv0     /r/SFWRedheads/comments/13b0cv0/up_for_a_trip/   \n13b2ghi  /r/SFWRedheads/comments/13b2ghi/good_morning_l...   \n13c3bc5  /r/SFWRedheads/comments/13c3bc5/redhead_wife_i...   \n13dcf19  /r/SFWRedheads/comments/13dcf19/messy_hair_can...   \n...                                                    ...   \n13f8eqg  /r/AesPleasingAsianGirls/comments/13f8eqg/enjo...   \n13foeob  /r/AesPleasingAsianGirls/comments/13foeob/jenn...   \n13ftsfk  /r/AesPleasingAsianGirls/comments/13ftsfk/whit...   \n13g70ma  /r/AesPleasingAsianGirls/comments/13g70ma/song...   \n13g9d43  /r/AesPleasingAsianGirls/comments/13g9d43/kitkat/   \n\n                                              original_url   image_name path   \nid                                                                             \n13azmti                https://i.redd.it/ktflvdzo1iya1.jpg  13azmti.jpg       \\\n13b0cv0  https://i.redgifs.com/i/neighboringmediumgolde...  13b0cv0.jpg        \n13b2ghi                https://i.redd.it/cpe6hy2h2hya1.jpg  13b2ghi.jpg        \n13c3bc5  https://i.redgifs.com/i/admiredoutstandingpape...  13c3bc5.jpg        \n13dcf19                https://i.redd.it/alhlwwlp6yya1.jpg  13dcf19.jpg        \n...                                                    ...          ...  ...   \n13f8eqg                https://i.redd.it/2yb2q079vcza1.jpg  13f8eqg.jpg        \n13foeob                https://i.redd.it/ui2g6xxwngza1.jpg  13foeob.jpg        \n13ftsfk                https://i.redd.it/uxns6rp7ohza1.jpg  13ftsfk.jpg        \n13g70ma                https://i.redd.it/m86fb2tugkza1.jpg  13g70ma.jpg        \n13g9d43                https://i.redd.it/bekk940j2lza1.jpg  13g9d43.jpg        \n\n        model  exists  curated accept tags  \nid                                          \n13azmti         False    False  False   []  \n13b0cv0         False    False  False   []  \n13b2ghi         False    False  False   []  \n13c3bc5         False    False  False   []  \n13dcf19         False    False  False   []  \n...       ...     ...      ...    ...  ...  \n13f8eqg         False    False  False   []  \n13foeob         False    False  False   []  \n13ftsfk         False    False  False   []  \n13g70ma         False    False  False   []  \n13g9d43         False    False  False   []  \n\n[721 rows x 15 columns]",
      "text/html": "<div>\n<style scoped>\n    .dataframe tbody tr th:only-of-type {\n        vertical-align: middle;\n    }\n\n    .dataframe tbody tr th {\n        vertical-align: top;\n    }\n\n    .dataframe thead th {\n        text-align: right;\n    }\n</style>\n<table border=\"1\" class=\"dataframe\">\n  <thead>\n    <tr style=\"text-align: right;\">\n      <th></th>\n      <th>id</th>\n      <th>subreddit</th>\n      <th>author</th>\n      <th>title</th>\n      <th>caption</th>\n      <th>hash</th>\n      <th>permalink</th>\n      <th>original_url</th>\n      <th>image_name</th>\n      <th>path</th>\n      <th>model</th>\n      <th>exists</th>\n      <th>curated</th>\n      <th>accept</th>\n      <th>tags</th>\n    </tr>\n    <tr>\n      <th>id</th>\n      <th></th>\n      <th></th>\n      <th></th>\n      <th></th>\n      <th></th>\n      <th></th>\n      <th></th>\n      <th></th>\n      <th></th>\n      <th></th>\n      <th></th>\n      <th></th>\n      <th></th>\n      <th></th>\n      <th></th>\n    </tr>\n  </thead>\n  <tbody>\n    <tr>\n      <th>13azmti</th>\n      <td>13azmti</td>\n      <td>SFWRedheads</td>\n      <td>Scarlett_somebody</td>\n      <td>I’m going out for the first time in so long! W...</td>\n      <td></td>\n      <td></td>\n      <td>/r/SFWRedheads/comments/13azmti/im_going_out_f...</td>\n      <td>https://i.redd.it/ktflvdzo1iya1.jpg</td>\n      <td>13azmti.jpg</td>\n      <td></td>\n      <td></td>\n      <td>False</td>\n      <td>False</td>\n      <td>False</td>\n      <td>[]</td>\n    </tr>\n    <tr>\n      <th>13b0cv0</th>\n      <td>13b0cv0</td>\n      <td>SFWRedheads</td>\n      <td>RedWicked91</td>\n      <td>Up for a trip?😁</td>\n      <td></td>\n      <td></td>\n      <td>/r/SFWRedheads/comments/13b0cv0/up_for_a_trip/</td>\n      <td>https://i.redgifs.com/i/neighboringmediumgolde...</td>\n      <td>13b0cv0.jpg</td>\n      <td></td>\n      <td></td>\n      <td>False</td>\n      <td>False</td>\n      <td>False</td>\n      <td>[]</td>\n    </tr>\n    <tr>\n      <th>13b2ghi</th>\n      <td>13b2ghi</td>\n      <td>SFWRedheads</td>\n      <td>Powerful_Frame9794</td>\n      <td>Good morning loves! Like my braids again?</td>\n      <td></td>\n      <td></td>\n      <td>/r/SFWRedheads/comments/13b2ghi/good_morning_l...</td>\n      <td>https://i.redd.it/cpe6hy2h2hya1.jpg</td>\n      <td>13b2ghi.jpg</td>\n      <td></td>\n      <td></td>\n      <td>False</td>\n      <td>False</td>\n      <td>False</td>\n      <td>[]</td>\n    </tr>\n    <tr>\n      <th>13c3bc5</th>\n      <td>13c3bc5</td>\n      <td>SFWRedheads</td>\n      <td>Redhotwife88</td>\n      <td>Redhead Wife in my Little Black Dress! [F]</td>\n      <td></td>\n      <td></td>\n      <td>/r/SFWRedheads/comments/13c3bc5/redhead_wife_i...</td>\n      <td>https://i.redgifs.com/i/admiredoutstandingpape...</td>\n      <td>13c3bc5.jpg</td>\n      <td></td>\n      <td></td>\n      <td>False</td>\n      <td>False</td>\n      <td>False</td>\n      <td>[]</td>\n    </tr>\n    <tr>\n      <th>13dcf19</th>\n      <td>13dcf19</td>\n      <td>SFWRedheads</td>\n      <td>Scarlett_somebody</td>\n      <td>Messy hair, cannot care 😹💚</td>\n      <td></td>\n      <td></td>\n      <td>/r/SFWRedheads/comments/13dcf19/messy_hair_can...</td>\n      <td>https://i.redd.it/alhlwwlp6yya1.jpg</td>\n      <td>13dcf19.jpg</td>\n      <td></td>\n      <td></td>\n      <td>False</td>\n      <td>False</td>\n      <td>False</td>\n      <td>[]</td>\n    </tr>\n    <tr>\n      <th>...</th>\n      <td>...</td>\n      <td>...</td>\n      <td>...</td>\n      <td>...</td>\n      <td>...</td>\n      <td>...</td>\n      <td>...</td>\n      <td>...</td>\n      <td>...</td>\n      <td>...</td>\n      <td>...</td>\n      <td>...</td>\n      <td>...</td>\n      <td>...</td>\n      <td>...</td>\n    </tr>\n    <tr>\n      <th>13f8eqg</th>\n      <td>13f8eqg</td>\n      <td>AesPleasingAsianGirls</td>\n      <td>tracypeters666</td>\n      <td>Enjoying the ocean</td>\n      <td></td>\n      <td></td>\n      <td>/r/AesPleasingAsianGirls/comments/13f8eqg/enjo...</td>\n      <td>https://i.redd.it/2yb2q079vcza1.jpg</td>\n      <td>13f8eqg.jpg</td>\n      <td></td>\n      <td></td>\n      <td>False</td>\n      <td>False</td>\n      <td>False</td>\n      <td>[]</td>\n    </tr>\n    <tr>\n      <th>13foeob</th>\n      <td>13foeob</td>\n      <td>AesPleasingAsianGirls</td>\n      <td>WishboneBeautiful777</td>\n      <td>Jenny Yen</td>\n      <td></td>\n      <td></td>\n      <td>/r/AesPleasingAsianGirls/comments/13foeob/jenn...</td>\n      <td>https://i.redd.it/ui2g6xxwngza1.jpg</td>\n      <td>13foeob.jpg</td>\n      <td></td>\n      <td></td>\n      <td>False</td>\n      <td>False</td>\n      <td>False</td>\n      <td>[]</td>\n    </tr>\n    <tr>\n      <th>13ftsfk</th>\n      <td>13ftsfk</td>\n      <td>AesPleasingAsianGirls</td>\n      <td>theowuriwufoa</td>\n      <td>White crop top</td>\n      <td></td>\n      <td></td>\n      <td>/r/AesPleasingAsianGirls/comments/13ftsfk/whit...</td>\n      <td>https://i.redd.it/uxns6rp7ohza1.jpg</td>\n      <td>13ftsfk.jpg</td>\n      <td></td>\n      <td></td>\n      <td>False</td>\n      <td>False</td>\n      <td>False</td>\n      <td>[]</td>\n    </tr>\n    <tr>\n      <th>13g70ma</th>\n      <td>13g70ma</td>\n      <td>AesPleasingAsianGirls</td>\n      <td>yummybanchan</td>\n      <td>Song Yu Qi</td>\n      <td></td>\n      <td></td>\n      <td>/r/AesPleasingAsianGirls/comments/13g70ma/song...</td>\n      <td>https://i.redd.it/m86fb2tugkza1.jpg</td>\n      <td>13g70ma.jpg</td>\n      <td></td>\n      <td></td>\n      <td>False</td>\n      <td>False</td>\n      <td>False</td>\n      <td>[]</td>\n    </tr>\n    <tr>\n      <th>13g9d43</th>\n      <td>13g9d43</td>\n      <td>AesPleasingAsianGirls</td>\n      <td>ExperienceOver7707</td>\n      <td>KitKat</td>\n      <td></td>\n      <td></td>\n      <td>/r/AesPleasingAsianGirls/comments/13g9d43/kitkat/</td>\n      <td>https://i.redd.it/bekk940j2lza1.jpg</td>\n      <td>13g9d43.jpg</td>\n      <td></td>\n      <td></td>\n      <td>False</td>\n      <td>False</td>\n      <td>False</td>\n      <td>[]</td>\n    </tr>\n  </tbody>\n</table>\n<p>721 rows × 15 columns</p>\n</div>"
     },
     "metadata": {},
     "output_type": "display_data"
    },
    {
     "name": "stdout",
     "output_type": "stream",
     "text": [
      "CPU times: total: 0 ns\n",
      "Wall time: 93.9 ms\n"
     ]
    }
   ],
   "source": [
    "%%time\n",
    "\n",
    "filtered = temp_data[~temp_data['id'].isin(extant_data.index.values) & temp_data['original_url'].str.endswith('.jpg') & (~temp_data['id'].isin(curated_data.index.values))]\n",
    "filtered.dropna(axis=1, how='all')\n",
    "filtered.reset_index(drop=True, inplace=True)\n",
    "filtered.set_index('id', inplace=True, drop=False)\n",
    "display(\"==== FILTERED DATA ====\")\n",
    "display(filtered.shape)\n",
    "display(filtered)"
   ],
   "metadata": {
    "collapsed": false,
    "ExecuteTime": {
     "end_time": "2023-05-13T22:36:35.520216900Z",
     "start_time": "2023-05-13T22:36:35.079925700Z"
    }
   }
  },
  {
   "cell_type": "code",
   "execution_count": 12,
   "outputs": [
    {
     "name": "stderr",
     "output_type": "stream",
     "text": [
      "Progress: 100%|██████████| 721/721 [00:00<00:00, 46285.25it/s]\n",
      "<timed exec>:1: SettingWithCopyWarning: \n",
      "A value is trying to be set on a copy of a slice from a DataFrame.\n",
      "Try using .loc[row_indexer,col_indexer] = value instead\n",
      "\n",
      "See the caveats in the documentation: https://pandas.pydata.org/pandas-docs/stable/user_guide/indexing.html#returning-a-view-versus-a-copy\n"
     ]
    },
    {
     "data": {
      "text/plain": "'== Filtered Data With Model =='"
     },
     "metadata": {},
     "output_type": "display_data"
    },
    {
     "data": {
      "text/plain": "(721, 15)"
     },
     "metadata": {},
     "output_type": "display_data"
    },
    {
     "data": {
      "text/plain": "              id              subreddit                author   \nid                                                              \n13azmti  13azmti            SFWRedheads     Scarlett_somebody  \\\n13b0cv0  13b0cv0            SFWRedheads           RedWicked91   \n13b2ghi  13b2ghi            SFWRedheads    Powerful_Frame9794   \n13c3bc5  13c3bc5            SFWRedheads          Redhotwife88   \n13dcf19  13dcf19            SFWRedheads     Scarlett_somebody   \n...          ...                    ...                   ...   \n13f8eqg  13f8eqg  AesPleasingAsianGirls        tracypeters666   \n13foeob  13foeob  AesPleasingAsianGirls  WishboneBeautiful777   \n13ftsfk  13ftsfk  AesPleasingAsianGirls         theowuriwufoa   \n13g70ma  13g70ma  AesPleasingAsianGirls          yummybanchan   \n13g9d43  13g9d43  AesPleasingAsianGirls    ExperienceOver7707   \n\n                                                     title caption hash   \nid                                                                        \n13azmti  I’m going out for the first time in so long! W...               \\\n13b0cv0                                    Up for a trip?😁                \n13b2ghi          Good morning loves! Like my braids again?                \n13c3bc5         Redhead Wife in my Little Black Dress! [F]                \n13dcf19                         Messy hair, cannot care 😹💚                \n...                                                    ...     ...  ...   \n13f8eqg                                 Enjoying the ocean                \n13foeob                                          Jenny Yen                \n13ftsfk                                     White crop top                \n13g70ma                                         Song Yu Qi                \n13g9d43                                             KitKat                \n\n                                                 permalink   \nid                                                           \n13azmti  /r/SFWRedheads/comments/13azmti/im_going_out_f...  \\\n13b0cv0     /r/SFWRedheads/comments/13b0cv0/up_for_a_trip/   \n13b2ghi  /r/SFWRedheads/comments/13b2ghi/good_morning_l...   \n13c3bc5  /r/SFWRedheads/comments/13c3bc5/redhead_wife_i...   \n13dcf19  /r/SFWRedheads/comments/13dcf19/messy_hair_can...   \n...                                                    ...   \n13f8eqg  /r/AesPleasingAsianGirls/comments/13f8eqg/enjo...   \n13foeob  /r/AesPleasingAsianGirls/comments/13foeob/jenn...   \n13ftsfk  /r/AesPleasingAsianGirls/comments/13ftsfk/whit...   \n13g70ma  /r/AesPleasingAsianGirls/comments/13g70ma/song...   \n13g9d43  /r/AesPleasingAsianGirls/comments/13g9d43/kitkat/   \n\n                                              original_url   image_name path   \nid                                                                             \n13azmti                https://i.redd.it/ktflvdzo1iya1.jpg  13azmti.jpg       \\\n13b0cv0  https://i.redgifs.com/i/neighboringmediumgolde...  13b0cv0.jpg        \n13b2ghi                https://i.redd.it/cpe6hy2h2hya1.jpg  13b2ghi.jpg        \n13c3bc5  https://i.redgifs.com/i/admiredoutstandingpape...  13c3bc5.jpg        \n13dcf19                https://i.redd.it/alhlwwlp6yya1.jpg  13dcf19.jpg        \n...                                                    ...          ...  ...   \n13f8eqg                https://i.redd.it/2yb2q079vcza1.jpg  13f8eqg.jpg        \n13foeob                https://i.redd.it/ui2g6xxwngza1.jpg  13foeob.jpg        \n13ftsfk                https://i.redd.it/uxns6rp7ohza1.jpg  13ftsfk.jpg        \n13g70ma                https://i.redd.it/m86fb2tugkza1.jpg  13g70ma.jpg        \n13g9d43                https://i.redd.it/bekk940j2lza1.jpg  13g9d43.jpg        \n\n                      model  exists  curated accept tags  \nid                                                        \n13azmti    RedHeadDiffusion   False    False  False   []  \n13b0cv0    RedHeadDiffusion   False    False  False   []  \n13b2ghi    RedHeadDiffusion   False    False  False   []  \n13c3bc5    RedHeadDiffusion   False    False  False   []  \n13dcf19    RedHeadDiffusion   False    False  False   []  \n...                     ...     ...      ...    ...  ...  \n13f8eqg  SexyAsianDiffusion   False    False  False   []  \n13foeob  SexyAsianDiffusion   False    False  False   []  \n13ftsfk  SexyAsianDiffusion   False    False  False   []  \n13g70ma  SexyAsianDiffusion   False    False  False   []  \n13g9d43  SexyAsianDiffusion   False    False  False   []  \n\n[721 rows x 15 columns]",
      "text/html": "<div>\n<style scoped>\n    .dataframe tbody tr th:only-of-type {\n        vertical-align: middle;\n    }\n\n    .dataframe tbody tr th {\n        vertical-align: top;\n    }\n\n    .dataframe thead th {\n        text-align: right;\n    }\n</style>\n<table border=\"1\" class=\"dataframe\">\n  <thead>\n    <tr style=\"text-align: right;\">\n      <th></th>\n      <th>id</th>\n      <th>subreddit</th>\n      <th>author</th>\n      <th>title</th>\n      <th>caption</th>\n      <th>hash</th>\n      <th>permalink</th>\n      <th>original_url</th>\n      <th>image_name</th>\n      <th>path</th>\n      <th>model</th>\n      <th>exists</th>\n      <th>curated</th>\n      <th>accept</th>\n      <th>tags</th>\n    </tr>\n    <tr>\n      <th>id</th>\n      <th></th>\n      <th></th>\n      <th></th>\n      <th></th>\n      <th></th>\n      <th></th>\n      <th></th>\n      <th></th>\n      <th></th>\n      <th></th>\n      <th></th>\n      <th></th>\n      <th></th>\n      <th></th>\n      <th></th>\n    </tr>\n  </thead>\n  <tbody>\n    <tr>\n      <th>13azmti</th>\n      <td>13azmti</td>\n      <td>SFWRedheads</td>\n      <td>Scarlett_somebody</td>\n      <td>I’m going out for the first time in so long! W...</td>\n      <td></td>\n      <td></td>\n      <td>/r/SFWRedheads/comments/13azmti/im_going_out_f...</td>\n      <td>https://i.redd.it/ktflvdzo1iya1.jpg</td>\n      <td>13azmti.jpg</td>\n      <td></td>\n      <td>RedHeadDiffusion</td>\n      <td>False</td>\n      <td>False</td>\n      <td>False</td>\n      <td>[]</td>\n    </tr>\n    <tr>\n      <th>13b0cv0</th>\n      <td>13b0cv0</td>\n      <td>SFWRedheads</td>\n      <td>RedWicked91</td>\n      <td>Up for a trip?😁</td>\n      <td></td>\n      <td></td>\n      <td>/r/SFWRedheads/comments/13b0cv0/up_for_a_trip/</td>\n      <td>https://i.redgifs.com/i/neighboringmediumgolde...</td>\n      <td>13b0cv0.jpg</td>\n      <td></td>\n      <td>RedHeadDiffusion</td>\n      <td>False</td>\n      <td>False</td>\n      <td>False</td>\n      <td>[]</td>\n    </tr>\n    <tr>\n      <th>13b2ghi</th>\n      <td>13b2ghi</td>\n      <td>SFWRedheads</td>\n      <td>Powerful_Frame9794</td>\n      <td>Good morning loves! Like my braids again?</td>\n      <td></td>\n      <td></td>\n      <td>/r/SFWRedheads/comments/13b2ghi/good_morning_l...</td>\n      <td>https://i.redd.it/cpe6hy2h2hya1.jpg</td>\n      <td>13b2ghi.jpg</td>\n      <td></td>\n      <td>RedHeadDiffusion</td>\n      <td>False</td>\n      <td>False</td>\n      <td>False</td>\n      <td>[]</td>\n    </tr>\n    <tr>\n      <th>13c3bc5</th>\n      <td>13c3bc5</td>\n      <td>SFWRedheads</td>\n      <td>Redhotwife88</td>\n      <td>Redhead Wife in my Little Black Dress! [F]</td>\n      <td></td>\n      <td></td>\n      <td>/r/SFWRedheads/comments/13c3bc5/redhead_wife_i...</td>\n      <td>https://i.redgifs.com/i/admiredoutstandingpape...</td>\n      <td>13c3bc5.jpg</td>\n      <td></td>\n      <td>RedHeadDiffusion</td>\n      <td>False</td>\n      <td>False</td>\n      <td>False</td>\n      <td>[]</td>\n    </tr>\n    <tr>\n      <th>13dcf19</th>\n      <td>13dcf19</td>\n      <td>SFWRedheads</td>\n      <td>Scarlett_somebody</td>\n      <td>Messy hair, cannot care 😹💚</td>\n      <td></td>\n      <td></td>\n      <td>/r/SFWRedheads/comments/13dcf19/messy_hair_can...</td>\n      <td>https://i.redd.it/alhlwwlp6yya1.jpg</td>\n      <td>13dcf19.jpg</td>\n      <td></td>\n      <td>RedHeadDiffusion</td>\n      <td>False</td>\n      <td>False</td>\n      <td>False</td>\n      <td>[]</td>\n    </tr>\n    <tr>\n      <th>...</th>\n      <td>...</td>\n      <td>...</td>\n      <td>...</td>\n      <td>...</td>\n      <td>...</td>\n      <td>...</td>\n      <td>...</td>\n      <td>...</td>\n      <td>...</td>\n      <td>...</td>\n      <td>...</td>\n      <td>...</td>\n      <td>...</td>\n      <td>...</td>\n      <td>...</td>\n    </tr>\n    <tr>\n      <th>13f8eqg</th>\n      <td>13f8eqg</td>\n      <td>AesPleasingAsianGirls</td>\n      <td>tracypeters666</td>\n      <td>Enjoying the ocean</td>\n      <td></td>\n      <td></td>\n      <td>/r/AesPleasingAsianGirls/comments/13f8eqg/enjo...</td>\n      <td>https://i.redd.it/2yb2q079vcza1.jpg</td>\n      <td>13f8eqg.jpg</td>\n      <td></td>\n      <td>SexyAsianDiffusion</td>\n      <td>False</td>\n      <td>False</td>\n      <td>False</td>\n      <td>[]</td>\n    </tr>\n    <tr>\n      <th>13foeob</th>\n      <td>13foeob</td>\n      <td>AesPleasingAsianGirls</td>\n      <td>WishboneBeautiful777</td>\n      <td>Jenny Yen</td>\n      <td></td>\n      <td></td>\n      <td>/r/AesPleasingAsianGirls/comments/13foeob/jenn...</td>\n      <td>https://i.redd.it/ui2g6xxwngza1.jpg</td>\n      <td>13foeob.jpg</td>\n      <td></td>\n      <td>SexyAsianDiffusion</td>\n      <td>False</td>\n      <td>False</td>\n      <td>False</td>\n      <td>[]</td>\n    </tr>\n    <tr>\n      <th>13ftsfk</th>\n      <td>13ftsfk</td>\n      <td>AesPleasingAsianGirls</td>\n      <td>theowuriwufoa</td>\n      <td>White crop top</td>\n      <td></td>\n      <td></td>\n      <td>/r/AesPleasingAsianGirls/comments/13ftsfk/whit...</td>\n      <td>https://i.redd.it/uxns6rp7ohza1.jpg</td>\n      <td>13ftsfk.jpg</td>\n      <td></td>\n      <td>SexyAsianDiffusion</td>\n      <td>False</td>\n      <td>False</td>\n      <td>False</td>\n      <td>[]</td>\n    </tr>\n    <tr>\n      <th>13g70ma</th>\n      <td>13g70ma</td>\n      <td>AesPleasingAsianGirls</td>\n      <td>yummybanchan</td>\n      <td>Song Yu Qi</td>\n      <td></td>\n      <td></td>\n      <td>/r/AesPleasingAsianGirls/comments/13g70ma/song...</td>\n      <td>https://i.redd.it/m86fb2tugkza1.jpg</td>\n      <td>13g70ma.jpg</td>\n      <td></td>\n      <td>SexyAsianDiffusion</td>\n      <td>False</td>\n      <td>False</td>\n      <td>False</td>\n      <td>[]</td>\n    </tr>\n    <tr>\n      <th>13g9d43</th>\n      <td>13g9d43</td>\n      <td>AesPleasingAsianGirls</td>\n      <td>ExperienceOver7707</td>\n      <td>KitKat</td>\n      <td></td>\n      <td></td>\n      <td>/r/AesPleasingAsianGirls/comments/13g9d43/kitkat/</td>\n      <td>https://i.redd.it/bekk940j2lza1.jpg</td>\n      <td>13g9d43.jpg</td>\n      <td></td>\n      <td>SexyAsianDiffusion</td>\n      <td>False</td>\n      <td>False</td>\n      <td>False</td>\n      <td>[]</td>\n    </tr>\n  </tbody>\n</table>\n<p>721 rows × 15 columns</p>\n</div>"
     },
     "metadata": {},
     "output_type": "display_data"
    },
    {
     "name": "stdout",
     "output_type": "stream",
     "text": [
      "CPU times: total: 31.2 ms\n",
      "Wall time: 83.5 ms\n"
     ]
    }
   ],
   "source": [
    "%%time\n",
    "\n",
    "filtered['model'] = filtered.progress_apply(lambda x: functions.add_source(x, sources), axis=1)\n",
    "\n",
    "display(\"== Filtered Data With Model ==\")\n",
    "display(filtered.shape)\n",
    "display(filtered)"
   ],
   "metadata": {
    "collapsed": false,
    "ExecuteTime": {
     "end_time": "2023-05-13T22:36:35.692088100Z",
     "start_time": "2023-05-13T22:36:35.220727900Z"
    }
   }
  },
  {
   "cell_type": "code",
   "execution_count": null,
   "outputs": [
    {
     "name": "stderr",
     "output_type": "stream",
     "text": [
      "Progress:  18%|█▊        | 130/721 [3:17:14<48:00:20, 292.42s/it]  "
     ]
    }
   ],
   "source": [
    "%%time\n",
    "\n",
    "file_list = file_system.ls(\"data/image\")\n",
    "\n",
    "filtered['path'] = filtered.progress_apply(lambda x: functions.fetch_image(x, file_list, file_system), axis=1)\n",
    "\n",
    "display(\"== Filtered Data With Path ==\")\n",
    "display(filtered.shape)\n",
    "display(filtered)"
   ],
   "metadata": {
    "collapsed": false,
    "is_executing": true,
    "ExecuteTime": {
     "start_time": "2023-05-13T22:36:35.317880500Z"
    }
   }
  },
  {
   "cell_type": "code",
   "execution_count": null,
   "outputs": [],
   "source": [
    "%%time\n",
    "\n",
    "filtered['exists'] = filtered.progress_apply(lambda x: functions.set_exists(x), axis=1)\n",
    "\n",
    "display(\"== Filtered Data With Exists ==\")\n",
    "display(filtered.shape)\n",
    "display(filtered)"
   ],
   "metadata": {
    "collapsed": false,
    "is_executing": true
   }
  },
  {
   "cell_type": "code",
   "execution_count": null,
   "outputs": [],
   "source": [
    "%%time\n",
    "\n",
    "filtered['hash'] = filtered.progress_apply(lambda x: functions.set_hash(x), axis=1)\n",
    "\n",
    "display(\"== Filtered Data With Hash ==\")\n",
    "display(filtered.shape)\n",
    "display(filtered)"
   ],
   "metadata": {
    "collapsed": false,
    "is_executing": true
   }
  },
  {
   "cell_type": "code",
   "execution_count": null,
   "outputs": [],
   "source": [
    "%%time\n",
    "import torch\n",
    "if torch.cuda.is_available():\n",
    "\tcaption_0 = BlipCaption(\"cuda\")\n",
    "\tcaption_1 = BlipCaption(\"cuda\")\n",
    "else:\n",
    "\tcaption_0 = BlipCaption(\"cpu\")\n",
    "\tcaption_1 = BlipCaption(\"cpu\")"
   ],
   "metadata": {
    "collapsed": false,
    "is_executing": true
   }
  },
  {
   "cell_type": "code",
   "execution_count": null,
   "outputs": [],
   "source": [
    "%%time\n",
    "\n",
    "filtered['caption'] = filtered.progress_apply(lambda x: functions.apply_caption(x, [caption_0, caption_1]), axis=1)\n",
    "\n",
    "display(\"== Filtered Data With Caption ==\")\n",
    "display(filtered.shape)\n",
    "display(filtered)"
   ],
   "metadata": {
    "collapsed": false,
    "is_executing": true
   }
  },
  {
   "cell_type": "code",
   "execution_count": null,
   "outputs": [],
   "source": [
    "%%time\n",
    "\n",
    "filtered_more = filtered.loc[(filtered['caption'] != \"\") & (filtered['caption'].notnull()) & (filtered['exists'] == True)]\n",
    "\n",
    "display(\"== Filtered On Missing Caption ==\")\n",
    "display(filtered_more.shape)\n",
    "display(filtered_more)"
   ],
   "metadata": {
    "collapsed": false,
    "is_executing": true
   }
  },
  {
   "cell_type": "code",
   "execution_count": null,
   "outputs": [],
   "source": [
    "%%time\n",
    "\n",
    "dropped = filtered_more.dropna(axis=1, how='all')\n",
    "dropped.reset_index(drop=True, inplace=True)\n",
    "\n",
    "display(\"== Dropped And Reset Data ==\")\n",
    "display(dropped.shape)\n",
    "display(dropped)"
   ],
   "metadata": {
    "collapsed": false,
    "is_executing": true
   }
  },
  {
   "cell_type": "code",
   "execution_count": null,
   "outputs": [],
   "source": [
    "%%time\n",
    "\n",
    "current = pandas.read_parquet(\"data/parquet/back.parquet\", engine='pyarrow', filesystem=file_system)\n",
    "\n",
    "display(current.shape)\n",
    "display(current)"
   ],
   "metadata": {
    "collapsed": false,
    "is_executing": true
   }
  },
  {
   "cell_type": "code",
   "execution_count": null,
   "outputs": [],
   "source": [
    "%%time\n",
    "\n",
    "temp_current = current\n",
    "temp_current.set_index('id', inplace=True, drop=False)\n",
    "\n",
    "temp_new = dropped\n",
    "temp_new.set_index('id', inplace=True, drop=False)\n",
    "\n",
    "temp_new.loc[~temp_new.index.isin(temp_current.index)]"
   ],
   "metadata": {
    "collapsed": false,
    "is_executing": true
   }
  },
  {
   "cell_type": "code",
   "execution_count": null,
   "outputs": [],
   "source": [
    "%%time\n",
    "\n",
    "concat = pd.concat([current, dropped])\n",
    "\n",
    "display(\"== Concatenated Data ==\")\n",
    "display(concat.shape)\n",
    "display(concat)"
   ],
   "metadata": {
    "collapsed": false,
    "is_executing": true
   }
  },
  {
   "cell_type": "code",
   "execution_count": null,
   "outputs": [],
   "source": [
    "%%time\n",
    "\n",
    "file_list_ = file_system.ls(\"data/image\")\n",
    "concat['path'] = concat.progress_apply(lambda x: functions.fix_path(x, file_list), axis=1)\n",
    "\n",
    "display(\"== Concatenated Data With Path ==\")\n",
    "display(concat.shape)\n",
    "display(concat)"
   ],
   "metadata": {
    "collapsed": false,
    "is_executing": true
   }
  },
  {
   "cell_type": "code",
   "execution_count": null,
   "outputs": [],
   "source": [
    "%%time\n",
    "\n",
    "back_up_name = f\"data/parquet/back_{dt.datetime.timestamp(dt.datetime.now())}.parquet\"\n",
    "display(f\"== Writing Back-Up {back_up_name} ==\")\n",
    "current.to_parquet(back_up_name, schema=schema, filesystem=file_system)"
   ],
   "metadata": {
    "collapsed": false,
    "is_executing": true
   }
  },
  {
   "cell_type": "code",
   "execution_count": null,
   "outputs": [],
   "source": [
    "%%time\n",
    "\n",
    "concat.to_parquet(\"data/parquet/back.parquet\", schema=schema, filesystem=file_system)\n",
    "new = pd.read_parquet(\"data/parquet/back.parquet\", engine='pyarrow', schema=schema, filesystem=file_system)\n",
    "\n",
    "display(\"== New Data ==\")\n",
    "display(new.shape)\n",
    "display(new)"
   ],
   "metadata": {
    "collapsed": false,
    "is_executing": true
   }
  },
  {
   "cell_type": "code",
   "execution_count": null,
   "outputs": [],
   "source": [
    "!jupyter notebook stop"
   ],
   "metadata": {
    "collapsed": false,
    "is_executing": true
   }
  }
 ],
 "metadata": {
  "kernelspec": {
   "display_name": "Python 3",
   "language": "python",
   "name": "python3"
  },
  "language_info": {
   "codemirror_mode": {
    "name": "ipython",
    "version": 2
   },
   "file_extension": ".py",
   "mimetype": "text/x-python",
   "name": "python",
   "nbconvert_exporter": "python",
   "pygments_lexer": "ipython2",
   "version": "2.7.6"
  }
 },
 "nbformat": 4,
 "nbformat_minor": 0
}
