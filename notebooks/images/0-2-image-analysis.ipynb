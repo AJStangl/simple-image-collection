{
 "cells": [
  {
   "cell_type": "code",
   "execution_count": null,
   "metadata": {
    "collapsed": true,
    "is_executing": true
   },
   "outputs": [],
   "source": [
    "%%time\n",
    "\n",
    "import json\n",
    "\n",
    "import pandas\n",
    "import pandas as pd\n",
    "from adlfs import AzureBlobFileSystem\n",
    "from tqdm import tqdm\n",
    "\n",
    "from common.captioning.azure_descriptions import AzureCaption\n",
    "from common.functions.functions import Functions\n",
    "from common.schemas.pyarrow_schema import schema\n",
    "from common.storage.azure_file_storage import AzureFileStorageAdapter\n",
    "\n",
    "tqdm.pandas(desc=\"Progress\")\n",
    "\n",
    "file_system: AzureBlobFileSystem = AzureFileStorageAdapter('data').get_file_storage()\n",
    "\n",
    "functions: Functions = Functions()\n",
    "\n",
    "caption: AzureCaption = AzureCaption(file_system)"
   ]
  },
  {
   "cell_type": "code",
   "execution_count": null,
   "metadata": {
    "collapsed": false,
    "is_executing": true
   },
   "outputs": [],
   "source": [
    "%%time\n",
    "\n",
    "curated_data = pandas.read_parquet(\"data/parquet/back.parquet\", engine=\"pyarrow\", filesystem=file_system)\n",
    "\n",
    "curated_data.set_index(\"id\", inplace=True, drop=False)\n",
    "\n",
    "filtered = curated_data.loc[curated_data[\"accept\"] == True, schema.names]\n",
    "\n",
    "filtered.dropna(inplace=True)\n",
    "\n",
    "filtered.reset_index(inplace=True, drop=True)\n",
    "\n",
    "display(filtered.shape)\n",
    "\n",
    "display(filtered)"
   ]
  },
  {
   "cell_type": "code",
   "execution_count": null,
   "metadata": {
    "collapsed": false,
    "is_executing": true
   },
   "outputs": [],
   "source": [
    "%%time\n",
    "\n",
    "sources = [\n",
    "\t{\"name\": \"CityDiffusion\", \"data\": [\"CityPorn\"]},\n",
    "\t{\"name\": \"NatureDiffusion\", \"data\": [\"EarthPorn\"]},\n",
    "\t{\"name\": \"CosmicDiffusion\", \"data\": [\"spaceporn\"]},\n",
    "\t{\"name\": \"ITAPDiffusion\", \"data\": [\"itookapicture\"]},\n",
    "\t{\"name\": \"MemeDiffusion\", \"data\": [\"memes\"]},\n",
    "\t{\"name\": \"TTTDiffusion\", \"data\": [\"trippinthroughtime\"]},\n",
    "\t{\"name\": \"WallStreetDiffusion\", \"data\": [\"wallstreetbets\"]},\n",
    "\t{\"name\": \"SexyDiffusion\",\n",
    "\t \"data\": [\"selfies\", \"Amicute\", \"amihot\", \"AmIhotAF\", \"HotGirlNextDoor\", \"sexygirls\", \"PrettyGirls\",\n",
    "\t\t\t  \"gentlemanboners\", \"hotofficegirls\", \"tightdresses\", \"DLAH\"]},\n",
    "\t{\"name\": \"FatSquirrelDiffusion\", \"data\": [\"fatsquirrelhate\"]},\n",
    "\t{\"name\": \"CelebrityDiffusion\", \"data\": [\"celebrities\"]},\n",
    "\t{\"name\": \"OldLadyDiffusion\", \"data\": [\"oldladiesbakingpies\"]},\n",
    "\t{\"name\": \"SWFPetite\", \"data\": [\"sfwpetite\"]},\n",
    "\t{\"name\": \"SFWMilfs\", \"data\": [\"cougars_and_milfs_sfw\"]},\n",
    "\t{\"name\": \"RedHeadDiffusion\", \"data\": [\"SFWRedheads\"]},\n",
    "\t{\"name\": \"NextDoorGirlsDiffusion\", \"data\": [\"SFWNextDoorGirls\"]},\n",
    "\t{\"name\": \"SexyAsianDiffusion\",\n",
    "\t \"data\": [\"realasians\", \"KoreanHotties\", \"prettyasiangirls\", \"AsianOfficeLady\", \"AsianInvasion\"]},\n",
    "\t{\"name\": \"MildlyPenisDiffusion\", \"data\": [\"mildlypenis\"]},\n",
    "\t{\"name\": \"CandleDiffusion\", \"data\": [\"bathandbodyworks\"]},\n",
    "]\n",
    "sources_df = pd.DataFrame.from_records(sources)"
   ]
  },
  {
   "cell_type": "code",
   "execution_count": null,
   "metadata": {
    "collapsed": false,
    "is_executing": true
   },
   "outputs": [],
   "source": [
    "%%time\n",
    "\n",
    "filtered['model'] = filtered.apply(lambda x: functions.add_source(x, sources), axis=1)\n",
    "filtered_model = filtered.loc[filtered['model'] != \"\"]\n",
    "filtered_model.dropna(inplace=True)\n",
    "filtered_model.reset_index(inplace=True, drop=True)\n",
    "display(filtered_model)"
   ]
  },
  {
   "cell_type": "code",
   "execution_count": null,
   "metadata": {
    "collapsed": false,
    "is_executing": true
   },
   "outputs": [],
   "source": [
    "%%time\n",
    "\n",
    "group = filtered_model[[\"id\", \"subreddit\"]].groupby(\"subreddit\").count().sort_values(by=\"id\", ascending=False)\n",
    "plot = group.plot.bar(figsize=(20, 10), title=\"Subreddits with most posts\", legend=True)\n",
    "display(plot)"
   ]
  },
  {
   "cell_type": "code",
   "execution_count": null,
   "metadata": {
    "collapsed": false,
    "is_executing": true
   },
   "outputs": [],
   "source": [
    "%%time\n",
    "\n",
    "group = filtered_model[[\"id\", \"model\", \"subreddit\"]].groupby([\"model\"]).count().sort_values(by=\"id\", ascending=False)\n",
    "plot_1 = group.plot.bar(figsize=(20, 10), title=\"Models with most images\", legend=True)\n",
    "display(plot_1)"
   ]
  },
  {
   "cell_type": "code",
   "execution_count": null,
   "outputs": [],
   "source": [
    "sexy_model = filtered_model.loc[\n",
    "\t(filtered_model[\"model\"] == \"SexyDiffusion\") | (filtered_model[\"model\"] == \"SexyAsianDiffusion\") | (\n",
    "\t\t\t\tfiltered_model['model'] == \"NextDoorGirlDiffusion\") | (filtered_model['model'] == 'RedHeadDiffusion')]\n",
    "sexy_model.dropna(inplace=True)\n",
    "sexy_model.reset_index(inplace=True, drop=True)\n",
    "display(sexy_model.shape)\n",
    "display(sexy_model)"
   ],
   "metadata": {
    "collapsed": false
   }
  },
  {
   "cell_type": "code",
   "execution_count": null,
   "metadata": {
    "collapsed": false,
    "is_executing": true
   },
   "outputs": [
    {
     "data": {
      "text/plain": "'Processing 10cjysv -- 525/17794'"
     },
     "metadata": {},
     "output_type": "display_data"
    }
   ],
   "source": [
    "%%time\n",
    "\n",
    "import time\n",
    "\n",
    "records = sexy_model.to_dict(orient=\"records\")\n",
    "current_captions = [item.replace('\\n', '') for item in file_system.ls(\"data/caption\")]\n",
    "i = 0\n",
    "start = time.time()\n",
    "\n",
    "for elem in records:\n",
    "\tend = time.time()\n",
    "\telapsed = end - start\n",
    "\ti += 1\n",
    "\tpath = elem['path']\n",
    "\tremote_path = file_system.url(path)\n",
    "\tif f'data/caption/{elem[\"id\"]}.json' not in current_captions:\n",
    "\t\ttime.sleep(1)\n",
    "\t\tprint(f'Processing {elem[\"id\"]} -- {i}/{len(records)} -- {elapsed}')\n",
    "\n",
    "\t\toutput = caption.image_analysis(remote_path)\n",
    "\n",
    "\t\tjson_result = output.json_result\n",
    "\t\tif json_result is None:\n",
    "\t\t\tprint(f'Error with {elem[\"id\"]} -- Empty Result -- {i}/{len(records)} -- {elapsed}')\n",
    "\t\t\tcontinue\n",
    "\t\ttry:\n",
    "\t\t\tif json.loads(json_result).get('error'):\n",
    "\t\t\t\tprint(\n",
    "\t\t\t\t\tf'Error with {elem[\"id\"]} -- Error: {json.loads(json_result).get(\"error\")} -- {i}/{len(records)} -- {elapsed}')\n",
    "\t\t\t\tcontinue\n",
    "\t\t\twith open('temp.json', 'w', encoding='utf-8') as handle:\n",
    "\t\t\t\thandle.write(json_result)\n",
    "\t\t\t\tprint(f'Uploading {elem[\"id\"]} -- {i}/{len(records)} -- {elapsed}')\n",
    "\t\t\t\tfile_system.upload('temp.json', f'data/caption/{elem[\"id\"]}.json')\n",
    "\t\texcept Exception as e:\n",
    "\t\t\tprint(f'Error with {elem[\"id\"]} -- Error: {e} -- {i}/{len(records)} -- {elapsed}')\n",
    "\t\t\tcontinue\n",
    "\telse:\n",
    "\t\tcontinue"
   ]
  },
  {
   "cell_type": "code",
   "execution_count": null,
   "metadata": {
    "collapsed": false,
    "is_executing": true
   },
   "outputs": [],
   "source": [
    "# !jupyter notebook stop"
   ]
  }
 ],
 "metadata": {
  "kernelspec": {
   "display_name": "Python 3",
   "language": "python",
   "name": "python3"
  },
  "language_info": {
   "codemirror_mode": {
    "name": "ipython",
    "version": 3
   },
   "file_extension": ".py",
   "mimetype": "text/x-python",
   "name": "python",
   "nbconvert_exporter": "python",
   "pygments_lexer": "ipython3",
   "version": "3.10.2"
  }
 },
 "nbformat": 4,
 "nbformat_minor": 0
}
