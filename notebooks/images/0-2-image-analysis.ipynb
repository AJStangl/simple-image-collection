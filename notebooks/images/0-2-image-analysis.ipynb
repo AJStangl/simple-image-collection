{
 "cells": [
  {
   "cell_type": "code",
   "execution_count": null,
   "metadata": {
    "collapsed": true,
    "is_executing": true
   },
   "outputs": [],
   "source": [
    "%%time\n",
    "\n",
    "from adlfs import AzureBlobFileSystem\n",
    "\n",
    "\n",
    "import time\n",
    "\n",
    "\n",
    "\n",
    "import json\n",
    "import pandas\n",
    "import pandas as pd\n",
    "from tqdm import tqdm\n",
    "\n",
    "from common.schemas.pyarrow_schema import tagging_schema\n",
    "from common.storage.azure_file_storage import AzureFileStorageAdapter\n",
    "from common.captioning.azure_descriptions import AzureCaption\n",
    "from common.schemas.pyarrow_schema import schema\n",
    "\n",
    "tqdm.pandas(desc=\"Progress\")\n",
    "file_system: AzureBlobFileSystem = AzureFileStorageAdapter('data').get_file_storage()\n",
    "\n",
    "from common.data_frame_functions.functions import Functions\n",
    "\n",
    "functions: Functions = Functions()\n",
    "\n",
    "caption: AzureCaption = AzureCaption(file_system)"
   ]
  },
  {
   "cell_type": "code",
   "execution_count": null,
   "metadata": {
    "collapsed": false,
    "is_executing": true
   },
   "outputs": [],
   "source": [
    "%%time\n",
    "\n",
    "curated_data = pandas.read_parquet(\"data/parquet/back.parquet\", engine=\"pyarrow\", filesystem=file_system)\n",
    "\n",
    "curated_data.set_index(\"id\", inplace=True, drop=False)\n",
    "\n",
    "filtered = curated_data.loc[curated_data[\"accept\"] == True, schema.names]\n",
    "\n",
    "filtered.dropna(inplace=True)\n",
    "\n",
    "display(filtered.shape)\n",
    "\n",
    "display(filtered)"
   ]
  },
  {
   "cell_type": "code",
   "execution_count": null,
   "metadata": {
    "collapsed": false,
    "is_executing": true
   },
   "outputs": [],
   "source": [
    "%%time\n",
    "\n",
    "sources = [\n",
    "\t{\"name\": \"CityDiffusion\", \"data\": [\"CityPorn\"]},\n",
    "\t{\"name\": \"NatureDiffusion\", \"data\": [\"EarthPorn\"]},\n",
    "\t{\"name\": \"CosmicDiffusion\", \"data\": [\"spaceporn\"]},\n",
    "\t{\"name\": \"ITAPDiffusion\", \"data\": [\"itookapicture\"]},\n",
    "\t{\"name\": \"MemeDiffusion\", \"data\": [\"memes\"]},\n",
    "\t{\"name\": \"TTTDiffusion\", \"data\": [\"trippinthroughtime\"]},\n",
    "\t{\"name\": \"WallStreetDiffusion\", \"data\": [\"wallstreetbets\"]},\n",
    "\t{\"name\": \"SexyDiffusion\", \"data\": [\"selfies\", \"Amicute\", \"amihot\", \"AmIhotAF\", \"HotGirlNextDoor\", \"sexygirls\", \"PrettyGirls\", \"gentlemanboners\", \"hotofficegirls\", \"tightdresses\", \"DLAH\"]},\n",
    "\t{\"name\": \"FatSquirrelDiffusion\", \"data\": [\"fatsquirrelhate\"]},\n",
    "\t{\"name\": \"CelebrityDiffusion\", \"data\": [\"celebrities\"]},\n",
    "\t{\"name\": \"OldLadyDiffusion\", \"data\": [\"oldladiesbakingpies\"]},\n",
    "\t{\"name\": \"SWFPetite\", \"data\": [\"sfwpetite\"]},\n",
    "\t{\"name\": \"SFWMilfs\", \"data\": [\"cougars_and_milfs_sfw\"]},\n",
    "\t{\"name\": \"RedHeadDiffusion\", \"data\": [\"SFWRedheads\"]},\n",
    "\t{\"name\": \"NextDoorGirlsDiffusion\", \"data\": [\"SFWNextDoorGirls\"]},\n",
    "\t{\"name\": \"SexyAsianDiffusion\", \"data\": [\"realasians\", \"KoreanHotties\", \"prettyasiangirls\", \"AsianOfficeLady\", \"AsianInvasion\"]},\n",
    "\t{\"name\": \"MildlyPenisDiffusion\", \"data\": [\"mildlypenis\"]},\n",
    "\t{\"name\": \"CandleDiffusion\", \"data\": [\"bathandbodyworks\"] },\n",
    "]\n",
    "sources_df = pd.DataFrame.from_records(sources)"
   ]
  },
  {
   "cell_type": "code",
   "execution_count": null,
   "metadata": {
    "collapsed": false,
    "is_executing": true
   },
   "outputs": [],
   "source": [
    "filtered['model'] = filtered.apply(lambda x: functions.add_source(x, sources), axis=1)\n",
    "foo = filtered.loc[filtered['model'] != \"\"]\n",
    "foo.dropna()\n",
    "filtered = foo\n",
    "display(filtered)"
   ]
  },
  {
   "cell_type": "code",
   "execution_count": null,
   "metadata": {
    "collapsed": false,
    "is_executing": true
   },
   "outputs": [],
   "source": [
    "%%time\n",
    "\n",
    "group = filtered[[\"id\", \"subreddit\"]].groupby(\"subreddit\").count().sort_values(by=\"id\", ascending=False)\n",
    "plot = group.plot.bar(figsize=(20, 10), title=\"Subreddits with most posts\", legend=True)\n",
    "display(plot)"
   ]
  },
  {
   "cell_type": "code",
   "execution_count": null,
   "metadata": {
    "collapsed": false,
    "is_executing": true
   },
   "outputs": [],
   "source": [
    "%%time\n",
    "\n",
    "group = filtered[[\"id\", \"model\", \"subreddit\"]].groupby([\"model\"]).count().sort_values(by=\"id\", ascending=False)\n",
    "plot_1 = group.plot.bar(figsize=(20, 10), title=\"Models with most images\", legend=True)\n",
    "display(plot_1)"
   ]
  },
  {
   "cell_type": "code",
   "execution_count": null,
   "metadata": {
    "collapsed": false,
    "is_executing": true
   },
   "outputs": [],
   "source": [
    "bar = filtered.loc[(filtered[\"model\"] == \"SexyDiffusion\") | (filtered[\"model\"] == \"SexyAsianDiffusion\") | (filtered['model'] == \"NextDoorGirlDiffusion\") | (filtered['model'] == 'RedHeadDiffusion')]\n",
    "dropped = bar.dropna(inplace=True)\n",
    "display(bar.shape)\n",
    "display(bar)\n",
    "bar = filtered"
   ]
  },
  {
   "cell_type": "code",
   "execution_count": null,
   "metadata": {
    "collapsed": false,
    "is_executing": true
   },
   "outputs": [
    {
     "data": {
      "text/plain": "'Processing 10cjysv -- 525/17794'"
     },
     "metadata": {},
     "output_type": "display_data"
    }
   ],
   "source": [
    "%%time\n",
    "\n",
    "from common.captioning.azure_descriptions import AzureCaption\n",
    "records = bar.to_dict(orient=\"records\")\n",
    "current_captions = [item.replace('\\n', '') for item in file_system.ls(\"data/caption\")]\n",
    "i = 0\n",
    "for elem in records:\n",
    "\ti += 1\n",
    "\tpath = elem['path']\n",
    "\tremote_path = file_system.url(path)\n",
    "\tif f'data/caption/{elem[\"id\"]}.json' not in current_captions:\n",
    "\t\tdisplay(f'Processing {elem[\"id\"]} -- {i}/{len(records)}', clear=True)\n",
    "\t\tcaption: AzureCaption = AzureCaption(file_system)\n",
    "\t\toutput = caption.image_analysis(remote_path)\n",
    "\t\ttime.sleep(12)\n",
    "\t\tjson_result = output.json_result\n",
    "\t\tif json_result is None:\n",
    "\t\t\tdisplay(f'Error with {elem[\"id\"]} -- Empty Result -- {i}/{len(records)}', clear=True)\n",
    "\t\t\tcontinue\n",
    "\t\ttry:\n",
    "\t\t\tif json.loads(json_result).get('error'):\n",
    "\t\t\t\tdisplay(f'Error with {elem[\"id\"]} -- Error: {json.loads(json_result).get(\"error\")} -- {i}/{len(records)}', clear=True)\n",
    "\t\t\t\tcontinue\n",
    "\t\t\thandle = open('temp.json', 'w', encoding='utf-8')\n",
    "\t\t\thandle.write(json_result)\n",
    "\t\t\thandle.close()\n",
    "\t\t\tdisplay(f'Uploading {elem[\"id\"]} -- {i}/{len(records)}', clear=True)\n",
    "\t\t\tfile_system.upload('temp.json', f'data/caption/{elem[\"id\"]}.json')\n",
    "\t\texcept Exception as e:\n",
    "\t\t\tdisplay(f'Error with {elem[\"id\"]} -- Error: {e} -- {i}/{len(records)}', clear=True)\n",
    "\t\t\tcontinue\n",
    "\telse:\n",
    "\t\tdisplay(f'Skipping {elem[\"id\"]} -- Already Processed -- {i}/{len(records)}', clear=True)\n",
    "\t\tcontinue"
   ]
  },
  {
   "cell_type": "code",
   "execution_count": null,
   "metadata": {
    "collapsed": false,
    "is_executing": true
   },
   "outputs": [],
   "source": [
    "!jupyter notebook stop"
   ]
  }
 ],
 "metadata": {
  "kernelspec": {
   "display_name": "Python 3",
   "language": "python",
   "name": "python3"
  },
  "language_info": {
   "codemirror_mode": {
    "name": "ipython",
    "version": 3
   },
   "file_extension": ".py",
   "mimetype": "text/x-python",
   "name": "python",
   "nbconvert_exporter": "python",
   "pygments_lexer": "ipython3",
   "version": "3.10.2"
  }
 },
 "nbformat": 4,
 "nbformat_minor": 0
}
