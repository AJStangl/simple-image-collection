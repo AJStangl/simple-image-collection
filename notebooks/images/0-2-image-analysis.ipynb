{
 "cells": [
  {
   "cell_type": "code",
   "execution_count": 2,
   "metadata": {
    "collapsed": true,
    "ExecuteTime": {
     "end_time": "2023-05-17T19:59:00.777707300Z",
     "start_time": "2023-05-17T19:59:00.450288800Z"
    }
   },
   "outputs": [
    {
     "name": "stdout",
     "output_type": "stream",
     "text": [
      "CPU times: total: 4.12 s\n",
      "Wall time: 37.1 s\n",
      "CPU times: total: 0 ns\n",
      "Wall time: 85.1 ms\n"
     ]
    }
   ],
   "source": [
    "%%time\n",
    "\n",
    "from adlfs import AzureBlobFileSystem\n",
    "\n",
    "\n",
    "import time\n",
    "\n",
    "\n",
    "\n",
    "import json\n",
    "import pandas\n",
    "import pandas as pd\n",
    "from tqdm import tqdm\n",
    "\n",
    "from common.schemas.pyarrow_schema import tagging_schema\n",
    "from common.storage.azure_file_storage import AzureFileStorageAdapter\n",
    "from common.captioning.azure_descriptions import AzureCaption\n",
    "from common.schemas.pyarrow_schema import schema\n",
    "from common.functions.functions import Functions\n",
    "\n",
    "tqdm.pandas(desc=\"Progress\")\n",
    "file_system: AzureBlobFileSystem = AzureFileStorageAdapter('data').get_file_storage()\n",
    "\n",
    "functions: Functions = Functions()\n",
    "\n",
    "caption: AzureCaption = AzureCaption(file_system)"
   ]
  },
  {
   "cell_type": "code",
   "execution_count": 3,
   "metadata": {
    "collapsed": false,
    "ExecuteTime": {
     "end_time": "2023-05-17T19:59:05.914804100Z",
     "start_time": "2023-05-17T19:59:00.497907400Z"
    }
   },
   "outputs": [
    {
     "data": {
      "text/plain": "(19721, 15)"
     },
     "metadata": {},
     "output_type": "display_data"
    },
    {
     "data": {
      "text/plain": "              id         subreddit           author   \nid                                                    \n1013bdt  1013bdt          AmIhotAF      RaulDea9286  \\\n105mekt  105mekt          AmIhotAF         lindaniz   \n105qvgl  105qvgl          AmIhotAF      CaitVLove11   \n105rpcj  105rpcj          AmIhotAF  Flashy-Desk1858   \n105styc  105styc          AmIhotAF     Gizzygirl127   \n...          ...               ...              ...   \n13j46r0  13j46r0              DLAH       Optimus141   \n13j4uk3  13j4uk3              DLAH   Thin_Data_2134   \n13itj75  13itj75  bathandbodyworks         meg_mann   \n13j1knz  13j1knz  bathandbodyworks   thirtypancakes   \n13j2t3f  13j2t3f  bathandbodyworks       therealdeb   \n\n                                                     title   \nid                                                           \n1013bdt                                      36F - ITALIAN  \\\n105mekt     interesting in good forward relationship (f24)   \n105qvgl                          Laughing is my favorite 😆   \n105rpcj           [f22] What do you think when you see me?   \n105styc                           Low key… still bangable?   \n...                                                    ...   \n13j46r0                         Tanned skin and white toes   \n13j4uk3                                             DLAHx4   \n13itj75  Small haul! It’s been quite a while since I’ve...   \n13j1knz     Mini haul from the sales b&bw had last week! 😍   \n13j2t3f  Sad not to see ‘Sunlit Mountains’ on this year...   \n\n                                                   caption   \nid                                                           \n1013bdt            arafed image of a woman in a bikini top  \\\n105mekt  a close up of a woman with red hair and a whit...   \n105qvgl  a woman in a blue tank top and shorts is smili...   \n105rpcj    a woman in a blue bikini top and a blue bra top   \n105styc  smiling woman sitting on couch with remote con...   \n...                                                    ...   \n13j46r0  araffe woman in a brown dress sitting on a whi...   \n13j4uk3  three women in white dresses posing for a pict...   \n13itj75  a close up of a bottle of body wash and a bott...   \n13j1knz  there are many different types of perfumes on ...   \n13j2t3f          a close up of a jar of candles on a table   \n\n                                     hash   \nid                                          \n1013bdt  7c0d158cba8654ef1c635cbc5471d597  \\\n105mekt  ba4a0962cca2266a741e1e1700589c04   \n105qvgl  27bfe82c37314a0bcf02ab72eaf3a9e5   \n105rpcj  329eb42b8267fa1cc2980da8e48bcef1   \n105styc  6d555943be4fbc21ff92417c6f582298   \n...                                   ...   \n13j46r0  03c478889ea9580f5dfb14e56448b96f   \n13j4uk3  4ad5d6bd50df82a56a7981a390a73a0f   \n13itj75  d37961f6bc630168919105e39c948611   \n13j1knz  60e26415ae3e6f10d56afb14d803dab8   \n13j2t3f  c483c1ba0013df575c69c741e47fec33   \n\n                                                 permalink   \nid                                                           \n1013bdt          /r/AmIhotAF/comments/1013bdt/36f_italian/  \\\n105mekt  /r/AmIhotAF/comments/105mekt/interesting_in_go...   \n105qvgl  /r/AmIhotAF/comments/105qvgl/laughing_is_my_fa...   \n105rpcj  /r/AmIhotAF/comments/105rpcj/f22_what_do_you_t...   \n105styc  /r/AmIhotAF/comments/105styc/low_key_still_ban...   \n...                                                    ...   \n13j46r0  /r/DLAH/comments/13j46r0/tanned_skin_and_white...   \n13j4uk3                   /r/DLAH/comments/13j4uk3/dlahx4/   \n13itj75  /r/bathandbodyworks/comments/13itj75/small_hau...   \n13j1knz  /r/bathandbodyworks/comments/13j1knz/mini_haul...   \n13j2t3f  /r/bathandbodyworks/comments/13j2t3f/sad_not_t...   \n\n                                original_url   image_name   \nid                                                          \n1013bdt  https://i.redd.it/bg0wwdlt5k9a1.jpg  1013bdt.jpg  \\\n105mekt  https://i.redd.it/4avjshsz8naa1.jpg  105mekt.jpg   \n105qvgl  https://i.redd.it/2pulzr0lxmaa1.jpg  105qvgl.jpg   \n105rpcj  https://i.redd.it/rz68pf934naa1.jpg  105rpcj.jpg   \n105styc  https://i.redd.it/aiaxxoz9uoaa1.jpg  105styc.jpg   \n...                                      ...          ...   \n13j46r0  https://i.redd.it/7ppevdffd80b1.jpg  13j46r0.jpg   \n13j4uk3  https://i.redd.it/joexlbl9i80b1.jpg  13j4uk3.jpg   \n13itj75  https://i.redd.it/mbj4rd2rk50b1.jpg  13itj75.jpg   \n13j1knz  https://i.redd.it/2p18dcqfr70b1.jpg  13j1knz.jpg   \n13j2t3f  https://i.redd.it/disqdtvk280b1.jpg  13j2t3f.jpg   \n\n                           path                model  exists  curated  accept   \nid                                                                              \n1013bdt  data/image/1013bdt.jpg        SexyDiffusion    True     True    True  \\\n105mekt  data/image/105mekt.jpg        SexyDiffusion    True     True    True   \n105qvgl  data/image/105qvgl.jpg        SexyDiffusion    True     True    True   \n105rpcj  data/image/105rpcj.jpg        SexyDiffusion    True     True    True   \n105styc  data/image/105styc.jpg        SexyDiffusion    True     True    True   \n...                         ...                  ...     ...      ...     ...   \n13j46r0  data/image/13j46r0.jpg  PrettyGirlDiffusion    True     True    True   \n13j4uk3  data/image/13j4uk3.jpg  PrettyGirlDiffusion    True     True    True   \n13itj75  data/image/13itj75.jpg      CandleDiffusion    True     True    True   \n13j1knz  data/image/13j1knz.jpg      CandleDiffusion    True     True    True   \n13j2t3f  data/image/13j2t3f.jpg      CandleDiffusion    True     True    True   \n\n        tags  \nid            \n1013bdt   []  \n105mekt   []  \n105qvgl   []  \n105rpcj   []  \n105styc   []  \n...      ...  \n13j46r0   []  \n13j4uk3   []  \n13itj75   []  \n13j1knz   []  \n13j2t3f   []  \n\n[19721 rows x 15 columns]",
      "text/html": "<div>\n<style scoped>\n    .dataframe tbody tr th:only-of-type {\n        vertical-align: middle;\n    }\n\n    .dataframe tbody tr th {\n        vertical-align: top;\n    }\n\n    .dataframe thead th {\n        text-align: right;\n    }\n</style>\n<table border=\"1\" class=\"dataframe\">\n  <thead>\n    <tr style=\"text-align: right;\">\n      <th></th>\n      <th>id</th>\n      <th>subreddit</th>\n      <th>author</th>\n      <th>title</th>\n      <th>caption</th>\n      <th>hash</th>\n      <th>permalink</th>\n      <th>original_url</th>\n      <th>image_name</th>\n      <th>path</th>\n      <th>model</th>\n      <th>exists</th>\n      <th>curated</th>\n      <th>accept</th>\n      <th>tags</th>\n    </tr>\n    <tr>\n      <th>id</th>\n      <th></th>\n      <th></th>\n      <th></th>\n      <th></th>\n      <th></th>\n      <th></th>\n      <th></th>\n      <th></th>\n      <th></th>\n      <th></th>\n      <th></th>\n      <th></th>\n      <th></th>\n      <th></th>\n      <th></th>\n    </tr>\n  </thead>\n  <tbody>\n    <tr>\n      <th>1013bdt</th>\n      <td>1013bdt</td>\n      <td>AmIhotAF</td>\n      <td>RaulDea9286</td>\n      <td>36F - ITALIAN</td>\n      <td>arafed image of a woman in a bikini top</td>\n      <td>7c0d158cba8654ef1c635cbc5471d597</td>\n      <td>/r/AmIhotAF/comments/1013bdt/36f_italian/</td>\n      <td>https://i.redd.it/bg0wwdlt5k9a1.jpg</td>\n      <td>1013bdt.jpg</td>\n      <td>data/image/1013bdt.jpg</td>\n      <td>SexyDiffusion</td>\n      <td>True</td>\n      <td>True</td>\n      <td>True</td>\n      <td>[]</td>\n    </tr>\n    <tr>\n      <th>105mekt</th>\n      <td>105mekt</td>\n      <td>AmIhotAF</td>\n      <td>lindaniz</td>\n      <td>interesting in good forward relationship (f24)</td>\n      <td>a close up of a woman with red hair and a whit...</td>\n      <td>ba4a0962cca2266a741e1e1700589c04</td>\n      <td>/r/AmIhotAF/comments/105mekt/interesting_in_go...</td>\n      <td>https://i.redd.it/4avjshsz8naa1.jpg</td>\n      <td>105mekt.jpg</td>\n      <td>data/image/105mekt.jpg</td>\n      <td>SexyDiffusion</td>\n      <td>True</td>\n      <td>True</td>\n      <td>True</td>\n      <td>[]</td>\n    </tr>\n    <tr>\n      <th>105qvgl</th>\n      <td>105qvgl</td>\n      <td>AmIhotAF</td>\n      <td>CaitVLove11</td>\n      <td>Laughing is my favorite 😆</td>\n      <td>a woman in a blue tank top and shorts is smili...</td>\n      <td>27bfe82c37314a0bcf02ab72eaf3a9e5</td>\n      <td>/r/AmIhotAF/comments/105qvgl/laughing_is_my_fa...</td>\n      <td>https://i.redd.it/2pulzr0lxmaa1.jpg</td>\n      <td>105qvgl.jpg</td>\n      <td>data/image/105qvgl.jpg</td>\n      <td>SexyDiffusion</td>\n      <td>True</td>\n      <td>True</td>\n      <td>True</td>\n      <td>[]</td>\n    </tr>\n    <tr>\n      <th>105rpcj</th>\n      <td>105rpcj</td>\n      <td>AmIhotAF</td>\n      <td>Flashy-Desk1858</td>\n      <td>[f22] What do you think when you see me?</td>\n      <td>a woman in a blue bikini top and a blue bra top</td>\n      <td>329eb42b8267fa1cc2980da8e48bcef1</td>\n      <td>/r/AmIhotAF/comments/105rpcj/f22_what_do_you_t...</td>\n      <td>https://i.redd.it/rz68pf934naa1.jpg</td>\n      <td>105rpcj.jpg</td>\n      <td>data/image/105rpcj.jpg</td>\n      <td>SexyDiffusion</td>\n      <td>True</td>\n      <td>True</td>\n      <td>True</td>\n      <td>[]</td>\n    </tr>\n    <tr>\n      <th>105styc</th>\n      <td>105styc</td>\n      <td>AmIhotAF</td>\n      <td>Gizzygirl127</td>\n      <td>Low key… still bangable?</td>\n      <td>smiling woman sitting on couch with remote con...</td>\n      <td>6d555943be4fbc21ff92417c6f582298</td>\n      <td>/r/AmIhotAF/comments/105styc/low_key_still_ban...</td>\n      <td>https://i.redd.it/aiaxxoz9uoaa1.jpg</td>\n      <td>105styc.jpg</td>\n      <td>data/image/105styc.jpg</td>\n      <td>SexyDiffusion</td>\n      <td>True</td>\n      <td>True</td>\n      <td>True</td>\n      <td>[]</td>\n    </tr>\n    <tr>\n      <th>...</th>\n      <td>...</td>\n      <td>...</td>\n      <td>...</td>\n      <td>...</td>\n      <td>...</td>\n      <td>...</td>\n      <td>...</td>\n      <td>...</td>\n      <td>...</td>\n      <td>...</td>\n      <td>...</td>\n      <td>...</td>\n      <td>...</td>\n      <td>...</td>\n      <td>...</td>\n    </tr>\n    <tr>\n      <th>13j46r0</th>\n      <td>13j46r0</td>\n      <td>DLAH</td>\n      <td>Optimus141</td>\n      <td>Tanned skin and white toes</td>\n      <td>araffe woman in a brown dress sitting on a whi...</td>\n      <td>03c478889ea9580f5dfb14e56448b96f</td>\n      <td>/r/DLAH/comments/13j46r0/tanned_skin_and_white...</td>\n      <td>https://i.redd.it/7ppevdffd80b1.jpg</td>\n      <td>13j46r0.jpg</td>\n      <td>data/image/13j46r0.jpg</td>\n      <td>PrettyGirlDiffusion</td>\n      <td>True</td>\n      <td>True</td>\n      <td>True</td>\n      <td>[]</td>\n    </tr>\n    <tr>\n      <th>13j4uk3</th>\n      <td>13j4uk3</td>\n      <td>DLAH</td>\n      <td>Thin_Data_2134</td>\n      <td>DLAHx4</td>\n      <td>three women in white dresses posing for a pict...</td>\n      <td>4ad5d6bd50df82a56a7981a390a73a0f</td>\n      <td>/r/DLAH/comments/13j4uk3/dlahx4/</td>\n      <td>https://i.redd.it/joexlbl9i80b1.jpg</td>\n      <td>13j4uk3.jpg</td>\n      <td>data/image/13j4uk3.jpg</td>\n      <td>PrettyGirlDiffusion</td>\n      <td>True</td>\n      <td>True</td>\n      <td>True</td>\n      <td>[]</td>\n    </tr>\n    <tr>\n      <th>13itj75</th>\n      <td>13itj75</td>\n      <td>bathandbodyworks</td>\n      <td>meg_mann</td>\n      <td>Small haul! It’s been quite a while since I’ve...</td>\n      <td>a close up of a bottle of body wash and a bott...</td>\n      <td>d37961f6bc630168919105e39c948611</td>\n      <td>/r/bathandbodyworks/comments/13itj75/small_hau...</td>\n      <td>https://i.redd.it/mbj4rd2rk50b1.jpg</td>\n      <td>13itj75.jpg</td>\n      <td>data/image/13itj75.jpg</td>\n      <td>CandleDiffusion</td>\n      <td>True</td>\n      <td>True</td>\n      <td>True</td>\n      <td>[]</td>\n    </tr>\n    <tr>\n      <th>13j1knz</th>\n      <td>13j1knz</td>\n      <td>bathandbodyworks</td>\n      <td>thirtypancakes</td>\n      <td>Mini haul from the sales b&amp;bw had last week! 😍</td>\n      <td>there are many different types of perfumes on ...</td>\n      <td>60e26415ae3e6f10d56afb14d803dab8</td>\n      <td>/r/bathandbodyworks/comments/13j1knz/mini_haul...</td>\n      <td>https://i.redd.it/2p18dcqfr70b1.jpg</td>\n      <td>13j1knz.jpg</td>\n      <td>data/image/13j1knz.jpg</td>\n      <td>CandleDiffusion</td>\n      <td>True</td>\n      <td>True</td>\n      <td>True</td>\n      <td>[]</td>\n    </tr>\n    <tr>\n      <th>13j2t3f</th>\n      <td>13j2t3f</td>\n      <td>bathandbodyworks</td>\n      <td>therealdeb</td>\n      <td>Sad not to see ‘Sunlit Mountains’ on this year...</td>\n      <td>a close up of a jar of candles on a table</td>\n      <td>c483c1ba0013df575c69c741e47fec33</td>\n      <td>/r/bathandbodyworks/comments/13j2t3f/sad_not_t...</td>\n      <td>https://i.redd.it/disqdtvk280b1.jpg</td>\n      <td>13j2t3f.jpg</td>\n      <td>data/image/13j2t3f.jpg</td>\n      <td>CandleDiffusion</td>\n      <td>True</td>\n      <td>True</td>\n      <td>True</td>\n      <td>[]</td>\n    </tr>\n  </tbody>\n</table>\n<p>19721 rows × 15 columns</p>\n</div>"
     },
     "metadata": {},
     "output_type": "display_data"
    },
    {
     "name": "stdout",
     "output_type": "stream",
     "text": [
      "CPU times: total: 328 ms\n",
      "Wall time: 5.35 s\n"
     ]
    }
   ],
   "source": [
    "%%time\n",
    "\n",
    "curated_data = pandas.read_parquet(\"data/parquet/back.parquet\", engine=\"pyarrow\", filesystem=file_system)\n",
    "\n",
    "curated_data.set_index(\"id\", inplace=True, drop=False)\n",
    "\n",
    "filtered = curated_data.loc[curated_data[\"accept\"] == True, schema.names]\n",
    "\n",
    "filtered.dropna(inplace=True)\n",
    "\n",
    "display(filtered.shape)\n",
    "\n",
    "display(filtered)"
   ]
  },
  {
   "cell_type": "code",
   "execution_count": 4,
   "metadata": {
    "collapsed": false,
    "ExecuteTime": {
     "end_time": "2023-05-17T19:59:06.103150200Z",
     "start_time": "2023-05-17T19:59:05.836228300Z"
    }
   },
   "outputs": [
    {
     "name": "stdout",
     "output_type": "stream",
     "text": [
      "CPU times: total: 0 ns\n",
      "Wall time: 0 ns\n"
     ]
    }
   ],
   "source": [
    "%%time\n",
    "\n",
    "sources = [\n",
    "\t{\"name\": \"CityDiffusion\", \"data\": [\"CityPorn\"]},\n",
    "\t{\"name\": \"NatureDiffusion\", \"data\": [\"EarthPorn\"]},\n",
    "\t{\"name\": \"CosmicDiffusion\", \"data\": [\"spaceporn\"]},\n",
    "\t{\"name\": \"ITAPDiffusion\", \"data\": [\"itookapicture\"]},\n",
    "\t{\"name\": \"MemeDiffusion\", \"data\": [\"memes\"]},\n",
    "\t{\"name\": \"TTTDiffusion\", \"data\": [\"trippinthroughtime\"]},\n",
    "\t{\"name\": \"WallStreetDiffusion\", \"data\": [\"wallstreetbets\"]},\n",
    "\t{\"name\": \"SexyDiffusion\", \"data\": [\"selfies\", \"Amicute\", \"amihot\", \"AmIhotAF\", \"HotGirlNextDoor\"]},\n",
    "\t{\"name\": \"FatSquirrelDiffusion\", \"data\": [\"fatsquirrelhate\"]},\n",
    "\t{\"name\": \"CelebrityDiffusion\", \"data\": [\"celebrities\"]},\n",
    "\t{\"name\": \"OldLadyDiffusion\", \"data\": [\"oldladiesbakingpies\"]},\n",
    "\t{\"name\": \"SWFPetite\", \"data\": [\"sfwpetite\"]},\n",
    "\t{\"name\": \"SFWMilfs\", \"data\": [\"cougars_and_milfs_sfw\"]},\n",
    "\t{\"name\": \"RedHeadDiffusion\", \"data\": [\"SFWRedheads\"]},\n",
    "\t{\"name\": \"NextDoorGirlsDiffusion\", \"data\": [\"SFWNextDoorGirls\"]},\n",
    "\t{\"name\": \"SexyAsianDiffusion\",\"data\": [\"realasians\", \"KoreanHotties\", \"prettyasiangirls\", \"AsianOfficeLady\", \"AsianInvasion\",\"AesPleasingAsianGirls\"]},\n",
    "\t{\"name\": \"MildlyPenisDiffusion\", \"data\": [\"mildlypenis\"]},\n",
    "\t{\"name\": \"PrettyGirlDiffusion\",\"data\": [\"sexygirls\", \"PrettyGirls\", \"gentlemanboners\", \"hotofficegirls\", \"tightdresses\", \"DLAH\"]},\n",
    "\t{\"name\": \"CandleDiffusion\", \"data\": [\"bathandbodyworks\"]}\n",
    "]\n",
    "sources_df = pd.DataFrame.from_records(sources)"
   ]
  },
  {
   "cell_type": "code",
   "execution_count": 5,
   "metadata": {
    "collapsed": false,
    "ExecuteTime": {
     "end_time": "2023-05-17T19:59:15.627336600Z",
     "start_time": "2023-05-17T19:59:05.914804100Z"
    }
   },
   "outputs": [
    {
     "data": {
      "text/plain": "              id         subreddit           author   \nid                                                    \n1013bdt  1013bdt          AmIhotAF      RaulDea9286  \\\n105mekt  105mekt          AmIhotAF         lindaniz   \n105qvgl  105qvgl          AmIhotAF      CaitVLove11   \n105rpcj  105rpcj          AmIhotAF  Flashy-Desk1858   \n105styc  105styc          AmIhotAF     Gizzygirl127   \n...          ...               ...              ...   \n13j46r0  13j46r0              DLAH       Optimus141   \n13j4uk3  13j4uk3              DLAH   Thin_Data_2134   \n13itj75  13itj75  bathandbodyworks         meg_mann   \n13j1knz  13j1knz  bathandbodyworks   thirtypancakes   \n13j2t3f  13j2t3f  bathandbodyworks       therealdeb   \n\n                                                     title   \nid                                                           \n1013bdt                                      36F - ITALIAN  \\\n105mekt     interesting in good forward relationship (f24)   \n105qvgl                          Laughing is my favorite 😆   \n105rpcj           [f22] What do you think when you see me?   \n105styc                           Low key… still bangable?   \n...                                                    ...   \n13j46r0                         Tanned skin and white toes   \n13j4uk3                                             DLAHx4   \n13itj75  Small haul! It’s been quite a while since I’ve...   \n13j1knz     Mini haul from the sales b&bw had last week! 😍   \n13j2t3f  Sad not to see ‘Sunlit Mountains’ on this year...   \n\n                                                   caption   \nid                                                           \n1013bdt            arafed image of a woman in a bikini top  \\\n105mekt  a close up of a woman with red hair and a whit...   \n105qvgl  a woman in a blue tank top and shorts is smili...   \n105rpcj    a woman in a blue bikini top and a blue bra top   \n105styc  smiling woman sitting on couch with remote con...   \n...                                                    ...   \n13j46r0  araffe woman in a brown dress sitting on a whi...   \n13j4uk3  three women in white dresses posing for a pict...   \n13itj75  a close up of a bottle of body wash and a bott...   \n13j1knz  there are many different types of perfumes on ...   \n13j2t3f          a close up of a jar of candles on a table   \n\n                                     hash   \nid                                          \n1013bdt  7c0d158cba8654ef1c635cbc5471d597  \\\n105mekt  ba4a0962cca2266a741e1e1700589c04   \n105qvgl  27bfe82c37314a0bcf02ab72eaf3a9e5   \n105rpcj  329eb42b8267fa1cc2980da8e48bcef1   \n105styc  6d555943be4fbc21ff92417c6f582298   \n...                                   ...   \n13j46r0  03c478889ea9580f5dfb14e56448b96f   \n13j4uk3  4ad5d6bd50df82a56a7981a390a73a0f   \n13itj75  d37961f6bc630168919105e39c948611   \n13j1knz  60e26415ae3e6f10d56afb14d803dab8   \n13j2t3f  c483c1ba0013df575c69c741e47fec33   \n\n                                                 permalink   \nid                                                           \n1013bdt          /r/AmIhotAF/comments/1013bdt/36f_italian/  \\\n105mekt  /r/AmIhotAF/comments/105mekt/interesting_in_go...   \n105qvgl  /r/AmIhotAF/comments/105qvgl/laughing_is_my_fa...   \n105rpcj  /r/AmIhotAF/comments/105rpcj/f22_what_do_you_t...   \n105styc  /r/AmIhotAF/comments/105styc/low_key_still_ban...   \n...                                                    ...   \n13j46r0  /r/DLAH/comments/13j46r0/tanned_skin_and_white...   \n13j4uk3                   /r/DLAH/comments/13j4uk3/dlahx4/   \n13itj75  /r/bathandbodyworks/comments/13itj75/small_hau...   \n13j1knz  /r/bathandbodyworks/comments/13j1knz/mini_haul...   \n13j2t3f  /r/bathandbodyworks/comments/13j2t3f/sad_not_t...   \n\n                                original_url   image_name   \nid                                                          \n1013bdt  https://i.redd.it/bg0wwdlt5k9a1.jpg  1013bdt.jpg  \\\n105mekt  https://i.redd.it/4avjshsz8naa1.jpg  105mekt.jpg   \n105qvgl  https://i.redd.it/2pulzr0lxmaa1.jpg  105qvgl.jpg   \n105rpcj  https://i.redd.it/rz68pf934naa1.jpg  105rpcj.jpg   \n105styc  https://i.redd.it/aiaxxoz9uoaa1.jpg  105styc.jpg   \n...                                      ...          ...   \n13j46r0  https://i.redd.it/7ppevdffd80b1.jpg  13j46r0.jpg   \n13j4uk3  https://i.redd.it/joexlbl9i80b1.jpg  13j4uk3.jpg   \n13itj75  https://i.redd.it/mbj4rd2rk50b1.jpg  13itj75.jpg   \n13j1knz  https://i.redd.it/2p18dcqfr70b1.jpg  13j1knz.jpg   \n13j2t3f  https://i.redd.it/disqdtvk280b1.jpg  13j2t3f.jpg   \n\n                           path                model  exists  curated  accept   \nid                                                                              \n1013bdt  data/image/1013bdt.jpg        SexyDiffusion    True     True    True  \\\n105mekt  data/image/105mekt.jpg        SexyDiffusion    True     True    True   \n105qvgl  data/image/105qvgl.jpg        SexyDiffusion    True     True    True   \n105rpcj  data/image/105rpcj.jpg        SexyDiffusion    True     True    True   \n105styc  data/image/105styc.jpg        SexyDiffusion    True     True    True   \n...                         ...                  ...     ...      ...     ...   \n13j46r0  data/image/13j46r0.jpg  PrettyGirlDiffusion    True     True    True   \n13j4uk3  data/image/13j4uk3.jpg  PrettyGirlDiffusion    True     True    True   \n13itj75  data/image/13itj75.jpg      CandleDiffusion    True     True    True   \n13j1knz  data/image/13j1knz.jpg      CandleDiffusion    True     True    True   \n13j2t3f  data/image/13j2t3f.jpg      CandleDiffusion    True     True    True   \n\n        tags  \nid            \n1013bdt   []  \n105mekt   []  \n105qvgl   []  \n105rpcj   []  \n105styc   []  \n...      ...  \n13j46r0   []  \n13j4uk3   []  \n13itj75   []  \n13j1knz   []  \n13j2t3f   []  \n\n[18343 rows x 15 columns]",
      "text/html": "<div>\n<style scoped>\n    .dataframe tbody tr th:only-of-type {\n        vertical-align: middle;\n    }\n\n    .dataframe tbody tr th {\n        vertical-align: top;\n    }\n\n    .dataframe thead th {\n        text-align: right;\n    }\n</style>\n<table border=\"1\" class=\"dataframe\">\n  <thead>\n    <tr style=\"text-align: right;\">\n      <th></th>\n      <th>id</th>\n      <th>subreddit</th>\n      <th>author</th>\n      <th>title</th>\n      <th>caption</th>\n      <th>hash</th>\n      <th>permalink</th>\n      <th>original_url</th>\n      <th>image_name</th>\n      <th>path</th>\n      <th>model</th>\n      <th>exists</th>\n      <th>curated</th>\n      <th>accept</th>\n      <th>tags</th>\n    </tr>\n    <tr>\n      <th>id</th>\n      <th></th>\n      <th></th>\n      <th></th>\n      <th></th>\n      <th></th>\n      <th></th>\n      <th></th>\n      <th></th>\n      <th></th>\n      <th></th>\n      <th></th>\n      <th></th>\n      <th></th>\n      <th></th>\n      <th></th>\n    </tr>\n  </thead>\n  <tbody>\n    <tr>\n      <th>1013bdt</th>\n      <td>1013bdt</td>\n      <td>AmIhotAF</td>\n      <td>RaulDea9286</td>\n      <td>36F - ITALIAN</td>\n      <td>arafed image of a woman in a bikini top</td>\n      <td>7c0d158cba8654ef1c635cbc5471d597</td>\n      <td>/r/AmIhotAF/comments/1013bdt/36f_italian/</td>\n      <td>https://i.redd.it/bg0wwdlt5k9a1.jpg</td>\n      <td>1013bdt.jpg</td>\n      <td>data/image/1013bdt.jpg</td>\n      <td>SexyDiffusion</td>\n      <td>True</td>\n      <td>True</td>\n      <td>True</td>\n      <td>[]</td>\n    </tr>\n    <tr>\n      <th>105mekt</th>\n      <td>105mekt</td>\n      <td>AmIhotAF</td>\n      <td>lindaniz</td>\n      <td>interesting in good forward relationship (f24)</td>\n      <td>a close up of a woman with red hair and a whit...</td>\n      <td>ba4a0962cca2266a741e1e1700589c04</td>\n      <td>/r/AmIhotAF/comments/105mekt/interesting_in_go...</td>\n      <td>https://i.redd.it/4avjshsz8naa1.jpg</td>\n      <td>105mekt.jpg</td>\n      <td>data/image/105mekt.jpg</td>\n      <td>SexyDiffusion</td>\n      <td>True</td>\n      <td>True</td>\n      <td>True</td>\n      <td>[]</td>\n    </tr>\n    <tr>\n      <th>105qvgl</th>\n      <td>105qvgl</td>\n      <td>AmIhotAF</td>\n      <td>CaitVLove11</td>\n      <td>Laughing is my favorite 😆</td>\n      <td>a woman in a blue tank top and shorts is smili...</td>\n      <td>27bfe82c37314a0bcf02ab72eaf3a9e5</td>\n      <td>/r/AmIhotAF/comments/105qvgl/laughing_is_my_fa...</td>\n      <td>https://i.redd.it/2pulzr0lxmaa1.jpg</td>\n      <td>105qvgl.jpg</td>\n      <td>data/image/105qvgl.jpg</td>\n      <td>SexyDiffusion</td>\n      <td>True</td>\n      <td>True</td>\n      <td>True</td>\n      <td>[]</td>\n    </tr>\n    <tr>\n      <th>105rpcj</th>\n      <td>105rpcj</td>\n      <td>AmIhotAF</td>\n      <td>Flashy-Desk1858</td>\n      <td>[f22] What do you think when you see me?</td>\n      <td>a woman in a blue bikini top and a blue bra top</td>\n      <td>329eb42b8267fa1cc2980da8e48bcef1</td>\n      <td>/r/AmIhotAF/comments/105rpcj/f22_what_do_you_t...</td>\n      <td>https://i.redd.it/rz68pf934naa1.jpg</td>\n      <td>105rpcj.jpg</td>\n      <td>data/image/105rpcj.jpg</td>\n      <td>SexyDiffusion</td>\n      <td>True</td>\n      <td>True</td>\n      <td>True</td>\n      <td>[]</td>\n    </tr>\n    <tr>\n      <th>105styc</th>\n      <td>105styc</td>\n      <td>AmIhotAF</td>\n      <td>Gizzygirl127</td>\n      <td>Low key… still bangable?</td>\n      <td>smiling woman sitting on couch with remote con...</td>\n      <td>6d555943be4fbc21ff92417c6f582298</td>\n      <td>/r/AmIhotAF/comments/105styc/low_key_still_ban...</td>\n      <td>https://i.redd.it/aiaxxoz9uoaa1.jpg</td>\n      <td>105styc.jpg</td>\n      <td>data/image/105styc.jpg</td>\n      <td>SexyDiffusion</td>\n      <td>True</td>\n      <td>True</td>\n      <td>True</td>\n      <td>[]</td>\n    </tr>\n    <tr>\n      <th>...</th>\n      <td>...</td>\n      <td>...</td>\n      <td>...</td>\n      <td>...</td>\n      <td>...</td>\n      <td>...</td>\n      <td>...</td>\n      <td>...</td>\n      <td>...</td>\n      <td>...</td>\n      <td>...</td>\n      <td>...</td>\n      <td>...</td>\n      <td>...</td>\n      <td>...</td>\n    </tr>\n    <tr>\n      <th>13j46r0</th>\n      <td>13j46r0</td>\n      <td>DLAH</td>\n      <td>Optimus141</td>\n      <td>Tanned skin and white toes</td>\n      <td>araffe woman in a brown dress sitting on a whi...</td>\n      <td>03c478889ea9580f5dfb14e56448b96f</td>\n      <td>/r/DLAH/comments/13j46r0/tanned_skin_and_white...</td>\n      <td>https://i.redd.it/7ppevdffd80b1.jpg</td>\n      <td>13j46r0.jpg</td>\n      <td>data/image/13j46r0.jpg</td>\n      <td>PrettyGirlDiffusion</td>\n      <td>True</td>\n      <td>True</td>\n      <td>True</td>\n      <td>[]</td>\n    </tr>\n    <tr>\n      <th>13j4uk3</th>\n      <td>13j4uk3</td>\n      <td>DLAH</td>\n      <td>Thin_Data_2134</td>\n      <td>DLAHx4</td>\n      <td>three women in white dresses posing for a pict...</td>\n      <td>4ad5d6bd50df82a56a7981a390a73a0f</td>\n      <td>/r/DLAH/comments/13j4uk3/dlahx4/</td>\n      <td>https://i.redd.it/joexlbl9i80b1.jpg</td>\n      <td>13j4uk3.jpg</td>\n      <td>data/image/13j4uk3.jpg</td>\n      <td>PrettyGirlDiffusion</td>\n      <td>True</td>\n      <td>True</td>\n      <td>True</td>\n      <td>[]</td>\n    </tr>\n    <tr>\n      <th>13itj75</th>\n      <td>13itj75</td>\n      <td>bathandbodyworks</td>\n      <td>meg_mann</td>\n      <td>Small haul! It’s been quite a while since I’ve...</td>\n      <td>a close up of a bottle of body wash and a bott...</td>\n      <td>d37961f6bc630168919105e39c948611</td>\n      <td>/r/bathandbodyworks/comments/13itj75/small_hau...</td>\n      <td>https://i.redd.it/mbj4rd2rk50b1.jpg</td>\n      <td>13itj75.jpg</td>\n      <td>data/image/13itj75.jpg</td>\n      <td>CandleDiffusion</td>\n      <td>True</td>\n      <td>True</td>\n      <td>True</td>\n      <td>[]</td>\n    </tr>\n    <tr>\n      <th>13j1knz</th>\n      <td>13j1knz</td>\n      <td>bathandbodyworks</td>\n      <td>thirtypancakes</td>\n      <td>Mini haul from the sales b&amp;bw had last week! 😍</td>\n      <td>there are many different types of perfumes on ...</td>\n      <td>60e26415ae3e6f10d56afb14d803dab8</td>\n      <td>/r/bathandbodyworks/comments/13j1knz/mini_haul...</td>\n      <td>https://i.redd.it/2p18dcqfr70b1.jpg</td>\n      <td>13j1knz.jpg</td>\n      <td>data/image/13j1knz.jpg</td>\n      <td>CandleDiffusion</td>\n      <td>True</td>\n      <td>True</td>\n      <td>True</td>\n      <td>[]</td>\n    </tr>\n    <tr>\n      <th>13j2t3f</th>\n      <td>13j2t3f</td>\n      <td>bathandbodyworks</td>\n      <td>therealdeb</td>\n      <td>Sad not to see ‘Sunlit Mountains’ on this year...</td>\n      <td>a close up of a jar of candles on a table</td>\n      <td>c483c1ba0013df575c69c741e47fec33</td>\n      <td>/r/bathandbodyworks/comments/13j2t3f/sad_not_t...</td>\n      <td>https://i.redd.it/disqdtvk280b1.jpg</td>\n      <td>13j2t3f.jpg</td>\n      <td>data/image/13j2t3f.jpg</td>\n      <td>CandleDiffusion</td>\n      <td>True</td>\n      <td>True</td>\n      <td>True</td>\n      <td>[]</td>\n    </tr>\n  </tbody>\n</table>\n<p>18343 rows × 15 columns</p>\n</div>"
     },
     "metadata": {},
     "output_type": "display_data"
    }
   ],
   "source": [
    "filtered['model'] = filtered.apply(lambda x: functions.add_source(x, sources), axis=1)\n",
    "foo = filtered.loc[filtered['model'] != \"\"]\n",
    "foo.dropna()\n",
    "filtered = foo\n",
    "display(filtered)"
   ]
  },
  {
   "cell_type": "code",
   "execution_count": 6,
   "metadata": {
    "collapsed": false,
    "ExecuteTime": {
     "end_time": "2023-05-17T19:59:37.277095700Z",
     "start_time": "2023-05-17T19:59:15.511470900Z"
    }
   },
   "outputs": [
    {
     "ename": "ImportError",
     "evalue": "matplotlib is required for plotting when the default backend \"matplotlib\" is selected.",
     "output_type": "error",
     "traceback": [
      "\u001B[1;31m---------------------------------------------------------------------------\u001B[0m",
      "\u001B[1;31mImportError\u001B[0m                               Traceback (most recent call last)",
      "File \u001B[1;32m<timed exec>:2\u001B[0m\n",
      "File \u001B[1;32m~\\PycharmProjects\\simple-image-collection\\venv\\lib\\site-packages\\pandas\\plotting\\_core.py:1136\u001B[0m, in \u001B[0;36mPlotAccessor.bar\u001B[1;34m(self, x, y, **kwargs)\u001B[0m\n\u001B[0;32m   1046\u001B[0m \u001B[38;5;129m@Appender\u001B[39m(\n\u001B[0;32m   1047\u001B[0m \u001B[38;5;250m    \u001B[39m\u001B[38;5;124;03m\"\"\"\u001B[39;00m\n\u001B[0;32m   1048\u001B[0m \u001B[38;5;124;03m    See Also\u001B[39;00m\n\u001B[1;32m   (...)\u001B[0m\n\u001B[0;32m   1125\u001B[0m     \u001B[38;5;28mself\u001B[39m, x\u001B[38;5;241m=\u001B[39m\u001B[38;5;28;01mNone\u001B[39;00m, y\u001B[38;5;241m=\u001B[39m\u001B[38;5;28;01mNone\u001B[39;00m, \u001B[38;5;241m*\u001B[39m\u001B[38;5;241m*\u001B[39mkwargs\n\u001B[0;32m   1126\u001B[0m ) \u001B[38;5;241m-\u001B[39m\u001B[38;5;241m>\u001B[39m PlotAccessor:\n\u001B[0;32m   1127\u001B[0m \u001B[38;5;250m    \u001B[39m\u001B[38;5;124;03m\"\"\"\u001B[39;00m\n\u001B[0;32m   1128\u001B[0m \u001B[38;5;124;03m    Vertical bar plot.\u001B[39;00m\n\u001B[0;32m   1129\u001B[0m \n\u001B[1;32m   (...)\u001B[0m\n\u001B[0;32m   1134\u001B[0m \u001B[38;5;124;03m    other axis represents a measured value.\u001B[39;00m\n\u001B[0;32m   1135\u001B[0m \u001B[38;5;124;03m    \"\"\"\u001B[39;00m\n\u001B[1;32m-> 1136\u001B[0m     \u001B[38;5;28;01mreturn\u001B[39;00m \u001B[38;5;28mself\u001B[39m(kind\u001B[38;5;241m=\u001B[39m\u001B[38;5;124m\"\u001B[39m\u001B[38;5;124mbar\u001B[39m\u001B[38;5;124m\"\u001B[39m, x\u001B[38;5;241m=\u001B[39mx, y\u001B[38;5;241m=\u001B[39my, \u001B[38;5;241m*\u001B[39m\u001B[38;5;241m*\u001B[39mkwargs)\n",
      "File \u001B[1;32m~\\PycharmProjects\\simple-image-collection\\venv\\lib\\site-packages\\pandas\\plotting\\_core.py:895\u001B[0m, in \u001B[0;36mPlotAccessor.__call__\u001B[1;34m(self, *args, **kwargs)\u001B[0m\n\u001B[0;32m    894\u001B[0m \u001B[38;5;28;01mdef\u001B[39;00m \u001B[38;5;21m__call__\u001B[39m(\u001B[38;5;28mself\u001B[39m, \u001B[38;5;241m*\u001B[39margs, \u001B[38;5;241m*\u001B[39m\u001B[38;5;241m*\u001B[39mkwargs):\n\u001B[1;32m--> 895\u001B[0m     plot_backend \u001B[38;5;241m=\u001B[39m \u001B[43m_get_plot_backend\u001B[49m\u001B[43m(\u001B[49m\u001B[43mkwargs\u001B[49m\u001B[38;5;241;43m.\u001B[39;49m\u001B[43mpop\u001B[49m\u001B[43m(\u001B[49m\u001B[38;5;124;43m\"\u001B[39;49m\u001B[38;5;124;43mbackend\u001B[39;49m\u001B[38;5;124;43m\"\u001B[39;49m\u001B[43m,\u001B[49m\u001B[43m \u001B[49m\u001B[38;5;28;43;01mNone\u001B[39;49;00m\u001B[43m)\u001B[49m\u001B[43m)\u001B[49m\n\u001B[0;32m    897\u001B[0m     x, y, kind, kwargs \u001B[38;5;241m=\u001B[39m \u001B[38;5;28mself\u001B[39m\u001B[38;5;241m.\u001B[39m_get_call_args(\n\u001B[0;32m    898\u001B[0m         plot_backend\u001B[38;5;241m.\u001B[39m\u001B[38;5;18m__name__\u001B[39m, \u001B[38;5;28mself\u001B[39m\u001B[38;5;241m.\u001B[39m_parent, args, kwargs\n\u001B[0;32m    899\u001B[0m     )\n\u001B[0;32m    901\u001B[0m     kind \u001B[38;5;241m=\u001B[39m \u001B[38;5;28mself\u001B[39m\u001B[38;5;241m.\u001B[39m_kind_aliases\u001B[38;5;241m.\u001B[39mget(kind, kind)\n",
      "File \u001B[1;32m~\\PycharmProjects\\simple-image-collection\\venv\\lib\\site-packages\\pandas\\plotting\\_core.py:1862\u001B[0m, in \u001B[0;36m_get_plot_backend\u001B[1;34m(backend)\u001B[0m\n\u001B[0;32m   1859\u001B[0m \u001B[38;5;28;01mif\u001B[39;00m backend_str \u001B[38;5;129;01min\u001B[39;00m _backends:\n\u001B[0;32m   1860\u001B[0m     \u001B[38;5;28;01mreturn\u001B[39;00m _backends[backend_str]\n\u001B[1;32m-> 1862\u001B[0m module \u001B[38;5;241m=\u001B[39m \u001B[43m_load_backend\u001B[49m\u001B[43m(\u001B[49m\u001B[43mbackend_str\u001B[49m\u001B[43m)\u001B[49m\n\u001B[0;32m   1863\u001B[0m _backends[backend_str] \u001B[38;5;241m=\u001B[39m module\n\u001B[0;32m   1864\u001B[0m \u001B[38;5;28;01mreturn\u001B[39;00m module\n",
      "File \u001B[1;32m~\\PycharmProjects\\simple-image-collection\\venv\\lib\\site-packages\\pandas\\plotting\\_core.py:1794\u001B[0m, in \u001B[0;36m_load_backend\u001B[1;34m(backend)\u001B[0m\n\u001B[0;32m   1792\u001B[0m         module \u001B[38;5;241m=\u001B[39m importlib\u001B[38;5;241m.\u001B[39mimport_module(\u001B[38;5;124m\"\u001B[39m\u001B[38;5;124mpandas.plotting._matplotlib\u001B[39m\u001B[38;5;124m\"\u001B[39m)\n\u001B[0;32m   1793\u001B[0m     \u001B[38;5;28;01mexcept\u001B[39;00m \u001B[38;5;167;01mImportError\u001B[39;00m:\n\u001B[1;32m-> 1794\u001B[0m         \u001B[38;5;28;01mraise\u001B[39;00m \u001B[38;5;167;01mImportError\u001B[39;00m(\n\u001B[0;32m   1795\u001B[0m             \u001B[38;5;124m\"\u001B[39m\u001B[38;5;124mmatplotlib is required for plotting when the \u001B[39m\u001B[38;5;124m\"\u001B[39m\n\u001B[0;32m   1796\u001B[0m             \u001B[38;5;124m'\u001B[39m\u001B[38;5;124mdefault backend \u001B[39m\u001B[38;5;124m\"\u001B[39m\u001B[38;5;124mmatplotlib\u001B[39m\u001B[38;5;124m\"\u001B[39m\u001B[38;5;124m is selected.\u001B[39m\u001B[38;5;124m'\u001B[39m\n\u001B[0;32m   1797\u001B[0m         ) \u001B[38;5;28;01mfrom\u001B[39;00m \u001B[38;5;28;01mNone\u001B[39;00m\n\u001B[0;32m   1798\u001B[0m     \u001B[38;5;28;01mreturn\u001B[39;00m module\n\u001B[0;32m   1800\u001B[0m found_backend \u001B[38;5;241m=\u001B[39m \u001B[38;5;28;01mFalse\u001B[39;00m\n",
      "\u001B[1;31mImportError\u001B[0m: matplotlib is required for plotting when the default backend \"matplotlib\" is selected."
     ]
    }
   ],
   "source": [
    "%%time\n",
    "\n",
    "group = filtered[[\"id\", \"subreddit\"]].groupby(\"subreddit\").count().sort_values(by=\"id\", ascending=False)\n",
    "plot = group.plot.bar(figsize=(20, 10), title=\"Subreddits with most posts\", legend=True)\n",
    "display(plot)"
   ]
  },
  {
   "cell_type": "code",
   "execution_count": 7,
   "metadata": {
    "collapsed": false,
    "ExecuteTime": {
     "end_time": "2023-05-17T19:59:38.557477100Z",
     "start_time": "2023-05-17T19:59:37.299558600Z"
    }
   },
   "outputs": [
    {
     "ename": "ImportError",
     "evalue": "matplotlib is required for plotting when the default backend \"matplotlib\" is selected.",
     "output_type": "error",
     "traceback": [
      "\u001B[1;31m---------------------------------------------------------------------------\u001B[0m",
      "\u001B[1;31mImportError\u001B[0m                               Traceback (most recent call last)",
      "File \u001B[1;32m<timed exec>:2\u001B[0m\n",
      "File \u001B[1;32m~\\PycharmProjects\\simple-image-collection\\venv\\lib\\site-packages\\pandas\\plotting\\_core.py:1136\u001B[0m, in \u001B[0;36mPlotAccessor.bar\u001B[1;34m(self, x, y, **kwargs)\u001B[0m\n\u001B[0;32m   1046\u001B[0m \u001B[38;5;129m@Appender\u001B[39m(\n\u001B[0;32m   1047\u001B[0m \u001B[38;5;250m    \u001B[39m\u001B[38;5;124;03m\"\"\"\u001B[39;00m\n\u001B[0;32m   1048\u001B[0m \u001B[38;5;124;03m    See Also\u001B[39;00m\n\u001B[1;32m   (...)\u001B[0m\n\u001B[0;32m   1125\u001B[0m     \u001B[38;5;28mself\u001B[39m, x\u001B[38;5;241m=\u001B[39m\u001B[38;5;28;01mNone\u001B[39;00m, y\u001B[38;5;241m=\u001B[39m\u001B[38;5;28;01mNone\u001B[39;00m, \u001B[38;5;241m*\u001B[39m\u001B[38;5;241m*\u001B[39mkwargs\n\u001B[0;32m   1126\u001B[0m ) \u001B[38;5;241m-\u001B[39m\u001B[38;5;241m>\u001B[39m PlotAccessor:\n\u001B[0;32m   1127\u001B[0m \u001B[38;5;250m    \u001B[39m\u001B[38;5;124;03m\"\"\"\u001B[39;00m\n\u001B[0;32m   1128\u001B[0m \u001B[38;5;124;03m    Vertical bar plot.\u001B[39;00m\n\u001B[0;32m   1129\u001B[0m \n\u001B[1;32m   (...)\u001B[0m\n\u001B[0;32m   1134\u001B[0m \u001B[38;5;124;03m    other axis represents a measured value.\u001B[39;00m\n\u001B[0;32m   1135\u001B[0m \u001B[38;5;124;03m    \"\"\"\u001B[39;00m\n\u001B[1;32m-> 1136\u001B[0m     \u001B[38;5;28;01mreturn\u001B[39;00m \u001B[38;5;28mself\u001B[39m(kind\u001B[38;5;241m=\u001B[39m\u001B[38;5;124m\"\u001B[39m\u001B[38;5;124mbar\u001B[39m\u001B[38;5;124m\"\u001B[39m, x\u001B[38;5;241m=\u001B[39mx, y\u001B[38;5;241m=\u001B[39my, \u001B[38;5;241m*\u001B[39m\u001B[38;5;241m*\u001B[39mkwargs)\n",
      "File \u001B[1;32m~\\PycharmProjects\\simple-image-collection\\venv\\lib\\site-packages\\pandas\\plotting\\_core.py:895\u001B[0m, in \u001B[0;36mPlotAccessor.__call__\u001B[1;34m(self, *args, **kwargs)\u001B[0m\n\u001B[0;32m    894\u001B[0m \u001B[38;5;28;01mdef\u001B[39;00m \u001B[38;5;21m__call__\u001B[39m(\u001B[38;5;28mself\u001B[39m, \u001B[38;5;241m*\u001B[39margs, \u001B[38;5;241m*\u001B[39m\u001B[38;5;241m*\u001B[39mkwargs):\n\u001B[1;32m--> 895\u001B[0m     plot_backend \u001B[38;5;241m=\u001B[39m \u001B[43m_get_plot_backend\u001B[49m\u001B[43m(\u001B[49m\u001B[43mkwargs\u001B[49m\u001B[38;5;241;43m.\u001B[39;49m\u001B[43mpop\u001B[49m\u001B[43m(\u001B[49m\u001B[38;5;124;43m\"\u001B[39;49m\u001B[38;5;124;43mbackend\u001B[39;49m\u001B[38;5;124;43m\"\u001B[39;49m\u001B[43m,\u001B[49m\u001B[43m \u001B[49m\u001B[38;5;28;43;01mNone\u001B[39;49;00m\u001B[43m)\u001B[49m\u001B[43m)\u001B[49m\n\u001B[0;32m    897\u001B[0m     x, y, kind, kwargs \u001B[38;5;241m=\u001B[39m \u001B[38;5;28mself\u001B[39m\u001B[38;5;241m.\u001B[39m_get_call_args(\n\u001B[0;32m    898\u001B[0m         plot_backend\u001B[38;5;241m.\u001B[39m\u001B[38;5;18m__name__\u001B[39m, \u001B[38;5;28mself\u001B[39m\u001B[38;5;241m.\u001B[39m_parent, args, kwargs\n\u001B[0;32m    899\u001B[0m     )\n\u001B[0;32m    901\u001B[0m     kind \u001B[38;5;241m=\u001B[39m \u001B[38;5;28mself\u001B[39m\u001B[38;5;241m.\u001B[39m_kind_aliases\u001B[38;5;241m.\u001B[39mget(kind, kind)\n",
      "File \u001B[1;32m~\\PycharmProjects\\simple-image-collection\\venv\\lib\\site-packages\\pandas\\plotting\\_core.py:1862\u001B[0m, in \u001B[0;36m_get_plot_backend\u001B[1;34m(backend)\u001B[0m\n\u001B[0;32m   1859\u001B[0m \u001B[38;5;28;01mif\u001B[39;00m backend_str \u001B[38;5;129;01min\u001B[39;00m _backends:\n\u001B[0;32m   1860\u001B[0m     \u001B[38;5;28;01mreturn\u001B[39;00m _backends[backend_str]\n\u001B[1;32m-> 1862\u001B[0m module \u001B[38;5;241m=\u001B[39m \u001B[43m_load_backend\u001B[49m\u001B[43m(\u001B[49m\u001B[43mbackend_str\u001B[49m\u001B[43m)\u001B[49m\n\u001B[0;32m   1863\u001B[0m _backends[backend_str] \u001B[38;5;241m=\u001B[39m module\n\u001B[0;32m   1864\u001B[0m \u001B[38;5;28;01mreturn\u001B[39;00m module\n",
      "File \u001B[1;32m~\\PycharmProjects\\simple-image-collection\\venv\\lib\\site-packages\\pandas\\plotting\\_core.py:1794\u001B[0m, in \u001B[0;36m_load_backend\u001B[1;34m(backend)\u001B[0m\n\u001B[0;32m   1792\u001B[0m         module \u001B[38;5;241m=\u001B[39m importlib\u001B[38;5;241m.\u001B[39mimport_module(\u001B[38;5;124m\"\u001B[39m\u001B[38;5;124mpandas.plotting._matplotlib\u001B[39m\u001B[38;5;124m\"\u001B[39m)\n\u001B[0;32m   1793\u001B[0m     \u001B[38;5;28;01mexcept\u001B[39;00m \u001B[38;5;167;01mImportError\u001B[39;00m:\n\u001B[1;32m-> 1794\u001B[0m         \u001B[38;5;28;01mraise\u001B[39;00m \u001B[38;5;167;01mImportError\u001B[39;00m(\n\u001B[0;32m   1795\u001B[0m             \u001B[38;5;124m\"\u001B[39m\u001B[38;5;124mmatplotlib is required for plotting when the \u001B[39m\u001B[38;5;124m\"\u001B[39m\n\u001B[0;32m   1796\u001B[0m             \u001B[38;5;124m'\u001B[39m\u001B[38;5;124mdefault backend \u001B[39m\u001B[38;5;124m\"\u001B[39m\u001B[38;5;124mmatplotlib\u001B[39m\u001B[38;5;124m\"\u001B[39m\u001B[38;5;124m is selected.\u001B[39m\u001B[38;5;124m'\u001B[39m\n\u001B[0;32m   1797\u001B[0m         ) \u001B[38;5;28;01mfrom\u001B[39;00m \u001B[38;5;28;01mNone\u001B[39;00m\n\u001B[0;32m   1798\u001B[0m     \u001B[38;5;28;01mreturn\u001B[39;00m module\n\u001B[0;32m   1800\u001B[0m found_backend \u001B[38;5;241m=\u001B[39m \u001B[38;5;28;01mFalse\u001B[39;00m\n",
      "\u001B[1;31mImportError\u001B[0m: matplotlib is required for plotting when the default backend \"matplotlib\" is selected."
     ]
    }
   ],
   "source": [
    "%%time\n",
    "\n",
    "group = filtered[[\"id\", \"model\", \"subreddit\"]].groupby([\"model\"]).count().sort_values(by=\"id\", ascending=False)\n",
    "plot_1 = group.plot.bar(figsize=(20, 10), title=\"Models with most images\", legend=True)\n",
    "display(plot_1)"
   ]
  },
  {
   "cell_type": "code",
   "execution_count": 8,
   "metadata": {
    "collapsed": false,
    "ExecuteTime": {
     "end_time": "2023-05-17T19:59:39.521152900Z",
     "start_time": "2023-05-17T19:59:38.559480Z"
    }
   },
   "outputs": [
    {
     "name": "stderr",
     "output_type": "stream",
     "text": [
      "C:\\Users\\ajsta\\AppData\\Local\\Temp\\ipykernel_2848\\2056004052.py:2: SettingWithCopyWarning: \n",
      "A value is trying to be set on a copy of a slice from a DataFrame\n",
      "\n",
      "See the caveats in the documentation: https://pandas.pydata.org/pandas-docs/stable/user_guide/indexing.html#returning-a-view-versus-a-copy\n",
      "  dropped = bar.dropna(inplace=True)\n"
     ]
    },
    {
     "data": {
      "text/plain": "(2263, 15)"
     },
     "metadata": {},
     "output_type": "display_data"
    },
    {
     "data": {
      "text/plain": "              id         subreddit           author   \nid                                                    \n1013bdt  1013bdt          AmIhotAF      RaulDea9286  \\\n105mekt  105mekt          AmIhotAF         lindaniz   \n105qvgl  105qvgl          AmIhotAF      CaitVLove11   \n105rpcj  105rpcj          AmIhotAF  Flashy-Desk1858   \n105styc  105styc          AmIhotAF     Gizzygirl127   \n...          ...               ...              ...   \n13j2sd6  13j2sd6        realasians            lakdh   \n13ivr6i  13ivr6i  prettyasiangirls       ReggieWarr   \n13ixnk0  13ixnk0  prettyasiangirls    RightBachAtYa   \n13j45hw  13j45hw  prettyasiangirls  fullnameqwertyu   \n13j63ca  13j63ca  prettyasiangirls        nicestarz   \n\n                                                  title   \nid                                                        \n1013bdt                                   36F - ITALIAN  \\\n105mekt  interesting in good forward relationship (f24)   \n105qvgl                       Laughing is my favorite 😆   \n105rpcj        [f22] What do you think when you see me?   \n105styc                        Low key… still bangable?   \n...                                                 ...   \n13j2sd6                        Anyone likes this cutie?   \n13ivr6i                          Booty Shorts and Boots   \n13ixnk0         Striped dress shirt and white underwear   \n13j45hw                                   Two necklaces   \n13j63ca                                          Beauty   \n\n                                                   caption   \nid                                                           \n1013bdt            arafed image of a woman in a bikini top  \\\n105mekt  a close up of a woman with red hair and a whit...   \n105qvgl  a woman in a blue tank top and shorts is smili...   \n105rpcj    a woman in a blue bikini top and a blue bra top   \n105styc  smiling woman sitting on couch with remote con...   \n...                                                    ...   \n13j2sd6  araffe woman in a skirt posing for a picture i...   \n13ivr6i  there is a woman leaning on a railing with a h...   \n13ixnk0  arafed woman in a white underwear posing for a...   \n13j45hw  arafed asian woman laying on a bed with a sky ...   \n13j63ca  there is a woman standing in front of a window...   \n\n                                     hash   \nid                                          \n1013bdt  7c0d158cba8654ef1c635cbc5471d597  \\\n105mekt  ba4a0962cca2266a741e1e1700589c04   \n105qvgl  27bfe82c37314a0bcf02ab72eaf3a9e5   \n105rpcj  329eb42b8267fa1cc2980da8e48bcef1   \n105styc  6d555943be4fbc21ff92417c6f582298   \n...                                   ...   \n13j2sd6  3cfff5fbae7c3a153334156879c2233d   \n13ivr6i  44c3f9066e339742ccf949af35781de1   \n13ixnk0  0bb02e71a351b8656ee59b552650aab6   \n13j45hw  bfe5684c53158318d97bc620ebb334db   \n13j63ca  632fc1d0d16bbdd76033cc47b1ceb09a   \n\n                                                 permalink   \nid                                                           \n1013bdt          /r/AmIhotAF/comments/1013bdt/36f_italian/  \\\n105mekt  /r/AmIhotAF/comments/105mekt/interesting_in_go...   \n105qvgl  /r/AmIhotAF/comments/105qvgl/laughing_is_my_fa...   \n105rpcj  /r/AmIhotAF/comments/105rpcj/f22_what_do_you_t...   \n105styc  /r/AmIhotAF/comments/105styc/low_key_still_ban...   \n...                                                    ...   \n13j2sd6  /r/realasians/comments/13j2sd6/anyone_likes_th...   \n13ivr6i  /r/prettyasiangirls/comments/13ivr6i/booty_sho...   \n13ixnk0  /r/prettyasiangirls/comments/13ixnk0/striped_d...   \n13j45hw  /r/prettyasiangirls/comments/13j45hw/two_neckl...   \n13j63ca       /r/prettyasiangirls/comments/13j63ca/beauty/   \n\n                                original_url   image_name   \nid                                                          \n1013bdt  https://i.redd.it/bg0wwdlt5k9a1.jpg  1013bdt.jpg  \\\n105mekt  https://i.redd.it/4avjshsz8naa1.jpg  105mekt.jpg   \n105qvgl  https://i.redd.it/2pulzr0lxmaa1.jpg  105qvgl.jpg   \n105rpcj  https://i.redd.it/rz68pf934naa1.jpg  105rpcj.jpg   \n105styc  https://i.redd.it/aiaxxoz9uoaa1.jpg  105styc.jpg   \n...                                      ...          ...   \n13j2sd6  https://i.redd.it/iifq9cie280b1.jpg  13j2sd6.jpg   \n13ivr6i  https://i.redd.it/dyfyup7dn40b1.jpg  13ivr6i.jpg   \n13ixnk0  https://i.redd.it/lx7a6n6i650b1.jpg  13ixnk0.jpg   \n13j45hw  https://i.redd.it/wgh760xmv60b1.jpg  13j45hw.jpg   \n13j63ca  https://i.redd.it/kiolf194r80b1.jpg  13j63ca.jpg   \n\n                           path               model  exists  curated  accept   \nid                                                                             \n1013bdt  data/image/1013bdt.jpg       SexyDiffusion    True     True    True  \\\n105mekt  data/image/105mekt.jpg       SexyDiffusion    True     True    True   \n105qvgl  data/image/105qvgl.jpg       SexyDiffusion    True     True    True   \n105rpcj  data/image/105rpcj.jpg       SexyDiffusion    True     True    True   \n105styc  data/image/105styc.jpg       SexyDiffusion    True     True    True   \n...                         ...                 ...     ...      ...     ...   \n13j2sd6  data/image/13j2sd6.jpg  SexyAsianDiffusion    True     True    True   \n13ivr6i  data/image/13ivr6i.jpg  SexyAsianDiffusion    True     True    True   \n13ixnk0  data/image/13ixnk0.jpg  SexyAsianDiffusion    True     True    True   \n13j45hw  data/image/13j45hw.jpg  SexyAsianDiffusion    True     True    True   \n13j63ca  data/image/13j63ca.jpg  SexyAsianDiffusion    True     True    True   \n\n        tags  \nid            \n1013bdt   []  \n105mekt   []  \n105qvgl   []  \n105rpcj   []  \n105styc   []  \n...      ...  \n13j2sd6   []  \n13ivr6i   []  \n13ixnk0   []  \n13j45hw   []  \n13j63ca   []  \n\n[2263 rows x 15 columns]",
      "text/html": "<div>\n<style scoped>\n    .dataframe tbody tr th:only-of-type {\n        vertical-align: middle;\n    }\n\n    .dataframe tbody tr th {\n        vertical-align: top;\n    }\n\n    .dataframe thead th {\n        text-align: right;\n    }\n</style>\n<table border=\"1\" class=\"dataframe\">\n  <thead>\n    <tr style=\"text-align: right;\">\n      <th></th>\n      <th>id</th>\n      <th>subreddit</th>\n      <th>author</th>\n      <th>title</th>\n      <th>caption</th>\n      <th>hash</th>\n      <th>permalink</th>\n      <th>original_url</th>\n      <th>image_name</th>\n      <th>path</th>\n      <th>model</th>\n      <th>exists</th>\n      <th>curated</th>\n      <th>accept</th>\n      <th>tags</th>\n    </tr>\n    <tr>\n      <th>id</th>\n      <th></th>\n      <th></th>\n      <th></th>\n      <th></th>\n      <th></th>\n      <th></th>\n      <th></th>\n      <th></th>\n      <th></th>\n      <th></th>\n      <th></th>\n      <th></th>\n      <th></th>\n      <th></th>\n      <th></th>\n    </tr>\n  </thead>\n  <tbody>\n    <tr>\n      <th>1013bdt</th>\n      <td>1013bdt</td>\n      <td>AmIhotAF</td>\n      <td>RaulDea9286</td>\n      <td>36F - ITALIAN</td>\n      <td>arafed image of a woman in a bikini top</td>\n      <td>7c0d158cba8654ef1c635cbc5471d597</td>\n      <td>/r/AmIhotAF/comments/1013bdt/36f_italian/</td>\n      <td>https://i.redd.it/bg0wwdlt5k9a1.jpg</td>\n      <td>1013bdt.jpg</td>\n      <td>data/image/1013bdt.jpg</td>\n      <td>SexyDiffusion</td>\n      <td>True</td>\n      <td>True</td>\n      <td>True</td>\n      <td>[]</td>\n    </tr>\n    <tr>\n      <th>105mekt</th>\n      <td>105mekt</td>\n      <td>AmIhotAF</td>\n      <td>lindaniz</td>\n      <td>interesting in good forward relationship (f24)</td>\n      <td>a close up of a woman with red hair and a whit...</td>\n      <td>ba4a0962cca2266a741e1e1700589c04</td>\n      <td>/r/AmIhotAF/comments/105mekt/interesting_in_go...</td>\n      <td>https://i.redd.it/4avjshsz8naa1.jpg</td>\n      <td>105mekt.jpg</td>\n      <td>data/image/105mekt.jpg</td>\n      <td>SexyDiffusion</td>\n      <td>True</td>\n      <td>True</td>\n      <td>True</td>\n      <td>[]</td>\n    </tr>\n    <tr>\n      <th>105qvgl</th>\n      <td>105qvgl</td>\n      <td>AmIhotAF</td>\n      <td>CaitVLove11</td>\n      <td>Laughing is my favorite 😆</td>\n      <td>a woman in a blue tank top and shorts is smili...</td>\n      <td>27bfe82c37314a0bcf02ab72eaf3a9e5</td>\n      <td>/r/AmIhotAF/comments/105qvgl/laughing_is_my_fa...</td>\n      <td>https://i.redd.it/2pulzr0lxmaa1.jpg</td>\n      <td>105qvgl.jpg</td>\n      <td>data/image/105qvgl.jpg</td>\n      <td>SexyDiffusion</td>\n      <td>True</td>\n      <td>True</td>\n      <td>True</td>\n      <td>[]</td>\n    </tr>\n    <tr>\n      <th>105rpcj</th>\n      <td>105rpcj</td>\n      <td>AmIhotAF</td>\n      <td>Flashy-Desk1858</td>\n      <td>[f22] What do you think when you see me?</td>\n      <td>a woman in a blue bikini top and a blue bra top</td>\n      <td>329eb42b8267fa1cc2980da8e48bcef1</td>\n      <td>/r/AmIhotAF/comments/105rpcj/f22_what_do_you_t...</td>\n      <td>https://i.redd.it/rz68pf934naa1.jpg</td>\n      <td>105rpcj.jpg</td>\n      <td>data/image/105rpcj.jpg</td>\n      <td>SexyDiffusion</td>\n      <td>True</td>\n      <td>True</td>\n      <td>True</td>\n      <td>[]</td>\n    </tr>\n    <tr>\n      <th>105styc</th>\n      <td>105styc</td>\n      <td>AmIhotAF</td>\n      <td>Gizzygirl127</td>\n      <td>Low key… still bangable?</td>\n      <td>smiling woman sitting on couch with remote con...</td>\n      <td>6d555943be4fbc21ff92417c6f582298</td>\n      <td>/r/AmIhotAF/comments/105styc/low_key_still_ban...</td>\n      <td>https://i.redd.it/aiaxxoz9uoaa1.jpg</td>\n      <td>105styc.jpg</td>\n      <td>data/image/105styc.jpg</td>\n      <td>SexyDiffusion</td>\n      <td>True</td>\n      <td>True</td>\n      <td>True</td>\n      <td>[]</td>\n    </tr>\n    <tr>\n      <th>...</th>\n      <td>...</td>\n      <td>...</td>\n      <td>...</td>\n      <td>...</td>\n      <td>...</td>\n      <td>...</td>\n      <td>...</td>\n      <td>...</td>\n      <td>...</td>\n      <td>...</td>\n      <td>...</td>\n      <td>...</td>\n      <td>...</td>\n      <td>...</td>\n      <td>...</td>\n    </tr>\n    <tr>\n      <th>13j2sd6</th>\n      <td>13j2sd6</td>\n      <td>realasians</td>\n      <td>lakdh</td>\n      <td>Anyone likes this cutie?</td>\n      <td>araffe woman in a skirt posing for a picture i...</td>\n      <td>3cfff5fbae7c3a153334156879c2233d</td>\n      <td>/r/realasians/comments/13j2sd6/anyone_likes_th...</td>\n      <td>https://i.redd.it/iifq9cie280b1.jpg</td>\n      <td>13j2sd6.jpg</td>\n      <td>data/image/13j2sd6.jpg</td>\n      <td>SexyAsianDiffusion</td>\n      <td>True</td>\n      <td>True</td>\n      <td>True</td>\n      <td>[]</td>\n    </tr>\n    <tr>\n      <th>13ivr6i</th>\n      <td>13ivr6i</td>\n      <td>prettyasiangirls</td>\n      <td>ReggieWarr</td>\n      <td>Booty Shorts and Boots</td>\n      <td>there is a woman leaning on a railing with a h...</td>\n      <td>44c3f9066e339742ccf949af35781de1</td>\n      <td>/r/prettyasiangirls/comments/13ivr6i/booty_sho...</td>\n      <td>https://i.redd.it/dyfyup7dn40b1.jpg</td>\n      <td>13ivr6i.jpg</td>\n      <td>data/image/13ivr6i.jpg</td>\n      <td>SexyAsianDiffusion</td>\n      <td>True</td>\n      <td>True</td>\n      <td>True</td>\n      <td>[]</td>\n    </tr>\n    <tr>\n      <th>13ixnk0</th>\n      <td>13ixnk0</td>\n      <td>prettyasiangirls</td>\n      <td>RightBachAtYa</td>\n      <td>Striped dress shirt and white underwear</td>\n      <td>arafed woman in a white underwear posing for a...</td>\n      <td>0bb02e71a351b8656ee59b552650aab6</td>\n      <td>/r/prettyasiangirls/comments/13ixnk0/striped_d...</td>\n      <td>https://i.redd.it/lx7a6n6i650b1.jpg</td>\n      <td>13ixnk0.jpg</td>\n      <td>data/image/13ixnk0.jpg</td>\n      <td>SexyAsianDiffusion</td>\n      <td>True</td>\n      <td>True</td>\n      <td>True</td>\n      <td>[]</td>\n    </tr>\n    <tr>\n      <th>13j45hw</th>\n      <td>13j45hw</td>\n      <td>prettyasiangirls</td>\n      <td>fullnameqwertyu</td>\n      <td>Two necklaces</td>\n      <td>arafed asian woman laying on a bed with a sky ...</td>\n      <td>bfe5684c53158318d97bc620ebb334db</td>\n      <td>/r/prettyasiangirls/comments/13j45hw/two_neckl...</td>\n      <td>https://i.redd.it/wgh760xmv60b1.jpg</td>\n      <td>13j45hw.jpg</td>\n      <td>data/image/13j45hw.jpg</td>\n      <td>SexyAsianDiffusion</td>\n      <td>True</td>\n      <td>True</td>\n      <td>True</td>\n      <td>[]</td>\n    </tr>\n    <tr>\n      <th>13j63ca</th>\n      <td>13j63ca</td>\n      <td>prettyasiangirls</td>\n      <td>nicestarz</td>\n      <td>Beauty</td>\n      <td>there is a woman standing in front of a window...</td>\n      <td>632fc1d0d16bbdd76033cc47b1ceb09a</td>\n      <td>/r/prettyasiangirls/comments/13j63ca/beauty/</td>\n      <td>https://i.redd.it/kiolf194r80b1.jpg</td>\n      <td>13j63ca.jpg</td>\n      <td>data/image/13j63ca.jpg</td>\n      <td>SexyAsianDiffusion</td>\n      <td>True</td>\n      <td>True</td>\n      <td>True</td>\n      <td>[]</td>\n    </tr>\n  </tbody>\n</table>\n<p>2263 rows × 15 columns</p>\n</div>"
     },
     "metadata": {},
     "output_type": "display_data"
    }
   ],
   "source": [
    "bar = filtered.loc[(filtered[\"model\"] == \"SexyDiffusion\") | (filtered[\"model\"] == \"SexyAsianDiffusion\") | (filtered['model'] == \"NextDoorGirlDiffusion\") | (filtered['model'] == 'RedHeadDiffusion')]\n",
    "dropped = bar.dropna(inplace=True)\n",
    "display(bar.shape)\n",
    "display(bar)"
   ]
  },
  {
   "cell_type": "code",
   "execution_count": null,
   "metadata": {
    "collapsed": false,
    "is_executing": true
   },
   "outputs": [
    {
     "data": {
      "text/plain": "'Skipping yukvpy -- Already Processed -- 461/2263...0.14514651666666667 minutes'"
     },
     "metadata": {},
     "output_type": "display_data"
    }
   ],
   "source": [
    "%%time\n",
    "\n",
    "import datetime\n",
    "from common.captioning.azure_descriptions import AzureCaption\n",
    "\n",
    "records = bar.to_dict(orient=\"records\")\n",
    "current_captions = [item.replace('\\n', '') for item in file_system.ls(\"data/caption\")]\n",
    "\n",
    "i = 0\n",
    "start_time = datetime.datetime.now()\n",
    "for elem in records:\n",
    "\top_time = datetime.datetime.now()\n",
    "\ttime_current = f\"{(op_time - start_time).total_seconds()/60} minutes\"\n",
    "\ti += 1\n",
    "\tpath = elem['path']\n",
    "\tremote_path = file_system.url(path)\n",
    "\n",
    "\tif f'data/caption/{elem[\"id\"]}.json' not in current_captions:\n",
    "\t\tdisplay(f'Processing {elem[\"id\"]} -- {i}/{len(records)}...{time_current}', clear=True)\n",
    "\t\tcaption: AzureCaption = AzureCaption(file_system)\n",
    "\t\toutput = caption.image_analysis(remote_path)\n",
    "\t\ttime.sleep(12)\n",
    "\t\tjson_result = output.json_result\n",
    "\t\tif json_result is None:\n",
    "\t\t\tdisplay(f'Error with {elem[\"id\"]} -- Empty Result -- {i}/{len(records)}...{time_current}', clear=True)\n",
    "\t\t\tcontinue\n",
    "\t\ttry:\n",
    "\t\t\tif json.loads(json_result).get('error'):\n",
    "\t\t\t\tdisplay(f'Error with {elem[\"id\"]} -- Error: {json.loads(json_result).get(\"error\")} -- {i}/{len(records)}...{time_current}', clear=True)\n",
    "\t\t\t\tcontinue\n",
    "\t\t\thandle = open('temp.json', 'w', encoding='utf-8')\n",
    "\t\t\thandle.write(json_result)\n",
    "\t\t\thandle.close()\n",
    "\t\t\tdisplay(f'Uploading {elem[\"id\"]} -- {i}/{len(records)}...{time_current}', clear=True)\n",
    "\t\t\tfile_system.upload('temp.json', f'data/caption/{elem[\"id\"]}.json')\n",
    "\t\texcept Exception as e:\n",
    "\t\t\tdisplay(f'Error with {elem[\"id\"]} -- Error: {e} -- {i}/{len(records)}', clear=True)\n",
    "\t\t\tcontinue\n",
    "\telse:\n",
    "\t\tdisplay(f'Skipping {elem[\"id\"]} -- Already Processed -- {i}/{len(records)}...{time_current}', clear=True)\n",
    "\t\tcontinue"
   ]
  },
  {
   "cell_type": "code",
   "execution_count": null,
   "metadata": {
    "collapsed": false,
    "is_executing": true
   },
   "outputs": [],
   "source": [
    "# !jupyter notebook stop"
   ]
  }
 ],
 "metadata": {
  "kernelspec": {
   "display_name": "Python 3",
   "language": "python",
   "name": "python3"
  },
  "language_info": {
   "codemirror_mode": {
    "name": "ipython",
    "version": 3
   },
   "file_extension": ".py",
   "mimetype": "text/x-python",
   "name": "python",
   "nbconvert_exporter": "python",
   "pygments_lexer": "ipython3",
   "version": "3.10.2"
  }
 },
 "nbformat": 4,
 "nbformat_minor": 0
}
