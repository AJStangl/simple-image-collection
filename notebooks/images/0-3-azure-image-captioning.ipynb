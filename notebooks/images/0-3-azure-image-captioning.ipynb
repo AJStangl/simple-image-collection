{
 "cells": [
  {
   "cell_type": "code",
   "execution_count": null,
   "metadata": {
    "collapsed": true
   },
   "outputs": [],
   "source": [
    "%%time\n",
    "\n",
    "display(\"=== Starting 0-3 Azure Image Captioning ===\")\n",
    "\n",
    "import json\n",
    "\n",
    "import pandas\n",
    "import pandas as pd\n",
    "from adlfs import AzureBlobFileSystem\n",
    "from tqdm import tqdm\n",
    "\n",
    "from common.captioning.azure_descriptions import AzureCaption\n",
    "from common.functions.functions import Functions\n",
    "from common.schemas.pyarrow_schema import schema\n",
    "from common.storage.azure_file_storage import AzureFileStorageAdapter\n",
    "import os\n",
    "\n",
    "tqdm.pandas(desc=\"Progress\")\n",
    "\n",
    "file_system: AzureBlobFileSystem = AzureFileStorageAdapter('data').get_file_storage()\n",
    "\n",
    "functions: Functions = Functions()"
   ]
  },
  {
   "cell_type": "code",
   "execution_count": null,
   "metadata": {},
   "outputs": [],
   "source": [
    "%%time\n",
    "\n",
    "curated_data = pandas.read_parquet(\"data/parquet/back.parquet\", engine=\"pyarrow\", filesystem=file_system)\n",
    "\n",
    "curated_data.set_index(\"id\", inplace=True, drop=False)\n",
    "\n",
    "filtered = curated_data.loc[curated_data[\"accept\"] == True, schema.names]\n",
    "\n",
    "filtered.dropna(inplace=True)\n",
    "\n",
    "filtered.reset_index(inplace=True, drop=True)\n",
    "\n",
    "display(\"== Filtered By Acceptance ==\")\n",
    "\n",
    "display(f\"Shape: {filtered.shape}\")\n",
    "\n",
    "display(filtered)"
   ]
  },
  {
   "cell_type": "code",
   "execution_count": null,
   "metadata": {},
   "outputs": [],
   "source": [
    "%%time\n",
    "\n",
    "sources = [\n",
    "\t{\"name\": \"CityDiffusion\", \"data\": [\"CityPorn\"]},\n",
    "\t{\"name\": \"NatureDiffusion\", \"data\": [\"EarthPorn\"]},\n",
    "\t{\"name\": \"CosmicDiffusion\", \"data\": [\"spaceporn\"]},\n",
    "\t{\"name\": \"ITAPDiffusion\", \"data\": [\"itookapicture\"]},\n",
    "\t{\"name\": \"MemeDiffusion\", \"data\": [\"memes\"]},\n",
    "\t{\"name\": \"TTTDiffusion\", \"data\": [\"trippinthroughtime\"]},\n",
    "\t{\"name\": \"WallStreetDiffusion\", \"data\": [\"wallstreetbets\"]},\n",
    "\t{\"name\": \"SexyDiffusion\",\"data\": [\"selfies\", \"Amicute\", \"amihot\", \"AmIhotAF\", \"HotGirlNextDoor\", \"sexygirls\", \"PrettyGirls\", \"gentlemanboners\", \"hotofficegirls\", \"tightdresses\", \"DLAH\", \"cougars_and_milfs_sfw\"]},\n",
    "\t{\"name\": \"FatSquirrelDiffusion\", \"data\": [\"fatsquirrelhate\"]},\n",
    "\t{\"name\": \"CelebrityDiffusion\", \"data\": [\"celebrities\"]},\n",
    "\t{\"name\": \"OldLadyDiffusion\", \"data\": [\"oldladiesbakingpies\"]},\n",
    "\t{\"name\": \"SWFPetite\", \"data\": [\"sfwpetite\"]},\n",
    "\t{\"name\": \"RedHeadDiffusion\", \"data\": [\"SFWRedheads\"]},\n",
    "\t{\"name\": \"NextDoorGirlsDiffusion\", \"data\": [\"SFWNextDoorGirls\"]},\n",
    "\t{\"name\": \"SexyAsianDiffusion\",\"data\": [\"realasians\", \"KoreanHotties\", \"prettyasiangirls\", \"AsianOfficeLady\", \"AsianInvasion\"]},\n",
    "\t{\"name\": \"MildlyPenisDiffusion\", \"data\": [\"mildlypenis\"]},\n",
    "\t{\"name\": \"CandleDiffusion\", \"data\": [\"bathandbodyworks\"]},\n",
    "]\n",
    "sources_df = pd.DataFrame.from_records(sources)\n",
    "\n",
    "display(\"== Loaded Sources ==\")\n",
    "display(sources_df)"
   ]
  },
  {
   "cell_type": "code",
   "execution_count": null,
   "metadata": {},
   "outputs": [],
   "source": [
    "%%time\n",
    "\n",
    "filtered['model'] = filtered.apply(lambda x: functions.add_source(x, sources), axis=1)\n",
    "\n",
    "filtered_model = filtered.loc[filtered['model'] != \"\", schema.names]\n",
    "\n",
    "filtered_model.dropna(inplace=True)\n",
    "\n",
    "filtered_model.reset_index(inplace=True, drop=True)\n",
    "\n",
    "display(\"== Filtered By Model Type ==\")\n",
    "display(f'Shape: {filtered_model.shape}')\n",
    "display(filtered_model)"
   ]
  },
  {
   "cell_type": "code",
   "execution_count": null,
   "metadata": {},
   "outputs": [],
   "source": [
    "%%time\n",
    "\n",
    "group = filtered_model[[\"id\", \"subreddit\"]].groupby(\"subreddit\").count().sort_values(by=\"id\", ascending=False)\n",
    "\n",
    "plot = group.plot.bar(figsize=(20, 10), title=\"Subreddits with most posts\", legend=True)\n",
    "\n",
    "display(plot)"
   ]
  },
  {
   "cell_type": "code",
   "execution_count": null,
   "metadata": {},
   "outputs": [],
   "source": [
    "%%time\n",
    "\n",
    "group = filtered_model[[\"id\", \"model\", \"subreddit\"]].groupby([\"model\"]).count().sort_values(by=\"id\", ascending=False)\n",
    "\n",
    "plot_1 = group.plot.bar(figsize=(20, 10), title=\"Models with most images\", legend=True)\n",
    "\n",
    "display(plot_1)"
   ]
  },
  {
   "cell_type": "code",
   "execution_count": null,
   "outputs": [],
   "source": [
    "def handle_captioning(x: object, _file_system: AzureBlobFileSystem, _current_captions: [str]) -> str:\n",
    "\t\"\"\"\n",
    "\tCreates a caption file for the given image id\n",
    "\t:param x: The record to process\n",
    "\t:param _file_system: The instance of an adlfs file system\n",
    "\t:param _current_captions: List of caption names\n",
    "\t:return: Success or failure\n",
    "\t\"\"\"\n",
    "\ttemp_json_name = \"temp.json\"\n",
    "\tcaption: AzureCaption = AzureCaption(_file_system)\n",
    "\ttry:\n",
    "\t\t_path: str = x['path']\n",
    "\t\t_id = x['id']\n",
    "\t\t_remote_path: str = file_system.url(_path)\n",
    "\t\tout_path = f\"data/caption/{_id}.json\"\n",
    "\n",
    "\t\tif f'data/caption/{_id}.json' in current_captions:\n",
    "\t\t\tdisplay(f\"Captioning Exists For {_id}\", clear=True)\n",
    "\t\t\treturn out_path\n",
    "\n",
    "\t\t_output = caption.image_analysis(_remote_path)\n",
    "\n",
    "\t\tif _output is None:\n",
    "\t\t\tdisplay(f\"Error In Output is empty for {_id}\", clear=True)\n",
    "\t\t\treturn \"\"\n",
    "\n",
    "\t\t_json_result = _output.json_result\n",
    "\n",
    "\t\tif _json_result is None:\n",
    "\t\t\tdisplay(f\"Error In Json Result is empty for {_id}\", clear=True)\n",
    "\t\t\treturn \"\"\n",
    "\n",
    "\t\tif json.loads(_json_result).get('error'):\n",
    "\t\t\tdisplay(f\"Error In Json Resul with: {_json_result} for {_id}\", clear=True)\n",
    "\t\t\treturn \"\"\n",
    "\n",
    "\t\twith open(temp_json_name, 'w', encoding='utf-8') as _handle:\n",
    "\t\t\tdisplay(f\"Writing Captioning For {_id}\", clear=True)\n",
    "\t\t\t_handle.write(_json_result)\n",
    "\t\t\t_file_system.upload('temp.json', out_path, overwrite=True)\n",
    "\t\t\treturn out_path\n",
    "\texcept Exception as ex:\n",
    "\t\tdisplay(f\"Error in handle_captioning with exception {ex}\", clear=True)\n",
    "\t\treturn \"\"\n",
    "\tfinally:\n",
    "\t\tif os.path.exists(temp_json_name):\n",
    "  \t\t\tos.remove(temp_json_name)\n",
    "\t\tdel caption"
   ],
   "metadata": {
    "collapsed": false
   }
  },
  {
   "cell_type": "code",
   "execution_count": null,
   "outputs": [],
   "source": [
    "current_captions = [item.replace('\\n', '') for item in file_system.ls(\"data/caption\")]\n",
    "display(f\"Total Number Of Caption Files - {len(current_captions)}\")"
   ],
   "metadata": {
    "collapsed": false
   }
  },
  {
   "cell_type": "code",
   "execution_count": null,
   "outputs": [],
   "source": [
    "%%time\n",
    "\n",
    "filtered_model['azure_success'] = filtered_model.progress_apply(lambda x: handle_captioning(x, file_system, current_captions), axis=1)\n",
    "\n",
    "display(filtered_model)"
   ],
   "metadata": {
    "collapsed": false,
    "is_executing": true
   }
  },
  {
   "cell_type": "code",
   "execution_count": null,
   "metadata": {
    "is_executing": true
   },
   "outputs": [],
   "source": [
    "%%time\n",
    "\n",
    "display(f\"Total Number Of Caption Files - {len(file_system.ls('data/caption'))}\")\n",
    "display(\"0-2 Azure Image Analysis Process Complete - Shutting Down\")"
   ]
  },
  {
   "cell_type": "code",
   "execution_count": null,
   "metadata": {
    "is_executing": true
   },
   "outputs": [],
   "source": [
    "!jupyter notebook stop"
   ]
  }
 ],
 "metadata": {
  "kernelspec": {
   "display_name": "Python 3 (ipykernel)",
   "language": "python",
   "name": "python3"
  },
  "language_info": {
   "codemirror_mode": {
    "name": "ipython",
    "version": 3
   },
   "file_extension": ".py",
   "mimetype": "text/x-python",
   "name": "python",
   "nbconvert_exporter": "python",
   "pygments_lexer": "ipython3",
   "version": "3.10.2"
  }
 },
 "nbformat": 4,
 "nbformat_minor": 1
}
