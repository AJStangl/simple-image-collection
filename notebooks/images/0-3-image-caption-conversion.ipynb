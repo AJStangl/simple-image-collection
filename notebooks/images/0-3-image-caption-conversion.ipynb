{
 "cells": [
  {
   "cell_type": "code",
   "execution_count": 89,
   "metadata": {
    "collapsed": true,
    "ExecuteTime": {
     "end_time": "2023-05-11T20:47:52.758593200Z",
     "start_time": "2023-05-11T20:47:52.695283400Z"
    }
   },
   "outputs": [
    {
     "name": "stdout",
     "output_type": "stream",
     "text": [
      "CPU times: total: 15.6 ms\n",
      "Wall time: 10 ms\n"
     ]
    }
   ],
   "source": [
    "%%time\n",
    "\n",
    "from adlfs import AzureBlobFileSystem\n",
    "\n",
    "import time\n",
    "\n",
    "import json\n",
    "import pandas\n",
    "import pandas as pd\n",
    "from tqdm import tqdm\n",
    "\n",
    "from common.schemas.pyarrow_schema import tagging_schema\n",
    "from common.storage.azure_file_storage import AzureFileStorageAdapter\n",
    "from common.captioning.azure_descriptions import AzureCaption\n",
    "from common.schemas.pyarrow_schema import schema\n",
    "\n",
    "tqdm.pandas(desc=\"Progress\")\n",
    "file_system: AzureBlobFileSystem = AzureFileStorageAdapter('data').get_file_storage()\n",
    "\n",
    "from common.data_frame_functions.functions import Functions\n",
    "\n",
    "functions: Functions = Functions()\n",
    "\n",
    "caption: AzureCaption = AzureCaption(file_system)"
   ]
  },
  {
   "cell_type": "code",
   "execution_count": 90,
   "outputs": [
    {
     "data": {
      "text/plain": "(16720, 7)"
     },
     "metadata": {},
     "output_type": "display_data"
    },
    {
     "data": {
      "text/plain": "(38085, 3)"
     },
     "metadata": {},
     "output_type": "display_data"
    },
    {
     "data": {
      "text/plain": "(1872, 6)"
     },
     "metadata": {},
     "output_type": "display_data"
    },
    {
     "name": "stdout",
     "output_type": "stream",
     "text": [
      "CPU times: total: 141 ms\n",
      "Wall time: 1.14 s\n"
     ]
    }
   ],
   "source": [
    "%%time\n",
    "\n",
    "captions = pd.read_parquet('data/parquet/image_captions.parquet', filesystem=file_system, engine='pyarrow')\n",
    "tags = pd.read_parquet('data/parquet/image_tags.parquet', filesystem=file_system, engine='pyarrow')\n",
    "crops = pd.read_parquet('data/parquet/image_cropping.parquet', filesystem=file_system, engine='pyarrow')\n",
    "\n",
    "display(captions.shape)\n",
    "display(tags.shape)\n",
    "display(crops.shape)"
   ],
   "metadata": {
    "collapsed": false,
    "ExecuteTime": {
     "end_time": "2023-05-11T20:47:53.898652800Z",
     "start_time": "2023-05-11T20:47:52.715287900Z"
    }
   }
  },
  {
   "cell_type": "code",
   "execution_count": 91,
   "outputs": [
    {
     "data": {
      "text/plain": "1872"
     },
     "metadata": {},
     "output_type": "display_data"
    },
    {
     "name": "stdout",
     "output_type": "stream",
     "text": [
      "CPU times: total: 0 ns\n",
      "Wall time: 3 ms\n"
     ]
    }
   ],
   "source": [
    "%%time\n",
    "\n",
    "current_captions = file_system.ls(\"data/caption\")\n",
    "display(len(current_captions))"
   ],
   "metadata": {
    "collapsed": false,
    "ExecuteTime": {
     "end_time": "2023-05-11T20:47:53.958347900Z",
     "start_time": "2023-05-11T20:47:53.899630300Z"
    }
   }
  },
  {
   "cell_type": "code",
   "execution_count": 92,
   "outputs": [
    {
     "name": "stderr",
     "output_type": "stream",
     "text": [
      "Reading caption files: 100%|██████████| 1872/1872 [02:02<00:00, 15.26it/s]"
     ]
    },
    {
     "name": "stdout",
     "output_type": "stream",
     "text": [
      "CPU times: total: 18.7 s\n",
      "Wall time: 2min 2s\n"
     ]
    },
    {
     "name": "stderr",
     "output_type": "stream",
     "text": [
      "\n"
     ]
    }
   ],
   "source": [
    "%%time\n",
    "\n",
    "all_data = []\n",
    "for caption_file in tqdm(current_captions, total=len(current_captions), desc='Reading caption files'):\n",
    "\tcaption_data = json.loads(file_system.read_text(caption_file, encoding='utf-8'))\n",
    "\tdense_caption_result = caption_data.get('denseCaptionsResult')\n",
    "\tmetadata = caption_data.get('metadata')\n",
    "\ttags_result = caption_data.get('tagsResult')\n",
    "\tsmart_crop_result = caption_data.get('smartCropsResult')\n",
    "\timage_id = caption_file.split('/')[-1].split('.')[0]\n",
    "\tfiltered_data = {\n",
    "\t\t\"id\": image_id,\n",
    "\t\t\"dense_captions\": dense_caption_result['values'],\n",
    "\t\t\"tags\": tags_result['values'],\n",
    "\t\t\"smart_crop\": smart_crop_result['values']\n",
    "\t}\n",
    "\tall_data.append(filtered_data)"
   ],
   "metadata": {
    "collapsed": false,
    "ExecuteTime": {
     "end_time": "2023-05-11T20:49:56.678351400Z",
     "start_time": "2023-05-11T20:47:53.916819300Z"
    }
   }
  },
  {
   "cell_type": "code",
   "execution_count": 93,
   "outputs": [
    {
     "name": "stdout",
     "output_type": "stream",
     "text": [
      "CPU times: total: 422 ms\n",
      "Wall time: 421 ms\n"
     ]
    }
   ],
   "source": [
    "%%time\n",
    "\n",
    "new_captions = pandas.json_normalize(data=all_data, record_path=['dense_captions'], meta=['id'], record_prefix='dense_captions_')\n",
    "new_tags = pandas.json_normalize(data=all_data, record_path=['tags'], meta=['id'], record_prefix='tags_')\n",
    "new_crops = pandas.json_normalize(data=all_data, record_path=['smart_crop'], meta=['id'], record_prefix='smart_crop_')"
   ],
   "metadata": {
    "collapsed": false,
    "ExecuteTime": {
     "end_time": "2023-05-11T20:49:57.114347800Z",
     "start_time": "2023-05-11T20:49:56.680352100Z"
    }
   }
  },
  {
   "cell_type": "code",
   "execution_count": 94,
   "outputs": [
    {
     "data": {
      "text/plain": "'0 new rows added to captions'"
     },
     "metadata": {},
     "output_type": "display_data"
    },
    {
     "data": {
      "text/plain": "                    dense_captions_text  dense_captions_confidence   \n0               a woman taking a selfie                   0.662057  \\\n1               a woman taking a selfie                   0.665344   \n2         a woman wearing a black dress                   0.473444   \n3                   a close up of a key                   0.593095   \n4                  a close up of an eye                   0.619898   \n...                                 ...                        ...   \n16715       a close-up of a green plant                   0.453059   \n16716  a mountain range in the distance                   0.334624   \n16717     a woman smiling at the camera                   0.465720   \n16718           a woman wearing a dress                   0.548892   \n16719              a close up of a hand                   0.566506   \n\n       dense_captions_boundingBox.x  dense_captions_boundingBox.y   \n0                                 0                             0  \\\n1                                 0                           100   \n2                               185                          1443   \n3                               716                          1503   \n4                               778                           744   \n...                             ...                           ...   \n16715                           680                          1066   \n16716                           498                           277   \n16717                           244                           293   \n16718                             0                           758   \n16719                           220                           809   \n\n       dense_captions_boundingBox.w  dense_captions_boundingBox.h       id  \n0                              1468                          2608  1002cx2  \n1                              1447                          2473  1002cx2  \n2                              1265                          1150  1002cx2  \n3                                82                           140  1002cx2  \n4                               152                            84  1002cx2  \n...                             ...                           ...      ...  \n16715                           394                           280   zzxq2l  \n16716                           568                            99   zzxq2l  \n16717                           319                           530   zzxq2l  \n16718                          1048                           570   zzxq2l  \n16719                            73                            55   zzxq2l  \n\n[16720 rows x 7 columns]",
      "text/html": "<div>\n<style scoped>\n    .dataframe tbody tr th:only-of-type {\n        vertical-align: middle;\n    }\n\n    .dataframe tbody tr th {\n        vertical-align: top;\n    }\n\n    .dataframe thead th {\n        text-align: right;\n    }\n</style>\n<table border=\"1\" class=\"dataframe\">\n  <thead>\n    <tr style=\"text-align: right;\">\n      <th></th>\n      <th>dense_captions_text</th>\n      <th>dense_captions_confidence</th>\n      <th>dense_captions_boundingBox.x</th>\n      <th>dense_captions_boundingBox.y</th>\n      <th>dense_captions_boundingBox.w</th>\n      <th>dense_captions_boundingBox.h</th>\n      <th>id</th>\n    </tr>\n  </thead>\n  <tbody>\n    <tr>\n      <th>0</th>\n      <td>a woman taking a selfie</td>\n      <td>0.662057</td>\n      <td>0</td>\n      <td>0</td>\n      <td>1468</td>\n      <td>2608</td>\n      <td>1002cx2</td>\n    </tr>\n    <tr>\n      <th>1</th>\n      <td>a woman taking a selfie</td>\n      <td>0.665344</td>\n      <td>0</td>\n      <td>100</td>\n      <td>1447</td>\n      <td>2473</td>\n      <td>1002cx2</td>\n    </tr>\n    <tr>\n      <th>2</th>\n      <td>a woman wearing a black dress</td>\n      <td>0.473444</td>\n      <td>185</td>\n      <td>1443</td>\n      <td>1265</td>\n      <td>1150</td>\n      <td>1002cx2</td>\n    </tr>\n    <tr>\n      <th>3</th>\n      <td>a close up of a key</td>\n      <td>0.593095</td>\n      <td>716</td>\n      <td>1503</td>\n      <td>82</td>\n      <td>140</td>\n      <td>1002cx2</td>\n    </tr>\n    <tr>\n      <th>4</th>\n      <td>a close up of an eye</td>\n      <td>0.619898</td>\n      <td>778</td>\n      <td>744</td>\n      <td>152</td>\n      <td>84</td>\n      <td>1002cx2</td>\n    </tr>\n    <tr>\n      <th>...</th>\n      <td>...</td>\n      <td>...</td>\n      <td>...</td>\n      <td>...</td>\n      <td>...</td>\n      <td>...</td>\n      <td>...</td>\n    </tr>\n    <tr>\n      <th>16715</th>\n      <td>a close-up of a green plant</td>\n      <td>0.453059</td>\n      <td>680</td>\n      <td>1066</td>\n      <td>394</td>\n      <td>280</td>\n      <td>zzxq2l</td>\n    </tr>\n    <tr>\n      <th>16716</th>\n      <td>a mountain range in the distance</td>\n      <td>0.334624</td>\n      <td>498</td>\n      <td>277</td>\n      <td>568</td>\n      <td>99</td>\n      <td>zzxq2l</td>\n    </tr>\n    <tr>\n      <th>16717</th>\n      <td>a woman smiling at the camera</td>\n      <td>0.465720</td>\n      <td>244</td>\n      <td>293</td>\n      <td>319</td>\n      <td>530</td>\n      <td>zzxq2l</td>\n    </tr>\n    <tr>\n      <th>16718</th>\n      <td>a woman wearing a dress</td>\n      <td>0.548892</td>\n      <td>0</td>\n      <td>758</td>\n      <td>1048</td>\n      <td>570</td>\n      <td>zzxq2l</td>\n    </tr>\n    <tr>\n      <th>16719</th>\n      <td>a close up of a hand</td>\n      <td>0.566506</td>\n      <td>220</td>\n      <td>809</td>\n      <td>73</td>\n      <td>55</td>\n      <td>zzxq2l</td>\n    </tr>\n  </tbody>\n</table>\n<p>16720 rows × 7 columns</p>\n</div>"
     },
     "metadata": {},
     "output_type": "display_data"
    },
    {
     "name": "stdout",
     "output_type": "stream",
     "text": [
      "CPU times: total: 125 ms\n",
      "Wall time: 653 ms\n"
     ]
    }
   ],
   "source": [
    "%%time\n",
    "\n",
    "merged_captions = pandas.concat([new_captions, captions])\n",
    "merged_captions.set_index(keys=['id', 'dense_captions_text', 'dense_captions_confidence'], inplace=True, drop=False)\n",
    "merged_captions.drop_duplicates(inplace=True)\n",
    "merged_captions.reset_index(drop=True, inplace=True)\n",
    "\n",
    "display(f'{merged_captions.shape[0] - captions.shape[0]} new rows added to captions')\n",
    "\n",
    "merged_captions.to_parquet('data/parquet/image_captions.parquet', filesystem=file_system, engine='pyarrow')\n",
    "display(pandas.read_parquet('data/parquet/image_captions.parquet', filesystem=file_system, engine='pyarrow'))"
   ],
   "metadata": {
    "collapsed": false,
    "ExecuteTime": {
     "end_time": "2023-05-11T20:49:57.773475300Z",
     "start_time": "2023-05-11T20:49:57.117370400Z"
    }
   }
  },
  {
   "cell_type": "code",
   "execution_count": 95,
   "outputs": [
    {
     "data": {
      "text/plain": "'0 new rows added to tags'"
     },
     "metadata": {},
     "output_type": "display_data"
    },
    {
     "data": {
      "text/plain": "        tags_name  tags_confidence       id\n0          person         0.998358  1002cx2\n1      human face         0.997763  1002cx2\n2        clothing         0.990993  1002cx2\n3            lady         0.981919  1002cx2\n4           smile         0.964994  1002cx2\n...           ...              ...      ...\n38080       woman         0.753262   zzxq2l\n38081       beach         0.739799   zzxq2l\n38082    standing         0.630927   zzxq2l\n38083        girl         0.556561   zzxq2l\n38084    mountain         0.544261   zzxq2l\n\n[38085 rows x 3 columns]",
      "text/html": "<div>\n<style scoped>\n    .dataframe tbody tr th:only-of-type {\n        vertical-align: middle;\n    }\n\n    .dataframe tbody tr th {\n        vertical-align: top;\n    }\n\n    .dataframe thead th {\n        text-align: right;\n    }\n</style>\n<table border=\"1\" class=\"dataframe\">\n  <thead>\n    <tr style=\"text-align: right;\">\n      <th></th>\n      <th>tags_name</th>\n      <th>tags_confidence</th>\n      <th>id</th>\n    </tr>\n  </thead>\n  <tbody>\n    <tr>\n      <th>0</th>\n      <td>person</td>\n      <td>0.998358</td>\n      <td>1002cx2</td>\n    </tr>\n    <tr>\n      <th>1</th>\n      <td>human face</td>\n      <td>0.997763</td>\n      <td>1002cx2</td>\n    </tr>\n    <tr>\n      <th>2</th>\n      <td>clothing</td>\n      <td>0.990993</td>\n      <td>1002cx2</td>\n    </tr>\n    <tr>\n      <th>3</th>\n      <td>lady</td>\n      <td>0.981919</td>\n      <td>1002cx2</td>\n    </tr>\n    <tr>\n      <th>4</th>\n      <td>smile</td>\n      <td>0.964994</td>\n      <td>1002cx2</td>\n    </tr>\n    <tr>\n      <th>...</th>\n      <td>...</td>\n      <td>...</td>\n      <td>...</td>\n    </tr>\n    <tr>\n      <th>38080</th>\n      <td>woman</td>\n      <td>0.753262</td>\n      <td>zzxq2l</td>\n    </tr>\n    <tr>\n      <th>38081</th>\n      <td>beach</td>\n      <td>0.739799</td>\n      <td>zzxq2l</td>\n    </tr>\n    <tr>\n      <th>38082</th>\n      <td>standing</td>\n      <td>0.630927</td>\n      <td>zzxq2l</td>\n    </tr>\n    <tr>\n      <th>38083</th>\n      <td>girl</td>\n      <td>0.556561</td>\n      <td>zzxq2l</td>\n    </tr>\n    <tr>\n      <th>38084</th>\n      <td>mountain</td>\n      <td>0.544261</td>\n      <td>zzxq2l</td>\n    </tr>\n  </tbody>\n</table>\n<p>38085 rows × 3 columns</p>\n</div>"
     },
     "metadata": {},
     "output_type": "display_data"
    },
    {
     "name": "stdout",
     "output_type": "stream",
     "text": [
      "CPU times: total: 156 ms\n",
      "Wall time: 828 ms\n"
     ]
    }
   ],
   "source": [
    "%%time\n",
    "\n",
    "merged_tags = pandas.concat([new_tags, tags])\n",
    "merged_tags.set_index(keys=['id', 'tags_name', 'tags_confidence'], inplace=True, drop=False)\n",
    "merged_tags.drop_duplicates(inplace=True)\n",
    "merged_tags.reset_index(drop=True, inplace=True)\n",
    "\n",
    "display(f'{merged_tags.shape[0] - tags.shape[0]} new rows added to tags')\n",
    "\n",
    "merged_tags.to_parquet('data/parquet/image_tags.parquet', filesystem=file_system, engine='pyarrow')\n",
    "display(pandas.read_parquet('data/parquet/image_tags.parquet', filesystem=file_system, engine='pyarrow'))"
   ],
   "metadata": {
    "collapsed": false,
    "ExecuteTime": {
     "end_time": "2023-05-11T20:49:58.619707600Z",
     "start_time": "2023-05-11T20:49:57.774984400Z"
    }
   }
  },
  {
   "cell_type": "code",
   "execution_count": 96,
   "outputs": [
    {
     "data": {
      "text/plain": "'0 new rows added to crops'"
     },
     "metadata": {},
     "output_type": "display_data"
    },
    {
     "data": {
      "text/plain": "      smart_crop_aspectRatio  smart_crop_boundingBox.x   \n0                        1.0                         0  \\\n1                        1.0                       143   \n2                        1.0                         0   \n3                        1.0                         0   \n4                        1.0                         0   \n...                      ...                       ...   \n1867                     1.0                         0   \n1868                     1.0                         0   \n1869                     1.0                         0   \n1870                     1.0                       135   \n1871                     1.0                       101   \n\n      smart_crop_boundingBox.y  smart_crop_boundingBox.w   \n0                          140                      1462  \\\n1                          138                      1249   \n2                          355                      1948   \n3                          224                      1120   \n4                            0                      1107   \n...                        ...                       ...   \n1867                         0                      1025   \n1868                         0                       461   \n1869                         0                      2273   \n1870                         0                      1299   \n1871                       101                       970   \n\n      smart_crop_boundingBox.h       id  \n0                         1462  1002cx2  \n1                         1250  1003dod  \n2                         1948  1008ddt  \n3                         1120  100dcrd  \n4                         1107  100jl1b  \n...                        ...      ...  \n1867                      1025   zzr9nz  \n1868                       461   zzruf4  \n1869                      2273   zzu8i8  \n1870                      1299   zzvv3x  \n1871                       970   zzxq2l  \n\n[1872 rows x 6 columns]",
      "text/html": "<div>\n<style scoped>\n    .dataframe tbody tr th:only-of-type {\n        vertical-align: middle;\n    }\n\n    .dataframe tbody tr th {\n        vertical-align: top;\n    }\n\n    .dataframe thead th {\n        text-align: right;\n    }\n</style>\n<table border=\"1\" class=\"dataframe\">\n  <thead>\n    <tr style=\"text-align: right;\">\n      <th></th>\n      <th>smart_crop_aspectRatio</th>\n      <th>smart_crop_boundingBox.x</th>\n      <th>smart_crop_boundingBox.y</th>\n      <th>smart_crop_boundingBox.w</th>\n      <th>smart_crop_boundingBox.h</th>\n      <th>id</th>\n    </tr>\n  </thead>\n  <tbody>\n    <tr>\n      <th>0</th>\n      <td>1.0</td>\n      <td>0</td>\n      <td>140</td>\n      <td>1462</td>\n      <td>1462</td>\n      <td>1002cx2</td>\n    </tr>\n    <tr>\n      <th>1</th>\n      <td>1.0</td>\n      <td>143</td>\n      <td>138</td>\n      <td>1249</td>\n      <td>1250</td>\n      <td>1003dod</td>\n    </tr>\n    <tr>\n      <th>2</th>\n      <td>1.0</td>\n      <td>0</td>\n      <td>355</td>\n      <td>1948</td>\n      <td>1948</td>\n      <td>1008ddt</td>\n    </tr>\n    <tr>\n      <th>3</th>\n      <td>1.0</td>\n      <td>0</td>\n      <td>224</td>\n      <td>1120</td>\n      <td>1120</td>\n      <td>100dcrd</td>\n    </tr>\n    <tr>\n      <th>4</th>\n      <td>1.0</td>\n      <td>0</td>\n      <td>0</td>\n      <td>1107</td>\n      <td>1107</td>\n      <td>100jl1b</td>\n    </tr>\n    <tr>\n      <th>...</th>\n      <td>...</td>\n      <td>...</td>\n      <td>...</td>\n      <td>...</td>\n      <td>...</td>\n      <td>...</td>\n    </tr>\n    <tr>\n      <th>1867</th>\n      <td>1.0</td>\n      <td>0</td>\n      <td>0</td>\n      <td>1025</td>\n      <td>1025</td>\n      <td>zzr9nz</td>\n    </tr>\n    <tr>\n      <th>1868</th>\n      <td>1.0</td>\n      <td>0</td>\n      <td>0</td>\n      <td>461</td>\n      <td>461</td>\n      <td>zzruf4</td>\n    </tr>\n    <tr>\n      <th>1869</th>\n      <td>1.0</td>\n      <td>0</td>\n      <td>0</td>\n      <td>2273</td>\n      <td>2273</td>\n      <td>zzu8i8</td>\n    </tr>\n    <tr>\n      <th>1870</th>\n      <td>1.0</td>\n      <td>135</td>\n      <td>0</td>\n      <td>1299</td>\n      <td>1299</td>\n      <td>zzvv3x</td>\n    </tr>\n    <tr>\n      <th>1871</th>\n      <td>1.0</td>\n      <td>101</td>\n      <td>101</td>\n      <td>970</td>\n      <td>970</td>\n      <td>zzxq2l</td>\n    </tr>\n  </tbody>\n</table>\n<p>1872 rows × 6 columns</p>\n</div>"
     },
     "metadata": {},
     "output_type": "display_data"
    },
    {
     "name": "stdout",
     "output_type": "stream",
     "text": [
      "CPU times: total: 46.9 ms\n",
      "Wall time: 433 ms\n"
     ]
    }
   ],
   "source": [
    "%%time\n",
    "\n",
    "merged_crops = pandas.concat([new_crops, crops])\n",
    "merged_crops.set_index(keys=['id'], inplace=True, drop=False)\n",
    "merged_crops.drop_duplicates(inplace=True)\n",
    "merged_crops.reset_index(drop=True, inplace=True)\n",
    "\n",
    "display(f'{merged_crops.shape[0] - crops.shape[0]} new rows added to crops')\n",
    "\n",
    "merged_crops.to_parquet('data/parquet/image_cropping.parquet', filesystem=file_system, engine='pyarrow')\n",
    "display(pandas.read_parquet('data/parquet/image_cropping.parquet', filesystem=file_system, engine='pyarrow'))"
   ],
   "metadata": {
    "collapsed": false,
    "ExecuteTime": {
     "end_time": "2023-05-11T20:49:59.082425200Z",
     "start_time": "2023-05-11T20:49:58.649800200Z"
    }
   }
  }
 ],
 "metadata": {
  "kernelspec": {
   "display_name": "Python 3",
   "language": "python",
   "name": "python3"
  },
  "language_info": {
   "codemirror_mode": {
    "name": "ipython",
    "version": 2
   },
   "file_extension": ".py",
   "mimetype": "text/x-python",
   "name": "python",
   "nbconvert_exporter": "python",
   "pygments_lexer": "ipython2",
   "version": "2.7.6"
  }
 },
 "nbformat": 4,
 "nbformat_minor": 0
}
