{
 "cells": [
  {
   "cell_type": "code",
   "execution_count": 1,
   "metadata": {
    "collapsed": true,
    "ExecuteTime": {
     "end_time": "2023-05-13T22:27:50.315694900Z",
     "start_time": "2023-05-13T22:27:40.958179Z"
    }
   },
   "outputs": [
    {
     "name": "stdout",
     "output_type": "stream",
     "text": [
      "CPU times: total: 1.25 s\n",
      "Wall time: 9.33 s\n"
     ]
    }
   ],
   "source": [
    "%%time\n",
    "\n",
    "from adlfs import AzureBlobFileSystem\n",
    "\n",
    "import time\n",
    "\n",
    "import json\n",
    "import pandas\n",
    "import pandas as pd\n",
    "from tqdm import tqdm\n",
    "\n",
    "from common.schemas.pyarrow_schema import tagging_schema\n",
    "from common.storage.azure_file_storage import AzureFileStorageAdapter\n",
    "from common.captioning.azure_descriptions import AzureCaption\n",
    "from common.schemas.pyarrow_schema import schema\n",
    "from PIL import Image\n",
    "import requests\n",
    "\n",
    "\n",
    "tqdm.pandas(desc=\"Progress\")\n",
    "file_system: AzureBlobFileSystem = AzureFileStorageAdapter('data').get_file_storage()\n",
    "\n",
    "from common.functions.functions import Functions\n",
    "\n",
    "functions: Functions = Functions()\n",
    "\n",
    "caption: AzureCaption = AzureCaption(file_system)"
   ]
  },
  {
   "cell_type": "code",
   "execution_count": 2,
   "outputs": [
    {
     "name": "stdout",
     "output_type": "stream",
     "text": [
      "CPU times: total: 234 ms\n",
      "Wall time: 4.68 s\n"
     ]
    }
   ],
   "source": [
    "%%time\n",
    "\n",
    "curated_df = pandas.read_parquet('data/parquet/back.parquet', filesystem=file_system, engine='pyarrow')"
   ],
   "metadata": {
    "collapsed": false,
    "ExecuteTime": {
     "end_time": "2023-05-13T22:27:55.007115300Z",
     "start_time": "2023-05-13T22:27:50.331261600Z"
    }
   }
  },
  {
   "cell_type": "code",
   "execution_count": 3,
   "outputs": [
    {
     "data": {
      "text/plain": "(31506, 7)"
     },
     "metadata": {},
     "output_type": "display_data"
    },
    {
     "data": {
      "text/plain": "(71716, 3)"
     },
     "metadata": {},
     "output_type": "display_data"
    },
    {
     "data": {
      "text/plain": "(3545, 6)"
     },
     "metadata": {},
     "output_type": "display_data"
    },
    {
     "name": "stdout",
     "output_type": "stream",
     "text": [
      "CPU times: total: 46.9 ms\n",
      "Wall time: 2.38 s\n"
     ]
    }
   ],
   "source": [
    "%%time\n",
    "\n",
    "captions = pd.read_parquet('data/parquet/image_captions.parquet', filesystem=file_system, engine='pyarrow')\n",
    "tags = pd.read_parquet('data/parquet/image_tags.parquet', filesystem=file_system, engine='pyarrow')\n",
    "crops = pd.read_parquet('data/parquet/image_cropping.parquet', filesystem=file_system, engine='pyarrow')\n",
    "\n",
    "display(captions.shape)\n",
    "display(tags.shape)\n",
    "display(crops.shape)"
   ],
   "metadata": {
    "collapsed": false,
    "ExecuteTime": {
     "end_time": "2023-05-13T22:27:57.407384400Z",
     "start_time": "2023-05-13T22:27:55.007115300Z"
    }
   }
  },
  {
   "cell_type": "code",
   "execution_count": 4,
   "outputs": [
    {
     "data": {
      "text/plain": "3568"
     },
     "metadata": {},
     "output_type": "display_data"
    },
    {
     "name": "stdout",
     "output_type": "stream",
     "text": [
      "CPU times: total: 469 ms\n",
      "Wall time: 5.1 s\n"
     ]
    }
   ],
   "source": [
    "%%time\n",
    "\n",
    "current_captions = file_system.ls(\"data/caption\")\n",
    "display(len(current_captions))"
   ],
   "metadata": {
    "collapsed": false,
    "ExecuteTime": {
     "end_time": "2023-05-13T22:28:02.524359700Z",
     "start_time": "2023-05-13T22:27:57.407384400Z"
    }
   }
  },
  {
   "cell_type": "code",
   "execution_count": 5,
   "outputs": [
    {
     "name": "stderr",
     "output_type": "stream",
     "text": [
      "Reading caption files: 100%|██████████| 3568/3568 [06:49<00:00,  8.72it/s]  \n"
     ]
    },
    {
     "name": "stdout",
     "output_type": "stream",
     "text": [
      "CPU times: total: 27.2 s\n",
      "Wall time: 6min 49s\n"
     ]
    }
   ],
   "source": [
    "%%time\n",
    "\n",
    "all_data = []\n",
    "for caption_file in tqdm(current_captions, total=len(current_captions), desc='Reading caption files'):\n",
    "\tcaption_data = json.loads(file_system.read_text(caption_file, encoding='utf-8'))\n",
    "\tdense_caption_result = caption_data.get('denseCaptionsResult')\n",
    "\tmetadata = caption_data.get('metadata')\n",
    "\ttags_result = caption_data.get('tagsResult')\n",
    "\tsmart_crop_result = caption_data.get('smartCropsResult')\n",
    "\tbasic_caption = caption_data.get('captionResult')\n",
    "\timage_id = caption_file.split('/')[-1].split('.')[0]\n",
    "\tfiltered_data = {\n",
    "\t\t\"id\": image_id,\n",
    "\t\t'captions': [basic_caption],\n",
    "\t\t\"dense_captions\": dense_caption_result['values'],\n",
    "\t\t\"meta\": [metadata],\n",
    "\t\t\"tags\": tags_result['values'],\n",
    "\t\t\"smart_crop\": smart_crop_result['values']\n",
    "\t}\n",
    "\tall_data.append(filtered_data)"
   ],
   "metadata": {
    "collapsed": false,
    "ExecuteTime": {
     "end_time": "2023-05-13T22:34:52.046192800Z",
     "start_time": "2023-05-13T22:28:02.524359700Z"
    }
   }
  },
  {
   "cell_type": "code",
   "execution_count": 6,
   "outputs": [
    {
     "name": "stdout",
     "output_type": "stream",
     "text": [
      "CPU times: total: 1.03 s\n",
      "Wall time: 3.11 s\n"
     ]
    }
   ],
   "source": [
    "%%time\n",
    "\n",
    "new_captions = pandas.json_normalize(data=all_data, record_path=['dense_captions'], meta=['id'], record_prefix='dense_captions_')\n",
    "new_tags = pandas.json_normalize(data=all_data, record_path=['tags'], meta=['id'], record_prefix='tags_')\n",
    "new_crops = pandas.json_normalize(data=all_data, record_path=['smart_crop'], meta=['id'], record_prefix='smart_crop_')"
   ],
   "metadata": {
    "collapsed": false,
    "ExecuteTime": {
     "end_time": "2023-05-13T22:34:55.075483100Z",
     "start_time": "2023-05-13T22:34:51.827446500Z"
    }
   }
  },
  {
   "cell_type": "code",
   "execution_count": 7,
   "outputs": [
    {
     "name": "stdout",
     "output_type": "stream",
     "text": [
      "CPU times: total: 0 ns\n",
      "Wall time: 78.1 ms\n"
     ]
    }
   ],
   "source": [
    "%%time\n",
    "\n",
    "new_basic_captions = pandas.json_normalize(data=all_data, record_path=['captions'], meta=['id'], record_prefix='captions_')\n",
    "meta = pandas.json_normalize(data=all_data, record_path=['meta'], meta=['id'], record_prefix='meta_')"
   ],
   "metadata": {
    "collapsed": false,
    "ExecuteTime": {
     "end_time": "2023-05-13T22:34:55.184860100Z",
     "start_time": "2023-05-13T22:34:55.075483100Z"
    }
   }
  },
  {
   "cell_type": "code",
   "execution_count": 8,
   "outputs": [
    {
     "data": {
      "text/plain": "                    dense_captions_text  dense_captions_confidence   \n0               a woman taking a selfie                   0.662057  \\\n1               a woman taking a selfie                   0.665344   \n2         a woman wearing a black dress                   0.473444   \n3                   a close up of a key                   0.593095   \n4                  a close up of an eye                   0.619898   \n...                                 ...                        ...   \n31728       a close-up of a green plant                   0.453059   \n31729  a mountain range in the distance                   0.334624   \n31730     a woman smiling at the camera                   0.465720   \n31731           a woman wearing a dress                   0.548892   \n31732              a close up of a hand                   0.566506   \n\n       dense_captions_boundingBox.x  dense_captions_boundingBox.y   \n0                                 0                             0  \\\n1                                 0                           100   \n2                               185                          1443   \n3                               716                          1503   \n4                               778                           744   \n...                             ...                           ...   \n31728                           680                          1066   \n31729                           498                           277   \n31730                           244                           293   \n31731                             0                           758   \n31732                           220                           809   \n\n       dense_captions_boundingBox.w  dense_captions_boundingBox.h       id  \n0                              1468                          2608  1002cx2  \n1                              1447                          2473  1002cx2  \n2                              1265                          1150  1002cx2  \n3                                82                           140  1002cx2  \n4                               152                            84  1002cx2  \n...                             ...                           ...      ...  \n31728                           394                           280   zzxq2l  \n31729                           568                            99   zzxq2l  \n31730                           319                           530   zzxq2l  \n31731                          1048                           570   zzxq2l  \n31732                            73                            55   zzxq2l  \n\n[31733 rows x 7 columns]",
      "text/html": "<div>\n<style scoped>\n    .dataframe tbody tr th:only-of-type {\n        vertical-align: middle;\n    }\n\n    .dataframe tbody tr th {\n        vertical-align: top;\n    }\n\n    .dataframe thead th {\n        text-align: right;\n    }\n</style>\n<table border=\"1\" class=\"dataframe\">\n  <thead>\n    <tr style=\"text-align: right;\">\n      <th></th>\n      <th>dense_captions_text</th>\n      <th>dense_captions_confidence</th>\n      <th>dense_captions_boundingBox.x</th>\n      <th>dense_captions_boundingBox.y</th>\n      <th>dense_captions_boundingBox.w</th>\n      <th>dense_captions_boundingBox.h</th>\n      <th>id</th>\n    </tr>\n  </thead>\n  <tbody>\n    <tr>\n      <th>0</th>\n      <td>a woman taking a selfie</td>\n      <td>0.662057</td>\n      <td>0</td>\n      <td>0</td>\n      <td>1468</td>\n      <td>2608</td>\n      <td>1002cx2</td>\n    </tr>\n    <tr>\n      <th>1</th>\n      <td>a woman taking a selfie</td>\n      <td>0.665344</td>\n      <td>0</td>\n      <td>100</td>\n      <td>1447</td>\n      <td>2473</td>\n      <td>1002cx2</td>\n    </tr>\n    <tr>\n      <th>2</th>\n      <td>a woman wearing a black dress</td>\n      <td>0.473444</td>\n      <td>185</td>\n      <td>1443</td>\n      <td>1265</td>\n      <td>1150</td>\n      <td>1002cx2</td>\n    </tr>\n    <tr>\n      <th>3</th>\n      <td>a close up of a key</td>\n      <td>0.593095</td>\n      <td>716</td>\n      <td>1503</td>\n      <td>82</td>\n      <td>140</td>\n      <td>1002cx2</td>\n    </tr>\n    <tr>\n      <th>4</th>\n      <td>a close up of an eye</td>\n      <td>0.619898</td>\n      <td>778</td>\n      <td>744</td>\n      <td>152</td>\n      <td>84</td>\n      <td>1002cx2</td>\n    </tr>\n    <tr>\n      <th>...</th>\n      <td>...</td>\n      <td>...</td>\n      <td>...</td>\n      <td>...</td>\n      <td>...</td>\n      <td>...</td>\n      <td>...</td>\n    </tr>\n    <tr>\n      <th>31728</th>\n      <td>a close-up of a green plant</td>\n      <td>0.453059</td>\n      <td>680</td>\n      <td>1066</td>\n      <td>394</td>\n      <td>280</td>\n      <td>zzxq2l</td>\n    </tr>\n    <tr>\n      <th>31729</th>\n      <td>a mountain range in the distance</td>\n      <td>0.334624</td>\n      <td>498</td>\n      <td>277</td>\n      <td>568</td>\n      <td>99</td>\n      <td>zzxq2l</td>\n    </tr>\n    <tr>\n      <th>31730</th>\n      <td>a woman smiling at the camera</td>\n      <td>0.465720</td>\n      <td>244</td>\n      <td>293</td>\n      <td>319</td>\n      <td>530</td>\n      <td>zzxq2l</td>\n    </tr>\n    <tr>\n      <th>31731</th>\n      <td>a woman wearing a dress</td>\n      <td>0.548892</td>\n      <td>0</td>\n      <td>758</td>\n      <td>1048</td>\n      <td>570</td>\n      <td>zzxq2l</td>\n    </tr>\n    <tr>\n      <th>31732</th>\n      <td>a close up of a hand</td>\n      <td>0.566506</td>\n      <td>220</td>\n      <td>809</td>\n      <td>73</td>\n      <td>55</td>\n      <td>zzxq2l</td>\n    </tr>\n  </tbody>\n</table>\n<p>31733 rows × 7 columns</p>\n</div>"
     },
     "metadata": {},
     "output_type": "display_data"
    },
    {
     "data": {
      "text/plain": "        tags_name  tags_confidence       id\n0          person         0.998358  1002cx2\n1      human face         0.997763  1002cx2\n2        clothing         0.990993  1002cx2\n3            lady         0.981919  1002cx2\n4           smile         0.964994  1002cx2\n...           ...              ...      ...\n72068       woman         0.753262   zzxq2l\n72069       beach         0.739799   zzxq2l\n72070    standing         0.630927   zzxq2l\n72071        girl         0.556561   zzxq2l\n72072    mountain         0.544261   zzxq2l\n\n[72073 rows x 3 columns]",
      "text/html": "<div>\n<style scoped>\n    .dataframe tbody tr th:only-of-type {\n        vertical-align: middle;\n    }\n\n    .dataframe tbody tr th {\n        vertical-align: top;\n    }\n\n    .dataframe thead th {\n        text-align: right;\n    }\n</style>\n<table border=\"1\" class=\"dataframe\">\n  <thead>\n    <tr style=\"text-align: right;\">\n      <th></th>\n      <th>tags_name</th>\n      <th>tags_confidence</th>\n      <th>id</th>\n    </tr>\n  </thead>\n  <tbody>\n    <tr>\n      <th>0</th>\n      <td>person</td>\n      <td>0.998358</td>\n      <td>1002cx2</td>\n    </tr>\n    <tr>\n      <th>1</th>\n      <td>human face</td>\n      <td>0.997763</td>\n      <td>1002cx2</td>\n    </tr>\n    <tr>\n      <th>2</th>\n      <td>clothing</td>\n      <td>0.990993</td>\n      <td>1002cx2</td>\n    </tr>\n    <tr>\n      <th>3</th>\n      <td>lady</td>\n      <td>0.981919</td>\n      <td>1002cx2</td>\n    </tr>\n    <tr>\n      <th>4</th>\n      <td>smile</td>\n      <td>0.964994</td>\n      <td>1002cx2</td>\n    </tr>\n    <tr>\n      <th>...</th>\n      <td>...</td>\n      <td>...</td>\n      <td>...</td>\n    </tr>\n    <tr>\n      <th>72068</th>\n      <td>woman</td>\n      <td>0.753262</td>\n      <td>zzxq2l</td>\n    </tr>\n    <tr>\n      <th>72069</th>\n      <td>beach</td>\n      <td>0.739799</td>\n      <td>zzxq2l</td>\n    </tr>\n    <tr>\n      <th>72070</th>\n      <td>standing</td>\n      <td>0.630927</td>\n      <td>zzxq2l</td>\n    </tr>\n    <tr>\n      <th>72071</th>\n      <td>girl</td>\n      <td>0.556561</td>\n      <td>zzxq2l</td>\n    </tr>\n    <tr>\n      <th>72072</th>\n      <td>mountain</td>\n      <td>0.544261</td>\n      <td>zzxq2l</td>\n    </tr>\n  </tbody>\n</table>\n<p>72073 rows × 3 columns</p>\n</div>"
     },
     "metadata": {},
     "output_type": "display_data"
    },
    {
     "data": {
      "text/plain": "      smart_crop_aspectRatio  smart_crop_boundingBox.x   \n0                        1.0                         0  \\\n1                        1.0                       143   \n2                        1.0                       206   \n3                        1.0                        67   \n4                        1.0                         0   \n...                      ...                       ...   \n3563                     1.0                         0   \n3564                     1.0                         0   \n3565                     1.0                         0   \n3566                     1.0                       135   \n3567                     1.0                       101   \n\n      smart_crop_boundingBox.y  smart_crop_boundingBox.w   \n0                          140                      1462  \\\n1                          138                      1249   \n2                            0                      3013   \n3                           10                       397   \n4                          253                      1025   \n...                        ...                       ...   \n3563                         0                      1025   \n3564                         0                       461   \n3565                         0                      2273   \n3566                         0                      1299   \n3567                       101                       970   \n\n      smart_crop_boundingBox.h       id  \n0                         1462  1002cx2  \n1                         1250  1003dod  \n2                         3012  10044wv  \n3                          396  1005neb  \n4                         1025  1007zxc  \n...                        ...      ...  \n3563                      1025   zzr9nz  \n3564                       461   zzruf4  \n3565                      2273   zzu8i8  \n3566                      1299   zzvv3x  \n3567                       970   zzxq2l  \n\n[3568 rows x 6 columns]",
      "text/html": "<div>\n<style scoped>\n    .dataframe tbody tr th:only-of-type {\n        vertical-align: middle;\n    }\n\n    .dataframe tbody tr th {\n        vertical-align: top;\n    }\n\n    .dataframe thead th {\n        text-align: right;\n    }\n</style>\n<table border=\"1\" class=\"dataframe\">\n  <thead>\n    <tr style=\"text-align: right;\">\n      <th></th>\n      <th>smart_crop_aspectRatio</th>\n      <th>smart_crop_boundingBox.x</th>\n      <th>smart_crop_boundingBox.y</th>\n      <th>smart_crop_boundingBox.w</th>\n      <th>smart_crop_boundingBox.h</th>\n      <th>id</th>\n    </tr>\n  </thead>\n  <tbody>\n    <tr>\n      <th>0</th>\n      <td>1.0</td>\n      <td>0</td>\n      <td>140</td>\n      <td>1462</td>\n      <td>1462</td>\n      <td>1002cx2</td>\n    </tr>\n    <tr>\n      <th>1</th>\n      <td>1.0</td>\n      <td>143</td>\n      <td>138</td>\n      <td>1249</td>\n      <td>1250</td>\n      <td>1003dod</td>\n    </tr>\n    <tr>\n      <th>2</th>\n      <td>1.0</td>\n      <td>206</td>\n      <td>0</td>\n      <td>3013</td>\n      <td>3012</td>\n      <td>10044wv</td>\n    </tr>\n    <tr>\n      <th>3</th>\n      <td>1.0</td>\n      <td>67</td>\n      <td>10</td>\n      <td>397</td>\n      <td>396</td>\n      <td>1005neb</td>\n    </tr>\n    <tr>\n      <th>4</th>\n      <td>1.0</td>\n      <td>0</td>\n      <td>253</td>\n      <td>1025</td>\n      <td>1025</td>\n      <td>1007zxc</td>\n    </tr>\n    <tr>\n      <th>...</th>\n      <td>...</td>\n      <td>...</td>\n      <td>...</td>\n      <td>...</td>\n      <td>...</td>\n      <td>...</td>\n    </tr>\n    <tr>\n      <th>3563</th>\n      <td>1.0</td>\n      <td>0</td>\n      <td>0</td>\n      <td>1025</td>\n      <td>1025</td>\n      <td>zzr9nz</td>\n    </tr>\n    <tr>\n      <th>3564</th>\n      <td>1.0</td>\n      <td>0</td>\n      <td>0</td>\n      <td>461</td>\n      <td>461</td>\n      <td>zzruf4</td>\n    </tr>\n    <tr>\n      <th>3565</th>\n      <td>1.0</td>\n      <td>0</td>\n      <td>0</td>\n      <td>2273</td>\n      <td>2273</td>\n      <td>zzu8i8</td>\n    </tr>\n    <tr>\n      <th>3566</th>\n      <td>1.0</td>\n      <td>135</td>\n      <td>0</td>\n      <td>1299</td>\n      <td>1299</td>\n      <td>zzvv3x</td>\n    </tr>\n    <tr>\n      <th>3567</th>\n      <td>1.0</td>\n      <td>101</td>\n      <td>101</td>\n      <td>970</td>\n      <td>970</td>\n      <td>zzxq2l</td>\n    </tr>\n  </tbody>\n</table>\n<p>3568 rows × 6 columns</p>\n</div>"
     },
     "metadata": {},
     "output_type": "display_data"
    },
    {
     "data": {
      "text/plain": "                                     captions_text  captions_confidence   \n0                          a woman taking a selfie             0.662057  \\\n1     a woman in a garment standing next to a tree             0.513081   \n2         a train on a bridge over a body of water             0.382730   \n3                an aerial view of a city at night             0.567479   \n4                           fireworks above a city             0.507308   \n...                                            ...                  ...   \n3563              two women in garments on a beach             0.529292   \n3564               a woman with tattoos on her arm             0.501798   \n3565                    a woman in a blue lingerie             0.430763   \n3566                      a woman sitting on a bed             0.584322   \n3567       a woman in a dress posing for a picture             0.460149   \n\n           id  \n0     1002cx2  \n1     1003dod  \n2     10044wv  \n3     1005neb  \n4     1007zxc  \n...       ...  \n3563   zzr9nz  \n3564   zzruf4  \n3565   zzu8i8  \n3566   zzvv3x  \n3567   zzxq2l  \n\n[3568 rows x 3 columns]",
      "text/html": "<div>\n<style scoped>\n    .dataframe tbody tr th:only-of-type {\n        vertical-align: middle;\n    }\n\n    .dataframe tbody tr th {\n        vertical-align: top;\n    }\n\n    .dataframe thead th {\n        text-align: right;\n    }\n</style>\n<table border=\"1\" class=\"dataframe\">\n  <thead>\n    <tr style=\"text-align: right;\">\n      <th></th>\n      <th>captions_text</th>\n      <th>captions_confidence</th>\n      <th>id</th>\n    </tr>\n  </thead>\n  <tbody>\n    <tr>\n      <th>0</th>\n      <td>a woman taking a selfie</td>\n      <td>0.662057</td>\n      <td>1002cx2</td>\n    </tr>\n    <tr>\n      <th>1</th>\n      <td>a woman in a garment standing next to a tree</td>\n      <td>0.513081</td>\n      <td>1003dod</td>\n    </tr>\n    <tr>\n      <th>2</th>\n      <td>a train on a bridge over a body of water</td>\n      <td>0.382730</td>\n      <td>10044wv</td>\n    </tr>\n    <tr>\n      <th>3</th>\n      <td>an aerial view of a city at night</td>\n      <td>0.567479</td>\n      <td>1005neb</td>\n    </tr>\n    <tr>\n      <th>4</th>\n      <td>fireworks above a city</td>\n      <td>0.507308</td>\n      <td>1007zxc</td>\n    </tr>\n    <tr>\n      <th>...</th>\n      <td>...</td>\n      <td>...</td>\n      <td>...</td>\n    </tr>\n    <tr>\n      <th>3563</th>\n      <td>two women in garments on a beach</td>\n      <td>0.529292</td>\n      <td>zzr9nz</td>\n    </tr>\n    <tr>\n      <th>3564</th>\n      <td>a woman with tattoos on her arm</td>\n      <td>0.501798</td>\n      <td>zzruf4</td>\n    </tr>\n    <tr>\n      <th>3565</th>\n      <td>a woman in a blue lingerie</td>\n      <td>0.430763</td>\n      <td>zzu8i8</td>\n    </tr>\n    <tr>\n      <th>3566</th>\n      <td>a woman sitting on a bed</td>\n      <td>0.584322</td>\n      <td>zzvv3x</td>\n    </tr>\n    <tr>\n      <th>3567</th>\n      <td>a woman in a dress posing for a picture</td>\n      <td>0.460149</td>\n      <td>zzxq2l</td>\n    </tr>\n  </tbody>\n</table>\n<p>3568 rows × 3 columns</p>\n</div>"
     },
     "metadata": {},
     "output_type": "display_data"
    },
    {
     "data": {
      "text/plain": "      meta_width  meta_height       id\n0           1468         2608  1002cx2\n1           1523         2030  1003dod\n2           4032         3024  10044wv\n3            612          408  1005neb\n4           1080         1350  1007zxc\n...          ...          ...      ...\n3563        1080         1350   zzr9nz\n3564         570          704   zzruf4\n3565        2309         2560   zzu8i8\n3566        1440         1800   zzvv3x\n3567        1075         1351   zzxq2l\n\n[3568 rows x 3 columns]",
      "text/html": "<div>\n<style scoped>\n    .dataframe tbody tr th:only-of-type {\n        vertical-align: middle;\n    }\n\n    .dataframe tbody tr th {\n        vertical-align: top;\n    }\n\n    .dataframe thead th {\n        text-align: right;\n    }\n</style>\n<table border=\"1\" class=\"dataframe\">\n  <thead>\n    <tr style=\"text-align: right;\">\n      <th></th>\n      <th>meta_width</th>\n      <th>meta_height</th>\n      <th>id</th>\n    </tr>\n  </thead>\n  <tbody>\n    <tr>\n      <th>0</th>\n      <td>1468</td>\n      <td>2608</td>\n      <td>1002cx2</td>\n    </tr>\n    <tr>\n      <th>1</th>\n      <td>1523</td>\n      <td>2030</td>\n      <td>1003dod</td>\n    </tr>\n    <tr>\n      <th>2</th>\n      <td>4032</td>\n      <td>3024</td>\n      <td>10044wv</td>\n    </tr>\n    <tr>\n      <th>3</th>\n      <td>612</td>\n      <td>408</td>\n      <td>1005neb</td>\n    </tr>\n    <tr>\n      <th>4</th>\n      <td>1080</td>\n      <td>1350</td>\n      <td>1007zxc</td>\n    </tr>\n    <tr>\n      <th>...</th>\n      <td>...</td>\n      <td>...</td>\n      <td>...</td>\n    </tr>\n    <tr>\n      <th>3563</th>\n      <td>1080</td>\n      <td>1350</td>\n      <td>zzr9nz</td>\n    </tr>\n    <tr>\n      <th>3564</th>\n      <td>570</td>\n      <td>704</td>\n      <td>zzruf4</td>\n    </tr>\n    <tr>\n      <th>3565</th>\n      <td>2309</td>\n      <td>2560</td>\n      <td>zzu8i8</td>\n    </tr>\n    <tr>\n      <th>3566</th>\n      <td>1440</td>\n      <td>1800</td>\n      <td>zzvv3x</td>\n    </tr>\n    <tr>\n      <th>3567</th>\n      <td>1075</td>\n      <td>1351</td>\n      <td>zzxq2l</td>\n    </tr>\n  </tbody>\n</table>\n<p>3568 rows × 3 columns</p>\n</div>"
     },
     "metadata": {},
     "output_type": "display_data"
    },
    {
     "name": "stdout",
     "output_type": "stream",
     "text": [
      "CPU times: total: 15.6 ms\n",
      "Wall time: 109 ms\n"
     ]
    }
   ],
   "source": [
    "%%time\n",
    "\n",
    "display(new_captions)\n",
    "display(new_tags)\n",
    "display(new_crops)\n",
    "display(new_basic_captions)\n",
    "display(meta)"
   ],
   "metadata": {
    "collapsed": false,
    "ExecuteTime": {
     "end_time": "2023-05-13T22:34:55.336150600Z",
     "start_time": "2023-05-13T22:34:55.184860100Z"
    }
   }
  },
  {
   "cell_type": "code",
   "execution_count": 9,
   "outputs": [
    {
     "data": {
      "text/plain": "                                     captions_text  captions_confidence   \n0                          a woman taking a selfie             0.662057  \\\n1     a woman in a garment standing next to a tree             0.513081   \n2         a train on a bridge over a body of water             0.382730   \n3                an aerial view of a city at night             0.567479   \n4                           fireworks above a city             0.507308   \n...                                            ...                  ...   \n3563              two women in garments on a beach             0.529292   \n3564               a woman with tattoos on her arm             0.501798   \n3565                    a woman in a blue lingerie             0.430763   \n3566                      a woman sitting on a bed             0.584322   \n3567       a woman in a dress posing for a picture             0.460149   \n\n           id  meta_width  meta_height  \n0     1002cx2        1468         2608  \n1     1003dod        1523         2030  \n2     10044wv        4032         3024  \n3     1005neb         612          408  \n4     1007zxc        1080         1350  \n...       ...         ...          ...  \n3563   zzr9nz        1080         1350  \n3564   zzruf4         570          704  \n3565   zzu8i8        2309         2560  \n3566   zzvv3x        1440         1800  \n3567   zzxq2l        1075         1351  \n\n[3568 rows x 5 columns]",
      "text/html": "<div>\n<style scoped>\n    .dataframe tbody tr th:only-of-type {\n        vertical-align: middle;\n    }\n\n    .dataframe tbody tr th {\n        vertical-align: top;\n    }\n\n    .dataframe thead th {\n        text-align: right;\n    }\n</style>\n<table border=\"1\" class=\"dataframe\">\n  <thead>\n    <tr style=\"text-align: right;\">\n      <th></th>\n      <th>captions_text</th>\n      <th>captions_confidence</th>\n      <th>id</th>\n      <th>meta_width</th>\n      <th>meta_height</th>\n    </tr>\n  </thead>\n  <tbody>\n    <tr>\n      <th>0</th>\n      <td>a woman taking a selfie</td>\n      <td>0.662057</td>\n      <td>1002cx2</td>\n      <td>1468</td>\n      <td>2608</td>\n    </tr>\n    <tr>\n      <th>1</th>\n      <td>a woman in a garment standing next to a tree</td>\n      <td>0.513081</td>\n      <td>1003dod</td>\n      <td>1523</td>\n      <td>2030</td>\n    </tr>\n    <tr>\n      <th>2</th>\n      <td>a train on a bridge over a body of water</td>\n      <td>0.382730</td>\n      <td>10044wv</td>\n      <td>4032</td>\n      <td>3024</td>\n    </tr>\n    <tr>\n      <th>3</th>\n      <td>an aerial view of a city at night</td>\n      <td>0.567479</td>\n      <td>1005neb</td>\n      <td>612</td>\n      <td>408</td>\n    </tr>\n    <tr>\n      <th>4</th>\n      <td>fireworks above a city</td>\n      <td>0.507308</td>\n      <td>1007zxc</td>\n      <td>1080</td>\n      <td>1350</td>\n    </tr>\n    <tr>\n      <th>...</th>\n      <td>...</td>\n      <td>...</td>\n      <td>...</td>\n      <td>...</td>\n      <td>...</td>\n    </tr>\n    <tr>\n      <th>3563</th>\n      <td>two women in garments on a beach</td>\n      <td>0.529292</td>\n      <td>zzr9nz</td>\n      <td>1080</td>\n      <td>1350</td>\n    </tr>\n    <tr>\n      <th>3564</th>\n      <td>a woman with tattoos on her arm</td>\n      <td>0.501798</td>\n      <td>zzruf4</td>\n      <td>570</td>\n      <td>704</td>\n    </tr>\n    <tr>\n      <th>3565</th>\n      <td>a woman in a blue lingerie</td>\n      <td>0.430763</td>\n      <td>zzu8i8</td>\n      <td>2309</td>\n      <td>2560</td>\n    </tr>\n    <tr>\n      <th>3566</th>\n      <td>a woman sitting on a bed</td>\n      <td>0.584322</td>\n      <td>zzvv3x</td>\n      <td>1440</td>\n      <td>1800</td>\n    </tr>\n    <tr>\n      <th>3567</th>\n      <td>a woman in a dress posing for a picture</td>\n      <td>0.460149</td>\n      <td>zzxq2l</td>\n      <td>1075</td>\n      <td>1351</td>\n    </tr>\n  </tbody>\n</table>\n<p>3568 rows × 5 columns</p>\n</div>"
     },
     "metadata": {},
     "output_type": "display_data"
    }
   ],
   "source": [
    "merge_singles = pandas.merge(new_basic_captions, meta, on='id').set_index(keys=['id'], drop=False)\n",
    "merge_singles.drop_duplicates(inplace=True)\n",
    "merge_singles.reset_index(drop=True, inplace=True)\n",
    "display(merge_singles)"
   ],
   "metadata": {
    "collapsed": false,
    "ExecuteTime": {
     "end_time": "2023-05-13T22:34:55.976731300Z",
     "start_time": "2023-05-13T22:34:55.309854300Z"
    }
   }
  },
  {
   "cell_type": "code",
   "execution_count": 10,
   "outputs": [
    {
     "data": {
      "text/plain": "                                        captions_text captions_confidence   \nid                                                                          \n1002cx2                       a woman taking a selfie            0.662057  \\\n1003dod  a woman in a garment standing next to a tree            0.513081   \n10044wv      a train on a bridge over a body of water             0.38273   \n1005neb             an aerial view of a city at night            0.567479   \n1007zxc                        fireworks above a city            0.507308   \n...                                               ...                 ...   \n13d2hsf                                                                     \n13d661b                                                                     \n13d8s0i                                                                     \n13dagbr                                                                     \n13dbhn4                                                                     \n\n              id meta_width meta_height         subreddit   \nid                                                          \n1002cx2  1002cx2     1468.0      2608.0       SFWRedheads  \\\n1003dod  1003dod     1523.0      2030.0   HotGirlNextDoor   \n10044wv  10044wv     4032.0      3024.0          CityPorn   \n1005neb  1005neb      612.0       408.0          CityPorn   \n1007zxc  1007zxc     1080.0      1350.0          CityPorn   \n...          ...        ...         ...               ...   \n13d2hsf  13d2hsf                         bathandbodyworks   \n13d661b  13d661b                         bathandbodyworks   \n13d8s0i  13d8s0i                         bathandbodyworks   \n13dagbr  13dagbr                         bathandbodyworks   \n13dbhn4  13dbhn4                         bathandbodyworks   \n\n                       author   \nid                              \n1002cx2          Sayleywayley  \\\n1003dod          fairytale808   \n10044wv          dawginphilly   \n1005neb         drizzydriller   \n1007zxc          Poohbizzle79   \n...                       ...   \n13d2hsf           alesieoksap   \n13d661b                xeloux   \n13d8s0i  Alternative-Tea-9355   \n13dagbr                Dove04   \n13dbhn4         Thebigbooty01   \n\n                                                     title   \nid                                                           \n1002cx2  Happy New Year to every single person near and...  \\\n1003dod                             pink and blonde (iktr)   \n10044wv                             Wissahickon, Phila, PA   \n1005neb  Madrid, Spain: You have to appreciate the layo...   \n1007zxc                                   Berlin, Germany.   \n...                                                    ...   \n13d2hsf                         Ice Cream Shop Collection?   \n13d661b                             Facebook market finds!   \n13d8s0i                           Black Cherry Merlot dupe   \n13dagbr  Does anyone know how I could get rid of this r...   \n13dbhn4                               Gratis today at work   \n\n                                                   caption   \nid                                                           \n1002cx2  blonde woman with red hair and black bra top p...  \\\n1003dod  blonde woman in pink bikinisuit standing on a ...   \n10044wv    arafed view of a train on a bridge over a river   \n1005neb  a view of a city at night with a lot of lights...   \n1007zxc  fireworks are lit up in the night sky above a ...   \n...                                                    ...   \n13d2hsf   someone holding a cup of ice cream in their hand   \n13d661b    three candles are sitting on a blanket on a bed   \n13d8s0i    someone holding a tube of body cream in a store   \n13dagbr  someone is holding a white device with a hole ...   \n13dbhn4  there are some bottles of bath and body produc...   \n\n                                     hash   \nid                                          \n1002cx2  1fb785ca16b10f4f7613961f0b88f369  \\\n1003dod  0849c7aafe126ad27b58cb6e6c9c6592   \n10044wv  abb87d7618eec7cd6a86d7647263ea1b   \n1005neb  252c222cce39813a08878117b63723d9   \n1007zxc  8a85fb4a9347fa86c080d2f178663ccc   \n...                                   ...   \n13d2hsf  c6788074138175c661fc652bd7630e33   \n13d661b  e868289445c195815dd67dd0df1a65cb   \n13d8s0i  965bc5a58a597192700234729758101b   \n13dagbr  41732e4109a99c99c91c2181867d18e3   \n13dbhn4  f2afdcbed21cc1f44ac757bf2f797ae6   \n\n                                                 permalink   \nid                                                           \n1002cx2  /r/SFWRedheads/comments/1002cx2/happy_new_year...  \\\n1003dod  /r/HotGirlNextDoor/comments/1003dod/pink_and_b...   \n10044wv  /r/CityPorn/comments/10044wv/wissahickon_phila...   \n1005neb  /r/CityPorn/comments/1005neb/madrid_spain_you_...   \n1007zxc       /r/CityPorn/comments/1007zxc/berlin_germany/   \n...                                                    ...   \n13d2hsf  /r/bathandbodyworks/comments/13d2hsf/ice_cream...   \n13d661b  /r/bathandbodyworks/comments/13d661b/facebook_...   \n13d8s0i  /r/bathandbodyworks/comments/13d8s0i/black_che...   \n13dagbr  /r/bathandbodyworks/comments/13dagbr/does_anyo...   \n13dbhn4  /r/bathandbodyworks/comments/13dbhn4/gratis_to...   \n\n                                original_url   image_name   \nid                                                          \n1002cx2  https://i.redd.it/el3s490lzb9a1.jpg  1002cx2.jpg  \\\n1003dod  https://i.redd.it/x56eekrd8c9a1.jpg  1003dod.jpg   \n10044wv  https://i.redd.it/4y6hzocyec9a1.jpg  10044wv.jpg   \n1005neb  https://i.redd.it/o4sh9b7csc9a1.jpg  1005neb.jpg   \n1007zxc  https://i.redd.it/06iww0mced9a1.jpg  1007zxc.jpg   \n...                                      ...          ...   \n13d2hsf  https://i.redd.it/uhwamoq99wya1.jpg  13d2hsf.jpg   \n13d661b  https://i.redd.it/skd10hefxwya1.jpg  13d661b.jpg   \n13d8s0i  https://i.redd.it/xt7qew9qexya1.jpg  13d8s0i.jpg   \n13dagbr  https://i.redd.it/p0j6atz6rxya1.jpg  13dagbr.jpg   \n13dbhn4  https://i.redd.it/x954qki8zxya1.jpg  13dbhn4.jpg   \n\n                           path             model  exists  curated  accept   \nid                                                                           \n1002cx2  data/image/1002cx2.jpg  RedHeadDiffusion    True     True    True  \\\n1003dod  data/image/1003dod.jpg     SexyDiffusion    True     True    True   \n10044wv  data/image/10044wv.jpg     CityDiffusion    True     True    True   \n1005neb  data/image/1005neb.jpg     CityDiffusion    True     True    True   \n1007zxc  data/image/1007zxc.jpg     CityDiffusion    True     True    True   \n...                         ...               ...     ...      ...     ...   \n13d2hsf  data/image/13d2hsf.jpg   CandleDiffusion    True     True    True   \n13d661b  data/image/13d661b.jpg   CandleDiffusion    True     True    True   \n13d8s0i  data/image/13d8s0i.jpg   CandleDiffusion    True     True   False   \n13dagbr  data/image/13dagbr.jpg   CandleDiffusion    True     True   False   \n13dbhn4  data/image/13dbhn4.jpg   CandleDiffusion    True     True    True   \n\n        tags  \nid            \n1002cx2   []  \n1003dod   []  \n10044wv   []  \n1005neb   []  \n1007zxc   []  \n...      ...  \n13d2hsf   []  \n13d661b   []  \n13d8s0i   []  \n13dagbr   []  \n13dbhn4   []  \n\n[37031 rows x 19 columns]",
      "text/html": "<div>\n<style scoped>\n    .dataframe tbody tr th:only-of-type {\n        vertical-align: middle;\n    }\n\n    .dataframe tbody tr th {\n        vertical-align: top;\n    }\n\n    .dataframe thead th {\n        text-align: right;\n    }\n</style>\n<table border=\"1\" class=\"dataframe\">\n  <thead>\n    <tr style=\"text-align: right;\">\n      <th></th>\n      <th>captions_text</th>\n      <th>captions_confidence</th>\n      <th>id</th>\n      <th>meta_width</th>\n      <th>meta_height</th>\n      <th>subreddit</th>\n      <th>author</th>\n      <th>title</th>\n      <th>caption</th>\n      <th>hash</th>\n      <th>permalink</th>\n      <th>original_url</th>\n      <th>image_name</th>\n      <th>path</th>\n      <th>model</th>\n      <th>exists</th>\n      <th>curated</th>\n      <th>accept</th>\n      <th>tags</th>\n    </tr>\n    <tr>\n      <th>id</th>\n      <th></th>\n      <th></th>\n      <th></th>\n      <th></th>\n      <th></th>\n      <th></th>\n      <th></th>\n      <th></th>\n      <th></th>\n      <th></th>\n      <th></th>\n      <th></th>\n      <th></th>\n      <th></th>\n      <th></th>\n      <th></th>\n      <th></th>\n      <th></th>\n      <th></th>\n    </tr>\n  </thead>\n  <tbody>\n    <tr>\n      <th>1002cx2</th>\n      <td>a woman taking a selfie</td>\n      <td>0.662057</td>\n      <td>1002cx2</td>\n      <td>1468.0</td>\n      <td>2608.0</td>\n      <td>SFWRedheads</td>\n      <td>Sayleywayley</td>\n      <td>Happy New Year to every single person near and...</td>\n      <td>blonde woman with red hair and black bra top p...</td>\n      <td>1fb785ca16b10f4f7613961f0b88f369</td>\n      <td>/r/SFWRedheads/comments/1002cx2/happy_new_year...</td>\n      <td>https://i.redd.it/el3s490lzb9a1.jpg</td>\n      <td>1002cx2.jpg</td>\n      <td>data/image/1002cx2.jpg</td>\n      <td>RedHeadDiffusion</td>\n      <td>True</td>\n      <td>True</td>\n      <td>True</td>\n      <td>[]</td>\n    </tr>\n    <tr>\n      <th>1003dod</th>\n      <td>a woman in a garment standing next to a tree</td>\n      <td>0.513081</td>\n      <td>1003dod</td>\n      <td>1523.0</td>\n      <td>2030.0</td>\n      <td>HotGirlNextDoor</td>\n      <td>fairytale808</td>\n      <td>pink and blonde (iktr)</td>\n      <td>blonde woman in pink bikinisuit standing on a ...</td>\n      <td>0849c7aafe126ad27b58cb6e6c9c6592</td>\n      <td>/r/HotGirlNextDoor/comments/1003dod/pink_and_b...</td>\n      <td>https://i.redd.it/x56eekrd8c9a1.jpg</td>\n      <td>1003dod.jpg</td>\n      <td>data/image/1003dod.jpg</td>\n      <td>SexyDiffusion</td>\n      <td>True</td>\n      <td>True</td>\n      <td>True</td>\n      <td>[]</td>\n    </tr>\n    <tr>\n      <th>10044wv</th>\n      <td>a train on a bridge over a body of water</td>\n      <td>0.38273</td>\n      <td>10044wv</td>\n      <td>4032.0</td>\n      <td>3024.0</td>\n      <td>CityPorn</td>\n      <td>dawginphilly</td>\n      <td>Wissahickon, Phila, PA</td>\n      <td>arafed view of a train on a bridge over a river</td>\n      <td>abb87d7618eec7cd6a86d7647263ea1b</td>\n      <td>/r/CityPorn/comments/10044wv/wissahickon_phila...</td>\n      <td>https://i.redd.it/4y6hzocyec9a1.jpg</td>\n      <td>10044wv.jpg</td>\n      <td>data/image/10044wv.jpg</td>\n      <td>CityDiffusion</td>\n      <td>True</td>\n      <td>True</td>\n      <td>True</td>\n      <td>[]</td>\n    </tr>\n    <tr>\n      <th>1005neb</th>\n      <td>an aerial view of a city at night</td>\n      <td>0.567479</td>\n      <td>1005neb</td>\n      <td>612.0</td>\n      <td>408.0</td>\n      <td>CityPorn</td>\n      <td>drizzydriller</td>\n      <td>Madrid, Spain: You have to appreciate the layo...</td>\n      <td>a view of a city at night with a lot of lights...</td>\n      <td>252c222cce39813a08878117b63723d9</td>\n      <td>/r/CityPorn/comments/1005neb/madrid_spain_you_...</td>\n      <td>https://i.redd.it/o4sh9b7csc9a1.jpg</td>\n      <td>1005neb.jpg</td>\n      <td>data/image/1005neb.jpg</td>\n      <td>CityDiffusion</td>\n      <td>True</td>\n      <td>True</td>\n      <td>True</td>\n      <td>[]</td>\n    </tr>\n    <tr>\n      <th>1007zxc</th>\n      <td>fireworks above a city</td>\n      <td>0.507308</td>\n      <td>1007zxc</td>\n      <td>1080.0</td>\n      <td>1350.0</td>\n      <td>CityPorn</td>\n      <td>Poohbizzle79</td>\n      <td>Berlin, Germany.</td>\n      <td>fireworks are lit up in the night sky above a ...</td>\n      <td>8a85fb4a9347fa86c080d2f178663ccc</td>\n      <td>/r/CityPorn/comments/1007zxc/berlin_germany/</td>\n      <td>https://i.redd.it/06iww0mced9a1.jpg</td>\n      <td>1007zxc.jpg</td>\n      <td>data/image/1007zxc.jpg</td>\n      <td>CityDiffusion</td>\n      <td>True</td>\n      <td>True</td>\n      <td>True</td>\n      <td>[]</td>\n    </tr>\n    <tr>\n      <th>...</th>\n      <td>...</td>\n      <td>...</td>\n      <td>...</td>\n      <td>...</td>\n      <td>...</td>\n      <td>...</td>\n      <td>...</td>\n      <td>...</td>\n      <td>...</td>\n      <td>...</td>\n      <td>...</td>\n      <td>...</td>\n      <td>...</td>\n      <td>...</td>\n      <td>...</td>\n      <td>...</td>\n      <td>...</td>\n      <td>...</td>\n      <td>...</td>\n    </tr>\n    <tr>\n      <th>13d2hsf</th>\n      <td></td>\n      <td></td>\n      <td>13d2hsf</td>\n      <td></td>\n      <td></td>\n      <td>bathandbodyworks</td>\n      <td>alesieoksap</td>\n      <td>Ice Cream Shop Collection?</td>\n      <td>someone holding a cup of ice cream in their hand</td>\n      <td>c6788074138175c661fc652bd7630e33</td>\n      <td>/r/bathandbodyworks/comments/13d2hsf/ice_cream...</td>\n      <td>https://i.redd.it/uhwamoq99wya1.jpg</td>\n      <td>13d2hsf.jpg</td>\n      <td>data/image/13d2hsf.jpg</td>\n      <td>CandleDiffusion</td>\n      <td>True</td>\n      <td>True</td>\n      <td>True</td>\n      <td>[]</td>\n    </tr>\n    <tr>\n      <th>13d661b</th>\n      <td></td>\n      <td></td>\n      <td>13d661b</td>\n      <td></td>\n      <td></td>\n      <td>bathandbodyworks</td>\n      <td>xeloux</td>\n      <td>Facebook market finds!</td>\n      <td>three candles are sitting on a blanket on a bed</td>\n      <td>e868289445c195815dd67dd0df1a65cb</td>\n      <td>/r/bathandbodyworks/comments/13d661b/facebook_...</td>\n      <td>https://i.redd.it/skd10hefxwya1.jpg</td>\n      <td>13d661b.jpg</td>\n      <td>data/image/13d661b.jpg</td>\n      <td>CandleDiffusion</td>\n      <td>True</td>\n      <td>True</td>\n      <td>True</td>\n      <td>[]</td>\n    </tr>\n    <tr>\n      <th>13d8s0i</th>\n      <td></td>\n      <td></td>\n      <td>13d8s0i</td>\n      <td></td>\n      <td></td>\n      <td>bathandbodyworks</td>\n      <td>Alternative-Tea-9355</td>\n      <td>Black Cherry Merlot dupe</td>\n      <td>someone holding a tube of body cream in a store</td>\n      <td>965bc5a58a597192700234729758101b</td>\n      <td>/r/bathandbodyworks/comments/13d8s0i/black_che...</td>\n      <td>https://i.redd.it/xt7qew9qexya1.jpg</td>\n      <td>13d8s0i.jpg</td>\n      <td>data/image/13d8s0i.jpg</td>\n      <td>CandleDiffusion</td>\n      <td>True</td>\n      <td>True</td>\n      <td>False</td>\n      <td>[]</td>\n    </tr>\n    <tr>\n      <th>13dagbr</th>\n      <td></td>\n      <td></td>\n      <td>13dagbr</td>\n      <td></td>\n      <td></td>\n      <td>bathandbodyworks</td>\n      <td>Dove04</td>\n      <td>Does anyone know how I could get rid of this r...</td>\n      <td>someone is holding a white device with a hole ...</td>\n      <td>41732e4109a99c99c91c2181867d18e3</td>\n      <td>/r/bathandbodyworks/comments/13dagbr/does_anyo...</td>\n      <td>https://i.redd.it/p0j6atz6rxya1.jpg</td>\n      <td>13dagbr.jpg</td>\n      <td>data/image/13dagbr.jpg</td>\n      <td>CandleDiffusion</td>\n      <td>True</td>\n      <td>True</td>\n      <td>False</td>\n      <td>[]</td>\n    </tr>\n    <tr>\n      <th>13dbhn4</th>\n      <td></td>\n      <td></td>\n      <td>13dbhn4</td>\n      <td></td>\n      <td></td>\n      <td>bathandbodyworks</td>\n      <td>Thebigbooty01</td>\n      <td>Gratis today at work</td>\n      <td>there are some bottles of bath and body produc...</td>\n      <td>f2afdcbed21cc1f44ac757bf2f797ae6</td>\n      <td>/r/bathandbodyworks/comments/13dbhn4/gratis_to...</td>\n      <td>https://i.redd.it/x954qki8zxya1.jpg</td>\n      <td>13dbhn4.jpg</td>\n      <td>data/image/13dbhn4.jpg</td>\n      <td>CandleDiffusion</td>\n      <td>True</td>\n      <td>True</td>\n      <td>True</td>\n      <td>[]</td>\n    </tr>\n  </tbody>\n</table>\n<p>37031 rows × 19 columns</p>\n</div>"
     },
     "metadata": {},
     "output_type": "display_data"
    }
   ],
   "source": [
    "merged_to_curate = pandas.merge(merge_singles, curated_df, on='id', how='outer').set_index(keys=['id'], drop=False)\n",
    "merged_to_curate.fillna(value='', inplace=True)\n",
    "display(merged_to_curate)"
   ],
   "metadata": {
    "collapsed": false,
    "ExecuteTime": {
     "end_time": "2023-05-13T22:34:56.462603600Z",
     "start_time": "2023-05-13T22:34:55.414200700Z"
    }
   }
  },
  {
   "cell_type": "code",
   "execution_count": 11,
   "outputs": [
    {
     "data": {
      "text/plain": "'227 new rows added to captions'"
     },
     "metadata": {},
     "output_type": "display_data"
    },
    {
     "data": {
      "text/plain": "                    dense_captions_text  dense_captions_confidence   \n0               a woman taking a selfie                   0.662057  \\\n1               a woman taking a selfie                   0.665344   \n2         a woman wearing a black dress                   0.473444   \n3                   a close up of a key                   0.593095   \n4                  a close up of an eye                   0.619898   \n...                                 ...                        ...   \n31728       a close-up of a green plant                   0.453059   \n31729  a mountain range in the distance                   0.334624   \n31730     a woman smiling at the camera                   0.465720   \n31731           a woman wearing a dress                   0.548892   \n31732              a close up of a hand                   0.566506   \n\n       dense_captions_boundingBox.x  dense_captions_boundingBox.y   \n0                                 0                             0  \\\n1                                 0                           100   \n2                               185                          1443   \n3                               716                          1503   \n4                               778                           744   \n...                             ...                           ...   \n31728                           680                          1066   \n31729                           498                           277   \n31730                           244                           293   \n31731                             0                           758   \n31732                           220                           809   \n\n       dense_captions_boundingBox.w  dense_captions_boundingBox.h       id  \n0                              1468                          2608  1002cx2  \n1                              1447                          2473  1002cx2  \n2                              1265                          1150  1002cx2  \n3                                82                           140  1002cx2  \n4                               152                            84  1002cx2  \n...                             ...                           ...      ...  \n31728                           394                           280   zzxq2l  \n31729                           568                            99   zzxq2l  \n31730                           319                           530   zzxq2l  \n31731                          1048                           570   zzxq2l  \n31732                            73                            55   zzxq2l  \n\n[31733 rows x 7 columns]",
      "text/html": "<div>\n<style scoped>\n    .dataframe tbody tr th:only-of-type {\n        vertical-align: middle;\n    }\n\n    .dataframe tbody tr th {\n        vertical-align: top;\n    }\n\n    .dataframe thead th {\n        text-align: right;\n    }\n</style>\n<table border=\"1\" class=\"dataframe\">\n  <thead>\n    <tr style=\"text-align: right;\">\n      <th></th>\n      <th>dense_captions_text</th>\n      <th>dense_captions_confidence</th>\n      <th>dense_captions_boundingBox.x</th>\n      <th>dense_captions_boundingBox.y</th>\n      <th>dense_captions_boundingBox.w</th>\n      <th>dense_captions_boundingBox.h</th>\n      <th>id</th>\n    </tr>\n  </thead>\n  <tbody>\n    <tr>\n      <th>0</th>\n      <td>a woman taking a selfie</td>\n      <td>0.662057</td>\n      <td>0</td>\n      <td>0</td>\n      <td>1468</td>\n      <td>2608</td>\n      <td>1002cx2</td>\n    </tr>\n    <tr>\n      <th>1</th>\n      <td>a woman taking a selfie</td>\n      <td>0.665344</td>\n      <td>0</td>\n      <td>100</td>\n      <td>1447</td>\n      <td>2473</td>\n      <td>1002cx2</td>\n    </tr>\n    <tr>\n      <th>2</th>\n      <td>a woman wearing a black dress</td>\n      <td>0.473444</td>\n      <td>185</td>\n      <td>1443</td>\n      <td>1265</td>\n      <td>1150</td>\n      <td>1002cx2</td>\n    </tr>\n    <tr>\n      <th>3</th>\n      <td>a close up of a key</td>\n      <td>0.593095</td>\n      <td>716</td>\n      <td>1503</td>\n      <td>82</td>\n      <td>140</td>\n      <td>1002cx2</td>\n    </tr>\n    <tr>\n      <th>4</th>\n      <td>a close up of an eye</td>\n      <td>0.619898</td>\n      <td>778</td>\n      <td>744</td>\n      <td>152</td>\n      <td>84</td>\n      <td>1002cx2</td>\n    </tr>\n    <tr>\n      <th>...</th>\n      <td>...</td>\n      <td>...</td>\n      <td>...</td>\n      <td>...</td>\n      <td>...</td>\n      <td>...</td>\n      <td>...</td>\n    </tr>\n    <tr>\n      <th>31728</th>\n      <td>a close-up of a green plant</td>\n      <td>0.453059</td>\n      <td>680</td>\n      <td>1066</td>\n      <td>394</td>\n      <td>280</td>\n      <td>zzxq2l</td>\n    </tr>\n    <tr>\n      <th>31729</th>\n      <td>a mountain range in the distance</td>\n      <td>0.334624</td>\n      <td>498</td>\n      <td>277</td>\n      <td>568</td>\n      <td>99</td>\n      <td>zzxq2l</td>\n    </tr>\n    <tr>\n      <th>31730</th>\n      <td>a woman smiling at the camera</td>\n      <td>0.465720</td>\n      <td>244</td>\n      <td>293</td>\n      <td>319</td>\n      <td>530</td>\n      <td>zzxq2l</td>\n    </tr>\n    <tr>\n      <th>31731</th>\n      <td>a woman wearing a dress</td>\n      <td>0.548892</td>\n      <td>0</td>\n      <td>758</td>\n      <td>1048</td>\n      <td>570</td>\n      <td>zzxq2l</td>\n    </tr>\n    <tr>\n      <th>31732</th>\n      <td>a close up of a hand</td>\n      <td>0.566506</td>\n      <td>220</td>\n      <td>809</td>\n      <td>73</td>\n      <td>55</td>\n      <td>zzxq2l</td>\n    </tr>\n  </tbody>\n</table>\n<p>31733 rows × 7 columns</p>\n</div>"
     },
     "metadata": {},
     "output_type": "display_data"
    },
    {
     "name": "stdout",
     "output_type": "stream",
     "text": [
      "CPU times: total: 297 ms\n",
      "Wall time: 6.68 s\n"
     ]
    }
   ],
   "source": [
    "%%time\n",
    "\n",
    "merged_captions = pandas.concat([new_captions, captions])\n",
    "merged_captions.set_index(keys=['id', 'dense_captions_text', 'dense_captions_confidence'], inplace=True, drop=False)\n",
    "merged_captions.drop_duplicates(inplace=True)\n",
    "merged_captions.reset_index(drop=True, inplace=True)\n",
    "\n",
    "display(f'{merged_captions.shape[0] - captions.shape[0]} new rows added to captions')\n",
    "\n",
    "merged_captions.to_parquet('data/parquet/image_captions.parquet', filesystem=file_system, engine='pyarrow')\n",
    "display(pandas.read_parquet('data/parquet/image_captions.parquet', filesystem=file_system, engine='pyarrow'))"
   ],
   "metadata": {
    "collapsed": false,
    "ExecuteTime": {
     "end_time": "2023-05-13T22:35:04.523866100Z",
     "start_time": "2023-05-13T22:34:55.820447300Z"
    }
   }
  },
  {
   "cell_type": "code",
   "execution_count": 12,
   "outputs": [
    {
     "data": {
      "text/plain": "'357 new rows added to tags'"
     },
     "metadata": {},
     "output_type": "display_data"
    },
    {
     "data": {
      "text/plain": "        tags_name  tags_confidence       id\n0          person         0.998358  1002cx2\n1      human face         0.997763  1002cx2\n2        clothing         0.990993  1002cx2\n3            lady         0.981919  1002cx2\n4           smile         0.964994  1002cx2\n...           ...              ...      ...\n72068       woman         0.753262   zzxq2l\n72069       beach         0.739799   zzxq2l\n72070    standing         0.630927   zzxq2l\n72071        girl         0.556561   zzxq2l\n72072    mountain         0.544261   zzxq2l\n\n[72073 rows x 3 columns]",
      "text/html": "<div>\n<style scoped>\n    .dataframe tbody tr th:only-of-type {\n        vertical-align: middle;\n    }\n\n    .dataframe tbody tr th {\n        vertical-align: top;\n    }\n\n    .dataframe thead th {\n        text-align: right;\n    }\n</style>\n<table border=\"1\" class=\"dataframe\">\n  <thead>\n    <tr style=\"text-align: right;\">\n      <th></th>\n      <th>tags_name</th>\n      <th>tags_confidence</th>\n      <th>id</th>\n    </tr>\n  </thead>\n  <tbody>\n    <tr>\n      <th>0</th>\n      <td>person</td>\n      <td>0.998358</td>\n      <td>1002cx2</td>\n    </tr>\n    <tr>\n      <th>1</th>\n      <td>human face</td>\n      <td>0.997763</td>\n      <td>1002cx2</td>\n    </tr>\n    <tr>\n      <th>2</th>\n      <td>clothing</td>\n      <td>0.990993</td>\n      <td>1002cx2</td>\n    </tr>\n    <tr>\n      <th>3</th>\n      <td>lady</td>\n      <td>0.981919</td>\n      <td>1002cx2</td>\n    </tr>\n    <tr>\n      <th>4</th>\n      <td>smile</td>\n      <td>0.964994</td>\n      <td>1002cx2</td>\n    </tr>\n    <tr>\n      <th>...</th>\n      <td>...</td>\n      <td>...</td>\n      <td>...</td>\n    </tr>\n    <tr>\n      <th>72068</th>\n      <td>woman</td>\n      <td>0.753262</td>\n      <td>zzxq2l</td>\n    </tr>\n    <tr>\n      <th>72069</th>\n      <td>beach</td>\n      <td>0.739799</td>\n      <td>zzxq2l</td>\n    </tr>\n    <tr>\n      <th>72070</th>\n      <td>standing</td>\n      <td>0.630927</td>\n      <td>zzxq2l</td>\n    </tr>\n    <tr>\n      <th>72071</th>\n      <td>girl</td>\n      <td>0.556561</td>\n      <td>zzxq2l</td>\n    </tr>\n    <tr>\n      <th>72072</th>\n      <td>mountain</td>\n      <td>0.544261</td>\n      <td>zzxq2l</td>\n    </tr>\n  </tbody>\n</table>\n<p>72073 rows × 3 columns</p>\n</div>"
     },
     "metadata": {},
     "output_type": "display_data"
    },
    {
     "name": "stdout",
     "output_type": "stream",
     "text": [
      "CPU times: total: 141 ms\n",
      "Wall time: 2.64 s\n"
     ]
    }
   ],
   "source": [
    "%%time\n",
    "\n",
    "merged_tags = pandas.concat([new_tags, tags])\n",
    "merged_tags.set_index(keys=['id', 'tags_name', 'tags_confidence'], inplace=True, drop=False)\n",
    "merged_tags.drop_duplicates(inplace=True)\n",
    "merged_tags.reset_index(drop=True, inplace=True)\n",
    "\n",
    "display(f'{merged_tags.shape[0] - tags.shape[0]} new rows added to tags')\n",
    "\n",
    "merged_tags.to_parquet('data/parquet/image_tags.parquet', filesystem=file_system, engine='pyarrow')\n",
    "display(pandas.read_parquet('data/parquet/image_tags.parquet', filesystem=file_system, engine='pyarrow'))"
   ],
   "metadata": {
    "collapsed": false,
    "ExecuteTime": {
     "end_time": "2023-05-13T22:35:06.031437400Z",
     "start_time": "2023-05-13T22:35:04.492707600Z"
    }
   }
  },
  {
   "cell_type": "code",
   "execution_count": 13,
   "outputs": [
    {
     "data": {
      "text/plain": "'23 new rows added to crops'"
     },
     "metadata": {},
     "output_type": "display_data"
    },
    {
     "data": {
      "text/plain": "      smart_crop_aspectRatio  smart_crop_boundingBox.x   \n0                        1.0                         0  \\\n1                        1.0                       143   \n2                        1.0                       206   \n3                        1.0                        67   \n4                        1.0                         0   \n...                      ...                       ...   \n3563                     1.0                         0   \n3564                     1.0                         0   \n3565                     1.0                         0   \n3566                     1.0                       135   \n3567                     1.0                       101   \n\n      smart_crop_boundingBox.y  smart_crop_boundingBox.w   \n0                          140                      1462  \\\n1                          138                      1249   \n2                            0                      3013   \n3                           10                       397   \n4                          253                      1025   \n...                        ...                       ...   \n3563                         0                      1025   \n3564                         0                       461   \n3565                         0                      2273   \n3566                         0                      1299   \n3567                       101                       970   \n\n      smart_crop_boundingBox.h       id  \n0                         1462  1002cx2  \n1                         1250  1003dod  \n2                         3012  10044wv  \n3                          396  1005neb  \n4                         1025  1007zxc  \n...                        ...      ...  \n3563                      1025   zzr9nz  \n3564                       461   zzruf4  \n3565                      2273   zzu8i8  \n3566                      1299   zzvv3x  \n3567                       970   zzxq2l  \n\n[3568 rows x 6 columns]",
      "text/html": "<div>\n<style scoped>\n    .dataframe tbody tr th:only-of-type {\n        vertical-align: middle;\n    }\n\n    .dataframe tbody tr th {\n        vertical-align: top;\n    }\n\n    .dataframe thead th {\n        text-align: right;\n    }\n</style>\n<table border=\"1\" class=\"dataframe\">\n  <thead>\n    <tr style=\"text-align: right;\">\n      <th></th>\n      <th>smart_crop_aspectRatio</th>\n      <th>smart_crop_boundingBox.x</th>\n      <th>smart_crop_boundingBox.y</th>\n      <th>smart_crop_boundingBox.w</th>\n      <th>smart_crop_boundingBox.h</th>\n      <th>id</th>\n    </tr>\n  </thead>\n  <tbody>\n    <tr>\n      <th>0</th>\n      <td>1.0</td>\n      <td>0</td>\n      <td>140</td>\n      <td>1462</td>\n      <td>1462</td>\n      <td>1002cx2</td>\n    </tr>\n    <tr>\n      <th>1</th>\n      <td>1.0</td>\n      <td>143</td>\n      <td>138</td>\n      <td>1249</td>\n      <td>1250</td>\n      <td>1003dod</td>\n    </tr>\n    <tr>\n      <th>2</th>\n      <td>1.0</td>\n      <td>206</td>\n      <td>0</td>\n      <td>3013</td>\n      <td>3012</td>\n      <td>10044wv</td>\n    </tr>\n    <tr>\n      <th>3</th>\n      <td>1.0</td>\n      <td>67</td>\n      <td>10</td>\n      <td>397</td>\n      <td>396</td>\n      <td>1005neb</td>\n    </tr>\n    <tr>\n      <th>4</th>\n      <td>1.0</td>\n      <td>0</td>\n      <td>253</td>\n      <td>1025</td>\n      <td>1025</td>\n      <td>1007zxc</td>\n    </tr>\n    <tr>\n      <th>...</th>\n      <td>...</td>\n      <td>...</td>\n      <td>...</td>\n      <td>...</td>\n      <td>...</td>\n      <td>...</td>\n    </tr>\n    <tr>\n      <th>3563</th>\n      <td>1.0</td>\n      <td>0</td>\n      <td>0</td>\n      <td>1025</td>\n      <td>1025</td>\n      <td>zzr9nz</td>\n    </tr>\n    <tr>\n      <th>3564</th>\n      <td>1.0</td>\n      <td>0</td>\n      <td>0</td>\n      <td>461</td>\n      <td>461</td>\n      <td>zzruf4</td>\n    </tr>\n    <tr>\n      <th>3565</th>\n      <td>1.0</td>\n      <td>0</td>\n      <td>0</td>\n      <td>2273</td>\n      <td>2273</td>\n      <td>zzu8i8</td>\n    </tr>\n    <tr>\n      <th>3566</th>\n      <td>1.0</td>\n      <td>135</td>\n      <td>0</td>\n      <td>1299</td>\n      <td>1299</td>\n      <td>zzvv3x</td>\n    </tr>\n    <tr>\n      <th>3567</th>\n      <td>1.0</td>\n      <td>101</td>\n      <td>101</td>\n      <td>970</td>\n      <td>970</td>\n      <td>zzxq2l</td>\n    </tr>\n  </tbody>\n</table>\n<p>3568 rows × 6 columns</p>\n</div>"
     },
     "metadata": {},
     "output_type": "display_data"
    },
    {
     "name": "stdout",
     "output_type": "stream",
     "text": [
      "CPU times: total: 109 ms\n",
      "Wall time: 2.99 s\n"
     ]
    }
   ],
   "source": [
    "%%time\n",
    "\n",
    "merged_crops = pandas.concat([new_crops, crops])\n",
    "merged_crops.set_index(keys=['id'], inplace=True, drop=False)\n",
    "merged_crops.drop_duplicates(inplace=True)\n",
    "merged_crops.reset_index(drop=True, inplace=True)\n",
    "\n",
    "display(f'{merged_crops.shape[0] - crops.shape[0]} new rows added to crops')\n",
    "\n",
    "merged_crops.to_parquet('data/parquet/image_cropping.parquet', filesystem=file_system, engine='pyarrow')\n",
    "\n",
    "display(pandas.read_parquet('data/parquet/image_cropping.parquet', filesystem=file_system, engine='pyarrow'))"
   ],
   "metadata": {
    "collapsed": false,
    "ExecuteTime": {
     "end_time": "2023-05-13T22:35:08.275543500Z",
     "start_time": "2023-05-13T22:35:05.672061Z"
    }
   }
  },
  {
   "cell_type": "code",
   "execution_count": 14,
   "outputs": [],
   "source": [
    "import os\n",
    "def create_thumbnail(image_id_, curated_df_, crops_, extant_files_):\n",
    "\ttry:\n",
    "\t\trecord = None\n",
    "\t\tcropping_information = None\n",
    "\t\tif image_id_ in extant_files_:\n",
    "\t\t\treturn None\n",
    "\t\ttry:\n",
    "\t\t\trecord = curated_df.loc[curated_df['id'] == image_id_]\n",
    "\t\t\tcropping_information = crops.loc[crops['id'] == image_id_]\n",
    "\t\texcept KeyError or IndexError:\n",
    "\t\t\treturn None\n",
    "\t\tif record is None and cropping_information is None and len(record) == 0 and len(cropping_information) == 0:\n",
    "\t\t\treturn None\n",
    "\t\tif record is not None and cropping_information is not None:\n",
    "\t\t\trecord = curated_df_.loc[curated_df_['id'] == image_id_]\n",
    "\t\t\tcropping_information = crops_.loc[crops['id'] == image_id_]\n",
    "\t\t\ttry:\n",
    "\t\t\t\timage_url = file_system.url(record.path.values[0])\n",
    "\t\t\texcept Exception as e:\n",
    "\t\t\t\tdisplay(f'Error creating thumbnail for {image_id_}: {e}', clear=True)\n",
    "\t\t\t\treturn None\n",
    "\t\t\toriginal_image = Image.open(requests.get(image_url, stream=True).raw)\n",
    "\t\t\tcopied_image = original_image.copy()\n",
    "\t\t\toriginal_image.close()\n",
    "\t\t\ttry:\n",
    "\t\t\t\tcropped = copied_image.crop((cropping_information['smart_crop_boundingBox.x'].values[0], cropping_information['smart_crop_boundingBox.y'].values[0], cropping_information['smart_crop_boundingBox.x'].values[0] + cropping_information['smart_crop_boundingBox.w'].values[0], cropping_information['smart_crop_boundingBox.y'].values[0] + cropping_information['smart_crop_boundingBox.h'].values[0]))\n",
    "\t\t\texcept Exception as e:\n",
    "\t\t\t\tdisplay(f'Error creating thumbnail for {image_id_}: {e}', clear=True)\n",
    "\t\t\t\treturn None\n",
    "\t\t\tcopied_image.close()\n",
    "\t\t\tresized = cropped.resize((512, 512), 1)\n",
    "\t\t\tcropped.close()\n",
    "\t\t\tresized.save('temp.jpg')\n",
    "\t\t\tfile_system.upload('temp.jpg', f'data/image/thumbnail/{image_id_}.jpg', overwrite=True)\n",
    "\t\t\tdisplay(f'Thumbnail created for {image_id_}', clear=True)\n",
    "\t\t\treturn None\n",
    "\t\telse:\n",
    "\t\t\treturn None\n",
    "\texcept Exception as e:\n",
    "\t\tdisplay(f'Error creating thumbnail for {image_id_}: {e}', clear=True)\n",
    "\t\treturn None"
   ],
   "metadata": {
    "collapsed": false,
    "ExecuteTime": {
     "end_time": "2023-05-13T22:35:09.225602Z",
     "start_time": "2023-05-13T22:35:08.275543500Z"
    }
   }
  },
  {
   "cell_type": "code",
   "execution_count": 15,
   "outputs": [
    {
     "data": {
      "text/plain": "['1002cx2',\n '1003dod',\n '1008ddt',\n '100dcrd',\n '100jl1b',\n '100km4t',\n '100knfl',\n '100lihz',\n '100nibu',\n '100nndx',\n '100qk25',\n '100s0s5',\n '100sez9',\n '100vc0h',\n '100xqd2',\n '1011gjo',\n '10133o2',\n '1013bdt',\n '1013fun',\n '1019kyo',\n '101w7lh',\n '1027i9a',\n '102yo07',\n '1032j8y',\n '1035nya',\n '103h4hd',\n '103nm31',\n '103zqoc',\n '104it0i',\n '105dxeb',\n '105lrts',\n '105mekt',\n '105qvgl',\n '105rl3w',\n '105rpcj',\n '105spve',\n '105styc',\n '105tw6t',\n '105v03t',\n '105xfdg',\n '105zktf',\n '10623sj',\n '1062601',\n '106673i',\n '1067bcu',\n '1067vw4',\n '1068gp7',\n '1069pzt',\n '106dg98',\n '106hchf',\n '106lsw4',\n '106mh03',\n '106ohb7',\n '106p92p',\n '106quap',\n '106xkyj',\n '106yv2j',\n '106yxk3',\n '106z40r',\n '1071ykc',\n '1072139',\n '1072gmf',\n '1072vdp',\n '10741ga',\n '107gd1b',\n '107x4qv',\n '108e7ml',\n '1096qs1',\n '109n66u',\n '109pem3',\n '109wqn0',\n '109x870',\n '10a3qnh',\n '10a5w3r',\n '10a6m9y',\n '10a928m',\n '10aajfj',\n '10ab2dk',\n '10agu6e',\n '10aijhh',\n '10alnrk',\n '10aol8b',\n '10ap6iv',\n '10asvok',\n '10awqs5',\n '10ax8ka',\n '10b0b2y',\n '10b2acv',\n '10b4r64',\n '10b5is6',\n '10b5z1v',\n '10ba7rx',\n '10bdmd2',\n '10bdtom',\n '10bhuji',\n '10bijsi',\n '10bo5ud',\n '10bpm50',\n '10bsugo',\n '10bu622',\n '10bwzsq',\n '10c4fqp',\n '10c6cg4',\n '10ccwz5',\n '10ce3fu',\n '10ce95f',\n '10cgjt4',\n '10chi62',\n '10cipv3',\n '10cisvk',\n '10cj6pg',\n '10ckd75',\n '10ckdyy',\n '10cktv9',\n '10cn9yb',\n '10cq37j',\n '10cuu72',\n '10cw9wa',\n '10cwyoo',\n '10cywc7',\n '10czity',\n '10czste',\n '10d0xqn',\n '10d1316',\n '10d20x1',\n '10d2i69',\n '10d4nzr',\n '10d7wv0',\n '10dc2hb',\n '10dgnk2',\n '10dlxb9',\n '10dnn6z',\n '10dodmu',\n '10e11rd',\n '10ebiog',\n '10ef5po',\n '10efpr8',\n '10eiwsr',\n '10er1e8',\n '10euk69',\n '10exo5o',\n '10f1ckk',\n '10f6qg6',\n '10f78ow',\n '10g10t4',\n '10g5zo2',\n '10gh7lj',\n '10gliq7',\n '10gnc8s',\n '10gzlqt',\n '10hcdl6',\n '10hgca6',\n '10hla7j',\n '10hqt0g',\n '10hqzt5',\n '10hrbgl',\n '10hs4pb',\n '10ht3qh',\n '10hvaxk',\n '10hwjmr',\n '10hxgp0',\n '10hxhog',\n '10i05he',\n '10i1dpz',\n '10i1flv',\n '10i1qkq',\n '10i2j6z',\n '10i56sz',\n '10i7fie',\n '10i8he7',\n '10i9av8',\n '10ihs9q',\n '10ijwdk',\n '10ikc56',\n '10ikt7q',\n '10ilhry',\n '10ilvv4',\n '10ime1r',\n '10imjti',\n '10infyg',\n '10inp9f',\n '10ionq3',\n '10iugd8',\n '10iuh5l',\n '10iuhd0',\n '10iv3yg',\n '10ixb9o',\n '10iy1w4',\n '10izmna',\n '10j2cz2',\n '10j2skz',\n '10j3kam',\n '10j4mcb',\n '10j7c1n',\n '10j7cxv',\n '10j9gl8',\n '10j9lfm',\n '10ja7v8',\n '10jahhs',\n '10jako6',\n '10jcayv',\n '10jcbit',\n '10jcktu',\n '10jczsn',\n '10jd87g',\n '10jdodd',\n '10jefuk',\n '10jfcdt',\n '10jfn53',\n '10jhaie',\n '10jjs30',\n '10jlzvx',\n '10jmv9s',\n '10jvfeb',\n '10k21ra',\n '10k2r71',\n '10k3syp',\n '10k4nbm',\n '10k4z68',\n '10k6bwz',\n '10k8hua',\n '10k9esl',\n '10k9gpc',\n '10k9rzz',\n '10kaysx',\n '10kddg0',\n '10kddmn',\n '10khkal',\n '10ki6fv',\n '10ki77b',\n '10ki7f3',\n '10klvrv',\n '10kq0i1',\n '10kqhe6',\n '10kre85',\n '10krgz2',\n '10ktnzx',\n '10ktp57',\n '10ku4q0',\n '10kwopc',\n '10kxkzq',\n '10kyt24',\n '10kzuai',\n '10l29be',\n '10l6hsi',\n '10lcbw6',\n '10lcod6',\n '10lhpa1',\n '10lnhk6',\n '10mabxc',\n '10mchxd',\n '10mivn6',\n '10mlt78',\n '10mykzv',\n '10n0yd6',\n '10n2ll6',\n '10n9ryr',\n '10nl7jj',\n '10nlueq',\n '10npwer',\n '10ntnsy',\n '10nupt1',\n '10nxbvw',\n '10nyadr',\n '10nyhzh',\n '10o7yt5',\n '10o8nct',\n '10o96va',\n '10oafno',\n '10obqxp',\n '10ocoyt',\n '10odumt',\n '10ofdtz',\n '10oihq6',\n '10oiuj1',\n '10ojuxd',\n '10ok9gc',\n '10olva7',\n '10omzr5',\n '10onpp8',\n '10onw06',\n '10orttw',\n '10osnnk',\n '10ox2sw',\n '10p5q8x',\n '10p8xr5',\n '10pakis',\n '10pja8r',\n '10pl8zt',\n '10plwc4',\n '10pq54f',\n '10pqbak',\n '10prtpi',\n '10puyip',\n '10pyzkg',\n '10q00n7',\n '10q05h8',\n '10q17m7',\n '10q1t59',\n '10q46tx',\n '10q6wg2',\n '10q8gj9',\n '10q8ll1',\n '10q97um',\n '10q9p4i',\n '10q9zu7',\n '10qddse',\n '10qdfml',\n '10qgjs3',\n '10qi21c',\n '10qizmn',\n '10qn8yw',\n '10quo8y',\n '10qvgpa',\n '10qxf80',\n '10qzmlv',\n '10r1bkw',\n '10r7ilq',\n '10rg8gx',\n '10rif2u',\n '10rifh0',\n '10rksx4',\n '10rm3ty',\n '10rmhzh',\n '10rq8rs',\n '10rqdww',\n '10rrt8z',\n '10s1rbk',\n '10s2fup',\n '10s3abe',\n '10s6rez',\n '10s97lu',\n '10sdaey',\n '10sejco',\n '10sid0x',\n '10sk8qk',\n '10skt1a',\n '10slji7',\n '10slzai',\n '10sm2ml',\n '10sqmhu',\n '10sx708',\n '10sybk7',\n '10szbvb',\n '10t11nz',\n '10t5fuy',\n '10t6hz4',\n '10tas5l',\n '10te4ym',\n '10tg0z4',\n '10tgu2o',\n '10tham8',\n '10tnt82',\n '10u8sqp',\n '10ualq7',\n '10ubg24',\n '10ucfbb',\n '10ufn57',\n '10ujeu5',\n '10ujh2h',\n '10upywm',\n '10utwns',\n '10uv1wz',\n '10uy192',\n '10v1b79',\n '10v260j',\n '10v4aep',\n '10v6hhg',\n '10v6vid',\n '10v8oqk',\n '10vfuyw',\n '10vqm17',\n '10vzaym',\n '10xzk27',\n '10y0it1',\n '10y7hj9',\n '10y9jsx',\n '10y9z4t',\n '10yauyd',\n '10yavhl',\n '10yed9f',\n '10yfd3x',\n '10yg1bj',\n '10yskj4',\n '10yv8k9',\n '10yx176',\n '10yx1j0',\n '10z2ptu',\n '10z30dh',\n '10z8tx1',\n '10zb44j',\n '10zm69j',\n '10zmhxb',\n '10zppr0',\n '10zvxzq',\n '10zwssg',\n '10zyvvt',\n '11016cu',\n '1104net',\n '1106q2o',\n '110d587',\n '110h5qm',\n '110izjm',\n '110q2ao',\n '110rpqz',\n '110s01v',\n '110tj6v',\n '110ucm9',\n '110uqtj',\n '110vcii',\n '110xnuk',\n '110z95m',\n '111e89b',\n '111fy19',\n '1123v3d',\n '1123zck',\n '1124mfh',\n '1125t3s',\n '11262lx',\n '11283n3',\n '1128rk4',\n '112keuo',\n '112nsvw',\n '112tbzp',\n '112vwj7',\n '112y52u',\n '112ycuz',\n '1133lyo',\n '1136cp9',\n '1136tky',\n '1137gnl',\n '1139jya',\n '113aaf5',\n '113bsx5',\n '113c26e',\n '113ckp8',\n '113ey1p',\n '113l80w',\n '113lfhg',\n '113ly23',\n '113om5b',\n '113r4lb',\n '113rlwt',\n '113uw9m',\n '113x4ul',\n '1142knm',\n '1147478',\n '114eoah',\n '114isrt',\n '114kjp4',\n '114n2ar',\n '114oiky',\n '114rf7e',\n '114wmx9',\n '114yn98',\n '11521rk',\n '1155uno',\n '115beut',\n '115cu87',\n '115cwkx',\n '115gbyb',\n '115gca0',\n '115gply',\n '115h657',\n '115noh6',\n '115s8pc',\n '115tdk3',\n '115tse7',\n '115wmkh',\n '115x0q1',\n '115zmd8',\n '1161tn2',\n '1165b66',\n '1168i76',\n '1168x06',\n '1168yld',\n '116beuz',\n '116dila',\n '116h9cf',\n '116hwzs',\n '116k2v6',\n '116mi7c',\n '116nlho',\n '116om0x',\n '116om5u',\n '116p9vl',\n '116rwet',\n '116smje',\n '116ssz0',\n '116vdj0',\n '116vwbe',\n '116vz5e',\n '116xtho',\n '116z1fx',\n '1171uwc',\n '1172ltq',\n '1174ia5',\n '1177xls',\n '117878m',\n '11788qh',\n '11788tl',\n '1178f58',\n '117ddgh',\n '117e244',\n '117f5q6',\n '117fz4q',\n '117ga6h',\n '117hao7',\n '117hx4y',\n '117jzta',\n '117kjyg',\n '117kky8',\n '117kovw',\n '117sccf',\n '117uu87',\n '117vyh9',\n '1182fcx',\n '1183guk',\n '1185wiq',\n '1186s3l',\n '118br87',\n '118ejk1',\n '118epc6',\n '118gu5w',\n '118gwcy',\n '118gy2v',\n '118h173',\n '118mf38',\n '118uhbp',\n '118wzzt',\n '11907i2',\n '1195v4s',\n '119delh',\n '119hqwk',\n '119i1i1',\n '119i1mi',\n '119ivvp',\n '119jlr5',\n '119ljzy',\n '119mbds',\n '119nni8',\n '119nxyo',\n '119p9p3',\n '119uq1b',\n '119v7cp',\n '119vou6',\n '119vpm2',\n '119w4qi',\n '11a0gs6',\n '11a17i0',\n '11a9a3l',\n '11a9du3',\n '11aa4dk',\n '11aabkn',\n '11abfyi',\n '11aeww0',\n '11agvxs',\n '11agwxf',\n '11aj628',\n '11am0wq',\n '11an45r',\n '11aoj8i',\n '11apsn4',\n '11aquyv',\n '11aqxgs',\n '11ar7ox',\n '11aru4f',\n '11asyje',\n '11at33e',\n '11avm5z',\n '11azqop',\n '11b04ym',\n '11b0auc',\n '11b0j0k',\n '11b0jag',\n '11b0ymo',\n '11b2osc',\n '11b3983',\n '11b3m50',\n '11b3qtl',\n '11b4ibh',\n '11b80bm',\n '11b9il1',\n '11b9pz2',\n '11bb2c3',\n '11bb40d',\n '11bbavn',\n '11bfnws',\n '11bjf5w',\n '11bjpa9',\n '11bksir',\n '11bl1o3',\n '11bly0e',\n '11bnvqz',\n '11bond9',\n '11bqv33',\n '11bu9uh',\n '11buncd',\n '11bw4jl',\n '11bxydn',\n '11c02gg',\n '11cb326',\n '11cd54e',\n '11cfhm9',\n '11cg4cr',\n '11cith6',\n '11cljj1',\n '11cpejh',\n '11crk52',\n '11crxee',\n '11cs9u0',\n '11ctvp3',\n '11cwk9h',\n '11cwzii',\n '11cx7al',\n '11cxuis',\n '11d008h',\n '11d0vqt',\n '11d2fix',\n '11d2hcn',\n '11d3kyh',\n '11d6aa9',\n '11d88v9',\n '11daya4',\n '11dbywx',\n '11df8k8',\n '11dgyfl',\n '11diedc',\n '11dn8p3',\n '11dpqcw',\n '11dua1w',\n '11dv6sc',\n '11dw37m',\n '11e4ed5',\n '11e4k65',\n '11e5whk',\n '11e6mkz',\n '11e7a99',\n '11ee99r',\n '11ei8ex',\n '11ekbjd',\n '11eoe90',\n '11eoitc',\n '11evbh6',\n '11evnhs',\n '11ewivp',\n '11f3bms',\n '11f5jt6',\n '11f6pou',\n '11f7da3',\n '11fguv4',\n '11fgvje',\n '11fgxtk',\n '11fkl7q',\n '11fmn48',\n '11fqt98',\n '11fqxhp',\n '11fvtnd',\n '11fzx1z',\n '11g0esi',\n '11g3be9',\n '11g3hma',\n '11g4fmu',\n '11g4t2j',\n '11g90qy',\n '11g9f5j',\n '11ga871',\n '11gcr0l',\n '11gdh44',\n '11gmyj5',\n '11gn2re',\n '11gospo',\n '11gp5m8',\n '11gp65u',\n '11gpbyp',\n '11gr02j',\n '11h0x9y',\n '11h39qb',\n '11h7htd',\n '11h7uci',\n '11hirpn',\n '11hklmw',\n '11hou8i',\n '11hvhsr',\n '11hzjck',\n '11i040c',\n '11i05u6',\n '11i0768',\n '11i0pdk',\n '11i1o79',\n '11i20l8',\n '11i3u3n',\n '11ibaut',\n '11ibc0f',\n '11ilaml',\n '11iqdbd',\n '11it3e9',\n '11itsr6',\n '11itti6',\n '11ivbdc',\n '11iw6kw',\n '11iwmem',\n '11iwpal',\n '11ix6f9',\n '11iy0jf',\n '11j0h1m',\n '11j12yg',\n '11j205g',\n '11j59ym',\n '11jd8ho',\n '11jgaag',\n '11jgq9o',\n '11jgrbu',\n '11jk70c',\n '11jkkkh',\n '11jlzq5',\n '11jmesr',\n '11jo1e8',\n '11jsjlf',\n '11jvhri',\n '11jvi91',\n '11jvkov',\n '11jyf2b',\n '11jyv18',\n '11k3it5',\n '11k8123',\n '11kakji',\n '11kc20n',\n '11kc46v',\n '11kesvf',\n '11kg41n',\n '11kk97t',\n '11kkmuj',\n '11kmbbz',\n '11kn2m6',\n '11knnk6',\n '11korn8',\n '11ktxf4',\n '11kvbaj',\n '11lg9tl',\n '11lk9x2',\n '11lkdk9',\n '11lkqxh',\n '11lwyuc',\n '11lwzdp',\n '11lybj6',\n '11m3qrx',\n '11m70hm',\n '11mqat0',\n '11na72c',\n '11nat7s',\n '11nc1oo',\n '11ndjai',\n '11ne1yw',\n '11nena2',\n '11nn5tc',\n '11nr99o',\n '11ntk85',\n '11ntkl2',\n '11nup5h',\n '11nwamq',\n '11o13lt',\n '11o2olt',\n '11o52c6',\n '11o8pgj',\n '11oi1k8',\n '11oibjx',\n '11ojwop',\n '11oqdy8',\n '11ot3hc',\n '11oxa3e',\n '11pd5bg',\n '11pgiwg',\n '11ph1k4',\n '11ps7ty',\n '11psl8g',\n '11pvw3z',\n '11q1rd1',\n '11q29lf',\n '11q4zwy',\n '11q72ku',\n '11q74w9',\n '11q7nuq',\n '11q82pe',\n '11qai6f',\n '11qbc3z',\n '11qe78p',\n '11qfg48',\n '11qj3wk',\n '11qj9xk',\n '11qk3rp',\n '11qm83q',\n '11qmrlm',\n '11qq3jm',\n '11qq8to',\n '11qqf43',\n '11qsgt5',\n '11qti0v',\n '11qy8iu',\n '11qzmoj',\n '11qzmv9',\n '11r062i',\n '11r2s84',\n '11r490x',\n '11r5l71',\n '11r5o2s',\n '11r6345',\n '11r6r00',\n '11r6rpj',\n '11r8ps9',\n '11rbj6c',\n '11rbsum',\n '11recyv',\n '11rg3af',\n '11rh1i2',\n '11rikeq',\n '11rls3j',\n '11rr0tf',\n '11rscqw',\n '11rvci8',\n '11rwsih',\n '11s5ll5',\n '11sn3sb',\n '11sn489',\n '11sn5m9',\n '11sn647',\n '11sn6iu',\n '11sn6oe',\n '11sn7fh',\n '11stbq6',\n '11swobp',\n '11t0rrb',\n '11t1u8x',\n '11t25wy',\n '11t7brl',\n '11t7d0k',\n '11t8yc7',\n '11tf2ks',\n '11thqy5',\n '11ti6ty',\n '11tjqaf',\n '11tkceq',\n '11tkx46',\n '11toih1',\n '11tp6tv',\n '11tpd04',\n '11tpieh',\n '11tpjcx',\n '11tpjn0',\n '11tpka1',\n '11ts1id',\n '11tsbu7',\n '11tu3a6',\n '11tuod0',\n '11tvffr',\n '11txh2l',\n '11tzp0l',\n '11u0hy0',\n '11u3nxg',\n '11u5fld',\n '11u5v1m',\n '11u6jvo',\n '11ub8z8',\n '11ub9tu',\n '11ucsvb',\n '11uey4j',\n '11ufd2m',\n '11ukobr',\n '11um59o',\n '11umjr3',\n '11unbzu',\n '11uncxx',\n '11uoccp',\n '11v6hrl',\n '11v6jch',\n '11v6jzu',\n '11v9eir',\n '11vf89a',\n '11vfm5m',\n '11vlk9z',\n '11vnj3o',\n '11vnl9l',\n '11vnmay',\n '11vx146',\n '11vz7kj',\n '11w2lr9',\n '11w65g2',\n '11w6635',\n '11w67ej',\n '11w6cmu',\n '11wpl8l',\n '11wplnb',\n '11wpuya',\n '11wrt30',\n '11wtvwm',\n '11wzkf1',\n '11x4m56',\n '11x54ju',\n '11x7fne',\n '11xkd0n',\n '11xoeg7',\n '11xoxo2',\n '11xykcz',\n '11y830p',\n '11yfr0v',\n '11yfrk5',\n '11yfslo',\n '11yieiu',\n '11yjsh2',\n '11yk8db',\n '11ymfr5',\n '11ytj2d',\n '11z6khm',\n '11ziqj7',\n '11zjw1u',\n '11zqhe4',\n '11zqjke',\n '11zsi9p',\n '11zu7nu',\n '11zueno',\n '11zuvhm',\n '11zyobt',\n '120j3z9',\n '120jgi2',\n '120lp40',\n '120otnm',\n '1210oq9',\n '1213x1h',\n '121b6un',\n '121bwt3',\n '121hxop',\n '121hxtz',\n '121iiol',\n '121j33v',\n '121je8w',\n '121jnku',\n '121k9il',\n '121knk4',\n '121lcdx',\n '121lrfd',\n '121puix',\n '121qsjt',\n '121qugi',\n '121r1ro',\n '121uo67',\n '121w87k',\n '121zk6b',\n '12202nn',\n '122071b',\n '1222c2a',\n '12256r3',\n '12273s4',\n '1227gbz',\n '122bhoq',\n '122cgvx',\n '122hq34',\n '122hysk',\n '122l5x7',\n '122mvxj',\n '122n3b0',\n '122n8xg',\n '122npz6',\n '122qhqa',\n '122raz0',\n '122vwzs',\n '122zmpw',\n '1231ylg',\n '12323yg',\n '1232vsv',\n '1233al1',\n '1233aoa',\n '1234d30',\n '1239h9y',\n '123a1qy',\n '123b9g5',\n '123bin4',\n '123di5z',\n '123diog',\n '123ds2r',\n '123eeyf',\n '123gdoz',\n '123hgkd',\n '123ht4a',\n '123ji3n',\n '123jy75',\n '123k2bh',\n '123kkdj',\n '123kth1',\n '123ktyx',\n '123maf2',\n '123mlax',\n '123mre5',\n '123p7pw',\n '123pcz0',\n '123tv6t',\n '123twey',\n '123yxi2',\n '1241eem',\n '1243gib',\n '1246ibb',\n ...]"
     },
     "metadata": {},
     "output_type": "display_data"
    },
    {
     "name": "stdout",
     "output_type": "stream",
     "text": [
      "CPU times: total: 1.11 s\n",
      "Wall time: 8.93 s\n"
     ]
    }
   ],
   "source": [
    "%%time\n",
    "\n",
    "extant = [os.path.basename(item.replace('\\n', '').split('.')[0]) for item in file_system.ls('data/image/thumbnail')]\n",
    "display(extant)"
   ],
   "metadata": {
    "collapsed": false,
    "ExecuteTime": {
     "end_time": "2023-05-13T22:35:18.027012700Z",
     "start_time": "2023-05-13T22:35:09.225602Z"
    }
   }
  },
  {
   "cell_type": "code",
   "execution_count": null,
   "outputs": [
    {
     "data": {
      "text/plain": "\"Error creating thumbnail for 100dbjr: ('Connection aborted.', ConnectionResetError(10054, 'An existing connection was forcibly closed by the remote host', None, 10054, None))\""
     },
     "metadata": {},
     "output_type": "display_data"
    },
    {
     "name": "stderr",
     "output_type": "stream",
     "text": [
      "Creating thumbnails:   2%|▏         | 860/37031 [3:19:20<34479:13:07, 3431.62s/it]"
     ]
    }
   ],
   "source": [
    "%%time\n",
    "\n",
    "for elem in tqdm(curated_df.id.values, total=len(curated_df.id.values), desc='Creating thumbnails'):\n",
    "\tcreate_thumbnail(elem, curated_df, crops, extant)"
   ],
   "metadata": {
    "collapsed": false,
    "is_executing": true
   }
  },
  {
   "cell_type": "code",
   "execution_count": null,
   "outputs": [],
   "source": [
    "!jupyter notebook stop"
   ],
   "metadata": {
    "collapsed": false,
    "is_executing": true
   }
  }
 ],
 "metadata": {
  "kernelspec": {
   "display_name": "Python 3",
   "language": "python",
   "name": "python3"
  },
  "language_info": {
   "codemirror_mode": {
    "name": "ipython",
    "version": 2
   },
   "file_extension": ".py",
   "mimetype": "text/x-python",
   "name": "python",
   "nbconvert_exporter": "python",
   "pygments_lexer": "ipython2",
   "version": "2.7.6"
  }
 },
 "nbformat": 4,
 "nbformat_minor": 0
}
