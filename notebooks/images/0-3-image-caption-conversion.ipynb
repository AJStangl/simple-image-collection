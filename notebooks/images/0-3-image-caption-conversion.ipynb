{
 "cells": [
  {
   "cell_type": "code",
   "execution_count": 1,
   "metadata": {
    "collapsed": true,
    "ExecuteTime": {
     "end_time": "2023-05-21T02:24:42.635288100Z",
     "start_time": "2023-05-21T02:24:25.861459900Z"
    }
   },
   "outputs": [
    {
     "name": "stdout",
     "output_type": "stream",
     "text": [
      "CPU times: total: 9.67 s\n",
      "Wall time: 16.7 s\n"
     ]
    }
   ],
   "source": [
    "%%time\n",
    "\n",
    "import json\n",
    "\n",
    "import pandas\n",
    "import pandas as pd\n",
    "import requests\n",
    "from PIL import Image\n",
    "from adlfs import AzureBlobFileSystem\n",
    "from tqdm import tqdm\n",
    "\n",
    "from common.captioning.azure_descriptions import AzureCaption\n",
    "from common.storage.azure_file_storage import AzureFileStorageAdapter\n",
    "\n",
    "tqdm.pandas(desc=\"Progress\")\n",
    "file_system: AzureBlobFileSystem = AzureFileStorageAdapter('data').get_file_storage()\n",
    "\n",
    "from common.functions.functions import Functions\n",
    "\n",
    "functions: Functions = Functions()\n",
    "\n",
    "caption: AzureCaption = AzureCaption(file_system)"
   ]
  },
  {
   "cell_type": "code",
   "execution_count": 2,
   "outputs": [
    {
     "name": "stderr",
     "output_type": "stream",
     "text": [
      "<timed exec>:5: SettingWithCopyWarning: \n",
      "A value is trying to be set on a copy of a slice from a DataFrame\n",
      "\n",
      "See the caveats in the documentation: https://pandas.pydata.org/pandas-docs/stable/user_guide/indexing.html#returning-a-view-versus-a-copy\n"
     ]
    },
    {
     "data": {
      "text/plain": "            id         subreddit           author   \n0      1013bdt          AmIhotAF      RaulDea9286  \\\n1      105mekt          AmIhotAF         lindaniz   \n2      105qvgl          AmIhotAF      CaitVLove11   \n3      105rpcj          AmIhotAF  Flashy-Desk1858   \n4      105styc          AmIhotAF     Gizzygirl127   \n...        ...               ...              ...   \n19899  13m6hv4      tightdresses   katiecooper4xo   \n19900  13mcqn4      tightdresses   GucciBagHolder   \n19901  13m91m2              DLAH   qwertybird3141   \n19902  13m6gm7  bathandbodyworks      unicornkenz   \n19903  13m7rxh  bathandbodyworks      baby-pink12   \n\n                                                title   \n0                                       36F - ITALIAN  \\\n1      interesting in good forward relationship (f24)   \n2                           Laughing is my favorite 😆   \n3            [f22] What do you think when you see me?   \n4                            Low key… still bangable?   \n...                                               ...   \n19899                           Bringing tartan back!   \n19900                                          Blonde   \n19901                                    College grad   \n19902                                     Candle Sale   \n19903                   Obsessed is an understatement   \n\n                                                 caption   \n0                arafed image of a woman in a bikini top  \\\n1      a close up of a woman with red hair and a whit...   \n2      a woman in a blue tank top and shorts is smili...   \n3        a woman in a blue bikini top and a blue bra top   \n4      smiling woman sitting on couch with remote con...   \n...                                                  ...   \n19899  arafed woman in a plaid dress posing for a pic...   \n19900  a close up of a woman in a white dress posing ...   \n19901  arafed woman standing on steps with a red and ...   \n19902                      bath and body works coup coup   \n19903  there are two bottles of body lotion sitting o...   \n\n                                   hash   \n0      7c0d158cba8654ef1c635cbc5471d597  \\\n1      ba4a0962cca2266a741e1e1700589c04   \n2      27bfe82c37314a0bcf02ab72eaf3a9e5   \n3      329eb42b8267fa1cc2980da8e48bcef1   \n4      6d555943be4fbc21ff92417c6f582298   \n...                                 ...   \n19899  9501d5f34d0748f58eb3caba7ce1641c   \n19900  70b0eff895fd87d368cb1f53af9a7f3c   \n19901  adcbd61b5e37c5e048cb6907eca21bfe   \n19902  47a78b117b59b636fa22093ec4f29bd7   \n19903  412ae5c6fabc3f1594ace642e20b7231   \n\n                                               permalink   \n0              /r/AmIhotAF/comments/1013bdt/36f_italian/  \\\n1      /r/AmIhotAF/comments/105mekt/interesting_in_go...   \n2      /r/AmIhotAF/comments/105qvgl/laughing_is_my_fa...   \n3      /r/AmIhotAF/comments/105rpcj/f22_what_do_you_t...   \n4      /r/AmIhotAF/comments/105styc/low_key_still_ban...   \n...                                                  ...   \n19899  /r/tightdresses/comments/13m6hv4/bringing_tart...   \n19900           /r/tightdresses/comments/13mcqn4/blonde/   \n19901             /r/DLAH/comments/13m91m2/college_grad/   \n19902  /r/bathandbodyworks/comments/13m6gm7/candle_sale/   \n19903  /r/bathandbodyworks/comments/13m7rxh/obsessed_...   \n\n                              original_url   image_name   \n0      https://i.redd.it/bg0wwdlt5k9a1.jpg  1013bdt.jpg  \\\n1      https://i.redd.it/4avjshsz8naa1.jpg  105mekt.jpg   \n2      https://i.redd.it/2pulzr0lxmaa1.jpg  105qvgl.jpg   \n3      https://i.redd.it/rz68pf934naa1.jpg  105rpcj.jpg   \n4      https://i.redd.it/aiaxxoz9uoaa1.jpg  105styc.jpg   \n...                                    ...          ...   \n19899  https://i.redd.it/8nx1kv7o0w0b1.jpg  13m6hv4.jpg   \n19900  https://i.redd.it/6ojq4wtl9x0b1.jpg  13mcqn4.jpg   \n19901  https://i.redd.it/skv5m0jwiw0b1.jpg  13m91m2.jpg   \n19902  https://i.redd.it/h321gmgf0w0b1.jpg  13m6gm7.jpg   \n19903  https://i.redd.it/xv6tjhpp9w0b1.jpg  13m7rxh.jpg   \n\n                         path                model  exists  curated  accept   \n0      data/image/1013bdt.jpg        SexyDiffusion    True     True    True  \\\n1      data/image/105mekt.jpg        SexyDiffusion    True     True    True   \n2      data/image/105qvgl.jpg        SexyDiffusion    True     True    True   \n3      data/image/105rpcj.jpg        SexyDiffusion    True     True    True   \n4      data/image/105styc.jpg        SexyDiffusion    True     True    True   \n...                       ...                  ...     ...      ...     ...   \n19899  data/image/13m6hv4.jpg  PrettyGirlDiffusion    True     True    True   \n19900  data/image/13mcqn4.jpg  PrettyGirlDiffusion    True     True    True   \n19901  data/image/13m91m2.jpg  PrettyGirlDiffusion    True     True    True   \n19902  data/image/13m6gm7.jpg      CandleDiffusion    True     True    True   \n19903  data/image/13m7rxh.jpg      CandleDiffusion    True     True    True   \n\n      tags  \n0       []  \n1       []  \n2       []  \n3       []  \n4       []  \n...    ...  \n19899   []  \n19900   []  \n19901   []  \n19902   []  \n19903   []  \n\n[19904 rows x 15 columns]",
      "text/html": "<div>\n<style scoped>\n    .dataframe tbody tr th:only-of-type {\n        vertical-align: middle;\n    }\n\n    .dataframe tbody tr th {\n        vertical-align: top;\n    }\n\n    .dataframe thead th {\n        text-align: right;\n    }\n</style>\n<table border=\"1\" class=\"dataframe\">\n  <thead>\n    <tr style=\"text-align: right;\">\n      <th></th>\n      <th>id</th>\n      <th>subreddit</th>\n      <th>author</th>\n      <th>title</th>\n      <th>caption</th>\n      <th>hash</th>\n      <th>permalink</th>\n      <th>original_url</th>\n      <th>image_name</th>\n      <th>path</th>\n      <th>model</th>\n      <th>exists</th>\n      <th>curated</th>\n      <th>accept</th>\n      <th>tags</th>\n    </tr>\n  </thead>\n  <tbody>\n    <tr>\n      <th>0</th>\n      <td>1013bdt</td>\n      <td>AmIhotAF</td>\n      <td>RaulDea9286</td>\n      <td>36F - ITALIAN</td>\n      <td>arafed image of a woman in a bikini top</td>\n      <td>7c0d158cba8654ef1c635cbc5471d597</td>\n      <td>/r/AmIhotAF/comments/1013bdt/36f_italian/</td>\n      <td>https://i.redd.it/bg0wwdlt5k9a1.jpg</td>\n      <td>1013bdt.jpg</td>\n      <td>data/image/1013bdt.jpg</td>\n      <td>SexyDiffusion</td>\n      <td>True</td>\n      <td>True</td>\n      <td>True</td>\n      <td>[]</td>\n    </tr>\n    <tr>\n      <th>1</th>\n      <td>105mekt</td>\n      <td>AmIhotAF</td>\n      <td>lindaniz</td>\n      <td>interesting in good forward relationship (f24)</td>\n      <td>a close up of a woman with red hair and a whit...</td>\n      <td>ba4a0962cca2266a741e1e1700589c04</td>\n      <td>/r/AmIhotAF/comments/105mekt/interesting_in_go...</td>\n      <td>https://i.redd.it/4avjshsz8naa1.jpg</td>\n      <td>105mekt.jpg</td>\n      <td>data/image/105mekt.jpg</td>\n      <td>SexyDiffusion</td>\n      <td>True</td>\n      <td>True</td>\n      <td>True</td>\n      <td>[]</td>\n    </tr>\n    <tr>\n      <th>2</th>\n      <td>105qvgl</td>\n      <td>AmIhotAF</td>\n      <td>CaitVLove11</td>\n      <td>Laughing is my favorite 😆</td>\n      <td>a woman in a blue tank top and shorts is smili...</td>\n      <td>27bfe82c37314a0bcf02ab72eaf3a9e5</td>\n      <td>/r/AmIhotAF/comments/105qvgl/laughing_is_my_fa...</td>\n      <td>https://i.redd.it/2pulzr0lxmaa1.jpg</td>\n      <td>105qvgl.jpg</td>\n      <td>data/image/105qvgl.jpg</td>\n      <td>SexyDiffusion</td>\n      <td>True</td>\n      <td>True</td>\n      <td>True</td>\n      <td>[]</td>\n    </tr>\n    <tr>\n      <th>3</th>\n      <td>105rpcj</td>\n      <td>AmIhotAF</td>\n      <td>Flashy-Desk1858</td>\n      <td>[f22] What do you think when you see me?</td>\n      <td>a woman in a blue bikini top and a blue bra top</td>\n      <td>329eb42b8267fa1cc2980da8e48bcef1</td>\n      <td>/r/AmIhotAF/comments/105rpcj/f22_what_do_you_t...</td>\n      <td>https://i.redd.it/rz68pf934naa1.jpg</td>\n      <td>105rpcj.jpg</td>\n      <td>data/image/105rpcj.jpg</td>\n      <td>SexyDiffusion</td>\n      <td>True</td>\n      <td>True</td>\n      <td>True</td>\n      <td>[]</td>\n    </tr>\n    <tr>\n      <th>4</th>\n      <td>105styc</td>\n      <td>AmIhotAF</td>\n      <td>Gizzygirl127</td>\n      <td>Low key… still bangable?</td>\n      <td>smiling woman sitting on couch with remote con...</td>\n      <td>6d555943be4fbc21ff92417c6f582298</td>\n      <td>/r/AmIhotAF/comments/105styc/low_key_still_ban...</td>\n      <td>https://i.redd.it/aiaxxoz9uoaa1.jpg</td>\n      <td>105styc.jpg</td>\n      <td>data/image/105styc.jpg</td>\n      <td>SexyDiffusion</td>\n      <td>True</td>\n      <td>True</td>\n      <td>True</td>\n      <td>[]</td>\n    </tr>\n    <tr>\n      <th>...</th>\n      <td>...</td>\n      <td>...</td>\n      <td>...</td>\n      <td>...</td>\n      <td>...</td>\n      <td>...</td>\n      <td>...</td>\n      <td>...</td>\n      <td>...</td>\n      <td>...</td>\n      <td>...</td>\n      <td>...</td>\n      <td>...</td>\n      <td>...</td>\n      <td>...</td>\n    </tr>\n    <tr>\n      <th>19899</th>\n      <td>13m6hv4</td>\n      <td>tightdresses</td>\n      <td>katiecooper4xo</td>\n      <td>Bringing tartan back!</td>\n      <td>arafed woman in a plaid dress posing for a pic...</td>\n      <td>9501d5f34d0748f58eb3caba7ce1641c</td>\n      <td>/r/tightdresses/comments/13m6hv4/bringing_tart...</td>\n      <td>https://i.redd.it/8nx1kv7o0w0b1.jpg</td>\n      <td>13m6hv4.jpg</td>\n      <td>data/image/13m6hv4.jpg</td>\n      <td>PrettyGirlDiffusion</td>\n      <td>True</td>\n      <td>True</td>\n      <td>True</td>\n      <td>[]</td>\n    </tr>\n    <tr>\n      <th>19900</th>\n      <td>13mcqn4</td>\n      <td>tightdresses</td>\n      <td>GucciBagHolder</td>\n      <td>Blonde</td>\n      <td>a close up of a woman in a white dress posing ...</td>\n      <td>70b0eff895fd87d368cb1f53af9a7f3c</td>\n      <td>/r/tightdresses/comments/13mcqn4/blonde/</td>\n      <td>https://i.redd.it/6ojq4wtl9x0b1.jpg</td>\n      <td>13mcqn4.jpg</td>\n      <td>data/image/13mcqn4.jpg</td>\n      <td>PrettyGirlDiffusion</td>\n      <td>True</td>\n      <td>True</td>\n      <td>True</td>\n      <td>[]</td>\n    </tr>\n    <tr>\n      <th>19901</th>\n      <td>13m91m2</td>\n      <td>DLAH</td>\n      <td>qwertybird3141</td>\n      <td>College grad</td>\n      <td>arafed woman standing on steps with a red and ...</td>\n      <td>adcbd61b5e37c5e048cb6907eca21bfe</td>\n      <td>/r/DLAH/comments/13m91m2/college_grad/</td>\n      <td>https://i.redd.it/skv5m0jwiw0b1.jpg</td>\n      <td>13m91m2.jpg</td>\n      <td>data/image/13m91m2.jpg</td>\n      <td>PrettyGirlDiffusion</td>\n      <td>True</td>\n      <td>True</td>\n      <td>True</td>\n      <td>[]</td>\n    </tr>\n    <tr>\n      <th>19902</th>\n      <td>13m6gm7</td>\n      <td>bathandbodyworks</td>\n      <td>unicornkenz</td>\n      <td>Candle Sale</td>\n      <td>bath and body works coup coup</td>\n      <td>47a78b117b59b636fa22093ec4f29bd7</td>\n      <td>/r/bathandbodyworks/comments/13m6gm7/candle_sale/</td>\n      <td>https://i.redd.it/h321gmgf0w0b1.jpg</td>\n      <td>13m6gm7.jpg</td>\n      <td>data/image/13m6gm7.jpg</td>\n      <td>CandleDiffusion</td>\n      <td>True</td>\n      <td>True</td>\n      <td>True</td>\n      <td>[]</td>\n    </tr>\n    <tr>\n      <th>19903</th>\n      <td>13m7rxh</td>\n      <td>bathandbodyworks</td>\n      <td>baby-pink12</td>\n      <td>Obsessed is an understatement</td>\n      <td>there are two bottles of body lotion sitting o...</td>\n      <td>412ae5c6fabc3f1594ace642e20b7231</td>\n      <td>/r/bathandbodyworks/comments/13m7rxh/obsessed_...</td>\n      <td>https://i.redd.it/xv6tjhpp9w0b1.jpg</td>\n      <td>13m7rxh.jpg</td>\n      <td>data/image/13m7rxh.jpg</td>\n      <td>CandleDiffusion</td>\n      <td>True</td>\n      <td>True</td>\n      <td>True</td>\n      <td>[]</td>\n    </tr>\n  </tbody>\n</table>\n<p>19904 rows × 15 columns</p>\n</div>"
     },
     "metadata": {},
     "output_type": "display_data"
    },
    {
     "name": "stdout",
     "output_type": "stream",
     "text": [
      "CPU times: total: 1.03 s\n",
      "Wall time: 3.82 s\n"
     ]
    }
   ],
   "source": [
    "%%time\n",
    "\n",
    "curated_df = pandas.read_parquet('data/parquet/back.parquet', filesystem=file_system, engine='pyarrow')\n",
    "\n",
    "accepted = curated_df.loc[curated_df[\"accept\"] == True]\n",
    "\n",
    "accepted.dropna(inplace=True)\n",
    "\n",
    "accepted.reset_index(inplace=True, drop=True)\n",
    "\n",
    "display(accepted)"
   ],
   "metadata": {
    "collapsed": false,
    "ExecuteTime": {
     "end_time": "2023-05-21T02:24:46.478287Z",
     "start_time": "2023-05-21T02:24:42.638285400Z"
    }
   }
  },
  {
   "cell_type": "code",
   "execution_count": 3,
   "outputs": [
    {
     "data": {
      "text/plain": "(59102, 7)"
     },
     "metadata": {},
     "output_type": "display_data"
    },
    {
     "data": {
      "text/plain": "(121919, 3)"
     },
     "metadata": {},
     "output_type": "display_data"
    },
    {
     "data": {
      "text/plain": "(6614, 6)"
     },
     "metadata": {},
     "output_type": "display_data"
    },
    {
     "name": "stdout",
     "output_type": "stream",
     "text": [
      "CPU times: total: 500 ms\n",
      "Wall time: 1.34 s\n"
     ]
    }
   ],
   "source": [
    "%%time\n",
    "\n",
    "captions = pd.read_parquet('data/parquet/image_captions.parquet', filesystem=file_system, engine='pyarrow')\n",
    "tags = pd.read_parquet('data/parquet/image_tags.parquet', filesystem=file_system, engine='pyarrow')\n",
    "crops = pd.read_parquet('data/parquet/image_cropping.parquet', filesystem=file_system, engine='pyarrow')\n",
    "\n",
    "display(captions.shape)\n",
    "display(tags.shape)\n",
    "display(crops.shape)"
   ],
   "metadata": {
    "collapsed": false,
    "ExecuteTime": {
     "end_time": "2023-05-21T02:24:47.891370300Z",
     "start_time": "2023-05-21T02:24:46.474287200Z"
    }
   }
  },
  {
   "cell_type": "code",
   "execution_count": 4,
   "outputs": [
    {
     "data": {
      "text/plain": "6732"
     },
     "metadata": {},
     "output_type": "display_data"
    },
    {
     "name": "stdout",
     "output_type": "stream",
     "text": [
      "CPU times: total: 10.2 s\n",
      "Wall time: 16.3 s\n"
     ]
    }
   ],
   "source": [
    "%%time\n",
    "\n",
    "current_captions = file_system.ls(\"data/caption\")\n",
    "display(len(current_captions))"
   ],
   "metadata": {
    "collapsed": false,
    "ExecuteTime": {
     "end_time": "2023-05-21T02:25:04.258367600Z",
     "start_time": "2023-05-21T02:24:47.852366600Z"
    }
   }
  },
  {
   "cell_type": "code",
   "execution_count": 5,
   "outputs": [
    {
     "name": "stderr",
     "output_type": "stream",
     "text": [
      "Reading caption files:  67%|██████▋   | 4479/6732 [06:03<02:49, 13.26it/s]"
     ]
    },
    {
     "name": "stdout",
     "output_type": "stream",
     "text": [
      "Expecting value: line 1 column 1 (char 0)\n"
     ]
    },
    {
     "name": "stderr",
     "output_type": "stream",
     "text": [
      "Reading caption files:  67%|██████▋   | 4493/6732 [06:04<02:43, 13.69it/s]"
     ]
    },
    {
     "name": "stdout",
     "output_type": "stream",
     "text": [
      "Expecting value: line 1 column 1 (char 0)\n"
     ]
    },
    {
     "name": "stderr",
     "output_type": "stream",
     "text": [
      "Reading caption files:  67%|██████▋   | 4501/6732 [06:04<02:29, 14.94it/s]"
     ]
    },
    {
     "name": "stdout",
     "output_type": "stream",
     "text": [
      "Expecting value: line 1 column 1 (char 0)\n"
     ]
    },
    {
     "name": "stderr",
     "output_type": "stream",
     "text": [
      "Reading caption files:  67%|██████▋   | 4507/6732 [06:05<02:37, 14.15it/s]"
     ]
    },
    {
     "name": "stdout",
     "output_type": "stream",
     "text": [
      "Expecting value: line 1 column 1 (char 0)\n"
     ]
    },
    {
     "name": "stderr",
     "output_type": "stream",
     "text": [
      "Reading caption files:  67%|██████▋   | 4513/6732 [06:05<02:20, 15.83it/s]"
     ]
    },
    {
     "name": "stdout",
     "output_type": "stream",
     "text": [
      "Expecting value: line 1 column 1 (char 0)\n",
      "Expecting value: line 1 column 1 (char 0)\n"
     ]
    },
    {
     "name": "stderr",
     "output_type": "stream",
     "text": [
      "Reading caption files:  67%|██████▋   | 4534/6732 [06:07<02:23, 15.31it/s]"
     ]
    },
    {
     "name": "stdout",
     "output_type": "stream",
     "text": [
      "Expecting value: line 1 column 1 (char 0)\n",
      "Expecting value: line 1 column 1 (char 0)\n"
     ]
    },
    {
     "name": "stderr",
     "output_type": "stream",
     "text": [
      "Reading caption files:  68%|██████▊   | 4546/6732 [06:08<02:43, 13.37it/s]"
     ]
    },
    {
     "name": "stdout",
     "output_type": "stream",
     "text": [
      "Expecting value: line 1 column 1 (char 0)\n"
     ]
    },
    {
     "name": "stderr",
     "output_type": "stream",
     "text": [
      "Reading caption files:  68%|██████▊   | 4556/6732 [06:08<02:42, 13.38it/s]"
     ]
    },
    {
     "name": "stdout",
     "output_type": "stream",
     "text": [
      "Expecting value: line 1 column 1 (char 0)\n"
     ]
    },
    {
     "name": "stderr",
     "output_type": "stream",
     "text": [
      "Reading caption files:  68%|██████▊   | 4564/6732 [06:09<02:32, 14.20it/s]"
     ]
    },
    {
     "name": "stdout",
     "output_type": "stream",
     "text": [
      "Expecting value: line 1 column 1 (char 0)\n"
     ]
    },
    {
     "name": "stderr",
     "output_type": "stream",
     "text": [
      "Reading caption files:  68%|██████▊   | 4568/6732 [06:09<02:26, 14.76it/s]"
     ]
    },
    {
     "name": "stdout",
     "output_type": "stream",
     "text": [
      "Expecting value: line 1 column 1 (char 0)\n"
     ]
    },
    {
     "name": "stderr",
     "output_type": "stream",
     "text": [
      "Reading caption files:  68%|██████▊   | 4583/6732 [06:10<02:24, 14.88it/s]"
     ]
    },
    {
     "name": "stdout",
     "output_type": "stream",
     "text": [
      "Expecting value: line 1 column 1 (char 0)\n",
      "Expecting value: line 1 column 1 (char 0)\n"
     ]
    },
    {
     "name": "stderr",
     "output_type": "stream",
     "text": [
      "Reading caption files:  68%|██████▊   | 4587/6732 [06:11<02:22, 15.05it/s]"
     ]
    },
    {
     "name": "stdout",
     "output_type": "stream",
     "text": [
      "Expecting value: line 1 column 1 (char 0)\n"
     ]
    },
    {
     "name": "stderr",
     "output_type": "stream",
     "text": [
      "Reading caption files:  68%|██████▊   | 4599/6732 [06:11<02:29, 14.29it/s]"
     ]
    },
    {
     "name": "stdout",
     "output_type": "stream",
     "text": [
      "Expecting value: line 1 column 1 (char 0)\n",
      "Expecting value: line 1 column 1 (char 0)\n",
      "Expecting value: line 1 column 1 (char 0)\n",
      "Expecting value: line 1 column 1 (char 0)\n"
     ]
    },
    {
     "name": "stderr",
     "output_type": "stream",
     "text": [
      "Reading caption files:  68%|██████▊   | 4602/6732 [06:12<02:03, 17.23it/s]"
     ]
    },
    {
     "name": "stdout",
     "output_type": "stream",
     "text": [
      "Expecting value: line 1 column 1 (char 0)\n"
     ]
    },
    {
     "name": "stderr",
     "output_type": "stream",
     "text": [
      "Reading caption files:  68%|██████▊   | 4608/6732 [06:12<02:27, 14.38it/s]"
     ]
    },
    {
     "name": "stdout",
     "output_type": "stream",
     "text": [
      "Expecting value: line 1 column 1 (char 0)\n",
      "Expecting value: line 1 column 1 (char 0)\n"
     ]
    },
    {
     "name": "stderr",
     "output_type": "stream",
     "text": [
      "Reading caption files:  69%|██████▊   | 4614/6732 [06:12<02:13, 15.91it/s]"
     ]
    },
    {
     "name": "stdout",
     "output_type": "stream",
     "text": [
      "Expecting value: line 1 column 1 (char 0)\n",
      "Expecting value: line 1 column 1 (char 0)\n"
     ]
    },
    {
     "name": "stderr",
     "output_type": "stream",
     "text": [
      "Reading caption files:  69%|██████▊   | 4618/6732 [06:13<02:05, 16.81it/s]"
     ]
    },
    {
     "name": "stdout",
     "output_type": "stream",
     "text": [
      "Expecting value: line 1 column 1 (char 0)\n",
      "Expecting value: line 1 column 1 (char 0)\n",
      "Expecting value: line 1 column 1 (char 0)\n"
     ]
    },
    {
     "name": "stderr",
     "output_type": "stream",
     "text": [
      "Reading caption files:  69%|██████▊   | 4623/6732 [06:13<01:56, 18.13it/s]"
     ]
    },
    {
     "name": "stdout",
     "output_type": "stream",
     "text": [
      "Expecting value: line 1 column 1 (char 0)\n",
      "Expecting value: line 1 column 1 (char 0)\n"
     ]
    },
    {
     "name": "stderr",
     "output_type": "stream",
     "text": [
      "Reading caption files:  69%|██████▉   | 4631/6732 [06:13<02:16, 15.42it/s]"
     ]
    },
    {
     "name": "stdout",
     "output_type": "stream",
     "text": [
      "Expecting value: line 1 column 1 (char 0)\n"
     ]
    },
    {
     "name": "stderr",
     "output_type": "stream",
     "text": [
      "Reading caption files:  69%|██████▉   | 4637/6732 [06:14<02:07, 16.46it/s]"
     ]
    },
    {
     "name": "stdout",
     "output_type": "stream",
     "text": [
      "Expecting value: line 1 column 1 (char 0)\n",
      "Expecting value: line 1 column 1 (char 0)\n"
     ]
    },
    {
     "name": "stderr",
     "output_type": "stream",
     "text": [
      "Reading caption files:  69%|██████▉   | 4642/6732 [06:14<02:00, 17.35it/s]"
     ]
    },
    {
     "name": "stdout",
     "output_type": "stream",
     "text": [
      "Expecting value: line 1 column 1 (char 0)\n",
      "Expecting value: line 1 column 1 (char 0)\n",
      "Expecting value: line 1 column 1 (char 0)\n"
     ]
    },
    {
     "name": "stderr",
     "output_type": "stream",
     "text": [
      "Reading caption files:  69%|██████▉   | 4646/6732 [06:14<01:57, 17.70it/s]"
     ]
    },
    {
     "name": "stdout",
     "output_type": "stream",
     "text": [
      "Expecting value: line 1 column 1 (char 0)\n",
      "Expecting value: line 1 column 1 (char 0)\n",
      "Expecting value: line 1 column 1 (char 0)\n",
      "Expecting value: line 1 column 1 (char 0)\n"
     ]
    },
    {
     "name": "stderr",
     "output_type": "stream",
     "text": [
      "Reading caption files:  69%|██████▉   | 4649/6732 [06:14<01:42, 20.38it/s]"
     ]
    },
    {
     "name": "stdout",
     "output_type": "stream",
     "text": [
      "Expecting value: line 1 column 1 (char 0)\n"
     ]
    },
    {
     "name": "stderr",
     "output_type": "stream",
     "text": [
      "Reading caption files:  69%|██████▉   | 4656/6732 [06:15<02:02, 16.93it/s]"
     ]
    },
    {
     "name": "stdout",
     "output_type": "stream",
     "text": [
      "Expecting value: line 1 column 1 (char 0)\n",
      "Expecting value: line 1 column 1 (char 0)\n"
     ]
    },
    {
     "name": "stderr",
     "output_type": "stream",
     "text": [
      "Reading caption files:  69%|██████▉   | 4664/6732 [06:16<02:32, 13.56it/s]"
     ]
    },
    {
     "name": "stdout",
     "output_type": "stream",
     "text": [
      "Expecting value: line 1 column 1 (char 0)\n"
     ]
    },
    {
     "name": "stderr",
     "output_type": "stream",
     "text": [
      "Reading caption files:  69%|██████▉   | 4669/6732 [06:16<02:13, 15.51it/s]"
     ]
    },
    {
     "name": "stdout",
     "output_type": "stream",
     "text": [
      "Expecting value: line 1 column 1 (char 0)\n",
      "Expecting value: line 1 column 1 (char 0)\n",
      "Expecting value: line 1 column 1 (char 0)\n"
     ]
    },
    {
     "name": "stderr",
     "output_type": "stream",
     "text": [
      "Reading caption files:  69%|██████▉   | 4673/6732 [06:16<02:04, 16.54it/s]"
     ]
    },
    {
     "name": "stdout",
     "output_type": "stream",
     "text": [
      "Expecting value: line 1 column 1 (char 0)\n",
      "Expecting value: line 1 column 1 (char 0)\n"
     ]
    },
    {
     "name": "stderr",
     "output_type": "stream",
     "text": [
      "Reading caption files:  70%|██████▉   | 4679/6732 [06:17<02:16, 15.09it/s]"
     ]
    },
    {
     "name": "stdout",
     "output_type": "stream",
     "text": [
      "Expecting value: line 1 column 1 (char 0)\n",
      "Expecting value: line 1 column 1 (char 0)\n",
      "Expecting value: line 1 column 1 (char 0)\n",
      "Expecting value: line 1 column 1 (char 0)\n"
     ]
    },
    {
     "name": "stderr",
     "output_type": "stream",
     "text": [
      "Reading caption files:  70%|██████▉   | 4688/6732 [06:17<02:07, 16.03it/s]"
     ]
    },
    {
     "name": "stdout",
     "output_type": "stream",
     "text": [
      "Expecting value: line 1 column 1 (char 0)\n"
     ]
    },
    {
     "name": "stderr",
     "output_type": "stream",
     "text": [
      "Reading caption files:  70%|██████▉   | 4693/6732 [06:17<02:00, 16.98it/s]"
     ]
    },
    {
     "name": "stdout",
     "output_type": "stream",
     "text": [
      "Expecting value: line 1 column 1 (char 0)\n",
      "Expecting value: line 1 column 1 (char 0)\n",
      "Expecting value: line 1 column 1 (char 0)\n"
     ]
    },
    {
     "name": "stderr",
     "output_type": "stream",
     "text": [
      "Reading caption files:  70%|██████▉   | 4697/6732 [06:18<02:04, 16.32it/s]"
     ]
    },
    {
     "name": "stdout",
     "output_type": "stream",
     "text": [
      "Expecting value: line 1 column 1 (char 0)\n",
      "Expecting value: line 1 column 1 (char 0)\n"
     ]
    },
    {
     "name": "stderr",
     "output_type": "stream",
     "text": [
      "Reading caption files:  70%|██████▉   | 4702/6732 [06:18<01:54, 17.74it/s]"
     ]
    },
    {
     "name": "stdout",
     "output_type": "stream",
     "text": [
      "Expecting value: line 1 column 1 (char 0)\n",
      "Expecting value: line 1 column 1 (char 0)\n",
      "Expecting value: line 1 column 1 (char 0)\n",
      "Expecting value: line 1 column 1 (char 0)\n"
     ]
    },
    {
     "name": "stderr",
     "output_type": "stream",
     "text": [
      "Reading caption files:  70%|██████▉   | 4705/6732 [06:18<01:52, 17.96it/s]"
     ]
    },
    {
     "name": "stdout",
     "output_type": "stream",
     "text": [
      "Expecting value: line 1 column 1 (char 0)\n",
      "Expecting value: line 1 column 1 (char 0)\n",
      "Expecting value: line 1 column 1 (char 0)\n"
     ]
    },
    {
     "name": "stderr",
     "output_type": "stream",
     "text": [
      "Reading caption files:  70%|██████▉   | 4710/6732 [06:18<01:45, 19.15it/s]"
     ]
    },
    {
     "name": "stdout",
     "output_type": "stream",
     "text": [
      "Expecting value: line 1 column 1 (char 0)\n",
      "Expecting value: line 1 column 1 (char 0)\n"
     ]
    },
    {
     "name": "stderr",
     "output_type": "stream",
     "text": [
      "Reading caption files:  70%|███████   | 4715/6732 [06:19<01:54, 17.57it/s]"
     ]
    },
    {
     "name": "stdout",
     "output_type": "stream",
     "text": [
      "Expecting value: line 1 column 1 (char 0)\n",
      "Expecting value: line 1 column 1 (char 0)\n"
     ]
    },
    {
     "name": "stderr",
     "output_type": "stream",
     "text": [
      "Reading caption files:  70%|███████   | 4719/6732 [06:19<02:04, 16.17it/s]"
     ]
    },
    {
     "name": "stdout",
     "output_type": "stream",
     "text": [
      "Expecting value: line 1 column 1 (char 0)\n",
      "Expecting value: line 1 column 1 (char 0)\n"
     ]
    },
    {
     "name": "stderr",
     "output_type": "stream",
     "text": [
      "Reading caption files:  70%|███████   | 4722/6732 [06:19<01:57, 17.09it/s]"
     ]
    },
    {
     "name": "stdout",
     "output_type": "stream",
     "text": [
      "Expecting value: line 1 column 1 (char 0)\n",
      "Expecting value: line 1 column 1 (char 0)\n"
     ]
    },
    {
     "name": "stderr",
     "output_type": "stream",
     "text": [
      "Reading caption files:  70%|███████   | 4731/6732 [06:20<01:57, 17.10it/s]"
     ]
    },
    {
     "name": "stdout",
     "output_type": "stream",
     "text": [
      "Expecting value: line 1 column 1 (char 0)\n",
      "Expecting value: line 1 column 1 (char 0)\n",
      "Expecting value: line 1 column 1 (char 0)\n",
      "Expecting value: line 1 column 1 (char 0)\n"
     ]
    },
    {
     "name": "stderr",
     "output_type": "stream",
     "text": [
      "Reading caption files:  70%|███████   | 4735/6732 [06:20<01:56, 17.21it/s]"
     ]
    },
    {
     "name": "stdout",
     "output_type": "stream",
     "text": [
      "Expecting value: line 1 column 1 (char 0)\n",
      "Expecting value: line 1 column 1 (char 0)\n"
     ]
    },
    {
     "name": "stderr",
     "output_type": "stream",
     "text": [
      "Reading caption files:  70%|███████   | 4742/6732 [06:20<01:57, 16.93it/s]"
     ]
    },
    {
     "name": "stdout",
     "output_type": "stream",
     "text": [
      "Expecting value: line 1 column 1 (char 0)\n",
      "Expecting value: line 1 column 1 (char 0)\n",
      "Expecting value: line 1 column 1 (char 0)\n"
     ]
    },
    {
     "name": "stderr",
     "output_type": "stream",
     "text": [
      "Reading caption files:  70%|███████   | 4744/6732 [06:20<02:06, 15.77it/s]"
     ]
    },
    {
     "name": "stdout",
     "output_type": "stream",
     "text": [
      "Expecting value: line 1 column 1 (char 0)\n"
     ]
    },
    {
     "name": "stderr",
     "output_type": "stream",
     "text": [
      "Reading caption files:  71%|███████   | 4748/6732 [06:21<02:20, 14.11it/s]"
     ]
    },
    {
     "name": "stdout",
     "output_type": "stream",
     "text": [
      "Expecting value: line 1 column 1 (char 0)\n"
     ]
    },
    {
     "name": "stderr",
     "output_type": "stream",
     "text": [
      "Reading caption files:  71%|███████   | 4753/6732 [06:21<02:01, 16.26it/s]"
     ]
    },
    {
     "name": "stdout",
     "output_type": "stream",
     "text": [
      "Expecting value: line 1 column 1 (char 0)\n",
      "Expecting value: line 1 column 1 (char 0)\n",
      "Expecting value: line 1 column 1 (char 0)\n",
      "Expecting value: line 1 column 1 (char 0)\n",
      "Expecting value: line 1 column 1 (char 0)\n"
     ]
    },
    {
     "name": "stderr",
     "output_type": "stream",
     "text": [
      "Reading caption files:  71%|███████   | 4758/6732 [06:21<01:45, 18.71it/s]"
     ]
    },
    {
     "name": "stdout",
     "output_type": "stream",
     "text": [
      "Expecting value: line 1 column 1 (char 0)\n",
      "Expecting value: line 1 column 1 (char 0)\n",
      "Expecting value: line 1 column 1 (char 0)\n",
      "Expecting value: line 1 column 1 (char 0)\n",
      "Expecting value: line 1 column 1 (char 0)\n"
     ]
    },
    {
     "name": "stderr",
     "output_type": "stream",
     "text": [
      "Reading caption files:  71%|███████   | 4763/6732 [06:21<01:38, 19.99it/s]"
     ]
    },
    {
     "name": "stdout",
     "output_type": "stream",
     "text": [
      "Expecting value: line 1 column 1 (char 0)\n",
      "Expecting value: line 1 column 1 (char 0)\n",
      "Expecting value: line 1 column 1 (char 0)\n",
      "Expecting value: line 1 column 1 (char 0)\n",
      "Expecting value: line 1 column 1 (char 0)\n"
     ]
    },
    {
     "name": "stderr",
     "output_type": "stream",
     "text": [
      "Reading caption files:  71%|███████   | 4769/6732 [06:22<01:34, 20.72it/s]"
     ]
    },
    {
     "name": "stdout",
     "output_type": "stream",
     "text": [
      "Expecting value: line 1 column 1 (char 0)\n",
      "Expecting value: line 1 column 1 (char 0)\n",
      "Expecting value: line 1 column 1 (char 0)\n",
      "Expecting value: line 1 column 1 (char 0)\n",
      "Expecting value: line 1 column 1 (char 0)\n"
     ]
    },
    {
     "name": "stderr",
     "output_type": "stream",
     "text": [
      "Reading caption files:  71%|███████   | 4775/6732 [06:22<01:30, 21.65it/s]"
     ]
    },
    {
     "name": "stdout",
     "output_type": "stream",
     "text": [
      "Expecting value: line 1 column 1 (char 0)\n",
      "Expecting value: line 1 column 1 (char 0)\n",
      "Expecting value: line 1 column 1 (char 0)\n",
      "Expecting value: line 1 column 1 (char 0)\n",
      "Expecting value: line 1 column 1 (char 0)\n"
     ]
    },
    {
     "name": "stderr",
     "output_type": "stream",
     "text": [
      "Reading caption files:  71%|███████   | 4778/6732 [06:22<01:27, 22.28it/s]"
     ]
    },
    {
     "name": "stdout",
     "output_type": "stream",
     "text": [
      "Expecting value: line 1 column 1 (char 0)\n",
      "Expecting value: line 1 column 1 (char 0)\n",
      "Expecting value: line 1 column 1 (char 0)\n",
      "Expecting value: line 1 column 1 (char 0)\n",
      "Expecting value: line 1 column 1 (char 0)\n",
      "Expecting value: line 1 column 1 (char 0)\n"
     ]
    },
    {
     "name": "stderr",
     "output_type": "stream",
     "text": [
      "Reading caption files:  71%|███████   | 4784/6732 [06:22<01:32, 21.03it/s]"
     ]
    },
    {
     "name": "stdout",
     "output_type": "stream",
     "text": [
      "Expecting value: line 1 column 1 (char 0)\n",
      "Expecting value: line 1 column 1 (char 0)\n",
      "Expecting value: line 1 column 1 (char 0)\n"
     ]
    },
    {
     "name": "stderr",
     "output_type": "stream",
     "text": [
      "Reading caption files: 100%|██████████| 6732/6732 [09:09<00:00, 12.25it/s]\n"
     ]
    },
    {
     "name": "stdout",
     "output_type": "stream",
     "text": [
      "CPU times: total: 2min 40s\n",
      "Wall time: 9min 9s\n"
     ]
    }
   ],
   "source": [
    "%%time\n",
    "\n",
    "all_data = []\n",
    "for caption_file in tqdm(current_captions, total=len(current_captions), desc='Reading caption files'):\n",
    "\ttry:\n",
    "\t\tcaption_data = json.loads(file_system.read_text(caption_file, encoding='utf-8'))\n",
    "\t\tdense_caption_result = caption_data.get('denseCaptionsResult')\n",
    "\t\tmetadata = caption_data.get('metadata')\n",
    "\t\ttags_result = caption_data.get('tagsResult')\n",
    "\t\tsmart_crop_result = caption_data.get('smartCropsResult')\n",
    "\t\tbasic_caption = caption_data.get('captionResult')\n",
    "\t\timage_id = caption_file.split('/')[-1].split('.')[0]\n",
    "\t\tcaption_data[\"id\"] = image_id\n",
    "\t\tfiltered_data = {\n",
    "\t\t\t\"id\": image_id,\n",
    "\t\t\t\"captions\": [basic_caption],\n",
    "\t\t\t\"dense_captions\": dense_caption_result['values'],\n",
    "\t\t\t\"meta\": [metadata],\n",
    "\t\t\t\"tags\": tags_result['values'],\n",
    "\t\t\t\"smart_crop\": smart_crop_result['values']\n",
    "\t\t}\n",
    "\t\tall_data.append(filtered_data)\n",
    "\texcept Exception as e:\n",
    "\t\tprint(e)\n",
    "\t\tcontinue"
   ],
   "metadata": {
    "collapsed": false,
    "ExecuteTime": {
     "end_time": "2023-05-21T02:34:16.159722300Z",
     "start_time": "2023-05-21T02:25:04.200365300Z"
    }
   }
  },
  {
   "cell_type": "code",
   "execution_count": 6,
   "outputs": [
    {
     "name": "stdout",
     "output_type": "stream",
     "text": [
      "CPU times: total: 7.36 s\n",
      "Wall time: 19.7 s\n"
     ]
    }
   ],
   "source": [
    "%%time\n",
    "\n",
    "new_captions = pandas.json_normalize(data=all_data, record_path=['dense_captions'], meta=['id'],\n",
    "\t\t\t\t\t\t\t\t\t record_prefix='dense_captions_')\n",
    "new_tags = pandas.json_normalize(data=all_data, record_path=['tags'], meta=['id'], record_prefix='tags_')\n",
    "new_crops = pandas.json_normalize(data=all_data, record_path=['smart_crop'], meta=['id'], record_prefix='smart_crop_')"
   ],
   "metadata": {
    "collapsed": false
   }
  },
  {
   "cell_type": "code",
   "execution_count": 7,
   "outputs": [
    {
     "name": "stdout",
     "output_type": "stream",
     "text": [
      "CPU times: total: 297 ms\n",
      "Wall time: 559 ms\n"
     ]
    }
   ],
   "source": [
    "%%time\n",
    "\n",
    "new_basic_captions = pandas.json_normalize(data=all_data, record_path=['captions'], meta=['id'],\n",
    "\t\t\t\t\t\t\t\t\t\t   record_prefix='captions_')\n",
    "meta = pandas.json_normalize(data=all_data, record_path=['meta'], meta=['id'], record_prefix='meta_')"
   ],
   "metadata": {
    "collapsed": false
   }
  },
  {
   "cell_type": "code",
   "execution_count": 8,
   "outputs": [
    {
     "data": {
      "text/plain": "(59102, 7)"
     },
     "metadata": {},
     "output_type": "display_data"
    },
    {
     "data": {
      "text/plain": "(121919, 3)"
     },
     "metadata": {},
     "output_type": "display_data"
    },
    {
     "data": {
      "text/plain": "(6614, 6)"
     },
     "metadata": {},
     "output_type": "display_data"
    },
    {
     "data": {
      "text/plain": "(6614, 3)"
     },
     "metadata": {},
     "output_type": "display_data"
    },
    {
     "data": {
      "text/plain": "(6614, 3)"
     },
     "metadata": {},
     "output_type": "display_data"
    },
    {
     "name": "stdout",
     "output_type": "stream",
     "text": [
      "CPU times: total: 15.6 ms\n",
      "Wall time: 15 ms\n"
     ]
    }
   ],
   "source": [
    "%%time\n",
    "\n",
    "display(new_captions.shape)\n",
    "display(new_tags.shape)\n",
    "display(new_crops.shape)\n",
    "display(new_basic_captions.shape)\n",
    "display(meta.shape)"
   ],
   "metadata": {
    "collapsed": false
   }
  },
  {
   "cell_type": "code",
   "execution_count": 9,
   "outputs": [
    {
     "data": {
      "text/plain": "                                     captions_text  captions_confidence   \n0                              a pier in the ocean             0.321403  \\\n1                          a town in the mountains             0.314388   \n2                          a woman taking a selfie             0.662057   \n3     a woman in a garment standing next to a tree             0.513081   \n4         a train on a bridge over a body of water             0.382730   \n...                                            ...                  ...   \n6609                    a woman in a blue lingerie             0.430763   \n6610         a city with many buildings and a road             0.255758   \n6611                      a woman sitting on a bed             0.584322   \n6612       a woman in a dress posing for a picture             0.460149   \n6613  a bridge over a cliff with buildings and fog             0.395170   \n\n           id  meta_width  meta_height  \n0     1002bsl        4032         3024  \n1     1002cgj        1200          800  \n2     1002cx2        1468         2608  \n3     1003dod        1523         2030  \n4     10044wv        4032         3024  \n...       ...         ...          ...  \n6609   zzu8i8        2309         2560  \n6610   zzv4hz        1283         1519  \n6611   zzvv3x        1440         1800  \n6612   zzxq2l        1075         1351  \n6613   zzy49v        1080         1334  \n\n[6614 rows x 5 columns]",
      "text/html": "<div>\n<style scoped>\n    .dataframe tbody tr th:only-of-type {\n        vertical-align: middle;\n    }\n\n    .dataframe tbody tr th {\n        vertical-align: top;\n    }\n\n    .dataframe thead th {\n        text-align: right;\n    }\n</style>\n<table border=\"1\" class=\"dataframe\">\n  <thead>\n    <tr style=\"text-align: right;\">\n      <th></th>\n      <th>captions_text</th>\n      <th>captions_confidence</th>\n      <th>id</th>\n      <th>meta_width</th>\n      <th>meta_height</th>\n    </tr>\n  </thead>\n  <tbody>\n    <tr>\n      <th>0</th>\n      <td>a pier in the ocean</td>\n      <td>0.321403</td>\n      <td>1002bsl</td>\n      <td>4032</td>\n      <td>3024</td>\n    </tr>\n    <tr>\n      <th>1</th>\n      <td>a town in the mountains</td>\n      <td>0.314388</td>\n      <td>1002cgj</td>\n      <td>1200</td>\n      <td>800</td>\n    </tr>\n    <tr>\n      <th>2</th>\n      <td>a woman taking a selfie</td>\n      <td>0.662057</td>\n      <td>1002cx2</td>\n      <td>1468</td>\n      <td>2608</td>\n    </tr>\n    <tr>\n      <th>3</th>\n      <td>a woman in a garment standing next to a tree</td>\n      <td>0.513081</td>\n      <td>1003dod</td>\n      <td>1523</td>\n      <td>2030</td>\n    </tr>\n    <tr>\n      <th>4</th>\n      <td>a train on a bridge over a body of water</td>\n      <td>0.382730</td>\n      <td>10044wv</td>\n      <td>4032</td>\n      <td>3024</td>\n    </tr>\n    <tr>\n      <th>...</th>\n      <td>...</td>\n      <td>...</td>\n      <td>...</td>\n      <td>...</td>\n      <td>...</td>\n    </tr>\n    <tr>\n      <th>6609</th>\n      <td>a woman in a blue lingerie</td>\n      <td>0.430763</td>\n      <td>zzu8i8</td>\n      <td>2309</td>\n      <td>2560</td>\n    </tr>\n    <tr>\n      <th>6610</th>\n      <td>a city with many buildings and a road</td>\n      <td>0.255758</td>\n      <td>zzv4hz</td>\n      <td>1283</td>\n      <td>1519</td>\n    </tr>\n    <tr>\n      <th>6611</th>\n      <td>a woman sitting on a bed</td>\n      <td>0.584322</td>\n      <td>zzvv3x</td>\n      <td>1440</td>\n      <td>1800</td>\n    </tr>\n    <tr>\n      <th>6612</th>\n      <td>a woman in a dress posing for a picture</td>\n      <td>0.460149</td>\n      <td>zzxq2l</td>\n      <td>1075</td>\n      <td>1351</td>\n    </tr>\n    <tr>\n      <th>6613</th>\n      <td>a bridge over a cliff with buildings and fog</td>\n      <td>0.395170</td>\n      <td>zzy49v</td>\n      <td>1080</td>\n      <td>1334</td>\n    </tr>\n  </tbody>\n</table>\n<p>6614 rows × 5 columns</p>\n</div>"
     },
     "metadata": {},
     "output_type": "display_data"
    },
    {
     "name": "stdout",
     "output_type": "stream",
     "text": [
      "CPU times: total: 31.2 ms\n",
      "Wall time: 165 ms\n"
     ]
    }
   ],
   "source": [
    "%%time\n",
    "\n",
    "merge_singles = pandas.merge(new_basic_captions, meta, on='id').set_index(keys=['id'], drop=False)\n",
    "merge_singles.drop_duplicates(inplace=True)\n",
    "merge_singles.reset_index(drop=True, inplace=True)\n",
    "display(merge_singles)"
   ],
   "metadata": {
    "collapsed": false
   }
  },
  {
   "cell_type": "code",
   "execution_count": 10,
   "outputs": [
    {
     "data": {
      "text/plain": "                                        captions_text captions_confidence   \nid                                                                          \n1002bsl                           a pier in the ocean            0.321403  \\\n1002cgj                       a town in the mountains            0.314388   \n1002cx2                       a woman taking a selfie            0.662057   \n1003dod  a woman in a garment standing next to a tree            0.513081   \n10044wv      a train on a bridge over a body of water             0.38273   \n...                                               ...                 ...   \n13m91m2                                                                     \n13gwhao                                                                     \n13m6gm7                                                                     \n13m7rxh                                                                     \n13m8ts7                                                                     \n\n              id meta_width meta_height              subreddit   \nid                                                               \n1002bsl  1002bsl     4032.0      3024.0               CityPorn  \\\n1002cgj  1002cgj     1200.0       800.0               CityPorn   \n1002cx2  1002cx2     1468.0      2608.0            SFWRedheads   \n1003dod  1003dod     1523.0      2030.0        HotGirlNextDoor   \n10044wv  10044wv     4032.0      3024.0               CityPorn   \n...          ...        ...         ...                    ...   \n13m91m2  13m91m2                                          DLAH   \n13gwhao  13gwhao                              bathandbodyworks   \n13m6gm7  13m6gm7                              bathandbodyworks   \n13m7rxh  13m7rxh                              bathandbodyworks   \n13m8ts7  13m8ts7                         AesPleasingAsianGirls   \n\n                       author   \nid                              \n1002bsl           Bottomsup99  \\\n1002cgj         drizzydriller   \n1002cx2          Sayleywayley   \n1003dod          fairytale808   \n10044wv          dawginphilly   \n...                       ...   \n13m91m2        qwertybird3141   \n13gwhao             becki5926   \n13m6gm7           unicornkenz   \n13m7rxh           baby-pink12   \n13m8ts7  throwaway83736365372   \n\n                                                     title   \nid                                                           \n1002bsl                           Pacific Beach California  \\\n1002cgj  Not exactly a city, but Jim Thorpe PA is very ...   \n1002cx2  Happy New Year to every single person near and...   \n1003dod                             pink and blonde (iktr)   \n10044wv                             Wissahickon, Phila, PA   \n...                                                    ...   \n13m91m2                                       College grad   \n13gwhao                                💙Coupons Are Here❤️   \n13m6gm7                                        Candle Sale   \n13m7rxh                      Obsessed is an understatement   \n13m8ts7                                              Habin   \n\n                                                   caption   \nid                                                           \n1002bsl       arafed view of a pier with a pier and a pier  \\\n1002cgj  mountainside view of a town with a flagpole an...   \n1002cx2  blonde woman with red hair and black bra top p...   \n1003dod  blonde woman in pink bikinisuit standing on a ...   \n10044wv    arafed view of a train on a bridge over a river   \n...                                                    ...   \n13m91m2  arafed woman standing on steps with a red and ...   \n13gwhao  a close up of a sign advertising bath and body...   \n13m6gm7                      bath and body works coup coup   \n13m7rxh  there are two bottles of body lotion sitting o...   \n13m8ts7  there is a woman taking a selfie in a living room   \n\n                                     hash   \nid                                          \n1002bsl  08036f856ed7759eb73ebd6b077ea642  \\\n1002cgj  a3d715cfdbb49376fbabfb29a1bd6400   \n1002cx2  1fb785ca16b10f4f7613961f0b88f369   \n1003dod  0849c7aafe126ad27b58cb6e6c9c6592   \n10044wv  abb87d7618eec7cd6a86d7647263ea1b   \n...                                   ...   \n13m91m2  adcbd61b5e37c5e048cb6907eca21bfe   \n13gwhao  d4ba98857b64b35ecec420a6b7e32f97   \n13m6gm7  47a78b117b59b636fa22093ec4f29bd7   \n13m7rxh  412ae5c6fabc3f1594ace642e20b7231   \n13m8ts7  79571c0291260a5e0288a9878e5f7701   \n\n                                                 permalink   \nid                                                           \n1002bsl  /r/CityPorn/comments/1002bsl/pacific_beach_cal...  \\\n1002cgj  /r/CityPorn/comments/1002cgj/not_exactly_a_cit...   \n1002cx2  /r/SFWRedheads/comments/1002cx2/happy_new_year...   \n1003dod  /r/HotGirlNextDoor/comments/1003dod/pink_and_b...   \n10044wv  /r/CityPorn/comments/10044wv/wissahickon_phila...   \n...                                                    ...   \n13m91m2             /r/DLAH/comments/13m91m2/college_grad/   \n13gwhao  /r/bathandbodyworks/comments/13gwhao/coupons_a...   \n13m6gm7  /r/bathandbodyworks/comments/13m6gm7/candle_sale/   \n13m7rxh  /r/bathandbodyworks/comments/13m7rxh/obsessed_...   \n13m8ts7   /r/AesPleasingAsianGirls/comments/13m8ts7/habin/   \n\n                                original_url   image_name   \nid                                                          \n1002bsl  https://i.redd.it/slyqoecbzb9a1.jpg  1002bsl.jpg  \\\n1002cgj  https://i.redd.it/09kuna4hzb9a1.jpg  1002cgj.jpg   \n1002cx2  https://i.redd.it/el3s490lzb9a1.jpg  1002cx2.jpg   \n1003dod  https://i.redd.it/x56eekrd8c9a1.jpg  1003dod.jpg   \n10044wv  https://i.redd.it/4y6hzocyec9a1.jpg  10044wv.jpg   \n...                                      ...          ...   \n13m91m2  https://i.redd.it/skv5m0jwiw0b1.jpg  13m91m2.jpg   \n13gwhao  https://i.redd.it/pl5orr6d8qza1.jpg  13gwhao.jpg   \n13m6gm7  https://i.redd.it/h321gmgf0w0b1.jpg  13m6gm7.jpg   \n13m7rxh  https://i.redd.it/xv6tjhpp9w0b1.jpg  13m7rxh.jpg   \n13m8ts7  https://i.redd.it/03zp9mc6hw0b1.jpg  13m8ts7.jpg   \n\n                           path                model  exists  curated  accept   \nid                                                                              \n1002bsl  data/image/1002bsl.jpg        CityDiffusion    True     True    True  \\\n1002cgj  data/image/1002cgj.jpg        CityDiffusion    True     True    True   \n1002cx2  data/image/1002cx2.jpg     RedHeadDiffusion    True     True    True   \n1003dod  data/image/1003dod.jpg        SexyDiffusion    True     True    True   \n10044wv  data/image/10044wv.jpg        CityDiffusion    True     True    True   \n...                         ...                  ...     ...      ...     ...   \n13m91m2  data/image/13m91m2.jpg  PrettyGirlDiffusion    True     True    True   \n13gwhao  data/image/13gwhao.jpg      CandleDiffusion    True     True   False   \n13m6gm7  data/image/13m6gm7.jpg      CandleDiffusion    True     True    True   \n13m7rxh  data/image/13m7rxh.jpg      CandleDiffusion    True     True    True   \n13m8ts7  data/image/13m8ts7.jpg   SexyAsianDiffusion    True     True   False   \n\n        tags  \nid            \n1002bsl   []  \n1002cgj   []  \n1002cx2   []  \n1003dod   []  \n10044wv   []  \n...      ...  \n13m91m2   []  \n13gwhao   []  \n13m6gm7   []  \n13m7rxh   []  \n13m8ts7   []  \n\n[39255 rows x 19 columns]",
      "text/html": "<div>\n<style scoped>\n    .dataframe tbody tr th:only-of-type {\n        vertical-align: middle;\n    }\n\n    .dataframe tbody tr th {\n        vertical-align: top;\n    }\n\n    .dataframe thead th {\n        text-align: right;\n    }\n</style>\n<table border=\"1\" class=\"dataframe\">\n  <thead>\n    <tr style=\"text-align: right;\">\n      <th></th>\n      <th>captions_text</th>\n      <th>captions_confidence</th>\n      <th>id</th>\n      <th>meta_width</th>\n      <th>meta_height</th>\n      <th>subreddit</th>\n      <th>author</th>\n      <th>title</th>\n      <th>caption</th>\n      <th>hash</th>\n      <th>permalink</th>\n      <th>original_url</th>\n      <th>image_name</th>\n      <th>path</th>\n      <th>model</th>\n      <th>exists</th>\n      <th>curated</th>\n      <th>accept</th>\n      <th>tags</th>\n    </tr>\n    <tr>\n      <th>id</th>\n      <th></th>\n      <th></th>\n      <th></th>\n      <th></th>\n      <th></th>\n      <th></th>\n      <th></th>\n      <th></th>\n      <th></th>\n      <th></th>\n      <th></th>\n      <th></th>\n      <th></th>\n      <th></th>\n      <th></th>\n      <th></th>\n      <th></th>\n      <th></th>\n      <th></th>\n    </tr>\n  </thead>\n  <tbody>\n    <tr>\n      <th>1002bsl</th>\n      <td>a pier in the ocean</td>\n      <td>0.321403</td>\n      <td>1002bsl</td>\n      <td>4032.0</td>\n      <td>3024.0</td>\n      <td>CityPorn</td>\n      <td>Bottomsup99</td>\n      <td>Pacific Beach California</td>\n      <td>arafed view of a pier with a pier and a pier</td>\n      <td>08036f856ed7759eb73ebd6b077ea642</td>\n      <td>/r/CityPorn/comments/1002bsl/pacific_beach_cal...</td>\n      <td>https://i.redd.it/slyqoecbzb9a1.jpg</td>\n      <td>1002bsl.jpg</td>\n      <td>data/image/1002bsl.jpg</td>\n      <td>CityDiffusion</td>\n      <td>True</td>\n      <td>True</td>\n      <td>True</td>\n      <td>[]</td>\n    </tr>\n    <tr>\n      <th>1002cgj</th>\n      <td>a town in the mountains</td>\n      <td>0.314388</td>\n      <td>1002cgj</td>\n      <td>1200.0</td>\n      <td>800.0</td>\n      <td>CityPorn</td>\n      <td>drizzydriller</td>\n      <td>Not exactly a city, but Jim Thorpe PA is very ...</td>\n      <td>mountainside view of a town with a flagpole an...</td>\n      <td>a3d715cfdbb49376fbabfb29a1bd6400</td>\n      <td>/r/CityPorn/comments/1002cgj/not_exactly_a_cit...</td>\n      <td>https://i.redd.it/09kuna4hzb9a1.jpg</td>\n      <td>1002cgj.jpg</td>\n      <td>data/image/1002cgj.jpg</td>\n      <td>CityDiffusion</td>\n      <td>True</td>\n      <td>True</td>\n      <td>True</td>\n      <td>[]</td>\n    </tr>\n    <tr>\n      <th>1002cx2</th>\n      <td>a woman taking a selfie</td>\n      <td>0.662057</td>\n      <td>1002cx2</td>\n      <td>1468.0</td>\n      <td>2608.0</td>\n      <td>SFWRedheads</td>\n      <td>Sayleywayley</td>\n      <td>Happy New Year to every single person near and...</td>\n      <td>blonde woman with red hair and black bra top p...</td>\n      <td>1fb785ca16b10f4f7613961f0b88f369</td>\n      <td>/r/SFWRedheads/comments/1002cx2/happy_new_year...</td>\n      <td>https://i.redd.it/el3s490lzb9a1.jpg</td>\n      <td>1002cx2.jpg</td>\n      <td>data/image/1002cx2.jpg</td>\n      <td>RedHeadDiffusion</td>\n      <td>True</td>\n      <td>True</td>\n      <td>True</td>\n      <td>[]</td>\n    </tr>\n    <tr>\n      <th>1003dod</th>\n      <td>a woman in a garment standing next to a tree</td>\n      <td>0.513081</td>\n      <td>1003dod</td>\n      <td>1523.0</td>\n      <td>2030.0</td>\n      <td>HotGirlNextDoor</td>\n      <td>fairytale808</td>\n      <td>pink and blonde (iktr)</td>\n      <td>blonde woman in pink bikinisuit standing on a ...</td>\n      <td>0849c7aafe126ad27b58cb6e6c9c6592</td>\n      <td>/r/HotGirlNextDoor/comments/1003dod/pink_and_b...</td>\n      <td>https://i.redd.it/x56eekrd8c9a1.jpg</td>\n      <td>1003dod.jpg</td>\n      <td>data/image/1003dod.jpg</td>\n      <td>SexyDiffusion</td>\n      <td>True</td>\n      <td>True</td>\n      <td>True</td>\n      <td>[]</td>\n    </tr>\n    <tr>\n      <th>10044wv</th>\n      <td>a train on a bridge over a body of water</td>\n      <td>0.38273</td>\n      <td>10044wv</td>\n      <td>4032.0</td>\n      <td>3024.0</td>\n      <td>CityPorn</td>\n      <td>dawginphilly</td>\n      <td>Wissahickon, Phila, PA</td>\n      <td>arafed view of a train on a bridge over a river</td>\n      <td>abb87d7618eec7cd6a86d7647263ea1b</td>\n      <td>/r/CityPorn/comments/10044wv/wissahickon_phila...</td>\n      <td>https://i.redd.it/4y6hzocyec9a1.jpg</td>\n      <td>10044wv.jpg</td>\n      <td>data/image/10044wv.jpg</td>\n      <td>CityDiffusion</td>\n      <td>True</td>\n      <td>True</td>\n      <td>True</td>\n      <td>[]</td>\n    </tr>\n    <tr>\n      <th>...</th>\n      <td>...</td>\n      <td>...</td>\n      <td>...</td>\n      <td>...</td>\n      <td>...</td>\n      <td>...</td>\n      <td>...</td>\n      <td>...</td>\n      <td>...</td>\n      <td>...</td>\n      <td>...</td>\n      <td>...</td>\n      <td>...</td>\n      <td>...</td>\n      <td>...</td>\n      <td>...</td>\n      <td>...</td>\n      <td>...</td>\n      <td>...</td>\n    </tr>\n    <tr>\n      <th>13m91m2</th>\n      <td></td>\n      <td></td>\n      <td>13m91m2</td>\n      <td></td>\n      <td></td>\n      <td>DLAH</td>\n      <td>qwertybird3141</td>\n      <td>College grad</td>\n      <td>arafed woman standing on steps with a red and ...</td>\n      <td>adcbd61b5e37c5e048cb6907eca21bfe</td>\n      <td>/r/DLAH/comments/13m91m2/college_grad/</td>\n      <td>https://i.redd.it/skv5m0jwiw0b1.jpg</td>\n      <td>13m91m2.jpg</td>\n      <td>data/image/13m91m2.jpg</td>\n      <td>PrettyGirlDiffusion</td>\n      <td>True</td>\n      <td>True</td>\n      <td>True</td>\n      <td>[]</td>\n    </tr>\n    <tr>\n      <th>13gwhao</th>\n      <td></td>\n      <td></td>\n      <td>13gwhao</td>\n      <td></td>\n      <td></td>\n      <td>bathandbodyworks</td>\n      <td>becki5926</td>\n      <td>💙Coupons Are Here❤️</td>\n      <td>a close up of a sign advertising bath and body...</td>\n      <td>d4ba98857b64b35ecec420a6b7e32f97</td>\n      <td>/r/bathandbodyworks/comments/13gwhao/coupons_a...</td>\n      <td>https://i.redd.it/pl5orr6d8qza1.jpg</td>\n      <td>13gwhao.jpg</td>\n      <td>data/image/13gwhao.jpg</td>\n      <td>CandleDiffusion</td>\n      <td>True</td>\n      <td>True</td>\n      <td>False</td>\n      <td>[]</td>\n    </tr>\n    <tr>\n      <th>13m6gm7</th>\n      <td></td>\n      <td></td>\n      <td>13m6gm7</td>\n      <td></td>\n      <td></td>\n      <td>bathandbodyworks</td>\n      <td>unicornkenz</td>\n      <td>Candle Sale</td>\n      <td>bath and body works coup coup</td>\n      <td>47a78b117b59b636fa22093ec4f29bd7</td>\n      <td>/r/bathandbodyworks/comments/13m6gm7/candle_sale/</td>\n      <td>https://i.redd.it/h321gmgf0w0b1.jpg</td>\n      <td>13m6gm7.jpg</td>\n      <td>data/image/13m6gm7.jpg</td>\n      <td>CandleDiffusion</td>\n      <td>True</td>\n      <td>True</td>\n      <td>True</td>\n      <td>[]</td>\n    </tr>\n    <tr>\n      <th>13m7rxh</th>\n      <td></td>\n      <td></td>\n      <td>13m7rxh</td>\n      <td></td>\n      <td></td>\n      <td>bathandbodyworks</td>\n      <td>baby-pink12</td>\n      <td>Obsessed is an understatement</td>\n      <td>there are two bottles of body lotion sitting o...</td>\n      <td>412ae5c6fabc3f1594ace642e20b7231</td>\n      <td>/r/bathandbodyworks/comments/13m7rxh/obsessed_...</td>\n      <td>https://i.redd.it/xv6tjhpp9w0b1.jpg</td>\n      <td>13m7rxh.jpg</td>\n      <td>data/image/13m7rxh.jpg</td>\n      <td>CandleDiffusion</td>\n      <td>True</td>\n      <td>True</td>\n      <td>True</td>\n      <td>[]</td>\n    </tr>\n    <tr>\n      <th>13m8ts7</th>\n      <td></td>\n      <td></td>\n      <td>13m8ts7</td>\n      <td></td>\n      <td></td>\n      <td>AesPleasingAsianGirls</td>\n      <td>throwaway83736365372</td>\n      <td>Habin</td>\n      <td>there is a woman taking a selfie in a living room</td>\n      <td>79571c0291260a5e0288a9878e5f7701</td>\n      <td>/r/AesPleasingAsianGirls/comments/13m8ts7/habin/</td>\n      <td>https://i.redd.it/03zp9mc6hw0b1.jpg</td>\n      <td>13m8ts7.jpg</td>\n      <td>data/image/13m8ts7.jpg</td>\n      <td>SexyAsianDiffusion</td>\n      <td>True</td>\n      <td>True</td>\n      <td>False</td>\n      <td>[]</td>\n    </tr>\n  </tbody>\n</table>\n<p>39255 rows × 19 columns</p>\n</div>"
     },
     "metadata": {},
     "output_type": "display_data"
    },
    {
     "name": "stdout",
     "output_type": "stream",
     "text": [
      "CPU times: total: 469 ms\n",
      "Wall time: 1.44 s\n"
     ]
    }
   ],
   "source": [
    "%%time\n",
    "\n",
    "merged_to_curate = pandas.merge(merge_singles, curated_df, on='id', how='outer').set_index(keys=['id'], drop=False)\n",
    "merged_to_curate.fillna(value='', inplace=True)\n",
    "display(merged_to_curate)"
   ],
   "metadata": {
    "collapsed": false
   }
  },
  {
   "cell_type": "code",
   "execution_count": 11,
   "outputs": [
    {
     "data": {
      "text/plain": "'0 new rows added to captions'"
     },
     "metadata": {},
     "output_type": "display_data"
    },
    {
     "data": {
      "text/plain": "                      dense_captions_text  dense_captions_confidence   \n0                     a pier in the ocean                   0.321105  \\\n1       a beach with a pier and buildings                   0.339972   \n2               a cloudy sky over a field                   0.312660   \n3                   a long shot of a pier                   0.524807   \n4           a beach with waves and a boat                   0.345760   \n...                                   ...                        ...   \n59097              a building with a roof                   0.248191   \n59098               a bridge over a cliff                   0.359007   \n59099       a white building with windows                   0.392007   \n59100  a white building with many windows                   0.446609   \n59101   a black tunnel with a wooden door                   0.197242   \n\n       dense_captions_boundingBox.x  dense_captions_boundingBox.y   \n0                                 0                             0  \\\n1                                 0                             0   \n2                                 0                             0   \n3                              1129                          1313   \n4                                 0                          1669   \n...                             ...                           ...   \n59097                           772                           658   \n59098                             0                           553   \n59099                             0                           460   \n59100                           925                           519   \n59101                           287                           654   \n\n       dense_captions_boundingBox.w  dense_captions_boundingBox.h       id  \n0                              4032                          3024  1002bsl  \n1                              3994                          2940  1002bsl  \n2                              3978                          1475  1002bsl  \n3                              2855                           412  1002bsl  \n4                              3986                          1282  1002bsl  \n...                             ...                           ...      ...  \n59097                           190                           174   zzy49v  \n59098                          1042                           754   zzy49v  \n59099                           112                           230   zzy49v  \n59100                           154                           791   zzy49v  \n59101                           104                            78   zzy49v  \n\n[59102 rows x 7 columns]",
      "text/html": "<div>\n<style scoped>\n    .dataframe tbody tr th:only-of-type {\n        vertical-align: middle;\n    }\n\n    .dataframe tbody tr th {\n        vertical-align: top;\n    }\n\n    .dataframe thead th {\n        text-align: right;\n    }\n</style>\n<table border=\"1\" class=\"dataframe\">\n  <thead>\n    <tr style=\"text-align: right;\">\n      <th></th>\n      <th>dense_captions_text</th>\n      <th>dense_captions_confidence</th>\n      <th>dense_captions_boundingBox.x</th>\n      <th>dense_captions_boundingBox.y</th>\n      <th>dense_captions_boundingBox.w</th>\n      <th>dense_captions_boundingBox.h</th>\n      <th>id</th>\n    </tr>\n  </thead>\n  <tbody>\n    <tr>\n      <th>0</th>\n      <td>a pier in the ocean</td>\n      <td>0.321105</td>\n      <td>0</td>\n      <td>0</td>\n      <td>4032</td>\n      <td>3024</td>\n      <td>1002bsl</td>\n    </tr>\n    <tr>\n      <th>1</th>\n      <td>a beach with a pier and buildings</td>\n      <td>0.339972</td>\n      <td>0</td>\n      <td>0</td>\n      <td>3994</td>\n      <td>2940</td>\n      <td>1002bsl</td>\n    </tr>\n    <tr>\n      <th>2</th>\n      <td>a cloudy sky over a field</td>\n      <td>0.312660</td>\n      <td>0</td>\n      <td>0</td>\n      <td>3978</td>\n      <td>1475</td>\n      <td>1002bsl</td>\n    </tr>\n    <tr>\n      <th>3</th>\n      <td>a long shot of a pier</td>\n      <td>0.524807</td>\n      <td>1129</td>\n      <td>1313</td>\n      <td>2855</td>\n      <td>412</td>\n      <td>1002bsl</td>\n    </tr>\n    <tr>\n      <th>4</th>\n      <td>a beach with waves and a boat</td>\n      <td>0.345760</td>\n      <td>0</td>\n      <td>1669</td>\n      <td>3986</td>\n      <td>1282</td>\n      <td>1002bsl</td>\n    </tr>\n    <tr>\n      <th>...</th>\n      <td>...</td>\n      <td>...</td>\n      <td>...</td>\n      <td>...</td>\n      <td>...</td>\n      <td>...</td>\n      <td>...</td>\n    </tr>\n    <tr>\n      <th>59097</th>\n      <td>a building with a roof</td>\n      <td>0.248191</td>\n      <td>772</td>\n      <td>658</td>\n      <td>190</td>\n      <td>174</td>\n      <td>zzy49v</td>\n    </tr>\n    <tr>\n      <th>59098</th>\n      <td>a bridge over a cliff</td>\n      <td>0.359007</td>\n      <td>0</td>\n      <td>553</td>\n      <td>1042</td>\n      <td>754</td>\n      <td>zzy49v</td>\n    </tr>\n    <tr>\n      <th>59099</th>\n      <td>a white building with windows</td>\n      <td>0.392007</td>\n      <td>0</td>\n      <td>460</td>\n      <td>112</td>\n      <td>230</td>\n      <td>zzy49v</td>\n    </tr>\n    <tr>\n      <th>59100</th>\n      <td>a white building with many windows</td>\n      <td>0.446609</td>\n      <td>925</td>\n      <td>519</td>\n      <td>154</td>\n      <td>791</td>\n      <td>zzy49v</td>\n    </tr>\n    <tr>\n      <th>59101</th>\n      <td>a black tunnel with a wooden door</td>\n      <td>0.197242</td>\n      <td>287</td>\n      <td>654</td>\n      <td>104</td>\n      <td>78</td>\n      <td>zzy49v</td>\n    </tr>\n  </tbody>\n</table>\n<p>59102 rows × 7 columns</p>\n</div>"
     },
     "metadata": {},
     "output_type": "display_data"
    },
    {
     "name": "stdout",
     "output_type": "stream",
     "text": [
      "CPU times: total: 1.06 s\n",
      "Wall time: 3.77 s\n"
     ]
    }
   ],
   "source": [
    "%%time\n",
    "\n",
    "merged_captions = pandas.concat([new_captions, captions])\n",
    "merged_captions.set_index(keys=['id', 'dense_captions_text', 'dense_captions_confidence'], inplace=True, drop=False)\n",
    "merged_captions.drop_duplicates(inplace=True)\n",
    "merged_captions.reset_index(drop=True, inplace=True)\n",
    "\n",
    "display(f'{merged_captions.shape[0] - captions.shape[0]} new rows added to captions')\n",
    "\n",
    "merged_captions.to_parquet('data/parquet/image_captions.parquet', filesystem=file_system, engine='pyarrow')\n",
    "# display(pandas.read_parquet('data/parquet/image_captions.parquet', filesystem=file_system, engine='pyarrow'))"
   ],
   "metadata": {
    "collapsed": false
   }
  },
  {
   "cell_type": "code",
   "execution_count": 12,
   "outputs": [
    {
     "data": {
      "text/plain": "'0 new rows added to tags'"
     },
     "metadata": {},
     "output_type": "display_data"
    },
    {
     "data": {
      "text/plain": "        tags_name  tags_confidence       id\n0         outdoor         0.997431  1002bsl\n1           cloud         0.995743  1002bsl\n2             sky         0.992414  1002bsl\n3           water         0.982002  1002bsl\n4           beach         0.943822  1002bsl\n...           ...              ...      ...\n121914   building         0.947034   zzy49v\n121915  waterfall         0.917590   zzy49v\n121916   mountain         0.871428   zzy49v\n121917     nature         0.845276   zzy49v\n121918     travel         0.559868   zzy49v\n\n[121919 rows x 3 columns]",
      "text/html": "<div>\n<style scoped>\n    .dataframe tbody tr th:only-of-type {\n        vertical-align: middle;\n    }\n\n    .dataframe tbody tr th {\n        vertical-align: top;\n    }\n\n    .dataframe thead th {\n        text-align: right;\n    }\n</style>\n<table border=\"1\" class=\"dataframe\">\n  <thead>\n    <tr style=\"text-align: right;\">\n      <th></th>\n      <th>tags_name</th>\n      <th>tags_confidence</th>\n      <th>id</th>\n    </tr>\n  </thead>\n  <tbody>\n    <tr>\n      <th>0</th>\n      <td>outdoor</td>\n      <td>0.997431</td>\n      <td>1002bsl</td>\n    </tr>\n    <tr>\n      <th>1</th>\n      <td>cloud</td>\n      <td>0.995743</td>\n      <td>1002bsl</td>\n    </tr>\n    <tr>\n      <th>2</th>\n      <td>sky</td>\n      <td>0.992414</td>\n      <td>1002bsl</td>\n    </tr>\n    <tr>\n      <th>3</th>\n      <td>water</td>\n      <td>0.982002</td>\n      <td>1002bsl</td>\n    </tr>\n    <tr>\n      <th>4</th>\n      <td>beach</td>\n      <td>0.943822</td>\n      <td>1002bsl</td>\n    </tr>\n    <tr>\n      <th>...</th>\n      <td>...</td>\n      <td>...</td>\n      <td>...</td>\n    </tr>\n    <tr>\n      <th>121914</th>\n      <td>building</td>\n      <td>0.947034</td>\n      <td>zzy49v</td>\n    </tr>\n    <tr>\n      <th>121915</th>\n      <td>waterfall</td>\n      <td>0.917590</td>\n      <td>zzy49v</td>\n    </tr>\n    <tr>\n      <th>121916</th>\n      <td>mountain</td>\n      <td>0.871428</td>\n      <td>zzy49v</td>\n    </tr>\n    <tr>\n      <th>121917</th>\n      <td>nature</td>\n      <td>0.845276</td>\n      <td>zzy49v</td>\n    </tr>\n    <tr>\n      <th>121918</th>\n      <td>travel</td>\n      <td>0.559868</td>\n      <td>zzy49v</td>\n    </tr>\n  </tbody>\n</table>\n<p>121919 rows × 3 columns</p>\n</div>"
     },
     "metadata": {},
     "output_type": "display_data"
    },
    {
     "name": "stdout",
     "output_type": "stream",
     "text": [
      "CPU times: total: 922 ms\n",
      "Wall time: 2.51 s\n"
     ]
    }
   ],
   "source": [
    "%%time\n",
    "\n",
    "merged_tags = pandas.concat([new_tags, tags])\n",
    "merged_tags.set_index(keys=['id', 'tags_name', 'tags_confidence'], inplace=True, drop=False)\n",
    "merged_tags.drop_duplicates(inplace=True)\n",
    "merged_tags.reset_index(drop=True, inplace=True)\n",
    "\n",
    "display(f'{merged_tags.shape[0] - tags.shape[0]} new rows added to tags')\n",
    "\n",
    "merged_tags.to_parquet('data/parquet/image_tags.parquet', filesystem=file_system, engine='pyarrow')\n",
    "# display(pandas.read_parquet('data/parquet/image_tags.parquet', filesystem=file_system, engine='pyarrow'))"
   ],
   "metadata": {
    "collapsed": false
   }
  },
  {
   "cell_type": "code",
   "execution_count": 13,
   "outputs": [
    {
     "data": {
      "text/plain": "'0 new rows added to crops'"
     },
     "metadata": {},
     "output_type": "display_data"
    },
    {
     "data": {
      "text/plain": "      smart_crop_aspectRatio  smart_crop_boundingBox.x   \n0                        1.0                       619  \\\n1                        1.0                       206   \n2                        1.0                         0   \n3                        1.0                       143   \n4                        1.0                       206   \n...                      ...                       ...   \n6609                     1.0                         0   \n6610                     1.0                        30   \n6611                     1.0                       135   \n6612                     1.0                       101   \n6613                     1.0                        25   \n\n      smart_crop_boundingBox.y  smart_crop_boundingBox.w   \n0                           71                      2737  \\\n1                            0                       797   \n2                          140                      1462   \n3                          138                      1249   \n4                            0                      3013   \n...                        ...                       ...   \n6609                         0                      2273   \n6610                        63                      1248   \n6611                         0                      1299   \n6612                       101                       970   \n6613                        50                      1000   \n\n      smart_crop_boundingBox.h       id  \n0                         2737  1002bsl  \n1                          797  1002cgj  \n2                         1462  1002cx2  \n3                         1250  1003dod  \n4                         3012  10044wv  \n...                        ...      ...  \n6609                      2273   zzu8i8  \n6610                      1248   zzv4hz  \n6611                      1299   zzvv3x  \n6612                       970   zzxq2l  \n6613                      1000   zzy49v  \n\n[6614 rows x 6 columns]",
      "text/html": "<div>\n<style scoped>\n    .dataframe tbody tr th:only-of-type {\n        vertical-align: middle;\n    }\n\n    .dataframe tbody tr th {\n        vertical-align: top;\n    }\n\n    .dataframe thead th {\n        text-align: right;\n    }\n</style>\n<table border=\"1\" class=\"dataframe\">\n  <thead>\n    <tr style=\"text-align: right;\">\n      <th></th>\n      <th>smart_crop_aspectRatio</th>\n      <th>smart_crop_boundingBox.x</th>\n      <th>smart_crop_boundingBox.y</th>\n      <th>smart_crop_boundingBox.w</th>\n      <th>smart_crop_boundingBox.h</th>\n      <th>id</th>\n    </tr>\n  </thead>\n  <tbody>\n    <tr>\n      <th>0</th>\n      <td>1.0</td>\n      <td>619</td>\n      <td>71</td>\n      <td>2737</td>\n      <td>2737</td>\n      <td>1002bsl</td>\n    </tr>\n    <tr>\n      <th>1</th>\n      <td>1.0</td>\n      <td>206</td>\n      <td>0</td>\n      <td>797</td>\n      <td>797</td>\n      <td>1002cgj</td>\n    </tr>\n    <tr>\n      <th>2</th>\n      <td>1.0</td>\n      <td>0</td>\n      <td>140</td>\n      <td>1462</td>\n      <td>1462</td>\n      <td>1002cx2</td>\n    </tr>\n    <tr>\n      <th>3</th>\n      <td>1.0</td>\n      <td>143</td>\n      <td>138</td>\n      <td>1249</td>\n      <td>1250</td>\n      <td>1003dod</td>\n    </tr>\n    <tr>\n      <th>4</th>\n      <td>1.0</td>\n      <td>206</td>\n      <td>0</td>\n      <td>3013</td>\n      <td>3012</td>\n      <td>10044wv</td>\n    </tr>\n    <tr>\n      <th>...</th>\n      <td>...</td>\n      <td>...</td>\n      <td>...</td>\n      <td>...</td>\n      <td>...</td>\n      <td>...</td>\n    </tr>\n    <tr>\n      <th>6609</th>\n      <td>1.0</td>\n      <td>0</td>\n      <td>0</td>\n      <td>2273</td>\n      <td>2273</td>\n      <td>zzu8i8</td>\n    </tr>\n    <tr>\n      <th>6610</th>\n      <td>1.0</td>\n      <td>30</td>\n      <td>63</td>\n      <td>1248</td>\n      <td>1248</td>\n      <td>zzv4hz</td>\n    </tr>\n    <tr>\n      <th>6611</th>\n      <td>1.0</td>\n      <td>135</td>\n      <td>0</td>\n      <td>1299</td>\n      <td>1299</td>\n      <td>zzvv3x</td>\n    </tr>\n    <tr>\n      <th>6612</th>\n      <td>1.0</td>\n      <td>101</td>\n      <td>101</td>\n      <td>970</td>\n      <td>970</td>\n      <td>zzxq2l</td>\n    </tr>\n    <tr>\n      <th>6613</th>\n      <td>1.0</td>\n      <td>25</td>\n      <td>50</td>\n      <td>1000</td>\n      <td>1000</td>\n      <td>zzy49v</td>\n    </tr>\n  </tbody>\n</table>\n<p>6614 rows × 6 columns</p>\n</div>"
     },
     "metadata": {},
     "output_type": "display_data"
    },
    {
     "name": "stdout",
     "output_type": "stream",
     "text": [
      "CPU times: total: 172 ms\n",
      "Wall time: 533 ms\n"
     ]
    }
   ],
   "source": [
    "%%time\n",
    "\n",
    "merged_crops = pandas.concat([new_crops, crops])\n",
    "merged_crops.set_index(keys=['id'], inplace=True, drop=False)\n",
    "merged_crops.drop_duplicates(inplace=True)\n",
    "merged_crops.reset_index(drop=True, inplace=True)\n",
    "\n",
    "display(f'{merged_crops.shape[0] - crops.shape[0]} new rows added to crops')\n",
    "\n",
    "merged_crops.to_parquet('data/parquet/image_cropping.parquet', filesystem=file_system, engine='pyarrow')\n",
    "\n",
    "display(pandas.read_parquet('data/parquet/image_cropping.parquet', filesystem=file_system, engine='pyarrow'))"
   ],
   "metadata": {
    "collapsed": false
   }
  },
  {
   "cell_type": "code",
   "execution_count": 14,
   "outputs": [],
   "source": [
    "import os\n",
    "\n",
    "def create_thumbnail(_image_id: str, _curated_df: pandas.DataFrame, _crops: pandas.DataFrame, _extant_file_names: list):\n",
    "\t_file_system: AzureBlobFileSystem = AzureFileStorageAdapter('data').get_file_storage()\n",
    "\ttry:\n",
    "\t\tif _image_id is None or _image_id in _extant_file_names:\n",
    "\t\t\tdisplay(f'Image {_image_id} already exists, skipping', clear=True)\n",
    "\t\t\treturn None\n",
    "\n",
    "\t\tcropping_information = _crops.loc[_crops['id'] == _image_id]\n",
    "\t\tif cropping_information is None or len(cropping_information) == 0:\n",
    "\t\t\tdisplay(f'No cropping information for {_image_id}, skipping', clear=True)\n",
    "\t\t\treturn None\n",
    "\n",
    "\t\trecord = _curated_df.loc[_curated_df['id'] == _image_id]\n",
    "\t\trecord_path = record.to_dict(orient='records')[0]['path']\n",
    "\t\timage_url = file_system.url(record_path)\n",
    "\t\toriginal_image = Image.open(requests.get(image_url, stream=True).raw)\n",
    "\t\tcopied_image = original_image.copy()\n",
    "\t\toriginal_image.close()\n",
    "\n",
    "\t\tcropped = copied_image.crop((cropping_information['smart_crop_boundingBox.x'].values[0],\n",
    "\t\t\t\t\t\t\t\t\t cropping_information['smart_crop_boundingBox.y'].values[0],\n",
    "\t\t\t\t\t\t\t\t\t cropping_information['smart_crop_boundingBox.x'].values[0] +\n",
    "\t\t\t\t\t\t\t\t\t cropping_information['smart_crop_boundingBox.w'].values[0],\n",
    "\t\t\t\t\t\t\t\t\t cropping_information['smart_crop_boundingBox.y'].values[0] +\n",
    "\t\t\t\t\t\t\t\t\t cropping_information['smart_crop_boundingBox.h'].values[0]))\n",
    "\t\tcopied_image.close()\n",
    "\n",
    "\t\tresized = cropped.resize((512, 512), 1)\n",
    "\t\tresized.save('temp.jpg')\n",
    "\t\tresized.close()\n",
    "\t\tfile_system.upload('temp.jpg', f'data/image/thumbnail/{_image_id}.jpg', overwrite=True)\n",
    "\t\tdisplay(f'Thumbnail created for {_image_id}', clear=True)\n",
    "\t\treturn None\n",
    "\n",
    "\texcept Exception as ex:\n",
    "\t\tdisplay(f'Error creating thumbnail for {_image_id}: {ex}', clear=True)\n",
    "\t\treturn None"
   ],
   "metadata": {
    "collapsed": false
   }
  },
  {
   "cell_type": "code",
   "execution_count": 15,
   "outputs": [
    {
     "data": {
      "text/plain": "['1002bsl',\n '1002cgj',\n '1002cx2',\n '1003dod',\n '10044wv',\n '1004bvl',\n '1005neb',\n '1007wlw',\n '1007zxc',\n '1008d22',\n '1008ddt',\n '1008fqh',\n '1008jy5',\n '1008zf0',\n '1009o0q',\n '100b2b1',\n '100c3hk',\n '100c6hd',\n '100cjga',\n '100dbjr',\n '100dcrd',\n '100ed6o',\n '100efeg',\n '100fzdq',\n '100gpoh',\n '100h3yk',\n '100hk8p',\n '100hpjy',\n '100ilud',\n '100j0e2',\n '100jl1b',\n '100km4t',\n '100knfl',\n '100lihz',\n '100lj2b',\n '100ls5q',\n '100ltto',\n '100m3g5',\n '100n1xj',\n '100nibu',\n '100nndx',\n '100p2f8',\n '100pjjw',\n '100q35t',\n '100q7x9',\n '100qaru',\n '100qk25',\n '100qpap',\n '100qx25',\n '100rfwd',\n '100rhce',\n '100riou',\n '100rsun',\n '100rynl',\n '100rzx6',\n '100s0s5',\n '100s2p8',\n '100sez9',\n '100shj4',\n '100sjzi',\n '100sk7s',\n '100sk85',\n '100tlqk',\n '100uex5',\n '100uo7z',\n '100urox',\n '100v058',\n '100vc0h',\n '100vvqp',\n '100w0ff',\n '100w2ga',\n '100whmx',\n '100x04y',\n '100xd94',\n '100xi10',\n '100xqd2',\n '100yocw',\n '100z682',\n '100zb62',\n '100zmxh',\n '100zrmf',\n '1010qb3',\n '1011gjo',\n '1011o34',\n '1011sdb',\n '1011ssi',\n '1011vfy',\n '1012bm7',\n '10133o2',\n '1013944',\n '1013bdt',\n '1013ent',\n '1013fn2',\n '1013fun',\n '1013tv6',\n '1019kyo',\n '101w7lh',\n '1027i9a',\n '102yo07',\n '1032j8y',\n '1035nya',\n '103h4hd',\n '103nm31',\n '103zqoc',\n '104it0i',\n '105499g',\n '1056jcc',\n '1057swb',\n '105a1jx',\n '105ch2u',\n '105cplp',\n '105dxeb',\n '105e84j',\n '105edp9',\n '105evhv',\n '105ip0f',\n '105jert',\n '105jhat',\n '105jz1h',\n '105lrts',\n '105mekt',\n '105n4l2',\n '105nu1d',\n '105nzbm',\n '105oifh',\n '105oihg',\n '105or4j',\n '105pwsd',\n '105qvgl',\n '105qwwu',\n '105rgcf',\n '105rl3w',\n '105rn3i',\n '105rpcj',\n '105spve',\n '105styc',\n '105suzg',\n '105tw6t',\n '105v03t',\n '105w0ew',\n '105w0ys',\n '105xfdg',\n '105xspg',\n '105ye67',\n '105yk44',\n '105ypdw',\n '105zktf',\n '1061i0g',\n '10623sj',\n '1062601',\n '1062y5e',\n '1065b4w',\n '106673i',\n '1067bcu',\n '1067vw4',\n '1068gp7',\n '1069pzt',\n '106aclq',\n '106b9hx',\n '106dg98',\n '106gs0d',\n '106gtln',\n '106h0yf',\n '106hchf',\n '106jiae',\n '106jjsm',\n '106jtvg',\n '106k8qn',\n '106kaj3',\n '106kdv6',\n '106kn4o',\n '106kn6p',\n '106l4xk',\n '106lsw4',\n '106mh03',\n '106mjg0',\n '106mvtp',\n '106n4uh',\n '106n7i4',\n '106nbzo',\n '106ngql',\n '106nrzb',\n '106o8r5',\n '106oc7l',\n '106ohb7',\n '106onu8',\n '106ory6',\n '106p92p',\n '106quap',\n '106qvha',\n '106r2bg',\n '106rqdv',\n '106sgxd',\n '106sl5r',\n '106tnk3',\n '106u3po',\n '106uipq',\n '106v0js',\n '106vdgd',\n '106vi7e',\n '106vz2i',\n '106w5ay',\n '106w5cs',\n '106wmsa',\n '106ws6q',\n '106x07c',\n '106x2nd',\n '106xkyj',\n '106y0o3',\n '106y7y4',\n '106yaf1',\n '106yblb',\n '106yh52',\n '106yih9',\n '106ysqo',\n '106yv2j',\n '106yxk3',\n '106z40r',\n '106z7d8',\n '1070kyz',\n '1070l31',\n '1070z0e',\n '1071ykc',\n '1072139',\n '1072f2z',\n '1072gmf',\n '1072vdp',\n '1073cqb',\n '10741ga',\n '10743on',\n '1074drw',\n '1074i55',\n '1074jhu',\n '10752u7',\n '107e8x3',\n '107gd1b',\n '107x4qv',\n '108e7ml',\n '1096qs1',\n '109kdld',\n '109m65e',\n '109n66u',\n '109pem3',\n '109qwxl',\n '109wqn0',\n '109x870',\n '10a3qnh',\n '10a5byx',\n '10a5w3r',\n '10a6m9y',\n '10a6nfl',\n '10a928m',\n '10a9xn9',\n '10aajfj',\n '10aatbu',\n '10ab2dk',\n '10adovy',\n '10ae6fb',\n '10agu6e',\n '10aijhh',\n '10aiy4a',\n '10aj0wi',\n '10akf0f',\n '10al2d6',\n '10alnrk',\n '10aoeuk',\n '10aol8b',\n '10ap6iv',\n '10aphfe',\n '10aqqre',\n '10asvok',\n '10aszm1',\n '10av8ke',\n '10avp16',\n '10awqs5',\n '10aws5v',\n '10ax8ka',\n '10axq8l',\n '10azo9q',\n '10b0b2y',\n '10b0g9f',\n '10b2acv',\n '10b39bc',\n '10b4pzf',\n '10b4r64',\n '10b5cdo',\n '10b5is6',\n '10b5z1v',\n '10b60tj',\n '10b6gs2',\n '10b7naa',\n '10b84pd',\n '10b8zlz',\n '10b943k',\n '10b9nlc',\n '10b9w0s',\n '10ba7rx',\n '10baiti',\n '10bay67',\n '10bbwk3',\n '10bcl3k',\n '10bdgab',\n '10bdmd2',\n '10bdtom',\n '10becy3',\n '10bewl6',\n '10bfi3j',\n '10bh215',\n '10bhteu',\n '10bhu08',\n '10bhuji',\n '10bijsi',\n '10biuvf',\n '10bjv5e',\n '10bkmd9',\n '10bl9au',\n '10blt7a',\n '10bn1mz',\n '10bo39g',\n '10bo5ud',\n '10bon2u',\n '10bpm50',\n '10br3kp',\n '10bs7sg',\n '10bsugo',\n '10btl3q',\n '10bu622',\n '10bvhjz',\n '10bvhsg',\n '10bvr8z',\n '10bvrjb',\n '10bwzsq',\n '10bxwzw',\n '10c22qg',\n '10c3ed4',\n '10c4fqp',\n '10c53yl',\n '10c6cg4',\n '10c6tbo',\n '10c6wso',\n '10c6yaq',\n '10c8gvb',\n '10c8m5t',\n '10c9o3g',\n '10c9xsb',\n '10ca68d',\n '10cae53',\n '10cah2w',\n '10cbqrr',\n '10cbrc2',\n '10ccok1',\n '10ccwz5',\n '10cd0vl',\n '10cd4vw',\n '10cdd0i',\n '10cddds',\n '10cdhlm',\n '10cdjtu',\n '10cdqm3',\n '10cdstl',\n '10cdu6u',\n '10ce3fu',\n '10ce95f',\n '10ceu3w',\n '10cf9l1',\n '10cgcsy',\n '10cgjt4',\n '10chi62',\n '10cipv3',\n '10cisvk',\n '10ciwmx',\n '10cj6pg',\n '10cja6t',\n '10cjmt8',\n '10cjp0v',\n '10cjysv',\n '10ckd75',\n '10ckdyy',\n '10ckfqi',\n '10cktv9',\n '10cl5us',\n '10cmcrq',\n '10cmmhr',\n '10cmvxz',\n '10cmzxk',\n '10cn738',\n '10cn884',\n '10cn9yb',\n '10cq0yh',\n '10cq37j',\n '10cqro6',\n '10cqsvb',\n '10csfsu',\n '10ctfzn',\n '10ctn6v',\n '10ctsy6',\n '10ctzem',\n '10cu6a5',\n '10cu8wx',\n '10cuhj3',\n '10cuu72',\n '10cv411',\n '10cveol',\n '10cvgoc',\n '10cvhh4',\n '10cvllw',\n '10cw0dl',\n '10cw2fj',\n '10cw9wa',\n '10cwaoo',\n '10cwrkd',\n '10cwyoo',\n '10cywc7',\n '10cz5gq',\n '10czity',\n '10czste',\n '10d0hgx',\n '10d0p2u',\n '10d0xqn',\n '10d1316',\n '10d1whh',\n '10d20x1',\n '10d2i69',\n '10d4del',\n '10d4nzr',\n '10d58yn',\n '10d5idr',\n '10d62f5',\n '10d7wv0',\n '10dc2hb',\n '10ddtik',\n '10dfepi',\n '10dgnk2',\n '10dlxb9',\n '10dngcz',\n '10dnn6z',\n '10dnxh9',\n '10dodmu',\n '10dohrw',\n '10domnt',\n '10dq2qc',\n '10dq77a',\n '10dqc6y',\n '10dtb9w',\n '10dufrx',\n '10dx2yp',\n '10dyaja',\n '10e11rd',\n '10e6h7o',\n '10ebiog',\n '10ecc4u',\n '10ectmb',\n '10edl3e',\n '10eetzx',\n '10ef5po',\n '10ef7xd',\n '10efpr8',\n '10eh2fq',\n '10eikvd',\n '10eiwsr',\n '10ejx28',\n '10el064',\n '10epxlm',\n '10er1e8',\n '10ern1j',\n '10eu2gz',\n '10euk69',\n '10evtwg',\n '10evudi',\n '10exo5o',\n '10f1ckk',\n '10f4vhk',\n '10f5pc5',\n '10f6g3n',\n '10f6qg6',\n '10f78ow',\n '10f9la0',\n '10g10t4',\n '10g5zo2',\n '10gh7lj',\n '10gliq7',\n '10gnc8s',\n '10gzlqt',\n '10hcdl6',\n '10hgca6',\n '10hla7j',\n '10hp7am',\n '10hpbzd',\n '10hpf1r',\n '10hqt0g',\n '10hqzt5',\n '10hrbgl',\n '10hrzl1',\n '10hs4pb',\n '10ht3qh',\n '10hu6sh',\n '10hulb4',\n '10hvaxk',\n '10hvd9s',\n '10hvecp',\n '10hvom3',\n '10hwjmr',\n '10hx7or',\n '10hxgp0',\n '10hxhog',\n '10hyj1w',\n '10hz34u',\n '10i05he',\n '10i16xw',\n '10i17ih',\n '10i1dpz',\n '10i1flv',\n '10i1ksf',\n '10i1qkq',\n '10i2j6z',\n '10i56sz',\n '10i5akb',\n '10i6set',\n '10i7fie',\n '10i7wh3',\n '10i7wvv',\n '10i8ff1',\n '10i8he7',\n '10i8jaw',\n '10i92gg',\n '10i94vl',\n '10i9av8',\n '10ia8bi',\n '10iacp8',\n '10iazgx',\n '10ibn44',\n '10icddm',\n '10icer8',\n '10id9dq',\n '10iddny',\n '10ie2ot',\n '10iedfx',\n '10if1d2',\n '10igj0y',\n '10ih7u4',\n '10ihs9q',\n '10ii5t0',\n '10iiy1o',\n '10iizpi',\n '10ijtlw',\n '10ijwdk',\n '10ik2q6',\n '10ik44i',\n '10ikc56',\n '10ikt7q',\n '10ikvey',\n '10ilb01',\n '10ilf3h',\n '10ilhry',\n '10ilp1d',\n '10ilvv4',\n '10im0pr',\n '10ime1r',\n '10imjti',\n '10imk93',\n '10imnni',\n '10imtb0',\n '10imu9o',\n '10in6bg',\n '10inaby',\n '10infyg',\n '10inne4',\n '10inp9f',\n '10inpj4',\n '10io2tc',\n '10iobke',\n '10ionq3',\n '10ioqbg',\n '10iotro',\n '10iptdt',\n '10iq05h',\n '10iq2q8',\n '10iq668',\n '10iql9d',\n '10iqmn0',\n '10ir92n',\n '10ircio',\n '10irj73',\n '10irncf',\n '10irqxw',\n '10itax3',\n '10itorf',\n '10itxyu',\n '10iugd8',\n '10iuh5l',\n '10iuhal',\n '10iuhd0',\n '10iv3yg',\n '10ivmsg',\n '10iw1f3',\n '10iwdz8',\n '10iweln',\n '10iwf7s',\n '10iwrvr',\n '10ixb9o',\n '10ixhkc',\n '10ixq3t',\n '10iy1w4',\n '10iy7a6',\n '10izmna',\n '10j2cz2',\n '10j2iqc',\n '10j2skz',\n '10j3a44',\n '10j3kam',\n '10j3xjd',\n '10j4mcb',\n '10j7c1n',\n '10j7cxv',\n '10j9gl8',\n '10j9lfm',\n '10ja7v8',\n '10jahhs',\n '10jako6',\n '10jcayv',\n '10jcbit',\n '10jcktu',\n '10jczsn',\n '10jd87g',\n '10jdodd',\n '10jefuk',\n '10jfcdt',\n '10jfn53',\n '10jgamy',\n '10jgg8o',\n '10jgkn7',\n '10jgo6e',\n '10jh2x6',\n '10jhaie',\n '10jhc3v',\n '10jjau6',\n '10jjs30',\n '10jlzvx',\n '10jmv9s',\n '10jqdmw',\n '10jry1e',\n '10jtrbs',\n '10jtuth',\n '10ju2sb',\n '10jupye',\n '10jvfeb',\n '10jwpsa',\n '10k0y5s',\n '10k21lk',\n '10k21ra',\n '10k2r71',\n '10k3syp',\n '10k4nbm',\n '10k4z68',\n '10k6bwz',\n '10k71vq',\n '10k8f2f',\n '10k8hua',\n '10k8niw',\n '10k9esl',\n '10k9gpc',\n '10k9rzz',\n '10kaysx',\n '10kby8l',\n '10kchjd',\n '10kddg0',\n '10kddmn',\n '10khkal',\n '10ki6fv',\n '10ki77b',\n '10ki7f3',\n '10kiq8t',\n '10klvrv',\n '10kn9ll',\n '10kpa8k',\n '10kq0i1',\n '10kqhe6',\n '10kre85',\n '10krgz2',\n '10ksnmv',\n '10ktnzx',\n '10ktp57',\n '10ku4q0',\n '10kva4j',\n '10kvs57',\n '10kwopc',\n '10kxkzq',\n '10kyt24',\n '10kzuai',\n '10l15sd',\n '10l1r9d',\n '10l29be',\n '10l6hsi',\n '10lcbw6',\n '10lcod6',\n '10lhpa1',\n '10lnhk6',\n '10mabxc',\n '10mchxd',\n '10mivn6',\n '10mlt78',\n '10mykzv',\n '10n0yd6',\n '10n2ll6',\n '10n5bdh',\n '10n5ddh',\n '10n5rvt',\n '10n81p3',\n '10n9ryr',\n '10ncr9c',\n '10nd1ya',\n '10ndlfe',\n '10nj7q0',\n '10nj88b',\n '10nj9de',\n '10nkkw9',\n '10nkqvs',\n '10nkysm',\n '10nkzj6',\n '10nl7jj',\n '10nl8ee',\n '10nl939',\n '10nlueq',\n '10nms0d',\n '10nmw96',\n '10nnrvp',\n '10npwer',\n '10nqgh5',\n '10nrk51',\n '10nrw9f',\n '10nsjoz',\n '10ntnsy',\n '10ntse2',\n '10nupt1',\n '10nvvu6',\n '10nvzha',\n '10nwttl',\n '10nx2ds',\n '10nxbvw',\n '10nxqqw',\n '10nxxr1',\n '10ny5ui',\n '10nyadr',\n '10nyhzh',\n '10nyihc',\n '10o1rxn',\n '10o375v',\n '10o3e8u',\n '10o3mvf',\n '10o4lxl',\n '10o4uaj',\n '10o5k00',\n '10o68u5',\n '10o6kba',\n '10o6tsf',\n '10o7okq',\n '10o7yt5',\n '10o8ffc',\n '10o8nct',\n '10o96va',\n '10o9qxo',\n '10o9s5t',\n '10oa2yw',\n '10oadzh',\n '10oafno',\n '10oaj20',\n '10oao9i',\n '10obbic',\n '10obnla',\n '10obqxp',\n '10ocmvq',\n '10ocoyt',\n '10od14s',\n '10odumt',\n '10oe267',\n '10ofdtz',\n '10og3ql',\n '10og5iq',\n '10oh328',\n '10ohgzv',\n '10ohwh0',\n '10oi3qh',\n '10oihq6',\n '10ois8w',\n '10oiuj1',\n '10ojb96',\n '10ojrkj',\n '10ojuxd',\n '10ok4a1',\n '10ok9gc',\n '10okw6e',\n '10oll6p',\n '10olpo9',\n '10olva7',\n '10om9nb',\n '10omzr5',\n '10ona26',\n '10onap4',\n '10onm8i',\n '10ono1b',\n '10onpp8',\n '10onw06',\n '10oo8uo',\n '10orttw',\n '10osj53',\n '10osnnk',\n '10ox2sw',\n '10oxys3',\n '10p00s4',\n '10p5bwc',\n '10p5q8x',\n '10p7bg2',\n '10p8xr5',\n '10pafoh',\n '10pakis',\n '10pauub',\n '10pgidz',\n '10ph2c7',\n '10ph3bf',\n '10pitn3',\n '10pja8r',\n '10pl8zt',\n '10plwc4',\n '10plwl9',\n '10pnzjw',\n '10pq54f',\n '10pqbak',\n '10prpft',\n '10prtpi',\n '10puyip',\n '10pw7gd',\n '10pxktw',\n '10pyzkg',\n '10pzy0e',\n '10q00n7',\n '10q05h8',\n '10q17m7',\n '10q1h1h',\n '10q1rs5',\n '10q1t59',\n '10q3t2k',\n '10q46tx',\n '10q4emp',\n '10q4l4v',\n '10q6wg2',\n '10q8gj9',\n '10q8ll1',\n '10q97um',\n '10q9p4i',\n '10q9zu7',\n '10qddse',\n '10qdfml',\n '10qf0mh',\n '10qgffa',\n '10qgjs3',\n '10qh93p',\n '10qi21c',\n '10qizmn',\n '10qn8yw',\n '10qolo2',\n '10quo8y',\n '10qvgpa',\n '10qxf80',\n '10qxlog',\n '10qzmlv',\n '10qzy9h',\n '10r0eui',\n '10r0h24',\n '10r1bkw',\n '10r22c0',\n '10r7ilq',\n '10r7yu9',\n '10raeyt',\n '10rakk4',\n '10re9a7',\n '10rg8gx',\n '10rif2u',\n '10rifh0',\n '10riyae',\n '10rj8ec',\n '10rk0vc',\n '10rkfx1',\n '10rkgd8',\n '10rksx4',\n '10rm3ty',\n '10rmhzh',\n '10rq8rs',\n '10rqdww',\n '10rrt8z',\n '10rslq1',\n '10rsukf',\n '10rthjl',\n '10rw9mw',\n '10ry7yi',\n '10rydug',\n '10rznh2',\n '10s1rbk',\n '10s2fup',\n '10s3abe',\n '10s555q',\n '10s6rez',\n '10s7uyu',\n '10s97lu',\n '10sd96y',\n '10sdaey',\n '10sejco',\n '10sfdsd',\n '10sffah',\n '10sft3p',\n '10sid0x',\n '10sk8qk',\n '10skt1a',\n '10skze2',\n '10slji7',\n '10slzai',\n '10sm2ml',\n '10snl8r',\n '10sph5v',\n '10sqmhu',\n '10sr5jj',\n '10st4cr',\n '10stiwe',\n '10sunem',\n '10sx708',\n '10sybk7',\n '10syfly',\n '10sza28',\n '10szbvb',\n '10t11nz',\n '10t2zbd',\n '10t3w5t',\n '10t57h5',\n '10t5fuy',\n '10t5vkv',\n '10t6hz4',\n '10t7ggh',\n '10tas5l',\n '10tcabb',\n '10te4ym',\n '10tew6u',\n '10tg0z4',\n '10tgu2o',\n '10tham8',\n '10tl51s',\n '10tn5f8',\n '10tnt82',\n '10to5hf',\n '10tpr63',\n '10tq0v8',\n '10tq8va',\n '10tr91a',\n '10trm0p',\n '10trqma',\n '10trqvv',\n '10tuihu',\n '10tuoxc',\n '10twa18',\n '10txb5c',\n '10u64lu',\n '10u7tqv',\n '10u8sqp',\n '10uagfg',\n '10ualq7',\n '10ub6b3',\n '10ubg24',\n '10ucfbb',\n '10ucrbz',\n '10ud6bw',\n '10udiid',\n '10udnmz',\n '10ueku5',\n '10ufbtp',\n '10ufn57',\n '10ugi8i',\n '10ugsz7',\n '10uh7oc',\n '10uhigt',\n '10uhlso',\n '10uhocd',\n '10uii04',\n '10uijq3',\n '10uiwvn',\n '10uj8u2',\n '10uja3z',\n '10ujeu5',\n '10ujh2h',\n '10ujlal',\n '10ujxo5',\n '10ukbdf',\n '10ukieg',\n '10ulu39',\n '10ulvca',\n '10um88s',\n '10umlbf',\n '10umyjg',\n '10uoi1r',\n '10upfbi',\n '10upklw',\n '10uplpt',\n '10upywm',\n ...]"
     },
     "metadata": {},
     "output_type": "display_data"
    },
    {
     "name": "stdout",
     "output_type": "stream",
     "text": [
      "CPU times: total: 10.5 s\n",
      "Wall time: 19.1 s\n"
     ]
    }
   ],
   "source": [
    "%%time\n",
    "\n",
    "extant = [os.path.basename(item.replace('\\n', '').split('.')[0]) for item in file_system.ls('data/image/thumbnail')]\n",
    "display(len(extant), clear=True)"
   ],
   "metadata": {
    "collapsed": false
   }
  },
  {
   "cell_type": "code",
   "execution_count": 16,
   "outputs": [
    {
     "name": "stderr",
     "output_type": "stream",
     "text": [
      "Creating thumbnails: 0it [00:00, ?it/s]"
     ]
    },
    {
     "name": "stdout",
     "output_type": "stream",
     "text": [
      "CPU times: total: 31.2 ms\n",
      "Wall time: 64 ms\n"
     ]
    },
    {
     "name": "stderr",
     "output_type": "stream",
     "text": [
      "\n"
     ]
    }
   ],
   "source": [
    "%%time\n",
    "\n",
    "foo = curated_df.loc[curated_df['accept'] == True]\n",
    "foo = foo.loc[foo['id'].isin(crops.id.unique())]\n",
    "foo = foo.loc[~foo['id'].isin(extant)]\n",
    "foo.dropna(inplace=True)\n",
    "foo.reset_index(inplace=True, drop=True)\n",
    "\n",
    "# display(foo)\n",
    "# display(crops)\n",
    "id_records = foo.id.values.tolist()\n",
    "# display(len(id_records))\n",
    "for item in tqdm(id_records, total=len(id_records), desc='Creating thumbnails'):\n",
    "\tcreate_thumbnail(item, curated_df, crops, extant)\n",
    "\n",
    "all_images = file_system.ls('data/image/thumbnail')\n",
    "old_images = extant['id'].values.tolist()\n",
    "new_images = [item for item in all_images if item not in old_images]\n",
    "display(new_images)\n",
    "display(len(new_images))"
   ],
   "metadata": {
    "collapsed": false
   }
  },
  {
   "cell_type": "code",
   "execution_count": 17,
   "outputs": [
    {
     "name": "stdout",
     "output_type": "stream",
     "text": [
      "^C\n"
     ]
    },
    {
     "name": "stderr",
     "output_type": "stream",
     "text": [
      "Error processing line 1 of D:\\code\\repos\\simple-collection\\venv\\lib\\site-packages\\vision-1.0.0-py3.9-nspkg.pth:\n",
      "\n",
      "  Traceback (most recent call last):\n",
      "    File \"C:\\Users\\AJ Stangl\\AppData\\Local\\Programs\\Python\\Python39\\lib\\site.py\", line 169, in addpackage\n",
      "      exec(line)\n",
      "    File \"<string>\", line 1, in <module>\n",
      "    File \"<frozen importlib._bootstrap>\", line 562, in module_from_spec\n",
      "  AttributeError: 'NoneType' object has no attribute 'loader'\n",
      "\n",
      "Remainder of file ignored\n",
      "Error processing line 1 of D:\\code\\repos\\simple-collection\\venv\\lib\\site-packages\\vision-1.0.0-py3.9-nspkg.pth:\n",
      "\n",
      "  Traceback (most recent call last):\n",
      "    File \"C:\\Users\\AJ Stangl\\AppData\\Local\\Programs\\Python\\Python39\\lib\\site.py\", line 169, in addpackage\n",
      "      exec(line)\n",
      "    File \"<string>\", line 1, in <module>\n",
      "    File \"<frozen importlib._bootstrap>\", line 562, in module_from_spec\n",
      "  AttributeError: 'NoneType' object has no attribute 'loader'\n",
      "\n",
      "Remainder of file ignored\n",
      "Error processing line 1 of D:\\code\\repos\\simple-collection\\venv\\lib\\site-packages\\vision-1.0.0-py3.9-nspkg.pth:\n",
      "\n",
      "  Traceback (most recent call last):\n",
      "    File \"C:\\Users\\AJ Stangl\\AppData\\Local\\Programs\\Python\\Python39\\lib\\site.py\", line 169, in addpackage\n",
      "      exec(line)\n",
      "    File \"<string>\", line 1, in <module>\n",
      "    File \"<frozen importlib._bootstrap>\", line 562, in module_from_spec\n",
      "  AttributeError: 'NoneType' object has no attribute 'loader'\n",
      "\n",
      "Remainder of file ignored\n",
      "Error processing line 1 of D:\\code\\repos\\simple-collection\\venv\\lib\\site-packages\\vision-1.0.0-py3.9-nspkg.pth:\n",
      "\n",
      "  Traceback (most recent call last):\n",
      "    File \"C:\\Users\\AJ Stangl\\AppData\\Local\\Programs\\Python\\Python39\\lib\\site.py\", line 169, in addpackage\n",
      "      exec(line)\n",
      "    File \"<string>\", line 1, in <module>\n",
      "    File \"<frozen importlib._bootstrap>\", line 562, in module_from_spec\n",
      "  AttributeError: 'NoneType' object has no attribute 'loader'\n",
      "\n",
      "Remainder of file ignored\n"
     ]
    }
   ],
   "source": [
    "!jupyter notebook stop"
   ],
   "metadata": {
    "collapsed": false
   }
  }
 ],
 "metadata": {
  "kernelspec": {
   "display_name": "Python 3",
   "language": "python",
   "name": "python3"
  },
  "language_info": {
   "codemirror_mode": {
    "name": "ipython",
    "version": 2
   },
   "file_extension": ".py",
   "mimetype": "text/x-python",
   "name": "python",
   "nbconvert_exporter": "python",
   "pygments_lexer": "ipython2",
   "version": "2.7.6"
  }
 },
 "nbformat": 4,
 "nbformat_minor": 0
}
