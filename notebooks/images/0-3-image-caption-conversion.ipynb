{
 "cells": [
  {
   "cell_type": "code",
   "execution_count": null,
   "metadata": {
    "collapsed": true
   },
   "outputs": [],
   "source": [
    "%%time\n",
    "\n",
    "from adlfs import AzureBlobFileSystem\n",
    "\n",
    "import time\n",
    "\n",
    "import json\n",
    "import pandas\n",
    "import pandas as pd\n",
    "from tqdm import tqdm\n",
    "\n",
    "from common.schemas.pyarrow_schema import tagging_schema\n",
    "from common.storage.azure_file_storage import AzureFileStorageAdapter\n",
    "from common.captioning.azure_descriptions import AzureCaption\n",
    "from common.schemas.pyarrow_schema import schema\n",
    "\n",
    "tqdm.pandas(desc=\"Progress\")\n",
    "file_system: AzureBlobFileSystem = AzureFileStorageAdapter('data').get_file_storage()\n",
    "\n",
    "from common.data_frame_functions.functions import Functions\n",
    "\n",
    "functions: Functions = Functions()\n",
    "\n",
    "caption: AzureCaption = AzureCaption(file_system)"
   ]
  },
  {
   "cell_type": "code",
   "execution_count": null,
   "outputs": [],
   "source": [
    "%%time\n",
    "\n",
    "captions = pd.read_parquet('data/parquet/image_captions.parquet', filesystem=file_system, engine='pyarrow')\n",
    "tags = pd.read_parquet('data/parquet/image_tags.parquet', filesystem=file_system, engine='pyarrow')\n",
    "crops = pd.read_parquet('data/parquet/image_cropping.parquet', filesystem=file_system, engine='pyarrow')\n",
    "\n",
    "display(captions.shape)\n",
    "display(tags.shape)\n",
    "display(crops.shape)"
   ],
   "metadata": {
    "collapsed": false
   }
  },
  {
   "cell_type": "code",
   "execution_count": null,
   "outputs": [],
   "source": [
    "%%time\n",
    "\n",
    "current_captions = file_system.ls(\"data/caption\")\n",
    "display(len(current_captions))"
   ],
   "metadata": {
    "collapsed": false
   }
  },
  {
   "cell_type": "code",
   "execution_count": null,
   "outputs": [],
   "source": [
    "%%time\n",
    "\n",
    "all_data = []\n",
    "for caption_file in tqdm(current_captions, total=len(current_captions), desc='Reading caption files'):\n",
    "\tcaption_data = json.loads(file_system.read_text(caption_file, encoding='utf-8'))\n",
    "\tdense_caption_result = caption_data.get('denseCaptionsResult')\n",
    "\tmetadata = caption_data.get('metadata')\n",
    "\ttags_result = caption_data.get('tagsResult')\n",
    "\tsmart_crop_result = caption_data.get('smartCropsResult')\n",
    "\timage_id = caption_file.split('/')[-1].split('.')[0]\n",
    "\tfiltered_data = {\n",
    "\t\t\"id\": image_id,\n",
    "\t\t\"dense_captions\": dense_caption_result['values'],\n",
    "\t\t\"tags\": tags_result['values'],\n",
    "\t\t\"smart_crop\": smart_crop_result['values']\n",
    "\t}\n",
    "\tall_data.append(filtered_data)"
   ],
   "metadata": {
    "collapsed": false
   }
  },
  {
   "cell_type": "code",
   "execution_count": null,
   "outputs": [],
   "source": [
    "%%time\n",
    "\n",
    "new_captions = pandas.json_normalize(data=all_data, record_path=['dense_captions'], meta=['id'], record_prefix='dense_captions_')\n",
    "new_tags = pandas.json_normalize(data=all_data, record_path=['tags'], meta=['id'], record_prefix='tags_')\n",
    "new_crops = pandas.json_normalize(data=all_data, record_path=['smart_crop'], meta=['id'], record_prefix='smart_crop_')"
   ],
   "metadata": {
    "collapsed": false
   }
  },
  {
   "cell_type": "code",
   "execution_count": null,
   "outputs": [],
   "source": [
    "%%time\n",
    "\n",
    "merged_captions = pandas.concat([new_captions, captions])\n",
    "merged_captions.set_index(keys=['id', 'dense_captions_text', 'dense_captions_confidence'], inplace=True, drop=False)\n",
    "merged_captions.drop_duplicates(inplace=True)\n",
    "merged_captions.reset_index(drop=True, inplace=True)\n",
    "\n",
    "display(f'{merged_captions.shape[0] - captions.shape[0]} new rows added to captions')\n",
    "\n",
    "merged_captions.to_parquet('data/parquet/image_captions.parquet', filesystem=file_system, engine='pyarrow')\n",
    "display(pandas.read_parquet('data/parquet/image_captions.parquet', filesystem=file_system, engine='pyarrow'))"
   ],
   "metadata": {
    "collapsed": false
   }
  },
  {
   "cell_type": "code",
   "execution_count": null,
   "outputs": [],
   "source": [
    "%%time\n",
    "\n",
    "merged_tags = pandas.concat([new_tags, tags])\n",
    "merged_tags.set_index(keys=['id', 'tags_name', 'tags_confidence'], inplace=True, drop=False)\n",
    "merged_tags.drop_duplicates(inplace=True)\n",
    "merged_tags.reset_index(drop=True, inplace=True)\n",
    "\n",
    "display(f'{merged_tags.shape[0] - tags.shape[0]} new rows added to tags')\n",
    "\n",
    "merged_tags.to_parquet('data/parquet/image_tags.parquet', filesystem=file_system, engine='pyarrow')\n",
    "display(pandas.read_parquet('data/parquet/image_tags.parquet', filesystem=file_system, engine='pyarrow'))"
   ],
   "metadata": {
    "collapsed": false
   }
  },
  {
   "cell_type": "code",
   "execution_count": null,
   "outputs": [],
   "source": [
    "%%time\n",
    "\n",
    "merged_crops = pandas.concat([new_crops, crops])\n",
    "merged_crops.set_index(keys=['id'], inplace=True, drop=False)\n",
    "merged_crops.drop_duplicates(inplace=True)\n",
    "merged_crops.reset_index(drop=True, inplace=True)\n",
    "\n",
    "display(f'{merged_crops.shape[0] - crops.shape[0]} new rows added to crops')\n",
    "\n",
    "merged_crops.to_parquet('data/parquet/image_cropping.parquet', filesystem=file_system, engine='pyarrow')\n",
    "display(pandas.read_parquet('data/parquet/image_cropping.parquet', filesystem=file_system, engine='pyarrow'))"
   ],
   "metadata": {
    "collapsed": false
   }
  }
 ],
 "metadata": {
  "kernelspec": {
   "display_name": "Python 3",
   "language": "python",
   "name": "python3"
  },
  "language_info": {
   "codemirror_mode": {
    "name": "ipython",
    "version": 2
   },
   "file_extension": ".py",
   "mimetype": "text/x-python",
   "name": "python",
   "nbconvert_exporter": "python",
   "pygments_lexer": "ipython2",
   "version": "2.7.6"
  }
 },
 "nbformat": 4,
 "nbformat_minor": 0
}
