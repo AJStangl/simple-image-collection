{
 "cells": [
  {
   "cell_type": "code",
   "execution_count": null,
   "metadata": {
    "collapsed": true,
    "ExecuteTime": {
     "start_time": "2023-04-03T18:03:27.889591Z",
     "end_time": "2023-04-03T18:03:36.264589Z"
    },
    "pycharm": {
     "is_executing": true
    }
   },
   "outputs": [
    {
     "ename": "KeyboardInterrupt",
     "evalue": "",
     "output_type": "error",
     "traceback": [
      "\u001B[1;31m---------------------------------------------------------------------------\u001B[0m",
      "\u001B[1;31mKeyboardInterrupt\u001B[0m                         Traceback (most recent call last)",
      "File \u001B[1;32m~\\AppData\\Local\\Temp\\ipykernel_13568\\3206879405.py:4\u001B[0m\n\u001B[0;32m      2\u001B[0m \u001B[38;5;28;01mfrom\u001B[39;00m \u001B[38;5;21;01mio\u001B[39;00m \u001B[38;5;28;01mimport\u001B[39;00m BytesIO\n\u001B[0;32m      3\u001B[0m \u001B[38;5;28;01mimport\u001B[39;00m \u001B[38;5;21;01mos\u001B[39;00m\u001B[38;5;21;01m.\u001B[39;00m\u001B[38;5;21;01mpath\u001B[39;00m\n\u001B[1;32m----> 4\u001B[0m \u001B[38;5;28;01mimport\u001B[39;00m \u001B[38;5;21;01mdask\u001B[39;00m\u001B[38;5;21;01m.\u001B[39;00m\u001B[38;5;21;01mdataframe\u001B[39;00m \u001B[38;5;28;01mas\u001B[39;00m \u001B[38;5;21;01mdd\u001B[39;00m\n\u001B[0;32m      5\u001B[0m \u001B[38;5;28;01mimport\u001B[39;00m \u001B[38;5;21;01mpandas\u001B[39;00m \u001B[38;5;28;01mas\u001B[39;00m \u001B[38;5;21;01mpd\u001B[39;00m\n\u001B[0;32m      6\u001B[0m \u001B[38;5;28;01mimport\u001B[39;00m \u001B[38;5;21;01mpraw\u001B[39;00m\n",
      "File \u001B[1;32mD:\\workspaces\\General\\venv\\lib\\site-packages\\dask\\dataframe\\__init__.py:2\u001B[0m\n\u001B[0;32m      1\u001B[0m \u001B[38;5;28;01mtry\u001B[39;00m:\n\u001B[1;32m----> 2\u001B[0m     \u001B[38;5;28;01mimport\u001B[39;00m \u001B[38;5;21;01mdask\u001B[39;00m\u001B[38;5;21;01m.\u001B[39;00m\u001B[38;5;21;01mdataframe\u001B[39;00m\u001B[38;5;21;01m.\u001B[39;00m\u001B[38;5;21;01m_pyarrow_compat\u001B[39;00m\n\u001B[0;32m      3\u001B[0m     \u001B[38;5;28;01mfrom\u001B[39;00m \u001B[38;5;21;01mdask\u001B[39;00m\u001B[38;5;21;01m.\u001B[39;00m\u001B[38;5;21;01mbase\u001B[39;00m \u001B[38;5;28;01mimport\u001B[39;00m compute\n\u001B[0;32m      4\u001B[0m     \u001B[38;5;28;01mfrom\u001B[39;00m \u001B[38;5;21;01mdask\u001B[39;00m\u001B[38;5;21;01m.\u001B[39;00m\u001B[38;5;21;01mdataframe\u001B[39;00m \u001B[38;5;28;01mimport\u001B[39;00m backends, dispatch, rolling\n",
      "File \u001B[1;32mD:\\workspaces\\General\\venv\\lib\\site-packages\\dask\\dataframe\\_pyarrow_compat.py:3\u001B[0m\n\u001B[0;32m      1\u001B[0m \u001B[38;5;28;01mimport\u001B[39;00m \u001B[38;5;21;01mcopyreg\u001B[39;00m\n\u001B[1;32m----> 3\u001B[0m \u001B[38;5;28;01mimport\u001B[39;00m \u001B[38;5;21;01mpandas\u001B[39;00m \u001B[38;5;28;01mas\u001B[39;00m \u001B[38;5;21;01mpd\u001B[39;00m\n\u001B[0;32m      5\u001B[0m \u001B[38;5;28;01mtry\u001B[39;00m:\n\u001B[0;32m      6\u001B[0m     \u001B[38;5;28;01mimport\u001B[39;00m \u001B[38;5;21;01mpyarrow\u001B[39;00m \u001B[38;5;28;01mas\u001B[39;00m \u001B[38;5;21;01mpa\u001B[39;00m\n",
      "File \u001B[1;32mD:\\workspaces\\General\\venv\\lib\\site-packages\\pandas\\__init__.py:22\u001B[0m\n\u001B[0;32m     19\u001B[0m \u001B[38;5;28;01mdel\u001B[39;00m _hard_dependencies, _dependency, _missing_dependencies\n\u001B[0;32m     21\u001B[0m \u001B[38;5;66;03m# numpy compat\u001B[39;00m\n\u001B[1;32m---> 22\u001B[0m \u001B[38;5;28;01mfrom\u001B[39;00m \u001B[38;5;21;01mpandas\u001B[39;00m\u001B[38;5;21;01m.\u001B[39;00m\u001B[38;5;21;01mcompat\u001B[39;00m \u001B[38;5;28;01mimport\u001B[39;00m is_numpy_dev \u001B[38;5;28;01mas\u001B[39;00m _is_numpy_dev  \u001B[38;5;66;03m# pyright: ignore # noqa:F401\u001B[39;00m\n\u001B[0;32m     24\u001B[0m \u001B[38;5;28;01mtry\u001B[39;00m:\n\u001B[0;32m     25\u001B[0m     \u001B[38;5;28;01mfrom\u001B[39;00m \u001B[38;5;21;01mpandas\u001B[39;00m\u001B[38;5;21;01m.\u001B[39;00m\u001B[38;5;21;01m_libs\u001B[39;00m \u001B[38;5;28;01mimport\u001B[39;00m hashtable \u001B[38;5;28;01mas\u001B[39;00m _hashtable, lib \u001B[38;5;28;01mas\u001B[39;00m _lib, tslib \u001B[38;5;28;01mas\u001B[39;00m _tslib\n",
      "File \u001B[1;32mD:\\workspaces\\General\\venv\\lib\\site-packages\\pandas\\compat\\__init__.py:22\u001B[0m\n\u001B[0;32m     17\u001B[0m \u001B[38;5;28;01mfrom\u001B[39;00m \u001B[38;5;21;01mpandas\u001B[39;00m\u001B[38;5;21;01m.\u001B[39;00m\u001B[38;5;21;01m_typing\u001B[39;00m \u001B[38;5;28;01mimport\u001B[39;00m F\n\u001B[0;32m     18\u001B[0m \u001B[38;5;28;01mfrom\u001B[39;00m \u001B[38;5;21;01mpandas\u001B[39;00m\u001B[38;5;21;01m.\u001B[39;00m\u001B[38;5;21;01mcompat\u001B[39;00m\u001B[38;5;21;01m.\u001B[39;00m\u001B[38;5;21;01mnumpy\u001B[39;00m \u001B[38;5;28;01mimport\u001B[39;00m (\n\u001B[0;32m     19\u001B[0m     is_numpy_dev,\n\u001B[0;32m     20\u001B[0m     np_version_under1p21,\n\u001B[0;32m     21\u001B[0m )\n\u001B[1;32m---> 22\u001B[0m \u001B[38;5;28;01mfrom\u001B[39;00m \u001B[38;5;21;01mpandas\u001B[39;00m\u001B[38;5;21;01m.\u001B[39;00m\u001B[38;5;21;01mcompat\u001B[39;00m\u001B[38;5;21;01m.\u001B[39;00m\u001B[38;5;21;01mpyarrow\u001B[39;00m \u001B[38;5;28;01mimport\u001B[39;00m (\n\u001B[0;32m     23\u001B[0m     pa_version_under1p01,\n\u001B[0;32m     24\u001B[0m     pa_version_under2p0,\n\u001B[0;32m     25\u001B[0m     pa_version_under3p0,\n\u001B[0;32m     26\u001B[0m     pa_version_under4p0,\n\u001B[0;32m     27\u001B[0m     pa_version_under5p0,\n\u001B[0;32m     28\u001B[0m     pa_version_under6p0,\n\u001B[0;32m     29\u001B[0m     pa_version_under7p0,\n\u001B[0;32m     30\u001B[0m     pa_version_under8p0,\n\u001B[0;32m     31\u001B[0m     pa_version_under9p0,\n\u001B[0;32m     32\u001B[0m )\n\u001B[0;32m     34\u001B[0m \u001B[38;5;28;01mif\u001B[39;00m TYPE_CHECKING:\n\u001B[0;32m     35\u001B[0m     \u001B[38;5;28;01mimport\u001B[39;00m \u001B[38;5;21;01mlzma\u001B[39;00m\n",
      "File \u001B[1;32mD:\\workspaces\\General\\venv\\lib\\site-packages\\pandas\\compat\\pyarrow.py:8\u001B[0m\n\u001B[0;32m      5\u001B[0m \u001B[38;5;28;01mfrom\u001B[39;00m \u001B[38;5;21;01mpandas\u001B[39;00m\u001B[38;5;21;01m.\u001B[39;00m\u001B[38;5;21;01mutil\u001B[39;00m\u001B[38;5;21;01m.\u001B[39;00m\u001B[38;5;21;01mversion\u001B[39;00m \u001B[38;5;28;01mimport\u001B[39;00m Version\n\u001B[0;32m      7\u001B[0m \u001B[38;5;28;01mtry\u001B[39;00m:\n\u001B[1;32m----> 8\u001B[0m     \u001B[38;5;28;01mimport\u001B[39;00m \u001B[38;5;21;01mpyarrow\u001B[39;00m \u001B[38;5;28;01mas\u001B[39;00m \u001B[38;5;21;01mpa\u001B[39;00m\n\u001B[0;32m     10\u001B[0m     _pa_version \u001B[38;5;241m=\u001B[39m pa\u001B[38;5;241m.\u001B[39m__version__\n\u001B[0;32m     11\u001B[0m     _palv \u001B[38;5;241m=\u001B[39m Version(_pa_version)\n",
      "File \u001B[1;32mD:\\workspaces\\General\\venv\\lib\\site-packages\\pyarrow\\__init__.py:65\u001B[0m\n\u001B[0;32m     63\u001B[0m _gc_enabled \u001B[38;5;241m=\u001B[39m _gc\u001B[38;5;241m.\u001B[39misenabled()\n\u001B[0;32m     64\u001B[0m _gc\u001B[38;5;241m.\u001B[39mdisable()\n\u001B[1;32m---> 65\u001B[0m \u001B[38;5;28;01mimport\u001B[39;00m \u001B[38;5;21;01mpyarrow\u001B[39;00m\u001B[38;5;21;01m.\u001B[39;00m\u001B[38;5;21;01mlib\u001B[39;00m \u001B[38;5;28;01mas\u001B[39;00m \u001B[38;5;21;01m_lib\u001B[39;00m\n\u001B[0;32m     66\u001B[0m \u001B[38;5;28;01mif\u001B[39;00m _gc_enabled:\n\u001B[0;32m     67\u001B[0m     _gc\u001B[38;5;241m.\u001B[39menable()\n",
      "File \u001B[1;32m<frozen importlib._bootstrap>:398\u001B[0m, in \u001B[0;36mparent\u001B[1;34m(self)\u001B[0m\n",
      "\u001B[1;31mKeyboardInterrupt\u001B[0m: "
     ]
    }
   ],
   "source": [
    "%run D:\\workspaces\\General\\notebooks\\image-processing\\0-0-common.ipynb"
   ]
  },
  {
   "cell_type": "code",
   "execution_count": null,
   "outputs": [],
   "source": [
    "data_frame = pd.read_parquet(\"data/reddit_training.parquet\", engine='pyarrow', filesystem=file_system)\n",
    "display(data_frame)"
   ],
   "metadata": {
    "collapsed": false,
    "ExecuteTime": {
     "start_time": "2023-04-03T18:07:20.043164Z",
     "end_time": "2023-04-03T18:07:30.181700Z"
    },
    "pycharm": {
     "is_executing": true
    }
   }
  },
  {
   "cell_type": "code",
   "execution_count": null,
   "outputs": [],
   "source": [
    "df.groupby(\"CommentAuthor\").count().sort_values(\"CommentBody\", ascending=False).head(100)"
   ],
   "metadata": {
    "collapsed": false,
    "ExecuteTime": {
     "start_time": "2023-03-27T11:47:42.497454Z",
     "end_time": "2023-03-27T11:47:47.665398Z"
    },
    "pycharm": {
     "is_executing": true
    }
   }
  },
  {
   "cell_type": "code",
   "execution_count": 27,
   "outputs": [],
   "source": [
    "def create_training_line(row):\n",
    "    return f\"<|startoftext|><|context|>{row['Subreddit']}<|submission|>{row['SubmissionTitle']}<|comment|>{row['ParentBody']}<|response|>{row['CommentBody']}<|endoftext|>\""
   ],
   "metadata": {
    "collapsed": false,
    "ExecuteTime": {
     "start_time": "2023-03-27T12:03:05.136721Z",
     "end_time": "2023-03-27T12:03:05.183601Z"
    }
   }
  },
  {
   "cell_type": "code",
   "execution_count": null,
   "outputs": [],
   "source": [
    "filtered_user = df[df[\"CommentAuthor\"] == \"Poem_for_your_sprog\"]"
   ],
   "metadata": {
    "collapsed": false,
    "ExecuteTime": {
     "start_time": "2023-03-27T12:02:59.997978Z",
     "end_time": "2023-03-27T12:03:00.201141Z"
    },
    "pycharm": {
     "is_executing": true
    }
   }
  },
  {
   "cell_type": "code",
   "execution_count": 30,
   "outputs": [
    {
     "name": "stderr",
     "output_type": "stream",
     "text": [
      "C:\\Users\\AJ Stangl\\AppData\\Local\\Temp\\ipykernel_22132\\2709167147.py:1: SettingWithCopyWarning: \n",
      "A value is trying to be set on a copy of a slice from a DataFrame.\n",
      "Try using .loc[row_indexer,col_indexer] = value instead\n",
      "\n",
      "See the caveats in the documentation: https://pandas.pydata.org/pandas-docs/stable/user_guide/indexing.html#returning-a-view-versus-a-copy\n",
      "  filtered_user['line'] = filtered_user.apply(create_training_line, axis=1)\n"
     ]
    }
   ],
   "source": [
    "filtered_user['line'] = filtered_user.apply(create_training_line, axis=1)"
   ],
   "metadata": {
    "collapsed": false,
    "ExecuteTime": {
     "start_time": "2023-03-27T12:03:43.880753Z",
     "end_time": "2023-03-27T12:03:44.577149Z"
    }
   }
  },
  {
   "cell_type": "code",
   "execution_count": 36,
   "outputs": [
    {
     "data": {
      "text/plain": "        Subreddit SubmissionId ParentId       ParentAuthor  \\\n373053  AskReddit       xss2z8  iqm1j7s        tsundokoala   \n373129  AskReddit       yybjxf  iwtgipl     IMakeBandNames   \n373151  AskReddit       yybjxf  iwtdpun     Badmash_askari   \n373152  AskReddit       yvbfn2  iwdeesf      kitrougeslide   \n373153  AskReddit       yu3883  iw7k31i  JenniferSSwindell   \n...           ...          ...      ...                ...   \n416146  AskReddit       z61fnw  ixz21pd          Startup70   \n416147  AskReddit       z61fnw  ixyv0kf        Clcooper423   \n416148  AskReddit       z5g6lv  ixw26i0     gotsthepockets   \n416149  AskReddit       z08637  ix451gy    ItHurtzWhenIPee   \n416150  AskReddit       z08637  ix423w1            dannoh9   \n\n                                               ParentBody CommentId  \\\n373053                        This is wonderfully brutal.   iqm84zx   \n373129                             So, you’re the assman.   iwtncne   \n373151                                     a proctologist   iwtmi0q   \n373152              Negroni spagliato with prosecco in it   iwdnart   \n373153    I'm here to explore a prospective career shift.   iw85nio   \n...                                                   ...       ...   \n416146    60% of the time, it works every time(with Rizz)   ixzbe7q   \n416147  Nothing. Start massaging her legs, works every...   ixzax82   \n416148                                          No don't!   ixw7stq   \n416149  TBS on Dish Network is one of the worst offend...   ix4bk84   \n416150  Making the volume during commercials louder th...   ix4bd1l   \n\n                                              CommentBody TrainingString  \\\n373053  \"I miss you,\" he said,  \\nwith a shake of his ...           None   \n373129  &gt;So, you’re the assman.\\n\\nI love bums,  \\n...           None   \n373151  &gt;a proctologist\\n\\nI love bums,  \\nand I lo...           None   \n373152  &gt;Negroni sbagliato with prosecco in it\\n\\nH...           None   \n373153  He looked at their wages,  \\nthe money they ma...           None   \n...                                                   ...            ...   \n416146  &gt;60% of the time, it works every time.\\n\\n\"...           None   \n416147  &gt;works everytime, 60% of the time.\\n\\n\"Litt...           None   \n416148  Be bold, be brave,  \\nbe strong, be true,  \\nB...           None   \n416149  \"I've thought of a notion,\" the broadcaster sa...           None   \n416150  \"I've thought of a notion,\" the broadcaster sa...           None   \n\n              CommentAuthor  \\\n373053  Poem_for_your_sprog   \n373129  Poem_for_your_sprog   \n373151  Poem_for_your_sprog   \n373152  Poem_for_your_sprog   \n373153  Poem_for_your_sprog   \n...                     ...   \n416146  Poem_for_your_sprog   \n416147  Poem_for_your_sprog   \n416148  Poem_for_your_sprog   \n416149  Poem_for_your_sprog   \n416150  Poem_for_your_sprog   \n\n                                          SubmissionTitle SubmissionContent  \\\n373053  What's the best response to an ex who says \"I ...              None   \n373129                What job seems to attract assholes?              None   \n373151                What job seems to attract assholes?              None   \n373152                  What's the most overrated drink ?              None   \n373153             What profession is typically overpaid?              None   \n...                                                   ...               ...   \n416146   What do you tell your partner when you're horny?              None   \n416147   What do you tell your partner when you're horny?              None   \n416148  People who stand up as soon as the plane lands...              None   \n416149          what is something that SHOULD be a crime?              None   \n416150          what is something that SHOULD be a crime?              None   \n\n           SubmissionAuthor GrandParentAuthor  CommentScore  \\\n373053              kohy1st              None           1.0   \n373129            Curlydoos              None           1.0   \n373151            Curlydoos              None           1.0   \n373152          TripleSgirl              None           1.0   \n373153  midnightlightbright              None           1.0   \n...                     ...               ...           ...   \n416146               gyrox1              None           1.0   \n416147               gyrox1              None           1.0   \n416148          sigurdarson              None           1.0   \n416149           dat1gaymer              None           1.0   \n416150           dat1gaymer              None           1.0   \n\n                                                     line  \n373053  <|startoftext|><|context|>AskReddit<|submissio...  \n373129  <|startoftext|><|context|>AskReddit<|submissio...  \n373151  <|startoftext|><|context|>AskReddit<|submissio...  \n373152  <|startoftext|><|context|>AskReddit<|submissio...  \n373153  <|startoftext|><|context|>AskReddit<|submissio...  \n...                                                   ...  \n416146  <|startoftext|><|context|>AskReddit<|submissio...  \n416147  <|startoftext|><|context|>AskReddit<|submissio...  \n416148  <|startoftext|><|context|>AskReddit<|submissio...  \n416149  <|startoftext|><|context|>AskReddit<|submissio...  \n416150  <|startoftext|><|context|>AskReddit<|submissio...  \n\n[5874 rows x 15 columns]",
      "text/html": "<div>\n<style scoped>\n    .dataframe tbody tr th:only-of-type {\n        vertical-align: middle;\n    }\n\n    .dataframe tbody tr th {\n        vertical-align: top;\n    }\n\n    .dataframe thead th {\n        text-align: right;\n    }\n</style>\n<table border=\"1\" class=\"dataframe\">\n  <thead>\n    <tr style=\"text-align: right;\">\n      <th></th>\n      <th>Subreddit</th>\n      <th>SubmissionId</th>\n      <th>ParentId</th>\n      <th>ParentAuthor</th>\n      <th>ParentBody</th>\n      <th>CommentId</th>\n      <th>CommentBody</th>\n      <th>TrainingString</th>\n      <th>CommentAuthor</th>\n      <th>SubmissionTitle</th>\n      <th>SubmissionContent</th>\n      <th>SubmissionAuthor</th>\n      <th>GrandParentAuthor</th>\n      <th>CommentScore</th>\n      <th>line</th>\n    </tr>\n  </thead>\n  <tbody>\n    <tr>\n      <th>373053</th>\n      <td>AskReddit</td>\n      <td>xss2z8</td>\n      <td>iqm1j7s</td>\n      <td>tsundokoala</td>\n      <td>This is wonderfully brutal.</td>\n      <td>iqm84zx</td>\n      <td>\"I miss you,\" he said,  \\nwith a shake of his ...</td>\n      <td>None</td>\n      <td>Poem_for_your_sprog</td>\n      <td>What's the best response to an ex who says \"I ...</td>\n      <td>None</td>\n      <td>kohy1st</td>\n      <td>None</td>\n      <td>1.0</td>\n      <td>&lt;|startoftext|&gt;&lt;|context|&gt;AskReddit&lt;|submissio...</td>\n    </tr>\n    <tr>\n      <th>373129</th>\n      <td>AskReddit</td>\n      <td>yybjxf</td>\n      <td>iwtgipl</td>\n      <td>IMakeBandNames</td>\n      <td>So, you’re the assman.</td>\n      <td>iwtncne</td>\n      <td>&amp;gt;So, you’re the assman.\\n\\nI love bums,  \\n...</td>\n      <td>None</td>\n      <td>Poem_for_your_sprog</td>\n      <td>What job seems to attract assholes?</td>\n      <td>None</td>\n      <td>Curlydoos</td>\n      <td>None</td>\n      <td>1.0</td>\n      <td>&lt;|startoftext|&gt;&lt;|context|&gt;AskReddit&lt;|submissio...</td>\n    </tr>\n    <tr>\n      <th>373151</th>\n      <td>AskReddit</td>\n      <td>yybjxf</td>\n      <td>iwtdpun</td>\n      <td>Badmash_askari</td>\n      <td>a proctologist</td>\n      <td>iwtmi0q</td>\n      <td>&amp;gt;a proctologist\\n\\nI love bums,  \\nand I lo...</td>\n      <td>None</td>\n      <td>Poem_for_your_sprog</td>\n      <td>What job seems to attract assholes?</td>\n      <td>None</td>\n      <td>Curlydoos</td>\n      <td>None</td>\n      <td>1.0</td>\n      <td>&lt;|startoftext|&gt;&lt;|context|&gt;AskReddit&lt;|submissio...</td>\n    </tr>\n    <tr>\n      <th>373152</th>\n      <td>AskReddit</td>\n      <td>yvbfn2</td>\n      <td>iwdeesf</td>\n      <td>kitrougeslide</td>\n      <td>Negroni spagliato with prosecco in it</td>\n      <td>iwdnart</td>\n      <td>&amp;gt;Negroni sbagliato with prosecco in it\\n\\nH...</td>\n      <td>None</td>\n      <td>Poem_for_your_sprog</td>\n      <td>What's the most overrated drink ?</td>\n      <td>None</td>\n      <td>TripleSgirl</td>\n      <td>None</td>\n      <td>1.0</td>\n      <td>&lt;|startoftext|&gt;&lt;|context|&gt;AskReddit&lt;|submissio...</td>\n    </tr>\n    <tr>\n      <th>373153</th>\n      <td>AskReddit</td>\n      <td>yu3883</td>\n      <td>iw7k31i</td>\n      <td>JenniferSSwindell</td>\n      <td>I'm here to explore a prospective career shift.</td>\n      <td>iw85nio</td>\n      <td>He looked at their wages,  \\nthe money they ma...</td>\n      <td>None</td>\n      <td>Poem_for_your_sprog</td>\n      <td>What profession is typically overpaid?</td>\n      <td>None</td>\n      <td>midnightlightbright</td>\n      <td>None</td>\n      <td>1.0</td>\n      <td>&lt;|startoftext|&gt;&lt;|context|&gt;AskReddit&lt;|submissio...</td>\n    </tr>\n    <tr>\n      <th>...</th>\n      <td>...</td>\n      <td>...</td>\n      <td>...</td>\n      <td>...</td>\n      <td>...</td>\n      <td>...</td>\n      <td>...</td>\n      <td>...</td>\n      <td>...</td>\n      <td>...</td>\n      <td>...</td>\n      <td>...</td>\n      <td>...</td>\n      <td>...</td>\n      <td>...</td>\n    </tr>\n    <tr>\n      <th>416146</th>\n      <td>AskReddit</td>\n      <td>z61fnw</td>\n      <td>ixz21pd</td>\n      <td>Startup70</td>\n      <td>60% of the time, it works every time(with Rizz)</td>\n      <td>ixzbe7q</td>\n      <td>&amp;gt;60% of the time, it works every time.\\n\\n\"...</td>\n      <td>None</td>\n      <td>Poem_for_your_sprog</td>\n      <td>What do you tell your partner when you're horny?</td>\n      <td>None</td>\n      <td>gyrox1</td>\n      <td>None</td>\n      <td>1.0</td>\n      <td>&lt;|startoftext|&gt;&lt;|context|&gt;AskReddit&lt;|submissio...</td>\n    </tr>\n    <tr>\n      <th>416147</th>\n      <td>AskReddit</td>\n      <td>z61fnw</td>\n      <td>ixyv0kf</td>\n      <td>Clcooper423</td>\n      <td>Nothing. Start massaging her legs, works every...</td>\n      <td>ixzax82</td>\n      <td>&amp;gt;works everytime, 60% of the time.\\n\\n\"Litt...</td>\n      <td>None</td>\n      <td>Poem_for_your_sprog</td>\n      <td>What do you tell your partner when you're horny?</td>\n      <td>None</td>\n      <td>gyrox1</td>\n      <td>None</td>\n      <td>1.0</td>\n      <td>&lt;|startoftext|&gt;&lt;|context|&gt;AskReddit&lt;|submissio...</td>\n    </tr>\n    <tr>\n      <th>416148</th>\n      <td>AskReddit</td>\n      <td>z5g6lv</td>\n      <td>ixw26i0</td>\n      <td>gotsthepockets</td>\n      <td>No don't!</td>\n      <td>ixw7stq</td>\n      <td>Be bold, be brave,  \\nbe strong, be true,  \\nB...</td>\n      <td>None</td>\n      <td>Poem_for_your_sprog</td>\n      <td>People who stand up as soon as the plane lands...</td>\n      <td>None</td>\n      <td>sigurdarson</td>\n      <td>None</td>\n      <td>1.0</td>\n      <td>&lt;|startoftext|&gt;&lt;|context|&gt;AskReddit&lt;|submissio...</td>\n    </tr>\n    <tr>\n      <th>416149</th>\n      <td>AskReddit</td>\n      <td>z08637</td>\n      <td>ix451gy</td>\n      <td>ItHurtzWhenIPee</td>\n      <td>TBS on Dish Network is one of the worst offend...</td>\n      <td>ix4bk84</td>\n      <td>\"I've thought of a notion,\" the broadcaster sa...</td>\n      <td>None</td>\n      <td>Poem_for_your_sprog</td>\n      <td>what is something that SHOULD be a crime?</td>\n      <td>None</td>\n      <td>dat1gaymer</td>\n      <td>None</td>\n      <td>1.0</td>\n      <td>&lt;|startoftext|&gt;&lt;|context|&gt;AskReddit&lt;|submissio...</td>\n    </tr>\n    <tr>\n      <th>416150</th>\n      <td>AskReddit</td>\n      <td>z08637</td>\n      <td>ix423w1</td>\n      <td>dannoh9</td>\n      <td>Making the volume during commercials louder th...</td>\n      <td>ix4bd1l</td>\n      <td>\"I've thought of a notion,\" the broadcaster sa...</td>\n      <td>None</td>\n      <td>Poem_for_your_sprog</td>\n      <td>what is something that SHOULD be a crime?</td>\n      <td>None</td>\n      <td>dat1gaymer</td>\n      <td>None</td>\n      <td>1.0</td>\n      <td>&lt;|startoftext|&gt;&lt;|context|&gt;AskReddit&lt;|submissio...</td>\n    </tr>\n  </tbody>\n</table>\n<p>5874 rows × 15 columns</p>\n</div>"
     },
     "metadata": {},
     "output_type": "display_data"
    }
   ],
   "source": [
    "display(filtered_user)\n",
    "\n",
    "records = filtered_user.to_dict(orient=\"records\")\n",
    "\n",
    "with open('foo.txt', 'w', encoding='utf-8') as f:\n",
    "    for record in records:\n",
    "        f.write(f\"{record['line']}\" + \"\\n\")"
   ],
   "metadata": {
    "collapsed": false,
    "ExecuteTime": {
     "start_time": "2023-03-27T12:08:59.176099Z",
     "end_time": "2023-03-27T12:08:59.759015Z"
    }
   }
  }
 ],
 "metadata": {
  "kernelspec": {
   "display_name": "Python 3",
   "language": "python",
   "name": "python3"
  },
  "language_info": {
   "codemirror_mode": {
    "name": "ipython",
    "version": 2
   },
   "file_extension": ".py",
   "mimetype": "text/x-python",
   "name": "python",
   "nbconvert_exporter": "python",
   "pygments_lexer": "ipython2",
   "version": "2.7.6"
  }
 },
 "nbformat": 4,
 "nbformat_minor": 0
}
