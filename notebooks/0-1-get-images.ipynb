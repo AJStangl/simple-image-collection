{
 "cells": [
  {
   "cell_type": "code",
   "execution_count": null,
   "metadata": {
    "collapsed": true
   },
   "outputs": [],
   "source": [
    "from datetime import datetime\n",
    "\n",
    "import pandas\n",
    "from dask.diagnostics import ProgressBar\n",
    "from tqdm import tqdm\n",
    "\n",
    "from common.schemas.pyarrow_schema import schema\n",
    "\n",
    "from common.storage.azure_file_storage import AzureFileStorageAdapter\n",
    "\n",
    "pbar = ProgressBar()\n",
    "pbar.register()\n",
    "\n",
    "tqdm.pandas()\n",
    "tqdm.pandas(desc=\"global\")\n",
    "\n",
    "from tqdm.dask import TqdmCallback\n",
    "\n",
    "cb = TqdmCallback(desc=\"global\")\n",
    "cb.register()\n",
    "\n",
    "file_system = AzureFileStorageAdapter('data').get_file_storage()"
   ]
  },
  {
   "cell_type": "code",
   "execution_count": null,
   "outputs": [],
   "source": [
    "%%time\n",
    "\n",
    "subs = [\n",
    "\t\"SFWRedheads\",\n",
    "\t\"sfwpetite\",\n",
    "\t\"SFWNextDoorGirls\",\n",
    "\t\"trippinthroughtime\",\n",
    "\t\"fatsquirrelhate\",\n",
    "\t\"itookapicture\",\n",
    "\t\"memes\",\n",
    "\t\"CityPorn\",\n",
    "\t\"EarthPorn\",\n",
    "\t\"spaceporn\",\n",
    "\t\"realasians\",\n",
    "\t\"KoreanHotties\",\n",
    "\t\"prettyasiangirls\",\n",
    "\t\"AsianOfficeLady\",\n",
    "\t\"mildlypenis\",\n",
    "\t\"AsianInvasion\",\n",
    "\t\"sexygirls\",\n",
    "\t\"PrettyGirls\",\n",
    "\t\"gentlemanboners\",\n",
    "\t\"hotofficegirls\",\n",
    "\t\"tightdresses\",\n",
    "\t\"DLAH\"\n",
    "]"
   ],
   "metadata": {
    "collapsed": false
   }
  },
  {
   "cell_type": "code",
   "execution_count": null,
   "outputs": [],
   "source": [
    "%%time\n",
    "\n",
    "extant_data = pandas.read_parquet(\"data/processed_raw_data.parquet\", engine='pyarrow', filesystem=file_system, schema=schema)\n",
    "extant_data.set_index('id', inplace=True)\n",
    "display(extant_data)"
   ],
   "metadata": {
    "collapsed": false
   }
  },
  {
   "cell_type": "code",
   "execution_count": null,
   "outputs": [],
   "source": [
    "curated_data = pandas.read_parquet(\"data/parquet/back.parquet\", engine='pyarrow', filesystem=file_system, schema=schema)\n",
    "display(curated_data.shape)\n",
    "display(curated_data)"
   ],
   "metadata": {
    "collapsed": false
   }
  },
  {
   "cell_type": "code",
   "execution_count": null,
   "outputs": [],
   "source": [
    "# TODO: Merge curated data with extant data and update extant data"
   ],
   "metadata": {
    "collapsed": false
   }
  },
  {
   "cell_type": "code",
   "execution_count": null,
   "outputs": [],
   "source": [
    "%%time\n",
    "\n",
    "import praw\n",
    "\n",
    "reddit: praw.Reddit = praw.Reddit(client_id='5hVavL0PIRyM_1JSvqT6UQ', client_secret='BjD2kS3WNLnJc59RKY-JJUuc_Z9-JA', user_agent='script:%(bot_name)s:v%(bot_version)s (by /u/%(bot_author)s)')"
   ],
   "metadata": {
    "collapsed": false
   }
  },
  {
   "cell_type": "code",
   "execution_count": null,
   "outputs": [],
   "source": [
    "from praw.models import ListingGenerator\n",
    "import pandas as pd\n",
    "import os\n",
    "\n",
    "posts = []\n",
    "for sub in tqdm(subs, total=len(subs), desc=\"Creating Temp Dir For Subs...\"):\n",
    "\ttemp_dir_path = f\"temp/{sub}\"\n",
    "\tif not os.path.exists(temp_dir_path):\n",
    "\t\tos.makedirs(temp_dir_path)\n",
    "\texisting_data = pd.read_parquet(temp_dir_path)\n",
    "\tos.makedirs(temp_dir_path, exist_ok=True)"
   ],
   "metadata": {
    "collapsed": false
   }
  },
  {
   "cell_type": "code",
   "execution_count": null,
   "outputs": [],
   "source": [
    "def write_log_message(submission_id: str, subreddit: str, message: str, exception: Exception) -> str:\n",
    "\tdate_time = datetime.now().strftime(\"%Y-%m-%d %H:%M:%S\")\n",
    "\treturn f\"{date_time}\\t{subreddit}\\t{submission_id}\\t{message}\\t{exception}\\n\""
   ],
   "metadata": {
    "collapsed": false
   }
  },
  {
   "cell_type": "code",
   "execution_count": null,
   "outputs": [],
   "source": [
    "with open('log.txt', 'a') as f:\n",
    "\tfor time_filter in ['week', 'day']:\n",
    "\t\tfor sub in tqdm(subs, desc=f\"{time_filter}\", total=len(subs)):\n",
    "\t\t\ttemp_dir_path = f\"temp/{sub}\"\n",
    "\t\t\ttry:\n",
    "\t\t\t\tsubreddit_stream: ListingGenerator = reddit.subreddit(display_name=sub).top(limit=100, time_filter=time_filter)\n",
    "\t\t\t\tsubreddit_stream = list(subreddit_stream)\n",
    "\t\t\t\tfor submission in tqdm(subreddit_stream, total=len(subreddit_stream), desc=f\"Posts - {sub} - {time_filter}\"):\n",
    "\t\t\t\t\tif submission is None:\n",
    "\t\t\t\t\t\tcontinue\n",
    "\t\t\t\t\telse:\n",
    "\t\t\t\t\t\tif submission.id in extant_data.index.values:\n",
    "\t\t\t\t\t\t\tcontinue\n",
    "\t\t\t\t\ttry:\n",
    "\t\t\t\t\t\tauthor_name = 'Unknown'\n",
    "\t\t\t\t\t\tsubreddit_name = sub\n",
    "\t\t\t\t\t\ttry:\n",
    "\t\t\t\t\t\t\tauthor_name = submission.author.name\n",
    "\t\t\t\t\t\texcept Exception as e:\n",
    "\t\t\t\t\t\t\tauthor_name = 'Unknown'\n",
    "\t\t\t\t\t\t\tpass\n",
    "\t\t\t\t\t\tp = {\n",
    "\t\t\t\t\t\t\t'id': submission.id,\n",
    "\t\t\t\t\t\t\t'subreddit': subreddit_name,\n",
    "\t\t\t\t\t\t\t'author': author_name,\n",
    "\t\t\t\t\t\t\t'title': submission.title,\n",
    "\t\t\t\t\t\t\t'caption': '',\n",
    "\t\t\t\t\t\t\t'hash': '',\n",
    "\t\t\t\t\t\t\t'permalink': submission.permalink,\n",
    "\t\t\t\t\t\t\t'original_url': submission.url,\n",
    "\t\t\t\t\t\t\t'image_name': '',\n",
    "\t\t\t\t\t\t\t'path': '',\n",
    "\t\t\t\t\t\t\t'thumbnail_path': '',\n",
    "\t\t\t\t\t\t\t'exists': False,\n",
    "\t\t\t\t\t\t\t'curated': False,\n",
    "\t\t\t\t\t\t\t'Tags': ['']\n",
    "\t\t\t\t\t\t}\n",
    "\t\t\t\t\t\tpd.DataFrame([p]).to_parquet(f\"{temp_dir_path}/{submission.id}.parquet\")\n",
    "\t\t\t\t\texcept Exception as e:\n",
    "\t\t\t\t\t\tlog = write_log_message(submission.id, sub, \"Error Writing Post\", e)\n",
    "\t\t\t\t\t\tf.write(log)\n",
    "\t\t\t\t\t\tcontinue\n",
    "\t\t\texcept Exception as e:\n",
    "\t\t\t\tlog = write_log_message(submission.id, sub, f\"Error Getting Posts For SubReddit\", e)\n",
    "\t\t\t\tf.write(log)\n",
    "\t\t\t\tcontinue"
   ],
   "metadata": {
    "collapsed": false
   }
  },
  {
   "cell_type": "code",
   "execution_count": null,
   "outputs": [],
   "source": [
    "%%time\n",
    "\n",
    "temp_data = pandas.DataFrame()\n",
    "\n",
    "for sub in subs:\n",
    "\tdf = pandas.read_parquet(f\"temp/{sub}\", schema=schema, engine='pyarrow')\n",
    "\ttemp_data = temp_data.append(df, ignore_index=True)\n",
    "\n",
    "for i,r in temp_data.iterrows():\n",
    "\ttemp_data.loc[i, 'image_name'] = r.id + \".jpg\"\n",
    "\ttemp_data.loc[i, 'path'] = \"\"\n",
    "\ttemp_data.loc[i, 'hash'] = \"\"\n",
    "\ttemp_data.loc[i, 'caption'] = \"\"\n",
    "\ttemp_data.loc[i, 'model'] = \"\"\n",
    "\ttemp_data.loc[i, 'accept'] = False\n",
    "\ttemp_data.loc[i, 'tags'] = [\"\"]\n",
    "\n",
    "temp_data.set_index('id', inplace=True, drop=False)\n",
    "\n",
    "display(temp_data.shape)\n",
    "\n",
    "display(temp_data)"
   ],
   "metadata": {
    "collapsed": false
   }
  },
  {
   "cell_type": "code",
   "execution_count": null,
   "outputs": [],
   "source": [
    "%%time\n",
    "\n",
    "filtered = temp_data[~temp_data['id'].isin(extant_data.index.values)]\n",
    "\n",
    "display(filtered.shape)\n",
    "\n",
    "display(filtered)"
   ],
   "metadata": {
    "collapsed": false
   }
  },
  {
   "cell_type": "code",
   "execution_count": null,
   "outputs": [],
   "source": [
    "%%time\n",
    "\n",
    "sources = [\n",
    "\t{\"name\": \"CityDiffusion\", \"data\": [\"CityPorn\"]},\n",
    "\t{\"name\": \"NatureDiffusion\", \"data\": [\"EarthPorn\"]},\n",
    "\t{\"name\": \"CosmicDiffusion\", \"data\": [\"spaceporn\"]},\n",
    "\t{\"name\": \"ITAPDiffusion\", \"data\": [\"itookapicture\"]},\n",
    "\t{\"name\": \"MemeDiffusion\", \"data\": [\"memes\"]},\n",
    "\t{\"name\": \"TTTDiffusion\", \"data\": [\"trippinthroughtime\"]},\n",
    "\t{\"name\": \"WallStreetDiffusion\", \"data\": [\"wallstreetbets\"]},\n",
    "\t{\"name\": \"SexyDiffusion\", \"data\": [ \"selfies\", \"Amicute\", \"amihot\", \"AmIhotAF\", \"HotGirlNextDoor\" ]},\n",
    "\t{\"name\": \"FatSquirrelDiffusion\", \"data\": [\"fatsquirrelhate\"]},\n",
    "\t{\"name\": \"CelebrityDiffusion\", \"data\": [\"celebrities\"]},\n",
    "\t{\"name\": \"OldLadyDiffusion\", \"data\": [\"oldladiesbakingpies\"]},\n",
    "\t{\"name\": \"SWFPetite\", \"data\": [\"sfwpetite\"]},\n",
    "\t{\"name\": \"SFWMilfs\", \"data\": [\"cougars_and_milfs_sfw\"]},\n",
    "\t{\"name\": \"RedHeadDiffusion\", \"data\": [\"SFWRedheads\"]},\n",
    "\t{\"name\": \"NextDoorGirlsDiffusion\", \"data\": [\"SFWNextDoorGirls\"]},\n",
    "\t{\"name\": \"SexyAsianDiffusion\", \"data\": [\"realasians\", \"KoreanHotties\", \"prettyasiangirls\", \"AsianOfficeLady\", \"AsianInvasion\"]},\n",
    "\t{\"name\": \"MildlyPenisDiffusion\", \"data\": [\"mildlypenis\"]},\n",
    "\t{\"name\": \"PrettyGirlDiffusion\", \"data\": [\"sexygirls\", \"PrettyGirls\", \"gentlemanboners\", \"hotofficegirls\", \"tightdresses\", \"DLAH\"]}\n",
    "]\n",
    "sources_df = pd.DataFrame.from_records(sources)\n",
    "\n",
    "def add_source(x: object, source_list) -> str:\n",
    "\tfor source in source_list:\n",
    "\t\tif x['subreddit'] in source['data']:\n",
    "\t\t\treturn source['name']\n",
    "\treturn \"\""
   ],
   "metadata": {
    "collapsed": false
   }
  },
  {
   "cell_type": "code",
   "execution_count": null,
   "outputs": [],
   "source": [
    "%%time\n",
    "\n",
    "filtered['model'] = filtered.progress_apply(lambda x: add_source(x, sources), axis=1)\n",
    "\n",
    "display(filtered.shape)\n",
    "\n",
    "display(filtered)"
   ],
   "metadata": {
    "collapsed": false
   }
  },
  {
   "cell_type": "code",
   "execution_count": null,
   "outputs": [],
   "source": [
    "from io import BytesIO\n",
    "import requests\n",
    "import hashlib\n",
    "from PIL import Image\n",
    "\n",
    "\n",
    "def get_hash_from_path(in_path: str) -> hash:\n",
    "\tif os.path.exists(in_path):\n",
    "\t\twith open(in_path, 'rb') as f_:\n",
    "\t\t\tcontent = f_.read()\n",
    "\t\t\tresult = hashlib.md5(content).hexdigest()\n",
    "\t\t\treturn result, content\n",
    "\telse:\n",
    "\t\treturn \"\"\n",
    "\n",
    "\n",
    "\n",
    "def fetch_image(x: object, file_list_) -> object:\n",
    "\twith open('log.txt', 'a') as f_image:\n",
    "\t\ttry:\n",
    "\t\t\turl = x['original_url']\n",
    "\t\t\tsubreddit = x['subreddit']\n",
    "\t\t\timage_id = x['id']\n",
    "\t\t\tos.makedirs(f\"temp\\\\image\\\\{subreddit}\", exist_ok=True)\n",
    "\t\t\ttemp_path = f\"temp\\\\image\\\\{subreddit}\\\\{image_id}.jpg\"\n",
    "\t\t\tout_path = f\"data/image/{image_id}.jpg\"\n",
    "\t\t\tif os.path.exists(temp_path):\n",
    "\t\t\t\tmd5, content = get_hash_from_path(temp_path)\n",
    "\t\t\t\tif md5 != \"f17b01901c752c1bb04928131d1661af\" or md5 != \"d835884373f4d6c8f24742ceabe74946\":\n",
    "\t\t\t\t\tfile_system.upload(temp_path, out_path)\n",
    "\t\t\t\t\treturn out_path\n",
    "\t\t\t\telse:\n",
    "\t\t\t\t\treturn \"\"\n",
    "\t\t\telse:\n",
    "\t\t\t\tresponse = requests.get(url)\n",
    "\t\t\t\tmd5 = hashlib.md5(response.content).hexdigest()\n",
    "\t\t\t\tif md5 != \"f17b01901c752c1bb04928131d1661af\" or md5 != \"d835884373f4d6c8f24742ceabe74946\":\n",
    "\t\t\t\t\ttry:\n",
    "\t\t\t\t\t\traw_image = Image.open(BytesIO(response.content))\n",
    "\t\t\t\t\t\traw_image.save(temp_path)\n",
    "\t\t\t\t\t\traw_image.close()\n",
    "\t\t\t\t\t\tif out_path in file_list_:\n",
    "\t\t\t\t\t\t\treturn out_path\n",
    "\t\t\t\t\t\telse:\n",
    "\t\t\t\t\t\t\tfile_system.upload(temp_path, out_path)\n",
    "\t\t\t\t\t\t\treturn out_path\n",
    "\t\t\t\t\texcept Exception as ex:\n",
    "\t\t\t\t\t\tmessage = write_log_message(x['id'], x['subreddit'], \"Failure in fetch_image\", ex)\n",
    "\t\t\t\t\t\tf_image.write(message)\n",
    "\t\t\t\t\t\treturn \"\"\n",
    "\t\t\t\telse:\n",
    "\t\t\t\t\treturn \"\"\n",
    "\t\texcept Exception as ex:\n",
    "\t\t\tmessage = write_log_message(x['id'], x['subreddit'], \"Failure in fetch_image\", ex)\n",
    "\t\t\tf_image.write(message)\n",
    "\t\t\treturn \"\""
   ],
   "metadata": {
    "collapsed": false
   }
  },
  {
   "cell_type": "code",
   "execution_count": null,
   "outputs": [],
   "source": [
    "%%time\n",
    "\n",
    "file_list = file_system.ls(\"data/image\")\n",
    "filtered['path'] = filtered.progress_apply(lambda x: fetch_image(x, file_list), axis=1)\n",
    "\n",
    "display(filtered.shape)\n",
    "\n",
    "display(filtered)"
   ],
   "metadata": {
    "collapsed": false
   }
  },
  {
   "cell_type": "code",
   "execution_count": null,
   "outputs": [],
   "source": [
    "def set_exists(x: object):\n",
    "\tsub_reddit = x['subreddit']\n",
    "\trecord_id = x['id']\n",
    "\ttemp_path = f\"temp\\\\image\\\\{sub_reddit}\\\\{record_id}.jpg\"\n",
    "\treturn os.path.exists(temp_path)"
   ],
   "metadata": {
    "collapsed": false
   }
  },
  {
   "cell_type": "code",
   "execution_count": null,
   "outputs": [],
   "source": [
    "%%time\n",
    "\n",
    "filtered['exists'] = filtered.progress_apply(lambda x: set_exists(x), axis=1)\n",
    "\n",
    "display(filtered.shape)\n",
    "display(filtered)"
   ],
   "metadata": {
    "collapsed": false
   }
  },
  {
   "cell_type": "code",
   "execution_count": null,
   "outputs": [],
   "source": [
    "def set_hash(x: object):\n",
    "\tsub_reddit = x['subreddit']\n",
    "\trecord_id = x['id']\n",
    "\ttemp_path = f\"temp\\\\image\\\\{sub_reddit}\\\\{record_id}.jpg\"\n",
    "\tif os.path.exists(temp_path):\n",
    "\t\treturn hashlib.md5(open(temp_path, 'rb').read()).hexdigest()\n",
    "\telse:\n",
    "\t\treturn \"\""
   ],
   "metadata": {
    "collapsed": false
   }
  },
  {
   "cell_type": "code",
   "execution_count": null,
   "outputs": [],
   "source": [
    "filtered['hash'] = filtered.progress_apply(lambda x: set_hash(x), axis=1)\n",
    "display(filtered.shape)\n",
    "display(filtered)"
   ],
   "metadata": {
    "collapsed": false
   }
  },
  {
   "cell_type": "code",
   "execution_count": null,
   "outputs": [],
   "source": [
    "from common.captioning.caption import BlipCaption\n",
    "import random\n",
    "\n",
    "def apply_caption(x: object, caption_routine: [BlipCaption, BlipCaption]) -> str:\n",
    "\twith open('log.txt', 'a') as f_3:\n",
    "\t\texists = x['exists']\n",
    "\t\tif not exists:\n",
    "\t\t\treturn \"\"\n",
    "\t\tsub_reddit = x['subreddit']\n",
    "\t\trecord_id = x['id']\n",
    "\t\ttemp_path = f\"temp\\\\image\\\\{sub_reddit}\\\\{record_id}.jpg\"\n",
    "\n",
    "\t\tif os.path.exists(temp_path):\n",
    "\t\t\ttry:\n",
    "\t\t\t\tresult = random.choice(caption_routine).caption_image(temp_path)\n",
    "\t\t\t\treturn result\n",
    "\t\t\texcept Exception as ex:\n",
    "\t\t\t\tmessage = write_log_message(x['id'], x['subreddit'], \"Failure in apply_caption\", ex)\n",
    "\t\t\t\tf_3.write(message)\n",
    "\t\t\t\treturn \"\"\n",
    "\t\telse:\n",
    "\t\t\treturn \"\""
   ],
   "metadata": {
    "collapsed": false
   }
  },
  {
   "cell_type": "code",
   "execution_count": null,
   "outputs": [],
   "source": [
    "%%time\n",
    "\n",
    "caption_0 = BlipCaption(\"0\")\n",
    "caption_1 = BlipCaption(\"1\")"
   ],
   "metadata": {
    "collapsed": false
   }
  },
  {
   "cell_type": "code",
   "execution_count": null,
   "outputs": [],
   "source": [
    "%%time\n",
    "\n",
    "filtered['caption'] = filtered.progress_apply(lambda x: apply_caption(x, [caption_0, caption_1]), axis=1)\n",
    "\n",
    "display(filtered.shape)\n",
    "display(filtered)"
   ],
   "metadata": {
    "collapsed": false
   }
  },
  {
   "cell_type": "code",
   "execution_count": null,
   "outputs": [],
   "source": [
    "%%time\n",
    "\n",
    "filtered_more = filtered.loc[filtered['caption'] != \"\"]\n",
    "display(filtered_more.shape)\n",
    "display(filtered_more)"
   ],
   "metadata": {
    "collapsed": false
   }
  },
  {
   "cell_type": "code",
   "execution_count": null,
   "outputs": [],
   "source": [
    "%%time\n",
    "\n",
    "dropped = filtered_more.dropna(axis=1, how='all')\n",
    "dropped.reset_index(drop=True, inplace=True)\n",
    "display(dropped)"
   ],
   "metadata": {
    "collapsed": false
   }
  },
  {
   "cell_type": "code",
   "execution_count": null,
   "outputs": [],
   "source": [
    "%%time\n",
    "\n",
    "dropped.to_parquet(\"filtered.parquet\", schema=schema, compression='gzip')"
   ],
   "metadata": {
    "collapsed": false
   }
  },
  {
   "cell_type": "code",
   "execution_count": null,
   "outputs": [],
   "source": [
    "%%time\n",
    "\n",
    "bar = pd.read_parquet(\"filtered.parquet\")\n",
    "display(bar)"
   ],
   "metadata": {
    "collapsed": false
   }
  },
  {
   "cell_type": "code",
   "execution_count": null,
   "outputs": [],
   "source": [
    "%%time\n",
    "\n",
    "concat = pd.concat([f, dropped])\n",
    "display(concat.shape)\n",
    "display(concat)"
   ],
   "metadata": {
    "collapsed": false
   }
  },
  {
   "cell_type": "code",
   "execution_count": null,
   "outputs": [],
   "source": [
    "def fix_path(x:object, fl: []) -> str:\n",
    "\tcurrent_path = x['path']\n",
    "\texists = x['exists']\n",
    "\tif current_path in fl:\n",
    "\t\treturn current_path\n",
    "\telse:\n",
    "\t\timage_id = x['id']\n",
    "\t\tif exists:\n",
    "\t\t\treturn f\"data/image/{image_id}.jpg\"\n",
    "\t\telse:\n",
    "\t\t\treturn \"\""
   ],
   "metadata": {
    "collapsed": false
   }
  },
  {
   "cell_type": "code",
   "execution_count": null,
   "outputs": [],
   "source": [
    "%%time\n",
    "\n",
    "file_list_ = file_system.ls(\"data/image\")\n",
    "concat['path'] = concat.progress_apply(lambda x: fix_path(x, file_list_), axis=1)\n",
    "display(concat)"
   ],
   "metadata": {
    "collapsed": false
   }
  },
  {
   "cell_type": "code",
   "execution_count": null,
   "outputs": [],
   "source": [
    "# %%time\n",
    "\n",
    "# concat.to_parquet(\"data/parquet/back.parquet\", schema=schema, compression='gzip', filesystem=file_system)\n",
    "# new = pd.read_parquet(\"data/parquet/back.parquet\", engine='pyarrow', schema=schema, filesystem=file_system)"
   ],
   "metadata": {
    "collapsed": false
   }
  },
  {
   "cell_type": "code",
   "execution_count": null,
   "outputs": [],
   "source": [
    "# %%time\n",
    "\n",
    "# display(new.shape)\n",
    "# display(new)"
   ],
   "metadata": {
    "collapsed": false
   }
  },
  {
   "cell_type": "code",
   "execution_count": null,
   "outputs": [],
   "source": [
    "# %%time\n",
    "#\n",
    "# display(\"== Clean Up ==\")\n",
    "# os.rmdir(\"temp\")"
   ],
   "metadata": {
    "collapsed": false
   }
  }
 ],
 "metadata": {
  "kernelspec": {
   "display_name": "Python 3",
   "language": "python",
   "name": "python3"
  },
  "language_info": {
   "codemirror_mode": {
    "name": "ipython",
    "version": 2
   },
   "file_extension": ".py",
   "mimetype": "text/x-python",
   "name": "python",
   "nbconvert_exporter": "python",
   "pygments_lexer": "ipython2",
   "version": "2.7.6"
  }
 },
 "nbformat": 4,
 "nbformat_minor": 0
}
