{
 "cells": [
  {
   "cell_type": "code",
   "execution_count": 1,
   "metadata": {
    "collapsed": true,
    "ExecuteTime": {
     "end_time": "2023-05-07T15:49:49.872028100Z",
     "start_time": "2023-05-07T15:49:46.860908Z"
    }
   },
   "outputs": [
    {
     "name": "stdout",
     "output_type": "stream",
     "text": [
      "CPU times: total: 2.98 s\n",
      "Wall time: 3 s\n"
     ]
    }
   ],
   "source": [
    "%%time\n",
    "\n",
    "import datetime as dt\n",
    "import os\n",
    "\n",
    "import pandas\n",
    "import pandas as pd\n",
    "import praw\n",
    "from praw.models import ListingGenerator\n",
    "from tqdm import tqdm\n",
    "\n",
    "from common.captioning.caption import BlipCaption\n",
    "from common.schemas.pyarrow_schema import schema\n",
    "from common.storage.azure_file_storage import AzureFileStorageAdapter\n",
    "\n",
    "tqdm.pandas(desc=\"Progress\")\n",
    "\n",
    "file_system = AzureFileStorageAdapter('data').get_file_storage()\n",
    "\n",
    "from common.data_frame_functions.functions import Functions\n",
    "\n",
    "functions: Functions = Functions()"
   ]
  },
  {
   "cell_type": "code",
   "execution_count": 2,
   "outputs": [
    {
     "name": "stdout",
     "output_type": "stream",
     "text": [
      "CPU times: total: 0 ns\n",
      "Wall time: 0 ns\n"
     ]
    }
   ],
   "source": [
    "%%time\n",
    "\n",
    "# \"memes\",\t\"CityPorn\", \"EarthPorn\", \"spaceporn\",\n",
    "subs = [\n",
    "\t\"SFWRedheads\",\n",
    "\t\"sfwpetite\",\n",
    "\t\"SFWNextDoorGirls\",\n",
    "\t\"trippinthroughtime\",\n",
    "\t\"fatsquirrelhate\",\n",
    "\t\"itookapicture\",\n",
    "\t\"realasians\",\n",
    "\t\"KoreanHotties\",\n",
    "\t\"prettyasiangirls\",\n",
    "\t\"AsianOfficeLady\",\n",
    "\t\"mildlypenis\",\n",
    "\t\"AsianInvasion\",\n",
    "\t\"sexygirls\",\n",
    "\t\"PrettyGirls\",\n",
    "\t\"gentlemanboners\",\n",
    "\t\"hotofficegirls\",\n",
    "\t\"tightdresses\",\n",
    "\t\"DLAH\",\n",
    "\t\"bathandbodyworks\"\n",
    "]"
   ],
   "metadata": {
    "collapsed": false,
    "ExecuteTime": {
     "end_time": "2023-05-07T15:49:49.950181100Z",
     "start_time": "2023-05-07T15:49:49.872028100Z"
    }
   }
  },
  {
   "cell_type": "code",
   "execution_count": 3,
   "outputs": [
    {
     "name": "stdout",
     "output_type": "stream",
     "text": [
      "CPU times: total: 0 ns\n",
      "Wall time: 0 ns\n"
     ]
    }
   ],
   "source": [
    "%%time\n",
    "\n",
    "sources = [\n",
    "\t{\"name\": \"CityDiffusion\", \"data\": [\"CityPorn\"]},\n",
    "\t{\"name\": \"NatureDiffusion\", \"data\": [\"EarthPorn\"]},\n",
    "\t{\"name\": \"CosmicDiffusion\", \"data\": [\"spaceporn\"]},\n",
    "\t{\"name\": \"ITAPDiffusion\", \"data\": [\"itookapicture\"]},\n",
    "\t{\"name\": \"MemeDiffusion\", \"data\": [\"memes\"]},\n",
    "\t{\"name\": \"TTTDiffusion\", \"data\": [\"trippinthroughtime\"]},\n",
    "\t{\"name\": \"WallStreetDiffusion\", \"data\": [\"wallstreetbets\"]},\n",
    "\t{\"name\": \"SexyDiffusion\", \"data\": [\"selfies\", \"Amicute\", \"amihot\", \"AmIhotAF\", \"HotGirlNextDoor\"]},\n",
    "\t{\"name\": \"FatSquirrelDiffusion\", \"data\": [\"fatsquirrelhate\"]},\n",
    "\t{\"name\": \"CelebrityDiffusion\", \"data\": [\"celebrities\"]},\n",
    "\t{\"name\": \"OldLadyDiffusion\", \"data\": [\"oldladiesbakingpies\"]},\n",
    "\t{\"name\": \"SWFPetite\", \"data\": [\"sfwpetite\"]},\n",
    "\t{\"name\": \"SFWMilfs\", \"data\": [\"cougars_and_milfs_sfw\"]},\n",
    "\t{\"name\": \"RedHeadDiffusion\", \"data\": [\"SFWRedheads\"]},\n",
    "\t{\"name\": \"NextDoorGirlsDiffusion\", \"data\": [\"SFWNextDoorGirls\"]},\n",
    "\t{\"name\": \"SexyAsianDiffusion\",\"data\": [\"realasians\", \"KoreanHotties\", \"prettyasiangirls\", \"AsianOfficeLady\", \"AsianInvasion\"]},\n",
    "\t{\"name\": \"MildlyPenisDiffusion\", \"data\": [\"mildlypenis\"]},\n",
    "\t{\"name\": \"PrettyGirlDiffusion\",\"data\": [\"sexygirls\", \"PrettyGirls\", \"gentlemanboners\", \"hotofficegirls\", \"tightdresses\", \"DLAH\"]},\n",
    "\t{\"name\": \"CandleDiffusion\", \"data\": [\"bathandbodyworks\"]}\n",
    "]\n",
    "sources_df = pd.DataFrame.from_records(sources)"
   ],
   "metadata": {
    "collapsed": false,
    "ExecuteTime": {
     "end_time": "2023-05-07T15:49:49.965808400Z",
     "start_time": "2023-05-07T15:49:49.887679100Z"
    }
   }
  },
  {
   "cell_type": "code",
   "execution_count": 4,
   "outputs": [
    {
     "data": {
      "text/plain": "        subreddit                author   \nid                                        \n100rn7k  AmIhotAF          veritynicole  \\\n1013bdt  AmIhotAF           RaulDea9286   \n105mekt  AmIhotAF              lindaniz   \n105qvgl  AmIhotAF           CaitVLove11   \n105rpcj  AmIhotAF       Flashy-Desk1858   \n...           ...                   ...   \n131dso7      DLAH        Wallydinger123   \n131eznp      DLAH          Long_dong111   \n131g3am      DLAH       ThrownAwayMiles   \n131jvcx      DLAH              robok212   \n131n2by      DLAH  Dependent_Secret9424   \n\n                                                  title   \nid                                                        \n100rn7k             hey, hows your new year going (23F)  \\\n1013bdt                                   36F - ITALIAN   \n105mekt  interesting in good forward relationship (f24)   \n105qvgl                       Laughing is my favorite 😆   \n105rpcj        [f22] What do you think when you see me?   \n...                                                 ...   \n131dso7                                     Happy B Day   \n131eznp                                         Perfect   \n131g3am                              DLAH left or right   \n131jvcx                                  Good morning 😍   \n131n2by                            Perfection (Sisters)   \n\n                                                   caption   \nid                                                           \n100rn7k  a woman in a white shirt and black pants is po...  \\\n1013bdt            arafed image of a woman in a bikini top   \n105mekt  a close up of a woman with red hair and a whit...   \n105qvgl  a woman in a blue tank top and shorts is smili...   \n105rpcj    a woman in a blue bikini top and a blue bra top   \n...                                                    ...   \n131dso7  there are three women posing for a picture in ...   \n131eznp  araffe woman in a white dress sitting on a pur...   \n131g3am  two women in short dresses posing for a pictur...   \n131jvcx      araffe in a pink dress posing on a white wall   \n131n2by  two women in shorts and sandals taking a selfi...   \n\n                                     hash   \nid                                          \n100rn7k  4bd00c19fa0ff2ade855e6d364b0760b  \\\n1013bdt  7c0d158cba8654ef1c635cbc5471d597   \n105mekt  ba4a0962cca2266a741e1e1700589c04   \n105qvgl  27bfe82c37314a0bcf02ab72eaf3a9e5   \n105rpcj  329eb42b8267fa1cc2980da8e48bcef1   \n...                                   ...   \n131dso7  ebb4b4a88dc79e2f2f57b10f32bf03c0   \n131eznp  5c944c6d62b1ae182c5a6a40c64195f4   \n131g3am  ab1f8fc33c85f4cfce12c810cf22229e   \n131jvcx  01f5058855526ef25888cff88065db4c   \n131n2by  b162dd1999dbf9ea3c7adccd34624a46   \n\n                                                 permalink   \nid                                                           \n100rn7k  /r/AmIhotAF/comments/100rn7k/hey_hows_your_new...  \\\n1013bdt          /r/AmIhotAF/comments/1013bdt/36f_italian/   \n105mekt  /r/AmIhotAF/comments/105mekt/interesting_in_go...   \n105qvgl  /r/AmIhotAF/comments/105qvgl/laughing_is_my_fa...   \n105rpcj  /r/AmIhotAF/comments/105rpcj/f22_what_do_you_t...   \n...                                                    ...   \n131dso7              /r/DLAH/comments/131dso7/happy_b_day/   \n131eznp                  /r/DLAH/comments/131eznp/perfect/   \n131g3am       /r/DLAH/comments/131g3am/dlah_left_or_right/   \n131jvcx             /r/DLAH/comments/131jvcx/good_morning/   \n131n2by       /r/DLAH/comments/131n2by/perfection_sisters/   \n\n                                original_url   image_name   \nid                                                          \n100rn7k  https://i.redd.it/n7r47s0gkh9a1.jpg  100rn7k.jpg  \\\n1013bdt  https://i.redd.it/bg0wwdlt5k9a1.jpg  1013bdt.jpg   \n105mekt  https://i.redd.it/4avjshsz8naa1.jpg  105mekt.jpg   \n105qvgl  https://i.redd.it/2pulzr0lxmaa1.jpg  105qvgl.jpg   \n105rpcj  https://i.redd.it/rz68pf934naa1.jpg  105rpcj.jpg   \n...                                      ...          ...   \n131dso7  https://i.redd.it/36gurz533jwa1.jpg  131dso7.jpg   \n131eznp  https://i.redd.it/dnbbx4zucjwa1.jpg  131eznp.jpg   \n131g3am  https://i.redd.it/zpp70oor3lwa1.jpg  131g3am.jpg   \n131jvcx  https://i.redd.it/ozmbfhjv3mwa1.jpg  131jvcx.jpg   \n131n2by  https://i.redd.it/pfg1u0aw1nwa1.jpg  131n2by.jpg   \n\n                           path                model  exists  curated accept   \nid                                                                             \n100rn7k  data/image/100rn7k.jpg        SexyDiffusion    True     True  False  \\\n1013bdt  data/image/1013bdt.jpg        SexyDiffusion    True     True   True   \n105mekt  data/image/105mekt.jpg        SexyDiffusion    True     True   True   \n105qvgl  data/image/105qvgl.jpg        SexyDiffusion    True     True   True   \n105rpcj  data/image/105rpcj.jpg        SexyDiffusion    True     True   True   \n...                         ...                  ...     ...      ...    ...   \n131dso7  data/image/131dso7.jpg  PrettyGirlDiffusion    True     True  False   \n131eznp  data/image/131eznp.jpg  PrettyGirlDiffusion    True     True   True   \n131g3am  data/image/131g3am.jpg  PrettyGirlDiffusion    True     True   True   \n131jvcx  data/image/131jvcx.jpg  PrettyGirlDiffusion    True     True  False   \n131n2by  data/image/131n2by.jpg  PrettyGirlDiffusion    True     True  False   \n\n        tags  \nid            \n100rn7k   []  \n1013bdt   []  \n105mekt   []  \n105qvgl   []  \n105rpcj   []  \n...      ...  \n131dso7   []  \n131eznp   []  \n131g3am   []  \n131jvcx   []  \n131n2by   []  \n\n[41505 rows x 14 columns]",
      "text/html": "<div>\n<style scoped>\n    .dataframe tbody tr th:only-of-type {\n        vertical-align: middle;\n    }\n\n    .dataframe tbody tr th {\n        vertical-align: top;\n    }\n\n    .dataframe thead th {\n        text-align: right;\n    }\n</style>\n<table border=\"1\" class=\"dataframe\">\n  <thead>\n    <tr style=\"text-align: right;\">\n      <th></th>\n      <th>subreddit</th>\n      <th>author</th>\n      <th>title</th>\n      <th>caption</th>\n      <th>hash</th>\n      <th>permalink</th>\n      <th>original_url</th>\n      <th>image_name</th>\n      <th>path</th>\n      <th>model</th>\n      <th>exists</th>\n      <th>curated</th>\n      <th>accept</th>\n      <th>tags</th>\n    </tr>\n    <tr>\n      <th>id</th>\n      <th></th>\n      <th></th>\n      <th></th>\n      <th></th>\n      <th></th>\n      <th></th>\n      <th></th>\n      <th></th>\n      <th></th>\n      <th></th>\n      <th></th>\n      <th></th>\n      <th></th>\n      <th></th>\n    </tr>\n  </thead>\n  <tbody>\n    <tr>\n      <th>100rn7k</th>\n      <td>AmIhotAF</td>\n      <td>veritynicole</td>\n      <td>hey, hows your new year going (23F)</td>\n      <td>a woman in a white shirt and black pants is po...</td>\n      <td>4bd00c19fa0ff2ade855e6d364b0760b</td>\n      <td>/r/AmIhotAF/comments/100rn7k/hey_hows_your_new...</td>\n      <td>https://i.redd.it/n7r47s0gkh9a1.jpg</td>\n      <td>100rn7k.jpg</td>\n      <td>data/image/100rn7k.jpg</td>\n      <td>SexyDiffusion</td>\n      <td>True</td>\n      <td>True</td>\n      <td>False</td>\n      <td>[]</td>\n    </tr>\n    <tr>\n      <th>1013bdt</th>\n      <td>AmIhotAF</td>\n      <td>RaulDea9286</td>\n      <td>36F - ITALIAN</td>\n      <td>arafed image of a woman in a bikini top</td>\n      <td>7c0d158cba8654ef1c635cbc5471d597</td>\n      <td>/r/AmIhotAF/comments/1013bdt/36f_italian/</td>\n      <td>https://i.redd.it/bg0wwdlt5k9a1.jpg</td>\n      <td>1013bdt.jpg</td>\n      <td>data/image/1013bdt.jpg</td>\n      <td>SexyDiffusion</td>\n      <td>True</td>\n      <td>True</td>\n      <td>True</td>\n      <td>[]</td>\n    </tr>\n    <tr>\n      <th>105mekt</th>\n      <td>AmIhotAF</td>\n      <td>lindaniz</td>\n      <td>interesting in good forward relationship (f24)</td>\n      <td>a close up of a woman with red hair and a whit...</td>\n      <td>ba4a0962cca2266a741e1e1700589c04</td>\n      <td>/r/AmIhotAF/comments/105mekt/interesting_in_go...</td>\n      <td>https://i.redd.it/4avjshsz8naa1.jpg</td>\n      <td>105mekt.jpg</td>\n      <td>data/image/105mekt.jpg</td>\n      <td>SexyDiffusion</td>\n      <td>True</td>\n      <td>True</td>\n      <td>True</td>\n      <td>[]</td>\n    </tr>\n    <tr>\n      <th>105qvgl</th>\n      <td>AmIhotAF</td>\n      <td>CaitVLove11</td>\n      <td>Laughing is my favorite 😆</td>\n      <td>a woman in a blue tank top and shorts is smili...</td>\n      <td>27bfe82c37314a0bcf02ab72eaf3a9e5</td>\n      <td>/r/AmIhotAF/comments/105qvgl/laughing_is_my_fa...</td>\n      <td>https://i.redd.it/2pulzr0lxmaa1.jpg</td>\n      <td>105qvgl.jpg</td>\n      <td>data/image/105qvgl.jpg</td>\n      <td>SexyDiffusion</td>\n      <td>True</td>\n      <td>True</td>\n      <td>True</td>\n      <td>[]</td>\n    </tr>\n    <tr>\n      <th>105rpcj</th>\n      <td>AmIhotAF</td>\n      <td>Flashy-Desk1858</td>\n      <td>[f22] What do you think when you see me?</td>\n      <td>a woman in a blue bikini top and a blue bra top</td>\n      <td>329eb42b8267fa1cc2980da8e48bcef1</td>\n      <td>/r/AmIhotAF/comments/105rpcj/f22_what_do_you_t...</td>\n      <td>https://i.redd.it/rz68pf934naa1.jpg</td>\n      <td>105rpcj.jpg</td>\n      <td>data/image/105rpcj.jpg</td>\n      <td>SexyDiffusion</td>\n      <td>True</td>\n      <td>True</td>\n      <td>True</td>\n      <td>[]</td>\n    </tr>\n    <tr>\n      <th>...</th>\n      <td>...</td>\n      <td>...</td>\n      <td>...</td>\n      <td>...</td>\n      <td>...</td>\n      <td>...</td>\n      <td>...</td>\n      <td>...</td>\n      <td>...</td>\n      <td>...</td>\n      <td>...</td>\n      <td>...</td>\n      <td>...</td>\n      <td>...</td>\n    </tr>\n    <tr>\n      <th>131dso7</th>\n      <td>DLAH</td>\n      <td>Wallydinger123</td>\n      <td>Happy B Day</td>\n      <td>there are three women posing for a picture in ...</td>\n      <td>ebb4b4a88dc79e2f2f57b10f32bf03c0</td>\n      <td>/r/DLAH/comments/131dso7/happy_b_day/</td>\n      <td>https://i.redd.it/36gurz533jwa1.jpg</td>\n      <td>131dso7.jpg</td>\n      <td>data/image/131dso7.jpg</td>\n      <td>PrettyGirlDiffusion</td>\n      <td>True</td>\n      <td>True</td>\n      <td>False</td>\n      <td>[]</td>\n    </tr>\n    <tr>\n      <th>131eznp</th>\n      <td>DLAH</td>\n      <td>Long_dong111</td>\n      <td>Perfect</td>\n      <td>araffe woman in a white dress sitting on a pur...</td>\n      <td>5c944c6d62b1ae182c5a6a40c64195f4</td>\n      <td>/r/DLAH/comments/131eznp/perfect/</td>\n      <td>https://i.redd.it/dnbbx4zucjwa1.jpg</td>\n      <td>131eznp.jpg</td>\n      <td>data/image/131eznp.jpg</td>\n      <td>PrettyGirlDiffusion</td>\n      <td>True</td>\n      <td>True</td>\n      <td>True</td>\n      <td>[]</td>\n    </tr>\n    <tr>\n      <th>131g3am</th>\n      <td>DLAH</td>\n      <td>ThrownAwayMiles</td>\n      <td>DLAH left or right</td>\n      <td>two women in short dresses posing for a pictur...</td>\n      <td>ab1f8fc33c85f4cfce12c810cf22229e</td>\n      <td>/r/DLAH/comments/131g3am/dlah_left_or_right/</td>\n      <td>https://i.redd.it/zpp70oor3lwa1.jpg</td>\n      <td>131g3am.jpg</td>\n      <td>data/image/131g3am.jpg</td>\n      <td>PrettyGirlDiffusion</td>\n      <td>True</td>\n      <td>True</td>\n      <td>True</td>\n      <td>[]</td>\n    </tr>\n    <tr>\n      <th>131jvcx</th>\n      <td>DLAH</td>\n      <td>robok212</td>\n      <td>Good morning 😍</td>\n      <td>araffe in a pink dress posing on a white wall</td>\n      <td>01f5058855526ef25888cff88065db4c</td>\n      <td>/r/DLAH/comments/131jvcx/good_morning/</td>\n      <td>https://i.redd.it/ozmbfhjv3mwa1.jpg</td>\n      <td>131jvcx.jpg</td>\n      <td>data/image/131jvcx.jpg</td>\n      <td>PrettyGirlDiffusion</td>\n      <td>True</td>\n      <td>True</td>\n      <td>False</td>\n      <td>[]</td>\n    </tr>\n    <tr>\n      <th>131n2by</th>\n      <td>DLAH</td>\n      <td>Dependent_Secret9424</td>\n      <td>Perfection (Sisters)</td>\n      <td>two women in shorts and sandals taking a selfi...</td>\n      <td>b162dd1999dbf9ea3c7adccd34624a46</td>\n      <td>/r/DLAH/comments/131n2by/perfection_sisters/</td>\n      <td>https://i.redd.it/pfg1u0aw1nwa1.jpg</td>\n      <td>131n2by.jpg</td>\n      <td>data/image/131n2by.jpg</td>\n      <td>PrettyGirlDiffusion</td>\n      <td>True</td>\n      <td>True</td>\n      <td>False</td>\n      <td>[]</td>\n    </tr>\n  </tbody>\n</table>\n<p>41505 rows × 14 columns</p>\n</div>"
     },
     "metadata": {},
     "output_type": "display_data"
    },
    {
     "name": "stdout",
     "output_type": "stream",
     "text": [
      "CPU times: total: 297 ms\n",
      "Wall time: 978 ms\n"
     ]
    }
   ],
   "source": [
    "%%time\n",
    "\n",
    "extant_data = pandas.read_parquet(\"data/processed_raw_data.parquet\", engine='pyarrow', filesystem=file_system,\n",
    "\t\t\t\t\t\t\t\t  schema=schema)\n",
    "extant_data.set_index('id', inplace=True)\n",
    "display(extant_data)"
   ],
   "metadata": {
    "collapsed": false,
    "ExecuteTime": {
     "end_time": "2023-05-07T15:49:50.912270Z",
     "start_time": "2023-05-07T15:49:49.918931800Z"
    }
   }
  },
  {
   "cell_type": "code",
   "execution_count": 5,
   "outputs": [
    {
     "data": {
      "text/plain": "'==== CURATED DATA ===='"
     },
     "metadata": {},
     "output_type": "display_data"
    },
    {
     "data": {
      "text/plain": "(36107, 14)"
     },
     "metadata": {},
     "output_type": "display_data"
    },
    {
     "data": {
      "text/plain": "                subreddit              author   \nid                                              \n100rn7k          AmIhotAF        veritynicole  \\\n1013bdt          AmIhotAF         RaulDea9286   \n105mekt          AmIhotAF            lindaniz   \n105qvgl          AmIhotAF         CaitVLove11   \n105rpcj          AmIhotAF     Flashy-Desk1858   \n...                   ...                 ...   \n13a86yn  bathandbodyworks     That_Animal6354   \n13a9xed  bathandbodyworks            hill-top   \n13abmo0  bathandbodyworks            dekudoll   \n13acr41  bathandbodyworks  notalivejustliving   \n13ajo0r  bathandbodyworks       singshopsleep   \n\n                                                   title   \nid                                                         \n100rn7k              hey, hows your new year going (23F)  \\\n1013bdt                                    36F - ITALIAN   \n105mekt   interesting in good forward relationship (f24)   \n105qvgl                        Laughing is my favorite 😆   \n105rpcj         [f22] What do you think when you see me?   \n...                                                  ...   \n13a86yn  Gourmands are my favorite if you couldn't tell.   \n13a9xed                                 April Empties! 🥳   \n13abmo0                February, March, & April Empties!   \n13acr41                               Scent of the night   \n13ajo0r                            All of Today's Offers   \n\n                                                   caption   \nid                                                           \n100rn7k  a woman in a white shirt and black pants is po...  \\\n1013bdt            arafed image of a woman in a bikini top   \n105mekt  a close up of a woman with red hair and a whit...   \n105qvgl  a woman in a blue tank top and shorts is smili...   \n105rpcj    a woman in a blue bikini top and a blue bra top   \n...                                                    ...   \n13a86yn  three different types of body care products ar...   \n13a9xed  bottles of various types of skin care products...   \n13abmo0  a close up of a variety of body care products ...   \n13acr41      candles are sitting on a table next to a cake   \n13ajo0r  a poster for a beauty store with a price of $ ...   \n\n                                     hash   \nid                                          \n100rn7k  4bd00c19fa0ff2ade855e6d364b0760b  \\\n1013bdt  7c0d158cba8654ef1c635cbc5471d597   \n105mekt  ba4a0962cca2266a741e1e1700589c04   \n105qvgl  27bfe82c37314a0bcf02ab72eaf3a9e5   \n105rpcj  329eb42b8267fa1cc2980da8e48bcef1   \n...                                   ...   \n13a86yn  07059e37cc477cf7d9121bcc631f197e   \n13a9xed  7d7dc8a74cafaba5524844909b9319cd   \n13abmo0  d2424a18844842421e1baeca4c491a28   \n13acr41  1a7cc03534fa2e3068398700e8180485   \n13ajo0r  0726d6d9bb3a78e5dda8b4fa21c3d61e   \n\n                                                 permalink   \nid                                                           \n100rn7k  /r/AmIhotAF/comments/100rn7k/hey_hows_your_new...  \\\n1013bdt          /r/AmIhotAF/comments/1013bdt/36f_italian/   \n105mekt  /r/AmIhotAF/comments/105mekt/interesting_in_go...   \n105qvgl  /r/AmIhotAF/comments/105qvgl/laughing_is_my_fa...   \n105rpcj  /r/AmIhotAF/comments/105rpcj/f22_what_do_you_t...   \n...                                                    ...   \n13a86yn  /r/bathandbodyworks/comments/13a86yn/gourmands...   \n13a9xed  /r/bathandbodyworks/comments/13a9xed/april_emp...   \n13abmo0  /r/bathandbodyworks/comments/13abmo0/february_...   \n13acr41  /r/bathandbodyworks/comments/13acr41/scent_of_...   \n13ajo0r  /r/bathandbodyworks/comments/13ajo0r/all_of_to...   \n\n                                original_url   image_name   \nid                                                          \n100rn7k  https://i.redd.it/n7r47s0gkh9a1.jpg  100rn7k.jpg  \\\n1013bdt  https://i.redd.it/bg0wwdlt5k9a1.jpg  1013bdt.jpg   \n105mekt  https://i.redd.it/4avjshsz8naa1.jpg  105mekt.jpg   \n105qvgl  https://i.redd.it/2pulzr0lxmaa1.jpg  105qvgl.jpg   \n105rpcj  https://i.redd.it/rz68pf934naa1.jpg  105rpcj.jpg   \n...                                      ...          ...   \n13a86yn  https://i.redd.it/bvae4tc0pcya1.jpg  13a86yn.jpg   \n13a9xed  https://i.redd.it/n3h2v4qh2dya1.jpg  13a9xed.jpg   \n13abmo0  https://i.redd.it/29cq0ftmfdya1.jpg  13abmo0.jpg   \n13acr41  https://i.redd.it/3p5gzlfsodya1.jpg  13acr41.jpg   \n13ajo0r  https://i.redd.it/8tlent17ffya1.jpg  13ajo0r.jpg   \n\n                           path            model  exists  curated  accept tags  \nid                                                                              \n100rn7k  data/image/100rn7k.jpg    SexyDiffusion    True     True   False   []  \n1013bdt  data/image/1013bdt.jpg    SexyDiffusion    True     True    True   []  \n105mekt  data/image/105mekt.jpg    SexyDiffusion    True     True    True   []  \n105qvgl  data/image/105qvgl.jpg    SexyDiffusion    True     True    True   []  \n105rpcj  data/image/105rpcj.jpg    SexyDiffusion    True     True    True   []  \n...                         ...              ...     ...      ...     ...  ...  \n13a86yn  data/image/13a86yn.jpg  CandleDiffusion    True    False   False   []  \n13a9xed  data/image/13a9xed.jpg  CandleDiffusion    True    False   False   []  \n13abmo0  data/image/13abmo0.jpg  CandleDiffusion    True    False   False   []  \n13acr41  data/image/13acr41.jpg  CandleDiffusion    True    False   False   []  \n13ajo0r  data/image/13ajo0r.jpg  CandleDiffusion    True    False   False   []  \n\n[36107 rows x 14 columns]",
      "text/html": "<div>\n<style scoped>\n    .dataframe tbody tr th:only-of-type {\n        vertical-align: middle;\n    }\n\n    .dataframe tbody tr th {\n        vertical-align: top;\n    }\n\n    .dataframe thead th {\n        text-align: right;\n    }\n</style>\n<table border=\"1\" class=\"dataframe\">\n  <thead>\n    <tr style=\"text-align: right;\">\n      <th></th>\n      <th>subreddit</th>\n      <th>author</th>\n      <th>title</th>\n      <th>caption</th>\n      <th>hash</th>\n      <th>permalink</th>\n      <th>original_url</th>\n      <th>image_name</th>\n      <th>path</th>\n      <th>model</th>\n      <th>exists</th>\n      <th>curated</th>\n      <th>accept</th>\n      <th>tags</th>\n    </tr>\n    <tr>\n      <th>id</th>\n      <th></th>\n      <th></th>\n      <th></th>\n      <th></th>\n      <th></th>\n      <th></th>\n      <th></th>\n      <th></th>\n      <th></th>\n      <th></th>\n      <th></th>\n      <th></th>\n      <th></th>\n      <th></th>\n    </tr>\n  </thead>\n  <tbody>\n    <tr>\n      <th>100rn7k</th>\n      <td>AmIhotAF</td>\n      <td>veritynicole</td>\n      <td>hey, hows your new year going (23F)</td>\n      <td>a woman in a white shirt and black pants is po...</td>\n      <td>4bd00c19fa0ff2ade855e6d364b0760b</td>\n      <td>/r/AmIhotAF/comments/100rn7k/hey_hows_your_new...</td>\n      <td>https://i.redd.it/n7r47s0gkh9a1.jpg</td>\n      <td>100rn7k.jpg</td>\n      <td>data/image/100rn7k.jpg</td>\n      <td>SexyDiffusion</td>\n      <td>True</td>\n      <td>True</td>\n      <td>False</td>\n      <td>[]</td>\n    </tr>\n    <tr>\n      <th>1013bdt</th>\n      <td>AmIhotAF</td>\n      <td>RaulDea9286</td>\n      <td>36F - ITALIAN</td>\n      <td>arafed image of a woman in a bikini top</td>\n      <td>7c0d158cba8654ef1c635cbc5471d597</td>\n      <td>/r/AmIhotAF/comments/1013bdt/36f_italian/</td>\n      <td>https://i.redd.it/bg0wwdlt5k9a1.jpg</td>\n      <td>1013bdt.jpg</td>\n      <td>data/image/1013bdt.jpg</td>\n      <td>SexyDiffusion</td>\n      <td>True</td>\n      <td>True</td>\n      <td>True</td>\n      <td>[]</td>\n    </tr>\n    <tr>\n      <th>105mekt</th>\n      <td>AmIhotAF</td>\n      <td>lindaniz</td>\n      <td>interesting in good forward relationship (f24)</td>\n      <td>a close up of a woman with red hair and a whit...</td>\n      <td>ba4a0962cca2266a741e1e1700589c04</td>\n      <td>/r/AmIhotAF/comments/105mekt/interesting_in_go...</td>\n      <td>https://i.redd.it/4avjshsz8naa1.jpg</td>\n      <td>105mekt.jpg</td>\n      <td>data/image/105mekt.jpg</td>\n      <td>SexyDiffusion</td>\n      <td>True</td>\n      <td>True</td>\n      <td>True</td>\n      <td>[]</td>\n    </tr>\n    <tr>\n      <th>105qvgl</th>\n      <td>AmIhotAF</td>\n      <td>CaitVLove11</td>\n      <td>Laughing is my favorite 😆</td>\n      <td>a woman in a blue tank top and shorts is smili...</td>\n      <td>27bfe82c37314a0bcf02ab72eaf3a9e5</td>\n      <td>/r/AmIhotAF/comments/105qvgl/laughing_is_my_fa...</td>\n      <td>https://i.redd.it/2pulzr0lxmaa1.jpg</td>\n      <td>105qvgl.jpg</td>\n      <td>data/image/105qvgl.jpg</td>\n      <td>SexyDiffusion</td>\n      <td>True</td>\n      <td>True</td>\n      <td>True</td>\n      <td>[]</td>\n    </tr>\n    <tr>\n      <th>105rpcj</th>\n      <td>AmIhotAF</td>\n      <td>Flashy-Desk1858</td>\n      <td>[f22] What do you think when you see me?</td>\n      <td>a woman in a blue bikini top and a blue bra top</td>\n      <td>329eb42b8267fa1cc2980da8e48bcef1</td>\n      <td>/r/AmIhotAF/comments/105rpcj/f22_what_do_you_t...</td>\n      <td>https://i.redd.it/rz68pf934naa1.jpg</td>\n      <td>105rpcj.jpg</td>\n      <td>data/image/105rpcj.jpg</td>\n      <td>SexyDiffusion</td>\n      <td>True</td>\n      <td>True</td>\n      <td>True</td>\n      <td>[]</td>\n    </tr>\n    <tr>\n      <th>...</th>\n      <td>...</td>\n      <td>...</td>\n      <td>...</td>\n      <td>...</td>\n      <td>...</td>\n      <td>...</td>\n      <td>...</td>\n      <td>...</td>\n      <td>...</td>\n      <td>...</td>\n      <td>...</td>\n      <td>...</td>\n      <td>...</td>\n      <td>...</td>\n    </tr>\n    <tr>\n      <th>13a86yn</th>\n      <td>bathandbodyworks</td>\n      <td>That_Animal6354</td>\n      <td>Gourmands are my favorite if you couldn't tell.</td>\n      <td>three different types of body care products ar...</td>\n      <td>07059e37cc477cf7d9121bcc631f197e</td>\n      <td>/r/bathandbodyworks/comments/13a86yn/gourmands...</td>\n      <td>https://i.redd.it/bvae4tc0pcya1.jpg</td>\n      <td>13a86yn.jpg</td>\n      <td>data/image/13a86yn.jpg</td>\n      <td>CandleDiffusion</td>\n      <td>True</td>\n      <td>False</td>\n      <td>False</td>\n      <td>[]</td>\n    </tr>\n    <tr>\n      <th>13a9xed</th>\n      <td>bathandbodyworks</td>\n      <td>hill-top</td>\n      <td>April Empties! 🥳</td>\n      <td>bottles of various types of skin care products...</td>\n      <td>7d7dc8a74cafaba5524844909b9319cd</td>\n      <td>/r/bathandbodyworks/comments/13a9xed/april_emp...</td>\n      <td>https://i.redd.it/n3h2v4qh2dya1.jpg</td>\n      <td>13a9xed.jpg</td>\n      <td>data/image/13a9xed.jpg</td>\n      <td>CandleDiffusion</td>\n      <td>True</td>\n      <td>False</td>\n      <td>False</td>\n      <td>[]</td>\n    </tr>\n    <tr>\n      <th>13abmo0</th>\n      <td>bathandbodyworks</td>\n      <td>dekudoll</td>\n      <td>February, March, &amp; April Empties!</td>\n      <td>a close up of a variety of body care products ...</td>\n      <td>d2424a18844842421e1baeca4c491a28</td>\n      <td>/r/bathandbodyworks/comments/13abmo0/february_...</td>\n      <td>https://i.redd.it/29cq0ftmfdya1.jpg</td>\n      <td>13abmo0.jpg</td>\n      <td>data/image/13abmo0.jpg</td>\n      <td>CandleDiffusion</td>\n      <td>True</td>\n      <td>False</td>\n      <td>False</td>\n      <td>[]</td>\n    </tr>\n    <tr>\n      <th>13acr41</th>\n      <td>bathandbodyworks</td>\n      <td>notalivejustliving</td>\n      <td>Scent of the night</td>\n      <td>candles are sitting on a table next to a cake</td>\n      <td>1a7cc03534fa2e3068398700e8180485</td>\n      <td>/r/bathandbodyworks/comments/13acr41/scent_of_...</td>\n      <td>https://i.redd.it/3p5gzlfsodya1.jpg</td>\n      <td>13acr41.jpg</td>\n      <td>data/image/13acr41.jpg</td>\n      <td>CandleDiffusion</td>\n      <td>True</td>\n      <td>False</td>\n      <td>False</td>\n      <td>[]</td>\n    </tr>\n    <tr>\n      <th>13ajo0r</th>\n      <td>bathandbodyworks</td>\n      <td>singshopsleep</td>\n      <td>All of Today's Offers</td>\n      <td>a poster for a beauty store with a price of $ ...</td>\n      <td>0726d6d9bb3a78e5dda8b4fa21c3d61e</td>\n      <td>/r/bathandbodyworks/comments/13ajo0r/all_of_to...</td>\n      <td>https://i.redd.it/8tlent17ffya1.jpg</td>\n      <td>13ajo0r.jpg</td>\n      <td>data/image/13ajo0r.jpg</td>\n      <td>CandleDiffusion</td>\n      <td>True</td>\n      <td>False</td>\n      <td>False</td>\n      <td>[]</td>\n    </tr>\n  </tbody>\n</table>\n<p>36107 rows × 14 columns</p>\n</div>"
     },
     "metadata": {},
     "output_type": "display_data"
    },
    {
     "name": "stdout",
     "output_type": "stream",
     "text": [
      "CPU times: total: 312 ms\n",
      "Wall time: 664 ms\n"
     ]
    }
   ],
   "source": [
    "%%time\n",
    "\n",
    "curated_data = pandas.read_parquet(\"data/parquet/back.parquet\", engine='pyarrow', filesystem=file_system, schema=schema)\n",
    "curated_data.set_index('id', inplace=True)\n",
    "\n",
    "display(\"==== CURATED DATA ====\")\n",
    "display(curated_data.shape)\n",
    "display(curated_data)"
   ],
   "metadata": {
    "collapsed": false,
    "ExecuteTime": {
     "end_time": "2023-05-07T15:49:51.640161900Z",
     "start_time": "2023-05-07T15:49:50.912270Z"
    }
   }
  },
  {
   "cell_type": "code",
   "execution_count": 6,
   "outputs": [
    {
     "data": {
      "text/plain": "'==== UPDATED EXTANT DATA ===='"
     },
     "metadata": {},
     "output_type": "display_data"
    },
    {
     "data": {
      "text/plain": "(41505, 15)"
     },
     "metadata": {},
     "output_type": "display_data"
    },
    {
     "data": {
      "text/plain": "            id subreddit                author   \n0      100rn7k  AmIhotAF          veritynicole  \\\n1      1013bdt  AmIhotAF           RaulDea9286   \n2      105mekt  AmIhotAF              lindaniz   \n3      105qvgl  AmIhotAF           CaitVLove11   \n4      105rpcj  AmIhotAF       Flashy-Desk1858   \n...        ...       ...                   ...   \n41500  131dso7      DLAH        Wallydinger123   \n41501  131eznp      DLAH          Long_dong111   \n41502  131g3am      DLAH       ThrownAwayMiles   \n41503  131jvcx      DLAH              robok212   \n41504  131n2by      DLAH  Dependent_Secret9424   \n\n                                                title   \n0                 hey, hows your new year going (23F)  \\\n1                                       36F - ITALIAN   \n2      interesting in good forward relationship (f24)   \n3                           Laughing is my favorite 😆   \n4            [f22] What do you think when you see me?   \n...                                               ...   \n41500                                     Happy B Day   \n41501                                         Perfect   \n41502                              DLAH left or right   \n41503                                  Good morning 😍   \n41504                            Perfection (Sisters)   \n\n                                                 caption   \n0      a woman in a white shirt and black pants is po...  \\\n1                arafed image of a woman in a bikini top   \n2      a close up of a woman with red hair and a whit...   \n3      a woman in a blue tank top and shorts is smili...   \n4        a woman in a blue bikini top and a blue bra top   \n...                                                  ...   \n41500  there are three women posing for a picture in ...   \n41501  araffe woman in a white dress sitting on a pur...   \n41502  two women in short dresses posing for a pictur...   \n41503      araffe in a pink dress posing on a white wall   \n41504  two women in shorts and sandals taking a selfi...   \n\n                                   hash   \n0      4bd00c19fa0ff2ade855e6d364b0760b  \\\n1      7c0d158cba8654ef1c635cbc5471d597   \n2      ba4a0962cca2266a741e1e1700589c04   \n3      27bfe82c37314a0bcf02ab72eaf3a9e5   \n4      329eb42b8267fa1cc2980da8e48bcef1   \n...                                 ...   \n41500  ebb4b4a88dc79e2f2f57b10f32bf03c0   \n41501  5c944c6d62b1ae182c5a6a40c64195f4   \n41502  ab1f8fc33c85f4cfce12c810cf22229e   \n41503  01f5058855526ef25888cff88065db4c   \n41504  b162dd1999dbf9ea3c7adccd34624a46   \n\n                                               permalink   \n0      /r/AmIhotAF/comments/100rn7k/hey_hows_your_new...  \\\n1              /r/AmIhotAF/comments/1013bdt/36f_italian/   \n2      /r/AmIhotAF/comments/105mekt/interesting_in_go...   \n3      /r/AmIhotAF/comments/105qvgl/laughing_is_my_fa...   \n4      /r/AmIhotAF/comments/105rpcj/f22_what_do_you_t...   \n...                                                  ...   \n41500              /r/DLAH/comments/131dso7/happy_b_day/   \n41501                  /r/DLAH/comments/131eznp/perfect/   \n41502       /r/DLAH/comments/131g3am/dlah_left_or_right/   \n41503             /r/DLAH/comments/131jvcx/good_morning/   \n41504       /r/DLAH/comments/131n2by/perfection_sisters/   \n\n                              original_url   image_name   \n0      https://i.redd.it/n7r47s0gkh9a1.jpg  100rn7k.jpg  \\\n1      https://i.redd.it/bg0wwdlt5k9a1.jpg  1013bdt.jpg   \n2      https://i.redd.it/4avjshsz8naa1.jpg  105mekt.jpg   \n3      https://i.redd.it/2pulzr0lxmaa1.jpg  105qvgl.jpg   \n4      https://i.redd.it/rz68pf934naa1.jpg  105rpcj.jpg   \n...                                    ...          ...   \n41500  https://i.redd.it/36gurz533jwa1.jpg  131dso7.jpg   \n41501  https://i.redd.it/dnbbx4zucjwa1.jpg  131eznp.jpg   \n41502  https://i.redd.it/zpp70oor3lwa1.jpg  131g3am.jpg   \n41503  https://i.redd.it/ozmbfhjv3mwa1.jpg  131jvcx.jpg   \n41504  https://i.redd.it/pfg1u0aw1nwa1.jpg  131n2by.jpg   \n\n                         path                model exists curated accept tags  \n0      data/image/100rn7k.jpg        SexyDiffusion   True    True  False   []  \n1      data/image/1013bdt.jpg        SexyDiffusion   True    True   True   []  \n2      data/image/105mekt.jpg        SexyDiffusion   True    True   True   []  \n3      data/image/105qvgl.jpg        SexyDiffusion   True    True   True   []  \n4      data/image/105rpcj.jpg        SexyDiffusion   True    True   True   []  \n...                       ...                  ...    ...     ...    ...  ...  \n41500  data/image/131dso7.jpg  PrettyGirlDiffusion   True    True  False   []  \n41501  data/image/131eznp.jpg  PrettyGirlDiffusion   True    True   True   []  \n41502  data/image/131g3am.jpg  PrettyGirlDiffusion   True    True   True   []  \n41503  data/image/131jvcx.jpg  PrettyGirlDiffusion   True    True  False   []  \n41504  data/image/131n2by.jpg  PrettyGirlDiffusion   True    True  False   []  \n\n[41505 rows x 15 columns]",
      "text/html": "<div>\n<style scoped>\n    .dataframe tbody tr th:only-of-type {\n        vertical-align: middle;\n    }\n\n    .dataframe tbody tr th {\n        vertical-align: top;\n    }\n\n    .dataframe thead th {\n        text-align: right;\n    }\n</style>\n<table border=\"1\" class=\"dataframe\">\n  <thead>\n    <tr style=\"text-align: right;\">\n      <th></th>\n      <th>id</th>\n      <th>subreddit</th>\n      <th>author</th>\n      <th>title</th>\n      <th>caption</th>\n      <th>hash</th>\n      <th>permalink</th>\n      <th>original_url</th>\n      <th>image_name</th>\n      <th>path</th>\n      <th>model</th>\n      <th>exists</th>\n      <th>curated</th>\n      <th>accept</th>\n      <th>tags</th>\n    </tr>\n  </thead>\n  <tbody>\n    <tr>\n      <th>0</th>\n      <td>100rn7k</td>\n      <td>AmIhotAF</td>\n      <td>veritynicole</td>\n      <td>hey, hows your new year going (23F)</td>\n      <td>a woman in a white shirt and black pants is po...</td>\n      <td>4bd00c19fa0ff2ade855e6d364b0760b</td>\n      <td>/r/AmIhotAF/comments/100rn7k/hey_hows_your_new...</td>\n      <td>https://i.redd.it/n7r47s0gkh9a1.jpg</td>\n      <td>100rn7k.jpg</td>\n      <td>data/image/100rn7k.jpg</td>\n      <td>SexyDiffusion</td>\n      <td>True</td>\n      <td>True</td>\n      <td>False</td>\n      <td>[]</td>\n    </tr>\n    <tr>\n      <th>1</th>\n      <td>1013bdt</td>\n      <td>AmIhotAF</td>\n      <td>RaulDea9286</td>\n      <td>36F - ITALIAN</td>\n      <td>arafed image of a woman in a bikini top</td>\n      <td>7c0d158cba8654ef1c635cbc5471d597</td>\n      <td>/r/AmIhotAF/comments/1013bdt/36f_italian/</td>\n      <td>https://i.redd.it/bg0wwdlt5k9a1.jpg</td>\n      <td>1013bdt.jpg</td>\n      <td>data/image/1013bdt.jpg</td>\n      <td>SexyDiffusion</td>\n      <td>True</td>\n      <td>True</td>\n      <td>True</td>\n      <td>[]</td>\n    </tr>\n    <tr>\n      <th>2</th>\n      <td>105mekt</td>\n      <td>AmIhotAF</td>\n      <td>lindaniz</td>\n      <td>interesting in good forward relationship (f24)</td>\n      <td>a close up of a woman with red hair and a whit...</td>\n      <td>ba4a0962cca2266a741e1e1700589c04</td>\n      <td>/r/AmIhotAF/comments/105mekt/interesting_in_go...</td>\n      <td>https://i.redd.it/4avjshsz8naa1.jpg</td>\n      <td>105mekt.jpg</td>\n      <td>data/image/105mekt.jpg</td>\n      <td>SexyDiffusion</td>\n      <td>True</td>\n      <td>True</td>\n      <td>True</td>\n      <td>[]</td>\n    </tr>\n    <tr>\n      <th>3</th>\n      <td>105qvgl</td>\n      <td>AmIhotAF</td>\n      <td>CaitVLove11</td>\n      <td>Laughing is my favorite 😆</td>\n      <td>a woman in a blue tank top and shorts is smili...</td>\n      <td>27bfe82c37314a0bcf02ab72eaf3a9e5</td>\n      <td>/r/AmIhotAF/comments/105qvgl/laughing_is_my_fa...</td>\n      <td>https://i.redd.it/2pulzr0lxmaa1.jpg</td>\n      <td>105qvgl.jpg</td>\n      <td>data/image/105qvgl.jpg</td>\n      <td>SexyDiffusion</td>\n      <td>True</td>\n      <td>True</td>\n      <td>True</td>\n      <td>[]</td>\n    </tr>\n    <tr>\n      <th>4</th>\n      <td>105rpcj</td>\n      <td>AmIhotAF</td>\n      <td>Flashy-Desk1858</td>\n      <td>[f22] What do you think when you see me?</td>\n      <td>a woman in a blue bikini top and a blue bra top</td>\n      <td>329eb42b8267fa1cc2980da8e48bcef1</td>\n      <td>/r/AmIhotAF/comments/105rpcj/f22_what_do_you_t...</td>\n      <td>https://i.redd.it/rz68pf934naa1.jpg</td>\n      <td>105rpcj.jpg</td>\n      <td>data/image/105rpcj.jpg</td>\n      <td>SexyDiffusion</td>\n      <td>True</td>\n      <td>True</td>\n      <td>True</td>\n      <td>[]</td>\n    </tr>\n    <tr>\n      <th>...</th>\n      <td>...</td>\n      <td>...</td>\n      <td>...</td>\n      <td>...</td>\n      <td>...</td>\n      <td>...</td>\n      <td>...</td>\n      <td>...</td>\n      <td>...</td>\n      <td>...</td>\n      <td>...</td>\n      <td>...</td>\n      <td>...</td>\n      <td>...</td>\n      <td>...</td>\n    </tr>\n    <tr>\n      <th>41500</th>\n      <td>131dso7</td>\n      <td>DLAH</td>\n      <td>Wallydinger123</td>\n      <td>Happy B Day</td>\n      <td>there are three women posing for a picture in ...</td>\n      <td>ebb4b4a88dc79e2f2f57b10f32bf03c0</td>\n      <td>/r/DLAH/comments/131dso7/happy_b_day/</td>\n      <td>https://i.redd.it/36gurz533jwa1.jpg</td>\n      <td>131dso7.jpg</td>\n      <td>data/image/131dso7.jpg</td>\n      <td>PrettyGirlDiffusion</td>\n      <td>True</td>\n      <td>True</td>\n      <td>False</td>\n      <td>[]</td>\n    </tr>\n    <tr>\n      <th>41501</th>\n      <td>131eznp</td>\n      <td>DLAH</td>\n      <td>Long_dong111</td>\n      <td>Perfect</td>\n      <td>araffe woman in a white dress sitting on a pur...</td>\n      <td>5c944c6d62b1ae182c5a6a40c64195f4</td>\n      <td>/r/DLAH/comments/131eznp/perfect/</td>\n      <td>https://i.redd.it/dnbbx4zucjwa1.jpg</td>\n      <td>131eznp.jpg</td>\n      <td>data/image/131eznp.jpg</td>\n      <td>PrettyGirlDiffusion</td>\n      <td>True</td>\n      <td>True</td>\n      <td>True</td>\n      <td>[]</td>\n    </tr>\n    <tr>\n      <th>41502</th>\n      <td>131g3am</td>\n      <td>DLAH</td>\n      <td>ThrownAwayMiles</td>\n      <td>DLAH left or right</td>\n      <td>two women in short dresses posing for a pictur...</td>\n      <td>ab1f8fc33c85f4cfce12c810cf22229e</td>\n      <td>/r/DLAH/comments/131g3am/dlah_left_or_right/</td>\n      <td>https://i.redd.it/zpp70oor3lwa1.jpg</td>\n      <td>131g3am.jpg</td>\n      <td>data/image/131g3am.jpg</td>\n      <td>PrettyGirlDiffusion</td>\n      <td>True</td>\n      <td>True</td>\n      <td>True</td>\n      <td>[]</td>\n    </tr>\n    <tr>\n      <th>41503</th>\n      <td>131jvcx</td>\n      <td>DLAH</td>\n      <td>robok212</td>\n      <td>Good morning 😍</td>\n      <td>araffe in a pink dress posing on a white wall</td>\n      <td>01f5058855526ef25888cff88065db4c</td>\n      <td>/r/DLAH/comments/131jvcx/good_morning/</td>\n      <td>https://i.redd.it/ozmbfhjv3mwa1.jpg</td>\n      <td>131jvcx.jpg</td>\n      <td>data/image/131jvcx.jpg</td>\n      <td>PrettyGirlDiffusion</td>\n      <td>True</td>\n      <td>True</td>\n      <td>False</td>\n      <td>[]</td>\n    </tr>\n    <tr>\n      <th>41504</th>\n      <td>131n2by</td>\n      <td>DLAH</td>\n      <td>Dependent_Secret9424</td>\n      <td>Perfection (Sisters)</td>\n      <td>two women in shorts and sandals taking a selfi...</td>\n      <td>b162dd1999dbf9ea3c7adccd34624a46</td>\n      <td>/r/DLAH/comments/131n2by/perfection_sisters/</td>\n      <td>https://i.redd.it/pfg1u0aw1nwa1.jpg</td>\n      <td>131n2by.jpg</td>\n      <td>data/image/131n2by.jpg</td>\n      <td>PrettyGirlDiffusion</td>\n      <td>True</td>\n      <td>True</td>\n      <td>False</td>\n      <td>[]</td>\n    </tr>\n  </tbody>\n</table>\n<p>41505 rows × 15 columns</p>\n</div>"
     },
     "metadata": {},
     "output_type": "display_data"
    },
    {
     "name": "stdout",
     "output_type": "stream",
     "text": [
      "CPU times: total: 297 ms\n",
      "Wall time: 3.17 s\n"
     ]
    }
   ],
   "source": [
    "%%time\n",
    "\n",
    "extant_data.update(curated_data)\n",
    "updated_extant_data = extant_data.reset_index()\n",
    "\n",
    "display(\"==== UPDATED EXTANT DATA ====\")\n",
    "display(updated_extant_data.shape)\n",
    "display(updated_extant_data)\n",
    "updated_extant_data.to_parquet(\"data/processed_raw_data.parquet\", engine='pyarrow', filesystem=file_system, schema=schema)"
   ],
   "metadata": {
    "collapsed": false,
    "ExecuteTime": {
     "end_time": "2023-05-07T15:49:54.775492Z",
     "start_time": "2023-05-07T15:49:51.608076700Z"
    }
   }
  },
  {
   "cell_type": "code",
   "execution_count": 7,
   "outputs": [
    {
     "name": "stdout",
     "output_type": "stream",
     "text": [
      "CPU times: total: 0 ns\n",
      "Wall time: 0 ns\n"
     ]
    }
   ],
   "source": [
    "%%time\n",
    "\n",
    "reddit: praw.Reddit = praw.Reddit(client_id='5hVavL0PIRyM_1JSvqT6UQ', client_secret='BjD2kS3WNLnJc59RKY-JJUuc_Z9-JA', user_agent='script:%(bot_name)s:v%(bot_version)s (by /u/%(bot_author)s)')"
   ],
   "metadata": {
    "collapsed": false,
    "ExecuteTime": {
     "end_time": "2023-05-07T15:49:54.791116900Z",
     "start_time": "2023-05-07T15:49:54.775492Z"
    }
   }
  },
  {
   "cell_type": "code",
   "execution_count": 8,
   "outputs": [
    {
     "name": "stderr",
     "output_type": "stream",
     "text": [
      "Creating Temp Dir For Subs...: 100%|██████████| 19/19 [00:00<?, ?it/s]\n"
     ]
    }
   ],
   "source": [
    "for sub in tqdm(subs, total=len(subs), desc=\"Creating Temp Dir For Subs...\"):\n",
    "\ttemp_dir_path_ = f\"temp/{sub}\"\n",
    "\tif not os.path.exists(temp_dir_path_):\n",
    "\t\tos.makedirs(temp_dir_path_)\n",
    "\tos.makedirs(temp_dir_path_, exist_ok=True)"
   ],
   "metadata": {
    "collapsed": false,
    "ExecuteTime": {
     "end_time": "2023-05-07T15:49:54.853586600Z",
     "start_time": "2023-05-07T15:49:54.791116900Z"
    }
   }
  },
  {
   "cell_type": "code",
   "execution_count": 9,
   "outputs": [
    {
     "name": "stderr",
     "output_type": "stream",
     "text": [
      "week:   0%|          | 0/19 [00:00<?, ?it/s]\n",
      "Posts - SFWRedheads - week:   0%|          | 0/100 [00:00<?, ?it/s]\u001B[A\n",
      "Posts - SFWRedheads - week: 100%|██████████| 100/100 [00:00<00:00, 533.31it/s][A\n",
      "week:   5%|▌         | 1/19 [00:01<00:27,  1.51s/it]\n",
      "Posts - sfwpetite - week: 100%|██████████| 30/30 [00:00<00:00, 384.10it/s]\n",
      "week:  11%|█         | 2/19 [00:02<00:16,  1.05it/s]\n",
      "Posts - SFWNextDoorGirls - week:   0%|          | 0/100 [00:00<?, ?it/s]\u001B[A\n",
      "Posts - SFWNextDoorGirls - week: 100%|██████████| 100/100 [00:00<00:00, 426.65it/s][A\n",
      "week:  16%|█▌        | 3/19 [00:03<00:18,  1.16s/it]\n",
      "Posts - trippinthroughtime - week: 100%|██████████| 33/33 [00:00<00:00, 658.92it/s]\n",
      "week:  21%|██        | 4/19 [00:03<00:12,  1.20it/s]\n",
      "Posts - fatsquirrelhate - week:   0%|          | 0/100 [00:00<?, ?it/s]\u001B[A\n",
      "Posts - fatsquirrelhate - week:  51%|█████     | 51/100 [00:00<00:00, 453.54it/s]\u001B[A\n",
      "Posts - fatsquirrelhate - week: 100%|██████████| 100/100 [00:00<00:00, 445.89it/s][A\n",
      "week:  26%|██▋       | 5/19 [00:05<00:13,  1.04it/s]\n",
      "Posts - itookapicture - week:   0%|          | 0/100 [00:00<?, ?it/s]\u001B[A\n",
      "Posts - itookapicture - week: 100%|██████████| 100/100 [00:00<00:00, 783.32it/s][A\n",
      "week:  32%|███▏      | 6/19 [00:06<00:13,  1.06s/it]\n",
      "Posts - realasians - week:   0%|          | 0/100 [00:00<?, ?it/s]\u001B[A\n",
      "Posts - realasians - week:  42%|████▏     | 42/100 [00:00<00:00, 384.00it/s]\u001B[A\n",
      "Posts - realasians - week: 100%|██████████| 100/100 [00:00<00:00, 355.50it/s][A\n",
      "week:  37%|███▋      | 7/19 [00:08<00:16,  1.35s/it]\n",
      "Posts - KoreanHotties - week:   0%|          | 0/100 [00:00<?, ?it/s]\u001B[A\n",
      "Posts - KoreanHotties - week:  15%|█▌        | 15/100 [00:00<00:00, 137.14it/s]\u001B[A\n",
      "Posts - KoreanHotties - week:  30%|███       | 30/100 [00:00<00:00, 135.66it/s]\u001B[A\n",
      "Posts - KoreanHotties - week:  50%|█████     | 50/100 [00:00<00:00, 160.56it/s]\u001B[A\n",
      "Posts - KoreanHotties - week:  69%|██████▉   | 69/100 [00:00<00:00, 171.55it/s]\u001B[A\n",
      "Posts - KoreanHotties - week: 100%|██████████| 100/100 [00:00<00:00, 171.17it/s][A\n",
      "week:  42%|████▏     | 8/19 [00:10<00:19,  1.81s/it]\n",
      "Posts - prettyasiangirls - week:   0%|          | 0/100 [00:00<?, ?it/s]\u001B[A\n",
      "Posts - prettyasiangirls - week:  29%|██▉       | 29/100 [00:00<00:00, 270.55it/s]\u001B[A\n",
      "Posts - prettyasiangirls - week: 100%|██████████| 100/100 [00:00<00:00, 324.84it/s][A\n",
      "week:  47%|████▋     | 9/19 [00:13<00:18,  1.89s/it]\n",
      "Posts - AsianOfficeLady - week: 100%|██████████| 12/12 [00:00<00:00, 768.15it/s]\n",
      "week:  53%|█████▎    | 10/19 [00:13<00:12,  1.38s/it]\n",
      "Posts - mildlypenis - week:   0%|          | 0/100 [00:00<?, ?it/s]\u001B[A\n",
      "Posts - mildlypenis - week:  50%|█████     | 50/100 [00:00<00:00, 484.09it/s]\u001B[A\n",
      "Posts - mildlypenis - week: 100%|██████████| 100/100 [00:00<00:00, 470.23it/s][A\n",
      "week:  58%|█████▊    | 11/19 [00:14<00:11,  1.48s/it]\n",
      "Posts - AsianInvasion - week: 100%|██████████| 15/15 [00:00<00:00, 960.09it/s]\n",
      "week:  63%|██████▎   | 12/19 [00:15<00:07,  1.11s/it]\n",
      "Posts - sexygirls - week:   0%|          | 0/100 [00:00<?, ?it/s]\u001B[A\n",
      "Posts - sexygirls - week: 100%|██████████| 100/100 [00:00<00:00, 530.74it/s][A\n",
      "week:  68%|██████▊   | 13/19 [00:16<00:06,  1.07s/it]\n",
      "Posts - PrettyGirls - week:   0%|          | 0/95 [00:00<?, ?it/s]\u001B[A\n",
      "Posts - PrettyGirls - week: 100%|██████████| 95/95 [00:00<00:00, 673.82it/s]\u001B[A\n",
      "week:  74%|███████▎  | 14/19 [00:17<00:04,  1.01it/s]\n",
      "Posts - gentlemanboners - week:   0%|          | 0/100 [00:00<?, ?it/s]\u001B[A\n",
      "Posts - gentlemanboners - week: 100%|██████████| 100/100 [00:00<00:00, 799.94it/s][A\n",
      "week:  79%|███████▉  | 15/19 [00:18<00:04,  1.02s/it]\n",
      "Posts - hotofficegirls - week: 100%|██████████| 12/12 [00:00<00:00, 373.23it/s]\n",
      "week:  84%|████████▍ | 16/19 [00:18<00:02,  1.10it/s]\n",
      "Posts - tightdresses - week:   0%|          | 0/100 [00:00<?, ?it/s]\u001B[A\n",
      "Posts - tightdresses - week:  27%|██▋       | 27/100 [00:00<00:00, 246.79it/s]\u001B[A\n",
      "Posts - tightdresses - week:  64%|██████▍   | 64/100 [00:00<00:00, 300.65it/s]\u001B[A\n",
      "Posts - tightdresses - week: 100%|██████████| 100/100 [00:00<00:00, 303.87it/s][A\n",
      "week:  89%|████████▉ | 17/19 [00:20<00:02,  1.12s/it]\n",
      "Posts - DLAH - week:   0%|          | 0/100 [00:00<?, ?it/s]\u001B[A\n",
      "Posts - DLAH - week:  27%|██▋       | 27/100 [00:00<00:00, 246.77it/s]\u001B[A\n",
      "Posts - DLAH - week:  58%|█████▊    | 58/100 [00:00<00:00, 268.33it/s]\u001B[A\n",
      "Posts - DLAH - week: 100%|██████████| 100/100 [00:00<00:00, 290.90it/s][A\n",
      "week:  95%|█████████▍| 18/19 [00:22<00:01,  1.34s/it]\n",
      "Posts - bathandbodyworks - week:   0%|          | 0/100 [00:00<?, ?it/s]\u001B[A\n",
      "Posts - bathandbodyworks - week:  19%|█▉        | 19/100 [00:00<00:00, 179.86it/s]\u001B[A\n",
      "Posts - bathandbodyworks - week:  39%|███▉      | 39/100 [00:00<00:00, 175.06it/s]\u001B[A\n",
      "Posts - bathandbodyworks - week:  58%|█████▊    | 58/100 [00:00<00:00, 175.28it/s]\u001B[A\n",
      "Posts - bathandbodyworks - week:  77%|███████▋  | 77/100 [00:00<00:00, 174.67it/s]\u001B[A\n",
      "Posts - bathandbodyworks - week: 100%|██████████| 100/100 [00:00<00:00, 167.85it/s][A\n",
      "week: 100%|██████████| 19/19 [00:24<00:00,  1.27s/it]\n",
      "day:   0%|          | 0/19 [00:00<?, ?it/s]\n",
      "Posts - SFWRedheads - day:   0%|          | 0/46 [00:00<?, ?it/s]\u001B[A\n",
      "Posts - SFWRedheads - day:  46%|████▌     | 21/46 [00:00<00:00, 195.03it/s]\u001B[A\n",
      "Posts - SFWRedheads - day: 100%|██████████| 46/46 [00:00<00:00, 195.66it/s]\u001B[A\n",
      "day:   5%|▌         | 1/19 [00:00<00:12,  1.44it/s]\n",
      "Posts - sfwpetite - day: 100%|██████████| 4/4 [00:00<00:00, 255.98it/s]\n",
      "day:  11%|█         | 2/19 [00:00<00:06,  2.71it/s]\n",
      "Posts - SFWNextDoorGirls - day:   0%|          | 0/85 [00:00<?, ?it/s]\u001B[A\n",
      "Posts - SFWNextDoorGirls - day:  25%|██▍       | 21/85 [00:00<00:00, 191.99it/s]\u001B[A\n",
      "Posts - SFWNextDoorGirls - day:  48%|████▊     | 41/85 [00:00<00:00, 185.40it/s]\u001B[A\n",
      "Posts - SFWNextDoorGirls - day:  72%|███████▏  | 61/85 [00:00<00:00, 180.62it/s]\u001B[A\n",
      "Posts - SFWNextDoorGirls - day: 100%|██████████| 85/85 [00:00<00:00, 184.48it/s]\u001B[A\n",
      "day:  16%|█▌        | 3/19 [00:02<00:14,  1.07it/s]\n",
      "Posts - trippinthroughtime - day: 100%|██████████| 3/3 [00:00<00:00, 187.26it/s]\n",
      "day:  21%|██        | 4/19 [00:02<00:09,  1.65it/s]\n",
      "Posts - fatsquirrelhate - day: 100%|██████████| 9/9 [00:00<00:00, 211.48it/s]\n",
      "day:  26%|██▋       | 5/19 [00:02<00:06,  2.19it/s]\n",
      "Posts - itookapicture - day:   0%|          | 0/100 [00:00<?, ?it/s]\u001B[A\n",
      "Posts - itookapicture - day:  26%|██▌       | 26/100 [00:00<00:00, 233.40it/s]\u001B[A\n",
      "Posts - itookapicture - day:  50%|█████     | 50/100 [00:00<00:00, 225.24it/s]\u001B[A\n",
      "Posts - itookapicture - day:  73%|███████▎  | 73/100 [00:00<00:00, 205.14it/s]\u001B[A\n",
      "Posts - itookapicture - day: 100%|██████████| 100/100 [00:00<00:00, 199.21it/s][A\n",
      "day:  32%|███▏      | 6/19 [00:04<00:10,  1.29it/s]\n",
      "Posts - realasians - day:   0%|          | 0/45 [00:00<?, ?it/s]\u001B[A\n",
      "Posts - realasians - day:  47%|████▋     | 21/45 [00:00<00:00, 192.00it/s]\u001B[A\n",
      "Posts - realasians - day: 100%|██████████| 45/45 [00:00<00:00, 191.88it/s]\u001B[A\n",
      "day:  37%|███▋      | 7/19 [00:05<00:09,  1.21it/s]\n",
      "Posts - KoreanHotties - day:   0%|          | 0/32 [00:00<?, ?it/s]\u001B[A\n",
      "Posts - KoreanHotties - day: 100%|██████████| 32/32 [00:00<00:00, 181.47it/s]\u001B[A\n",
      "day:  42%|████▏     | 8/19 [00:05<00:08,  1.24it/s]\n",
      "Posts - prettyasiangirls - day:   0%|          | 0/34 [00:00<?, ?it/s]\u001B[A\n",
      "Posts - prettyasiangirls - day: 100%|██████████| 34/34 [00:00<00:00, 215.34it/s]\u001B[A\n",
      "day:  47%|████▋     | 9/19 [00:06<00:08,  1.24it/s]\n",
      "Posts - AsianOfficeLady - day: 100%|██████████| 2/2 [00:00<00:00, 128.20it/s]\n",
      "day:  53%|█████▎    | 10/19 [00:06<00:05,  1.68it/s]\n",
      "Posts - mildlypenis - day:   0%|          | 0/41 [00:00<?, ?it/s]\u001B[A\n",
      "Posts - mildlypenis - day:  46%|████▋     | 19/41 [00:00<00:00, 180.96it/s]\u001B[A\n",
      "Posts - mildlypenis - day: 100%|██████████| 41/41 [00:00<00:00, 189.78it/s]\u001B[A\n",
      "day:  58%|█████▊    | 11/19 [00:07<00:05,  1.38it/s]\n",
      "Posts - AsianInvasion - day: 100%|██████████| 2/2 [00:00<?, ?it/s]\u001B[A\n",
      "\n",
      "Posts - sexygirls - day: 100%|██████████| 9/9 [00:00<00:00, 288.03it/s]\n",
      "day:  68%|██████▊   | 13/19 [00:08<00:02,  2.19it/s]\n",
      "Posts - PrettyGirls - day: 100%|██████████| 10/10 [00:00<00:00, 213.22it/s]\n",
      "day:  74%|███████▎  | 14/19 [00:08<00:01,  2.60it/s]\n",
      "Posts - gentlemanboners - day:   0%|          | 0/28 [00:00<?, ?it/s]\u001B[A\n",
      "Posts - gentlemanboners - day: 100%|██████████| 28/28 [00:00<00:00, 224.00it/s]\u001B[A\n",
      "day:  79%|███████▉  | 15/19 [00:09<00:01,  2.02it/s]\n",
      "Posts - hotofficegirls - day: 100%|██████████| 3/3 [00:00<00:00, 192.36it/s]\n",
      "day:  84%|████████▍ | 16/19 [00:09<00:01,  2.46it/s]\n",
      "Posts - tightdresses - day:   0%|          | 0/43 [00:00<?, ?it/s]\u001B[A\n",
      "Posts - tightdresses - day:  42%|████▏     | 18/43 [00:00<00:00, 164.61it/s]\u001B[A\n",
      "Posts - tightdresses - day: 100%|██████████| 43/43 [00:00<00:00, 183.49it/s]\u001B[A\n",
      "day:  89%|████████▉ | 17/19 [00:10<00:01,  1.68it/s]\n",
      "Posts - DLAH - day:   0%|          | 0/28 [00:00<?, ?it/s]\u001B[A\n",
      "Posts - DLAH - day: 100%|██████████| 28/28 [00:00<00:00, 179.20it/s]\u001B[A\n",
      "day:  95%|█████████▍| 18/19 [00:11<00:00,  1.51it/s]\n",
      "Posts - bathandbodyworks - day:   0%|          | 0/41 [00:00<?, ?it/s]\u001B[A\n",
      "Posts - bathandbodyworks - day:  49%|████▉     | 20/41 [00:00<00:00, 182.90it/s]\u001B[A\n",
      "Posts - bathandbodyworks - day: 100%|██████████| 41/41 [00:00<00:00, 174.95it/s]\u001B[A\n",
      "day: 100%|██████████| 19/19 [00:12<00:00,  1.58it/s]\n"
     ]
    }
   ],
   "source": [
    "with open('log.txt', 'a') as f:\n",
    "\tfor time_filter in ['week', 'day']:\n",
    "\t\tfor sub in tqdm(subs, desc=f\"{time_filter}\", total=len(subs)):\n",
    "\t\t\ttemp_dir_path = f\"temp/{sub}\"\n",
    "\t\t\ttry:\n",
    "\t\t\t\tsubreddit_stream: ListingGenerator = reddit.subreddit(display_name=sub).top(limit=100, time_filter=time_filter)\n",
    "\t\t\t\tsubreddit_stream = list(subreddit_stream)\n",
    "\t\t\t\tfor submission in tqdm(subreddit_stream, total=len(subreddit_stream),\n",
    "\t\t\t\t\t\t\t\t\t   desc=f\"Posts - {sub} - {time_filter}\"):\n",
    "\t\t\t\t\tif submission is None:\n",
    "\t\t\t\t\t\tcontinue\n",
    "\t\t\t\t\telse:\n",
    "\t\t\t\t\t\tif submission.id in extant_data.index.values:\n",
    "\t\t\t\t\t\t\tcontinue\n",
    "\t\t\t\t\ttry:\n",
    "\t\t\t\t\t\tauthor_name = 'Unknown'\n",
    "\t\t\t\t\t\tsubreddit_name = sub\n",
    "\t\t\t\t\t\ttry:\n",
    "\t\t\t\t\t\t\tauthor_name = submission.author.name\n",
    "\t\t\t\t\t\texcept Exception as e:\n",
    "\t\t\t\t\t\t\tauthor_name = 'Unknown'\n",
    "\t\t\t\t\t\t\tpass\n",
    "\t\t\t\t\t\tp = {\n",
    "\t\t\t\t\t\t\t'id': submission.id,\n",
    "\t\t\t\t\t\t\t'subreddit': subreddit_name,\n",
    "\t\t\t\t\t\t\t'author': author_name,\n",
    "\t\t\t\t\t\t\t'title': submission.title,\n",
    "\t\t\t\t\t\t\t'caption': '',\n",
    "\t\t\t\t\t\t\t'hash': '',\n",
    "\t\t\t\t\t\t\t'permalink': submission.permalink,\n",
    "\t\t\t\t\t\t\t'original_url': submission.url,\n",
    "\t\t\t\t\t\t\t'image_name': '',\n",
    "\t\t\t\t\t\t\t'path': '',\n",
    "\t\t\t\t\t\t\t'thumbnail_path': '',\n",
    "\t\t\t\t\t\t\t'exists': False,\n",
    "\t\t\t\t\t\t\t'curated': False,\n",
    "\t\t\t\t\t\t\t'Tags': ['']\n",
    "\t\t\t\t\t\t}\n",
    "\t\t\t\t\t\tpd.DataFrame([p]).to_parquet(f\"{temp_dir_path}/{submission.id}.parquet\")\n",
    "\t\t\t\t\texcept Exception as e:\n",
    "\t\t\t\t\t\tlog = functions.write_log_message(submission.id, sub, \"Error Writing Post\", e)\n",
    "\t\t\t\t\t\tf.write(log)\n",
    "\t\t\t\t\t\tcontinue\n",
    "\t\t\texcept Exception as e:\n",
    "\t\t\t\tlog = functions.write_log_message(submission.id, sub, f\"Error Getting Posts For SubReddit\", e)\n",
    "\t\t\t\tf.write(log)\n",
    "\t\t\t\tcontinue"
   ],
   "metadata": {
    "collapsed": false,
    "ExecuteTime": {
     "end_time": "2023-05-07T15:50:31.065004600Z",
     "start_time": "2023-05-07T15:49:54.806742300Z"
    }
   }
  },
  {
   "cell_type": "code",
   "execution_count": 10,
   "outputs": [
    {
     "name": "stderr",
     "output_type": "stream",
     "text": [
      "Reading Temp Dir For Subs...: 100%|██████████| 19/19 [00:00<00:00, 26.95it/s]\n"
     ]
    },
    {
     "data": {
      "text/plain": "'==== TEMP DATA ===='"
     },
     "metadata": {},
     "output_type": "display_data"
    },
    {
     "data": {
      "text/plain": "(1069, 15)"
     },
     "metadata": {},
     "output_type": "display_data"
    },
    {
     "data": {
      "text/plain": "              id         subreddit                author   \nid                                                         \n133garc  133garc       SFWRedheads   festivalfashionista  \\\n13571tn  13571tn       SFWRedheads         Anikaprincess   \n135ezva  135ezva       SFWRedheads  Historical_Ratio_294   \n135g58p  135g58p       SFWRedheads     Scarlett_somebody   \n1360008  1360008       SFWRedheads           MalloyPanda   \n...          ...               ...                   ...   \n13ai5nu  13ai5nu  bathandbodyworks              Jopaypay   \n13aiopr  13aiopr  bathandbodyworks          SimpleOk1719   \n13ajo0r  13ajo0r  bathandbodyworks         singshopsleep   \n13aocf4  13aocf4  bathandbodyworks            1C3DC0FF33   \n13arexg  13arexg  bathandbodyworks         Dickslayer704   \n\n                                                     title caption hash   \nid                                                                        \n133garc                                 In my fave uniform               \\\n13571tn                                        Sexy or no?                \n135ezva           Not usually a red lipstick kinda girl...                \n135g58p                                        Sunshine ☀️                \n1360008                  Sweater for Chilly Spring Weather                \n...                                                    ...     ...  ...   \n13ai5nu                          Fairytale vs Dream Bright                \n13aiopr               How long for a plug in to feel warm?                \n13ajo0r                              All of Today's Offers                \n13aocf4         Is gingham love getting discontinued soon?                \n13arexg  Look what’s coming back!! Blueberry pumpkin pa...                \n\n                                                 permalink   \nid                                                           \n133garc  /r/SFWRedheads/comments/133garc/in_my_fave_uni...  \\\n13571tn        /r/SFWRedheads/comments/13571tn/sexy_or_no/   \n135ezva  /r/SFWRedheads/comments/135ezva/not_usually_a_...   \n135g58p          /r/SFWRedheads/comments/135g58p/sunshine/   \n1360008  /r/SFWRedheads/comments/1360008/sweater_for_ch...   \n...                                                    ...   \n13ai5nu  /r/bathandbodyworks/comments/13ai5nu/fairytale...   \n13aiopr  /r/bathandbodyworks/comments/13aiopr/how_long_...   \n13ajo0r  /r/bathandbodyworks/comments/13ajo0r/all_of_to...   \n13aocf4  /r/bathandbodyworks/comments/13aocf4/is_gingha...   \n13arexg  /r/bathandbodyworks/comments/13arexg/look_what...   \n\n                                              original_url   image_name path   \nid                                                                             \n133garc                   https://i.imgur.com/O2CHhag.gifv  133garc.jpg       \\\n13571tn                   https://i.imgur.com/1wUudk8.gifv  13571tn.jpg        \n135ezva                https://i.redd.it/4nb3ruke5fxa1.png  135ezva.jpg        \n135g58p             https://www.reddit.com/gallery/135g58p  135g58p.jpg        \n1360008                    https://v.redd.it/md4388wcwixa1  1360008.jpg        \n...                                                    ...          ...  ...   \n13ai5nu  https://www.reddit.com/r/bathandbodyworks/comm...  13ai5nu.jpg        \n13aiopr  https://www.reddit.com/r/bathandbodyworks/comm...  13aiopr.jpg        \n13ajo0r                https://i.redd.it/8tlent17ffya1.jpg  13ajo0r.jpg        \n13aocf4                https://i.redd.it/ueb3lqgohgya1.jpg  13aocf4.jpg        \n13arexg                https://i.redd.it/0wuf2e4vrgya1.jpg  13arexg.jpg        \n\n        model  exists  curated accept tags  \nid                                          \n133garc         False    False  False   []  \n13571tn         False    False  False   []  \n135ezva         False    False  False   []  \n135g58p         False    False  False   []  \n1360008         False    False  False   []  \n...       ...     ...      ...    ...  ...  \n13ai5nu         False    False  False   []  \n13aiopr         False    False  False   []  \n13ajo0r         False    False  False   []  \n13aocf4         False    False  False   []  \n13arexg         False    False  False   []  \n\n[1069 rows x 15 columns]",
      "text/html": "<div>\n<style scoped>\n    .dataframe tbody tr th:only-of-type {\n        vertical-align: middle;\n    }\n\n    .dataframe tbody tr th {\n        vertical-align: top;\n    }\n\n    .dataframe thead th {\n        text-align: right;\n    }\n</style>\n<table border=\"1\" class=\"dataframe\">\n  <thead>\n    <tr style=\"text-align: right;\">\n      <th></th>\n      <th>id</th>\n      <th>subreddit</th>\n      <th>author</th>\n      <th>title</th>\n      <th>caption</th>\n      <th>hash</th>\n      <th>permalink</th>\n      <th>original_url</th>\n      <th>image_name</th>\n      <th>path</th>\n      <th>model</th>\n      <th>exists</th>\n      <th>curated</th>\n      <th>accept</th>\n      <th>tags</th>\n    </tr>\n    <tr>\n      <th>id</th>\n      <th></th>\n      <th></th>\n      <th></th>\n      <th></th>\n      <th></th>\n      <th></th>\n      <th></th>\n      <th></th>\n      <th></th>\n      <th></th>\n      <th></th>\n      <th></th>\n      <th></th>\n      <th></th>\n      <th></th>\n    </tr>\n  </thead>\n  <tbody>\n    <tr>\n      <th>133garc</th>\n      <td>133garc</td>\n      <td>SFWRedheads</td>\n      <td>festivalfashionista</td>\n      <td>In my fave uniform</td>\n      <td></td>\n      <td></td>\n      <td>/r/SFWRedheads/comments/133garc/in_my_fave_uni...</td>\n      <td>https://i.imgur.com/O2CHhag.gifv</td>\n      <td>133garc.jpg</td>\n      <td></td>\n      <td></td>\n      <td>False</td>\n      <td>False</td>\n      <td>False</td>\n      <td>[]</td>\n    </tr>\n    <tr>\n      <th>13571tn</th>\n      <td>13571tn</td>\n      <td>SFWRedheads</td>\n      <td>Anikaprincess</td>\n      <td>Sexy or no?</td>\n      <td></td>\n      <td></td>\n      <td>/r/SFWRedheads/comments/13571tn/sexy_or_no/</td>\n      <td>https://i.imgur.com/1wUudk8.gifv</td>\n      <td>13571tn.jpg</td>\n      <td></td>\n      <td></td>\n      <td>False</td>\n      <td>False</td>\n      <td>False</td>\n      <td>[]</td>\n    </tr>\n    <tr>\n      <th>135ezva</th>\n      <td>135ezva</td>\n      <td>SFWRedheads</td>\n      <td>Historical_Ratio_294</td>\n      <td>Not usually a red lipstick kinda girl...</td>\n      <td></td>\n      <td></td>\n      <td>/r/SFWRedheads/comments/135ezva/not_usually_a_...</td>\n      <td>https://i.redd.it/4nb3ruke5fxa1.png</td>\n      <td>135ezva.jpg</td>\n      <td></td>\n      <td></td>\n      <td>False</td>\n      <td>False</td>\n      <td>False</td>\n      <td>[]</td>\n    </tr>\n    <tr>\n      <th>135g58p</th>\n      <td>135g58p</td>\n      <td>SFWRedheads</td>\n      <td>Scarlett_somebody</td>\n      <td>Sunshine ☀️</td>\n      <td></td>\n      <td></td>\n      <td>/r/SFWRedheads/comments/135g58p/sunshine/</td>\n      <td>https://www.reddit.com/gallery/135g58p</td>\n      <td>135g58p.jpg</td>\n      <td></td>\n      <td></td>\n      <td>False</td>\n      <td>False</td>\n      <td>False</td>\n      <td>[]</td>\n    </tr>\n    <tr>\n      <th>1360008</th>\n      <td>1360008</td>\n      <td>SFWRedheads</td>\n      <td>MalloyPanda</td>\n      <td>Sweater for Chilly Spring Weather</td>\n      <td></td>\n      <td></td>\n      <td>/r/SFWRedheads/comments/1360008/sweater_for_ch...</td>\n      <td>https://v.redd.it/md4388wcwixa1</td>\n      <td>1360008.jpg</td>\n      <td></td>\n      <td></td>\n      <td>False</td>\n      <td>False</td>\n      <td>False</td>\n      <td>[]</td>\n    </tr>\n    <tr>\n      <th>...</th>\n      <td>...</td>\n      <td>...</td>\n      <td>...</td>\n      <td>...</td>\n      <td>...</td>\n      <td>...</td>\n      <td>...</td>\n      <td>...</td>\n      <td>...</td>\n      <td>...</td>\n      <td>...</td>\n      <td>...</td>\n      <td>...</td>\n      <td>...</td>\n      <td>...</td>\n    </tr>\n    <tr>\n      <th>13ai5nu</th>\n      <td>13ai5nu</td>\n      <td>bathandbodyworks</td>\n      <td>Jopaypay</td>\n      <td>Fairytale vs Dream Bright</td>\n      <td></td>\n      <td></td>\n      <td>/r/bathandbodyworks/comments/13ai5nu/fairytale...</td>\n      <td>https://www.reddit.com/r/bathandbodyworks/comm...</td>\n      <td>13ai5nu.jpg</td>\n      <td></td>\n      <td></td>\n      <td>False</td>\n      <td>False</td>\n      <td>False</td>\n      <td>[]</td>\n    </tr>\n    <tr>\n      <th>13aiopr</th>\n      <td>13aiopr</td>\n      <td>bathandbodyworks</td>\n      <td>SimpleOk1719</td>\n      <td>How long for a plug in to feel warm?</td>\n      <td></td>\n      <td></td>\n      <td>/r/bathandbodyworks/comments/13aiopr/how_long_...</td>\n      <td>https://www.reddit.com/r/bathandbodyworks/comm...</td>\n      <td>13aiopr.jpg</td>\n      <td></td>\n      <td></td>\n      <td>False</td>\n      <td>False</td>\n      <td>False</td>\n      <td>[]</td>\n    </tr>\n    <tr>\n      <th>13ajo0r</th>\n      <td>13ajo0r</td>\n      <td>bathandbodyworks</td>\n      <td>singshopsleep</td>\n      <td>All of Today's Offers</td>\n      <td></td>\n      <td></td>\n      <td>/r/bathandbodyworks/comments/13ajo0r/all_of_to...</td>\n      <td>https://i.redd.it/8tlent17ffya1.jpg</td>\n      <td>13ajo0r.jpg</td>\n      <td></td>\n      <td></td>\n      <td>False</td>\n      <td>False</td>\n      <td>False</td>\n      <td>[]</td>\n    </tr>\n    <tr>\n      <th>13aocf4</th>\n      <td>13aocf4</td>\n      <td>bathandbodyworks</td>\n      <td>1C3DC0FF33</td>\n      <td>Is gingham love getting discontinued soon?</td>\n      <td></td>\n      <td></td>\n      <td>/r/bathandbodyworks/comments/13aocf4/is_gingha...</td>\n      <td>https://i.redd.it/ueb3lqgohgya1.jpg</td>\n      <td>13aocf4.jpg</td>\n      <td></td>\n      <td></td>\n      <td>False</td>\n      <td>False</td>\n      <td>False</td>\n      <td>[]</td>\n    </tr>\n    <tr>\n      <th>13arexg</th>\n      <td>13arexg</td>\n      <td>bathandbodyworks</td>\n      <td>Dickslayer704</td>\n      <td>Look what’s coming back!! Blueberry pumpkin pa...</td>\n      <td></td>\n      <td></td>\n      <td>/r/bathandbodyworks/comments/13arexg/look_what...</td>\n      <td>https://i.redd.it/0wuf2e4vrgya1.jpg</td>\n      <td>13arexg.jpg</td>\n      <td></td>\n      <td></td>\n      <td>False</td>\n      <td>False</td>\n      <td>False</td>\n      <td>[]</td>\n    </tr>\n  </tbody>\n</table>\n<p>1069 rows × 15 columns</p>\n</div>"
     },
     "metadata": {},
     "output_type": "display_data"
    },
    {
     "name": "stdout",
     "output_type": "stream",
     "text": [
      "CPU times: total: 4.92 s\n",
      "Wall time: 2.03 s\n"
     ]
    }
   ],
   "source": [
    "%%time\n",
    "\n",
    "data = []\n",
    "for sub in tqdm(subs, desc=\"Reading Temp Dir For Subs...\"):\n",
    "\tdf = pandas.read_parquet(f\"temp/{sub}\", schema=schema, engine='pyarrow')\n",
    "\trecords = df.to_dict(orient='records')\n",
    "\tdata.extend(records)\n",
    "\n",
    "temp_data = pandas.DataFrame(data)\n",
    "\n",
    "for i, r in temp_data.iterrows():\n",
    "\ttemp_data.loc[i, 'image_name'] = r.id + \".jpg\"\n",
    "\ttemp_data.loc[i, 'path'] = \"\"\n",
    "\ttemp_data.loc[i, 'hash'] = \"\"\n",
    "\ttemp_data.loc[i, 'caption'] = \"\"\n",
    "\ttemp_data.loc[i, 'model'] = \"\"\n",
    "\ttemp_data.loc[i, 'exists'] = False\n",
    "\ttemp_data.loc[i, 'curated'] = False\n",
    "\ttemp_data.loc[i, 'accept'] = False\n",
    "\ttemp_data.loc[i, 'tags'] = ['']\n",
    "\n",
    "temp_data.set_index('id', inplace=True, drop=False)\n",
    "\n",
    "display(\"==== TEMP DATA ====\")\n",
    "display(temp_data.shape)\n",
    "display(temp_data)"
   ],
   "metadata": {
    "collapsed": false,
    "ExecuteTime": {
     "end_time": "2023-05-07T15:50:33.172395Z",
     "start_time": "2023-05-07T15:50:31.065004600Z"
    }
   }
  },
  {
   "cell_type": "code",
   "execution_count": 11,
   "outputs": [
    {
     "data": {
      "text/plain": "'==== FILTERED DATA ===='"
     },
     "metadata": {},
     "output_type": "display_data"
    },
    {
     "data": {
      "text/plain": "(83, 15)"
     },
     "metadata": {},
     "output_type": "display_data"
    },
    {
     "data": {
      "text/plain": "              id         subreddit              author   \nid                                                       \n13828y6  13828y6       SFWRedheads         Just_RedFox  \\\n13anyfl  13anyfl       SFWRedheads         mghnbarrett   \n13aof2y  13aof2y       SFWRedheads      Brooklyn102219   \n13aox2z  13aox2z       SFWRedheads  Fantastic-Mix-5761   \n13ap2w8  13ap2w8       SFWRedheads         a-subreddit   \n...          ...               ...                 ...   \n13arvwg  13arvwg      tightdresses    arrayoutofbounds   \n13anz14  13anz14              DLAH    ThisActuator3213   \n13560uf  13560uf  bathandbodyworks     seaweedsquirrel   \n13aocf4  13aocf4  bathandbodyworks          1C3DC0FF33   \n13arexg  13arexg  bathandbodyworks       Dickslayer704   \n\n                                                     title caption hash   \nid                                                                        \n13828y6                               Am I your type? (oc)               \\\n13anyfl  Red on a redhead never gets old. Also it’s my ...                \n13aof2y                               Do you want to play?                \n13aox2z    I feel great after a night of crazy dreams haha                \n13ap2w8  tried on my prom dress again, lmk what u think...                \n...                                                    ...     ...  ...   \n13arvwg                                     Holiday nights                \n13anz14                                        Black Dress                \n13560uf                                      April empties                \n13aocf4         Is gingham love getting discontinued soon?                \n13arexg  Look what’s coming back!! Blueberry pumpkin pa...                \n\n                                                 permalink   \nid                                                           \n13828y6  /r/SFWRedheads/comments/13828y6/am_i_your_type...  \\\n13anyfl  /r/SFWRedheads/comments/13anyfl/red_on_a_redhe...   \n13aof2y  /r/SFWRedheads/comments/13aof2y/do_you_want_to...   \n13aox2z  /r/SFWRedheads/comments/13aox2z/i_feel_great_a...   \n13ap2w8  /r/SFWRedheads/comments/13ap2w8/tried_on_my_pr...   \n...                                                    ...   \n13arvwg   /r/tightdresses/comments/13arvwg/holiday_nights/   \n13anz14              /r/DLAH/comments/13anz14/black_dress/   \n13560uf  /r/bathandbodyworks/comments/13560uf/april_emp...   \n13aocf4  /r/bathandbodyworks/comments/13aocf4/is_gingha...   \n13arexg  /r/bathandbodyworks/comments/13arexg/look_what...   \n\n                                original_url   image_name path model  exists   \nid                                                                             \n13828y6  https://i.redd.it/a5e157nzmxxa1.jpg  13828y6.jpg              False  \\\n13anyfl  https://i.redd.it/pyfxt9nregya1.jpg  13anyfl.jpg              False   \n13aof2y  https://i.redd.it/0gpo09d6igya1.jpg  13aof2y.jpg              False   \n13aox2z  https://i.redd.it/d6y5tf02lgya1.jpg  13aox2z.jpg              False   \n13ap2w8      https://i.imgur.com/fwQiGfa.jpg  13ap2w8.jpg              False   \n...                                      ...          ...  ...   ...     ...   \n13arvwg  https://i.redd.it/05gjqjl4tgya1.jpg  13arvwg.jpg              False   \n13anz14  https://i.redd.it/em9b27jcxeya1.jpg  13anz14.jpg              False   \n13560uf  https://i.redd.it/p9xffkdrrcxa1.jpg  13560uf.jpg              False   \n13aocf4  https://i.redd.it/ueb3lqgohgya1.jpg  13aocf4.jpg              False   \n13arexg  https://i.redd.it/0wuf2e4vrgya1.jpg  13arexg.jpg              False   \n\n         curated accept tags  \nid                            \n13828y6    False  False   []  \n13anyfl    False  False   []  \n13aof2y    False  False   []  \n13aox2z    False  False   []  \n13ap2w8    False  False   []  \n...          ...    ...  ...  \n13arvwg    False  False   []  \n13anz14    False  False   []  \n13560uf    False  False   []  \n13aocf4    False  False   []  \n13arexg    False  False   []  \n\n[83 rows x 15 columns]",
      "text/html": "<div>\n<style scoped>\n    .dataframe tbody tr th:only-of-type {\n        vertical-align: middle;\n    }\n\n    .dataframe tbody tr th {\n        vertical-align: top;\n    }\n\n    .dataframe thead th {\n        text-align: right;\n    }\n</style>\n<table border=\"1\" class=\"dataframe\">\n  <thead>\n    <tr style=\"text-align: right;\">\n      <th></th>\n      <th>id</th>\n      <th>subreddit</th>\n      <th>author</th>\n      <th>title</th>\n      <th>caption</th>\n      <th>hash</th>\n      <th>permalink</th>\n      <th>original_url</th>\n      <th>image_name</th>\n      <th>path</th>\n      <th>model</th>\n      <th>exists</th>\n      <th>curated</th>\n      <th>accept</th>\n      <th>tags</th>\n    </tr>\n    <tr>\n      <th>id</th>\n      <th></th>\n      <th></th>\n      <th></th>\n      <th></th>\n      <th></th>\n      <th></th>\n      <th></th>\n      <th></th>\n      <th></th>\n      <th></th>\n      <th></th>\n      <th></th>\n      <th></th>\n      <th></th>\n      <th></th>\n    </tr>\n  </thead>\n  <tbody>\n    <tr>\n      <th>13828y6</th>\n      <td>13828y6</td>\n      <td>SFWRedheads</td>\n      <td>Just_RedFox</td>\n      <td>Am I your type? (oc)</td>\n      <td></td>\n      <td></td>\n      <td>/r/SFWRedheads/comments/13828y6/am_i_your_type...</td>\n      <td>https://i.redd.it/a5e157nzmxxa1.jpg</td>\n      <td>13828y6.jpg</td>\n      <td></td>\n      <td></td>\n      <td>False</td>\n      <td>False</td>\n      <td>False</td>\n      <td>[]</td>\n    </tr>\n    <tr>\n      <th>13anyfl</th>\n      <td>13anyfl</td>\n      <td>SFWRedheads</td>\n      <td>mghnbarrett</td>\n      <td>Red on a redhead never gets old. Also it’s my ...</td>\n      <td></td>\n      <td></td>\n      <td>/r/SFWRedheads/comments/13anyfl/red_on_a_redhe...</td>\n      <td>https://i.redd.it/pyfxt9nregya1.jpg</td>\n      <td>13anyfl.jpg</td>\n      <td></td>\n      <td></td>\n      <td>False</td>\n      <td>False</td>\n      <td>False</td>\n      <td>[]</td>\n    </tr>\n    <tr>\n      <th>13aof2y</th>\n      <td>13aof2y</td>\n      <td>SFWRedheads</td>\n      <td>Brooklyn102219</td>\n      <td>Do you want to play?</td>\n      <td></td>\n      <td></td>\n      <td>/r/SFWRedheads/comments/13aof2y/do_you_want_to...</td>\n      <td>https://i.redd.it/0gpo09d6igya1.jpg</td>\n      <td>13aof2y.jpg</td>\n      <td></td>\n      <td></td>\n      <td>False</td>\n      <td>False</td>\n      <td>False</td>\n      <td>[]</td>\n    </tr>\n    <tr>\n      <th>13aox2z</th>\n      <td>13aox2z</td>\n      <td>SFWRedheads</td>\n      <td>Fantastic-Mix-5761</td>\n      <td>I feel great after a night of crazy dreams haha</td>\n      <td></td>\n      <td></td>\n      <td>/r/SFWRedheads/comments/13aox2z/i_feel_great_a...</td>\n      <td>https://i.redd.it/d6y5tf02lgya1.jpg</td>\n      <td>13aox2z.jpg</td>\n      <td></td>\n      <td></td>\n      <td>False</td>\n      <td>False</td>\n      <td>False</td>\n      <td>[]</td>\n    </tr>\n    <tr>\n      <th>13ap2w8</th>\n      <td>13ap2w8</td>\n      <td>SFWRedheads</td>\n      <td>a-subreddit</td>\n      <td>tried on my prom dress again, lmk what u think...</td>\n      <td></td>\n      <td></td>\n      <td>/r/SFWRedheads/comments/13ap2w8/tried_on_my_pr...</td>\n      <td>https://i.imgur.com/fwQiGfa.jpg</td>\n      <td>13ap2w8.jpg</td>\n      <td></td>\n      <td></td>\n      <td>False</td>\n      <td>False</td>\n      <td>False</td>\n      <td>[]</td>\n    </tr>\n    <tr>\n      <th>...</th>\n      <td>...</td>\n      <td>...</td>\n      <td>...</td>\n      <td>...</td>\n      <td>...</td>\n      <td>...</td>\n      <td>...</td>\n      <td>...</td>\n      <td>...</td>\n      <td>...</td>\n      <td>...</td>\n      <td>...</td>\n      <td>...</td>\n      <td>...</td>\n      <td>...</td>\n    </tr>\n    <tr>\n      <th>13arvwg</th>\n      <td>13arvwg</td>\n      <td>tightdresses</td>\n      <td>arrayoutofbounds</td>\n      <td>Holiday nights</td>\n      <td></td>\n      <td></td>\n      <td>/r/tightdresses/comments/13arvwg/holiday_nights/</td>\n      <td>https://i.redd.it/05gjqjl4tgya1.jpg</td>\n      <td>13arvwg.jpg</td>\n      <td></td>\n      <td></td>\n      <td>False</td>\n      <td>False</td>\n      <td>False</td>\n      <td>[]</td>\n    </tr>\n    <tr>\n      <th>13anz14</th>\n      <td>13anz14</td>\n      <td>DLAH</td>\n      <td>ThisActuator3213</td>\n      <td>Black Dress</td>\n      <td></td>\n      <td></td>\n      <td>/r/DLAH/comments/13anz14/black_dress/</td>\n      <td>https://i.redd.it/em9b27jcxeya1.jpg</td>\n      <td>13anz14.jpg</td>\n      <td></td>\n      <td></td>\n      <td>False</td>\n      <td>False</td>\n      <td>False</td>\n      <td>[]</td>\n    </tr>\n    <tr>\n      <th>13560uf</th>\n      <td>13560uf</td>\n      <td>bathandbodyworks</td>\n      <td>seaweedsquirrel</td>\n      <td>April empties</td>\n      <td></td>\n      <td></td>\n      <td>/r/bathandbodyworks/comments/13560uf/april_emp...</td>\n      <td>https://i.redd.it/p9xffkdrrcxa1.jpg</td>\n      <td>13560uf.jpg</td>\n      <td></td>\n      <td></td>\n      <td>False</td>\n      <td>False</td>\n      <td>False</td>\n      <td>[]</td>\n    </tr>\n    <tr>\n      <th>13aocf4</th>\n      <td>13aocf4</td>\n      <td>bathandbodyworks</td>\n      <td>1C3DC0FF33</td>\n      <td>Is gingham love getting discontinued soon?</td>\n      <td></td>\n      <td></td>\n      <td>/r/bathandbodyworks/comments/13aocf4/is_gingha...</td>\n      <td>https://i.redd.it/ueb3lqgohgya1.jpg</td>\n      <td>13aocf4.jpg</td>\n      <td></td>\n      <td></td>\n      <td>False</td>\n      <td>False</td>\n      <td>False</td>\n      <td>[]</td>\n    </tr>\n    <tr>\n      <th>13arexg</th>\n      <td>13arexg</td>\n      <td>bathandbodyworks</td>\n      <td>Dickslayer704</td>\n      <td>Look what’s coming back!! Blueberry pumpkin pa...</td>\n      <td></td>\n      <td></td>\n      <td>/r/bathandbodyworks/comments/13arexg/look_what...</td>\n      <td>https://i.redd.it/0wuf2e4vrgya1.jpg</td>\n      <td>13arexg.jpg</td>\n      <td></td>\n      <td></td>\n      <td>False</td>\n      <td>False</td>\n      <td>False</td>\n      <td>[]</td>\n    </tr>\n  </tbody>\n</table>\n<p>83 rows × 15 columns</p>\n</div>"
     },
     "metadata": {},
     "output_type": "display_data"
    },
    {
     "name": "stdout",
     "output_type": "stream",
     "text": [
      "CPU times: total: 31.2 ms\n",
      "Wall time: 15.6 ms\n"
     ]
    }
   ],
   "source": [
    "%%time\n",
    "\n",
    "filtered = temp_data[~temp_data['id'].isin(extant_data.index.values) & temp_data['original_url'].str.endswith('.jpg') & (~temp_data['id'].isin(curated_data.index.values))]\n",
    "filtered.dropna(axis=1, how='all')\n",
    "filtered.reset_index(drop=True, inplace=True)\n",
    "filtered.set_index('id', inplace=True, drop=False)\n",
    "display(\"==== FILTERED DATA ====\")\n",
    "display(filtered.shape)\n",
    "display(filtered)"
   ],
   "metadata": {
    "collapsed": false,
    "ExecuteTime": {
     "end_time": "2023-05-07T15:50:33.219276Z",
     "start_time": "2023-05-07T15:50:33.125546200Z"
    }
   }
  },
  {
   "cell_type": "code",
   "execution_count": 12,
   "outputs": [
    {
     "name": "stderr",
     "output_type": "stream",
     "text": [
      "Progress: 100%|██████████| 83/83 [00:00<?, ?it/s]\n",
      "<timed exec>:1: SettingWithCopyWarning: \n",
      "A value is trying to be set on a copy of a slice from a DataFrame.\n",
      "Try using .loc[row_indexer,col_indexer] = value instead\n",
      "\n",
      "See the caveats in the documentation: https://pandas.pydata.org/pandas-docs/stable/user_guide/indexing.html#returning-a-view-versus-a-copy\n"
     ]
    },
    {
     "data": {
      "text/plain": "'== Filtered Data With Model =='"
     },
     "metadata": {},
     "output_type": "display_data"
    },
    {
     "data": {
      "text/plain": "(83, 15)"
     },
     "metadata": {},
     "output_type": "display_data"
    },
    {
     "data": {
      "text/plain": "              id         subreddit              author   \nid                                                       \n13828y6  13828y6       SFWRedheads         Just_RedFox  \\\n13anyfl  13anyfl       SFWRedheads         mghnbarrett   \n13aof2y  13aof2y       SFWRedheads      Brooklyn102219   \n13aox2z  13aox2z       SFWRedheads  Fantastic-Mix-5761   \n13ap2w8  13ap2w8       SFWRedheads         a-subreddit   \n...          ...               ...                 ...   \n13arvwg  13arvwg      tightdresses    arrayoutofbounds   \n13anz14  13anz14              DLAH    ThisActuator3213   \n13560uf  13560uf  bathandbodyworks     seaweedsquirrel   \n13aocf4  13aocf4  bathandbodyworks          1C3DC0FF33   \n13arexg  13arexg  bathandbodyworks       Dickslayer704   \n\n                                                     title caption hash   \nid                                                                        \n13828y6                               Am I your type? (oc)               \\\n13anyfl  Red on a redhead never gets old. Also it’s my ...                \n13aof2y                               Do you want to play?                \n13aox2z    I feel great after a night of crazy dreams haha                \n13ap2w8  tried on my prom dress again, lmk what u think...                \n...                                                    ...     ...  ...   \n13arvwg                                     Holiday nights                \n13anz14                                        Black Dress                \n13560uf                                      April empties                \n13aocf4         Is gingham love getting discontinued soon?                \n13arexg  Look what’s coming back!! Blueberry pumpkin pa...                \n\n                                                 permalink   \nid                                                           \n13828y6  /r/SFWRedheads/comments/13828y6/am_i_your_type...  \\\n13anyfl  /r/SFWRedheads/comments/13anyfl/red_on_a_redhe...   \n13aof2y  /r/SFWRedheads/comments/13aof2y/do_you_want_to...   \n13aox2z  /r/SFWRedheads/comments/13aox2z/i_feel_great_a...   \n13ap2w8  /r/SFWRedheads/comments/13ap2w8/tried_on_my_pr...   \n...                                                    ...   \n13arvwg   /r/tightdresses/comments/13arvwg/holiday_nights/   \n13anz14              /r/DLAH/comments/13anz14/black_dress/   \n13560uf  /r/bathandbodyworks/comments/13560uf/april_emp...   \n13aocf4  /r/bathandbodyworks/comments/13aocf4/is_gingha...   \n13arexg  /r/bathandbodyworks/comments/13arexg/look_what...   \n\n                                original_url   image_name path   \nid                                                               \n13828y6  https://i.redd.it/a5e157nzmxxa1.jpg  13828y6.jpg       \\\n13anyfl  https://i.redd.it/pyfxt9nregya1.jpg  13anyfl.jpg        \n13aof2y  https://i.redd.it/0gpo09d6igya1.jpg  13aof2y.jpg        \n13aox2z  https://i.redd.it/d6y5tf02lgya1.jpg  13aox2z.jpg        \n13ap2w8      https://i.imgur.com/fwQiGfa.jpg  13ap2w8.jpg        \n...                                      ...          ...  ...   \n13arvwg  https://i.redd.it/05gjqjl4tgya1.jpg  13arvwg.jpg        \n13anz14  https://i.redd.it/em9b27jcxeya1.jpg  13anz14.jpg        \n13560uf  https://i.redd.it/p9xffkdrrcxa1.jpg  13560uf.jpg        \n13aocf4  https://i.redd.it/ueb3lqgohgya1.jpg  13aocf4.jpg        \n13arexg  https://i.redd.it/0wuf2e4vrgya1.jpg  13arexg.jpg        \n\n                       model  exists  curated accept tags  \nid                                                         \n13828y6     RedHeadDiffusion   False    False  False   []  \n13anyfl     RedHeadDiffusion   False    False  False   []  \n13aof2y     RedHeadDiffusion   False    False  False   []  \n13aox2z     RedHeadDiffusion   False    False  False   []  \n13ap2w8     RedHeadDiffusion   False    False  False   []  \n...                      ...     ...      ...    ...  ...  \n13arvwg  PrettyGirlDiffusion   False    False  False   []  \n13anz14  PrettyGirlDiffusion   False    False  False   []  \n13560uf      CandleDiffusion   False    False  False   []  \n13aocf4      CandleDiffusion   False    False  False   []  \n13arexg      CandleDiffusion   False    False  False   []  \n\n[83 rows x 15 columns]",
      "text/html": "<div>\n<style scoped>\n    .dataframe tbody tr th:only-of-type {\n        vertical-align: middle;\n    }\n\n    .dataframe tbody tr th {\n        vertical-align: top;\n    }\n\n    .dataframe thead th {\n        text-align: right;\n    }\n</style>\n<table border=\"1\" class=\"dataframe\">\n  <thead>\n    <tr style=\"text-align: right;\">\n      <th></th>\n      <th>id</th>\n      <th>subreddit</th>\n      <th>author</th>\n      <th>title</th>\n      <th>caption</th>\n      <th>hash</th>\n      <th>permalink</th>\n      <th>original_url</th>\n      <th>image_name</th>\n      <th>path</th>\n      <th>model</th>\n      <th>exists</th>\n      <th>curated</th>\n      <th>accept</th>\n      <th>tags</th>\n    </tr>\n    <tr>\n      <th>id</th>\n      <th></th>\n      <th></th>\n      <th></th>\n      <th></th>\n      <th></th>\n      <th></th>\n      <th></th>\n      <th></th>\n      <th></th>\n      <th></th>\n      <th></th>\n      <th></th>\n      <th></th>\n      <th></th>\n      <th></th>\n    </tr>\n  </thead>\n  <tbody>\n    <tr>\n      <th>13828y6</th>\n      <td>13828y6</td>\n      <td>SFWRedheads</td>\n      <td>Just_RedFox</td>\n      <td>Am I your type? (oc)</td>\n      <td></td>\n      <td></td>\n      <td>/r/SFWRedheads/comments/13828y6/am_i_your_type...</td>\n      <td>https://i.redd.it/a5e157nzmxxa1.jpg</td>\n      <td>13828y6.jpg</td>\n      <td></td>\n      <td>RedHeadDiffusion</td>\n      <td>False</td>\n      <td>False</td>\n      <td>False</td>\n      <td>[]</td>\n    </tr>\n    <tr>\n      <th>13anyfl</th>\n      <td>13anyfl</td>\n      <td>SFWRedheads</td>\n      <td>mghnbarrett</td>\n      <td>Red on a redhead never gets old. Also it’s my ...</td>\n      <td></td>\n      <td></td>\n      <td>/r/SFWRedheads/comments/13anyfl/red_on_a_redhe...</td>\n      <td>https://i.redd.it/pyfxt9nregya1.jpg</td>\n      <td>13anyfl.jpg</td>\n      <td></td>\n      <td>RedHeadDiffusion</td>\n      <td>False</td>\n      <td>False</td>\n      <td>False</td>\n      <td>[]</td>\n    </tr>\n    <tr>\n      <th>13aof2y</th>\n      <td>13aof2y</td>\n      <td>SFWRedheads</td>\n      <td>Brooklyn102219</td>\n      <td>Do you want to play?</td>\n      <td></td>\n      <td></td>\n      <td>/r/SFWRedheads/comments/13aof2y/do_you_want_to...</td>\n      <td>https://i.redd.it/0gpo09d6igya1.jpg</td>\n      <td>13aof2y.jpg</td>\n      <td></td>\n      <td>RedHeadDiffusion</td>\n      <td>False</td>\n      <td>False</td>\n      <td>False</td>\n      <td>[]</td>\n    </tr>\n    <tr>\n      <th>13aox2z</th>\n      <td>13aox2z</td>\n      <td>SFWRedheads</td>\n      <td>Fantastic-Mix-5761</td>\n      <td>I feel great after a night of crazy dreams haha</td>\n      <td></td>\n      <td></td>\n      <td>/r/SFWRedheads/comments/13aox2z/i_feel_great_a...</td>\n      <td>https://i.redd.it/d6y5tf02lgya1.jpg</td>\n      <td>13aox2z.jpg</td>\n      <td></td>\n      <td>RedHeadDiffusion</td>\n      <td>False</td>\n      <td>False</td>\n      <td>False</td>\n      <td>[]</td>\n    </tr>\n    <tr>\n      <th>13ap2w8</th>\n      <td>13ap2w8</td>\n      <td>SFWRedheads</td>\n      <td>a-subreddit</td>\n      <td>tried on my prom dress again, lmk what u think...</td>\n      <td></td>\n      <td></td>\n      <td>/r/SFWRedheads/comments/13ap2w8/tried_on_my_pr...</td>\n      <td>https://i.imgur.com/fwQiGfa.jpg</td>\n      <td>13ap2w8.jpg</td>\n      <td></td>\n      <td>RedHeadDiffusion</td>\n      <td>False</td>\n      <td>False</td>\n      <td>False</td>\n      <td>[]</td>\n    </tr>\n    <tr>\n      <th>...</th>\n      <td>...</td>\n      <td>...</td>\n      <td>...</td>\n      <td>...</td>\n      <td>...</td>\n      <td>...</td>\n      <td>...</td>\n      <td>...</td>\n      <td>...</td>\n      <td>...</td>\n      <td>...</td>\n      <td>...</td>\n      <td>...</td>\n      <td>...</td>\n      <td>...</td>\n    </tr>\n    <tr>\n      <th>13arvwg</th>\n      <td>13arvwg</td>\n      <td>tightdresses</td>\n      <td>arrayoutofbounds</td>\n      <td>Holiday nights</td>\n      <td></td>\n      <td></td>\n      <td>/r/tightdresses/comments/13arvwg/holiday_nights/</td>\n      <td>https://i.redd.it/05gjqjl4tgya1.jpg</td>\n      <td>13arvwg.jpg</td>\n      <td></td>\n      <td>PrettyGirlDiffusion</td>\n      <td>False</td>\n      <td>False</td>\n      <td>False</td>\n      <td>[]</td>\n    </tr>\n    <tr>\n      <th>13anz14</th>\n      <td>13anz14</td>\n      <td>DLAH</td>\n      <td>ThisActuator3213</td>\n      <td>Black Dress</td>\n      <td></td>\n      <td></td>\n      <td>/r/DLAH/comments/13anz14/black_dress/</td>\n      <td>https://i.redd.it/em9b27jcxeya1.jpg</td>\n      <td>13anz14.jpg</td>\n      <td></td>\n      <td>PrettyGirlDiffusion</td>\n      <td>False</td>\n      <td>False</td>\n      <td>False</td>\n      <td>[]</td>\n    </tr>\n    <tr>\n      <th>13560uf</th>\n      <td>13560uf</td>\n      <td>bathandbodyworks</td>\n      <td>seaweedsquirrel</td>\n      <td>April empties</td>\n      <td></td>\n      <td></td>\n      <td>/r/bathandbodyworks/comments/13560uf/april_emp...</td>\n      <td>https://i.redd.it/p9xffkdrrcxa1.jpg</td>\n      <td>13560uf.jpg</td>\n      <td></td>\n      <td>CandleDiffusion</td>\n      <td>False</td>\n      <td>False</td>\n      <td>False</td>\n      <td>[]</td>\n    </tr>\n    <tr>\n      <th>13aocf4</th>\n      <td>13aocf4</td>\n      <td>bathandbodyworks</td>\n      <td>1C3DC0FF33</td>\n      <td>Is gingham love getting discontinued soon?</td>\n      <td></td>\n      <td></td>\n      <td>/r/bathandbodyworks/comments/13aocf4/is_gingha...</td>\n      <td>https://i.redd.it/ueb3lqgohgya1.jpg</td>\n      <td>13aocf4.jpg</td>\n      <td></td>\n      <td>CandleDiffusion</td>\n      <td>False</td>\n      <td>False</td>\n      <td>False</td>\n      <td>[]</td>\n    </tr>\n    <tr>\n      <th>13arexg</th>\n      <td>13arexg</td>\n      <td>bathandbodyworks</td>\n      <td>Dickslayer704</td>\n      <td>Look what’s coming back!! Blueberry pumpkin pa...</td>\n      <td></td>\n      <td></td>\n      <td>/r/bathandbodyworks/comments/13arexg/look_what...</td>\n      <td>https://i.redd.it/0wuf2e4vrgya1.jpg</td>\n      <td>13arexg.jpg</td>\n      <td></td>\n      <td>CandleDiffusion</td>\n      <td>False</td>\n      <td>False</td>\n      <td>False</td>\n      <td>[]</td>\n    </tr>\n  </tbody>\n</table>\n<p>83 rows × 15 columns</p>\n</div>"
     },
     "metadata": {},
     "output_type": "display_data"
    },
    {
     "name": "stdout",
     "output_type": "stream",
     "text": [
      "CPU times: total: 15.6 ms\n",
      "Wall time: 15.6 ms\n"
     ]
    }
   ],
   "source": [
    "%%time\n",
    "\n",
    "filtered['model'] = filtered.progress_apply(lambda x: functions.add_source(x, sources), axis=1)\n",
    "\n",
    "display(\"== Filtered Data With Model ==\")\n",
    "display(filtered.shape)\n",
    "display(filtered)"
   ],
   "metadata": {
    "collapsed": false,
    "ExecuteTime": {
     "end_time": "2023-05-07T15:50:33.297406200Z",
     "start_time": "2023-05-07T15:50:33.172395Z"
    }
   }
  },
  {
   "cell_type": "code",
   "execution_count": 13,
   "outputs": [
    {
     "name": "stderr",
     "output_type": "stream",
     "text": [
      "Progress: 100%|██████████| 83/83 [00:02<00:00, 30.88it/s] \n",
      "<timed exec>:3: SettingWithCopyWarning: \n",
      "A value is trying to be set on a copy of a slice from a DataFrame.\n",
      "Try using .loc[row_indexer,col_indexer] = value instead\n",
      "\n",
      "See the caveats in the documentation: https://pandas.pydata.org/pandas-docs/stable/user_guide/indexing.html#returning-a-view-versus-a-copy\n"
     ]
    },
    {
     "data": {
      "text/plain": "'== Filtered Data With Path =='"
     },
     "metadata": {},
     "output_type": "display_data"
    },
    {
     "data": {
      "text/plain": "(83, 15)"
     },
     "metadata": {},
     "output_type": "display_data"
    },
    {
     "data": {
      "text/plain": "              id         subreddit              author   \nid                                                       \n13828y6  13828y6       SFWRedheads         Just_RedFox  \\\n13anyfl  13anyfl       SFWRedheads         mghnbarrett   \n13aof2y  13aof2y       SFWRedheads      Brooklyn102219   \n13aox2z  13aox2z       SFWRedheads  Fantastic-Mix-5761   \n13ap2w8  13ap2w8       SFWRedheads         a-subreddit   \n...          ...               ...                 ...   \n13arvwg  13arvwg      tightdresses    arrayoutofbounds   \n13anz14  13anz14              DLAH    ThisActuator3213   \n13560uf  13560uf  bathandbodyworks     seaweedsquirrel   \n13aocf4  13aocf4  bathandbodyworks          1C3DC0FF33   \n13arexg  13arexg  bathandbodyworks       Dickslayer704   \n\n                                                     title caption hash   \nid                                                                        \n13828y6                               Am I your type? (oc)               \\\n13anyfl  Red on a redhead never gets old. Also it’s my ...                \n13aof2y                               Do you want to play?                \n13aox2z    I feel great after a night of crazy dreams haha                \n13ap2w8  tried on my prom dress again, lmk what u think...                \n...                                                    ...     ...  ...   \n13arvwg                                     Holiday nights                \n13anz14                                        Black Dress                \n13560uf                                      April empties                \n13aocf4         Is gingham love getting discontinued soon?                \n13arexg  Look what’s coming back!! Blueberry pumpkin pa...                \n\n                                                 permalink   \nid                                                           \n13828y6  /r/SFWRedheads/comments/13828y6/am_i_your_type...  \\\n13anyfl  /r/SFWRedheads/comments/13anyfl/red_on_a_redhe...   \n13aof2y  /r/SFWRedheads/comments/13aof2y/do_you_want_to...   \n13aox2z  /r/SFWRedheads/comments/13aox2z/i_feel_great_a...   \n13ap2w8  /r/SFWRedheads/comments/13ap2w8/tried_on_my_pr...   \n...                                                    ...   \n13arvwg   /r/tightdresses/comments/13arvwg/holiday_nights/   \n13anz14              /r/DLAH/comments/13anz14/black_dress/   \n13560uf  /r/bathandbodyworks/comments/13560uf/april_emp...   \n13aocf4  /r/bathandbodyworks/comments/13aocf4/is_gingha...   \n13arexg  /r/bathandbodyworks/comments/13arexg/look_what...   \n\n                                original_url   image_name   \nid                                                          \n13828y6  https://i.redd.it/a5e157nzmxxa1.jpg  13828y6.jpg  \\\n13anyfl  https://i.redd.it/pyfxt9nregya1.jpg  13anyfl.jpg   \n13aof2y  https://i.redd.it/0gpo09d6igya1.jpg  13aof2y.jpg   \n13aox2z  https://i.redd.it/d6y5tf02lgya1.jpg  13aox2z.jpg   \n13ap2w8      https://i.imgur.com/fwQiGfa.jpg  13ap2w8.jpg   \n...                                      ...          ...   \n13arvwg  https://i.redd.it/05gjqjl4tgya1.jpg  13arvwg.jpg   \n13anz14  https://i.redd.it/em9b27jcxeya1.jpg  13anz14.jpg   \n13560uf  https://i.redd.it/p9xffkdrrcxa1.jpg  13560uf.jpg   \n13aocf4  https://i.redd.it/ueb3lqgohgya1.jpg  13aocf4.jpg   \n13arexg  https://i.redd.it/0wuf2e4vrgya1.jpg  13arexg.jpg   \n\n                           path                model  exists  curated accept   \nid                                                                             \n13828y6  data/image/13828y6.jpg     RedHeadDiffusion   False    False  False  \\\n13anyfl  data/image/13anyfl.jpg     RedHeadDiffusion   False    False  False   \n13aof2y  data/image/13aof2y.jpg     RedHeadDiffusion   False    False  False   \n13aox2z  data/image/13aox2z.jpg     RedHeadDiffusion   False    False  False   \n13ap2w8  data/image/13ap2w8.jpg     RedHeadDiffusion   False    False  False   \n...                         ...                  ...     ...      ...    ...   \n13arvwg  data/image/13arvwg.jpg  PrettyGirlDiffusion   False    False  False   \n13anz14  data/image/13anz14.jpg  PrettyGirlDiffusion   False    False  False   \n13560uf  data/image/13560uf.jpg      CandleDiffusion   False    False  False   \n13aocf4  data/image/13aocf4.jpg      CandleDiffusion   False    False  False   \n13arexg  data/image/13arexg.jpg      CandleDiffusion   False    False  False   \n\n        tags  \nid            \n13828y6   []  \n13anyfl   []  \n13aof2y   []  \n13aox2z   []  \n13ap2w8   []  \n...      ...  \n13arvwg   []  \n13anz14   []  \n13560uf   []  \n13aocf4   []  \n13arexg   []  \n\n[83 rows x 15 columns]",
      "text/html": "<div>\n<style scoped>\n    .dataframe tbody tr th:only-of-type {\n        vertical-align: middle;\n    }\n\n    .dataframe tbody tr th {\n        vertical-align: top;\n    }\n\n    .dataframe thead th {\n        text-align: right;\n    }\n</style>\n<table border=\"1\" class=\"dataframe\">\n  <thead>\n    <tr style=\"text-align: right;\">\n      <th></th>\n      <th>id</th>\n      <th>subreddit</th>\n      <th>author</th>\n      <th>title</th>\n      <th>caption</th>\n      <th>hash</th>\n      <th>permalink</th>\n      <th>original_url</th>\n      <th>image_name</th>\n      <th>path</th>\n      <th>model</th>\n      <th>exists</th>\n      <th>curated</th>\n      <th>accept</th>\n      <th>tags</th>\n    </tr>\n    <tr>\n      <th>id</th>\n      <th></th>\n      <th></th>\n      <th></th>\n      <th></th>\n      <th></th>\n      <th></th>\n      <th></th>\n      <th></th>\n      <th></th>\n      <th></th>\n      <th></th>\n      <th></th>\n      <th></th>\n      <th></th>\n      <th></th>\n    </tr>\n  </thead>\n  <tbody>\n    <tr>\n      <th>13828y6</th>\n      <td>13828y6</td>\n      <td>SFWRedheads</td>\n      <td>Just_RedFox</td>\n      <td>Am I your type? (oc)</td>\n      <td></td>\n      <td></td>\n      <td>/r/SFWRedheads/comments/13828y6/am_i_your_type...</td>\n      <td>https://i.redd.it/a5e157nzmxxa1.jpg</td>\n      <td>13828y6.jpg</td>\n      <td>data/image/13828y6.jpg</td>\n      <td>RedHeadDiffusion</td>\n      <td>False</td>\n      <td>False</td>\n      <td>False</td>\n      <td>[]</td>\n    </tr>\n    <tr>\n      <th>13anyfl</th>\n      <td>13anyfl</td>\n      <td>SFWRedheads</td>\n      <td>mghnbarrett</td>\n      <td>Red on a redhead never gets old. Also it’s my ...</td>\n      <td></td>\n      <td></td>\n      <td>/r/SFWRedheads/comments/13anyfl/red_on_a_redhe...</td>\n      <td>https://i.redd.it/pyfxt9nregya1.jpg</td>\n      <td>13anyfl.jpg</td>\n      <td>data/image/13anyfl.jpg</td>\n      <td>RedHeadDiffusion</td>\n      <td>False</td>\n      <td>False</td>\n      <td>False</td>\n      <td>[]</td>\n    </tr>\n    <tr>\n      <th>13aof2y</th>\n      <td>13aof2y</td>\n      <td>SFWRedheads</td>\n      <td>Brooklyn102219</td>\n      <td>Do you want to play?</td>\n      <td></td>\n      <td></td>\n      <td>/r/SFWRedheads/comments/13aof2y/do_you_want_to...</td>\n      <td>https://i.redd.it/0gpo09d6igya1.jpg</td>\n      <td>13aof2y.jpg</td>\n      <td>data/image/13aof2y.jpg</td>\n      <td>RedHeadDiffusion</td>\n      <td>False</td>\n      <td>False</td>\n      <td>False</td>\n      <td>[]</td>\n    </tr>\n    <tr>\n      <th>13aox2z</th>\n      <td>13aox2z</td>\n      <td>SFWRedheads</td>\n      <td>Fantastic-Mix-5761</td>\n      <td>I feel great after a night of crazy dreams haha</td>\n      <td></td>\n      <td></td>\n      <td>/r/SFWRedheads/comments/13aox2z/i_feel_great_a...</td>\n      <td>https://i.redd.it/d6y5tf02lgya1.jpg</td>\n      <td>13aox2z.jpg</td>\n      <td>data/image/13aox2z.jpg</td>\n      <td>RedHeadDiffusion</td>\n      <td>False</td>\n      <td>False</td>\n      <td>False</td>\n      <td>[]</td>\n    </tr>\n    <tr>\n      <th>13ap2w8</th>\n      <td>13ap2w8</td>\n      <td>SFWRedheads</td>\n      <td>a-subreddit</td>\n      <td>tried on my prom dress again, lmk what u think...</td>\n      <td></td>\n      <td></td>\n      <td>/r/SFWRedheads/comments/13ap2w8/tried_on_my_pr...</td>\n      <td>https://i.imgur.com/fwQiGfa.jpg</td>\n      <td>13ap2w8.jpg</td>\n      <td>data/image/13ap2w8.jpg</td>\n      <td>RedHeadDiffusion</td>\n      <td>False</td>\n      <td>False</td>\n      <td>False</td>\n      <td>[]</td>\n    </tr>\n    <tr>\n      <th>...</th>\n      <td>...</td>\n      <td>...</td>\n      <td>...</td>\n      <td>...</td>\n      <td>...</td>\n      <td>...</td>\n      <td>...</td>\n      <td>...</td>\n      <td>...</td>\n      <td>...</td>\n      <td>...</td>\n      <td>...</td>\n      <td>...</td>\n      <td>...</td>\n      <td>...</td>\n    </tr>\n    <tr>\n      <th>13arvwg</th>\n      <td>13arvwg</td>\n      <td>tightdresses</td>\n      <td>arrayoutofbounds</td>\n      <td>Holiday nights</td>\n      <td></td>\n      <td></td>\n      <td>/r/tightdresses/comments/13arvwg/holiday_nights/</td>\n      <td>https://i.redd.it/05gjqjl4tgya1.jpg</td>\n      <td>13arvwg.jpg</td>\n      <td>data/image/13arvwg.jpg</td>\n      <td>PrettyGirlDiffusion</td>\n      <td>False</td>\n      <td>False</td>\n      <td>False</td>\n      <td>[]</td>\n    </tr>\n    <tr>\n      <th>13anz14</th>\n      <td>13anz14</td>\n      <td>DLAH</td>\n      <td>ThisActuator3213</td>\n      <td>Black Dress</td>\n      <td></td>\n      <td></td>\n      <td>/r/DLAH/comments/13anz14/black_dress/</td>\n      <td>https://i.redd.it/em9b27jcxeya1.jpg</td>\n      <td>13anz14.jpg</td>\n      <td>data/image/13anz14.jpg</td>\n      <td>PrettyGirlDiffusion</td>\n      <td>False</td>\n      <td>False</td>\n      <td>False</td>\n      <td>[]</td>\n    </tr>\n    <tr>\n      <th>13560uf</th>\n      <td>13560uf</td>\n      <td>bathandbodyworks</td>\n      <td>seaweedsquirrel</td>\n      <td>April empties</td>\n      <td></td>\n      <td></td>\n      <td>/r/bathandbodyworks/comments/13560uf/april_emp...</td>\n      <td>https://i.redd.it/p9xffkdrrcxa1.jpg</td>\n      <td>13560uf.jpg</td>\n      <td>data/image/13560uf.jpg</td>\n      <td>CandleDiffusion</td>\n      <td>False</td>\n      <td>False</td>\n      <td>False</td>\n      <td>[]</td>\n    </tr>\n    <tr>\n      <th>13aocf4</th>\n      <td>13aocf4</td>\n      <td>bathandbodyworks</td>\n      <td>1C3DC0FF33</td>\n      <td>Is gingham love getting discontinued soon?</td>\n      <td></td>\n      <td></td>\n      <td>/r/bathandbodyworks/comments/13aocf4/is_gingha...</td>\n      <td>https://i.redd.it/ueb3lqgohgya1.jpg</td>\n      <td>13aocf4.jpg</td>\n      <td>data/image/13aocf4.jpg</td>\n      <td>CandleDiffusion</td>\n      <td>False</td>\n      <td>False</td>\n      <td>False</td>\n      <td>[]</td>\n    </tr>\n    <tr>\n      <th>13arexg</th>\n      <td>13arexg</td>\n      <td>bathandbodyworks</td>\n      <td>Dickslayer704</td>\n      <td>Look what’s coming back!! Blueberry pumpkin pa...</td>\n      <td></td>\n      <td></td>\n      <td>/r/bathandbodyworks/comments/13arexg/look_what...</td>\n      <td>https://i.redd.it/0wuf2e4vrgya1.jpg</td>\n      <td>13arexg.jpg</td>\n      <td>data/image/13arexg.jpg</td>\n      <td>CandleDiffusion</td>\n      <td>False</td>\n      <td>False</td>\n      <td>False</td>\n      <td>[]</td>\n    </tr>\n  </tbody>\n</table>\n<p>83 rows × 15 columns</p>\n</div>"
     },
     "metadata": {},
     "output_type": "display_data"
    },
    {
     "name": "stdout",
     "output_type": "stream",
     "text": [
      "CPU times: total: 19.6 s\n",
      "Wall time: 35.4 s\n"
     ]
    }
   ],
   "source": [
    "%%time\n",
    "\n",
    "file_list = file_system.ls(\"data/image\")\n",
    "\n",
    "filtered['path'] = filtered.progress_apply(lambda x: functions.fetch_image(x, file_list, file_system), axis=1)\n",
    "\n",
    "display(\"== Filtered Data With Path ==\")\n",
    "display(filtered.shape)\n",
    "display(filtered)"
   ],
   "metadata": {
    "collapsed": false,
    "ExecuteTime": {
     "end_time": "2023-05-07T15:51:08.630669500Z",
     "start_time": "2023-05-07T15:50:33.188022500Z"
    }
   }
  },
  {
   "cell_type": "code",
   "execution_count": 14,
   "outputs": [
    {
     "name": "stderr",
     "output_type": "stream",
     "text": [
      "Progress: 100%|██████████| 83/83 [00:00<?, ?it/s]\n",
      "<timed exec>:1: SettingWithCopyWarning: \n",
      "A value is trying to be set on a copy of a slice from a DataFrame.\n",
      "Try using .loc[row_indexer,col_indexer] = value instead\n",
      "\n",
      "See the caveats in the documentation: https://pandas.pydata.org/pandas-docs/stable/user_guide/indexing.html#returning-a-view-versus-a-copy\n"
     ]
    },
    {
     "data": {
      "text/plain": "'== Filtered Data With Exists =='"
     },
     "metadata": {},
     "output_type": "display_data"
    },
    {
     "data": {
      "text/plain": "(83, 15)"
     },
     "metadata": {},
     "output_type": "display_data"
    },
    {
     "data": {
      "text/plain": "              id         subreddit              author   \nid                                                       \n13828y6  13828y6       SFWRedheads         Just_RedFox  \\\n13anyfl  13anyfl       SFWRedheads         mghnbarrett   \n13aof2y  13aof2y       SFWRedheads      Brooklyn102219   \n13aox2z  13aox2z       SFWRedheads  Fantastic-Mix-5761   \n13ap2w8  13ap2w8       SFWRedheads         a-subreddit   \n...          ...               ...                 ...   \n13arvwg  13arvwg      tightdresses    arrayoutofbounds   \n13anz14  13anz14              DLAH    ThisActuator3213   \n13560uf  13560uf  bathandbodyworks     seaweedsquirrel   \n13aocf4  13aocf4  bathandbodyworks          1C3DC0FF33   \n13arexg  13arexg  bathandbodyworks       Dickslayer704   \n\n                                                     title caption hash   \nid                                                                        \n13828y6                               Am I your type? (oc)               \\\n13anyfl  Red on a redhead never gets old. Also it’s my ...                \n13aof2y                               Do you want to play?                \n13aox2z    I feel great after a night of crazy dreams haha                \n13ap2w8  tried on my prom dress again, lmk what u think...                \n...                                                    ...     ...  ...   \n13arvwg                                     Holiday nights                \n13anz14                                        Black Dress                \n13560uf                                      April empties                \n13aocf4         Is gingham love getting discontinued soon?                \n13arexg  Look what’s coming back!! Blueberry pumpkin pa...                \n\n                                                 permalink   \nid                                                           \n13828y6  /r/SFWRedheads/comments/13828y6/am_i_your_type...  \\\n13anyfl  /r/SFWRedheads/comments/13anyfl/red_on_a_redhe...   \n13aof2y  /r/SFWRedheads/comments/13aof2y/do_you_want_to...   \n13aox2z  /r/SFWRedheads/comments/13aox2z/i_feel_great_a...   \n13ap2w8  /r/SFWRedheads/comments/13ap2w8/tried_on_my_pr...   \n...                                                    ...   \n13arvwg   /r/tightdresses/comments/13arvwg/holiday_nights/   \n13anz14              /r/DLAH/comments/13anz14/black_dress/   \n13560uf  /r/bathandbodyworks/comments/13560uf/april_emp...   \n13aocf4  /r/bathandbodyworks/comments/13aocf4/is_gingha...   \n13arexg  /r/bathandbodyworks/comments/13arexg/look_what...   \n\n                                original_url   image_name   \nid                                                          \n13828y6  https://i.redd.it/a5e157nzmxxa1.jpg  13828y6.jpg  \\\n13anyfl  https://i.redd.it/pyfxt9nregya1.jpg  13anyfl.jpg   \n13aof2y  https://i.redd.it/0gpo09d6igya1.jpg  13aof2y.jpg   \n13aox2z  https://i.redd.it/d6y5tf02lgya1.jpg  13aox2z.jpg   \n13ap2w8      https://i.imgur.com/fwQiGfa.jpg  13ap2w8.jpg   \n...                                      ...          ...   \n13arvwg  https://i.redd.it/05gjqjl4tgya1.jpg  13arvwg.jpg   \n13anz14  https://i.redd.it/em9b27jcxeya1.jpg  13anz14.jpg   \n13560uf  https://i.redd.it/p9xffkdrrcxa1.jpg  13560uf.jpg   \n13aocf4  https://i.redd.it/ueb3lqgohgya1.jpg  13aocf4.jpg   \n13arexg  https://i.redd.it/0wuf2e4vrgya1.jpg  13arexg.jpg   \n\n                           path                model  exists  curated accept   \nid                                                                             \n13828y6  data/image/13828y6.jpg     RedHeadDiffusion    True    False  False  \\\n13anyfl  data/image/13anyfl.jpg     RedHeadDiffusion    True    False  False   \n13aof2y  data/image/13aof2y.jpg     RedHeadDiffusion    True    False  False   \n13aox2z  data/image/13aox2z.jpg     RedHeadDiffusion    True    False  False   \n13ap2w8  data/image/13ap2w8.jpg     RedHeadDiffusion    True    False  False   \n...                         ...                  ...     ...      ...    ...   \n13arvwg  data/image/13arvwg.jpg  PrettyGirlDiffusion    True    False  False   \n13anz14  data/image/13anz14.jpg  PrettyGirlDiffusion    True    False  False   \n13560uf  data/image/13560uf.jpg      CandleDiffusion    True    False  False   \n13aocf4  data/image/13aocf4.jpg      CandleDiffusion    True    False  False   \n13arexg  data/image/13arexg.jpg      CandleDiffusion    True    False  False   \n\n        tags  \nid            \n13828y6   []  \n13anyfl   []  \n13aof2y   []  \n13aox2z   []  \n13ap2w8   []  \n...      ...  \n13arvwg   []  \n13anz14   []  \n13560uf   []  \n13aocf4   []  \n13arexg   []  \n\n[83 rows x 15 columns]",
      "text/html": "<div>\n<style scoped>\n    .dataframe tbody tr th:only-of-type {\n        vertical-align: middle;\n    }\n\n    .dataframe tbody tr th {\n        vertical-align: top;\n    }\n\n    .dataframe thead th {\n        text-align: right;\n    }\n</style>\n<table border=\"1\" class=\"dataframe\">\n  <thead>\n    <tr style=\"text-align: right;\">\n      <th></th>\n      <th>id</th>\n      <th>subreddit</th>\n      <th>author</th>\n      <th>title</th>\n      <th>caption</th>\n      <th>hash</th>\n      <th>permalink</th>\n      <th>original_url</th>\n      <th>image_name</th>\n      <th>path</th>\n      <th>model</th>\n      <th>exists</th>\n      <th>curated</th>\n      <th>accept</th>\n      <th>tags</th>\n    </tr>\n    <tr>\n      <th>id</th>\n      <th></th>\n      <th></th>\n      <th></th>\n      <th></th>\n      <th></th>\n      <th></th>\n      <th></th>\n      <th></th>\n      <th></th>\n      <th></th>\n      <th></th>\n      <th></th>\n      <th></th>\n      <th></th>\n      <th></th>\n    </tr>\n  </thead>\n  <tbody>\n    <tr>\n      <th>13828y6</th>\n      <td>13828y6</td>\n      <td>SFWRedheads</td>\n      <td>Just_RedFox</td>\n      <td>Am I your type? (oc)</td>\n      <td></td>\n      <td></td>\n      <td>/r/SFWRedheads/comments/13828y6/am_i_your_type...</td>\n      <td>https://i.redd.it/a5e157nzmxxa1.jpg</td>\n      <td>13828y6.jpg</td>\n      <td>data/image/13828y6.jpg</td>\n      <td>RedHeadDiffusion</td>\n      <td>True</td>\n      <td>False</td>\n      <td>False</td>\n      <td>[]</td>\n    </tr>\n    <tr>\n      <th>13anyfl</th>\n      <td>13anyfl</td>\n      <td>SFWRedheads</td>\n      <td>mghnbarrett</td>\n      <td>Red on a redhead never gets old. Also it’s my ...</td>\n      <td></td>\n      <td></td>\n      <td>/r/SFWRedheads/comments/13anyfl/red_on_a_redhe...</td>\n      <td>https://i.redd.it/pyfxt9nregya1.jpg</td>\n      <td>13anyfl.jpg</td>\n      <td>data/image/13anyfl.jpg</td>\n      <td>RedHeadDiffusion</td>\n      <td>True</td>\n      <td>False</td>\n      <td>False</td>\n      <td>[]</td>\n    </tr>\n    <tr>\n      <th>13aof2y</th>\n      <td>13aof2y</td>\n      <td>SFWRedheads</td>\n      <td>Brooklyn102219</td>\n      <td>Do you want to play?</td>\n      <td></td>\n      <td></td>\n      <td>/r/SFWRedheads/comments/13aof2y/do_you_want_to...</td>\n      <td>https://i.redd.it/0gpo09d6igya1.jpg</td>\n      <td>13aof2y.jpg</td>\n      <td>data/image/13aof2y.jpg</td>\n      <td>RedHeadDiffusion</td>\n      <td>True</td>\n      <td>False</td>\n      <td>False</td>\n      <td>[]</td>\n    </tr>\n    <tr>\n      <th>13aox2z</th>\n      <td>13aox2z</td>\n      <td>SFWRedheads</td>\n      <td>Fantastic-Mix-5761</td>\n      <td>I feel great after a night of crazy dreams haha</td>\n      <td></td>\n      <td></td>\n      <td>/r/SFWRedheads/comments/13aox2z/i_feel_great_a...</td>\n      <td>https://i.redd.it/d6y5tf02lgya1.jpg</td>\n      <td>13aox2z.jpg</td>\n      <td>data/image/13aox2z.jpg</td>\n      <td>RedHeadDiffusion</td>\n      <td>True</td>\n      <td>False</td>\n      <td>False</td>\n      <td>[]</td>\n    </tr>\n    <tr>\n      <th>13ap2w8</th>\n      <td>13ap2w8</td>\n      <td>SFWRedheads</td>\n      <td>a-subreddit</td>\n      <td>tried on my prom dress again, lmk what u think...</td>\n      <td></td>\n      <td></td>\n      <td>/r/SFWRedheads/comments/13ap2w8/tried_on_my_pr...</td>\n      <td>https://i.imgur.com/fwQiGfa.jpg</td>\n      <td>13ap2w8.jpg</td>\n      <td>data/image/13ap2w8.jpg</td>\n      <td>RedHeadDiffusion</td>\n      <td>True</td>\n      <td>False</td>\n      <td>False</td>\n      <td>[]</td>\n    </tr>\n    <tr>\n      <th>...</th>\n      <td>...</td>\n      <td>...</td>\n      <td>...</td>\n      <td>...</td>\n      <td>...</td>\n      <td>...</td>\n      <td>...</td>\n      <td>...</td>\n      <td>...</td>\n      <td>...</td>\n      <td>...</td>\n      <td>...</td>\n      <td>...</td>\n      <td>...</td>\n      <td>...</td>\n    </tr>\n    <tr>\n      <th>13arvwg</th>\n      <td>13arvwg</td>\n      <td>tightdresses</td>\n      <td>arrayoutofbounds</td>\n      <td>Holiday nights</td>\n      <td></td>\n      <td></td>\n      <td>/r/tightdresses/comments/13arvwg/holiday_nights/</td>\n      <td>https://i.redd.it/05gjqjl4tgya1.jpg</td>\n      <td>13arvwg.jpg</td>\n      <td>data/image/13arvwg.jpg</td>\n      <td>PrettyGirlDiffusion</td>\n      <td>True</td>\n      <td>False</td>\n      <td>False</td>\n      <td>[]</td>\n    </tr>\n    <tr>\n      <th>13anz14</th>\n      <td>13anz14</td>\n      <td>DLAH</td>\n      <td>ThisActuator3213</td>\n      <td>Black Dress</td>\n      <td></td>\n      <td></td>\n      <td>/r/DLAH/comments/13anz14/black_dress/</td>\n      <td>https://i.redd.it/em9b27jcxeya1.jpg</td>\n      <td>13anz14.jpg</td>\n      <td>data/image/13anz14.jpg</td>\n      <td>PrettyGirlDiffusion</td>\n      <td>True</td>\n      <td>False</td>\n      <td>False</td>\n      <td>[]</td>\n    </tr>\n    <tr>\n      <th>13560uf</th>\n      <td>13560uf</td>\n      <td>bathandbodyworks</td>\n      <td>seaweedsquirrel</td>\n      <td>April empties</td>\n      <td></td>\n      <td></td>\n      <td>/r/bathandbodyworks/comments/13560uf/april_emp...</td>\n      <td>https://i.redd.it/p9xffkdrrcxa1.jpg</td>\n      <td>13560uf.jpg</td>\n      <td>data/image/13560uf.jpg</td>\n      <td>CandleDiffusion</td>\n      <td>True</td>\n      <td>False</td>\n      <td>False</td>\n      <td>[]</td>\n    </tr>\n    <tr>\n      <th>13aocf4</th>\n      <td>13aocf4</td>\n      <td>bathandbodyworks</td>\n      <td>1C3DC0FF33</td>\n      <td>Is gingham love getting discontinued soon?</td>\n      <td></td>\n      <td></td>\n      <td>/r/bathandbodyworks/comments/13aocf4/is_gingha...</td>\n      <td>https://i.redd.it/ueb3lqgohgya1.jpg</td>\n      <td>13aocf4.jpg</td>\n      <td>data/image/13aocf4.jpg</td>\n      <td>CandleDiffusion</td>\n      <td>True</td>\n      <td>False</td>\n      <td>False</td>\n      <td>[]</td>\n    </tr>\n    <tr>\n      <th>13arexg</th>\n      <td>13arexg</td>\n      <td>bathandbodyworks</td>\n      <td>Dickslayer704</td>\n      <td>Look what’s coming back!! Blueberry pumpkin pa...</td>\n      <td></td>\n      <td></td>\n      <td>/r/bathandbodyworks/comments/13arexg/look_what...</td>\n      <td>https://i.redd.it/0wuf2e4vrgya1.jpg</td>\n      <td>13arexg.jpg</td>\n      <td>data/image/13arexg.jpg</td>\n      <td>CandleDiffusion</td>\n      <td>True</td>\n      <td>False</td>\n      <td>False</td>\n      <td>[]</td>\n    </tr>\n  </tbody>\n</table>\n<p>83 rows × 15 columns</p>\n</div>"
     },
     "metadata": {},
     "output_type": "display_data"
    },
    {
     "name": "stdout",
     "output_type": "stream",
     "text": [
      "CPU times: total: 31.2 ms\n",
      "Wall time: 31.3 ms\n"
     ]
    }
   ],
   "source": [
    "%%time\n",
    "\n",
    "filtered['exists'] = filtered.progress_apply(lambda x: functions.set_exists(x), axis=1)\n",
    "\n",
    "display(\"== Filtered Data With Exists ==\")\n",
    "display(filtered.shape)\n",
    "display(filtered)"
   ],
   "metadata": {
    "collapsed": false,
    "ExecuteTime": {
     "end_time": "2023-05-07T15:51:08.701517700Z",
     "start_time": "2023-05-07T15:51:08.599416400Z"
    }
   }
  },
  {
   "cell_type": "code",
   "execution_count": 15,
   "outputs": [
    {
     "name": "stderr",
     "output_type": "stream",
     "text": [
      "Progress: 100%|██████████| 83/83 [00:00<00:00, 590.11it/s]\n",
      "<timed exec>:1: SettingWithCopyWarning: \n",
      "A value is trying to be set on a copy of a slice from a DataFrame.\n",
      "Try using .loc[row_indexer,col_indexer] = value instead\n",
      "\n",
      "See the caveats in the documentation: https://pandas.pydata.org/pandas-docs/stable/user_guide/indexing.html#returning-a-view-versus-a-copy\n"
     ]
    },
    {
     "data": {
      "text/plain": "'== Filtered Data With Hash =='"
     },
     "metadata": {},
     "output_type": "display_data"
    },
    {
     "data": {
      "text/plain": "(83, 15)"
     },
     "metadata": {},
     "output_type": "display_data"
    },
    {
     "data": {
      "text/plain": "              id         subreddit              author   \nid                                                       \n13828y6  13828y6       SFWRedheads         Just_RedFox  \\\n13anyfl  13anyfl       SFWRedheads         mghnbarrett   \n13aof2y  13aof2y       SFWRedheads      Brooklyn102219   \n13aox2z  13aox2z       SFWRedheads  Fantastic-Mix-5761   \n13ap2w8  13ap2w8       SFWRedheads         a-subreddit   \n...          ...               ...                 ...   \n13arvwg  13arvwg      tightdresses    arrayoutofbounds   \n13anz14  13anz14              DLAH    ThisActuator3213   \n13560uf  13560uf  bathandbodyworks     seaweedsquirrel   \n13aocf4  13aocf4  bathandbodyworks          1C3DC0FF33   \n13arexg  13arexg  bathandbodyworks       Dickslayer704   \n\n                                                     title caption   \nid                                                                   \n13828y6                               Am I your type? (oc)          \\\n13anyfl  Red on a redhead never gets old. Also it’s my ...           \n13aof2y                               Do you want to play?           \n13aox2z    I feel great after a night of crazy dreams haha           \n13ap2w8  tried on my prom dress again, lmk what u think...           \n...                                                    ...     ...   \n13arvwg                                     Holiday nights           \n13anz14                                        Black Dress           \n13560uf                                      April empties           \n13aocf4         Is gingham love getting discontinued soon?           \n13arexg  Look what’s coming back!! Blueberry pumpkin pa...           \n\n                                     hash   \nid                                          \n13828y6  c2de79816802d5a44ff19702e79722ec  \\\n13anyfl  07669db9ed8e7692c658ff918a84928a   \n13aof2y  0587f6b17b6406dbef0679a55abf7a6e   \n13aox2z  175765cd5f2d9648b6cb4395d08f3842   \n13ap2w8  c7c803c7eeac3615eb1da0dc439f3b59   \n...                                   ...   \n13arvwg  cf7f625bf2831808747d3794f25c1e1e   \n13anz14  3a1eb8cc868144cd404f5b8eb2b3f107   \n13560uf  0fd06cb96793d1d14c37552a6b92f956   \n13aocf4  764309345154649be478ae835668fc88   \n13arexg  7350bc7e92a09d15f27957fca14290ab   \n\n                                                 permalink   \nid                                                           \n13828y6  /r/SFWRedheads/comments/13828y6/am_i_your_type...  \\\n13anyfl  /r/SFWRedheads/comments/13anyfl/red_on_a_redhe...   \n13aof2y  /r/SFWRedheads/comments/13aof2y/do_you_want_to...   \n13aox2z  /r/SFWRedheads/comments/13aox2z/i_feel_great_a...   \n13ap2w8  /r/SFWRedheads/comments/13ap2w8/tried_on_my_pr...   \n...                                                    ...   \n13arvwg   /r/tightdresses/comments/13arvwg/holiday_nights/   \n13anz14              /r/DLAH/comments/13anz14/black_dress/   \n13560uf  /r/bathandbodyworks/comments/13560uf/april_emp...   \n13aocf4  /r/bathandbodyworks/comments/13aocf4/is_gingha...   \n13arexg  /r/bathandbodyworks/comments/13arexg/look_what...   \n\n                                original_url   image_name   \nid                                                          \n13828y6  https://i.redd.it/a5e157nzmxxa1.jpg  13828y6.jpg  \\\n13anyfl  https://i.redd.it/pyfxt9nregya1.jpg  13anyfl.jpg   \n13aof2y  https://i.redd.it/0gpo09d6igya1.jpg  13aof2y.jpg   \n13aox2z  https://i.redd.it/d6y5tf02lgya1.jpg  13aox2z.jpg   \n13ap2w8      https://i.imgur.com/fwQiGfa.jpg  13ap2w8.jpg   \n...                                      ...          ...   \n13arvwg  https://i.redd.it/05gjqjl4tgya1.jpg  13arvwg.jpg   \n13anz14  https://i.redd.it/em9b27jcxeya1.jpg  13anz14.jpg   \n13560uf  https://i.redd.it/p9xffkdrrcxa1.jpg  13560uf.jpg   \n13aocf4  https://i.redd.it/ueb3lqgohgya1.jpg  13aocf4.jpg   \n13arexg  https://i.redd.it/0wuf2e4vrgya1.jpg  13arexg.jpg   \n\n                           path                model  exists  curated accept   \nid                                                                             \n13828y6  data/image/13828y6.jpg     RedHeadDiffusion    True    False  False  \\\n13anyfl  data/image/13anyfl.jpg     RedHeadDiffusion    True    False  False   \n13aof2y  data/image/13aof2y.jpg     RedHeadDiffusion    True    False  False   \n13aox2z  data/image/13aox2z.jpg     RedHeadDiffusion    True    False  False   \n13ap2w8  data/image/13ap2w8.jpg     RedHeadDiffusion    True    False  False   \n...                         ...                  ...     ...      ...    ...   \n13arvwg  data/image/13arvwg.jpg  PrettyGirlDiffusion    True    False  False   \n13anz14  data/image/13anz14.jpg  PrettyGirlDiffusion    True    False  False   \n13560uf  data/image/13560uf.jpg      CandleDiffusion    True    False  False   \n13aocf4  data/image/13aocf4.jpg      CandleDiffusion    True    False  False   \n13arexg  data/image/13arexg.jpg      CandleDiffusion    True    False  False   \n\n        tags  \nid            \n13828y6   []  \n13anyfl   []  \n13aof2y   []  \n13aox2z   []  \n13ap2w8   []  \n...      ...  \n13arvwg   []  \n13anz14   []  \n13560uf   []  \n13aocf4   []  \n13arexg   []  \n\n[83 rows x 15 columns]",
      "text/html": "<div>\n<style scoped>\n    .dataframe tbody tr th:only-of-type {\n        vertical-align: middle;\n    }\n\n    .dataframe tbody tr th {\n        vertical-align: top;\n    }\n\n    .dataframe thead th {\n        text-align: right;\n    }\n</style>\n<table border=\"1\" class=\"dataframe\">\n  <thead>\n    <tr style=\"text-align: right;\">\n      <th></th>\n      <th>id</th>\n      <th>subreddit</th>\n      <th>author</th>\n      <th>title</th>\n      <th>caption</th>\n      <th>hash</th>\n      <th>permalink</th>\n      <th>original_url</th>\n      <th>image_name</th>\n      <th>path</th>\n      <th>model</th>\n      <th>exists</th>\n      <th>curated</th>\n      <th>accept</th>\n      <th>tags</th>\n    </tr>\n    <tr>\n      <th>id</th>\n      <th></th>\n      <th></th>\n      <th></th>\n      <th></th>\n      <th></th>\n      <th></th>\n      <th></th>\n      <th></th>\n      <th></th>\n      <th></th>\n      <th></th>\n      <th></th>\n      <th></th>\n      <th></th>\n      <th></th>\n    </tr>\n  </thead>\n  <tbody>\n    <tr>\n      <th>13828y6</th>\n      <td>13828y6</td>\n      <td>SFWRedheads</td>\n      <td>Just_RedFox</td>\n      <td>Am I your type? (oc)</td>\n      <td></td>\n      <td>c2de79816802d5a44ff19702e79722ec</td>\n      <td>/r/SFWRedheads/comments/13828y6/am_i_your_type...</td>\n      <td>https://i.redd.it/a5e157nzmxxa1.jpg</td>\n      <td>13828y6.jpg</td>\n      <td>data/image/13828y6.jpg</td>\n      <td>RedHeadDiffusion</td>\n      <td>True</td>\n      <td>False</td>\n      <td>False</td>\n      <td>[]</td>\n    </tr>\n    <tr>\n      <th>13anyfl</th>\n      <td>13anyfl</td>\n      <td>SFWRedheads</td>\n      <td>mghnbarrett</td>\n      <td>Red on a redhead never gets old. Also it’s my ...</td>\n      <td></td>\n      <td>07669db9ed8e7692c658ff918a84928a</td>\n      <td>/r/SFWRedheads/comments/13anyfl/red_on_a_redhe...</td>\n      <td>https://i.redd.it/pyfxt9nregya1.jpg</td>\n      <td>13anyfl.jpg</td>\n      <td>data/image/13anyfl.jpg</td>\n      <td>RedHeadDiffusion</td>\n      <td>True</td>\n      <td>False</td>\n      <td>False</td>\n      <td>[]</td>\n    </tr>\n    <tr>\n      <th>13aof2y</th>\n      <td>13aof2y</td>\n      <td>SFWRedheads</td>\n      <td>Brooklyn102219</td>\n      <td>Do you want to play?</td>\n      <td></td>\n      <td>0587f6b17b6406dbef0679a55abf7a6e</td>\n      <td>/r/SFWRedheads/comments/13aof2y/do_you_want_to...</td>\n      <td>https://i.redd.it/0gpo09d6igya1.jpg</td>\n      <td>13aof2y.jpg</td>\n      <td>data/image/13aof2y.jpg</td>\n      <td>RedHeadDiffusion</td>\n      <td>True</td>\n      <td>False</td>\n      <td>False</td>\n      <td>[]</td>\n    </tr>\n    <tr>\n      <th>13aox2z</th>\n      <td>13aox2z</td>\n      <td>SFWRedheads</td>\n      <td>Fantastic-Mix-5761</td>\n      <td>I feel great after a night of crazy dreams haha</td>\n      <td></td>\n      <td>175765cd5f2d9648b6cb4395d08f3842</td>\n      <td>/r/SFWRedheads/comments/13aox2z/i_feel_great_a...</td>\n      <td>https://i.redd.it/d6y5tf02lgya1.jpg</td>\n      <td>13aox2z.jpg</td>\n      <td>data/image/13aox2z.jpg</td>\n      <td>RedHeadDiffusion</td>\n      <td>True</td>\n      <td>False</td>\n      <td>False</td>\n      <td>[]</td>\n    </tr>\n    <tr>\n      <th>13ap2w8</th>\n      <td>13ap2w8</td>\n      <td>SFWRedheads</td>\n      <td>a-subreddit</td>\n      <td>tried on my prom dress again, lmk what u think...</td>\n      <td></td>\n      <td>c7c803c7eeac3615eb1da0dc439f3b59</td>\n      <td>/r/SFWRedheads/comments/13ap2w8/tried_on_my_pr...</td>\n      <td>https://i.imgur.com/fwQiGfa.jpg</td>\n      <td>13ap2w8.jpg</td>\n      <td>data/image/13ap2w8.jpg</td>\n      <td>RedHeadDiffusion</td>\n      <td>True</td>\n      <td>False</td>\n      <td>False</td>\n      <td>[]</td>\n    </tr>\n    <tr>\n      <th>...</th>\n      <td>...</td>\n      <td>...</td>\n      <td>...</td>\n      <td>...</td>\n      <td>...</td>\n      <td>...</td>\n      <td>...</td>\n      <td>...</td>\n      <td>...</td>\n      <td>...</td>\n      <td>...</td>\n      <td>...</td>\n      <td>...</td>\n      <td>...</td>\n      <td>...</td>\n    </tr>\n    <tr>\n      <th>13arvwg</th>\n      <td>13arvwg</td>\n      <td>tightdresses</td>\n      <td>arrayoutofbounds</td>\n      <td>Holiday nights</td>\n      <td></td>\n      <td>cf7f625bf2831808747d3794f25c1e1e</td>\n      <td>/r/tightdresses/comments/13arvwg/holiday_nights/</td>\n      <td>https://i.redd.it/05gjqjl4tgya1.jpg</td>\n      <td>13arvwg.jpg</td>\n      <td>data/image/13arvwg.jpg</td>\n      <td>PrettyGirlDiffusion</td>\n      <td>True</td>\n      <td>False</td>\n      <td>False</td>\n      <td>[]</td>\n    </tr>\n    <tr>\n      <th>13anz14</th>\n      <td>13anz14</td>\n      <td>DLAH</td>\n      <td>ThisActuator3213</td>\n      <td>Black Dress</td>\n      <td></td>\n      <td>3a1eb8cc868144cd404f5b8eb2b3f107</td>\n      <td>/r/DLAH/comments/13anz14/black_dress/</td>\n      <td>https://i.redd.it/em9b27jcxeya1.jpg</td>\n      <td>13anz14.jpg</td>\n      <td>data/image/13anz14.jpg</td>\n      <td>PrettyGirlDiffusion</td>\n      <td>True</td>\n      <td>False</td>\n      <td>False</td>\n      <td>[]</td>\n    </tr>\n    <tr>\n      <th>13560uf</th>\n      <td>13560uf</td>\n      <td>bathandbodyworks</td>\n      <td>seaweedsquirrel</td>\n      <td>April empties</td>\n      <td></td>\n      <td>0fd06cb96793d1d14c37552a6b92f956</td>\n      <td>/r/bathandbodyworks/comments/13560uf/april_emp...</td>\n      <td>https://i.redd.it/p9xffkdrrcxa1.jpg</td>\n      <td>13560uf.jpg</td>\n      <td>data/image/13560uf.jpg</td>\n      <td>CandleDiffusion</td>\n      <td>True</td>\n      <td>False</td>\n      <td>False</td>\n      <td>[]</td>\n    </tr>\n    <tr>\n      <th>13aocf4</th>\n      <td>13aocf4</td>\n      <td>bathandbodyworks</td>\n      <td>1C3DC0FF33</td>\n      <td>Is gingham love getting discontinued soon?</td>\n      <td></td>\n      <td>764309345154649be478ae835668fc88</td>\n      <td>/r/bathandbodyworks/comments/13aocf4/is_gingha...</td>\n      <td>https://i.redd.it/ueb3lqgohgya1.jpg</td>\n      <td>13aocf4.jpg</td>\n      <td>data/image/13aocf4.jpg</td>\n      <td>CandleDiffusion</td>\n      <td>True</td>\n      <td>False</td>\n      <td>False</td>\n      <td>[]</td>\n    </tr>\n    <tr>\n      <th>13arexg</th>\n      <td>13arexg</td>\n      <td>bathandbodyworks</td>\n      <td>Dickslayer704</td>\n      <td>Look what’s coming back!! Blueberry pumpkin pa...</td>\n      <td></td>\n      <td>7350bc7e92a09d15f27957fca14290ab</td>\n      <td>/r/bathandbodyworks/comments/13arexg/look_what...</td>\n      <td>https://i.redd.it/0wuf2e4vrgya1.jpg</td>\n      <td>13arexg.jpg</td>\n      <td>data/image/13arexg.jpg</td>\n      <td>CandleDiffusion</td>\n      <td>True</td>\n      <td>False</td>\n      <td>False</td>\n      <td>[]</td>\n    </tr>\n  </tbody>\n</table>\n<p>83 rows × 15 columns</p>\n</div>"
     },
     "metadata": {},
     "output_type": "display_data"
    },
    {
     "name": "stdout",
     "output_type": "stream",
     "text": [
      "CPU times: total: 156 ms\n",
      "Wall time: 156 ms\n"
     ]
    }
   ],
   "source": [
    "%%time\n",
    "\n",
    "filtered['hash'] = filtered.progress_apply(lambda x: functions.set_hash(x), axis=1)\n",
    "\n",
    "display(\"== Filtered Data With Hash ==\")\n",
    "display(filtered.shape)\n",
    "display(filtered)"
   ],
   "metadata": {
    "collapsed": false,
    "ExecuteTime": {
     "end_time": "2023-05-07T15:51:09.098252100Z",
     "start_time": "2023-05-07T15:51:08.638984900Z"
    }
   }
  },
  {
   "cell_type": "code",
   "execution_count": 16,
   "outputs": [
    {
     "name": "stdout",
     "output_type": "stream",
     "text": [
      "CPU times: total: 48.8 s\n",
      "Wall time: 44.5 s\n"
     ]
    }
   ],
   "source": [
    "%%time\n",
    "\n",
    "caption_0 = BlipCaption(\"cuda:0\")\n",
    "caption_1 = BlipCaption(\"cuda:1\")"
   ],
   "metadata": {
    "collapsed": false,
    "ExecuteTime": {
     "end_time": "2023-05-07T15:51:53.347730200Z",
     "start_time": "2023-05-07T15:51:08.810909200Z"
    }
   }
  },
  {
   "cell_type": "code",
   "execution_count": 17,
   "outputs": [
    {
     "name": "stderr",
     "output_type": "stream",
     "text": [
      "Progress:   0%|          | 0/83 [00:00<?, ?it/s]D:\\code\\repos\\simple-collection\\venv\\lib\\site-packages\\transformers\\generation\\utils.py:1313: UserWarning: Using `max_length`'s default (20) to control the generation length. This behaviour is deprecated and will be removed from the config in v5 of Transformers -- we recommend using `max_new_tokens` to control the maximum length of the generation.\n",
      "  warnings.warn(\n",
      "Progress: 100%|██████████| 83/83 [01:23<00:00,  1.00s/it]\n",
      "<timed exec>:1: SettingWithCopyWarning: \n",
      "A value is trying to be set on a copy of a slice from a DataFrame.\n",
      "Try using .loc[row_indexer,col_indexer] = value instead\n",
      "\n",
      "See the caveats in the documentation: https://pandas.pydata.org/pandas-docs/stable/user_guide/indexing.html#returning-a-view-versus-a-copy\n"
     ]
    },
    {
     "data": {
      "text/plain": "'== Filtered Data With Caption =='"
     },
     "metadata": {},
     "output_type": "display_data"
    },
    {
     "data": {
      "text/plain": "(83, 15)"
     },
     "metadata": {},
     "output_type": "display_data"
    },
    {
     "data": {
      "text/plain": "              id         subreddit              author   \nid                                                       \n13828y6  13828y6       SFWRedheads         Just_RedFox  \\\n13anyfl  13anyfl       SFWRedheads         mghnbarrett   \n13aof2y  13aof2y       SFWRedheads      Brooklyn102219   \n13aox2z  13aox2z       SFWRedheads  Fantastic-Mix-5761   \n13ap2w8  13ap2w8       SFWRedheads         a-subreddit   \n...          ...               ...                 ...   \n13arvwg  13arvwg      tightdresses    arrayoutofbounds   \n13anz14  13anz14              DLAH    ThisActuator3213   \n13560uf  13560uf  bathandbodyworks     seaweedsquirrel   \n13aocf4  13aocf4  bathandbodyworks          1C3DC0FF33   \n13arexg  13arexg  bathandbodyworks       Dickslayer704   \n\n                                                     title   \nid                                                           \n13828y6                               Am I your type? (oc)  \\\n13anyfl  Red on a redhead never gets old. Also it’s my ...   \n13aof2y                               Do you want to play?   \n13aox2z    I feel great after a night of crazy dreams haha   \n13ap2w8  tried on my prom dress again, lmk what u think...   \n...                                                    ...   \n13arvwg                                     Holiday nights   \n13anz14                                        Black Dress   \n13560uf                                      April empties   \n13aocf4         Is gingham love getting discontinued soon?   \n13arexg  Look what’s coming back!! Blueberry pumpkin pa...   \n\n                                                   caption   \nid                                                           \n13828y6      there is a woman with red hair and a blue top  \\\n13anyfl  arafed woman in a red bikini taking a selfie i...   \n13aof2y  there is a woman taking a selfie in a bathroom...   \n13aox2z  there is a woman that is standing up with her ...   \n13ap2w8  arafed woman in a pink dress posing in a bathroom   \n...                                                    ...   \n13arvwg  araffe woman in a white dress leaning against ...   \n13anz14  araffe woman in a black dress sitting on a bla...   \n13560uf  a close up of a towel with various types of bo...   \n13aocf4  a close up of a bottle of perfume on a white b...   \n13arexg  a close up of a cell phone with a bunch of ite...   \n\n                                     hash   \nid                                          \n13828y6  c2de79816802d5a44ff19702e79722ec  \\\n13anyfl  07669db9ed8e7692c658ff918a84928a   \n13aof2y  0587f6b17b6406dbef0679a55abf7a6e   \n13aox2z  175765cd5f2d9648b6cb4395d08f3842   \n13ap2w8  c7c803c7eeac3615eb1da0dc439f3b59   \n...                                   ...   \n13arvwg  cf7f625bf2831808747d3794f25c1e1e   \n13anz14  3a1eb8cc868144cd404f5b8eb2b3f107   \n13560uf  0fd06cb96793d1d14c37552a6b92f956   \n13aocf4  764309345154649be478ae835668fc88   \n13arexg  7350bc7e92a09d15f27957fca14290ab   \n\n                                                 permalink   \nid                                                           \n13828y6  /r/SFWRedheads/comments/13828y6/am_i_your_type...  \\\n13anyfl  /r/SFWRedheads/comments/13anyfl/red_on_a_redhe...   \n13aof2y  /r/SFWRedheads/comments/13aof2y/do_you_want_to...   \n13aox2z  /r/SFWRedheads/comments/13aox2z/i_feel_great_a...   \n13ap2w8  /r/SFWRedheads/comments/13ap2w8/tried_on_my_pr...   \n...                                                    ...   \n13arvwg   /r/tightdresses/comments/13arvwg/holiday_nights/   \n13anz14              /r/DLAH/comments/13anz14/black_dress/   \n13560uf  /r/bathandbodyworks/comments/13560uf/april_emp...   \n13aocf4  /r/bathandbodyworks/comments/13aocf4/is_gingha...   \n13arexg  /r/bathandbodyworks/comments/13arexg/look_what...   \n\n                                original_url   image_name   \nid                                                          \n13828y6  https://i.redd.it/a5e157nzmxxa1.jpg  13828y6.jpg  \\\n13anyfl  https://i.redd.it/pyfxt9nregya1.jpg  13anyfl.jpg   \n13aof2y  https://i.redd.it/0gpo09d6igya1.jpg  13aof2y.jpg   \n13aox2z  https://i.redd.it/d6y5tf02lgya1.jpg  13aox2z.jpg   \n13ap2w8      https://i.imgur.com/fwQiGfa.jpg  13ap2w8.jpg   \n...                                      ...          ...   \n13arvwg  https://i.redd.it/05gjqjl4tgya1.jpg  13arvwg.jpg   \n13anz14  https://i.redd.it/em9b27jcxeya1.jpg  13anz14.jpg   \n13560uf  https://i.redd.it/p9xffkdrrcxa1.jpg  13560uf.jpg   \n13aocf4  https://i.redd.it/ueb3lqgohgya1.jpg  13aocf4.jpg   \n13arexg  https://i.redd.it/0wuf2e4vrgya1.jpg  13arexg.jpg   \n\n                           path                model  exists  curated accept   \nid                                                                             \n13828y6  data/image/13828y6.jpg     RedHeadDiffusion    True    False  False  \\\n13anyfl  data/image/13anyfl.jpg     RedHeadDiffusion    True    False  False   \n13aof2y  data/image/13aof2y.jpg     RedHeadDiffusion    True    False  False   \n13aox2z  data/image/13aox2z.jpg     RedHeadDiffusion    True    False  False   \n13ap2w8  data/image/13ap2w8.jpg     RedHeadDiffusion    True    False  False   \n...                         ...                  ...     ...      ...    ...   \n13arvwg  data/image/13arvwg.jpg  PrettyGirlDiffusion    True    False  False   \n13anz14  data/image/13anz14.jpg  PrettyGirlDiffusion    True    False  False   \n13560uf  data/image/13560uf.jpg      CandleDiffusion    True    False  False   \n13aocf4  data/image/13aocf4.jpg      CandleDiffusion    True    False  False   \n13arexg  data/image/13arexg.jpg      CandleDiffusion    True    False  False   \n\n        tags  \nid            \n13828y6   []  \n13anyfl   []  \n13aof2y   []  \n13aox2z   []  \n13ap2w8   []  \n...      ...  \n13arvwg   []  \n13anz14   []  \n13560uf   []  \n13aocf4   []  \n13arexg   []  \n\n[83 rows x 15 columns]",
      "text/html": "<div>\n<style scoped>\n    .dataframe tbody tr th:only-of-type {\n        vertical-align: middle;\n    }\n\n    .dataframe tbody tr th {\n        vertical-align: top;\n    }\n\n    .dataframe thead th {\n        text-align: right;\n    }\n</style>\n<table border=\"1\" class=\"dataframe\">\n  <thead>\n    <tr style=\"text-align: right;\">\n      <th></th>\n      <th>id</th>\n      <th>subreddit</th>\n      <th>author</th>\n      <th>title</th>\n      <th>caption</th>\n      <th>hash</th>\n      <th>permalink</th>\n      <th>original_url</th>\n      <th>image_name</th>\n      <th>path</th>\n      <th>model</th>\n      <th>exists</th>\n      <th>curated</th>\n      <th>accept</th>\n      <th>tags</th>\n    </tr>\n    <tr>\n      <th>id</th>\n      <th></th>\n      <th></th>\n      <th></th>\n      <th></th>\n      <th></th>\n      <th></th>\n      <th></th>\n      <th></th>\n      <th></th>\n      <th></th>\n      <th></th>\n      <th></th>\n      <th></th>\n      <th></th>\n      <th></th>\n    </tr>\n  </thead>\n  <tbody>\n    <tr>\n      <th>13828y6</th>\n      <td>13828y6</td>\n      <td>SFWRedheads</td>\n      <td>Just_RedFox</td>\n      <td>Am I your type? (oc)</td>\n      <td>there is a woman with red hair and a blue top</td>\n      <td>c2de79816802d5a44ff19702e79722ec</td>\n      <td>/r/SFWRedheads/comments/13828y6/am_i_your_type...</td>\n      <td>https://i.redd.it/a5e157nzmxxa1.jpg</td>\n      <td>13828y6.jpg</td>\n      <td>data/image/13828y6.jpg</td>\n      <td>RedHeadDiffusion</td>\n      <td>True</td>\n      <td>False</td>\n      <td>False</td>\n      <td>[]</td>\n    </tr>\n    <tr>\n      <th>13anyfl</th>\n      <td>13anyfl</td>\n      <td>SFWRedheads</td>\n      <td>mghnbarrett</td>\n      <td>Red on a redhead never gets old. Also it’s my ...</td>\n      <td>arafed woman in a red bikini taking a selfie i...</td>\n      <td>07669db9ed8e7692c658ff918a84928a</td>\n      <td>/r/SFWRedheads/comments/13anyfl/red_on_a_redhe...</td>\n      <td>https://i.redd.it/pyfxt9nregya1.jpg</td>\n      <td>13anyfl.jpg</td>\n      <td>data/image/13anyfl.jpg</td>\n      <td>RedHeadDiffusion</td>\n      <td>True</td>\n      <td>False</td>\n      <td>False</td>\n      <td>[]</td>\n    </tr>\n    <tr>\n      <th>13aof2y</th>\n      <td>13aof2y</td>\n      <td>SFWRedheads</td>\n      <td>Brooklyn102219</td>\n      <td>Do you want to play?</td>\n      <td>there is a woman taking a selfie in a bathroom...</td>\n      <td>0587f6b17b6406dbef0679a55abf7a6e</td>\n      <td>/r/SFWRedheads/comments/13aof2y/do_you_want_to...</td>\n      <td>https://i.redd.it/0gpo09d6igya1.jpg</td>\n      <td>13aof2y.jpg</td>\n      <td>data/image/13aof2y.jpg</td>\n      <td>RedHeadDiffusion</td>\n      <td>True</td>\n      <td>False</td>\n      <td>False</td>\n      <td>[]</td>\n    </tr>\n    <tr>\n      <th>13aox2z</th>\n      <td>13aox2z</td>\n      <td>SFWRedheads</td>\n      <td>Fantastic-Mix-5761</td>\n      <td>I feel great after a night of crazy dreams haha</td>\n      <td>there is a woman that is standing up with her ...</td>\n      <td>175765cd5f2d9648b6cb4395d08f3842</td>\n      <td>/r/SFWRedheads/comments/13aox2z/i_feel_great_a...</td>\n      <td>https://i.redd.it/d6y5tf02lgya1.jpg</td>\n      <td>13aox2z.jpg</td>\n      <td>data/image/13aox2z.jpg</td>\n      <td>RedHeadDiffusion</td>\n      <td>True</td>\n      <td>False</td>\n      <td>False</td>\n      <td>[]</td>\n    </tr>\n    <tr>\n      <th>13ap2w8</th>\n      <td>13ap2w8</td>\n      <td>SFWRedheads</td>\n      <td>a-subreddit</td>\n      <td>tried on my prom dress again, lmk what u think...</td>\n      <td>arafed woman in a pink dress posing in a bathroom</td>\n      <td>c7c803c7eeac3615eb1da0dc439f3b59</td>\n      <td>/r/SFWRedheads/comments/13ap2w8/tried_on_my_pr...</td>\n      <td>https://i.imgur.com/fwQiGfa.jpg</td>\n      <td>13ap2w8.jpg</td>\n      <td>data/image/13ap2w8.jpg</td>\n      <td>RedHeadDiffusion</td>\n      <td>True</td>\n      <td>False</td>\n      <td>False</td>\n      <td>[]</td>\n    </tr>\n    <tr>\n      <th>...</th>\n      <td>...</td>\n      <td>...</td>\n      <td>...</td>\n      <td>...</td>\n      <td>...</td>\n      <td>...</td>\n      <td>...</td>\n      <td>...</td>\n      <td>...</td>\n      <td>...</td>\n      <td>...</td>\n      <td>...</td>\n      <td>...</td>\n      <td>...</td>\n      <td>...</td>\n    </tr>\n    <tr>\n      <th>13arvwg</th>\n      <td>13arvwg</td>\n      <td>tightdresses</td>\n      <td>arrayoutofbounds</td>\n      <td>Holiday nights</td>\n      <td>araffe woman in a white dress leaning against ...</td>\n      <td>cf7f625bf2831808747d3794f25c1e1e</td>\n      <td>/r/tightdresses/comments/13arvwg/holiday_nights/</td>\n      <td>https://i.redd.it/05gjqjl4tgya1.jpg</td>\n      <td>13arvwg.jpg</td>\n      <td>data/image/13arvwg.jpg</td>\n      <td>PrettyGirlDiffusion</td>\n      <td>True</td>\n      <td>False</td>\n      <td>False</td>\n      <td>[]</td>\n    </tr>\n    <tr>\n      <th>13anz14</th>\n      <td>13anz14</td>\n      <td>DLAH</td>\n      <td>ThisActuator3213</td>\n      <td>Black Dress</td>\n      <td>araffe woman in a black dress sitting on a bla...</td>\n      <td>3a1eb8cc868144cd404f5b8eb2b3f107</td>\n      <td>/r/DLAH/comments/13anz14/black_dress/</td>\n      <td>https://i.redd.it/em9b27jcxeya1.jpg</td>\n      <td>13anz14.jpg</td>\n      <td>data/image/13anz14.jpg</td>\n      <td>PrettyGirlDiffusion</td>\n      <td>True</td>\n      <td>False</td>\n      <td>False</td>\n      <td>[]</td>\n    </tr>\n    <tr>\n      <th>13560uf</th>\n      <td>13560uf</td>\n      <td>bathandbodyworks</td>\n      <td>seaweedsquirrel</td>\n      <td>April empties</td>\n      <td>a close up of a towel with various types of bo...</td>\n      <td>0fd06cb96793d1d14c37552a6b92f956</td>\n      <td>/r/bathandbodyworks/comments/13560uf/april_emp...</td>\n      <td>https://i.redd.it/p9xffkdrrcxa1.jpg</td>\n      <td>13560uf.jpg</td>\n      <td>data/image/13560uf.jpg</td>\n      <td>CandleDiffusion</td>\n      <td>True</td>\n      <td>False</td>\n      <td>False</td>\n      <td>[]</td>\n    </tr>\n    <tr>\n      <th>13aocf4</th>\n      <td>13aocf4</td>\n      <td>bathandbodyworks</td>\n      <td>1C3DC0FF33</td>\n      <td>Is gingham love getting discontinued soon?</td>\n      <td>a close up of a bottle of perfume on a white b...</td>\n      <td>764309345154649be478ae835668fc88</td>\n      <td>/r/bathandbodyworks/comments/13aocf4/is_gingha...</td>\n      <td>https://i.redd.it/ueb3lqgohgya1.jpg</td>\n      <td>13aocf4.jpg</td>\n      <td>data/image/13aocf4.jpg</td>\n      <td>CandleDiffusion</td>\n      <td>True</td>\n      <td>False</td>\n      <td>False</td>\n      <td>[]</td>\n    </tr>\n    <tr>\n      <th>13arexg</th>\n      <td>13arexg</td>\n      <td>bathandbodyworks</td>\n      <td>Dickslayer704</td>\n      <td>Look what’s coming back!! Blueberry pumpkin pa...</td>\n      <td>a close up of a cell phone with a bunch of ite...</td>\n      <td>7350bc7e92a09d15f27957fca14290ab</td>\n      <td>/r/bathandbodyworks/comments/13arexg/look_what...</td>\n      <td>https://i.redd.it/0wuf2e4vrgya1.jpg</td>\n      <td>13arexg.jpg</td>\n      <td>data/image/13arexg.jpg</td>\n      <td>CandleDiffusion</td>\n      <td>True</td>\n      <td>False</td>\n      <td>False</td>\n      <td>[]</td>\n    </tr>\n  </tbody>\n</table>\n<p>83 rows × 15 columns</p>\n</div>"
     },
     "metadata": {},
     "output_type": "display_data"
    },
    {
     "name": "stdout",
     "output_type": "stream",
     "text": [
      "CPU times: total: 2min 37s\n",
      "Wall time: 1min 23s\n"
     ]
    }
   ],
   "source": [
    "%%time\n",
    "\n",
    "filtered['caption'] = filtered.progress_apply(lambda x: functions.apply_caption(x, [caption_0, caption_1]), axis=1)\n",
    "\n",
    "display(\"== Filtered Data With Caption ==\")\n",
    "display(filtered.shape)\n",
    "display(filtered)"
   ],
   "metadata": {
    "collapsed": false,
    "ExecuteTime": {
     "end_time": "2023-05-07T15:53:16.713823300Z",
     "start_time": "2023-05-07T15:51:53.347730200Z"
    }
   }
  },
  {
   "cell_type": "code",
   "execution_count": 18,
   "outputs": [
    {
     "data": {
      "text/plain": "'== Filtered On Missing Caption =='"
     },
     "metadata": {},
     "output_type": "display_data"
    },
    {
     "data": {
      "text/plain": "(75, 15)"
     },
     "metadata": {},
     "output_type": "display_data"
    },
    {
     "data": {
      "text/plain": "              id         subreddit              author   \nid                                                       \n13828y6  13828y6       SFWRedheads         Just_RedFox  \\\n13anyfl  13anyfl       SFWRedheads         mghnbarrett   \n13aof2y  13aof2y       SFWRedheads      Brooklyn102219   \n13aox2z  13aox2z       SFWRedheads  Fantastic-Mix-5761   \n13ap2w8  13ap2w8       SFWRedheads         a-subreddit   \n...          ...               ...                 ...   \n13arvwg  13arvwg      tightdresses    arrayoutofbounds   \n13anz14  13anz14              DLAH    ThisActuator3213   \n13560uf  13560uf  bathandbodyworks     seaweedsquirrel   \n13aocf4  13aocf4  bathandbodyworks          1C3DC0FF33   \n13arexg  13arexg  bathandbodyworks       Dickslayer704   \n\n                                                     title   \nid                                                           \n13828y6                               Am I your type? (oc)  \\\n13anyfl  Red on a redhead never gets old. Also it’s my ...   \n13aof2y                               Do you want to play?   \n13aox2z    I feel great after a night of crazy dreams haha   \n13ap2w8  tried on my prom dress again, lmk what u think...   \n...                                                    ...   \n13arvwg                                     Holiday nights   \n13anz14                                        Black Dress   \n13560uf                                      April empties   \n13aocf4         Is gingham love getting discontinued soon?   \n13arexg  Look what’s coming back!! Blueberry pumpkin pa...   \n\n                                                   caption   \nid                                                           \n13828y6      there is a woman with red hair and a blue top  \\\n13anyfl  arafed woman in a red bikini taking a selfie i...   \n13aof2y  there is a woman taking a selfie in a bathroom...   \n13aox2z  there is a woman that is standing up with her ...   \n13ap2w8  arafed woman in a pink dress posing in a bathroom   \n...                                                    ...   \n13arvwg  araffe woman in a white dress leaning against ...   \n13anz14  araffe woman in a black dress sitting on a bla...   \n13560uf  a close up of a towel with various types of bo...   \n13aocf4  a close up of a bottle of perfume on a white b...   \n13arexg  a close up of a cell phone with a bunch of ite...   \n\n                                     hash   \nid                                          \n13828y6  c2de79816802d5a44ff19702e79722ec  \\\n13anyfl  07669db9ed8e7692c658ff918a84928a   \n13aof2y  0587f6b17b6406dbef0679a55abf7a6e   \n13aox2z  175765cd5f2d9648b6cb4395d08f3842   \n13ap2w8  c7c803c7eeac3615eb1da0dc439f3b59   \n...                                   ...   \n13arvwg  cf7f625bf2831808747d3794f25c1e1e   \n13anz14  3a1eb8cc868144cd404f5b8eb2b3f107   \n13560uf  0fd06cb96793d1d14c37552a6b92f956   \n13aocf4  764309345154649be478ae835668fc88   \n13arexg  7350bc7e92a09d15f27957fca14290ab   \n\n                                                 permalink   \nid                                                           \n13828y6  /r/SFWRedheads/comments/13828y6/am_i_your_type...  \\\n13anyfl  /r/SFWRedheads/comments/13anyfl/red_on_a_redhe...   \n13aof2y  /r/SFWRedheads/comments/13aof2y/do_you_want_to...   \n13aox2z  /r/SFWRedheads/comments/13aox2z/i_feel_great_a...   \n13ap2w8  /r/SFWRedheads/comments/13ap2w8/tried_on_my_pr...   \n...                                                    ...   \n13arvwg   /r/tightdresses/comments/13arvwg/holiday_nights/   \n13anz14              /r/DLAH/comments/13anz14/black_dress/   \n13560uf  /r/bathandbodyworks/comments/13560uf/april_emp...   \n13aocf4  /r/bathandbodyworks/comments/13aocf4/is_gingha...   \n13arexg  /r/bathandbodyworks/comments/13arexg/look_what...   \n\n                                original_url   image_name   \nid                                                          \n13828y6  https://i.redd.it/a5e157nzmxxa1.jpg  13828y6.jpg  \\\n13anyfl  https://i.redd.it/pyfxt9nregya1.jpg  13anyfl.jpg   \n13aof2y  https://i.redd.it/0gpo09d6igya1.jpg  13aof2y.jpg   \n13aox2z  https://i.redd.it/d6y5tf02lgya1.jpg  13aox2z.jpg   \n13ap2w8      https://i.imgur.com/fwQiGfa.jpg  13ap2w8.jpg   \n...                                      ...          ...   \n13arvwg  https://i.redd.it/05gjqjl4tgya1.jpg  13arvwg.jpg   \n13anz14  https://i.redd.it/em9b27jcxeya1.jpg  13anz14.jpg   \n13560uf  https://i.redd.it/p9xffkdrrcxa1.jpg  13560uf.jpg   \n13aocf4  https://i.redd.it/ueb3lqgohgya1.jpg  13aocf4.jpg   \n13arexg  https://i.redd.it/0wuf2e4vrgya1.jpg  13arexg.jpg   \n\n                           path                model  exists  curated accept   \nid                                                                             \n13828y6  data/image/13828y6.jpg     RedHeadDiffusion    True    False  False  \\\n13anyfl  data/image/13anyfl.jpg     RedHeadDiffusion    True    False  False   \n13aof2y  data/image/13aof2y.jpg     RedHeadDiffusion    True    False  False   \n13aox2z  data/image/13aox2z.jpg     RedHeadDiffusion    True    False  False   \n13ap2w8  data/image/13ap2w8.jpg     RedHeadDiffusion    True    False  False   \n...                         ...                  ...     ...      ...    ...   \n13arvwg  data/image/13arvwg.jpg  PrettyGirlDiffusion    True    False  False   \n13anz14  data/image/13anz14.jpg  PrettyGirlDiffusion    True    False  False   \n13560uf  data/image/13560uf.jpg      CandleDiffusion    True    False  False   \n13aocf4  data/image/13aocf4.jpg      CandleDiffusion    True    False  False   \n13arexg  data/image/13arexg.jpg      CandleDiffusion    True    False  False   \n\n        tags  \nid            \n13828y6   []  \n13anyfl   []  \n13aof2y   []  \n13aox2z   []  \n13ap2w8   []  \n...      ...  \n13arvwg   []  \n13anz14   []  \n13560uf   []  \n13aocf4   []  \n13arexg   []  \n\n[75 rows x 15 columns]",
      "text/html": "<div>\n<style scoped>\n    .dataframe tbody tr th:only-of-type {\n        vertical-align: middle;\n    }\n\n    .dataframe tbody tr th {\n        vertical-align: top;\n    }\n\n    .dataframe thead th {\n        text-align: right;\n    }\n</style>\n<table border=\"1\" class=\"dataframe\">\n  <thead>\n    <tr style=\"text-align: right;\">\n      <th></th>\n      <th>id</th>\n      <th>subreddit</th>\n      <th>author</th>\n      <th>title</th>\n      <th>caption</th>\n      <th>hash</th>\n      <th>permalink</th>\n      <th>original_url</th>\n      <th>image_name</th>\n      <th>path</th>\n      <th>model</th>\n      <th>exists</th>\n      <th>curated</th>\n      <th>accept</th>\n      <th>tags</th>\n    </tr>\n    <tr>\n      <th>id</th>\n      <th></th>\n      <th></th>\n      <th></th>\n      <th></th>\n      <th></th>\n      <th></th>\n      <th></th>\n      <th></th>\n      <th></th>\n      <th></th>\n      <th></th>\n      <th></th>\n      <th></th>\n      <th></th>\n      <th></th>\n    </tr>\n  </thead>\n  <tbody>\n    <tr>\n      <th>13828y6</th>\n      <td>13828y6</td>\n      <td>SFWRedheads</td>\n      <td>Just_RedFox</td>\n      <td>Am I your type? (oc)</td>\n      <td>there is a woman with red hair and a blue top</td>\n      <td>c2de79816802d5a44ff19702e79722ec</td>\n      <td>/r/SFWRedheads/comments/13828y6/am_i_your_type...</td>\n      <td>https://i.redd.it/a5e157nzmxxa1.jpg</td>\n      <td>13828y6.jpg</td>\n      <td>data/image/13828y6.jpg</td>\n      <td>RedHeadDiffusion</td>\n      <td>True</td>\n      <td>False</td>\n      <td>False</td>\n      <td>[]</td>\n    </tr>\n    <tr>\n      <th>13anyfl</th>\n      <td>13anyfl</td>\n      <td>SFWRedheads</td>\n      <td>mghnbarrett</td>\n      <td>Red on a redhead never gets old. Also it’s my ...</td>\n      <td>arafed woman in a red bikini taking a selfie i...</td>\n      <td>07669db9ed8e7692c658ff918a84928a</td>\n      <td>/r/SFWRedheads/comments/13anyfl/red_on_a_redhe...</td>\n      <td>https://i.redd.it/pyfxt9nregya1.jpg</td>\n      <td>13anyfl.jpg</td>\n      <td>data/image/13anyfl.jpg</td>\n      <td>RedHeadDiffusion</td>\n      <td>True</td>\n      <td>False</td>\n      <td>False</td>\n      <td>[]</td>\n    </tr>\n    <tr>\n      <th>13aof2y</th>\n      <td>13aof2y</td>\n      <td>SFWRedheads</td>\n      <td>Brooklyn102219</td>\n      <td>Do you want to play?</td>\n      <td>there is a woman taking a selfie in a bathroom...</td>\n      <td>0587f6b17b6406dbef0679a55abf7a6e</td>\n      <td>/r/SFWRedheads/comments/13aof2y/do_you_want_to...</td>\n      <td>https://i.redd.it/0gpo09d6igya1.jpg</td>\n      <td>13aof2y.jpg</td>\n      <td>data/image/13aof2y.jpg</td>\n      <td>RedHeadDiffusion</td>\n      <td>True</td>\n      <td>False</td>\n      <td>False</td>\n      <td>[]</td>\n    </tr>\n    <tr>\n      <th>13aox2z</th>\n      <td>13aox2z</td>\n      <td>SFWRedheads</td>\n      <td>Fantastic-Mix-5761</td>\n      <td>I feel great after a night of crazy dreams haha</td>\n      <td>there is a woman that is standing up with her ...</td>\n      <td>175765cd5f2d9648b6cb4395d08f3842</td>\n      <td>/r/SFWRedheads/comments/13aox2z/i_feel_great_a...</td>\n      <td>https://i.redd.it/d6y5tf02lgya1.jpg</td>\n      <td>13aox2z.jpg</td>\n      <td>data/image/13aox2z.jpg</td>\n      <td>RedHeadDiffusion</td>\n      <td>True</td>\n      <td>False</td>\n      <td>False</td>\n      <td>[]</td>\n    </tr>\n    <tr>\n      <th>13ap2w8</th>\n      <td>13ap2w8</td>\n      <td>SFWRedheads</td>\n      <td>a-subreddit</td>\n      <td>tried on my prom dress again, lmk what u think...</td>\n      <td>arafed woman in a pink dress posing in a bathroom</td>\n      <td>c7c803c7eeac3615eb1da0dc439f3b59</td>\n      <td>/r/SFWRedheads/comments/13ap2w8/tried_on_my_pr...</td>\n      <td>https://i.imgur.com/fwQiGfa.jpg</td>\n      <td>13ap2w8.jpg</td>\n      <td>data/image/13ap2w8.jpg</td>\n      <td>RedHeadDiffusion</td>\n      <td>True</td>\n      <td>False</td>\n      <td>False</td>\n      <td>[]</td>\n    </tr>\n    <tr>\n      <th>...</th>\n      <td>...</td>\n      <td>...</td>\n      <td>...</td>\n      <td>...</td>\n      <td>...</td>\n      <td>...</td>\n      <td>...</td>\n      <td>...</td>\n      <td>...</td>\n      <td>...</td>\n      <td>...</td>\n      <td>...</td>\n      <td>...</td>\n      <td>...</td>\n      <td>...</td>\n    </tr>\n    <tr>\n      <th>13arvwg</th>\n      <td>13arvwg</td>\n      <td>tightdresses</td>\n      <td>arrayoutofbounds</td>\n      <td>Holiday nights</td>\n      <td>araffe woman in a white dress leaning against ...</td>\n      <td>cf7f625bf2831808747d3794f25c1e1e</td>\n      <td>/r/tightdresses/comments/13arvwg/holiday_nights/</td>\n      <td>https://i.redd.it/05gjqjl4tgya1.jpg</td>\n      <td>13arvwg.jpg</td>\n      <td>data/image/13arvwg.jpg</td>\n      <td>PrettyGirlDiffusion</td>\n      <td>True</td>\n      <td>False</td>\n      <td>False</td>\n      <td>[]</td>\n    </tr>\n    <tr>\n      <th>13anz14</th>\n      <td>13anz14</td>\n      <td>DLAH</td>\n      <td>ThisActuator3213</td>\n      <td>Black Dress</td>\n      <td>araffe woman in a black dress sitting on a bla...</td>\n      <td>3a1eb8cc868144cd404f5b8eb2b3f107</td>\n      <td>/r/DLAH/comments/13anz14/black_dress/</td>\n      <td>https://i.redd.it/em9b27jcxeya1.jpg</td>\n      <td>13anz14.jpg</td>\n      <td>data/image/13anz14.jpg</td>\n      <td>PrettyGirlDiffusion</td>\n      <td>True</td>\n      <td>False</td>\n      <td>False</td>\n      <td>[]</td>\n    </tr>\n    <tr>\n      <th>13560uf</th>\n      <td>13560uf</td>\n      <td>bathandbodyworks</td>\n      <td>seaweedsquirrel</td>\n      <td>April empties</td>\n      <td>a close up of a towel with various types of bo...</td>\n      <td>0fd06cb96793d1d14c37552a6b92f956</td>\n      <td>/r/bathandbodyworks/comments/13560uf/april_emp...</td>\n      <td>https://i.redd.it/p9xffkdrrcxa1.jpg</td>\n      <td>13560uf.jpg</td>\n      <td>data/image/13560uf.jpg</td>\n      <td>CandleDiffusion</td>\n      <td>True</td>\n      <td>False</td>\n      <td>False</td>\n      <td>[]</td>\n    </tr>\n    <tr>\n      <th>13aocf4</th>\n      <td>13aocf4</td>\n      <td>bathandbodyworks</td>\n      <td>1C3DC0FF33</td>\n      <td>Is gingham love getting discontinued soon?</td>\n      <td>a close up of a bottle of perfume on a white b...</td>\n      <td>764309345154649be478ae835668fc88</td>\n      <td>/r/bathandbodyworks/comments/13aocf4/is_gingha...</td>\n      <td>https://i.redd.it/ueb3lqgohgya1.jpg</td>\n      <td>13aocf4.jpg</td>\n      <td>data/image/13aocf4.jpg</td>\n      <td>CandleDiffusion</td>\n      <td>True</td>\n      <td>False</td>\n      <td>False</td>\n      <td>[]</td>\n    </tr>\n    <tr>\n      <th>13arexg</th>\n      <td>13arexg</td>\n      <td>bathandbodyworks</td>\n      <td>Dickslayer704</td>\n      <td>Look what’s coming back!! Blueberry pumpkin pa...</td>\n      <td>a close up of a cell phone with a bunch of ite...</td>\n      <td>7350bc7e92a09d15f27957fca14290ab</td>\n      <td>/r/bathandbodyworks/comments/13arexg/look_what...</td>\n      <td>https://i.redd.it/0wuf2e4vrgya1.jpg</td>\n      <td>13arexg.jpg</td>\n      <td>data/image/13arexg.jpg</td>\n      <td>CandleDiffusion</td>\n      <td>True</td>\n      <td>False</td>\n      <td>False</td>\n      <td>[]</td>\n    </tr>\n  </tbody>\n</table>\n<p>75 rows × 15 columns</p>\n</div>"
     },
     "metadata": {},
     "output_type": "display_data"
    },
    {
     "name": "stdout",
     "output_type": "stream",
     "text": [
      "CPU times: total: 15.6 ms\n",
      "Wall time: 15.8 ms\n"
     ]
    }
   ],
   "source": [
    "%%time\n",
    "\n",
    "filtered_more = filtered.loc[(filtered['caption'] != \"\") & (filtered['caption'].notnull()) & (filtered['exists'] == True)]\n",
    "\n",
    "display(\"== Filtered On Missing Caption ==\")\n",
    "display(filtered_more.shape)\n",
    "display(filtered_more)"
   ],
   "metadata": {
    "collapsed": false,
    "ExecuteTime": {
     "end_time": "2023-05-07T15:53:16.781157500Z",
     "start_time": "2023-05-07T15:53:16.650619Z"
    }
   }
  },
  {
   "cell_type": "code",
   "execution_count": 19,
   "outputs": [
    {
     "data": {
      "text/plain": "'== Dropped And Reset Data =='"
     },
     "metadata": {},
     "output_type": "display_data"
    },
    {
     "data": {
      "text/plain": "(75, 15)"
     },
     "metadata": {},
     "output_type": "display_data"
    },
    {
     "data": {
      "text/plain": "         id         subreddit              author   \n0   13828y6       SFWRedheads         Just_RedFox  \\\n1   13anyfl       SFWRedheads         mghnbarrett   \n2   13aof2y       SFWRedheads      Brooklyn102219   \n3   13aox2z       SFWRedheads  Fantastic-Mix-5761   \n4   13ap2w8       SFWRedheads         a-subreddit   \n..      ...               ...                 ...   \n70  13arvwg      tightdresses    arrayoutofbounds   \n71  13anz14              DLAH    ThisActuator3213   \n72  13560uf  bathandbodyworks     seaweedsquirrel   \n73  13aocf4  bathandbodyworks          1C3DC0FF33   \n74  13arexg  bathandbodyworks       Dickslayer704   \n\n                                                title   \n0                                Am I your type? (oc)  \\\n1   Red on a redhead never gets old. Also it’s my ...   \n2                                Do you want to play?   \n3     I feel great after a night of crazy dreams haha   \n4   tried on my prom dress again, lmk what u think...   \n..                                                ...   \n70                                     Holiday nights   \n71                                        Black Dress   \n72                                      April empties   \n73         Is gingham love getting discontinued soon?   \n74  Look what’s coming back!! Blueberry pumpkin pa...   \n\n                                              caption   \n0       there is a woman with red hair and a blue top  \\\n1   arafed woman in a red bikini taking a selfie i...   \n2   there is a woman taking a selfie in a bathroom...   \n3   there is a woman that is standing up with her ...   \n4   arafed woman in a pink dress posing in a bathroom   \n..                                                ...   \n70  araffe woman in a white dress leaning against ...   \n71  araffe woman in a black dress sitting on a bla...   \n72  a close up of a towel with various types of bo...   \n73  a close up of a bottle of perfume on a white b...   \n74  a close up of a cell phone with a bunch of ite...   \n\n                                hash   \n0   c2de79816802d5a44ff19702e79722ec  \\\n1   07669db9ed8e7692c658ff918a84928a   \n2   0587f6b17b6406dbef0679a55abf7a6e   \n3   175765cd5f2d9648b6cb4395d08f3842   \n4   c7c803c7eeac3615eb1da0dc439f3b59   \n..                               ...   \n70  cf7f625bf2831808747d3794f25c1e1e   \n71  3a1eb8cc868144cd404f5b8eb2b3f107   \n72  0fd06cb96793d1d14c37552a6b92f956   \n73  764309345154649be478ae835668fc88   \n74  7350bc7e92a09d15f27957fca14290ab   \n\n                                            permalink   \n0   /r/SFWRedheads/comments/13828y6/am_i_your_type...  \\\n1   /r/SFWRedheads/comments/13anyfl/red_on_a_redhe...   \n2   /r/SFWRedheads/comments/13aof2y/do_you_want_to...   \n3   /r/SFWRedheads/comments/13aox2z/i_feel_great_a...   \n4   /r/SFWRedheads/comments/13ap2w8/tried_on_my_pr...   \n..                                                ...   \n70   /r/tightdresses/comments/13arvwg/holiday_nights/   \n71              /r/DLAH/comments/13anz14/black_dress/   \n72  /r/bathandbodyworks/comments/13560uf/april_emp...   \n73  /r/bathandbodyworks/comments/13aocf4/is_gingha...   \n74  /r/bathandbodyworks/comments/13arexg/look_what...   \n\n                           original_url   image_name                    path   \n0   https://i.redd.it/a5e157nzmxxa1.jpg  13828y6.jpg  data/image/13828y6.jpg  \\\n1   https://i.redd.it/pyfxt9nregya1.jpg  13anyfl.jpg  data/image/13anyfl.jpg   \n2   https://i.redd.it/0gpo09d6igya1.jpg  13aof2y.jpg  data/image/13aof2y.jpg   \n3   https://i.redd.it/d6y5tf02lgya1.jpg  13aox2z.jpg  data/image/13aox2z.jpg   \n4       https://i.imgur.com/fwQiGfa.jpg  13ap2w8.jpg  data/image/13ap2w8.jpg   \n..                                  ...          ...                     ...   \n70  https://i.redd.it/05gjqjl4tgya1.jpg  13arvwg.jpg  data/image/13arvwg.jpg   \n71  https://i.redd.it/em9b27jcxeya1.jpg  13anz14.jpg  data/image/13anz14.jpg   \n72  https://i.redd.it/p9xffkdrrcxa1.jpg  13560uf.jpg  data/image/13560uf.jpg   \n73  https://i.redd.it/ueb3lqgohgya1.jpg  13aocf4.jpg  data/image/13aocf4.jpg   \n74  https://i.redd.it/0wuf2e4vrgya1.jpg  13arexg.jpg  data/image/13arexg.jpg   \n\n                  model  exists  curated accept tags  \n0      RedHeadDiffusion    True    False  False   []  \n1      RedHeadDiffusion    True    False  False   []  \n2      RedHeadDiffusion    True    False  False   []  \n3      RedHeadDiffusion    True    False  False   []  \n4      RedHeadDiffusion    True    False  False   []  \n..                  ...     ...      ...    ...  ...  \n70  PrettyGirlDiffusion    True    False  False   []  \n71  PrettyGirlDiffusion    True    False  False   []  \n72      CandleDiffusion    True    False  False   []  \n73      CandleDiffusion    True    False  False   []  \n74      CandleDiffusion    True    False  False   []  \n\n[75 rows x 15 columns]",
      "text/html": "<div>\n<style scoped>\n    .dataframe tbody tr th:only-of-type {\n        vertical-align: middle;\n    }\n\n    .dataframe tbody tr th {\n        vertical-align: top;\n    }\n\n    .dataframe thead th {\n        text-align: right;\n    }\n</style>\n<table border=\"1\" class=\"dataframe\">\n  <thead>\n    <tr style=\"text-align: right;\">\n      <th></th>\n      <th>id</th>\n      <th>subreddit</th>\n      <th>author</th>\n      <th>title</th>\n      <th>caption</th>\n      <th>hash</th>\n      <th>permalink</th>\n      <th>original_url</th>\n      <th>image_name</th>\n      <th>path</th>\n      <th>model</th>\n      <th>exists</th>\n      <th>curated</th>\n      <th>accept</th>\n      <th>tags</th>\n    </tr>\n  </thead>\n  <tbody>\n    <tr>\n      <th>0</th>\n      <td>13828y6</td>\n      <td>SFWRedheads</td>\n      <td>Just_RedFox</td>\n      <td>Am I your type? (oc)</td>\n      <td>there is a woman with red hair and a blue top</td>\n      <td>c2de79816802d5a44ff19702e79722ec</td>\n      <td>/r/SFWRedheads/comments/13828y6/am_i_your_type...</td>\n      <td>https://i.redd.it/a5e157nzmxxa1.jpg</td>\n      <td>13828y6.jpg</td>\n      <td>data/image/13828y6.jpg</td>\n      <td>RedHeadDiffusion</td>\n      <td>True</td>\n      <td>False</td>\n      <td>False</td>\n      <td>[]</td>\n    </tr>\n    <tr>\n      <th>1</th>\n      <td>13anyfl</td>\n      <td>SFWRedheads</td>\n      <td>mghnbarrett</td>\n      <td>Red on a redhead never gets old. Also it’s my ...</td>\n      <td>arafed woman in a red bikini taking a selfie i...</td>\n      <td>07669db9ed8e7692c658ff918a84928a</td>\n      <td>/r/SFWRedheads/comments/13anyfl/red_on_a_redhe...</td>\n      <td>https://i.redd.it/pyfxt9nregya1.jpg</td>\n      <td>13anyfl.jpg</td>\n      <td>data/image/13anyfl.jpg</td>\n      <td>RedHeadDiffusion</td>\n      <td>True</td>\n      <td>False</td>\n      <td>False</td>\n      <td>[]</td>\n    </tr>\n    <tr>\n      <th>2</th>\n      <td>13aof2y</td>\n      <td>SFWRedheads</td>\n      <td>Brooklyn102219</td>\n      <td>Do you want to play?</td>\n      <td>there is a woman taking a selfie in a bathroom...</td>\n      <td>0587f6b17b6406dbef0679a55abf7a6e</td>\n      <td>/r/SFWRedheads/comments/13aof2y/do_you_want_to...</td>\n      <td>https://i.redd.it/0gpo09d6igya1.jpg</td>\n      <td>13aof2y.jpg</td>\n      <td>data/image/13aof2y.jpg</td>\n      <td>RedHeadDiffusion</td>\n      <td>True</td>\n      <td>False</td>\n      <td>False</td>\n      <td>[]</td>\n    </tr>\n    <tr>\n      <th>3</th>\n      <td>13aox2z</td>\n      <td>SFWRedheads</td>\n      <td>Fantastic-Mix-5761</td>\n      <td>I feel great after a night of crazy dreams haha</td>\n      <td>there is a woman that is standing up with her ...</td>\n      <td>175765cd5f2d9648b6cb4395d08f3842</td>\n      <td>/r/SFWRedheads/comments/13aox2z/i_feel_great_a...</td>\n      <td>https://i.redd.it/d6y5tf02lgya1.jpg</td>\n      <td>13aox2z.jpg</td>\n      <td>data/image/13aox2z.jpg</td>\n      <td>RedHeadDiffusion</td>\n      <td>True</td>\n      <td>False</td>\n      <td>False</td>\n      <td>[]</td>\n    </tr>\n    <tr>\n      <th>4</th>\n      <td>13ap2w8</td>\n      <td>SFWRedheads</td>\n      <td>a-subreddit</td>\n      <td>tried on my prom dress again, lmk what u think...</td>\n      <td>arafed woman in a pink dress posing in a bathroom</td>\n      <td>c7c803c7eeac3615eb1da0dc439f3b59</td>\n      <td>/r/SFWRedheads/comments/13ap2w8/tried_on_my_pr...</td>\n      <td>https://i.imgur.com/fwQiGfa.jpg</td>\n      <td>13ap2w8.jpg</td>\n      <td>data/image/13ap2w8.jpg</td>\n      <td>RedHeadDiffusion</td>\n      <td>True</td>\n      <td>False</td>\n      <td>False</td>\n      <td>[]</td>\n    </tr>\n    <tr>\n      <th>...</th>\n      <td>...</td>\n      <td>...</td>\n      <td>...</td>\n      <td>...</td>\n      <td>...</td>\n      <td>...</td>\n      <td>...</td>\n      <td>...</td>\n      <td>...</td>\n      <td>...</td>\n      <td>...</td>\n      <td>...</td>\n      <td>...</td>\n      <td>...</td>\n      <td>...</td>\n    </tr>\n    <tr>\n      <th>70</th>\n      <td>13arvwg</td>\n      <td>tightdresses</td>\n      <td>arrayoutofbounds</td>\n      <td>Holiday nights</td>\n      <td>araffe woman in a white dress leaning against ...</td>\n      <td>cf7f625bf2831808747d3794f25c1e1e</td>\n      <td>/r/tightdresses/comments/13arvwg/holiday_nights/</td>\n      <td>https://i.redd.it/05gjqjl4tgya1.jpg</td>\n      <td>13arvwg.jpg</td>\n      <td>data/image/13arvwg.jpg</td>\n      <td>PrettyGirlDiffusion</td>\n      <td>True</td>\n      <td>False</td>\n      <td>False</td>\n      <td>[]</td>\n    </tr>\n    <tr>\n      <th>71</th>\n      <td>13anz14</td>\n      <td>DLAH</td>\n      <td>ThisActuator3213</td>\n      <td>Black Dress</td>\n      <td>araffe woman in a black dress sitting on a bla...</td>\n      <td>3a1eb8cc868144cd404f5b8eb2b3f107</td>\n      <td>/r/DLAH/comments/13anz14/black_dress/</td>\n      <td>https://i.redd.it/em9b27jcxeya1.jpg</td>\n      <td>13anz14.jpg</td>\n      <td>data/image/13anz14.jpg</td>\n      <td>PrettyGirlDiffusion</td>\n      <td>True</td>\n      <td>False</td>\n      <td>False</td>\n      <td>[]</td>\n    </tr>\n    <tr>\n      <th>72</th>\n      <td>13560uf</td>\n      <td>bathandbodyworks</td>\n      <td>seaweedsquirrel</td>\n      <td>April empties</td>\n      <td>a close up of a towel with various types of bo...</td>\n      <td>0fd06cb96793d1d14c37552a6b92f956</td>\n      <td>/r/bathandbodyworks/comments/13560uf/april_emp...</td>\n      <td>https://i.redd.it/p9xffkdrrcxa1.jpg</td>\n      <td>13560uf.jpg</td>\n      <td>data/image/13560uf.jpg</td>\n      <td>CandleDiffusion</td>\n      <td>True</td>\n      <td>False</td>\n      <td>False</td>\n      <td>[]</td>\n    </tr>\n    <tr>\n      <th>73</th>\n      <td>13aocf4</td>\n      <td>bathandbodyworks</td>\n      <td>1C3DC0FF33</td>\n      <td>Is gingham love getting discontinued soon?</td>\n      <td>a close up of a bottle of perfume on a white b...</td>\n      <td>764309345154649be478ae835668fc88</td>\n      <td>/r/bathandbodyworks/comments/13aocf4/is_gingha...</td>\n      <td>https://i.redd.it/ueb3lqgohgya1.jpg</td>\n      <td>13aocf4.jpg</td>\n      <td>data/image/13aocf4.jpg</td>\n      <td>CandleDiffusion</td>\n      <td>True</td>\n      <td>False</td>\n      <td>False</td>\n      <td>[]</td>\n    </tr>\n    <tr>\n      <th>74</th>\n      <td>13arexg</td>\n      <td>bathandbodyworks</td>\n      <td>Dickslayer704</td>\n      <td>Look what’s coming back!! Blueberry pumpkin pa...</td>\n      <td>a close up of a cell phone with a bunch of ite...</td>\n      <td>7350bc7e92a09d15f27957fca14290ab</td>\n      <td>/r/bathandbodyworks/comments/13arexg/look_what...</td>\n      <td>https://i.redd.it/0wuf2e4vrgya1.jpg</td>\n      <td>13arexg.jpg</td>\n      <td>data/image/13arexg.jpg</td>\n      <td>CandleDiffusion</td>\n      <td>True</td>\n      <td>False</td>\n      <td>False</td>\n      <td>[]</td>\n    </tr>\n  </tbody>\n</table>\n<p>75 rows × 15 columns</p>\n</div>"
     },
     "metadata": {},
     "output_type": "display_data"
    },
    {
     "name": "stdout",
     "output_type": "stream",
     "text": [
      "CPU times: total: 15.6 ms\n",
      "Wall time: 15.7 ms\n"
     ]
    }
   ],
   "source": [
    "%%time\n",
    "\n",
    "dropped = filtered_more.dropna(axis=1, how='all')\n",
    "dropped.reset_index(drop=True, inplace=True)\n",
    "\n",
    "display(\"== Dropped And Reset Data ==\")\n",
    "display(dropped.shape)\n",
    "display(dropped)"
   ],
   "metadata": {
    "collapsed": false,
    "ExecuteTime": {
     "end_time": "2023-05-07T15:53:16.781157500Z",
     "start_time": "2023-05-07T15:53:16.682496400Z"
    }
   }
  },
  {
   "cell_type": "code",
   "execution_count": 20,
   "outputs": [
    {
     "data": {
      "text/plain": "(36107, 15)"
     },
     "metadata": {},
     "output_type": "display_data"
    },
    {
     "data": {
      "text/plain": "            id         subreddit              author   \n0      100rn7k          AmIhotAF        veritynicole  \\\n1      1013bdt          AmIhotAF         RaulDea9286   \n2      105mekt          AmIhotAF            lindaniz   \n3      105qvgl          AmIhotAF         CaitVLove11   \n4      105rpcj          AmIhotAF     Flashy-Desk1858   \n...        ...               ...                 ...   \n36102  13a86yn  bathandbodyworks     That_Animal6354   \n36103  13a9xed  bathandbodyworks            hill-top   \n36104  13abmo0  bathandbodyworks            dekudoll   \n36105  13acr41  bathandbodyworks  notalivejustliving   \n36106  13ajo0r  bathandbodyworks       singshopsleep   \n\n                                                 title   \n0                  hey, hows your new year going (23F)  \\\n1                                        36F - ITALIAN   \n2       interesting in good forward relationship (f24)   \n3                            Laughing is my favorite 😆   \n4             [f22] What do you think when you see me?   \n...                                                ...   \n36102  Gourmands are my favorite if you couldn't tell.   \n36103                                 April Empties! 🥳   \n36104                February, March, & April Empties!   \n36105                               Scent of the night   \n36106                            All of Today's Offers   \n\n                                                 caption   \n0      a woman in a white shirt and black pants is po...  \\\n1                arafed image of a woman in a bikini top   \n2      a close up of a woman with red hair and a whit...   \n3      a woman in a blue tank top and shorts is smili...   \n4        a woman in a blue bikini top and a blue bra top   \n...                                                  ...   \n36102  three different types of body care products ar...   \n36103  bottles of various types of skin care products...   \n36104  a close up of a variety of body care products ...   \n36105      candles are sitting on a table next to a cake   \n36106  a poster for a beauty store with a price of $ ...   \n\n                                   hash   \n0      4bd00c19fa0ff2ade855e6d364b0760b  \\\n1      7c0d158cba8654ef1c635cbc5471d597   \n2      ba4a0962cca2266a741e1e1700589c04   \n3      27bfe82c37314a0bcf02ab72eaf3a9e5   \n4      329eb42b8267fa1cc2980da8e48bcef1   \n...                                 ...   \n36102  07059e37cc477cf7d9121bcc631f197e   \n36103  7d7dc8a74cafaba5524844909b9319cd   \n36104  d2424a18844842421e1baeca4c491a28   \n36105  1a7cc03534fa2e3068398700e8180485   \n36106  0726d6d9bb3a78e5dda8b4fa21c3d61e   \n\n                                               permalink   \n0      /r/AmIhotAF/comments/100rn7k/hey_hows_your_new...  \\\n1              /r/AmIhotAF/comments/1013bdt/36f_italian/   \n2      /r/AmIhotAF/comments/105mekt/interesting_in_go...   \n3      /r/AmIhotAF/comments/105qvgl/laughing_is_my_fa...   \n4      /r/AmIhotAF/comments/105rpcj/f22_what_do_you_t...   \n...                                                  ...   \n36102  /r/bathandbodyworks/comments/13a86yn/gourmands...   \n36103  /r/bathandbodyworks/comments/13a9xed/april_emp...   \n36104  /r/bathandbodyworks/comments/13abmo0/february_...   \n36105  /r/bathandbodyworks/comments/13acr41/scent_of_...   \n36106  /r/bathandbodyworks/comments/13ajo0r/all_of_to...   \n\n                              original_url   image_name   \n0      https://i.redd.it/n7r47s0gkh9a1.jpg  100rn7k.jpg  \\\n1      https://i.redd.it/bg0wwdlt5k9a1.jpg  1013bdt.jpg   \n2      https://i.redd.it/4avjshsz8naa1.jpg  105mekt.jpg   \n3      https://i.redd.it/2pulzr0lxmaa1.jpg  105qvgl.jpg   \n4      https://i.redd.it/rz68pf934naa1.jpg  105rpcj.jpg   \n...                                    ...          ...   \n36102  https://i.redd.it/bvae4tc0pcya1.jpg  13a86yn.jpg   \n36103  https://i.redd.it/n3h2v4qh2dya1.jpg  13a9xed.jpg   \n36104  https://i.redd.it/29cq0ftmfdya1.jpg  13abmo0.jpg   \n36105  https://i.redd.it/3p5gzlfsodya1.jpg  13acr41.jpg   \n36106  https://i.redd.it/8tlent17ffya1.jpg  13ajo0r.jpg   \n\n                         path            model  exists  curated  accept tags  \n0      data/image/100rn7k.jpg    SexyDiffusion    True     True   False   []  \n1      data/image/1013bdt.jpg    SexyDiffusion    True     True    True   []  \n2      data/image/105mekt.jpg    SexyDiffusion    True     True    True   []  \n3      data/image/105qvgl.jpg    SexyDiffusion    True     True    True   []  \n4      data/image/105rpcj.jpg    SexyDiffusion    True     True    True   []  \n...                       ...              ...     ...      ...     ...  ...  \n36102  data/image/13a86yn.jpg  CandleDiffusion    True    False   False   []  \n36103  data/image/13a9xed.jpg  CandleDiffusion    True    False   False   []  \n36104  data/image/13abmo0.jpg  CandleDiffusion    True    False   False   []  \n36105  data/image/13acr41.jpg  CandleDiffusion    True    False   False   []  \n36106  data/image/13ajo0r.jpg  CandleDiffusion    True    False   False   []  \n\n[36107 rows x 15 columns]",
      "text/html": "<div>\n<style scoped>\n    .dataframe tbody tr th:only-of-type {\n        vertical-align: middle;\n    }\n\n    .dataframe tbody tr th {\n        vertical-align: top;\n    }\n\n    .dataframe thead th {\n        text-align: right;\n    }\n</style>\n<table border=\"1\" class=\"dataframe\">\n  <thead>\n    <tr style=\"text-align: right;\">\n      <th></th>\n      <th>id</th>\n      <th>subreddit</th>\n      <th>author</th>\n      <th>title</th>\n      <th>caption</th>\n      <th>hash</th>\n      <th>permalink</th>\n      <th>original_url</th>\n      <th>image_name</th>\n      <th>path</th>\n      <th>model</th>\n      <th>exists</th>\n      <th>curated</th>\n      <th>accept</th>\n      <th>tags</th>\n    </tr>\n  </thead>\n  <tbody>\n    <tr>\n      <th>0</th>\n      <td>100rn7k</td>\n      <td>AmIhotAF</td>\n      <td>veritynicole</td>\n      <td>hey, hows your new year going (23F)</td>\n      <td>a woman in a white shirt and black pants is po...</td>\n      <td>4bd00c19fa0ff2ade855e6d364b0760b</td>\n      <td>/r/AmIhotAF/comments/100rn7k/hey_hows_your_new...</td>\n      <td>https://i.redd.it/n7r47s0gkh9a1.jpg</td>\n      <td>100rn7k.jpg</td>\n      <td>data/image/100rn7k.jpg</td>\n      <td>SexyDiffusion</td>\n      <td>True</td>\n      <td>True</td>\n      <td>False</td>\n      <td>[]</td>\n    </tr>\n    <tr>\n      <th>1</th>\n      <td>1013bdt</td>\n      <td>AmIhotAF</td>\n      <td>RaulDea9286</td>\n      <td>36F - ITALIAN</td>\n      <td>arafed image of a woman in a bikini top</td>\n      <td>7c0d158cba8654ef1c635cbc5471d597</td>\n      <td>/r/AmIhotAF/comments/1013bdt/36f_italian/</td>\n      <td>https://i.redd.it/bg0wwdlt5k9a1.jpg</td>\n      <td>1013bdt.jpg</td>\n      <td>data/image/1013bdt.jpg</td>\n      <td>SexyDiffusion</td>\n      <td>True</td>\n      <td>True</td>\n      <td>True</td>\n      <td>[]</td>\n    </tr>\n    <tr>\n      <th>2</th>\n      <td>105mekt</td>\n      <td>AmIhotAF</td>\n      <td>lindaniz</td>\n      <td>interesting in good forward relationship (f24)</td>\n      <td>a close up of a woman with red hair and a whit...</td>\n      <td>ba4a0962cca2266a741e1e1700589c04</td>\n      <td>/r/AmIhotAF/comments/105mekt/interesting_in_go...</td>\n      <td>https://i.redd.it/4avjshsz8naa1.jpg</td>\n      <td>105mekt.jpg</td>\n      <td>data/image/105mekt.jpg</td>\n      <td>SexyDiffusion</td>\n      <td>True</td>\n      <td>True</td>\n      <td>True</td>\n      <td>[]</td>\n    </tr>\n    <tr>\n      <th>3</th>\n      <td>105qvgl</td>\n      <td>AmIhotAF</td>\n      <td>CaitVLove11</td>\n      <td>Laughing is my favorite 😆</td>\n      <td>a woman in a blue tank top and shorts is smili...</td>\n      <td>27bfe82c37314a0bcf02ab72eaf3a9e5</td>\n      <td>/r/AmIhotAF/comments/105qvgl/laughing_is_my_fa...</td>\n      <td>https://i.redd.it/2pulzr0lxmaa1.jpg</td>\n      <td>105qvgl.jpg</td>\n      <td>data/image/105qvgl.jpg</td>\n      <td>SexyDiffusion</td>\n      <td>True</td>\n      <td>True</td>\n      <td>True</td>\n      <td>[]</td>\n    </tr>\n    <tr>\n      <th>4</th>\n      <td>105rpcj</td>\n      <td>AmIhotAF</td>\n      <td>Flashy-Desk1858</td>\n      <td>[f22] What do you think when you see me?</td>\n      <td>a woman in a blue bikini top and a blue bra top</td>\n      <td>329eb42b8267fa1cc2980da8e48bcef1</td>\n      <td>/r/AmIhotAF/comments/105rpcj/f22_what_do_you_t...</td>\n      <td>https://i.redd.it/rz68pf934naa1.jpg</td>\n      <td>105rpcj.jpg</td>\n      <td>data/image/105rpcj.jpg</td>\n      <td>SexyDiffusion</td>\n      <td>True</td>\n      <td>True</td>\n      <td>True</td>\n      <td>[]</td>\n    </tr>\n    <tr>\n      <th>...</th>\n      <td>...</td>\n      <td>...</td>\n      <td>...</td>\n      <td>...</td>\n      <td>...</td>\n      <td>...</td>\n      <td>...</td>\n      <td>...</td>\n      <td>...</td>\n      <td>...</td>\n      <td>...</td>\n      <td>...</td>\n      <td>...</td>\n      <td>...</td>\n      <td>...</td>\n    </tr>\n    <tr>\n      <th>36102</th>\n      <td>13a86yn</td>\n      <td>bathandbodyworks</td>\n      <td>That_Animal6354</td>\n      <td>Gourmands are my favorite if you couldn't tell.</td>\n      <td>three different types of body care products ar...</td>\n      <td>07059e37cc477cf7d9121bcc631f197e</td>\n      <td>/r/bathandbodyworks/comments/13a86yn/gourmands...</td>\n      <td>https://i.redd.it/bvae4tc0pcya1.jpg</td>\n      <td>13a86yn.jpg</td>\n      <td>data/image/13a86yn.jpg</td>\n      <td>CandleDiffusion</td>\n      <td>True</td>\n      <td>False</td>\n      <td>False</td>\n      <td>[]</td>\n    </tr>\n    <tr>\n      <th>36103</th>\n      <td>13a9xed</td>\n      <td>bathandbodyworks</td>\n      <td>hill-top</td>\n      <td>April Empties! 🥳</td>\n      <td>bottles of various types of skin care products...</td>\n      <td>7d7dc8a74cafaba5524844909b9319cd</td>\n      <td>/r/bathandbodyworks/comments/13a9xed/april_emp...</td>\n      <td>https://i.redd.it/n3h2v4qh2dya1.jpg</td>\n      <td>13a9xed.jpg</td>\n      <td>data/image/13a9xed.jpg</td>\n      <td>CandleDiffusion</td>\n      <td>True</td>\n      <td>False</td>\n      <td>False</td>\n      <td>[]</td>\n    </tr>\n    <tr>\n      <th>36104</th>\n      <td>13abmo0</td>\n      <td>bathandbodyworks</td>\n      <td>dekudoll</td>\n      <td>February, March, &amp; April Empties!</td>\n      <td>a close up of a variety of body care products ...</td>\n      <td>d2424a18844842421e1baeca4c491a28</td>\n      <td>/r/bathandbodyworks/comments/13abmo0/february_...</td>\n      <td>https://i.redd.it/29cq0ftmfdya1.jpg</td>\n      <td>13abmo0.jpg</td>\n      <td>data/image/13abmo0.jpg</td>\n      <td>CandleDiffusion</td>\n      <td>True</td>\n      <td>False</td>\n      <td>False</td>\n      <td>[]</td>\n    </tr>\n    <tr>\n      <th>36105</th>\n      <td>13acr41</td>\n      <td>bathandbodyworks</td>\n      <td>notalivejustliving</td>\n      <td>Scent of the night</td>\n      <td>candles are sitting on a table next to a cake</td>\n      <td>1a7cc03534fa2e3068398700e8180485</td>\n      <td>/r/bathandbodyworks/comments/13acr41/scent_of_...</td>\n      <td>https://i.redd.it/3p5gzlfsodya1.jpg</td>\n      <td>13acr41.jpg</td>\n      <td>data/image/13acr41.jpg</td>\n      <td>CandleDiffusion</td>\n      <td>True</td>\n      <td>False</td>\n      <td>False</td>\n      <td>[]</td>\n    </tr>\n    <tr>\n      <th>36106</th>\n      <td>13ajo0r</td>\n      <td>bathandbodyworks</td>\n      <td>singshopsleep</td>\n      <td>All of Today's Offers</td>\n      <td>a poster for a beauty store with a price of $ ...</td>\n      <td>0726d6d9bb3a78e5dda8b4fa21c3d61e</td>\n      <td>/r/bathandbodyworks/comments/13ajo0r/all_of_to...</td>\n      <td>https://i.redd.it/8tlent17ffya1.jpg</td>\n      <td>13ajo0r.jpg</td>\n      <td>data/image/13ajo0r.jpg</td>\n      <td>CandleDiffusion</td>\n      <td>True</td>\n      <td>False</td>\n      <td>False</td>\n      <td>[]</td>\n    </tr>\n  </tbody>\n</table>\n<p>36107 rows × 15 columns</p>\n</div>"
     },
     "metadata": {},
     "output_type": "display_data"
    },
    {
     "name": "stdout",
     "output_type": "stream",
     "text": [
      "CPU times: total: 234 ms\n",
      "Wall time: 1.02 s\n"
     ]
    }
   ],
   "source": [
    "%%time\n",
    "\n",
    "current = pandas.read_parquet(\"data/parquet/back.parquet\", engine='pyarrow', filesystem=file_system)\n",
    "\n",
    "display(current.shape)\n",
    "display(current)"
   ],
   "metadata": {
    "collapsed": false,
    "ExecuteTime": {
     "end_time": "2023-05-07T15:53:17.775591900Z",
     "start_time": "2023-05-07T15:53:16.714844Z"
    }
   }
  },
  {
   "cell_type": "code",
   "execution_count": 21,
   "outputs": [
    {
     "name": "stdout",
     "output_type": "stream",
     "text": [
      "CPU times: total: 0 ns\n",
      "Wall time: 0 ns\n"
     ]
    },
    {
     "data": {
      "text/plain": "              id         subreddit              author   \nid                                                       \n13828y6  13828y6       SFWRedheads         Just_RedFox  \\\n13anyfl  13anyfl       SFWRedheads         mghnbarrett   \n13aof2y  13aof2y       SFWRedheads      Brooklyn102219   \n13aox2z  13aox2z       SFWRedheads  Fantastic-Mix-5761   \n13ap2w8  13ap2w8       SFWRedheads         a-subreddit   \n...          ...               ...                 ...   \n13arvwg  13arvwg      tightdresses    arrayoutofbounds   \n13anz14  13anz14              DLAH    ThisActuator3213   \n13560uf  13560uf  bathandbodyworks     seaweedsquirrel   \n13aocf4  13aocf4  bathandbodyworks          1C3DC0FF33   \n13arexg  13arexg  bathandbodyworks       Dickslayer704   \n\n                                                     title   \nid                                                           \n13828y6                               Am I your type? (oc)  \\\n13anyfl  Red on a redhead never gets old. Also it’s my ...   \n13aof2y                               Do you want to play?   \n13aox2z    I feel great after a night of crazy dreams haha   \n13ap2w8  tried on my prom dress again, lmk what u think...   \n...                                                    ...   \n13arvwg                                     Holiday nights   \n13anz14                                        Black Dress   \n13560uf                                      April empties   \n13aocf4         Is gingham love getting discontinued soon?   \n13arexg  Look what’s coming back!! Blueberry pumpkin pa...   \n\n                                                   caption   \nid                                                           \n13828y6      there is a woman with red hair and a blue top  \\\n13anyfl  arafed woman in a red bikini taking a selfie i...   \n13aof2y  there is a woman taking a selfie in a bathroom...   \n13aox2z  there is a woman that is standing up with her ...   \n13ap2w8  arafed woman in a pink dress posing in a bathroom   \n...                                                    ...   \n13arvwg  araffe woman in a white dress leaning against ...   \n13anz14  araffe woman in a black dress sitting on a bla...   \n13560uf  a close up of a towel with various types of bo...   \n13aocf4  a close up of a bottle of perfume on a white b...   \n13arexg  a close up of a cell phone with a bunch of ite...   \n\n                                     hash   \nid                                          \n13828y6  c2de79816802d5a44ff19702e79722ec  \\\n13anyfl  07669db9ed8e7692c658ff918a84928a   \n13aof2y  0587f6b17b6406dbef0679a55abf7a6e   \n13aox2z  175765cd5f2d9648b6cb4395d08f3842   \n13ap2w8  c7c803c7eeac3615eb1da0dc439f3b59   \n...                                   ...   \n13arvwg  cf7f625bf2831808747d3794f25c1e1e   \n13anz14  3a1eb8cc868144cd404f5b8eb2b3f107   \n13560uf  0fd06cb96793d1d14c37552a6b92f956   \n13aocf4  764309345154649be478ae835668fc88   \n13arexg  7350bc7e92a09d15f27957fca14290ab   \n\n                                                 permalink   \nid                                                           \n13828y6  /r/SFWRedheads/comments/13828y6/am_i_your_type...  \\\n13anyfl  /r/SFWRedheads/comments/13anyfl/red_on_a_redhe...   \n13aof2y  /r/SFWRedheads/comments/13aof2y/do_you_want_to...   \n13aox2z  /r/SFWRedheads/comments/13aox2z/i_feel_great_a...   \n13ap2w8  /r/SFWRedheads/comments/13ap2w8/tried_on_my_pr...   \n...                                                    ...   \n13arvwg   /r/tightdresses/comments/13arvwg/holiday_nights/   \n13anz14              /r/DLAH/comments/13anz14/black_dress/   \n13560uf  /r/bathandbodyworks/comments/13560uf/april_emp...   \n13aocf4  /r/bathandbodyworks/comments/13aocf4/is_gingha...   \n13arexg  /r/bathandbodyworks/comments/13arexg/look_what...   \n\n                                original_url   image_name   \nid                                                          \n13828y6  https://i.redd.it/a5e157nzmxxa1.jpg  13828y6.jpg  \\\n13anyfl  https://i.redd.it/pyfxt9nregya1.jpg  13anyfl.jpg   \n13aof2y  https://i.redd.it/0gpo09d6igya1.jpg  13aof2y.jpg   \n13aox2z  https://i.redd.it/d6y5tf02lgya1.jpg  13aox2z.jpg   \n13ap2w8      https://i.imgur.com/fwQiGfa.jpg  13ap2w8.jpg   \n...                                      ...          ...   \n13arvwg  https://i.redd.it/05gjqjl4tgya1.jpg  13arvwg.jpg   \n13anz14  https://i.redd.it/em9b27jcxeya1.jpg  13anz14.jpg   \n13560uf  https://i.redd.it/p9xffkdrrcxa1.jpg  13560uf.jpg   \n13aocf4  https://i.redd.it/ueb3lqgohgya1.jpg  13aocf4.jpg   \n13arexg  https://i.redd.it/0wuf2e4vrgya1.jpg  13arexg.jpg   \n\n                           path                model  exists  curated accept   \nid                                                                             \n13828y6  data/image/13828y6.jpg     RedHeadDiffusion    True    False  False  \\\n13anyfl  data/image/13anyfl.jpg     RedHeadDiffusion    True    False  False   \n13aof2y  data/image/13aof2y.jpg     RedHeadDiffusion    True    False  False   \n13aox2z  data/image/13aox2z.jpg     RedHeadDiffusion    True    False  False   \n13ap2w8  data/image/13ap2w8.jpg     RedHeadDiffusion    True    False  False   \n...                         ...                  ...     ...      ...    ...   \n13arvwg  data/image/13arvwg.jpg  PrettyGirlDiffusion    True    False  False   \n13anz14  data/image/13anz14.jpg  PrettyGirlDiffusion    True    False  False   \n13560uf  data/image/13560uf.jpg      CandleDiffusion    True    False  False   \n13aocf4  data/image/13aocf4.jpg      CandleDiffusion    True    False  False   \n13arexg  data/image/13arexg.jpg      CandleDiffusion    True    False  False   \n\n        tags  \nid            \n13828y6   []  \n13anyfl   []  \n13aof2y   []  \n13aox2z   []  \n13ap2w8   []  \n...      ...  \n13arvwg   []  \n13anz14   []  \n13560uf   []  \n13aocf4   []  \n13arexg   []  \n\n[75 rows x 15 columns]",
      "text/html": "<div>\n<style scoped>\n    .dataframe tbody tr th:only-of-type {\n        vertical-align: middle;\n    }\n\n    .dataframe tbody tr th {\n        vertical-align: top;\n    }\n\n    .dataframe thead th {\n        text-align: right;\n    }\n</style>\n<table border=\"1\" class=\"dataframe\">\n  <thead>\n    <tr style=\"text-align: right;\">\n      <th></th>\n      <th>id</th>\n      <th>subreddit</th>\n      <th>author</th>\n      <th>title</th>\n      <th>caption</th>\n      <th>hash</th>\n      <th>permalink</th>\n      <th>original_url</th>\n      <th>image_name</th>\n      <th>path</th>\n      <th>model</th>\n      <th>exists</th>\n      <th>curated</th>\n      <th>accept</th>\n      <th>tags</th>\n    </tr>\n    <tr>\n      <th>id</th>\n      <th></th>\n      <th></th>\n      <th></th>\n      <th></th>\n      <th></th>\n      <th></th>\n      <th></th>\n      <th></th>\n      <th></th>\n      <th></th>\n      <th></th>\n      <th></th>\n      <th></th>\n      <th></th>\n      <th></th>\n    </tr>\n  </thead>\n  <tbody>\n    <tr>\n      <th>13828y6</th>\n      <td>13828y6</td>\n      <td>SFWRedheads</td>\n      <td>Just_RedFox</td>\n      <td>Am I your type? (oc)</td>\n      <td>there is a woman with red hair and a blue top</td>\n      <td>c2de79816802d5a44ff19702e79722ec</td>\n      <td>/r/SFWRedheads/comments/13828y6/am_i_your_type...</td>\n      <td>https://i.redd.it/a5e157nzmxxa1.jpg</td>\n      <td>13828y6.jpg</td>\n      <td>data/image/13828y6.jpg</td>\n      <td>RedHeadDiffusion</td>\n      <td>True</td>\n      <td>False</td>\n      <td>False</td>\n      <td>[]</td>\n    </tr>\n    <tr>\n      <th>13anyfl</th>\n      <td>13anyfl</td>\n      <td>SFWRedheads</td>\n      <td>mghnbarrett</td>\n      <td>Red on a redhead never gets old. Also it’s my ...</td>\n      <td>arafed woman in a red bikini taking a selfie i...</td>\n      <td>07669db9ed8e7692c658ff918a84928a</td>\n      <td>/r/SFWRedheads/comments/13anyfl/red_on_a_redhe...</td>\n      <td>https://i.redd.it/pyfxt9nregya1.jpg</td>\n      <td>13anyfl.jpg</td>\n      <td>data/image/13anyfl.jpg</td>\n      <td>RedHeadDiffusion</td>\n      <td>True</td>\n      <td>False</td>\n      <td>False</td>\n      <td>[]</td>\n    </tr>\n    <tr>\n      <th>13aof2y</th>\n      <td>13aof2y</td>\n      <td>SFWRedheads</td>\n      <td>Brooklyn102219</td>\n      <td>Do you want to play?</td>\n      <td>there is a woman taking a selfie in a bathroom...</td>\n      <td>0587f6b17b6406dbef0679a55abf7a6e</td>\n      <td>/r/SFWRedheads/comments/13aof2y/do_you_want_to...</td>\n      <td>https://i.redd.it/0gpo09d6igya1.jpg</td>\n      <td>13aof2y.jpg</td>\n      <td>data/image/13aof2y.jpg</td>\n      <td>RedHeadDiffusion</td>\n      <td>True</td>\n      <td>False</td>\n      <td>False</td>\n      <td>[]</td>\n    </tr>\n    <tr>\n      <th>13aox2z</th>\n      <td>13aox2z</td>\n      <td>SFWRedheads</td>\n      <td>Fantastic-Mix-5761</td>\n      <td>I feel great after a night of crazy dreams haha</td>\n      <td>there is a woman that is standing up with her ...</td>\n      <td>175765cd5f2d9648b6cb4395d08f3842</td>\n      <td>/r/SFWRedheads/comments/13aox2z/i_feel_great_a...</td>\n      <td>https://i.redd.it/d6y5tf02lgya1.jpg</td>\n      <td>13aox2z.jpg</td>\n      <td>data/image/13aox2z.jpg</td>\n      <td>RedHeadDiffusion</td>\n      <td>True</td>\n      <td>False</td>\n      <td>False</td>\n      <td>[]</td>\n    </tr>\n    <tr>\n      <th>13ap2w8</th>\n      <td>13ap2w8</td>\n      <td>SFWRedheads</td>\n      <td>a-subreddit</td>\n      <td>tried on my prom dress again, lmk what u think...</td>\n      <td>arafed woman in a pink dress posing in a bathroom</td>\n      <td>c7c803c7eeac3615eb1da0dc439f3b59</td>\n      <td>/r/SFWRedheads/comments/13ap2w8/tried_on_my_pr...</td>\n      <td>https://i.imgur.com/fwQiGfa.jpg</td>\n      <td>13ap2w8.jpg</td>\n      <td>data/image/13ap2w8.jpg</td>\n      <td>RedHeadDiffusion</td>\n      <td>True</td>\n      <td>False</td>\n      <td>False</td>\n      <td>[]</td>\n    </tr>\n    <tr>\n      <th>...</th>\n      <td>...</td>\n      <td>...</td>\n      <td>...</td>\n      <td>...</td>\n      <td>...</td>\n      <td>...</td>\n      <td>...</td>\n      <td>...</td>\n      <td>...</td>\n      <td>...</td>\n      <td>...</td>\n      <td>...</td>\n      <td>...</td>\n      <td>...</td>\n      <td>...</td>\n    </tr>\n    <tr>\n      <th>13arvwg</th>\n      <td>13arvwg</td>\n      <td>tightdresses</td>\n      <td>arrayoutofbounds</td>\n      <td>Holiday nights</td>\n      <td>araffe woman in a white dress leaning against ...</td>\n      <td>cf7f625bf2831808747d3794f25c1e1e</td>\n      <td>/r/tightdresses/comments/13arvwg/holiday_nights/</td>\n      <td>https://i.redd.it/05gjqjl4tgya1.jpg</td>\n      <td>13arvwg.jpg</td>\n      <td>data/image/13arvwg.jpg</td>\n      <td>PrettyGirlDiffusion</td>\n      <td>True</td>\n      <td>False</td>\n      <td>False</td>\n      <td>[]</td>\n    </tr>\n    <tr>\n      <th>13anz14</th>\n      <td>13anz14</td>\n      <td>DLAH</td>\n      <td>ThisActuator3213</td>\n      <td>Black Dress</td>\n      <td>araffe woman in a black dress sitting on a bla...</td>\n      <td>3a1eb8cc868144cd404f5b8eb2b3f107</td>\n      <td>/r/DLAH/comments/13anz14/black_dress/</td>\n      <td>https://i.redd.it/em9b27jcxeya1.jpg</td>\n      <td>13anz14.jpg</td>\n      <td>data/image/13anz14.jpg</td>\n      <td>PrettyGirlDiffusion</td>\n      <td>True</td>\n      <td>False</td>\n      <td>False</td>\n      <td>[]</td>\n    </tr>\n    <tr>\n      <th>13560uf</th>\n      <td>13560uf</td>\n      <td>bathandbodyworks</td>\n      <td>seaweedsquirrel</td>\n      <td>April empties</td>\n      <td>a close up of a towel with various types of bo...</td>\n      <td>0fd06cb96793d1d14c37552a6b92f956</td>\n      <td>/r/bathandbodyworks/comments/13560uf/april_emp...</td>\n      <td>https://i.redd.it/p9xffkdrrcxa1.jpg</td>\n      <td>13560uf.jpg</td>\n      <td>data/image/13560uf.jpg</td>\n      <td>CandleDiffusion</td>\n      <td>True</td>\n      <td>False</td>\n      <td>False</td>\n      <td>[]</td>\n    </tr>\n    <tr>\n      <th>13aocf4</th>\n      <td>13aocf4</td>\n      <td>bathandbodyworks</td>\n      <td>1C3DC0FF33</td>\n      <td>Is gingham love getting discontinued soon?</td>\n      <td>a close up of a bottle of perfume on a white b...</td>\n      <td>764309345154649be478ae835668fc88</td>\n      <td>/r/bathandbodyworks/comments/13aocf4/is_gingha...</td>\n      <td>https://i.redd.it/ueb3lqgohgya1.jpg</td>\n      <td>13aocf4.jpg</td>\n      <td>data/image/13aocf4.jpg</td>\n      <td>CandleDiffusion</td>\n      <td>True</td>\n      <td>False</td>\n      <td>False</td>\n      <td>[]</td>\n    </tr>\n    <tr>\n      <th>13arexg</th>\n      <td>13arexg</td>\n      <td>bathandbodyworks</td>\n      <td>Dickslayer704</td>\n      <td>Look what’s coming back!! Blueberry pumpkin pa...</td>\n      <td>a close up of a cell phone with a bunch of ite...</td>\n      <td>7350bc7e92a09d15f27957fca14290ab</td>\n      <td>/r/bathandbodyworks/comments/13arexg/look_what...</td>\n      <td>https://i.redd.it/0wuf2e4vrgya1.jpg</td>\n      <td>13arexg.jpg</td>\n      <td>data/image/13arexg.jpg</td>\n      <td>CandleDiffusion</td>\n      <td>True</td>\n      <td>False</td>\n      <td>False</td>\n      <td>[]</td>\n    </tr>\n  </tbody>\n</table>\n<p>75 rows × 15 columns</p>\n</div>"
     },
     "execution_count": 21,
     "metadata": {},
     "output_type": "execute_result"
    }
   ],
   "source": [
    "%%time\n",
    "\n",
    "temp_current = current\n",
    "temp_current.set_index('id', inplace=True, drop=False)\n",
    "\n",
    "temp_new = dropped\n",
    "temp_new.set_index('id', inplace=True, drop=False)\n",
    "\n",
    "temp_new.loc[~temp_new.index.isin(temp_current.index)]"
   ],
   "metadata": {
    "collapsed": false,
    "ExecuteTime": {
     "end_time": "2023-05-07T15:53:17.855666800Z",
     "start_time": "2023-05-07T15:53:17.744288200Z"
    }
   }
  },
  {
   "cell_type": "code",
   "execution_count": 22,
   "outputs": [
    {
     "data": {
      "text/plain": "'== Concatenated Data =='"
     },
     "metadata": {},
     "output_type": "display_data"
    },
    {
     "data": {
      "text/plain": "(36182, 15)"
     },
     "metadata": {},
     "output_type": "display_data"
    },
    {
     "data": {
      "text/plain": "              id         subreddit            author   \nid                                                     \n100rn7k  100rn7k          AmIhotAF      veritynicole  \\\n1013bdt  1013bdt          AmIhotAF       RaulDea9286   \n105mekt  105mekt          AmIhotAF          lindaniz   \n105qvgl  105qvgl          AmIhotAF       CaitVLove11   \n105rpcj  105rpcj          AmIhotAF   Flashy-Desk1858   \n...          ...               ...               ...   \n13arvwg  13arvwg      tightdresses  arrayoutofbounds   \n13anz14  13anz14              DLAH  ThisActuator3213   \n13560uf  13560uf  bathandbodyworks   seaweedsquirrel   \n13aocf4  13aocf4  bathandbodyworks        1C3DC0FF33   \n13arexg  13arexg  bathandbodyworks     Dickslayer704   \n\n                                                     title   \nid                                                           \n100rn7k                hey, hows your new year going (23F)  \\\n1013bdt                                      36F - ITALIAN   \n105mekt     interesting in good forward relationship (f24)   \n105qvgl                          Laughing is my favorite 😆   \n105rpcj           [f22] What do you think when you see me?   \n...                                                    ...   \n13arvwg                                     Holiday nights   \n13anz14                                        Black Dress   \n13560uf                                      April empties   \n13aocf4         Is gingham love getting discontinued soon?   \n13arexg  Look what’s coming back!! Blueberry pumpkin pa...   \n\n                                                   caption   \nid                                                           \n100rn7k  a woman in a white shirt and black pants is po...  \\\n1013bdt            arafed image of a woman in a bikini top   \n105mekt  a close up of a woman with red hair and a whit...   \n105qvgl  a woman in a blue tank top and shorts is smili...   \n105rpcj    a woman in a blue bikini top and a blue bra top   \n...                                                    ...   \n13arvwg  araffe woman in a white dress leaning against ...   \n13anz14  araffe woman in a black dress sitting on a bla...   \n13560uf  a close up of a towel with various types of bo...   \n13aocf4  a close up of a bottle of perfume on a white b...   \n13arexg  a close up of a cell phone with a bunch of ite...   \n\n                                     hash   \nid                                          \n100rn7k  4bd00c19fa0ff2ade855e6d364b0760b  \\\n1013bdt  7c0d158cba8654ef1c635cbc5471d597   \n105mekt  ba4a0962cca2266a741e1e1700589c04   \n105qvgl  27bfe82c37314a0bcf02ab72eaf3a9e5   \n105rpcj  329eb42b8267fa1cc2980da8e48bcef1   \n...                                   ...   \n13arvwg  cf7f625bf2831808747d3794f25c1e1e   \n13anz14  3a1eb8cc868144cd404f5b8eb2b3f107   \n13560uf  0fd06cb96793d1d14c37552a6b92f956   \n13aocf4  764309345154649be478ae835668fc88   \n13arexg  7350bc7e92a09d15f27957fca14290ab   \n\n                                                 permalink   \nid                                                           \n100rn7k  /r/AmIhotAF/comments/100rn7k/hey_hows_your_new...  \\\n1013bdt          /r/AmIhotAF/comments/1013bdt/36f_italian/   \n105mekt  /r/AmIhotAF/comments/105mekt/interesting_in_go...   \n105qvgl  /r/AmIhotAF/comments/105qvgl/laughing_is_my_fa...   \n105rpcj  /r/AmIhotAF/comments/105rpcj/f22_what_do_you_t...   \n...                                                    ...   \n13arvwg   /r/tightdresses/comments/13arvwg/holiday_nights/   \n13anz14              /r/DLAH/comments/13anz14/black_dress/   \n13560uf  /r/bathandbodyworks/comments/13560uf/april_emp...   \n13aocf4  /r/bathandbodyworks/comments/13aocf4/is_gingha...   \n13arexg  /r/bathandbodyworks/comments/13arexg/look_what...   \n\n                                original_url   image_name   \nid                                                          \n100rn7k  https://i.redd.it/n7r47s0gkh9a1.jpg  100rn7k.jpg  \\\n1013bdt  https://i.redd.it/bg0wwdlt5k9a1.jpg  1013bdt.jpg   \n105mekt  https://i.redd.it/4avjshsz8naa1.jpg  105mekt.jpg   \n105qvgl  https://i.redd.it/2pulzr0lxmaa1.jpg  105qvgl.jpg   \n105rpcj  https://i.redd.it/rz68pf934naa1.jpg  105rpcj.jpg   \n...                                      ...          ...   \n13arvwg  https://i.redd.it/05gjqjl4tgya1.jpg  13arvwg.jpg   \n13anz14  https://i.redd.it/em9b27jcxeya1.jpg  13anz14.jpg   \n13560uf  https://i.redd.it/p9xffkdrrcxa1.jpg  13560uf.jpg   \n13aocf4  https://i.redd.it/ueb3lqgohgya1.jpg  13aocf4.jpg   \n13arexg  https://i.redd.it/0wuf2e4vrgya1.jpg  13arexg.jpg   \n\n                           path                model  exists  curated accept   \nid                                                                             \n100rn7k  data/image/100rn7k.jpg        SexyDiffusion    True     True  False  \\\n1013bdt  data/image/1013bdt.jpg        SexyDiffusion    True     True   True   \n105mekt  data/image/105mekt.jpg        SexyDiffusion    True     True   True   \n105qvgl  data/image/105qvgl.jpg        SexyDiffusion    True     True   True   \n105rpcj  data/image/105rpcj.jpg        SexyDiffusion    True     True   True   \n...                         ...                  ...     ...      ...    ...   \n13arvwg  data/image/13arvwg.jpg  PrettyGirlDiffusion    True    False  False   \n13anz14  data/image/13anz14.jpg  PrettyGirlDiffusion    True    False  False   \n13560uf  data/image/13560uf.jpg      CandleDiffusion    True    False  False   \n13aocf4  data/image/13aocf4.jpg      CandleDiffusion    True    False  False   \n13arexg  data/image/13arexg.jpg      CandleDiffusion    True    False  False   \n\n        tags  \nid            \n100rn7k   []  \n1013bdt   []  \n105mekt   []  \n105qvgl   []  \n105rpcj   []  \n...      ...  \n13arvwg   []  \n13anz14   []  \n13560uf   []  \n13aocf4   []  \n13arexg   []  \n\n[36182 rows x 15 columns]",
      "text/html": "<div>\n<style scoped>\n    .dataframe tbody tr th:only-of-type {\n        vertical-align: middle;\n    }\n\n    .dataframe tbody tr th {\n        vertical-align: top;\n    }\n\n    .dataframe thead th {\n        text-align: right;\n    }\n</style>\n<table border=\"1\" class=\"dataframe\">\n  <thead>\n    <tr style=\"text-align: right;\">\n      <th></th>\n      <th>id</th>\n      <th>subreddit</th>\n      <th>author</th>\n      <th>title</th>\n      <th>caption</th>\n      <th>hash</th>\n      <th>permalink</th>\n      <th>original_url</th>\n      <th>image_name</th>\n      <th>path</th>\n      <th>model</th>\n      <th>exists</th>\n      <th>curated</th>\n      <th>accept</th>\n      <th>tags</th>\n    </tr>\n    <tr>\n      <th>id</th>\n      <th></th>\n      <th></th>\n      <th></th>\n      <th></th>\n      <th></th>\n      <th></th>\n      <th></th>\n      <th></th>\n      <th></th>\n      <th></th>\n      <th></th>\n      <th></th>\n      <th></th>\n      <th></th>\n      <th></th>\n    </tr>\n  </thead>\n  <tbody>\n    <tr>\n      <th>100rn7k</th>\n      <td>100rn7k</td>\n      <td>AmIhotAF</td>\n      <td>veritynicole</td>\n      <td>hey, hows your new year going (23F)</td>\n      <td>a woman in a white shirt and black pants is po...</td>\n      <td>4bd00c19fa0ff2ade855e6d364b0760b</td>\n      <td>/r/AmIhotAF/comments/100rn7k/hey_hows_your_new...</td>\n      <td>https://i.redd.it/n7r47s0gkh9a1.jpg</td>\n      <td>100rn7k.jpg</td>\n      <td>data/image/100rn7k.jpg</td>\n      <td>SexyDiffusion</td>\n      <td>True</td>\n      <td>True</td>\n      <td>False</td>\n      <td>[]</td>\n    </tr>\n    <tr>\n      <th>1013bdt</th>\n      <td>1013bdt</td>\n      <td>AmIhotAF</td>\n      <td>RaulDea9286</td>\n      <td>36F - ITALIAN</td>\n      <td>arafed image of a woman in a bikini top</td>\n      <td>7c0d158cba8654ef1c635cbc5471d597</td>\n      <td>/r/AmIhotAF/comments/1013bdt/36f_italian/</td>\n      <td>https://i.redd.it/bg0wwdlt5k9a1.jpg</td>\n      <td>1013bdt.jpg</td>\n      <td>data/image/1013bdt.jpg</td>\n      <td>SexyDiffusion</td>\n      <td>True</td>\n      <td>True</td>\n      <td>True</td>\n      <td>[]</td>\n    </tr>\n    <tr>\n      <th>105mekt</th>\n      <td>105mekt</td>\n      <td>AmIhotAF</td>\n      <td>lindaniz</td>\n      <td>interesting in good forward relationship (f24)</td>\n      <td>a close up of a woman with red hair and a whit...</td>\n      <td>ba4a0962cca2266a741e1e1700589c04</td>\n      <td>/r/AmIhotAF/comments/105mekt/interesting_in_go...</td>\n      <td>https://i.redd.it/4avjshsz8naa1.jpg</td>\n      <td>105mekt.jpg</td>\n      <td>data/image/105mekt.jpg</td>\n      <td>SexyDiffusion</td>\n      <td>True</td>\n      <td>True</td>\n      <td>True</td>\n      <td>[]</td>\n    </tr>\n    <tr>\n      <th>105qvgl</th>\n      <td>105qvgl</td>\n      <td>AmIhotAF</td>\n      <td>CaitVLove11</td>\n      <td>Laughing is my favorite 😆</td>\n      <td>a woman in a blue tank top and shorts is smili...</td>\n      <td>27bfe82c37314a0bcf02ab72eaf3a9e5</td>\n      <td>/r/AmIhotAF/comments/105qvgl/laughing_is_my_fa...</td>\n      <td>https://i.redd.it/2pulzr0lxmaa1.jpg</td>\n      <td>105qvgl.jpg</td>\n      <td>data/image/105qvgl.jpg</td>\n      <td>SexyDiffusion</td>\n      <td>True</td>\n      <td>True</td>\n      <td>True</td>\n      <td>[]</td>\n    </tr>\n    <tr>\n      <th>105rpcj</th>\n      <td>105rpcj</td>\n      <td>AmIhotAF</td>\n      <td>Flashy-Desk1858</td>\n      <td>[f22] What do you think when you see me?</td>\n      <td>a woman in a blue bikini top and a blue bra top</td>\n      <td>329eb42b8267fa1cc2980da8e48bcef1</td>\n      <td>/r/AmIhotAF/comments/105rpcj/f22_what_do_you_t...</td>\n      <td>https://i.redd.it/rz68pf934naa1.jpg</td>\n      <td>105rpcj.jpg</td>\n      <td>data/image/105rpcj.jpg</td>\n      <td>SexyDiffusion</td>\n      <td>True</td>\n      <td>True</td>\n      <td>True</td>\n      <td>[]</td>\n    </tr>\n    <tr>\n      <th>...</th>\n      <td>...</td>\n      <td>...</td>\n      <td>...</td>\n      <td>...</td>\n      <td>...</td>\n      <td>...</td>\n      <td>...</td>\n      <td>...</td>\n      <td>...</td>\n      <td>...</td>\n      <td>...</td>\n      <td>...</td>\n      <td>...</td>\n      <td>...</td>\n      <td>...</td>\n    </tr>\n    <tr>\n      <th>13arvwg</th>\n      <td>13arvwg</td>\n      <td>tightdresses</td>\n      <td>arrayoutofbounds</td>\n      <td>Holiday nights</td>\n      <td>araffe woman in a white dress leaning against ...</td>\n      <td>cf7f625bf2831808747d3794f25c1e1e</td>\n      <td>/r/tightdresses/comments/13arvwg/holiday_nights/</td>\n      <td>https://i.redd.it/05gjqjl4tgya1.jpg</td>\n      <td>13arvwg.jpg</td>\n      <td>data/image/13arvwg.jpg</td>\n      <td>PrettyGirlDiffusion</td>\n      <td>True</td>\n      <td>False</td>\n      <td>False</td>\n      <td>[]</td>\n    </tr>\n    <tr>\n      <th>13anz14</th>\n      <td>13anz14</td>\n      <td>DLAH</td>\n      <td>ThisActuator3213</td>\n      <td>Black Dress</td>\n      <td>araffe woman in a black dress sitting on a bla...</td>\n      <td>3a1eb8cc868144cd404f5b8eb2b3f107</td>\n      <td>/r/DLAH/comments/13anz14/black_dress/</td>\n      <td>https://i.redd.it/em9b27jcxeya1.jpg</td>\n      <td>13anz14.jpg</td>\n      <td>data/image/13anz14.jpg</td>\n      <td>PrettyGirlDiffusion</td>\n      <td>True</td>\n      <td>False</td>\n      <td>False</td>\n      <td>[]</td>\n    </tr>\n    <tr>\n      <th>13560uf</th>\n      <td>13560uf</td>\n      <td>bathandbodyworks</td>\n      <td>seaweedsquirrel</td>\n      <td>April empties</td>\n      <td>a close up of a towel with various types of bo...</td>\n      <td>0fd06cb96793d1d14c37552a6b92f956</td>\n      <td>/r/bathandbodyworks/comments/13560uf/april_emp...</td>\n      <td>https://i.redd.it/p9xffkdrrcxa1.jpg</td>\n      <td>13560uf.jpg</td>\n      <td>data/image/13560uf.jpg</td>\n      <td>CandleDiffusion</td>\n      <td>True</td>\n      <td>False</td>\n      <td>False</td>\n      <td>[]</td>\n    </tr>\n    <tr>\n      <th>13aocf4</th>\n      <td>13aocf4</td>\n      <td>bathandbodyworks</td>\n      <td>1C3DC0FF33</td>\n      <td>Is gingham love getting discontinued soon?</td>\n      <td>a close up of a bottle of perfume on a white b...</td>\n      <td>764309345154649be478ae835668fc88</td>\n      <td>/r/bathandbodyworks/comments/13aocf4/is_gingha...</td>\n      <td>https://i.redd.it/ueb3lqgohgya1.jpg</td>\n      <td>13aocf4.jpg</td>\n      <td>data/image/13aocf4.jpg</td>\n      <td>CandleDiffusion</td>\n      <td>True</td>\n      <td>False</td>\n      <td>False</td>\n      <td>[]</td>\n    </tr>\n    <tr>\n      <th>13arexg</th>\n      <td>13arexg</td>\n      <td>bathandbodyworks</td>\n      <td>Dickslayer704</td>\n      <td>Look what’s coming back!! Blueberry pumpkin pa...</td>\n      <td>a close up of a cell phone with a bunch of ite...</td>\n      <td>7350bc7e92a09d15f27957fca14290ab</td>\n      <td>/r/bathandbodyworks/comments/13arexg/look_what...</td>\n      <td>https://i.redd.it/0wuf2e4vrgya1.jpg</td>\n      <td>13arexg.jpg</td>\n      <td>data/image/13arexg.jpg</td>\n      <td>CandleDiffusion</td>\n      <td>True</td>\n      <td>False</td>\n      <td>False</td>\n      <td>[]</td>\n    </tr>\n  </tbody>\n</table>\n<p>36182 rows × 15 columns</p>\n</div>"
     },
     "metadata": {},
     "output_type": "display_data"
    },
    {
     "name": "stdout",
     "output_type": "stream",
     "text": [
      "CPU times: total: 62.5 ms\n",
      "Wall time: 48.8 ms\n"
     ]
    }
   ],
   "source": [
    "%%time\n",
    "\n",
    "concat = pd.concat([current, dropped])\n",
    "\n",
    "display(\"== Concatenated Data ==\")\n",
    "display(concat.shape)\n",
    "display(concat)"
   ],
   "metadata": {
    "collapsed": false,
    "ExecuteTime": {
     "end_time": "2023-05-07T15:53:18.027843600Z",
     "start_time": "2023-05-07T15:53:17.791215900Z"
    }
   }
  },
  {
   "cell_type": "code",
   "execution_count": 23,
   "outputs": [
    {
     "name": "stderr",
     "output_type": "stream",
     "text": [
      "Progress: 100%|██████████| 36182/36182 [00:18<00:00, 1994.59it/s]\n"
     ]
    },
    {
     "data": {
      "text/plain": "'== Concatenated Data With Path =='"
     },
     "metadata": {},
     "output_type": "display_data"
    },
    {
     "data": {
      "text/plain": "(36182, 15)"
     },
     "metadata": {},
     "output_type": "display_data"
    },
    {
     "data": {
      "text/plain": "              id         subreddit            author   \nid                                                     \n100rn7k  100rn7k          AmIhotAF      veritynicole  \\\n1013bdt  1013bdt          AmIhotAF       RaulDea9286   \n105mekt  105mekt          AmIhotAF          lindaniz   \n105qvgl  105qvgl          AmIhotAF       CaitVLove11   \n105rpcj  105rpcj          AmIhotAF   Flashy-Desk1858   \n...          ...               ...               ...   \n13arvwg  13arvwg      tightdresses  arrayoutofbounds   \n13anz14  13anz14              DLAH  ThisActuator3213   \n13560uf  13560uf  bathandbodyworks   seaweedsquirrel   \n13aocf4  13aocf4  bathandbodyworks        1C3DC0FF33   \n13arexg  13arexg  bathandbodyworks     Dickslayer704   \n\n                                                     title   \nid                                                           \n100rn7k                hey, hows your new year going (23F)  \\\n1013bdt                                      36F - ITALIAN   \n105mekt     interesting in good forward relationship (f24)   \n105qvgl                          Laughing is my favorite 😆   \n105rpcj           [f22] What do you think when you see me?   \n...                                                    ...   \n13arvwg                                     Holiday nights   \n13anz14                                        Black Dress   \n13560uf                                      April empties   \n13aocf4         Is gingham love getting discontinued soon?   \n13arexg  Look what’s coming back!! Blueberry pumpkin pa...   \n\n                                                   caption   \nid                                                           \n100rn7k  a woman in a white shirt and black pants is po...  \\\n1013bdt            arafed image of a woman in a bikini top   \n105mekt  a close up of a woman with red hair and a whit...   \n105qvgl  a woman in a blue tank top and shorts is smili...   \n105rpcj    a woman in a blue bikini top and a blue bra top   \n...                                                    ...   \n13arvwg  araffe woman in a white dress leaning against ...   \n13anz14  araffe woman in a black dress sitting on a bla...   \n13560uf  a close up of a towel with various types of bo...   \n13aocf4  a close up of a bottle of perfume on a white b...   \n13arexg  a close up of a cell phone with a bunch of ite...   \n\n                                     hash   \nid                                          \n100rn7k  4bd00c19fa0ff2ade855e6d364b0760b  \\\n1013bdt  7c0d158cba8654ef1c635cbc5471d597   \n105mekt  ba4a0962cca2266a741e1e1700589c04   \n105qvgl  27bfe82c37314a0bcf02ab72eaf3a9e5   \n105rpcj  329eb42b8267fa1cc2980da8e48bcef1   \n...                                   ...   \n13arvwg  cf7f625bf2831808747d3794f25c1e1e   \n13anz14  3a1eb8cc868144cd404f5b8eb2b3f107   \n13560uf  0fd06cb96793d1d14c37552a6b92f956   \n13aocf4  764309345154649be478ae835668fc88   \n13arexg  7350bc7e92a09d15f27957fca14290ab   \n\n                                                 permalink   \nid                                                           \n100rn7k  /r/AmIhotAF/comments/100rn7k/hey_hows_your_new...  \\\n1013bdt          /r/AmIhotAF/comments/1013bdt/36f_italian/   \n105mekt  /r/AmIhotAF/comments/105mekt/interesting_in_go...   \n105qvgl  /r/AmIhotAF/comments/105qvgl/laughing_is_my_fa...   \n105rpcj  /r/AmIhotAF/comments/105rpcj/f22_what_do_you_t...   \n...                                                    ...   \n13arvwg   /r/tightdresses/comments/13arvwg/holiday_nights/   \n13anz14              /r/DLAH/comments/13anz14/black_dress/   \n13560uf  /r/bathandbodyworks/comments/13560uf/april_emp...   \n13aocf4  /r/bathandbodyworks/comments/13aocf4/is_gingha...   \n13arexg  /r/bathandbodyworks/comments/13arexg/look_what...   \n\n                                original_url   image_name   \nid                                                          \n100rn7k  https://i.redd.it/n7r47s0gkh9a1.jpg  100rn7k.jpg  \\\n1013bdt  https://i.redd.it/bg0wwdlt5k9a1.jpg  1013bdt.jpg   \n105mekt  https://i.redd.it/4avjshsz8naa1.jpg  105mekt.jpg   \n105qvgl  https://i.redd.it/2pulzr0lxmaa1.jpg  105qvgl.jpg   \n105rpcj  https://i.redd.it/rz68pf934naa1.jpg  105rpcj.jpg   \n...                                      ...          ...   \n13arvwg  https://i.redd.it/05gjqjl4tgya1.jpg  13arvwg.jpg   \n13anz14  https://i.redd.it/em9b27jcxeya1.jpg  13anz14.jpg   \n13560uf  https://i.redd.it/p9xffkdrrcxa1.jpg  13560uf.jpg   \n13aocf4  https://i.redd.it/ueb3lqgohgya1.jpg  13aocf4.jpg   \n13arexg  https://i.redd.it/0wuf2e4vrgya1.jpg  13arexg.jpg   \n\n                           path                model  exists  curated accept   \nid                                                                             \n100rn7k  data/image/100rn7k.jpg        SexyDiffusion    True     True  False  \\\n1013bdt  data/image/1013bdt.jpg        SexyDiffusion    True     True   True   \n105mekt  data/image/105mekt.jpg        SexyDiffusion    True     True   True   \n105qvgl  data/image/105qvgl.jpg        SexyDiffusion    True     True   True   \n105rpcj  data/image/105rpcj.jpg        SexyDiffusion    True     True   True   \n...                         ...                  ...     ...      ...    ...   \n13arvwg  data/image/13arvwg.jpg  PrettyGirlDiffusion    True    False  False   \n13anz14  data/image/13anz14.jpg  PrettyGirlDiffusion    True    False  False   \n13560uf  data/image/13560uf.jpg      CandleDiffusion    True    False  False   \n13aocf4  data/image/13aocf4.jpg      CandleDiffusion    True    False  False   \n13arexg  data/image/13arexg.jpg      CandleDiffusion    True    False  False   \n\n        tags  \nid            \n100rn7k   []  \n1013bdt   []  \n105mekt   []  \n105qvgl   []  \n105rpcj   []  \n...      ...  \n13arvwg   []  \n13anz14   []  \n13560uf   []  \n13aocf4   []  \n13arexg   []  \n\n[36182 rows x 15 columns]",
      "text/html": "<div>\n<style scoped>\n    .dataframe tbody tr th:only-of-type {\n        vertical-align: middle;\n    }\n\n    .dataframe tbody tr th {\n        vertical-align: top;\n    }\n\n    .dataframe thead th {\n        text-align: right;\n    }\n</style>\n<table border=\"1\" class=\"dataframe\">\n  <thead>\n    <tr style=\"text-align: right;\">\n      <th></th>\n      <th>id</th>\n      <th>subreddit</th>\n      <th>author</th>\n      <th>title</th>\n      <th>caption</th>\n      <th>hash</th>\n      <th>permalink</th>\n      <th>original_url</th>\n      <th>image_name</th>\n      <th>path</th>\n      <th>model</th>\n      <th>exists</th>\n      <th>curated</th>\n      <th>accept</th>\n      <th>tags</th>\n    </tr>\n    <tr>\n      <th>id</th>\n      <th></th>\n      <th></th>\n      <th></th>\n      <th></th>\n      <th></th>\n      <th></th>\n      <th></th>\n      <th></th>\n      <th></th>\n      <th></th>\n      <th></th>\n      <th></th>\n      <th></th>\n      <th></th>\n      <th></th>\n    </tr>\n  </thead>\n  <tbody>\n    <tr>\n      <th>100rn7k</th>\n      <td>100rn7k</td>\n      <td>AmIhotAF</td>\n      <td>veritynicole</td>\n      <td>hey, hows your new year going (23F)</td>\n      <td>a woman in a white shirt and black pants is po...</td>\n      <td>4bd00c19fa0ff2ade855e6d364b0760b</td>\n      <td>/r/AmIhotAF/comments/100rn7k/hey_hows_your_new...</td>\n      <td>https://i.redd.it/n7r47s0gkh9a1.jpg</td>\n      <td>100rn7k.jpg</td>\n      <td>data/image/100rn7k.jpg</td>\n      <td>SexyDiffusion</td>\n      <td>True</td>\n      <td>True</td>\n      <td>False</td>\n      <td>[]</td>\n    </tr>\n    <tr>\n      <th>1013bdt</th>\n      <td>1013bdt</td>\n      <td>AmIhotAF</td>\n      <td>RaulDea9286</td>\n      <td>36F - ITALIAN</td>\n      <td>arafed image of a woman in a bikini top</td>\n      <td>7c0d158cba8654ef1c635cbc5471d597</td>\n      <td>/r/AmIhotAF/comments/1013bdt/36f_italian/</td>\n      <td>https://i.redd.it/bg0wwdlt5k9a1.jpg</td>\n      <td>1013bdt.jpg</td>\n      <td>data/image/1013bdt.jpg</td>\n      <td>SexyDiffusion</td>\n      <td>True</td>\n      <td>True</td>\n      <td>True</td>\n      <td>[]</td>\n    </tr>\n    <tr>\n      <th>105mekt</th>\n      <td>105mekt</td>\n      <td>AmIhotAF</td>\n      <td>lindaniz</td>\n      <td>interesting in good forward relationship (f24)</td>\n      <td>a close up of a woman with red hair and a whit...</td>\n      <td>ba4a0962cca2266a741e1e1700589c04</td>\n      <td>/r/AmIhotAF/comments/105mekt/interesting_in_go...</td>\n      <td>https://i.redd.it/4avjshsz8naa1.jpg</td>\n      <td>105mekt.jpg</td>\n      <td>data/image/105mekt.jpg</td>\n      <td>SexyDiffusion</td>\n      <td>True</td>\n      <td>True</td>\n      <td>True</td>\n      <td>[]</td>\n    </tr>\n    <tr>\n      <th>105qvgl</th>\n      <td>105qvgl</td>\n      <td>AmIhotAF</td>\n      <td>CaitVLove11</td>\n      <td>Laughing is my favorite 😆</td>\n      <td>a woman in a blue tank top and shorts is smili...</td>\n      <td>27bfe82c37314a0bcf02ab72eaf3a9e5</td>\n      <td>/r/AmIhotAF/comments/105qvgl/laughing_is_my_fa...</td>\n      <td>https://i.redd.it/2pulzr0lxmaa1.jpg</td>\n      <td>105qvgl.jpg</td>\n      <td>data/image/105qvgl.jpg</td>\n      <td>SexyDiffusion</td>\n      <td>True</td>\n      <td>True</td>\n      <td>True</td>\n      <td>[]</td>\n    </tr>\n    <tr>\n      <th>105rpcj</th>\n      <td>105rpcj</td>\n      <td>AmIhotAF</td>\n      <td>Flashy-Desk1858</td>\n      <td>[f22] What do you think when you see me?</td>\n      <td>a woman in a blue bikini top and a blue bra top</td>\n      <td>329eb42b8267fa1cc2980da8e48bcef1</td>\n      <td>/r/AmIhotAF/comments/105rpcj/f22_what_do_you_t...</td>\n      <td>https://i.redd.it/rz68pf934naa1.jpg</td>\n      <td>105rpcj.jpg</td>\n      <td>data/image/105rpcj.jpg</td>\n      <td>SexyDiffusion</td>\n      <td>True</td>\n      <td>True</td>\n      <td>True</td>\n      <td>[]</td>\n    </tr>\n    <tr>\n      <th>...</th>\n      <td>...</td>\n      <td>...</td>\n      <td>...</td>\n      <td>...</td>\n      <td>...</td>\n      <td>...</td>\n      <td>...</td>\n      <td>...</td>\n      <td>...</td>\n      <td>...</td>\n      <td>...</td>\n      <td>...</td>\n      <td>...</td>\n      <td>...</td>\n      <td>...</td>\n    </tr>\n    <tr>\n      <th>13arvwg</th>\n      <td>13arvwg</td>\n      <td>tightdresses</td>\n      <td>arrayoutofbounds</td>\n      <td>Holiday nights</td>\n      <td>araffe woman in a white dress leaning against ...</td>\n      <td>cf7f625bf2831808747d3794f25c1e1e</td>\n      <td>/r/tightdresses/comments/13arvwg/holiday_nights/</td>\n      <td>https://i.redd.it/05gjqjl4tgya1.jpg</td>\n      <td>13arvwg.jpg</td>\n      <td>data/image/13arvwg.jpg</td>\n      <td>PrettyGirlDiffusion</td>\n      <td>True</td>\n      <td>False</td>\n      <td>False</td>\n      <td>[]</td>\n    </tr>\n    <tr>\n      <th>13anz14</th>\n      <td>13anz14</td>\n      <td>DLAH</td>\n      <td>ThisActuator3213</td>\n      <td>Black Dress</td>\n      <td>araffe woman in a black dress sitting on a bla...</td>\n      <td>3a1eb8cc868144cd404f5b8eb2b3f107</td>\n      <td>/r/DLAH/comments/13anz14/black_dress/</td>\n      <td>https://i.redd.it/em9b27jcxeya1.jpg</td>\n      <td>13anz14.jpg</td>\n      <td>data/image/13anz14.jpg</td>\n      <td>PrettyGirlDiffusion</td>\n      <td>True</td>\n      <td>False</td>\n      <td>False</td>\n      <td>[]</td>\n    </tr>\n    <tr>\n      <th>13560uf</th>\n      <td>13560uf</td>\n      <td>bathandbodyworks</td>\n      <td>seaweedsquirrel</td>\n      <td>April empties</td>\n      <td>a close up of a towel with various types of bo...</td>\n      <td>0fd06cb96793d1d14c37552a6b92f956</td>\n      <td>/r/bathandbodyworks/comments/13560uf/april_emp...</td>\n      <td>https://i.redd.it/p9xffkdrrcxa1.jpg</td>\n      <td>13560uf.jpg</td>\n      <td>data/image/13560uf.jpg</td>\n      <td>CandleDiffusion</td>\n      <td>True</td>\n      <td>False</td>\n      <td>False</td>\n      <td>[]</td>\n    </tr>\n    <tr>\n      <th>13aocf4</th>\n      <td>13aocf4</td>\n      <td>bathandbodyworks</td>\n      <td>1C3DC0FF33</td>\n      <td>Is gingham love getting discontinued soon?</td>\n      <td>a close up of a bottle of perfume on a white b...</td>\n      <td>764309345154649be478ae835668fc88</td>\n      <td>/r/bathandbodyworks/comments/13aocf4/is_gingha...</td>\n      <td>https://i.redd.it/ueb3lqgohgya1.jpg</td>\n      <td>13aocf4.jpg</td>\n      <td>data/image/13aocf4.jpg</td>\n      <td>CandleDiffusion</td>\n      <td>True</td>\n      <td>False</td>\n      <td>False</td>\n      <td>[]</td>\n    </tr>\n    <tr>\n      <th>13arexg</th>\n      <td>13arexg</td>\n      <td>bathandbodyworks</td>\n      <td>Dickslayer704</td>\n      <td>Look what’s coming back!! Blueberry pumpkin pa...</td>\n      <td>a close up of a cell phone with a bunch of ite...</td>\n      <td>7350bc7e92a09d15f27957fca14290ab</td>\n      <td>/r/bathandbodyworks/comments/13arexg/look_what...</td>\n      <td>https://i.redd.it/0wuf2e4vrgya1.jpg</td>\n      <td>13arexg.jpg</td>\n      <td>data/image/13arexg.jpg</td>\n      <td>CandleDiffusion</td>\n      <td>True</td>\n      <td>False</td>\n      <td>False</td>\n      <td>[]</td>\n    </tr>\n  </tbody>\n</table>\n<p>36182 rows × 15 columns</p>\n</div>"
     },
     "metadata": {},
     "output_type": "display_data"
    },
    {
     "name": "stdout",
     "output_type": "stream",
     "text": [
      "CPU times: total: 18.2 s\n",
      "Wall time: 18.2 s\n"
     ]
    }
   ],
   "source": [
    "%%time\n",
    "\n",
    "file_list_ = file_system.ls(\"data/image\")\n",
    "concat['path'] = concat.progress_apply(lambda x: functions.fix_path(x, file_list), axis=1)\n",
    "\n",
    "display(\"== Concatenated Data With Path ==\")\n",
    "display(concat.shape)\n",
    "display(concat)"
   ],
   "metadata": {
    "collapsed": false,
    "ExecuteTime": {
     "end_time": "2023-05-07T15:53:36.153241900Z",
     "start_time": "2023-05-07T15:53:17.855666800Z"
    }
   }
  },
  {
   "cell_type": "code",
   "execution_count": 24,
   "outputs": [
    {
     "data": {
      "text/plain": "'== Writing Back-Up data/parquet/back_1683474816.063419.parquet =='"
     },
     "metadata": {},
     "output_type": "display_data"
    },
    {
     "name": "stdout",
     "output_type": "stream",
     "text": [
      "CPU times: total: 281 ms\n",
      "Wall time: 3 s\n"
     ]
    }
   ],
   "source": [
    "%%time\n",
    "\n",
    "back_up_name = f\"data/parquet/back_{dt.datetime.timestamp(dt.datetime.now())}.parquet\"\n",
    "display(f\"== Writing Back-Up {back_up_name} ==\")\n",
    "current.to_parquet(back_up_name, schema=schema, filesystem=file_system)"
   ],
   "metadata": {
    "collapsed": false,
    "ExecuteTime": {
     "end_time": "2023-05-07T15:53:39.082678Z",
     "start_time": "2023-05-07T15:53:36.065419100Z"
    }
   }
  },
  {
   "cell_type": "code",
   "execution_count": 25,
   "outputs": [
    {
     "data": {
      "text/plain": "'== New Data =='"
     },
     "metadata": {},
     "output_type": "display_data"
    },
    {
     "data": {
      "text/plain": "(36182, 15)"
     },
     "metadata": {},
     "output_type": "display_data"
    },
    {
     "data": {
      "text/plain": "            id         subreddit            author   \n0      100rn7k          AmIhotAF      veritynicole  \\\n1      1013bdt          AmIhotAF       RaulDea9286   \n2      105mekt          AmIhotAF          lindaniz   \n3      105qvgl          AmIhotAF       CaitVLove11   \n4      105rpcj          AmIhotAF   Flashy-Desk1858   \n...        ...               ...               ...   \n36177  13arvwg      tightdresses  arrayoutofbounds   \n36178  13anz14              DLAH  ThisActuator3213   \n36179  13560uf  bathandbodyworks   seaweedsquirrel   \n36180  13aocf4  bathandbodyworks        1C3DC0FF33   \n36181  13arexg  bathandbodyworks     Dickslayer704   \n\n                                                   title   \n0                    hey, hows your new year going (23F)  \\\n1                                          36F - ITALIAN   \n2         interesting in good forward relationship (f24)   \n3                              Laughing is my favorite 😆   \n4               [f22] What do you think when you see me?   \n...                                                  ...   \n36177                                     Holiday nights   \n36178                                        Black Dress   \n36179                                      April empties   \n36180         Is gingham love getting discontinued soon?   \n36181  Look what’s coming back!! Blueberry pumpkin pa...   \n\n                                                 caption   \n0      a woman in a white shirt and black pants is po...  \\\n1                arafed image of a woman in a bikini top   \n2      a close up of a woman with red hair and a whit...   \n3      a woman in a blue tank top and shorts is smili...   \n4        a woman in a blue bikini top and a blue bra top   \n...                                                  ...   \n36177  araffe woman in a white dress leaning against ...   \n36178  araffe woman in a black dress sitting on a bla...   \n36179  a close up of a towel with various types of bo...   \n36180  a close up of a bottle of perfume on a white b...   \n36181  a close up of a cell phone with a bunch of ite...   \n\n                                   hash   \n0      4bd00c19fa0ff2ade855e6d364b0760b  \\\n1      7c0d158cba8654ef1c635cbc5471d597   \n2      ba4a0962cca2266a741e1e1700589c04   \n3      27bfe82c37314a0bcf02ab72eaf3a9e5   \n4      329eb42b8267fa1cc2980da8e48bcef1   \n...                                 ...   \n36177  cf7f625bf2831808747d3794f25c1e1e   \n36178  3a1eb8cc868144cd404f5b8eb2b3f107   \n36179  0fd06cb96793d1d14c37552a6b92f956   \n36180  764309345154649be478ae835668fc88   \n36181  7350bc7e92a09d15f27957fca14290ab   \n\n                                               permalink   \n0      /r/AmIhotAF/comments/100rn7k/hey_hows_your_new...  \\\n1              /r/AmIhotAF/comments/1013bdt/36f_italian/   \n2      /r/AmIhotAF/comments/105mekt/interesting_in_go...   \n3      /r/AmIhotAF/comments/105qvgl/laughing_is_my_fa...   \n4      /r/AmIhotAF/comments/105rpcj/f22_what_do_you_t...   \n...                                                  ...   \n36177   /r/tightdresses/comments/13arvwg/holiday_nights/   \n36178              /r/DLAH/comments/13anz14/black_dress/   \n36179  /r/bathandbodyworks/comments/13560uf/april_emp...   \n36180  /r/bathandbodyworks/comments/13aocf4/is_gingha...   \n36181  /r/bathandbodyworks/comments/13arexg/look_what...   \n\n                              original_url   image_name   \n0      https://i.redd.it/n7r47s0gkh9a1.jpg  100rn7k.jpg  \\\n1      https://i.redd.it/bg0wwdlt5k9a1.jpg  1013bdt.jpg   \n2      https://i.redd.it/4avjshsz8naa1.jpg  105mekt.jpg   \n3      https://i.redd.it/2pulzr0lxmaa1.jpg  105qvgl.jpg   \n4      https://i.redd.it/rz68pf934naa1.jpg  105rpcj.jpg   \n...                                    ...          ...   \n36177  https://i.redd.it/05gjqjl4tgya1.jpg  13arvwg.jpg   \n36178  https://i.redd.it/em9b27jcxeya1.jpg  13anz14.jpg   \n36179  https://i.redd.it/p9xffkdrrcxa1.jpg  13560uf.jpg   \n36180  https://i.redd.it/ueb3lqgohgya1.jpg  13aocf4.jpg   \n36181  https://i.redd.it/0wuf2e4vrgya1.jpg  13arexg.jpg   \n\n                         path                model  exists  curated  accept   \n0      data/image/100rn7k.jpg        SexyDiffusion    True     True   False  \\\n1      data/image/1013bdt.jpg        SexyDiffusion    True     True    True   \n2      data/image/105mekt.jpg        SexyDiffusion    True     True    True   \n3      data/image/105qvgl.jpg        SexyDiffusion    True     True    True   \n4      data/image/105rpcj.jpg        SexyDiffusion    True     True    True   \n...                       ...                  ...     ...      ...     ...   \n36177  data/image/13arvwg.jpg  PrettyGirlDiffusion    True    False   False   \n36178  data/image/13anz14.jpg  PrettyGirlDiffusion    True    False   False   \n36179  data/image/13560uf.jpg      CandleDiffusion    True    False   False   \n36180  data/image/13aocf4.jpg      CandleDiffusion    True    False   False   \n36181  data/image/13arexg.jpg      CandleDiffusion    True    False   False   \n\n      tags  \n0       []  \n1       []  \n2       []  \n3       []  \n4       []  \n...    ...  \n36177   []  \n36178   []  \n36179   []  \n36180   []  \n36181   []  \n\n[36182 rows x 15 columns]",
      "text/html": "<div>\n<style scoped>\n    .dataframe tbody tr th:only-of-type {\n        vertical-align: middle;\n    }\n\n    .dataframe tbody tr th {\n        vertical-align: top;\n    }\n\n    .dataframe thead th {\n        text-align: right;\n    }\n</style>\n<table border=\"1\" class=\"dataframe\">\n  <thead>\n    <tr style=\"text-align: right;\">\n      <th></th>\n      <th>id</th>\n      <th>subreddit</th>\n      <th>author</th>\n      <th>title</th>\n      <th>caption</th>\n      <th>hash</th>\n      <th>permalink</th>\n      <th>original_url</th>\n      <th>image_name</th>\n      <th>path</th>\n      <th>model</th>\n      <th>exists</th>\n      <th>curated</th>\n      <th>accept</th>\n      <th>tags</th>\n    </tr>\n  </thead>\n  <tbody>\n    <tr>\n      <th>0</th>\n      <td>100rn7k</td>\n      <td>AmIhotAF</td>\n      <td>veritynicole</td>\n      <td>hey, hows your new year going (23F)</td>\n      <td>a woman in a white shirt and black pants is po...</td>\n      <td>4bd00c19fa0ff2ade855e6d364b0760b</td>\n      <td>/r/AmIhotAF/comments/100rn7k/hey_hows_your_new...</td>\n      <td>https://i.redd.it/n7r47s0gkh9a1.jpg</td>\n      <td>100rn7k.jpg</td>\n      <td>data/image/100rn7k.jpg</td>\n      <td>SexyDiffusion</td>\n      <td>True</td>\n      <td>True</td>\n      <td>False</td>\n      <td>[]</td>\n    </tr>\n    <tr>\n      <th>1</th>\n      <td>1013bdt</td>\n      <td>AmIhotAF</td>\n      <td>RaulDea9286</td>\n      <td>36F - ITALIAN</td>\n      <td>arafed image of a woman in a bikini top</td>\n      <td>7c0d158cba8654ef1c635cbc5471d597</td>\n      <td>/r/AmIhotAF/comments/1013bdt/36f_italian/</td>\n      <td>https://i.redd.it/bg0wwdlt5k9a1.jpg</td>\n      <td>1013bdt.jpg</td>\n      <td>data/image/1013bdt.jpg</td>\n      <td>SexyDiffusion</td>\n      <td>True</td>\n      <td>True</td>\n      <td>True</td>\n      <td>[]</td>\n    </tr>\n    <tr>\n      <th>2</th>\n      <td>105mekt</td>\n      <td>AmIhotAF</td>\n      <td>lindaniz</td>\n      <td>interesting in good forward relationship (f24)</td>\n      <td>a close up of a woman with red hair and a whit...</td>\n      <td>ba4a0962cca2266a741e1e1700589c04</td>\n      <td>/r/AmIhotAF/comments/105mekt/interesting_in_go...</td>\n      <td>https://i.redd.it/4avjshsz8naa1.jpg</td>\n      <td>105mekt.jpg</td>\n      <td>data/image/105mekt.jpg</td>\n      <td>SexyDiffusion</td>\n      <td>True</td>\n      <td>True</td>\n      <td>True</td>\n      <td>[]</td>\n    </tr>\n    <tr>\n      <th>3</th>\n      <td>105qvgl</td>\n      <td>AmIhotAF</td>\n      <td>CaitVLove11</td>\n      <td>Laughing is my favorite 😆</td>\n      <td>a woman in a blue tank top and shorts is smili...</td>\n      <td>27bfe82c37314a0bcf02ab72eaf3a9e5</td>\n      <td>/r/AmIhotAF/comments/105qvgl/laughing_is_my_fa...</td>\n      <td>https://i.redd.it/2pulzr0lxmaa1.jpg</td>\n      <td>105qvgl.jpg</td>\n      <td>data/image/105qvgl.jpg</td>\n      <td>SexyDiffusion</td>\n      <td>True</td>\n      <td>True</td>\n      <td>True</td>\n      <td>[]</td>\n    </tr>\n    <tr>\n      <th>4</th>\n      <td>105rpcj</td>\n      <td>AmIhotAF</td>\n      <td>Flashy-Desk1858</td>\n      <td>[f22] What do you think when you see me?</td>\n      <td>a woman in a blue bikini top and a blue bra top</td>\n      <td>329eb42b8267fa1cc2980da8e48bcef1</td>\n      <td>/r/AmIhotAF/comments/105rpcj/f22_what_do_you_t...</td>\n      <td>https://i.redd.it/rz68pf934naa1.jpg</td>\n      <td>105rpcj.jpg</td>\n      <td>data/image/105rpcj.jpg</td>\n      <td>SexyDiffusion</td>\n      <td>True</td>\n      <td>True</td>\n      <td>True</td>\n      <td>[]</td>\n    </tr>\n    <tr>\n      <th>...</th>\n      <td>...</td>\n      <td>...</td>\n      <td>...</td>\n      <td>...</td>\n      <td>...</td>\n      <td>...</td>\n      <td>...</td>\n      <td>...</td>\n      <td>...</td>\n      <td>...</td>\n      <td>...</td>\n      <td>...</td>\n      <td>...</td>\n      <td>...</td>\n      <td>...</td>\n    </tr>\n    <tr>\n      <th>36177</th>\n      <td>13arvwg</td>\n      <td>tightdresses</td>\n      <td>arrayoutofbounds</td>\n      <td>Holiday nights</td>\n      <td>araffe woman in a white dress leaning against ...</td>\n      <td>cf7f625bf2831808747d3794f25c1e1e</td>\n      <td>/r/tightdresses/comments/13arvwg/holiday_nights/</td>\n      <td>https://i.redd.it/05gjqjl4tgya1.jpg</td>\n      <td>13arvwg.jpg</td>\n      <td>data/image/13arvwg.jpg</td>\n      <td>PrettyGirlDiffusion</td>\n      <td>True</td>\n      <td>False</td>\n      <td>False</td>\n      <td>[]</td>\n    </tr>\n    <tr>\n      <th>36178</th>\n      <td>13anz14</td>\n      <td>DLAH</td>\n      <td>ThisActuator3213</td>\n      <td>Black Dress</td>\n      <td>araffe woman in a black dress sitting on a bla...</td>\n      <td>3a1eb8cc868144cd404f5b8eb2b3f107</td>\n      <td>/r/DLAH/comments/13anz14/black_dress/</td>\n      <td>https://i.redd.it/em9b27jcxeya1.jpg</td>\n      <td>13anz14.jpg</td>\n      <td>data/image/13anz14.jpg</td>\n      <td>PrettyGirlDiffusion</td>\n      <td>True</td>\n      <td>False</td>\n      <td>False</td>\n      <td>[]</td>\n    </tr>\n    <tr>\n      <th>36179</th>\n      <td>13560uf</td>\n      <td>bathandbodyworks</td>\n      <td>seaweedsquirrel</td>\n      <td>April empties</td>\n      <td>a close up of a towel with various types of bo...</td>\n      <td>0fd06cb96793d1d14c37552a6b92f956</td>\n      <td>/r/bathandbodyworks/comments/13560uf/april_emp...</td>\n      <td>https://i.redd.it/p9xffkdrrcxa1.jpg</td>\n      <td>13560uf.jpg</td>\n      <td>data/image/13560uf.jpg</td>\n      <td>CandleDiffusion</td>\n      <td>True</td>\n      <td>False</td>\n      <td>False</td>\n      <td>[]</td>\n    </tr>\n    <tr>\n      <th>36180</th>\n      <td>13aocf4</td>\n      <td>bathandbodyworks</td>\n      <td>1C3DC0FF33</td>\n      <td>Is gingham love getting discontinued soon?</td>\n      <td>a close up of a bottle of perfume on a white b...</td>\n      <td>764309345154649be478ae835668fc88</td>\n      <td>/r/bathandbodyworks/comments/13aocf4/is_gingha...</td>\n      <td>https://i.redd.it/ueb3lqgohgya1.jpg</td>\n      <td>13aocf4.jpg</td>\n      <td>data/image/13aocf4.jpg</td>\n      <td>CandleDiffusion</td>\n      <td>True</td>\n      <td>False</td>\n      <td>False</td>\n      <td>[]</td>\n    </tr>\n    <tr>\n      <th>36181</th>\n      <td>13arexg</td>\n      <td>bathandbodyworks</td>\n      <td>Dickslayer704</td>\n      <td>Look what’s coming back!! Blueberry pumpkin pa...</td>\n      <td>a close up of a cell phone with a bunch of ite...</td>\n      <td>7350bc7e92a09d15f27957fca14290ab</td>\n      <td>/r/bathandbodyworks/comments/13arexg/look_what...</td>\n      <td>https://i.redd.it/0wuf2e4vrgya1.jpg</td>\n      <td>13arexg.jpg</td>\n      <td>data/image/13arexg.jpg</td>\n      <td>CandleDiffusion</td>\n      <td>True</td>\n      <td>False</td>\n      <td>False</td>\n      <td>[]</td>\n    </tr>\n  </tbody>\n</table>\n<p>36182 rows × 15 columns</p>\n</div>"
     },
     "metadata": {},
     "output_type": "display_data"
    },
    {
     "name": "stdout",
     "output_type": "stream",
     "text": [
      "CPU times: total: 422 ms\n",
      "Wall time: 3.39 s\n"
     ]
    }
   ],
   "source": [
    "%%time\n",
    "\n",
    "concat.to_parquet(\"data/parquet/back.parquet\", schema=schema, filesystem=file_system)\n",
    "new = pd.read_parquet(\"data/parquet/back.parquet\", engine='pyarrow', schema=schema, filesystem=file_system)\n",
    "\n",
    "display(\"== New Data ==\")\n",
    "display(new.shape)\n",
    "display(new)"
   ],
   "metadata": {
    "collapsed": false,
    "ExecuteTime": {
     "end_time": "2023-05-07T15:53:42.490824Z",
     "start_time": "2023-05-07T15:53:39.082678Z"
    }
   }
  },
  {
   "cell_type": "code",
   "execution_count": 26,
   "outputs": [
    {
     "name": "stdout",
     "output_type": "stream",
     "text": [
      "^C\n"
     ]
    }
   ],
   "source": [
    "!jupyter notebook stop"
   ],
   "metadata": {
    "collapsed": false,
    "ExecuteTime": {
     "end_time": "2023-05-07T15:53:44.310781Z",
     "start_time": "2023-05-07T15:53:42.490824Z"
    }
   }
  }
 ],
 "metadata": {
  "kernelspec": {
   "display_name": "Python 3",
   "language": "python",
   "name": "python3"
  },
  "language_info": {
   "codemirror_mode": {
    "name": "ipython",
    "version": 2
   },
   "file_extension": ".py",
   "mimetype": "text/x-python",
   "name": "python",
   "nbconvert_exporter": "python",
   "pygments_lexer": "ipython2",
   "version": "2.7.6"
  }
 },
 "nbformat": 4,
 "nbformat_minor": 0
}
