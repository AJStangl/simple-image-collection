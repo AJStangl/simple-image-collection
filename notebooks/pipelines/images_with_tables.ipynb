{
 "cells": [
  {
   "cell_type": "code",
   "execution_count": 33,
   "outputs": [],
   "source": [
    "import os\n",
    "\n",
    "os.environ[\"AZURE_ACCOUNT_NAME\"] = \"ajdevreddit\"\n",
    "os.environ[\"AZURE_TABLE_ENDPOINT\"] = \"https://ajdevreddit.table.core.windows.net/\"\n",
    "os.environ[\"AZURE_QUEUE_ENDPOINT\"] = \"https://ajdevreddit.queue.core.windows.net/\"\n",
    "os.environ[\"AZURE_ACCOUNT_KEY\"] = \"+9066TCgdeVignRdy50G4qjmNoUJuibl9ERiTGzdV4fwkvgdV3aSVqgLwldgZxj/UpKLkkfXg+3k+AStjFI33Q==\"\n",
    "os.environ[\"AZURE_STORAGE_CONNECTION_STRING\"] = \"DefaultEndpointsProtocol=https;AccountName=ajdevreddit;AccountKey=+9066TCgdeVignRdy50G4qjmNoUJuibl9ERiTGzdV4fwkvgdV3aSVqgLwldgZxj/UpKLkkfXg+3k+AStjFI33Q==;BlobEndpoint=https://ajdevreddit.blob.core.windows.net/;QueueEndpoint=https://ajdevreddit.queue.core.windows.net/;TableEndpoint=https://ajdevreddit.table.core.windows.net/;FileEndpoint=https://ajdevreddit.file.core.windows.net/\"\n",
    "os.environ[\"AZURE_VISION_API_KEY\"] = \"2ee8459a379c4b73aef287d1cf1c4b73\"\n",
    "os.environ[\"AZURE_VISION_ENDPOINT\"] = \"https://aj-vision-ai.cognitiveservices.azure.com/\""
   ],
   "metadata": {
    "collapsed": false,
    "ExecuteTime": {
     "end_time": "2023-06-18T23:44:38.272631500Z",
     "start_time": "2023-06-18T23:44:38.013380700Z"
    }
   }
  },
  {
   "cell_type": "code",
   "execution_count": 34,
   "metadata": {
    "collapsed": true,
    "ExecuteTime": {
     "end_time": "2023-06-18T23:44:38.328952200Z",
     "start_time": "2023-06-18T23:44:38.018563Z"
    }
   },
   "outputs": [],
   "source": [
    "import logging\n",
    "import os\n",
    "\n",
    "from azure.core.credentials import AzureNamedKeyCredential\n",
    "from azure.core.paging import ItemPaged\n",
    "from azure.data.tables import TableClient, TableEntity\n",
    "\n",
    "logging.getLogger(\"azure.storage\").setLevel(logging.WARNING)\n",
    "\n",
    "from azure.data.tables import TableServiceClient\n",
    "\n",
    "\n",
    "class TableAdapter(object):\n",
    "\tcredential = AzureNamedKeyCredential(os.environ[\"AZURE_ACCOUNT_NAME\"], os.environ[\"AZURE_ACCOUNT_KEY\"])\n",
    "\n",
    "\tdef __init__(self):\n",
    "\t\tself.service: TableServiceClient = TableServiceClient(endpoint=os.environ[\"AZURE_TABLE_ENDPOINT\"], credential=self.credential)\n",
    "\t\tself.tables = self.service.list_tables()\n",
    "\n",
    "\n",
    "\tdef get_table_service_client(self) -> TableServiceClient:\n",
    "\t\treturn self.service\n",
    "\n",
    "\tdef perform_odata_query(self, table_name: str, query: str) -> list[dict]:\n",
    "\t\ttable_client: TableClient = self.get_table_client(table_name=table_name)\n",
    "\t\tentities: ItemPaged[TableEntity] = table_client.query_entities(query)\n",
    "\t\treturn list(entities)\n",
    "\n",
    "\n",
    "\tdef get_table_client(self, table_name: str) -> TableClient:\n",
    "\t\tservice: TableServiceClient = self.get_table_service_client()\n",
    "\t\treturn service.get_table_client(table_name=table_name)\n",
    "\n",
    "\tdef upsert_entity_to_table(self, table_name: str, entity: dict):\n",
    "\t\ttable_client: TableClient = self.get_table_client(table_name=table_name)\n",
    "\t\ttable_client.upsert_entity(entity=entity)\n",
    "\t\treturn\n",
    "\n",
    "\tdef get_all_entities(self, table_name: str) -> list[dict]:\n",
    "\t\ttable_client: TableClient = self.get_table_client(table_name=table_name)\n",
    "\t\tentities: ItemPaged[TableEntity] = table_client.list_entities()\n",
    "\t\treturn list(entities)\n",
    "\n",
    "\tdef get_table_client_instance(self, table_name: str) -> TableClient:\n",
    "\t\tservice: TableServiceClient = self.get_table_service_client()\n",
    "\t\treturn service.get_table_client(table_name=table_name)\n",
    "\n",
    "\tdef get_entity(self, table_name: str, partition_key: str, row_key: str) -> TableEntity:\n",
    "\t\ttable_client: TableClient = self.get_table_client(table_name=table_name)\n",
    "\t\tentity: TableEntity = table_client.get_entity(partition_key=partition_key, row_key=row_key)\n",
    "\t\treturn entity"
   ]
  },
  {
   "cell_type": "code",
   "execution_count": 35,
   "outputs": [],
   "source": [
    "table_adapter: TableAdapter = TableAdapter()\n",
    "\n",
    "client: TableClient = table_adapter.get_table_client(table_name=\"curationPrimary\")\n",
    "\n",
    "all_entities = list(client.query_entities(\"PartitionKey ne 'foo'\", select=['PartitionKey', 'RowKey']))"
   ],
   "metadata": {
    "collapsed": false,
    "ExecuteTime": {
     "end_time": "2023-06-18T23:44:42.257263100Z",
     "start_time": "2023-06-18T23:44:38.036990600Z"
    }
   }
  },
  {
   "cell_type": "code",
   "execution_count": 36,
   "outputs": [],
   "source": [
    "extant_entity_list = [item['RowKey'] for item in all_entities]"
   ],
   "metadata": {
    "collapsed": false,
    "ExecuteTime": {
     "end_time": "2023-06-18T23:44:42.302627300Z",
     "start_time": "2023-06-18T23:44:42.260264600Z"
    }
   }
  },
  {
   "cell_type": "code",
   "execution_count": 37,
   "outputs": [],
   "source": [
    "import praw\n",
    "\n",
    "reddit: praw.Reddit = praw.Reddit(client_id='5hVavL0PIRyM_1JSvqT6UQ', client_secret='BjD2kS3WNLnJc59RKY-JJUuc_Z9-JA',\n",
    "\t\t\t\t\t\t\t\t  user_agent='script:%(bot_name)s:v%(bot_version)s (by /u/%(bot_author)s)',\n",
    "\t\t\t\t\t\t\t\t  check_for_async=False)"
   ],
   "metadata": {
    "collapsed": false,
    "ExecuteTime": {
     "end_time": "2023-06-18T23:44:42.303629200Z",
     "start_time": "2023-06-18T23:44:42.292451900Z"
    }
   }
  },
  {
   "cell_type": "code",
   "execution_count": 38,
   "outputs": [],
   "source": [
    "from adlfs import AzureBlobFileSystem\n",
    "from transformers import BlipProcessor, BlipForConditionalGeneration\n",
    "import random\n",
    "import hashlib\n",
    "import torch\n",
    "from PIL import Image\n",
    "\n",
    "class BlipCaption:\n",
    "\tdef __init__(self, device_name: str = \"cuda\"):\n",
    "\t\tself.processor = BlipProcessor.from_pretrained(\"Salesforce/blip-image-captioning-large\")\n",
    "\t\tself.device = torch.device(device_name)\n",
    "\t\tself.model = BlipForConditionalGeneration.from_pretrained(\"Salesforce/blip-image-captioning-large\",\n",
    "\t\t\t\t\t\t\t\t\t\t\t\t\t\t\t\t  torch_dtype=torch.float16).to(self.device)\n",
    "\n",
    "\tdef caption_image(self, image_path: str) -> str:\n",
    "\t\ttry:\n",
    "\t\t\traw_image = Image.open(image_path).convert('RGB')\n",
    "\t\t\tinputs = self.processor(raw_image, return_tensors=\"pt\").to(self.device, torch.float16)\n",
    "\t\t\tout = self.model.generate(**inputs)\n",
    "\t\t\treturn self.processor.decode(out[0], skip_special_tokens=True, max_new_tokens=50)\n",
    "\n",
    "\t\texcept Exception as e:\n",
    "\t\t\tprint(e)\n",
    "\t\t\treturn \"\"\n",
    "\n",
    "\n",
    "class Functions(object):\n",
    "\tdef get_name_for_image(self, x: object, file_list__) -> str:\n",
    "\t\tpath = x['path']\n",
    "\t\tif path != \"\" and path in file_list__:\n",
    "\t\t\treturn os.path.basename(path)\n",
    "\t\telse:\n",
    "\t\t\treturn \"\"\n",
    "\n",
    "\tdef set_exists(self, x: object, file_system__) -> bool:\n",
    "\t\ttry:\n",
    "\t\t\tsub_reddit = x['subreddit']\n",
    "\t\t\trecord_id = x['id']\n",
    "\t\t\tremote_path = x['path']\n",
    "\t\t\treturn file_system__.exists(remote_path)\n",
    "\t\texcept Exception as ex:\n",
    "\t\t\treturn False\n",
    "\n",
    "\tdef set_hash(self, x: object):\n",
    "\t\tsub_reddit = x['subreddit']\n",
    "\t\trecord_id = x['id']\n",
    "\t\ttemp_path = f\"temp/image/{sub_reddit}/{record_id}.jpg\"\n",
    "\t\tif os.path.exists(temp_path):\n",
    "\t\t\treturn hashlib.md5(open(temp_path, 'rb').read()).hexdigest()\n",
    "\t\telse:\n",
    "\t\t\treturn \"\"\n",
    "\n",
    "\tdef add_source(self, x: object, source_list) -> str:\n",
    "\t\tsub_reddit = x['subreddit']\n",
    "\t\tfor source in source_list:\n",
    "\t\t\tdata_source = source['data']\n",
    "\t\t\tsource_name = source['name']\n",
    "\t\t\tif sub_reddit in data_source:\n",
    "\t\t\t\treturn source_name\n",
    "\t\treturn \"\"\n",
    "\n",
    "\tdef apply_caption(self, x: object, caption_routine: list[BlipCaption], _file_system: AzureBlobFileSystem) -> str:\n",
    "\t\t_exists = x['exists']\n",
    "\t\tif not _exists:\n",
    "\t\t\treturn \"\"\n",
    "\t\tsub_reddit = x['subreddit']\n",
    "\t\trecord_id = x['id']\n",
    "\t\tremote_path = x['path']\n",
    "\t\tos.makedirs(f\"temp/image/{sub_reddit}/\", exist_ok=True)\n",
    "\t\ttemp_path = f\"temp/image/{sub_reddit}/{record_id}.jpg\"\n",
    "\n",
    "\t\tif os.path.exists(temp_path):\n",
    "\t\t\ttry:\n",
    "\t\t\t\tresult = random.choice(caption_routine).caption_image(temp_path)\n",
    "\t\t\t\treturn result\n",
    "\t\t\texcept Exception as ex:\n",
    "\t\t\t\tmessage = f\"{x['id']}, {x['subreddit']}, Failure in apply_caption, {ex}\"\n",
    "\t\t\t\tprint(message)\n",
    "\t\t\t\treturn \"\"\n",
    "\t\telse:\n",
    "\t\t\ttry:\n",
    "\t\t\t\t_file_system.download(remote_path, temp_path)\n",
    "\t\t\t\tresult = random.choice(caption_routine).caption_image(temp_path)\n",
    "\t\t\t\treturn result\n",
    "\t\t\texcept Exception as ex:\n",
    "\t\t\t\tmessage = f\"{x['id']}, {x['subreddit']}, Failure in apply_caption, {ex}\"\n",
    "\t\t\t\tprint(message)\n",
    "\t\t\t\treturn \"\"\n",
    "\n",
    "\tdef fix_path(self, x: object, fl) -> str:\n",
    "\t\tcurrent_path = x['path']\n",
    "\t\texists_ = x['exists']\n",
    "\t\tif current_path in fl:\n",
    "\t\t\treturn current_path\n",
    "\t\telse:\n",
    "\t\t\timage_id = x['id']\n",
    "\t\t\tif exists_:\n",
    "\t\t\t\treturn f\"data/image/{image_id}.jpg\"\n",
    "\t\t\telse:\n",
    "\t\t\t\treturn \"\""
   ],
   "metadata": {
    "collapsed": false,
    "ExecuteTime": {
     "end_time": "2023-06-18T23:44:42.360754500Z",
     "start_time": "2023-06-18T23:44:42.315652800Z"
    }
   }
  },
  {
   "cell_type": "code",
   "execution_count": 39,
   "outputs": [
    {
     "data": {
      "text/plain": "'==== Starting Image Acquisition ===='"
     },
     "metadata": {},
     "output_type": "display_data"
    }
   ],
   "source": [
    "from common.storage.azure_file_storage import AzureFileStorageAdapter\n",
    "from tqdm import tqdm\n",
    "\n",
    "# @title Image Acquisition Flow\n",
    "\n",
    "display(\"==== Starting Image Acquisition ====\")\n",
    "\n",
    "tqdm.pandas(desc=\"Progress\")\n",
    "\n",
    "file_system = AzureFileStorageAdapter('data').get_file_storage()\n",
    "\n",
    "functions: Functions = Functions()"
   ],
   "metadata": {
    "collapsed": false,
    "ExecuteTime": {
     "end_time": "2023-06-18T23:44:42.360754500Z",
     "start_time": "2023-06-18T23:44:42.339153200Z"
    }
   }
  },
  {
   "cell_type": "code",
   "execution_count": 40,
   "outputs": [
    {
     "data": {
      "text/plain": "'== Current Subs =='"
     },
     "metadata": {},
     "output_type": "display_data"
    },
    {
     "data": {
      "text/plain": "'[\"tightdresses\", \"Dresses\", \"SlitDresses\", \"CollaredDresses\", \"DressesPorn\", \"WomenInLongDresses\", \"TrueFMK\", \"DLAH\", \"SFWRedheads\", \"sfwpetite\", \"SFWNextDoorGirls\", \"realasians\", \"KoreanHotties\", \"prettyasiangirls\", \"AsianOfficeLady\", \"AsianInvasion\", \"AesPleasingAsianGirls\", \"sexygirls\", \"PrettyGirls\", \"gentlemanboners\", \"hotofficegirls\", \"Ifyouhadtopickone\"]'"
     },
     "metadata": {},
     "output_type": "display_data"
    }
   ],
   "source": [
    "import json\n",
    "subs = [\n",
    "\t\"tightdresses\",\n",
    "\t\"Dresses\",\n",
    "\t\"SlitDresses\",\n",
    "\t\"CollaredDresses\",\n",
    "\t\"DressesPorn\",\n",
    "\t\"WomenInLongDresses\",\n",
    "\t\"TrueFMK\",\n",
    "\t\"DLAH\",\n",
    "\t\"SFWRedheads\",\n",
    "\t\"sfwpetite\",\n",
    "\t\"SFWNextDoorGirls\",\n",
    "\t\"realasians\",\n",
    "\t\"KoreanHotties\",\n",
    "\t\"prettyasiangirls\",\n",
    "\t\"AsianOfficeLady\",\n",
    "\t\"AsianInvasion\",\n",
    "\t\"AesPleasingAsianGirls\",\n",
    "\t\"sexygirls\",\n",
    "\t\"PrettyGirls\",\n",
    "\t\"gentlemanboners\",\n",
    "\t\"hotofficegirls\",\n",
    "\t\"Ifyouhadtopickone\"\n",
    "]\n",
    "\n",
    "display(\"== Current Subs ==\")\n",
    "display(json.dumps(subs))"
   ],
   "metadata": {
    "collapsed": false,
    "ExecuteTime": {
     "end_time": "2023-06-18T23:44:42.391377300Z",
     "start_time": "2023-06-18T23:44:42.353410900Z"
    }
   }
  },
  {
   "cell_type": "code",
   "execution_count": 41,
   "outputs": [
    {
     "data": {
      "text/plain": "'== Sources To Apply =='"
     },
     "metadata": {},
     "output_type": "display_data"
    },
    {
     "data": {
      "text/plain": "(20, 2)"
     },
     "metadata": {},
     "output_type": "display_data"
    },
    {
     "data": {
      "text/plain": "                      name                                               data\n0            CityDiffusion                                         [CityPorn]\n1          NatureDiffusion                                        [EarthPorn]\n2          CosmicDiffusion                                        [spaceporn]\n3            ITAPDiffusion                                    [itookapicture]\n4            MemeDiffusion                                            [memes]\n5             TTTDiffusion                               [trippinthroughtime]\n6      WallStreetDiffusion                                   [wallstreetbets]\n7            SexyDiffusion  [selfies, Amicute, amihot, AmIhotAF, HotGirlNe...\n8     FatSquirrelDiffusion                                  [fatsquirrelhate]\n9       CelebrityDiffusion                                      [celebrities]\n10        OldLadyDiffusion                              [oldladiesbakingpies]\n11               SWFPetite                                        [sfwpetite]\n12                SFWMilfs                            [cougars_and_milfs_sfw]\n13        RedHeadDiffusion                                      [SFWRedheads]\n14  NextDoorGirlsDiffusion                                 [SFWNextDoorGirls]\n15      SexyDressDiffusion  [SunDressesGoneWild, ShinyDresses, SlitDresses...\n16      SexyAsianDiffusion  [realasians, KoreanHotties, prettyasiangirls, ...\n17    MildlyPenisDiffusion                                      [mildlypenis]\n18     PrettyGirlDiffusion  [sexygirls, PrettyGirls, gentlemanboners, hoto...\n19         CandleDiffusion                                 [bathandbodyworks]",
      "text/html": "<div>\n<style scoped>\n    .dataframe tbody tr th:only-of-type {\n        vertical-align: middle;\n    }\n\n    .dataframe tbody tr th {\n        vertical-align: top;\n    }\n\n    .dataframe thead th {\n        text-align: right;\n    }\n</style>\n<table border=\"1\" class=\"dataframe\">\n  <thead>\n    <tr style=\"text-align: right;\">\n      <th></th>\n      <th>name</th>\n      <th>data</th>\n    </tr>\n  </thead>\n  <tbody>\n    <tr>\n      <th>0</th>\n      <td>CityDiffusion</td>\n      <td>[CityPorn]</td>\n    </tr>\n    <tr>\n      <th>1</th>\n      <td>NatureDiffusion</td>\n      <td>[EarthPorn]</td>\n    </tr>\n    <tr>\n      <th>2</th>\n      <td>CosmicDiffusion</td>\n      <td>[spaceporn]</td>\n    </tr>\n    <tr>\n      <th>3</th>\n      <td>ITAPDiffusion</td>\n      <td>[itookapicture]</td>\n    </tr>\n    <tr>\n      <th>4</th>\n      <td>MemeDiffusion</td>\n      <td>[memes]</td>\n    </tr>\n    <tr>\n      <th>5</th>\n      <td>TTTDiffusion</td>\n      <td>[trippinthroughtime]</td>\n    </tr>\n    <tr>\n      <th>6</th>\n      <td>WallStreetDiffusion</td>\n      <td>[wallstreetbets]</td>\n    </tr>\n    <tr>\n      <th>7</th>\n      <td>SexyDiffusion</td>\n      <td>[selfies, Amicute, amihot, AmIhotAF, HotGirlNe...</td>\n    </tr>\n    <tr>\n      <th>8</th>\n      <td>FatSquirrelDiffusion</td>\n      <td>[fatsquirrelhate]</td>\n    </tr>\n    <tr>\n      <th>9</th>\n      <td>CelebrityDiffusion</td>\n      <td>[celebrities]</td>\n    </tr>\n    <tr>\n      <th>10</th>\n      <td>OldLadyDiffusion</td>\n      <td>[oldladiesbakingpies]</td>\n    </tr>\n    <tr>\n      <th>11</th>\n      <td>SWFPetite</td>\n      <td>[sfwpetite]</td>\n    </tr>\n    <tr>\n      <th>12</th>\n      <td>SFWMilfs</td>\n      <td>[cougars_and_milfs_sfw]</td>\n    </tr>\n    <tr>\n      <th>13</th>\n      <td>RedHeadDiffusion</td>\n      <td>[SFWRedheads]</td>\n    </tr>\n    <tr>\n      <th>14</th>\n      <td>NextDoorGirlsDiffusion</td>\n      <td>[SFWNextDoorGirls]</td>\n    </tr>\n    <tr>\n      <th>15</th>\n      <td>SexyDressDiffusion</td>\n      <td>[SunDressesGoneWild, ShinyDresses, SlitDresses...</td>\n    </tr>\n    <tr>\n      <th>16</th>\n      <td>SexyAsianDiffusion</td>\n      <td>[realasians, KoreanHotties, prettyasiangirls, ...</td>\n    </tr>\n    <tr>\n      <th>17</th>\n      <td>MildlyPenisDiffusion</td>\n      <td>[mildlypenis]</td>\n    </tr>\n    <tr>\n      <th>18</th>\n      <td>PrettyGirlDiffusion</td>\n      <td>[sexygirls, PrettyGirls, gentlemanboners, hoto...</td>\n    </tr>\n    <tr>\n      <th>19</th>\n      <td>CandleDiffusion</td>\n      <td>[bathandbodyworks]</td>\n    </tr>\n  </tbody>\n</table>\n</div>"
     },
     "metadata": {},
     "output_type": "display_data"
    }
   ],
   "source": [
    "import pandas as pd\n",
    "\n",
    "# @title Set Sources\n",
    "\n",
    "\n",
    "sources = [\n",
    "\t{\"name\": \"CityDiffusion\", \"data\": [\"CityPorn\"]},\n",
    "\t{\"name\": \"NatureDiffusion\", \"data\": [\"EarthPorn\"]},\n",
    "\t{\"name\": \"CosmicDiffusion\", \"data\": [\"spaceporn\"]},\n",
    "\t{\"name\": \"ITAPDiffusion\", \"data\": [\"itookapicture\"]},\n",
    "\t{\"name\": \"MemeDiffusion\", \"data\": [\"memes\"]},\n",
    "\t{\"name\": \"TTTDiffusion\", \"data\": [\"trippinthroughtime\"]},\n",
    "\t{\"name\": \"WallStreetDiffusion\", \"data\": [\"wallstreetbets\"]},\n",
    "\t{\"name\": \"SexyDiffusion\", \"data\": [\"selfies\", \"Amicute\", \"amihot\", \"AmIhotAF\", \"HotGirlNextDoor\"]},\n",
    "\t{\"name\": \"FatSquirrelDiffusion\", \"data\": [\"fatsquirrelhate\"]},\n",
    "\t{\"name\": \"CelebrityDiffusion\", \"data\": [\"celebrities\"]},\n",
    "\t{\"name\": \"OldLadyDiffusion\", \"data\": [\"oldladiesbakingpies\"]},\n",
    "\t{\"name\": \"SWFPetite\", \"data\": [\"sfwpetite\"]},\n",
    "\t{\"name\": \"SFWMilfs\", \"data\": [\"cougars_and_milfs_sfw\"]},\n",
    "\t{\"name\": \"RedHeadDiffusion\", \"data\": [\"SFWRedheads\"]},\n",
    "\t{\"name\": \"NextDoorGirlsDiffusion\", \"data\": [\"SFWNextDoorGirls\"]},\n",
    "\t{\"name\": \"SexyDressDiffusion\", \"data\": [\"SunDressesGoneWild\", \"ShinyDresses\", \"SlitDresses\", \"CollaredDresses\", \"DressesPorn\",\"WomenInLongDresses\", \"Dresses\", \"tightdresses\", \"DLAH\"]},\n",
    "\t{\"name\": \"SexyAsianDiffusion\", \"data\": [\"realasians\", \"KoreanHotties\", \"prettyasiangirls\", \"AsianOfficeLady\", \"AsianInvasion\", \"AesPleasingAsianGirls\"]},\n",
    "\t{\"name\": \"MildlyPenisDiffusion\", \"data\": [\"mildlypenis\"]},\n",
    "\t{\"name\": \"PrettyGirlDiffusion\", \"data\": [\"sexygirls\", \"PrettyGirls\", \"gentlemanboners\", \"hotofficegirls\",\"TrueFMK\", \"Ifyouhadtopickone\"]},\n",
    "\t{\"name\": \"CandleDiffusion\", \"data\": [\"bathandbodyworks\"]}\n",
    "]\n",
    "sources_df = pd.DataFrame.from_records(sources)\n",
    "\n",
    "display(\"== Sources To Apply ==\")\n",
    "display(sources_df.shape)\n",
    "display(sources_df)"
   ],
   "metadata": {
    "collapsed": false,
    "ExecuteTime": {
     "end_time": "2023-06-18T23:44:42.573557600Z",
     "start_time": "2023-06-18T23:44:42.372107Z"
    }
   }
  },
  {
   "cell_type": "code",
   "execution_count": 42,
   "outputs": [
    {
     "name": "stderr",
     "output_type": "stream",
     "text": [
      "Creating Temp Dir For Subs...: 100%|██████████| 22/22 [00:00<00:00, 4265.46it/s]\n"
     ]
    }
   ],
   "source": [
    "# @title Create Temp Dirs\n",
    "\n",
    "\n",
    "for sub in tqdm(subs, total=len(subs), desc=\"Creating Temp Dir For Subs...\"):\n",
    "\ttemp_dir_path_ = f\"temp/{sub}\"\n",
    "\tif not os.path.exists(temp_dir_path_):\n",
    "\t\tos.makedirs(temp_dir_path_)\n",
    "\tos.makedirs(temp_dir_path_, exist_ok=True)"
   ],
   "metadata": {
    "collapsed": false,
    "ExecuteTime": {
     "end_time": "2023-06-18T23:44:42.574558300Z",
     "start_time": "2023-06-18T23:44:42.401674800Z"
    }
   }
  },
  {
   "cell_type": "code",
   "execution_count": 43,
   "outputs": [
    {
     "name": "stderr",
     "output_type": "stream",
     "text": [
      "Reading Temp Dir For Subs...: 100%|██████████| 22/22 [00:04<00:00,  4.70it/s]\n",
      "Posts - tightdresses - day: 100%|██████████| 104/104 [00:07<00:00, 13.78it/s]\n",
      "Posts - tightdresses - year: 100%|██████████| 203/203 [00:07<00:00, 26.92it/s]\n",
      "Posts - tightdresses - week: 100%|██████████| 152/152 [00:10<00:00, 14.10it/s]\n",
      "Posts - tightdresses - all: 100%|██████████| 204/204 [00:07<00:00, 28.00it/s]\n",
      "Posts - tightdresses - month: 100%|██████████| 197/197 [00:07<00:00, 25.11it/s]\n",
      "Posts - Dresses - day: 100%|██████████| 106/106 [00:06<00:00, 15.85it/s]\n",
      "Posts - Dresses - year: 100%|██████████| 185/185 [00:06<00:00, 27.32it/s]\n",
      "Posts - Dresses - week: 100%|██████████| 116/116 [00:06<00:00, 18.51it/s]\n",
      "Posts - Dresses - all: 100%|██████████| 185/185 [00:07<00:00, 26.24it/s]\n",
      "Posts - Dresses - month: 100%|██████████| 178/178 [00:06<00:00, 26.71it/s]\n",
      "Posts - SlitDresses - day: 100%|██████████| 101/101 [00:01<00:00, 51.98it/s]\n",
      "Posts - SlitDresses - year: 100%|██████████| 193/193 [00:01<00:00, 106.04it/s]\n",
      "Posts - SlitDresses - week: 100%|██████████| 101/101 [00:01<00:00, 57.95it/s]\n",
      "Posts - SlitDresses - all: 100%|██████████| 197/197 [00:01<00:00, 101.80it/s]\n",
      "Posts - SlitDresses - month: 100%|██████████| 148/148 [00:01<00:00, 81.93it/s] \n",
      "Posts - CollaredDresses - day: 100%|██████████| 90/90 [00:00<00:00, 4252.28it/s]\n",
      "Posts - CollaredDresses - year: 100%|██████████| 90/90 [00:00<00:00, 4118.97it/s]\n",
      "Posts - CollaredDresses - week: 100%|██████████| 90/90 [00:00<00:00, 3750.20it/s]\n",
      "Posts - CollaredDresses - all: 100%|██████████| 90/90 [00:00<00:00, 4756.29it/s]\n",
      "Posts - CollaredDresses - month: 100%|██████████| 90/90 [00:00<00:00, 2858.09it/s]\n",
      "Posts - DressesPorn - day: 100%|██████████| 90/90 [00:00<00:00, 4602.10it/s]\n",
      "Posts - DressesPorn - year: 100%|██████████| 90/90 [00:00<00:00, 4230.02it/s]\n",
      "Posts - DressesPorn - week: 100%|██████████| 90/90 [00:00<00:00, 3775.67it/s]\n",
      "Posts - DressesPorn - all: 100%|██████████| 90/90 [00:00<00:00, 4454.13it/s]\n",
      "Posts - DressesPorn - month: 100%|██████████| 90/90 [00:00<00:00, 3076.66it/s]\n",
      "Posts - WomenInLongDresses - day: 100%|██████████| 13/13 [00:00<00:00, 1181.88it/s]\n",
      "Posts - WomenInLongDresses - year: 100%|██████████| 13/13 [00:00<00:00, 1617.40it/s]\n",
      "Posts - WomenInLongDresses - week: 100%|██████████| 13/13 [00:00<00:00, 1623.33it/s]\n",
      "Posts - WomenInLongDresses - all: 100%|██████████| 13/13 [00:00<00:00, 1158.82it/s]\n",
      "Posts - WomenInLongDresses - month: 100%|██████████| 13/13 [00:00<00:00, 1065.13it/s]\n",
      "Posts - TrueFMK - day: 100%|██████████| 107/107 [00:07<00:00, 14.37it/s]\n",
      "Posts - TrueFMK - year: 100%|██████████| 206/206 [00:07<00:00, 25.85it/s]\n",
      "Posts - TrueFMK - week: 100%|██████████| 172/172 [00:12<00:00, 14.32it/s]\n",
      "Posts - TrueFMK - all: 100%|██████████| 207/207 [00:07<00:00, 27.98it/s]\n",
      "Posts - TrueFMK - month: 100%|██████████| 203/203 [00:08<00:00, 22.91it/s]\n",
      "Posts - DLAH - day: 100%|██████████| 105/105 [00:07<00:00, 14.18it/s]\n",
      "Posts - DLAH - year: 100%|██████████| 205/205 [00:07<00:00, 28.89it/s]\n",
      "Posts - DLAH - week: 100%|██████████| 181/181 [00:11<00:00, 16.36it/s]\n",
      "Posts - DLAH - all: 100%|██████████| 205/205 [00:07<00:00, 26.68it/s]\n",
      "Posts - DLAH - month: 100%|██████████| 203/203 [00:08<00:00, 24.91it/s]\n",
      "Posts - SFWRedheads - day: 100%|██████████| 108/108 [00:00<00:00, 277.63it/s]\n",
      "Posts - SFWRedheads - year: 100%|██████████| 208/208 [00:00<00:00, 830.23it/s]\n",
      "Posts - SFWRedheads - week: 100%|██████████| 108/108 [00:00<00:00, 384.90it/s]\n",
      "Posts - SFWRedheads - all: 100%|██████████| 208/208 [00:00<00:00, 781.54it/s]\n",
      "Posts - SFWRedheads - month: 100%|██████████| 197/197 [00:00<00:00, 284.07it/s]\n",
      "Posts - sfwpetite - day: 100%|██████████| 100/100 [00:03<00:00, 31.90it/s]\n",
      "Posts - sfwpetite - year: 100%|██████████| 196/196 [00:02<00:00, 65.71it/s]\n",
      "Posts - sfwpetite - week: 100%|██████████| 100/100 [00:03<00:00, 32.15it/s]\n",
      "Posts - sfwpetite - all: 100%|██████████| 197/197 [00:02<00:00, 65.75it/s]\n",
      "Posts - sfwpetite - month: 100%|██████████| 155/155 [00:03<00:00, 50.93it/s]\n",
      "Posts - SFWNextDoorGirls - day: 100%|██████████| 111/111 [00:07<00:00, 14.32it/s]\n",
      "Posts - SFWNextDoorGirls - year: 100%|██████████| 211/211 [00:07<00:00, 27.89it/s]\n",
      "Posts - SFWNextDoorGirls - week: 100%|██████████| 199/199 [00:11<00:00, 16.63it/s]\n",
      "Posts - SFWNextDoorGirls - all: 100%|██████████| 211/211 [00:07<00:00, 28.52it/s]\n",
      "Posts - SFWNextDoorGirls - month: 100%|██████████| 211/211 [00:08<00:00, 25.17it/s]\n",
      "Posts - realasians - day: 100%|██████████| 107/107 [00:07<00:00, 13.68it/s]\n",
      "Posts - realasians - year: 100%|██████████| 207/207 [00:08<00:00, 25.03it/s]\n",
      "Posts - realasians - week: 100%|██████████| 175/175 [00:11<00:00, 15.67it/s]\n",
      "Posts - realasians - all: 100%|██████████| 207/207 [00:07<00:00, 26.24it/s]\n",
      "Posts - realasians - month: 100%|██████████| 203/203 [00:08<00:00, 24.33it/s]\n",
      "Posts - KoreanHotties - day: 100%|██████████| 104/104 [00:07<00:00, 13.83it/s]\n",
      "Posts - KoreanHotties - year: 100%|██████████| 201/201 [00:07<00:00, 26.85it/s]\n",
      "Posts - KoreanHotties - week: 100%|██████████| 168/168 [00:09<00:00, 16.93it/s]\n",
      "Posts - KoreanHotties - all: 100%|██████████| 200/200 [00:08<00:00, 24.99it/s]\n",
      "Posts - KoreanHotties - month: 100%|██████████| 196/196 [00:07<00:00, 26.68it/s]\n",
      "Posts - prettyasiangirls - day: 100%|██████████| 103/103 [00:07<00:00, 13.94it/s]\n",
      "Posts - prettyasiangirls - year: 100%|██████████| 203/203 [00:07<00:00, 28.55it/s]\n",
      "Posts - prettyasiangirls - week: 100%|██████████| 176/176 [00:11<00:00, 15.55it/s]\n",
      "Posts - prettyasiangirls - all: 100%|██████████| 203/203 [00:07<00:00, 26.93it/s]\n",
      "Posts - prettyasiangirls - month: 100%|██████████| 198/198 [00:07<00:00, 25.28it/s]\n",
      "Posts - AsianOfficeLady - day: 100%|██████████| 100/100 [00:00<00:00, 110.00it/s]\n",
      "Posts - AsianOfficeLady - year: 100%|██████████| 179/179 [00:00<00:00, 226.00it/s]\n",
      "Posts - AsianOfficeLady - week: 100%|██████████| 100/100 [00:00<00:00, 130.24it/s]\n",
      "Posts - AsianOfficeLady - all: 100%|██████████| 190/190 [00:00<00:00, 241.94it/s]\n",
      "Posts - AsianOfficeLady - month: 100%|██████████| 100/100 [00:00<00:00, 122.02it/s]\n",
      "Posts - AsianInvasion - day: 100%|██████████| 100/100 [00:00<00:00, 108.35it/s]\n",
      "Posts - AsianInvasion - year: 100%|██████████| 166/166 [00:00<00:00, 203.83it/s]\n",
      "Posts - AsianInvasion - week: 100%|██████████| 100/100 [00:00<00:00, 128.62it/s]\n",
      "Posts - AsianInvasion - all: 100%|██████████| 166/166 [00:00<00:00, 196.29it/s]\n",
      "Posts - AsianInvasion - month: 100%|██████████| 100/100 [00:00<00:00, 125.01it/s]\n",
      "Posts - AesPleasingAsianGirls - day: 100%|██████████| 100/100 [00:01<00:00, 76.07it/s]\n",
      "Posts - AesPleasingAsianGirls - year: 100%|██████████| 198/198 [00:01<00:00, 146.85it/s]\n",
      "Posts - AesPleasingAsianGirls - week: 100%|██████████| 100/100 [00:01<00:00, 80.76it/s]\n",
      "Posts - AesPleasingAsianGirls - all: 100%|██████████| 200/200 [00:01<00:00, 136.54it/s]\n",
      "Posts - AesPleasingAsianGirls - month: 100%|██████████| 121/121 [00:01<00:00, 91.80it/s] \n",
      "Posts - sexygirls - day: 100%|██████████| 101/101 [00:03<00:00, 32.91it/s]\n",
      "Posts - sexygirls - year: 100%|██████████| 201/201 [00:03<00:00, 61.84it/s]\n",
      "Posts - sexygirls - week: 100%|██████████| 101/101 [00:03<00:00, 33.66it/s]\n",
      "Posts - sexygirls - all: 100%|██████████| 201/201 [00:03<00:00, 63.32it/s]\n",
      "Posts - sexygirls - month: 100%|██████████| 183/183 [00:03<00:00, 51.46it/s]\n",
      "Posts - PrettyGirls - day: 100%|██████████| 101/101 [00:03<00:00, 25.76it/s]\n",
      "Posts - PrettyGirls - year: 100%|██████████| 200/200 [00:03<00:00, 59.69it/s]\n",
      "Posts - PrettyGirls - week: 100%|██████████| 101/101 [00:03<00:00, 29.44it/s]\n",
      "Posts - PrettyGirls - all: 100%|██████████| 201/201 [00:03<00:00, 60.36it/s]\n",
      "Posts - PrettyGirls - month: 100%|██████████| 187/187 [00:03<00:00, 48.17it/s]\n",
      "Posts - gentlemanboners - day: 100%|██████████| 103/103 [00:08<00:00, 12.76it/s]\n",
      "Posts - gentlemanboners - year: 100%|██████████| 203/203 [00:07<00:00, 27.93it/s]\n",
      "Posts - gentlemanboners - week: 100%|██████████| 103/103 [00:06<00:00, 16.49it/s]\n",
      "Posts - gentlemanboners - all: 100%|██████████| 203/203 [00:08<00:00, 23.40it/s]\n",
      "Posts - gentlemanboners - month: 100%|██████████| 197/197 [00:08<00:00, 24.49it/s]\n",
      "Posts - hotofficegirls - day: 100%|██████████| 100/100 [00:01<00:00, 90.48it/s]\n",
      "Posts - hotofficegirls - year: 100%|██████████| 187/187 [00:01<00:00, 171.47it/s]\n",
      "Posts - hotofficegirls - week: 100%|██████████| 100/100 [00:01<00:00, 95.31it/s]\n",
      "Posts - hotofficegirls - all: 100%|██████████| 200/200 [00:01<00:00, 160.38it/s]\n",
      "Posts - hotofficegirls - month: 100%|██████████| 100/100 [00:00<00:00, 100.32it/s]\n",
      "Posts - Ifyouhadtopickone - day: 100%|██████████| 108/108 [00:06<00:00, 15.72it/s]\n",
      "Posts - Ifyouhadtopickone - year: 100%|██████████| 208/208 [00:06<00:00, 30.47it/s]\n",
      "Posts - Ifyouhadtopickone - week: 100%|██████████| 111/111 [00:06<00:00, 16.80it/s]\n",
      "Posts - Ifyouhadtopickone - all: 100%|██████████| 208/208 [00:06<00:00, 29.85it/s]\n",
      "Posts - Ifyouhadtopickone - month: 100%|██████████| 205/205 [00:07<00:00, 27.94it/s]\n"
     ]
    }
   ],
   "source": [
    "# @title Locate And Cache Reddit Data\n",
    "import pandas\n",
    "from common.schemas.pyarrow_schema import schema\n",
    "data = []\n",
    "for sub in tqdm(subs, desc=\"Reading Temp Dir For Subs...\"):\n",
    "\tdf = pandas.read_parquet(f\"temp/{sub}\", schema=schema, engine='pyarrow')\n",
    "\trecords = df.to_dict(orient='records')\n",
    "\tdata.extend(records)\n",
    "\n",
    "try:\n",
    "\tcache_data = pandas.DataFrame(data)\n",
    "\tcache_data.set_index('id', drop=False, inplace=True)\n",
    "except KeyError:\n",
    "\tcache_data = pandas.DataFrame(data=[{'id': \"foo\"}])\n",
    "\tcache_data.set_index('id', drop=False, inplace=True)\n",
    "\n",
    "for sub in subs:\n",
    "\ttry:\n",
    "\t\tsubreddit_stream_2 = list(reddit.subreddit(display_name=sub).hot(limit=100))\n",
    "\texcept:\n",
    "\t\tsubreddit_stream_2 = list()\n",
    "\ttry:\n",
    "\t\tsubreddit_stream_3 = list(reddit.subreddit(display_name=sub).new())\n",
    "\texcept:\n",
    "\t\tsubreddit_stream_3 = list()\n",
    "\ttemp_dir_path = f\"temp/{sub}\"\n",
    "\tremote_temp_data = f\"data/temp/{sub}\"\n",
    "\tfor time_filter in ['day', 'year', 'week', 'all', 'month']:\n",
    "\t\ttry:\n",
    "\t\t\tsubreddit_stream = reddit.subreddit(display_name=sub).top(limit=100, time_filter=time_filter)\n",
    "\t\t\tsubreddit_stream = list(subreddit_stream)\n",
    "\n",
    "\t\t\tall_streams = subreddit_stream + subreddit_stream_2 + subreddit_stream_3\n",
    "\t\t\tall_streams = list(set(all_streams))\n",
    "\t\t\tp = tqdm(all_streams, total=len(all_streams), desc=f\"Posts - {sub} - {time_filter}\")\n",
    "\t\t\tfor submission in p:\n",
    "\t\t\t\tif submission is None:\n",
    "\t\t\t\t\tcontinue\n",
    "\t\t\t\telse:\n",
    "\t\t\t\t\tif submission.id in extant_entity_list or submission.id in cache_data.index.values:\n",
    "\t\t\t\t\t\tcontinue\n",
    "\t\t\t\t\telse:\n",
    "\t\t\t\t\t\ttry:\n",
    "\t\t\t\t\t\t\tif file_system.exists(f\"{remote_temp_data}/{submission.id}.parquet\"):\n",
    "\t\t\t\t\t\t\t\tfile_system.download(f\"{remote_temp_data}/{submission.id}.parquet\",\n",
    "\t\t\t\t\t\t\t\t\t\t\t\t\t f\"{temp_dir_path}/{submission.id}.parquet\")\n",
    "\t\t\t\t\t\t\t\tcontinue\n",
    "\n",
    "\t\t\t\t\t\t\tsub_id = submission.id\n",
    "\t\t\t\t\t\t\tauthor_name = 'Unknown'\n",
    "\t\t\t\t\t\t\tsubreddit_name = sub\n",
    "\t\t\t\t\t\t\tsub_title = submission.title\n",
    "\t\t\t\t\t\t\tperma_link = submission.permalink\n",
    "\t\t\t\t\t\t\tsub_url = submission.url\n",
    "\t\t\t\t\t\t\ttry:\n",
    "\t\t\t\t\t\t\t\tauthor_name = submission.author.name\n",
    "\t\t\t\t\t\t\texcept Exception as e:\n",
    "\t\t\t\t\t\t\t\tauthor_name = 'Unknown'\n",
    "\t\t\t\t\t\t\t\tpass\n",
    "\t\t\t\t\t\t\tp = {\n",
    "\t\t\t\t\t\t\t\t'id': sub_id,\n",
    "\t\t\t\t\t\t\t\t'subreddit': subreddit_name,\n",
    "\t\t\t\t\t\t\t\t'author': author_name,\n",
    "\t\t\t\t\t\t\t\t'title': sub_title,\n",
    "\t\t\t\t\t\t\t\t'caption': '',\n",
    "\t\t\t\t\t\t\t\t'hash': '',\n",
    "\t\t\t\t\t\t\t\t'permalink': perma_link,\n",
    "\t\t\t\t\t\t\t\t'original_url': sub_url,\n",
    "\t\t\t\t\t\t\t\t'image_name': '',\n",
    "\t\t\t\t\t\t\t\t'path': '',\n",
    "\t\t\t\t\t\t\t\t'thumbnail_path': '',\n",
    "\t\t\t\t\t\t\t\t'exists': False,\n",
    "\t\t\t\t\t\t\t\t'curated': False,\n",
    "\t\t\t\t\t\t\t\t'Tags': ['']\n",
    "\t\t\t\t\t\t\t}\n",
    "\t\t\t\t\t\t\tcontinue\n",
    "\t\t\t\t\t\texcept Exception as e:\n",
    "\t\t\t\t\t\t\tlog = f\"{submission.id}, {sub}, Error Writing Post, {e}\"\n",
    "\t\t\t\t\t\t\tprint(log)\n",
    "\t\t\t\t\t\t\tcontinue\n",
    "\t\texcept Exception as e:\n",
    "\t\t\tlog = f\"{sub}, Error Getting Posts For SubReddit, {e}\"\n",
    "\t\t\tprint(log)\n",
    "\t\t\tcontinue"
   ],
   "metadata": {
    "collapsed": false,
    "ExecuteTime": {
     "end_time": "2023-06-19T00:05:20.765853400Z",
     "start_time": "2023-06-18T23:44:42.428209400Z"
    }
   }
  },
  {
   "cell_type": "code",
   "execution_count": 44,
   "outputs": [
    {
     "name": "stderr",
     "output_type": "stream",
     "text": [
      "Reading Temp Dir For Subs...: 100%|██████████| 22/22 [00:02<00:00,  7.99it/s]\n"
     ]
    },
    {
     "data": {
      "text/plain": "'==== TEMP DATA ===='"
     },
     "metadata": {},
     "output_type": "display_data"
    },
    {
     "data": {
      "text/plain": "(4836, 15)"
     },
     "metadata": {},
     "output_type": "display_data"
    },
    {
     "data": {
      "text/plain": "              id     subreddit        author                   title caption   \nid                                                                             \n100pr72  100pr72  tightdresses      monkyCEO  Vacuum sealed hot pink          \\\n1034juw  1034juw  tightdresses  DiscreetNYC5        slip and slide 💙           \n107fr37  107fr37  tightdresses  Queenlivia00       Elegance is in me           \n10avknu  10avknu  tightdresses  bubblrisback            Making moves           \n10fm9ul  10fm9ul  tightdresses  Queenlivia00                Fit body           \n\n        hash                                          permalink   \nid                                                                \n100pr72       /r/tightdresses/comments/100pr72/vacuum_sealed...  \\\n1034juw        /r/tightdresses/comments/1034juw/slip_and_slide/   \n107fr37       /r/tightdresses/comments/107fr37/elegance_is_i...   \n10avknu          /r/tightdresses/comments/10avknu/making_moves/   \n10fm9ul              /r/tightdresses/comments/10fm9ul/fit_body/   \n\n                                        original_url   image_name path model   \nid                                                                             \n100pr72             https://i.imgur.com/claFblV.gifv  100pr72.jpg             \\\n1034juw  https://gfycat.com/cluelesspointeddevilfish  1034juw.jpg              \n107fr37             https://i.imgur.com/T4JKrkz.gifv  107fr37.jpg              \n10avknu             https://i.imgur.com/HabJw2C.gifv  10avknu.jpg              \n10fm9ul             https://i.imgur.com/HXjhy50.gifv  10fm9ul.jpg              \n\n         exists  curated accept tags  \nid                                    \n100pr72   False    False  False   []  \n1034juw   False    False  False   []  \n107fr37   False    False  False   []  \n10avknu   False    False  False   []  \n10fm9ul   False    False  False   []  ",
      "text/html": "<div>\n<style scoped>\n    .dataframe tbody tr th:only-of-type {\n        vertical-align: middle;\n    }\n\n    .dataframe tbody tr th {\n        vertical-align: top;\n    }\n\n    .dataframe thead th {\n        text-align: right;\n    }\n</style>\n<table border=\"1\" class=\"dataframe\">\n  <thead>\n    <tr style=\"text-align: right;\">\n      <th></th>\n      <th>id</th>\n      <th>subreddit</th>\n      <th>author</th>\n      <th>title</th>\n      <th>caption</th>\n      <th>hash</th>\n      <th>permalink</th>\n      <th>original_url</th>\n      <th>image_name</th>\n      <th>path</th>\n      <th>model</th>\n      <th>exists</th>\n      <th>curated</th>\n      <th>accept</th>\n      <th>tags</th>\n    </tr>\n    <tr>\n      <th>id</th>\n      <th></th>\n      <th></th>\n      <th></th>\n      <th></th>\n      <th></th>\n      <th></th>\n      <th></th>\n      <th></th>\n      <th></th>\n      <th></th>\n      <th></th>\n      <th></th>\n      <th></th>\n      <th></th>\n      <th></th>\n    </tr>\n  </thead>\n  <tbody>\n    <tr>\n      <th>100pr72</th>\n      <td>100pr72</td>\n      <td>tightdresses</td>\n      <td>monkyCEO</td>\n      <td>Vacuum sealed hot pink</td>\n      <td></td>\n      <td></td>\n      <td>/r/tightdresses/comments/100pr72/vacuum_sealed...</td>\n      <td>https://i.imgur.com/claFblV.gifv</td>\n      <td>100pr72.jpg</td>\n      <td></td>\n      <td></td>\n      <td>False</td>\n      <td>False</td>\n      <td>False</td>\n      <td>[]</td>\n    </tr>\n    <tr>\n      <th>1034juw</th>\n      <td>1034juw</td>\n      <td>tightdresses</td>\n      <td>DiscreetNYC5</td>\n      <td>slip and slide 💙</td>\n      <td></td>\n      <td></td>\n      <td>/r/tightdresses/comments/1034juw/slip_and_slide/</td>\n      <td>https://gfycat.com/cluelesspointeddevilfish</td>\n      <td>1034juw.jpg</td>\n      <td></td>\n      <td></td>\n      <td>False</td>\n      <td>False</td>\n      <td>False</td>\n      <td>[]</td>\n    </tr>\n    <tr>\n      <th>107fr37</th>\n      <td>107fr37</td>\n      <td>tightdresses</td>\n      <td>Queenlivia00</td>\n      <td>Elegance is in me</td>\n      <td></td>\n      <td></td>\n      <td>/r/tightdresses/comments/107fr37/elegance_is_i...</td>\n      <td>https://i.imgur.com/T4JKrkz.gifv</td>\n      <td>107fr37.jpg</td>\n      <td></td>\n      <td></td>\n      <td>False</td>\n      <td>False</td>\n      <td>False</td>\n      <td>[]</td>\n    </tr>\n    <tr>\n      <th>10avknu</th>\n      <td>10avknu</td>\n      <td>tightdresses</td>\n      <td>bubblrisback</td>\n      <td>Making moves</td>\n      <td></td>\n      <td></td>\n      <td>/r/tightdresses/comments/10avknu/making_moves/</td>\n      <td>https://i.imgur.com/HabJw2C.gifv</td>\n      <td>10avknu.jpg</td>\n      <td></td>\n      <td></td>\n      <td>False</td>\n      <td>False</td>\n      <td>False</td>\n      <td>[]</td>\n    </tr>\n    <tr>\n      <th>10fm9ul</th>\n      <td>10fm9ul</td>\n      <td>tightdresses</td>\n      <td>Queenlivia00</td>\n      <td>Fit body</td>\n      <td></td>\n      <td></td>\n      <td>/r/tightdresses/comments/10fm9ul/fit_body/</td>\n      <td>https://i.imgur.com/HXjhy50.gifv</td>\n      <td>10fm9ul.jpg</td>\n      <td></td>\n      <td></td>\n      <td>False</td>\n      <td>False</td>\n      <td>False</td>\n      <td>[]</td>\n    </tr>\n  </tbody>\n</table>\n</div>"
     },
     "metadata": {},
     "output_type": "display_data"
    }
   ],
   "source": [
    "import pandas\n",
    "from common.schemas.pyarrow_schema import schema\n",
    "\n",
    "# @title Read Cache And Stage Images\n",
    "\n",
    "data = []\n",
    "for sub in tqdm(subs, desc=\"Reading Temp Dir For Subs...\"):\n",
    "\tdf = pd.read_parquet(f\"temp/{sub}\", schema=schema, engine='pyarrow')\n",
    "\trecords = df.to_dict(orient='records')\n",
    "\tdata.extend(records)\n",
    "\n",
    "temp_data = pandas.DataFrame(data)\n",
    "\n",
    "for i, r in temp_data.iterrows():\n",
    "\ttemp_data.loc[i, 'image_name'] = r.id + \".jpg\"\n",
    "\ttemp_data.loc[i, 'path'] = \"\"\n",
    "\ttemp_data.loc[i, 'hash'] = \"\"\n",
    "\ttemp_data.loc[i, 'caption'] = \"\"\n",
    "\ttemp_data.loc[i, 'model'] = \"\"\n",
    "\ttemp_data.loc[i, 'exists'] = False\n",
    "\ttemp_data.loc[i, 'curated'] = False\n",
    "\ttemp_data.loc[i, 'accept'] = False\n",
    "\ttemp_data.loc[i, 'tags'] = ['']\n",
    "\n",
    "temp_data.set_index('id', inplace=True, drop=False)\n",
    "\n",
    "display(\"==== TEMP DATA ====\")\n",
    "display(temp_data.shape)\n",
    "display(temp_data.head())"
   ],
   "metadata": {
    "collapsed": false,
    "ExecuteTime": {
     "end_time": "2023-06-19T00:05:27.998768500Z",
     "start_time": "2023-06-19T00:05:20.770861900Z"
    }
   }
  },
  {
   "cell_type": "code",
   "execution_count": 45,
   "outputs": [
    {
     "data": {
      "text/plain": "'==== FILTERED DATA ===='"
     },
     "metadata": {},
     "output_type": "display_data"
    },
    {
     "data": {
      "text/plain": "(35, 15)"
     },
     "metadata": {},
     "output_type": "display_data"
    },
    {
     "data": {
      "text/plain": "              id     subreddit             author   \nid                                                  \n139ygp2  139ygp2  tightdresses  TheFloweryDigress  \\\n13bv2ug  13bv2ug  tightdresses   officialcategory   \n13c1i3n  13c1i3n  tightdresses    jackiemarielive   \n14302h8  14302h8  tightdresses      smaller_lemon   \n146k4nn  146k4nn  tightdresses  fairlyrustictaker   \n\n                                                     title caption hash   \nid                                                                        \n139ygp2  19 y/o slut with a face of an Angel.... yeah I...               \\\n13bv2ug             Undress me and make love to me tonight                \n13c1i3n              hope you don't mind my frizzy hair :)                \n14302h8                                  Your new sexytary                \n146k4nn                      Is this tight enough for you?                \n\n                                                 permalink   \nid                                                           \n139ygp2  /r/tightdresses/comments/139ygp2/19_yo_slut_wi...  \\\n13bv2ug  /r/tightdresses/comments/13bv2ug/undress_me_an...   \n13c1i3n  /r/tightdresses/comments/13c1i3n/hope_you_dont...   \n14302h8  /r/tightdresses/comments/14302h8/your_new_sexy...   \n146k4nn  /r/tightdresses/comments/146k4nn/is_this_tight...   \n\n                                              original_url   image_name path   \nid                                                                             \n139ygp2   https://i.redgifs.com/i/carefulobesestarfish.jpg  139ygp2.jpg       \\\n13bv2ug      https://i.redgifs.com/i/wellmadevastelver.jpg  13bv2ug.jpg        \n13c1i3n  https://i.redgifs.com/i/annualfavoritegoldenma...  13c1i3n.jpg        \n14302h8   https://i.redgifs.com/i/delectablevainmullet.jpg  14302h8.jpg        \n146k4nn  https://i.redgifs.com/i/dramaticwarpednightjar...  146k4nn.jpg        \n\n        model  exists  curated accept tags  \nid                                          \n139ygp2         False    False  False   []  \n13bv2ug         False    False  False   []  \n13c1i3n         False    False  False   []  \n14302h8         False    False  False   []  \n146k4nn         False    False  False   []  ",
      "text/html": "<div>\n<style scoped>\n    .dataframe tbody tr th:only-of-type {\n        vertical-align: middle;\n    }\n\n    .dataframe tbody tr th {\n        vertical-align: top;\n    }\n\n    .dataframe thead th {\n        text-align: right;\n    }\n</style>\n<table border=\"1\" class=\"dataframe\">\n  <thead>\n    <tr style=\"text-align: right;\">\n      <th></th>\n      <th>id</th>\n      <th>subreddit</th>\n      <th>author</th>\n      <th>title</th>\n      <th>caption</th>\n      <th>hash</th>\n      <th>permalink</th>\n      <th>original_url</th>\n      <th>image_name</th>\n      <th>path</th>\n      <th>model</th>\n      <th>exists</th>\n      <th>curated</th>\n      <th>accept</th>\n      <th>tags</th>\n    </tr>\n    <tr>\n      <th>id</th>\n      <th></th>\n      <th></th>\n      <th></th>\n      <th></th>\n      <th></th>\n      <th></th>\n      <th></th>\n      <th></th>\n      <th></th>\n      <th></th>\n      <th></th>\n      <th></th>\n      <th></th>\n      <th></th>\n      <th></th>\n    </tr>\n  </thead>\n  <tbody>\n    <tr>\n      <th>139ygp2</th>\n      <td>139ygp2</td>\n      <td>tightdresses</td>\n      <td>TheFloweryDigress</td>\n      <td>19 y/o slut with a face of an Angel.... yeah I...</td>\n      <td></td>\n      <td></td>\n      <td>/r/tightdresses/comments/139ygp2/19_yo_slut_wi...</td>\n      <td>https://i.redgifs.com/i/carefulobesestarfish.jpg</td>\n      <td>139ygp2.jpg</td>\n      <td></td>\n      <td></td>\n      <td>False</td>\n      <td>False</td>\n      <td>False</td>\n      <td>[]</td>\n    </tr>\n    <tr>\n      <th>13bv2ug</th>\n      <td>13bv2ug</td>\n      <td>tightdresses</td>\n      <td>officialcategory</td>\n      <td>Undress me and make love to me tonight</td>\n      <td></td>\n      <td></td>\n      <td>/r/tightdresses/comments/13bv2ug/undress_me_an...</td>\n      <td>https://i.redgifs.com/i/wellmadevastelver.jpg</td>\n      <td>13bv2ug.jpg</td>\n      <td></td>\n      <td></td>\n      <td>False</td>\n      <td>False</td>\n      <td>False</td>\n      <td>[]</td>\n    </tr>\n    <tr>\n      <th>13c1i3n</th>\n      <td>13c1i3n</td>\n      <td>tightdresses</td>\n      <td>jackiemarielive</td>\n      <td>hope you don't mind my frizzy hair :)</td>\n      <td></td>\n      <td></td>\n      <td>/r/tightdresses/comments/13c1i3n/hope_you_dont...</td>\n      <td>https://i.redgifs.com/i/annualfavoritegoldenma...</td>\n      <td>13c1i3n.jpg</td>\n      <td></td>\n      <td></td>\n      <td>False</td>\n      <td>False</td>\n      <td>False</td>\n      <td>[]</td>\n    </tr>\n    <tr>\n      <th>14302h8</th>\n      <td>14302h8</td>\n      <td>tightdresses</td>\n      <td>smaller_lemon</td>\n      <td>Your new sexytary</td>\n      <td></td>\n      <td></td>\n      <td>/r/tightdresses/comments/14302h8/your_new_sexy...</td>\n      <td>https://i.redgifs.com/i/delectablevainmullet.jpg</td>\n      <td>14302h8.jpg</td>\n      <td></td>\n      <td></td>\n      <td>False</td>\n      <td>False</td>\n      <td>False</td>\n      <td>[]</td>\n    </tr>\n    <tr>\n      <th>146k4nn</th>\n      <td>146k4nn</td>\n      <td>tightdresses</td>\n      <td>fairlyrustictaker</td>\n      <td>Is this tight enough for you?</td>\n      <td></td>\n      <td></td>\n      <td>/r/tightdresses/comments/146k4nn/is_this_tight...</td>\n      <td>https://i.redgifs.com/i/dramaticwarpednightjar...</td>\n      <td>146k4nn.jpg</td>\n      <td></td>\n      <td></td>\n      <td>False</td>\n      <td>False</td>\n      <td>False</td>\n      <td>[]</td>\n    </tr>\n  </tbody>\n</table>\n</div>"
     },
     "metadata": {},
     "output_type": "display_data"
    }
   ],
   "source": [
    "# @title Apply Filter For Images and Existance On Data\n",
    "\n",
    "filtered = temp_data[~temp_data['id'].isin(extant_entity_list) & (temp_data['original_url'].str.endswith('.jpg') | temp_data['original_url'].str.endswith('.png'))]\n",
    "\n",
    "filtered.dropna(axis=1, how='all')\n",
    "\n",
    "filtered.reset_index(drop=True, inplace=True)\n",
    "\n",
    "filtered.set_index('id', inplace=True, drop=False)\n",
    "\n",
    "display(\"==== FILTERED DATA ====\")\n",
    "\n",
    "display(filtered.shape)\n",
    "\n",
    "display(filtered.head())"
   ],
   "metadata": {
    "collapsed": false,
    "ExecuteTime": {
     "end_time": "2023-06-19T00:05:28.175022Z",
     "start_time": "2023-06-19T00:05:28.001743Z"
    }
   }
  },
  {
   "cell_type": "code",
   "execution_count": 46,
   "outputs": [
    {
     "name": "stderr",
     "output_type": "stream",
     "text": [
      "100%|██████████| 35/35 [00:00<00:00, 3900.95it/s]\n"
     ]
    },
    {
     "data": {
      "text/plain": "'== Filtered Data With Model =='"
     },
     "metadata": {},
     "output_type": "display_data"
    },
    {
     "data": {
      "text/plain": "(35, 15)"
     },
     "metadata": {},
     "output_type": "display_data"
    },
    {
     "data": {
      "text/plain": "              id     subreddit             author   \nid                                                  \n139ygp2  139ygp2  tightdresses  TheFloweryDigress  \\\n13bv2ug  13bv2ug  tightdresses   officialcategory   \n13c1i3n  13c1i3n  tightdresses    jackiemarielive   \n14302h8  14302h8  tightdresses      smaller_lemon   \n146k4nn  146k4nn  tightdresses  fairlyrustictaker   \n\n                                                     title caption hash   \nid                                                                        \n139ygp2  19 y/o slut with a face of an Angel.... yeah I...               \\\n13bv2ug             Undress me and make love to me tonight                \n13c1i3n              hope you don't mind my frizzy hair :)                \n14302h8                                  Your new sexytary                \n146k4nn                      Is this tight enough for you?                \n\n                                                 permalink   \nid                                                           \n139ygp2  /r/tightdresses/comments/139ygp2/19_yo_slut_wi...  \\\n13bv2ug  /r/tightdresses/comments/13bv2ug/undress_me_an...   \n13c1i3n  /r/tightdresses/comments/13c1i3n/hope_you_dont...   \n14302h8  /r/tightdresses/comments/14302h8/your_new_sexy...   \n146k4nn  /r/tightdresses/comments/146k4nn/is_this_tight...   \n\n                                              original_url   image_name path   \nid                                                                             \n139ygp2   https://i.redgifs.com/i/carefulobesestarfish.jpg  139ygp2.jpg       \\\n13bv2ug      https://i.redgifs.com/i/wellmadevastelver.jpg  13bv2ug.jpg        \n13c1i3n  https://i.redgifs.com/i/annualfavoritegoldenma...  13c1i3n.jpg        \n14302h8   https://i.redgifs.com/i/delectablevainmullet.jpg  14302h8.jpg        \n146k4nn  https://i.redgifs.com/i/dramaticwarpednightjar...  146k4nn.jpg        \n\n                      model  exists  curated accept tags  \nid                                                        \n139ygp2  SexyDressDiffusion   False    False  False   []  \n13bv2ug  SexyDressDiffusion   False    False  False   []  \n13c1i3n  SexyDressDiffusion   False    False  False   []  \n14302h8  SexyDressDiffusion   False    False  False   []  \n146k4nn  SexyDressDiffusion   False    False  False   []  ",
      "text/html": "<div>\n<style scoped>\n    .dataframe tbody tr th:only-of-type {\n        vertical-align: middle;\n    }\n\n    .dataframe tbody tr th {\n        vertical-align: top;\n    }\n\n    .dataframe thead th {\n        text-align: right;\n    }\n</style>\n<table border=\"1\" class=\"dataframe\">\n  <thead>\n    <tr style=\"text-align: right;\">\n      <th></th>\n      <th>id</th>\n      <th>subreddit</th>\n      <th>author</th>\n      <th>title</th>\n      <th>caption</th>\n      <th>hash</th>\n      <th>permalink</th>\n      <th>original_url</th>\n      <th>image_name</th>\n      <th>path</th>\n      <th>model</th>\n      <th>exists</th>\n      <th>curated</th>\n      <th>accept</th>\n      <th>tags</th>\n    </tr>\n    <tr>\n      <th>id</th>\n      <th></th>\n      <th></th>\n      <th></th>\n      <th></th>\n      <th></th>\n      <th></th>\n      <th></th>\n      <th></th>\n      <th></th>\n      <th></th>\n      <th></th>\n      <th></th>\n      <th></th>\n      <th></th>\n      <th></th>\n    </tr>\n  </thead>\n  <tbody>\n    <tr>\n      <th>139ygp2</th>\n      <td>139ygp2</td>\n      <td>tightdresses</td>\n      <td>TheFloweryDigress</td>\n      <td>19 y/o slut with a face of an Angel.... yeah I...</td>\n      <td></td>\n      <td></td>\n      <td>/r/tightdresses/comments/139ygp2/19_yo_slut_wi...</td>\n      <td>https://i.redgifs.com/i/carefulobesestarfish.jpg</td>\n      <td>139ygp2.jpg</td>\n      <td></td>\n      <td>SexyDressDiffusion</td>\n      <td>False</td>\n      <td>False</td>\n      <td>False</td>\n      <td>[]</td>\n    </tr>\n    <tr>\n      <th>13bv2ug</th>\n      <td>13bv2ug</td>\n      <td>tightdresses</td>\n      <td>officialcategory</td>\n      <td>Undress me and make love to me tonight</td>\n      <td></td>\n      <td></td>\n      <td>/r/tightdresses/comments/13bv2ug/undress_me_an...</td>\n      <td>https://i.redgifs.com/i/wellmadevastelver.jpg</td>\n      <td>13bv2ug.jpg</td>\n      <td></td>\n      <td>SexyDressDiffusion</td>\n      <td>False</td>\n      <td>False</td>\n      <td>False</td>\n      <td>[]</td>\n    </tr>\n    <tr>\n      <th>13c1i3n</th>\n      <td>13c1i3n</td>\n      <td>tightdresses</td>\n      <td>jackiemarielive</td>\n      <td>hope you don't mind my frizzy hair :)</td>\n      <td></td>\n      <td></td>\n      <td>/r/tightdresses/comments/13c1i3n/hope_you_dont...</td>\n      <td>https://i.redgifs.com/i/annualfavoritegoldenma...</td>\n      <td>13c1i3n.jpg</td>\n      <td></td>\n      <td>SexyDressDiffusion</td>\n      <td>False</td>\n      <td>False</td>\n      <td>False</td>\n      <td>[]</td>\n    </tr>\n    <tr>\n      <th>14302h8</th>\n      <td>14302h8</td>\n      <td>tightdresses</td>\n      <td>smaller_lemon</td>\n      <td>Your new sexytary</td>\n      <td></td>\n      <td></td>\n      <td>/r/tightdresses/comments/14302h8/your_new_sexy...</td>\n      <td>https://i.redgifs.com/i/delectablevainmullet.jpg</td>\n      <td>14302h8.jpg</td>\n      <td></td>\n      <td>SexyDressDiffusion</td>\n      <td>False</td>\n      <td>False</td>\n      <td>False</td>\n      <td>[]</td>\n    </tr>\n    <tr>\n      <th>146k4nn</th>\n      <td>146k4nn</td>\n      <td>tightdresses</td>\n      <td>fairlyrustictaker</td>\n      <td>Is this tight enough for you?</td>\n      <td></td>\n      <td></td>\n      <td>/r/tightdresses/comments/146k4nn/is_this_tight...</td>\n      <td>https://i.redgifs.com/i/dramaticwarpednightjar...</td>\n      <td>146k4nn.jpg</td>\n      <td></td>\n      <td>SexyDressDiffusion</td>\n      <td>False</td>\n      <td>False</td>\n      <td>False</td>\n      <td>[]</td>\n    </tr>\n  </tbody>\n</table>\n</div>"
     },
     "metadata": {},
     "output_type": "display_data"
    }
   ],
   "source": [
    "# @title Add Source To Model\n",
    "\n",
    "with tqdm(total=len(filtered)) as pbar:\n",
    "\tfor i, row in filtered.iterrows():\n",
    "\t\td = functions.add_source(row, sources)\n",
    "\t\tfiltered.loc[i, 'model'] = d\n",
    "\t\tpbar.update()\n",
    "\n",
    "display(\"== Filtered Data With Model ==\")\n",
    "display(filtered.shape)\n",
    "display(filtered.head())"
   ],
   "metadata": {
    "collapsed": false,
    "ExecuteTime": {
     "end_time": "2023-06-19T00:05:28.329251700Z",
     "start_time": "2023-06-19T00:05:28.049425700Z"
    }
   }
  },
  {
   "cell_type": "code",
   "execution_count": 47,
   "outputs": [],
   "source": [
    "from retry import retry\n",
    "import requests\n",
    "\n",
    "\n",
    "@retry(Exception, tries=10, delay=3, jitter=2)\n",
    "def make_trouble(url):\n",
    "\treturn requests.get(url, stream=True)\n",
    "\n",
    "def get_hash_from_path(in_path: str):\n",
    "\tif os.path.exists(in_path):\n",
    "\t\twith open(in_path, 'rb') as f_:\n",
    "\t\t\tcontent = f_.read()\n",
    "\t\t\tresult = hashlib.md5(content).hexdigest()\n",
    "\t\t\treturn result, content\n",
    "\telse:\n",
    "\t\treturn \"\"\n",
    "\n",
    "\n",
    "def fetch_image(x: object, file_list__, file_system__) -> str:\n",
    "\ttry:\n",
    "\t\turl = x['original_url']\n",
    "\t\tsubreddit = x['subreddit']\n",
    "\t\timage_id = x['id']\n",
    "\t\tos.makedirs(f\"temp/image/{subreddit}\", exist_ok=True)\n",
    "\t\ttemp_path = f\"temp/image/{subreddit}/{image_id}.jpg\"\n",
    "\t\tout_path = f\"data/image/{image_id}.jpg\"\n",
    "\t\tif file_system__.exists(out_path):\n",
    "\t\t\tfile_system__.download(out_path, temp_path)\n",
    "\t\tif os.path.exists(temp_path):\n",
    "\t\t\tmd5, content = get_hash_from_path(temp_path)\n",
    "\t\t\tif md5 != \"f17b01901c752c1bb04928131d1661af\" or md5 != \"d835884373f4d6c8f24742ceabe74946\":\n",
    "\t\t\t\tif out_path in file_list__:\n",
    "\t\t\t\t\tfile_system.download(out_path, temp_path)\n",
    "\t\t\t\t\treturn out_path\n",
    "\t\t\t\telse:\n",
    "\t\t\t\t\treturn out_path\n",
    "\t\t\telse:\n",
    "\t\t\t\tprint(\"Invalid\")\n",
    "\t\t\t\treturn \"\"\n",
    "\t\telse:\n",
    "\t\t\tresponse = requests.get(url)\n",
    "\t\t\tmd5 = hashlib.md5(response.content).hexdigest()\n",
    "\t\t\tif md5 != \"f17b01901c752c1bb04928131d1661af\" or md5 != \"d835884373f4d6c8f24742ceabe74946\":\n",
    "\t\t\t\ttry:\n",
    "\n",
    "\t\t\t\t\traw_image = Image.open(make_trouble(url).raw)\n",
    "\t\t\t\t\tif raw_image.mode in (\"RGBA\", \"P\"):\n",
    "\t\t\t\t\t\traw_image = raw_image.convert(\"RGB\")\n",
    "\t\t\t\t\traw_image.save(temp_path)\n",
    "\t\t\t\t\traw_image.close()\n",
    "\t\t\t\t\tif out_path in file_list__:\n",
    "\t\t\t\t\t\treturn out_path\n",
    "\t\t\t\t\telse:\n",
    "\t\t\t\t\t\tfile_system__.upload(temp_path, out_path)\n",
    "\t\t\t\t\t\treturn out_path\n",
    "\t\t\t\texcept Exception as ex:\n",
    "\t\t\t\t\tmessage = f\"{x['id']}, {x['subreddit']}, Failure in fetch_image, {ex}, {url}\"\n",
    "\t\t\t\t\tprint(message)\n",
    "\t\t\t\t\treturn \"\"\n",
    "\t\t\telse:\n",
    "\t\t\t\treturn \"\"\n",
    "\texcept Exception as ex:\n",
    "\t\tmessage = f\"{x['id']}, {x['subreddit']}, Failure in fetch_image, {ex}\"\n",
    "\t\tprint(message)\n",
    "\t\treturn \"\""
   ],
   "metadata": {
    "collapsed": false,
    "ExecuteTime": {
     "end_time": "2023-06-19T00:05:28.379417600Z",
     "start_time": "2023-06-19T00:05:28.108338700Z"
    }
   }
  },
  {
   "cell_type": "code",
   "execution_count": 48,
   "outputs": [
    {
     "name": "stderr",
     "output_type": "stream",
     "text": [
      "  3%|▎         | 1/35 [00:00<00:24,  1.38it/s]"
     ]
    },
    {
     "name": "stdout",
     "output_type": "stream",
     "text": [
      "139ygp2, tightdresses, Failure in fetch_image, cannot identify image file <_io.BytesIO object at 0x0000019FD603DEF0>, https://i.redgifs.com/i/carefulobesestarfish.jpg\n"
     ]
    },
    {
     "name": "stderr",
     "output_type": "stream",
     "text": [
      "  6%|▌         | 2/35 [00:01<00:18,  1.81it/s]"
     ]
    },
    {
     "name": "stdout",
     "output_type": "stream",
     "text": [
      "13bv2ug, tightdresses, Failure in fetch_image, cannot identify image file <_io.BytesIO object at 0x0000019FD609A400>, https://i.redgifs.com/i/wellmadevastelver.jpg\n"
     ]
    },
    {
     "name": "stderr",
     "output_type": "stream",
     "text": [
      "  9%|▊         | 3/35 [00:01<00:17,  1.84it/s]"
     ]
    },
    {
     "name": "stdout",
     "output_type": "stream",
     "text": [
      "13c1i3n, tightdresses, Failure in fetch_image, cannot identify image file <_io.BytesIO object at 0x0000019FD6084EA0>, https://i.redgifs.com/i/annualfavoritegoldenmantledgroundsquirrel.jpg\n"
     ]
    },
    {
     "name": "stderr",
     "output_type": "stream",
     "text": [
      " 11%|█▏        | 4/35 [00:02<00:16,  1.92it/s]"
     ]
    },
    {
     "name": "stdout",
     "output_type": "stream",
     "text": [
      "14302h8, tightdresses, Failure in fetch_image, cannot identify image file <_io.BytesIO object at 0x0000019FD609E9F0>, https://i.redgifs.com/i/delectablevainmullet.jpg\n"
     ]
    },
    {
     "name": "stderr",
     "output_type": "stream",
     "text": [
      " 14%|█▍        | 5/35 [00:02<00:15,  2.00it/s]"
     ]
    },
    {
     "name": "stdout",
     "output_type": "stream",
     "text": [
      "146k4nn, tightdresses, Failure in fetch_image, cannot identify image file <_io.BytesIO object at 0x0000019FD603A1D0>, https://i.redgifs.com/i/dramaticwarpednightjar.jpg\n"
     ]
    },
    {
     "name": "stderr",
     "output_type": "stream",
     "text": [
      " 17%|█▋        | 6/35 [00:03<00:15,  1.84it/s]"
     ]
    },
    {
     "name": "stdout",
     "output_type": "stream",
     "text": [
      "146zfz5, tightdresses, Failure in fetch_image, cannot identify image file <_io.BytesIO object at 0x0000019FD609D9A0>, https://i.redgifs.com/i/heavynewsugarglider.jpg\n"
     ]
    },
    {
     "name": "stderr",
     "output_type": "stream",
     "text": [
      " 20%|██        | 7/35 [00:03<00:14,  1.93it/s]"
     ]
    },
    {
     "name": "stdout",
     "output_type": "stream",
     "text": [
      "ai2fux, DressesPorn, Failure in fetch_image, cannot identify image file <_io.BytesIO object at 0x0000019FD6039770>, http://www.nicolegibbonsstyle.com/wp-content/uploads/2014/03/Lupita-Nyongo-Light-Blue-Prada-Dress-Oscars-2014.jpg\n"
     ]
    },
    {
     "name": "stderr",
     "output_type": "stream",
     "text": [
      " 23%|██▎       | 8/35 [00:04<00:13,  2.01it/s]"
     ]
    },
    {
     "name": "stdout",
     "output_type": "stream",
     "text": [
      "13c3bc5, SFWRedheads, Failure in fetch_image, cannot identify image file <_io.BytesIO object at 0x0000019FD6037CC0>, https://i.redgifs.com/i/admiredoutstandingpaperwasp.jpg\n"
     ]
    },
    {
     "name": "stderr",
     "output_type": "stream",
     "text": [
      " 26%|██▌       | 9/35 [00:04<00:12,  2.05it/s]"
     ]
    },
    {
     "name": "stdout",
     "output_type": "stream",
     "text": [
      "13jm7mh, SFWRedheads, Failure in fetch_image, cannot identify image file <_io.BytesIO object at 0x0000019FD603CB30>, https://i.redgifs.com/i/tensedarkmagentabedlingtonterrier.jpg\n"
     ]
    },
    {
     "name": "stderr",
     "output_type": "stream",
     "text": [
      " 97%|█████████▋| 34/35 [00:24<00:00,  1.79it/s]"
     ]
    },
    {
     "name": "stdout",
     "output_type": "stream",
     "text": [
      "13l5eqe, hotofficegirls, Failure in fetch_image, cannot identify image file <_io.BytesIO object at 0x0000019FD60428B0>, https://i.redgifs.com/i/ironcladscratchydegus.jpg\n"
     ]
    },
    {
     "name": "stderr",
     "output_type": "stream",
     "text": [
      "100%|██████████| 35/35 [00:25<00:00,  1.39it/s]"
     ]
    },
    {
     "name": "stdout",
     "output_type": "stream",
     "text": [
      "13n119j, hotofficegirls, Failure in fetch_image, cannot identify image file <_io.BytesIO object at 0x0000019FD603CD60>, https://i.redgifs.com/i/colorlessdrearyxanclomys.jpg\n"
     ]
    },
    {
     "name": "stderr",
     "output_type": "stream",
     "text": [
      "\n"
     ]
    },
    {
     "data": {
      "text/plain": "'== Filtered Data With Path =='"
     },
     "metadata": {},
     "output_type": "display_data"
    },
    {
     "data": {
      "text/plain": "(35, 15)"
     },
     "metadata": {},
     "output_type": "display_data"
    },
    {
     "data": {
      "text/plain": "              id     subreddit             author   \nid                                                  \n139ygp2  139ygp2  tightdresses  TheFloweryDigress  \\\n13bv2ug  13bv2ug  tightdresses   officialcategory   \n13c1i3n  13c1i3n  tightdresses    jackiemarielive   \n14302h8  14302h8  tightdresses      smaller_lemon   \n146k4nn  146k4nn  tightdresses  fairlyrustictaker   \n\n                                                     title caption hash   \nid                                                                        \n139ygp2  19 y/o slut with a face of an Angel.... yeah I...               \\\n13bv2ug             Undress me and make love to me tonight                \n13c1i3n              hope you don't mind my frizzy hair :)                \n14302h8                                  Your new sexytary                \n146k4nn                      Is this tight enough for you?                \n\n                                                 permalink   \nid                                                           \n139ygp2  /r/tightdresses/comments/139ygp2/19_yo_slut_wi...  \\\n13bv2ug  /r/tightdresses/comments/13bv2ug/undress_me_an...   \n13c1i3n  /r/tightdresses/comments/13c1i3n/hope_you_dont...   \n14302h8  /r/tightdresses/comments/14302h8/your_new_sexy...   \n146k4nn  /r/tightdresses/comments/146k4nn/is_this_tight...   \n\n                                              original_url   image_name path   \nid                                                                             \n139ygp2   https://i.redgifs.com/i/carefulobesestarfish.jpg  139ygp2.jpg       \\\n13bv2ug      https://i.redgifs.com/i/wellmadevastelver.jpg  13bv2ug.jpg        \n13c1i3n  https://i.redgifs.com/i/annualfavoritegoldenma...  13c1i3n.jpg        \n14302h8   https://i.redgifs.com/i/delectablevainmullet.jpg  14302h8.jpg        \n146k4nn  https://i.redgifs.com/i/dramaticwarpednightjar...  146k4nn.jpg        \n\n                      model  exists  curated accept tags  \nid                                                        \n139ygp2  SexyDressDiffusion   False    False  False   []  \n13bv2ug  SexyDressDiffusion   False    False  False   []  \n13c1i3n  SexyDressDiffusion   False    False  False   []  \n14302h8  SexyDressDiffusion   False    False  False   []  \n146k4nn  SexyDressDiffusion   False    False  False   []  ",
      "text/html": "<div>\n<style scoped>\n    .dataframe tbody tr th:only-of-type {\n        vertical-align: middle;\n    }\n\n    .dataframe tbody tr th {\n        vertical-align: top;\n    }\n\n    .dataframe thead th {\n        text-align: right;\n    }\n</style>\n<table border=\"1\" class=\"dataframe\">\n  <thead>\n    <tr style=\"text-align: right;\">\n      <th></th>\n      <th>id</th>\n      <th>subreddit</th>\n      <th>author</th>\n      <th>title</th>\n      <th>caption</th>\n      <th>hash</th>\n      <th>permalink</th>\n      <th>original_url</th>\n      <th>image_name</th>\n      <th>path</th>\n      <th>model</th>\n      <th>exists</th>\n      <th>curated</th>\n      <th>accept</th>\n      <th>tags</th>\n    </tr>\n    <tr>\n      <th>id</th>\n      <th></th>\n      <th></th>\n      <th></th>\n      <th></th>\n      <th></th>\n      <th></th>\n      <th></th>\n      <th></th>\n      <th></th>\n      <th></th>\n      <th></th>\n      <th></th>\n      <th></th>\n      <th></th>\n      <th></th>\n    </tr>\n  </thead>\n  <tbody>\n    <tr>\n      <th>139ygp2</th>\n      <td>139ygp2</td>\n      <td>tightdresses</td>\n      <td>TheFloweryDigress</td>\n      <td>19 y/o slut with a face of an Angel.... yeah I...</td>\n      <td></td>\n      <td></td>\n      <td>/r/tightdresses/comments/139ygp2/19_yo_slut_wi...</td>\n      <td>https://i.redgifs.com/i/carefulobesestarfish.jpg</td>\n      <td>139ygp2.jpg</td>\n      <td></td>\n      <td>SexyDressDiffusion</td>\n      <td>False</td>\n      <td>False</td>\n      <td>False</td>\n      <td>[]</td>\n    </tr>\n    <tr>\n      <th>13bv2ug</th>\n      <td>13bv2ug</td>\n      <td>tightdresses</td>\n      <td>officialcategory</td>\n      <td>Undress me and make love to me tonight</td>\n      <td></td>\n      <td></td>\n      <td>/r/tightdresses/comments/13bv2ug/undress_me_an...</td>\n      <td>https://i.redgifs.com/i/wellmadevastelver.jpg</td>\n      <td>13bv2ug.jpg</td>\n      <td></td>\n      <td>SexyDressDiffusion</td>\n      <td>False</td>\n      <td>False</td>\n      <td>False</td>\n      <td>[]</td>\n    </tr>\n    <tr>\n      <th>13c1i3n</th>\n      <td>13c1i3n</td>\n      <td>tightdresses</td>\n      <td>jackiemarielive</td>\n      <td>hope you don't mind my frizzy hair :)</td>\n      <td></td>\n      <td></td>\n      <td>/r/tightdresses/comments/13c1i3n/hope_you_dont...</td>\n      <td>https://i.redgifs.com/i/annualfavoritegoldenma...</td>\n      <td>13c1i3n.jpg</td>\n      <td></td>\n      <td>SexyDressDiffusion</td>\n      <td>False</td>\n      <td>False</td>\n      <td>False</td>\n      <td>[]</td>\n    </tr>\n    <tr>\n      <th>14302h8</th>\n      <td>14302h8</td>\n      <td>tightdresses</td>\n      <td>smaller_lemon</td>\n      <td>Your new sexytary</td>\n      <td></td>\n      <td></td>\n      <td>/r/tightdresses/comments/14302h8/your_new_sexy...</td>\n      <td>https://i.redgifs.com/i/delectablevainmullet.jpg</td>\n      <td>14302h8.jpg</td>\n      <td></td>\n      <td>SexyDressDiffusion</td>\n      <td>False</td>\n      <td>False</td>\n      <td>False</td>\n      <td>[]</td>\n    </tr>\n    <tr>\n      <th>146k4nn</th>\n      <td>146k4nn</td>\n      <td>tightdresses</td>\n      <td>fairlyrustictaker</td>\n      <td>Is this tight enough for you?</td>\n      <td></td>\n      <td></td>\n      <td>/r/tightdresses/comments/146k4nn/is_this_tight...</td>\n      <td>https://i.redgifs.com/i/dramaticwarpednightjar...</td>\n      <td>146k4nn.jpg</td>\n      <td></td>\n      <td>SexyDressDiffusion</td>\n      <td>False</td>\n      <td>False</td>\n      <td>False</td>\n      <td>[]</td>\n    </tr>\n  </tbody>\n</table>\n</div>"
     },
     "metadata": {},
     "output_type": "display_data"
    }
   ],
   "source": [
    "file_list = file_system.ls(\"data/image\")\n",
    "with tqdm(total=len(filtered)) as pbar:\n",
    "\tfor i, row in filtered.iterrows():\n",
    "\t\td = fetch_image(row, file_list, file_system)\n",
    "\t\tfiltered.loc[i, 'path'] = d\n",
    "\t\tpbar.update()\n",
    "\n",
    "display(\"== Filtered Data With Path ==\")\n",
    "display(filtered.shape)\n",
    "display(filtered.head())"
   ],
   "metadata": {
    "collapsed": false,
    "ExecuteTime": {
     "end_time": "2023-06-19T00:06:25.727920700Z",
     "start_time": "2023-06-19T00:05:28.141942Z"
    }
   }
  },
  {
   "cell_type": "code",
   "execution_count": 49,
   "outputs": [],
   "source": [
    "def set_exists(x: object, file_system__) -> bool:\n",
    "\ttry:\n",
    "\t\tsub_reddit = x['subreddit']\n",
    "\t\trecord_id = x['id']\n",
    "\t\tremote_path = x['path']\n",
    "\t\ttemp_path = f\"temp/image/{sub_reddit}/{record_id}.jpg\"\n",
    "\t\tif os.path.exists(temp_path) and file_system__.exists(remote_path):\n",
    "\t\t\tprint(\"found in both local and remote\")\n",
    "\t\t\treturn True\n",
    "\t\tif os.path.exists(temp_path) and not file_system__.exists(remote_path):\n",
    "\t\t\tfile_system__.upload(temp_path, remote_path)\n",
    "\t\t\tprint(\"Only found in local, downloading to remote\")\n",
    "\t\t\treturn True\n",
    "\t\tif not os.path.exists(temp_path) and file_system__.exists(remote_path):\n",
    "\t\t\tfile_system__.download(remote_path, temp_path)\n",
    "\t\t\tprint(\"Only found in remote, downloading to local\")\n",
    "\t\t\treturn True\n",
    "\t\telse:\n",
    "\t\t\tprint(\"Not found\")\n",
    "\t\t\treturn False\n",
    "\texcept Exception as ex:\n",
    "\t\tprint(ex)\n",
    "\t\treturn False"
   ],
   "metadata": {
    "collapsed": false,
    "ExecuteTime": {
     "end_time": "2023-06-19T00:06:25.776442200Z",
     "start_time": "2023-06-19T00:06:25.694012800Z"
    }
   }
  },
  {
   "cell_type": "code",
   "execution_count": 50,
   "outputs": [
    {
     "name": "stdout",
     "output_type": "stream",
     "text": [
      "Please specify a container name and blob name.\n",
      "Please specify a container name and blob name.\n",
      "Please specify a container name and blob name.\n",
      "Please specify a container name and blob name.\n",
      "Please specify a container name and blob name.\n",
      "Please specify a container name and blob name.\n",
      "Please specify a container name and blob name.\n",
      "Please specify a container name and blob name.\n",
      "Please specify a container name and blob name.\n",
      "found in both local and remote\n",
      "found in both local and remote\n",
      "found in both local and remote\n",
      "found in both local and remote\n",
      "found in both local and remote\n",
      "found in both local and remote\n",
      "found in both local and remote\n",
      "found in both local and remote\n",
      "found in both local and remote\n",
      "found in both local and remote\n",
      "found in both local and remote\n",
      "found in both local and remote\n",
      "found in both local and remote\n",
      "found in both local and remote\n",
      "found in both local and remote\n",
      "found in both local and remote\n",
      "found in both local and remote\n",
      "found in both local and remote\n",
      "found in both local and remote\n",
      "found in both local and remote\n",
      "found in both local and remote\n",
      "found in both local and remote\n",
      "found in both local and remote\n",
      "found in both local and remote\n",
      "Please specify a container name and blob name.\n",
      "Please specify a container name and blob name.\n"
     ]
    },
    {
     "data": {
      "text/plain": "'== Filtered Data With Exists =='"
     },
     "metadata": {},
     "output_type": "display_data"
    },
    {
     "data": {
      "text/plain": "(35, 15)"
     },
     "metadata": {},
     "output_type": "display_data"
    },
    {
     "data": {
      "text/plain": "              id     subreddit             author   \nid                                                  \n139ygp2  139ygp2  tightdresses  TheFloweryDigress  \\\n13bv2ug  13bv2ug  tightdresses   officialcategory   \n13c1i3n  13c1i3n  tightdresses    jackiemarielive   \n14302h8  14302h8  tightdresses      smaller_lemon   \n146k4nn  146k4nn  tightdresses  fairlyrustictaker   \n\n                                                     title caption hash   \nid                                                                        \n139ygp2  19 y/o slut with a face of an Angel.... yeah I...               \\\n13bv2ug             Undress me and make love to me tonight                \n13c1i3n              hope you don't mind my frizzy hair :)                \n14302h8                                  Your new sexytary                \n146k4nn                      Is this tight enough for you?                \n\n                                                 permalink   \nid                                                           \n139ygp2  /r/tightdresses/comments/139ygp2/19_yo_slut_wi...  \\\n13bv2ug  /r/tightdresses/comments/13bv2ug/undress_me_an...   \n13c1i3n  /r/tightdresses/comments/13c1i3n/hope_you_dont...   \n14302h8  /r/tightdresses/comments/14302h8/your_new_sexy...   \n146k4nn  /r/tightdresses/comments/146k4nn/is_this_tight...   \n\n                                              original_url   image_name path   \nid                                                                             \n139ygp2   https://i.redgifs.com/i/carefulobesestarfish.jpg  139ygp2.jpg       \\\n13bv2ug      https://i.redgifs.com/i/wellmadevastelver.jpg  13bv2ug.jpg        \n13c1i3n  https://i.redgifs.com/i/annualfavoritegoldenma...  13c1i3n.jpg        \n14302h8   https://i.redgifs.com/i/delectablevainmullet.jpg  14302h8.jpg        \n146k4nn  https://i.redgifs.com/i/dramaticwarpednightjar...  146k4nn.jpg        \n\n                      model  exists  curated accept tags  \nid                                                        \n139ygp2  SexyDressDiffusion   False    False  False   []  \n13bv2ug  SexyDressDiffusion   False    False  False   []  \n13c1i3n  SexyDressDiffusion   False    False  False   []  \n14302h8  SexyDressDiffusion   False    False  False   []  \n146k4nn  SexyDressDiffusion   False    False  False   []  ",
      "text/html": "<div>\n<style scoped>\n    .dataframe tbody tr th:only-of-type {\n        vertical-align: middle;\n    }\n\n    .dataframe tbody tr th {\n        vertical-align: top;\n    }\n\n    .dataframe thead th {\n        text-align: right;\n    }\n</style>\n<table border=\"1\" class=\"dataframe\">\n  <thead>\n    <tr style=\"text-align: right;\">\n      <th></th>\n      <th>id</th>\n      <th>subreddit</th>\n      <th>author</th>\n      <th>title</th>\n      <th>caption</th>\n      <th>hash</th>\n      <th>permalink</th>\n      <th>original_url</th>\n      <th>image_name</th>\n      <th>path</th>\n      <th>model</th>\n      <th>exists</th>\n      <th>curated</th>\n      <th>accept</th>\n      <th>tags</th>\n    </tr>\n    <tr>\n      <th>id</th>\n      <th></th>\n      <th></th>\n      <th></th>\n      <th></th>\n      <th></th>\n      <th></th>\n      <th></th>\n      <th></th>\n      <th></th>\n      <th></th>\n      <th></th>\n      <th></th>\n      <th></th>\n      <th></th>\n      <th></th>\n    </tr>\n  </thead>\n  <tbody>\n    <tr>\n      <th>139ygp2</th>\n      <td>139ygp2</td>\n      <td>tightdresses</td>\n      <td>TheFloweryDigress</td>\n      <td>19 y/o slut with a face of an Angel.... yeah I...</td>\n      <td></td>\n      <td></td>\n      <td>/r/tightdresses/comments/139ygp2/19_yo_slut_wi...</td>\n      <td>https://i.redgifs.com/i/carefulobesestarfish.jpg</td>\n      <td>139ygp2.jpg</td>\n      <td></td>\n      <td>SexyDressDiffusion</td>\n      <td>False</td>\n      <td>False</td>\n      <td>False</td>\n      <td>[]</td>\n    </tr>\n    <tr>\n      <th>13bv2ug</th>\n      <td>13bv2ug</td>\n      <td>tightdresses</td>\n      <td>officialcategory</td>\n      <td>Undress me and make love to me tonight</td>\n      <td></td>\n      <td></td>\n      <td>/r/tightdresses/comments/13bv2ug/undress_me_an...</td>\n      <td>https://i.redgifs.com/i/wellmadevastelver.jpg</td>\n      <td>13bv2ug.jpg</td>\n      <td></td>\n      <td>SexyDressDiffusion</td>\n      <td>False</td>\n      <td>False</td>\n      <td>False</td>\n      <td>[]</td>\n    </tr>\n    <tr>\n      <th>13c1i3n</th>\n      <td>13c1i3n</td>\n      <td>tightdresses</td>\n      <td>jackiemarielive</td>\n      <td>hope you don't mind my frizzy hair :)</td>\n      <td></td>\n      <td></td>\n      <td>/r/tightdresses/comments/13c1i3n/hope_you_dont...</td>\n      <td>https://i.redgifs.com/i/annualfavoritegoldenma...</td>\n      <td>13c1i3n.jpg</td>\n      <td></td>\n      <td>SexyDressDiffusion</td>\n      <td>False</td>\n      <td>False</td>\n      <td>False</td>\n      <td>[]</td>\n    </tr>\n    <tr>\n      <th>14302h8</th>\n      <td>14302h8</td>\n      <td>tightdresses</td>\n      <td>smaller_lemon</td>\n      <td>Your new sexytary</td>\n      <td></td>\n      <td></td>\n      <td>/r/tightdresses/comments/14302h8/your_new_sexy...</td>\n      <td>https://i.redgifs.com/i/delectablevainmullet.jpg</td>\n      <td>14302h8.jpg</td>\n      <td></td>\n      <td>SexyDressDiffusion</td>\n      <td>False</td>\n      <td>False</td>\n      <td>False</td>\n      <td>[]</td>\n    </tr>\n    <tr>\n      <th>146k4nn</th>\n      <td>146k4nn</td>\n      <td>tightdresses</td>\n      <td>fairlyrustictaker</td>\n      <td>Is this tight enough for you?</td>\n      <td></td>\n      <td></td>\n      <td>/r/tightdresses/comments/146k4nn/is_this_tight...</td>\n      <td>https://i.redgifs.com/i/dramaticwarpednightjar...</td>\n      <td>146k4nn.jpg</td>\n      <td></td>\n      <td>SexyDressDiffusion</td>\n      <td>False</td>\n      <td>False</td>\n      <td>False</td>\n      <td>[]</td>\n    </tr>\n  </tbody>\n</table>\n</div>"
     },
     "metadata": {},
     "output_type": "display_data"
    }
   ],
   "source": [
    "# @title Apply Exist\n",
    "\n",
    "for i, row in filtered.iterrows():\n",
    "\td = set_exists(row, file_system)\n",
    "\tfiltered.loc[i, 'exists'] = d\n",
    "\n",
    "display(\"== Filtered Data With Exists ==\")\n",
    "display(filtered.shape)\n",
    "display(filtered.head())"
   ],
   "metadata": {
    "collapsed": false,
    "ExecuteTime": {
     "end_time": "2023-06-19T00:06:26.600214700Z",
     "start_time": "2023-06-19T00:06:25.711678Z"
    }
   }
  },
  {
   "cell_type": "code",
   "execution_count": 51,
   "outputs": [
    {
     "data": {
      "text/plain": "(35, 15)"
     },
     "metadata": {},
     "output_type": "display_data"
    },
    {
     "data": {
      "text/plain": "              id        subreddit                author   \nid                                                        \n139ygp2  139ygp2     tightdresses     TheFloweryDigress  \\\n13bv2ug  13bv2ug     tightdresses      officialcategory   \n13c1i3n  13c1i3n     tightdresses       jackiemarielive   \n14302h8  14302h8     tightdresses         smaller_lemon   \n146k4nn  146k4nn     tightdresses     fairlyrustictaker   \n146zfz5  146zfz5     tightdresses         smaller_lemon   \nai2fux    ai2fux      DressesPorn     pizzaisavegetabIe   \n13c3bc5  13c3bc5      SFWRedheads          Redhotwife88   \n13jm7mh  13jm7mh      SFWRedheads          Redhotwife88   \n11qc33b  11qc33b  gentlemanboners          Halbkornbrot   \n11ssj7c  11ssj7c  gentlemanboners       SalisburyShrimp   \n13osh3e  13osh3e  gentlemanboners     throwaway08190924   \n13ry9kc  13ry9kc  gentlemanboners          onesexymofo1   \n13tua2l  13tua2l  gentlemanboners             chuboi991   \n13umumg  13umumg  gentlemanboners                Ree-Ko   \n13ux7ta  13ux7ta  gentlemanboners            castelling   \n13wm6hw  13wm6hw  gentlemanboners            castelling   \n13xih94  13xih94  gentlemanboners            castelling   \n142g53m  142g53m  gentlemanboners            castelling   \n143gva0  143gva0  gentlemanboners            castelling   \n1466wwr  1466wwr  gentlemanboners       Tony_montana_11   \n146qmk5  146qmk5  gentlemanboners             Kilnatapi   \n146r751  146r751  gentlemanboners             kindi1999   \n146t7r8  146t7r8  gentlemanboners           IndyMan2012   \n146te0o  146te0o  gentlemanboners           IndyMan2012   \n146tjdq  146tjdq  gentlemanboners           IndyMan2012   \n146v16t  146v16t  gentlemanboners            castelling   \n4d4jfb    4d4jfb  gentlemanboners               ezreads   \n5yuz7t    5yuz7t  gentlemanboners       totes-muh-gotes   \n6hifxl    6hifxl  gentlemanboners      OptimusPrime1313   \n7e07k1    7e07k1  gentlemanboners  NotProgramSupervisor   \n7qf4m2    7qf4m2  gentlemanboners      _Second_Account_   \nvleia9    vleia9  gentlemanboners               Unknown   \n13l5eqe  13l5eqe   hotofficegirls  MathematicianOdd8611   \n13n119j  13n119j   hotofficegirls  MathematicianOdd8611   \n\n                                                     title caption   \nid                                                                   \n139ygp2  19 y/o slut with a face of an Angel.... yeah I...          \\\n13bv2ug             Undress me and make love to me tonight           \n13c1i3n              hope you don't mind my frizzy hair :)           \n14302h8                                  Your new sexytary           \n146k4nn                      Is this tight enough for you?           \n146zfz5         Tight dresses and sex on the beach...drink           \nai2fux                         Lupita Nyong'o, 2014 Oscars           \n13c3bc5         Redhead Wife in my Little Black Dress! [F]           \n13jm7mh      Do I look Cute for my Anniversary Dinner? [F]           \n11qc33b                                        Emma Watson           \n11ssj7c                                       Betty Gilpin           \n13osh3e                     Alexandra Daddario (Oct. 2022)           \n13ry9kc                                    Natalie Portman           \n13tua2l                                  Hannah Waddingham           \n13umumg                                    Natalie Portman           \n13ux7ta                                        Emmy Rossum           \n13wm6hw                                         Maya Hawke           \n13xih94                                    Natalie Portman           \n142g53m                                          Anna Torv           \n143gva0                                      Tricia Helfer           \n1466wwr                                        Nina Dobrev           \n146qmk5                   Alice Levine at Brit Awards 2019           \n146r751                                    Charlize Theron           \n146t7r8                                      Anna Kendrick           \n146te0o                                      Rosamund Pike           \n146tjdq                                       Lucy Lawless           \n146v16t                                    Charlize Theron           \n4d4jfb                                        Aly Michalka           \n5yuz7t                                        Kristen Bell           \n6hifxl                                           Gal Gadot           \n7e07k1                                     Brooklyn Decker           \n7qf4m2                                   Michelle Hunziker           \nvleia9                                       Erin Moriarty           \n13l5eqe                           Don't get too distracted           \n13n119j     I know you've thought about that titty fuck ;)           \n\n                                     hash   \nid                                          \n139ygp2                                    \\\n13bv2ug                                     \n13c1i3n                                     \n14302h8                                     \n146k4nn                                     \n146zfz5                                     \nai2fux                                      \n13c3bc5                                     \n13jm7mh                                     \n11qc33b  5714acd1521779d9680709f8d53befd3   \n11ssj7c  387242123419666b40d370245f6d5415   \n13osh3e  a260fad067cd7a9ba23496e025de3fe4   \n13ry9kc  01f6aa5f3c897f9eb925ab4d10619d41   \n13tua2l  56d6d1d2f06aaccbb82d71f5456eec9a   \n13umumg  2f8f6b0e2d498b76ed2ac00e32cb6919   \n13ux7ta  c29f6f320ef93a5c93208441901f8068   \n13wm6hw  9aea513cd3d2eb04213e3fb311b2cc28   \n13xih94  cefe21a0c250cab6bddd2b51d2e0a936   \n142g53m  6bd7dd1e436407717618038d464602e5   \n143gva0  6d87ff93f6ff0e757023efab72885d36   \n1466wwr  c67f2f095ee5d0ae90d49e41a7e59503   \n146qmk5  e29bf65a51d44a5b11cd448043676c83   \n146r751  8234890b1368b4e0602b7d29f895dcdf   \n146t7r8  288f836cd75e3f0f798d59aa8905b7ab   \n146te0o  c3f98c79b2a432f7f398bd8fc3318aad   \n146tjdq  8538fee3756f09147806be6ac784e8a2   \n146v16t  865cd7df1721e2cfe1a3bf9a8a9f8204   \n4d4jfb   0bf715c032266b6eaa115d0b9efd6efb   \n5yuz7t   4f9d83abeb4f30799de28e3d535c54cb   \n6hifxl   e20b60b943ccb9f72bee25578a462d19   \n7e07k1   c52673d4271c4bae4d730dc727b5c767   \n7qf4m2   0497ea128272b28dfe64c6925bd57d58   \nvleia9   c9e28fa5570b35de493f041c493d653b   \n13l5eqe                                     \n13n119j                                     \n\n                                                 permalink   \nid                                                           \n139ygp2  /r/tightdresses/comments/139ygp2/19_yo_slut_wi...  \\\n13bv2ug  /r/tightdresses/comments/13bv2ug/undress_me_an...   \n13c1i3n  /r/tightdresses/comments/13c1i3n/hope_you_dont...   \n14302h8  /r/tightdresses/comments/14302h8/your_new_sexy...   \n146k4nn  /r/tightdresses/comments/146k4nn/is_this_tight...   \n146zfz5  /r/tightdresses/comments/146zfz5/tight_dresses...   \nai2fux   /r/DressesPorn/comments/ai2fux/lupita_nyongo_2...   \n13c3bc5  /r/SFWRedheads/comments/13c3bc5/redhead_wife_i...   \n13jm7mh  /r/SFWRedheads/comments/13jm7mh/do_i_look_cute...   \n11qc33b   /r/gentlemanboners/comments/11qc33b/emma_watson/   \n11ssj7c  /r/gentlemanboners/comments/11ssj7c/betty_gilpin/   \n13osh3e  /r/gentlemanboners/comments/13osh3e/alexandra_...   \n13ry9kc  /r/gentlemanboners/comments/13ry9kc/natalie_po...   \n13tua2l  /r/gentlemanboners/comments/13tua2l/hannah_wad...   \n13umumg  /r/gentlemanboners/comments/13umumg/natalie_po...   \n13ux7ta   /r/gentlemanboners/comments/13ux7ta/emmy_rossum/   \n13wm6hw    /r/gentlemanboners/comments/13wm6hw/maya_hawke/   \n13xih94  /r/gentlemanboners/comments/13xih94/natalie_po...   \n142g53m     /r/gentlemanboners/comments/142g53m/anna_torv/   \n143gva0  /r/gentlemanboners/comments/143gva0/tricia_hel...   \n1466wwr   /r/gentlemanboners/comments/1466wwr/nina_dobrev/   \n146qmk5  /r/gentlemanboners/comments/146qmk5/alice_levi...   \n146r751  /r/gentlemanboners/comments/146r751/charlize_t...   \n146t7r8  /r/gentlemanboners/comments/146t7r8/anna_kendr...   \n146te0o  /r/gentlemanboners/comments/146te0o/rosamund_p...   \n146tjdq  /r/gentlemanboners/comments/146tjdq/lucy_lawless/   \n146v16t  /r/gentlemanboners/comments/146v16t/charlize_t...   \n4d4jfb    /r/gentlemanboners/comments/4d4jfb/aly_michalka/   \n5yuz7t    /r/gentlemanboners/comments/5yuz7t/kristen_bell/   \n6hifxl       /r/gentlemanboners/comments/6hifxl/gal_gadot/   \n7e07k1   /r/gentlemanboners/comments/7e07k1/brooklyn_de...   \n7qf4m2   /r/gentlemanboners/comments/7qf4m2/michelle_hu...   \nvleia9   /r/gentlemanboners/comments/vleia9/erin_moriarty/   \n13l5eqe  /r/hotofficegirls/comments/13l5eqe/dont_get_to...   \n13n119j  /r/hotofficegirls/comments/13n119j/i_know_youv...   \n\n                                              original_url   image_name   \nid                                                                        \n139ygp2   https://i.redgifs.com/i/carefulobesestarfish.jpg  139ygp2.jpg  \\\n13bv2ug      https://i.redgifs.com/i/wellmadevastelver.jpg  13bv2ug.jpg   \n13c1i3n  https://i.redgifs.com/i/annualfavoritegoldenma...  13c1i3n.jpg   \n14302h8   https://i.redgifs.com/i/delectablevainmullet.jpg  14302h8.jpg   \n146k4nn  https://i.redgifs.com/i/dramaticwarpednightjar...  146k4nn.jpg   \n146zfz5    https://i.redgifs.com/i/heavynewsugarglider.jpg  146zfz5.jpg   \nai2fux   http://www.nicolegibbonsstyle.com/wp-content/u...   ai2fux.jpg   \n13c3bc5  https://i.redgifs.com/i/admiredoutstandingpape...  13c3bc5.jpg   \n13jm7mh  https://i.redgifs.com/i/tensedarkmagentabedlin...  13jm7mh.jpg   \n11qc33b                https://i.redd.it/rp0kgb93uina1.png  11qc33b.jpg   \n11ssj7c                https://i.redd.it/gv7iv4cuf3oa1.png  11ssj7c.jpg   \n13osh3e                https://i.redd.it/rqpykhp96c1b1.png  13osh3e.jpg   \n13ry9kc                    https://i.imgur.com/qE1wEHz.jpg  13ry9kc.jpg   \n13tua2l                https://i.redd.it/pa39y7hogk2b1.png  13tua2l.jpg   \n13umumg                https://i.redd.it/xu2ra4umrp2b1.png  13umumg.jpg   \n13ux7ta                https://i.redd.it/dfz80om7tt2b1.png  13ux7ta.jpg   \n13wm6hw                https://i.redd.it/z9v7jo3rl73b1.png  13wm6hw.jpg   \n13xih94                https://i.redd.it/x2b6xtsbye3b1.png  13xih94.jpg   \n142g53m                https://i.redd.it/ivn1q4rfge4b1.png  142g53m.jpg   \n143gva0                https://i.redd.it/knycqzxmam4b1.png  143gva0.jpg   \n1466wwr                    https://i.imgur.com/s0p7UdX.jpg  1466wwr.jpg   \n146qmk5                https://i.redd.it/dozquvp99d5b1.png  146qmk5.jpg   \n146r751                https://i.redd.it/sn444y7yfd5b1.png  146r751.jpg   \n146t7r8                https://i.redd.it/rkyva0hnyd5b1.png  146t7r8.jpg   \n146te0o                https://i.redd.it/coj6w4050e5b1.png  146te0o.jpg   \n146tjdq                https://i.redd.it/1iaxhrnc1e5b1.png  146tjdq.jpg   \n146v16t                https://i.redd.it/k6pgw3tbde5b1.png  146v16t.jpg   \n4d4jfb                        http://i.imgur.com/g68Lo.jpg   4d4jfb.jpg   \n5yuz7t                      http://i.imgur.com/p86WWkw.jpg   5yuz7t.jpg   \n6hifxl                      http://i.imgur.com/GCeZAx3.jpg   6hifxl.jpg   \n7e07k1                     https://i.imgur.com/1kFcpn4.png   7e07k1.jpg   \n7qf4m2                     https://i.imgur.com/thk1WNN.jpg   7qf4m2.jpg   \nvleia9                     https://i.imgur.com/M1hIBqm.jpg   vleia9.jpg   \n13l5eqe  https://i.redgifs.com/i/ironcladscratchydegus.jpg  13l5eqe.jpg   \n13n119j  https://i.redgifs.com/i/colorlessdrearyxanclom...  13n119j.jpg   \n\n                           path                model  exists  curated accept   \nid                                                                             \n139ygp2                           SexyDressDiffusion   False    False  False  \\\n13bv2ug                           SexyDressDiffusion   False    False  False   \n13c1i3n                           SexyDressDiffusion   False    False  False   \n14302h8                           SexyDressDiffusion   False    False  False   \n146k4nn                           SexyDressDiffusion   False    False  False   \n146zfz5                           SexyDressDiffusion   False    False  False   \nai2fux                            SexyDressDiffusion   False    False  False   \n13c3bc5                             RedHeadDiffusion   False    False  False   \n13jm7mh                             RedHeadDiffusion   False    False  False   \n11qc33b  data/image/11qc33b.jpg  PrettyGirlDiffusion    True    False  False   \n11ssj7c  data/image/11ssj7c.jpg  PrettyGirlDiffusion    True    False  False   \n13osh3e  data/image/13osh3e.jpg  PrettyGirlDiffusion    True    False  False   \n13ry9kc  data/image/13ry9kc.jpg  PrettyGirlDiffusion    True    False  False   \n13tua2l  data/image/13tua2l.jpg  PrettyGirlDiffusion    True    False  False   \n13umumg  data/image/13umumg.jpg  PrettyGirlDiffusion    True    False  False   \n13ux7ta  data/image/13ux7ta.jpg  PrettyGirlDiffusion    True    False  False   \n13wm6hw  data/image/13wm6hw.jpg  PrettyGirlDiffusion    True    False  False   \n13xih94  data/image/13xih94.jpg  PrettyGirlDiffusion    True    False  False   \n142g53m  data/image/142g53m.jpg  PrettyGirlDiffusion    True    False  False   \n143gva0  data/image/143gva0.jpg  PrettyGirlDiffusion    True    False  False   \n1466wwr  data/image/1466wwr.jpg  PrettyGirlDiffusion    True    False  False   \n146qmk5  data/image/146qmk5.jpg  PrettyGirlDiffusion    True    False  False   \n146r751  data/image/146r751.jpg  PrettyGirlDiffusion    True    False  False   \n146t7r8  data/image/146t7r8.jpg  PrettyGirlDiffusion    True    False  False   \n146te0o  data/image/146te0o.jpg  PrettyGirlDiffusion    True    False  False   \n146tjdq  data/image/146tjdq.jpg  PrettyGirlDiffusion    True    False  False   \n146v16t  data/image/146v16t.jpg  PrettyGirlDiffusion    True    False  False   \n4d4jfb    data/image/4d4jfb.jpg  PrettyGirlDiffusion    True    False  False   \n5yuz7t    data/image/5yuz7t.jpg  PrettyGirlDiffusion    True    False  False   \n6hifxl    data/image/6hifxl.jpg  PrettyGirlDiffusion    True    False  False   \n7e07k1    data/image/7e07k1.jpg  PrettyGirlDiffusion    True    False  False   \n7qf4m2    data/image/7qf4m2.jpg  PrettyGirlDiffusion    True    False  False   \nvleia9    data/image/vleia9.jpg  PrettyGirlDiffusion    True    False  False   \n13l5eqe                          PrettyGirlDiffusion   False    False  False   \n13n119j                          PrettyGirlDiffusion   False    False  False   \n\n        tags  \nid            \n139ygp2   []  \n13bv2ug   []  \n13c1i3n   []  \n14302h8   []  \n146k4nn   []  \n146zfz5   []  \nai2fux    []  \n13c3bc5   []  \n13jm7mh   []  \n11qc33b   []  \n11ssj7c   []  \n13osh3e   []  \n13ry9kc   []  \n13tua2l   []  \n13umumg   []  \n13ux7ta   []  \n13wm6hw   []  \n13xih94   []  \n142g53m   []  \n143gva0   []  \n1466wwr   []  \n146qmk5   []  \n146r751   []  \n146t7r8   []  \n146te0o   []  \n146tjdq   []  \n146v16t   []  \n4d4jfb    []  \n5yuz7t    []  \n6hifxl    []  \n7e07k1    []  \n7qf4m2    []  \nvleia9    []  \n13l5eqe   []  \n13n119j   []  ",
      "text/html": "<div>\n<style scoped>\n    .dataframe tbody tr th:only-of-type {\n        vertical-align: middle;\n    }\n\n    .dataframe tbody tr th {\n        vertical-align: top;\n    }\n\n    .dataframe thead th {\n        text-align: right;\n    }\n</style>\n<table border=\"1\" class=\"dataframe\">\n  <thead>\n    <tr style=\"text-align: right;\">\n      <th></th>\n      <th>id</th>\n      <th>subreddit</th>\n      <th>author</th>\n      <th>title</th>\n      <th>caption</th>\n      <th>hash</th>\n      <th>permalink</th>\n      <th>original_url</th>\n      <th>image_name</th>\n      <th>path</th>\n      <th>model</th>\n      <th>exists</th>\n      <th>curated</th>\n      <th>accept</th>\n      <th>tags</th>\n    </tr>\n    <tr>\n      <th>id</th>\n      <th></th>\n      <th></th>\n      <th></th>\n      <th></th>\n      <th></th>\n      <th></th>\n      <th></th>\n      <th></th>\n      <th></th>\n      <th></th>\n      <th></th>\n      <th></th>\n      <th></th>\n      <th></th>\n      <th></th>\n    </tr>\n  </thead>\n  <tbody>\n    <tr>\n      <th>139ygp2</th>\n      <td>139ygp2</td>\n      <td>tightdresses</td>\n      <td>TheFloweryDigress</td>\n      <td>19 y/o slut with a face of an Angel.... yeah I...</td>\n      <td></td>\n      <td></td>\n      <td>/r/tightdresses/comments/139ygp2/19_yo_slut_wi...</td>\n      <td>https://i.redgifs.com/i/carefulobesestarfish.jpg</td>\n      <td>139ygp2.jpg</td>\n      <td></td>\n      <td>SexyDressDiffusion</td>\n      <td>False</td>\n      <td>False</td>\n      <td>False</td>\n      <td>[]</td>\n    </tr>\n    <tr>\n      <th>13bv2ug</th>\n      <td>13bv2ug</td>\n      <td>tightdresses</td>\n      <td>officialcategory</td>\n      <td>Undress me and make love to me tonight</td>\n      <td></td>\n      <td></td>\n      <td>/r/tightdresses/comments/13bv2ug/undress_me_an...</td>\n      <td>https://i.redgifs.com/i/wellmadevastelver.jpg</td>\n      <td>13bv2ug.jpg</td>\n      <td></td>\n      <td>SexyDressDiffusion</td>\n      <td>False</td>\n      <td>False</td>\n      <td>False</td>\n      <td>[]</td>\n    </tr>\n    <tr>\n      <th>13c1i3n</th>\n      <td>13c1i3n</td>\n      <td>tightdresses</td>\n      <td>jackiemarielive</td>\n      <td>hope you don't mind my frizzy hair :)</td>\n      <td></td>\n      <td></td>\n      <td>/r/tightdresses/comments/13c1i3n/hope_you_dont...</td>\n      <td>https://i.redgifs.com/i/annualfavoritegoldenma...</td>\n      <td>13c1i3n.jpg</td>\n      <td></td>\n      <td>SexyDressDiffusion</td>\n      <td>False</td>\n      <td>False</td>\n      <td>False</td>\n      <td>[]</td>\n    </tr>\n    <tr>\n      <th>14302h8</th>\n      <td>14302h8</td>\n      <td>tightdresses</td>\n      <td>smaller_lemon</td>\n      <td>Your new sexytary</td>\n      <td></td>\n      <td></td>\n      <td>/r/tightdresses/comments/14302h8/your_new_sexy...</td>\n      <td>https://i.redgifs.com/i/delectablevainmullet.jpg</td>\n      <td>14302h8.jpg</td>\n      <td></td>\n      <td>SexyDressDiffusion</td>\n      <td>False</td>\n      <td>False</td>\n      <td>False</td>\n      <td>[]</td>\n    </tr>\n    <tr>\n      <th>146k4nn</th>\n      <td>146k4nn</td>\n      <td>tightdresses</td>\n      <td>fairlyrustictaker</td>\n      <td>Is this tight enough for you?</td>\n      <td></td>\n      <td></td>\n      <td>/r/tightdresses/comments/146k4nn/is_this_tight...</td>\n      <td>https://i.redgifs.com/i/dramaticwarpednightjar...</td>\n      <td>146k4nn.jpg</td>\n      <td></td>\n      <td>SexyDressDiffusion</td>\n      <td>False</td>\n      <td>False</td>\n      <td>False</td>\n      <td>[]</td>\n    </tr>\n    <tr>\n      <th>146zfz5</th>\n      <td>146zfz5</td>\n      <td>tightdresses</td>\n      <td>smaller_lemon</td>\n      <td>Tight dresses and sex on the beach...drink</td>\n      <td></td>\n      <td></td>\n      <td>/r/tightdresses/comments/146zfz5/tight_dresses...</td>\n      <td>https://i.redgifs.com/i/heavynewsugarglider.jpg</td>\n      <td>146zfz5.jpg</td>\n      <td></td>\n      <td>SexyDressDiffusion</td>\n      <td>False</td>\n      <td>False</td>\n      <td>False</td>\n      <td>[]</td>\n    </tr>\n    <tr>\n      <th>ai2fux</th>\n      <td>ai2fux</td>\n      <td>DressesPorn</td>\n      <td>pizzaisavegetabIe</td>\n      <td>Lupita Nyong'o, 2014 Oscars</td>\n      <td></td>\n      <td></td>\n      <td>/r/DressesPorn/comments/ai2fux/lupita_nyongo_2...</td>\n      <td>http://www.nicolegibbonsstyle.com/wp-content/u...</td>\n      <td>ai2fux.jpg</td>\n      <td></td>\n      <td>SexyDressDiffusion</td>\n      <td>False</td>\n      <td>False</td>\n      <td>False</td>\n      <td>[]</td>\n    </tr>\n    <tr>\n      <th>13c3bc5</th>\n      <td>13c3bc5</td>\n      <td>SFWRedheads</td>\n      <td>Redhotwife88</td>\n      <td>Redhead Wife in my Little Black Dress! [F]</td>\n      <td></td>\n      <td></td>\n      <td>/r/SFWRedheads/comments/13c3bc5/redhead_wife_i...</td>\n      <td>https://i.redgifs.com/i/admiredoutstandingpape...</td>\n      <td>13c3bc5.jpg</td>\n      <td></td>\n      <td>RedHeadDiffusion</td>\n      <td>False</td>\n      <td>False</td>\n      <td>False</td>\n      <td>[]</td>\n    </tr>\n    <tr>\n      <th>13jm7mh</th>\n      <td>13jm7mh</td>\n      <td>SFWRedheads</td>\n      <td>Redhotwife88</td>\n      <td>Do I look Cute for my Anniversary Dinner? [F]</td>\n      <td></td>\n      <td></td>\n      <td>/r/SFWRedheads/comments/13jm7mh/do_i_look_cute...</td>\n      <td>https://i.redgifs.com/i/tensedarkmagentabedlin...</td>\n      <td>13jm7mh.jpg</td>\n      <td></td>\n      <td>RedHeadDiffusion</td>\n      <td>False</td>\n      <td>False</td>\n      <td>False</td>\n      <td>[]</td>\n    </tr>\n    <tr>\n      <th>11qc33b</th>\n      <td>11qc33b</td>\n      <td>gentlemanboners</td>\n      <td>Halbkornbrot</td>\n      <td>Emma Watson</td>\n      <td></td>\n      <td>5714acd1521779d9680709f8d53befd3</td>\n      <td>/r/gentlemanboners/comments/11qc33b/emma_watson/</td>\n      <td>https://i.redd.it/rp0kgb93uina1.png</td>\n      <td>11qc33b.jpg</td>\n      <td>data/image/11qc33b.jpg</td>\n      <td>PrettyGirlDiffusion</td>\n      <td>True</td>\n      <td>False</td>\n      <td>False</td>\n      <td>[]</td>\n    </tr>\n    <tr>\n      <th>11ssj7c</th>\n      <td>11ssj7c</td>\n      <td>gentlemanboners</td>\n      <td>SalisburyShrimp</td>\n      <td>Betty Gilpin</td>\n      <td></td>\n      <td>387242123419666b40d370245f6d5415</td>\n      <td>/r/gentlemanboners/comments/11ssj7c/betty_gilpin/</td>\n      <td>https://i.redd.it/gv7iv4cuf3oa1.png</td>\n      <td>11ssj7c.jpg</td>\n      <td>data/image/11ssj7c.jpg</td>\n      <td>PrettyGirlDiffusion</td>\n      <td>True</td>\n      <td>False</td>\n      <td>False</td>\n      <td>[]</td>\n    </tr>\n    <tr>\n      <th>13osh3e</th>\n      <td>13osh3e</td>\n      <td>gentlemanboners</td>\n      <td>throwaway08190924</td>\n      <td>Alexandra Daddario (Oct. 2022)</td>\n      <td></td>\n      <td>a260fad067cd7a9ba23496e025de3fe4</td>\n      <td>/r/gentlemanboners/comments/13osh3e/alexandra_...</td>\n      <td>https://i.redd.it/rqpykhp96c1b1.png</td>\n      <td>13osh3e.jpg</td>\n      <td>data/image/13osh3e.jpg</td>\n      <td>PrettyGirlDiffusion</td>\n      <td>True</td>\n      <td>False</td>\n      <td>False</td>\n      <td>[]</td>\n    </tr>\n    <tr>\n      <th>13ry9kc</th>\n      <td>13ry9kc</td>\n      <td>gentlemanboners</td>\n      <td>onesexymofo1</td>\n      <td>Natalie Portman</td>\n      <td></td>\n      <td>01f6aa5f3c897f9eb925ab4d10619d41</td>\n      <td>/r/gentlemanboners/comments/13ry9kc/natalie_po...</td>\n      <td>https://i.imgur.com/qE1wEHz.jpg</td>\n      <td>13ry9kc.jpg</td>\n      <td>data/image/13ry9kc.jpg</td>\n      <td>PrettyGirlDiffusion</td>\n      <td>True</td>\n      <td>False</td>\n      <td>False</td>\n      <td>[]</td>\n    </tr>\n    <tr>\n      <th>13tua2l</th>\n      <td>13tua2l</td>\n      <td>gentlemanboners</td>\n      <td>chuboi991</td>\n      <td>Hannah Waddingham</td>\n      <td></td>\n      <td>56d6d1d2f06aaccbb82d71f5456eec9a</td>\n      <td>/r/gentlemanboners/comments/13tua2l/hannah_wad...</td>\n      <td>https://i.redd.it/pa39y7hogk2b1.png</td>\n      <td>13tua2l.jpg</td>\n      <td>data/image/13tua2l.jpg</td>\n      <td>PrettyGirlDiffusion</td>\n      <td>True</td>\n      <td>False</td>\n      <td>False</td>\n      <td>[]</td>\n    </tr>\n    <tr>\n      <th>13umumg</th>\n      <td>13umumg</td>\n      <td>gentlemanboners</td>\n      <td>Ree-Ko</td>\n      <td>Natalie Portman</td>\n      <td></td>\n      <td>2f8f6b0e2d498b76ed2ac00e32cb6919</td>\n      <td>/r/gentlemanboners/comments/13umumg/natalie_po...</td>\n      <td>https://i.redd.it/xu2ra4umrp2b1.png</td>\n      <td>13umumg.jpg</td>\n      <td>data/image/13umumg.jpg</td>\n      <td>PrettyGirlDiffusion</td>\n      <td>True</td>\n      <td>False</td>\n      <td>False</td>\n      <td>[]</td>\n    </tr>\n    <tr>\n      <th>13ux7ta</th>\n      <td>13ux7ta</td>\n      <td>gentlemanboners</td>\n      <td>castelling</td>\n      <td>Emmy Rossum</td>\n      <td></td>\n      <td>c29f6f320ef93a5c93208441901f8068</td>\n      <td>/r/gentlemanboners/comments/13ux7ta/emmy_rossum/</td>\n      <td>https://i.redd.it/dfz80om7tt2b1.png</td>\n      <td>13ux7ta.jpg</td>\n      <td>data/image/13ux7ta.jpg</td>\n      <td>PrettyGirlDiffusion</td>\n      <td>True</td>\n      <td>False</td>\n      <td>False</td>\n      <td>[]</td>\n    </tr>\n    <tr>\n      <th>13wm6hw</th>\n      <td>13wm6hw</td>\n      <td>gentlemanboners</td>\n      <td>castelling</td>\n      <td>Maya Hawke</td>\n      <td></td>\n      <td>9aea513cd3d2eb04213e3fb311b2cc28</td>\n      <td>/r/gentlemanboners/comments/13wm6hw/maya_hawke/</td>\n      <td>https://i.redd.it/z9v7jo3rl73b1.png</td>\n      <td>13wm6hw.jpg</td>\n      <td>data/image/13wm6hw.jpg</td>\n      <td>PrettyGirlDiffusion</td>\n      <td>True</td>\n      <td>False</td>\n      <td>False</td>\n      <td>[]</td>\n    </tr>\n    <tr>\n      <th>13xih94</th>\n      <td>13xih94</td>\n      <td>gentlemanboners</td>\n      <td>castelling</td>\n      <td>Natalie Portman</td>\n      <td></td>\n      <td>cefe21a0c250cab6bddd2b51d2e0a936</td>\n      <td>/r/gentlemanboners/comments/13xih94/natalie_po...</td>\n      <td>https://i.redd.it/x2b6xtsbye3b1.png</td>\n      <td>13xih94.jpg</td>\n      <td>data/image/13xih94.jpg</td>\n      <td>PrettyGirlDiffusion</td>\n      <td>True</td>\n      <td>False</td>\n      <td>False</td>\n      <td>[]</td>\n    </tr>\n    <tr>\n      <th>142g53m</th>\n      <td>142g53m</td>\n      <td>gentlemanboners</td>\n      <td>castelling</td>\n      <td>Anna Torv</td>\n      <td></td>\n      <td>6bd7dd1e436407717618038d464602e5</td>\n      <td>/r/gentlemanboners/comments/142g53m/anna_torv/</td>\n      <td>https://i.redd.it/ivn1q4rfge4b1.png</td>\n      <td>142g53m.jpg</td>\n      <td>data/image/142g53m.jpg</td>\n      <td>PrettyGirlDiffusion</td>\n      <td>True</td>\n      <td>False</td>\n      <td>False</td>\n      <td>[]</td>\n    </tr>\n    <tr>\n      <th>143gva0</th>\n      <td>143gva0</td>\n      <td>gentlemanboners</td>\n      <td>castelling</td>\n      <td>Tricia Helfer</td>\n      <td></td>\n      <td>6d87ff93f6ff0e757023efab72885d36</td>\n      <td>/r/gentlemanboners/comments/143gva0/tricia_hel...</td>\n      <td>https://i.redd.it/knycqzxmam4b1.png</td>\n      <td>143gva0.jpg</td>\n      <td>data/image/143gva0.jpg</td>\n      <td>PrettyGirlDiffusion</td>\n      <td>True</td>\n      <td>False</td>\n      <td>False</td>\n      <td>[]</td>\n    </tr>\n    <tr>\n      <th>1466wwr</th>\n      <td>1466wwr</td>\n      <td>gentlemanboners</td>\n      <td>Tony_montana_11</td>\n      <td>Nina Dobrev</td>\n      <td></td>\n      <td>c67f2f095ee5d0ae90d49e41a7e59503</td>\n      <td>/r/gentlemanboners/comments/1466wwr/nina_dobrev/</td>\n      <td>https://i.imgur.com/s0p7UdX.jpg</td>\n      <td>1466wwr.jpg</td>\n      <td>data/image/1466wwr.jpg</td>\n      <td>PrettyGirlDiffusion</td>\n      <td>True</td>\n      <td>False</td>\n      <td>False</td>\n      <td>[]</td>\n    </tr>\n    <tr>\n      <th>146qmk5</th>\n      <td>146qmk5</td>\n      <td>gentlemanboners</td>\n      <td>Kilnatapi</td>\n      <td>Alice Levine at Brit Awards 2019</td>\n      <td></td>\n      <td>e29bf65a51d44a5b11cd448043676c83</td>\n      <td>/r/gentlemanboners/comments/146qmk5/alice_levi...</td>\n      <td>https://i.redd.it/dozquvp99d5b1.png</td>\n      <td>146qmk5.jpg</td>\n      <td>data/image/146qmk5.jpg</td>\n      <td>PrettyGirlDiffusion</td>\n      <td>True</td>\n      <td>False</td>\n      <td>False</td>\n      <td>[]</td>\n    </tr>\n    <tr>\n      <th>146r751</th>\n      <td>146r751</td>\n      <td>gentlemanboners</td>\n      <td>kindi1999</td>\n      <td>Charlize Theron</td>\n      <td></td>\n      <td>8234890b1368b4e0602b7d29f895dcdf</td>\n      <td>/r/gentlemanboners/comments/146r751/charlize_t...</td>\n      <td>https://i.redd.it/sn444y7yfd5b1.png</td>\n      <td>146r751.jpg</td>\n      <td>data/image/146r751.jpg</td>\n      <td>PrettyGirlDiffusion</td>\n      <td>True</td>\n      <td>False</td>\n      <td>False</td>\n      <td>[]</td>\n    </tr>\n    <tr>\n      <th>146t7r8</th>\n      <td>146t7r8</td>\n      <td>gentlemanboners</td>\n      <td>IndyMan2012</td>\n      <td>Anna Kendrick</td>\n      <td></td>\n      <td>288f836cd75e3f0f798d59aa8905b7ab</td>\n      <td>/r/gentlemanboners/comments/146t7r8/anna_kendr...</td>\n      <td>https://i.redd.it/rkyva0hnyd5b1.png</td>\n      <td>146t7r8.jpg</td>\n      <td>data/image/146t7r8.jpg</td>\n      <td>PrettyGirlDiffusion</td>\n      <td>True</td>\n      <td>False</td>\n      <td>False</td>\n      <td>[]</td>\n    </tr>\n    <tr>\n      <th>146te0o</th>\n      <td>146te0o</td>\n      <td>gentlemanboners</td>\n      <td>IndyMan2012</td>\n      <td>Rosamund Pike</td>\n      <td></td>\n      <td>c3f98c79b2a432f7f398bd8fc3318aad</td>\n      <td>/r/gentlemanboners/comments/146te0o/rosamund_p...</td>\n      <td>https://i.redd.it/coj6w4050e5b1.png</td>\n      <td>146te0o.jpg</td>\n      <td>data/image/146te0o.jpg</td>\n      <td>PrettyGirlDiffusion</td>\n      <td>True</td>\n      <td>False</td>\n      <td>False</td>\n      <td>[]</td>\n    </tr>\n    <tr>\n      <th>146tjdq</th>\n      <td>146tjdq</td>\n      <td>gentlemanboners</td>\n      <td>IndyMan2012</td>\n      <td>Lucy Lawless</td>\n      <td></td>\n      <td>8538fee3756f09147806be6ac784e8a2</td>\n      <td>/r/gentlemanboners/comments/146tjdq/lucy_lawless/</td>\n      <td>https://i.redd.it/1iaxhrnc1e5b1.png</td>\n      <td>146tjdq.jpg</td>\n      <td>data/image/146tjdq.jpg</td>\n      <td>PrettyGirlDiffusion</td>\n      <td>True</td>\n      <td>False</td>\n      <td>False</td>\n      <td>[]</td>\n    </tr>\n    <tr>\n      <th>146v16t</th>\n      <td>146v16t</td>\n      <td>gentlemanboners</td>\n      <td>castelling</td>\n      <td>Charlize Theron</td>\n      <td></td>\n      <td>865cd7df1721e2cfe1a3bf9a8a9f8204</td>\n      <td>/r/gentlemanboners/comments/146v16t/charlize_t...</td>\n      <td>https://i.redd.it/k6pgw3tbde5b1.png</td>\n      <td>146v16t.jpg</td>\n      <td>data/image/146v16t.jpg</td>\n      <td>PrettyGirlDiffusion</td>\n      <td>True</td>\n      <td>False</td>\n      <td>False</td>\n      <td>[]</td>\n    </tr>\n    <tr>\n      <th>4d4jfb</th>\n      <td>4d4jfb</td>\n      <td>gentlemanboners</td>\n      <td>ezreads</td>\n      <td>Aly Michalka</td>\n      <td></td>\n      <td>0bf715c032266b6eaa115d0b9efd6efb</td>\n      <td>/r/gentlemanboners/comments/4d4jfb/aly_michalka/</td>\n      <td>http://i.imgur.com/g68Lo.jpg</td>\n      <td>4d4jfb.jpg</td>\n      <td>data/image/4d4jfb.jpg</td>\n      <td>PrettyGirlDiffusion</td>\n      <td>True</td>\n      <td>False</td>\n      <td>False</td>\n      <td>[]</td>\n    </tr>\n    <tr>\n      <th>5yuz7t</th>\n      <td>5yuz7t</td>\n      <td>gentlemanboners</td>\n      <td>totes-muh-gotes</td>\n      <td>Kristen Bell</td>\n      <td></td>\n      <td>4f9d83abeb4f30799de28e3d535c54cb</td>\n      <td>/r/gentlemanboners/comments/5yuz7t/kristen_bell/</td>\n      <td>http://i.imgur.com/p86WWkw.jpg</td>\n      <td>5yuz7t.jpg</td>\n      <td>data/image/5yuz7t.jpg</td>\n      <td>PrettyGirlDiffusion</td>\n      <td>True</td>\n      <td>False</td>\n      <td>False</td>\n      <td>[]</td>\n    </tr>\n    <tr>\n      <th>6hifxl</th>\n      <td>6hifxl</td>\n      <td>gentlemanboners</td>\n      <td>OptimusPrime1313</td>\n      <td>Gal Gadot</td>\n      <td></td>\n      <td>e20b60b943ccb9f72bee25578a462d19</td>\n      <td>/r/gentlemanboners/comments/6hifxl/gal_gadot/</td>\n      <td>http://i.imgur.com/GCeZAx3.jpg</td>\n      <td>6hifxl.jpg</td>\n      <td>data/image/6hifxl.jpg</td>\n      <td>PrettyGirlDiffusion</td>\n      <td>True</td>\n      <td>False</td>\n      <td>False</td>\n      <td>[]</td>\n    </tr>\n    <tr>\n      <th>7e07k1</th>\n      <td>7e07k1</td>\n      <td>gentlemanboners</td>\n      <td>NotProgramSupervisor</td>\n      <td>Brooklyn Decker</td>\n      <td></td>\n      <td>c52673d4271c4bae4d730dc727b5c767</td>\n      <td>/r/gentlemanboners/comments/7e07k1/brooklyn_de...</td>\n      <td>https://i.imgur.com/1kFcpn4.png</td>\n      <td>7e07k1.jpg</td>\n      <td>data/image/7e07k1.jpg</td>\n      <td>PrettyGirlDiffusion</td>\n      <td>True</td>\n      <td>False</td>\n      <td>False</td>\n      <td>[]</td>\n    </tr>\n    <tr>\n      <th>7qf4m2</th>\n      <td>7qf4m2</td>\n      <td>gentlemanboners</td>\n      <td>_Second_Account_</td>\n      <td>Michelle Hunziker</td>\n      <td></td>\n      <td>0497ea128272b28dfe64c6925bd57d58</td>\n      <td>/r/gentlemanboners/comments/7qf4m2/michelle_hu...</td>\n      <td>https://i.imgur.com/thk1WNN.jpg</td>\n      <td>7qf4m2.jpg</td>\n      <td>data/image/7qf4m2.jpg</td>\n      <td>PrettyGirlDiffusion</td>\n      <td>True</td>\n      <td>False</td>\n      <td>False</td>\n      <td>[]</td>\n    </tr>\n    <tr>\n      <th>vleia9</th>\n      <td>vleia9</td>\n      <td>gentlemanboners</td>\n      <td>Unknown</td>\n      <td>Erin Moriarty</td>\n      <td></td>\n      <td>c9e28fa5570b35de493f041c493d653b</td>\n      <td>/r/gentlemanboners/comments/vleia9/erin_moriarty/</td>\n      <td>https://i.imgur.com/M1hIBqm.jpg</td>\n      <td>vleia9.jpg</td>\n      <td>data/image/vleia9.jpg</td>\n      <td>PrettyGirlDiffusion</td>\n      <td>True</td>\n      <td>False</td>\n      <td>False</td>\n      <td>[]</td>\n    </tr>\n    <tr>\n      <th>13l5eqe</th>\n      <td>13l5eqe</td>\n      <td>hotofficegirls</td>\n      <td>MathematicianOdd8611</td>\n      <td>Don't get too distracted</td>\n      <td></td>\n      <td></td>\n      <td>/r/hotofficegirls/comments/13l5eqe/dont_get_to...</td>\n      <td>https://i.redgifs.com/i/ironcladscratchydegus.jpg</td>\n      <td>13l5eqe.jpg</td>\n      <td></td>\n      <td>PrettyGirlDiffusion</td>\n      <td>False</td>\n      <td>False</td>\n      <td>False</td>\n      <td>[]</td>\n    </tr>\n    <tr>\n      <th>13n119j</th>\n      <td>13n119j</td>\n      <td>hotofficegirls</td>\n      <td>MathematicianOdd8611</td>\n      <td>I know you've thought about that titty fuck ;)</td>\n      <td></td>\n      <td></td>\n      <td>/r/hotofficegirls/comments/13n119j/i_know_youv...</td>\n      <td>https://i.redgifs.com/i/colorlessdrearyxanclom...</td>\n      <td>13n119j.jpg</td>\n      <td></td>\n      <td>PrettyGirlDiffusion</td>\n      <td>False</td>\n      <td>False</td>\n      <td>False</td>\n      <td>[]</td>\n    </tr>\n  </tbody>\n</table>\n</div>"
     },
     "metadata": {},
     "output_type": "display_data"
    }
   ],
   "source": [
    "# @title Apply Hash\n",
    "\n",
    "for i, row in filtered.iterrows():\n",
    "\td = functions.set_hash(row)\n",
    "\tfiltered.loc[i, 'hash'] = d\n",
    "display(filtered.shape)\n",
    "display(filtered)"
   ],
   "metadata": {
    "collapsed": false,
    "ExecuteTime": {
     "end_time": "2023-06-19T00:06:26.806018Z",
     "start_time": "2023-06-19T00:06:26.574179Z"
    }
   }
  },
  {
   "cell_type": "code",
   "execution_count": 52,
   "outputs": [
    {
     "data": {
      "text/plain": "(24, 15)"
     },
     "metadata": {},
     "output_type": "display_data"
    },
    {
     "data": {
      "text/plain": "        id        subreddit             author   \n0  11qc33b  gentlemanboners       Halbkornbrot  \\\n1  11ssj7c  gentlemanboners    SalisburyShrimp   \n2  13osh3e  gentlemanboners  throwaway08190924   \n3  13ry9kc  gentlemanboners       onesexymofo1   \n4  13tua2l  gentlemanboners          chuboi991   \n\n                            title caption                              hash   \n0                     Emma Watson          5714acd1521779d9680709f8d53befd3  \\\n1                    Betty Gilpin          387242123419666b40d370245f6d5415   \n2  Alexandra Daddario (Oct. 2022)          a260fad067cd7a9ba23496e025de3fe4   \n3                 Natalie Portman          01f6aa5f3c897f9eb925ab4d10619d41   \n4               Hannah Waddingham          56d6d1d2f06aaccbb82d71f5456eec9a   \n\n                                           permalink   \n0   /r/gentlemanboners/comments/11qc33b/emma_watson/  \\\n1  /r/gentlemanboners/comments/11ssj7c/betty_gilpin/   \n2  /r/gentlemanboners/comments/13osh3e/alexandra_...   \n3  /r/gentlemanboners/comments/13ry9kc/natalie_po...   \n4  /r/gentlemanboners/comments/13tua2l/hannah_wad...   \n\n                          original_url   image_name                    path   \n0  https://i.redd.it/rp0kgb93uina1.png  11qc33b.jpg  data/image/11qc33b.jpg  \\\n1  https://i.redd.it/gv7iv4cuf3oa1.png  11ssj7c.jpg  data/image/11ssj7c.jpg   \n2  https://i.redd.it/rqpykhp96c1b1.png  13osh3e.jpg  data/image/13osh3e.jpg   \n3      https://i.imgur.com/qE1wEHz.jpg  13ry9kc.jpg  data/image/13ry9kc.jpg   \n4  https://i.redd.it/pa39y7hogk2b1.png  13tua2l.jpg  data/image/13tua2l.jpg   \n\n                 model  exists  curated accept tags  \n0  PrettyGirlDiffusion    True    False  False   []  \n1  PrettyGirlDiffusion    True    False  False   []  \n2  PrettyGirlDiffusion    True    False  False   []  \n3  PrettyGirlDiffusion    True    False  False   []  \n4  PrettyGirlDiffusion    True    False  False   []  ",
      "text/html": "<div>\n<style scoped>\n    .dataframe tbody tr th:only-of-type {\n        vertical-align: middle;\n    }\n\n    .dataframe tbody tr th {\n        vertical-align: top;\n    }\n\n    .dataframe thead th {\n        text-align: right;\n    }\n</style>\n<table border=\"1\" class=\"dataframe\">\n  <thead>\n    <tr style=\"text-align: right;\">\n      <th></th>\n      <th>id</th>\n      <th>subreddit</th>\n      <th>author</th>\n      <th>title</th>\n      <th>caption</th>\n      <th>hash</th>\n      <th>permalink</th>\n      <th>original_url</th>\n      <th>image_name</th>\n      <th>path</th>\n      <th>model</th>\n      <th>exists</th>\n      <th>curated</th>\n      <th>accept</th>\n      <th>tags</th>\n    </tr>\n  </thead>\n  <tbody>\n    <tr>\n      <th>0</th>\n      <td>11qc33b</td>\n      <td>gentlemanboners</td>\n      <td>Halbkornbrot</td>\n      <td>Emma Watson</td>\n      <td></td>\n      <td>5714acd1521779d9680709f8d53befd3</td>\n      <td>/r/gentlemanboners/comments/11qc33b/emma_watson/</td>\n      <td>https://i.redd.it/rp0kgb93uina1.png</td>\n      <td>11qc33b.jpg</td>\n      <td>data/image/11qc33b.jpg</td>\n      <td>PrettyGirlDiffusion</td>\n      <td>True</td>\n      <td>False</td>\n      <td>False</td>\n      <td>[]</td>\n    </tr>\n    <tr>\n      <th>1</th>\n      <td>11ssj7c</td>\n      <td>gentlemanboners</td>\n      <td>SalisburyShrimp</td>\n      <td>Betty Gilpin</td>\n      <td></td>\n      <td>387242123419666b40d370245f6d5415</td>\n      <td>/r/gentlemanboners/comments/11ssj7c/betty_gilpin/</td>\n      <td>https://i.redd.it/gv7iv4cuf3oa1.png</td>\n      <td>11ssj7c.jpg</td>\n      <td>data/image/11ssj7c.jpg</td>\n      <td>PrettyGirlDiffusion</td>\n      <td>True</td>\n      <td>False</td>\n      <td>False</td>\n      <td>[]</td>\n    </tr>\n    <tr>\n      <th>2</th>\n      <td>13osh3e</td>\n      <td>gentlemanboners</td>\n      <td>throwaway08190924</td>\n      <td>Alexandra Daddario (Oct. 2022)</td>\n      <td></td>\n      <td>a260fad067cd7a9ba23496e025de3fe4</td>\n      <td>/r/gentlemanboners/comments/13osh3e/alexandra_...</td>\n      <td>https://i.redd.it/rqpykhp96c1b1.png</td>\n      <td>13osh3e.jpg</td>\n      <td>data/image/13osh3e.jpg</td>\n      <td>PrettyGirlDiffusion</td>\n      <td>True</td>\n      <td>False</td>\n      <td>False</td>\n      <td>[]</td>\n    </tr>\n    <tr>\n      <th>3</th>\n      <td>13ry9kc</td>\n      <td>gentlemanboners</td>\n      <td>onesexymofo1</td>\n      <td>Natalie Portman</td>\n      <td></td>\n      <td>01f6aa5f3c897f9eb925ab4d10619d41</td>\n      <td>/r/gentlemanboners/comments/13ry9kc/natalie_po...</td>\n      <td>https://i.imgur.com/qE1wEHz.jpg</td>\n      <td>13ry9kc.jpg</td>\n      <td>data/image/13ry9kc.jpg</td>\n      <td>PrettyGirlDiffusion</td>\n      <td>True</td>\n      <td>False</td>\n      <td>False</td>\n      <td>[]</td>\n    </tr>\n    <tr>\n      <th>4</th>\n      <td>13tua2l</td>\n      <td>gentlemanboners</td>\n      <td>chuboi991</td>\n      <td>Hannah Waddingham</td>\n      <td></td>\n      <td>56d6d1d2f06aaccbb82d71f5456eec9a</td>\n      <td>/r/gentlemanboners/comments/13tua2l/hannah_wad...</td>\n      <td>https://i.redd.it/pa39y7hogk2b1.png</td>\n      <td>13tua2l.jpg</td>\n      <td>data/image/13tua2l.jpg</td>\n      <td>PrettyGirlDiffusion</td>\n      <td>True</td>\n      <td>False</td>\n      <td>False</td>\n      <td>[]</td>\n    </tr>\n  </tbody>\n</table>\n</div>"
     },
     "metadata": {},
     "output_type": "display_data"
    }
   ],
   "source": [
    "from datetime import datetime\n",
    "\n",
    "# @title Filter On Exists and path existance\n",
    "\n",
    "ts = datetime.today().timestamp()\n",
    "\n",
    "exists = filtered.loc[(filtered['exists'] == True) & (filtered['path'] != \"\")]\n",
    "exists.dropna(axis=1, how='all')\n",
    "exists.reset_index(drop=True, inplace=True)\n",
    "\n",
    "display(exists.shape)\n",
    "display(exists.head())\n",
    "\n",
    "ready_to_caption = exists.copy()"
   ],
   "metadata": {
    "collapsed": false,
    "ExecuteTime": {
     "end_time": "2023-06-19T00:06:26.912064400Z",
     "start_time": "2023-06-19T00:06:26.637193400Z"
    }
   }
  },
  {
   "cell_type": "code",
   "execution_count": 53,
   "outputs": [],
   "source": [
    "# @title Import BLIP\n",
    "\n",
    "\n",
    "import torch\n",
    "\n",
    "caption_0 = BlipCaption(\"cuda\")"
   ],
   "metadata": {
    "collapsed": false,
    "ExecuteTime": {
     "end_time": "2023-06-19T00:06:47.679076400Z",
     "start_time": "2023-06-19T00:06:26.667189800Z"
    }
   }
  },
  {
   "cell_type": "code",
   "execution_count": 54,
   "outputs": [
    {
     "data": {
      "text/plain": "'== Filtered On Existing Caption =='"
     },
     "metadata": {},
     "output_type": "display_data"
    },
    {
     "data": {
      "text/plain": "(24, 15)"
     },
     "metadata": {},
     "output_type": "display_data"
    },
    {
     "data": {
      "text/plain": "        id        subreddit             author   \n0  11qc33b  gentlemanboners       Halbkornbrot  \\\n1  11ssj7c  gentlemanboners    SalisburyShrimp   \n2  13osh3e  gentlemanboners  throwaway08190924   \n3  13ry9kc  gentlemanboners       onesexymofo1   \n4  13tua2l  gentlemanboners          chuboi991   \n\n                            title caption                              hash   \n0                     Emma Watson          5714acd1521779d9680709f8d53befd3  \\\n1                    Betty Gilpin          387242123419666b40d370245f6d5415   \n2  Alexandra Daddario (Oct. 2022)          a260fad067cd7a9ba23496e025de3fe4   \n3                 Natalie Portman          01f6aa5f3c897f9eb925ab4d10619d41   \n4               Hannah Waddingham          56d6d1d2f06aaccbb82d71f5456eec9a   \n\n                                           permalink   \n0   /r/gentlemanboners/comments/11qc33b/emma_watson/  \\\n1  /r/gentlemanboners/comments/11ssj7c/betty_gilpin/   \n2  /r/gentlemanboners/comments/13osh3e/alexandra_...   \n3  /r/gentlemanboners/comments/13ry9kc/natalie_po...   \n4  /r/gentlemanboners/comments/13tua2l/hannah_wad...   \n\n                          original_url   image_name                    path   \n0  https://i.redd.it/rp0kgb93uina1.png  11qc33b.jpg  data/image/11qc33b.jpg  \\\n1  https://i.redd.it/gv7iv4cuf3oa1.png  11ssj7c.jpg  data/image/11ssj7c.jpg   \n2  https://i.redd.it/rqpykhp96c1b1.png  13osh3e.jpg  data/image/13osh3e.jpg   \n3      https://i.imgur.com/qE1wEHz.jpg  13ry9kc.jpg  data/image/13ry9kc.jpg   \n4  https://i.redd.it/pa39y7hogk2b1.png  13tua2l.jpg  data/image/13tua2l.jpg   \n\n                 model  exists  curated accept tags  \n0  PrettyGirlDiffusion    True    False  False   []  \n1  PrettyGirlDiffusion    True    False  False   []  \n2  PrettyGirlDiffusion    True    False  False   []  \n3  PrettyGirlDiffusion    True    False  False   []  \n4  PrettyGirlDiffusion    True    False  False   []  ",
      "text/html": "<div>\n<style scoped>\n    .dataframe tbody tr th:only-of-type {\n        vertical-align: middle;\n    }\n\n    .dataframe tbody tr th {\n        vertical-align: top;\n    }\n\n    .dataframe thead th {\n        text-align: right;\n    }\n</style>\n<table border=\"1\" class=\"dataframe\">\n  <thead>\n    <tr style=\"text-align: right;\">\n      <th></th>\n      <th>id</th>\n      <th>subreddit</th>\n      <th>author</th>\n      <th>title</th>\n      <th>caption</th>\n      <th>hash</th>\n      <th>permalink</th>\n      <th>original_url</th>\n      <th>image_name</th>\n      <th>path</th>\n      <th>model</th>\n      <th>exists</th>\n      <th>curated</th>\n      <th>accept</th>\n      <th>tags</th>\n    </tr>\n  </thead>\n  <tbody>\n    <tr>\n      <th>0</th>\n      <td>11qc33b</td>\n      <td>gentlemanboners</td>\n      <td>Halbkornbrot</td>\n      <td>Emma Watson</td>\n      <td></td>\n      <td>5714acd1521779d9680709f8d53befd3</td>\n      <td>/r/gentlemanboners/comments/11qc33b/emma_watson/</td>\n      <td>https://i.redd.it/rp0kgb93uina1.png</td>\n      <td>11qc33b.jpg</td>\n      <td>data/image/11qc33b.jpg</td>\n      <td>PrettyGirlDiffusion</td>\n      <td>True</td>\n      <td>False</td>\n      <td>False</td>\n      <td>[]</td>\n    </tr>\n    <tr>\n      <th>1</th>\n      <td>11ssj7c</td>\n      <td>gentlemanboners</td>\n      <td>SalisburyShrimp</td>\n      <td>Betty Gilpin</td>\n      <td></td>\n      <td>387242123419666b40d370245f6d5415</td>\n      <td>/r/gentlemanboners/comments/11ssj7c/betty_gilpin/</td>\n      <td>https://i.redd.it/gv7iv4cuf3oa1.png</td>\n      <td>11ssj7c.jpg</td>\n      <td>data/image/11ssj7c.jpg</td>\n      <td>PrettyGirlDiffusion</td>\n      <td>True</td>\n      <td>False</td>\n      <td>False</td>\n      <td>[]</td>\n    </tr>\n    <tr>\n      <th>2</th>\n      <td>13osh3e</td>\n      <td>gentlemanboners</td>\n      <td>throwaway08190924</td>\n      <td>Alexandra Daddario (Oct. 2022)</td>\n      <td></td>\n      <td>a260fad067cd7a9ba23496e025de3fe4</td>\n      <td>/r/gentlemanboners/comments/13osh3e/alexandra_...</td>\n      <td>https://i.redd.it/rqpykhp96c1b1.png</td>\n      <td>13osh3e.jpg</td>\n      <td>data/image/13osh3e.jpg</td>\n      <td>PrettyGirlDiffusion</td>\n      <td>True</td>\n      <td>False</td>\n      <td>False</td>\n      <td>[]</td>\n    </tr>\n    <tr>\n      <th>3</th>\n      <td>13ry9kc</td>\n      <td>gentlemanboners</td>\n      <td>onesexymofo1</td>\n      <td>Natalie Portman</td>\n      <td></td>\n      <td>01f6aa5f3c897f9eb925ab4d10619d41</td>\n      <td>/r/gentlemanboners/comments/13ry9kc/natalie_po...</td>\n      <td>https://i.imgur.com/qE1wEHz.jpg</td>\n      <td>13ry9kc.jpg</td>\n      <td>data/image/13ry9kc.jpg</td>\n      <td>PrettyGirlDiffusion</td>\n      <td>True</td>\n      <td>False</td>\n      <td>False</td>\n      <td>[]</td>\n    </tr>\n    <tr>\n      <th>4</th>\n      <td>13tua2l</td>\n      <td>gentlemanboners</td>\n      <td>chuboi991</td>\n      <td>Hannah Waddingham</td>\n      <td></td>\n      <td>56d6d1d2f06aaccbb82d71f5456eec9a</td>\n      <td>/r/gentlemanboners/comments/13tua2l/hannah_wad...</td>\n      <td>https://i.redd.it/pa39y7hogk2b1.png</td>\n      <td>13tua2l.jpg</td>\n      <td>data/image/13tua2l.jpg</td>\n      <td>PrettyGirlDiffusion</td>\n      <td>True</td>\n      <td>False</td>\n      <td>False</td>\n      <td>[]</td>\n    </tr>\n  </tbody>\n</table>\n</div>"
     },
     "metadata": {},
     "output_type": "display_data"
    }
   ],
   "source": [
    "# @title Filter on bad data\n",
    "\n",
    "\n",
    "check = ready_to_caption.loc[(ready_to_caption['caption'] == \"\") & (ready_to_caption['caption'].notnull()) & (ready_to_caption['exists'] == True) & (~ready_to_caption['id'].isin(extant_entity_list))]\n",
    "\n",
    "ready_to_caption = check.copy()\n",
    "\n",
    "display(\"== Filtered On Existing Caption ==\")\n",
    "display(ready_to_caption.shape)\n",
    "display(ready_to_caption.head())"
   ],
   "metadata": {
    "collapsed": false,
    "ExecuteTime": {
     "end_time": "2023-06-19T00:06:47.740076300Z",
     "start_time": "2023-06-19T00:06:47.681076400Z"
    }
   }
  },
  {
   "cell_type": "code",
   "execution_count": 55,
   "outputs": [
    {
     "name": "stderr",
     "output_type": "stream",
     "text": [
      "progress: 0it [00:00, ?it/s]D:\\code\\repos\\simple-collection\\venv\\lib\\site-packages\\transformers\\generation\\utils.py:1313: UserWarning: Using `max_length`'s default (20) to control the generation length. This behaviour is deprecated and will be removed from the config in v5 of Transformers -- we recommend using `max_new_tokens` to control the maximum length of the generation.\n",
      "  warnings.warn(\n",
      "progress: 24it [00:34,  1.45s/it]\n"
     ]
    },
    {
     "data": {
      "text/plain": "'== Data With Captions =='"
     },
     "metadata": {},
     "output_type": "display_data"
    },
    {
     "data": {
      "text/plain": "(24, 15)"
     },
     "metadata": {},
     "output_type": "display_data"
    },
    {
     "data": {
      "text/plain": "        id        subreddit             author   \n0  11qc33b  gentlemanboners       Halbkornbrot  \\\n1  11ssj7c  gentlemanboners    SalisburyShrimp   \n2  13osh3e  gentlemanboners  throwaway08190924   \n3  13ry9kc  gentlemanboners       onesexymofo1   \n4  13tua2l  gentlemanboners          chuboi991   \n\n                            title   \n0                     Emma Watson  \\\n1                    Betty Gilpin   \n2  Alexandra Daddario (Oct. 2022)   \n3                 Natalie Portman   \n4               Hannah Waddingham   \n\n                                             caption   \n0  woman in a gray dress standing next to a dress...  \\\n1  a close up of a woman in a purple dress posing...   \n2   a close up of a woman in a white and black dress   \n3  araffed - up of a woman in a red dress and sun...   \n4  a pregnant woman in a blue dress standing in a...   \n\n                               hash   \n0  5714acd1521779d9680709f8d53befd3  \\\n1  387242123419666b40d370245f6d5415   \n2  a260fad067cd7a9ba23496e025de3fe4   \n3  01f6aa5f3c897f9eb925ab4d10619d41   \n4  56d6d1d2f06aaccbb82d71f5456eec9a   \n\n                                           permalink   \n0   /r/gentlemanboners/comments/11qc33b/emma_watson/  \\\n1  /r/gentlemanboners/comments/11ssj7c/betty_gilpin/   \n2  /r/gentlemanboners/comments/13osh3e/alexandra_...   \n3  /r/gentlemanboners/comments/13ry9kc/natalie_po...   \n4  /r/gentlemanboners/comments/13tua2l/hannah_wad...   \n\n                          original_url   image_name                    path   \n0  https://i.redd.it/rp0kgb93uina1.png  11qc33b.jpg  data/image/11qc33b.jpg  \\\n1  https://i.redd.it/gv7iv4cuf3oa1.png  11ssj7c.jpg  data/image/11ssj7c.jpg   \n2  https://i.redd.it/rqpykhp96c1b1.png  13osh3e.jpg  data/image/13osh3e.jpg   \n3      https://i.imgur.com/qE1wEHz.jpg  13ry9kc.jpg  data/image/13ry9kc.jpg   \n4  https://i.redd.it/pa39y7hogk2b1.png  13tua2l.jpg  data/image/13tua2l.jpg   \n\n                 model  exists  curated accept tags  \n0  PrettyGirlDiffusion    True    False  False   []  \n1  PrettyGirlDiffusion    True    False  False   []  \n2  PrettyGirlDiffusion    True    False  False   []  \n3  PrettyGirlDiffusion    True    False  False   []  \n4  PrettyGirlDiffusion    True    False  False   []  ",
      "text/html": "<div>\n<style scoped>\n    .dataframe tbody tr th:only-of-type {\n        vertical-align: middle;\n    }\n\n    .dataframe tbody tr th {\n        vertical-align: top;\n    }\n\n    .dataframe thead th {\n        text-align: right;\n    }\n</style>\n<table border=\"1\" class=\"dataframe\">\n  <thead>\n    <tr style=\"text-align: right;\">\n      <th></th>\n      <th>id</th>\n      <th>subreddit</th>\n      <th>author</th>\n      <th>title</th>\n      <th>caption</th>\n      <th>hash</th>\n      <th>permalink</th>\n      <th>original_url</th>\n      <th>image_name</th>\n      <th>path</th>\n      <th>model</th>\n      <th>exists</th>\n      <th>curated</th>\n      <th>accept</th>\n      <th>tags</th>\n    </tr>\n  </thead>\n  <tbody>\n    <tr>\n      <th>0</th>\n      <td>11qc33b</td>\n      <td>gentlemanboners</td>\n      <td>Halbkornbrot</td>\n      <td>Emma Watson</td>\n      <td>woman in a gray dress standing next to a dress...</td>\n      <td>5714acd1521779d9680709f8d53befd3</td>\n      <td>/r/gentlemanboners/comments/11qc33b/emma_watson/</td>\n      <td>https://i.redd.it/rp0kgb93uina1.png</td>\n      <td>11qc33b.jpg</td>\n      <td>data/image/11qc33b.jpg</td>\n      <td>PrettyGirlDiffusion</td>\n      <td>True</td>\n      <td>False</td>\n      <td>False</td>\n      <td>[]</td>\n    </tr>\n    <tr>\n      <th>1</th>\n      <td>11ssj7c</td>\n      <td>gentlemanboners</td>\n      <td>SalisburyShrimp</td>\n      <td>Betty Gilpin</td>\n      <td>a close up of a woman in a purple dress posing...</td>\n      <td>387242123419666b40d370245f6d5415</td>\n      <td>/r/gentlemanboners/comments/11ssj7c/betty_gilpin/</td>\n      <td>https://i.redd.it/gv7iv4cuf3oa1.png</td>\n      <td>11ssj7c.jpg</td>\n      <td>data/image/11ssj7c.jpg</td>\n      <td>PrettyGirlDiffusion</td>\n      <td>True</td>\n      <td>False</td>\n      <td>False</td>\n      <td>[]</td>\n    </tr>\n    <tr>\n      <th>2</th>\n      <td>13osh3e</td>\n      <td>gentlemanboners</td>\n      <td>throwaway08190924</td>\n      <td>Alexandra Daddario (Oct. 2022)</td>\n      <td>a close up of a woman in a white and black dress</td>\n      <td>a260fad067cd7a9ba23496e025de3fe4</td>\n      <td>/r/gentlemanboners/comments/13osh3e/alexandra_...</td>\n      <td>https://i.redd.it/rqpykhp96c1b1.png</td>\n      <td>13osh3e.jpg</td>\n      <td>data/image/13osh3e.jpg</td>\n      <td>PrettyGirlDiffusion</td>\n      <td>True</td>\n      <td>False</td>\n      <td>False</td>\n      <td>[]</td>\n    </tr>\n    <tr>\n      <th>3</th>\n      <td>13ry9kc</td>\n      <td>gentlemanboners</td>\n      <td>onesexymofo1</td>\n      <td>Natalie Portman</td>\n      <td>araffed - up of a woman in a red dress and sun...</td>\n      <td>01f6aa5f3c897f9eb925ab4d10619d41</td>\n      <td>/r/gentlemanboners/comments/13ry9kc/natalie_po...</td>\n      <td>https://i.imgur.com/qE1wEHz.jpg</td>\n      <td>13ry9kc.jpg</td>\n      <td>data/image/13ry9kc.jpg</td>\n      <td>PrettyGirlDiffusion</td>\n      <td>True</td>\n      <td>False</td>\n      <td>False</td>\n      <td>[]</td>\n    </tr>\n    <tr>\n      <th>4</th>\n      <td>13tua2l</td>\n      <td>gentlemanboners</td>\n      <td>chuboi991</td>\n      <td>Hannah Waddingham</td>\n      <td>a pregnant woman in a blue dress standing in a...</td>\n      <td>56d6d1d2f06aaccbb82d71f5456eec9a</td>\n      <td>/r/gentlemanboners/comments/13tua2l/hannah_wad...</td>\n      <td>https://i.redd.it/pa39y7hogk2b1.png</td>\n      <td>13tua2l.jpg</td>\n      <td>data/image/13tua2l.jpg</td>\n      <td>PrettyGirlDiffusion</td>\n      <td>True</td>\n      <td>False</td>\n      <td>False</td>\n      <td>[]</td>\n    </tr>\n  </tbody>\n</table>\n</div>"
     },
     "metadata": {},
     "output_type": "display_data"
    }
   ],
   "source": [
    "# @title Apply Captions\n",
    "\n",
    "with tqdm(desc=\"progress\") as pbar:\n",
    "\tfor i, row in ready_to_caption.iterrows():\n",
    "\t\tready_to_caption.loc[i, 'caption'] = functions.apply_caption(row, [caption_0, caption_0], file_system)\n",
    "\t\tpbar.update()\n",
    "\n",
    "display(\"== Data With Captions ==\")\n",
    "display(ready_to_caption.shape)\n",
    "display(ready_to_caption.head())"
   ],
   "metadata": {
    "collapsed": false,
    "ExecuteTime": {
     "end_time": "2023-06-19T00:07:22.642706400Z",
     "start_time": "2023-06-19T00:06:47.713047600Z"
    }
   }
  },
  {
   "cell_type": "code",
   "execution_count": 56,
   "outputs": [
    {
     "data": {
      "text/plain": "'== Dropped And Reset Data After Captioning =='"
     },
     "metadata": {},
     "output_type": "display_data"
    },
    {
     "data": {
      "text/plain": "(24, 15)"
     },
     "metadata": {},
     "output_type": "display_data"
    },
    {
     "data": {
      "text/plain": "              id        subreddit             author   \nid                                                     \n11qc33b  11qc33b  gentlemanboners       Halbkornbrot  \\\n11ssj7c  11ssj7c  gentlemanboners    SalisburyShrimp   \n13osh3e  13osh3e  gentlemanboners  throwaway08190924   \n13ry9kc  13ry9kc  gentlemanboners       onesexymofo1   \n13tua2l  13tua2l  gentlemanboners          chuboi991   \n\n                                  title   \nid                                        \n11qc33b                     Emma Watson  \\\n11ssj7c                    Betty Gilpin   \n13osh3e  Alexandra Daddario (Oct. 2022)   \n13ry9kc                 Natalie Portman   \n13tua2l               Hannah Waddingham   \n\n                                                   caption   \nid                                                           \n11qc33b  woman in a gray dress standing next to a dress...  \\\n11ssj7c  a close up of a woman in a purple dress posing...   \n13osh3e   a close up of a woman in a white and black dress   \n13ry9kc  araffed - up of a woman in a red dress and sun...   \n13tua2l  a pregnant woman in a blue dress standing in a...   \n\n                                     hash   \nid                                          \n11qc33b  5714acd1521779d9680709f8d53befd3  \\\n11ssj7c  387242123419666b40d370245f6d5415   \n13osh3e  a260fad067cd7a9ba23496e025de3fe4   \n13ry9kc  01f6aa5f3c897f9eb925ab4d10619d41   \n13tua2l  56d6d1d2f06aaccbb82d71f5456eec9a   \n\n                                                 permalink   \nid                                                           \n11qc33b   /r/gentlemanboners/comments/11qc33b/emma_watson/  \\\n11ssj7c  /r/gentlemanboners/comments/11ssj7c/betty_gilpin/   \n13osh3e  /r/gentlemanboners/comments/13osh3e/alexandra_...   \n13ry9kc  /r/gentlemanboners/comments/13ry9kc/natalie_po...   \n13tua2l  /r/gentlemanboners/comments/13tua2l/hannah_wad...   \n\n                                original_url   image_name   \nid                                                          \n11qc33b  https://i.redd.it/rp0kgb93uina1.png  11qc33b.jpg  \\\n11ssj7c  https://i.redd.it/gv7iv4cuf3oa1.png  11ssj7c.jpg   \n13osh3e  https://i.redd.it/rqpykhp96c1b1.png  13osh3e.jpg   \n13ry9kc      https://i.imgur.com/qE1wEHz.jpg  13ry9kc.jpg   \n13tua2l  https://i.redd.it/pa39y7hogk2b1.png  13tua2l.jpg   \n\n                           path                model  exists  curated accept   \nid                                                                             \n11qc33b  data/image/11qc33b.jpg  PrettyGirlDiffusion    True    False  False  \\\n11ssj7c  data/image/11ssj7c.jpg  PrettyGirlDiffusion    True    False  False   \n13osh3e  data/image/13osh3e.jpg  PrettyGirlDiffusion    True    False  False   \n13ry9kc  data/image/13ry9kc.jpg  PrettyGirlDiffusion    True    False  False   \n13tua2l  data/image/13tua2l.jpg  PrettyGirlDiffusion    True    False  False   \n\n        tags  \nid            \n11qc33b   []  \n11ssj7c   []  \n13osh3e   []  \n13ry9kc   []  \n13tua2l   []  ",
      "text/html": "<div>\n<style scoped>\n    .dataframe tbody tr th:only-of-type {\n        vertical-align: middle;\n    }\n\n    .dataframe tbody tr th {\n        vertical-align: top;\n    }\n\n    .dataframe thead th {\n        text-align: right;\n    }\n</style>\n<table border=\"1\" class=\"dataframe\">\n  <thead>\n    <tr style=\"text-align: right;\">\n      <th></th>\n      <th>id</th>\n      <th>subreddit</th>\n      <th>author</th>\n      <th>title</th>\n      <th>caption</th>\n      <th>hash</th>\n      <th>permalink</th>\n      <th>original_url</th>\n      <th>image_name</th>\n      <th>path</th>\n      <th>model</th>\n      <th>exists</th>\n      <th>curated</th>\n      <th>accept</th>\n      <th>tags</th>\n    </tr>\n    <tr>\n      <th>id</th>\n      <th></th>\n      <th></th>\n      <th></th>\n      <th></th>\n      <th></th>\n      <th></th>\n      <th></th>\n      <th></th>\n      <th></th>\n      <th></th>\n      <th></th>\n      <th></th>\n      <th></th>\n      <th></th>\n      <th></th>\n    </tr>\n  </thead>\n  <tbody>\n    <tr>\n      <th>11qc33b</th>\n      <td>11qc33b</td>\n      <td>gentlemanboners</td>\n      <td>Halbkornbrot</td>\n      <td>Emma Watson</td>\n      <td>woman in a gray dress standing next to a dress...</td>\n      <td>5714acd1521779d9680709f8d53befd3</td>\n      <td>/r/gentlemanboners/comments/11qc33b/emma_watson/</td>\n      <td>https://i.redd.it/rp0kgb93uina1.png</td>\n      <td>11qc33b.jpg</td>\n      <td>data/image/11qc33b.jpg</td>\n      <td>PrettyGirlDiffusion</td>\n      <td>True</td>\n      <td>False</td>\n      <td>False</td>\n      <td>[]</td>\n    </tr>\n    <tr>\n      <th>11ssj7c</th>\n      <td>11ssj7c</td>\n      <td>gentlemanboners</td>\n      <td>SalisburyShrimp</td>\n      <td>Betty Gilpin</td>\n      <td>a close up of a woman in a purple dress posing...</td>\n      <td>387242123419666b40d370245f6d5415</td>\n      <td>/r/gentlemanboners/comments/11ssj7c/betty_gilpin/</td>\n      <td>https://i.redd.it/gv7iv4cuf3oa1.png</td>\n      <td>11ssj7c.jpg</td>\n      <td>data/image/11ssj7c.jpg</td>\n      <td>PrettyGirlDiffusion</td>\n      <td>True</td>\n      <td>False</td>\n      <td>False</td>\n      <td>[]</td>\n    </tr>\n    <tr>\n      <th>13osh3e</th>\n      <td>13osh3e</td>\n      <td>gentlemanboners</td>\n      <td>throwaway08190924</td>\n      <td>Alexandra Daddario (Oct. 2022)</td>\n      <td>a close up of a woman in a white and black dress</td>\n      <td>a260fad067cd7a9ba23496e025de3fe4</td>\n      <td>/r/gentlemanboners/comments/13osh3e/alexandra_...</td>\n      <td>https://i.redd.it/rqpykhp96c1b1.png</td>\n      <td>13osh3e.jpg</td>\n      <td>data/image/13osh3e.jpg</td>\n      <td>PrettyGirlDiffusion</td>\n      <td>True</td>\n      <td>False</td>\n      <td>False</td>\n      <td>[]</td>\n    </tr>\n    <tr>\n      <th>13ry9kc</th>\n      <td>13ry9kc</td>\n      <td>gentlemanboners</td>\n      <td>onesexymofo1</td>\n      <td>Natalie Portman</td>\n      <td>araffed - up of a woman in a red dress and sun...</td>\n      <td>01f6aa5f3c897f9eb925ab4d10619d41</td>\n      <td>/r/gentlemanboners/comments/13ry9kc/natalie_po...</td>\n      <td>https://i.imgur.com/qE1wEHz.jpg</td>\n      <td>13ry9kc.jpg</td>\n      <td>data/image/13ry9kc.jpg</td>\n      <td>PrettyGirlDiffusion</td>\n      <td>True</td>\n      <td>False</td>\n      <td>False</td>\n      <td>[]</td>\n    </tr>\n    <tr>\n      <th>13tua2l</th>\n      <td>13tua2l</td>\n      <td>gentlemanboners</td>\n      <td>chuboi991</td>\n      <td>Hannah Waddingham</td>\n      <td>a pregnant woman in a blue dress standing in a...</td>\n      <td>56d6d1d2f06aaccbb82d71f5456eec9a</td>\n      <td>/r/gentlemanboners/comments/13tua2l/hannah_wad...</td>\n      <td>https://i.redd.it/pa39y7hogk2b1.png</td>\n      <td>13tua2l.jpg</td>\n      <td>data/image/13tua2l.jpg</td>\n      <td>PrettyGirlDiffusion</td>\n      <td>True</td>\n      <td>False</td>\n      <td>False</td>\n      <td>[]</td>\n    </tr>\n  </tbody>\n</table>\n</div>"
     },
     "metadata": {},
     "output_type": "display_data"
    }
   ],
   "source": [
    "# @title Drop Missing Captions\n",
    "\n",
    "dropped = ready_to_caption.dropna(axis=1, how='all')\n",
    "dropped.reset_index(drop=True, inplace=True)\n",
    "dropped.set_index(\"id\", inplace=True, drop=False)\n",
    "\n",
    "post_caption_drop = dropped.copy()\n",
    "\n",
    "display(\"== Dropped And Reset Data After Captioning ==\")\n",
    "display(post_caption_drop.shape)\n",
    "display(post_caption_drop.head())"
   ],
   "metadata": {
    "collapsed": false,
    "ExecuteTime": {
     "end_time": "2023-06-19T00:07:22.750726500Z",
     "start_time": "2023-06-19T00:07:22.644714600Z"
    }
   }
  },
  {
   "cell_type": "code",
   "execution_count": 58,
   "outputs": [
    {
     "data": {
      "text/plain": "'Extant Contains New: False - False'"
     },
     "metadata": {},
     "output_type": "display_data"
    }
   ],
   "source": [
    "# @title Ensure Valid\n",
    "\n",
    "bar = post_caption_drop.index.values\n",
    "\n",
    "display(f\"Extant Contains New: {extant_entity_list in list(bar)} - {list(bar) in extant_entity_list}\")"
   ],
   "metadata": {
    "collapsed": false,
    "ExecuteTime": {
     "end_time": "2023-06-19T00:34:46.975167400Z",
     "start_time": "2023-06-19T00:34:46.942392100Z"
    }
   }
  },
  {
   "cell_type": "code",
   "execution_count": 62,
   "outputs": [],
   "source": [
    "records = post_caption_drop.to_dict(orient='records')\n",
    "for record in records:\n",
    "\trecord['tags'] = json.dumps(record['tags'])\n",
    "\trecord['PartitionKey'] = record['subreddit']\n",
    "\trecord['RowKey'] = record['id']\n",
    "\tclient.upsert_entity(record)"
   ],
   "metadata": {
    "collapsed": false,
    "ExecuteTime": {
     "end_time": "2023-06-19T00:38:12.935648400Z",
     "start_time": "2023-06-19T00:38:11.946433600Z"
    }
   }
  }
 ],
 "metadata": {
  "kernelspec": {
   "display_name": "Python 3",
   "language": "python",
   "name": "python3"
  },
  "language_info": {
   "codemirror_mode": {
    "name": "ipython",
    "version": 2
   },
   "file_extension": ".py",
   "mimetype": "text/x-python",
   "name": "python",
   "nbconvert_exporter": "python",
   "pygments_lexer": "ipython2",
   "version": "2.7.6"
  }
 },
 "nbformat": 4,
 "nbformat_minor": 0
}
