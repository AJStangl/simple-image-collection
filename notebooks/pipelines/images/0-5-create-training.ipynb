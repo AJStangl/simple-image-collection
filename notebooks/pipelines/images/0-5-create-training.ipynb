{
 "cells": [
  {
   "cell_type": "code",
   "execution_count": 1,
   "metadata": {
    "collapsed": true,
    "ExecuteTime": {
     "end_time": "2023-05-29T11:52:51.864949100Z",
     "start_time": "2023-05-29T11:49:50.032356500Z"
    }
   },
   "outputs": [
    {
     "name": "stdout",
     "output_type": "stream",
     "text": [
      "CPU times: total: 5.34 s\n",
      "Wall time: 3min 1s\n"
     ]
    }
   ],
   "source": [
    "import os\n",
    "%%time\n",
    "\n",
    "from adlfs import AzureBlobFileSystem\n",
    "from common.functions.functions import Functions\n",
    "import time\n",
    "\n",
    "import json\n",
    "import pandas\n",
    "import pandas as pd\n",
    "from tqdm import tqdm\n",
    "\n",
    "from common.schemas.pyarrow_schema import tagging_schema\n",
    "from common.storage.azure_file_storage import AzureFileStorageAdapter\n",
    "from common.captioning.azure_descriptions import AzureCaption\n",
    "from common.schemas.pyarrow_schema import schema\n",
    "from PIL import Image\n",
    "import requests\n",
    "\n",
    "tqdm.pandas(desc=\"Progress\")\n",
    "file_system: AzureBlobFileSystem = AzureFileStorageAdapter('data').get_file_storage()\n",
    "\n",
    "functions: Functions = Functions()\n",
    "\n",
    "caption: AzureCaption = AzureCaption(file_system)"
   ]
  },
  {
   "cell_type": "code",
   "execution_count": 12,
   "outputs": [
    {
     "data": {
      "text/plain": "           id    subreddit           author   \n0     1013bdt     AmIhotAF      RaulDea9286  \\\n1     105mekt     AmIhotAF         lindaniz   \n2     105qvgl     AmIhotAF      CaitVLove11   \n3     105rpcj     AmIhotAF  Flashy-Desk1858   \n4     105styc     AmIhotAF     Gizzygirl127   \n...       ...          ...              ...   \n1353  10sx708  SFWRedheads      Delilaylayx   \n1354  10sybk7  SFWRedheads   SophiasSelfies   \n1355  10t11nz  SFWRedheads   Wallydinger123   \n1356  10te4ym  SFWRedheads      aurelie_027   \n1357  10tg0z4  SFWRedheads     emmapiperxxx   \n\n                                                  title   \n0                                         36F - ITALIAN  \\\n1        interesting in good forward relationship (f24)   \n2                             Laughing is my favorite 😆   \n3              [f22] What do you think when you see me?   \n4                              Low key… still bangable?   \n...                                                 ...   \n1353                             Lets go out for diner?   \n1354                                       Beach day 😁💕   \n1355                                         Lunch date   \n1356              is it too early to wish good morning?   \n1357  Good morning! I hope your weekend is as lovely...   \n\n                                                caption   \n0               arafed image of a woman in a bikini top  \\\n1     a close up of a woman with red hair and a whit...   \n2     a woman in a blue tank top and shorts is smili...   \n3       a woman in a blue bikini top and a blue bra top   \n4     smiling woman sitting on couch with remote con...   \n...                                                 ...   \n1353  a woman in a blue braille braille braille brai...   \n1354  a woman in a yellow bikini top and a yellow bi...   \n1355  a woman sitting at a table with a menu in fron...   \n1356  a woman with a black bra top and bra top bra t...   \n1357       a woman in a red dress standing on a rug rug   \n\n                                  hash   \n0     7c0d158cba8654ef1c635cbc5471d597  \\\n1     ba4a0962cca2266a741e1e1700589c04   \n2     27bfe82c37314a0bcf02ab72eaf3a9e5   \n3     329eb42b8267fa1cc2980da8e48bcef1   \n4     6d555943be4fbc21ff92417c6f582298   \n...                                ...   \n1353  616f67018f3105512aec4c20fcd34edb   \n1354  72ebde1b0cebc8f9b00d9c2a82043d07   \n1355  0abf63132d8fafe5c1c6bbc52b9875b6   \n1356  571edabdb7322a69325b03246de32cd1   \n1357  5fc06cbc51eeab0fc9e92dec7f95bfce   \n\n                                              permalink   \n0             /r/AmIhotAF/comments/1013bdt/36f_italian/  \\\n1     /r/AmIhotAF/comments/105mekt/interesting_in_go...   \n2     /r/AmIhotAF/comments/105qvgl/laughing_is_my_fa...   \n3     /r/AmIhotAF/comments/105rpcj/f22_what_do_you_t...   \n4     /r/AmIhotAF/comments/105styc/low_key_still_ban...   \n...                                                 ...   \n1353  /r/SFWRedheads/comments/10sx708/lets_go_out_fo...   \n1354         /r/SFWRedheads/comments/10sybk7/beach_day/   \n1355        /r/SFWRedheads/comments/10t11nz/lunch_date/   \n1356  /r/SFWRedheads/comments/10te4ym/is_it_too_earl...   \n1357  /r/SFWRedheads/comments/10tg0z4/good_morning_i...   \n\n                             original_url   image_name   \n0     https://i.redd.it/bg0wwdlt5k9a1.jpg  1013bdt.jpg  \\\n1     https://i.redd.it/4avjshsz8naa1.jpg  105mekt.jpg   \n2     https://i.redd.it/2pulzr0lxmaa1.jpg  105qvgl.jpg   \n3     https://i.redd.it/rz68pf934naa1.jpg  105rpcj.jpg   \n4     https://i.redd.it/aiaxxoz9uoaa1.jpg  105styc.jpg   \n...                                   ...          ...   \n1353  https://i.redd.it/0whemz6nb3ga1.jpg  10sx708.jpg   \n1354  https://i.redd.it/06mxlz9wj3ga1.jpg  10sybk7.jpg   \n1355      https://i.imgur.com/pmiQeDA.jpg  10t11nz.jpg   \n1356  https://i.redd.it/lu5gafe067ga1.jpg  10te4ym.jpg   \n1357  https://i.redd.it/0bazikmlp7ga1.jpg  10tg0z4.jpg   \n\n                        path  ... exists curated accept   \n0     data/image/1013bdt.jpg  ...   True    True   True  \\\n1     data/image/105mekt.jpg  ...   True    True   True   \n2     data/image/105qvgl.jpg  ...   True    True   True   \n3     data/image/105rpcj.jpg  ...   True    True   True   \n4     data/image/105styc.jpg  ...   True    True   True   \n...                      ...  ...    ...     ...    ...   \n1353  data/image/10sx708.jpg  ...   True    True   True   \n1354  data/image/10sybk7.jpg  ...   True    True   True   \n1355  data/image/10t11nz.jpg  ...   True    True   True   \n1356  data/image/10te4ym.jpg  ...   True    True   True   \n1357  data/image/10tg0z4.jpg  ...   True    True   True   \n\n                                                   tags   \n0     [person, human face, clothing, lady, smile, ch...  \\\n1     [person, human face, skin, eyelash, eyebrow, b...   \n2     [clothing, person, human face, smile, shoulder...   \n3     [person, human face, indoor, woman, chest, sho...   \n4     [person, human face, smile, clothing, woman, i...   \n...                                                 ...   \n1353                                                 []   \n1354                                                 []   \n1355                                                 []   \n1356                                                 []   \n1357                                                 []   \n\n                                          azure_caption   \n0                               a woman taking a selfie  \\\n1                               a woman taking a selfie   \n2                             a woman smiling at camera   \n3                               a woman taking a selfie   \n4                               a woman taking a selfie   \n...                                                 ...   \n1353                         a woman in a blue lingerie   \n1354                    a woman in a garment on a beach   \n1355  a woman sitting at a table with menus and a wi...   \n1356                         a woman in a black garment   \n1357                             a woman in a red dress   \n\n                        thumbnail_path thumbnail_exists thumbnail_curated   \n0     data/image/thumbnail/1013bdt.jpg             True              True  \\\n1     data/image/thumbnail/105mekt.jpg             True              True   \n2     data/image/thumbnail/105qvgl.jpg             True              True   \n3     data/image/thumbnail/105rpcj.jpg             True              True   \n4     data/image/thumbnail/105styc.jpg             True              True   \n...                                ...              ...               ...   \n1353  data/image/thumbnail/10sx708.jpg             True              True   \n1354  data/image/thumbnail/10sybk7.jpg             True              True   \n1355  data/image/thumbnail/10t11nz.jpg             True              True   \n1356  data/image/thumbnail/10te4ym.jpg             True              True   \n1357  data/image/thumbnail/10tg0z4.jpg             True              True   \n\n     thumbnail_accept                                additional_captions  \n0                True  [a woman taking a selfie, a close up of an eye...  \n1                True  [a close up of a person's eye, a woman taking ...  \n2                True  [a woman smiling at camera, a woman with long ...  \n3                True  [a woman taking a selfie, close up of a person...  \n4                True  [a woman smiling at the camera, close-up of a ...  \n...               ...                                                ...  \n1353             True  [a woman in a blue lingerie, a woman in a blue...  \n1354             True  [a woman in a garment on a beach, a woman taki...  \n1355             True  [a woman taking a selfie, a woman sitting at a...  \n1356             True  [a woman taking a selfie, a close up of a woma...  \n1357             True  [a woman in a red dress, a woman in a red dres...  \n\n[1358 rows x 21 columns]",
      "text/html": "<div>\n<style scoped>\n    .dataframe tbody tr th:only-of-type {\n        vertical-align: middle;\n    }\n\n    .dataframe tbody tr th {\n        vertical-align: top;\n    }\n\n    .dataframe thead th {\n        text-align: right;\n    }\n</style>\n<table border=\"1\" class=\"dataframe\">\n  <thead>\n    <tr style=\"text-align: right;\">\n      <th></th>\n      <th>id</th>\n      <th>subreddit</th>\n      <th>author</th>\n      <th>title</th>\n      <th>caption</th>\n      <th>hash</th>\n      <th>permalink</th>\n      <th>original_url</th>\n      <th>image_name</th>\n      <th>path</th>\n      <th>...</th>\n      <th>exists</th>\n      <th>curated</th>\n      <th>accept</th>\n      <th>tags</th>\n      <th>azure_caption</th>\n      <th>thumbnail_path</th>\n      <th>thumbnail_exists</th>\n      <th>thumbnail_curated</th>\n      <th>thumbnail_accept</th>\n      <th>additional_captions</th>\n    </tr>\n  </thead>\n  <tbody>\n    <tr>\n      <th>0</th>\n      <td>1013bdt</td>\n      <td>AmIhotAF</td>\n      <td>RaulDea9286</td>\n      <td>36F - ITALIAN</td>\n      <td>arafed image of a woman in a bikini top</td>\n      <td>7c0d158cba8654ef1c635cbc5471d597</td>\n      <td>/r/AmIhotAF/comments/1013bdt/36f_italian/</td>\n      <td>https://i.redd.it/bg0wwdlt5k9a1.jpg</td>\n      <td>1013bdt.jpg</td>\n      <td>data/image/1013bdt.jpg</td>\n      <td>...</td>\n      <td>True</td>\n      <td>True</td>\n      <td>True</td>\n      <td>[person, human face, clothing, lady, smile, ch...</td>\n      <td>a woman taking a selfie</td>\n      <td>data/image/thumbnail/1013bdt.jpg</td>\n      <td>True</td>\n      <td>True</td>\n      <td>True</td>\n      <td>[a woman taking a selfie, a close up of an eye...</td>\n    </tr>\n    <tr>\n      <th>1</th>\n      <td>105mekt</td>\n      <td>AmIhotAF</td>\n      <td>lindaniz</td>\n      <td>interesting in good forward relationship (f24)</td>\n      <td>a close up of a woman with red hair and a whit...</td>\n      <td>ba4a0962cca2266a741e1e1700589c04</td>\n      <td>/r/AmIhotAF/comments/105mekt/interesting_in_go...</td>\n      <td>https://i.redd.it/4avjshsz8naa1.jpg</td>\n      <td>105mekt.jpg</td>\n      <td>data/image/105mekt.jpg</td>\n      <td>...</td>\n      <td>True</td>\n      <td>True</td>\n      <td>True</td>\n      <td>[person, human face, skin, eyelash, eyebrow, b...</td>\n      <td>a woman taking a selfie</td>\n      <td>data/image/thumbnail/105mekt.jpg</td>\n      <td>True</td>\n      <td>True</td>\n      <td>True</td>\n      <td>[a close up of a person's eye, a woman taking ...</td>\n    </tr>\n    <tr>\n      <th>2</th>\n      <td>105qvgl</td>\n      <td>AmIhotAF</td>\n      <td>CaitVLove11</td>\n      <td>Laughing is my favorite 😆</td>\n      <td>a woman in a blue tank top and shorts is smili...</td>\n      <td>27bfe82c37314a0bcf02ab72eaf3a9e5</td>\n      <td>/r/AmIhotAF/comments/105qvgl/laughing_is_my_fa...</td>\n      <td>https://i.redd.it/2pulzr0lxmaa1.jpg</td>\n      <td>105qvgl.jpg</td>\n      <td>data/image/105qvgl.jpg</td>\n      <td>...</td>\n      <td>True</td>\n      <td>True</td>\n      <td>True</td>\n      <td>[clothing, person, human face, smile, shoulder...</td>\n      <td>a woman smiling at camera</td>\n      <td>data/image/thumbnail/105qvgl.jpg</td>\n      <td>True</td>\n      <td>True</td>\n      <td>True</td>\n      <td>[a woman smiling at camera, a woman with long ...</td>\n    </tr>\n    <tr>\n      <th>3</th>\n      <td>105rpcj</td>\n      <td>AmIhotAF</td>\n      <td>Flashy-Desk1858</td>\n      <td>[f22] What do you think when you see me?</td>\n      <td>a woman in a blue bikini top and a blue bra top</td>\n      <td>329eb42b8267fa1cc2980da8e48bcef1</td>\n      <td>/r/AmIhotAF/comments/105rpcj/f22_what_do_you_t...</td>\n      <td>https://i.redd.it/rz68pf934naa1.jpg</td>\n      <td>105rpcj.jpg</td>\n      <td>data/image/105rpcj.jpg</td>\n      <td>...</td>\n      <td>True</td>\n      <td>True</td>\n      <td>True</td>\n      <td>[person, human face, indoor, woman, chest, sho...</td>\n      <td>a woman taking a selfie</td>\n      <td>data/image/thumbnail/105rpcj.jpg</td>\n      <td>True</td>\n      <td>True</td>\n      <td>True</td>\n      <td>[a woman taking a selfie, close up of a person...</td>\n    </tr>\n    <tr>\n      <th>4</th>\n      <td>105styc</td>\n      <td>AmIhotAF</td>\n      <td>Gizzygirl127</td>\n      <td>Low key… still bangable?</td>\n      <td>smiling woman sitting on couch with remote con...</td>\n      <td>6d555943be4fbc21ff92417c6f582298</td>\n      <td>/r/AmIhotAF/comments/105styc/low_key_still_ban...</td>\n      <td>https://i.redd.it/aiaxxoz9uoaa1.jpg</td>\n      <td>105styc.jpg</td>\n      <td>data/image/105styc.jpg</td>\n      <td>...</td>\n      <td>True</td>\n      <td>True</td>\n      <td>True</td>\n      <td>[person, human face, smile, clothing, woman, i...</td>\n      <td>a woman taking a selfie</td>\n      <td>data/image/thumbnail/105styc.jpg</td>\n      <td>True</td>\n      <td>True</td>\n      <td>True</td>\n      <td>[a woman smiling at the camera, close-up of a ...</td>\n    </tr>\n    <tr>\n      <th>...</th>\n      <td>...</td>\n      <td>...</td>\n      <td>...</td>\n      <td>...</td>\n      <td>...</td>\n      <td>...</td>\n      <td>...</td>\n      <td>...</td>\n      <td>...</td>\n      <td>...</td>\n      <td>...</td>\n      <td>...</td>\n      <td>...</td>\n      <td>...</td>\n      <td>...</td>\n      <td>...</td>\n      <td>...</td>\n      <td>...</td>\n      <td>...</td>\n      <td>...</td>\n      <td>...</td>\n    </tr>\n    <tr>\n      <th>1353</th>\n      <td>10sx708</td>\n      <td>SFWRedheads</td>\n      <td>Delilaylayx</td>\n      <td>Lets go out for diner?</td>\n      <td>a woman in a blue braille braille braille brai...</td>\n      <td>616f67018f3105512aec4c20fcd34edb</td>\n      <td>/r/SFWRedheads/comments/10sx708/lets_go_out_fo...</td>\n      <td>https://i.redd.it/0whemz6nb3ga1.jpg</td>\n      <td>10sx708.jpg</td>\n      <td>data/image/10sx708.jpg</td>\n      <td>...</td>\n      <td>True</td>\n      <td>True</td>\n      <td>True</td>\n      <td>[]</td>\n      <td>a woman in a blue lingerie</td>\n      <td>data/image/thumbnail/10sx708.jpg</td>\n      <td>True</td>\n      <td>True</td>\n      <td>True</td>\n      <td>[a woman in a blue lingerie, a woman in a blue...</td>\n    </tr>\n    <tr>\n      <th>1354</th>\n      <td>10sybk7</td>\n      <td>SFWRedheads</td>\n      <td>SophiasSelfies</td>\n      <td>Beach day 😁💕</td>\n      <td>a woman in a yellow bikini top and a yellow bi...</td>\n      <td>72ebde1b0cebc8f9b00d9c2a82043d07</td>\n      <td>/r/SFWRedheads/comments/10sybk7/beach_day/</td>\n      <td>https://i.redd.it/06mxlz9wj3ga1.jpg</td>\n      <td>10sybk7.jpg</td>\n      <td>data/image/10sybk7.jpg</td>\n      <td>...</td>\n      <td>True</td>\n      <td>True</td>\n      <td>True</td>\n      <td>[]</td>\n      <td>a woman in a garment on a beach</td>\n      <td>data/image/thumbnail/10sybk7.jpg</td>\n      <td>True</td>\n      <td>True</td>\n      <td>True</td>\n      <td>[a woman in a garment on a beach, a woman taki...</td>\n    </tr>\n    <tr>\n      <th>1355</th>\n      <td>10t11nz</td>\n      <td>SFWRedheads</td>\n      <td>Wallydinger123</td>\n      <td>Lunch date</td>\n      <td>a woman sitting at a table with a menu in fron...</td>\n      <td>0abf63132d8fafe5c1c6bbc52b9875b6</td>\n      <td>/r/SFWRedheads/comments/10t11nz/lunch_date/</td>\n      <td>https://i.imgur.com/pmiQeDA.jpg</td>\n      <td>10t11nz.jpg</td>\n      <td>data/image/10t11nz.jpg</td>\n      <td>...</td>\n      <td>True</td>\n      <td>True</td>\n      <td>True</td>\n      <td>[]</td>\n      <td>a woman sitting at a table with menus and a wi...</td>\n      <td>data/image/thumbnail/10t11nz.jpg</td>\n      <td>True</td>\n      <td>True</td>\n      <td>True</td>\n      <td>[a woman taking a selfie, a woman sitting at a...</td>\n    </tr>\n    <tr>\n      <th>1356</th>\n      <td>10te4ym</td>\n      <td>SFWRedheads</td>\n      <td>aurelie_027</td>\n      <td>is it too early to wish good morning?</td>\n      <td>a woman with a black bra top and bra top bra t...</td>\n      <td>571edabdb7322a69325b03246de32cd1</td>\n      <td>/r/SFWRedheads/comments/10te4ym/is_it_too_earl...</td>\n      <td>https://i.redd.it/lu5gafe067ga1.jpg</td>\n      <td>10te4ym.jpg</td>\n      <td>data/image/10te4ym.jpg</td>\n      <td>...</td>\n      <td>True</td>\n      <td>True</td>\n      <td>True</td>\n      <td>[]</td>\n      <td>a woman in a black garment</td>\n      <td>data/image/thumbnail/10te4ym.jpg</td>\n      <td>True</td>\n      <td>True</td>\n      <td>True</td>\n      <td>[a woman taking a selfie, a close up of a woma...</td>\n    </tr>\n    <tr>\n      <th>1357</th>\n      <td>10tg0z4</td>\n      <td>SFWRedheads</td>\n      <td>emmapiperxxx</td>\n      <td>Good morning! I hope your weekend is as lovely...</td>\n      <td>a woman in a red dress standing on a rug rug</td>\n      <td>5fc06cbc51eeab0fc9e92dec7f95bfce</td>\n      <td>/r/SFWRedheads/comments/10tg0z4/good_morning_i...</td>\n      <td>https://i.redd.it/0bazikmlp7ga1.jpg</td>\n      <td>10tg0z4.jpg</td>\n      <td>data/image/10tg0z4.jpg</td>\n      <td>...</td>\n      <td>True</td>\n      <td>True</td>\n      <td>True</td>\n      <td>[]</td>\n      <td>a woman in a red dress</td>\n      <td>data/image/thumbnail/10tg0z4.jpg</td>\n      <td>True</td>\n      <td>True</td>\n      <td>True</td>\n      <td>[a woman in a red dress, a woman in a red dres...</td>\n    </tr>\n  </tbody>\n</table>\n<p>1358 rows × 21 columns</p>\n</div>"
     },
     "metadata": {},
     "output_type": "display_data"
    }
   ],
   "source": [
    "df: pandas.DataFrame = pandas.read_parquet('data/parquet/thumbnail_curation.parquet', engine='pyarrow',\n",
    "\t\t\t\t\t\t\t\t\t\t   filesystem=file_system)\n",
    "\n",
    "sexy = df.where(\n",
    "\t(df['model'] == 'SexyDiffusion') |\n",
    "\t(df['model'] == 'SWFPetite') |\n",
    "\t(df['model'] == 'RedHeadDiffusion') |\n",
    "\t(df['model'] == 'NextDoorGirlsDiffusion') |\n",
    "\t(df['model'] == 'SexyAsianDiffusion') |\n",
    "\t(df['model'] == 'PrettyGirlDiffusion'))\n",
    "\n",
    "sexy = sexy.where(df['thumbnail_accept'] == True)\n",
    "\n",
    "sexy.dropna(inplace=True)\n",
    "sexy.reset_index(inplace=True, drop=True)\n",
    "\n",
    "display(sexy)"
   ],
   "metadata": {
    "collapsed": false,
    "ExecuteTime": {
     "end_time": "2023-05-29T12:06:32.439753600Z",
     "start_time": "2023-05-29T12:06:31.449811300Z"
    }
   }
  },
  {
   "cell_type": "code",
   "execution_count": null,
   "outputs": [],
   "source": [
    "os.makedirs('data', exist_ok=True)"
   ],
   "metadata": {
    "collapsed": false
   }
  },
  {
   "cell_type": "code",
   "execution_count": 23,
   "outputs": [
    {
     "data": {
      "text/plain": "        file_name                                               text\n0     1013bdt.jpg  [a close up of an eye, arafed image of a woman...\n1     105mekt.jpg  [a close up of a woman with red hair and a whi...\n2     105qvgl.jpg  [a close-up of a woman's face, a person wearin...\n3     105rpcj.jpg  [a woman in a blue bikini top and a blue bra t...\n4     105styc.jpg  [Low key… still bangable?, a close up of a per...\n...           ...                                                ...\n1353  10sx708.jpg  [a woman in a blue garment, a woman in a blue ...\n1354  10sybk7.jpg  [Beach day 😁💕, a woman wearing a yellow garmen...\n1355  10t11nz.jpg  [a woman sitting at a table with menus and a w...\n1356  10te4ym.jpg  [close up of a person's face, a woman with a b...\n1357  10tg0z4.jpg  [a woman wearing a red dress, a woman in a red...\n\n[1358 rows x 2 columns]",
      "text/html": "<div>\n<style scoped>\n    .dataframe tbody tr th:only-of-type {\n        vertical-align: middle;\n    }\n\n    .dataframe tbody tr th {\n        vertical-align: top;\n    }\n\n    .dataframe thead th {\n        text-align: right;\n    }\n</style>\n<table border=\"1\" class=\"dataframe\">\n  <thead>\n    <tr style=\"text-align: right;\">\n      <th></th>\n      <th>file_name</th>\n      <th>text</th>\n    </tr>\n  </thead>\n  <tbody>\n    <tr>\n      <th>0</th>\n      <td>1013bdt.jpg</td>\n      <td>[a close up of an eye, arafed image of a woman...</td>\n    </tr>\n    <tr>\n      <th>1</th>\n      <td>105mekt.jpg</td>\n      <td>[a close up of a woman with red hair and a whi...</td>\n    </tr>\n    <tr>\n      <th>2</th>\n      <td>105qvgl.jpg</td>\n      <td>[a close-up of a woman's face, a person wearin...</td>\n    </tr>\n    <tr>\n      <th>3</th>\n      <td>105rpcj.jpg</td>\n      <td>[a woman in a blue bikini top and a blue bra t...</td>\n    </tr>\n    <tr>\n      <th>4</th>\n      <td>105styc.jpg</td>\n      <td>[Low key… still bangable?, a close up of a per...</td>\n    </tr>\n    <tr>\n      <th>...</th>\n      <td>...</td>\n      <td>...</td>\n    </tr>\n    <tr>\n      <th>1353</th>\n      <td>10sx708.jpg</td>\n      <td>[a woman in a blue garment, a woman in a blue ...</td>\n    </tr>\n    <tr>\n      <th>1354</th>\n      <td>10sybk7.jpg</td>\n      <td>[Beach day 😁💕, a woman wearing a yellow garmen...</td>\n    </tr>\n    <tr>\n      <th>1355</th>\n      <td>10t11nz.jpg</td>\n      <td>[a woman sitting at a table with menus and a w...</td>\n    </tr>\n    <tr>\n      <th>1356</th>\n      <td>10te4ym.jpg</td>\n      <td>[close up of a person's face, a woman with a b...</td>\n    </tr>\n    <tr>\n      <th>1357</th>\n      <td>10tg0z4.jpg</td>\n      <td>[a woman wearing a red dress, a woman in a red...</td>\n    </tr>\n  </tbody>\n</table>\n<p>1358 rows × 2 columns</p>\n</div>"
     },
     "metadata": {},
     "output_type": "display_data"
    }
   ],
   "source": [
    "lines = []\n",
    "for elem in sexy.to_dict(orient='records'):\n",
    "\timage_name = elem['image_name']\n",
    "\tcaptions = elem['additional_captions'].tolist()\n",
    "\tcaptions.append(elem['azure_caption'])\n",
    "\tcaptions.append(elem['caption'])\n",
    "\tcaptions.append(elem['title'])\n",
    "\tcaptions = list(set(captions))\n",
    "\tdata_row = {'file_name': image_name, 'text': captions}\n",
    "\tlines.append(data_row)\n",
    "\tfile_system.cp( f'data/image/thumbnail/{image_name}', 'data/training/sexy')\n",
    "\n",
    "df = pandas.DataFrame(data=lines)\n",
    "display(df)"
   ],
   "metadata": {
    "collapsed": false,
    "ExecuteTime": {
     "end_time": "2023-05-29T12:27:39.357801100Z",
     "start_time": "2023-05-29T12:22:24.123985900Z"
    }
   }
  },
  {
   "cell_type": "code",
   "execution_count": 25,
   "outputs": [
    {
     "data": {
      "text/plain": "[None]"
     },
     "execution_count": 25,
     "metadata": {},
     "output_type": "execute_result"
    }
   ],
   "source": [
    "df.to_json('metadata.jsonl', orient='records', lines=True)\n",
    "\n",
    "file_system.upload('metadata.jsonl', 'data/training/sexy')"
   ],
   "metadata": {
    "collapsed": false,
    "ExecuteTime": {
     "end_time": "2023-05-29T12:28:17.392349100Z",
     "start_time": "2023-05-29T12:28:16.810349200Z"
    }
   }
  },
  {
   "cell_type": "code",
   "execution_count": 31,
   "outputs": [],
   "source": [
    "gpt_lines = []\n",
    "for record in sexy.to_dict(orient='records'):\n",
    "\tname = record['model']\n",
    "\tprompt = record['title']\n",
    "\tcaptions = record['additional_captions'].tolist()\n",
    "\tcaptions.append(record['azure_caption'])\n",
    "\tcaptions.append(record['caption'])\n",
    "\tcaptions.append(record['title'])\n",
    "\tcaptions = list(set(captions))\n",
    "\tfor caption in captions:\n",
    "\t\tline = f\"<|startoftext|><|model|>SexyGirl<|prompt|>{prompt}<|text|>{caption}<|endoftext|>\" + \"\\n\"\n",
    "\t\tgpt_lines.append(line)\n",
    "\n",
    "with open(\"training.txt\", \"wb\") as f:\n",
    "\tfor line in gpt_lines:\n",
    "\t\tf.write(line.encode(\"utf-8\"))"
   ],
   "metadata": {
    "collapsed": false,
    "ExecuteTime": {
     "end_time": "2023-05-29T13:21:16.702495800Z",
     "start_time": "2023-05-29T13:21:16.496497100Z"
    }
   }
  },
  {
   "cell_type": "code",
   "execution_count": 33,
   "outputs": [
    {
     "data": {
      "text/plain": "[None]"
     },
     "execution_count": 33,
     "metadata": {},
     "output_type": "execute_result"
    }
   ],
   "source": [
    "file_system.upload('training.txt', 'data/training/sexy_gpt.txt', overwrite=True)"
   ],
   "metadata": {
    "collapsed": false,
    "ExecuteTime": {
     "end_time": "2023-05-29T13:21:32.215848200Z",
     "start_time": "2023-05-29T13:21:31.458508600Z"
    }
   }
  },
  {
   "cell_type": "code",
   "execution_count": 34,
   "outputs": [
    {
     "data": {
      "text/plain": "['data/training/sexy_gpt.txt']"
     },
     "execution_count": 34,
     "metadata": {},
     "output_type": "execute_result"
    }
   ],
   "source": [
    "file_system.ls('data/training/sexy_gpt.txt')"
   ],
   "metadata": {
    "collapsed": false,
    "ExecuteTime": {
     "end_time": "2023-05-29T13:21:34.021848100Z",
     "start_time": "2023-05-29T13:21:33.939849300Z"
    }
   }
  },
  {
   "cell_type": "code",
   "execution_count": 40,
   "outputs": [
    {
     "data": {
      "text/plain": "[None,\n None,\n None,\n None,\n None,\n None,\n None,\n None,\n None,\n None,\n None,\n None,\n None,\n None,\n None,\n None,\n None,\n None,\n None,\n None,\n None,\n None,\n None,\n None,\n None,\n None,\n None,\n None,\n None,\n None,\n None,\n None,\n None,\n None,\n None,\n None,\n None,\n None,\n None,\n None,\n None,\n None,\n None,\n None,\n None,\n None,\n None,\n None,\n None,\n None,\n None,\n None,\n None,\n None,\n None,\n None,\n None,\n None,\n None,\n None,\n None,\n None,\n None,\n None,\n None,\n None,\n None,\n None,\n None,\n None,\n None,\n None,\n None,\n None,\n None,\n None,\n None,\n None,\n None,\n None,\n None,\n None,\n None,\n None,\n None,\n None,\n None,\n None,\n None,\n None,\n None,\n None,\n None,\n None,\n None,\n None,\n None,\n None,\n None,\n None,\n None,\n None,\n None,\n None,\n None,\n None,\n None,\n None,\n None,\n None,\n None,\n None,\n None,\n None,\n None,\n None,\n None,\n None,\n None,\n None,\n None,\n None,\n None,\n None,\n None,\n None,\n None,\n None,\n None,\n None,\n None,\n None,\n None,\n None,\n None,\n None,\n None,\n None,\n None,\n None,\n None,\n None,\n None,\n None,\n None,\n None,\n None,\n None,\n None,\n None,\n None,\n None,\n None,\n None,\n None,\n None,\n None,\n None,\n None,\n None,\n None,\n None,\n None,\n None,\n None,\n None,\n None,\n None,\n None,\n None,\n None,\n None,\n None,\n None,\n None,\n None,\n None,\n None,\n None,\n None,\n None,\n None,\n None,\n None,\n None,\n None,\n None,\n None,\n None,\n None,\n None,\n None,\n None,\n None,\n None,\n None,\n None,\n None,\n None,\n None,\n None,\n None,\n None,\n None,\n None,\n None,\n None,\n None,\n None,\n None,\n None,\n None,\n None,\n None,\n None,\n None,\n None,\n None,\n None,\n None,\n None,\n None,\n None,\n None,\n None,\n None,\n None,\n None,\n None,\n None,\n None,\n None,\n None,\n None,\n None,\n None,\n None,\n None,\n None,\n None,\n None,\n None,\n None,\n None,\n None,\n None,\n None,\n None,\n None,\n None,\n None,\n None,\n None,\n None,\n None,\n None,\n None,\n None,\n None,\n None,\n None,\n None,\n None,\n None,\n None,\n None,\n None,\n None,\n None,\n None,\n None,\n None,\n None,\n None,\n None,\n None,\n None,\n None,\n None,\n None,\n None,\n None,\n None,\n None,\n None,\n None,\n None,\n None,\n None,\n None,\n None,\n None,\n None,\n None,\n None,\n None,\n None,\n None,\n None,\n None,\n None,\n None,\n None,\n None,\n None,\n None,\n None,\n None,\n None,\n None,\n None,\n None,\n None,\n None,\n None,\n None,\n None,\n None,\n None,\n None,\n None,\n None,\n None,\n None,\n None,\n None,\n None,\n None,\n None,\n None,\n None,\n None,\n None,\n None,\n None,\n None,\n None,\n None,\n None,\n None,\n None,\n None,\n None,\n None,\n None,\n None,\n None,\n None,\n None,\n None,\n None,\n None,\n None,\n None,\n None,\n None,\n None,\n None,\n None,\n None,\n None,\n None,\n None,\n None,\n None,\n None,\n None,\n None,\n None,\n None,\n None,\n None,\n None,\n None,\n None,\n None,\n None,\n None,\n None,\n None,\n None,\n None,\n None,\n None,\n None,\n None,\n None,\n None,\n None,\n None,\n None,\n None,\n None,\n None,\n None,\n None,\n None,\n None,\n None,\n None,\n None,\n None,\n None,\n None,\n None,\n None,\n None,\n None,\n None,\n None,\n None,\n None,\n None,\n None,\n None,\n None,\n None,\n None,\n None,\n None,\n None,\n None,\n None,\n None,\n None,\n None,\n None,\n None,\n None,\n None,\n None,\n None,\n None,\n None,\n None,\n None,\n None,\n None,\n None,\n None,\n None,\n None,\n None,\n None,\n None,\n None,\n None,\n None,\n None,\n None,\n None,\n None,\n None,\n None,\n None,\n None,\n None,\n None,\n None,\n None,\n None,\n None,\n None,\n None,\n None,\n None,\n None,\n None,\n None,\n None,\n None,\n None,\n None,\n None,\n None,\n None,\n None,\n None,\n None,\n None,\n None,\n None,\n None,\n None,\n None,\n None,\n None,\n None,\n None,\n None,\n None,\n None,\n None,\n None,\n None,\n None,\n None,\n None,\n None,\n None,\n None,\n None,\n None,\n None,\n None,\n None,\n None,\n None,\n None,\n None,\n None,\n None,\n None,\n None,\n None,\n None,\n None,\n None,\n None,\n None,\n None,\n None,\n None,\n None,\n None,\n None,\n None,\n None,\n None,\n None,\n None,\n None,\n None,\n None,\n None,\n None,\n None,\n None,\n None,\n None,\n None,\n None,\n None,\n None,\n None,\n None,\n None,\n None,\n None,\n None,\n None,\n None,\n None,\n None,\n None,\n None,\n None,\n None,\n None,\n None,\n None,\n None,\n None,\n None,\n None,\n None,\n None,\n None,\n None,\n None,\n None,\n None,\n None,\n None,\n None,\n None,\n None,\n None,\n None,\n None,\n None,\n None,\n None,\n None,\n None,\n None,\n None,\n None,\n None,\n None,\n None,\n None,\n None,\n None,\n None,\n None,\n None,\n None,\n None,\n None,\n None,\n None,\n None,\n None,\n None,\n None,\n None,\n None,\n None,\n None,\n None,\n None,\n None,\n None,\n None,\n None,\n None,\n None,\n None,\n None,\n None,\n None,\n None,\n None,\n None,\n None,\n None,\n None,\n None,\n None,\n None,\n None,\n None,\n None,\n None,\n None,\n None,\n None,\n None,\n None,\n None,\n None,\n None,\n None,\n None,\n None,\n None,\n None,\n None,\n None,\n None,\n None,\n None,\n None,\n None,\n None,\n None,\n None,\n None,\n None,\n None,\n None,\n None,\n None,\n None,\n None,\n None,\n None,\n None,\n None,\n None,\n None,\n None,\n None,\n None,\n None,\n None,\n None,\n None,\n None,\n None,\n None,\n None,\n None,\n None,\n None,\n None,\n None,\n None,\n None,\n None,\n None,\n None,\n None,\n None,\n None,\n None,\n None,\n None,\n None,\n None,\n None,\n None,\n None,\n None,\n None,\n None,\n None,\n None,\n None,\n None,\n None,\n None,\n None,\n None,\n None,\n None,\n None,\n None,\n None,\n None,\n None,\n None,\n None,\n None,\n None,\n None,\n None,\n None,\n None,\n None,\n None,\n None,\n None,\n None,\n None,\n None,\n None,\n None,\n None,\n None,\n None,\n None,\n None,\n None,\n None,\n None,\n None,\n None,\n None,\n None,\n None,\n None,\n None,\n None,\n None,\n None,\n None,\n None,\n None,\n None,\n None,\n None,\n None,\n None,\n None,\n None,\n None,\n None,\n None,\n None,\n None,\n None,\n None,\n None,\n None,\n None,\n None,\n None,\n None,\n None,\n None,\n None,\n None,\n None,\n None,\n None,\n None,\n None,\n None,\n None,\n None,\n None,\n None,\n None,\n None,\n None,\n None,\n None,\n None,\n None,\n None,\n None,\n None,\n None,\n None,\n None,\n None,\n None,\n None,\n None,\n None,\n None,\n None,\n None,\n None,\n None,\n None,\n None,\n None,\n None,\n None,\n None,\n None,\n None,\n None,\n None,\n None,\n None,\n None,\n None,\n None,\n None,\n None,\n None,\n None,\n None,\n None,\n None,\n None,\n None,\n None,\n None,\n None,\n None,\n None,\n None,\n None,\n None,\n None,\n None,\n None,\n None,\n None,\n None,\n None,\n None,\n None,\n None,\n None,\n None,\n None,\n None,\n None,\n None,\n None,\n None,\n None,\n None,\n None,\n None,\n None,\n None,\n None,\n None,\n None,\n None,\n None,\n None,\n None,\n None,\n None,\n None,\n None,\n None,\n None,\n None,\n None,\n None,\n None,\n None,\n None,\n None,\n None,\n None,\n None,\n None,\n None,\n None,\n None,\n None,\n None,\n None,\n None,\n None,\n None,\n None,\n None,\n None,\n None,\n None,\n None,\n None,\n None,\n None,\n None,\n None,\n None,\n None,\n None,\n None,\n None,\n None,\n None,\n None,\n None,\n None,\n None,\n None,\n None,\n None,\n None,\n None,\n None,\n None,\n None,\n None,\n None,\n None,\n None,\n None,\n None,\n None,\n None,\n None,\n None,\n None,\n None,\n None,\n None,\n None,\n None,\n None,\n None,\n None,\n None,\n None,\n None,\n None,\n None,\n None,\n None,\n None,\n None,\n None,\n None,\n None,\n None,\n None,\n None,\n None,\n None,\n None,\n None,\n None,\n None,\n None,\n None,\n None,\n None,\n None,\n None,\n None,\n None,\n None,\n None,\n None,\n None,\n None,\n None,\n None,\n None,\n None,\n None,\n None,\n None,\n None,\n None,\n None,\n None,\n ...]"
     },
     "execution_count": 40,
     "metadata": {},
     "output_type": "execute_result"
    }
   ],
   "source": [
    "file_system.upload('sexy', 'data/sexy', recursive=True)"
   ],
   "metadata": {
    "collapsed": false,
    "ExecuteTime": {
     "end_time": "2023-05-29T13:45:05.130135800Z",
     "start_time": "2023-05-29T13:44:07.462181500Z"
    }
   }
  }
 ],
 "metadata": {
  "kernelspec": {
   "display_name": "Python 3",
   "language": "python",
   "name": "python3"
  },
  "language_info": {
   "codemirror_mode": {
    "name": "ipython",
    "version": 2
   },
   "file_extension": ".py",
   "mimetype": "text/x-python",
   "name": "python",
   "nbconvert_exporter": "python",
   "pygments_lexer": "ipython2",
   "version": "2.7.6"
  }
 },
 "nbformat": 4,
 "nbformat_minor": 0
}
