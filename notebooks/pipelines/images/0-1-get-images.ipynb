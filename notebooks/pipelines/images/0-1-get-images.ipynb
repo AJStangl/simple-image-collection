{
 "cells": [
  {
   "cell_type": "code",
   "execution_count": 1,
   "outputs": [
    {
     "data": {
      "text/plain": "'==== Starting 0-1 Image Acquisition ===='"
     },
     "metadata": {},
     "output_type": "display_data"
    },
    {
     "name": "stdout",
     "output_type": "stream",
     "text": [
      "CPU times: total: 2.41 s\n",
      "Wall time: 2.45 s\n"
     ]
    }
   ],
   "source": [
    "%%time\n",
    "\n",
    "display(\"==== Starting 0-1 Image Acquisition ====\")\n",
    "\n",
    "import datetime as dt\n",
    "import os\n",
    "from datetime import datetime\n",
    "import pandas\n",
    "import pandas as pd\n",
    "import praw\n",
    "from praw.models import ListingGenerator\n",
    "from tqdm import tqdm\n",
    "\n",
    "from common.captioning.caption import BlipCaption\n",
    "from common.schemas.pyarrow_schema import schema\n",
    "from common.storage.azure_file_storage import AzureFileStorageAdapter\n",
    "from common.functions.functions import Functions\n",
    "\n",
    "tqdm.pandas(desc=\"Progress\")\n",
    "\n",
    "file_system = AzureFileStorageAdapter('data').get_file_storage()\n",
    "\n",
    "functions: Functions = Functions()"
   ],
   "metadata": {
    "collapsed": false,
    "ExecuteTime": {
     "end_time": "2023-05-25T23:14:59.980818200Z",
     "start_time": "2023-05-25T23:14:57.511542400Z"
    }
   }
  },
  {
   "cell_type": "code",
   "execution_count": 2,
   "outputs": [
    {
     "name": "stdout",
     "output_type": "stream",
     "text": [
      "CPU times: total: 0 ns\n",
      "Wall time: 0 ns\n"
     ]
    }
   ],
   "source": [
    "%%time\n",
    "\n",
    "# \"memes\",\"CityPorn\", \"EarthPorn\", \"spaceporn\",\t\"itookapicture\", \"trippinthroughtime\"\n",
    "subs = [\n",
    "\t\"SFWRedheads\",\n",
    "\t\"sfwpetite\",\n",
    "\t\"SFWNextDoorGirls\",\n",
    "\t\"fatsquirrelhate\",\n",
    "\t\"realasians\",\n",
    "\t\"KoreanHotties\",\n",
    "\t\"prettyasiangirls\",\n",
    "\t\"AsianOfficeLady\",\n",
    "\t\"mildlypenis\",\n",
    "\t\"AsianInvasion\",\n",
    "\t\"sexygirls\",\n",
    "\t\"PrettyGirls\",\n",
    "\t\"gentlemanboners\",\n",
    "\t\"hotofficegirls\",\n",
    "\t\"tightdresses\",\n",
    "\t\"DLAH\",\n",
    "\t\"bathandbodyworks\",\n",
    "\t\"AesPleasingAsianGirls\"\n",
    "]"
   ],
   "metadata": {
    "collapsed": false,
    "ExecuteTime": {
     "end_time": "2023-05-25T23:15:00.025476800Z",
     "start_time": "2023-05-25T23:14:59.982880Z"
    }
   }
  },
  {
   "cell_type": "code",
   "execution_count": 3,
   "outputs": [
    {
     "name": "stdout",
     "output_type": "stream",
     "text": [
      "CPU times: total: 0 ns\n",
      "Wall time: 0 ns\n"
     ]
    }
   ],
   "source": [
    "%%time\n",
    "\n",
    "sources = [\n",
    "\t{\"name\": \"CityDiffusion\", \"data\": [\"CityPorn\"]},\n",
    "\t{\"name\": \"NatureDiffusion\", \"data\": [\"EarthPorn\"]},\n",
    "\t{\"name\": \"CosmicDiffusion\", \"data\": [\"spaceporn\"]},\n",
    "\t{\"name\": \"ITAPDiffusion\", \"data\": [\"itookapicture\"]},\n",
    "\t{\"name\": \"MemeDiffusion\", \"data\": [\"memes\"]},\n",
    "\t{\"name\": \"TTTDiffusion\", \"data\": [\"trippinthroughtime\"]},\n",
    "\t{\"name\": \"WallStreetDiffusion\", \"data\": [\"wallstreetbets\"]},\n",
    "\t{\"name\": \"SexyDiffusion\", \"data\": [\"selfies\", \"Amicute\", \"amihot\", \"AmIhotAF\", \"HotGirlNextDoor\"]},\n",
    "\t{\"name\": \"FatSquirrelDiffusion\", \"data\": [\"fatsquirrelhate\"]},\n",
    "\t{\"name\": \"CelebrityDiffusion\", \"data\": [\"celebrities\"]},\n",
    "\t{\"name\": \"OldLadyDiffusion\", \"data\": [\"oldladiesbakingpies\"]},\n",
    "\t{\"name\": \"SWFPetite\", \"data\": [\"sfwpetite\"]},\n",
    "\t{\"name\": \"SFWMilfs\", \"data\": [\"cougars_and_milfs_sfw\"]},\n",
    "\t{\"name\": \"RedHeadDiffusion\", \"data\": [\"SFWRedheads\"]},\n",
    "\t{\"name\": \"NextDoorGirlsDiffusion\", \"data\": [\"SFWNextDoorGirls\"]},\n",
    "\t{\"name\": \"SexyAsianDiffusion\",\"data\": [\"realasians\", \"KoreanHotties\", \"prettyasiangirls\", \"AsianOfficeLady\", \"AsianInvasion\",\"AesPleasingAsianGirls\"]},\n",
    "\t{\"name\": \"MildlyPenisDiffusion\", \"data\": [\"mildlypenis\"]},\n",
    "\t{\"name\": \"PrettyGirlDiffusion\",\"data\": [\"sexygirls\", \"PrettyGirls\", \"gentlemanboners\" \"hotofficegirls\", \"tightdresses\", \"DLAH\"]},{\"name\": \"CandleDiffusion\", \"data\": [\"bathandbodyworks\"]}\n",
    "]\n",
    "sources_df = pd.DataFrame.from_records(sources)"
   ],
   "metadata": {
    "collapsed": false,
    "ExecuteTime": {
     "end_time": "2023-05-25T23:15:00.044746700Z",
     "start_time": "2023-05-25T23:14:59.996151500Z"
    }
   }
  },
  {
   "cell_type": "code",
   "execution_count": 4,
   "outputs": [
    {
     "data": {
      "text/plain": "        subreddit                author   \nid                                        \n100rn7k  AmIhotAF          veritynicole  \\\n1013bdt  AmIhotAF           RaulDea9286   \n105mekt  AmIhotAF              lindaniz   \n105qvgl  AmIhotAF           CaitVLove11   \n105rpcj  AmIhotAF       Flashy-Desk1858   \n...           ...                   ...   \n131dso7      DLAH        Wallydinger123   \n131eznp      DLAH          Long_dong111   \n131g3am      DLAH       ThrownAwayMiles   \n131jvcx      DLAH              robok212   \n131n2by      DLAH  Dependent_Secret9424   \n\n                                                  title   \nid                                                        \n100rn7k             hey, hows your new year going (23F)  \\\n1013bdt                                   36F - ITALIAN   \n105mekt  interesting in good forward relationship (f24)   \n105qvgl                       Laughing is my favorite 😆   \n105rpcj        [f22] What do you think when you see me?   \n...                                                 ...   \n131dso7                                     Happy B Day   \n131eznp                                         Perfect   \n131g3am                              DLAH left or right   \n131jvcx                                  Good morning 😍   \n131n2by                            Perfection (Sisters)   \n\n                                                   caption   \nid                                                           \n100rn7k  a woman in a white shirt and black pants is po...  \\\n1013bdt            arafed image of a woman in a bikini top   \n105mekt  a close up of a woman with red hair and a whit...   \n105qvgl  a woman in a blue tank top and shorts is smili...   \n105rpcj    a woman in a blue bikini top and a blue bra top   \n...                                                    ...   \n131dso7  there are three women posing for a picture in ...   \n131eznp  araffe woman in a white dress sitting on a pur...   \n131g3am  two women in short dresses posing for a pictur...   \n131jvcx      araffe in a pink dress posing on a white wall   \n131n2by  two women in shorts and sandals taking a selfi...   \n\n                                     hash   \nid                                          \n100rn7k  4bd00c19fa0ff2ade855e6d364b0760b  \\\n1013bdt  7c0d158cba8654ef1c635cbc5471d597   \n105mekt  ba4a0962cca2266a741e1e1700589c04   \n105qvgl  27bfe82c37314a0bcf02ab72eaf3a9e5   \n105rpcj  329eb42b8267fa1cc2980da8e48bcef1   \n...                                   ...   \n131dso7  ebb4b4a88dc79e2f2f57b10f32bf03c0   \n131eznp  5c944c6d62b1ae182c5a6a40c64195f4   \n131g3am  ab1f8fc33c85f4cfce12c810cf22229e   \n131jvcx  01f5058855526ef25888cff88065db4c   \n131n2by  b162dd1999dbf9ea3c7adccd34624a46   \n\n                                                 permalink   \nid                                                           \n100rn7k  /r/AmIhotAF/comments/100rn7k/hey_hows_your_new...  \\\n1013bdt          /r/AmIhotAF/comments/1013bdt/36f_italian/   \n105mekt  /r/AmIhotAF/comments/105mekt/interesting_in_go...   \n105qvgl  /r/AmIhotAF/comments/105qvgl/laughing_is_my_fa...   \n105rpcj  /r/AmIhotAF/comments/105rpcj/f22_what_do_you_t...   \n...                                                    ...   \n131dso7              /r/DLAH/comments/131dso7/happy_b_day/   \n131eznp                  /r/DLAH/comments/131eznp/perfect/   \n131g3am       /r/DLAH/comments/131g3am/dlah_left_or_right/   \n131jvcx             /r/DLAH/comments/131jvcx/good_morning/   \n131n2by       /r/DLAH/comments/131n2by/perfection_sisters/   \n\n                                original_url   image_name   \nid                                                          \n100rn7k  https://i.redd.it/n7r47s0gkh9a1.jpg  100rn7k.jpg  \\\n1013bdt  https://i.redd.it/bg0wwdlt5k9a1.jpg  1013bdt.jpg   \n105mekt  https://i.redd.it/4avjshsz8naa1.jpg  105mekt.jpg   \n105qvgl  https://i.redd.it/2pulzr0lxmaa1.jpg  105qvgl.jpg   \n105rpcj  https://i.redd.it/rz68pf934naa1.jpg  105rpcj.jpg   \n...                                      ...          ...   \n131dso7  https://i.redd.it/36gurz533jwa1.jpg  131dso7.jpg   \n131eznp  https://i.redd.it/dnbbx4zucjwa1.jpg  131eznp.jpg   \n131g3am  https://i.redd.it/zpp70oor3lwa1.jpg  131g3am.jpg   \n131jvcx  https://i.redd.it/ozmbfhjv3mwa1.jpg  131jvcx.jpg   \n131n2by  https://i.redd.it/pfg1u0aw1nwa1.jpg  131n2by.jpg   \n\n                           path                model  exists  curated accept   \nid                                                                             \n100rn7k  data/image/100rn7k.jpg        SexyDiffusion    True     True  False  \\\n1013bdt  data/image/1013bdt.jpg        SexyDiffusion    True     True   True   \n105mekt  data/image/105mekt.jpg        SexyDiffusion    True     True   True   \n105qvgl  data/image/105qvgl.jpg        SexyDiffusion    True     True   True   \n105rpcj  data/image/105rpcj.jpg        SexyDiffusion    True     True   True   \n...                         ...                  ...     ...      ...    ...   \n131dso7  data/image/131dso7.jpg  PrettyGirlDiffusion    True     True  False   \n131eznp  data/image/131eznp.jpg  PrettyGirlDiffusion    True     True   True   \n131g3am  data/image/131g3am.jpg  PrettyGirlDiffusion    True     True   True   \n131jvcx  data/image/131jvcx.jpg  PrettyGirlDiffusion    True     True  False   \n131n2by  data/image/131n2by.jpg  PrettyGirlDiffusion    True     True  False   \n\n        tags  \nid            \n100rn7k   []  \n1013bdt   []  \n105mekt   []  \n105qvgl   []  \n105rpcj   []  \n...      ...  \n131dso7   []  \n131eznp   []  \n131g3am   []  \n131jvcx   []  \n131n2by   []  \n\n[41505 rows x 14 columns]",
      "text/html": "<div>\n<style scoped>\n    .dataframe tbody tr th:only-of-type {\n        vertical-align: middle;\n    }\n\n    .dataframe tbody tr th {\n        vertical-align: top;\n    }\n\n    .dataframe thead th {\n        text-align: right;\n    }\n</style>\n<table border=\"1\" class=\"dataframe\">\n  <thead>\n    <tr style=\"text-align: right;\">\n      <th></th>\n      <th>subreddit</th>\n      <th>author</th>\n      <th>title</th>\n      <th>caption</th>\n      <th>hash</th>\n      <th>permalink</th>\n      <th>original_url</th>\n      <th>image_name</th>\n      <th>path</th>\n      <th>model</th>\n      <th>exists</th>\n      <th>curated</th>\n      <th>accept</th>\n      <th>tags</th>\n    </tr>\n    <tr>\n      <th>id</th>\n      <th></th>\n      <th></th>\n      <th></th>\n      <th></th>\n      <th></th>\n      <th></th>\n      <th></th>\n      <th></th>\n      <th></th>\n      <th></th>\n      <th></th>\n      <th></th>\n      <th></th>\n      <th></th>\n    </tr>\n  </thead>\n  <tbody>\n    <tr>\n      <th>100rn7k</th>\n      <td>AmIhotAF</td>\n      <td>veritynicole</td>\n      <td>hey, hows your new year going (23F)</td>\n      <td>a woman in a white shirt and black pants is po...</td>\n      <td>4bd00c19fa0ff2ade855e6d364b0760b</td>\n      <td>/r/AmIhotAF/comments/100rn7k/hey_hows_your_new...</td>\n      <td>https://i.redd.it/n7r47s0gkh9a1.jpg</td>\n      <td>100rn7k.jpg</td>\n      <td>data/image/100rn7k.jpg</td>\n      <td>SexyDiffusion</td>\n      <td>True</td>\n      <td>True</td>\n      <td>False</td>\n      <td>[]</td>\n    </tr>\n    <tr>\n      <th>1013bdt</th>\n      <td>AmIhotAF</td>\n      <td>RaulDea9286</td>\n      <td>36F - ITALIAN</td>\n      <td>arafed image of a woman in a bikini top</td>\n      <td>7c0d158cba8654ef1c635cbc5471d597</td>\n      <td>/r/AmIhotAF/comments/1013bdt/36f_italian/</td>\n      <td>https://i.redd.it/bg0wwdlt5k9a1.jpg</td>\n      <td>1013bdt.jpg</td>\n      <td>data/image/1013bdt.jpg</td>\n      <td>SexyDiffusion</td>\n      <td>True</td>\n      <td>True</td>\n      <td>True</td>\n      <td>[]</td>\n    </tr>\n    <tr>\n      <th>105mekt</th>\n      <td>AmIhotAF</td>\n      <td>lindaniz</td>\n      <td>interesting in good forward relationship (f24)</td>\n      <td>a close up of a woman with red hair and a whit...</td>\n      <td>ba4a0962cca2266a741e1e1700589c04</td>\n      <td>/r/AmIhotAF/comments/105mekt/interesting_in_go...</td>\n      <td>https://i.redd.it/4avjshsz8naa1.jpg</td>\n      <td>105mekt.jpg</td>\n      <td>data/image/105mekt.jpg</td>\n      <td>SexyDiffusion</td>\n      <td>True</td>\n      <td>True</td>\n      <td>True</td>\n      <td>[]</td>\n    </tr>\n    <tr>\n      <th>105qvgl</th>\n      <td>AmIhotAF</td>\n      <td>CaitVLove11</td>\n      <td>Laughing is my favorite 😆</td>\n      <td>a woman in a blue tank top and shorts is smili...</td>\n      <td>27bfe82c37314a0bcf02ab72eaf3a9e5</td>\n      <td>/r/AmIhotAF/comments/105qvgl/laughing_is_my_fa...</td>\n      <td>https://i.redd.it/2pulzr0lxmaa1.jpg</td>\n      <td>105qvgl.jpg</td>\n      <td>data/image/105qvgl.jpg</td>\n      <td>SexyDiffusion</td>\n      <td>True</td>\n      <td>True</td>\n      <td>True</td>\n      <td>[]</td>\n    </tr>\n    <tr>\n      <th>105rpcj</th>\n      <td>AmIhotAF</td>\n      <td>Flashy-Desk1858</td>\n      <td>[f22] What do you think when you see me?</td>\n      <td>a woman in a blue bikini top and a blue bra top</td>\n      <td>329eb42b8267fa1cc2980da8e48bcef1</td>\n      <td>/r/AmIhotAF/comments/105rpcj/f22_what_do_you_t...</td>\n      <td>https://i.redd.it/rz68pf934naa1.jpg</td>\n      <td>105rpcj.jpg</td>\n      <td>data/image/105rpcj.jpg</td>\n      <td>SexyDiffusion</td>\n      <td>True</td>\n      <td>True</td>\n      <td>True</td>\n      <td>[]</td>\n    </tr>\n    <tr>\n      <th>...</th>\n      <td>...</td>\n      <td>...</td>\n      <td>...</td>\n      <td>...</td>\n      <td>...</td>\n      <td>...</td>\n      <td>...</td>\n      <td>...</td>\n      <td>...</td>\n      <td>...</td>\n      <td>...</td>\n      <td>...</td>\n      <td>...</td>\n      <td>...</td>\n    </tr>\n    <tr>\n      <th>131dso7</th>\n      <td>DLAH</td>\n      <td>Wallydinger123</td>\n      <td>Happy B Day</td>\n      <td>there are three women posing for a picture in ...</td>\n      <td>ebb4b4a88dc79e2f2f57b10f32bf03c0</td>\n      <td>/r/DLAH/comments/131dso7/happy_b_day/</td>\n      <td>https://i.redd.it/36gurz533jwa1.jpg</td>\n      <td>131dso7.jpg</td>\n      <td>data/image/131dso7.jpg</td>\n      <td>PrettyGirlDiffusion</td>\n      <td>True</td>\n      <td>True</td>\n      <td>False</td>\n      <td>[]</td>\n    </tr>\n    <tr>\n      <th>131eznp</th>\n      <td>DLAH</td>\n      <td>Long_dong111</td>\n      <td>Perfect</td>\n      <td>araffe woman in a white dress sitting on a pur...</td>\n      <td>5c944c6d62b1ae182c5a6a40c64195f4</td>\n      <td>/r/DLAH/comments/131eznp/perfect/</td>\n      <td>https://i.redd.it/dnbbx4zucjwa1.jpg</td>\n      <td>131eznp.jpg</td>\n      <td>data/image/131eznp.jpg</td>\n      <td>PrettyGirlDiffusion</td>\n      <td>True</td>\n      <td>True</td>\n      <td>True</td>\n      <td>[]</td>\n    </tr>\n    <tr>\n      <th>131g3am</th>\n      <td>DLAH</td>\n      <td>ThrownAwayMiles</td>\n      <td>DLAH left or right</td>\n      <td>two women in short dresses posing for a pictur...</td>\n      <td>ab1f8fc33c85f4cfce12c810cf22229e</td>\n      <td>/r/DLAH/comments/131g3am/dlah_left_or_right/</td>\n      <td>https://i.redd.it/zpp70oor3lwa1.jpg</td>\n      <td>131g3am.jpg</td>\n      <td>data/image/131g3am.jpg</td>\n      <td>PrettyGirlDiffusion</td>\n      <td>True</td>\n      <td>True</td>\n      <td>True</td>\n      <td>[]</td>\n    </tr>\n    <tr>\n      <th>131jvcx</th>\n      <td>DLAH</td>\n      <td>robok212</td>\n      <td>Good morning 😍</td>\n      <td>araffe in a pink dress posing on a white wall</td>\n      <td>01f5058855526ef25888cff88065db4c</td>\n      <td>/r/DLAH/comments/131jvcx/good_morning/</td>\n      <td>https://i.redd.it/ozmbfhjv3mwa1.jpg</td>\n      <td>131jvcx.jpg</td>\n      <td>data/image/131jvcx.jpg</td>\n      <td>PrettyGirlDiffusion</td>\n      <td>True</td>\n      <td>True</td>\n      <td>False</td>\n      <td>[]</td>\n    </tr>\n    <tr>\n      <th>131n2by</th>\n      <td>DLAH</td>\n      <td>Dependent_Secret9424</td>\n      <td>Perfection (Sisters)</td>\n      <td>two women in shorts and sandals taking a selfi...</td>\n      <td>b162dd1999dbf9ea3c7adccd34624a46</td>\n      <td>/r/DLAH/comments/131n2by/perfection_sisters/</td>\n      <td>https://i.redd.it/pfg1u0aw1nwa1.jpg</td>\n      <td>131n2by.jpg</td>\n      <td>data/image/131n2by.jpg</td>\n      <td>PrettyGirlDiffusion</td>\n      <td>True</td>\n      <td>True</td>\n      <td>False</td>\n      <td>[]</td>\n    </tr>\n  </tbody>\n</table>\n<p>41505 rows × 14 columns</p>\n</div>"
     },
     "metadata": {},
     "output_type": "display_data"
    },
    {
     "name": "stdout",
     "output_type": "stream",
     "text": [
      "CPU times: total: 266 ms\n",
      "Wall time: 882 ms\n"
     ]
    }
   ],
   "source": [
    "%%time\n",
    "\n",
    "extant_data = pandas.read_parquet(\"data/processed_raw_data.parquet\", engine='pyarrow', filesystem=file_system,\n",
    "\t\t\t\t\t\t\t\t  schema=schema)\n",
    "extant_data.set_index('id', inplace=True)\n",
    "display(extant_data)"
   ],
   "metadata": {
    "collapsed": false,
    "ExecuteTime": {
     "end_time": "2023-05-25T23:15:00.945846100Z",
     "start_time": "2023-05-25T23:15:00.047833600Z"
    }
   }
  },
  {
   "cell_type": "code",
   "execution_count": 5,
   "outputs": [
    {
     "data": {
      "text/plain": "'==== CURATED DATA ===='"
     },
     "metadata": {},
     "output_type": "display_data"
    },
    {
     "data": {
      "text/plain": "(39791, 14)"
     },
     "metadata": {},
     "output_type": "display_data"
    },
    {
     "data": {
      "text/plain": "                subreddit             author   \nid                                             \n100rn7k          AmIhotAF       veritynicole  \\\n1013bdt          AmIhotAF        RaulDea9286   \n105mekt          AmIhotAF           lindaniz   \n105qvgl          AmIhotAF        CaitVLove11   \n105rpcj          AmIhotAF    Flashy-Desk1858   \n...                   ...                ...   \n13nwjqp              DLAH   spicy_kingWest44   \n13nx3q5              DLAH           robok212   \n13nt4ei  bathandbodyworks        LadyMisfits   \n13nwdel  bathandbodyworks  lifeinsidethepage   \n13nwu1r  bathandbodyworks  lifeinsidethepage   \n\n                                                     title   \nid                                                           \n100rn7k                hey, hows your new year going (23F)  \\\n1013bdt                                      36F - ITALIAN   \n105mekt     interesting in good forward relationship (f24)   \n105qvgl                          Laughing is my favorite 😆   \n105rpcj           [f22] What do you think when you see me?   \n...                                                    ...   \n13nwjqp                              Gotta get them angles   \n13nx3q5  I know there is not much dress ... but there i...   \n13nt4ei                       Nice surprise from Micheal’s   \n13nwdel                                    Laundry Scoop 😉   \n13nwu1r  Bath and Body Works Semi Annual Sale Shopper B...   \n\n                                                   caption   \nid                                                           \n100rn7k  a woman in a white shirt and black pants is po...  \\\n1013bdt            arafed image of a woman in a bikini top   \n105mekt  a close up of a woman with red hair and a whit...   \n105qvgl  a woman in a blue tank top and shorts is smili...   \n105rpcj    a woman in a blue bikini top and a blue bra top   \n...                                                    ...   \n13nwjqp  two women in short dresses standing next to a ...   \n13nx3q5  araffe woman in a black lingerie posing in a d...   \n13nt4ei  someone holding a jar of candles in front of a...   \n13nwdel  a screenshot of a text message from a customer...   \n13nwu1r  a close up of a shopping bag with a sale sign ...   \n\n                                     hash   \nid                                          \n100rn7k  4bd00c19fa0ff2ade855e6d364b0760b  \\\n1013bdt  7c0d158cba8654ef1c635cbc5471d597   \n105mekt  ba4a0962cca2266a741e1e1700589c04   \n105qvgl  27bfe82c37314a0bcf02ab72eaf3a9e5   \n105rpcj  329eb42b8267fa1cc2980da8e48bcef1   \n...                                   ...   \n13nwjqp  26a955b5d75d32d39ac452a9a934d15d   \n13nx3q5  5fd63ab2fb5a39229ba0eba3a2775f8a   \n13nt4ei  362b6a403ebe68409fdefbcf7729ffbc   \n13nwdel  fdbf23831cd5776d1b93d902d626d4ec   \n13nwu1r  a1fad1780ca38f42130e8ab82617f315   \n\n                                                 permalink   \nid                                                           \n100rn7k  /r/AmIhotAF/comments/100rn7k/hey_hows_your_new...  \\\n1013bdt          /r/AmIhotAF/comments/1013bdt/36f_italian/   \n105mekt  /r/AmIhotAF/comments/105mekt/interesting_in_go...   \n105qvgl  /r/AmIhotAF/comments/105qvgl/laughing_is_my_fa...   \n105rpcj  /r/AmIhotAF/comments/105rpcj/f22_what_do_you_t...   \n...                                                    ...   \n13nwjqp    /r/DLAH/comments/13nwjqp/gotta_get_them_angles/   \n13nx3q5  /r/DLAH/comments/13nx3q5/i_know_there_is_not_m...   \n13nt4ei  /r/bathandbodyworks/comments/13nt4ei/nice_surp...   \n13nwdel  /r/bathandbodyworks/comments/13nwdel/laundry_s...   \n13nwu1r  /r/bathandbodyworks/comments/13nwu1r/bath_and_...   \n\n                                original_url   image_name   \nid                                                          \n100rn7k  https://i.redd.it/n7r47s0gkh9a1.jpg  100rn7k.jpg  \\\n1013bdt  https://i.redd.it/bg0wwdlt5k9a1.jpg  1013bdt.jpg   \n105mekt  https://i.redd.it/4avjshsz8naa1.jpg  105mekt.jpg   \n105qvgl  https://i.redd.it/2pulzr0lxmaa1.jpg  105qvgl.jpg   \n105rpcj  https://i.redd.it/rz68pf934naa1.jpg  105rpcj.jpg   \n...                                      ...          ...   \n13nwjqp  https://i.redd.it/7xdtvt84l81b1.jpg  13nwjqp.jpg   \n13nx3q5  https://i.redd.it/1jdres3dp81b1.jpg  13nx3q5.jpg   \n13nt4ei  https://i.redd.it/mse5auo4681b1.jpg  13nt4ei.jpg   \n13nwdel  https://i.redd.it/zr5pm949271b1.jpg  13nwdel.jpg   \n13nwu1r  https://i.redd.it/ar0vy0zr571b1.jpg  13nwu1r.jpg   \n\n                           path                model  exists  curated  accept   \nid                                                                              \n100rn7k  data/image/100rn7k.jpg        SexyDiffusion    True     True   False  \\\n1013bdt  data/image/1013bdt.jpg        SexyDiffusion    True     True    True   \n105mekt  data/image/105mekt.jpg        SexyDiffusion    True     True    True   \n105qvgl  data/image/105qvgl.jpg        SexyDiffusion    True     True    True   \n105rpcj  data/image/105rpcj.jpg        SexyDiffusion    True     True    True   \n...                         ...                  ...     ...      ...     ...   \n13nwjqp  data/image/13nwjqp.jpg  PrettyGirlDiffusion    True     True   False   \n13nx3q5  data/image/13nx3q5.jpg  PrettyGirlDiffusion    True     True   False   \n13nt4ei  data/image/13nt4ei.jpg      CandleDiffusion    True     True    True   \n13nwdel  data/image/13nwdel.jpg      CandleDiffusion    True     True   False   \n13nwu1r  data/image/13nwu1r.jpg      CandleDiffusion    True     True   False   \n\n        tags  \nid            \n100rn7k   []  \n1013bdt   []  \n105mekt   []  \n105qvgl   []  \n105rpcj   []  \n...      ...  \n13nwjqp   []  \n13nx3q5   []  \n13nt4ei   []  \n13nwdel   []  \n13nwu1r   []  \n\n[39791 rows x 14 columns]",
      "text/html": "<div>\n<style scoped>\n    .dataframe tbody tr th:only-of-type {\n        vertical-align: middle;\n    }\n\n    .dataframe tbody tr th {\n        vertical-align: top;\n    }\n\n    .dataframe thead th {\n        text-align: right;\n    }\n</style>\n<table border=\"1\" class=\"dataframe\">\n  <thead>\n    <tr style=\"text-align: right;\">\n      <th></th>\n      <th>subreddit</th>\n      <th>author</th>\n      <th>title</th>\n      <th>caption</th>\n      <th>hash</th>\n      <th>permalink</th>\n      <th>original_url</th>\n      <th>image_name</th>\n      <th>path</th>\n      <th>model</th>\n      <th>exists</th>\n      <th>curated</th>\n      <th>accept</th>\n      <th>tags</th>\n    </tr>\n    <tr>\n      <th>id</th>\n      <th></th>\n      <th></th>\n      <th></th>\n      <th></th>\n      <th></th>\n      <th></th>\n      <th></th>\n      <th></th>\n      <th></th>\n      <th></th>\n      <th></th>\n      <th></th>\n      <th></th>\n      <th></th>\n    </tr>\n  </thead>\n  <tbody>\n    <tr>\n      <th>100rn7k</th>\n      <td>AmIhotAF</td>\n      <td>veritynicole</td>\n      <td>hey, hows your new year going (23F)</td>\n      <td>a woman in a white shirt and black pants is po...</td>\n      <td>4bd00c19fa0ff2ade855e6d364b0760b</td>\n      <td>/r/AmIhotAF/comments/100rn7k/hey_hows_your_new...</td>\n      <td>https://i.redd.it/n7r47s0gkh9a1.jpg</td>\n      <td>100rn7k.jpg</td>\n      <td>data/image/100rn7k.jpg</td>\n      <td>SexyDiffusion</td>\n      <td>True</td>\n      <td>True</td>\n      <td>False</td>\n      <td>[]</td>\n    </tr>\n    <tr>\n      <th>1013bdt</th>\n      <td>AmIhotAF</td>\n      <td>RaulDea9286</td>\n      <td>36F - ITALIAN</td>\n      <td>arafed image of a woman in a bikini top</td>\n      <td>7c0d158cba8654ef1c635cbc5471d597</td>\n      <td>/r/AmIhotAF/comments/1013bdt/36f_italian/</td>\n      <td>https://i.redd.it/bg0wwdlt5k9a1.jpg</td>\n      <td>1013bdt.jpg</td>\n      <td>data/image/1013bdt.jpg</td>\n      <td>SexyDiffusion</td>\n      <td>True</td>\n      <td>True</td>\n      <td>True</td>\n      <td>[]</td>\n    </tr>\n    <tr>\n      <th>105mekt</th>\n      <td>AmIhotAF</td>\n      <td>lindaniz</td>\n      <td>interesting in good forward relationship (f24)</td>\n      <td>a close up of a woman with red hair and a whit...</td>\n      <td>ba4a0962cca2266a741e1e1700589c04</td>\n      <td>/r/AmIhotAF/comments/105mekt/interesting_in_go...</td>\n      <td>https://i.redd.it/4avjshsz8naa1.jpg</td>\n      <td>105mekt.jpg</td>\n      <td>data/image/105mekt.jpg</td>\n      <td>SexyDiffusion</td>\n      <td>True</td>\n      <td>True</td>\n      <td>True</td>\n      <td>[]</td>\n    </tr>\n    <tr>\n      <th>105qvgl</th>\n      <td>AmIhotAF</td>\n      <td>CaitVLove11</td>\n      <td>Laughing is my favorite 😆</td>\n      <td>a woman in a blue tank top and shorts is smili...</td>\n      <td>27bfe82c37314a0bcf02ab72eaf3a9e5</td>\n      <td>/r/AmIhotAF/comments/105qvgl/laughing_is_my_fa...</td>\n      <td>https://i.redd.it/2pulzr0lxmaa1.jpg</td>\n      <td>105qvgl.jpg</td>\n      <td>data/image/105qvgl.jpg</td>\n      <td>SexyDiffusion</td>\n      <td>True</td>\n      <td>True</td>\n      <td>True</td>\n      <td>[]</td>\n    </tr>\n    <tr>\n      <th>105rpcj</th>\n      <td>AmIhotAF</td>\n      <td>Flashy-Desk1858</td>\n      <td>[f22] What do you think when you see me?</td>\n      <td>a woman in a blue bikini top and a blue bra top</td>\n      <td>329eb42b8267fa1cc2980da8e48bcef1</td>\n      <td>/r/AmIhotAF/comments/105rpcj/f22_what_do_you_t...</td>\n      <td>https://i.redd.it/rz68pf934naa1.jpg</td>\n      <td>105rpcj.jpg</td>\n      <td>data/image/105rpcj.jpg</td>\n      <td>SexyDiffusion</td>\n      <td>True</td>\n      <td>True</td>\n      <td>True</td>\n      <td>[]</td>\n    </tr>\n    <tr>\n      <th>...</th>\n      <td>...</td>\n      <td>...</td>\n      <td>...</td>\n      <td>...</td>\n      <td>...</td>\n      <td>...</td>\n      <td>...</td>\n      <td>...</td>\n      <td>...</td>\n      <td>...</td>\n      <td>...</td>\n      <td>...</td>\n      <td>...</td>\n      <td>...</td>\n    </tr>\n    <tr>\n      <th>13nwjqp</th>\n      <td>DLAH</td>\n      <td>spicy_kingWest44</td>\n      <td>Gotta get them angles</td>\n      <td>two women in short dresses standing next to a ...</td>\n      <td>26a955b5d75d32d39ac452a9a934d15d</td>\n      <td>/r/DLAH/comments/13nwjqp/gotta_get_them_angles/</td>\n      <td>https://i.redd.it/7xdtvt84l81b1.jpg</td>\n      <td>13nwjqp.jpg</td>\n      <td>data/image/13nwjqp.jpg</td>\n      <td>PrettyGirlDiffusion</td>\n      <td>True</td>\n      <td>True</td>\n      <td>False</td>\n      <td>[]</td>\n    </tr>\n    <tr>\n      <th>13nx3q5</th>\n      <td>DLAH</td>\n      <td>robok212</td>\n      <td>I know there is not much dress ... but there i...</td>\n      <td>araffe woman in a black lingerie posing in a d...</td>\n      <td>5fd63ab2fb5a39229ba0eba3a2775f8a</td>\n      <td>/r/DLAH/comments/13nx3q5/i_know_there_is_not_m...</td>\n      <td>https://i.redd.it/1jdres3dp81b1.jpg</td>\n      <td>13nx3q5.jpg</td>\n      <td>data/image/13nx3q5.jpg</td>\n      <td>PrettyGirlDiffusion</td>\n      <td>True</td>\n      <td>True</td>\n      <td>False</td>\n      <td>[]</td>\n    </tr>\n    <tr>\n      <th>13nt4ei</th>\n      <td>bathandbodyworks</td>\n      <td>LadyMisfits</td>\n      <td>Nice surprise from Micheal’s</td>\n      <td>someone holding a jar of candles in front of a...</td>\n      <td>362b6a403ebe68409fdefbcf7729ffbc</td>\n      <td>/r/bathandbodyworks/comments/13nt4ei/nice_surp...</td>\n      <td>https://i.redd.it/mse5auo4681b1.jpg</td>\n      <td>13nt4ei.jpg</td>\n      <td>data/image/13nt4ei.jpg</td>\n      <td>CandleDiffusion</td>\n      <td>True</td>\n      <td>True</td>\n      <td>True</td>\n      <td>[]</td>\n    </tr>\n    <tr>\n      <th>13nwdel</th>\n      <td>bathandbodyworks</td>\n      <td>lifeinsidethepage</td>\n      <td>Laundry Scoop 😉</td>\n      <td>a screenshot of a text message from a customer...</td>\n      <td>fdbf23831cd5776d1b93d902d626d4ec</td>\n      <td>/r/bathandbodyworks/comments/13nwdel/laundry_s...</td>\n      <td>https://i.redd.it/zr5pm949271b1.jpg</td>\n      <td>13nwdel.jpg</td>\n      <td>data/image/13nwdel.jpg</td>\n      <td>CandleDiffusion</td>\n      <td>True</td>\n      <td>True</td>\n      <td>False</td>\n      <td>[]</td>\n    </tr>\n    <tr>\n      <th>13nwu1r</th>\n      <td>bathandbodyworks</td>\n      <td>lifeinsidethepage</td>\n      <td>Bath and Body Works Semi Annual Sale Shopper B...</td>\n      <td>a close up of a shopping bag with a sale sign ...</td>\n      <td>a1fad1780ca38f42130e8ab82617f315</td>\n      <td>/r/bathandbodyworks/comments/13nwu1r/bath_and_...</td>\n      <td>https://i.redd.it/ar0vy0zr571b1.jpg</td>\n      <td>13nwu1r.jpg</td>\n      <td>data/image/13nwu1r.jpg</td>\n      <td>CandleDiffusion</td>\n      <td>True</td>\n      <td>True</td>\n      <td>False</td>\n      <td>[]</td>\n    </tr>\n  </tbody>\n</table>\n<p>39791 rows × 14 columns</p>\n</div>"
     },
     "metadata": {},
     "output_type": "display_data"
    },
    {
     "name": "stdout",
     "output_type": "stream",
     "text": [
      "CPU times: total: 297 ms\n",
      "Wall time: 644 ms\n"
     ]
    }
   ],
   "source": [
    "%%time\n",
    "\n",
    "curated_data = pandas.read_parquet(\"data/parquet/primary_caption.parquet\", engine='pyarrow', filesystem=file_system, schema=schema)\n",
    "curated_data.set_index('id', inplace=True)\n",
    "\n",
    "display(\"==== CURATED DATA ====\")\n",
    "display(curated_data.shape)\n",
    "display(curated_data)"
   ],
   "metadata": {
    "collapsed": false,
    "ExecuteTime": {
     "end_time": "2023-05-25T23:15:01.637057100Z",
     "start_time": "2023-05-25T23:15:00.947848Z"
    }
   }
  },
  {
   "cell_type": "code",
   "execution_count": 6,
   "outputs": [
    {
     "data": {
      "text/plain": "'==== UPDATED EXTANT DATA ===='"
     },
     "metadata": {},
     "output_type": "display_data"
    },
    {
     "data": {
      "text/plain": "(41505, 15)"
     },
     "metadata": {},
     "output_type": "display_data"
    },
    {
     "data": {
      "text/plain": "            id subreddit                author   \n0      100rn7k  AmIhotAF          veritynicole  \\\n1      1013bdt  AmIhotAF           RaulDea9286   \n2      105mekt  AmIhotAF              lindaniz   \n3      105qvgl  AmIhotAF           CaitVLove11   \n4      105rpcj  AmIhotAF       Flashy-Desk1858   \n...        ...       ...                   ...   \n41500  131dso7      DLAH        Wallydinger123   \n41501  131eznp      DLAH          Long_dong111   \n41502  131g3am      DLAH       ThrownAwayMiles   \n41503  131jvcx      DLAH              robok212   \n41504  131n2by      DLAH  Dependent_Secret9424   \n\n                                                title   \n0                 hey, hows your new year going (23F)  \\\n1                                       36F - ITALIAN   \n2      interesting in good forward relationship (f24)   \n3                           Laughing is my favorite 😆   \n4            [f22] What do you think when you see me?   \n...                                               ...   \n41500                                     Happy B Day   \n41501                                         Perfect   \n41502                              DLAH left or right   \n41503                                  Good morning 😍   \n41504                            Perfection (Sisters)   \n\n                                                 caption   \n0      a woman in a white shirt and black pants is po...  \\\n1                arafed image of a woman in a bikini top   \n2      a close up of a woman with red hair and a whit...   \n3      a woman in a blue tank top and shorts is smili...   \n4        a woman in a blue bikini top and a blue bra top   \n...                                                  ...   \n41500  there are three women posing for a picture in ...   \n41501  araffe woman in a white dress sitting on a pur...   \n41502  two women in short dresses posing for a pictur...   \n41503      araffe in a pink dress posing on a white wall   \n41504  two women in shorts and sandals taking a selfi...   \n\n                                   hash   \n0      4bd00c19fa0ff2ade855e6d364b0760b  \\\n1      7c0d158cba8654ef1c635cbc5471d597   \n2      ba4a0962cca2266a741e1e1700589c04   \n3      27bfe82c37314a0bcf02ab72eaf3a9e5   \n4      329eb42b8267fa1cc2980da8e48bcef1   \n...                                 ...   \n41500  ebb4b4a88dc79e2f2f57b10f32bf03c0   \n41501  5c944c6d62b1ae182c5a6a40c64195f4   \n41502  ab1f8fc33c85f4cfce12c810cf22229e   \n41503  01f5058855526ef25888cff88065db4c   \n41504  b162dd1999dbf9ea3c7adccd34624a46   \n\n                                               permalink   \n0      /r/AmIhotAF/comments/100rn7k/hey_hows_your_new...  \\\n1              /r/AmIhotAF/comments/1013bdt/36f_italian/   \n2      /r/AmIhotAF/comments/105mekt/interesting_in_go...   \n3      /r/AmIhotAF/comments/105qvgl/laughing_is_my_fa...   \n4      /r/AmIhotAF/comments/105rpcj/f22_what_do_you_t...   \n...                                                  ...   \n41500              /r/DLAH/comments/131dso7/happy_b_day/   \n41501                  /r/DLAH/comments/131eznp/perfect/   \n41502       /r/DLAH/comments/131g3am/dlah_left_or_right/   \n41503             /r/DLAH/comments/131jvcx/good_morning/   \n41504       /r/DLAH/comments/131n2by/perfection_sisters/   \n\n                              original_url   image_name   \n0      https://i.redd.it/n7r47s0gkh9a1.jpg  100rn7k.jpg  \\\n1      https://i.redd.it/bg0wwdlt5k9a1.jpg  1013bdt.jpg   \n2      https://i.redd.it/4avjshsz8naa1.jpg  105mekt.jpg   \n3      https://i.redd.it/2pulzr0lxmaa1.jpg  105qvgl.jpg   \n4      https://i.redd.it/rz68pf934naa1.jpg  105rpcj.jpg   \n...                                    ...          ...   \n41500  https://i.redd.it/36gurz533jwa1.jpg  131dso7.jpg   \n41501  https://i.redd.it/dnbbx4zucjwa1.jpg  131eznp.jpg   \n41502  https://i.redd.it/zpp70oor3lwa1.jpg  131g3am.jpg   \n41503  https://i.redd.it/ozmbfhjv3mwa1.jpg  131jvcx.jpg   \n41504  https://i.redd.it/pfg1u0aw1nwa1.jpg  131n2by.jpg   \n\n                         path                model exists curated accept tags  \n0      data/image/100rn7k.jpg        SexyDiffusion   True    True  False   []  \n1      data/image/1013bdt.jpg        SexyDiffusion   True    True   True   []  \n2      data/image/105mekt.jpg        SexyDiffusion   True    True   True   []  \n3      data/image/105qvgl.jpg        SexyDiffusion   True    True   True   []  \n4      data/image/105rpcj.jpg        SexyDiffusion   True    True   True   []  \n...                       ...                  ...    ...     ...    ...  ...  \n41500  data/image/131dso7.jpg  PrettyGirlDiffusion   True    True  False   []  \n41501  data/image/131eznp.jpg  PrettyGirlDiffusion   True    True   True   []  \n41502  data/image/131g3am.jpg  PrettyGirlDiffusion   True    True   True   []  \n41503  data/image/131jvcx.jpg  PrettyGirlDiffusion   True    True  False   []  \n41504  data/image/131n2by.jpg  PrettyGirlDiffusion   True    True  False   []  \n\n[41505 rows x 15 columns]",
      "text/html": "<div>\n<style scoped>\n    .dataframe tbody tr th:only-of-type {\n        vertical-align: middle;\n    }\n\n    .dataframe tbody tr th {\n        vertical-align: top;\n    }\n\n    .dataframe thead th {\n        text-align: right;\n    }\n</style>\n<table border=\"1\" class=\"dataframe\">\n  <thead>\n    <tr style=\"text-align: right;\">\n      <th></th>\n      <th>id</th>\n      <th>subreddit</th>\n      <th>author</th>\n      <th>title</th>\n      <th>caption</th>\n      <th>hash</th>\n      <th>permalink</th>\n      <th>original_url</th>\n      <th>image_name</th>\n      <th>path</th>\n      <th>model</th>\n      <th>exists</th>\n      <th>curated</th>\n      <th>accept</th>\n      <th>tags</th>\n    </tr>\n  </thead>\n  <tbody>\n    <tr>\n      <th>0</th>\n      <td>100rn7k</td>\n      <td>AmIhotAF</td>\n      <td>veritynicole</td>\n      <td>hey, hows your new year going (23F)</td>\n      <td>a woman in a white shirt and black pants is po...</td>\n      <td>4bd00c19fa0ff2ade855e6d364b0760b</td>\n      <td>/r/AmIhotAF/comments/100rn7k/hey_hows_your_new...</td>\n      <td>https://i.redd.it/n7r47s0gkh9a1.jpg</td>\n      <td>100rn7k.jpg</td>\n      <td>data/image/100rn7k.jpg</td>\n      <td>SexyDiffusion</td>\n      <td>True</td>\n      <td>True</td>\n      <td>False</td>\n      <td>[]</td>\n    </tr>\n    <tr>\n      <th>1</th>\n      <td>1013bdt</td>\n      <td>AmIhotAF</td>\n      <td>RaulDea9286</td>\n      <td>36F - ITALIAN</td>\n      <td>arafed image of a woman in a bikini top</td>\n      <td>7c0d158cba8654ef1c635cbc5471d597</td>\n      <td>/r/AmIhotAF/comments/1013bdt/36f_italian/</td>\n      <td>https://i.redd.it/bg0wwdlt5k9a1.jpg</td>\n      <td>1013bdt.jpg</td>\n      <td>data/image/1013bdt.jpg</td>\n      <td>SexyDiffusion</td>\n      <td>True</td>\n      <td>True</td>\n      <td>True</td>\n      <td>[]</td>\n    </tr>\n    <tr>\n      <th>2</th>\n      <td>105mekt</td>\n      <td>AmIhotAF</td>\n      <td>lindaniz</td>\n      <td>interesting in good forward relationship (f24)</td>\n      <td>a close up of a woman with red hair and a whit...</td>\n      <td>ba4a0962cca2266a741e1e1700589c04</td>\n      <td>/r/AmIhotAF/comments/105mekt/interesting_in_go...</td>\n      <td>https://i.redd.it/4avjshsz8naa1.jpg</td>\n      <td>105mekt.jpg</td>\n      <td>data/image/105mekt.jpg</td>\n      <td>SexyDiffusion</td>\n      <td>True</td>\n      <td>True</td>\n      <td>True</td>\n      <td>[]</td>\n    </tr>\n    <tr>\n      <th>3</th>\n      <td>105qvgl</td>\n      <td>AmIhotAF</td>\n      <td>CaitVLove11</td>\n      <td>Laughing is my favorite 😆</td>\n      <td>a woman in a blue tank top and shorts is smili...</td>\n      <td>27bfe82c37314a0bcf02ab72eaf3a9e5</td>\n      <td>/r/AmIhotAF/comments/105qvgl/laughing_is_my_fa...</td>\n      <td>https://i.redd.it/2pulzr0lxmaa1.jpg</td>\n      <td>105qvgl.jpg</td>\n      <td>data/image/105qvgl.jpg</td>\n      <td>SexyDiffusion</td>\n      <td>True</td>\n      <td>True</td>\n      <td>True</td>\n      <td>[]</td>\n    </tr>\n    <tr>\n      <th>4</th>\n      <td>105rpcj</td>\n      <td>AmIhotAF</td>\n      <td>Flashy-Desk1858</td>\n      <td>[f22] What do you think when you see me?</td>\n      <td>a woman in a blue bikini top and a blue bra top</td>\n      <td>329eb42b8267fa1cc2980da8e48bcef1</td>\n      <td>/r/AmIhotAF/comments/105rpcj/f22_what_do_you_t...</td>\n      <td>https://i.redd.it/rz68pf934naa1.jpg</td>\n      <td>105rpcj.jpg</td>\n      <td>data/image/105rpcj.jpg</td>\n      <td>SexyDiffusion</td>\n      <td>True</td>\n      <td>True</td>\n      <td>True</td>\n      <td>[]</td>\n    </tr>\n    <tr>\n      <th>...</th>\n      <td>...</td>\n      <td>...</td>\n      <td>...</td>\n      <td>...</td>\n      <td>...</td>\n      <td>...</td>\n      <td>...</td>\n      <td>...</td>\n      <td>...</td>\n      <td>...</td>\n      <td>...</td>\n      <td>...</td>\n      <td>...</td>\n      <td>...</td>\n      <td>...</td>\n    </tr>\n    <tr>\n      <th>41500</th>\n      <td>131dso7</td>\n      <td>DLAH</td>\n      <td>Wallydinger123</td>\n      <td>Happy B Day</td>\n      <td>there are three women posing for a picture in ...</td>\n      <td>ebb4b4a88dc79e2f2f57b10f32bf03c0</td>\n      <td>/r/DLAH/comments/131dso7/happy_b_day/</td>\n      <td>https://i.redd.it/36gurz533jwa1.jpg</td>\n      <td>131dso7.jpg</td>\n      <td>data/image/131dso7.jpg</td>\n      <td>PrettyGirlDiffusion</td>\n      <td>True</td>\n      <td>True</td>\n      <td>False</td>\n      <td>[]</td>\n    </tr>\n    <tr>\n      <th>41501</th>\n      <td>131eznp</td>\n      <td>DLAH</td>\n      <td>Long_dong111</td>\n      <td>Perfect</td>\n      <td>araffe woman in a white dress sitting on a pur...</td>\n      <td>5c944c6d62b1ae182c5a6a40c64195f4</td>\n      <td>/r/DLAH/comments/131eznp/perfect/</td>\n      <td>https://i.redd.it/dnbbx4zucjwa1.jpg</td>\n      <td>131eznp.jpg</td>\n      <td>data/image/131eznp.jpg</td>\n      <td>PrettyGirlDiffusion</td>\n      <td>True</td>\n      <td>True</td>\n      <td>True</td>\n      <td>[]</td>\n    </tr>\n    <tr>\n      <th>41502</th>\n      <td>131g3am</td>\n      <td>DLAH</td>\n      <td>ThrownAwayMiles</td>\n      <td>DLAH left or right</td>\n      <td>two women in short dresses posing for a pictur...</td>\n      <td>ab1f8fc33c85f4cfce12c810cf22229e</td>\n      <td>/r/DLAH/comments/131g3am/dlah_left_or_right/</td>\n      <td>https://i.redd.it/zpp70oor3lwa1.jpg</td>\n      <td>131g3am.jpg</td>\n      <td>data/image/131g3am.jpg</td>\n      <td>PrettyGirlDiffusion</td>\n      <td>True</td>\n      <td>True</td>\n      <td>True</td>\n      <td>[]</td>\n    </tr>\n    <tr>\n      <th>41503</th>\n      <td>131jvcx</td>\n      <td>DLAH</td>\n      <td>robok212</td>\n      <td>Good morning 😍</td>\n      <td>araffe in a pink dress posing on a white wall</td>\n      <td>01f5058855526ef25888cff88065db4c</td>\n      <td>/r/DLAH/comments/131jvcx/good_morning/</td>\n      <td>https://i.redd.it/ozmbfhjv3mwa1.jpg</td>\n      <td>131jvcx.jpg</td>\n      <td>data/image/131jvcx.jpg</td>\n      <td>PrettyGirlDiffusion</td>\n      <td>True</td>\n      <td>True</td>\n      <td>False</td>\n      <td>[]</td>\n    </tr>\n    <tr>\n      <th>41504</th>\n      <td>131n2by</td>\n      <td>DLAH</td>\n      <td>Dependent_Secret9424</td>\n      <td>Perfection (Sisters)</td>\n      <td>two women in shorts and sandals taking a selfi...</td>\n      <td>b162dd1999dbf9ea3c7adccd34624a46</td>\n      <td>/r/DLAH/comments/131n2by/perfection_sisters/</td>\n      <td>https://i.redd.it/pfg1u0aw1nwa1.jpg</td>\n      <td>131n2by.jpg</td>\n      <td>data/image/131n2by.jpg</td>\n      <td>PrettyGirlDiffusion</td>\n      <td>True</td>\n      <td>True</td>\n      <td>False</td>\n      <td>[]</td>\n    </tr>\n  </tbody>\n</table>\n<p>41505 rows × 15 columns</p>\n</div>"
     },
     "metadata": {},
     "output_type": "display_data"
    },
    {
     "name": "stdout",
     "output_type": "stream",
     "text": [
      "CPU times: total: 250 ms\n",
      "Wall time: 2.71 s\n"
     ]
    }
   ],
   "source": [
    "%%time\n",
    "\n",
    "extant_data.update(curated_data)\n",
    "updated_extant_data = extant_data.reset_index()\n",
    "\n",
    "display(\"==== UPDATED EXTANT DATA ====\")\n",
    "display(updated_extant_data.shape)\n",
    "display(updated_extant_data)\n",
    "updated_extant_data.to_parquet(\"data/processed_raw_data.parquet\", engine='pyarrow', filesystem=file_system, schema=schema)"
   ],
   "metadata": {
    "collapsed": false,
    "ExecuteTime": {
     "end_time": "2023-05-25T23:15:05.685109800Z",
     "start_time": "2023-05-25T23:15:01.609784600Z"
    }
   }
  },
  {
   "cell_type": "code",
   "execution_count": 7,
   "outputs": [
    {
     "name": "stdout",
     "output_type": "stream",
     "text": [
      "CPU times: total: 31.2 ms\n",
      "Wall time: 105 ms\n"
     ]
    }
   ],
   "source": [
    "%%time\n",
    "\n",
    "reddit: praw.Reddit = praw.Reddit(client_id='5hVavL0PIRyM_1JSvqT6UQ', client_secret='BjD2kS3WNLnJc59RKY-JJUuc_Z9-JA', user_agent='script:%(bot_name)s:v%(bot_version)s (by /u/%(bot_author)s)')"
   ],
   "metadata": {
    "collapsed": false,
    "ExecuteTime": {
     "end_time": "2023-05-25T23:15:06.056300800Z",
     "start_time": "2023-05-25T23:15:04.344479600Z"
    }
   }
  },
  {
   "cell_type": "code",
   "execution_count": 8,
   "outputs": [
    {
     "name": "stderr",
     "output_type": "stream",
     "text": [
      "Creating Temp Dir For Subs...: 100%|██████████| 18/18 [00:00<00:00, 8873.70it/s]\n"
     ]
    }
   ],
   "source": [
    "for sub in tqdm(subs, total=len(subs), desc=\"Creating Temp Dir For Subs...\"):\n",
    "\ttemp_dir_path_ = f\"temp/{sub}\"\n",
    "\tif not os.path.exists(temp_dir_path_):\n",
    "\t\tos.makedirs(temp_dir_path_)\n",
    "\tos.makedirs(temp_dir_path_, exist_ok=True)"
   ],
   "metadata": {
    "collapsed": false,
    "ExecuteTime": {
     "end_time": "2023-05-25T23:15:06.059304400Z",
     "start_time": "2023-05-25T23:15:04.466458200Z"
    }
   }
  },
  {
   "cell_type": "code",
   "execution_count": 9,
   "outputs": [
    {
     "name": "stderr",
     "output_type": "stream",
     "text": [
      "week:   0%|          | 0/18 [00:00<?, ?it/s]\n",
      "Posts - SFWRedheads - week:   0%|          | 0/100 [00:00<?, ?it/s]\u001B[A\n",
      "Posts - SFWRedheads - week:  21%|██        | 21/100 [00:00<00:00, 207.21it/s]\u001B[A\n",
      "Posts - SFWRedheads - week:  42%|████▏     | 42/100 [00:00<00:00, 206.76it/s]\u001B[A\n",
      "Posts - SFWRedheads - week:  63%|██████▎   | 63/100 [00:00<00:00, 203.30it/s]\u001B[A\n",
      "Posts - SFWRedheads - week: 100%|██████████| 100/100 [00:00<00:00, 205.51it/s][A\n",
      "week:   6%|▌         | 1/18 [00:01<00:30,  1.81s/it]\n",
      "Posts - sfwpetite - week:   0%|          | 0/42 [00:00<?, ?it/s]\u001B[A\n",
      "Posts - sfwpetite - week: 100%|██████████| 42/42 [00:00<00:00, 226.61it/s]\u001B[A\n",
      "week:  11%|█         | 2/18 [00:12<01:49,  6.87s/it]\n",
      "Posts - SFWNextDoorGirls - week:   0%|          | 0/100 [00:00<?, ?it/s]\u001B[A\n",
      "Posts - SFWNextDoorGirls - week:  22%|██▏       | 22/100 [00:00<00:00, 217.13it/s]\u001B[A\n",
      "Posts - SFWNextDoorGirls - week:  44%|████▍     | 44/100 [00:00<00:00, 208.38it/s]\u001B[A\n",
      "Posts - SFWNextDoorGirls - week:  65%|██████▌   | 65/100 [00:00<00:00, 207.96it/s]\u001B[A\n",
      "Posts - SFWNextDoorGirls - week: 100%|██████████| 100/100 [00:00<00:00, 210.59it/s][A\n",
      "week:  17%|█▋        | 3/18 [00:23<02:14,  8.98s/it]\n",
      "Posts - fatsquirrelhate - week:   0%|          | 0/100 [00:00<?, ?it/s]\u001B[A\n",
      "Posts - fatsquirrelhate - week:  22%|██▏       | 22/100 [00:00<00:00, 218.68it/s]\u001B[A\n",
      "Posts - fatsquirrelhate - week:  46%|████▌     | 46/100 [00:00<00:00, 226.23it/s]\u001B[A\n",
      "Posts - fatsquirrelhate - week:  69%|██████▉   | 69/100 [00:00<00:00, 225.76it/s]\u001B[A\n",
      "Posts - fatsquirrelhate - week: 100%|██████████| 100/100 [00:00<00:00, 222.77it/s][A\n",
      "week:  22%|██▏       | 4/18 [00:34<02:17,  9.83s/it]\n",
      "Posts - realasians - week:   0%|          | 0/100 [00:00<?, ?it/s]\u001B[A\n",
      "Posts - realasians - week:  24%|██▍       | 24/100 [00:00<00:00, 235.44it/s]\u001B[A\n",
      "Posts - realasians - week:  48%|████▊     | 48/100 [00:00<00:00, 226.39it/s]\u001B[A\n",
      "Posts - realasians - week:  72%|███████▏  | 72/100 [00:00<00:00, 227.88it/s]\u001B[A\n",
      "Posts - realasians - week: 100%|██████████| 100/100 [00:00<00:00, 222.76it/s][A\n",
      "week:  28%|██▊       | 5/18 [00:46<02:15, 10.41s/it]\n",
      "Posts - KoreanHotties - week:   0%|          | 0/100 [00:00<?, ?it/s]\u001B[A\n",
      "Posts - KoreanHotties - week:  23%|██▎       | 23/100 [00:00<00:00, 228.05it/s]\u001B[A\n",
      "Posts - KoreanHotties - week:  47%|████▋     | 47/100 [00:00<00:00, 232.64it/s]\u001B[A\n",
      "Posts - KoreanHotties - week:  71%|███████   | 71/100 [00:00<00:00, 232.05it/s]\u001B[A\n",
      "Posts - KoreanHotties - week: 100%|██████████| 100/100 [00:00<00:00, 231.43it/s][A\n",
      "week:  33%|███▎      | 6/18 [00:58<02:11, 10.94s/it]\n",
      "Posts - prettyasiangirls - week:   0%|          | 0/100 [00:00<?, ?it/s]\u001B[A\n",
      "Posts - prettyasiangirls - week:  23%|██▎       | 23/100 [00:00<00:00, 225.93it/s]\u001B[A\n",
      "Posts - prettyasiangirls - week:  46%|████▌     | 46/100 [00:00<00:00, 224.22it/s]\u001B[A\n",
      "Posts - prettyasiangirls - week:  69%|██████▉   | 69/100 [00:00<00:00, 225.05it/s]\u001B[A\n",
      "Posts - prettyasiangirls - week: 100%|██████████| 100/100 [00:00<00:00, 225.81it/s][A\n",
      "week:  39%|███▉      | 7/18 [01:09<02:00, 11.00s/it]\n",
      "Posts - AsianOfficeLady - week: 100%|██████████| 14/14 [00:00<00:00, 211.21it/s]\n",
      "week:  44%|████▍     | 8/18 [01:19<01:46, 10.63s/it]\n",
      "Posts - mildlypenis - week:   0%|          | 0/100 [00:00<?, ?it/s]\u001B[A\n",
      "Posts - mildlypenis - week:  24%|██▍       | 24/100 [00:00<00:00, 236.97it/s]\u001B[A\n",
      "Posts - mildlypenis - week:  48%|████▊     | 48/100 [00:00<00:00, 234.50it/s]\u001B[A\n",
      "Posts - mildlypenis - week:  72%|███████▏  | 72/100 [00:00<00:00, 223.41it/s]\u001B[A\n",
      "Posts - mildlypenis - week: 100%|██████████| 100/100 [00:00<00:00, 226.55it/s][A\n",
      "week:  50%|█████     | 9/18 [01:31<01:40, 11.14s/it]\n",
      "Posts - AsianInvasion - week: 100%|██████████| 14/14 [00:00<00:00, 218.82it/s]\n",
      "week:  56%|█████▌    | 10/18 [01:41<01:25, 10.73s/it]\n",
      "Posts - sexygirls - week:   0%|          | 0/85 [00:00<?, ?it/s]\u001B[A\n",
      "Posts - sexygirls - week:  28%|██▊       | 24/85 [00:00<00:00, 237.61it/s]\u001B[A\n",
      "Posts - sexygirls - week:  58%|█████▊    | 49/85 [00:00<00:00, 238.17it/s]\u001B[A\n",
      "Posts - sexygirls - week: 100%|██████████| 85/85 [00:00<00:00, 235.42it/s]\u001B[A\n",
      "week:  61%|██████    | 11/18 [01:52<01:15, 10.82s/it]\n",
      "Posts - PrettyGirls - week:   0%|          | 0/100 [00:00<?, ?it/s]\u001B[A\n",
      "Posts - PrettyGirls - week:  24%|██▍       | 24/100 [00:00<00:00, 236.29it/s]\u001B[A\n",
      "Posts - PrettyGirls - week:  48%|████▊     | 48/100 [00:00<00:00, 230.62it/s]\u001B[A\n",
      "Posts - PrettyGirls - week:  72%|███████▏  | 72/100 [00:00<00:00, 232.46it/s]\u001B[A\n",
      "Posts - PrettyGirls - week: 100%|██████████| 100/100 [00:00<00:00, 222.45it/s][A\n",
      "week:  67%|██████▋   | 12/18 [02:03<01:04, 10.79s/it]\n",
      "Posts - gentlemanboners - week:   0%|          | 0/100 [00:00<?, ?it/s]\u001B[A\n",
      "Posts - gentlemanboners - week:  23%|██▎       | 23/100 [00:00<00:00, 227.85it/s]\u001B[A\n",
      "Posts - gentlemanboners - week:  47%|████▋     | 47/100 [00:00<00:00, 229.90it/s]\u001B[A\n",
      "Posts - gentlemanboners - week:  71%|███████   | 71/100 [00:00<00:00, 230.21it/s]\u001B[A\n",
      "Posts - gentlemanboners - week: 100%|██████████| 100/100 [00:00<00:00, 229.47it/s][A\n",
      "week:  72%|███████▏  | 13/18 [02:13<00:53, 10.80s/it]\n",
      "Posts - hotofficegirls - week: 100%|██████████| 14/14 [00:00<00:00, 211.41it/s]\n",
      "week:  78%|███████▊  | 14/18 [02:23<00:42, 10.52s/it]\n",
      "Posts - tightdresses - week:   0%|          | 0/100 [00:00<?, ?it/s]\u001B[A\n",
      "Posts - tightdresses - week:  24%|██▍       | 24/100 [00:00<00:00, 234.15it/s]\u001B[A\n",
      "Posts - tightdresses - week:  48%|████▊     | 48/100 [00:00<00:00, 230.96it/s]\u001B[A\n",
      "Posts - tightdresses - week:  72%|███████▏  | 72/100 [00:00<00:00, 230.17it/s]\u001B[A\n",
      "Posts - tightdresses - week: 100%|██████████| 100/100 [00:00<00:00, 230.02it/s][A\n",
      "week:  83%|████████▎ | 15/18 [02:35<00:32, 10.85s/it]\n",
      "Posts - DLAH - week:   0%|          | 0/100 [00:00<?, ?it/s]\u001B[A\n",
      "Posts - DLAH - week:  25%|██▌       | 25/100 [00:00<00:00, 241.58it/s]\u001B[A\n",
      "Posts - DLAH - week:  50%|█████     | 50/100 [00:00<00:00, 237.41it/s]\u001B[A\n",
      "Posts - DLAH - week:  74%|███████▍  | 74/100 [00:00<00:00, 229.33it/s]\u001B[A\n",
      "Posts - DLAH - week: 100%|██████████| 100/100 [00:00<00:00, 230.82it/s][A\n",
      "week:  89%|████████▉ | 16/18 [02:46<00:22, 11.05s/it]\n",
      "Posts - bathandbodyworks - week:   0%|          | 0/100 [00:00<?, ?it/s]\u001B[A\n",
      "Posts - bathandbodyworks - week:  25%|██▌       | 25/100 [00:00<00:00, 246.19it/s]\u001B[A\n",
      "Posts - bathandbodyworks - week:  50%|█████     | 50/100 [00:00<00:00, 241.81it/s]\u001B[A\n",
      "Posts - bathandbodyworks - week:  75%|███████▌  | 75/100 [00:00<00:00, 234.02it/s]\u001B[A\n",
      "Posts - bathandbodyworks - week: 100%|██████████| 100/100 [00:00<00:00, 233.93it/s][A\n",
      "week:  94%|█████████▍| 17/18 [02:58<00:11, 11.09s/it]\n",
      "Posts - AesPleasingAsianGirls - week:   0%|          | 0/22 [00:00<?, ?it/s]\u001B[A\n",
      "Posts - AesPleasingAsianGirls - week: 100%|██████████| 22/22 [00:00<00:00, 214.30it/s]\u001B[A\n",
      "week: 100%|██████████| 18/18 [03:08<00:00, 10.46s/it]\n",
      "day:   0%|          | 0/18 [00:00<?, ?it/s]\n",
      "Posts - SFWRedheads - day:   0%|          | 0/67 [00:00<?, ?it/s]\u001B[A\n",
      "Posts - SFWRedheads - day:  37%|███▋      | 25/67 [00:00<00:00, 240.29it/s]\u001B[A\n",
      "Posts - SFWRedheads - day: 100%|██████████| 67/67 [00:00<00:00, 224.29it/s]\u001B[A\n",
      "day:   6%|▌         | 1/18 [00:10<03:03, 10.81s/it]\n",
      "Posts - sfwpetite - day: 100%|██████████| 4/4 [00:00<00:00, 263.73it/s]\n",
      "day:  11%|█         | 2/18 [00:20<02:44, 10.26s/it]\n",
      "Posts - SFWNextDoorGirls - day:   0%|          | 0/100 [00:00<?, ?it/s]\u001B[A\n",
      "Posts - SFWNextDoorGirls - day:  25%|██▌       | 25/100 [00:00<00:00, 245.49it/s]\u001B[A\n",
      "Posts - SFWNextDoorGirls - day:  50%|█████     | 50/100 [00:00<00:00, 230.28it/s]\u001B[A\n",
      "Posts - SFWNextDoorGirls - day:  74%|███████▍  | 74/100 [00:00<00:00, 226.88it/s]\u001B[A\n",
      "Posts - SFWNextDoorGirls - day: 100%|██████████| 100/100 [00:00<00:00, 226.37it/s][A\n",
      "day:  17%|█▋        | 3/18 [00:27<02:10,  8.68s/it]\n",
      "Posts - fatsquirrelhate - day: 100%|██████████| 19/19 [00:00<00:00, 218.82it/s]\n",
      "day:  22%|██▏       | 4/18 [00:30<01:32,  6.59s/it]\n",
      "Posts - realasians - day:   0%|          | 0/51 [00:00<?, ?it/s]\u001B[A\n",
      "Posts - realasians - day:  43%|████▎     | 22/51 [00:00<00:00, 218.98it/s]\u001B[A\n",
      "Posts - realasians - day: 100%|██████████| 51/51 [00:00<00:00, 220.88it/s]\u001B[A\n",
      "day:  28%|██▊       | 5/18 [00:33<01:05,  5.03s/it]\n",
      "Posts - KoreanHotties - day:   0%|          | 0/30 [00:00<?, ?it/s]\u001B[A\n",
      "Posts - KoreanHotties - day: 100%|██████████| 30/30 [00:00<00:00, 232.48it/s]\u001B[A\n",
      "day:  33%|███▎      | 6/18 [00:34<00:44,  3.75s/it]\n",
      "Posts - prettyasiangirls - day:   0%|          | 0/27 [00:00<?, ?it/s]\u001B[A\n",
      "Posts - prettyasiangirls - day: 100%|██████████| 27/27 [00:00<00:00, 232.55it/s]\u001B[A\n",
      "day:  39%|███▉      | 7/18 [00:35<00:32,  2.97s/it]\n",
      "Posts - AsianOfficeLady - day: 100%|██████████| 2/2 [00:00<00:00, 245.02it/s]\n",
      "day:  44%|████▍     | 8/18 [00:36<00:21,  2.18s/it]\n",
      "Posts - mildlypenis - day:   0%|          | 0/34 [00:00<?, ?it/s]\u001B[A\n",
      "Posts - mildlypenis - day: 100%|██████████| 34/34 [00:00<00:00, 235.28it/s]\u001B[A\n",
      "day:  50%|█████     | 9/18 [00:37<00:18,  2.04s/it]\n",
      "Posts - AsianInvasion - day: 100%|██████████| 2/2 [00:00<00:00, 161.89it/s]\n",
      "day:  56%|█████▌    | 10/18 [00:38<00:12,  1.55s/it]\n",
      "Posts - sexygirls - day: 100%|██████████| 18/18 [00:00<00:00, 262.95it/s]\n",
      "day:  61%|██████    | 11/18 [00:39<00:09,  1.32s/it]\n",
      "Posts - PrettyGirls - day: 100%|██████████| 15/15 [00:00<00:00, 244.23it/s]\n",
      "day:  67%|██████▋   | 12/18 [00:40<00:07,  1.28s/it]\n",
      "Posts - gentlemanboners - day:   0%|          | 0/30 [00:00<?, ?it/s]\u001B[A\n",
      "Posts - gentlemanboners - day: 100%|██████████| 30/30 [00:00<00:00, 234.24it/s]\u001B[A\n",
      "day:  72%|███████▏  | 13/18 [00:41<00:06,  1.29s/it]\n",
      "Posts - hotofficegirls - day: 100%|██████████| 2/2 [00:00<00:00, 121.72it/s]\n",
      "day:  78%|███████▊  | 14/18 [00:42<00:04,  1.05s/it]\n",
      "Posts - tightdresses - day:   0%|          | 0/43 [00:00<?, ?it/s]\u001B[A\n",
      "Posts - tightdresses - day: 100%|██████████| 43/43 [00:00<00:00, 224.42it/s]\u001B[A\n",
      "day:  83%|████████▎ | 15/18 [00:43<00:03,  1.25s/it]\n",
      "Posts - DLAH - day:   0%|          | 0/78 [00:00<?, ?it/s]\u001B[A\n",
      "Posts - DLAH - day:  32%|███▏      | 25/78 [00:00<00:00, 244.68it/s]\u001B[A\n",
      "Posts - DLAH - day:  64%|██████▍   | 50/78 [00:00<00:00, 235.37it/s]\u001B[A\n",
      "Posts - DLAH - day: 100%|██████████| 78/78 [00:00<00:00, 229.03it/s]\u001B[A\n",
      "day:  89%|████████▉ | 16/18 [00:46<00:03,  1.56s/it]\n",
      "Posts - bathandbodyworks - day:   0%|          | 0/33 [00:00<?, ?it/s]\u001B[A\n",
      "Posts - bathandbodyworks - day: 100%|██████████| 33/33 [00:00<00:00, 230.89it/s]\u001B[A\n",
      "day:  94%|█████████▍| 17/18 [00:47<00:01,  1.34s/it]\n",
      "Posts - AesPleasingAsianGirls - day: 100%|██████████| 3/3 [00:00<00:00, 224.54it/s]\n",
      "day: 100%|██████████| 18/18 [00:47<00:00,  2.62s/it]\n"
     ]
    }
   ],
   "source": [
    "with open('log.txt', 'a') as f:\n",
    "\tfor time_filter in ['week', 'day']:\n",
    "\t\ts = tqdm(subs, desc=f\"{time_filter}\", total=len(subs))\n",
    "\t\tfor sub in s:\n",
    "\t\t# for sub in tqdm(subs, desc=f\"{time_filter}\", total=len(subs)):\n",
    "\t\t\ttemp_dir_path = f\"temp/{sub}\"\n",
    "\t\t\ttry:\n",
    "\t\t\t\tsubreddit_stream: ListingGenerator = reddit.subreddit(display_name=sub).top(limit=100, time_filter=time_filter)\n",
    "\t\t\t\tsubreddit_stream = list(subreddit_stream)\n",
    "\t\t\t\tp = tqdm(subreddit_stream, total=len(subreddit_stream), desc=f\"Posts - {sub} - {time_filter}\")\n",
    "\t\t\t\tfor submission in p:\n",
    "\t\t\t\t\tif submission is None:\n",
    "\t\t\t\t\t\tcontinue\n",
    "\t\t\t\t\telse:\n",
    "\t\t\t\t\t\tif submission.id in extant_data.index.values:\n",
    "\t\t\t\t\t\t\tcontinue\n",
    "\t\t\t\t\ttry:\n",
    "\t\t\t\t\t\tauthor_name = 'Unknown'\n",
    "\t\t\t\t\t\tsubreddit_name = sub\n",
    "\t\t\t\t\t\ttry:\n",
    "\t\t\t\t\t\t\tauthor_name = submission.author.name\n",
    "\t\t\t\t\t\texcept Exception as e:\n",
    "\t\t\t\t\t\t\tauthor_name = 'Unknown'\n",
    "\t\t\t\t\t\t\tpass\n",
    "\t\t\t\t\t\tp = {\n",
    "\t\t\t\t\t\t\t'id': submission.id,\n",
    "\t\t\t\t\t\t\t'subreddit': subreddit_name,\n",
    "\t\t\t\t\t\t\t'author': author_name,\n",
    "\t\t\t\t\t\t\t'title': submission.title,\n",
    "\t\t\t\t\t\t\t'caption': '',\n",
    "\t\t\t\t\t\t\t'hash': '',\n",
    "\t\t\t\t\t\t\t'permalink': submission.permalink,\n",
    "\t\t\t\t\t\t\t'original_url': submission.url,\n",
    "\t\t\t\t\t\t\t'image_name': '',\n",
    "\t\t\t\t\t\t\t'path': '',\n",
    "\t\t\t\t\t\t\t'thumbnail_path': '',\n",
    "\t\t\t\t\t\t\t'exists': False,\n",
    "\t\t\t\t\t\t\t'curated': False,\n",
    "\t\t\t\t\t\t\t'Tags': ['']\n",
    "\t\t\t\t\t\t}\n",
    "\t\t\t\t\t\tpd.DataFrame([p]).to_parquet(f\"{temp_dir_path}/{submission.id}.parquet\")\n",
    "\t\t\t\t\texcept Exception as e:\n",
    "\t\t\t\t\t\tlog = functions.write_log_message(submission.id, sub, \"Error Writing Post\", e)\n",
    "\t\t\t\t\t\tf.write(log)\n",
    "\t\t\t\t\t\tcontinue\n",
    "\t\t\texcept Exception as e:\n",
    "\t\t\t\tlog = functions.write_log_message(submission.id, sub, f\"Error Getting Posts For SubReddit\", e)\n",
    "\t\t\t\tf.write(log)\n",
    "\t\t\t\tcontinue"
   ],
   "metadata": {
    "collapsed": false,
    "ExecuteTime": {
     "end_time": "2023-05-25T23:19:00.052389400Z",
     "start_time": "2023-05-25T23:15:04.515476900Z"
    }
   }
  },
  {
   "cell_type": "code",
   "execution_count": 10,
   "outputs": [
    {
     "name": "stderr",
     "output_type": "stream",
     "text": [
      "Reading Temp Dir For Subs...: 100%|██████████| 18/18 [00:01<00:00, 13.60it/s]\n"
     ]
    },
    {
     "data": {
      "text/plain": "'==== TEMP DATA ===='"
     },
     "metadata": {},
     "output_type": "display_data"
    },
    {
     "data": {
      "text/plain": "(3266, 15)"
     },
     "metadata": {},
     "output_type": "display_data"
    },
    {
     "data": {
      "text/plain": "              id              subreddit                author   \nid                                                              \n13h67sb  13h67sb            SFWRedheads       Dasharkiss_real  \\\n13h93zj  13h93zj            SFWRedheads       thatgirlmarie97   \n13h9lq5  13h9lq5            SFWRedheads              snildeep   \n13hc2uz  13hc2uz            SFWRedheads            nurselacey   \n13hcvxr  13hcvxr            SFWRedheads            Puzzled_MJ   \n...          ...                    ...                   ...   \n13qlj64  13qlj64  AesPleasingAsianGirls  throwaway83736365372   \n13qmsn4  13qmsn4  AesPleasingAsianGirls          yummybanchan   \n13r71qv  13r71qv  AesPleasingAsianGirls  Defiant-Appearance64   \n13rnflb  13rnflb  AesPleasingAsianGirls          yummybanchan   \n13rs1xc  13rs1xc  AesPleasingAsianGirls          yummybanchan   \n\n                                              title caption hash   \nid                                                                 \n13h67sb       Love life and life will love you too.               \\\n13h93zj               Who wants to play some games?                \n13h9lq5                Hey! My eyes are up here! 😂💕                \n13hc2uz                 How do you like my haircut?                \n13hcvxr  Happy Sunday. Where would u take me today?                \n...                                             ...     ...  ...   \n13qlj64                                       Habin                \n13qmsn4                                  Song Yu Qi                \n13r71qv                              RedVelvet Yeri                \n13rnflb                                       Jihyo                \n13rs1xc                                  Song Yu Qi                \n\n                                                 permalink   \nid                                                           \n13h67sb  /r/SFWRedheads/comments/13h67sb/love_life_and_...  \\\n13h93zj  /r/SFWRedheads/comments/13h93zj/who_wants_to_p...   \n13h9lq5  /r/SFWRedheads/comments/13h9lq5/hey_my_eyes_ar...   \n13hc2uz  /r/SFWRedheads/comments/13hc2uz/how_do_you_lik...   \n13hcvxr  /r/SFWRedheads/comments/13hcvxr/happy_sunday_w...   \n...                                                    ...   \n13qlj64   /r/AesPleasingAsianGirls/comments/13qlj64/habin/   \n13qmsn4  /r/AesPleasingAsianGirls/comments/13qmsn4/song...   \n13r71qv  /r/AesPleasingAsianGirls/comments/13r71qv/redv...   \n13rnflb   /r/AesPleasingAsianGirls/comments/13rnflb/jihyo/   \n13rs1xc  /r/AesPleasingAsianGirls/comments/13rs1xc/song...   \n\n                                   original_url   image_name path model   \nid                                                                        \n13h67sb         https://i.imgur.com/NBCDz3f.jpg  13h67sb.jpg             \\\n13h93zj  https://www.reddit.com/gallery/13h93zj  13h93zj.jpg              \n13h9lq5     https://i.redd.it/schip1qaotza1.jpg  13h9lq5.jpg              \n13hc2uz     https://i.redd.it/0qgvz4uy9uza1.jpg  13hc2uz.jpg              \n13hcvxr     https://i.redd.it/h6bwkyw8guza1.jpg  13hcvxr.jpg              \n...                                         ...          ...  ...   ...   \n13qlj64     https://i.redd.it/29soeuf3nt1b1.jpg  13qlj64.jpg              \n13qmsn4     https://i.redd.it/cdj3scvnvt1b1.jpg  13qmsn4.jpg              \n13r71qv        https://i.imgur.com/hEcFHmc.gifv  13r71qv.jpg              \n13rnflb     https://i.redd.it/8hf3r3d4x12b1.jpg  13rnflb.jpg              \n13rs1xc         https://v.redd.it/0zgrc88jb12b1  13rs1xc.jpg              \n\n         exists  curated accept tags  \nid                                    \n13h67sb   False    False  False   []  \n13h93zj   False    False  False   []  \n13h9lq5   False    False  False   []  \n13hc2uz   False    False  False   []  \n13hcvxr   False    False  False   []  \n...         ...      ...    ...  ...  \n13qlj64   False    False  False   []  \n13qmsn4   False    False  False   []  \n13r71qv   False    False  False   []  \n13rnflb   False    False  False   []  \n13rs1xc   False    False  False   []  \n\n[3266 rows x 15 columns]",
      "text/html": "<div>\n<style scoped>\n    .dataframe tbody tr th:only-of-type {\n        vertical-align: middle;\n    }\n\n    .dataframe tbody tr th {\n        vertical-align: top;\n    }\n\n    .dataframe thead th {\n        text-align: right;\n    }\n</style>\n<table border=\"1\" class=\"dataframe\">\n  <thead>\n    <tr style=\"text-align: right;\">\n      <th></th>\n      <th>id</th>\n      <th>subreddit</th>\n      <th>author</th>\n      <th>title</th>\n      <th>caption</th>\n      <th>hash</th>\n      <th>permalink</th>\n      <th>original_url</th>\n      <th>image_name</th>\n      <th>path</th>\n      <th>model</th>\n      <th>exists</th>\n      <th>curated</th>\n      <th>accept</th>\n      <th>tags</th>\n    </tr>\n    <tr>\n      <th>id</th>\n      <th></th>\n      <th></th>\n      <th></th>\n      <th></th>\n      <th></th>\n      <th></th>\n      <th></th>\n      <th></th>\n      <th></th>\n      <th></th>\n      <th></th>\n      <th></th>\n      <th></th>\n      <th></th>\n      <th></th>\n    </tr>\n  </thead>\n  <tbody>\n    <tr>\n      <th>13h67sb</th>\n      <td>13h67sb</td>\n      <td>SFWRedheads</td>\n      <td>Dasharkiss_real</td>\n      <td>Love life and life will love you too.</td>\n      <td></td>\n      <td></td>\n      <td>/r/SFWRedheads/comments/13h67sb/love_life_and_...</td>\n      <td>https://i.imgur.com/NBCDz3f.jpg</td>\n      <td>13h67sb.jpg</td>\n      <td></td>\n      <td></td>\n      <td>False</td>\n      <td>False</td>\n      <td>False</td>\n      <td>[]</td>\n    </tr>\n    <tr>\n      <th>13h93zj</th>\n      <td>13h93zj</td>\n      <td>SFWRedheads</td>\n      <td>thatgirlmarie97</td>\n      <td>Who wants to play some games?</td>\n      <td></td>\n      <td></td>\n      <td>/r/SFWRedheads/comments/13h93zj/who_wants_to_p...</td>\n      <td>https://www.reddit.com/gallery/13h93zj</td>\n      <td>13h93zj.jpg</td>\n      <td></td>\n      <td></td>\n      <td>False</td>\n      <td>False</td>\n      <td>False</td>\n      <td>[]</td>\n    </tr>\n    <tr>\n      <th>13h9lq5</th>\n      <td>13h9lq5</td>\n      <td>SFWRedheads</td>\n      <td>snildeep</td>\n      <td>Hey! My eyes are up here! 😂💕</td>\n      <td></td>\n      <td></td>\n      <td>/r/SFWRedheads/comments/13h9lq5/hey_my_eyes_ar...</td>\n      <td>https://i.redd.it/schip1qaotza1.jpg</td>\n      <td>13h9lq5.jpg</td>\n      <td></td>\n      <td></td>\n      <td>False</td>\n      <td>False</td>\n      <td>False</td>\n      <td>[]</td>\n    </tr>\n    <tr>\n      <th>13hc2uz</th>\n      <td>13hc2uz</td>\n      <td>SFWRedheads</td>\n      <td>nurselacey</td>\n      <td>How do you like my haircut?</td>\n      <td></td>\n      <td></td>\n      <td>/r/SFWRedheads/comments/13hc2uz/how_do_you_lik...</td>\n      <td>https://i.redd.it/0qgvz4uy9uza1.jpg</td>\n      <td>13hc2uz.jpg</td>\n      <td></td>\n      <td></td>\n      <td>False</td>\n      <td>False</td>\n      <td>False</td>\n      <td>[]</td>\n    </tr>\n    <tr>\n      <th>13hcvxr</th>\n      <td>13hcvxr</td>\n      <td>SFWRedheads</td>\n      <td>Puzzled_MJ</td>\n      <td>Happy Sunday. Where would u take me today?</td>\n      <td></td>\n      <td></td>\n      <td>/r/SFWRedheads/comments/13hcvxr/happy_sunday_w...</td>\n      <td>https://i.redd.it/h6bwkyw8guza1.jpg</td>\n      <td>13hcvxr.jpg</td>\n      <td></td>\n      <td></td>\n      <td>False</td>\n      <td>False</td>\n      <td>False</td>\n      <td>[]</td>\n    </tr>\n    <tr>\n      <th>...</th>\n      <td>...</td>\n      <td>...</td>\n      <td>...</td>\n      <td>...</td>\n      <td>...</td>\n      <td>...</td>\n      <td>...</td>\n      <td>...</td>\n      <td>...</td>\n      <td>...</td>\n      <td>...</td>\n      <td>...</td>\n      <td>...</td>\n      <td>...</td>\n      <td>...</td>\n    </tr>\n    <tr>\n      <th>13qlj64</th>\n      <td>13qlj64</td>\n      <td>AesPleasingAsianGirls</td>\n      <td>throwaway83736365372</td>\n      <td>Habin</td>\n      <td></td>\n      <td></td>\n      <td>/r/AesPleasingAsianGirls/comments/13qlj64/habin/</td>\n      <td>https://i.redd.it/29soeuf3nt1b1.jpg</td>\n      <td>13qlj64.jpg</td>\n      <td></td>\n      <td></td>\n      <td>False</td>\n      <td>False</td>\n      <td>False</td>\n      <td>[]</td>\n    </tr>\n    <tr>\n      <th>13qmsn4</th>\n      <td>13qmsn4</td>\n      <td>AesPleasingAsianGirls</td>\n      <td>yummybanchan</td>\n      <td>Song Yu Qi</td>\n      <td></td>\n      <td></td>\n      <td>/r/AesPleasingAsianGirls/comments/13qmsn4/song...</td>\n      <td>https://i.redd.it/cdj3scvnvt1b1.jpg</td>\n      <td>13qmsn4.jpg</td>\n      <td></td>\n      <td></td>\n      <td>False</td>\n      <td>False</td>\n      <td>False</td>\n      <td>[]</td>\n    </tr>\n    <tr>\n      <th>13r71qv</th>\n      <td>13r71qv</td>\n      <td>AesPleasingAsianGirls</td>\n      <td>Defiant-Appearance64</td>\n      <td>RedVelvet Yeri</td>\n      <td></td>\n      <td></td>\n      <td>/r/AesPleasingAsianGirls/comments/13r71qv/redv...</td>\n      <td>https://i.imgur.com/hEcFHmc.gifv</td>\n      <td>13r71qv.jpg</td>\n      <td></td>\n      <td></td>\n      <td>False</td>\n      <td>False</td>\n      <td>False</td>\n      <td>[]</td>\n    </tr>\n    <tr>\n      <th>13rnflb</th>\n      <td>13rnflb</td>\n      <td>AesPleasingAsianGirls</td>\n      <td>yummybanchan</td>\n      <td>Jihyo</td>\n      <td></td>\n      <td></td>\n      <td>/r/AesPleasingAsianGirls/comments/13rnflb/jihyo/</td>\n      <td>https://i.redd.it/8hf3r3d4x12b1.jpg</td>\n      <td>13rnflb.jpg</td>\n      <td></td>\n      <td></td>\n      <td>False</td>\n      <td>False</td>\n      <td>False</td>\n      <td>[]</td>\n    </tr>\n    <tr>\n      <th>13rs1xc</th>\n      <td>13rs1xc</td>\n      <td>AesPleasingAsianGirls</td>\n      <td>yummybanchan</td>\n      <td>Song Yu Qi</td>\n      <td></td>\n      <td></td>\n      <td>/r/AesPleasingAsianGirls/comments/13rs1xc/song...</td>\n      <td>https://v.redd.it/0zgrc88jb12b1</td>\n      <td>13rs1xc.jpg</td>\n      <td></td>\n      <td></td>\n      <td>False</td>\n      <td>False</td>\n      <td>False</td>\n      <td>[]</td>\n    </tr>\n  </tbody>\n</table>\n<p>3266 rows × 15 columns</p>\n</div>"
     },
     "metadata": {},
     "output_type": "display_data"
    },
    {
     "name": "stdout",
     "output_type": "stream",
     "text": [
      "CPU times: total: 10.2 s\n",
      "Wall time: 4.16 s\n"
     ]
    }
   ],
   "source": [
    "%%time\n",
    "\n",
    "data = []\n",
    "for sub in tqdm(subs, desc=\"Reading Temp Dir For Subs...\"):\n",
    "\tdf = pandas.read_parquet(f\"temp/{sub}\", schema=schema, engine='pyarrow')\n",
    "\trecords = df.to_dict(orient='records')\n",
    "\tdata.extend(records)\n",
    "\n",
    "temp_data = pandas.DataFrame(data)\n",
    "\n",
    "for i, r in temp_data.iterrows():\n",
    "\ttemp_data.loc[i, 'image_name'] = r.id + \".jpg\"\n",
    "\ttemp_data.loc[i, 'path'] = \"\"\n",
    "\ttemp_data.loc[i, 'hash'] = \"\"\n",
    "\ttemp_data.loc[i, 'caption'] = \"\"\n",
    "\ttemp_data.loc[i, 'model'] = \"\"\n",
    "\ttemp_data.loc[i, 'exists'] = False\n",
    "\ttemp_data.loc[i, 'curated'] = False\n",
    "\ttemp_data.loc[i, 'accept'] = False\n",
    "\ttemp_data.loc[i, 'tags'] = ['']\n",
    "\n",
    "temp_data.set_index('id', inplace=True, drop=False)\n",
    "\n",
    "display(\"==== TEMP DATA ====\")\n",
    "display(temp_data.shape)\n",
    "display(temp_data)"
   ],
   "metadata": {
    "collapsed": false
   }
  },
  {
   "cell_type": "code",
   "execution_count": 11,
   "outputs": [
    {
     "data": {
      "text/plain": "'==== FILTERED DATA ===='"
     },
     "metadata": {},
     "output_type": "display_data"
    },
    {
     "data": {
      "text/plain": "(837, 15)"
     },
     "metadata": {},
     "output_type": "display_data"
    },
    {
     "data": {
      "text/plain": "              id              subreddit                author   \nid                                                              \n13hgme0  13hgme0            SFWRedheads          Redhotwife88  \\\n13ibnsi  13ibnsi            SFWRedheads       Dasharkiss_real   \n13imeet  13imeet            SFWRedheads             imjenrose   \n13jm7mh  13jm7mh            SFWRedheads          Redhotwife88   \n13o2vke  13o2vke            SFWRedheads            nurselacey   \n...          ...                    ...                   ...   \n13po3eq  13po3eq  AesPleasingAsianGirls  throwaway83736365372   \n13pq23t  13pq23t  AesPleasingAsianGirls         theowuriwufoa   \n13qlj64  13qlj64  AesPleasingAsianGirls  throwaway83736365372   \n13qmsn4  13qmsn4  AesPleasingAsianGirls          yummybanchan   \n13rnflb  13rnflb  AesPleasingAsianGirls          yummybanchan   \n\n                                                     title caption hash   \nid                                                                        \n13hgme0     I Love wearing my Leather Pants and Heels! [F]               \\\n13ibnsi  I can live without money but I can't live with...                \n13imeet              Adorable girl to make your day better                \n13jm7mh      Do I look Cute for my Anniversary Dinner? [F]                \n13o2vke                                      Sunday Funday                \n...                                                    ...     ...  ...   \n13po3eq                                              Habin                \n13pq23t                                         Car selfie                \n13qlj64                                              Habin                \n13qmsn4                                         Song Yu Qi                \n13rnflb                                              Jihyo                \n\n                                                 permalink   \nid                                                           \n13hgme0  /r/SFWRedheads/comments/13hgme0/i_love_wearing...  \\\n13ibnsi  /r/SFWRedheads/comments/13ibnsi/i_can_live_wit...   \n13imeet  /r/SFWRedheads/comments/13imeet/adorable_girl_...   \n13jm7mh  /r/SFWRedheads/comments/13jm7mh/do_i_look_cute...   \n13o2vke     /r/SFWRedheads/comments/13o2vke/sunday_funday/   \n...                                                    ...   \n13po3eq   /r/AesPleasingAsianGirls/comments/13po3eq/habin/   \n13pq23t  /r/AesPleasingAsianGirls/comments/13pq23t/car_...   \n13qlj64   /r/AesPleasingAsianGirls/comments/13qlj64/habin/   \n13qmsn4  /r/AesPleasingAsianGirls/comments/13qmsn4/song...   \n13rnflb   /r/AesPleasingAsianGirls/comments/13rnflb/jihyo/   \n\n                                              original_url   image_name path   \nid                                                                             \n13hgme0    https://i.redgifs.com/i/frayedmadeupsparrow.jpg  13hgme0.jpg       \\\n13ibnsi    https://i.redgifs.com/i/imaginaryrawleveret.jpg  13ibnsi.jpg        \n13imeet  https://i.redgifs.com/i/dangerousfilthyhornedv...  13imeet.jpg        \n13jm7mh  https://i.redgifs.com/i/tensedarkmagentabedlin...  13jm7mh.jpg        \n13o2vke                https://i.redd.it/5c4jh6kmu91b1.jpg  13o2vke.jpg        \n...                                                    ...          ...  ...   \n13po3eq                https://i.redd.it/6an1c1zagm1b1.jpg  13po3eq.jpg        \n13pq23t                https://i.redd.it/3lg7bn3ntm1b1.jpg  13pq23t.jpg        \n13qlj64                https://i.redd.it/29soeuf3nt1b1.jpg  13qlj64.jpg        \n13qmsn4                https://i.redd.it/cdj3scvnvt1b1.jpg  13qmsn4.jpg        \n13rnflb                https://i.redd.it/8hf3r3d4x12b1.jpg  13rnflb.jpg        \n\n        model  exists  curated accept tags  \nid                                          \n13hgme0         False    False  False   []  \n13ibnsi         False    False  False   []  \n13imeet         False    False  False   []  \n13jm7mh         False    False  False   []  \n13o2vke         False    False  False   []  \n...       ...     ...      ...    ...  ...  \n13po3eq         False    False  False   []  \n13pq23t         False    False  False   []  \n13qlj64         False    False  False   []  \n13qmsn4         False    False  False   []  \n13rnflb         False    False  False   []  \n\n[837 rows x 15 columns]",
      "text/html": "<div>\n<style scoped>\n    .dataframe tbody tr th:only-of-type {\n        vertical-align: middle;\n    }\n\n    .dataframe tbody tr th {\n        vertical-align: top;\n    }\n\n    .dataframe thead th {\n        text-align: right;\n    }\n</style>\n<table border=\"1\" class=\"dataframe\">\n  <thead>\n    <tr style=\"text-align: right;\">\n      <th></th>\n      <th>id</th>\n      <th>subreddit</th>\n      <th>author</th>\n      <th>title</th>\n      <th>caption</th>\n      <th>hash</th>\n      <th>permalink</th>\n      <th>original_url</th>\n      <th>image_name</th>\n      <th>path</th>\n      <th>model</th>\n      <th>exists</th>\n      <th>curated</th>\n      <th>accept</th>\n      <th>tags</th>\n    </tr>\n    <tr>\n      <th>id</th>\n      <th></th>\n      <th></th>\n      <th></th>\n      <th></th>\n      <th></th>\n      <th></th>\n      <th></th>\n      <th></th>\n      <th></th>\n      <th></th>\n      <th></th>\n      <th></th>\n      <th></th>\n      <th></th>\n      <th></th>\n    </tr>\n  </thead>\n  <tbody>\n    <tr>\n      <th>13hgme0</th>\n      <td>13hgme0</td>\n      <td>SFWRedheads</td>\n      <td>Redhotwife88</td>\n      <td>I Love wearing my Leather Pants and Heels! [F]</td>\n      <td></td>\n      <td></td>\n      <td>/r/SFWRedheads/comments/13hgme0/i_love_wearing...</td>\n      <td>https://i.redgifs.com/i/frayedmadeupsparrow.jpg</td>\n      <td>13hgme0.jpg</td>\n      <td></td>\n      <td></td>\n      <td>False</td>\n      <td>False</td>\n      <td>False</td>\n      <td>[]</td>\n    </tr>\n    <tr>\n      <th>13ibnsi</th>\n      <td>13ibnsi</td>\n      <td>SFWRedheads</td>\n      <td>Dasharkiss_real</td>\n      <td>I can live without money but I can't live with...</td>\n      <td></td>\n      <td></td>\n      <td>/r/SFWRedheads/comments/13ibnsi/i_can_live_wit...</td>\n      <td>https://i.redgifs.com/i/imaginaryrawleveret.jpg</td>\n      <td>13ibnsi.jpg</td>\n      <td></td>\n      <td></td>\n      <td>False</td>\n      <td>False</td>\n      <td>False</td>\n      <td>[]</td>\n    </tr>\n    <tr>\n      <th>13imeet</th>\n      <td>13imeet</td>\n      <td>SFWRedheads</td>\n      <td>imjenrose</td>\n      <td>Adorable girl to make your day better</td>\n      <td></td>\n      <td></td>\n      <td>/r/SFWRedheads/comments/13imeet/adorable_girl_...</td>\n      <td>https://i.redgifs.com/i/dangerousfilthyhornedv...</td>\n      <td>13imeet.jpg</td>\n      <td></td>\n      <td></td>\n      <td>False</td>\n      <td>False</td>\n      <td>False</td>\n      <td>[]</td>\n    </tr>\n    <tr>\n      <th>13jm7mh</th>\n      <td>13jm7mh</td>\n      <td>SFWRedheads</td>\n      <td>Redhotwife88</td>\n      <td>Do I look Cute for my Anniversary Dinner? [F]</td>\n      <td></td>\n      <td></td>\n      <td>/r/SFWRedheads/comments/13jm7mh/do_i_look_cute...</td>\n      <td>https://i.redgifs.com/i/tensedarkmagentabedlin...</td>\n      <td>13jm7mh.jpg</td>\n      <td></td>\n      <td></td>\n      <td>False</td>\n      <td>False</td>\n      <td>False</td>\n      <td>[]</td>\n    </tr>\n    <tr>\n      <th>13o2vke</th>\n      <td>13o2vke</td>\n      <td>SFWRedheads</td>\n      <td>nurselacey</td>\n      <td>Sunday Funday</td>\n      <td></td>\n      <td></td>\n      <td>/r/SFWRedheads/comments/13o2vke/sunday_funday/</td>\n      <td>https://i.redd.it/5c4jh6kmu91b1.jpg</td>\n      <td>13o2vke.jpg</td>\n      <td></td>\n      <td></td>\n      <td>False</td>\n      <td>False</td>\n      <td>False</td>\n      <td>[]</td>\n    </tr>\n    <tr>\n      <th>...</th>\n      <td>...</td>\n      <td>...</td>\n      <td>...</td>\n      <td>...</td>\n      <td>...</td>\n      <td>...</td>\n      <td>...</td>\n      <td>...</td>\n      <td>...</td>\n      <td>...</td>\n      <td>...</td>\n      <td>...</td>\n      <td>...</td>\n      <td>...</td>\n      <td>...</td>\n    </tr>\n    <tr>\n      <th>13po3eq</th>\n      <td>13po3eq</td>\n      <td>AesPleasingAsianGirls</td>\n      <td>throwaway83736365372</td>\n      <td>Habin</td>\n      <td></td>\n      <td></td>\n      <td>/r/AesPleasingAsianGirls/comments/13po3eq/habin/</td>\n      <td>https://i.redd.it/6an1c1zagm1b1.jpg</td>\n      <td>13po3eq.jpg</td>\n      <td></td>\n      <td></td>\n      <td>False</td>\n      <td>False</td>\n      <td>False</td>\n      <td>[]</td>\n    </tr>\n    <tr>\n      <th>13pq23t</th>\n      <td>13pq23t</td>\n      <td>AesPleasingAsianGirls</td>\n      <td>theowuriwufoa</td>\n      <td>Car selfie</td>\n      <td></td>\n      <td></td>\n      <td>/r/AesPleasingAsianGirls/comments/13pq23t/car_...</td>\n      <td>https://i.redd.it/3lg7bn3ntm1b1.jpg</td>\n      <td>13pq23t.jpg</td>\n      <td></td>\n      <td></td>\n      <td>False</td>\n      <td>False</td>\n      <td>False</td>\n      <td>[]</td>\n    </tr>\n    <tr>\n      <th>13qlj64</th>\n      <td>13qlj64</td>\n      <td>AesPleasingAsianGirls</td>\n      <td>throwaway83736365372</td>\n      <td>Habin</td>\n      <td></td>\n      <td></td>\n      <td>/r/AesPleasingAsianGirls/comments/13qlj64/habin/</td>\n      <td>https://i.redd.it/29soeuf3nt1b1.jpg</td>\n      <td>13qlj64.jpg</td>\n      <td></td>\n      <td></td>\n      <td>False</td>\n      <td>False</td>\n      <td>False</td>\n      <td>[]</td>\n    </tr>\n    <tr>\n      <th>13qmsn4</th>\n      <td>13qmsn4</td>\n      <td>AesPleasingAsianGirls</td>\n      <td>yummybanchan</td>\n      <td>Song Yu Qi</td>\n      <td></td>\n      <td></td>\n      <td>/r/AesPleasingAsianGirls/comments/13qmsn4/song...</td>\n      <td>https://i.redd.it/cdj3scvnvt1b1.jpg</td>\n      <td>13qmsn4.jpg</td>\n      <td></td>\n      <td></td>\n      <td>False</td>\n      <td>False</td>\n      <td>False</td>\n      <td>[]</td>\n    </tr>\n    <tr>\n      <th>13rnflb</th>\n      <td>13rnflb</td>\n      <td>AesPleasingAsianGirls</td>\n      <td>yummybanchan</td>\n      <td>Jihyo</td>\n      <td></td>\n      <td></td>\n      <td>/r/AesPleasingAsianGirls/comments/13rnflb/jihyo/</td>\n      <td>https://i.redd.it/8hf3r3d4x12b1.jpg</td>\n      <td>13rnflb.jpg</td>\n      <td></td>\n      <td></td>\n      <td>False</td>\n      <td>False</td>\n      <td>False</td>\n      <td>[]</td>\n    </tr>\n  </tbody>\n</table>\n<p>837 rows × 15 columns</p>\n</div>"
     },
     "metadata": {},
     "output_type": "display_data"
    },
    {
     "name": "stdout",
     "output_type": "stream",
     "text": [
      "CPU times: total: 15.6 ms\n",
      "Wall time: 22.5 ms\n"
     ]
    }
   ],
   "source": [
    "%%time\n",
    "\n",
    "filtered = temp_data[~temp_data['id'].isin(extant_data.index.values) & temp_data['original_url'].str.endswith('.jpg') & (~temp_data['id'].isin(curated_data.index.values))]\n",
    "\n",
    "filtered.dropna(axis=1, how='all')\n",
    "\n",
    "filtered.reset_index(drop=True, inplace=True)\n",
    "\n",
    "filtered.set_index('id', inplace=True, drop=False)\n",
    "\n",
    "display(\"==== FILTERED DATA ====\")\n",
    "\n",
    "display(filtered.shape)\n",
    "\n",
    "display(filtered)"
   ],
   "metadata": {
    "collapsed": false
   }
  },
  {
   "cell_type": "code",
   "execution_count": 12,
   "outputs": [
    {
     "name": "stderr",
     "output_type": "stream",
     "text": [
      "Progress: 100%|██████████| 837/837 [00:00<00:00, 118446.39it/s]\n",
      "<timed exec>:1: SettingWithCopyWarning: \n",
      "A value is trying to be set on a copy of a slice from a DataFrame.\n",
      "Try using .loc[row_indexer,col_indexer] = value instead\n",
      "\n",
      "See the caveats in the documentation: https://pandas.pydata.org/pandas-docs/stable/user_guide/indexing.html#returning-a-view-versus-a-copy\n"
     ]
    },
    {
     "data": {
      "text/plain": "'== Filtered Data With Model =='"
     },
     "metadata": {},
     "output_type": "display_data"
    },
    {
     "data": {
      "text/plain": "(837, 15)"
     },
     "metadata": {},
     "output_type": "display_data"
    },
    {
     "data": {
      "text/plain": "              id              subreddit                author   \nid                                                              \n13hgme0  13hgme0            SFWRedheads          Redhotwife88  \\\n13ibnsi  13ibnsi            SFWRedheads       Dasharkiss_real   \n13imeet  13imeet            SFWRedheads             imjenrose   \n13jm7mh  13jm7mh            SFWRedheads          Redhotwife88   \n13o2vke  13o2vke            SFWRedheads            nurselacey   \n...          ...                    ...                   ...   \n13po3eq  13po3eq  AesPleasingAsianGirls  throwaway83736365372   \n13pq23t  13pq23t  AesPleasingAsianGirls         theowuriwufoa   \n13qlj64  13qlj64  AesPleasingAsianGirls  throwaway83736365372   \n13qmsn4  13qmsn4  AesPleasingAsianGirls          yummybanchan   \n13rnflb  13rnflb  AesPleasingAsianGirls          yummybanchan   \n\n                                                     title caption hash   \nid                                                                        \n13hgme0     I Love wearing my Leather Pants and Heels! [F]               \\\n13ibnsi  I can live without money but I can't live with...                \n13imeet              Adorable girl to make your day better                \n13jm7mh      Do I look Cute for my Anniversary Dinner? [F]                \n13o2vke                                      Sunday Funday                \n...                                                    ...     ...  ...   \n13po3eq                                              Habin                \n13pq23t                                         Car selfie                \n13qlj64                                              Habin                \n13qmsn4                                         Song Yu Qi                \n13rnflb                                              Jihyo                \n\n                                                 permalink   \nid                                                           \n13hgme0  /r/SFWRedheads/comments/13hgme0/i_love_wearing...  \\\n13ibnsi  /r/SFWRedheads/comments/13ibnsi/i_can_live_wit...   \n13imeet  /r/SFWRedheads/comments/13imeet/adorable_girl_...   \n13jm7mh  /r/SFWRedheads/comments/13jm7mh/do_i_look_cute...   \n13o2vke     /r/SFWRedheads/comments/13o2vke/sunday_funday/   \n...                                                    ...   \n13po3eq   /r/AesPleasingAsianGirls/comments/13po3eq/habin/   \n13pq23t  /r/AesPleasingAsianGirls/comments/13pq23t/car_...   \n13qlj64   /r/AesPleasingAsianGirls/comments/13qlj64/habin/   \n13qmsn4  /r/AesPleasingAsianGirls/comments/13qmsn4/song...   \n13rnflb   /r/AesPleasingAsianGirls/comments/13rnflb/jihyo/   \n\n                                              original_url   image_name path   \nid                                                                             \n13hgme0    https://i.redgifs.com/i/frayedmadeupsparrow.jpg  13hgme0.jpg       \\\n13ibnsi    https://i.redgifs.com/i/imaginaryrawleveret.jpg  13ibnsi.jpg        \n13imeet  https://i.redgifs.com/i/dangerousfilthyhornedv...  13imeet.jpg        \n13jm7mh  https://i.redgifs.com/i/tensedarkmagentabedlin...  13jm7mh.jpg        \n13o2vke                https://i.redd.it/5c4jh6kmu91b1.jpg  13o2vke.jpg        \n...                                                    ...          ...  ...   \n13po3eq                https://i.redd.it/6an1c1zagm1b1.jpg  13po3eq.jpg        \n13pq23t                https://i.redd.it/3lg7bn3ntm1b1.jpg  13pq23t.jpg        \n13qlj64                https://i.redd.it/29soeuf3nt1b1.jpg  13qlj64.jpg        \n13qmsn4                https://i.redd.it/cdj3scvnvt1b1.jpg  13qmsn4.jpg        \n13rnflb                https://i.redd.it/8hf3r3d4x12b1.jpg  13rnflb.jpg        \n\n                      model  exists  curated accept tags  \nid                                                        \n13hgme0    RedHeadDiffusion   False    False  False   []  \n13ibnsi    RedHeadDiffusion   False    False  False   []  \n13imeet    RedHeadDiffusion   False    False  False   []  \n13jm7mh    RedHeadDiffusion   False    False  False   []  \n13o2vke    RedHeadDiffusion   False    False  False   []  \n...                     ...     ...      ...    ...  ...  \n13po3eq  SexyAsianDiffusion   False    False  False   []  \n13pq23t  SexyAsianDiffusion   False    False  False   []  \n13qlj64  SexyAsianDiffusion   False    False  False   []  \n13qmsn4  SexyAsianDiffusion   False    False  False   []  \n13rnflb  SexyAsianDiffusion   False    False  False   []  \n\n[837 rows x 15 columns]",
      "text/html": "<div>\n<style scoped>\n    .dataframe tbody tr th:only-of-type {\n        vertical-align: middle;\n    }\n\n    .dataframe tbody tr th {\n        vertical-align: top;\n    }\n\n    .dataframe thead th {\n        text-align: right;\n    }\n</style>\n<table border=\"1\" class=\"dataframe\">\n  <thead>\n    <tr style=\"text-align: right;\">\n      <th></th>\n      <th>id</th>\n      <th>subreddit</th>\n      <th>author</th>\n      <th>title</th>\n      <th>caption</th>\n      <th>hash</th>\n      <th>permalink</th>\n      <th>original_url</th>\n      <th>image_name</th>\n      <th>path</th>\n      <th>model</th>\n      <th>exists</th>\n      <th>curated</th>\n      <th>accept</th>\n      <th>tags</th>\n    </tr>\n    <tr>\n      <th>id</th>\n      <th></th>\n      <th></th>\n      <th></th>\n      <th></th>\n      <th></th>\n      <th></th>\n      <th></th>\n      <th></th>\n      <th></th>\n      <th></th>\n      <th></th>\n      <th></th>\n      <th></th>\n      <th></th>\n      <th></th>\n    </tr>\n  </thead>\n  <tbody>\n    <tr>\n      <th>13hgme0</th>\n      <td>13hgme0</td>\n      <td>SFWRedheads</td>\n      <td>Redhotwife88</td>\n      <td>I Love wearing my Leather Pants and Heels! [F]</td>\n      <td></td>\n      <td></td>\n      <td>/r/SFWRedheads/comments/13hgme0/i_love_wearing...</td>\n      <td>https://i.redgifs.com/i/frayedmadeupsparrow.jpg</td>\n      <td>13hgme0.jpg</td>\n      <td></td>\n      <td>RedHeadDiffusion</td>\n      <td>False</td>\n      <td>False</td>\n      <td>False</td>\n      <td>[]</td>\n    </tr>\n    <tr>\n      <th>13ibnsi</th>\n      <td>13ibnsi</td>\n      <td>SFWRedheads</td>\n      <td>Dasharkiss_real</td>\n      <td>I can live without money but I can't live with...</td>\n      <td></td>\n      <td></td>\n      <td>/r/SFWRedheads/comments/13ibnsi/i_can_live_wit...</td>\n      <td>https://i.redgifs.com/i/imaginaryrawleveret.jpg</td>\n      <td>13ibnsi.jpg</td>\n      <td></td>\n      <td>RedHeadDiffusion</td>\n      <td>False</td>\n      <td>False</td>\n      <td>False</td>\n      <td>[]</td>\n    </tr>\n    <tr>\n      <th>13imeet</th>\n      <td>13imeet</td>\n      <td>SFWRedheads</td>\n      <td>imjenrose</td>\n      <td>Adorable girl to make your day better</td>\n      <td></td>\n      <td></td>\n      <td>/r/SFWRedheads/comments/13imeet/adorable_girl_...</td>\n      <td>https://i.redgifs.com/i/dangerousfilthyhornedv...</td>\n      <td>13imeet.jpg</td>\n      <td></td>\n      <td>RedHeadDiffusion</td>\n      <td>False</td>\n      <td>False</td>\n      <td>False</td>\n      <td>[]</td>\n    </tr>\n    <tr>\n      <th>13jm7mh</th>\n      <td>13jm7mh</td>\n      <td>SFWRedheads</td>\n      <td>Redhotwife88</td>\n      <td>Do I look Cute for my Anniversary Dinner? [F]</td>\n      <td></td>\n      <td></td>\n      <td>/r/SFWRedheads/comments/13jm7mh/do_i_look_cute...</td>\n      <td>https://i.redgifs.com/i/tensedarkmagentabedlin...</td>\n      <td>13jm7mh.jpg</td>\n      <td></td>\n      <td>RedHeadDiffusion</td>\n      <td>False</td>\n      <td>False</td>\n      <td>False</td>\n      <td>[]</td>\n    </tr>\n    <tr>\n      <th>13o2vke</th>\n      <td>13o2vke</td>\n      <td>SFWRedheads</td>\n      <td>nurselacey</td>\n      <td>Sunday Funday</td>\n      <td></td>\n      <td></td>\n      <td>/r/SFWRedheads/comments/13o2vke/sunday_funday/</td>\n      <td>https://i.redd.it/5c4jh6kmu91b1.jpg</td>\n      <td>13o2vke.jpg</td>\n      <td></td>\n      <td>RedHeadDiffusion</td>\n      <td>False</td>\n      <td>False</td>\n      <td>False</td>\n      <td>[]</td>\n    </tr>\n    <tr>\n      <th>...</th>\n      <td>...</td>\n      <td>...</td>\n      <td>...</td>\n      <td>...</td>\n      <td>...</td>\n      <td>...</td>\n      <td>...</td>\n      <td>...</td>\n      <td>...</td>\n      <td>...</td>\n      <td>...</td>\n      <td>...</td>\n      <td>...</td>\n      <td>...</td>\n      <td>...</td>\n    </tr>\n    <tr>\n      <th>13po3eq</th>\n      <td>13po3eq</td>\n      <td>AesPleasingAsianGirls</td>\n      <td>throwaway83736365372</td>\n      <td>Habin</td>\n      <td></td>\n      <td></td>\n      <td>/r/AesPleasingAsianGirls/comments/13po3eq/habin/</td>\n      <td>https://i.redd.it/6an1c1zagm1b1.jpg</td>\n      <td>13po3eq.jpg</td>\n      <td></td>\n      <td>SexyAsianDiffusion</td>\n      <td>False</td>\n      <td>False</td>\n      <td>False</td>\n      <td>[]</td>\n    </tr>\n    <tr>\n      <th>13pq23t</th>\n      <td>13pq23t</td>\n      <td>AesPleasingAsianGirls</td>\n      <td>theowuriwufoa</td>\n      <td>Car selfie</td>\n      <td></td>\n      <td></td>\n      <td>/r/AesPleasingAsianGirls/comments/13pq23t/car_...</td>\n      <td>https://i.redd.it/3lg7bn3ntm1b1.jpg</td>\n      <td>13pq23t.jpg</td>\n      <td></td>\n      <td>SexyAsianDiffusion</td>\n      <td>False</td>\n      <td>False</td>\n      <td>False</td>\n      <td>[]</td>\n    </tr>\n    <tr>\n      <th>13qlj64</th>\n      <td>13qlj64</td>\n      <td>AesPleasingAsianGirls</td>\n      <td>throwaway83736365372</td>\n      <td>Habin</td>\n      <td></td>\n      <td></td>\n      <td>/r/AesPleasingAsianGirls/comments/13qlj64/habin/</td>\n      <td>https://i.redd.it/29soeuf3nt1b1.jpg</td>\n      <td>13qlj64.jpg</td>\n      <td></td>\n      <td>SexyAsianDiffusion</td>\n      <td>False</td>\n      <td>False</td>\n      <td>False</td>\n      <td>[]</td>\n    </tr>\n    <tr>\n      <th>13qmsn4</th>\n      <td>13qmsn4</td>\n      <td>AesPleasingAsianGirls</td>\n      <td>yummybanchan</td>\n      <td>Song Yu Qi</td>\n      <td></td>\n      <td></td>\n      <td>/r/AesPleasingAsianGirls/comments/13qmsn4/song...</td>\n      <td>https://i.redd.it/cdj3scvnvt1b1.jpg</td>\n      <td>13qmsn4.jpg</td>\n      <td></td>\n      <td>SexyAsianDiffusion</td>\n      <td>False</td>\n      <td>False</td>\n      <td>False</td>\n      <td>[]</td>\n    </tr>\n    <tr>\n      <th>13rnflb</th>\n      <td>13rnflb</td>\n      <td>AesPleasingAsianGirls</td>\n      <td>yummybanchan</td>\n      <td>Jihyo</td>\n      <td></td>\n      <td></td>\n      <td>/r/AesPleasingAsianGirls/comments/13rnflb/jihyo/</td>\n      <td>https://i.redd.it/8hf3r3d4x12b1.jpg</td>\n      <td>13rnflb.jpg</td>\n      <td></td>\n      <td>SexyAsianDiffusion</td>\n      <td>False</td>\n      <td>False</td>\n      <td>False</td>\n      <td>[]</td>\n    </tr>\n  </tbody>\n</table>\n<p>837 rows × 15 columns</p>\n</div>"
     },
     "metadata": {},
     "output_type": "display_data"
    },
    {
     "name": "stdout",
     "output_type": "stream",
     "text": [
      "CPU times: total: 31.2 ms\n",
      "Wall time: 25.2 ms\n"
     ]
    }
   ],
   "source": [
    "%%time\n",
    "\n",
    "filtered['model'] = filtered.progress_apply(lambda x: functions.add_source(x, sources), axis=1)\n",
    "\n",
    "display(\"== Filtered Data With Model ==\")\n",
    "display(filtered.shape)\n",
    "display(filtered)"
   ],
   "metadata": {
    "collapsed": false
   }
  },
  {
   "cell_type": "code",
   "execution_count": 13,
   "outputs": [
    {
     "name": "stderr",
     "output_type": "stream",
     "text": [
      "Progress: 100%|██████████| 837/837 [07:00<00:00,  1.99it/s]\n",
      "<timed exec>:3: SettingWithCopyWarning: \n",
      "A value is trying to be set on a copy of a slice from a DataFrame.\n",
      "Try using .loc[row_indexer,col_indexer] = value instead\n",
      "\n",
      "See the caveats in the documentation: https://pandas.pydata.org/pandas-docs/stable/user_guide/indexing.html#returning-a-view-versus-a-copy\n"
     ]
    },
    {
     "data": {
      "text/plain": "'== Filtered Data With Path =='"
     },
     "metadata": {},
     "output_type": "display_data"
    },
    {
     "data": {
      "text/plain": "(837, 15)"
     },
     "metadata": {},
     "output_type": "display_data"
    },
    {
     "data": {
      "text/plain": "              id              subreddit                author   \nid                                                              \n13hgme0  13hgme0            SFWRedheads          Redhotwife88  \\\n13ibnsi  13ibnsi            SFWRedheads       Dasharkiss_real   \n13imeet  13imeet            SFWRedheads             imjenrose   \n13jm7mh  13jm7mh            SFWRedheads          Redhotwife88   \n13o2vke  13o2vke            SFWRedheads            nurselacey   \n...          ...                    ...                   ...   \n13po3eq  13po3eq  AesPleasingAsianGirls  throwaway83736365372   \n13pq23t  13pq23t  AesPleasingAsianGirls         theowuriwufoa   \n13qlj64  13qlj64  AesPleasingAsianGirls  throwaway83736365372   \n13qmsn4  13qmsn4  AesPleasingAsianGirls          yummybanchan   \n13rnflb  13rnflb  AesPleasingAsianGirls          yummybanchan   \n\n                                                     title caption hash   \nid                                                                        \n13hgme0     I Love wearing my Leather Pants and Heels! [F]               \\\n13ibnsi  I can live without money but I can't live with...                \n13imeet              Adorable girl to make your day better                \n13jm7mh      Do I look Cute for my Anniversary Dinner? [F]                \n13o2vke                                      Sunday Funday                \n...                                                    ...     ...  ...   \n13po3eq                                              Habin                \n13pq23t                                         Car selfie                \n13qlj64                                              Habin                \n13qmsn4                                         Song Yu Qi                \n13rnflb                                              Jihyo                \n\n                                                 permalink   \nid                                                           \n13hgme0  /r/SFWRedheads/comments/13hgme0/i_love_wearing...  \\\n13ibnsi  /r/SFWRedheads/comments/13ibnsi/i_can_live_wit...   \n13imeet  /r/SFWRedheads/comments/13imeet/adorable_girl_...   \n13jm7mh  /r/SFWRedheads/comments/13jm7mh/do_i_look_cute...   \n13o2vke     /r/SFWRedheads/comments/13o2vke/sunday_funday/   \n...                                                    ...   \n13po3eq   /r/AesPleasingAsianGirls/comments/13po3eq/habin/   \n13pq23t  /r/AesPleasingAsianGirls/comments/13pq23t/car_...   \n13qlj64   /r/AesPleasingAsianGirls/comments/13qlj64/habin/   \n13qmsn4  /r/AesPleasingAsianGirls/comments/13qmsn4/song...   \n13rnflb   /r/AesPleasingAsianGirls/comments/13rnflb/jihyo/   \n\n                                              original_url   image_name   \nid                                                                        \n13hgme0    https://i.redgifs.com/i/frayedmadeupsparrow.jpg  13hgme0.jpg  \\\n13ibnsi    https://i.redgifs.com/i/imaginaryrawleveret.jpg  13ibnsi.jpg   \n13imeet  https://i.redgifs.com/i/dangerousfilthyhornedv...  13imeet.jpg   \n13jm7mh  https://i.redgifs.com/i/tensedarkmagentabedlin...  13jm7mh.jpg   \n13o2vke                https://i.redd.it/5c4jh6kmu91b1.jpg  13o2vke.jpg   \n...                                                    ...          ...   \n13po3eq                https://i.redd.it/6an1c1zagm1b1.jpg  13po3eq.jpg   \n13pq23t                https://i.redd.it/3lg7bn3ntm1b1.jpg  13pq23t.jpg   \n13qlj64                https://i.redd.it/29soeuf3nt1b1.jpg  13qlj64.jpg   \n13qmsn4                https://i.redd.it/cdj3scvnvt1b1.jpg  13qmsn4.jpg   \n13rnflb                https://i.redd.it/8hf3r3d4x12b1.jpg  13rnflb.jpg   \n\n                           path               model  exists  curated accept   \nid                                                                            \n13hgme0                            RedHeadDiffusion   False    False  False  \\\n13ibnsi                            RedHeadDiffusion   False    False  False   \n13imeet                            RedHeadDiffusion   False    False  False   \n13jm7mh                            RedHeadDiffusion   False    False  False   \n13o2vke  data/image/13o2vke.jpg    RedHeadDiffusion   False    False  False   \n...                         ...                 ...     ...      ...    ...   \n13po3eq  data/image/13po3eq.jpg  SexyAsianDiffusion   False    False  False   \n13pq23t  data/image/13pq23t.jpg  SexyAsianDiffusion   False    False  False   \n13qlj64  data/image/13qlj64.jpg  SexyAsianDiffusion   False    False  False   \n13qmsn4  data/image/13qmsn4.jpg  SexyAsianDiffusion   False    False  False   \n13rnflb  data/image/13rnflb.jpg  SexyAsianDiffusion   False    False  False   \n\n        tags  \nid            \n13hgme0   []  \n13ibnsi   []  \n13imeet   []  \n13jm7mh   []  \n13o2vke   []  \n...      ...  \n13po3eq   []  \n13pq23t   []  \n13qlj64   []  \n13qmsn4   []  \n13rnflb   []  \n\n[837 rows x 15 columns]",
      "text/html": "<div>\n<style scoped>\n    .dataframe tbody tr th:only-of-type {\n        vertical-align: middle;\n    }\n\n    .dataframe tbody tr th {\n        vertical-align: top;\n    }\n\n    .dataframe thead th {\n        text-align: right;\n    }\n</style>\n<table border=\"1\" class=\"dataframe\">\n  <thead>\n    <tr style=\"text-align: right;\">\n      <th></th>\n      <th>id</th>\n      <th>subreddit</th>\n      <th>author</th>\n      <th>title</th>\n      <th>caption</th>\n      <th>hash</th>\n      <th>permalink</th>\n      <th>original_url</th>\n      <th>image_name</th>\n      <th>path</th>\n      <th>model</th>\n      <th>exists</th>\n      <th>curated</th>\n      <th>accept</th>\n      <th>tags</th>\n    </tr>\n    <tr>\n      <th>id</th>\n      <th></th>\n      <th></th>\n      <th></th>\n      <th></th>\n      <th></th>\n      <th></th>\n      <th></th>\n      <th></th>\n      <th></th>\n      <th></th>\n      <th></th>\n      <th></th>\n      <th></th>\n      <th></th>\n      <th></th>\n    </tr>\n  </thead>\n  <tbody>\n    <tr>\n      <th>13hgme0</th>\n      <td>13hgme0</td>\n      <td>SFWRedheads</td>\n      <td>Redhotwife88</td>\n      <td>I Love wearing my Leather Pants and Heels! [F]</td>\n      <td></td>\n      <td></td>\n      <td>/r/SFWRedheads/comments/13hgme0/i_love_wearing...</td>\n      <td>https://i.redgifs.com/i/frayedmadeupsparrow.jpg</td>\n      <td>13hgme0.jpg</td>\n      <td></td>\n      <td>RedHeadDiffusion</td>\n      <td>False</td>\n      <td>False</td>\n      <td>False</td>\n      <td>[]</td>\n    </tr>\n    <tr>\n      <th>13ibnsi</th>\n      <td>13ibnsi</td>\n      <td>SFWRedheads</td>\n      <td>Dasharkiss_real</td>\n      <td>I can live without money but I can't live with...</td>\n      <td></td>\n      <td></td>\n      <td>/r/SFWRedheads/comments/13ibnsi/i_can_live_wit...</td>\n      <td>https://i.redgifs.com/i/imaginaryrawleveret.jpg</td>\n      <td>13ibnsi.jpg</td>\n      <td></td>\n      <td>RedHeadDiffusion</td>\n      <td>False</td>\n      <td>False</td>\n      <td>False</td>\n      <td>[]</td>\n    </tr>\n    <tr>\n      <th>13imeet</th>\n      <td>13imeet</td>\n      <td>SFWRedheads</td>\n      <td>imjenrose</td>\n      <td>Adorable girl to make your day better</td>\n      <td></td>\n      <td></td>\n      <td>/r/SFWRedheads/comments/13imeet/adorable_girl_...</td>\n      <td>https://i.redgifs.com/i/dangerousfilthyhornedv...</td>\n      <td>13imeet.jpg</td>\n      <td></td>\n      <td>RedHeadDiffusion</td>\n      <td>False</td>\n      <td>False</td>\n      <td>False</td>\n      <td>[]</td>\n    </tr>\n    <tr>\n      <th>13jm7mh</th>\n      <td>13jm7mh</td>\n      <td>SFWRedheads</td>\n      <td>Redhotwife88</td>\n      <td>Do I look Cute for my Anniversary Dinner? [F]</td>\n      <td></td>\n      <td></td>\n      <td>/r/SFWRedheads/comments/13jm7mh/do_i_look_cute...</td>\n      <td>https://i.redgifs.com/i/tensedarkmagentabedlin...</td>\n      <td>13jm7mh.jpg</td>\n      <td></td>\n      <td>RedHeadDiffusion</td>\n      <td>False</td>\n      <td>False</td>\n      <td>False</td>\n      <td>[]</td>\n    </tr>\n    <tr>\n      <th>13o2vke</th>\n      <td>13o2vke</td>\n      <td>SFWRedheads</td>\n      <td>nurselacey</td>\n      <td>Sunday Funday</td>\n      <td></td>\n      <td></td>\n      <td>/r/SFWRedheads/comments/13o2vke/sunday_funday/</td>\n      <td>https://i.redd.it/5c4jh6kmu91b1.jpg</td>\n      <td>13o2vke.jpg</td>\n      <td>data/image/13o2vke.jpg</td>\n      <td>RedHeadDiffusion</td>\n      <td>False</td>\n      <td>False</td>\n      <td>False</td>\n      <td>[]</td>\n    </tr>\n    <tr>\n      <th>...</th>\n      <td>...</td>\n      <td>...</td>\n      <td>...</td>\n      <td>...</td>\n      <td>...</td>\n      <td>...</td>\n      <td>...</td>\n      <td>...</td>\n      <td>...</td>\n      <td>...</td>\n      <td>...</td>\n      <td>...</td>\n      <td>...</td>\n      <td>...</td>\n      <td>...</td>\n    </tr>\n    <tr>\n      <th>13po3eq</th>\n      <td>13po3eq</td>\n      <td>AesPleasingAsianGirls</td>\n      <td>throwaway83736365372</td>\n      <td>Habin</td>\n      <td></td>\n      <td></td>\n      <td>/r/AesPleasingAsianGirls/comments/13po3eq/habin/</td>\n      <td>https://i.redd.it/6an1c1zagm1b1.jpg</td>\n      <td>13po3eq.jpg</td>\n      <td>data/image/13po3eq.jpg</td>\n      <td>SexyAsianDiffusion</td>\n      <td>False</td>\n      <td>False</td>\n      <td>False</td>\n      <td>[]</td>\n    </tr>\n    <tr>\n      <th>13pq23t</th>\n      <td>13pq23t</td>\n      <td>AesPleasingAsianGirls</td>\n      <td>theowuriwufoa</td>\n      <td>Car selfie</td>\n      <td></td>\n      <td></td>\n      <td>/r/AesPleasingAsianGirls/comments/13pq23t/car_...</td>\n      <td>https://i.redd.it/3lg7bn3ntm1b1.jpg</td>\n      <td>13pq23t.jpg</td>\n      <td>data/image/13pq23t.jpg</td>\n      <td>SexyAsianDiffusion</td>\n      <td>False</td>\n      <td>False</td>\n      <td>False</td>\n      <td>[]</td>\n    </tr>\n    <tr>\n      <th>13qlj64</th>\n      <td>13qlj64</td>\n      <td>AesPleasingAsianGirls</td>\n      <td>throwaway83736365372</td>\n      <td>Habin</td>\n      <td></td>\n      <td></td>\n      <td>/r/AesPleasingAsianGirls/comments/13qlj64/habin/</td>\n      <td>https://i.redd.it/29soeuf3nt1b1.jpg</td>\n      <td>13qlj64.jpg</td>\n      <td>data/image/13qlj64.jpg</td>\n      <td>SexyAsianDiffusion</td>\n      <td>False</td>\n      <td>False</td>\n      <td>False</td>\n      <td>[]</td>\n    </tr>\n    <tr>\n      <th>13qmsn4</th>\n      <td>13qmsn4</td>\n      <td>AesPleasingAsianGirls</td>\n      <td>yummybanchan</td>\n      <td>Song Yu Qi</td>\n      <td></td>\n      <td></td>\n      <td>/r/AesPleasingAsianGirls/comments/13qmsn4/song...</td>\n      <td>https://i.redd.it/cdj3scvnvt1b1.jpg</td>\n      <td>13qmsn4.jpg</td>\n      <td>data/image/13qmsn4.jpg</td>\n      <td>SexyAsianDiffusion</td>\n      <td>False</td>\n      <td>False</td>\n      <td>False</td>\n      <td>[]</td>\n    </tr>\n    <tr>\n      <th>13rnflb</th>\n      <td>13rnflb</td>\n      <td>AesPleasingAsianGirls</td>\n      <td>yummybanchan</td>\n      <td>Jihyo</td>\n      <td></td>\n      <td></td>\n      <td>/r/AesPleasingAsianGirls/comments/13rnflb/jihyo/</td>\n      <td>https://i.redd.it/8hf3r3d4x12b1.jpg</td>\n      <td>13rnflb.jpg</td>\n      <td>data/image/13rnflb.jpg</td>\n      <td>SexyAsianDiffusion</td>\n      <td>False</td>\n      <td>False</td>\n      <td>False</td>\n      <td>[]</td>\n    </tr>\n  </tbody>\n</table>\n<p>837 rows × 15 columns</p>\n</div>"
     },
     "metadata": {},
     "output_type": "display_data"
    },
    {
     "name": "stdout",
     "output_type": "stream",
     "text": [
      "CPU times: total: 1min 22s\n",
      "Wall time: 7min 28s\n"
     ]
    }
   ],
   "source": [
    "%%time\n",
    "\n",
    "file_list = file_system.ls(\"data/image\")\n",
    "\n",
    "filtered['path'] = filtered.progress_apply(lambda x: functions.fetch_image(x, file_list, file_system), axis=1)\n",
    "\n",
    "display(\"== Filtered Data With Path ==\")\n",
    "display(filtered.shape)\n",
    "display(filtered)"
   ],
   "metadata": {
    "collapsed": false
   }
  },
  {
   "cell_type": "code",
   "execution_count": 14,
   "outputs": [
    {
     "name": "stderr",
     "output_type": "stream",
     "text": [
      "Progress: 100%|██████████| 837/837 [00:00<00:00, 26215.77it/s]\n",
      "<timed exec>:1: SettingWithCopyWarning: \n",
      "A value is trying to be set on a copy of a slice from a DataFrame.\n",
      "Try using .loc[row_indexer,col_indexer] = value instead\n",
      "\n",
      "See the caveats in the documentation: https://pandas.pydata.org/pandas-docs/stable/user_guide/indexing.html#returning-a-view-versus-a-copy\n"
     ]
    },
    {
     "data": {
      "text/plain": "'== Filtered Data With Exists =='"
     },
     "metadata": {},
     "output_type": "display_data"
    },
    {
     "data": {
      "text/plain": "(837, 15)"
     },
     "metadata": {},
     "output_type": "display_data"
    },
    {
     "data": {
      "text/plain": "              id              subreddit                author   \nid                                                              \n13hgme0  13hgme0            SFWRedheads          Redhotwife88  \\\n13ibnsi  13ibnsi            SFWRedheads       Dasharkiss_real   \n13imeet  13imeet            SFWRedheads             imjenrose   \n13jm7mh  13jm7mh            SFWRedheads          Redhotwife88   \n13o2vke  13o2vke            SFWRedheads            nurselacey   \n...          ...                    ...                   ...   \n13po3eq  13po3eq  AesPleasingAsianGirls  throwaway83736365372   \n13pq23t  13pq23t  AesPleasingAsianGirls         theowuriwufoa   \n13qlj64  13qlj64  AesPleasingAsianGirls  throwaway83736365372   \n13qmsn4  13qmsn4  AesPleasingAsianGirls          yummybanchan   \n13rnflb  13rnflb  AesPleasingAsianGirls          yummybanchan   \n\n                                                     title caption hash   \nid                                                                        \n13hgme0     I Love wearing my Leather Pants and Heels! [F]               \\\n13ibnsi  I can live without money but I can't live with...                \n13imeet              Adorable girl to make your day better                \n13jm7mh      Do I look Cute for my Anniversary Dinner? [F]                \n13o2vke                                      Sunday Funday                \n...                                                    ...     ...  ...   \n13po3eq                                              Habin                \n13pq23t                                         Car selfie                \n13qlj64                                              Habin                \n13qmsn4                                         Song Yu Qi                \n13rnflb                                              Jihyo                \n\n                                                 permalink   \nid                                                           \n13hgme0  /r/SFWRedheads/comments/13hgme0/i_love_wearing...  \\\n13ibnsi  /r/SFWRedheads/comments/13ibnsi/i_can_live_wit...   \n13imeet  /r/SFWRedheads/comments/13imeet/adorable_girl_...   \n13jm7mh  /r/SFWRedheads/comments/13jm7mh/do_i_look_cute...   \n13o2vke     /r/SFWRedheads/comments/13o2vke/sunday_funday/   \n...                                                    ...   \n13po3eq   /r/AesPleasingAsianGirls/comments/13po3eq/habin/   \n13pq23t  /r/AesPleasingAsianGirls/comments/13pq23t/car_...   \n13qlj64   /r/AesPleasingAsianGirls/comments/13qlj64/habin/   \n13qmsn4  /r/AesPleasingAsianGirls/comments/13qmsn4/song...   \n13rnflb   /r/AesPleasingAsianGirls/comments/13rnflb/jihyo/   \n\n                                              original_url   image_name   \nid                                                                        \n13hgme0    https://i.redgifs.com/i/frayedmadeupsparrow.jpg  13hgme0.jpg  \\\n13ibnsi    https://i.redgifs.com/i/imaginaryrawleveret.jpg  13ibnsi.jpg   \n13imeet  https://i.redgifs.com/i/dangerousfilthyhornedv...  13imeet.jpg   \n13jm7mh  https://i.redgifs.com/i/tensedarkmagentabedlin...  13jm7mh.jpg   \n13o2vke                https://i.redd.it/5c4jh6kmu91b1.jpg  13o2vke.jpg   \n...                                                    ...          ...   \n13po3eq                https://i.redd.it/6an1c1zagm1b1.jpg  13po3eq.jpg   \n13pq23t                https://i.redd.it/3lg7bn3ntm1b1.jpg  13pq23t.jpg   \n13qlj64                https://i.redd.it/29soeuf3nt1b1.jpg  13qlj64.jpg   \n13qmsn4                https://i.redd.it/cdj3scvnvt1b1.jpg  13qmsn4.jpg   \n13rnflb                https://i.redd.it/8hf3r3d4x12b1.jpg  13rnflb.jpg   \n\n                           path               model  exists  curated accept   \nid                                                                            \n13hgme0                            RedHeadDiffusion   False    False  False  \\\n13ibnsi                            RedHeadDiffusion   False    False  False   \n13imeet                            RedHeadDiffusion   False    False  False   \n13jm7mh                            RedHeadDiffusion   False    False  False   \n13o2vke  data/image/13o2vke.jpg    RedHeadDiffusion    True    False  False   \n...                         ...                 ...     ...      ...    ...   \n13po3eq  data/image/13po3eq.jpg  SexyAsianDiffusion    True    False  False   \n13pq23t  data/image/13pq23t.jpg  SexyAsianDiffusion    True    False  False   \n13qlj64  data/image/13qlj64.jpg  SexyAsianDiffusion    True    False  False   \n13qmsn4  data/image/13qmsn4.jpg  SexyAsianDiffusion    True    False  False   \n13rnflb  data/image/13rnflb.jpg  SexyAsianDiffusion    True    False  False   \n\n        tags  \nid            \n13hgme0   []  \n13ibnsi   []  \n13imeet   []  \n13jm7mh   []  \n13o2vke   []  \n...      ...  \n13po3eq   []  \n13pq23t   []  \n13qlj64   []  \n13qmsn4   []  \n13rnflb   []  \n\n[837 rows x 15 columns]",
      "text/html": "<div>\n<style scoped>\n    .dataframe tbody tr th:only-of-type {\n        vertical-align: middle;\n    }\n\n    .dataframe tbody tr th {\n        vertical-align: top;\n    }\n\n    .dataframe thead th {\n        text-align: right;\n    }\n</style>\n<table border=\"1\" class=\"dataframe\">\n  <thead>\n    <tr style=\"text-align: right;\">\n      <th></th>\n      <th>id</th>\n      <th>subreddit</th>\n      <th>author</th>\n      <th>title</th>\n      <th>caption</th>\n      <th>hash</th>\n      <th>permalink</th>\n      <th>original_url</th>\n      <th>image_name</th>\n      <th>path</th>\n      <th>model</th>\n      <th>exists</th>\n      <th>curated</th>\n      <th>accept</th>\n      <th>tags</th>\n    </tr>\n    <tr>\n      <th>id</th>\n      <th></th>\n      <th></th>\n      <th></th>\n      <th></th>\n      <th></th>\n      <th></th>\n      <th></th>\n      <th></th>\n      <th></th>\n      <th></th>\n      <th></th>\n      <th></th>\n      <th></th>\n      <th></th>\n      <th></th>\n    </tr>\n  </thead>\n  <tbody>\n    <tr>\n      <th>13hgme0</th>\n      <td>13hgme0</td>\n      <td>SFWRedheads</td>\n      <td>Redhotwife88</td>\n      <td>I Love wearing my Leather Pants and Heels! [F]</td>\n      <td></td>\n      <td></td>\n      <td>/r/SFWRedheads/comments/13hgme0/i_love_wearing...</td>\n      <td>https://i.redgifs.com/i/frayedmadeupsparrow.jpg</td>\n      <td>13hgme0.jpg</td>\n      <td></td>\n      <td>RedHeadDiffusion</td>\n      <td>False</td>\n      <td>False</td>\n      <td>False</td>\n      <td>[]</td>\n    </tr>\n    <tr>\n      <th>13ibnsi</th>\n      <td>13ibnsi</td>\n      <td>SFWRedheads</td>\n      <td>Dasharkiss_real</td>\n      <td>I can live without money but I can't live with...</td>\n      <td></td>\n      <td></td>\n      <td>/r/SFWRedheads/comments/13ibnsi/i_can_live_wit...</td>\n      <td>https://i.redgifs.com/i/imaginaryrawleveret.jpg</td>\n      <td>13ibnsi.jpg</td>\n      <td></td>\n      <td>RedHeadDiffusion</td>\n      <td>False</td>\n      <td>False</td>\n      <td>False</td>\n      <td>[]</td>\n    </tr>\n    <tr>\n      <th>13imeet</th>\n      <td>13imeet</td>\n      <td>SFWRedheads</td>\n      <td>imjenrose</td>\n      <td>Adorable girl to make your day better</td>\n      <td></td>\n      <td></td>\n      <td>/r/SFWRedheads/comments/13imeet/adorable_girl_...</td>\n      <td>https://i.redgifs.com/i/dangerousfilthyhornedv...</td>\n      <td>13imeet.jpg</td>\n      <td></td>\n      <td>RedHeadDiffusion</td>\n      <td>False</td>\n      <td>False</td>\n      <td>False</td>\n      <td>[]</td>\n    </tr>\n    <tr>\n      <th>13jm7mh</th>\n      <td>13jm7mh</td>\n      <td>SFWRedheads</td>\n      <td>Redhotwife88</td>\n      <td>Do I look Cute for my Anniversary Dinner? [F]</td>\n      <td></td>\n      <td></td>\n      <td>/r/SFWRedheads/comments/13jm7mh/do_i_look_cute...</td>\n      <td>https://i.redgifs.com/i/tensedarkmagentabedlin...</td>\n      <td>13jm7mh.jpg</td>\n      <td></td>\n      <td>RedHeadDiffusion</td>\n      <td>False</td>\n      <td>False</td>\n      <td>False</td>\n      <td>[]</td>\n    </tr>\n    <tr>\n      <th>13o2vke</th>\n      <td>13o2vke</td>\n      <td>SFWRedheads</td>\n      <td>nurselacey</td>\n      <td>Sunday Funday</td>\n      <td></td>\n      <td></td>\n      <td>/r/SFWRedheads/comments/13o2vke/sunday_funday/</td>\n      <td>https://i.redd.it/5c4jh6kmu91b1.jpg</td>\n      <td>13o2vke.jpg</td>\n      <td>data/image/13o2vke.jpg</td>\n      <td>RedHeadDiffusion</td>\n      <td>True</td>\n      <td>False</td>\n      <td>False</td>\n      <td>[]</td>\n    </tr>\n    <tr>\n      <th>...</th>\n      <td>...</td>\n      <td>...</td>\n      <td>...</td>\n      <td>...</td>\n      <td>...</td>\n      <td>...</td>\n      <td>...</td>\n      <td>...</td>\n      <td>...</td>\n      <td>...</td>\n      <td>...</td>\n      <td>...</td>\n      <td>...</td>\n      <td>...</td>\n      <td>...</td>\n    </tr>\n    <tr>\n      <th>13po3eq</th>\n      <td>13po3eq</td>\n      <td>AesPleasingAsianGirls</td>\n      <td>throwaway83736365372</td>\n      <td>Habin</td>\n      <td></td>\n      <td></td>\n      <td>/r/AesPleasingAsianGirls/comments/13po3eq/habin/</td>\n      <td>https://i.redd.it/6an1c1zagm1b1.jpg</td>\n      <td>13po3eq.jpg</td>\n      <td>data/image/13po3eq.jpg</td>\n      <td>SexyAsianDiffusion</td>\n      <td>True</td>\n      <td>False</td>\n      <td>False</td>\n      <td>[]</td>\n    </tr>\n    <tr>\n      <th>13pq23t</th>\n      <td>13pq23t</td>\n      <td>AesPleasingAsianGirls</td>\n      <td>theowuriwufoa</td>\n      <td>Car selfie</td>\n      <td></td>\n      <td></td>\n      <td>/r/AesPleasingAsianGirls/comments/13pq23t/car_...</td>\n      <td>https://i.redd.it/3lg7bn3ntm1b1.jpg</td>\n      <td>13pq23t.jpg</td>\n      <td>data/image/13pq23t.jpg</td>\n      <td>SexyAsianDiffusion</td>\n      <td>True</td>\n      <td>False</td>\n      <td>False</td>\n      <td>[]</td>\n    </tr>\n    <tr>\n      <th>13qlj64</th>\n      <td>13qlj64</td>\n      <td>AesPleasingAsianGirls</td>\n      <td>throwaway83736365372</td>\n      <td>Habin</td>\n      <td></td>\n      <td></td>\n      <td>/r/AesPleasingAsianGirls/comments/13qlj64/habin/</td>\n      <td>https://i.redd.it/29soeuf3nt1b1.jpg</td>\n      <td>13qlj64.jpg</td>\n      <td>data/image/13qlj64.jpg</td>\n      <td>SexyAsianDiffusion</td>\n      <td>True</td>\n      <td>False</td>\n      <td>False</td>\n      <td>[]</td>\n    </tr>\n    <tr>\n      <th>13qmsn4</th>\n      <td>13qmsn4</td>\n      <td>AesPleasingAsianGirls</td>\n      <td>yummybanchan</td>\n      <td>Song Yu Qi</td>\n      <td></td>\n      <td></td>\n      <td>/r/AesPleasingAsianGirls/comments/13qmsn4/song...</td>\n      <td>https://i.redd.it/cdj3scvnvt1b1.jpg</td>\n      <td>13qmsn4.jpg</td>\n      <td>data/image/13qmsn4.jpg</td>\n      <td>SexyAsianDiffusion</td>\n      <td>True</td>\n      <td>False</td>\n      <td>False</td>\n      <td>[]</td>\n    </tr>\n    <tr>\n      <th>13rnflb</th>\n      <td>13rnflb</td>\n      <td>AesPleasingAsianGirls</td>\n      <td>yummybanchan</td>\n      <td>Jihyo</td>\n      <td></td>\n      <td></td>\n      <td>/r/AesPleasingAsianGirls/comments/13rnflb/jihyo/</td>\n      <td>https://i.redd.it/8hf3r3d4x12b1.jpg</td>\n      <td>13rnflb.jpg</td>\n      <td>data/image/13rnflb.jpg</td>\n      <td>SexyAsianDiffusion</td>\n      <td>True</td>\n      <td>False</td>\n      <td>False</td>\n      <td>[]</td>\n    </tr>\n  </tbody>\n</table>\n<p>837 rows × 15 columns</p>\n</div>"
     },
     "metadata": {},
     "output_type": "display_data"
    },
    {
     "name": "stdout",
     "output_type": "stream",
     "text": [
      "CPU times: total: 46.9 ms\n",
      "Wall time: 48.2 ms\n"
     ]
    }
   ],
   "source": [
    "%%time\n",
    "\n",
    "filtered['exists'] = filtered.progress_apply(lambda x: functions.set_exists(x), axis=1)\n",
    "\n",
    "display(\"== Filtered Data With Exists ==\")\n",
    "display(filtered.shape)\n",
    "display(filtered)"
   ],
   "metadata": {
    "collapsed": false
   }
  },
  {
   "cell_type": "code",
   "execution_count": 15,
   "outputs": [
    {
     "name": "stderr",
     "output_type": "stream",
     "text": [
      "Progress: 100%|██████████| 837/837 [00:00<00:00, 1122.11it/s]\n",
      "<timed exec>:1: SettingWithCopyWarning: \n",
      "A value is trying to be set on a copy of a slice from a DataFrame.\n",
      "Try using .loc[row_indexer,col_indexer] = value instead\n",
      "\n",
      "See the caveats in the documentation: https://pandas.pydata.org/pandas-docs/stable/user_guide/indexing.html#returning-a-view-versus-a-copy\n"
     ]
    },
    {
     "data": {
      "text/plain": "'== Filtered Data With Hash =='"
     },
     "metadata": {},
     "output_type": "display_data"
    },
    {
     "data": {
      "text/plain": "(837, 15)"
     },
     "metadata": {},
     "output_type": "display_data"
    },
    {
     "data": {
      "text/plain": "              id              subreddit                author   \nid                                                              \n13hgme0  13hgme0            SFWRedheads          Redhotwife88  \\\n13ibnsi  13ibnsi            SFWRedheads       Dasharkiss_real   \n13imeet  13imeet            SFWRedheads             imjenrose   \n13jm7mh  13jm7mh            SFWRedheads          Redhotwife88   \n13o2vke  13o2vke            SFWRedheads            nurselacey   \n...          ...                    ...                   ...   \n13po3eq  13po3eq  AesPleasingAsianGirls  throwaway83736365372   \n13pq23t  13pq23t  AesPleasingAsianGirls         theowuriwufoa   \n13qlj64  13qlj64  AesPleasingAsianGirls  throwaway83736365372   \n13qmsn4  13qmsn4  AesPleasingAsianGirls          yummybanchan   \n13rnflb  13rnflb  AesPleasingAsianGirls          yummybanchan   \n\n                                                     title caption   \nid                                                                   \n13hgme0     I Love wearing my Leather Pants and Heels! [F]          \\\n13ibnsi  I can live without money but I can't live with...           \n13imeet              Adorable girl to make your day better           \n13jm7mh      Do I look Cute for my Anniversary Dinner? [F]           \n13o2vke                                      Sunday Funday           \n...                                                    ...     ...   \n13po3eq                                              Habin           \n13pq23t                                         Car selfie           \n13qlj64                                              Habin           \n13qmsn4                                         Song Yu Qi           \n13rnflb                                              Jihyo           \n\n                                     hash   \nid                                          \n13hgme0                                    \\\n13ibnsi                                     \n13imeet                                     \n13jm7mh                                     \n13o2vke  0fae4d9dbb466999e34ceb2a8581f136   \n...                                   ...   \n13po3eq  3ea79e0ffa26050402bd62a47bf15000   \n13pq23t  4b03667021cb1a4694dc982e21c0f7c1   \n13qlj64  e1244a45a5018d6d35e487217a489db2   \n13qmsn4  a2189d7026d58082336ddcad3667161e   \n13rnflb  6eda4dcd4c9f79e4ce225464fb902069   \n\n                                                 permalink   \nid                                                           \n13hgme0  /r/SFWRedheads/comments/13hgme0/i_love_wearing...  \\\n13ibnsi  /r/SFWRedheads/comments/13ibnsi/i_can_live_wit...   \n13imeet  /r/SFWRedheads/comments/13imeet/adorable_girl_...   \n13jm7mh  /r/SFWRedheads/comments/13jm7mh/do_i_look_cute...   \n13o2vke     /r/SFWRedheads/comments/13o2vke/sunday_funday/   \n...                                                    ...   \n13po3eq   /r/AesPleasingAsianGirls/comments/13po3eq/habin/   \n13pq23t  /r/AesPleasingAsianGirls/comments/13pq23t/car_...   \n13qlj64   /r/AesPleasingAsianGirls/comments/13qlj64/habin/   \n13qmsn4  /r/AesPleasingAsianGirls/comments/13qmsn4/song...   \n13rnflb   /r/AesPleasingAsianGirls/comments/13rnflb/jihyo/   \n\n                                              original_url   image_name   \nid                                                                        \n13hgme0    https://i.redgifs.com/i/frayedmadeupsparrow.jpg  13hgme0.jpg  \\\n13ibnsi    https://i.redgifs.com/i/imaginaryrawleveret.jpg  13ibnsi.jpg   \n13imeet  https://i.redgifs.com/i/dangerousfilthyhornedv...  13imeet.jpg   \n13jm7mh  https://i.redgifs.com/i/tensedarkmagentabedlin...  13jm7mh.jpg   \n13o2vke                https://i.redd.it/5c4jh6kmu91b1.jpg  13o2vke.jpg   \n...                                                    ...          ...   \n13po3eq                https://i.redd.it/6an1c1zagm1b1.jpg  13po3eq.jpg   \n13pq23t                https://i.redd.it/3lg7bn3ntm1b1.jpg  13pq23t.jpg   \n13qlj64                https://i.redd.it/29soeuf3nt1b1.jpg  13qlj64.jpg   \n13qmsn4                https://i.redd.it/cdj3scvnvt1b1.jpg  13qmsn4.jpg   \n13rnflb                https://i.redd.it/8hf3r3d4x12b1.jpg  13rnflb.jpg   \n\n                           path               model  exists  curated accept   \nid                                                                            \n13hgme0                            RedHeadDiffusion   False    False  False  \\\n13ibnsi                            RedHeadDiffusion   False    False  False   \n13imeet                            RedHeadDiffusion   False    False  False   \n13jm7mh                            RedHeadDiffusion   False    False  False   \n13o2vke  data/image/13o2vke.jpg    RedHeadDiffusion    True    False  False   \n...                         ...                 ...     ...      ...    ...   \n13po3eq  data/image/13po3eq.jpg  SexyAsianDiffusion    True    False  False   \n13pq23t  data/image/13pq23t.jpg  SexyAsianDiffusion    True    False  False   \n13qlj64  data/image/13qlj64.jpg  SexyAsianDiffusion    True    False  False   \n13qmsn4  data/image/13qmsn4.jpg  SexyAsianDiffusion    True    False  False   \n13rnflb  data/image/13rnflb.jpg  SexyAsianDiffusion    True    False  False   \n\n        tags  \nid            \n13hgme0   []  \n13ibnsi   []  \n13imeet   []  \n13jm7mh   []  \n13o2vke   []  \n...      ...  \n13po3eq   []  \n13pq23t   []  \n13qlj64   []  \n13qmsn4   []  \n13rnflb   []  \n\n[837 rows x 15 columns]",
      "text/html": "<div>\n<style scoped>\n    .dataframe tbody tr th:only-of-type {\n        vertical-align: middle;\n    }\n\n    .dataframe tbody tr th {\n        vertical-align: top;\n    }\n\n    .dataframe thead th {\n        text-align: right;\n    }\n</style>\n<table border=\"1\" class=\"dataframe\">\n  <thead>\n    <tr style=\"text-align: right;\">\n      <th></th>\n      <th>id</th>\n      <th>subreddit</th>\n      <th>author</th>\n      <th>title</th>\n      <th>caption</th>\n      <th>hash</th>\n      <th>permalink</th>\n      <th>original_url</th>\n      <th>image_name</th>\n      <th>path</th>\n      <th>model</th>\n      <th>exists</th>\n      <th>curated</th>\n      <th>accept</th>\n      <th>tags</th>\n    </tr>\n    <tr>\n      <th>id</th>\n      <th></th>\n      <th></th>\n      <th></th>\n      <th></th>\n      <th></th>\n      <th></th>\n      <th></th>\n      <th></th>\n      <th></th>\n      <th></th>\n      <th></th>\n      <th></th>\n      <th></th>\n      <th></th>\n      <th></th>\n    </tr>\n  </thead>\n  <tbody>\n    <tr>\n      <th>13hgme0</th>\n      <td>13hgme0</td>\n      <td>SFWRedheads</td>\n      <td>Redhotwife88</td>\n      <td>I Love wearing my Leather Pants and Heels! [F]</td>\n      <td></td>\n      <td></td>\n      <td>/r/SFWRedheads/comments/13hgme0/i_love_wearing...</td>\n      <td>https://i.redgifs.com/i/frayedmadeupsparrow.jpg</td>\n      <td>13hgme0.jpg</td>\n      <td></td>\n      <td>RedHeadDiffusion</td>\n      <td>False</td>\n      <td>False</td>\n      <td>False</td>\n      <td>[]</td>\n    </tr>\n    <tr>\n      <th>13ibnsi</th>\n      <td>13ibnsi</td>\n      <td>SFWRedheads</td>\n      <td>Dasharkiss_real</td>\n      <td>I can live without money but I can't live with...</td>\n      <td></td>\n      <td></td>\n      <td>/r/SFWRedheads/comments/13ibnsi/i_can_live_wit...</td>\n      <td>https://i.redgifs.com/i/imaginaryrawleveret.jpg</td>\n      <td>13ibnsi.jpg</td>\n      <td></td>\n      <td>RedHeadDiffusion</td>\n      <td>False</td>\n      <td>False</td>\n      <td>False</td>\n      <td>[]</td>\n    </tr>\n    <tr>\n      <th>13imeet</th>\n      <td>13imeet</td>\n      <td>SFWRedheads</td>\n      <td>imjenrose</td>\n      <td>Adorable girl to make your day better</td>\n      <td></td>\n      <td></td>\n      <td>/r/SFWRedheads/comments/13imeet/adorable_girl_...</td>\n      <td>https://i.redgifs.com/i/dangerousfilthyhornedv...</td>\n      <td>13imeet.jpg</td>\n      <td></td>\n      <td>RedHeadDiffusion</td>\n      <td>False</td>\n      <td>False</td>\n      <td>False</td>\n      <td>[]</td>\n    </tr>\n    <tr>\n      <th>13jm7mh</th>\n      <td>13jm7mh</td>\n      <td>SFWRedheads</td>\n      <td>Redhotwife88</td>\n      <td>Do I look Cute for my Anniversary Dinner? [F]</td>\n      <td></td>\n      <td></td>\n      <td>/r/SFWRedheads/comments/13jm7mh/do_i_look_cute...</td>\n      <td>https://i.redgifs.com/i/tensedarkmagentabedlin...</td>\n      <td>13jm7mh.jpg</td>\n      <td></td>\n      <td>RedHeadDiffusion</td>\n      <td>False</td>\n      <td>False</td>\n      <td>False</td>\n      <td>[]</td>\n    </tr>\n    <tr>\n      <th>13o2vke</th>\n      <td>13o2vke</td>\n      <td>SFWRedheads</td>\n      <td>nurselacey</td>\n      <td>Sunday Funday</td>\n      <td></td>\n      <td>0fae4d9dbb466999e34ceb2a8581f136</td>\n      <td>/r/SFWRedheads/comments/13o2vke/sunday_funday/</td>\n      <td>https://i.redd.it/5c4jh6kmu91b1.jpg</td>\n      <td>13o2vke.jpg</td>\n      <td>data/image/13o2vke.jpg</td>\n      <td>RedHeadDiffusion</td>\n      <td>True</td>\n      <td>False</td>\n      <td>False</td>\n      <td>[]</td>\n    </tr>\n    <tr>\n      <th>...</th>\n      <td>...</td>\n      <td>...</td>\n      <td>...</td>\n      <td>...</td>\n      <td>...</td>\n      <td>...</td>\n      <td>...</td>\n      <td>...</td>\n      <td>...</td>\n      <td>...</td>\n      <td>...</td>\n      <td>...</td>\n      <td>...</td>\n      <td>...</td>\n      <td>...</td>\n    </tr>\n    <tr>\n      <th>13po3eq</th>\n      <td>13po3eq</td>\n      <td>AesPleasingAsianGirls</td>\n      <td>throwaway83736365372</td>\n      <td>Habin</td>\n      <td></td>\n      <td>3ea79e0ffa26050402bd62a47bf15000</td>\n      <td>/r/AesPleasingAsianGirls/comments/13po3eq/habin/</td>\n      <td>https://i.redd.it/6an1c1zagm1b1.jpg</td>\n      <td>13po3eq.jpg</td>\n      <td>data/image/13po3eq.jpg</td>\n      <td>SexyAsianDiffusion</td>\n      <td>True</td>\n      <td>False</td>\n      <td>False</td>\n      <td>[]</td>\n    </tr>\n    <tr>\n      <th>13pq23t</th>\n      <td>13pq23t</td>\n      <td>AesPleasingAsianGirls</td>\n      <td>theowuriwufoa</td>\n      <td>Car selfie</td>\n      <td></td>\n      <td>4b03667021cb1a4694dc982e21c0f7c1</td>\n      <td>/r/AesPleasingAsianGirls/comments/13pq23t/car_...</td>\n      <td>https://i.redd.it/3lg7bn3ntm1b1.jpg</td>\n      <td>13pq23t.jpg</td>\n      <td>data/image/13pq23t.jpg</td>\n      <td>SexyAsianDiffusion</td>\n      <td>True</td>\n      <td>False</td>\n      <td>False</td>\n      <td>[]</td>\n    </tr>\n    <tr>\n      <th>13qlj64</th>\n      <td>13qlj64</td>\n      <td>AesPleasingAsianGirls</td>\n      <td>throwaway83736365372</td>\n      <td>Habin</td>\n      <td></td>\n      <td>e1244a45a5018d6d35e487217a489db2</td>\n      <td>/r/AesPleasingAsianGirls/comments/13qlj64/habin/</td>\n      <td>https://i.redd.it/29soeuf3nt1b1.jpg</td>\n      <td>13qlj64.jpg</td>\n      <td>data/image/13qlj64.jpg</td>\n      <td>SexyAsianDiffusion</td>\n      <td>True</td>\n      <td>False</td>\n      <td>False</td>\n      <td>[]</td>\n    </tr>\n    <tr>\n      <th>13qmsn4</th>\n      <td>13qmsn4</td>\n      <td>AesPleasingAsianGirls</td>\n      <td>yummybanchan</td>\n      <td>Song Yu Qi</td>\n      <td></td>\n      <td>a2189d7026d58082336ddcad3667161e</td>\n      <td>/r/AesPleasingAsianGirls/comments/13qmsn4/song...</td>\n      <td>https://i.redd.it/cdj3scvnvt1b1.jpg</td>\n      <td>13qmsn4.jpg</td>\n      <td>data/image/13qmsn4.jpg</td>\n      <td>SexyAsianDiffusion</td>\n      <td>True</td>\n      <td>False</td>\n      <td>False</td>\n      <td>[]</td>\n    </tr>\n    <tr>\n      <th>13rnflb</th>\n      <td>13rnflb</td>\n      <td>AesPleasingAsianGirls</td>\n      <td>yummybanchan</td>\n      <td>Jihyo</td>\n      <td></td>\n      <td>6eda4dcd4c9f79e4ce225464fb902069</td>\n      <td>/r/AesPleasingAsianGirls/comments/13rnflb/jihyo/</td>\n      <td>https://i.redd.it/8hf3r3d4x12b1.jpg</td>\n      <td>13rnflb.jpg</td>\n      <td>data/image/13rnflb.jpg</td>\n      <td>SexyAsianDiffusion</td>\n      <td>True</td>\n      <td>False</td>\n      <td>False</td>\n      <td>[]</td>\n    </tr>\n  </tbody>\n</table>\n<p>837 rows × 15 columns</p>\n</div>"
     },
     "metadata": {},
     "output_type": "display_data"
    },
    {
     "name": "stdout",
     "output_type": "stream",
     "text": [
      "CPU times: total: 781 ms\n",
      "Wall time: 763 ms\n"
     ]
    }
   ],
   "source": [
    "%%time\n",
    "\n",
    "filtered['hash'] = filtered.progress_apply(lambda x: functions.set_hash(x), axis=1)\n",
    "\n",
    "display(\"== Filtered Data With Hash ==\")\n",
    "display(filtered.shape)\n",
    "display(filtered)"
   ],
   "metadata": {
    "collapsed": false
   }
  },
  {
   "cell_type": "code",
   "execution_count": 16,
   "outputs": [
    {
     "data": {
      "text/plain": "          id              subreddit                author   \n0    13o2vke            SFWRedheads            nurselacey  \\\n1    13o36lc            SFWRedheads         RedStringGirl   \n2    13o37bb            SFWRedheads          Ms_britt_one   \n3    13o4j6c            SFWRedheads          Bakedredhead   \n4    13o55kx            SFWRedheads               Ovaxx25   \n..       ...                    ...                   ...   \n817  13po3eq  AesPleasingAsianGirls  throwaway83736365372   \n818  13pq23t  AesPleasingAsianGirls         theowuriwufoa   \n819  13qlj64  AesPleasingAsianGirls  throwaway83736365372   \n820  13qmsn4  AesPleasingAsianGirls          yummybanchan   \n821  13rnflb  AesPleasingAsianGirls          yummybanchan   \n\n                                                 title caption   \n0                                        Sunday Funday          \\\n1                  I Hope You All Having A Good Sunday           \n2                             Happy Sunday everyone! 😘           \n3           Don’t normally wear makeup, how did I do??           \n4    Went to see my colleagues before I leave this ...           \n..                                                 ...     ...   \n817                                              Habin           \n818                                         Car selfie           \n819                                              Habin           \n820                                         Song Yu Qi           \n821                                              Jihyo           \n\n                                 hash   \n0    0fae4d9dbb466999e34ceb2a8581f136  \\\n1    e84ee51461ed2ea3c4deb7c3991b880a   \n2    bf023e7dbc4f77175e126784667660fe   \n3    9913d43bd109cb476bf5309159eb9c70   \n4    6bc35b942fc303ee427929f36d324a10   \n..                                ...   \n817  3ea79e0ffa26050402bd62a47bf15000   \n818  4b03667021cb1a4694dc982e21c0f7c1   \n819  e1244a45a5018d6d35e487217a489db2   \n820  a2189d7026d58082336ddcad3667161e   \n821  6eda4dcd4c9f79e4ce225464fb902069   \n\n                                             permalink   \n0       /r/SFWRedheads/comments/13o2vke/sunday_funday/  \\\n1    /r/SFWRedheads/comments/13o36lc/i_hope_you_all...   \n2    /r/SFWRedheads/comments/13o37bb/happy_sunday_e...   \n3    /r/SFWRedheads/comments/13o4j6c/dont_normally_...   \n4    /r/SFWRedheads/comments/13o55kx/went_to_see_my...   \n..                                                 ...   \n817   /r/AesPleasingAsianGirls/comments/13po3eq/habin/   \n818  /r/AesPleasingAsianGirls/comments/13pq23t/car_...   \n819   /r/AesPleasingAsianGirls/comments/13qlj64/habin/   \n820  /r/AesPleasingAsianGirls/comments/13qmsn4/song...   \n821   /r/AesPleasingAsianGirls/comments/13rnflb/jihyo/   \n\n                            original_url   image_name                    path   \n0    https://i.redd.it/5c4jh6kmu91b1.jpg  13o2vke.jpg  data/image/13o2vke.jpg  \\\n1    https://i.redd.it/y684k1tvw91b1.jpg  13o36lc.jpg  data/image/13o36lc.jpg   \n2    https://i.redd.it/gomgimf0x91b1.jpg  13o37bb.jpg  data/image/13o37bb.jpg   \n3    https://i.redd.it/qyjw35kk6a1b1.jpg  13o4j6c.jpg  data/image/13o4j6c.jpg   \n4    https://i.redd.it/wf9gqcb5ba1b1.jpg  13o55kx.jpg  data/image/13o55kx.jpg   \n..                                   ...          ...                     ...   \n817  https://i.redd.it/6an1c1zagm1b1.jpg  13po3eq.jpg  data/image/13po3eq.jpg   \n818  https://i.redd.it/3lg7bn3ntm1b1.jpg  13pq23t.jpg  data/image/13pq23t.jpg   \n819  https://i.redd.it/29soeuf3nt1b1.jpg  13qlj64.jpg  data/image/13qlj64.jpg   \n820  https://i.redd.it/cdj3scvnvt1b1.jpg  13qmsn4.jpg  data/image/13qmsn4.jpg   \n821  https://i.redd.it/8hf3r3d4x12b1.jpg  13rnflb.jpg  data/image/13rnflb.jpg   \n\n                  model  exists  curated accept tags  \n0      RedHeadDiffusion    True    False  False   []  \n1      RedHeadDiffusion    True    False  False   []  \n2      RedHeadDiffusion    True    False  False   []  \n3      RedHeadDiffusion    True    False  False   []  \n4      RedHeadDiffusion    True    False  False   []  \n..                  ...     ...      ...    ...  ...  \n817  SexyAsianDiffusion    True    False  False   []  \n818  SexyAsianDiffusion    True    False  False   []  \n819  SexyAsianDiffusion    True    False  False   []  \n820  SexyAsianDiffusion    True    False  False   []  \n821  SexyAsianDiffusion    True    False  False   []  \n\n[822 rows x 15 columns]",
      "text/html": "<div>\n<style scoped>\n    .dataframe tbody tr th:only-of-type {\n        vertical-align: middle;\n    }\n\n    .dataframe tbody tr th {\n        vertical-align: top;\n    }\n\n    .dataframe thead th {\n        text-align: right;\n    }\n</style>\n<table border=\"1\" class=\"dataframe\">\n  <thead>\n    <tr style=\"text-align: right;\">\n      <th></th>\n      <th>id</th>\n      <th>subreddit</th>\n      <th>author</th>\n      <th>title</th>\n      <th>caption</th>\n      <th>hash</th>\n      <th>permalink</th>\n      <th>original_url</th>\n      <th>image_name</th>\n      <th>path</th>\n      <th>model</th>\n      <th>exists</th>\n      <th>curated</th>\n      <th>accept</th>\n      <th>tags</th>\n    </tr>\n  </thead>\n  <tbody>\n    <tr>\n      <th>0</th>\n      <td>13o2vke</td>\n      <td>SFWRedheads</td>\n      <td>nurselacey</td>\n      <td>Sunday Funday</td>\n      <td></td>\n      <td>0fae4d9dbb466999e34ceb2a8581f136</td>\n      <td>/r/SFWRedheads/comments/13o2vke/sunday_funday/</td>\n      <td>https://i.redd.it/5c4jh6kmu91b1.jpg</td>\n      <td>13o2vke.jpg</td>\n      <td>data/image/13o2vke.jpg</td>\n      <td>RedHeadDiffusion</td>\n      <td>True</td>\n      <td>False</td>\n      <td>False</td>\n      <td>[]</td>\n    </tr>\n    <tr>\n      <th>1</th>\n      <td>13o36lc</td>\n      <td>SFWRedheads</td>\n      <td>RedStringGirl</td>\n      <td>I Hope You All Having A Good Sunday</td>\n      <td></td>\n      <td>e84ee51461ed2ea3c4deb7c3991b880a</td>\n      <td>/r/SFWRedheads/comments/13o36lc/i_hope_you_all...</td>\n      <td>https://i.redd.it/y684k1tvw91b1.jpg</td>\n      <td>13o36lc.jpg</td>\n      <td>data/image/13o36lc.jpg</td>\n      <td>RedHeadDiffusion</td>\n      <td>True</td>\n      <td>False</td>\n      <td>False</td>\n      <td>[]</td>\n    </tr>\n    <tr>\n      <th>2</th>\n      <td>13o37bb</td>\n      <td>SFWRedheads</td>\n      <td>Ms_britt_one</td>\n      <td>Happy Sunday everyone! 😘</td>\n      <td></td>\n      <td>bf023e7dbc4f77175e126784667660fe</td>\n      <td>/r/SFWRedheads/comments/13o37bb/happy_sunday_e...</td>\n      <td>https://i.redd.it/gomgimf0x91b1.jpg</td>\n      <td>13o37bb.jpg</td>\n      <td>data/image/13o37bb.jpg</td>\n      <td>RedHeadDiffusion</td>\n      <td>True</td>\n      <td>False</td>\n      <td>False</td>\n      <td>[]</td>\n    </tr>\n    <tr>\n      <th>3</th>\n      <td>13o4j6c</td>\n      <td>SFWRedheads</td>\n      <td>Bakedredhead</td>\n      <td>Don’t normally wear makeup, how did I do??</td>\n      <td></td>\n      <td>9913d43bd109cb476bf5309159eb9c70</td>\n      <td>/r/SFWRedheads/comments/13o4j6c/dont_normally_...</td>\n      <td>https://i.redd.it/qyjw35kk6a1b1.jpg</td>\n      <td>13o4j6c.jpg</td>\n      <td>data/image/13o4j6c.jpg</td>\n      <td>RedHeadDiffusion</td>\n      <td>True</td>\n      <td>False</td>\n      <td>False</td>\n      <td>[]</td>\n    </tr>\n    <tr>\n      <th>4</th>\n      <td>13o55kx</td>\n      <td>SFWRedheads</td>\n      <td>Ovaxx25</td>\n      <td>Went to see my colleagues before I leave this ...</td>\n      <td></td>\n      <td>6bc35b942fc303ee427929f36d324a10</td>\n      <td>/r/SFWRedheads/comments/13o55kx/went_to_see_my...</td>\n      <td>https://i.redd.it/wf9gqcb5ba1b1.jpg</td>\n      <td>13o55kx.jpg</td>\n      <td>data/image/13o55kx.jpg</td>\n      <td>RedHeadDiffusion</td>\n      <td>True</td>\n      <td>False</td>\n      <td>False</td>\n      <td>[]</td>\n    </tr>\n    <tr>\n      <th>...</th>\n      <td>...</td>\n      <td>...</td>\n      <td>...</td>\n      <td>...</td>\n      <td>...</td>\n      <td>...</td>\n      <td>...</td>\n      <td>...</td>\n      <td>...</td>\n      <td>...</td>\n      <td>...</td>\n      <td>...</td>\n      <td>...</td>\n      <td>...</td>\n      <td>...</td>\n    </tr>\n    <tr>\n      <th>817</th>\n      <td>13po3eq</td>\n      <td>AesPleasingAsianGirls</td>\n      <td>throwaway83736365372</td>\n      <td>Habin</td>\n      <td></td>\n      <td>3ea79e0ffa26050402bd62a47bf15000</td>\n      <td>/r/AesPleasingAsianGirls/comments/13po3eq/habin/</td>\n      <td>https://i.redd.it/6an1c1zagm1b1.jpg</td>\n      <td>13po3eq.jpg</td>\n      <td>data/image/13po3eq.jpg</td>\n      <td>SexyAsianDiffusion</td>\n      <td>True</td>\n      <td>False</td>\n      <td>False</td>\n      <td>[]</td>\n    </tr>\n    <tr>\n      <th>818</th>\n      <td>13pq23t</td>\n      <td>AesPleasingAsianGirls</td>\n      <td>theowuriwufoa</td>\n      <td>Car selfie</td>\n      <td></td>\n      <td>4b03667021cb1a4694dc982e21c0f7c1</td>\n      <td>/r/AesPleasingAsianGirls/comments/13pq23t/car_...</td>\n      <td>https://i.redd.it/3lg7bn3ntm1b1.jpg</td>\n      <td>13pq23t.jpg</td>\n      <td>data/image/13pq23t.jpg</td>\n      <td>SexyAsianDiffusion</td>\n      <td>True</td>\n      <td>False</td>\n      <td>False</td>\n      <td>[]</td>\n    </tr>\n    <tr>\n      <th>819</th>\n      <td>13qlj64</td>\n      <td>AesPleasingAsianGirls</td>\n      <td>throwaway83736365372</td>\n      <td>Habin</td>\n      <td></td>\n      <td>e1244a45a5018d6d35e487217a489db2</td>\n      <td>/r/AesPleasingAsianGirls/comments/13qlj64/habin/</td>\n      <td>https://i.redd.it/29soeuf3nt1b1.jpg</td>\n      <td>13qlj64.jpg</td>\n      <td>data/image/13qlj64.jpg</td>\n      <td>SexyAsianDiffusion</td>\n      <td>True</td>\n      <td>False</td>\n      <td>False</td>\n      <td>[]</td>\n    </tr>\n    <tr>\n      <th>820</th>\n      <td>13qmsn4</td>\n      <td>AesPleasingAsianGirls</td>\n      <td>yummybanchan</td>\n      <td>Song Yu Qi</td>\n      <td></td>\n      <td>a2189d7026d58082336ddcad3667161e</td>\n      <td>/r/AesPleasingAsianGirls/comments/13qmsn4/song...</td>\n      <td>https://i.redd.it/cdj3scvnvt1b1.jpg</td>\n      <td>13qmsn4.jpg</td>\n      <td>data/image/13qmsn4.jpg</td>\n      <td>SexyAsianDiffusion</td>\n      <td>True</td>\n      <td>False</td>\n      <td>False</td>\n      <td>[]</td>\n    </tr>\n    <tr>\n      <th>821</th>\n      <td>13rnflb</td>\n      <td>AesPleasingAsianGirls</td>\n      <td>yummybanchan</td>\n      <td>Jihyo</td>\n      <td></td>\n      <td>6eda4dcd4c9f79e4ce225464fb902069</td>\n      <td>/r/AesPleasingAsianGirls/comments/13rnflb/jihyo/</td>\n      <td>https://i.redd.it/8hf3r3d4x12b1.jpg</td>\n      <td>13rnflb.jpg</td>\n      <td>data/image/13rnflb.jpg</td>\n      <td>SexyAsianDiffusion</td>\n      <td>True</td>\n      <td>False</td>\n      <td>False</td>\n      <td>[]</td>\n    </tr>\n  </tbody>\n</table>\n<p>822 rows × 15 columns</p>\n</div>"
     },
     "metadata": {},
     "output_type": "display_data"
    },
    {
     "data": {
      "text/plain": "'== New Records To Process =='"
     },
     "metadata": {},
     "output_type": "display_data"
    },
    {
     "data": {
      "text/plain": "(822, 15)"
     },
     "metadata": {},
     "output_type": "display_data"
    },
    {
     "data": {
      "text/plain": "          id              subreddit                author   \n0    13o2vke            SFWRedheads            nurselacey  \\\n1    13o36lc            SFWRedheads         RedStringGirl   \n2    13o37bb            SFWRedheads          Ms_britt_one   \n3    13o4j6c            SFWRedheads          Bakedredhead   \n4    13o55kx            SFWRedheads               Ovaxx25   \n..       ...                    ...                   ...   \n817  13po3eq  AesPleasingAsianGirls  throwaway83736365372   \n818  13pq23t  AesPleasingAsianGirls         theowuriwufoa   \n819  13qlj64  AesPleasingAsianGirls  throwaway83736365372   \n820  13qmsn4  AesPleasingAsianGirls          yummybanchan   \n821  13rnflb  AesPleasingAsianGirls          yummybanchan   \n\n                                                 title caption   \n0                                        Sunday Funday          \\\n1                  I Hope You All Having A Good Sunday           \n2                             Happy Sunday everyone! 😘           \n3           Don’t normally wear makeup, how did I do??           \n4    Went to see my colleagues before I leave this ...           \n..                                                 ...     ...   \n817                                              Habin           \n818                                         Car selfie           \n819                                              Habin           \n820                                         Song Yu Qi           \n821                                              Jihyo           \n\n                                 hash   \n0    0fae4d9dbb466999e34ceb2a8581f136  \\\n1    e84ee51461ed2ea3c4deb7c3991b880a   \n2    bf023e7dbc4f77175e126784667660fe   \n3    9913d43bd109cb476bf5309159eb9c70   \n4    6bc35b942fc303ee427929f36d324a10   \n..                                ...   \n817  3ea79e0ffa26050402bd62a47bf15000   \n818  4b03667021cb1a4694dc982e21c0f7c1   \n819  e1244a45a5018d6d35e487217a489db2   \n820  a2189d7026d58082336ddcad3667161e   \n821  6eda4dcd4c9f79e4ce225464fb902069   \n\n                                             permalink   \n0       /r/SFWRedheads/comments/13o2vke/sunday_funday/  \\\n1    /r/SFWRedheads/comments/13o36lc/i_hope_you_all...   \n2    /r/SFWRedheads/comments/13o37bb/happy_sunday_e...   \n3    /r/SFWRedheads/comments/13o4j6c/dont_normally_...   \n4    /r/SFWRedheads/comments/13o55kx/went_to_see_my...   \n..                                                 ...   \n817   /r/AesPleasingAsianGirls/comments/13po3eq/habin/   \n818  /r/AesPleasingAsianGirls/comments/13pq23t/car_...   \n819   /r/AesPleasingAsianGirls/comments/13qlj64/habin/   \n820  /r/AesPleasingAsianGirls/comments/13qmsn4/song...   \n821   /r/AesPleasingAsianGirls/comments/13rnflb/jihyo/   \n\n                            original_url   image_name                    path   \n0    https://i.redd.it/5c4jh6kmu91b1.jpg  13o2vke.jpg  data/image/13o2vke.jpg  \\\n1    https://i.redd.it/y684k1tvw91b1.jpg  13o36lc.jpg  data/image/13o36lc.jpg   \n2    https://i.redd.it/gomgimf0x91b1.jpg  13o37bb.jpg  data/image/13o37bb.jpg   \n3    https://i.redd.it/qyjw35kk6a1b1.jpg  13o4j6c.jpg  data/image/13o4j6c.jpg   \n4    https://i.redd.it/wf9gqcb5ba1b1.jpg  13o55kx.jpg  data/image/13o55kx.jpg   \n..                                   ...          ...                     ...   \n817  https://i.redd.it/6an1c1zagm1b1.jpg  13po3eq.jpg  data/image/13po3eq.jpg   \n818  https://i.redd.it/3lg7bn3ntm1b1.jpg  13pq23t.jpg  data/image/13pq23t.jpg   \n819  https://i.redd.it/29soeuf3nt1b1.jpg  13qlj64.jpg  data/image/13qlj64.jpg   \n820  https://i.redd.it/cdj3scvnvt1b1.jpg  13qmsn4.jpg  data/image/13qmsn4.jpg   \n821  https://i.redd.it/8hf3r3d4x12b1.jpg  13rnflb.jpg  data/image/13rnflb.jpg   \n\n                  model  exists  curated  accept tags  \n0      RedHeadDiffusion    True    False   False   []  \n1      RedHeadDiffusion    True    False   False   []  \n2      RedHeadDiffusion    True    False   False   []  \n3      RedHeadDiffusion    True    False   False   []  \n4      RedHeadDiffusion    True    False   False   []  \n..                  ...     ...      ...     ...  ...  \n817  SexyAsianDiffusion    True    False   False   []  \n818  SexyAsianDiffusion    True    False   False   []  \n819  SexyAsianDiffusion    True    False   False   []  \n820  SexyAsianDiffusion    True    False   False   []  \n821  SexyAsianDiffusion    True    False   False   []  \n\n[822 rows x 15 columns]",
      "text/html": "<div>\n<style scoped>\n    .dataframe tbody tr th:only-of-type {\n        vertical-align: middle;\n    }\n\n    .dataframe tbody tr th {\n        vertical-align: top;\n    }\n\n    .dataframe thead th {\n        text-align: right;\n    }\n</style>\n<table border=\"1\" class=\"dataframe\">\n  <thead>\n    <tr style=\"text-align: right;\">\n      <th></th>\n      <th>id</th>\n      <th>subreddit</th>\n      <th>author</th>\n      <th>title</th>\n      <th>caption</th>\n      <th>hash</th>\n      <th>permalink</th>\n      <th>original_url</th>\n      <th>image_name</th>\n      <th>path</th>\n      <th>model</th>\n      <th>exists</th>\n      <th>curated</th>\n      <th>accept</th>\n      <th>tags</th>\n    </tr>\n  </thead>\n  <tbody>\n    <tr>\n      <th>0</th>\n      <td>13o2vke</td>\n      <td>SFWRedheads</td>\n      <td>nurselacey</td>\n      <td>Sunday Funday</td>\n      <td></td>\n      <td>0fae4d9dbb466999e34ceb2a8581f136</td>\n      <td>/r/SFWRedheads/comments/13o2vke/sunday_funday/</td>\n      <td>https://i.redd.it/5c4jh6kmu91b1.jpg</td>\n      <td>13o2vke.jpg</td>\n      <td>data/image/13o2vke.jpg</td>\n      <td>RedHeadDiffusion</td>\n      <td>True</td>\n      <td>False</td>\n      <td>False</td>\n      <td>[]</td>\n    </tr>\n    <tr>\n      <th>1</th>\n      <td>13o36lc</td>\n      <td>SFWRedheads</td>\n      <td>RedStringGirl</td>\n      <td>I Hope You All Having A Good Sunday</td>\n      <td></td>\n      <td>e84ee51461ed2ea3c4deb7c3991b880a</td>\n      <td>/r/SFWRedheads/comments/13o36lc/i_hope_you_all...</td>\n      <td>https://i.redd.it/y684k1tvw91b1.jpg</td>\n      <td>13o36lc.jpg</td>\n      <td>data/image/13o36lc.jpg</td>\n      <td>RedHeadDiffusion</td>\n      <td>True</td>\n      <td>False</td>\n      <td>False</td>\n      <td>[]</td>\n    </tr>\n    <tr>\n      <th>2</th>\n      <td>13o37bb</td>\n      <td>SFWRedheads</td>\n      <td>Ms_britt_one</td>\n      <td>Happy Sunday everyone! 😘</td>\n      <td></td>\n      <td>bf023e7dbc4f77175e126784667660fe</td>\n      <td>/r/SFWRedheads/comments/13o37bb/happy_sunday_e...</td>\n      <td>https://i.redd.it/gomgimf0x91b1.jpg</td>\n      <td>13o37bb.jpg</td>\n      <td>data/image/13o37bb.jpg</td>\n      <td>RedHeadDiffusion</td>\n      <td>True</td>\n      <td>False</td>\n      <td>False</td>\n      <td>[]</td>\n    </tr>\n    <tr>\n      <th>3</th>\n      <td>13o4j6c</td>\n      <td>SFWRedheads</td>\n      <td>Bakedredhead</td>\n      <td>Don’t normally wear makeup, how did I do??</td>\n      <td></td>\n      <td>9913d43bd109cb476bf5309159eb9c70</td>\n      <td>/r/SFWRedheads/comments/13o4j6c/dont_normally_...</td>\n      <td>https://i.redd.it/qyjw35kk6a1b1.jpg</td>\n      <td>13o4j6c.jpg</td>\n      <td>data/image/13o4j6c.jpg</td>\n      <td>RedHeadDiffusion</td>\n      <td>True</td>\n      <td>False</td>\n      <td>False</td>\n      <td>[]</td>\n    </tr>\n    <tr>\n      <th>4</th>\n      <td>13o55kx</td>\n      <td>SFWRedheads</td>\n      <td>Ovaxx25</td>\n      <td>Went to see my colleagues before I leave this ...</td>\n      <td></td>\n      <td>6bc35b942fc303ee427929f36d324a10</td>\n      <td>/r/SFWRedheads/comments/13o55kx/went_to_see_my...</td>\n      <td>https://i.redd.it/wf9gqcb5ba1b1.jpg</td>\n      <td>13o55kx.jpg</td>\n      <td>data/image/13o55kx.jpg</td>\n      <td>RedHeadDiffusion</td>\n      <td>True</td>\n      <td>False</td>\n      <td>False</td>\n      <td>[]</td>\n    </tr>\n    <tr>\n      <th>...</th>\n      <td>...</td>\n      <td>...</td>\n      <td>...</td>\n      <td>...</td>\n      <td>...</td>\n      <td>...</td>\n      <td>...</td>\n      <td>...</td>\n      <td>...</td>\n      <td>...</td>\n      <td>...</td>\n      <td>...</td>\n      <td>...</td>\n      <td>...</td>\n      <td>...</td>\n    </tr>\n    <tr>\n      <th>817</th>\n      <td>13po3eq</td>\n      <td>AesPleasingAsianGirls</td>\n      <td>throwaway83736365372</td>\n      <td>Habin</td>\n      <td></td>\n      <td>3ea79e0ffa26050402bd62a47bf15000</td>\n      <td>/r/AesPleasingAsianGirls/comments/13po3eq/habin/</td>\n      <td>https://i.redd.it/6an1c1zagm1b1.jpg</td>\n      <td>13po3eq.jpg</td>\n      <td>data/image/13po3eq.jpg</td>\n      <td>SexyAsianDiffusion</td>\n      <td>True</td>\n      <td>False</td>\n      <td>False</td>\n      <td>[]</td>\n    </tr>\n    <tr>\n      <th>818</th>\n      <td>13pq23t</td>\n      <td>AesPleasingAsianGirls</td>\n      <td>theowuriwufoa</td>\n      <td>Car selfie</td>\n      <td></td>\n      <td>4b03667021cb1a4694dc982e21c0f7c1</td>\n      <td>/r/AesPleasingAsianGirls/comments/13pq23t/car_...</td>\n      <td>https://i.redd.it/3lg7bn3ntm1b1.jpg</td>\n      <td>13pq23t.jpg</td>\n      <td>data/image/13pq23t.jpg</td>\n      <td>SexyAsianDiffusion</td>\n      <td>True</td>\n      <td>False</td>\n      <td>False</td>\n      <td>[]</td>\n    </tr>\n    <tr>\n      <th>819</th>\n      <td>13qlj64</td>\n      <td>AesPleasingAsianGirls</td>\n      <td>throwaway83736365372</td>\n      <td>Habin</td>\n      <td></td>\n      <td>e1244a45a5018d6d35e487217a489db2</td>\n      <td>/r/AesPleasingAsianGirls/comments/13qlj64/habin/</td>\n      <td>https://i.redd.it/29soeuf3nt1b1.jpg</td>\n      <td>13qlj64.jpg</td>\n      <td>data/image/13qlj64.jpg</td>\n      <td>SexyAsianDiffusion</td>\n      <td>True</td>\n      <td>False</td>\n      <td>False</td>\n      <td>[]</td>\n    </tr>\n    <tr>\n      <th>820</th>\n      <td>13qmsn4</td>\n      <td>AesPleasingAsianGirls</td>\n      <td>yummybanchan</td>\n      <td>Song Yu Qi</td>\n      <td></td>\n      <td>a2189d7026d58082336ddcad3667161e</td>\n      <td>/r/AesPleasingAsianGirls/comments/13qmsn4/song...</td>\n      <td>https://i.redd.it/cdj3scvnvt1b1.jpg</td>\n      <td>13qmsn4.jpg</td>\n      <td>data/image/13qmsn4.jpg</td>\n      <td>SexyAsianDiffusion</td>\n      <td>True</td>\n      <td>False</td>\n      <td>False</td>\n      <td>[]</td>\n    </tr>\n    <tr>\n      <th>821</th>\n      <td>13rnflb</td>\n      <td>AesPleasingAsianGirls</td>\n      <td>yummybanchan</td>\n      <td>Jihyo</td>\n      <td></td>\n      <td>6eda4dcd4c9f79e4ce225464fb902069</td>\n      <td>/r/AesPleasingAsianGirls/comments/13rnflb/jihyo/</td>\n      <td>https://i.redd.it/8hf3r3d4x12b1.jpg</td>\n      <td>13rnflb.jpg</td>\n      <td>data/image/13rnflb.jpg</td>\n      <td>SexyAsianDiffusion</td>\n      <td>True</td>\n      <td>False</td>\n      <td>False</td>\n      <td>[]</td>\n    </tr>\n  </tbody>\n</table>\n<p>822 rows × 15 columns</p>\n</div>"
     },
     "metadata": {},
     "output_type": "display_data"
    }
   ],
   "source": [
    "ts = datetime.today().timestamp()\n",
    "\n",
    "exists = filtered.loc[filtered['exists'] == True]\n",
    "exists.dropna(axis=1, how='all')\n",
    "exists.reset_index(drop=True, inplace=True)\n",
    "\n",
    "new_records_to_process = exists.copy()\n",
    "del exists\n",
    "\n",
    "new_records_to_process.reset_index(drop=True, inplace=True)\n",
    "display(new_records_to_process)\n",
    "\n",
    "out_name = f\"data/temp/caption/primary/{ts}_new_records_to_process.parquet\"\n",
    "new_records_to_process.to_parquet(out_name, engine='pyarrow', filesystem=file_system, schema=schema)\n",
    "del new_records_to_process\n",
    "\n",
    "new_df = pandas.read_parquet(out_name, engine='pyarrow', filesystem=file_system, schema=schema)\n",
    "\n",
    "display(\"== New Records To Process ==\")\n",
    "display(new_df.shape)\n",
    "display(new_df)"
   ],
   "metadata": {
    "collapsed": false
   }
  },
  {
   "cell_type": "code",
   "execution_count": 17,
   "outputs": [
    {
     "ename": "NameError",
     "evalue": "name 'new_df' is not defined",
     "output_type": "error",
     "traceback": [
      "\u001B[1;31m---------------------------------------------------------------------------\u001B[0m",
      "\u001B[1;31mNameError\u001B[0m                                 Traceback (most recent call last)",
      "Cell \u001B[1;32mIn[17], line 1\u001B[0m\n\u001B[1;32m----> 1\u001B[0m display(\u001B[38;5;124mf\u001B[39m\u001B[38;5;124m\"\u001B[39m\u001B[38;5;124mTotal Number Of New Images - \u001B[39m\u001B[38;5;132;01m{\u001B[39;00mnew_df\u001B[38;5;241m.\u001B[39mshape[\u001B[38;5;241m0\u001B[39m]\u001B[38;5;132;01m}\u001B[39;00m\u001B[38;5;124m\"\u001B[39m)\n\u001B[0;32m      2\u001B[0m display(\u001B[38;5;124m\"\u001B[39m\u001B[38;5;124m0-1 Image Acquisition Complete - Shutting Down\u001B[39m\u001B[38;5;124m\"\u001B[39m)\n",
      "\u001B[1;31mNameError\u001B[0m: name 'new_df' is not defined"
     ]
    }
   ],
   "source": [
    "display(f\"Total Number Of New Images - {new_df.shape[0]}\")\n",
    "display(\"0-1 Image Acquisition Complete - Writing new output and Shutting Down\")"
   ],
   "metadata": {
    "collapsed": false
   }
  },
  {
   "cell_type": "code",
   "execution_count": null,
   "outputs": [],
   "source": [],
   "metadata": {
    "collapsed": false
   }
  }
 ],
 "metadata": {
  "kernelspec": {
   "display_name": "Python 3",
   "language": "python",
   "name": "python3"
  },
  "language_info": {
   "codemirror_mode": {
    "name": "ipython",
    "version": 2
   },
   "file_extension": ".py",
   "mimetype": "text/x-python",
   "name": "python",
   "nbconvert_exporter": "python",
   "pygments_lexer": "ipython2",
   "version": "2.7.6"
  }
 },
 "nbformat": 4,
 "nbformat_minor": 0
}
