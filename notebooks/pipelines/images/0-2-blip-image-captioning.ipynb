{
 "cells": [
  {
   "cell_type": "code",
   "execution_count": null,
   "metadata": {
    "collapsed": true
   },
   "outputs": [],
   "source": [
    "%%time\n",
    "\n",
    "display(\"=== Starting 0-2 Blip Image Captioning ===\")\n",
    "\n",
    "import datetime as dt\n",
    "import os\n",
    "\n",
    "import pandas\n",
    "import pandas as pd\n",
    "from tqdm import tqdm\n",
    "\n",
    "from common.captioning.caption import BlipCaption\n",
    "from common.schemas.pyarrow_schema import schema\n",
    "from common.storage.azure_file_storage import AzureFileStorageAdapter\n",
    "from common.functions.functions import Functions\n",
    "\n",
    "tqdm.pandas(desc=\"Progress\")\n",
    "\n",
    "file_system = AzureFileStorageAdapter('data').get_file_storage()\n",
    "\n",
    "functions: Functions = Functions()"
   ]
  },
  {
   "cell_type": "code",
   "execution_count": null,
   "outputs": [],
   "source": [
    "%%time\n",
    "\n",
    "import torch\n",
    "if torch.cuda.is_available():\n",
    "\tdisplay(\"=== Loading CUDA ===\")\n",
    "\tcaption_0 = BlipCaption(\"cuda:0\")\n",
    "\tcaption_1 = BlipCaption(\"cuda:1\")\n",
    "else:\n",
    "\tdisplay(\"=== Loading CPU ===\")\n",
    "\tcaption_0 = BlipCaption(\"cpu\")\n",
    "\tcaption_1 = BlipCaption(\"cpu\")"
   ],
   "metadata": {
    "collapsed": false
   }
  },
  {
   "cell_type": "code",
   "execution_count": null,
   "outputs": [],
   "source": [],
   "metadata": {
    "collapsed": false
   }
  },
  {
   "cell_type": "code",
   "execution_count": null,
   "outputs": [],
   "source": [
    "%%time\n",
    "\n",
    "ready_to_caption = pandas.read_parquet('data/temp/caption', engine='pyarrow', filesystem=file_system, schema=schema)\n",
    "ready_to_caption.set_index(\"id\", inplace=True, drop=False)\n",
    "\n",
    "extant_curate = pandas.read_parquet('data/parquet/primary_caption.parquet', engine='pyarrow', filesystem=file_system, schema=schema)\n",
    "extant_curate.set_index(\"id\", inplace=True, drop=False)\n",
    "\n",
    "display(\"=== Extant Data ===\")\n",
    "display(extant_curate)\n",
    "\n",
    "\n",
    "display(\"=== Read To Caption ===\")\n",
    "display(ready_to_caption)"
   ],
   "metadata": {
    "collapsed": false
   }
  },
  {
   "cell_type": "code",
   "execution_count": null,
   "outputs": [],
   "source": [
    "%%time\n",
    "\n",
    "check = ready_to_caption.loc[(ready_to_caption['caption'] == \"\") & (ready_to_caption['caption'].notnull()) & (ready_to_caption['exists'] == True)]\n",
    "\n",
    "del ready_to_caption\n",
    "\n",
    "ready_to_caption = check.copy()\n",
    "del check\n",
    "\n",
    "display(\"== Filtered On Existing Caption ==\")\n",
    "display(ready_to_caption.shape)\n",
    "display(ready_to_caption)"
   ],
   "metadata": {
    "collapsed": false
   }
  },
  {
   "cell_type": "code",
   "execution_count": null,
   "outputs": [],
   "source": [
    "%%time\n",
    "\n",
    "dropped = ready_to_caption.dropna(axis=1, how='all')\n",
    "dropped.reset_index(drop=True, inplace=True)\n",
    "dropped.set_index(\"id\", inplace=True, drop=False)\n",
    "\n",
    "del ready_to_caption\n",
    "\n",
    "ready_to_caption = dropped.copy()\n",
    "\n",
    "del dropped\n",
    "\n",
    "display(\"== Dropped And Reset Data ==\")\n",
    "display(ready_to_caption.shape)\n",
    "display(ready_to_caption)"
   ],
   "metadata": {
    "collapsed": false
   }
  },
  {
   "cell_type": "code",
   "execution_count": null,
   "outputs": [],
   "source": [
    "%%time\n",
    "\n",
    "extant_ids = extant_curate.index.values.tolist()\n",
    "requires_captioning = ready_to_caption.loc[~ready_to_caption['id'].isin(extant_ids)]\n",
    "\n",
    "dropped = requires_captioning.dropna(axis=1, how='all')\n",
    "dropped.reset_index(drop=True, inplace=True)\n",
    "dropped.set_index(\"id\", inplace=True, drop=False)\n",
    "\n",
    "del requires_captioning\n",
    "del ready_to_caption\n",
    "\n",
    "ready_to_caption = dropped.copy()\n",
    "\n",
    "del dropped\n",
    "\n",
    "display(\"== Dropped And Reset Data ==\")\n",
    "display(ready_to_caption.shape)\n",
    "display(ready_to_caption)"
   ],
   "metadata": {
    "collapsed": false
   }
  },
  {
   "cell_type": "code",
   "execution_count": null,
   "outputs": [],
   "source": [
    "%%time\n",
    "\n",
    "ready_to_caption['caption'] = ready_to_caption.progress_apply(lambda x: functions.apply_caption(x, [caption_0, caption_1]), axis=1)\n",
    "\n",
    "display(\"== Data With Captions ==\")\n",
    "display(ready_to_caption.shape)\n",
    "display(ready_to_caption)"
   ],
   "metadata": {
    "collapsed": false
   }
  },
  {
   "cell_type": "code",
   "execution_count": null,
   "outputs": [],
   "source": [
    "%%time\n",
    "\n",
    "dropped = ready_to_caption.dropna(axis=1, how='all')\n",
    "dropped.reset_index(drop=True, inplace=True)\n",
    "dropped.set_index(\"id\", inplace=True, drop=False)\n",
    "\n",
    "del ready_to_caption\n",
    "\n",
    "ready_to_caption = dropped.copy()\n",
    "\n",
    "del dropped\n",
    "\n",
    "display(\"== Dropped And Reset Data After Captioning ==\")\n",
    "display(ready_to_caption.shape)\n",
    "display(ready_to_caption)"
   ],
   "metadata": {
    "collapsed": false
   }
  },
  {
   "cell_type": "code",
   "execution_count": null,
   "outputs": [],
   "source": [
    "%%time\n",
    "\n",
    "concat = pandas.concat([extant_curate, ready_to_caption])\n",
    "\n",
    "dropped = concat.dropna(axis=1, how='all')\n",
    "dropped.reset_index(drop=True, inplace=True)\n",
    "dropped.set_index(\"id\", inplace=True, drop=False)\n",
    "\n",
    "del concat\n",
    "\n",
    "concat = dropped.copy()\n",
    "\n",
    "del dropped\n",
    "\n",
    "display(\"== Dropped And Reset Data ==\")\n",
    "display(concat.shape)\n",
    "display(concat)"
   ],
   "metadata": {
    "collapsed": false
   }
  },
  {
   "cell_type": "code",
   "execution_count": null,
   "outputs": [],
   "source": [
    "%%time\n",
    "\n",
    "back_up_name = f\"data/parquet/primary_caption_{dt.datetime.timestamp(dt.datetime.now())}.parquet\"\n",
    "\n",
    "display(f\"== Writing Back-Up {back_up_name} ==\")\n",
    "current = pandas.read_parquet('data/parquet/primary_caption.parquet', engine='pyarrow', filesystem=file_system, schema=schema)\n",
    "current.to_parquet(back_up_name, schema=schema, filesystem=file_system)\n",
    "\n",
    "display(current.shape)\n",
    "display(current)"
   ],
   "metadata": {
    "collapsed": false
   }
  },
  {
   "cell_type": "code",
   "execution_count": null,
   "outputs": [],
   "source": [
    "%%time\n",
    "\n",
    "concat.to_parquet(\"data/parquet/primary_caption.parquet\", schema=schema, filesystem=file_system)\n",
    "new = pd.read_parquet(\"data/parquet/primary_caption.parquet\", engine='pyarrow', schema=schema, filesystem=file_system)\n",
    "\n",
    "display(\"== Updating Ready To Curate With All New Data ==\")\n",
    "display(new.shape)\n",
    "display(new)"
   ],
   "metadata": {
    "collapsed": false
   }
  },
  {
   "cell_type": "code",
   "execution_count": null,
   "outputs": [],
   "source": [
    "!jupyter notebook stop"
   ],
   "metadata": {
    "collapsed": false
   }
  }
 ],
 "metadata": {
  "kernelspec": {
   "display_name": "Python 3",
   "language": "python",
   "name": "python3"
  },
  "language_info": {
   "codemirror_mode": {
    "name": "ipython",
    "version": 2
   },
   "file_extension": ".py",
   "mimetype": "text/x-python",
   "name": "python",
   "nbconvert_exporter": "python",
   "pygments_lexer": "ipython2",
   "version": "2.7.6"
  }
 },
 "nbformat": 4,
 "nbformat_minor": 0
}
