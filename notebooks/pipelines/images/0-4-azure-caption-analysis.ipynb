{
 "cells": [
  {
   "cell_type": "code",
   "execution_count": null,
   "metadata": {
    "collapsed": true
   },
   "outputs": [],
   "source": [
    "%%time\n",
    "\n",
    "import pandas\n",
    "import requests\n",
    "from PIL import Image\n",
    "from adlfs import AzureBlobFileSystem\n",
    "from tqdm import tqdm\n",
    "\n",
    "from common.captioning.azure_descriptions import AzureCaption\n",
    "from common.schemas.pyarrow_schema import tagging_schema\n",
    "from common.storage.azure_file_storage import AzureFileStorageAdapter\n",
    "\n",
    "tqdm.pandas(desc=\"Progress\")\n",
    "file_system: AzureBlobFileSystem = AzureFileStorageAdapter('data').get_file_storage()\n",
    "\n",
    "from common.functions.functions import Functions\n",
    "\n",
    "functions: Functions = Functions()\n",
    "\n",
    "caption: AzureCaption = AzureCaption(file_system)"
   ]
  },
  {
   "cell_type": "code",
   "execution_count": null,
   "metadata": {},
   "outputs": [],
   "source": [
    "# %%time\n",
    "#\n",
    "# curated_df = pandas.read_parquet('data/parquet/primary_caption.parquet', filesystem=file_system, engine='pyarrow')\n",
    "#\n",
    "# accepted = curated_df.loc[curated_df[\"accept\"] == True]\n",
    "#\n",
    "# dropped = accepted.dropna()\n",
    "# dropped.reset_index(inplace=True, drop=True)\n",
    "#\n",
    "# del accepted\n",
    "#\n",
    "# accepted = dropped.copy()\n",
    "# del dropped\n",
    "#\n",
    "# display(accepted)"
   ]
  },
  {
   "cell_type": "code",
   "execution_count": null,
   "metadata": {},
   "outputs": [],
   "source": [
    "# %%time\n",
    "#\n",
    "#\n",
    "# display(\"=== Obtaining Caption Files List ===\")\n",
    "# current_captions = file_system.ls(\"data/caption\")\n",
    "# display(f\"current caption files: {len(current_captions)}\")\n",
    "#\n",
    "# all_data = []\n",
    "# filtered_data = []\n",
    "# for caption_file in tqdm(current_captions, total=len(current_captions), desc='Reading caption files'):\n",
    "# \timage_id = caption_file.split('/')[-1].split('.')[0]\n",
    "# \ttry:\n",
    "# \t\tfile_size = file_system.size(caption_file)\n",
    "# \t\tif file_size == 0:\n",
    "# \t\t\tdisplay(f'Empty file -- removing {image_id}', clear=True)\n",
    "# \t\t\tfile_system.rm(caption_file)\n",
    "# \t\t\tcontinue\n",
    "# \t\tcaption_data = json.loads(file_system.read_text(caption_file, encoding='utf-8'))\n",
    "# \t\tcaption_data[\"id\"] = image_id\n",
    "# \t\tdense_caption_result = caption_data.get('denseCaptionsResult')\n",
    "# \t\tmetadata = caption_data.get('metadata')\n",
    "# \t\ttags_result = caption_data.get('tagsResult')\n",
    "# \t\tsmart_crop_result = caption_data.get('smartCropsResult')\n",
    "# \t\tbasic_caption = caption_data.get('captionResult')\n",
    "# \t\t_filtered_data = {\n",
    "# \t\t\t\"id\": image_id,\n",
    "# \t\t\t\"captions\": [basic_caption],\n",
    "# \t\t\t\"dense_captions\": dense_caption_result['values'],\n",
    "# \t\t\t\"meta\": [metadata],\n",
    "# \t\t\t\"tags\": tags_result['values'],\n",
    "# \t\t\t\"smart_crop\": smart_crop_result['values']\n",
    "# \t\t}\n",
    "# \t\tall_data.append(caption_data)\n",
    "# \t\tfiltered_data.append(_filtered_data)\n",
    "# \texcept Exception as e:\n",
    "# \t\tdisplay(f\" Exception {e} for {image_id}\", clear=True)\n",
    "# \t\tcontinue"
   ]
  },
  {
   "cell_type": "code",
   "execution_count": null,
   "metadata": {},
   "outputs": [],
   "source": [
    "# %%time\n",
    "#\n",
    "# all_data_from_captions = pandas.DataFrame(data=all_data)\n",
    "# filtered_data_from_captions = pandas.DataFrame(data=filtered_data)\n",
    "#\n",
    "# display(all_data_from_captions)\n",
    "# display(filtered_data_from_captions)\n",
    "#\n",
    "# all_data_from_captions.to_parquet(\"data/parquet/all_data_from_captions.parquet\", engine='pyarrow',\n",
    "# \t\t\t\t\t\t\t\t  filesystem=file_system)\n",
    "#\n",
    "# filtered_data_from_captions.to_parquet(\"data/parquet/filtered_data_from_captions.parquet\", engine='pyarrow',\n",
    "# \t\t\t\t\t\t\t\t\t   filesystem=file_system)"
   ]
  },
  {
   "cell_type": "code",
   "execution_count": 14,
   "metadata": {
    "ExecuteTime": {
     "end_time": "2023-05-27T20:41:10.143944300Z",
     "start_time": "2023-05-27T20:40:52.891211600Z"
    }
   },
   "outputs": [
    {
     "data": {
      "text/plain": "                                           captionResult   \n0      {'confidence': 0.5599533319473267, 'text': 'a ...  \\\n1      {'confidence': 0.4056971073150635, 'text': 'a ...   \n2      {'confidence': 0.6252590417861938, 'text': 'a ...   \n3      {'confidence': 0.43016329407691956, 'text': 'a...   \n4      {'confidence': 0.4159470796585083, 'text': 'a ...   \n...                                                  ...   \n18754  {'confidence': 0.5420117974281311, 'text': 'du...   \n18755  {'confidence': 0.4528125524520874, 'text': 'a ...   \n18756  {'confidence': 0.3901562988758087, 'text': 'a ...   \n18757  {'confidence': 0.39278653264045715, 'text': 'a...   \n18758  {'confidence': 0.6049655079841614, 'text': 'a ...   \n\n                                           objectsResult   \n0      {'values': [{'boundingBox': {'h': 825, 'w': 14...  \\\n1                                         {'values': []}   \n2      {'values': [{'boundingBox': {'h': 2233, 'w': 2...   \n3      {'values': [{'boundingBox': {'h': 228, 'w': 56...   \n4      {'values': [{'boundingBox': {'h': 1761, 'w': 7...   \n...                                                  ...   \n18754                                     {'values': []}   \n18755                                     {'values': []}   \n18756  {'values': [{'boundingBox': {'h': 595, 'w': 31...   \n18757                                     {'values': []}   \n18758  {'values': [{'boundingBox': {'h': 352, 'w': 53...   \n\n                                              readResult   \n0      {'content': 'pepsi\nLite\n000\nAT&T STADIUM', 'mo...  \\\n1      {'content': '', 'modelVersion': '2022-04-30', ...   \n2      {'content': '', 'modelVersion': '2022-04-30', ...   \n3      {'content': '@ Adam Woodworth', 'modelVersion'...   \n4      {'content': '', 'modelVersion': '2022-04-30', ...   \n...                                                  ...   \n18754  {'content': '', 'modelVersion': '2022-04-30', ...   \n18755  {'content': '', 'modelVersion': '2022-04-30', ...   \n18756  {'content': '', 'modelVersion': '2022-04-30', ...   \n18757  {'content': '', 'modelVersion': '2022-04-30', ...   \n18758  {'content': '', 'modelVersion': '2022-04-30', ...   \n\n                                     denseCaptionsResult        modelVersion   \n0      {'values': [{'boundingBox': {'h': 311, 'w': 11...  2023-02-01-preview  \\\n1      {'values': [{'boundingBox': {'h': 1768, 'w': 1...  2023-02-01-preview   \n2      {'values': [{'boundingBox': {'h': 1828, 'w': 1...  2023-02-01-preview   \n3      {'values': [{'boundingBox': {'h': 743, 'w': 11...  2023-02-01-preview   \n4      {'values': [{'boundingBox': {'h': 2268, 'w': 4...  2023-02-01-preview   \n...                                                  ...                 ...   \n18754  {'values': [{'boundingBox': {'h': 3024, 'w': 4...  2023-02-01-preview   \n18755  {'values': [{'boundingBox': {'h': 1500, 'w': 2...  2023-02-01-preview   \n18756  {'values': [{'boundingBox': {'h': 346, 'w': 23...  2023-02-01-preview   \n18757  {'values': [{'boundingBox': {'h': 111, 'w': 10...  2023-02-01-preview   \n18758  {'values': [{'boundingBox': {'h': 119, 'w': 20...  2023-02-01-preview   \n\n                              metadata   \n0      {'height': 5068, 'width': 7407}  \\\n1      {'height': 1800, 'width': 1440}   \n2      {'height': 4032, 'width': 3024}   \n3       {'height': 743, 'width': 1110}   \n4      {'height': 2268, 'width': 4032}   \n...                                ...   \n18754  {'height': 3024, 'width': 4032}   \n18755  {'height': 1500, 'width': 2000}   \n18756  {'height': 1080, 'width': 1080}   \n18757  {'height': 1960, 'width': 4032}   \n18758  {'height': 2369, 'width': 2369}   \n\n                                              tagsResult   \n0      {'values': [{'confidence': 0.9876041412353516,...  \\\n1      {'values': [{'confidence': 0.9922141432762146,...   \n2      {'values': [{'confidence': 0.9986068606376648,...   \n3      {'values': [{'confidence': 0.9853595495223999,...   \n4      {'values': [{'confidence': 0.9979767203330994,...   \n...                                                  ...   \n18754  {'values': [{'confidence': 0.9992080926895142,...   \n18755  {'values': [{'confidence': 0.9995888471603394,...   \n18756  {'values': [{'confidence': 0.9758070707321167,...   \n18757  {'values': [{'confidence': 0.9951552152633667,...   \n18758  {'values': [{'confidence': 0.9984121918678284,...   \n\n                                        smartCropsResult   \n0      {'values': [{'aspectRatio': 1.0, 'boundingBox'...  \\\n1      {'values': [{'aspectRatio': 1.0, 'boundingBox'...   \n2      {'values': [{'aspectRatio': 1.0, 'boundingBox'...   \n3      {'values': [{'aspectRatio': 1.0, 'boundingBox'...   \n4      {'values': [{'aspectRatio': 1.0, 'boundingBox'...   \n...                                                  ...   \n18754  {'values': [{'aspectRatio': 1.0, 'boundingBox'...   \n18755  {'values': [{'aspectRatio': 1.0, 'boundingBox'...   \n18756  {'values': [{'aspectRatio': 1.0, 'boundingBox'...   \n18757  {'values': [{'aspectRatio': 1.0, 'boundingBox'...   \n18758  {'values': [{'aspectRatio': 1.0, 'boundingBox'...   \n\n                                            peopleResult       id  \n0      {'values': [{'boundingBox': {'h': 283, 'w': 12...  10006iy  \n1                                         {'values': []}  1000cng  \n2      {'values': [{'boundingBox': {'h': 1824, 'w': 1...  1000hda  \n3      {'values': [{'boundingBox': {'h': 37, 'w': 14,...  1000qpd  \n4      {'values': [{'boundingBox': {'h': 1898, 'w': 8...  1000xd6  \n...                                                  ...      ...  \n18754  {'values': [{'boundingBox': {'h': 76, 'w': 35,...   zzzmli  \n18755                                     {'values': []}   zzzoel  \n18756  {'values': [{'boundingBox': {'h': 17, 'w': 9, ...   zzztxl  \n18757  {'values': [{'boundingBox': {'h': 47, 'w': 31,...   zzzwub  \n18758  {'values': [{'boundingBox': {'h': 215, 'w': 87...   zzzyty  \n\n[18759 rows x 10 columns]",
      "text/html": "<div>\n<style scoped>\n    .dataframe tbody tr th:only-of-type {\n        vertical-align: middle;\n    }\n\n    .dataframe tbody tr th {\n        vertical-align: top;\n    }\n\n    .dataframe thead th {\n        text-align: right;\n    }\n</style>\n<table border=\"1\" class=\"dataframe\">\n  <thead>\n    <tr style=\"text-align: right;\">\n      <th></th>\n      <th>captionResult</th>\n      <th>objectsResult</th>\n      <th>readResult</th>\n      <th>denseCaptionsResult</th>\n      <th>modelVersion</th>\n      <th>metadata</th>\n      <th>tagsResult</th>\n      <th>smartCropsResult</th>\n      <th>peopleResult</th>\n      <th>id</th>\n    </tr>\n  </thead>\n  <tbody>\n    <tr>\n      <th>0</th>\n      <td>{'confidence': 0.5599533319473267, 'text': 'a ...</td>\n      <td>{'values': [{'boundingBox': {'h': 825, 'w': 14...</td>\n      <td>{'content': 'pepsi\nLite\n000\nAT&amp;T STADIUM', 'mo...</td>\n      <td>{'values': [{'boundingBox': {'h': 311, 'w': 11...</td>\n      <td>2023-02-01-preview</td>\n      <td>{'height': 5068, 'width': 7407}</td>\n      <td>{'values': [{'confidence': 0.9876041412353516,...</td>\n      <td>{'values': [{'aspectRatio': 1.0, 'boundingBox'...</td>\n      <td>{'values': [{'boundingBox': {'h': 283, 'w': 12...</td>\n      <td>10006iy</td>\n    </tr>\n    <tr>\n      <th>1</th>\n      <td>{'confidence': 0.4056971073150635, 'text': 'a ...</td>\n      <td>{'values': []}</td>\n      <td>{'content': '', 'modelVersion': '2022-04-30', ...</td>\n      <td>{'values': [{'boundingBox': {'h': 1768, 'w': 1...</td>\n      <td>2023-02-01-preview</td>\n      <td>{'height': 1800, 'width': 1440}</td>\n      <td>{'values': [{'confidence': 0.9922141432762146,...</td>\n      <td>{'values': [{'aspectRatio': 1.0, 'boundingBox'...</td>\n      <td>{'values': []}</td>\n      <td>1000cng</td>\n    </tr>\n    <tr>\n      <th>2</th>\n      <td>{'confidence': 0.6252590417861938, 'text': 'a ...</td>\n      <td>{'values': [{'boundingBox': {'h': 2233, 'w': 2...</td>\n      <td>{'content': '', 'modelVersion': '2022-04-30', ...</td>\n      <td>{'values': [{'boundingBox': {'h': 1828, 'w': 1...</td>\n      <td>2023-02-01-preview</td>\n      <td>{'height': 4032, 'width': 3024}</td>\n      <td>{'values': [{'confidence': 0.9986068606376648,...</td>\n      <td>{'values': [{'aspectRatio': 1.0, 'boundingBox'...</td>\n      <td>{'values': [{'boundingBox': {'h': 1824, 'w': 1...</td>\n      <td>1000hda</td>\n    </tr>\n    <tr>\n      <th>3</th>\n      <td>{'confidence': 0.43016329407691956, 'text': 'a...</td>\n      <td>{'values': [{'boundingBox': {'h': 228, 'w': 56...</td>\n      <td>{'content': '@ Adam Woodworth', 'modelVersion'...</td>\n      <td>{'values': [{'boundingBox': {'h': 743, 'w': 11...</td>\n      <td>2023-02-01-preview</td>\n      <td>{'height': 743, 'width': 1110}</td>\n      <td>{'values': [{'confidence': 0.9853595495223999,...</td>\n      <td>{'values': [{'aspectRatio': 1.0, 'boundingBox'...</td>\n      <td>{'values': [{'boundingBox': {'h': 37, 'w': 14,...</td>\n      <td>1000qpd</td>\n    </tr>\n    <tr>\n      <th>4</th>\n      <td>{'confidence': 0.4159470796585083, 'text': 'a ...</td>\n      <td>{'values': [{'boundingBox': {'h': 1761, 'w': 7...</td>\n      <td>{'content': '', 'modelVersion': '2022-04-30', ...</td>\n      <td>{'values': [{'boundingBox': {'h': 2268, 'w': 4...</td>\n      <td>2023-02-01-preview</td>\n      <td>{'height': 2268, 'width': 4032}</td>\n      <td>{'values': [{'confidence': 0.9979767203330994,...</td>\n      <td>{'values': [{'aspectRatio': 1.0, 'boundingBox'...</td>\n      <td>{'values': [{'boundingBox': {'h': 1898, 'w': 8...</td>\n      <td>1000xd6</td>\n    </tr>\n    <tr>\n      <th>...</th>\n      <td>...</td>\n      <td>...</td>\n      <td>...</td>\n      <td>...</td>\n      <td>...</td>\n      <td>...</td>\n      <td>...</td>\n      <td>...</td>\n      <td>...</td>\n      <td>...</td>\n    </tr>\n    <tr>\n      <th>18754</th>\n      <td>{'confidence': 0.5420117974281311, 'text': 'du...</td>\n      <td>{'values': []}</td>\n      <td>{'content': '', 'modelVersion': '2022-04-30', ...</td>\n      <td>{'values': [{'boundingBox': {'h': 3024, 'w': 4...</td>\n      <td>2023-02-01-preview</td>\n      <td>{'height': 3024, 'width': 4032}</td>\n      <td>{'values': [{'confidence': 0.9992080926895142,...</td>\n      <td>{'values': [{'aspectRatio': 1.0, 'boundingBox'...</td>\n      <td>{'values': [{'boundingBox': {'h': 76, 'w': 35,...</td>\n      <td>zzzmli</td>\n    </tr>\n    <tr>\n      <th>18755</th>\n      <td>{'confidence': 0.4528125524520874, 'text': 'a ...</td>\n      <td>{'values': []}</td>\n      <td>{'content': '', 'modelVersion': '2022-04-30', ...</td>\n      <td>{'values': [{'boundingBox': {'h': 1500, 'w': 2...</td>\n      <td>2023-02-01-preview</td>\n      <td>{'height': 1500, 'width': 2000}</td>\n      <td>{'values': [{'confidence': 0.9995888471603394,...</td>\n      <td>{'values': [{'aspectRatio': 1.0, 'boundingBox'...</td>\n      <td>{'values': []}</td>\n      <td>zzzoel</td>\n    </tr>\n    <tr>\n      <th>18756</th>\n      <td>{'confidence': 0.3901562988758087, 'text': 'a ...</td>\n      <td>{'values': [{'boundingBox': {'h': 595, 'w': 31...</td>\n      <td>{'content': '', 'modelVersion': '2022-04-30', ...</td>\n      <td>{'values': [{'boundingBox': {'h': 346, 'w': 23...</td>\n      <td>2023-02-01-preview</td>\n      <td>{'height': 1080, 'width': 1080}</td>\n      <td>{'values': [{'confidence': 0.9758070707321167,...</td>\n      <td>{'values': [{'aspectRatio': 1.0, 'boundingBox'...</td>\n      <td>{'values': [{'boundingBox': {'h': 17, 'w': 9, ...</td>\n      <td>zzztxl</td>\n    </tr>\n    <tr>\n      <th>18757</th>\n      <td>{'confidence': 0.39278653264045715, 'text': 'a...</td>\n      <td>{'values': []}</td>\n      <td>{'content': '', 'modelVersion': '2022-04-30', ...</td>\n      <td>{'values': [{'boundingBox': {'h': 111, 'w': 10...</td>\n      <td>2023-02-01-preview</td>\n      <td>{'height': 1960, 'width': 4032}</td>\n      <td>{'values': [{'confidence': 0.9951552152633667,...</td>\n      <td>{'values': [{'aspectRatio': 1.0, 'boundingBox'...</td>\n      <td>{'values': [{'boundingBox': {'h': 47, 'w': 31,...</td>\n      <td>zzzwub</td>\n    </tr>\n    <tr>\n      <th>18758</th>\n      <td>{'confidence': 0.6049655079841614, 'text': 'a ...</td>\n      <td>{'values': [{'boundingBox': {'h': 352, 'w': 53...</td>\n      <td>{'content': '', 'modelVersion': '2022-04-30', ...</td>\n      <td>{'values': [{'boundingBox': {'h': 119, 'w': 20...</td>\n      <td>2023-02-01-preview</td>\n      <td>{'height': 2369, 'width': 2369}</td>\n      <td>{'values': [{'confidence': 0.9984121918678284,...</td>\n      <td>{'values': [{'aspectRatio': 1.0, 'boundingBox'...</td>\n      <td>{'values': [{'boundingBox': {'h': 215, 'w': 87...</td>\n      <td>zzzyty</td>\n    </tr>\n  </tbody>\n</table>\n<p>18759 rows × 10 columns</p>\n</div>"
     },
     "metadata": {},
     "output_type": "display_data"
    },
    {
     "data": {
      "text/plain": "            id                                           captions   \n0      10006iy  [{'confidence': 0.5599533319473267, 'text': 'a...  \\\n1      1000cng  [{'confidence': 0.4056971073150635, 'text': 'a...   \n2      1000hda  [{'confidence': 0.6252590417861938, 'text': 'a...   \n3      1000qpd  [{'confidence': 0.43016329407691956, 'text': '...   \n4      1000xd6  [{'confidence': 0.4159470796585083, 'text': 'a...   \n...        ...                                                ...   \n18754   zzzmli  [{'confidence': 0.5420117974281311, 'text': 'd...   \n18755   zzzoel  [{'confidence': 0.4528125524520874, 'text': 'a...   \n18756   zzztxl  [{'confidence': 0.3901562988758087, 'text': 'a...   \n18757   zzzwub  [{'confidence': 0.39278653264045715, 'text': '...   \n18758   zzzyty  [{'confidence': 0.6049655079841614, 'text': 'a...   \n\n                                          dense_captions   \n0      [{'boundingBox': {'h': 311, 'w': 1196, 'x': 12...  \\\n1      [{'boundingBox': {'h': 1768, 'w': 1209, 'x': 1...   \n2      [{'boundingBox': {'h': 1828, 'w': 1186, 'x': 1...   \n3      [{'boundingBox': {'h': 743, 'w': 1110, 'x': 0,...   \n4      [{'boundingBox': {'h': 2268, 'w': 4032, 'x': 0...   \n...                                                  ...   \n18754  [{'boundingBox': {'h': 3024, 'w': 4032, 'x': 0...   \n18755  [{'boundingBox': {'h': 1500, 'w': 2000, 'x': 0...   \n18756  [{'boundingBox': {'h': 346, 'w': 236, 'x': 395...   \n18757  [{'boundingBox': {'h': 111, 'w': 105, 'x': 242...   \n18758  [{'boundingBox': {'h': 119, 'w': 208, 'x': 731...   \n\n                                    meta   \n0      [{'height': 5068, 'width': 7407}]  \\\n1      [{'height': 1800, 'width': 1440}]   \n2      [{'height': 4032, 'width': 3024}]   \n3       [{'height': 743, 'width': 1110}]   \n4      [{'height': 2268, 'width': 4032}]   \n...                                  ...   \n18754  [{'height': 3024, 'width': 4032}]   \n18755  [{'height': 1500, 'width': 2000}]   \n18756  [{'height': 1080, 'width': 1080}]   \n18757  [{'height': 1960, 'width': 4032}]   \n18758  [{'height': 2369, 'width': 2369}]   \n\n                                                    tags   \n0      [{'confidence': 0.9876041412353516, 'name': 'g...  \\\n1      [{'confidence': 0.9922141432762146, 'name': 'b...   \n2      [{'confidence': 0.9986068606376648, 'name': 'f...   \n3      [{'confidence': 0.9853595495223999, 'name': 's...   \n4      [{'confidence': 0.9979767203330994, 'name': 'o...   \n...                                                  ...   \n18754  [{'confidence': 0.9992080926895142, 'name': 'o...   \n18755  [{'confidence': 0.9995888471603394, 'name': 'o...   \n18756  [{'confidence': 0.9758070707321167, 'name': 'f...   \n18757  [{'confidence': 0.9951552152633667, 'name': 'c...   \n18758  [{'confidence': 0.9984121918678284, 'name': 'b...   \n\n                                              smart_crop  \n0      [{'aspectRatio': 1.0, 'boundingBox': {'h': 458...  \n1      [{'aspectRatio': 1.0, 'boundingBox': {'h': 136...  \n2      [{'aspectRatio': 1.0, 'boundingBox': {'h': 280...  \n3      [{'aspectRatio': 1.0, 'boundingBox': {'h': 740...  \n4      [{'aspectRatio': 1.0, 'boundingBox': {'h': 225...  \n...                                                  ...  \n18754  [{'aspectRatio': 1.0, 'boundingBox': {'h': 287...  \n18755  [{'aspectRatio': 1.0, 'boundingBox': {'h': 139...  \n18756  [{'aspectRatio': 1.0, 'boundingBox': {'h': 974...  \n18757  [{'aspectRatio': 1.0, 'boundingBox': {'h': 190...  \n18758  [{'aspectRatio': 1.0, 'boundingBox': {'h': 202...  \n\n[18759 rows x 6 columns]",
      "text/html": "<div>\n<style scoped>\n    .dataframe tbody tr th:only-of-type {\n        vertical-align: middle;\n    }\n\n    .dataframe tbody tr th {\n        vertical-align: top;\n    }\n\n    .dataframe thead th {\n        text-align: right;\n    }\n</style>\n<table border=\"1\" class=\"dataframe\">\n  <thead>\n    <tr style=\"text-align: right;\">\n      <th></th>\n      <th>id</th>\n      <th>captions</th>\n      <th>dense_captions</th>\n      <th>meta</th>\n      <th>tags</th>\n      <th>smart_crop</th>\n    </tr>\n  </thead>\n  <tbody>\n    <tr>\n      <th>0</th>\n      <td>10006iy</td>\n      <td>[{'confidence': 0.5599533319473267, 'text': 'a...</td>\n      <td>[{'boundingBox': {'h': 311, 'w': 1196, 'x': 12...</td>\n      <td>[{'height': 5068, 'width': 7407}]</td>\n      <td>[{'confidence': 0.9876041412353516, 'name': 'g...</td>\n      <td>[{'aspectRatio': 1.0, 'boundingBox': {'h': 458...</td>\n    </tr>\n    <tr>\n      <th>1</th>\n      <td>1000cng</td>\n      <td>[{'confidence': 0.4056971073150635, 'text': 'a...</td>\n      <td>[{'boundingBox': {'h': 1768, 'w': 1209, 'x': 1...</td>\n      <td>[{'height': 1800, 'width': 1440}]</td>\n      <td>[{'confidence': 0.9922141432762146, 'name': 'b...</td>\n      <td>[{'aspectRatio': 1.0, 'boundingBox': {'h': 136...</td>\n    </tr>\n    <tr>\n      <th>2</th>\n      <td>1000hda</td>\n      <td>[{'confidence': 0.6252590417861938, 'text': 'a...</td>\n      <td>[{'boundingBox': {'h': 1828, 'w': 1186, 'x': 1...</td>\n      <td>[{'height': 4032, 'width': 3024}]</td>\n      <td>[{'confidence': 0.9986068606376648, 'name': 'f...</td>\n      <td>[{'aspectRatio': 1.0, 'boundingBox': {'h': 280...</td>\n    </tr>\n    <tr>\n      <th>3</th>\n      <td>1000qpd</td>\n      <td>[{'confidence': 0.43016329407691956, 'text': '...</td>\n      <td>[{'boundingBox': {'h': 743, 'w': 1110, 'x': 0,...</td>\n      <td>[{'height': 743, 'width': 1110}]</td>\n      <td>[{'confidence': 0.9853595495223999, 'name': 's...</td>\n      <td>[{'aspectRatio': 1.0, 'boundingBox': {'h': 740...</td>\n    </tr>\n    <tr>\n      <th>4</th>\n      <td>1000xd6</td>\n      <td>[{'confidence': 0.4159470796585083, 'text': 'a...</td>\n      <td>[{'boundingBox': {'h': 2268, 'w': 4032, 'x': 0...</td>\n      <td>[{'height': 2268, 'width': 4032}]</td>\n      <td>[{'confidence': 0.9979767203330994, 'name': 'o...</td>\n      <td>[{'aspectRatio': 1.0, 'boundingBox': {'h': 225...</td>\n    </tr>\n    <tr>\n      <th>...</th>\n      <td>...</td>\n      <td>...</td>\n      <td>...</td>\n      <td>...</td>\n      <td>...</td>\n      <td>...</td>\n    </tr>\n    <tr>\n      <th>18754</th>\n      <td>zzzmli</td>\n      <td>[{'confidence': 0.5420117974281311, 'text': 'd...</td>\n      <td>[{'boundingBox': {'h': 3024, 'w': 4032, 'x': 0...</td>\n      <td>[{'height': 3024, 'width': 4032}]</td>\n      <td>[{'confidence': 0.9992080926895142, 'name': 'o...</td>\n      <td>[{'aspectRatio': 1.0, 'boundingBox': {'h': 287...</td>\n    </tr>\n    <tr>\n      <th>18755</th>\n      <td>zzzoel</td>\n      <td>[{'confidence': 0.4528125524520874, 'text': 'a...</td>\n      <td>[{'boundingBox': {'h': 1500, 'w': 2000, 'x': 0...</td>\n      <td>[{'height': 1500, 'width': 2000}]</td>\n      <td>[{'confidence': 0.9995888471603394, 'name': 'o...</td>\n      <td>[{'aspectRatio': 1.0, 'boundingBox': {'h': 139...</td>\n    </tr>\n    <tr>\n      <th>18756</th>\n      <td>zzztxl</td>\n      <td>[{'confidence': 0.3901562988758087, 'text': 'a...</td>\n      <td>[{'boundingBox': {'h': 346, 'w': 236, 'x': 395...</td>\n      <td>[{'height': 1080, 'width': 1080}]</td>\n      <td>[{'confidence': 0.9758070707321167, 'name': 'f...</td>\n      <td>[{'aspectRatio': 1.0, 'boundingBox': {'h': 974...</td>\n    </tr>\n    <tr>\n      <th>18757</th>\n      <td>zzzwub</td>\n      <td>[{'confidence': 0.39278653264045715, 'text': '...</td>\n      <td>[{'boundingBox': {'h': 111, 'w': 105, 'x': 242...</td>\n      <td>[{'height': 1960, 'width': 4032}]</td>\n      <td>[{'confidence': 0.9951552152633667, 'name': 'c...</td>\n      <td>[{'aspectRatio': 1.0, 'boundingBox': {'h': 190...</td>\n    </tr>\n    <tr>\n      <th>18758</th>\n      <td>zzzyty</td>\n      <td>[{'confidence': 0.6049655079841614, 'text': 'a...</td>\n      <td>[{'boundingBox': {'h': 119, 'w': 208, 'x': 731...</td>\n      <td>[{'height': 2369, 'width': 2369}]</td>\n      <td>[{'confidence': 0.9984121918678284, 'name': 'b...</td>\n      <td>[{'aspectRatio': 1.0, 'boundingBox': {'h': 202...</td>\n    </tr>\n  </tbody>\n</table>\n<p>18759 rows × 6 columns</p>\n</div>"
     },
     "metadata": {},
     "output_type": "display_data"
    }
   ],
   "source": [
    "all_data_from_captions = pandas.read_parquet(\"data/parquet/all_data_from_captions.parquet\", engine='pyarrow', filesystem=file_system)\n",
    "display(all_data_from_captions)\n",
    "filtered_data_from_captions = pandas.read_parquet(\"data/parquet/filtered_data_from_captions.parquet\", engine='pyarrow', filesystem=file_system)\n",
    "display(filtered_data_from_captions)"
   ]
  },
  {
   "cell_type": "code",
   "execution_count": 38,
   "outputs": [
    {
     "name": "stderr",
     "output_type": "stream",
     "text": [
      "  0%|          | 0/18759 [00:00<?, ?it/s]"
     ]
    },
    {
     "data": {
      "text/plain": "{'values': array([{'boundingBox': {'h': 283, 'w': 124, 'x': 5113, 'y': 2973}, 'confidence': 0.03264890983700752},\n        {'boundingBox': {'h': 720, 'w': 67, 'x': 7328, 'y': 2542}, 'confidence': 0.004389608278870583},\n        {'boundingBox': {'h': 190, 'w': 113, 'x': 620, 'y': 3048}, 'confidence': 0.003337057074531913},\n        {'boundingBox': {'h': 3332, 'w': 484, 'x': 0, 'y': 1723}, 'confidence': 0.0014284325297921896},\n        {'boundingBox': {'h': 191, 'w': 109, 'x': 1058, 'y': 3050}, 'confidence': 0.0012394533259794116},\n        {'boundingBox': {'h': 171, 'w': 107, 'x': 1477, 'y': 3056}, 'confidence': 0.0010505301179364324}],\n       dtype=object),\n 'id': '10006iy'}"
     },
     "metadata": {},
     "output_type": "display_data"
    },
    {
     "data": {
      "text/plain": "                                              values       id\n0  [{'boundingBox': {'h': 283, 'w': 124, 'x': 511...  10006iy",
      "text/html": "<div>\n<style scoped>\n    .dataframe tbody tr th:only-of-type {\n        vertical-align: middle;\n    }\n\n    .dataframe tbody tr th {\n        vertical-align: top;\n    }\n\n    .dataframe thead th {\n        text-align: right;\n    }\n</style>\n<table border=\"1\" class=\"dataframe\">\n  <thead>\n    <tr style=\"text-align: right;\">\n      <th></th>\n      <th>values</th>\n      <th>id</th>\n    </tr>\n  </thead>\n  <tbody>\n    <tr>\n      <th>0</th>\n      <td>[{'boundingBox': {'h': 283, 'w': 124, 'x': 511...</td>\n      <td>10006iy</td>\n    </tr>\n  </tbody>\n</table>\n</div>"
     },
     "metadata": {},
     "output_type": "display_data"
    },
    {
     "name": "stderr",
     "output_type": "stream",
     "text": [
      "  0%|          | 0/18759 [00:00<?, ?it/s]\n"
     ]
    },
    {
     "data": {
      "text/plain": "Empty DataFrame\nColumns: []\nIndex: []",
      "text/html": "<div>\n<style scoped>\n    .dataframe tbody tr th:only-of-type {\n        vertical-align: middle;\n    }\n\n    .dataframe tbody tr th {\n        vertical-align: top;\n    }\n\n    .dataframe thead th {\n        text-align: right;\n    }\n</style>\n<table border=\"1\" class=\"dataframe\">\n  <thead>\n    <tr style=\"text-align: right;\">\n      <th></th>\n    </tr>\n  </thead>\n  <tbody>\n  </tbody>\n</table>\n</div>"
     },
     "metadata": {},
     "output_type": "display_data"
    },
    {
     "name": "stdout",
     "output_type": "stream",
     "text": [
      "CPU times: total: 46.9 ms\n",
      "Wall time: 43 ms\n"
     ]
    }
   ],
   "source": [
    "%%time\n",
    "\n",
    "people = pandas.DataFrame({'id': all_data_from_captions.id, 'people': all_data_from_captions.peopleResult})\n",
    "out = []\n",
    "# display(people)\n",
    "for i,r in tqdm(people.iterrows(), total=len(people)):\n",
    "\tif r['people'] is None:\n",
    "\t\t\tcontinue\n",
    "\tpeople_values = pandas.json_normalize(data=r['people'])\n",
    "\tpeople_values['id'] = r['id']\n",
    "\tpv = people_values.to_dict(orient='records')\n",
    "\tfor elem in pv:\n",
    "\t\tdisplay(elem)\n",
    "\t\tbreak\n",
    "\n",
    "\tdisplay(people_values)\n",
    "\tbreak\n",
    "\tpeople['id'] = r['id']\n",
    "\td = people.to_dict(orient='records')\n",
    "\tout.extend(d)\n",
    "\n",
    "converted_people = pandas.DataFrame(data=out)\n",
    "display(converted_people)\n",
    "# \tif r['tags'] is None:\n",
    "# \t\t\tcontinue\n",
    "# \ttag = pandas.json_normalize(r['tags'])\n",
    "# \ttag['id'] = r['id']\n",
    "# \td = tag.to_dict(orient='records')\n",
    "# \tout.extend(d)\n",
    "# converted_tags = pandas.DataFrame(data=out)\n",
    "# display(converted_tags)\n",
    "# converted_tags.to_parquet(\"data/parquet/tags.parquet\", engine='pyarrow', filesystem=file_system)"
   ],
   "metadata": {
    "collapsed": false,
    "ExecuteTime": {
     "end_time": "2023-05-27T20:52:43.550058500Z",
     "start_time": "2023-05-27T20:52:43.417058900Z"
    }
   }
  },
  {
   "cell_type": "code",
   "execution_count": null,
   "outputs": [],
   "source": [
    "%%time\n",
    "\n",
    "tags = pandas.DataFrame({'id': filtered_data_from_captions.id, 'tags': filtered_data_from_captions.tags})\n",
    "out = []\n",
    "for i,r in tqdm(tags.iterrows(), total=len(tags)):\n",
    "\tif r['tags'] is None:\n",
    "\t\t\tcontinue\n",
    "\ttag = pandas.json_normalize(r['tags'])\n",
    "\ttag['id'] = r['id']\n",
    "\td = tag.to_dict(orient='records')\n",
    "\tout.extend(d)\n",
    "converted_tags = pandas.DataFrame(data=out)\n",
    "display(converted_tags)\n",
    "converted_tags.to_parquet(\"data/parquet/tags.parquet\", engine='pyarrow', filesystem=file_system)"
   ],
   "metadata": {
    "collapsed": false
   }
  },
  {
   "cell_type": "code",
   "execution_count": null,
   "outputs": [],
   "source": [
    "dense = pandas.DataFrame({'id': filtered_data_from_captions.id, 'dense_captions': filtered_data_from_captions.dense_captions})\n",
    "\n",
    "out = []\n",
    "for i,r in tqdm(dense.iterrows(), total=len(dense)):\n",
    "\tif r['dense_captions'] is None:\n",
    "\t\t\tcontinue\n",
    "\tdense_caption = pandas.json_normalize(r['dense_captions'])\n",
    "\tdense_caption['id'] = r['id']\n",
    "\td = dense_caption.to_dict(orient='records')\n",
    "\tout.extend(d)\n",
    "\n",
    "converted = pandas.DataFrame(data=out)\n",
    "display(converted)\n",
    "converted.to_parquet(\"data/parquet/dense_captions.parquet\", engine='pyarrow', filesystem=file_system)"
   ],
   "metadata": {
    "collapsed": false
   }
  },
  {
   "cell_type": "code",
   "execution_count": null,
   "metadata": {},
   "outputs": [],
   "source": [
    "# single_caption_data = pandas.DataFrame(\n",
    "# \t{\n",
    "# \t\t'id': all_data_from_captions['id'],\n",
    "# \t\t'azure_caption': [item['text'] for item in all_data_from_captions['captionResult']],\n",
    "# \t\t'tags': [[foo['name'] for foo in item['values']] for item in all_data_from_captions['tagsResult']]\n",
    "# \t})\n",
    "#\n",
    "#\n",
    "# single_caption_data_indexed = single_caption_data.set_index(\"id\")\n",
    "#\n",
    "# accepted_indexed = accepted.set_index(\"id\")\n",
    "#\n",
    "# for index, row in accepted_indexed.iterrows():\n",
    "# \taccepted_indexed.at[index, 'azure_caption'] = \"\"\n",
    "# \taccepted_indexed.at[index, 'thumbnail_path'] = \"\"\n",
    "# \taccepted_indexed.at[index, 'thumbnail_exists'] = False\n",
    "# \taccepted_indexed.at[index, 'thumbnail_curated'] = False\n",
    "# \taccepted_indexed.at[index, 'thumbnail_accept'] = False\n",
    "#\n",
    "# accepted_indexed.update(single_caption_data_indexed)\n",
    "#\n",
    "# accepted_final = accepted_indexed.reset_index()\n",
    "#\n",
    "# display(\"== Updated With Basic Captions ==\")\n",
    "# display(accepted_final)"
   ]
  },
  {
   "cell_type": "code",
   "execution_count": null,
   "metadata": {},
   "outputs": [],
   "source": [
    "# accepted_final.to_parquet(\"data/parquet/curation_2.parquet\", engine='pyarrow', filesystem=file_system, schema=tagging_schema)\n",
    "# del accepted_final"
   ]
  },
  {
   "cell_type": "code",
   "execution_count": null,
   "metadata": {},
   "outputs": [],
   "source": [
    "%%time\n",
    "\n",
    "accepted_final = pandas.read_parquet(\"data/parquet/curation_2.parquet\", engine='pyarrow', filesystem=file_system, schema=tagging_schema)\n",
    "display(accepted_final)"
   ]
  },
  {
   "cell_type": "code",
   "execution_count": null,
   "metadata": {},
   "outputs": [],
   "source": [
    "%%time\n",
    "\n",
    "def get_aspect_ratio(x: object):\n",
    "\treturn x['crops'][0]['aspectRatio']\n",
    "def get_bounding_box(x: object):\n",
    "\treturn x['crops'][0]['boundingBox']"
   ]
  },
  {
   "cell_type": "code",
   "execution_count": null,
   "metadata": {},
   "outputs": [],
   "source": [
    "cropping = pandas.DataFrame({'id': filtered_data_from_captions['id'], 'crops': filtered_data_from_captions['smart_crop']}).set_index('id', drop=False)\n",
    "\n",
    "cropping['aspectRatio'] = cropping.progress_apply(lambda x: get_aspect_ratio(x), axis=1)\n",
    "cropping['bounding_box'] = cropping.progress_apply(lambda x: get_bounding_box(x), axis=1)\n",
    "cropping['x'] = cropping.progress_apply(lambda x: x['bounding_box']['x'], axis=1)\n",
    "cropping['y'] = cropping.progress_apply(lambda x: x['bounding_box']['y'], axis=1)\n",
    "cropping['w'] = cropping.progress_apply(lambda x: x['bounding_box']['w'], axis=1)\n",
    "cropping['h'] = cropping.progress_apply(lambda x: x['bounding_box']['h'], axis=1)\n",
    "\n",
    "display(cropping)"
   ]
  },
  {
   "cell_type": "code",
   "execution_count": null,
   "metadata": {},
   "outputs": [],
   "source": [
    "def create_thumbnail(target_image_id: str, file_names: list, crops: pandas.DataFrame, curated_data: pandas.DataFrame):\n",
    "\t_file_system: AzureBlobFileSystem = AzureFileStorageAdapter('data').get_file_storage()\n",
    "\n",
    "\tout_path = f\"data/image/thumbnail/{target_image_id}.jpg\"\n",
    "\ttry:\n",
    "\t\tif target_image_id is None or out_path in file_names:\n",
    "\t\t\t# print(f'Image {target_image_id} already exists, skipping')\n",
    "\t\t\treturn out_path\n",
    "\n",
    "\t\tcropping_information = cropping.loc[crops['id'] == target_image_id]\n",
    "\t\tif cropping_information is None or len(cropping_information) == 0:\n",
    "\t\t\t# print(f'No cropping information for {target_image_id}, skipping')\n",
    "\t\t\treturn \"/data/nope\"\n",
    "\n",
    "\t\trecord = curated_data.loc[curated_data['id'] == target_image_id]\n",
    "\t\trecord_path = record.to_dict(orient='records')[0]['path']\n",
    "\t\timage_url = file_system.url(record_path)\n",
    "\t\toriginal_image = Image.open(requests.get(image_url, stream=True).raw)\n",
    "\t\tcopied_image = original_image.copy()\n",
    "\t\toriginal_image.close()\n",
    "\n",
    "\t\tcropped = copied_image.crop((cropping_information['x'].values[0],\n",
    "\t\t\t\t\t\t\t\t\t cropping_information['y'].values[0],\n",
    "\t\t\t\t\t\t\t\t\t cropping_information['x'].values[0] +\n",
    "\t\t\t\t\t\t\t\t\t cropping_information['w'].values[0],\n",
    "\t\t\t\t\t\t\t\t\t cropping_information['y'].values[0] +\n",
    "\t\t\t\t\t\t\t\t\t cropping_information['h'].values[0]))\n",
    "\t\tcopied_image.close()\n",
    "\n",
    "\t\tresized = cropped.resize((512, 512), 1)\n",
    "\t\tresized.save('temp.jpg')\n",
    "\t\tresized.close()\n",
    "\t\tfile_system.upload('temp.jpg', out_path, overwrite=True)\n",
    "\t\tprint(f'Thumbnail created for {target_image_id}')\n",
    "\t\treturn out_path\n",
    "\n",
    "\texcept Exception as ex:\n",
    "\t\tprint(f'Error creating thumbnail for {target_image_id}: {ex}')\n",
    "\t\treturn \"/data/nope\""
   ]
  },
  {
   "cell_type": "code",
   "execution_count": null,
   "metadata": {},
   "outputs": [],
   "source": [
    "file_names = file_system.ls('data/image/thumbnail')\n",
    "\n",
    "accepted_final['thumbnail_path'] = accepted_final.progress_apply(lambda x: create_thumbnail(x['id'], file_names, cropping, accepted_final), axis=1)\n",
    "\n",
    "display(accepted_final)"
   ]
  },
  {
   "cell_type": "code",
   "execution_count": null,
   "metadata": {},
   "outputs": [],
   "source": [
    "%%time\n",
    "\n",
    "accepted_final['thumbnail_exists'] = accepted_final.progress_apply(lambda x: file_system.exists(x['thumbnail_path']), axis=1)\n",
    "\n",
    "display(accepted_final)"
   ]
  },
  {
   "cell_type": "code",
   "execution_count": null,
   "outputs": [],
   "source": [
    "%%time\n",
    "\n",
    "accepted_copy = accepted_final.copy()\n",
    "\n",
    "accepted_copy['additional_captions'] = accepted_copy.progress_apply(lambda x: [], axis=1)\n",
    "\n",
    "accepted_slice = accepted_copy.loc[accepted_copy['thumbnail_exists'] == True, tagging_schema.names]\n",
    "\n",
    "accepted_slice.dropna(inplace=True)\n",
    "\n",
    "accepted_slice.reset_index(inplace=True, drop=True)\n",
    "\n",
    "display(accepted_slice)"
   ],
   "metadata": {
    "collapsed": false
   }
  },
  {
   "cell_type": "code",
   "execution_count": null,
   "outputs": [],
   "source": [
    "%%time\n",
    "\n",
    "accepted_slice.to_parquet(\"data/parquet/thumbnail_curation.parquet\", engine='pyarrow', filesystem=file_system, schema=tagging_schema)"
   ],
   "metadata": {
    "collapsed": false
   }
  },
  {
   "cell_type": "code",
   "execution_count": null,
   "outputs": [],
   "source": [
    "display(accepted_slice)"
   ],
   "metadata": {
    "collapsed": false
   }
  },
  {
   "cell_type": "code",
   "execution_count": null,
   "outputs": [],
   "source": [
    "file_system.cp('data/parquet/thumbnail_curation.parquet', 'data/parquet/thumbnail_curation.parquet.bak')"
   ],
   "metadata": {
    "collapsed": false
   }
  },
  {
   "cell_type": "code",
   "execution_count": null,
   "outputs": [],
   "source": [
    "file_system.cp('data/parquet/back.parquet', 'data/parquet/primary_caption.parquet')"
   ],
   "metadata": {
    "collapsed": false
   }
  },
  {
   "cell_type": "code",
   "execution_count": 12,
   "outputs": [
    {
     "name": "stderr",
     "output_type": "stream",
     "text": [
      "100%|██████████| 18759/18759 [01:17<00:00, 241.00it/s]\n"
     ]
    },
    {
     "data": {
      "text/plain": "        confidence              name       id\n0         0.987604             grass  10006iy\n1         0.923687           outdoor  10006iy\n2         0.915661   artificial turf  10006iy\n3         0.912514           stadium  10006iy\n4         0.880675  sports equipment  10006iy\n...            ...               ...      ...\n276855    0.903520            yellow   zzzyty\n276856    0.859668              twig   zzzyty\n276857    0.815015              leaf   zzzyty\n276858    0.783504           sitting   zzzyty\n276859    0.588859          wildlife   zzzyty\n\n[276860 rows x 3 columns]",
      "text/html": "<div>\n<style scoped>\n    .dataframe tbody tr th:only-of-type {\n        vertical-align: middle;\n    }\n\n    .dataframe tbody tr th {\n        vertical-align: top;\n    }\n\n    .dataframe thead th {\n        text-align: right;\n    }\n</style>\n<table border=\"1\" class=\"dataframe\">\n  <thead>\n    <tr style=\"text-align: right;\">\n      <th></th>\n      <th>confidence</th>\n      <th>name</th>\n      <th>id</th>\n    </tr>\n  </thead>\n  <tbody>\n    <tr>\n      <th>0</th>\n      <td>0.987604</td>\n      <td>grass</td>\n      <td>10006iy</td>\n    </tr>\n    <tr>\n      <th>1</th>\n      <td>0.923687</td>\n      <td>outdoor</td>\n      <td>10006iy</td>\n    </tr>\n    <tr>\n      <th>2</th>\n      <td>0.915661</td>\n      <td>artificial turf</td>\n      <td>10006iy</td>\n    </tr>\n    <tr>\n      <th>3</th>\n      <td>0.912514</td>\n      <td>stadium</td>\n      <td>10006iy</td>\n    </tr>\n    <tr>\n      <th>4</th>\n      <td>0.880675</td>\n      <td>sports equipment</td>\n      <td>10006iy</td>\n    </tr>\n    <tr>\n      <th>...</th>\n      <td>...</td>\n      <td>...</td>\n      <td>...</td>\n    </tr>\n    <tr>\n      <th>276855</th>\n      <td>0.903520</td>\n      <td>yellow</td>\n      <td>zzzyty</td>\n    </tr>\n    <tr>\n      <th>276856</th>\n      <td>0.859668</td>\n      <td>twig</td>\n      <td>zzzyty</td>\n    </tr>\n    <tr>\n      <th>276857</th>\n      <td>0.815015</td>\n      <td>leaf</td>\n      <td>zzzyty</td>\n    </tr>\n    <tr>\n      <th>276858</th>\n      <td>0.783504</td>\n      <td>sitting</td>\n      <td>zzzyty</td>\n    </tr>\n    <tr>\n      <th>276859</th>\n      <td>0.588859</td>\n      <td>wildlife</td>\n      <td>zzzyty</td>\n    </tr>\n  </tbody>\n</table>\n<p>276860 rows × 3 columns</p>\n</div>"
     },
     "metadata": {},
     "output_type": "display_data"
    },
    {
     "name": "stdout",
     "output_type": "stream",
     "text": [
      "CPU times: total: 1min 8s\n",
      "Wall time: 1min 19s\n"
     ]
    }
   ],
   "source": [],
   "metadata": {
    "collapsed": false,
    "ExecuteTime": {
     "end_time": "2023-05-27T20:24:19.888697200Z",
     "start_time": "2023-05-27T20:23:00.516435800Z"
    }
   }
  },
  {
   "cell_type": "code",
   "execution_count": 13,
   "outputs": [],
   "source": [],
   "metadata": {
    "collapsed": false,
    "ExecuteTime": {
     "end_time": "2023-05-27T20:24:38.880538Z",
     "start_time": "2023-05-27T20:24:35.608486500Z"
    }
   }
  },
  {
   "cell_type": "code",
   "execution_count": null,
   "outputs": [],
   "source": [],
   "metadata": {
    "collapsed": false
   }
  },
  {
   "cell_type": "code",
   "execution_count": null,
   "outputs": [],
   "source": [
    "foos: list[dict] = converted.loc[converted['id'] == '10006iy', ['text', 'confidence']].to_dict(orient='records')\n",
    "display(foos)"
   ],
   "metadata": {
    "collapsed": false
   }
  },
  {
   "cell_type": "code",
   "execution_count": null,
   "outputs": [],
   "source": [],
   "metadata": {
    "collapsed": false
   }
  }
 ],
 "metadata": {
  "kernelspec": {
   "display_name": "Python 3 (ipykernel)",
   "language": "python",
   "name": "python3"
  },
  "language_info": {
   "codemirror_mode": {
    "name": "ipython",
    "version": 3
   },
   "file_extension": ".py",
   "mimetype": "text/x-python",
   "name": "python",
   "nbconvert_exporter": "python",
   "pygments_lexer": "ipython3",
   "version": "3.9.6"
  }
 },
 "nbformat": 4,
 "nbformat_minor": 1
}
