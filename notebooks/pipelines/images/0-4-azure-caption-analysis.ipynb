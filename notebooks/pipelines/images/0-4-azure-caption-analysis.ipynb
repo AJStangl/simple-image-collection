{
 "cells": [
  {
   "cell_type": "code",
   "execution_count": null,
   "metadata": {
    "collapsed": true
   },
   "outputs": [],
   "source": [
    "%%time\n",
    "\n",
    "import json\n",
    "\n",
    "import pandas\n",
    "import requests\n",
    "from PIL import Image\n",
    "from adlfs import AzureBlobFileSystem\n",
    "from tqdm import tqdm\n",
    "\n",
    "from common.captioning.azure_descriptions import AzureCaption\n",
    "from common.storage.azure_file_storage import AzureFileStorageAdapter\n",
    "from common.schemas.pyarrow_schema import tagging_schema\n",
    "\n",
    "tqdm.pandas(desc=\"Progress\")\n",
    "file_system: AzureBlobFileSystem = AzureFileStorageAdapter('data').get_file_storage()\n",
    "\n",
    "from common.functions.functions import Functions\n",
    "\n",
    "functions: Functions = Functions()\n",
    "\n",
    "caption: AzureCaption = AzureCaption(file_system)"
   ]
  },
  {
   "cell_type": "code",
   "execution_count": null,
   "outputs": [],
   "source": [
    "%%time\n",
    "\n",
    "curated_df = pandas.read_parquet('data/parquet/back.parquet', filesystem=file_system, engine='pyarrow')\n",
    "\n",
    "accepted = curated_df.loc[curated_df[\"accept\"] == True]\n",
    "\n",
    "dropped = accepted.dropna()\n",
    "dropped.reset_index(inplace=True, drop=True)\n",
    "\n",
    "del accepted\n",
    "\n",
    "accepted = dropped.copy()\n",
    "del dropped\n",
    "\n",
    "display(accepted)"
   ],
   "metadata": {
    "collapsed": false
   }
  },
  {
   "cell_type": "code",
   "execution_count": null,
   "outputs": [],
   "source": [
    "%%time\n",
    "\n",
    "\n",
    "display(\"=== Obtaining Caption Files List ===\")\n",
    "current_captions = file_system.ls(\"data/caption\")\n",
    "display(f\"current caption files: {len(current_captions)}\")\n",
    "\n",
    "all_data = []\n",
    "filtered_data = []\n",
    "for caption_file in tqdm(current_captions, total=len(current_captions), desc='Reading caption files'):\n",
    "\timage_id = caption_file.split('/')[-1].split('.')[0]\n",
    "\ttry:\n",
    "\t\tfile_size = file_system.size(caption_file)\n",
    "\t\tif file_size == 0:\n",
    "\t\t\tdisplay(f'Empty file -- removing {image_id}', clear=True)\n",
    "\t\t\tfile_system.rm(caption_file)\n",
    "\t\t\tcontinue\n",
    "\t\tcaption_data = json.loads(file_system.read_text(caption_file, encoding='utf-8'))\n",
    "\t\tcaption_data[\"id\"] = image_id\n",
    "\t\tdense_caption_result = caption_data.get('denseCaptionsResult')\n",
    "\t\tmetadata = caption_data.get('metadata')\n",
    "\t\ttags_result = caption_data.get('tagsResult')\n",
    "\t\tsmart_crop_result = caption_data.get('smartCropsResult')\n",
    "\t\tbasic_caption = caption_data.get('captionResult')\n",
    "\t\t_filtered_data = {\n",
    "\t\t\t\"id\": image_id,\n",
    "\t\t\t\"captions\": [basic_caption],\n",
    "\t\t\t\"dense_captions\": dense_caption_result['values'],\n",
    "\t\t\t\"meta\": [metadata],\n",
    "\t\t\t\"tags\": tags_result['values'],\n",
    "\t\t\t\"smart_crop\": smart_crop_result['values']\n",
    "\t\t}\n",
    "\t\tall_data.append(caption_data)\n",
    "\t\tfiltered_data.append(_filtered_data)\n",
    "\texcept Exception as e:\n",
    "\t\tdisplay(f\" Exception {e} for {image_id}\", clear=True)\n",
    "\t\tcontinue"
   ],
   "metadata": {
    "collapsed": false
   }
  },
  {
   "cell_type": "code",
   "execution_count": null,
   "outputs": [],
   "source": [
    "%%time\n",
    "\n",
    "all_data_from_captions = pandas.DataFrame(data=all_data)\n",
    "filtered_data_from_captions = pandas.DataFrame(data=filtered_data)\n",
    "\n",
    "display(all_data_from_captions)\n",
    "display(filtered_data_from_captions)\n",
    "\n",
    "all_data_from_captions.to_parquet(\"data/parquet/all_data_from_captions.parquet\", engine='pyarrow',\n",
    "\t\t\t\t\t\t\t\t  filesystem=file_system)\n",
    "\n",
    "filtered_data_from_captions.to_parquet(\"data/parquet/filtered_data_from_captions.parquet\", engine='pyarrow',\n",
    "\t\t\t\t\t\t\t\t\t   filesystem=file_system)"
   ],
   "metadata": {
    "collapsed": false
   }
  },
  {
   "cell_type": "code",
   "execution_count": null,
   "outputs": [],
   "source": [
    "single_caption_data = pandas.DataFrame(\n",
    "\t{\n",
    "\t\t'id': all_data_from_captions['id'],\n",
    "\t\t'azure_caption': [item['text'] for item in all_data_from_captions['captionResult']],\n",
    "\t\t'tags': [[foo['name'] for foo in item['values']] for item in all_data_from_captions['tagsResult']]\n",
    "\t})\n",
    "\n",
    "\n",
    "single_caption_data_indexed = single_caption_data.set_index(\"id\")\n",
    "\n",
    "accepted_indexed = accepted.set_index(\"id\")\n",
    "\n",
    "for index, row in accepted_indexed.iterrows():\n",
    "\taccepted_indexed.at[index, 'azure_caption'] = \"\"\n",
    "\taccepted_indexed.at[index, 'thumbnail_path'] = \"\"\n",
    "\taccepted_indexed.at[index, 'thumbnail_exists'] = False\n",
    "\taccepted_indexed.at[index, 'thumbnail_curated'] = False\n",
    "\taccepted_indexed.at[index, 'thumbnail_accept'] = False\n",
    "\n",
    "accepted_indexed.update(single_caption_data_indexed)\n",
    "\n",
    "accepted_final = accepted_indexed.reset_index()\n",
    "\n",
    "display(\"== Updated With Basic Captions ==\")\n",
    "display(accepted_final)"
   ],
   "metadata": {
    "collapsed": false
   }
  },
  {
   "cell_type": "code",
   "execution_count": null,
   "outputs": [],
   "source": [
    "accepted_final.to_parquet(\"data/parquet/curation_2.parquet\", engine='pyarrow', filesystem=file_system, schema=tagging_schema)\n",
    "del accepted_final\n",
    "accepted_final = pandas.read_parquet(\"data/parquet/curation_2.parquet\", engine='pyarrow', filesystem=file_system, schema=tagging_schema)\n",
    "display(accepted_final)"
   ],
   "metadata": {
    "collapsed": false
   }
  },
  {
   "cell_type": "code",
   "execution_count": null,
   "outputs": [],
   "source": [
    "# TODO Get dataframe for crops"
   ],
   "metadata": {
    "collapsed": false
   }
  },
  {
   "cell_type": "code",
   "execution_count": null,
   "outputs": [],
   "source": [
    "import os\n",
    "\n",
    "def create_thumbnail(_image_id: str, _curated_df: pandas.DataFrame, _crops: pandas.DataFrame, _extant_file_names: list):\n",
    "\t_file_system: AzureBlobFileSystem = AzureFileStorageAdapter('data').get_file_storage()\n",
    "\tout_path = f\"data/image/thumbnail/{_image_id}.jpg\"\n",
    "\ttry:\n",
    "\t\tif _image_id is None or _image_id in _extant_file_names:\n",
    "\t\t\tdisplay(f'Image {_image_id} already exists, skipping', clear=True)\n",
    "\t\t\treturn out_path\n",
    "\n",
    "\t\tcropping_information = _crops.loc[_crops['id'] == _image_id]\n",
    "\t\tif cropping_information is None or len(cropping_information) == 0:\n",
    "\t\t\tdisplay(f'No cropping information for {_image_id}, skipping', clear=True)\n",
    "\t\t\treturn \"\"\n",
    "\n",
    "\t\trecord = _curated_df.loc[_curated_df['id'] == _image_id]\n",
    "\t\trecord_path = record.to_dict(orient='records')[0]['path']\n",
    "\t\timage_url = file_system.url(record_path)\n",
    "\t\toriginal_image = Image.open(requests.get(image_url, stream=True).raw)\n",
    "\t\tcopied_image = original_image.copy()\n",
    "\t\toriginal_image.close()\n",
    "\n",
    "\t\tcropped = copied_image.crop((cropping_information['smart_crop_boundingBox.x'].values[0],\n",
    "\t\t\t\t\t\t\t\t\t cropping_information['smart_crop_boundingBox.y'].values[0],\n",
    "\t\t\t\t\t\t\t\t\t cropping_information['smart_crop_boundingBox.x'].values[0] +\n",
    "\t\t\t\t\t\t\t\t\t cropping_information['smart_crop_boundingBox.w'].values[0],\n",
    "\t\t\t\t\t\t\t\t\t cropping_information['smart_crop_boundingBox.y'].values[0] +\n",
    "\t\t\t\t\t\t\t\t\t cropping_information['smart_crop_boundingBox.h'].values[0]))\n",
    "\t\tcopied_image.close()\n",
    "\n",
    "\t\tresized = cropped.resize((512, 512), 1)\n",
    "\t\tresized.save('temp.jpg')\n",
    "\t\tresized.close()\n",
    "\t\tfile_system.upload('temp.jpg', out_path, overwrite=True)\n",
    "\t\tdisplay(f'Thumbnail created for {_image_id}', clear=True)\n",
    "\t\treturn out_path\n",
    "\n",
    "\texcept Exception as ex:\n",
    "\t\tdisplay(f'Error creating thumbnail for {_image_id}: {ex}', clear=True)\n",
    "\t\treturn \"\""
   ],
   "metadata": {
    "collapsed": false
   }
  },
  {
   "cell_type": "code",
   "execution_count": null,
   "outputs": [],
   "source": [
    "records = d.to_dict(orient='records')\n",
    "\n",
    "for elem in tqdm(records, len(records)):\n",
    "\tcreate_thumbnail(elem['id'], d, )"
   ],
   "metadata": {
    "collapsed": false
   }
  },
  {
   "cell_type": "code",
   "execution_count": null,
   "outputs": [],
   "source": [
    "!jupyter notebook stop"
   ],
   "metadata": {
    "collapsed": false
   }
  }
 ],
 "metadata": {
  "kernelspec": {
   "display_name": "Python 3",
   "language": "python",
   "name": "python3"
  },
  "language_info": {
   "codemirror_mode": {
    "name": "ipython",
    "version": 2
   },
   "file_extension": ".py",
   "mimetype": "text/x-python",
   "name": "python",
   "nbconvert_exporter": "python",
   "pygments_lexer": "ipython2",
   "version": "2.7.6"
  }
 },
 "nbformat": 4,
 "nbformat_minor": 0
}
