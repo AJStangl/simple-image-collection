{
 "cells": [
  {
   "cell_type": "code",
   "execution_count": 1,
   "metadata": {
    "collapsed": true,
    "ExecuteTime": {
     "end_time": "2023-05-26T10:37:08.798922700Z",
     "start_time": "2023-05-26T10:36:52.564410Z"
    }
   },
   "outputs": [
    {
     "name": "stdout",
     "output_type": "stream",
     "text": [
      "CPU times: total: 8.7 s\n",
      "Wall time: 16.1 s\n"
     ]
    }
   ],
   "source": [
    "%%time\n",
    "\n",
    "import json\n",
    "\n",
    "import pandas\n",
    "import requests\n",
    "from PIL import Image\n",
    "from adlfs import AzureBlobFileSystem\n",
    "from tqdm import tqdm\n",
    "\n",
    "from common.captioning.azure_descriptions import AzureCaption\n",
    "from common.storage.azure_file_storage import AzureFileStorageAdapter\n",
    "from common.schemas.pyarrow_schema import tagging_schema\n",
    "\n",
    "tqdm.pandas(desc=\"Progress\")\n",
    "file_system: AzureBlobFileSystem = AzureFileStorageAdapter('data').get_file_storage()\n",
    "\n",
    "from common.functions.functions import Functions\n",
    "\n",
    "functions: Functions = Functions()\n",
    "\n",
    "caption: AzureCaption = AzureCaption(file_system)"
   ]
  },
  {
   "cell_type": "code",
   "execution_count": 2,
   "outputs": [
    {
     "data": {
      "text/plain": "            id         subreddit           author   \n0      1013bdt          AmIhotAF      RaulDea9286  \\\n1      105mekt          AmIhotAF         lindaniz   \n2      105qvgl          AmIhotAF      CaitVLove11   \n3      105rpcj          AmIhotAF  Flashy-Desk1858   \n4      105styc          AmIhotAF     Gizzygirl127   \n...        ...               ...              ...   \n20146  13nw4ss   gentlemanboners       Kvikkleire   \n20147  13nwtx1   gentlemanboners    kape_pandesal   \n20148  13nqkt6              DLAH     gonefishin37   \n20149  13nvy9c              DLAH   Thin_Data_2134   \n20150  13nt4ei  bathandbodyworks      LadyMisfits   \n\n                                                title   \n0                                       36F - ITALIAN  \\\n1      interesting in good forward relationship (f24)   \n2                           Laughing is my favorite 😆   \n3            [f22] What do you think when you see me?   \n4                            Low key… still bangable?   \n...                                               ...   \n20146                                 Natalie Portman   \n20147                                   Ysabel Ortega   \n20148                                     Money green   \n20149                                            DLAH   \n20150                    Nice surprise from Micheal’s   \n\n                                                 caption   \n0                arafed image of a woman in a bikini top  \\\n1      a close up of a woman with red hair and a whit...   \n2      a woman in a blue tank top and shorts is smili...   \n3        a woman in a blue bikini top and a blue bra top   \n4      smiling woman sitting on couch with remote con...   \n...                                                  ...   \n20146  a woman in a red dress and red coat posing for...   \n20147  araffe woman in a blue dress posing for a picture   \n20148       araffe in a green dress posing for a picture   \n20149  three women in white dresses standing in front...   \n20150  someone holding a jar of candles in front of a...   \n\n                                   hash   \n0      7c0d158cba8654ef1c635cbc5471d597  \\\n1      ba4a0962cca2266a741e1e1700589c04   \n2      27bfe82c37314a0bcf02ab72eaf3a9e5   \n3      329eb42b8267fa1cc2980da8e48bcef1   \n4      6d555943be4fbc21ff92417c6f582298   \n...                                 ...   \n20146  85453a20bb721d013e88b37a005df958   \n20147  09d5b6d47007707d728928008111812e   \n20148  6f4f421d99e495d4499e7a3d9870ba32   \n20149  ac7202cbb42c7d49f6f81bd53a017b75   \n20150  362b6a403ebe68409fdefbcf7729ffbc   \n\n                                               permalink   \n0              /r/AmIhotAF/comments/1013bdt/36f_italian/  \\\n1      /r/AmIhotAF/comments/105mekt/interesting_in_go...   \n2      /r/AmIhotAF/comments/105qvgl/laughing_is_my_fa...   \n3      /r/AmIhotAF/comments/105rpcj/f22_what_do_you_t...   \n4      /r/AmIhotAF/comments/105styc/low_key_still_ban...   \n...                                                  ...   \n20146  /r/gentlemanboners/comments/13nw4ss/natalie_po...   \n20147  /r/gentlemanboners/comments/13nwtx1/ysabel_ort...   \n20148              /r/DLAH/comments/13nqkt6/money_green/   \n20149                     /r/DLAH/comments/13nvy9c/dlah/   \n20150  /r/bathandbodyworks/comments/13nt4ei/nice_surp...   \n\n                              original_url   image_name   \n0      https://i.redd.it/bg0wwdlt5k9a1.jpg  1013bdt.jpg  \\\n1      https://i.redd.it/4avjshsz8naa1.jpg  105mekt.jpg   \n2      https://i.redd.it/2pulzr0lxmaa1.jpg  105qvgl.jpg   \n3      https://i.redd.it/rz68pf934naa1.jpg  105rpcj.jpg   \n4      https://i.redd.it/aiaxxoz9uoaa1.jpg  105styc.jpg   \n...                                    ...          ...   \n20146  https://i.redd.it/0jb5tssc071b1.jpg  13nw4ss.jpg   \n20147  https://i.redd.it/jlw0wjg9n81b1.jpg  13nwtx1.jpg   \n20148  https://i.redd.it/he0g249po71b1.jpg  13nqkt6.jpg   \n20149  https://i.redd.it/mbo1lnoig81b1.jpg  13nvy9c.jpg   \n20150  https://i.redd.it/mse5auo4681b1.jpg  13nt4ei.jpg   \n\n                         path                model  exists  curated  accept   \n0      data/image/1013bdt.jpg        SexyDiffusion    True     True    True  \\\n1      data/image/105mekt.jpg        SexyDiffusion    True     True    True   \n2      data/image/105qvgl.jpg        SexyDiffusion    True     True    True   \n3      data/image/105rpcj.jpg        SexyDiffusion    True     True    True   \n4      data/image/105styc.jpg        SexyDiffusion    True     True    True   \n...                       ...                  ...     ...      ...     ...   \n20146  data/image/13nw4ss.jpg  PrettyGirlDiffusion    True     True    True   \n20147  data/image/13nwtx1.jpg  PrettyGirlDiffusion    True     True    True   \n20148  data/image/13nqkt6.jpg  PrettyGirlDiffusion    True     True    True   \n20149  data/image/13nvy9c.jpg  PrettyGirlDiffusion    True     True    True   \n20150  data/image/13nt4ei.jpg      CandleDiffusion    True     True    True   \n\n      tags  \n0       []  \n1       []  \n2       []  \n3       []  \n4       []  \n...    ...  \n20146   []  \n20147   []  \n20148   []  \n20149   []  \n20150   []  \n\n[20151 rows x 15 columns]",
      "text/html": "<div>\n<style scoped>\n    .dataframe tbody tr th:only-of-type {\n        vertical-align: middle;\n    }\n\n    .dataframe tbody tr th {\n        vertical-align: top;\n    }\n\n    .dataframe thead th {\n        text-align: right;\n    }\n</style>\n<table border=\"1\" class=\"dataframe\">\n  <thead>\n    <tr style=\"text-align: right;\">\n      <th></th>\n      <th>id</th>\n      <th>subreddit</th>\n      <th>author</th>\n      <th>title</th>\n      <th>caption</th>\n      <th>hash</th>\n      <th>permalink</th>\n      <th>original_url</th>\n      <th>image_name</th>\n      <th>path</th>\n      <th>model</th>\n      <th>exists</th>\n      <th>curated</th>\n      <th>accept</th>\n      <th>tags</th>\n    </tr>\n  </thead>\n  <tbody>\n    <tr>\n      <th>0</th>\n      <td>1013bdt</td>\n      <td>AmIhotAF</td>\n      <td>RaulDea9286</td>\n      <td>36F - ITALIAN</td>\n      <td>arafed image of a woman in a bikini top</td>\n      <td>7c0d158cba8654ef1c635cbc5471d597</td>\n      <td>/r/AmIhotAF/comments/1013bdt/36f_italian/</td>\n      <td>https://i.redd.it/bg0wwdlt5k9a1.jpg</td>\n      <td>1013bdt.jpg</td>\n      <td>data/image/1013bdt.jpg</td>\n      <td>SexyDiffusion</td>\n      <td>True</td>\n      <td>True</td>\n      <td>True</td>\n      <td>[]</td>\n    </tr>\n    <tr>\n      <th>1</th>\n      <td>105mekt</td>\n      <td>AmIhotAF</td>\n      <td>lindaniz</td>\n      <td>interesting in good forward relationship (f24)</td>\n      <td>a close up of a woman with red hair and a whit...</td>\n      <td>ba4a0962cca2266a741e1e1700589c04</td>\n      <td>/r/AmIhotAF/comments/105mekt/interesting_in_go...</td>\n      <td>https://i.redd.it/4avjshsz8naa1.jpg</td>\n      <td>105mekt.jpg</td>\n      <td>data/image/105mekt.jpg</td>\n      <td>SexyDiffusion</td>\n      <td>True</td>\n      <td>True</td>\n      <td>True</td>\n      <td>[]</td>\n    </tr>\n    <tr>\n      <th>2</th>\n      <td>105qvgl</td>\n      <td>AmIhotAF</td>\n      <td>CaitVLove11</td>\n      <td>Laughing is my favorite 😆</td>\n      <td>a woman in a blue tank top and shorts is smili...</td>\n      <td>27bfe82c37314a0bcf02ab72eaf3a9e5</td>\n      <td>/r/AmIhotAF/comments/105qvgl/laughing_is_my_fa...</td>\n      <td>https://i.redd.it/2pulzr0lxmaa1.jpg</td>\n      <td>105qvgl.jpg</td>\n      <td>data/image/105qvgl.jpg</td>\n      <td>SexyDiffusion</td>\n      <td>True</td>\n      <td>True</td>\n      <td>True</td>\n      <td>[]</td>\n    </tr>\n    <tr>\n      <th>3</th>\n      <td>105rpcj</td>\n      <td>AmIhotAF</td>\n      <td>Flashy-Desk1858</td>\n      <td>[f22] What do you think when you see me?</td>\n      <td>a woman in a blue bikini top and a blue bra top</td>\n      <td>329eb42b8267fa1cc2980da8e48bcef1</td>\n      <td>/r/AmIhotAF/comments/105rpcj/f22_what_do_you_t...</td>\n      <td>https://i.redd.it/rz68pf934naa1.jpg</td>\n      <td>105rpcj.jpg</td>\n      <td>data/image/105rpcj.jpg</td>\n      <td>SexyDiffusion</td>\n      <td>True</td>\n      <td>True</td>\n      <td>True</td>\n      <td>[]</td>\n    </tr>\n    <tr>\n      <th>4</th>\n      <td>105styc</td>\n      <td>AmIhotAF</td>\n      <td>Gizzygirl127</td>\n      <td>Low key… still bangable?</td>\n      <td>smiling woman sitting on couch with remote con...</td>\n      <td>6d555943be4fbc21ff92417c6f582298</td>\n      <td>/r/AmIhotAF/comments/105styc/low_key_still_ban...</td>\n      <td>https://i.redd.it/aiaxxoz9uoaa1.jpg</td>\n      <td>105styc.jpg</td>\n      <td>data/image/105styc.jpg</td>\n      <td>SexyDiffusion</td>\n      <td>True</td>\n      <td>True</td>\n      <td>True</td>\n      <td>[]</td>\n    </tr>\n    <tr>\n      <th>...</th>\n      <td>...</td>\n      <td>...</td>\n      <td>...</td>\n      <td>...</td>\n      <td>...</td>\n      <td>...</td>\n      <td>...</td>\n      <td>...</td>\n      <td>...</td>\n      <td>...</td>\n      <td>...</td>\n      <td>...</td>\n      <td>...</td>\n      <td>...</td>\n      <td>...</td>\n    </tr>\n    <tr>\n      <th>20146</th>\n      <td>13nw4ss</td>\n      <td>gentlemanboners</td>\n      <td>Kvikkleire</td>\n      <td>Natalie Portman</td>\n      <td>a woman in a red dress and red coat posing for...</td>\n      <td>85453a20bb721d013e88b37a005df958</td>\n      <td>/r/gentlemanboners/comments/13nw4ss/natalie_po...</td>\n      <td>https://i.redd.it/0jb5tssc071b1.jpg</td>\n      <td>13nw4ss.jpg</td>\n      <td>data/image/13nw4ss.jpg</td>\n      <td>PrettyGirlDiffusion</td>\n      <td>True</td>\n      <td>True</td>\n      <td>True</td>\n      <td>[]</td>\n    </tr>\n    <tr>\n      <th>20147</th>\n      <td>13nwtx1</td>\n      <td>gentlemanboners</td>\n      <td>kape_pandesal</td>\n      <td>Ysabel Ortega</td>\n      <td>araffe woman in a blue dress posing for a picture</td>\n      <td>09d5b6d47007707d728928008111812e</td>\n      <td>/r/gentlemanboners/comments/13nwtx1/ysabel_ort...</td>\n      <td>https://i.redd.it/jlw0wjg9n81b1.jpg</td>\n      <td>13nwtx1.jpg</td>\n      <td>data/image/13nwtx1.jpg</td>\n      <td>PrettyGirlDiffusion</td>\n      <td>True</td>\n      <td>True</td>\n      <td>True</td>\n      <td>[]</td>\n    </tr>\n    <tr>\n      <th>20148</th>\n      <td>13nqkt6</td>\n      <td>DLAH</td>\n      <td>gonefishin37</td>\n      <td>Money green</td>\n      <td>araffe in a green dress posing for a picture</td>\n      <td>6f4f421d99e495d4499e7a3d9870ba32</td>\n      <td>/r/DLAH/comments/13nqkt6/money_green/</td>\n      <td>https://i.redd.it/he0g249po71b1.jpg</td>\n      <td>13nqkt6.jpg</td>\n      <td>data/image/13nqkt6.jpg</td>\n      <td>PrettyGirlDiffusion</td>\n      <td>True</td>\n      <td>True</td>\n      <td>True</td>\n      <td>[]</td>\n    </tr>\n    <tr>\n      <th>20149</th>\n      <td>13nvy9c</td>\n      <td>DLAH</td>\n      <td>Thin_Data_2134</td>\n      <td>DLAH</td>\n      <td>three women in white dresses standing in front...</td>\n      <td>ac7202cbb42c7d49f6f81bd53a017b75</td>\n      <td>/r/DLAH/comments/13nvy9c/dlah/</td>\n      <td>https://i.redd.it/mbo1lnoig81b1.jpg</td>\n      <td>13nvy9c.jpg</td>\n      <td>data/image/13nvy9c.jpg</td>\n      <td>PrettyGirlDiffusion</td>\n      <td>True</td>\n      <td>True</td>\n      <td>True</td>\n      <td>[]</td>\n    </tr>\n    <tr>\n      <th>20150</th>\n      <td>13nt4ei</td>\n      <td>bathandbodyworks</td>\n      <td>LadyMisfits</td>\n      <td>Nice surprise from Micheal’s</td>\n      <td>someone holding a jar of candles in front of a...</td>\n      <td>362b6a403ebe68409fdefbcf7729ffbc</td>\n      <td>/r/bathandbodyworks/comments/13nt4ei/nice_surp...</td>\n      <td>https://i.redd.it/mse5auo4681b1.jpg</td>\n      <td>13nt4ei.jpg</td>\n      <td>data/image/13nt4ei.jpg</td>\n      <td>CandleDiffusion</td>\n      <td>True</td>\n      <td>True</td>\n      <td>True</td>\n      <td>[]</td>\n    </tr>\n  </tbody>\n</table>\n<p>20151 rows × 15 columns</p>\n</div>"
     },
     "metadata": {},
     "output_type": "display_data"
    },
    {
     "name": "stdout",
     "output_type": "stream",
     "text": [
      "CPU times: total: 875 ms\n",
      "Wall time: 14.9 s\n"
     ]
    }
   ],
   "source": [
    "%%time\n",
    "\n",
    "curated_df = pandas.read_parquet('data/parquet/back.parquet', filesystem=file_system, engine='pyarrow')\n",
    "\n",
    "accepted = curated_df.loc[curated_df[\"accept\"] == True]\n",
    "\n",
    "dropped = accepted.dropna()\n",
    "dropped.reset_index(inplace=True, drop=True)\n",
    "\n",
    "del accepted\n",
    "\n",
    "accepted = dropped.copy()\n",
    "del dropped\n",
    "\n",
    "display(accepted)"
   ],
   "metadata": {
    "collapsed": false,
    "ExecuteTime": {
     "end_time": "2023-05-26T10:37:23.728835600Z",
     "start_time": "2023-05-26T10:37:08.741759800Z"
    }
   }
  },
  {
   "cell_type": "code",
   "execution_count": null,
   "outputs": [
    {
     "data": {
      "text/plain": "'=== Obtaining Caption Files List ==='"
     },
     "metadata": {},
     "output_type": "display_data"
    },
    {
     "data": {
      "text/plain": "'current caption files: 18746'"
     },
     "metadata": {},
     "output_type": "display_data"
    }
   ],
   "source": [
    "%%time\n",
    "\n",
    "\n",
    "display(\"=== Obtaining Caption Files List ===\")\n",
    "current_captions = file_system.ls(\"data/caption\")\n",
    "display(f\"current caption files: {len(current_captions)}\")\n",
    "\n",
    "all_data = []\n",
    "filtered_data = []\n",
    "for caption_file in tqdm(current_captions, total=len(current_captions), desc='Reading caption files'):\n",
    "\timage_id = caption_file.split('/')[-1].split('.')[0]\n",
    "\ttry:\n",
    "\t\tfile_size = file_system.size(caption_file)\n",
    "\t\tif file_size == 0:\n",
    "\t\t\tdisplay(f'Empty file -- removing {image_id}', clear=True)\n",
    "\t\t\tfile_system.rm(caption_file)\n",
    "\t\t\tcontinue\n",
    "\t\tcaption_data = json.loads(file_system.read_text(caption_file, encoding='utf-8'))\n",
    "\t\tcaption_data[\"id\"] = image_id\n",
    "\t\tdense_caption_result = caption_data.get('denseCaptionsResult')\n",
    "\t\tmetadata = caption_data.get('metadata')\n",
    "\t\ttags_result = caption_data.get('tagsResult')\n",
    "\t\tsmart_crop_result = caption_data.get('smartCropsResult')\n",
    "\t\tbasic_caption = caption_data.get('captionResult')\n",
    "\t\t_filtered_data = {\n",
    "\t\t\t\"id\": image_id,\n",
    "\t\t\t\"captions\": [basic_caption],\n",
    "\t\t\t\"dense_captions\": dense_caption_result['values'],\n",
    "\t\t\t\"meta\": [metadata],\n",
    "\t\t\t\"tags\": tags_result['values'],\n",
    "\t\t\t\"smart_crop\": smart_crop_result['values']\n",
    "\t\t}\n",
    "\t\tall_data.append(caption_data)\n",
    "\t\tfiltered_data.append(_filtered_data)\n",
    "\texcept Exception as e:\n",
    "\t\tdisplay(f\" Exception {e} for {image_id}\", clear=True)\n",
    "\t\tcontinue"
   ],
   "metadata": {
    "collapsed": false,
    "is_executing": true,
    "ExecuteTime": {
     "start_time": "2023-05-26T10:44:52.032761300Z"
    }
   }
  },
  {
   "cell_type": "code",
   "execution_count": null,
   "outputs": [],
   "source": [
    "%%time\n",
    "\n",
    "all_data_from_captions = pandas.DataFrame(data=all_data)\n",
    "filtered_data_from_captions = pandas.DataFrame(data=filtered_data)\n",
    "\n",
    "display(all_data_from_captions)\n",
    "display(filtered_data_from_captions)\n",
    "\n",
    "all_data_from_captions.to_parquet(\"data/parquet/all_data_from_captions.parquet\", engine='pyarrow',\n",
    "\t\t\t\t\t\t\t\t  filesystem=file_system)\n",
    "\n",
    "filtered_data_from_captions.to_parquet(\"data/parquet/filtered_data_from_captions.parquet\", engine='pyarrow',\n",
    "\t\t\t\t\t\t\t\t\t   filesystem=file_system)"
   ],
   "metadata": {
    "collapsed": false
   }
  },
  {
   "cell_type": "code",
   "execution_count": null,
   "outputs": [],
   "source": [
    "single_caption_data = pandas.DataFrame(\n",
    "\t{\n",
    "\t\t'id': all_data_from_captions['id'],\n",
    "\t\t'azure_caption': [item['text'] for item in all_data_from_captions['captionResult']],\n",
    "\t\t'tags': [[foo['name'] for foo in item['values']] for item in all_data_from_captions['tagsResult']]\n",
    "\t})\n",
    "\n",
    "\n",
    "single_caption_data_indexed = single_caption_data.set_index(\"id\")\n",
    "\n",
    "accepted_indexed = accepted.set_index(\"id\")\n",
    "\n",
    "for index, row in accepted_indexed.iterrows():\n",
    "\taccepted_indexed.at[index, 'azure_caption'] = \"\"\n",
    "\taccepted_indexed.at[index, 'thumbnail_path'] = \"\"\n",
    "\taccepted_indexed.at[index, 'thumbnail_exists'] = False\n",
    "\taccepted_indexed.at[index, 'thumbnail_curated'] = False\n",
    "\taccepted_indexed.at[index, 'thumbnail_accept'] = False\n",
    "\n",
    "accepted_indexed.update(single_caption_data_indexed)\n",
    "\n",
    "accepted_final = accepted_indexed.reset_index()\n",
    "\n",
    "display(\"== Updated With Basic Captions ==\")\n",
    "display(accepted_final)"
   ],
   "metadata": {
    "collapsed": false
   }
  },
  {
   "cell_type": "code",
   "execution_count": null,
   "outputs": [],
   "source": [
    "accepted_final.to_parquet(\"data/parquet/curation_2.parquet\", engine='pyarrow', filesystem=file_system, schema=tagging_schema)\n",
    "del accepted_final\n",
    "accepted_final = pandas.read_parquet(\"data/parquet/curation_2.parquet\", engine='pyarrow', filesystem=file_system, schema=tagging_schema)\n",
    "display(accepted_final)"
   ],
   "metadata": {
    "collapsed": false
   }
  },
  {
   "cell_type": "code",
   "execution_count": null,
   "outputs": [],
   "source": [
    "# TODO Get dataframe for crops"
   ],
   "metadata": {
    "collapsed": false
   }
  },
  {
   "cell_type": "code",
   "execution_count": null,
   "outputs": [],
   "source": [
    "import os\n",
    "\n",
    "def create_thumbnail(_image_id: str, _curated_df: pandas.DataFrame, _crops: pandas.DataFrame, _extant_file_names: list):\n",
    "\t_file_system: AzureBlobFileSystem = AzureFileStorageAdapter('data').get_file_storage()\n",
    "\tout_path = f\"data/image/thumbnail/{_image_id}.jpg\"\n",
    "\ttry:\n",
    "\t\tif _image_id is None or _image_id in _extant_file_names:\n",
    "\t\t\tdisplay(f'Image {_image_id} already exists, skipping', clear=True)\n",
    "\t\t\treturn out_path\n",
    "\n",
    "\t\tcropping_information = _crops.loc[_crops['id'] == _image_id]\n",
    "\t\tif cropping_information is None or len(cropping_information) == 0:\n",
    "\t\t\tdisplay(f'No cropping information for {_image_id}, skipping', clear=True)\n",
    "\t\t\treturn \"\"\n",
    "\n",
    "\t\trecord = _curated_df.loc[_curated_df['id'] == _image_id]\n",
    "\t\trecord_path = record.to_dict(orient='records')[0]['path']\n",
    "\t\timage_url = file_system.url(record_path)\n",
    "\t\toriginal_image = Image.open(requests.get(image_url, stream=True).raw)\n",
    "\t\tcopied_image = original_image.copy()\n",
    "\t\toriginal_image.close()\n",
    "\n",
    "\t\tcropped = copied_image.crop((cropping_information['smart_crop_boundingBox.x'].values[0],\n",
    "\t\t\t\t\t\t\t\t\t cropping_information['smart_crop_boundingBox.y'].values[0],\n",
    "\t\t\t\t\t\t\t\t\t cropping_information['smart_crop_boundingBox.x'].values[0] +\n",
    "\t\t\t\t\t\t\t\t\t cropping_information['smart_crop_boundingBox.w'].values[0],\n",
    "\t\t\t\t\t\t\t\t\t cropping_information['smart_crop_boundingBox.y'].values[0] +\n",
    "\t\t\t\t\t\t\t\t\t cropping_information['smart_crop_boundingBox.h'].values[0]))\n",
    "\t\tcopied_image.close()\n",
    "\n",
    "\t\tresized = cropped.resize((512, 512), 1)\n",
    "\t\tresized.save('temp.jpg')\n",
    "\t\tresized.close()\n",
    "\t\tfile_system.upload('temp.jpg', out_path, overwrite=True)\n",
    "\t\tdisplay(f'Thumbnail created for {_image_id}', clear=True)\n",
    "\t\treturn out_path\n",
    "\n",
    "\texcept Exception as ex:\n",
    "\t\tdisplay(f'Error creating thumbnail for {_image_id}: {ex}', clear=True)\n",
    "\t\treturn \"\""
   ],
   "metadata": {
    "collapsed": false
   }
  },
  {
   "cell_type": "code",
   "execution_count": null,
   "outputs": [],
   "source": [
    "# records = d.to_dict(orient='records')\n",
    "#\n",
    "# for elem in tqdm(records, len(records)):\n",
    "# \tcreate_thumbnail(elem['id'], d, )"
   ],
   "metadata": {
    "collapsed": false
   }
  },
  {
   "cell_type": "code",
   "execution_count": null,
   "outputs": [],
   "source": [
    "!jupyter notebook stop"
   ],
   "metadata": {
    "collapsed": false
   }
  }
 ],
 "metadata": {
  "kernelspec": {
   "display_name": "Python 3",
   "language": "python",
   "name": "python3"
  },
  "language_info": {
   "codemirror_mode": {
    "name": "ipython",
    "version": 2
   },
   "file_extension": ".py",
   "mimetype": "text/x-python",
   "name": "python",
   "nbconvert_exporter": "python",
   "pygments_lexer": "ipython2",
   "version": "2.7.6"
  }
 },
 "nbformat": 4,
 "nbformat_minor": 0
}
