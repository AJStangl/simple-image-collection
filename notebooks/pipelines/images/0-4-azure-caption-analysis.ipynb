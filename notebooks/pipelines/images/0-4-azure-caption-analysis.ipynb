{
 "cells": [
  {
   "cell_type": "code",
   "execution_count": 1,
   "metadata": {
    "collapsed": true
   },
   "outputs": [
    {
     "name": "stdout",
     "output_type": "stream",
     "text": [
      "CPU times: total: 3.59 s\n",
      "Wall time: 3.95 s\n"
     ]
    }
   ],
   "source": [
    "%%time\n",
    "\n",
    "import json\n",
    "\n",
    "import pandas\n",
    "import requests\n",
    "from PIL import Image\n",
    "from adlfs import AzureBlobFileSystem\n",
    "from tqdm import tqdm\n",
    "\n",
    "from common.captioning.azure_descriptions import AzureCaption\n",
    "from common.storage.azure_file_storage import AzureFileStorageAdapter\n",
    "from common.schemas.pyarrow_schema import tagging_schema\n",
    "\n",
    "tqdm.pandas(desc=\"Progress\")\n",
    "file_system: AzureBlobFileSystem = AzureFileStorageAdapter('data').get_file_storage()\n",
    "\n",
    "from common.functions.functions import Functions\n",
    "\n",
    "functions: Functions = Functions()\n",
    "\n",
    "caption: AzureCaption = AzureCaption(file_system)"
   ]
  },
  {
   "cell_type": "code",
   "execution_count": 68,
   "outputs": [
    {
     "data": {
      "text/plain": "            id         subreddit           author   \n0      1013bdt          AmIhotAF      RaulDea9286  \\\n1      105mekt          AmIhotAF         lindaniz   \n2      105qvgl          AmIhotAF      CaitVLove11   \n3      105rpcj          AmIhotAF  Flashy-Desk1858   \n4      105styc          AmIhotAF     Gizzygirl127   \n...        ...               ...              ...   \n19899  13m6hv4      tightdresses   katiecooper4xo   \n19900  13mcqn4      tightdresses   GucciBagHolder   \n19901  13m91m2              DLAH   qwertybird3141   \n19902  13m6gm7  bathandbodyworks      unicornkenz   \n19903  13m7rxh  bathandbodyworks      baby-pink12   \n\n                                                title   \n0                                       36F - ITALIAN  \\\n1      interesting in good forward relationship (f24)   \n2                           Laughing is my favorite 😆   \n3            [f22] What do you think when you see me?   \n4                            Low key… still bangable?   \n...                                               ...   \n19899                           Bringing tartan back!   \n19900                                          Blonde   \n19901                                    College grad   \n19902                                     Candle Sale   \n19903                   Obsessed is an understatement   \n\n                                                 caption   \n0                arafed image of a woman in a bikini top  \\\n1      a close up of a woman with red hair and a whit...   \n2      a woman in a blue tank top and shorts is smili...   \n3        a woman in a blue bikini top and a blue bra top   \n4      smiling woman sitting on couch with remote con...   \n...                                                  ...   \n19899  arafed woman in a plaid dress posing for a pic...   \n19900  a close up of a woman in a white dress posing ...   \n19901  arafed woman standing on steps with a red and ...   \n19902                      bath and body works coup coup   \n19903  there are two bottles of body lotion sitting o...   \n\n                                   hash   \n0      7c0d158cba8654ef1c635cbc5471d597  \\\n1      ba4a0962cca2266a741e1e1700589c04   \n2      27bfe82c37314a0bcf02ab72eaf3a9e5   \n3      329eb42b8267fa1cc2980da8e48bcef1   \n4      6d555943be4fbc21ff92417c6f582298   \n...                                 ...   \n19899  9501d5f34d0748f58eb3caba7ce1641c   \n19900  70b0eff895fd87d368cb1f53af9a7f3c   \n19901  adcbd61b5e37c5e048cb6907eca21bfe   \n19902  47a78b117b59b636fa22093ec4f29bd7   \n19903  412ae5c6fabc3f1594ace642e20b7231   \n\n                                               permalink   \n0              /r/AmIhotAF/comments/1013bdt/36f_italian/  \\\n1      /r/AmIhotAF/comments/105mekt/interesting_in_go...   \n2      /r/AmIhotAF/comments/105qvgl/laughing_is_my_fa...   \n3      /r/AmIhotAF/comments/105rpcj/f22_what_do_you_t...   \n4      /r/AmIhotAF/comments/105styc/low_key_still_ban...   \n...                                                  ...   \n19899  /r/tightdresses/comments/13m6hv4/bringing_tart...   \n19900           /r/tightdresses/comments/13mcqn4/blonde/   \n19901             /r/DLAH/comments/13m91m2/college_grad/   \n19902  /r/bathandbodyworks/comments/13m6gm7/candle_sale/   \n19903  /r/bathandbodyworks/comments/13m7rxh/obsessed_...   \n\n                              original_url   image_name   \n0      https://i.redd.it/bg0wwdlt5k9a1.jpg  1013bdt.jpg  \\\n1      https://i.redd.it/4avjshsz8naa1.jpg  105mekt.jpg   \n2      https://i.redd.it/2pulzr0lxmaa1.jpg  105qvgl.jpg   \n3      https://i.redd.it/rz68pf934naa1.jpg  105rpcj.jpg   \n4      https://i.redd.it/aiaxxoz9uoaa1.jpg  105styc.jpg   \n...                                    ...          ...   \n19899  https://i.redd.it/8nx1kv7o0w0b1.jpg  13m6hv4.jpg   \n19900  https://i.redd.it/6ojq4wtl9x0b1.jpg  13mcqn4.jpg   \n19901  https://i.redd.it/skv5m0jwiw0b1.jpg  13m91m2.jpg   \n19902  https://i.redd.it/h321gmgf0w0b1.jpg  13m6gm7.jpg   \n19903  https://i.redd.it/xv6tjhpp9w0b1.jpg  13m7rxh.jpg   \n\n                         path                model  exists  curated  accept   \n0      data/image/1013bdt.jpg        SexyDiffusion    True     True    True  \\\n1      data/image/105mekt.jpg        SexyDiffusion    True     True    True   \n2      data/image/105qvgl.jpg        SexyDiffusion    True     True    True   \n3      data/image/105rpcj.jpg        SexyDiffusion    True     True    True   \n4      data/image/105styc.jpg        SexyDiffusion    True     True    True   \n...                       ...                  ...     ...      ...     ...   \n19899  data/image/13m6hv4.jpg  PrettyGirlDiffusion    True     True    True   \n19900  data/image/13mcqn4.jpg  PrettyGirlDiffusion    True     True    True   \n19901  data/image/13m91m2.jpg  PrettyGirlDiffusion    True     True    True   \n19902  data/image/13m6gm7.jpg      CandleDiffusion    True     True    True   \n19903  data/image/13m7rxh.jpg      CandleDiffusion    True     True    True   \n\n      tags  \n0       []  \n1       []  \n2       []  \n3       []  \n4       []  \n...    ...  \n19899   []  \n19900   []  \n19901   []  \n19902   []  \n19903   []  \n\n[19904 rows x 15 columns]",
      "text/html": "<div>\n<style scoped>\n    .dataframe tbody tr th:only-of-type {\n        vertical-align: middle;\n    }\n\n    .dataframe tbody tr th {\n        vertical-align: top;\n    }\n\n    .dataframe thead th {\n        text-align: right;\n    }\n</style>\n<table border=\"1\" class=\"dataframe\">\n  <thead>\n    <tr style=\"text-align: right;\">\n      <th></th>\n      <th>id</th>\n      <th>subreddit</th>\n      <th>author</th>\n      <th>title</th>\n      <th>caption</th>\n      <th>hash</th>\n      <th>permalink</th>\n      <th>original_url</th>\n      <th>image_name</th>\n      <th>path</th>\n      <th>model</th>\n      <th>exists</th>\n      <th>curated</th>\n      <th>accept</th>\n      <th>tags</th>\n    </tr>\n  </thead>\n  <tbody>\n    <tr>\n      <th>0</th>\n      <td>1013bdt</td>\n      <td>AmIhotAF</td>\n      <td>RaulDea9286</td>\n      <td>36F - ITALIAN</td>\n      <td>arafed image of a woman in a bikini top</td>\n      <td>7c0d158cba8654ef1c635cbc5471d597</td>\n      <td>/r/AmIhotAF/comments/1013bdt/36f_italian/</td>\n      <td>https://i.redd.it/bg0wwdlt5k9a1.jpg</td>\n      <td>1013bdt.jpg</td>\n      <td>data/image/1013bdt.jpg</td>\n      <td>SexyDiffusion</td>\n      <td>True</td>\n      <td>True</td>\n      <td>True</td>\n      <td>[]</td>\n    </tr>\n    <tr>\n      <th>1</th>\n      <td>105mekt</td>\n      <td>AmIhotAF</td>\n      <td>lindaniz</td>\n      <td>interesting in good forward relationship (f24)</td>\n      <td>a close up of a woman with red hair and a whit...</td>\n      <td>ba4a0962cca2266a741e1e1700589c04</td>\n      <td>/r/AmIhotAF/comments/105mekt/interesting_in_go...</td>\n      <td>https://i.redd.it/4avjshsz8naa1.jpg</td>\n      <td>105mekt.jpg</td>\n      <td>data/image/105mekt.jpg</td>\n      <td>SexyDiffusion</td>\n      <td>True</td>\n      <td>True</td>\n      <td>True</td>\n      <td>[]</td>\n    </tr>\n    <tr>\n      <th>2</th>\n      <td>105qvgl</td>\n      <td>AmIhotAF</td>\n      <td>CaitVLove11</td>\n      <td>Laughing is my favorite 😆</td>\n      <td>a woman in a blue tank top and shorts is smili...</td>\n      <td>27bfe82c37314a0bcf02ab72eaf3a9e5</td>\n      <td>/r/AmIhotAF/comments/105qvgl/laughing_is_my_fa...</td>\n      <td>https://i.redd.it/2pulzr0lxmaa1.jpg</td>\n      <td>105qvgl.jpg</td>\n      <td>data/image/105qvgl.jpg</td>\n      <td>SexyDiffusion</td>\n      <td>True</td>\n      <td>True</td>\n      <td>True</td>\n      <td>[]</td>\n    </tr>\n    <tr>\n      <th>3</th>\n      <td>105rpcj</td>\n      <td>AmIhotAF</td>\n      <td>Flashy-Desk1858</td>\n      <td>[f22] What do you think when you see me?</td>\n      <td>a woman in a blue bikini top and a blue bra top</td>\n      <td>329eb42b8267fa1cc2980da8e48bcef1</td>\n      <td>/r/AmIhotAF/comments/105rpcj/f22_what_do_you_t...</td>\n      <td>https://i.redd.it/rz68pf934naa1.jpg</td>\n      <td>105rpcj.jpg</td>\n      <td>data/image/105rpcj.jpg</td>\n      <td>SexyDiffusion</td>\n      <td>True</td>\n      <td>True</td>\n      <td>True</td>\n      <td>[]</td>\n    </tr>\n    <tr>\n      <th>4</th>\n      <td>105styc</td>\n      <td>AmIhotAF</td>\n      <td>Gizzygirl127</td>\n      <td>Low key… still bangable?</td>\n      <td>smiling woman sitting on couch with remote con...</td>\n      <td>6d555943be4fbc21ff92417c6f582298</td>\n      <td>/r/AmIhotAF/comments/105styc/low_key_still_ban...</td>\n      <td>https://i.redd.it/aiaxxoz9uoaa1.jpg</td>\n      <td>105styc.jpg</td>\n      <td>data/image/105styc.jpg</td>\n      <td>SexyDiffusion</td>\n      <td>True</td>\n      <td>True</td>\n      <td>True</td>\n      <td>[]</td>\n    </tr>\n    <tr>\n      <th>...</th>\n      <td>...</td>\n      <td>...</td>\n      <td>...</td>\n      <td>...</td>\n      <td>...</td>\n      <td>...</td>\n      <td>...</td>\n      <td>...</td>\n      <td>...</td>\n      <td>...</td>\n      <td>...</td>\n      <td>...</td>\n      <td>...</td>\n      <td>...</td>\n      <td>...</td>\n    </tr>\n    <tr>\n      <th>19899</th>\n      <td>13m6hv4</td>\n      <td>tightdresses</td>\n      <td>katiecooper4xo</td>\n      <td>Bringing tartan back!</td>\n      <td>arafed woman in a plaid dress posing for a pic...</td>\n      <td>9501d5f34d0748f58eb3caba7ce1641c</td>\n      <td>/r/tightdresses/comments/13m6hv4/bringing_tart...</td>\n      <td>https://i.redd.it/8nx1kv7o0w0b1.jpg</td>\n      <td>13m6hv4.jpg</td>\n      <td>data/image/13m6hv4.jpg</td>\n      <td>PrettyGirlDiffusion</td>\n      <td>True</td>\n      <td>True</td>\n      <td>True</td>\n      <td>[]</td>\n    </tr>\n    <tr>\n      <th>19900</th>\n      <td>13mcqn4</td>\n      <td>tightdresses</td>\n      <td>GucciBagHolder</td>\n      <td>Blonde</td>\n      <td>a close up of a woman in a white dress posing ...</td>\n      <td>70b0eff895fd87d368cb1f53af9a7f3c</td>\n      <td>/r/tightdresses/comments/13mcqn4/blonde/</td>\n      <td>https://i.redd.it/6ojq4wtl9x0b1.jpg</td>\n      <td>13mcqn4.jpg</td>\n      <td>data/image/13mcqn4.jpg</td>\n      <td>PrettyGirlDiffusion</td>\n      <td>True</td>\n      <td>True</td>\n      <td>True</td>\n      <td>[]</td>\n    </tr>\n    <tr>\n      <th>19901</th>\n      <td>13m91m2</td>\n      <td>DLAH</td>\n      <td>qwertybird3141</td>\n      <td>College grad</td>\n      <td>arafed woman standing on steps with a red and ...</td>\n      <td>adcbd61b5e37c5e048cb6907eca21bfe</td>\n      <td>/r/DLAH/comments/13m91m2/college_grad/</td>\n      <td>https://i.redd.it/skv5m0jwiw0b1.jpg</td>\n      <td>13m91m2.jpg</td>\n      <td>data/image/13m91m2.jpg</td>\n      <td>PrettyGirlDiffusion</td>\n      <td>True</td>\n      <td>True</td>\n      <td>True</td>\n      <td>[]</td>\n    </tr>\n    <tr>\n      <th>19902</th>\n      <td>13m6gm7</td>\n      <td>bathandbodyworks</td>\n      <td>unicornkenz</td>\n      <td>Candle Sale</td>\n      <td>bath and body works coup coup</td>\n      <td>47a78b117b59b636fa22093ec4f29bd7</td>\n      <td>/r/bathandbodyworks/comments/13m6gm7/candle_sale/</td>\n      <td>https://i.redd.it/h321gmgf0w0b1.jpg</td>\n      <td>13m6gm7.jpg</td>\n      <td>data/image/13m6gm7.jpg</td>\n      <td>CandleDiffusion</td>\n      <td>True</td>\n      <td>True</td>\n      <td>True</td>\n      <td>[]</td>\n    </tr>\n    <tr>\n      <th>19903</th>\n      <td>13m7rxh</td>\n      <td>bathandbodyworks</td>\n      <td>baby-pink12</td>\n      <td>Obsessed is an understatement</td>\n      <td>there are two bottles of body lotion sitting o...</td>\n      <td>412ae5c6fabc3f1594ace642e20b7231</td>\n      <td>/r/bathandbodyworks/comments/13m7rxh/obsessed_...</td>\n      <td>https://i.redd.it/xv6tjhpp9w0b1.jpg</td>\n      <td>13m7rxh.jpg</td>\n      <td>data/image/13m7rxh.jpg</td>\n      <td>CandleDiffusion</td>\n      <td>True</td>\n      <td>True</td>\n      <td>True</td>\n      <td>[]</td>\n    </tr>\n  </tbody>\n</table>\n<p>19904 rows × 15 columns</p>\n</div>"
     },
     "metadata": {},
     "output_type": "display_data"
    },
    {
     "name": "stdout",
     "output_type": "stream",
     "text": [
      "CPU times: total: 391 ms\n",
      "Wall time: 975 ms\n"
     ]
    }
   ],
   "source": [
    "%%time\n",
    "\n",
    "curated_df = pandas.read_parquet('data/parquet/back.parquet', filesystem=file_system, engine='pyarrow')\n",
    "\n",
    "accepted = curated_df.loc[curated_df[\"accept\"] == True]\n",
    "\n",
    "dropped = accepted.dropna()\n",
    "dropped.reset_index(inplace=True, drop=True)\n",
    "\n",
    "del accepted\n",
    "\n",
    "accepted = dropped.copy()\n",
    "del dropped\n",
    "\n",
    "display(accepted)"
   ],
   "metadata": {
    "collapsed": false,
    "ExecuteTime": {
     "end_time": "2023-05-21T19:04:21.316476200Z",
     "start_time": "2023-05-21T19:04:20.332817100Z"
    }
   }
  },
  {
   "cell_type": "code",
   "execution_count": 24,
   "outputs": [
    {
     "data": {
      "text/plain": "'=== Obtaining Caption Files List ==='"
     },
     "metadata": {},
     "output_type": "display_data"
    },
    {
     "data": {
      "text/plain": "'current caption files: 6615'"
     },
     "metadata": {},
     "output_type": "display_data"
    },
    {
     "name": "stderr",
     "output_type": "stream",
     "text": [
      "Reading caption files: 100%|██████████| 6615/6615 [07:19<00:00, 15.05it/s]"
     ]
    },
    {
     "name": "stdout",
     "output_type": "stream",
     "text": [
      "CPU times: total: 1min 47s\n",
      "Wall time: 7min 19s\n"
     ]
    },
    {
     "name": "stderr",
     "output_type": "stream",
     "text": [
      "\n"
     ]
    }
   ],
   "source": [
    "%%time\n",
    "\n",
    "\n",
    "display(\"=== Obtaining Caption Files List ===\")\n",
    "current_captions = file_system.ls(\"data/caption\")\n",
    "display(f\"current caption files: {len(current_captions)}\")\n",
    "\n",
    "all_data = []\n",
    "filtered_data = []\n",
    "for caption_file in tqdm(current_captions, total=len(current_captions), desc='Reading caption files'):\n",
    "\timage_id = caption_file.split('/')[-1].split('.')[0]\n",
    "\ttry:\n",
    "\t\tfile_size = file_system.size(caption_file)\n",
    "\t\tif file_size == 0:\n",
    "\t\t\tdisplay(f'Empty file -- removing {image_id}', clear=True)\n",
    "\t\t\tfile_system.rm(caption_file)\n",
    "\t\t\tcontinue\n",
    "\t\tcaption_data = json.loads(file_system.read_text(caption_file, encoding='utf-8'))\n",
    "\t\tcaption_data[\"id\"] = image_id\n",
    "\t\tdense_caption_result = caption_data.get('denseCaptionsResult')\n",
    "\t\tmetadata = caption_data.get('metadata')\n",
    "\t\ttags_result = caption_data.get('tagsResult')\n",
    "\t\tsmart_crop_result = caption_data.get('smartCropsResult')\n",
    "\t\tbasic_caption = caption_data.get('captionResult')\n",
    "\t\t_filtered_data = {\n",
    "\t\t\t\"id\": image_id,\n",
    "\t\t\t\"captions\": [basic_caption],\n",
    "\t\t\t\"dense_captions\": dense_caption_result['values'],\n",
    "\t\t\t\"meta\": [metadata],\n",
    "\t\t\t\"tags\": tags_result['values'],\n",
    "\t\t\t\"smart_crop\": smart_crop_result['values']\n",
    "\t\t}\n",
    "\t\tall_data.append(caption_data)\n",
    "\t\tfiltered_data.append(_filtered_data)\n",
    "\texcept Exception as e:\n",
    "\t\tdisplay(f\" Exception {e} for {image_id}\", clear=True)\n",
    "\t\tcontinue"
   ],
   "metadata": {
    "collapsed": false,
    "ExecuteTime": {
     "end_time": "2023-05-21T18:43:03.155556200Z",
     "start_time": "2023-05-21T18:35:43.403181100Z"
    }
   }
  },
  {
   "cell_type": "code",
   "execution_count": 25,
   "outputs": [
    {
     "data": {
      "text/plain": "                                          captionResult   \n0     {'text': 'a pier in the ocean', 'confidence': ...  \\\n1     {'text': 'a town in the mountains', 'confidenc...   \n2     {'text': 'a woman taking a selfie', 'confidenc...   \n3     {'text': 'a woman in a garment standing next t...   \n4     {'text': 'a train on a bridge over a body of w...   \n...                                                 ...   \n6610  {'text': 'a woman in a blue lingerie', 'confid...   \n6611  {'text': 'a city with many buildings and a roa...   \n6612  {'text': 'a woman sitting on a bed', 'confiden...   \n6613  {'text': 'a woman in a dress posing for a pict...   \n6614  {'text': 'a bridge over a cliff with buildings...   \n\n                                          objectsResult   \n0                                        {'values': []}  \\\n1                                        {'values': []}   \n2     {'values': [{'boundingBox': {'x': 50, 'y': 128...   \n3     {'values': [{'boundingBox': {'x': 657, 'y': 75...   \n4                                        {'values': []}   \n...                                                 ...   \n6610  {'values': [{'boundingBox': {'x': 87, 'y': 236...   \n6611                                     {'values': []}   \n6612  {'values': [{'boundingBox': {'x': 352, 'y': 62...   \n6613  {'values': [{'boundingBox': {'x': 263, 'y': 28...   \n6614  {'values': [{'boundingBox': {'x': 816, 'y': 34...   \n\n                                             readResult   \n0     {'stringIndexType': 'TextElements', 'content':...  \\\n1     {'stringIndexType': 'TextElements', 'content':...   \n2     {'stringIndexType': 'TextElements', 'content':...   \n3     {'stringIndexType': 'TextElements', 'content':...   \n4     {'stringIndexType': 'TextElements', 'content':...   \n...                                                 ...   \n6610  {'stringIndexType': 'TextElements', 'content':...   \n6611  {'stringIndexType': 'TextElements', 'content':...   \n6612  {'stringIndexType': 'TextElements', 'content':...   \n6613  {'stringIndexType': 'TextElements', 'content':...   \n6614  {'stringIndexType': 'TextElements', 'content':...   \n\n                                    denseCaptionsResult        modelVersion   \n0     {'values': [{'text': 'a pier in the ocean', 'c...  2023-02-01-preview  \\\n1     {'values': [{'text': 'a group of houses in a f...  2023-02-01-preview   \n2     {'values': [{'text': 'a woman taking a selfie'...  2023-02-01-preview   \n3     {'values': [{'text': 'a woman in a garment', '...  2023-02-01-preview   \n4     {'values': [{'text': 'a group of trees in the ...  2023-02-01-preview   \n...                                                 ...                 ...   \n6610  {'values': [{'text': 'a woman in a blue garmen...  2023-02-01-preview   \n6611  {'values': [{'text': 'a roof of a building at ...  2023-02-01-preview   \n6612  {'values': [{'text': 'a woman sitting on a bed...  2023-02-01-preview   \n6613  {'values': [{'text': 'a person wearing a neckl...  2023-02-01-preview   \n6614  {'values': [{'text': 'a smoke coming out of a ...  2023-02-01-preview   \n\n                             metadata   \n0     {'width': 4032, 'height': 3024}  \\\n1      {'width': 1200, 'height': 800}   \n2     {'width': 1468, 'height': 2608}   \n3     {'width': 1523, 'height': 2030}   \n4     {'width': 4032, 'height': 3024}   \n...                               ...   \n6610  {'width': 2309, 'height': 2560}   \n6611  {'width': 1283, 'height': 1519}   \n6612  {'width': 1440, 'height': 1800}   \n6613  {'width': 1075, 'height': 1351}   \n6614  {'width': 1080, 'height': 1334}   \n\n                                             tagsResult   \n0     {'values': [{'name': 'outdoor', 'confidence': ...  \\\n1     {'values': [{'name': 'outdoor', 'confidence': ...   \n2     {'values': [{'name': 'person', 'confidence': 0...   \n3     {'values': [{'name': 'outdoor', 'confidence': ...   \n4     {'values': [{'name': 'outdoor', 'confidence': ...   \n...                                                 ...   \n6610  {'values': [{'name': 'person', 'confidence': 0...   \n6611  {'values': [{'name': 'sky', 'confidence': 0.97...   \n6612  {'values': [{'name': 'person', 'confidence': 0...   \n6613  {'values': [{'name': 'outdoor', 'confidence': ...   \n6614  {'values': [{'name': 'outdoor', 'confidence': ...   \n\n                                       smartCropsResult   \n0     {'values': [{'aspectRatio': 1.0, 'boundingBox'...  \\\n1     {'values': [{'aspectRatio': 1.0, 'boundingBox'...   \n2     {'values': [{'aspectRatio': 1.0, 'boundingBox'...   \n3     {'values': [{'aspectRatio': 1.0, 'boundingBox'...   \n4     {'values': [{'aspectRatio': 1.0, 'boundingBox'...   \n...                                                 ...   \n6610  {'values': [{'aspectRatio': 1.0, 'boundingBox'...   \n6611  {'values': [{'aspectRatio': 1.0, 'boundingBox'...   \n6612  {'values': [{'aspectRatio': 1.0, 'boundingBox'...   \n6613  {'values': [{'aspectRatio': 1.0, 'boundingBox'...   \n6614  {'values': [{'aspectRatio': 1.0, 'boundingBox'...   \n\n                                           peopleResult       id  \n0     {'values': [{'boundingBox': {'x': 1360, 'y': 1...  1002bsl  \n1     {'values': [{'boundingBox': {'x': 1039, 'y': 5...  1002cgj  \n2     {'values': [{'boundingBox': {'x': 0, 'y': 122,...  1002cx2  \n3     {'values': [{'boundingBox': {'x': 425, 'y': 42...  1003dod  \n4     {'values': [{'boundingBox': {'x': 3347, 'y': 1...  10044wv  \n...                                                 ...      ...  \n6610  {'values': [{'boundingBox': {'x': 139, 'y': 22...   zzu8i8  \n6611  {'values': [{'boundingBox': {'x': 1047, 'y': 1...   zzv4hz  \n6612  {'values': [{'boundingBox': {'x': 351, 'y': 8,...   zzvv3x  \n6613  {'values': [{'boundingBox': {'x': 222, 'y': 30...   zzxq2l  \n6614  {'values': [{'boundingBox': {'x': 319, 'y': 58...   zzy49v  \n\n[6615 rows x 10 columns]",
      "text/html": "<div>\n<style scoped>\n    .dataframe tbody tr th:only-of-type {\n        vertical-align: middle;\n    }\n\n    .dataframe tbody tr th {\n        vertical-align: top;\n    }\n\n    .dataframe thead th {\n        text-align: right;\n    }\n</style>\n<table border=\"1\" class=\"dataframe\">\n  <thead>\n    <tr style=\"text-align: right;\">\n      <th></th>\n      <th>captionResult</th>\n      <th>objectsResult</th>\n      <th>readResult</th>\n      <th>denseCaptionsResult</th>\n      <th>modelVersion</th>\n      <th>metadata</th>\n      <th>tagsResult</th>\n      <th>smartCropsResult</th>\n      <th>peopleResult</th>\n      <th>id</th>\n    </tr>\n  </thead>\n  <tbody>\n    <tr>\n      <th>0</th>\n      <td>{'text': 'a pier in the ocean', 'confidence': ...</td>\n      <td>{'values': []}</td>\n      <td>{'stringIndexType': 'TextElements', 'content':...</td>\n      <td>{'values': [{'text': 'a pier in the ocean', 'c...</td>\n      <td>2023-02-01-preview</td>\n      <td>{'width': 4032, 'height': 3024}</td>\n      <td>{'values': [{'name': 'outdoor', 'confidence': ...</td>\n      <td>{'values': [{'aspectRatio': 1.0, 'boundingBox'...</td>\n      <td>{'values': [{'boundingBox': {'x': 1360, 'y': 1...</td>\n      <td>1002bsl</td>\n    </tr>\n    <tr>\n      <th>1</th>\n      <td>{'text': 'a town in the mountains', 'confidenc...</td>\n      <td>{'values': []}</td>\n      <td>{'stringIndexType': 'TextElements', 'content':...</td>\n      <td>{'values': [{'text': 'a group of houses in a f...</td>\n      <td>2023-02-01-preview</td>\n      <td>{'width': 1200, 'height': 800}</td>\n      <td>{'values': [{'name': 'outdoor', 'confidence': ...</td>\n      <td>{'values': [{'aspectRatio': 1.0, 'boundingBox'...</td>\n      <td>{'values': [{'boundingBox': {'x': 1039, 'y': 5...</td>\n      <td>1002cgj</td>\n    </tr>\n    <tr>\n      <th>2</th>\n      <td>{'text': 'a woman taking a selfie', 'confidenc...</td>\n      <td>{'values': [{'boundingBox': {'x': 50, 'y': 128...</td>\n      <td>{'stringIndexType': 'TextElements', 'content':...</td>\n      <td>{'values': [{'text': 'a woman taking a selfie'...</td>\n      <td>2023-02-01-preview</td>\n      <td>{'width': 1468, 'height': 2608}</td>\n      <td>{'values': [{'name': 'person', 'confidence': 0...</td>\n      <td>{'values': [{'aspectRatio': 1.0, 'boundingBox'...</td>\n      <td>{'values': [{'boundingBox': {'x': 0, 'y': 122,...</td>\n      <td>1002cx2</td>\n    </tr>\n    <tr>\n      <th>3</th>\n      <td>{'text': 'a woman in a garment standing next t...</td>\n      <td>{'values': [{'boundingBox': {'x': 657, 'y': 75...</td>\n      <td>{'stringIndexType': 'TextElements', 'content':...</td>\n      <td>{'values': [{'text': 'a woman in a garment', '...</td>\n      <td>2023-02-01-preview</td>\n      <td>{'width': 1523, 'height': 2030}</td>\n      <td>{'values': [{'name': 'outdoor', 'confidence': ...</td>\n      <td>{'values': [{'aspectRatio': 1.0, 'boundingBox'...</td>\n      <td>{'values': [{'boundingBox': {'x': 425, 'y': 42...</td>\n      <td>1003dod</td>\n    </tr>\n    <tr>\n      <th>4</th>\n      <td>{'text': 'a train on a bridge over a body of w...</td>\n      <td>{'values': []}</td>\n      <td>{'stringIndexType': 'TextElements', 'content':...</td>\n      <td>{'values': [{'text': 'a group of trees in the ...</td>\n      <td>2023-02-01-preview</td>\n      <td>{'width': 4032, 'height': 3024}</td>\n      <td>{'values': [{'name': 'outdoor', 'confidence': ...</td>\n      <td>{'values': [{'aspectRatio': 1.0, 'boundingBox'...</td>\n      <td>{'values': [{'boundingBox': {'x': 3347, 'y': 1...</td>\n      <td>10044wv</td>\n    </tr>\n    <tr>\n      <th>...</th>\n      <td>...</td>\n      <td>...</td>\n      <td>...</td>\n      <td>...</td>\n      <td>...</td>\n      <td>...</td>\n      <td>...</td>\n      <td>...</td>\n      <td>...</td>\n      <td>...</td>\n    </tr>\n    <tr>\n      <th>6610</th>\n      <td>{'text': 'a woman in a blue lingerie', 'confid...</td>\n      <td>{'values': [{'boundingBox': {'x': 87, 'y': 236...</td>\n      <td>{'stringIndexType': 'TextElements', 'content':...</td>\n      <td>{'values': [{'text': 'a woman in a blue garmen...</td>\n      <td>2023-02-01-preview</td>\n      <td>{'width': 2309, 'height': 2560}</td>\n      <td>{'values': [{'name': 'person', 'confidence': 0...</td>\n      <td>{'values': [{'aspectRatio': 1.0, 'boundingBox'...</td>\n      <td>{'values': [{'boundingBox': {'x': 139, 'y': 22...</td>\n      <td>zzu8i8</td>\n    </tr>\n    <tr>\n      <th>6611</th>\n      <td>{'text': 'a city with many buildings and a roa...</td>\n      <td>{'values': []}</td>\n      <td>{'stringIndexType': 'TextElements', 'content':...</td>\n      <td>{'values': [{'text': 'a roof of a building at ...</td>\n      <td>2023-02-01-preview</td>\n      <td>{'width': 1283, 'height': 1519}</td>\n      <td>{'values': [{'name': 'sky', 'confidence': 0.97...</td>\n      <td>{'values': [{'aspectRatio': 1.0, 'boundingBox'...</td>\n      <td>{'values': [{'boundingBox': {'x': 1047, 'y': 1...</td>\n      <td>zzv4hz</td>\n    </tr>\n    <tr>\n      <th>6612</th>\n      <td>{'text': 'a woman sitting on a bed', 'confiden...</td>\n      <td>{'values': [{'boundingBox': {'x': 352, 'y': 62...</td>\n      <td>{'stringIndexType': 'TextElements', 'content':...</td>\n      <td>{'values': [{'text': 'a woman sitting on a bed...</td>\n      <td>2023-02-01-preview</td>\n      <td>{'width': 1440, 'height': 1800}</td>\n      <td>{'values': [{'name': 'person', 'confidence': 0...</td>\n      <td>{'values': [{'aspectRatio': 1.0, 'boundingBox'...</td>\n      <td>{'values': [{'boundingBox': {'x': 351, 'y': 8,...</td>\n      <td>zzvv3x</td>\n    </tr>\n    <tr>\n      <th>6613</th>\n      <td>{'text': 'a woman in a dress posing for a pict...</td>\n      <td>{'values': [{'boundingBox': {'x': 263, 'y': 28...</td>\n      <td>{'stringIndexType': 'TextElements', 'content':...</td>\n      <td>{'values': [{'text': 'a person wearing a neckl...</td>\n      <td>2023-02-01-preview</td>\n      <td>{'width': 1075, 'height': 1351}</td>\n      <td>{'values': [{'name': 'outdoor', 'confidence': ...</td>\n      <td>{'values': [{'aspectRatio': 1.0, 'boundingBox'...</td>\n      <td>{'values': [{'boundingBox': {'x': 222, 'y': 30...</td>\n      <td>zzxq2l</td>\n    </tr>\n    <tr>\n      <th>6614</th>\n      <td>{'text': 'a bridge over a cliff with buildings...</td>\n      <td>{'values': [{'boundingBox': {'x': 816, 'y': 34...</td>\n      <td>{'stringIndexType': 'TextElements', 'content':...</td>\n      <td>{'values': [{'text': 'a smoke coming out of a ...</td>\n      <td>2023-02-01-preview</td>\n      <td>{'width': 1080, 'height': 1334}</td>\n      <td>{'values': [{'name': 'outdoor', 'confidence': ...</td>\n      <td>{'values': [{'aspectRatio': 1.0, 'boundingBox'...</td>\n      <td>{'values': [{'boundingBox': {'x': 319, 'y': 58...</td>\n      <td>zzy49v</td>\n    </tr>\n  </tbody>\n</table>\n<p>6615 rows × 10 columns</p>\n</div>"
     },
     "metadata": {},
     "output_type": "display_data"
    },
    {
     "data": {
      "text/plain": "           id                                           captions   \n0     1002bsl  [{'text': 'a pier in the ocean', 'confidence':...  \\\n1     1002cgj  [{'text': 'a town in the mountains', 'confiden...   \n2     1002cx2  [{'text': 'a woman taking a selfie', 'confiden...   \n3     1003dod  [{'text': 'a woman in a garment standing next ...   \n4     10044wv  [{'text': 'a train on a bridge over a body of ...   \n...       ...                                                ...   \n6610   zzu8i8  [{'text': 'a woman in a blue lingerie', 'confi...   \n6611   zzv4hz  [{'text': 'a city with many buildings and a ro...   \n6612   zzvv3x  [{'text': 'a woman sitting on a bed', 'confide...   \n6613   zzxq2l  [{'text': 'a woman in a dress posing for a pic...   \n6614   zzy49v  [{'text': 'a bridge over a cliff with building...   \n\n                                         dense_captions   \n0     [{'text': 'a pier in the ocean', 'confidence':...  \\\n1     [{'text': 'a group of houses in a forest', 'co...   \n2     [{'text': 'a woman taking a selfie', 'confiden...   \n3     [{'text': 'a woman in a garment', 'confidence'...   \n4     [{'text': 'a group of trees in the fog', 'conf...   \n...                                                 ...   \n6610  [{'text': 'a woman in a blue garment', 'confid...   \n6611  [{'text': 'a roof of a building at night', 'co...   \n6612  [{'text': 'a woman sitting on a bed', 'confide...   \n6613  [{'text': 'a person wearing a necklace', 'conf...   \n6614  [{'text': 'a smoke coming out of a building', ...   \n\n                                   meta   \n0     [{'width': 4032, 'height': 3024}]  \\\n1      [{'width': 1200, 'height': 800}]   \n2     [{'width': 1468, 'height': 2608}]   \n3     [{'width': 1523, 'height': 2030}]   \n4     [{'width': 4032, 'height': 3024}]   \n...                                 ...   \n6610  [{'width': 2309, 'height': 2560}]   \n6611  [{'width': 1283, 'height': 1519}]   \n6612  [{'width': 1440, 'height': 1800}]   \n6613  [{'width': 1075, 'height': 1351}]   \n6614  [{'width': 1080, 'height': 1334}]   \n\n                                                   tags   \n0     [{'name': 'outdoor', 'confidence': 0.997430682...  \\\n1     [{'name': 'outdoor', 'confidence': 0.996889829...   \n2     [{'name': 'person', 'confidence': 0.9983580112...   \n3     [{'name': 'outdoor', 'confidence': 0.973955869...   \n4     [{'name': 'outdoor', 'confidence': 0.991929769...   \n...                                                 ...   \n6610  [{'name': 'person', 'confidence': 0.9933421611...   \n6611  [{'name': 'sky', 'confidence': 0.9703860282897...   \n6612  [{'name': 'person', 'confidence': 0.9989609718...   \n6613  [{'name': 'outdoor', 'confidence': 0.993963718...   \n6614  [{'name': 'outdoor', 'confidence': 0.995696663...   \n\n                                             smart_crop  \n0     [{'aspectRatio': 1.0, 'boundingBox': {'x': 619...  \n1     [{'aspectRatio': 1.0, 'boundingBox': {'x': 206...  \n2     [{'aspectRatio': 1.0, 'boundingBox': {'x': 0, ...  \n3     [{'aspectRatio': 1.0, 'boundingBox': {'x': 143...  \n4     [{'aspectRatio': 1.0, 'boundingBox': {'x': 206...  \n...                                                 ...  \n6610  [{'aspectRatio': 1.0, 'boundingBox': {'x': 0, ...  \n6611  [{'aspectRatio': 1.0, 'boundingBox': {'x': 30,...  \n6612  [{'aspectRatio': 1.0, 'boundingBox': {'x': 135...  \n6613  [{'aspectRatio': 1.0, 'boundingBox': {'x': 101...  \n6614  [{'aspectRatio': 1.0, 'boundingBox': {'x': 25,...  \n\n[6615 rows x 6 columns]",
      "text/html": "<div>\n<style scoped>\n    .dataframe tbody tr th:only-of-type {\n        vertical-align: middle;\n    }\n\n    .dataframe tbody tr th {\n        vertical-align: top;\n    }\n\n    .dataframe thead th {\n        text-align: right;\n    }\n</style>\n<table border=\"1\" class=\"dataframe\">\n  <thead>\n    <tr style=\"text-align: right;\">\n      <th></th>\n      <th>id</th>\n      <th>captions</th>\n      <th>dense_captions</th>\n      <th>meta</th>\n      <th>tags</th>\n      <th>smart_crop</th>\n    </tr>\n  </thead>\n  <tbody>\n    <tr>\n      <th>0</th>\n      <td>1002bsl</td>\n      <td>[{'text': 'a pier in the ocean', 'confidence':...</td>\n      <td>[{'text': 'a pier in the ocean', 'confidence':...</td>\n      <td>[{'width': 4032, 'height': 3024}]</td>\n      <td>[{'name': 'outdoor', 'confidence': 0.997430682...</td>\n      <td>[{'aspectRatio': 1.0, 'boundingBox': {'x': 619...</td>\n    </tr>\n    <tr>\n      <th>1</th>\n      <td>1002cgj</td>\n      <td>[{'text': 'a town in the mountains', 'confiden...</td>\n      <td>[{'text': 'a group of houses in a forest', 'co...</td>\n      <td>[{'width': 1200, 'height': 800}]</td>\n      <td>[{'name': 'outdoor', 'confidence': 0.996889829...</td>\n      <td>[{'aspectRatio': 1.0, 'boundingBox': {'x': 206...</td>\n    </tr>\n    <tr>\n      <th>2</th>\n      <td>1002cx2</td>\n      <td>[{'text': 'a woman taking a selfie', 'confiden...</td>\n      <td>[{'text': 'a woman taking a selfie', 'confiden...</td>\n      <td>[{'width': 1468, 'height': 2608}]</td>\n      <td>[{'name': 'person', 'confidence': 0.9983580112...</td>\n      <td>[{'aspectRatio': 1.0, 'boundingBox': {'x': 0, ...</td>\n    </tr>\n    <tr>\n      <th>3</th>\n      <td>1003dod</td>\n      <td>[{'text': 'a woman in a garment standing next ...</td>\n      <td>[{'text': 'a woman in a garment', 'confidence'...</td>\n      <td>[{'width': 1523, 'height': 2030}]</td>\n      <td>[{'name': 'outdoor', 'confidence': 0.973955869...</td>\n      <td>[{'aspectRatio': 1.0, 'boundingBox': {'x': 143...</td>\n    </tr>\n    <tr>\n      <th>4</th>\n      <td>10044wv</td>\n      <td>[{'text': 'a train on a bridge over a body of ...</td>\n      <td>[{'text': 'a group of trees in the fog', 'conf...</td>\n      <td>[{'width': 4032, 'height': 3024}]</td>\n      <td>[{'name': 'outdoor', 'confidence': 0.991929769...</td>\n      <td>[{'aspectRatio': 1.0, 'boundingBox': {'x': 206...</td>\n    </tr>\n    <tr>\n      <th>...</th>\n      <td>...</td>\n      <td>...</td>\n      <td>...</td>\n      <td>...</td>\n      <td>...</td>\n      <td>...</td>\n    </tr>\n    <tr>\n      <th>6610</th>\n      <td>zzu8i8</td>\n      <td>[{'text': 'a woman in a blue lingerie', 'confi...</td>\n      <td>[{'text': 'a woman in a blue garment', 'confid...</td>\n      <td>[{'width': 2309, 'height': 2560}]</td>\n      <td>[{'name': 'person', 'confidence': 0.9933421611...</td>\n      <td>[{'aspectRatio': 1.0, 'boundingBox': {'x': 0, ...</td>\n    </tr>\n    <tr>\n      <th>6611</th>\n      <td>zzv4hz</td>\n      <td>[{'text': 'a city with many buildings and a ro...</td>\n      <td>[{'text': 'a roof of a building at night', 'co...</td>\n      <td>[{'width': 1283, 'height': 1519}]</td>\n      <td>[{'name': 'sky', 'confidence': 0.9703860282897...</td>\n      <td>[{'aspectRatio': 1.0, 'boundingBox': {'x': 30,...</td>\n    </tr>\n    <tr>\n      <th>6612</th>\n      <td>zzvv3x</td>\n      <td>[{'text': 'a woman sitting on a bed', 'confide...</td>\n      <td>[{'text': 'a woman sitting on a bed', 'confide...</td>\n      <td>[{'width': 1440, 'height': 1800}]</td>\n      <td>[{'name': 'person', 'confidence': 0.9989609718...</td>\n      <td>[{'aspectRatio': 1.0, 'boundingBox': {'x': 135...</td>\n    </tr>\n    <tr>\n      <th>6613</th>\n      <td>zzxq2l</td>\n      <td>[{'text': 'a woman in a dress posing for a pic...</td>\n      <td>[{'text': 'a person wearing a necklace', 'conf...</td>\n      <td>[{'width': 1075, 'height': 1351}]</td>\n      <td>[{'name': 'outdoor', 'confidence': 0.993963718...</td>\n      <td>[{'aspectRatio': 1.0, 'boundingBox': {'x': 101...</td>\n    </tr>\n    <tr>\n      <th>6614</th>\n      <td>zzy49v</td>\n      <td>[{'text': 'a bridge over a cliff with building...</td>\n      <td>[{'text': 'a smoke coming out of a building', ...</td>\n      <td>[{'width': 1080, 'height': 1334}]</td>\n      <td>[{'name': 'outdoor', 'confidence': 0.995696663...</td>\n      <td>[{'aspectRatio': 1.0, 'boundingBox': {'x': 25,...</td>\n    </tr>\n  </tbody>\n</table>\n<p>6615 rows × 6 columns</p>\n</div>"
     },
     "metadata": {},
     "output_type": "display_data"
    },
    {
     "name": "stdout",
     "output_type": "stream",
     "text": [
      "CPU times: total: 1.47 s\n",
      "Wall time: 6.39 s\n"
     ]
    }
   ],
   "source": [
    "%%time\n",
    "\n",
    "all_data_from_captions = pandas.DataFrame(data=all_data)\n",
    "filtered_data_from_captions = pandas.DataFrame(data=filtered_data)\n",
    "\n",
    "display(all_data_from_captions)\n",
    "display(filtered_data_from_captions)\n",
    "\n",
    "all_data_from_captions.to_parquet(\"data/parquet/all_data_from_captions.parquet\", engine='pyarrow',\n",
    "\t\t\t\t\t\t\t\t  filesystem=file_system)\n",
    "\n",
    "filtered_data_from_captions.to_parquet(\"data/parquet/filtered_data_from_captions.parquet\", engine='pyarrow',\n",
    "\t\t\t\t\t\t\t\t\t   filesystem=file_system)"
   ],
   "metadata": {
    "collapsed": false,
    "ExecuteTime": {
     "end_time": "2023-05-21T18:43:15.149028400Z",
     "start_time": "2023-05-21T18:43:08.752527600Z"
    }
   }
  },
  {
   "cell_type": "code",
   "execution_count": 89,
   "outputs": [
    {
     "data": {
      "text/plain": "'== Updated With Basic Captions =='"
     },
     "metadata": {},
     "output_type": "display_data"
    },
    {
     "data": {
      "text/plain": "            id         subreddit           author   \n0      1013bdt          AmIhotAF      RaulDea9286  \\\n1      105mekt          AmIhotAF         lindaniz   \n2      105qvgl          AmIhotAF      CaitVLove11   \n3      105rpcj          AmIhotAF  Flashy-Desk1858   \n4      105styc          AmIhotAF     Gizzygirl127   \n...        ...               ...              ...   \n19899  13m6hv4      tightdresses   katiecooper4xo   \n19900  13mcqn4      tightdresses   GucciBagHolder   \n19901  13m91m2              DLAH   qwertybird3141   \n19902  13m6gm7  bathandbodyworks      unicornkenz   \n19903  13m7rxh  bathandbodyworks      baby-pink12   \n\n                                                title   \n0                                       36F - ITALIAN  \\\n1      interesting in good forward relationship (f24)   \n2                           Laughing is my favorite 😆   \n3            [f22] What do you think when you see me?   \n4                            Low key… still bangable?   \n...                                               ...   \n19899                           Bringing tartan back!   \n19900                                          Blonde   \n19901                                    College grad   \n19902                                     Candle Sale   \n19903                   Obsessed is an understatement   \n\n                                                 caption   \n0                arafed image of a woman in a bikini top  \\\n1      a close up of a woman with red hair and a whit...   \n2      a woman in a blue tank top and shorts is smili...   \n3        a woman in a blue bikini top and a blue bra top   \n4      smiling woman sitting on couch with remote con...   \n...                                                  ...   \n19899  arafed woman in a plaid dress posing for a pic...   \n19900  a close up of a woman in a white dress posing ...   \n19901  arafed woman standing on steps with a red and ...   \n19902                      bath and body works coup coup   \n19903  there are two bottles of body lotion sitting o...   \n\n                                   hash   \n0      7c0d158cba8654ef1c635cbc5471d597  \\\n1      ba4a0962cca2266a741e1e1700589c04   \n2      27bfe82c37314a0bcf02ab72eaf3a9e5   \n3      329eb42b8267fa1cc2980da8e48bcef1   \n4      6d555943be4fbc21ff92417c6f582298   \n...                                 ...   \n19899  9501d5f34d0748f58eb3caba7ce1641c   \n19900  70b0eff895fd87d368cb1f53af9a7f3c   \n19901  adcbd61b5e37c5e048cb6907eca21bfe   \n19902  47a78b117b59b636fa22093ec4f29bd7   \n19903  412ae5c6fabc3f1594ace642e20b7231   \n\n                                               permalink   \n0              /r/AmIhotAF/comments/1013bdt/36f_italian/  \\\n1      /r/AmIhotAF/comments/105mekt/interesting_in_go...   \n2      /r/AmIhotAF/comments/105qvgl/laughing_is_my_fa...   \n3      /r/AmIhotAF/comments/105rpcj/f22_what_do_you_t...   \n4      /r/AmIhotAF/comments/105styc/low_key_still_ban...   \n...                                                  ...   \n19899  /r/tightdresses/comments/13m6hv4/bringing_tart...   \n19900           /r/tightdresses/comments/13mcqn4/blonde/   \n19901             /r/DLAH/comments/13m91m2/college_grad/   \n19902  /r/bathandbodyworks/comments/13m6gm7/candle_sale/   \n19903  /r/bathandbodyworks/comments/13m7rxh/obsessed_...   \n\n                              original_url   image_name   \n0      https://i.redd.it/bg0wwdlt5k9a1.jpg  1013bdt.jpg  \\\n1      https://i.redd.it/4avjshsz8naa1.jpg  105mekt.jpg   \n2      https://i.redd.it/2pulzr0lxmaa1.jpg  105qvgl.jpg   \n3      https://i.redd.it/rz68pf934naa1.jpg  105rpcj.jpg   \n4      https://i.redd.it/aiaxxoz9uoaa1.jpg  105styc.jpg   \n...                                    ...          ...   \n19899  https://i.redd.it/8nx1kv7o0w0b1.jpg  13m6hv4.jpg   \n19900  https://i.redd.it/6ojq4wtl9x0b1.jpg  13mcqn4.jpg   \n19901  https://i.redd.it/skv5m0jwiw0b1.jpg  13m91m2.jpg   \n19902  https://i.redd.it/h321gmgf0w0b1.jpg  13m6gm7.jpg   \n19903  https://i.redd.it/xv6tjhpp9w0b1.jpg  13m7rxh.jpg   \n\n                         path                model  exists  curated  accept   \n0      data/image/1013bdt.jpg        SexyDiffusion    True     True    True  \\\n1      data/image/105mekt.jpg        SexyDiffusion    True     True    True   \n2      data/image/105qvgl.jpg        SexyDiffusion    True     True    True   \n3      data/image/105rpcj.jpg        SexyDiffusion    True     True    True   \n4      data/image/105styc.jpg        SexyDiffusion    True     True    True   \n...                       ...                  ...     ...      ...     ...   \n19899  data/image/13m6hv4.jpg  PrettyGirlDiffusion    True     True    True   \n19900  data/image/13mcqn4.jpg  PrettyGirlDiffusion    True     True    True   \n19901  data/image/13m91m2.jpg  PrettyGirlDiffusion    True     True    True   \n19902  data/image/13m6gm7.jpg      CandleDiffusion    True     True    True   \n19903  data/image/13m7rxh.jpg      CandleDiffusion    True     True    True   \n\n                                                    tags   \n0      [person, human face, clothing, lady, smile, ch...  \\\n1      [person, human face, skin, eyelash, eyebrow, b...   \n2      [clothing, person, human face, smile, shoulder...   \n3      [person, human face, indoor, clothing, woman, ...   \n4      [person, human face, smile, clothing, woman, i...   \n...                                                  ...   \n19899                                                 []   \n19900                                                 []   \n19901                                                 []   \n19902                                                 []   \n19903                                                 []   \n\n                   azure_caption thumbnail_path thumbnail_exists   \n0        a woman taking a selfie                           False  \\\n1        a woman taking a selfie                           False   \n2      a woman smiling at camera                           False   \n3        a woman taking a selfie                           False   \n4        a woman taking a selfie                           False   \n...                          ...            ...              ...   \n19899                                                      False   \n19900                                                      False   \n19901                                                      False   \n19902                                                      False   \n19903                                                      False   \n\n      thumbnail_curated thumbnail_accept  \n0                 False            False  \n1                 False            False  \n2                 False            False  \n3                 False            False  \n4                 False            False  \n...                 ...              ...  \n19899             False            False  \n19900             False            False  \n19901             False            False  \n19902             False            False  \n19903             False            False  \n\n[19904 rows x 20 columns]",
      "text/html": "<div>\n<style scoped>\n    .dataframe tbody tr th:only-of-type {\n        vertical-align: middle;\n    }\n\n    .dataframe tbody tr th {\n        vertical-align: top;\n    }\n\n    .dataframe thead th {\n        text-align: right;\n    }\n</style>\n<table border=\"1\" class=\"dataframe\">\n  <thead>\n    <tr style=\"text-align: right;\">\n      <th></th>\n      <th>id</th>\n      <th>subreddit</th>\n      <th>author</th>\n      <th>title</th>\n      <th>caption</th>\n      <th>hash</th>\n      <th>permalink</th>\n      <th>original_url</th>\n      <th>image_name</th>\n      <th>path</th>\n      <th>model</th>\n      <th>exists</th>\n      <th>curated</th>\n      <th>accept</th>\n      <th>tags</th>\n      <th>azure_caption</th>\n      <th>thumbnail_path</th>\n      <th>thumbnail_exists</th>\n      <th>thumbnail_curated</th>\n      <th>thumbnail_accept</th>\n    </tr>\n  </thead>\n  <tbody>\n    <tr>\n      <th>0</th>\n      <td>1013bdt</td>\n      <td>AmIhotAF</td>\n      <td>RaulDea9286</td>\n      <td>36F - ITALIAN</td>\n      <td>arafed image of a woman in a bikini top</td>\n      <td>7c0d158cba8654ef1c635cbc5471d597</td>\n      <td>/r/AmIhotAF/comments/1013bdt/36f_italian/</td>\n      <td>https://i.redd.it/bg0wwdlt5k9a1.jpg</td>\n      <td>1013bdt.jpg</td>\n      <td>data/image/1013bdt.jpg</td>\n      <td>SexyDiffusion</td>\n      <td>True</td>\n      <td>True</td>\n      <td>True</td>\n      <td>[person, human face, clothing, lady, smile, ch...</td>\n      <td>a woman taking a selfie</td>\n      <td></td>\n      <td>False</td>\n      <td>False</td>\n      <td>False</td>\n    </tr>\n    <tr>\n      <th>1</th>\n      <td>105mekt</td>\n      <td>AmIhotAF</td>\n      <td>lindaniz</td>\n      <td>interesting in good forward relationship (f24)</td>\n      <td>a close up of a woman with red hair and a whit...</td>\n      <td>ba4a0962cca2266a741e1e1700589c04</td>\n      <td>/r/AmIhotAF/comments/105mekt/interesting_in_go...</td>\n      <td>https://i.redd.it/4avjshsz8naa1.jpg</td>\n      <td>105mekt.jpg</td>\n      <td>data/image/105mekt.jpg</td>\n      <td>SexyDiffusion</td>\n      <td>True</td>\n      <td>True</td>\n      <td>True</td>\n      <td>[person, human face, skin, eyelash, eyebrow, b...</td>\n      <td>a woman taking a selfie</td>\n      <td></td>\n      <td>False</td>\n      <td>False</td>\n      <td>False</td>\n    </tr>\n    <tr>\n      <th>2</th>\n      <td>105qvgl</td>\n      <td>AmIhotAF</td>\n      <td>CaitVLove11</td>\n      <td>Laughing is my favorite 😆</td>\n      <td>a woman in a blue tank top and shorts is smili...</td>\n      <td>27bfe82c37314a0bcf02ab72eaf3a9e5</td>\n      <td>/r/AmIhotAF/comments/105qvgl/laughing_is_my_fa...</td>\n      <td>https://i.redd.it/2pulzr0lxmaa1.jpg</td>\n      <td>105qvgl.jpg</td>\n      <td>data/image/105qvgl.jpg</td>\n      <td>SexyDiffusion</td>\n      <td>True</td>\n      <td>True</td>\n      <td>True</td>\n      <td>[clothing, person, human face, smile, shoulder...</td>\n      <td>a woman smiling at camera</td>\n      <td></td>\n      <td>False</td>\n      <td>False</td>\n      <td>False</td>\n    </tr>\n    <tr>\n      <th>3</th>\n      <td>105rpcj</td>\n      <td>AmIhotAF</td>\n      <td>Flashy-Desk1858</td>\n      <td>[f22] What do you think when you see me?</td>\n      <td>a woman in a blue bikini top and a blue bra top</td>\n      <td>329eb42b8267fa1cc2980da8e48bcef1</td>\n      <td>/r/AmIhotAF/comments/105rpcj/f22_what_do_you_t...</td>\n      <td>https://i.redd.it/rz68pf934naa1.jpg</td>\n      <td>105rpcj.jpg</td>\n      <td>data/image/105rpcj.jpg</td>\n      <td>SexyDiffusion</td>\n      <td>True</td>\n      <td>True</td>\n      <td>True</td>\n      <td>[person, human face, indoor, clothing, woman, ...</td>\n      <td>a woman taking a selfie</td>\n      <td></td>\n      <td>False</td>\n      <td>False</td>\n      <td>False</td>\n    </tr>\n    <tr>\n      <th>4</th>\n      <td>105styc</td>\n      <td>AmIhotAF</td>\n      <td>Gizzygirl127</td>\n      <td>Low key… still bangable?</td>\n      <td>smiling woman sitting on couch with remote con...</td>\n      <td>6d555943be4fbc21ff92417c6f582298</td>\n      <td>/r/AmIhotAF/comments/105styc/low_key_still_ban...</td>\n      <td>https://i.redd.it/aiaxxoz9uoaa1.jpg</td>\n      <td>105styc.jpg</td>\n      <td>data/image/105styc.jpg</td>\n      <td>SexyDiffusion</td>\n      <td>True</td>\n      <td>True</td>\n      <td>True</td>\n      <td>[person, human face, smile, clothing, woman, i...</td>\n      <td>a woman taking a selfie</td>\n      <td></td>\n      <td>False</td>\n      <td>False</td>\n      <td>False</td>\n    </tr>\n    <tr>\n      <th>...</th>\n      <td>...</td>\n      <td>...</td>\n      <td>...</td>\n      <td>...</td>\n      <td>...</td>\n      <td>...</td>\n      <td>...</td>\n      <td>...</td>\n      <td>...</td>\n      <td>...</td>\n      <td>...</td>\n      <td>...</td>\n      <td>...</td>\n      <td>...</td>\n      <td>...</td>\n      <td>...</td>\n      <td>...</td>\n      <td>...</td>\n      <td>...</td>\n      <td>...</td>\n    </tr>\n    <tr>\n      <th>19899</th>\n      <td>13m6hv4</td>\n      <td>tightdresses</td>\n      <td>katiecooper4xo</td>\n      <td>Bringing tartan back!</td>\n      <td>arafed woman in a plaid dress posing for a pic...</td>\n      <td>9501d5f34d0748f58eb3caba7ce1641c</td>\n      <td>/r/tightdresses/comments/13m6hv4/bringing_tart...</td>\n      <td>https://i.redd.it/8nx1kv7o0w0b1.jpg</td>\n      <td>13m6hv4.jpg</td>\n      <td>data/image/13m6hv4.jpg</td>\n      <td>PrettyGirlDiffusion</td>\n      <td>True</td>\n      <td>True</td>\n      <td>True</td>\n      <td>[]</td>\n      <td></td>\n      <td></td>\n      <td>False</td>\n      <td>False</td>\n      <td>False</td>\n    </tr>\n    <tr>\n      <th>19900</th>\n      <td>13mcqn4</td>\n      <td>tightdresses</td>\n      <td>GucciBagHolder</td>\n      <td>Blonde</td>\n      <td>a close up of a woman in a white dress posing ...</td>\n      <td>70b0eff895fd87d368cb1f53af9a7f3c</td>\n      <td>/r/tightdresses/comments/13mcqn4/blonde/</td>\n      <td>https://i.redd.it/6ojq4wtl9x0b1.jpg</td>\n      <td>13mcqn4.jpg</td>\n      <td>data/image/13mcqn4.jpg</td>\n      <td>PrettyGirlDiffusion</td>\n      <td>True</td>\n      <td>True</td>\n      <td>True</td>\n      <td>[]</td>\n      <td></td>\n      <td></td>\n      <td>False</td>\n      <td>False</td>\n      <td>False</td>\n    </tr>\n    <tr>\n      <th>19901</th>\n      <td>13m91m2</td>\n      <td>DLAH</td>\n      <td>qwertybird3141</td>\n      <td>College grad</td>\n      <td>arafed woman standing on steps with a red and ...</td>\n      <td>adcbd61b5e37c5e048cb6907eca21bfe</td>\n      <td>/r/DLAH/comments/13m91m2/college_grad/</td>\n      <td>https://i.redd.it/skv5m0jwiw0b1.jpg</td>\n      <td>13m91m2.jpg</td>\n      <td>data/image/13m91m2.jpg</td>\n      <td>PrettyGirlDiffusion</td>\n      <td>True</td>\n      <td>True</td>\n      <td>True</td>\n      <td>[]</td>\n      <td></td>\n      <td></td>\n      <td>False</td>\n      <td>False</td>\n      <td>False</td>\n    </tr>\n    <tr>\n      <th>19902</th>\n      <td>13m6gm7</td>\n      <td>bathandbodyworks</td>\n      <td>unicornkenz</td>\n      <td>Candle Sale</td>\n      <td>bath and body works coup coup</td>\n      <td>47a78b117b59b636fa22093ec4f29bd7</td>\n      <td>/r/bathandbodyworks/comments/13m6gm7/candle_sale/</td>\n      <td>https://i.redd.it/h321gmgf0w0b1.jpg</td>\n      <td>13m6gm7.jpg</td>\n      <td>data/image/13m6gm7.jpg</td>\n      <td>CandleDiffusion</td>\n      <td>True</td>\n      <td>True</td>\n      <td>True</td>\n      <td>[]</td>\n      <td></td>\n      <td></td>\n      <td>False</td>\n      <td>False</td>\n      <td>False</td>\n    </tr>\n    <tr>\n      <th>19903</th>\n      <td>13m7rxh</td>\n      <td>bathandbodyworks</td>\n      <td>baby-pink12</td>\n      <td>Obsessed is an understatement</td>\n      <td>there are two bottles of body lotion sitting o...</td>\n      <td>412ae5c6fabc3f1594ace642e20b7231</td>\n      <td>/r/bathandbodyworks/comments/13m7rxh/obsessed_...</td>\n      <td>https://i.redd.it/xv6tjhpp9w0b1.jpg</td>\n      <td>13m7rxh.jpg</td>\n      <td>data/image/13m7rxh.jpg</td>\n      <td>CandleDiffusion</td>\n      <td>True</td>\n      <td>True</td>\n      <td>True</td>\n      <td>[]</td>\n      <td></td>\n      <td></td>\n      <td>False</td>\n      <td>False</td>\n      <td>False</td>\n    </tr>\n  </tbody>\n</table>\n<p>19904 rows × 20 columns</p>\n</div>"
     },
     "metadata": {},
     "output_type": "display_data"
    }
   ],
   "source": [
    "single_caption_data = pandas.DataFrame(\n",
    "\t{\n",
    "\t\t'id': all_data_from_captions['id'],\n",
    "\t\t'azure_caption': [item['text'] for item in all_data_from_captions['captionResult']],\n",
    "\t\t'tags': [[foo['name'] for foo in item['values']] for item in all_data_from_captions['tagsResult']]\n",
    "\t})\n",
    "\n",
    "\n",
    "single_caption_data_indexed = single_caption_data.set_index(\"id\")\n",
    "\n",
    "accepted_indexed = accepted.set_index(\"id\")\n",
    "\n",
    "for index, row in accepted_indexed.iterrows():\n",
    "\taccepted_indexed.at[index, 'azure_caption'] = \"\"\n",
    "\taccepted_indexed.at[index, 'thumbnail_path'] = \"\"\n",
    "\taccepted_indexed.at[index, 'thumbnail_exists'] = False\n",
    "\taccepted_indexed.at[index, 'thumbnail_curated'] = False\n",
    "\taccepted_indexed.at[index, 'thumbnail_accept'] = False\n",
    "\n",
    "accepted_indexed.update(single_caption_data_indexed)\n",
    "\n",
    "accepted_final = accepted_indexed.reset_index()\n",
    "\n",
    "display(\"== Updated With Basic Captions ==\")\n",
    "display(accepted_final)"
   ],
   "metadata": {
    "collapsed": false,
    "ExecuteTime": {
     "end_time": "2023-05-21T19:18:39.085686300Z",
     "start_time": "2023-05-21T19:18:35.980279900Z"
    }
   }
  },
  {
   "cell_type": "code",
   "execution_count": 92,
   "outputs": [],
   "source": [
    "accepted_final.to_parquet(\"data/parquet/curation_2.parquet\", engine='pyarrow', filesystem=file_system, schema=tagging_schema)\n",
    "del accepted_final\n",
    "accepted_final = pandas.read_parquet(\"data/parquet/curation_2.parquet\", engine='pyarrow', filesystem=file_system, schema=tagging_schema)\n",
    "display(accepted_final)"
   ],
   "metadata": {
    "collapsed": false,
    "ExecuteTime": {
     "end_time": "2023-05-21T19:21:06.383816900Z",
     "start_time": "2023-05-21T19:21:04.659230600Z"
    }
   }
  },
  {
   "cell_type": "code",
   "execution_count": null,
   "outputs": [],
   "source": [
    "# TODO Get dataframe for crops"
   ],
   "metadata": {
    "collapsed": false
   }
  },
  {
   "cell_type": "code",
   "execution_count": 37,
   "outputs": [],
   "source": [
    "import os\n",
    "\n",
    "def create_thumbnail(_image_id: str, _curated_df: pandas.DataFrame, _crops: pandas.DataFrame, _extant_file_names: list):\n",
    "\t_file_system: AzureBlobFileSystem = AzureFileStorageAdapter('data').get_file_storage()\n",
    "\tout_path = f\"data/image/thumbnail/{_image_id}.jpg\"\n",
    "\ttry:\n",
    "\t\tif _image_id is None or _image_id in _extant_file_names:\n",
    "\t\t\tdisplay(f'Image {_image_id} already exists, skipping', clear=True)\n",
    "\t\t\treturn out_path\n",
    "\n",
    "\t\tcropping_information = _crops.loc[_crops['id'] == _image_id]\n",
    "\t\tif cropping_information is None or len(cropping_information) == 0:\n",
    "\t\t\tdisplay(f'No cropping information for {_image_id}, skipping', clear=True)\n",
    "\t\t\treturn \"\"\n",
    "\n",
    "\t\trecord = _curated_df.loc[_curated_df['id'] == _image_id]\n",
    "\t\trecord_path = record.to_dict(orient='records')[0]['path']\n",
    "\t\timage_url = file_system.url(record_path)\n",
    "\t\toriginal_image = Image.open(requests.get(image_url, stream=True).raw)\n",
    "\t\tcopied_image = original_image.copy()\n",
    "\t\toriginal_image.close()\n",
    "\n",
    "\t\tcropped = copied_image.crop((cropping_information['smart_crop_boundingBox.x'].values[0],\n",
    "\t\t\t\t\t\t\t\t\t cropping_information['smart_crop_boundingBox.y'].values[0],\n",
    "\t\t\t\t\t\t\t\t\t cropping_information['smart_crop_boundingBox.x'].values[0] +\n",
    "\t\t\t\t\t\t\t\t\t cropping_information['smart_crop_boundingBox.w'].values[0],\n",
    "\t\t\t\t\t\t\t\t\t cropping_information['smart_crop_boundingBox.y'].values[0] +\n",
    "\t\t\t\t\t\t\t\t\t cropping_information['smart_crop_boundingBox.h'].values[0]))\n",
    "\t\tcopied_image.close()\n",
    "\n",
    "\t\tresized = cropped.resize((512, 512), 1)\n",
    "\t\tresized.save('temp.jpg')\n",
    "\t\tresized.close()\n",
    "\t\tfile_system.upload('temp.jpg', out_path, overwrite=True)\n",
    "\t\tdisplay(f'Thumbnail created for {_image_id}', clear=True)\n",
    "\t\treturn out_path\n",
    "\n",
    "\texcept Exception as ex:\n",
    "\t\tdisplay(f'Error creating thumbnail for {_image_id}: {ex}', clear=True)\n",
    "\t\treturn \"\""
   ],
   "metadata": {
    "collapsed": false
   }
  },
  {
   "cell_type": "code",
   "execution_count": null,
   "outputs": [],
   "source": [
    "records = d.to_dict(orient='records')\n",
    "\n",
    "for elem in tqdm(records, len(records)):\n",
    "\tcreate_thumbnail(elem['id'], d, )"
   ],
   "metadata": {
    "collapsed": false
   }
  },
  {
   "cell_type": "code",
   "execution_count": null,
   "outputs": [],
   "source": [
    "!jupyter notebook stop"
   ],
   "metadata": {
    "collapsed": false
   }
  }
 ],
 "metadata": {
  "kernelspec": {
   "display_name": "Python 3",
   "language": "python",
   "name": "python3"
  },
  "language_info": {
   "codemirror_mode": {
    "name": "ipython",
    "version": 2
   },
   "file_extension": ".py",
   "mimetype": "text/x-python",
   "name": "python",
   "nbconvert_exporter": "python",
   "pygments_lexer": "ipython2",
   "version": "2.7.6"
  }
 },
 "nbformat": 4,
 "nbformat_minor": 0
}
