{
 "cells": [
  {
   "cell_type": "code",
   "execution_count": null,
   "outputs": [],
   "source": [
    "# @title Import Dependencies\n",
    "\n",
    "import time\n",
    "import hashlib\n",
    "import os\n",
    "from datetime import datetime\n",
    "from io import BytesIO\n",
    "import random\n",
    "import pyarrow\n",
    "import requests\n",
    "from PIL import Image\n",
    "import os\n",
    "import datetime as dt\n",
    "import os\n",
    "from datetime import datetime\n",
    "import pandas\n",
    "import pandas as pd\n",
    "import praw\n",
    "from praw.models import ListingGenerator\n",
    "from tqdm import tqdm\n",
    "from adlfs import AzureBlobFileSystem\n",
    "import os\n",
    "import hashlib\n",
    "import os\n",
    "from datetime import datetime\n",
    "from io import BytesIO\n",
    "import random\n",
    "\n",
    "import requests\n",
    "from PIL import Image\n"
   ],
   "metadata": {
    "collapsed": false
   }
  },
  {
   "cell_type": "code",
   "execution_count": null,
   "outputs": [],
   "source": [
    "# @title Initialize Secrets\n",
    "\n",
    "os.environ[\"AZURE_STORAGE_ACCOUNT_NAME\"] = \"ajdevreddit\"\n",
    "\n",
    "os.environ[\n",
    "\t\"AZURE_STORAGE_ACCOUNT_KEY\"] = \"+9066TCgdeVignRdy50G4qjmNoUJuibl9ERiTGzdV4fwkvgdV3aSVqgLwldgZxj/UpKLkkfXg+3k+AStjFI33Q==\"\n",
    "\n",
    "os.environ[\n",
    "\t\"AZURE_STORE_ACCOUNT_KEY\"] = \"+9066TCgdeVignRdy50G4qjmNoUJuibl9ERiTGzdV4fwkvgdV3aSVqgLwldgZxj/UpKLkkfXg+3k+AStjFI33Q==\""
   ],
   "metadata": {
    "collapsed": false
   }
  },
  {
   "cell_type": "code",
   "execution_count": null,
   "outputs": [],
   "source": [
    "# @title File SYstem\n",
    "\n",
    "class AzureFileStorageAdapter(object):\n",
    "\tdef __init__(self, container_name: str = \"data\"):\n",
    "\t\tself.__account_name: str = os.environ[\"AZURE_STORAGE_ACCOUNT_NAME\"]\n",
    "\t\tself.__account_key: str = os.environ[\"AZURE_STORAGE_ACCOUNT_KEY\"]\n",
    "\t\tself.container_name: str = container_name\n",
    "\n",
    "\tdef get_file_storage(self) -> AzureBlobFileSystem:\n",
    "\t\treturn AzureBlobFileSystem(\n",
    "\t\t\taccount_name=self.__account_name,\n",
    "\t\t\taccount_key=self.__account_key,\n",
    "\t\t\tcontainer_name=self.container_name)\n",
    "\n",
    "\tdef get_file_storage_root(self) -> AzureBlobFileSystem:\n",
    "\t\treturn AzureBlobFileSystem(account_name=self.__account_name, account_key=self.__account_key,\n",
    "\t\t\t\t\t\t\t\t   container_name=self.container_name)"
   ],
   "metadata": {
    "collapsed": false
   }
  },
  {
   "cell_type": "code",
   "execution_count": null,
   "outputs": [],
   "source": [
    "# @title Get Schema for Curation\n",
    "\n",
    "tagging_schema = pyarrow.schema(\n",
    "\t[\n",
    "\t\tpyarrow.field(\"id\", pyarrow.string()),\n",
    "\t\tpyarrow.field(\"subreddit\", pyarrow.string()),\n",
    "\t\tpyarrow.field(\"author\", pyarrow.string()),\n",
    "\t\tpyarrow.field(\"title\", pyarrow.string()),\n",
    "\t\tpyarrow.field(\"caption\", pyarrow.string()),\n",
    "\t\tpyarrow.field(\"hash\", pyarrow.string()),\n",
    "\t\tpyarrow.field(\"permalink\", pyarrow.string()),\n",
    "\t\tpyarrow.field(\"original_url\", pyarrow.string()),\n",
    "\t\tpyarrow.field(\"image_name\", pyarrow.string()),\n",
    "\t\tpyarrow.field(\"path\", pyarrow.string()),\n",
    "\t\tpyarrow.field(\"model\", pyarrow.string()),\n",
    "\t\tpyarrow.field(\"exists\", pyarrow.bool_()),\n",
    "\t\tpyarrow.field(\"curated\", pyarrow.bool_()),\n",
    "\t\tpyarrow.field(\"accept\", pyarrow.bool_()),\n",
    "\t\tpyarrow.field(\"tags\", pyarrow.list_(pyarrow.string())),\n",
    "\t\tpyarrow.field(\"azure_caption\", pyarrow.string()),\n",
    "\t\tpyarrow.field(\"thumbnail_path\", pyarrow.string()),\n",
    "\t\tpyarrow.field(\"thumbnail_exists\", pyarrow.bool_()),\n",
    "\t\tpyarrow.field(\"thumbnail_curated\", pyarrow.bool_()),\n",
    "\t\tpyarrow.field(\"thumbnail_accept\", pyarrow.bool_()),\n",
    "\t\tpyarrow.field(\"additional_captions\", pyarrow.list_(pyarrow.string())),\n",
    "\t]\n",
    ")"
   ],
   "metadata": {
    "collapsed": false
   }
  },
  {
   "cell_type": "code",
   "execution_count": null,
   "outputs": [],
   "source": [
    "# @title Initialize\n",
    "\n",
    "tqdm.pandas(desc=\"Progress\")\n",
    "\n",
    "file_system: AzureBlobFileSystem = AzureFileStorageAdapter('data').get_file_storage()"
   ],
   "metadata": {
    "collapsed": false
   }
  },
  {
   "cell_type": "code",
   "execution_count": null,
   "outputs": [],
   "source": [
    "# @title Read in thumbnail_curation\n",
    "\n",
    "thumbnail_curation = pandas.read_parquet(\"data/parquet/thumbnail_curation.parquet\", engine='pyarrow',\n",
    "\t\t\t\t\t\t\t\t\t\t filesystem=file_system, schema=tagging_schema)\n",
    "\n",
    "display(thumbnail_curation)"
   ],
   "metadata": {
    "collapsed": false
   }
  },
  {
   "cell_type": "code",
   "execution_count": null,
   "outputs": [],
   "source": [
    "# @title all_data_from_captions and filtered_data_from_captions\n",
    "\n",
    "all_data_from_captions = pandas.read_parquet(\"data/parquet/all_data_from_captions.parquet\", engine='pyarrow',\n",
    "\t\t\t\t\t\t\t\t\t\t\t filesystem=file_system)\n",
    "all_data_from_captions.set_index('id', inplace=True, drop=False)\n",
    "\n",
    "filtered_data_from_captions = pandas.read_parquet(\"data/parquet/filtered_data_from_captions.parquet\", engine='pyarrow',\n",
    "\t\t\t\t\t\t\t\t\t\t\t\t  filesystem=file_system)\n",
    "filtered_data_from_captions.set_index('id', inplace=True, drop=False)\n",
    "\n",
    "display(all_data_from_captions)\n",
    "display(filtered_data_from_captions)"
   ],
   "metadata": {
    "collapsed": false
   }
  },
  {
   "cell_type": "code",
   "execution_count": null,
   "outputs": [],
   "source": [
    "# @title Get Caption Files\n",
    "\n",
    "import json\n",
    "\n",
    "display(\"=== Obtaining Caption Files List ===\")\n",
    "current_captions = file_system.ls(\"data/caption\")\n",
    "display(f\"current caption files: {len(current_captions)}\")\n",
    "\n",
    "all_data = []\n",
    "filtered_data = []\n",
    "\n",
    "for caption_file in tqdm(current_captions, total=len(current_captions), desc='Reading caption files'):\n",
    "\timage_id = caption_file.split('/')[-1].split('.')[0]\n",
    "\tif image_id in all_data_from_captions['id'].values or image_id in filtered_data_from_captions['id'].values:\n",
    "\t\tcontinue\n",
    "\ttry:\n",
    "\t\tfile_size = file_system.size(caption_file)\n",
    "\t\tif file_size == 0:\n",
    "\t\t\tdisplay(f'Empty file -- removing {image_id}', clear=True)\n",
    "\t\t\tfile_system.rm(caption_file)\n",
    "\t\t\tcontinue\n",
    "\t\tcaption_data = json.loads(file_system.read_text(caption_file, encoding='utf-8'))\n",
    "\t\tcaption_data[\"id\"] = image_id\n",
    "\t\tdense_caption_result = caption_data.get('denseCaptionsResult')\n",
    "\t\tmetadata = caption_data.get('metadata')\n",
    "\t\ttags_result = caption_data.get('tagsResult')\n",
    "\t\tsmart_crop_result = caption_data.get('smartCropsResult')\n",
    "\t\tbasic_caption = caption_data.get('captionResult')\n",
    "\t\t_filtered_data = {\n",
    "\t\t\t\"id\": image_id,\n",
    "\t\t\t\"captions\": [basic_caption],\n",
    "\t\t\t\"dense_captions\": dense_caption_result['values'],\n",
    "\t\t\t\"meta\": [metadata],\n",
    "\t\t\t\"tags\": tags_result['values'],\n",
    "\t\t\t\"smart_crop\": smart_crop_result['values']\n",
    "\t\t}\n",
    "\t\tall_data.append(caption_data)\n",
    "\t\tfiltered_data.append(_filtered_data)\n",
    "\texcept Exception as e:\n",
    "\t\tdisplay(f\" Exception {e} for {image_id}\", clear=True)\n",
    "\t\tcontinue"
   ],
   "metadata": {
    "collapsed": false
   }
  },
  {
   "cell_type": "code",
   "execution_count": null,
   "outputs": [],
   "source": [
    "# @title Get new captions\n",
    "\n",
    "new_all_data_from_captions = pandas.DataFrame(data=all_data)\n",
    "\n",
    "new_filtered_data_from_captions = pandas.DataFrame(data=filtered_data)\n",
    "\n",
    "display(new_all_data_from_captions)\n",
    "\n",
    "display(new_filtered_data_from_captions)\n",
    "\n",
    "combined_new_all_data_from_captions = pandas.concat([all_data_from_captions, new_all_data_from_captions])\n",
    "combined_new_all_data_from_captions.dropna(axis=1, how='all', inplace=True)\n",
    "combined_new_all_data_from_captions.reset_index(drop=True, inplace=True)\n",
    "\n",
    "combined_new_filtered_data_from_captions = pandas.concat([filtered_data_from_captions, new_filtered_data_from_captions])\n",
    "combined_new_filtered_data_from_captions.dropna(axis=1, how='all', inplace=True)\n",
    "combined_new_filtered_data_from_captions.reset_index(drop=True, inplace=True)\n",
    "\n",
    "display(combined_new_all_data_from_captions)\n",
    "display(combined_new_filtered_data_from_captions)\n",
    "\n",
    "combined_new_all_data_from_captions.to_parquet(\"data/parquet/all_data_from_captions.parquet\", engine='pyarrow',\n",
    "\t\t\t\t\t\t\t\t\t\t\t   filesystem=file_system)\n",
    "\n",
    "combined_new_filtered_data_from_captions.to_parquet(\"data/parquet/filtered_data_from_captions.parquet\",\n",
    "\t\t\t\t\t\t\t\t\t\t\t\t\tengine='pyarrow', filesystem=file_system)"
   ],
   "metadata": {
    "collapsed": false
   }
  },
  {
   "cell_type": "code",
   "execution_count": null,
   "outputs": [],
   "source": [
    "# @title all_data_from_captions and filtered_data_from_captions\n",
    "\n",
    "all_data_from_captions = pandas.read_parquet(\"data/parquet/all_data_from_captions.parquet\", engine='pyarrow',\n",
    "\t\t\t\t\t\t\t\t\t\t\t filesystem=file_system)\n",
    "display(all_data_from_captions)\n",
    "\n",
    "filtered_data_from_captions = pandas.read_parquet(\"data/parquet/filtered_data_from_captions.parquet\", engine='pyarrow',\n",
    "\t\t\t\t\t\t\t\t\t\t\t\t  filesystem=file_system)\n",
    "\n",
    "display(filtered_data_from_captions)"
   ],
   "metadata": {
    "collapsed": false
   }
  },
  {
   "cell_type": "code",
   "execution_count": null,
   "outputs": [],
   "source": [
    "# @title tags\n",
    "\n",
    "tags = pandas.DataFrame({'id': filtered_data_from_captions.id, 'tags': filtered_data_from_captions.tags})\n",
    "out = []\n",
    "for i, r in tqdm(tags.iterrows(), total=len(tags)):\n",
    "\tif r['tags'] is None:\n",
    "\t\tcontinue\n",
    "\ttag = pandas.json_normalize(r['tags'])\n",
    "\ttag['id'] = r['id']\n",
    "\td = tag.to_dict(orient='records')\n",
    "\tout.extend(d)\n",
    "converted_tags = pandas.DataFrame(data=out)\n",
    "display(converted_tags)\n",
    "converted_tags.to_parquet(\"data/parquet/tags.parquet\", engine='pyarrow', filesystem=file_system)"
   ],
   "metadata": {
    "collapsed": false
   }
  },
  {
   "cell_type": "code",
   "execution_count": null,
   "outputs": [],
   "source": [
    "# @title dense_captions\n",
    "\n",
    "dense = pandas.DataFrame(\n",
    "\t{'id': filtered_data_from_captions.id, 'dense_captions': filtered_data_from_captions.dense_captions})\n",
    "\n",
    "out = []\n",
    "for i, r in tqdm(dense.iterrows(), total=len(dense)):\n",
    "\tif r['dense_captions'] is None:\n",
    "\t\tcontinue\n",
    "\tdense_caption = pandas.json_normalize(r['dense_captions'])\n",
    "\tdense_caption['id'] = r['id']\n",
    "\td = dense_caption.to_dict(orient='records')\n",
    "\tout.extend(d)\n",
    "\n",
    "converted = pandas.DataFrame(data=out)\n",
    "display(converted)\n",
    "converted.to_parquet(\"data/parquet/dense_captions.parquet\", engine='pyarrow', filesystem=file_system)"
   ],
   "metadata": {
    "collapsed": false
   }
  },
  {
   "cell_type": "code",
   "execution_count": null,
   "outputs": [],
   "source": [
    "# @title single_caption_data\n",
    "\n",
    "thumbnail_curation = pandas.read_parquet(\"data/parquet/thumbnail_curation.parquet\", engine='pyarrow', filesystem=file_system, schema=tagging_schema)\n",
    "thumbnail_curation.set_index(\"id\", drop=False, inplace=True)\n",
    "thumbnail_curation.drop_duplicates(subset=\"id\", inplace=True, keep='first')\n",
    "thumbnail_curation.dropna(axis=1, how='all', inplace=True)\n",
    "\n",
    "single_caption_data = pandas.DataFrame(\n",
    "\t{\n",
    "\t\t'id': all_data_from_captions['id'],\n",
    "\t\t'azure_caption': [item['text'] for item in all_data_from_captions['captionResult']],\n",
    "\t\t'tags': [[foo['name'] for foo in item['values']] for item in all_data_from_captions['tagsResult'] if\n",
    "\t\t\t\t item is not None],\n",
    "\t})\n",
    "\n",
    "single_caption_data.dropna(axis=1, how='all', inplace=True)\n",
    "single_caption_data.reset_index(drop=True, inplace=True)\n",
    "single_caption_data_indexed = single_caption_data.set_index(\"id\", drop=False)\n",
    "\n",
    "# filtered_by_curated = thumbnail_curation.loc[thumbnail_curation['thumbnail_curated'] == False]\n",
    "# filtered_and_dropped = filtered_by_curated.dropna(axis=1, how='all')\n",
    "# filtered_and_dropped.reset_index(drop=True, inplace=True)\n",
    "# filtered_and_dropped_indexed = filtered_and_dropped.set_index(\"id\", drop=False)\n",
    "\n",
    "\n",
    "for index, row in tqdm(thumbnail_curation.iterrows(), total=len(thumbnail_curation)):\n",
    "\tthumbnail_curation.at[index, 'azure_caption'] = single_caption_data_indexed.at[index, 'azure_caption']\n",
    "\tthumbnail_curation.at[index, 'tags'] = [\",\".join(single_caption_data_indexed.at[index, 'tags'])]\n",
    "\n",
    "\n",
    "display(\"== Updated With Basic Captions ==\")\n",
    "display(thumbnail_curation)"
   ],
   "metadata": {
    "collapsed": false
   }
  },
  {
   "cell_type": "code",
   "execution_count": null,
   "outputs": [],
   "source": [
    "# @title Set Cropping Functions\n",
    "\n",
    "def get_aspect_ratio(x: object):\n",
    "\treturn x['crops'][0]['aspectRatio']\n",
    "\n",
    "\n",
    "def get_bounding_box(x: object):\n",
    "\treturn x['crops'][0]['boundingBox']"
   ],
   "metadata": {
    "collapsed": false
   }
  },
  {
   "cell_type": "code",
   "execution_count": null,
   "outputs": [],
   "source": [
    "# @title Get Croppings\n",
    "\n",
    "cropping = pandas.DataFrame(\n",
    "\t{'id': filtered_data_from_captions['id'], 'crops': filtered_data_from_captions['smart_crop']}).set_index('id',\n",
    "\t\t\t\t\t\t\t\t\t\t\t\t\t\t\t\t\t\t\t\t\t\t\t\t\t\t\t drop=False)\n",
    "\n",
    "cropping['aspectRatio'] = cropping.progress_apply(lambda x: get_aspect_ratio(x), axis=1)\n",
    "cropping['bounding_box'] = cropping.progress_apply(lambda x: get_bounding_box(x), axis=1)\n",
    "cropping['x'] = cropping.progress_apply(lambda x: x['bounding_box']['x'], axis=1)\n",
    "cropping['y'] = cropping.progress_apply(lambda x: x['bounding_box']['y'], axis=1)\n",
    "cropping['w'] = cropping.progress_apply(lambda x: x['bounding_box']['w'], axis=1)\n",
    "cropping['h'] = cropping.progress_apply(lambda x: x['bounding_box']['h'], axis=1)\n",
    "\n",
    "display(cropping)"
   ],
   "metadata": {
    "collapsed": false
   }
  },
  {
   "cell_type": "code",
   "execution_count": null,
   "outputs": [],
   "source": [
    "# @title Set function\n",
    "\n",
    "def create_thumbnail(target_image_id: str, file_names: list, crops: pandas.DataFrame, curated_data: pandas.DataFrame):\n",
    "\t_file_system: AzureBlobFileSystem = AzureFileStorageAdapter('data').get_file_storage()\n",
    "\n",
    "\tout_path = f\"data/image/thumbnail/{target_image_id}.jpg\"\n",
    "\ttry:\n",
    "\t\tif target_image_id is None or out_path in file_names:\n",
    "\t\t\t# print(f'Image {target_image_id} already exists, skipping')\n",
    "\t\t\treturn out_path\n",
    "\n",
    "\t\tcropping_information = cropping.loc[crops['id'] == target_image_id]\n",
    "\t\tif cropping_information is None or len(cropping_information) == 0:\n",
    "\t\t\t# print(f'No cropping information for {target_image_id}, skipping')\n",
    "\t\t\treturn \"/data/nope\"\n",
    "\n",
    "\t\trecord = curated_data.loc[curated_data['id'] == target_image_id]\n",
    "\t\trecord_path = record.to_dict(orient='records')[0]['path']\n",
    "\t\timage_url = file_system.url(record_path)\n",
    "\t\toriginal_image = Image.open(requests.get(image_url, stream=True).raw)\n",
    "\t\tcopied_image = original_image.copy()\n",
    "\t\toriginal_image.close()\n",
    "\n",
    "\t\tcropped = copied_image.crop((cropping_information['x'].values[0],\n",
    "\t\t\t\t\t\t\t\t\t cropping_information['y'].values[0],\n",
    "\t\t\t\t\t\t\t\t\t cropping_information['x'].values[0] +\n",
    "\t\t\t\t\t\t\t\t\t cropping_information['w'].values[0],\n",
    "\t\t\t\t\t\t\t\t\t cropping_information['y'].values[0] +\n",
    "\t\t\t\t\t\t\t\t\t cropping_information['h'].values[0]))\n",
    "\t\tcopied_image.close()\n",
    "\n",
    "\t\tresized = cropped.resize((512, 512), 1)\n",
    "\t\tresized.save('temp.jpg')\n",
    "\t\tresized.close()\n",
    "\t\tfile_system.upload('temp.jpg', out_path, overwrite=True)\n",
    "\t\tprint(f'Thumbnail created for {target_image_id}')\n",
    "\t\treturn out_path\n",
    "\n",
    "\texcept Exception as ex:\n",
    "\t\tprint(f'Error creating thumbnail for {target_image_id}: {ex}')\n",
    "\t\treturn \"/data/nope\""
   ],
   "metadata": {
    "collapsed": false
   }
  },
  {
   "cell_type": "code",
   "execution_count": null,
   "outputs": [],
   "source": [
    "# # @title Create and load thumbnails\n",
    "\n",
    "file_names = file_system.ls('data/image/thumbnail')\n",
    "\n",
    "with tqdm(desc=\"Creating Thumbnail\", total=len(thumbnail_curation)) as pbar:\n",
    "\tfor index, row in thumbnail_curation.iterrows():\n",
    "\t\tif not thumbnail_curation.at[index, 'thumbnail_exists']:\n",
    "\t\t\tthumbnail_curation.at[index, 'thumbnail_path'] = create_thumbnail(row['id'], file_names, cropping, thumbnail_curation)\n",
    "\t\t\tthumbnail_curation.at[index, 'thumbnail_exists'] = file_system.exists(thumbnail_curation.at[index, 'thumbnail_path'])\n",
    "\t\t\tpbar.update(1)\n",
    "\t\telse:\n",
    "\t\t\tpbar.update(1)\n",
    "\t\t\tcontinue\n",
    "\n",
    "display(thumbnail_curation)"
   ],
   "metadata": {
    "collapsed": false
   }
  },
  {
   "cell_type": "code",
   "execution_count": null,
   "outputs": [],
   "source": [
    "# @title Copy and Update\n",
    "\n",
    "thumbnail_curation_copy = thumbnail_curation.copy()\n",
    "\n",
    "thumbnail_curation_copy.dropna(axis=1, how='all', inplace=True)\n",
    "thumbnail_curation_copy.drop_duplicates(subset=['id'], inplace=True)\n",
    "thumbnail_curation_copy.reset_index(drop=True, inplace=True)\n",
    "display(thumbnail_curation_copy)"
   ],
   "metadata": {
    "collapsed": false
   }
  },
  {
   "cell_type": "code",
   "execution_count": null,
   "outputs": [],
   "source": [
    "# @title Save new curation data\n",
    "\n",
    "import datetime\n",
    "thumbnail_curation = pandas.read_parquet(\"data/parquet/thumbnail_curation.parquet\", engine='pyarrow', filesystem=file_system, schema=tagging_schema)\n",
    "thumbnail_curation_copy.to_parquet(f\"data/parquet/{datetime.datetime.now().timestamp()}_thumbnail_curation.parquet\", engine='pyarrow', filesystem=file_system, schema=tagging_schema)"
   ],
   "metadata": {
    "collapsed": false
   }
  },
  {
   "cell_type": "code",
   "execution_count": null,
   "outputs": [],
   "source": [
    "thumbnail_curation_copy.to_parquet(\"data/parquet/thumbnail_curation.parquet\", engine='pyarrow', filesystem=file_system, schema=tagging_schema)"
   ],
   "metadata": {
    "collapsed": false
   }
  },
  {
   "cell_type": "code",
   "execution_count": null,
   "outputs": [],
   "source": [
    "thumbnail_curation = pandas.read_parquet(\"data/parquet/thumbnail_curation.parquet\", engine='pyarrow', filesystem=file_system, schema=tagging_schema)\n",
    "display(thumbnail_curation)"
   ],
   "metadata": {
    "collapsed": false
   }
  }
 ],
 "metadata": {
  "kernelspec": {
   "display_name": "Python 3",
   "language": "python",
   "name": "python3"
  },
  "language_info": {
   "codemirror_mode": {
    "name": "ipython",
    "version": 2
   },
   "file_extension": ".py",
   "mimetype": "text/x-python",
   "name": "python",
   "nbconvert_exporter": "python",
   "pygments_lexer": "ipython2",
   "version": "2.7.6"
  }
 },
 "nbformat": 4,
 "nbformat_minor": 0
}
