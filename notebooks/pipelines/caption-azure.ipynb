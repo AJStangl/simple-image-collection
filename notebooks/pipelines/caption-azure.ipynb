{
 "cells": [
  {
   "cell_type": "code",
   "execution_count": 1,
   "outputs": [],
   "source": [
    "# @title Import Dependencies\n",
    "\n",
    "import time\n",
    "import hashlib\n",
    "import os\n",
    "from datetime import datetime\n",
    "from io import BytesIO\n",
    "import random\n",
    "import pyarrow\n",
    "import requests\n",
    "from PIL import Image\n",
    "import os\n",
    "import datetime as dt\n",
    "import os\n",
    "from datetime import datetime\n",
    "import pandas\n",
    "import pandas as pd\n",
    "import praw\n",
    "from praw.models import ListingGenerator\n",
    "from tqdm import tqdm\n",
    "from adlfs import AzureBlobFileSystem\n",
    "import os\n",
    "import hashlib\n",
    "import os\n",
    "from datetime import datetime\n",
    "from io import BytesIO\n",
    "import random\n",
    "\n",
    "import requests\n",
    "from PIL import Image\n"
   ],
   "metadata": {
    "collapsed": false
   }
  },
  {
   "cell_type": "code",
   "execution_count": 2,
   "outputs": [],
   "source": [
    "# @title Initialize Secrets\n",
    "\n",
    "os.environ[\"AZURE_STORAGE_ACCOUNT_NAME\"] = \"ajdevreddit\"\n",
    "\n",
    "os.environ[\n",
    "\t\"AZURE_STORAGE_ACCOUNT_KEY\"] = \"+9066TCgdeVignRdy50G4qjmNoUJuibl9ERiTGzdV4fwkvgdV3aSVqgLwldgZxj/UpKLkkfXg+3k+AStjFI33Q==\"\n",
    "\n",
    "os.environ[\n",
    "\t\"AZURE_STORE_ACCOUNT_KEY\"] = \"+9066TCgdeVignRdy50G4qjmNoUJuibl9ERiTGzdV4fwkvgdV3aSVqgLwldgZxj/UpKLkkfXg+3k+AStjFI33Q==\""
   ],
   "metadata": {
    "collapsed": false
   }
  },
  {
   "cell_type": "code",
   "execution_count": 3,
   "outputs": [],
   "source": [
    "# @title File SYstem\n",
    "\n",
    "class AzureFileStorageAdapter(object):\n",
    "\tdef __init__(self, container_name: str = \"data\"):\n",
    "\t\tself.__account_name: str = os.environ[\"AZURE_STORAGE_ACCOUNT_NAME\"]\n",
    "\t\tself.__account_key: str = os.environ[\"AZURE_STORAGE_ACCOUNT_KEY\"]\n",
    "\t\tself.container_name: str = container_name\n",
    "\n",
    "\tdef get_file_storage(self) -> AzureBlobFileSystem:\n",
    "\t\treturn AzureBlobFileSystem(\n",
    "\t\t\taccount_name=self.__account_name,\n",
    "\t\t\taccount_key=self.__account_key,\n",
    "\t\t\tcontainer_name=self.container_name)\n",
    "\n",
    "\tdef get_file_storage_root(self) -> AzureBlobFileSystem:\n",
    "\t\treturn AzureBlobFileSystem(account_name=self.__account_name, account_key=self.__account_key,\n",
    "\t\t\t\t\t\t\t\t   container_name=self.container_name)"
   ],
   "metadata": {
    "collapsed": false
   }
  },
  {
   "cell_type": "code",
   "execution_count": 4,
   "outputs": [],
   "source": [
    "# @title Get Schema for Curation\n",
    "\n",
    "tagging_schema = pyarrow.schema(\n",
    "\t[\n",
    "\t\tpyarrow.field(\"id\", pyarrow.string()),\n",
    "\t\tpyarrow.field(\"subreddit\", pyarrow.string()),\n",
    "\t\tpyarrow.field(\"author\", pyarrow.string()),\n",
    "\t\tpyarrow.field(\"title\", pyarrow.string()),\n",
    "\t\tpyarrow.field(\"caption\", pyarrow.string()),\n",
    "\t\tpyarrow.field(\"hash\", pyarrow.string()),\n",
    "\t\tpyarrow.field(\"permalink\", pyarrow.string()),\n",
    "\t\tpyarrow.field(\"original_url\", pyarrow.string()),\n",
    "\t\tpyarrow.field(\"image_name\", pyarrow.string()),\n",
    "\t\tpyarrow.field(\"path\", pyarrow.string()),\n",
    "\t\tpyarrow.field(\"model\", pyarrow.string()),\n",
    "\t\tpyarrow.field(\"exists\", pyarrow.bool_()),\n",
    "\t\tpyarrow.field(\"curated\", pyarrow.bool_()),\n",
    "\t\tpyarrow.field(\"accept\", pyarrow.bool_()),\n",
    "\t\tpyarrow.field(\"tags\", pyarrow.list_(pyarrow.string())),\n",
    "\t\tpyarrow.field(\"azure_caption\", pyarrow.string()),\n",
    "\t\tpyarrow.field(\"thumbnail_path\", pyarrow.string()),\n",
    "\t\tpyarrow.field(\"thumbnail_exists\", pyarrow.bool_()),\n",
    "\t\tpyarrow.field(\"thumbnail_curated\", pyarrow.bool_()),\n",
    "\t\tpyarrow.field(\"thumbnail_accept\", pyarrow.bool_()),\n",
    "\t\tpyarrow.field(\"additional_captions\", pyarrow.list_(pyarrow.string())),\n",
    "\t]\n",
    ")"
   ],
   "metadata": {
    "collapsed": false
   }
  },
  {
   "cell_type": "code",
   "execution_count": 5,
   "outputs": [],
   "source": [
    "# @title Initialize\n",
    "\n",
    "tqdm.pandas(desc=\"Progress\")\n",
    "\n",
    "file_system: AzureBlobFileSystem = AzureFileStorageAdapter('data').get_file_storage()"
   ],
   "metadata": {
    "collapsed": false
   }
  },
  {
   "cell_type": "code",
   "execution_count": 6,
   "outputs": [
    {
     "data": {
      "text/plain": "            id subreddit           author   \n0      1013bdt  AmIhotAF      RaulDea9286  \\\n1      105mekt  AmIhotAF         lindaniz   \n2      105qvgl  AmIhotAF      CaitVLove11   \n3      105rpcj  AmIhotAF  Flashy-Desk1858   \n4      105styc  AmIhotAF     Gizzygirl127   \n...        ...       ...              ...   \n20383   av97ze   TrueFMK          xobx321   \n20384   birywt   TrueFMK       NYCplayboy   \n20385   cot1yb   TrueFMK        Bobsagler   \n20386   ctkh7j   TrueFMK       NYCplayboy   \n20387   cz66c2   TrueFMK       NYCplayboy   \n\n                                                title   \n0                                       36F - ITALIAN  \\\n1      interesting in good forward relationship (f24)   \n2                           Laughing is my favorite 😆   \n3            [f22] What do you think when you see me?   \n4                            Low key… still bangable?   \n...                                               ...   \n20383                                         Bikinis   \n20384                              Barista bombshells   \n20385                                College freshmen   \n20386                         Sexy schoolgirl servers   \n20387                              Busty bikini babes   \n\n                                                 caption   \n0                arafed image of a woman in a bikini top  \\\n1      a close up of a woman with red hair and a whit...   \n2      a woman in a blue tank top and shorts is smili...   \n3        a woman in a blue bikini top and a blue bra top   \n4      smiling woman sitting on couch with remote con...   \n...                                                  ...   \n20383  three women in bikinis posing for a picture wi...   \n20384  three women in lingerie posing for a picture i...   \n20385  three women in bikinis standing next to a swim...   \n20386  three women in short skirts and stockings are ...   \n20387  three women in bikinis posing for a picture in...   \n\n                                   hash   \n0      7c0d158cba8654ef1c635cbc5471d597  \\\n1      ba4a0962cca2266a741e1e1700589c04   \n2      27bfe82c37314a0bcf02ab72eaf3a9e5   \n3      329eb42b8267fa1cc2980da8e48bcef1   \n4      6d555943be4fbc21ff92417c6f582298   \n...                                 ...   \n20383  b5ab5a7952ae68b8b3207bc9562e0fb8   \n20384  9c7e904a843d40b93f14856dcb2cdb0d   \n20385  aa0edff56e79f08ee8d887421ac68ceb   \n20386  1d1ca8f7f70e3a06ba56f4f00dcc842a   \n20387  24182dce9bb33e378470cb20e015020e   \n\n                                               permalink   \n0              /r/AmIhotAF/comments/1013bdt/36f_italian/  \\\n1      /r/AmIhotAF/comments/105mekt/interesting_in_go...   \n2      /r/AmIhotAF/comments/105qvgl/laughing_is_my_fa...   \n3      /r/AmIhotAF/comments/105rpcj/f22_what_do_you_t...   \n4      /r/AmIhotAF/comments/105styc/low_key_still_ban...   \n...                                                  ...   \n20383                /r/TrueFMK/comments/av97ze/bikinis/   \n20384     /r/TrueFMK/comments/birywt/barista_bombshells/   \n20385       /r/TrueFMK/comments/cot1yb/college_freshmen/   \n20386  /r/TrueFMK/comments/ctkh7j/sexy_schoolgirl_ser...   \n20387     /r/TrueFMK/comments/cz66c2/busty_bikini_babes/   \n\n                              original_url   image_name   \n0      https://i.redd.it/bg0wwdlt5k9a1.jpg  1013bdt.jpg  \\\n1      https://i.redd.it/4avjshsz8naa1.jpg  105mekt.jpg   \n2      https://i.redd.it/2pulzr0lxmaa1.jpg  105qvgl.jpg   \n3      https://i.redd.it/rz68pf934naa1.jpg  105rpcj.jpg   \n4      https://i.redd.it/aiaxxoz9uoaa1.jpg  105styc.jpg   \n...                                    ...          ...   \n20383      https://i.imgur.com/faF0PMP.jpg   av97ze.jpg   \n20384      https://i.imgur.com/IxcvEaA.jpg   birywt.jpg   \n20385  https://i.redd.it/cq16x1i5brf31.png   cot1yb.jpg   \n20386      https://i.imgur.com/e6YgtYy.jpg   ctkh7j.jpg   \n20387      https://i.imgur.com/OxHsLmQ.png   cz66c2.jpg   \n\n                         path  ... exists  curated  accept   \n0      data/image/1013bdt.jpg  ...   True     True    True  \\\n1      data/image/105mekt.jpg  ...   True     True    True   \n2      data/image/105qvgl.jpg  ...   True     True    True   \n3      data/image/105rpcj.jpg  ...   True     True    True   \n4      data/image/105styc.jpg  ...   True     True    True   \n...                       ...  ...    ...      ...     ...   \n20383   data/image/av97ze.jpg  ...   True     True    True   \n20384   data/image/birywt.jpg  ...   True     True    True   \n20385   data/image/cot1yb.jpg  ...   True     True    True   \n20386   data/image/ctkh7j.jpg  ...   True     True    True   \n20387   data/image/cz66c2.jpg  ...   True     True    True   \n\n                                                    tags   \n0      [person,human face,clothing,lady,smile,chest,w...  \\\n1      [person,human face,skin,eyelash,eyebrow,brown ...   \n2      [clothing,person,human face,smile,shoulder,elb...   \n3      [person,human face,indoor,clothing,woman,chest...   \n4      [person,human face,smile,clothing,woman,indoor...   \n...                                                  ...   \n20383                                                 []   \n20384                                                 []   \n20385                                                 []   \n20386                                                 []   \n20387                                                 []   \n\n                   azure_caption                    thumbnail_path   \n0        a woman taking a selfie  data/image/thumbnail/1013bdt.jpg  \\\n1        a woman taking a selfie  data/image/thumbnail/105mekt.jpg   \n2      a woman smiling at camera  data/image/thumbnail/105qvgl.jpg   \n3        a woman taking a selfie  data/image/thumbnail/105rpcj.jpg   \n4        a woman taking a selfie  data/image/thumbnail/105styc.jpg   \n...                          ...                               ...   \n20383                                                                \n20384                                                                \n20385                                                                \n20386                                                                \n20387                                                                \n\n      thumbnail_exists  thumbnail_curated  thumbnail_accept   \n0                 True               True              True  \\\n1                 True               True              True   \n2                 True               True              True   \n3                 True               True              True   \n4                 True               True              True   \n...                ...                ...               ...   \n20383            False              False             False   \n20384            False              False             False   \n20385            False              False             False   \n20386            False              False             False   \n20387            False              False             False   \n\n                                     additional_captions  \n0      [a woman taking a selfie, a close up of an eye...  \n1      [a close up of a person's eye, a woman taking ...  \n2      [a woman smiling at camera, a woman with long ...  \n3      [a woman taking a selfie, close up of a person...  \n4      [a woman smiling at the camera, close-up of a ...  \n...                                                  ...  \n20383                                                 []  \n20384                                                 []  \n20385                                                 []  \n20386                                                 []  \n20387                                                 []  \n\n[20388 rows x 21 columns]",
      "text/html": "<div>\n<style scoped>\n    .dataframe tbody tr th:only-of-type {\n        vertical-align: middle;\n    }\n\n    .dataframe tbody tr th {\n        vertical-align: top;\n    }\n\n    .dataframe thead th {\n        text-align: right;\n    }\n</style>\n<table border=\"1\" class=\"dataframe\">\n  <thead>\n    <tr style=\"text-align: right;\">\n      <th></th>\n      <th>id</th>\n      <th>subreddit</th>\n      <th>author</th>\n      <th>title</th>\n      <th>caption</th>\n      <th>hash</th>\n      <th>permalink</th>\n      <th>original_url</th>\n      <th>image_name</th>\n      <th>path</th>\n      <th>...</th>\n      <th>exists</th>\n      <th>curated</th>\n      <th>accept</th>\n      <th>tags</th>\n      <th>azure_caption</th>\n      <th>thumbnail_path</th>\n      <th>thumbnail_exists</th>\n      <th>thumbnail_curated</th>\n      <th>thumbnail_accept</th>\n      <th>additional_captions</th>\n    </tr>\n  </thead>\n  <tbody>\n    <tr>\n      <th>0</th>\n      <td>1013bdt</td>\n      <td>AmIhotAF</td>\n      <td>RaulDea9286</td>\n      <td>36F - ITALIAN</td>\n      <td>arafed image of a woman in a bikini top</td>\n      <td>7c0d158cba8654ef1c635cbc5471d597</td>\n      <td>/r/AmIhotAF/comments/1013bdt/36f_italian/</td>\n      <td>https://i.redd.it/bg0wwdlt5k9a1.jpg</td>\n      <td>1013bdt.jpg</td>\n      <td>data/image/1013bdt.jpg</td>\n      <td>...</td>\n      <td>True</td>\n      <td>True</td>\n      <td>True</td>\n      <td>[person,human face,clothing,lady,smile,chest,w...</td>\n      <td>a woman taking a selfie</td>\n      <td>data/image/thumbnail/1013bdt.jpg</td>\n      <td>True</td>\n      <td>True</td>\n      <td>True</td>\n      <td>[a woman taking a selfie, a close up of an eye...</td>\n    </tr>\n    <tr>\n      <th>1</th>\n      <td>105mekt</td>\n      <td>AmIhotAF</td>\n      <td>lindaniz</td>\n      <td>interesting in good forward relationship (f24)</td>\n      <td>a close up of a woman with red hair and a whit...</td>\n      <td>ba4a0962cca2266a741e1e1700589c04</td>\n      <td>/r/AmIhotAF/comments/105mekt/interesting_in_go...</td>\n      <td>https://i.redd.it/4avjshsz8naa1.jpg</td>\n      <td>105mekt.jpg</td>\n      <td>data/image/105mekt.jpg</td>\n      <td>...</td>\n      <td>True</td>\n      <td>True</td>\n      <td>True</td>\n      <td>[person,human face,skin,eyelash,eyebrow,brown ...</td>\n      <td>a woman taking a selfie</td>\n      <td>data/image/thumbnail/105mekt.jpg</td>\n      <td>True</td>\n      <td>True</td>\n      <td>True</td>\n      <td>[a close up of a person's eye, a woman taking ...</td>\n    </tr>\n    <tr>\n      <th>2</th>\n      <td>105qvgl</td>\n      <td>AmIhotAF</td>\n      <td>CaitVLove11</td>\n      <td>Laughing is my favorite 😆</td>\n      <td>a woman in a blue tank top and shorts is smili...</td>\n      <td>27bfe82c37314a0bcf02ab72eaf3a9e5</td>\n      <td>/r/AmIhotAF/comments/105qvgl/laughing_is_my_fa...</td>\n      <td>https://i.redd.it/2pulzr0lxmaa1.jpg</td>\n      <td>105qvgl.jpg</td>\n      <td>data/image/105qvgl.jpg</td>\n      <td>...</td>\n      <td>True</td>\n      <td>True</td>\n      <td>True</td>\n      <td>[clothing,person,human face,smile,shoulder,elb...</td>\n      <td>a woman smiling at camera</td>\n      <td>data/image/thumbnail/105qvgl.jpg</td>\n      <td>True</td>\n      <td>True</td>\n      <td>True</td>\n      <td>[a woman smiling at camera, a woman with long ...</td>\n    </tr>\n    <tr>\n      <th>3</th>\n      <td>105rpcj</td>\n      <td>AmIhotAF</td>\n      <td>Flashy-Desk1858</td>\n      <td>[f22] What do you think when you see me?</td>\n      <td>a woman in a blue bikini top and a blue bra top</td>\n      <td>329eb42b8267fa1cc2980da8e48bcef1</td>\n      <td>/r/AmIhotAF/comments/105rpcj/f22_what_do_you_t...</td>\n      <td>https://i.redd.it/rz68pf934naa1.jpg</td>\n      <td>105rpcj.jpg</td>\n      <td>data/image/105rpcj.jpg</td>\n      <td>...</td>\n      <td>True</td>\n      <td>True</td>\n      <td>True</td>\n      <td>[person,human face,indoor,clothing,woman,chest...</td>\n      <td>a woman taking a selfie</td>\n      <td>data/image/thumbnail/105rpcj.jpg</td>\n      <td>True</td>\n      <td>True</td>\n      <td>True</td>\n      <td>[a woman taking a selfie, close up of a person...</td>\n    </tr>\n    <tr>\n      <th>4</th>\n      <td>105styc</td>\n      <td>AmIhotAF</td>\n      <td>Gizzygirl127</td>\n      <td>Low key… still bangable?</td>\n      <td>smiling woman sitting on couch with remote con...</td>\n      <td>6d555943be4fbc21ff92417c6f582298</td>\n      <td>/r/AmIhotAF/comments/105styc/low_key_still_ban...</td>\n      <td>https://i.redd.it/aiaxxoz9uoaa1.jpg</td>\n      <td>105styc.jpg</td>\n      <td>data/image/105styc.jpg</td>\n      <td>...</td>\n      <td>True</td>\n      <td>True</td>\n      <td>True</td>\n      <td>[person,human face,smile,clothing,woman,indoor...</td>\n      <td>a woman taking a selfie</td>\n      <td>data/image/thumbnail/105styc.jpg</td>\n      <td>True</td>\n      <td>True</td>\n      <td>True</td>\n      <td>[a woman smiling at the camera, close-up of a ...</td>\n    </tr>\n    <tr>\n      <th>...</th>\n      <td>...</td>\n      <td>...</td>\n      <td>...</td>\n      <td>...</td>\n      <td>...</td>\n      <td>...</td>\n      <td>...</td>\n      <td>...</td>\n      <td>...</td>\n      <td>...</td>\n      <td>...</td>\n      <td>...</td>\n      <td>...</td>\n      <td>...</td>\n      <td>...</td>\n      <td>...</td>\n      <td>...</td>\n      <td>...</td>\n      <td>...</td>\n      <td>...</td>\n      <td>...</td>\n    </tr>\n    <tr>\n      <th>20383</th>\n      <td>av97ze</td>\n      <td>TrueFMK</td>\n      <td>xobx321</td>\n      <td>Bikinis</td>\n      <td>three women in bikinis posing for a picture wi...</td>\n      <td>b5ab5a7952ae68b8b3207bc9562e0fb8</td>\n      <td>/r/TrueFMK/comments/av97ze/bikinis/</td>\n      <td>https://i.imgur.com/faF0PMP.jpg</td>\n      <td>av97ze.jpg</td>\n      <td>data/image/av97ze.jpg</td>\n      <td>...</td>\n      <td>True</td>\n      <td>True</td>\n      <td>True</td>\n      <td>[]</td>\n      <td></td>\n      <td></td>\n      <td>False</td>\n      <td>False</td>\n      <td>False</td>\n      <td>[]</td>\n    </tr>\n    <tr>\n      <th>20384</th>\n      <td>birywt</td>\n      <td>TrueFMK</td>\n      <td>NYCplayboy</td>\n      <td>Barista bombshells</td>\n      <td>three women in lingerie posing for a picture i...</td>\n      <td>9c7e904a843d40b93f14856dcb2cdb0d</td>\n      <td>/r/TrueFMK/comments/birywt/barista_bombshells/</td>\n      <td>https://i.imgur.com/IxcvEaA.jpg</td>\n      <td>birywt.jpg</td>\n      <td>data/image/birywt.jpg</td>\n      <td>...</td>\n      <td>True</td>\n      <td>True</td>\n      <td>True</td>\n      <td>[]</td>\n      <td></td>\n      <td></td>\n      <td>False</td>\n      <td>False</td>\n      <td>False</td>\n      <td>[]</td>\n    </tr>\n    <tr>\n      <th>20385</th>\n      <td>cot1yb</td>\n      <td>TrueFMK</td>\n      <td>Bobsagler</td>\n      <td>College freshmen</td>\n      <td>three women in bikinis standing next to a swim...</td>\n      <td>aa0edff56e79f08ee8d887421ac68ceb</td>\n      <td>/r/TrueFMK/comments/cot1yb/college_freshmen/</td>\n      <td>https://i.redd.it/cq16x1i5brf31.png</td>\n      <td>cot1yb.jpg</td>\n      <td>data/image/cot1yb.jpg</td>\n      <td>...</td>\n      <td>True</td>\n      <td>True</td>\n      <td>True</td>\n      <td>[]</td>\n      <td></td>\n      <td></td>\n      <td>False</td>\n      <td>False</td>\n      <td>False</td>\n      <td>[]</td>\n    </tr>\n    <tr>\n      <th>20386</th>\n      <td>ctkh7j</td>\n      <td>TrueFMK</td>\n      <td>NYCplayboy</td>\n      <td>Sexy schoolgirl servers</td>\n      <td>three women in short skirts and stockings are ...</td>\n      <td>1d1ca8f7f70e3a06ba56f4f00dcc842a</td>\n      <td>/r/TrueFMK/comments/ctkh7j/sexy_schoolgirl_ser...</td>\n      <td>https://i.imgur.com/e6YgtYy.jpg</td>\n      <td>ctkh7j.jpg</td>\n      <td>data/image/ctkh7j.jpg</td>\n      <td>...</td>\n      <td>True</td>\n      <td>True</td>\n      <td>True</td>\n      <td>[]</td>\n      <td></td>\n      <td></td>\n      <td>False</td>\n      <td>False</td>\n      <td>False</td>\n      <td>[]</td>\n    </tr>\n    <tr>\n      <th>20387</th>\n      <td>cz66c2</td>\n      <td>TrueFMK</td>\n      <td>NYCplayboy</td>\n      <td>Busty bikini babes</td>\n      <td>three women in bikinis posing for a picture in...</td>\n      <td>24182dce9bb33e378470cb20e015020e</td>\n      <td>/r/TrueFMK/comments/cz66c2/busty_bikini_babes/</td>\n      <td>https://i.imgur.com/OxHsLmQ.png</td>\n      <td>cz66c2.jpg</td>\n      <td>data/image/cz66c2.jpg</td>\n      <td>...</td>\n      <td>True</td>\n      <td>True</td>\n      <td>True</td>\n      <td>[]</td>\n      <td></td>\n      <td></td>\n      <td>False</td>\n      <td>False</td>\n      <td>False</td>\n      <td>[]</td>\n    </tr>\n  </tbody>\n</table>\n<p>20388 rows × 21 columns</p>\n</div>"
     },
     "metadata": {},
     "output_type": "display_data"
    }
   ],
   "source": [
    "# @title Read in thumbnail_curation\n",
    "\n",
    "thumbnail_curation = pandas.read_parquet(\"data/parquet/thumbnail_curation.parquet\", engine='pyarrow',\n",
    "\t\t\t\t\t\t\t\t\t\t filesystem=file_system, schema=tagging_schema)\n",
    "\n",
    "display(thumbnail_curation)"
   ],
   "metadata": {
    "collapsed": false
   }
  },
  {
   "cell_type": "code",
   "execution_count": 7,
   "outputs": [
    {
     "data": {
      "text/plain": "                                             captionResult   \nid                                                           \n10006iy  {'confidence': 0.5599533319473267, 'text': 'a ...  \\\n1000cng  {'confidence': 0.4056971073150635, 'text': 'a ...   \n1000hda  {'confidence': 0.6252590417861938, 'text': 'a ...   \n1000qpd  {'confidence': 0.43016329407691956, 'text': 'a...   \n1000xd6  {'confidence': 0.4159470796585083, 'text': 'a ...   \n...                                                    ...   \nzt4p4w   {'confidence': 0.4883536100387573, 'text': 'a ...   \nztq3co   {'confidence': 0.6259240508079529, 'text': 'a ...   \nzwafy3   {'confidence': 0.5272310376167297, 'text': 'a ...   \nzxbnu0   {'confidence': 0.4132983088493347, 'text': 'a ...   \nzyubww   {'confidence': 0.690217912197113, 'text': 'a w...   \n\n                                             objectsResult   \nid                                                           \n10006iy  {'values': [{'boundingBox': {'h': 825, 'w': 14...  \\\n1000cng                                     {'values': []}   \n1000hda  {'values': [{'boundingBox': {'h': 2233, 'w': 2...   \n1000qpd  {'values': [{'boundingBox': {'h': 228, 'w': 56...   \n1000xd6  {'values': [{'boundingBox': {'h': 1761, 'w': 7...   \n...                                                    ...   \nzt4p4w   {'values': [{'boundingBox': {'h': 2007, 'w': 6...   \nztq3co   {'values': [{'boundingBox': {'h': 262, 'w': 26...   \nzwafy3   {'values': [{'boundingBox': {'h': 91, 'w': 99,...   \nzxbnu0   {'values': [{'boundingBox': {'h': 1107, 'w': 4...   \nzyubww   {'values': [{'boundingBox': {'h': 639, 'w': 22...   \n\n                                                readResult   \nid                                                           \n10006iy  {'content': 'pepsi\nLite\n000\nAT&T STADIUM', 'mo...  \\\n1000cng  {'content': '', 'modelVersion': '2022-04-30', ...   \n1000hda  {'content': '', 'modelVersion': '2022-04-30', ...   \n1000qpd  {'content': '@ Adam Woodworth', 'modelVersion'...   \n1000xd6  {'content': '', 'modelVersion': '2022-04-30', ...   \n...                                                    ...   \nzt4p4w   {'content': 'S\nCopyright @2020 xiuren.com All ...   \nztq3co   {'content': '', 'modelVersion': '2022-04-30', ...   \nzwafy3   {'content': 'ERSE\nKAKAKA', 'modelVersion': '20...   \nzxbnu0   {'content': 'Copyright @ 2019 XIAOYU & Issued ...   \nzyubww   {'content': '', 'modelVersion': '2022-04-30', ...   \n\n                                       denseCaptionsResult   \nid                                                           \n10006iy  {'values': [{'boundingBox': {'h': 311, 'w': 11...  \\\n1000cng  {'values': [{'boundingBox': {'h': 1768, 'w': 1...   \n1000hda  {'values': [{'boundingBox': {'h': 1828, 'w': 1...   \n1000qpd  {'values': [{'boundingBox': {'h': 743, 'w': 11...   \n1000xd6  {'values': [{'boundingBox': {'h': 2268, 'w': 4...   \n...                                                    ...   \nzt4p4w   {'values': [{'boundingBox': {'h': 2697, 'w': 1...   \nztq3co   {'values': [{'boundingBox': {'h': 1102, 'w': 6...   \nzwafy3   {'values': [{'boundingBox': {'h': 918, 'w': 74...   \nzxbnu0   {'values': [{'boundingBox': {'h': 1500, 'w': 1...   \nzyubww   {'values': [{'boundingBox': {'h': 799, 'w': 64...   \n\n               modelVersion                         metadata   \nid                                                             \n10006iy  2023-02-01-preview  {'height': 5068, 'width': 7407}  \\\n1000cng  2023-02-01-preview  {'height': 1800, 'width': 1440}   \n1000hda  2023-02-01-preview  {'height': 4032, 'width': 3024}   \n1000qpd  2023-02-01-preview   {'height': 743, 'width': 1110}   \n1000xd6  2023-02-01-preview  {'height': 2268, 'width': 4032}   \n...                     ...                              ...   \nzt4p4w   2023-02-01-preview  {'height': 2697, 'width': 1800}   \nztq3co   2023-02-01-preview   {'height': 1102, 'width': 629}   \nzwafy3   2023-02-01-preview    {'height': 918, 'width': 740}   \nzxbnu0   2023-02-01-preview  {'height': 1500, 'width': 1000}   \nzyubww   2023-02-01-preview    {'height': 799, 'width': 640}   \n\n                                                tagsResult   \nid                                                           \n10006iy  {'values': [{'confidence': 0.9876041412353516,...  \\\n1000cng  {'values': [{'confidence': 0.9922141432762146,...   \n1000hda  {'values': [{'confidence': 0.9986068606376648,...   \n1000qpd  {'values': [{'confidence': 0.9853595495223999,...   \n1000xd6  {'values': [{'confidence': 0.9979767203330994,...   \n...                                                    ...   \nzt4p4w   {'values': [{'confidence': 0.9860861301422119,...   \nztq3co   {'values': [{'confidence': 0.9887521266937256,...   \nzwafy3   {'values': [{'confidence': 0.9973839521408081,...   \nzxbnu0   {'values': [{'confidence': 0.9877384305000305,...   \nzyubww   {'values': [{'confidence': 0.980143666267395, ...   \n\n                                          smartCropsResult   \nid                                                           \n10006iy  {'values': [{'aspectRatio': 1.0, 'boundingBox'...  \\\n1000cng  {'values': [{'aspectRatio': 1.0, 'boundingBox'...   \n1000hda  {'values': [{'aspectRatio': 1.0, 'boundingBox'...   \n1000qpd  {'values': [{'aspectRatio': 1.0, 'boundingBox'...   \n1000xd6  {'values': [{'aspectRatio': 1.0, 'boundingBox'...   \n...                                                    ...   \nzt4p4w   {'values': [{'aspectRatio': 1.0, 'boundingBox'...   \nztq3co   {'values': [{'aspectRatio': 1.0, 'boundingBox'...   \nzwafy3   {'values': [{'aspectRatio': 1.0, 'boundingBox'...   \nzxbnu0   {'values': [{'aspectRatio': 1.0, 'boundingBox'...   \nzyubww   {'values': [{'aspectRatio': 1.0, 'boundingBox'...   \n\n                                              peopleResult       id  \nid                                                                   \n10006iy  {'values': [{'boundingBox': {'h': 283, 'w': 12...  10006iy  \n1000cng                                     {'values': []}  1000cng  \n1000hda  {'values': [{'boundingBox': {'h': 1824, 'w': 1...  1000hda  \n1000qpd  {'values': [{'boundingBox': {'h': 37, 'w': 14,...  1000qpd  \n1000xd6  {'values': [{'boundingBox': {'h': 1898, 'w': 8...  1000xd6  \n...                                                    ...      ...  \nzt4p4w   {'values': [{'boundingBox': {'h': 2305, 'w': 7...   zt4p4w  \nztq3co   {'values': [{'boundingBox': {'h': 1019, 'w': 2...   ztq3co  \nzwafy3   {'values': [{'boundingBox': {'h': 814, 'w': 56...   zwafy3  \nzxbnu0   {'values': [{'boundingBox': {'h': 1473, 'w': 4...   zxbnu0  \nzyubww   {'values': [{'boundingBox': {'h': 752, 'w': 22...   zyubww  \n\n[20075 rows x 10 columns]",
      "text/html": "<div>\n<style scoped>\n    .dataframe tbody tr th:only-of-type {\n        vertical-align: middle;\n    }\n\n    .dataframe tbody tr th {\n        vertical-align: top;\n    }\n\n    .dataframe thead th {\n        text-align: right;\n    }\n</style>\n<table border=\"1\" class=\"dataframe\">\n  <thead>\n    <tr style=\"text-align: right;\">\n      <th></th>\n      <th>captionResult</th>\n      <th>objectsResult</th>\n      <th>readResult</th>\n      <th>denseCaptionsResult</th>\n      <th>modelVersion</th>\n      <th>metadata</th>\n      <th>tagsResult</th>\n      <th>smartCropsResult</th>\n      <th>peopleResult</th>\n      <th>id</th>\n    </tr>\n    <tr>\n      <th>id</th>\n      <th></th>\n      <th></th>\n      <th></th>\n      <th></th>\n      <th></th>\n      <th></th>\n      <th></th>\n      <th></th>\n      <th></th>\n      <th></th>\n    </tr>\n  </thead>\n  <tbody>\n    <tr>\n      <th>10006iy</th>\n      <td>{'confidence': 0.5599533319473267, 'text': 'a ...</td>\n      <td>{'values': [{'boundingBox': {'h': 825, 'w': 14...</td>\n      <td>{'content': 'pepsi\nLite\n000\nAT&amp;T STADIUM', 'mo...</td>\n      <td>{'values': [{'boundingBox': {'h': 311, 'w': 11...</td>\n      <td>2023-02-01-preview</td>\n      <td>{'height': 5068, 'width': 7407}</td>\n      <td>{'values': [{'confidence': 0.9876041412353516,...</td>\n      <td>{'values': [{'aspectRatio': 1.0, 'boundingBox'...</td>\n      <td>{'values': [{'boundingBox': {'h': 283, 'w': 12...</td>\n      <td>10006iy</td>\n    </tr>\n    <tr>\n      <th>1000cng</th>\n      <td>{'confidence': 0.4056971073150635, 'text': 'a ...</td>\n      <td>{'values': []}</td>\n      <td>{'content': '', 'modelVersion': '2022-04-30', ...</td>\n      <td>{'values': [{'boundingBox': {'h': 1768, 'w': 1...</td>\n      <td>2023-02-01-preview</td>\n      <td>{'height': 1800, 'width': 1440}</td>\n      <td>{'values': [{'confidence': 0.9922141432762146,...</td>\n      <td>{'values': [{'aspectRatio': 1.0, 'boundingBox'...</td>\n      <td>{'values': []}</td>\n      <td>1000cng</td>\n    </tr>\n    <tr>\n      <th>1000hda</th>\n      <td>{'confidence': 0.6252590417861938, 'text': 'a ...</td>\n      <td>{'values': [{'boundingBox': {'h': 2233, 'w': 2...</td>\n      <td>{'content': '', 'modelVersion': '2022-04-30', ...</td>\n      <td>{'values': [{'boundingBox': {'h': 1828, 'w': 1...</td>\n      <td>2023-02-01-preview</td>\n      <td>{'height': 4032, 'width': 3024}</td>\n      <td>{'values': [{'confidence': 0.9986068606376648,...</td>\n      <td>{'values': [{'aspectRatio': 1.0, 'boundingBox'...</td>\n      <td>{'values': [{'boundingBox': {'h': 1824, 'w': 1...</td>\n      <td>1000hda</td>\n    </tr>\n    <tr>\n      <th>1000qpd</th>\n      <td>{'confidence': 0.43016329407691956, 'text': 'a...</td>\n      <td>{'values': [{'boundingBox': {'h': 228, 'w': 56...</td>\n      <td>{'content': '@ Adam Woodworth', 'modelVersion'...</td>\n      <td>{'values': [{'boundingBox': {'h': 743, 'w': 11...</td>\n      <td>2023-02-01-preview</td>\n      <td>{'height': 743, 'width': 1110}</td>\n      <td>{'values': [{'confidence': 0.9853595495223999,...</td>\n      <td>{'values': [{'aspectRatio': 1.0, 'boundingBox'...</td>\n      <td>{'values': [{'boundingBox': {'h': 37, 'w': 14,...</td>\n      <td>1000qpd</td>\n    </tr>\n    <tr>\n      <th>1000xd6</th>\n      <td>{'confidence': 0.4159470796585083, 'text': 'a ...</td>\n      <td>{'values': [{'boundingBox': {'h': 1761, 'w': 7...</td>\n      <td>{'content': '', 'modelVersion': '2022-04-30', ...</td>\n      <td>{'values': [{'boundingBox': {'h': 2268, 'w': 4...</td>\n      <td>2023-02-01-preview</td>\n      <td>{'height': 2268, 'width': 4032}</td>\n      <td>{'values': [{'confidence': 0.9979767203330994,...</td>\n      <td>{'values': [{'aspectRatio': 1.0, 'boundingBox'...</td>\n      <td>{'values': [{'boundingBox': {'h': 1898, 'w': 8...</td>\n      <td>1000xd6</td>\n    </tr>\n    <tr>\n      <th>...</th>\n      <td>...</td>\n      <td>...</td>\n      <td>...</td>\n      <td>...</td>\n      <td>...</td>\n      <td>...</td>\n      <td>...</td>\n      <td>...</td>\n      <td>...</td>\n      <td>...</td>\n    </tr>\n    <tr>\n      <th>zt4p4w</th>\n      <td>{'confidence': 0.4883536100387573, 'text': 'a ...</td>\n      <td>{'values': [{'boundingBox': {'h': 2007, 'w': 6...</td>\n      <td>{'content': 'S\nCopyright @2020 xiuren.com All ...</td>\n      <td>{'values': [{'boundingBox': {'h': 2697, 'w': 1...</td>\n      <td>2023-02-01-preview</td>\n      <td>{'height': 2697, 'width': 1800}</td>\n      <td>{'values': [{'confidence': 0.9860861301422119,...</td>\n      <td>{'values': [{'aspectRatio': 1.0, 'boundingBox'...</td>\n      <td>{'values': [{'boundingBox': {'h': 2305, 'w': 7...</td>\n      <td>zt4p4w</td>\n    </tr>\n    <tr>\n      <th>ztq3co</th>\n      <td>{'confidence': 0.6259240508079529, 'text': 'a ...</td>\n      <td>{'values': [{'boundingBox': {'h': 262, 'w': 26...</td>\n      <td>{'content': '', 'modelVersion': '2022-04-30', ...</td>\n      <td>{'values': [{'boundingBox': {'h': 1102, 'w': 6...</td>\n      <td>2023-02-01-preview</td>\n      <td>{'height': 1102, 'width': 629}</td>\n      <td>{'values': [{'confidence': 0.9887521266937256,...</td>\n      <td>{'values': [{'aspectRatio': 1.0, 'boundingBox'...</td>\n      <td>{'values': [{'boundingBox': {'h': 1019, 'w': 2...</td>\n      <td>ztq3co</td>\n    </tr>\n    <tr>\n      <th>zwafy3</th>\n      <td>{'confidence': 0.5272310376167297, 'text': 'a ...</td>\n      <td>{'values': [{'boundingBox': {'h': 91, 'w': 99,...</td>\n      <td>{'content': 'ERSE\nKAKAKA', 'modelVersion': '20...</td>\n      <td>{'values': [{'boundingBox': {'h': 918, 'w': 74...</td>\n      <td>2023-02-01-preview</td>\n      <td>{'height': 918, 'width': 740}</td>\n      <td>{'values': [{'confidence': 0.9973839521408081,...</td>\n      <td>{'values': [{'aspectRatio': 1.0, 'boundingBox'...</td>\n      <td>{'values': [{'boundingBox': {'h': 814, 'w': 56...</td>\n      <td>zwafy3</td>\n    </tr>\n    <tr>\n      <th>zxbnu0</th>\n      <td>{'confidence': 0.4132983088493347, 'text': 'a ...</td>\n      <td>{'values': [{'boundingBox': {'h': 1107, 'w': 4...</td>\n      <td>{'content': 'Copyright @ 2019 XIAOYU &amp; Issued ...</td>\n      <td>{'values': [{'boundingBox': {'h': 1500, 'w': 1...</td>\n      <td>2023-02-01-preview</td>\n      <td>{'height': 1500, 'width': 1000}</td>\n      <td>{'values': [{'confidence': 0.9877384305000305,...</td>\n      <td>{'values': [{'aspectRatio': 1.0, 'boundingBox'...</td>\n      <td>{'values': [{'boundingBox': {'h': 1473, 'w': 4...</td>\n      <td>zxbnu0</td>\n    </tr>\n    <tr>\n      <th>zyubww</th>\n      <td>{'confidence': 0.690217912197113, 'text': 'a w...</td>\n      <td>{'values': [{'boundingBox': {'h': 639, 'w': 22...</td>\n      <td>{'content': '', 'modelVersion': '2022-04-30', ...</td>\n      <td>{'values': [{'boundingBox': {'h': 799, 'w': 64...</td>\n      <td>2023-02-01-preview</td>\n      <td>{'height': 799, 'width': 640}</td>\n      <td>{'values': [{'confidence': 0.980143666267395, ...</td>\n      <td>{'values': [{'aspectRatio': 1.0, 'boundingBox'...</td>\n      <td>{'values': [{'boundingBox': {'h': 752, 'w': 22...</td>\n      <td>zyubww</td>\n    </tr>\n  </tbody>\n</table>\n<p>20075 rows × 10 columns</p>\n</div>"
     },
     "metadata": {},
     "output_type": "display_data"
    },
    {
     "data": {
      "text/plain": "              id                                           captions   \nid                                                                    \n10006iy  10006iy  [{'confidence': 0.5599533319473267, 'text': 'a...  \\\n1000cng  1000cng  [{'confidence': 0.4056971073150635, 'text': 'a...   \n1000hda  1000hda  [{'confidence': 0.6252590417861938, 'text': 'a...   \n1000qpd  1000qpd  [{'confidence': 0.43016329407691956, 'text': '...   \n1000xd6  1000xd6  [{'confidence': 0.4159470796585083, 'text': 'a...   \n...          ...                                                ...   \nzt4p4w    zt4p4w  [{'confidence': 0.4883536100387573, 'text': 'a...   \nztq3co    ztq3co  [{'confidence': 0.6259240508079529, 'text': 'a...   \nzwafy3    zwafy3  [{'confidence': 0.5272310376167297, 'text': 'a...   \nzxbnu0    zxbnu0  [{'confidence': 0.4132983088493347, 'text': 'a...   \nzyubww    zyubww  [{'confidence': 0.690217912197113, 'text': 'a ...   \n\n                                            dense_captions   \nid                                                           \n10006iy  [{'boundingBox': {'h': 311, 'w': 1196, 'x': 12...  \\\n1000cng  [{'boundingBox': {'h': 1768, 'w': 1209, 'x': 1...   \n1000hda  [{'boundingBox': {'h': 1828, 'w': 1186, 'x': 1...   \n1000qpd  [{'boundingBox': {'h': 743, 'w': 1110, 'x': 0,...   \n1000xd6  [{'boundingBox': {'h': 2268, 'w': 4032, 'x': 0...   \n...                                                    ...   \nzt4p4w   [{'boundingBox': {'h': 2697, 'w': 1800, 'x': 0...   \nztq3co   [{'boundingBox': {'h': 1102, 'w': 629, 'x': 0,...   \nzwafy3   [{'boundingBox': {'h': 918, 'w': 740, 'x': 0, ...   \nzxbnu0   [{'boundingBox': {'h': 1500, 'w': 1000, 'x': 0...   \nzyubww   [{'boundingBox': {'h': 799, 'w': 640, 'x': 0, ...   \n\n                                      meta   \nid                                           \n10006iy  [{'height': 5068, 'width': 7407}]  \\\n1000cng  [{'height': 1800, 'width': 1440}]   \n1000hda  [{'height': 4032, 'width': 3024}]   \n1000qpd   [{'height': 743, 'width': 1110}]   \n1000xd6  [{'height': 2268, 'width': 4032}]   \n...                                    ...   \nzt4p4w   [{'height': 2697, 'width': 1800}]   \nztq3co    [{'height': 1102, 'width': 629}]   \nzwafy3     [{'height': 918, 'width': 740}]   \nzxbnu0   [{'height': 1500, 'width': 1000}]   \nzyubww     [{'height': 799, 'width': 640}]   \n\n                                                      tags   \nid                                                           \n10006iy  [{'confidence': 0.9876041412353516, 'name': 'g...  \\\n1000cng  [{'confidence': 0.9922141432762146, 'name': 'b...   \n1000hda  [{'confidence': 0.9986068606376648, 'name': 'f...   \n1000qpd  [{'confidence': 0.9853595495223999, 'name': 's...   \n1000xd6  [{'confidence': 0.9979767203330994, 'name': 'o...   \n...                                                    ...   \nzt4p4w   [{'confidence': 0.9860861301422119, 'name': 'c...   \nztq3co   [{'confidence': 0.9887521266937256, 'name': 'c...   \nzwafy3   [{'confidence': 0.9973839521408081, 'name': 'p...   \nzxbnu0   [{'confidence': 0.9877384305000305, 'name': 'p...   \nzyubww   [{'confidence': 0.980143666267395, 'name': 'cl...   \n\n                                                smart_crop  \nid                                                          \n10006iy  [{'aspectRatio': 1.0, 'boundingBox': {'h': 458...  \n1000cng  [{'aspectRatio': 1.0, 'boundingBox': {'h': 136...  \n1000hda  [{'aspectRatio': 1.0, 'boundingBox': {'h': 280...  \n1000qpd  [{'aspectRatio': 1.0, 'boundingBox': {'h': 740...  \n1000xd6  [{'aspectRatio': 1.0, 'boundingBox': {'h': 225...  \n...                                                    ...  \nzt4p4w   [{'aspectRatio': 1.0, 'boundingBox': {'h': 141...  \nztq3co   [{'aspectRatio': 1.0, 'boundingBox': {'h': 516...  \nzwafy3   [{'aspectRatio': 1.0, 'boundingBox': {'h': 737...  \nzxbnu0   [{'aspectRatio': 1.0, 'boundingBox': {'h': 879...  \nzyubww   [{'aspectRatio': 1.0, 'boundingBox': {'h': 638...  \n\n[20075 rows x 6 columns]",
      "text/html": "<div>\n<style scoped>\n    .dataframe tbody tr th:only-of-type {\n        vertical-align: middle;\n    }\n\n    .dataframe tbody tr th {\n        vertical-align: top;\n    }\n\n    .dataframe thead th {\n        text-align: right;\n    }\n</style>\n<table border=\"1\" class=\"dataframe\">\n  <thead>\n    <tr style=\"text-align: right;\">\n      <th></th>\n      <th>id</th>\n      <th>captions</th>\n      <th>dense_captions</th>\n      <th>meta</th>\n      <th>tags</th>\n      <th>smart_crop</th>\n    </tr>\n    <tr>\n      <th>id</th>\n      <th></th>\n      <th></th>\n      <th></th>\n      <th></th>\n      <th></th>\n      <th></th>\n    </tr>\n  </thead>\n  <tbody>\n    <tr>\n      <th>10006iy</th>\n      <td>10006iy</td>\n      <td>[{'confidence': 0.5599533319473267, 'text': 'a...</td>\n      <td>[{'boundingBox': {'h': 311, 'w': 1196, 'x': 12...</td>\n      <td>[{'height': 5068, 'width': 7407}]</td>\n      <td>[{'confidence': 0.9876041412353516, 'name': 'g...</td>\n      <td>[{'aspectRatio': 1.0, 'boundingBox': {'h': 458...</td>\n    </tr>\n    <tr>\n      <th>1000cng</th>\n      <td>1000cng</td>\n      <td>[{'confidence': 0.4056971073150635, 'text': 'a...</td>\n      <td>[{'boundingBox': {'h': 1768, 'w': 1209, 'x': 1...</td>\n      <td>[{'height': 1800, 'width': 1440}]</td>\n      <td>[{'confidence': 0.9922141432762146, 'name': 'b...</td>\n      <td>[{'aspectRatio': 1.0, 'boundingBox': {'h': 136...</td>\n    </tr>\n    <tr>\n      <th>1000hda</th>\n      <td>1000hda</td>\n      <td>[{'confidence': 0.6252590417861938, 'text': 'a...</td>\n      <td>[{'boundingBox': {'h': 1828, 'w': 1186, 'x': 1...</td>\n      <td>[{'height': 4032, 'width': 3024}]</td>\n      <td>[{'confidence': 0.9986068606376648, 'name': 'f...</td>\n      <td>[{'aspectRatio': 1.0, 'boundingBox': {'h': 280...</td>\n    </tr>\n    <tr>\n      <th>1000qpd</th>\n      <td>1000qpd</td>\n      <td>[{'confidence': 0.43016329407691956, 'text': '...</td>\n      <td>[{'boundingBox': {'h': 743, 'w': 1110, 'x': 0,...</td>\n      <td>[{'height': 743, 'width': 1110}]</td>\n      <td>[{'confidence': 0.9853595495223999, 'name': 's...</td>\n      <td>[{'aspectRatio': 1.0, 'boundingBox': {'h': 740...</td>\n    </tr>\n    <tr>\n      <th>1000xd6</th>\n      <td>1000xd6</td>\n      <td>[{'confidence': 0.4159470796585083, 'text': 'a...</td>\n      <td>[{'boundingBox': {'h': 2268, 'w': 4032, 'x': 0...</td>\n      <td>[{'height': 2268, 'width': 4032}]</td>\n      <td>[{'confidence': 0.9979767203330994, 'name': 'o...</td>\n      <td>[{'aspectRatio': 1.0, 'boundingBox': {'h': 225...</td>\n    </tr>\n    <tr>\n      <th>...</th>\n      <td>...</td>\n      <td>...</td>\n      <td>...</td>\n      <td>...</td>\n      <td>...</td>\n      <td>...</td>\n    </tr>\n    <tr>\n      <th>zt4p4w</th>\n      <td>zt4p4w</td>\n      <td>[{'confidence': 0.4883536100387573, 'text': 'a...</td>\n      <td>[{'boundingBox': {'h': 2697, 'w': 1800, 'x': 0...</td>\n      <td>[{'height': 2697, 'width': 1800}]</td>\n      <td>[{'confidence': 0.9860861301422119, 'name': 'c...</td>\n      <td>[{'aspectRatio': 1.0, 'boundingBox': {'h': 141...</td>\n    </tr>\n    <tr>\n      <th>ztq3co</th>\n      <td>ztq3co</td>\n      <td>[{'confidence': 0.6259240508079529, 'text': 'a...</td>\n      <td>[{'boundingBox': {'h': 1102, 'w': 629, 'x': 0,...</td>\n      <td>[{'height': 1102, 'width': 629}]</td>\n      <td>[{'confidence': 0.9887521266937256, 'name': 'c...</td>\n      <td>[{'aspectRatio': 1.0, 'boundingBox': {'h': 516...</td>\n    </tr>\n    <tr>\n      <th>zwafy3</th>\n      <td>zwafy3</td>\n      <td>[{'confidence': 0.5272310376167297, 'text': 'a...</td>\n      <td>[{'boundingBox': {'h': 918, 'w': 740, 'x': 0, ...</td>\n      <td>[{'height': 918, 'width': 740}]</td>\n      <td>[{'confidence': 0.9973839521408081, 'name': 'p...</td>\n      <td>[{'aspectRatio': 1.0, 'boundingBox': {'h': 737...</td>\n    </tr>\n    <tr>\n      <th>zxbnu0</th>\n      <td>zxbnu0</td>\n      <td>[{'confidence': 0.4132983088493347, 'text': 'a...</td>\n      <td>[{'boundingBox': {'h': 1500, 'w': 1000, 'x': 0...</td>\n      <td>[{'height': 1500, 'width': 1000}]</td>\n      <td>[{'confidence': 0.9877384305000305, 'name': 'p...</td>\n      <td>[{'aspectRatio': 1.0, 'boundingBox': {'h': 879...</td>\n    </tr>\n    <tr>\n      <th>zyubww</th>\n      <td>zyubww</td>\n      <td>[{'confidence': 0.690217912197113, 'text': 'a ...</td>\n      <td>[{'boundingBox': {'h': 799, 'w': 640, 'x': 0, ...</td>\n      <td>[{'height': 799, 'width': 640}]</td>\n      <td>[{'confidence': 0.980143666267395, 'name': 'cl...</td>\n      <td>[{'aspectRatio': 1.0, 'boundingBox': {'h': 638...</td>\n    </tr>\n  </tbody>\n</table>\n<p>20075 rows × 6 columns</p>\n</div>"
     },
     "metadata": {},
     "output_type": "display_data"
    }
   ],
   "source": [
    "# @title all_data_from_captions and filtered_data_from_captions\n",
    "\n",
    "all_data_from_captions = pandas.read_parquet(\"data/parquet/all_data_from_captions.parquet\", engine='pyarrow',\n",
    "\t\t\t\t\t\t\t\t\t\t\t filesystem=file_system)\n",
    "all_data_from_captions.set_index('id', inplace=True, drop=False)\n",
    "\n",
    "filtered_data_from_captions = pandas.read_parquet(\"data/parquet/filtered_data_from_captions.parquet\", engine='pyarrow',\n",
    "\t\t\t\t\t\t\t\t\t\t\t\t  filesystem=file_system)\n",
    "filtered_data_from_captions.set_index('id', inplace=True, drop=False)\n",
    "\n",
    "display(all_data_from_captions)\n",
    "display(filtered_data_from_captions)"
   ],
   "metadata": {
    "collapsed": false
   }
  },
  {
   "cell_type": "code",
   "execution_count": 8,
   "outputs": [
    {
     "data": {
      "text/plain": "'=== Obtaining Caption Files List ==='"
     },
     "metadata": {},
     "output_type": "display_data"
    },
    {
     "data": {
      "text/plain": "'current caption files: 20408'"
     },
     "metadata": {},
     "output_type": "display_data"
    },
    {
     "name": "stderr",
     "output_type": "stream",
     "text": [
      "Reading caption files: 100%|██████████| 20408/20408 [00:32<00:00, 621.57it/s] \n"
     ]
    }
   ],
   "source": [
    "# @title Get Caption Files\n",
    "\n",
    "import json\n",
    "\n",
    "display(\"=== Obtaining Caption Files List ===\")\n",
    "current_captions = file_system.ls(\"data/caption\")\n",
    "display(f\"current caption files: {len(current_captions)}\")\n",
    "\n",
    "all_data = []\n",
    "filtered_data = []\n",
    "\n",
    "for caption_file in tqdm(current_captions, total=len(current_captions), desc='Reading caption files'):\n",
    "\timage_id = caption_file.split('/')[-1].split('.')[0]\n",
    "\tif image_id in all_data_from_captions['id'].values or image_id in filtered_data_from_captions['id'].values:\n",
    "\t\tcontinue\n",
    "\ttry:\n",
    "\t\tfile_size = file_system.size(caption_file)\n",
    "\t\tif file_size == 0:\n",
    "\t\t\tdisplay(f'Empty file -- removing {image_id}', clear=True)\n",
    "\t\t\tfile_system.rm(caption_file)\n",
    "\t\t\tcontinue\n",
    "\t\tcaption_data = json.loads(file_system.read_text(caption_file, encoding='utf-8'))\n",
    "\t\tcaption_data[\"id\"] = image_id\n",
    "\t\tdense_caption_result = caption_data.get('denseCaptionsResult')\n",
    "\t\tmetadata = caption_data.get('metadata')\n",
    "\t\ttags_result = caption_data.get('tagsResult')\n",
    "\t\tsmart_crop_result = caption_data.get('smartCropsResult')\n",
    "\t\tbasic_caption = caption_data.get('captionResult')\n",
    "\t\t_filtered_data = {\n",
    "\t\t\t\"id\": image_id,\n",
    "\t\t\t\"captions\": [basic_caption],\n",
    "\t\t\t\"dense_captions\": dense_caption_result['values'],\n",
    "\t\t\t\"meta\": [metadata],\n",
    "\t\t\t\"tags\": tags_result['values'],\n",
    "\t\t\t\"smart_crop\": smart_crop_result['values']\n",
    "\t\t}\n",
    "\t\tall_data.append(caption_data)\n",
    "\t\tfiltered_data.append(_filtered_data)\n",
    "\texcept Exception as e:\n",
    "\t\tdisplay(f\" Exception {e} for {image_id}\", clear=True)\n",
    "\t\tcontinue"
   ],
   "metadata": {
    "collapsed": false
   }
  },
  {
   "cell_type": "code",
   "execution_count": 9,
   "outputs": [],
   "source": [
    "# @title Get new captions\n",
    "\n",
    "new_all_data_from_captions = pandas.DataFrame(data=all_data)\n",
    "\n",
    "new_filtered_data_from_captions = pandas.DataFrame(data=filtered_data)\n",
    "\n",
    "# display(new_all_data_from_captions)\n",
    "# display(new_filtered_data_from_captions)\n",
    "\n",
    "combined_new_all_data_from_captions = pandas.concat([all_data_from_captions, new_all_data_from_captions])\n",
    "combined_new_all_data_from_captions.dropna(axis=1, how='all', inplace=True)\n",
    "combined_new_all_data_from_captions.reset_index(drop=True, inplace=True)\n",
    "\n",
    "combined_new_filtered_data_from_captions = pandas.concat([filtered_data_from_captions, new_filtered_data_from_captions])\n",
    "combined_new_filtered_data_from_captions.dropna(axis=1, how='all', inplace=True)\n",
    "combined_new_filtered_data_from_captions.reset_index(drop=True, inplace=True)\n",
    "\n",
    "# display(combined_new_all_data_from_captions)\n",
    "# display(combined_new_filtered_data_from_captions)\n",
    "\n",
    "combined_new_all_data_from_captions.to_parquet(\"data/parquet/all_data_from_captions.parquet\", engine='pyarrow',\n",
    "\t\t\t\t\t\t\t\t\t\t\t   filesystem=file_system)\n",
    "\n",
    "combined_new_filtered_data_from_captions.to_parquet(\"data/parquet/filtered_data_from_captions.parquet\",\n",
    "\t\t\t\t\t\t\t\t\t\t\t\t\tengine='pyarrow', filesystem=file_system)"
   ],
   "metadata": {
    "collapsed": false
   }
  },
  {
   "cell_type": "code",
   "execution_count": 10,
   "outputs": [
    {
     "data": {
      "text/plain": "                                           captionResult   \n0      {'confidence': 0.5599533319473267, 'text': 'a ...  \\\n1      {'confidence': 0.4056971073150635, 'text': 'a ...   \n2      {'confidence': 0.6252590417861938, 'text': 'a ...   \n3      {'confidence': 0.43016329407691956, 'text': 'a...   \n4      {'confidence': 0.4159470796585083, 'text': 'a ...   \n...                                                  ...   \n20403  {'confidence': 0.6299172043800354, 'text': 'a ...   \n20404  {'confidence': 0.5811892747879028, 'text': 'a ...   \n20405  {'confidence': 0.6229829788208008, 'text': 'a ...   \n20406  {'confidence': 0.547930896282196, 'text': 'a g...   \n20407  {'confidence': 0.658382773399353, 'text': 'a w...   \n\n                                           objectsResult   \n0      {'values': [{'boundingBox': {'h': 825, 'w': 14...  \\\n1                                         {'values': []}   \n2      {'values': [{'boundingBox': {'h': 2233, 'w': 2...   \n3      {'values': [{'boundingBox': {'h': 228, 'w': 56...   \n4      {'values': [{'boundingBox': {'h': 1761, 'w': 7...   \n...                                                  ...   \n20403  {'values': [{'boundingBox': {'h': 125, 'w': 16...   \n20404  {'values': [{'boundingBox': {'h': 1032, 'w': 3...   \n20405  {'values': [{'boundingBox': {'h': 1045, 'w': 2...   \n20406  {'values': [{'boundingBox': {'h': 700, 'w': 27...   \n20407                                     {'values': []}   \n\n                                              readResult   \n0      {'content': 'pepsi\nLite\n000\nAT&T STADIUM', 'mo...  \\\n1      {'content': '', 'modelVersion': '2022-04-30', ...   \n2      {'content': '', 'modelVersion': '2022-04-30', ...   \n3      {'content': '@ Adam Woodworth', 'modelVersion'...   \n4      {'content': '', 'modelVersion': '2022-04-30', ...   \n...                                                  ...   \n20403  {'content': '', 'modelVersion': '2022-04-30', ...   \n20404  {'content': '', 'modelVersion': '2022-04-30', ...   \n20405  {'content': '-\n-\n-\n-\n- -\n1', 'modelVersion': '...   \n20406  {'content': '', 'modelVersion': '2022-04-30', ...   \n20407  {'content': '', 'modelVersion': '2022-04-30', ...   \n\n                                     denseCaptionsResult        modelVersion   \n0      {'values': [{'boundingBox': {'h': 311, 'w': 11...  2023-02-01-preview  \\\n1      {'values': [{'boundingBox': {'h': 1768, 'w': 1...  2023-02-01-preview   \n2      {'values': [{'boundingBox': {'h': 1828, 'w': 1...  2023-02-01-preview   \n3      {'values': [{'boundingBox': {'h': 743, 'w': 11...  2023-02-01-preview   \n4      {'values': [{'boundingBox': {'h': 2268, 'w': 4...  2023-02-01-preview   \n...                                                  ...                 ...   \n20403  {'values': [{'boundingBox': {'h': 615, 'w': 75...  2023-02-01-preview   \n20404  {'values': [{'boundingBox': {'h': 1168, 'w': 1...  2023-02-01-preview   \n20405  {'values': [{'boundingBox': {'h': 1349, 'w': 1...  2023-02-01-preview   \n20406  {'values': [{'boundingBox': {'h': 960, 'w': 78...  2023-02-01-preview   \n20407  {'values': [{'boundingBox': {'h': 1191, 'w': 7...  2023-02-01-preview   \n\n                              metadata   \n0      {'height': 5068, 'width': 7407}  \\\n1      {'height': 1800, 'width': 1440}   \n2      {'height': 4032, 'width': 3024}   \n3       {'height': 743, 'width': 1110}   \n4      {'height': 2268, 'width': 4032}   \n...                                ...   \n20403    {'height': 615, 'width': 750}   \n20404  {'height': 1168, 'width': 1079}   \n20405  {'height': 1349, 'width': 1080}   \n20406    {'height': 960, 'width': 786}   \n20407   {'height': 1191, 'width': 720}   \n\n                                              tagsResult   \n0      {'values': [{'confidence': 0.9876041412353516,...  \\\n1      {'values': [{'confidence': 0.9922141432762146,...   \n2      {'values': [{'confidence': 0.9986068606376648,...   \n3      {'values': [{'confidence': 0.9853595495223999,...   \n4      {'values': [{'confidence': 0.9979767203330994,...   \n...                                                  ...   \n20403  {'values': [{'confidence': 0.9957964420318604,...   \n20404  {'values': [{'confidence': 0.9977792501449585,...   \n20405  {'values': [{'confidence': 0.9985472559928894,...   \n20406  {'values': [{'confidence': 0.9916610717773438,...   \n20407  {'values': [{'confidence': 0.9965468049049377,...   \n\n                                        smartCropsResult   \n0      {'values': [{'aspectRatio': 1.0, 'boundingBox'...  \\\n1      {'values': [{'aspectRatio': 1.0, 'boundingBox'...   \n2      {'values': [{'aspectRatio': 1.0, 'boundingBox'...   \n3      {'values': [{'aspectRatio': 1.0, 'boundingBox'...   \n4      {'values': [{'aspectRatio': 1.0, 'boundingBox'...   \n...                                                  ...   \n20403  {'values': [{'aspectRatio': 1.0, 'boundingBox'...   \n20404  {'values': [{'aspectRatio': 1.0, 'boundingBox'...   \n20405  {'values': [{'aspectRatio': 1.0, 'boundingBox'...   \n20406  {'values': [{'aspectRatio': 1.0, 'boundingBox'...   \n20407  {'values': [{'aspectRatio': 1.0, 'boundingBox'...   \n\n                                            peopleResult       id  \n0      {'values': [{'boundingBox': {'h': 283, 'w': 12...  10006iy  \n1                                         {'values': []}  1000cng  \n2      {'values': [{'boundingBox': {'h': 1824, 'w': 1...  1000hda  \n3      {'values': [{'boundingBox': {'h': 37, 'w': 14,...  1000qpd  \n4      {'values': [{'boundingBox': {'h': 1898, 'w': 8...  1000xd6  \n...                                                  ...      ...  \n20403  {'values': [{'boundingBox': {'h': 592, 'w': 32...   yshe9g  \n20404  {'values': [{'boundingBox': {'h': 1061, 'w': 3...   ywtmts  \n20405  {'values': [{'boundingBox': {'h': 1094, 'w': 3...   z2pwpm  \n20406  {'values': [{'boundingBox': {'h': 815, 'w': 28...   zon25k  \n20407  {'values': [{'boundingBox': {'h': 1113, 'w': 4...   zpudb3  \n\n[20408 rows x 10 columns]",
      "text/html": "<div>\n<style scoped>\n    .dataframe tbody tr th:only-of-type {\n        vertical-align: middle;\n    }\n\n    .dataframe tbody tr th {\n        vertical-align: top;\n    }\n\n    .dataframe thead th {\n        text-align: right;\n    }\n</style>\n<table border=\"1\" class=\"dataframe\">\n  <thead>\n    <tr style=\"text-align: right;\">\n      <th></th>\n      <th>captionResult</th>\n      <th>objectsResult</th>\n      <th>readResult</th>\n      <th>denseCaptionsResult</th>\n      <th>modelVersion</th>\n      <th>metadata</th>\n      <th>tagsResult</th>\n      <th>smartCropsResult</th>\n      <th>peopleResult</th>\n      <th>id</th>\n    </tr>\n  </thead>\n  <tbody>\n    <tr>\n      <th>0</th>\n      <td>{'confidence': 0.5599533319473267, 'text': 'a ...</td>\n      <td>{'values': [{'boundingBox': {'h': 825, 'w': 14...</td>\n      <td>{'content': 'pepsi\nLite\n000\nAT&amp;T STADIUM', 'mo...</td>\n      <td>{'values': [{'boundingBox': {'h': 311, 'w': 11...</td>\n      <td>2023-02-01-preview</td>\n      <td>{'height': 5068, 'width': 7407}</td>\n      <td>{'values': [{'confidence': 0.9876041412353516,...</td>\n      <td>{'values': [{'aspectRatio': 1.0, 'boundingBox'...</td>\n      <td>{'values': [{'boundingBox': {'h': 283, 'w': 12...</td>\n      <td>10006iy</td>\n    </tr>\n    <tr>\n      <th>1</th>\n      <td>{'confidence': 0.4056971073150635, 'text': 'a ...</td>\n      <td>{'values': []}</td>\n      <td>{'content': '', 'modelVersion': '2022-04-30', ...</td>\n      <td>{'values': [{'boundingBox': {'h': 1768, 'w': 1...</td>\n      <td>2023-02-01-preview</td>\n      <td>{'height': 1800, 'width': 1440}</td>\n      <td>{'values': [{'confidence': 0.9922141432762146,...</td>\n      <td>{'values': [{'aspectRatio': 1.0, 'boundingBox'...</td>\n      <td>{'values': []}</td>\n      <td>1000cng</td>\n    </tr>\n    <tr>\n      <th>2</th>\n      <td>{'confidence': 0.6252590417861938, 'text': 'a ...</td>\n      <td>{'values': [{'boundingBox': {'h': 2233, 'w': 2...</td>\n      <td>{'content': '', 'modelVersion': '2022-04-30', ...</td>\n      <td>{'values': [{'boundingBox': {'h': 1828, 'w': 1...</td>\n      <td>2023-02-01-preview</td>\n      <td>{'height': 4032, 'width': 3024}</td>\n      <td>{'values': [{'confidence': 0.9986068606376648,...</td>\n      <td>{'values': [{'aspectRatio': 1.0, 'boundingBox'...</td>\n      <td>{'values': [{'boundingBox': {'h': 1824, 'w': 1...</td>\n      <td>1000hda</td>\n    </tr>\n    <tr>\n      <th>3</th>\n      <td>{'confidence': 0.43016329407691956, 'text': 'a...</td>\n      <td>{'values': [{'boundingBox': {'h': 228, 'w': 56...</td>\n      <td>{'content': '@ Adam Woodworth', 'modelVersion'...</td>\n      <td>{'values': [{'boundingBox': {'h': 743, 'w': 11...</td>\n      <td>2023-02-01-preview</td>\n      <td>{'height': 743, 'width': 1110}</td>\n      <td>{'values': [{'confidence': 0.9853595495223999,...</td>\n      <td>{'values': [{'aspectRatio': 1.0, 'boundingBox'...</td>\n      <td>{'values': [{'boundingBox': {'h': 37, 'w': 14,...</td>\n      <td>1000qpd</td>\n    </tr>\n    <tr>\n      <th>4</th>\n      <td>{'confidence': 0.4159470796585083, 'text': 'a ...</td>\n      <td>{'values': [{'boundingBox': {'h': 1761, 'w': 7...</td>\n      <td>{'content': '', 'modelVersion': '2022-04-30', ...</td>\n      <td>{'values': [{'boundingBox': {'h': 2268, 'w': 4...</td>\n      <td>2023-02-01-preview</td>\n      <td>{'height': 2268, 'width': 4032}</td>\n      <td>{'values': [{'confidence': 0.9979767203330994,...</td>\n      <td>{'values': [{'aspectRatio': 1.0, 'boundingBox'...</td>\n      <td>{'values': [{'boundingBox': {'h': 1898, 'w': 8...</td>\n      <td>1000xd6</td>\n    </tr>\n    <tr>\n      <th>...</th>\n      <td>...</td>\n      <td>...</td>\n      <td>...</td>\n      <td>...</td>\n      <td>...</td>\n      <td>...</td>\n      <td>...</td>\n      <td>...</td>\n      <td>...</td>\n      <td>...</td>\n    </tr>\n    <tr>\n      <th>20403</th>\n      <td>{'confidence': 0.6299172043800354, 'text': 'a ...</td>\n      <td>{'values': [{'boundingBox': {'h': 125, 'w': 16...</td>\n      <td>{'content': '', 'modelVersion': '2022-04-30', ...</td>\n      <td>{'values': [{'boundingBox': {'h': 615, 'w': 75...</td>\n      <td>2023-02-01-preview</td>\n      <td>{'height': 615, 'width': 750}</td>\n      <td>{'values': [{'confidence': 0.9957964420318604,...</td>\n      <td>{'values': [{'aspectRatio': 1.0, 'boundingBox'...</td>\n      <td>{'values': [{'boundingBox': {'h': 592, 'w': 32...</td>\n      <td>yshe9g</td>\n    </tr>\n    <tr>\n      <th>20404</th>\n      <td>{'confidence': 0.5811892747879028, 'text': 'a ...</td>\n      <td>{'values': [{'boundingBox': {'h': 1032, 'w': 3...</td>\n      <td>{'content': '', 'modelVersion': '2022-04-30', ...</td>\n      <td>{'values': [{'boundingBox': {'h': 1168, 'w': 1...</td>\n      <td>2023-02-01-preview</td>\n      <td>{'height': 1168, 'width': 1079}</td>\n      <td>{'values': [{'confidence': 0.9977792501449585,...</td>\n      <td>{'values': [{'aspectRatio': 1.0, 'boundingBox'...</td>\n      <td>{'values': [{'boundingBox': {'h': 1061, 'w': 3...</td>\n      <td>ywtmts</td>\n    </tr>\n    <tr>\n      <th>20405</th>\n      <td>{'confidence': 0.6229829788208008, 'text': 'a ...</td>\n      <td>{'values': [{'boundingBox': {'h': 1045, 'w': 2...</td>\n      <td>{'content': '-\n-\n-\n-\n- -\n1', 'modelVersion': '...</td>\n      <td>{'values': [{'boundingBox': {'h': 1349, 'w': 1...</td>\n      <td>2023-02-01-preview</td>\n      <td>{'height': 1349, 'width': 1080}</td>\n      <td>{'values': [{'confidence': 0.9985472559928894,...</td>\n      <td>{'values': [{'aspectRatio': 1.0, 'boundingBox'...</td>\n      <td>{'values': [{'boundingBox': {'h': 1094, 'w': 3...</td>\n      <td>z2pwpm</td>\n    </tr>\n    <tr>\n      <th>20406</th>\n      <td>{'confidence': 0.547930896282196, 'text': 'a g...</td>\n      <td>{'values': [{'boundingBox': {'h': 700, 'w': 27...</td>\n      <td>{'content': '', 'modelVersion': '2022-04-30', ...</td>\n      <td>{'values': [{'boundingBox': {'h': 960, 'w': 78...</td>\n      <td>2023-02-01-preview</td>\n      <td>{'height': 960, 'width': 786}</td>\n      <td>{'values': [{'confidence': 0.9916610717773438,...</td>\n      <td>{'values': [{'aspectRatio': 1.0, 'boundingBox'...</td>\n      <td>{'values': [{'boundingBox': {'h': 815, 'w': 28...</td>\n      <td>zon25k</td>\n    </tr>\n    <tr>\n      <th>20407</th>\n      <td>{'confidence': 0.658382773399353, 'text': 'a w...</td>\n      <td>{'values': []}</td>\n      <td>{'content': '', 'modelVersion': '2022-04-30', ...</td>\n      <td>{'values': [{'boundingBox': {'h': 1191, 'w': 7...</td>\n      <td>2023-02-01-preview</td>\n      <td>{'height': 1191, 'width': 720}</td>\n      <td>{'values': [{'confidence': 0.9965468049049377,...</td>\n      <td>{'values': [{'aspectRatio': 1.0, 'boundingBox'...</td>\n      <td>{'values': [{'boundingBox': {'h': 1113, 'w': 4...</td>\n      <td>zpudb3</td>\n    </tr>\n  </tbody>\n</table>\n<p>20408 rows × 10 columns</p>\n</div>"
     },
     "metadata": {},
     "output_type": "display_data"
    },
    {
     "data": {
      "text/plain": "            id                                           captions   \n0      10006iy  [{'confidence': 0.5599533319473267, 'text': 'a...  \\\n1      1000cng  [{'confidence': 0.4056971073150635, 'text': 'a...   \n2      1000hda  [{'confidence': 0.6252590417861938, 'text': 'a...   \n3      1000qpd  [{'confidence': 0.43016329407691956, 'text': '...   \n4      1000xd6  [{'confidence': 0.4159470796585083, 'text': 'a...   \n...        ...                                                ...   \n20403   yshe9g  [{'confidence': 0.6299172043800354, 'text': 'a...   \n20404   ywtmts  [{'confidence': 0.5811892747879028, 'text': 'a...   \n20405   z2pwpm  [{'confidence': 0.6229829788208008, 'text': 'a...   \n20406   zon25k  [{'confidence': 0.547930896282196, 'text': 'a ...   \n20407   zpudb3  [{'confidence': 0.658382773399353, 'text': 'a ...   \n\n                                          dense_captions   \n0      [{'boundingBox': {'h': 311, 'w': 1196, 'x': 12...  \\\n1      [{'boundingBox': {'h': 1768, 'w': 1209, 'x': 1...   \n2      [{'boundingBox': {'h': 1828, 'w': 1186, 'x': 1...   \n3      [{'boundingBox': {'h': 743, 'w': 1110, 'x': 0,...   \n4      [{'boundingBox': {'h': 2268, 'w': 4032, 'x': 0...   \n...                                                  ...   \n20403  [{'boundingBox': {'h': 615, 'w': 750, 'x': 0, ...   \n20404  [{'boundingBox': {'h': 1168, 'w': 1079, 'x': 0...   \n20405  [{'boundingBox': {'h': 1349, 'w': 1080, 'x': 0...   \n20406  [{'boundingBox': {'h': 960, 'w': 786, 'x': 0, ...   \n20407  [{'boundingBox': {'h': 1191, 'w': 720, 'x': 0,...   \n\n                                    meta   \n0      [{'height': 5068, 'width': 7407}]  \\\n1      [{'height': 1800, 'width': 1440}]   \n2      [{'height': 4032, 'width': 3024}]   \n3       [{'height': 743, 'width': 1110}]   \n4      [{'height': 2268, 'width': 4032}]   \n...                                  ...   \n20403    [{'height': 615, 'width': 750}]   \n20404  [{'height': 1168, 'width': 1079}]   \n20405  [{'height': 1349, 'width': 1080}]   \n20406    [{'height': 960, 'width': 786}]   \n20407   [{'height': 1191, 'width': 720}]   \n\n                                                    tags   \n0      [{'confidence': 0.9876041412353516, 'name': 'g...  \\\n1      [{'confidence': 0.9922141432762146, 'name': 'b...   \n2      [{'confidence': 0.9986068606376648, 'name': 'f...   \n3      [{'confidence': 0.9853595495223999, 'name': 's...   \n4      [{'confidence': 0.9979767203330994, 'name': 'o...   \n...                                                  ...   \n20403  [{'confidence': 0.9957964420318604, 'name': 'c...   \n20404  [{'confidence': 0.9977792501449585, 'name': 'p...   \n20405  [{'confidence': 0.9985472559928894, 'name': 'p...   \n20406  [{'confidence': 0.9916610717773438, 'name': 'p...   \n20407  [{'confidence': 0.9965468049049377, 'name': 'c...   \n\n                                              smart_crop  \n0      [{'aspectRatio': 1.0, 'boundingBox': {'h': 458...  \n1      [{'aspectRatio': 1.0, 'boundingBox': {'h': 136...  \n2      [{'aspectRatio': 1.0, 'boundingBox': {'h': 280...  \n3      [{'aspectRatio': 1.0, 'boundingBox': {'h': 740...  \n4      [{'aspectRatio': 1.0, 'boundingBox': {'h': 225...  \n...                                                  ...  \n20403  [{'aspectRatio': 1.0, 'boundingBox': {'h': 607...  \n20404  [{'aspectRatio': 1.0, 'boundingBox': {'h': 103...  \n20405  [{'aspectRatio': 1.0, 'boundingBox': {'h': 106...  \n20406  [{'aspectRatio': 1.0, 'boundingBox': {'h': 783...  \n20407  [{'aspectRatio': 1.0, 'boundingBox': {'h': 675...  \n\n[20408 rows x 6 columns]",
      "text/html": "<div>\n<style scoped>\n    .dataframe tbody tr th:only-of-type {\n        vertical-align: middle;\n    }\n\n    .dataframe tbody tr th {\n        vertical-align: top;\n    }\n\n    .dataframe thead th {\n        text-align: right;\n    }\n</style>\n<table border=\"1\" class=\"dataframe\">\n  <thead>\n    <tr style=\"text-align: right;\">\n      <th></th>\n      <th>id</th>\n      <th>captions</th>\n      <th>dense_captions</th>\n      <th>meta</th>\n      <th>tags</th>\n      <th>smart_crop</th>\n    </tr>\n  </thead>\n  <tbody>\n    <tr>\n      <th>0</th>\n      <td>10006iy</td>\n      <td>[{'confidence': 0.5599533319473267, 'text': 'a...</td>\n      <td>[{'boundingBox': {'h': 311, 'w': 1196, 'x': 12...</td>\n      <td>[{'height': 5068, 'width': 7407}]</td>\n      <td>[{'confidence': 0.9876041412353516, 'name': 'g...</td>\n      <td>[{'aspectRatio': 1.0, 'boundingBox': {'h': 458...</td>\n    </tr>\n    <tr>\n      <th>1</th>\n      <td>1000cng</td>\n      <td>[{'confidence': 0.4056971073150635, 'text': 'a...</td>\n      <td>[{'boundingBox': {'h': 1768, 'w': 1209, 'x': 1...</td>\n      <td>[{'height': 1800, 'width': 1440}]</td>\n      <td>[{'confidence': 0.9922141432762146, 'name': 'b...</td>\n      <td>[{'aspectRatio': 1.0, 'boundingBox': {'h': 136...</td>\n    </tr>\n    <tr>\n      <th>2</th>\n      <td>1000hda</td>\n      <td>[{'confidence': 0.6252590417861938, 'text': 'a...</td>\n      <td>[{'boundingBox': {'h': 1828, 'w': 1186, 'x': 1...</td>\n      <td>[{'height': 4032, 'width': 3024}]</td>\n      <td>[{'confidence': 0.9986068606376648, 'name': 'f...</td>\n      <td>[{'aspectRatio': 1.0, 'boundingBox': {'h': 280...</td>\n    </tr>\n    <tr>\n      <th>3</th>\n      <td>1000qpd</td>\n      <td>[{'confidence': 0.43016329407691956, 'text': '...</td>\n      <td>[{'boundingBox': {'h': 743, 'w': 1110, 'x': 0,...</td>\n      <td>[{'height': 743, 'width': 1110}]</td>\n      <td>[{'confidence': 0.9853595495223999, 'name': 's...</td>\n      <td>[{'aspectRatio': 1.0, 'boundingBox': {'h': 740...</td>\n    </tr>\n    <tr>\n      <th>4</th>\n      <td>1000xd6</td>\n      <td>[{'confidence': 0.4159470796585083, 'text': 'a...</td>\n      <td>[{'boundingBox': {'h': 2268, 'w': 4032, 'x': 0...</td>\n      <td>[{'height': 2268, 'width': 4032}]</td>\n      <td>[{'confidence': 0.9979767203330994, 'name': 'o...</td>\n      <td>[{'aspectRatio': 1.0, 'boundingBox': {'h': 225...</td>\n    </tr>\n    <tr>\n      <th>...</th>\n      <td>...</td>\n      <td>...</td>\n      <td>...</td>\n      <td>...</td>\n      <td>...</td>\n      <td>...</td>\n    </tr>\n    <tr>\n      <th>20403</th>\n      <td>yshe9g</td>\n      <td>[{'confidence': 0.6299172043800354, 'text': 'a...</td>\n      <td>[{'boundingBox': {'h': 615, 'w': 750, 'x': 0, ...</td>\n      <td>[{'height': 615, 'width': 750}]</td>\n      <td>[{'confidence': 0.9957964420318604, 'name': 'c...</td>\n      <td>[{'aspectRatio': 1.0, 'boundingBox': {'h': 607...</td>\n    </tr>\n    <tr>\n      <th>20404</th>\n      <td>ywtmts</td>\n      <td>[{'confidence': 0.5811892747879028, 'text': 'a...</td>\n      <td>[{'boundingBox': {'h': 1168, 'w': 1079, 'x': 0...</td>\n      <td>[{'height': 1168, 'width': 1079}]</td>\n      <td>[{'confidence': 0.9977792501449585, 'name': 'p...</td>\n      <td>[{'aspectRatio': 1.0, 'boundingBox': {'h': 103...</td>\n    </tr>\n    <tr>\n      <th>20405</th>\n      <td>z2pwpm</td>\n      <td>[{'confidence': 0.6229829788208008, 'text': 'a...</td>\n      <td>[{'boundingBox': {'h': 1349, 'w': 1080, 'x': 0...</td>\n      <td>[{'height': 1349, 'width': 1080}]</td>\n      <td>[{'confidence': 0.9985472559928894, 'name': 'p...</td>\n      <td>[{'aspectRatio': 1.0, 'boundingBox': {'h': 106...</td>\n    </tr>\n    <tr>\n      <th>20406</th>\n      <td>zon25k</td>\n      <td>[{'confidence': 0.547930896282196, 'text': 'a ...</td>\n      <td>[{'boundingBox': {'h': 960, 'w': 786, 'x': 0, ...</td>\n      <td>[{'height': 960, 'width': 786}]</td>\n      <td>[{'confidence': 0.9916610717773438, 'name': 'p...</td>\n      <td>[{'aspectRatio': 1.0, 'boundingBox': {'h': 783...</td>\n    </tr>\n    <tr>\n      <th>20407</th>\n      <td>zpudb3</td>\n      <td>[{'confidence': 0.658382773399353, 'text': 'a ...</td>\n      <td>[{'boundingBox': {'h': 1191, 'w': 720, 'x': 0,...</td>\n      <td>[{'height': 1191, 'width': 720}]</td>\n      <td>[{'confidence': 0.9965468049049377, 'name': 'c...</td>\n      <td>[{'aspectRatio': 1.0, 'boundingBox': {'h': 675...</td>\n    </tr>\n  </tbody>\n</table>\n<p>20408 rows × 6 columns</p>\n</div>"
     },
     "metadata": {},
     "output_type": "display_data"
    }
   ],
   "source": [
    "# @title all_data_from_captions and filtered_data_from_captions\n",
    "\n",
    "all_data_from_captions = pandas.read_parquet(\"data/parquet/all_data_from_captions.parquet\", engine='pyarrow',\n",
    "\t\t\t\t\t\t\t\t\t\t\t filesystem=file_system)\n",
    "display(all_data_from_captions)\n",
    "\n",
    "\tfiltered_data_from_captions = pandas.read_parquet(\"data/parquet/filtered_data_from_captions.parquet\", engine='pyarrow',\n",
    "\t\t\t\t\t\t\t\t\t\t\t\t  filesystem=file_system)\n",
    "\n",
    "display(filtered_data_from_captions)"
   ],
   "metadata": {
    "collapsed": false
   }
  },
  {
   "cell_type": "code",
   "execution_count": 11,
   "outputs": [
    {
     "name": "stderr",
     "output_type": "stream",
     "text": [
      "100%|██████████| 20408/20408 [00:16<00:00, 1268.26it/s]\n"
     ]
    },
    {
     "data": {
      "text/plain": "        confidence                      name       id\n0         0.987604                     grass  10006iy\n1         0.923687                   outdoor  10006iy\n2         0.915661           artificial turf  10006iy\n3         0.912514                   stadium  10006iy\n4         0.880675          sports equipment  10006iy\n...            ...                       ...      ...\n308828    0.856076                    sandal   zpudb3\n308829    0.846750              casual dress   zpudb3\n308830    0.841782  pattern (fashion design)   zpudb3\n308831    0.814569                     woman   zpudb3\n308832    0.657959                    indoor   zpudb3\n\n[308833 rows x 3 columns]",
      "text/html": "<div>\n<style scoped>\n    .dataframe tbody tr th:only-of-type {\n        vertical-align: middle;\n    }\n\n    .dataframe tbody tr th {\n        vertical-align: top;\n    }\n\n    .dataframe thead th {\n        text-align: right;\n    }\n</style>\n<table border=\"1\" class=\"dataframe\">\n  <thead>\n    <tr style=\"text-align: right;\">\n      <th></th>\n      <th>confidence</th>\n      <th>name</th>\n      <th>id</th>\n    </tr>\n  </thead>\n  <tbody>\n    <tr>\n      <th>0</th>\n      <td>0.987604</td>\n      <td>grass</td>\n      <td>10006iy</td>\n    </tr>\n    <tr>\n      <th>1</th>\n      <td>0.923687</td>\n      <td>outdoor</td>\n      <td>10006iy</td>\n    </tr>\n    <tr>\n      <th>2</th>\n      <td>0.915661</td>\n      <td>artificial turf</td>\n      <td>10006iy</td>\n    </tr>\n    <tr>\n      <th>3</th>\n      <td>0.912514</td>\n      <td>stadium</td>\n      <td>10006iy</td>\n    </tr>\n    <tr>\n      <th>4</th>\n      <td>0.880675</td>\n      <td>sports equipment</td>\n      <td>10006iy</td>\n    </tr>\n    <tr>\n      <th>...</th>\n      <td>...</td>\n      <td>...</td>\n      <td>...</td>\n    </tr>\n    <tr>\n      <th>308828</th>\n      <td>0.856076</td>\n      <td>sandal</td>\n      <td>zpudb3</td>\n    </tr>\n    <tr>\n      <th>308829</th>\n      <td>0.846750</td>\n      <td>casual dress</td>\n      <td>zpudb3</td>\n    </tr>\n    <tr>\n      <th>308830</th>\n      <td>0.841782</td>\n      <td>pattern (fashion design)</td>\n      <td>zpudb3</td>\n    </tr>\n    <tr>\n      <th>308831</th>\n      <td>0.814569</td>\n      <td>woman</td>\n      <td>zpudb3</td>\n    </tr>\n    <tr>\n      <th>308832</th>\n      <td>0.657959</td>\n      <td>indoor</td>\n      <td>zpudb3</td>\n    </tr>\n  </tbody>\n</table>\n<p>308833 rows × 3 columns</p>\n</div>"
     },
     "metadata": {},
     "output_type": "display_data"
    }
   ],
   "source": [
    "# @title tags\n",
    "\n",
    "tags = pandas.DataFrame({'id': filtered_data_from_captions.id, 'tags': filtered_data_from_captions.tags})\n",
    "out = []\n",
    "for i, r in tqdm(tags.iterrows(), total=len(tags)):\n",
    "\tif r['tags'] is None:\n",
    "\t\tcontinue\n",
    "\ttag = pandas.json_normalize(r['tags'])\n",
    "\ttag['id'] = r['id']\n",
    "\td = tag.to_dict(orient='records')\n",
    "\tout.extend(d)\n",
    "converted_tags = pandas.DataFrame(data=out)\n",
    "display(converted_tags)\n",
    "converted_tags.to_parquet(\"data/parquet/tags.parquet\", engine='pyarrow', filesystem=file_system)"
   ],
   "metadata": {
    "collapsed": false
   }
  },
  {
   "cell_type": "code",
   "execution_count": 12,
   "outputs": [
    {
     "name": "stderr",
     "output_type": "stream",
     "text": [
      "100%|██████████| 20408/20408 [00:22<00:00, 925.49it/s]\n"
     ]
    },
    {
     "data": {
      "text/plain": "        confidence                                      text  boundingBox.h   \n0         0.481536                      a close-up of a sign            311  \\\n1         0.485781                a football helmet on grass           1853   \n2         0.559779  a lizard on a helmet on a football field           5068   \n3         0.519275                        a lizard on a ball            935   \n4         0.660839             a lizard on a football helmet           2190   \n...            ...                                       ...            ...   \n169805    0.481301               a woman looking to the side            197   \n169806    0.536570            a close up of a woman's bottom            124   \n169807    0.658436                  a woman in a black dress           1191   \n169808    0.632710                  a woman in a black dress           1102   \n169809    0.509805                a woman with long red hair            349   \n\n        boundingBox.w  boundingBox.x  boundingBox.y       id  \n0                1196           1209           1542  10006iy  \n1                7329              0           3068  10006iy  \n2                7407              0              0  10006iy  \n3                1461           2609           2192  10006iy  \n4                2613           2380           2685  10006iy  \n...               ...            ...            ...      ...  \n169805            171            320            135   zon25k  \n169806            121            339            565   zon25k  \n169807            720              0              0   zpudb3  \n169808            444            105              0   zpudb3  \n169809            213            195              0   zpudb3  \n\n[169810 rows x 7 columns]",
      "text/html": "<div>\n<style scoped>\n    .dataframe tbody tr th:only-of-type {\n        vertical-align: middle;\n    }\n\n    .dataframe tbody tr th {\n        vertical-align: top;\n    }\n\n    .dataframe thead th {\n        text-align: right;\n    }\n</style>\n<table border=\"1\" class=\"dataframe\">\n  <thead>\n    <tr style=\"text-align: right;\">\n      <th></th>\n      <th>confidence</th>\n      <th>text</th>\n      <th>boundingBox.h</th>\n      <th>boundingBox.w</th>\n      <th>boundingBox.x</th>\n      <th>boundingBox.y</th>\n      <th>id</th>\n    </tr>\n  </thead>\n  <tbody>\n    <tr>\n      <th>0</th>\n      <td>0.481536</td>\n      <td>a close-up of a sign</td>\n      <td>311</td>\n      <td>1196</td>\n      <td>1209</td>\n      <td>1542</td>\n      <td>10006iy</td>\n    </tr>\n    <tr>\n      <th>1</th>\n      <td>0.485781</td>\n      <td>a football helmet on grass</td>\n      <td>1853</td>\n      <td>7329</td>\n      <td>0</td>\n      <td>3068</td>\n      <td>10006iy</td>\n    </tr>\n    <tr>\n      <th>2</th>\n      <td>0.559779</td>\n      <td>a lizard on a helmet on a football field</td>\n      <td>5068</td>\n      <td>7407</td>\n      <td>0</td>\n      <td>0</td>\n      <td>10006iy</td>\n    </tr>\n    <tr>\n      <th>3</th>\n      <td>0.519275</td>\n      <td>a lizard on a ball</td>\n      <td>935</td>\n      <td>1461</td>\n      <td>2609</td>\n      <td>2192</td>\n      <td>10006iy</td>\n    </tr>\n    <tr>\n      <th>4</th>\n      <td>0.660839</td>\n      <td>a lizard on a football helmet</td>\n      <td>2190</td>\n      <td>2613</td>\n      <td>2380</td>\n      <td>2685</td>\n      <td>10006iy</td>\n    </tr>\n    <tr>\n      <th>...</th>\n      <td>...</td>\n      <td>...</td>\n      <td>...</td>\n      <td>...</td>\n      <td>...</td>\n      <td>...</td>\n      <td>...</td>\n    </tr>\n    <tr>\n      <th>169805</th>\n      <td>0.481301</td>\n      <td>a woman looking to the side</td>\n      <td>197</td>\n      <td>171</td>\n      <td>320</td>\n      <td>135</td>\n      <td>zon25k</td>\n    </tr>\n    <tr>\n      <th>169806</th>\n      <td>0.536570</td>\n      <td>a close up of a woman's bottom</td>\n      <td>124</td>\n      <td>121</td>\n      <td>339</td>\n      <td>565</td>\n      <td>zon25k</td>\n    </tr>\n    <tr>\n      <th>169807</th>\n      <td>0.658436</td>\n      <td>a woman in a black dress</td>\n      <td>1191</td>\n      <td>720</td>\n      <td>0</td>\n      <td>0</td>\n      <td>zpudb3</td>\n    </tr>\n    <tr>\n      <th>169808</th>\n      <td>0.632710</td>\n      <td>a woman in a black dress</td>\n      <td>1102</td>\n      <td>444</td>\n      <td>105</td>\n      <td>0</td>\n      <td>zpudb3</td>\n    </tr>\n    <tr>\n      <th>169809</th>\n      <td>0.509805</td>\n      <td>a woman with long red hair</td>\n      <td>349</td>\n      <td>213</td>\n      <td>195</td>\n      <td>0</td>\n      <td>zpudb3</td>\n    </tr>\n  </tbody>\n</table>\n<p>169810 rows × 7 columns</p>\n</div>"
     },
     "metadata": {},
     "output_type": "display_data"
    }
   ],
   "source": [
    "# @title dense_captions\n",
    "\n",
    "dense = pandas.DataFrame(\n",
    "\t{'id': filtered_data_from_captions.id, 'dense_captions': filtered_data_from_captions.dense_captions})\n",
    "\n",
    "out = []\n",
    "for i, r in tqdm(dense.iterrows(), total=len(dense)):\n",
    "\tif r['dense_captions'] is None:\n",
    "\t\tcontinue\n",
    "\tdense_caption = pandas.json_normalize(r['dense_captions'])\n",
    "\tdense_caption['id'] = r['id']\n",
    "\td = dense_caption.to_dict(orient='records')\n",
    "\tout.extend(d)\n",
    "\n",
    "converted = pandas.DataFrame(data=out)\n",
    "display(converted)\n",
    "converted.to_parquet(\"data/parquet/dense_captions.parquet\", engine='pyarrow', filesystem=file_system)"
   ],
   "metadata": {
    "collapsed": false
   }
  },
  {
   "cell_type": "code",
   "execution_count": 13,
   "outputs": [
    {
     "name": "stderr",
     "output_type": "stream",
     "text": [
      "100%|██████████| 20388/20388 [00:01<00:00, 10740.59it/s]\n"
     ]
    },
    {
     "data": {
      "text/plain": "'== Updated With Basic Captions =='"
     },
     "metadata": {},
     "output_type": "display_data"
    },
    {
     "data": {
      "text/plain": "              id subreddit           author   \nid                                            \n1013bdt  1013bdt  AmIhotAF      RaulDea9286  \\\n105mekt  105mekt  AmIhotAF         lindaniz   \n105qvgl  105qvgl  AmIhotAF      CaitVLove11   \n105rpcj  105rpcj  AmIhotAF  Flashy-Desk1858   \n105styc  105styc  AmIhotAF     Gizzygirl127   \n...          ...       ...              ...   \nav97ze    av97ze   TrueFMK          xobx321   \nbirywt    birywt   TrueFMK       NYCplayboy   \ncot1yb    cot1yb   TrueFMK        Bobsagler   \nctkh7j    ctkh7j   TrueFMK       NYCplayboy   \ncz66c2    cz66c2   TrueFMK       NYCplayboy   \n\n                                                  title   \nid                                                        \n1013bdt                                   36F - ITALIAN  \\\n105mekt  interesting in good forward relationship (f24)   \n105qvgl                       Laughing is my favorite 😆   \n105rpcj        [f22] What do you think when you see me?   \n105styc                        Low key… still bangable?   \n...                                                 ...   \nav97ze                                          Bikinis   \nbirywt                               Barista bombshells   \ncot1yb                                 College freshmen   \nctkh7j                          Sexy schoolgirl servers   \ncz66c2                               Busty bikini babes   \n\n                                                   caption   \nid                                                           \n1013bdt            arafed image of a woman in a bikini top  \\\n105mekt  a close up of a woman with red hair and a whit...   \n105qvgl  a woman in a blue tank top and shorts is smili...   \n105rpcj    a woman in a blue bikini top and a blue bra top   \n105styc  smiling woman sitting on couch with remote con...   \n...                                                    ...   \nav97ze   three women in bikinis posing for a picture wi...   \nbirywt   three women in lingerie posing for a picture i...   \ncot1yb   three women in bikinis standing next to a swim...   \nctkh7j   three women in short skirts and stockings are ...   \ncz66c2   three women in bikinis posing for a picture in...   \n\n                                     hash   \nid                                          \n1013bdt  7c0d158cba8654ef1c635cbc5471d597  \\\n105mekt  ba4a0962cca2266a741e1e1700589c04   \n105qvgl  27bfe82c37314a0bcf02ab72eaf3a9e5   \n105rpcj  329eb42b8267fa1cc2980da8e48bcef1   \n105styc  6d555943be4fbc21ff92417c6f582298   \n...                                   ...   \nav97ze   b5ab5a7952ae68b8b3207bc9562e0fb8   \nbirywt   9c7e904a843d40b93f14856dcb2cdb0d   \ncot1yb   aa0edff56e79f08ee8d887421ac68ceb   \nctkh7j   1d1ca8f7f70e3a06ba56f4f00dcc842a   \ncz66c2   24182dce9bb33e378470cb20e015020e   \n\n                                                 permalink   \nid                                                           \n1013bdt          /r/AmIhotAF/comments/1013bdt/36f_italian/  \\\n105mekt  /r/AmIhotAF/comments/105mekt/interesting_in_go...   \n105qvgl  /r/AmIhotAF/comments/105qvgl/laughing_is_my_fa...   \n105rpcj  /r/AmIhotAF/comments/105rpcj/f22_what_do_you_t...   \n105styc  /r/AmIhotAF/comments/105styc/low_key_still_ban...   \n...                                                    ...   \nav97ze                 /r/TrueFMK/comments/av97ze/bikinis/   \nbirywt      /r/TrueFMK/comments/birywt/barista_bombshells/   \ncot1yb        /r/TrueFMK/comments/cot1yb/college_freshmen/   \nctkh7j   /r/TrueFMK/comments/ctkh7j/sexy_schoolgirl_ser...   \ncz66c2      /r/TrueFMK/comments/cz66c2/busty_bikini_babes/   \n\n                                original_url   image_name   \nid                                                          \n1013bdt  https://i.redd.it/bg0wwdlt5k9a1.jpg  1013bdt.jpg  \\\n105mekt  https://i.redd.it/4avjshsz8naa1.jpg  105mekt.jpg   \n105qvgl  https://i.redd.it/2pulzr0lxmaa1.jpg  105qvgl.jpg   \n105rpcj  https://i.redd.it/rz68pf934naa1.jpg  105rpcj.jpg   \n105styc  https://i.redd.it/aiaxxoz9uoaa1.jpg  105styc.jpg   \n...                                      ...          ...   \nav97ze       https://i.imgur.com/faF0PMP.jpg   av97ze.jpg   \nbirywt       https://i.imgur.com/IxcvEaA.jpg   birywt.jpg   \ncot1yb   https://i.redd.it/cq16x1i5brf31.png   cot1yb.jpg   \nctkh7j       https://i.imgur.com/e6YgtYy.jpg   ctkh7j.jpg   \ncz66c2       https://i.imgur.com/OxHsLmQ.png   cz66c2.jpg   \n\n                           path  ... exists  curated  accept   \nid                               ...                           \n1013bdt  data/image/1013bdt.jpg  ...   True     True    True  \\\n105mekt  data/image/105mekt.jpg  ...   True     True    True   \n105qvgl  data/image/105qvgl.jpg  ...   True     True    True   \n105rpcj  data/image/105rpcj.jpg  ...   True     True    True   \n105styc  data/image/105styc.jpg  ...   True     True    True   \n...                         ...  ...    ...      ...     ...   \nav97ze    data/image/av97ze.jpg  ...   True     True    True   \nbirywt    data/image/birywt.jpg  ...   True     True    True   \ncot1yb    data/image/cot1yb.jpg  ...   True     True    True   \nctkh7j    data/image/ctkh7j.jpg  ...   True     True    True   \ncz66c2    data/image/cz66c2.jpg  ...   True     True    True   \n\n                                                      tags   \nid                                                           \n1013bdt  [person,human face,clothing,lady,smile,chest,w...  \\\n105mekt  [person,human face,skin,eyelash,eyebrow,brown ...   \n105qvgl  [clothing,person,human face,smile,shoulder,elb...   \n105rpcj  [person,human face,indoor,clothing,woman,chest...   \n105styc  [person,human face,smile,clothing,woman,indoor...   \n...                                                    ...   \nav97ze   [person,human face,clothing,swimwear,undergarm...   \nbirywt   [clothing,person,human face,smile,undergarment...   \ncot1yb   [clothing,person,human face,undergarment,swimw...   \nctkh7j   [person,clothing,thigh,human face,undergarment...   \ncz66c2   [person,clothing,thigh,human face,undergarment...   \n\n                                             azure_caption   \nid                                                           \n1013bdt                            a woman taking a selfie  \\\n105mekt                            a woman taking a selfie   \n105qvgl                          a woman smiling at camera   \n105rpcj                            a woman taking a selfie   \n105styc                            a woman taking a selfie   \n...                                                    ...   \nav97ze   a group of women in garments posing for a picture   \nbirywt               a group of women posing for a picture   \ncot1yb   a group of women in garments posing for a picture   \nctkh7j                   a group of women wearing lingerie   \ncz66c2                        a group of women in garments   \n\n                           thumbnail_path thumbnail_exists  thumbnail_curated   \nid                                                                              \n1013bdt  data/image/thumbnail/1013bdt.jpg             True               True  \\\n105mekt  data/image/thumbnail/105mekt.jpg             True               True   \n105qvgl  data/image/thumbnail/105qvgl.jpg             True               True   \n105rpcj  data/image/thumbnail/105rpcj.jpg             True               True   \n105styc  data/image/thumbnail/105styc.jpg             True               True   \n...                                   ...              ...                ...   \nav97ze                                               False              False   \nbirywt                                               False              False   \ncot1yb                                               False              False   \nctkh7j                                               False              False   \ncz66c2                                               False              False   \n\n         thumbnail_accept                                additional_captions  \nid                                                                            \n1013bdt              True  [a woman taking a selfie, a close up of an eye...  \n105mekt              True  [a close up of a person's eye, a woman taking ...  \n105qvgl              True  [a woman smiling at camera, a woman with long ...  \n105rpcj              True  [a woman taking a selfie, close up of a person...  \n105styc              True  [a woman smiling at the camera, close-up of a ...  \n...                   ...                                                ...  \nav97ze              False                                                 []  \nbirywt              False                                                 []  \ncot1yb              False                                                 []  \nctkh7j              False                                                 []  \ncz66c2              False                                                 []  \n\n[20388 rows x 21 columns]",
      "text/html": "<div>\n<style scoped>\n    .dataframe tbody tr th:only-of-type {\n        vertical-align: middle;\n    }\n\n    .dataframe tbody tr th {\n        vertical-align: top;\n    }\n\n    .dataframe thead th {\n        text-align: right;\n    }\n</style>\n<table border=\"1\" class=\"dataframe\">\n  <thead>\n    <tr style=\"text-align: right;\">\n      <th></th>\n      <th>id</th>\n      <th>subreddit</th>\n      <th>author</th>\n      <th>title</th>\n      <th>caption</th>\n      <th>hash</th>\n      <th>permalink</th>\n      <th>original_url</th>\n      <th>image_name</th>\n      <th>path</th>\n      <th>...</th>\n      <th>exists</th>\n      <th>curated</th>\n      <th>accept</th>\n      <th>tags</th>\n      <th>azure_caption</th>\n      <th>thumbnail_path</th>\n      <th>thumbnail_exists</th>\n      <th>thumbnail_curated</th>\n      <th>thumbnail_accept</th>\n      <th>additional_captions</th>\n    </tr>\n    <tr>\n      <th>id</th>\n      <th></th>\n      <th></th>\n      <th></th>\n      <th></th>\n      <th></th>\n      <th></th>\n      <th></th>\n      <th></th>\n      <th></th>\n      <th></th>\n      <th></th>\n      <th></th>\n      <th></th>\n      <th></th>\n      <th></th>\n      <th></th>\n      <th></th>\n      <th></th>\n      <th></th>\n      <th></th>\n      <th></th>\n    </tr>\n  </thead>\n  <tbody>\n    <tr>\n      <th>1013bdt</th>\n      <td>1013bdt</td>\n      <td>AmIhotAF</td>\n      <td>RaulDea9286</td>\n      <td>36F - ITALIAN</td>\n      <td>arafed image of a woman in a bikini top</td>\n      <td>7c0d158cba8654ef1c635cbc5471d597</td>\n      <td>/r/AmIhotAF/comments/1013bdt/36f_italian/</td>\n      <td>https://i.redd.it/bg0wwdlt5k9a1.jpg</td>\n      <td>1013bdt.jpg</td>\n      <td>data/image/1013bdt.jpg</td>\n      <td>...</td>\n      <td>True</td>\n      <td>True</td>\n      <td>True</td>\n      <td>[person,human face,clothing,lady,smile,chest,w...</td>\n      <td>a woman taking a selfie</td>\n      <td>data/image/thumbnail/1013bdt.jpg</td>\n      <td>True</td>\n      <td>True</td>\n      <td>True</td>\n      <td>[a woman taking a selfie, a close up of an eye...</td>\n    </tr>\n    <tr>\n      <th>105mekt</th>\n      <td>105mekt</td>\n      <td>AmIhotAF</td>\n      <td>lindaniz</td>\n      <td>interesting in good forward relationship (f24)</td>\n      <td>a close up of a woman with red hair and a whit...</td>\n      <td>ba4a0962cca2266a741e1e1700589c04</td>\n      <td>/r/AmIhotAF/comments/105mekt/interesting_in_go...</td>\n      <td>https://i.redd.it/4avjshsz8naa1.jpg</td>\n      <td>105mekt.jpg</td>\n      <td>data/image/105mekt.jpg</td>\n      <td>...</td>\n      <td>True</td>\n      <td>True</td>\n      <td>True</td>\n      <td>[person,human face,skin,eyelash,eyebrow,brown ...</td>\n      <td>a woman taking a selfie</td>\n      <td>data/image/thumbnail/105mekt.jpg</td>\n      <td>True</td>\n      <td>True</td>\n      <td>True</td>\n      <td>[a close up of a person's eye, a woman taking ...</td>\n    </tr>\n    <tr>\n      <th>105qvgl</th>\n      <td>105qvgl</td>\n      <td>AmIhotAF</td>\n      <td>CaitVLove11</td>\n      <td>Laughing is my favorite 😆</td>\n      <td>a woman in a blue tank top and shorts is smili...</td>\n      <td>27bfe82c37314a0bcf02ab72eaf3a9e5</td>\n      <td>/r/AmIhotAF/comments/105qvgl/laughing_is_my_fa...</td>\n      <td>https://i.redd.it/2pulzr0lxmaa1.jpg</td>\n      <td>105qvgl.jpg</td>\n      <td>data/image/105qvgl.jpg</td>\n      <td>...</td>\n      <td>True</td>\n      <td>True</td>\n      <td>True</td>\n      <td>[clothing,person,human face,smile,shoulder,elb...</td>\n      <td>a woman smiling at camera</td>\n      <td>data/image/thumbnail/105qvgl.jpg</td>\n      <td>True</td>\n      <td>True</td>\n      <td>True</td>\n      <td>[a woman smiling at camera, a woman with long ...</td>\n    </tr>\n    <tr>\n      <th>105rpcj</th>\n      <td>105rpcj</td>\n      <td>AmIhotAF</td>\n      <td>Flashy-Desk1858</td>\n      <td>[f22] What do you think when you see me?</td>\n      <td>a woman in a blue bikini top and a blue bra top</td>\n      <td>329eb42b8267fa1cc2980da8e48bcef1</td>\n      <td>/r/AmIhotAF/comments/105rpcj/f22_what_do_you_t...</td>\n      <td>https://i.redd.it/rz68pf934naa1.jpg</td>\n      <td>105rpcj.jpg</td>\n      <td>data/image/105rpcj.jpg</td>\n      <td>...</td>\n      <td>True</td>\n      <td>True</td>\n      <td>True</td>\n      <td>[person,human face,indoor,clothing,woman,chest...</td>\n      <td>a woman taking a selfie</td>\n      <td>data/image/thumbnail/105rpcj.jpg</td>\n      <td>True</td>\n      <td>True</td>\n      <td>True</td>\n      <td>[a woman taking a selfie, close up of a person...</td>\n    </tr>\n    <tr>\n      <th>105styc</th>\n      <td>105styc</td>\n      <td>AmIhotAF</td>\n      <td>Gizzygirl127</td>\n      <td>Low key… still bangable?</td>\n      <td>smiling woman sitting on couch with remote con...</td>\n      <td>6d555943be4fbc21ff92417c6f582298</td>\n      <td>/r/AmIhotAF/comments/105styc/low_key_still_ban...</td>\n      <td>https://i.redd.it/aiaxxoz9uoaa1.jpg</td>\n      <td>105styc.jpg</td>\n      <td>data/image/105styc.jpg</td>\n      <td>...</td>\n      <td>True</td>\n      <td>True</td>\n      <td>True</td>\n      <td>[person,human face,smile,clothing,woman,indoor...</td>\n      <td>a woman taking a selfie</td>\n      <td>data/image/thumbnail/105styc.jpg</td>\n      <td>True</td>\n      <td>True</td>\n      <td>True</td>\n      <td>[a woman smiling at the camera, close-up of a ...</td>\n    </tr>\n    <tr>\n      <th>...</th>\n      <td>...</td>\n      <td>...</td>\n      <td>...</td>\n      <td>...</td>\n      <td>...</td>\n      <td>...</td>\n      <td>...</td>\n      <td>...</td>\n      <td>...</td>\n      <td>...</td>\n      <td>...</td>\n      <td>...</td>\n      <td>...</td>\n      <td>...</td>\n      <td>...</td>\n      <td>...</td>\n      <td>...</td>\n      <td>...</td>\n      <td>...</td>\n      <td>...</td>\n      <td>...</td>\n    </tr>\n    <tr>\n      <th>av97ze</th>\n      <td>av97ze</td>\n      <td>TrueFMK</td>\n      <td>xobx321</td>\n      <td>Bikinis</td>\n      <td>three women in bikinis posing for a picture wi...</td>\n      <td>b5ab5a7952ae68b8b3207bc9562e0fb8</td>\n      <td>/r/TrueFMK/comments/av97ze/bikinis/</td>\n      <td>https://i.imgur.com/faF0PMP.jpg</td>\n      <td>av97ze.jpg</td>\n      <td>data/image/av97ze.jpg</td>\n      <td>...</td>\n      <td>True</td>\n      <td>True</td>\n      <td>True</td>\n      <td>[person,human face,clothing,swimwear,undergarm...</td>\n      <td>a group of women in garments posing for a picture</td>\n      <td></td>\n      <td>False</td>\n      <td>False</td>\n      <td>False</td>\n      <td>[]</td>\n    </tr>\n    <tr>\n      <th>birywt</th>\n      <td>birywt</td>\n      <td>TrueFMK</td>\n      <td>NYCplayboy</td>\n      <td>Barista bombshells</td>\n      <td>three women in lingerie posing for a picture i...</td>\n      <td>9c7e904a843d40b93f14856dcb2cdb0d</td>\n      <td>/r/TrueFMK/comments/birywt/barista_bombshells/</td>\n      <td>https://i.imgur.com/IxcvEaA.jpg</td>\n      <td>birywt.jpg</td>\n      <td>data/image/birywt.jpg</td>\n      <td>...</td>\n      <td>True</td>\n      <td>True</td>\n      <td>True</td>\n      <td>[clothing,person,human face,smile,undergarment...</td>\n      <td>a group of women posing for a picture</td>\n      <td></td>\n      <td>False</td>\n      <td>False</td>\n      <td>False</td>\n      <td>[]</td>\n    </tr>\n    <tr>\n      <th>cot1yb</th>\n      <td>cot1yb</td>\n      <td>TrueFMK</td>\n      <td>Bobsagler</td>\n      <td>College freshmen</td>\n      <td>three women in bikinis standing next to a swim...</td>\n      <td>aa0edff56e79f08ee8d887421ac68ceb</td>\n      <td>/r/TrueFMK/comments/cot1yb/college_freshmen/</td>\n      <td>https://i.redd.it/cq16x1i5brf31.png</td>\n      <td>cot1yb.jpg</td>\n      <td>data/image/cot1yb.jpg</td>\n      <td>...</td>\n      <td>True</td>\n      <td>True</td>\n      <td>True</td>\n      <td>[clothing,person,human face,undergarment,swimw...</td>\n      <td>a group of women in garments posing for a picture</td>\n      <td></td>\n      <td>False</td>\n      <td>False</td>\n      <td>False</td>\n      <td>[]</td>\n    </tr>\n    <tr>\n      <th>ctkh7j</th>\n      <td>ctkh7j</td>\n      <td>TrueFMK</td>\n      <td>NYCplayboy</td>\n      <td>Sexy schoolgirl servers</td>\n      <td>three women in short skirts and stockings are ...</td>\n      <td>1d1ca8f7f70e3a06ba56f4f00dcc842a</td>\n      <td>/r/TrueFMK/comments/ctkh7j/sexy_schoolgirl_ser...</td>\n      <td>https://i.imgur.com/e6YgtYy.jpg</td>\n      <td>ctkh7j.jpg</td>\n      <td>data/image/ctkh7j.jpg</td>\n      <td>...</td>\n      <td>True</td>\n      <td>True</td>\n      <td>True</td>\n      <td>[person,clothing,thigh,human face,undergarment...</td>\n      <td>a group of women wearing lingerie</td>\n      <td></td>\n      <td>False</td>\n      <td>False</td>\n      <td>False</td>\n      <td>[]</td>\n    </tr>\n    <tr>\n      <th>cz66c2</th>\n      <td>cz66c2</td>\n      <td>TrueFMK</td>\n      <td>NYCplayboy</td>\n      <td>Busty bikini babes</td>\n      <td>three women in bikinis posing for a picture in...</td>\n      <td>24182dce9bb33e378470cb20e015020e</td>\n      <td>/r/TrueFMK/comments/cz66c2/busty_bikini_babes/</td>\n      <td>https://i.imgur.com/OxHsLmQ.png</td>\n      <td>cz66c2.jpg</td>\n      <td>data/image/cz66c2.jpg</td>\n      <td>...</td>\n      <td>True</td>\n      <td>True</td>\n      <td>True</td>\n      <td>[person,clothing,thigh,human face,undergarment...</td>\n      <td>a group of women in garments</td>\n      <td></td>\n      <td>False</td>\n      <td>False</td>\n      <td>False</td>\n      <td>[]</td>\n    </tr>\n  </tbody>\n</table>\n<p>20388 rows × 21 columns</p>\n</div>"
     },
     "metadata": {},
     "output_type": "display_data"
    }
   ],
   "source": [
    "# @title single_caption_data\n",
    "\n",
    "thumbnail_curation = pandas.read_parquet(\"data/parquet/thumbnail_curation.parquet\", engine='pyarrow', filesystem=file_system, schema=tagging_schema)\n",
    "thumbnail_curation.set_index(\"id\", drop=False, inplace=True)\n",
    "thumbnail_curation.drop_duplicates(subset=\"id\", inplace=True, keep='first')\n",
    "thumbnail_curation.dropna(axis=1, how='all', inplace=True)\n",
    "\n",
    "single_caption_data = pandas.DataFrame(\n",
    "\t{\n",
    "\t\t'id': all_data_from_captions['id'],\n",
    "\t\t'azure_caption': [item['text'] for item in all_data_from_captions['captionResult']],\n",
    "\t\t'tags': [[foo['name'] for foo in item['values']] for item in all_data_from_captions['tagsResult'] if\n",
    "\t\t\t\t item is not None],\n",
    "\t})\n",
    "\n",
    "single_caption_data.dropna(axis=1, how='all', inplace=True)\n",
    "single_caption_data.reset_index(drop=True, inplace=True)\n",
    "single_caption_data_indexed = single_caption_data.set_index(\"id\", drop=False)\n",
    "\n",
    "for index, row in tqdm(thumbnail_curation.iterrows(), total=len(thumbnail_curation)):\n",
    "\tthumbnail_curation.at[index, 'azure_caption'] = single_caption_data_indexed.at[index, 'azure_caption']\n",
    "\tthumbnail_curation.at[index, 'tags'] = [\",\".join(single_caption_data_indexed.at[index, 'tags'])]\n",
    "\n",
    "\n",
    "display(\"== Updated With Basic Captions ==\")\n",
    "display(thumbnail_curation)"
   ],
   "metadata": {
    "collapsed": false
   }
  },
  {
   "cell_type": "code",
   "execution_count": 14,
   "outputs": [],
   "source": [
    "# @title Set Cropping Functions\n",
    "\n",
    "def get_aspect_ratio(x: object):\n",
    "\treturn x['crops'][0]['aspectRatio']\n",
    "\n",
    "\n",
    "def get_bounding_box(x: object):\n",
    "\treturn x['crops'][0]['boundingBox']"
   ],
   "metadata": {
    "collapsed": false
   }
  },
  {
   "cell_type": "code",
   "execution_count": 15,
   "outputs": [
    {
     "name": "stderr",
     "output_type": "stream",
     "text": [
      "Progress: 100%|██████████| 20408/20408 [00:00<00:00, 155233.03it/s]\n",
      "Progress: 100%|██████████| 20408/20408 [00:00<00:00, 153018.56it/s]\n",
      "Progress: 100%|██████████| 20408/20408 [00:00<00:00, 156685.05it/s]\n",
      "Progress: 100%|██████████| 20408/20408 [00:00<00:00, 162858.32it/s]\n",
      "Progress: 100%|██████████| 20408/20408 [00:00<00:00, 153155.45it/s]\n",
      "Progress: 100%|██████████| 20408/20408 [00:00<00:00, 132663.01it/s]\n"
     ]
    },
    {
     "data": {
      "text/plain": "              id                                              crops   \nid                                                                    \n10006iy  10006iy  [{'aspectRatio': 1.0, 'boundingBox': {'h': 458...  \\\n1000cng  1000cng  [{'aspectRatio': 1.0, 'boundingBox': {'h': 136...   \n1000hda  1000hda  [{'aspectRatio': 1.0, 'boundingBox': {'h': 280...   \n1000qpd  1000qpd  [{'aspectRatio': 1.0, 'boundingBox': {'h': 740...   \n1000xd6  1000xd6  [{'aspectRatio': 1.0, 'boundingBox': {'h': 225...   \n...          ...                                                ...   \nyshe9g    yshe9g  [{'aspectRatio': 1.0, 'boundingBox': {'h': 607...   \nywtmts    ywtmts  [{'aspectRatio': 1.0, 'boundingBox': {'h': 103...   \nz2pwpm    z2pwpm  [{'aspectRatio': 1.0, 'boundingBox': {'h': 106...   \nzon25k    zon25k  [{'aspectRatio': 1.0, 'boundingBox': {'h': 783...   \nzpudb3    zpudb3  [{'aspectRatio': 1.0, 'boundingBox': {'h': 675...   \n\n         aspectRatio                                 bounding_box     x    y   \nid                                                                             \n10006iy          1.0  {'h': 4585, 'w': 4586, 'x': 1157, 'y': 475}  1157  475  \\\n1000cng          1.0     {'h': 1367, 'w': 1367, 'x': 0, 'y': 169}     0  169   \n1000hda          1.0   {'h': 2800, 'w': 2799, 'x': 142, 'y': 550}   142  550   \n1000qpd          1.0       {'h': 740, 'w': 741, 'x': 173, 'y': 0}   173    0   \n1000xd6          1.0     {'h': 2259, 'w': 2259, 'x': 702, 'y': 0}   702    0   \n...              ...                                          ...   ...  ...   \nyshe9g           1.0        {'h': 607, 'w': 607, 'x': 56, 'y': 0}    56    0   \nywtmts           1.0       {'h': 1037, 'w': 1037, 'x': 0, 'y': 0}     0    0   \nz2pwpm           1.0       {'h': 1063, 'w': 1063, 'x': 0, 'y': 0}     0    0   \nzon25k           1.0         {'h': 783, 'w': 783, 'x': 0, 'y': 0}     0    0   \nzpudb3           1.0         {'h': 675, 'w': 675, 'x': 0, 'y': 0}     0    0   \n\n            w     h  \nid                   \n10006iy  4586  4585  \n1000cng  1367  1367  \n1000hda  2799  2800  \n1000qpd   741   740  \n1000xd6  2259  2259  \n...       ...   ...  \nyshe9g    607   607  \nywtmts   1037  1037  \nz2pwpm   1063  1063  \nzon25k    783   783  \nzpudb3    675   675  \n\n[20408 rows x 8 columns]",
      "text/html": "<div>\n<style scoped>\n    .dataframe tbody tr th:only-of-type {\n        vertical-align: middle;\n    }\n\n    .dataframe tbody tr th {\n        vertical-align: top;\n    }\n\n    .dataframe thead th {\n        text-align: right;\n    }\n</style>\n<table border=\"1\" class=\"dataframe\">\n  <thead>\n    <tr style=\"text-align: right;\">\n      <th></th>\n      <th>id</th>\n      <th>crops</th>\n      <th>aspectRatio</th>\n      <th>bounding_box</th>\n      <th>x</th>\n      <th>y</th>\n      <th>w</th>\n      <th>h</th>\n    </tr>\n    <tr>\n      <th>id</th>\n      <th></th>\n      <th></th>\n      <th></th>\n      <th></th>\n      <th></th>\n      <th></th>\n      <th></th>\n      <th></th>\n    </tr>\n  </thead>\n  <tbody>\n    <tr>\n      <th>10006iy</th>\n      <td>10006iy</td>\n      <td>[{'aspectRatio': 1.0, 'boundingBox': {'h': 458...</td>\n      <td>1.0</td>\n      <td>{'h': 4585, 'w': 4586, 'x': 1157, 'y': 475}</td>\n      <td>1157</td>\n      <td>475</td>\n      <td>4586</td>\n      <td>4585</td>\n    </tr>\n    <tr>\n      <th>1000cng</th>\n      <td>1000cng</td>\n      <td>[{'aspectRatio': 1.0, 'boundingBox': {'h': 136...</td>\n      <td>1.0</td>\n      <td>{'h': 1367, 'w': 1367, 'x': 0, 'y': 169}</td>\n      <td>0</td>\n      <td>169</td>\n      <td>1367</td>\n      <td>1367</td>\n    </tr>\n    <tr>\n      <th>1000hda</th>\n      <td>1000hda</td>\n      <td>[{'aspectRatio': 1.0, 'boundingBox': {'h': 280...</td>\n      <td>1.0</td>\n      <td>{'h': 2800, 'w': 2799, 'x': 142, 'y': 550}</td>\n      <td>142</td>\n      <td>550</td>\n      <td>2799</td>\n      <td>2800</td>\n    </tr>\n    <tr>\n      <th>1000qpd</th>\n      <td>1000qpd</td>\n      <td>[{'aspectRatio': 1.0, 'boundingBox': {'h': 740...</td>\n      <td>1.0</td>\n      <td>{'h': 740, 'w': 741, 'x': 173, 'y': 0}</td>\n      <td>173</td>\n      <td>0</td>\n      <td>741</td>\n      <td>740</td>\n    </tr>\n    <tr>\n      <th>1000xd6</th>\n      <td>1000xd6</td>\n      <td>[{'aspectRatio': 1.0, 'boundingBox': {'h': 225...</td>\n      <td>1.0</td>\n      <td>{'h': 2259, 'w': 2259, 'x': 702, 'y': 0}</td>\n      <td>702</td>\n      <td>0</td>\n      <td>2259</td>\n      <td>2259</td>\n    </tr>\n    <tr>\n      <th>...</th>\n      <td>...</td>\n      <td>...</td>\n      <td>...</td>\n      <td>...</td>\n      <td>...</td>\n      <td>...</td>\n      <td>...</td>\n      <td>...</td>\n    </tr>\n    <tr>\n      <th>yshe9g</th>\n      <td>yshe9g</td>\n      <td>[{'aspectRatio': 1.0, 'boundingBox': {'h': 607...</td>\n      <td>1.0</td>\n      <td>{'h': 607, 'w': 607, 'x': 56, 'y': 0}</td>\n      <td>56</td>\n      <td>0</td>\n      <td>607</td>\n      <td>607</td>\n    </tr>\n    <tr>\n      <th>ywtmts</th>\n      <td>ywtmts</td>\n      <td>[{'aspectRatio': 1.0, 'boundingBox': {'h': 103...</td>\n      <td>1.0</td>\n      <td>{'h': 1037, 'w': 1037, 'x': 0, 'y': 0}</td>\n      <td>0</td>\n      <td>0</td>\n      <td>1037</td>\n      <td>1037</td>\n    </tr>\n    <tr>\n      <th>z2pwpm</th>\n      <td>z2pwpm</td>\n      <td>[{'aspectRatio': 1.0, 'boundingBox': {'h': 106...</td>\n      <td>1.0</td>\n      <td>{'h': 1063, 'w': 1063, 'x': 0, 'y': 0}</td>\n      <td>0</td>\n      <td>0</td>\n      <td>1063</td>\n      <td>1063</td>\n    </tr>\n    <tr>\n      <th>zon25k</th>\n      <td>zon25k</td>\n      <td>[{'aspectRatio': 1.0, 'boundingBox': {'h': 783...</td>\n      <td>1.0</td>\n      <td>{'h': 783, 'w': 783, 'x': 0, 'y': 0}</td>\n      <td>0</td>\n      <td>0</td>\n      <td>783</td>\n      <td>783</td>\n    </tr>\n    <tr>\n      <th>zpudb3</th>\n      <td>zpudb3</td>\n      <td>[{'aspectRatio': 1.0, 'boundingBox': {'h': 675...</td>\n      <td>1.0</td>\n      <td>{'h': 675, 'w': 675, 'x': 0, 'y': 0}</td>\n      <td>0</td>\n      <td>0</td>\n      <td>675</td>\n      <td>675</td>\n    </tr>\n  </tbody>\n</table>\n<p>20408 rows × 8 columns</p>\n</div>"
     },
     "metadata": {},
     "output_type": "display_data"
    }
   ],
   "source": [
    "# @title Get Croppings\n",
    "\n",
    "cropping = pandas.DataFrame(\n",
    "\t{'id': filtered_data_from_captions['id'], 'crops': filtered_data_from_captions['smart_crop']}).set_index('id',\n",
    "\t\t\t\t\t\t\t\t\t\t\t\t\t\t\t\t\t\t\t\t\t\t\t\t\t\t\t drop=False)\n",
    "\n",
    "cropping['aspectRatio'] = cropping.progress_apply(lambda x: get_aspect_ratio(x), axis=1)\n",
    "cropping['bounding_box'] = cropping.progress_apply(lambda x: get_bounding_box(x), axis=1)\n",
    "cropping['x'] = cropping.progress_apply(lambda x: x['bounding_box']['x'], axis=1)\n",
    "cropping['y'] = cropping.progress_apply(lambda x: x['bounding_box']['y'], axis=1)\n",
    "cropping['w'] = cropping.progress_apply(lambda x: x['bounding_box']['w'], axis=1)\n",
    "cropping['h'] = cropping.progress_apply(lambda x: x['bounding_box']['h'], axis=1)\n",
    "\n",
    "display(cropping)"
   ],
   "metadata": {
    "collapsed": false
   }
  },
  {
   "cell_type": "code",
   "execution_count": 16,
   "outputs": [],
   "source": [
    "# @title Set function\n",
    "\n",
    "def create_thumbnail(target_image_id: str, file_names: list, crops: pandas.DataFrame, curated_data: pandas.DataFrame):\n",
    "\t_file_system: AzureBlobFileSystem = AzureFileStorageAdapter('data').get_file_storage()\n",
    "\n",
    "\tout_path = f\"data/image/thumbnail/{target_image_id}.jpg\"\n",
    "\ttry:\n",
    "\t\tif target_image_id is None or out_path in file_names:\n",
    "\t\t\treturn out_path\n",
    "\n",
    "\t\tcropping_information = cropping.loc[crops['id'] == target_image_id]\n",
    "\t\tif cropping_information is None or len(cropping_information) == 0:\n",
    "\t\t\treturn \"/data/nope\"\n",
    "\n",
    "\t\trecord = curated_data.loc[curated_data['id'] == target_image_id]\n",
    "\t\trecord_path = record.to_dict(orient='records')[0]['path']\n",
    "\t\timage_url = file_system.url(record_path)\n",
    "\t\toriginal_image = Image.open(requests.get(image_url, stream=True).raw)\n",
    "\t\tcopied_image = original_image.copy()\n",
    "\t\toriginal_image.close()\n",
    "\n",
    "\t\tcropped = copied_image.crop((cropping_information['x'].values[0],\n",
    "\t\t\t\t\t\t\t\t\t cropping_information['y'].values[0],\n",
    "\t\t\t\t\t\t\t\t\t cropping_information['x'].values[0] +\n",
    "\t\t\t\t\t\t\t\t\t cropping_information['w'].values[0],\n",
    "\t\t\t\t\t\t\t\t\t cropping_information['y'].values[0] +\n",
    "\t\t\t\t\t\t\t\t\t cropping_information['h'].values[0]))\n",
    "\t\tcopied_image.close()\n",
    "\n",
    "\t\tresized = cropped.resize((512, 512), 1)\n",
    "\t\tresized.save('temp.jpg')\n",
    "\t\tresized.close()\n",
    "\t\tfile_system.upload('temp.jpg', out_path, overwrite=True)\n",
    "\t\tprint(f'Thumbnail created for {target_image_id}')\n",
    "\t\treturn out_path\n",
    "\n",
    "\texcept Exception as ex:\n",
    "\t\tprint(f'Error creating thumbnail for {target_image_id}: {ex}')\n",
    "\t\treturn \"/data/nope\""
   ],
   "metadata": {
    "collapsed": false
   }
  },
  {
   "cell_type": "code",
   "execution_count": 17,
   "outputs": [
    {
     "name": "stderr",
     "output_type": "stream",
     "text": [
      "Creating Thumbnail:  97%|█████████▋| 19864/20388 [00:01<00:00, 18018.24it/s]"
     ]
    },
    {
     "name": "stdout",
     "output_type": "stream",
     "text": [
      "Thumbnail created for am1jph\n",
      "Thumbnail created for am5enh\n",
      "Thumbnail created for amqawo\n",
      "Thumbnail created for amqeao\n",
      "Thumbnail created for atea2w\n",
      "Thumbnail created for b8retz\n",
      "Thumbnail created for ekqvp3\n",
      "Thumbnail created for enrrr4\n",
      "Thumbnail created for exvqb5\n",
      "Thumbnail created for fqu2ke\n",
      "Thumbnail created for gc9kfx\n",
      "Thumbnail created for gkmi1x\n",
      "Thumbnail created for go2oit\n",
      "Thumbnail created for gpawzu\n",
      "Thumbnail created for kz2fpn\n",
      "Thumbnail created for kz7qwh\n",
      "Thumbnail created for ldk12u\n",
      "Thumbnail created for li7xep\n",
      "Thumbnail created for liiz10\n",
      "Thumbnail created for logh2w\n",
      "Thumbnail created for mgeaav\n",
      "Thumbnail created for mykw8l\n",
      "Thumbnail created for mzhbk9\n",
      "Thumbnail created for pi7k2d\n",
      "Thumbnail created for q992gw\n",
      "Thumbnail created for qrq7lk\n",
      "Thumbnail created for xyuzj0\n",
      "Thumbnail created for eoc305\n"
     ]
    },
    {
     "name": "stderr",
     "output_type": "stream",
     "text": [
      "Creating Thumbnail:  99%|█████████▊| 20085/20388 [00:12<00:00, 18018.24it/s]"
     ]
    },
    {
     "name": "stdout",
     "output_type": "stream",
     "text": [
      "Thumbnail created for eodc7r\n"
     ]
    },
    {
     "name": "stderr",
     "output_type": "stream",
     "text": [
      "Creating Thumbnail:  99%|█████████▊| 20086/20388 [00:12<00:00, 395.48it/s]  "
     ]
    },
    {
     "name": "stdout",
     "output_type": "stream",
     "text": [
      "Thumbnail created for eqb602\n",
      "Thumbnail created for er5mqd\n"
     ]
    },
    {
     "name": "stderr",
     "output_type": "stream",
     "text": [
      "Creating Thumbnail:  99%|█████████▊| 20088/20388 [00:13<00:00, 368.41it/s]"
     ]
    },
    {
     "name": "stdout",
     "output_type": "stream",
     "text": [
      "Thumbnail created for 1018aw4\n",
      "Thumbnail created for 104sczz\n",
      "Thumbnail created for 10h5njf\n",
      "Thumbnail created for 10xs0zp\n",
      "Thumbnail created for 1175n46\n",
      "Thumbnail created for 11m31cd\n",
      "Thumbnail created for 11w10w8\n",
      "Thumbnail created for 122lvab\n",
      "Thumbnail created for 126wmzx\n",
      "Thumbnail created for 12ec0w4\n",
      "Thumbnail created for 12feael\n",
      "Thumbnail created for 12ylsc6\n",
      "Thumbnail created for 133st84\n",
      "Thumbnail created for 134o38v\n",
      "Thumbnail created for 138wjyt\n",
      "Thumbnail created for 13a9nnx\n",
      "Thumbnail created for 13ati75\n",
      "Thumbnail created for 13fxt1m\n",
      "Thumbnail created for 13giim4\n",
      "Thumbnail created for 13i4lk9\n",
      "Thumbnail created for 13i4ubn\n",
      "Thumbnail created for 13iexiu\n",
      "Thumbnail created for 13ik71r\n",
      "Thumbnail created for 13ik8g3\n",
      "Thumbnail created for 13j55de\n",
      "Thumbnail created for 13j62n8\n",
      "Thumbnail created for 13jd2cp\n",
      "Thumbnail created for 13jonkf\n",
      "Thumbnail created for 13k1rof\n",
      "Thumbnail created for 13k2u0v\n",
      "Thumbnail created for 13k43rd\n",
      "Thumbnail created for 13l1t9q\n",
      "Thumbnail created for 13lgc1y\n",
      "Thumbnail created for 13m1kax\n",
      "Thumbnail created for 13mmdsc\n",
      "Thumbnail created for 13mqj9l\n",
      "Thumbnail created for 13mrnnb\n",
      "Thumbnail created for 13nvxke\n",
      "Thumbnail created for 13o5snk\n",
      "Thumbnail created for 13otill\n",
      "Thumbnail created for 13ouvpp\n",
      "Thumbnail created for 13plg22\n",
      "Thumbnail created for 13pmn1g\n",
      "Thumbnail created for 13puh45\n",
      "Thumbnail created for 13q2b8e\n",
      "Thumbnail created for 13qwemw\n",
      "Thumbnail created for 13qzsbx\n",
      "Thumbnail created for 13s5ubq\n",
      "Thumbnail created for 13sd872\n",
      "Thumbnail created for 13sffqu\n",
      "Thumbnail created for 13t1xso\n",
      "Thumbnail created for 13taczf\n"
     ]
    },
    {
     "name": "stderr",
     "output_type": "stream",
     "text": [
      "Creating Thumbnail:  99%|█████████▉| 20140/20388 [00:32<00:02, 91.57it/s] "
     ]
    },
    {
     "name": "stdout",
     "output_type": "stream",
     "text": [
      "Thumbnail created for 13tajq1\n"
     ]
    },
    {
     "name": "stderr",
     "output_type": "stream",
     "text": [
      "Creating Thumbnail:  99%|█████████▉| 20141/20388 [00:32<00:02, 90.06it/s]"
     ]
    },
    {
     "name": "stdout",
     "output_type": "stream",
     "text": [
      "Thumbnail created for 13u7u32\n",
      "Thumbnail created for 13uddv0\n",
      "Thumbnail created for 13uwp08\n",
      "Thumbnail created for 13v4bnw\n",
      "Thumbnail created for 13vapcw\n",
      "Thumbnail created for 13vv0hy\n",
      "Thumbnail created for 13w8f3v\n",
      "Thumbnail created for 13wishq\n",
      "Thumbnail created for 13wnjce\n",
      "Thumbnail created for 13x1fyf\n",
      "Thumbnail created for 13xkjw0\n",
      "Thumbnail created for 13xr0ad\n",
      "Thumbnail created for 13yaikv\n",
      "Thumbnail created for 13yk4mq\n",
      "Thumbnail created for 14003j2\n",
      "Thumbnail created for 1401nvz\n",
      "Thumbnail created for 140do7y\n",
      "Thumbnail created for 140edi9\n",
      "Thumbnail created for 140eoyv\n",
      "Thumbnail created for 140etfc\n",
      "Thumbnail created for 140pjmz\n",
      "Thumbnail created for 140q32e\n",
      "Thumbnail created for 140wnis\n",
      "Thumbnail created for 140xgzd\n",
      "Thumbnail created for 1417qb9\n",
      "Thumbnail created for 14180n8\n",
      "Thumbnail created for 1418ie3\n",
      "Thumbnail created for 1418jov\n",
      "Thumbnail created for 1419st1\n",
      "Thumbnail created for 141fpst\n",
      "Thumbnail created for 141oann\n",
      "Thumbnail created for 141pdzb\n",
      "Thumbnail created for 141pfxp\n",
      "Thumbnail created for 141srn0\n",
      "Thumbnail created for 14259ck\n",
      "Thumbnail created for 142cj4w\n",
      "Thumbnail created for 142fad8\n",
      "Thumbnail created for 142gc4s\n",
      "Thumbnail created for 142jbg5\n",
      "Thumbnail created for 142k6wj\n",
      "Thumbnail created for 142kg3u\n",
      "Thumbnail created for 142lrs5\n",
      "Thumbnail created for 142uxu4\n",
      "Thumbnail created for 142xs3c\n",
      "Thumbnail created for 142zw5v\n",
      "Thumbnail created for 1434vxd\n",
      "Thumbnail created for 14398xc\n",
      "Thumbnail created for 143al49\n",
      "Thumbnail created for 143bpfo\n",
      "Thumbnail created for 143bpxe\n",
      "Thumbnail created for 143dbwj\n",
      "Thumbnail created for 143i1ax\n",
      "Thumbnail created for 143idtm\n",
      "Thumbnail created for 143jk9x\n"
     ]
    },
    {
     "name": "stderr",
     "output_type": "stream",
     "text": [
      "Creating Thumbnail:  99%|█████████▉| 20195/20388 [00:52<00:02, 90.06it/s]"
     ]
    },
    {
     "name": "stdout",
     "output_type": "stream",
     "text": [
      "Thumbnail created for 143t1s7\n"
     ]
    },
    {
     "name": "stderr",
     "output_type": "stream",
     "text": [
      "Creating Thumbnail:  99%|█████████▉| 20196/20388 [00:52<00:05, 36.73it/s]"
     ]
    },
    {
     "name": "stdout",
     "output_type": "stream",
     "text": [
      "Thumbnail created for 143tzgn\n"
     ]
    },
    {
     "name": "stderr",
     "output_type": "stream",
     "text": [
      "Creating Thumbnail:  99%|█████████▉| 20197/20388 [00:53<00:05, 36.09it/s]"
     ]
    },
    {
     "name": "stdout",
     "output_type": "stream",
     "text": [
      "Thumbnail created for 143xjbg\n",
      "Thumbnail created for 143yrww\n",
      "Thumbnail created for 14449j1\n",
      "Thumbnail created for 1444sxj\n",
      "Thumbnail created for 1445vb4\n",
      "Thumbnail created for 1446k59\n",
      "Thumbnail created for 14480a9\n",
      "Thumbnail created for 1449f9p\n",
      "Thumbnail created for 1449p8w\n",
      "Thumbnail created for 144d34f\n",
      "Thumbnail created for 144dh3s\n",
      "Thumbnail created for 144vr9q\n",
      "Thumbnail created for 144zvmr\n",
      "Thumbnail created for 1450aos\n",
      "Thumbnail created for 1450bla\n",
      "Thumbnail created for 1451o29\n",
      "Thumbnail created for 14526s6\n",
      "Thumbnail created for 1452uz7\n",
      "Thumbnail created for 1454ngg\n",
      "Thumbnail created for 1454uim\n",
      "Thumbnail created for 1456lzf\n",
      "Thumbnail created for 1456n78\n",
      "Thumbnail created for 1456ozr\n",
      "Thumbnail created for 1456sqy\n",
      "Thumbnail created for 145768c\n",
      "Thumbnail created for 1459gxe\n",
      "Thumbnail created for 145a1ko\n",
      "Thumbnail created for 145bop9\n",
      "Thumbnail created for 145bub0\n",
      "Thumbnail created for 145c5kf\n",
      "Thumbnail created for 145eeod\n",
      "Thumbnail created for 145j09s\n",
      "Thumbnail created for 145lxbd\n",
      "Thumbnail created for 145rd9k\n",
      "Thumbnail created for 145xw6p\n",
      "Thumbnail created for 145z1rm\n",
      "Thumbnail created for 14605uo\n",
      "Thumbnail created for 1460qgp\n",
      "Thumbnail created for 1461dj5\n",
      "Thumbnail created for 1462wua\n",
      "Thumbnail created for 1463qwv\n",
      "Thumbnail created for 14649qk\n",
      "Thumbnail created for 1464tva\n",
      "Thumbnail created for 1464u0x\n",
      "Thumbnail created for 146b5yw\n",
      "Thumbnail created for 146bgyq\n",
      "Thumbnail created for 146buk9\n",
      "Thumbnail created for 146d9pl\n",
      "Thumbnail created for 146dy18\n",
      "Thumbnail created for 146ebrd\n",
      "Thumbnail created for 146fjtg\n",
      "Thumbnail created for 146ftm1\n"
     ]
    },
    {
     "name": "stderr",
     "output_type": "stream",
     "text": [
      "Creating Thumbnail:  99%|█████████▉| 20249/20388 [01:12<00:03, 36.09it/s]"
     ]
    },
    {
     "name": "stdout",
     "output_type": "stream",
     "text": [
      "Thumbnail created for 146fubt\n"
     ]
    },
    {
     "name": "stderr",
     "output_type": "stream",
     "text": [
      "Creating Thumbnail:  99%|█████████▉| 20250/20388 [01:12<00:07, 17.91it/s]"
     ]
    },
    {
     "name": "stdout",
     "output_type": "stream",
     "text": [
      "Thumbnail created for 146gyuh\n"
     ]
    },
    {
     "name": "stderr",
     "output_type": "stream",
     "text": [
      "Creating Thumbnail:  99%|█████████▉| 20251/20388 [01:13<00:07, 17.72it/s]"
     ]
    },
    {
     "name": "stdout",
     "output_type": "stream",
     "text": [
      "Thumbnail created for 146hga6\n",
      "Thumbnail created for 146ig5j\n",
      "Thumbnail created for 146je6n\n",
      "Thumbnail created for 146jizp\n",
      "Thumbnail created for 146jva8\n",
      "Thumbnail created for 146jy72\n",
      "Thumbnail created for 146ke36\n",
      "Thumbnail created for 146m4ma\n",
      "Thumbnail created for 146mqa5\n",
      "Thumbnail created for bj2l04\n",
      "Thumbnail created for hoil5c\n",
      "Thumbnail created for i2i03d\n",
      "Thumbnail created for i6bguv\n",
      "Thumbnail created for jdfa43\n",
      "Thumbnail created for jenrnk\n",
      "Thumbnail created for jydxd1\n",
      "Thumbnail created for k07jp8\n",
      "Thumbnail created for mamy9b\n",
      "Thumbnail created for n4765v\n",
      "Thumbnail created for ol2vm0\n",
      "Thumbnail created for vbeve6\n",
      "Thumbnail created for vov9zw\n",
      "Thumbnail created for x5vaj8\n",
      "Thumbnail created for x7b9bo\n",
      "Thumbnail created for xb0k1g\n",
      "Thumbnail created for xdrql3\n",
      "Thumbnail created for xg13x1\n",
      "Thumbnail created for xvan03\n",
      "Thumbnail created for xxrvay\n",
      "Thumbnail created for y15rnx\n",
      "Thumbnail created for y47ykf\n",
      "Thumbnail created for ydt9ed\n",
      "Thumbnail created for ylv5u8\n",
      "Thumbnail created for yshe9g\n",
      "Thumbnail created for z2pwpm\n",
      "Thumbnail created for zon25k\n",
      "Thumbnail created for 146rfsw\n",
      "Thumbnail created for 146rkcl\n",
      "Thumbnail created for 146s6w4\n",
      "Thumbnail created for 146svav\n",
      "Thumbnail created for 146n7qi\n",
      "Thumbnail created for 146rw0d\n",
      "Thumbnail created for 146qjrg\n",
      "Thumbnail created for 146q6s7\n",
      "Thumbnail created for 146pp98\n",
      "Thumbnail created for 1432ra5\n",
      "Thumbnail created for 146sofm\n",
      "Thumbnail created for 146ssiw\n",
      "Thumbnail created for 146pznj\n",
      "Thumbnail created for 146sq2u\n",
      "Thumbnail created for 146pnoj\n",
      "Thumbnail created for 146pocv\n"
     ]
    },
    {
     "name": "stderr",
     "output_type": "stream",
     "text": [
      "Creating Thumbnail: 100%|█████████▉| 20303/20388 [01:32<00:04, 17.72it/s]"
     ]
    },
    {
     "name": "stdout",
     "output_type": "stream",
     "text": [
      "Thumbnail created for 146t2dn\n"
     ]
    },
    {
     "name": "stderr",
     "output_type": "stream",
     "text": [
      "Creating Thumbnail: 100%|█████████▉| 20304/20388 [01:33<00:08,  9.79it/s]"
     ]
    },
    {
     "name": "stdout",
     "output_type": "stream",
     "text": [
      "Thumbnail created for 146t34b\n"
     ]
    },
    {
     "name": "stderr",
     "output_type": "stream",
     "text": [
      "Creating Thumbnail: 100%|█████████▉| 20305/20388 [01:33<00:08,  9.72it/s]"
     ]
    },
    {
     "name": "stdout",
     "output_type": "stream",
     "text": [
      "Thumbnail created for 146qwxr\n",
      "Thumbnail created for 146nbst\n",
      "Thumbnail created for 146q89m\n",
      "Thumbnail created for 146r4az\n",
      "Thumbnail created for 146s6de\n",
      "Thumbnail created for 146snu5\n",
      "Thumbnail created for 146uck1\n",
      "Thumbnail created for 146tdjr\n",
      "Thumbnail created for 146twsc\n",
      "Thumbnail created for 146uc1z\n",
      "Thumbnail created for 146unlh\n",
      "Thumbnail created for 146uw5o\n",
      "Thumbnail created for 146tv39\n",
      "Thumbnail created for 146unsg\n",
      "Thumbnail created for 146ta15\n",
      "Thumbnail created for 146ufpi\n",
      "Thumbnail created for 133xnew\n",
      "Thumbnail created for 135rrgy\n",
      "Thumbnail created for 13an5h3\n",
      "Thumbnail created for 13bzk0o\n",
      "Thumbnail created for 13d6cb1\n",
      "Thumbnail created for 13vvlfr\n",
      "Thumbnail created for 1454qsq\n",
      "Thumbnail created for 146w60v\n",
      "Thumbnail created for 146wkpi\n",
      "Thumbnail created for 7pzqru\n",
      "Thumbnail created for 86sfn6\n",
      "Thumbnail created for ywtmts\n",
      "Thumbnail created for 13wv6m8\n",
      "Thumbnail created for 143q596\n",
      "Thumbnail created for 143vqo4\n",
      "Thumbnail created for 1445c6b\n",
      "Thumbnail created for 144rt6f\n",
      "Thumbnail created for 1467rmg\n",
      "Thumbnail created for 146wm82\n",
      "Thumbnail created for 134hihb\n",
      "Thumbnail created for 136g8ma\n",
      "Thumbnail created for 13s5qx6\n",
      "Thumbnail created for 13s5ru0\n",
      "Thumbnail created for 13s5vc9\n",
      "Thumbnail created for 13u7dde\n",
      "Thumbnail created for 13visqo\n",
      "Thumbnail created for 141jsgo\n",
      "Thumbnail created for 144g10o\n",
      "Thumbnail created for 144hntq\n",
      "Thumbnail created for 8bpyns\n",
      "Thumbnail created for f7rusi\n",
      "Thumbnail created for fabdwq\n",
      "Thumbnail created for jhmtsw\n",
      "Thumbnail created for r8wotf\n",
      "Thumbnail created for rzfhaq\n",
      "Thumbnail created for xli0r1\n"
     ]
    },
    {
     "name": "stderr",
     "output_type": "stream",
     "text": [
      "Creating Thumbnail: 100%|█████████▉| 20357/20388 [01:52<00:03,  9.72it/s]"
     ]
    },
    {
     "name": "stdout",
     "output_type": "stream",
     "text": [
      "Thumbnail created for zpudb3\n"
     ]
    },
    {
     "name": "stderr",
     "output_type": "stream",
     "text": [
      "Creating Thumbnail: 100%|█████████▉| 20358/20388 [01:52<00:04,  6.12it/s]"
     ]
    },
    {
     "name": "stdout",
     "output_type": "stream",
     "text": [
      "Thumbnail created for 12s4nj0\n"
     ]
    },
    {
     "name": "stderr",
     "output_type": "stream",
     "text": [
      "Creating Thumbnail: 100%|█████████▉| 20359/20388 [01:53<00:04,  6.06it/s]"
     ]
    },
    {
     "name": "stdout",
     "output_type": "stream",
     "text": [
      "Thumbnail created for 13lsrxf\n",
      "Thumbnail created for 13lsx2y\n",
      "Thumbnail created for 13qjqjg\n",
      "Thumbnail created for 13sm4r0\n",
      "Thumbnail created for 13w06mf\n",
      "Thumbnail created for 140hj2v\n",
      "Thumbnail created for 141tpt0\n",
      "Thumbnail created for 1436fuh\n",
      "Thumbnail created for 144jkyx\n",
      "Thumbnail created for 145298g\n",
      "Thumbnail created for 1452m4j\n",
      "Thumbnail created for 1452st5\n",
      "Thumbnail created for 145bre2\n",
      "Thumbnail created for 145bt0z\n",
      "Thumbnail created for 145btiy\n",
      "Thumbnail created for 145co4i\n",
      "Thumbnail created for 145l8gb\n",
      "Thumbnail created for 145qbx0\n",
      "Thumbnail created for 146gpxc\n",
      "Thumbnail created for 146vg8u\n",
      "Thumbnail created for 146vi6l\n",
      "Thumbnail created for 146wuh4\n",
      "Thumbnail created for 146xauo\n",
      "Thumbnail created for 146xxri\n",
      "Thumbnail created for as7hoq\n",
      "Thumbnail created for av97ze\n",
      "Thumbnail created for birywt\n",
      "Thumbnail created for cot1yb\n",
      "Thumbnail created for ctkh7j\n"
     ]
    },
    {
     "name": "stderr",
     "output_type": "stream",
     "text": [
      "Creating Thumbnail: 100%|██████████| 20388/20388 [02:04<00:00, 163.90it/s]"
     ]
    },
    {
     "name": "stdout",
     "output_type": "stream",
     "text": [
      "Thumbnail created for cz66c2\n"
     ]
    },
    {
     "name": "stderr",
     "output_type": "stream",
     "text": [
      "\n"
     ]
    },
    {
     "data": {
      "text/plain": "              id subreddit           author   \nid                                            \n1013bdt  1013bdt  AmIhotAF      RaulDea9286  \\\n105mekt  105mekt  AmIhotAF         lindaniz   \n105qvgl  105qvgl  AmIhotAF      CaitVLove11   \n105rpcj  105rpcj  AmIhotAF  Flashy-Desk1858   \n105styc  105styc  AmIhotAF     Gizzygirl127   \n...          ...       ...              ...   \nav97ze    av97ze   TrueFMK          xobx321   \nbirywt    birywt   TrueFMK       NYCplayboy   \ncot1yb    cot1yb   TrueFMK        Bobsagler   \nctkh7j    ctkh7j   TrueFMK       NYCplayboy   \ncz66c2    cz66c2   TrueFMK       NYCplayboy   \n\n                                                  title   \nid                                                        \n1013bdt                                   36F - ITALIAN  \\\n105mekt  interesting in good forward relationship (f24)   \n105qvgl                       Laughing is my favorite 😆   \n105rpcj        [f22] What do you think when you see me?   \n105styc                        Low key… still bangable?   \n...                                                 ...   \nav97ze                                          Bikinis   \nbirywt                               Barista bombshells   \ncot1yb                                 College freshmen   \nctkh7j                          Sexy schoolgirl servers   \ncz66c2                               Busty bikini babes   \n\n                                                   caption   \nid                                                           \n1013bdt            arafed image of a woman in a bikini top  \\\n105mekt  a close up of a woman with red hair and a whit...   \n105qvgl  a woman in a blue tank top and shorts is smili...   \n105rpcj    a woman in a blue bikini top and a blue bra top   \n105styc  smiling woman sitting on couch with remote con...   \n...                                                    ...   \nav97ze   three women in bikinis posing for a picture wi...   \nbirywt   three women in lingerie posing for a picture i...   \ncot1yb   three women in bikinis standing next to a swim...   \nctkh7j   three women in short skirts and stockings are ...   \ncz66c2   three women in bikinis posing for a picture in...   \n\n                                     hash   \nid                                          \n1013bdt  7c0d158cba8654ef1c635cbc5471d597  \\\n105mekt  ba4a0962cca2266a741e1e1700589c04   \n105qvgl  27bfe82c37314a0bcf02ab72eaf3a9e5   \n105rpcj  329eb42b8267fa1cc2980da8e48bcef1   \n105styc  6d555943be4fbc21ff92417c6f582298   \n...                                   ...   \nav97ze   b5ab5a7952ae68b8b3207bc9562e0fb8   \nbirywt   9c7e904a843d40b93f14856dcb2cdb0d   \ncot1yb   aa0edff56e79f08ee8d887421ac68ceb   \nctkh7j   1d1ca8f7f70e3a06ba56f4f00dcc842a   \ncz66c2   24182dce9bb33e378470cb20e015020e   \n\n                                                 permalink   \nid                                                           \n1013bdt          /r/AmIhotAF/comments/1013bdt/36f_italian/  \\\n105mekt  /r/AmIhotAF/comments/105mekt/interesting_in_go...   \n105qvgl  /r/AmIhotAF/comments/105qvgl/laughing_is_my_fa...   \n105rpcj  /r/AmIhotAF/comments/105rpcj/f22_what_do_you_t...   \n105styc  /r/AmIhotAF/comments/105styc/low_key_still_ban...   \n...                                                    ...   \nav97ze                 /r/TrueFMK/comments/av97ze/bikinis/   \nbirywt      /r/TrueFMK/comments/birywt/barista_bombshells/   \ncot1yb        /r/TrueFMK/comments/cot1yb/college_freshmen/   \nctkh7j   /r/TrueFMK/comments/ctkh7j/sexy_schoolgirl_ser...   \ncz66c2      /r/TrueFMK/comments/cz66c2/busty_bikini_babes/   \n\n                                original_url   image_name   \nid                                                          \n1013bdt  https://i.redd.it/bg0wwdlt5k9a1.jpg  1013bdt.jpg  \\\n105mekt  https://i.redd.it/4avjshsz8naa1.jpg  105mekt.jpg   \n105qvgl  https://i.redd.it/2pulzr0lxmaa1.jpg  105qvgl.jpg   \n105rpcj  https://i.redd.it/rz68pf934naa1.jpg  105rpcj.jpg   \n105styc  https://i.redd.it/aiaxxoz9uoaa1.jpg  105styc.jpg   \n...                                      ...          ...   \nav97ze       https://i.imgur.com/faF0PMP.jpg   av97ze.jpg   \nbirywt       https://i.imgur.com/IxcvEaA.jpg   birywt.jpg   \ncot1yb   https://i.redd.it/cq16x1i5brf31.png   cot1yb.jpg   \nctkh7j       https://i.imgur.com/e6YgtYy.jpg   ctkh7j.jpg   \ncz66c2       https://i.imgur.com/OxHsLmQ.png   cz66c2.jpg   \n\n                           path  ... exists  curated  accept   \nid                               ...                           \n1013bdt  data/image/1013bdt.jpg  ...   True     True    True  \\\n105mekt  data/image/105mekt.jpg  ...   True     True    True   \n105qvgl  data/image/105qvgl.jpg  ...   True     True    True   \n105rpcj  data/image/105rpcj.jpg  ...   True     True    True   \n105styc  data/image/105styc.jpg  ...   True     True    True   \n...                         ...  ...    ...      ...     ...   \nav97ze    data/image/av97ze.jpg  ...   True     True    True   \nbirywt    data/image/birywt.jpg  ...   True     True    True   \ncot1yb    data/image/cot1yb.jpg  ...   True     True    True   \nctkh7j    data/image/ctkh7j.jpg  ...   True     True    True   \ncz66c2    data/image/cz66c2.jpg  ...   True     True    True   \n\n                                                      tags   \nid                                                           \n1013bdt  [person,human face,clothing,lady,smile,chest,w...  \\\n105mekt  [person,human face,skin,eyelash,eyebrow,brown ...   \n105qvgl  [clothing,person,human face,smile,shoulder,elb...   \n105rpcj  [person,human face,indoor,clothing,woman,chest...   \n105styc  [person,human face,smile,clothing,woman,indoor...   \n...                                                    ...   \nav97ze   [person,human face,clothing,swimwear,undergarm...   \nbirywt   [clothing,person,human face,smile,undergarment...   \ncot1yb   [clothing,person,human face,undergarment,swimw...   \nctkh7j   [person,clothing,thigh,human face,undergarment...   \ncz66c2   [person,clothing,thigh,human face,undergarment...   \n\n                                             azure_caption   \nid                                                           \n1013bdt                            a woman taking a selfie  \\\n105mekt                            a woman taking a selfie   \n105qvgl                          a woman smiling at camera   \n105rpcj                            a woman taking a selfie   \n105styc                            a woman taking a selfie   \n...                                                    ...   \nav97ze   a group of women in garments posing for a picture   \nbirywt               a group of women posing for a picture   \ncot1yb   a group of women in garments posing for a picture   \nctkh7j                   a group of women wearing lingerie   \ncz66c2                        a group of women in garments   \n\n                           thumbnail_path thumbnail_exists  thumbnail_curated   \nid                                                                              \n1013bdt  data/image/thumbnail/1013bdt.jpg             True               True  \\\n105mekt  data/image/thumbnail/105mekt.jpg             True               True   \n105qvgl  data/image/thumbnail/105qvgl.jpg             True               True   \n105rpcj  data/image/thumbnail/105rpcj.jpg             True               True   \n105styc  data/image/thumbnail/105styc.jpg             True               True   \n...                                   ...              ...                ...   \nav97ze    data/image/thumbnail/av97ze.jpg             True              False   \nbirywt    data/image/thumbnail/birywt.jpg             True              False   \ncot1yb    data/image/thumbnail/cot1yb.jpg             True              False   \nctkh7j    data/image/thumbnail/ctkh7j.jpg             True              False   \ncz66c2    data/image/thumbnail/cz66c2.jpg             True              False   \n\n         thumbnail_accept                                additional_captions  \nid                                                                            \n1013bdt              True  [a woman taking a selfie, a close up of an eye...  \n105mekt              True  [a close up of a person's eye, a woman taking ...  \n105qvgl              True  [a woman smiling at camera, a woman with long ...  \n105rpcj              True  [a woman taking a selfie, close up of a person...  \n105styc              True  [a woman smiling at the camera, close-up of a ...  \n...                   ...                                                ...  \nav97ze              False                                                 []  \nbirywt              False                                                 []  \ncot1yb              False                                                 []  \nctkh7j              False                                                 []  \ncz66c2              False                                                 []  \n\n[20388 rows x 21 columns]",
      "text/html": "<div>\n<style scoped>\n    .dataframe tbody tr th:only-of-type {\n        vertical-align: middle;\n    }\n\n    .dataframe tbody tr th {\n        vertical-align: top;\n    }\n\n    .dataframe thead th {\n        text-align: right;\n    }\n</style>\n<table border=\"1\" class=\"dataframe\">\n  <thead>\n    <tr style=\"text-align: right;\">\n      <th></th>\n      <th>id</th>\n      <th>subreddit</th>\n      <th>author</th>\n      <th>title</th>\n      <th>caption</th>\n      <th>hash</th>\n      <th>permalink</th>\n      <th>original_url</th>\n      <th>image_name</th>\n      <th>path</th>\n      <th>...</th>\n      <th>exists</th>\n      <th>curated</th>\n      <th>accept</th>\n      <th>tags</th>\n      <th>azure_caption</th>\n      <th>thumbnail_path</th>\n      <th>thumbnail_exists</th>\n      <th>thumbnail_curated</th>\n      <th>thumbnail_accept</th>\n      <th>additional_captions</th>\n    </tr>\n    <tr>\n      <th>id</th>\n      <th></th>\n      <th></th>\n      <th></th>\n      <th></th>\n      <th></th>\n      <th></th>\n      <th></th>\n      <th></th>\n      <th></th>\n      <th></th>\n      <th></th>\n      <th></th>\n      <th></th>\n      <th></th>\n      <th></th>\n      <th></th>\n      <th></th>\n      <th></th>\n      <th></th>\n      <th></th>\n      <th></th>\n    </tr>\n  </thead>\n  <tbody>\n    <tr>\n      <th>1013bdt</th>\n      <td>1013bdt</td>\n      <td>AmIhotAF</td>\n      <td>RaulDea9286</td>\n      <td>36F - ITALIAN</td>\n      <td>arafed image of a woman in a bikini top</td>\n      <td>7c0d158cba8654ef1c635cbc5471d597</td>\n      <td>/r/AmIhotAF/comments/1013bdt/36f_italian/</td>\n      <td>https://i.redd.it/bg0wwdlt5k9a1.jpg</td>\n      <td>1013bdt.jpg</td>\n      <td>data/image/1013bdt.jpg</td>\n      <td>...</td>\n      <td>True</td>\n      <td>True</td>\n      <td>True</td>\n      <td>[person,human face,clothing,lady,smile,chest,w...</td>\n      <td>a woman taking a selfie</td>\n      <td>data/image/thumbnail/1013bdt.jpg</td>\n      <td>True</td>\n      <td>True</td>\n      <td>True</td>\n      <td>[a woman taking a selfie, a close up of an eye...</td>\n    </tr>\n    <tr>\n      <th>105mekt</th>\n      <td>105mekt</td>\n      <td>AmIhotAF</td>\n      <td>lindaniz</td>\n      <td>interesting in good forward relationship (f24)</td>\n      <td>a close up of a woman with red hair and a whit...</td>\n      <td>ba4a0962cca2266a741e1e1700589c04</td>\n      <td>/r/AmIhotAF/comments/105mekt/interesting_in_go...</td>\n      <td>https://i.redd.it/4avjshsz8naa1.jpg</td>\n      <td>105mekt.jpg</td>\n      <td>data/image/105mekt.jpg</td>\n      <td>...</td>\n      <td>True</td>\n      <td>True</td>\n      <td>True</td>\n      <td>[person,human face,skin,eyelash,eyebrow,brown ...</td>\n      <td>a woman taking a selfie</td>\n      <td>data/image/thumbnail/105mekt.jpg</td>\n      <td>True</td>\n      <td>True</td>\n      <td>True</td>\n      <td>[a close up of a person's eye, a woman taking ...</td>\n    </tr>\n    <tr>\n      <th>105qvgl</th>\n      <td>105qvgl</td>\n      <td>AmIhotAF</td>\n      <td>CaitVLove11</td>\n      <td>Laughing is my favorite 😆</td>\n      <td>a woman in a blue tank top and shorts is smili...</td>\n      <td>27bfe82c37314a0bcf02ab72eaf3a9e5</td>\n      <td>/r/AmIhotAF/comments/105qvgl/laughing_is_my_fa...</td>\n      <td>https://i.redd.it/2pulzr0lxmaa1.jpg</td>\n      <td>105qvgl.jpg</td>\n      <td>data/image/105qvgl.jpg</td>\n      <td>...</td>\n      <td>True</td>\n      <td>True</td>\n      <td>True</td>\n      <td>[clothing,person,human face,smile,shoulder,elb...</td>\n      <td>a woman smiling at camera</td>\n      <td>data/image/thumbnail/105qvgl.jpg</td>\n      <td>True</td>\n      <td>True</td>\n      <td>True</td>\n      <td>[a woman smiling at camera, a woman with long ...</td>\n    </tr>\n    <tr>\n      <th>105rpcj</th>\n      <td>105rpcj</td>\n      <td>AmIhotAF</td>\n      <td>Flashy-Desk1858</td>\n      <td>[f22] What do you think when you see me?</td>\n      <td>a woman in a blue bikini top and a blue bra top</td>\n      <td>329eb42b8267fa1cc2980da8e48bcef1</td>\n      <td>/r/AmIhotAF/comments/105rpcj/f22_what_do_you_t...</td>\n      <td>https://i.redd.it/rz68pf934naa1.jpg</td>\n      <td>105rpcj.jpg</td>\n      <td>data/image/105rpcj.jpg</td>\n      <td>...</td>\n      <td>True</td>\n      <td>True</td>\n      <td>True</td>\n      <td>[person,human face,indoor,clothing,woman,chest...</td>\n      <td>a woman taking a selfie</td>\n      <td>data/image/thumbnail/105rpcj.jpg</td>\n      <td>True</td>\n      <td>True</td>\n      <td>True</td>\n      <td>[a woman taking a selfie, close up of a person...</td>\n    </tr>\n    <tr>\n      <th>105styc</th>\n      <td>105styc</td>\n      <td>AmIhotAF</td>\n      <td>Gizzygirl127</td>\n      <td>Low key… still bangable?</td>\n      <td>smiling woman sitting on couch with remote con...</td>\n      <td>6d555943be4fbc21ff92417c6f582298</td>\n      <td>/r/AmIhotAF/comments/105styc/low_key_still_ban...</td>\n      <td>https://i.redd.it/aiaxxoz9uoaa1.jpg</td>\n      <td>105styc.jpg</td>\n      <td>data/image/105styc.jpg</td>\n      <td>...</td>\n      <td>True</td>\n      <td>True</td>\n      <td>True</td>\n      <td>[person,human face,smile,clothing,woman,indoor...</td>\n      <td>a woman taking a selfie</td>\n      <td>data/image/thumbnail/105styc.jpg</td>\n      <td>True</td>\n      <td>True</td>\n      <td>True</td>\n      <td>[a woman smiling at the camera, close-up of a ...</td>\n    </tr>\n    <tr>\n      <th>...</th>\n      <td>...</td>\n      <td>...</td>\n      <td>...</td>\n      <td>...</td>\n      <td>...</td>\n      <td>...</td>\n      <td>...</td>\n      <td>...</td>\n      <td>...</td>\n      <td>...</td>\n      <td>...</td>\n      <td>...</td>\n      <td>...</td>\n      <td>...</td>\n      <td>...</td>\n      <td>...</td>\n      <td>...</td>\n      <td>...</td>\n      <td>...</td>\n      <td>...</td>\n      <td>...</td>\n    </tr>\n    <tr>\n      <th>av97ze</th>\n      <td>av97ze</td>\n      <td>TrueFMK</td>\n      <td>xobx321</td>\n      <td>Bikinis</td>\n      <td>three women in bikinis posing for a picture wi...</td>\n      <td>b5ab5a7952ae68b8b3207bc9562e0fb8</td>\n      <td>/r/TrueFMK/comments/av97ze/bikinis/</td>\n      <td>https://i.imgur.com/faF0PMP.jpg</td>\n      <td>av97ze.jpg</td>\n      <td>data/image/av97ze.jpg</td>\n      <td>...</td>\n      <td>True</td>\n      <td>True</td>\n      <td>True</td>\n      <td>[person,human face,clothing,swimwear,undergarm...</td>\n      <td>a group of women in garments posing for a picture</td>\n      <td>data/image/thumbnail/av97ze.jpg</td>\n      <td>True</td>\n      <td>False</td>\n      <td>False</td>\n      <td>[]</td>\n    </tr>\n    <tr>\n      <th>birywt</th>\n      <td>birywt</td>\n      <td>TrueFMK</td>\n      <td>NYCplayboy</td>\n      <td>Barista bombshells</td>\n      <td>three women in lingerie posing for a picture i...</td>\n      <td>9c7e904a843d40b93f14856dcb2cdb0d</td>\n      <td>/r/TrueFMK/comments/birywt/barista_bombshells/</td>\n      <td>https://i.imgur.com/IxcvEaA.jpg</td>\n      <td>birywt.jpg</td>\n      <td>data/image/birywt.jpg</td>\n      <td>...</td>\n      <td>True</td>\n      <td>True</td>\n      <td>True</td>\n      <td>[clothing,person,human face,smile,undergarment...</td>\n      <td>a group of women posing for a picture</td>\n      <td>data/image/thumbnail/birywt.jpg</td>\n      <td>True</td>\n      <td>False</td>\n      <td>False</td>\n      <td>[]</td>\n    </tr>\n    <tr>\n      <th>cot1yb</th>\n      <td>cot1yb</td>\n      <td>TrueFMK</td>\n      <td>Bobsagler</td>\n      <td>College freshmen</td>\n      <td>three women in bikinis standing next to a swim...</td>\n      <td>aa0edff56e79f08ee8d887421ac68ceb</td>\n      <td>/r/TrueFMK/comments/cot1yb/college_freshmen/</td>\n      <td>https://i.redd.it/cq16x1i5brf31.png</td>\n      <td>cot1yb.jpg</td>\n      <td>data/image/cot1yb.jpg</td>\n      <td>...</td>\n      <td>True</td>\n      <td>True</td>\n      <td>True</td>\n      <td>[clothing,person,human face,undergarment,swimw...</td>\n      <td>a group of women in garments posing for a picture</td>\n      <td>data/image/thumbnail/cot1yb.jpg</td>\n      <td>True</td>\n      <td>False</td>\n      <td>False</td>\n      <td>[]</td>\n    </tr>\n    <tr>\n      <th>ctkh7j</th>\n      <td>ctkh7j</td>\n      <td>TrueFMK</td>\n      <td>NYCplayboy</td>\n      <td>Sexy schoolgirl servers</td>\n      <td>three women in short skirts and stockings are ...</td>\n      <td>1d1ca8f7f70e3a06ba56f4f00dcc842a</td>\n      <td>/r/TrueFMK/comments/ctkh7j/sexy_schoolgirl_ser...</td>\n      <td>https://i.imgur.com/e6YgtYy.jpg</td>\n      <td>ctkh7j.jpg</td>\n      <td>data/image/ctkh7j.jpg</td>\n      <td>...</td>\n      <td>True</td>\n      <td>True</td>\n      <td>True</td>\n      <td>[person,clothing,thigh,human face,undergarment...</td>\n      <td>a group of women wearing lingerie</td>\n      <td>data/image/thumbnail/ctkh7j.jpg</td>\n      <td>True</td>\n      <td>False</td>\n      <td>False</td>\n      <td>[]</td>\n    </tr>\n    <tr>\n      <th>cz66c2</th>\n      <td>cz66c2</td>\n      <td>TrueFMK</td>\n      <td>NYCplayboy</td>\n      <td>Busty bikini babes</td>\n      <td>three women in bikinis posing for a picture in...</td>\n      <td>24182dce9bb33e378470cb20e015020e</td>\n      <td>/r/TrueFMK/comments/cz66c2/busty_bikini_babes/</td>\n      <td>https://i.imgur.com/OxHsLmQ.png</td>\n      <td>cz66c2.jpg</td>\n      <td>data/image/cz66c2.jpg</td>\n      <td>...</td>\n      <td>True</td>\n      <td>True</td>\n      <td>True</td>\n      <td>[person,clothing,thigh,human face,undergarment...</td>\n      <td>a group of women in garments</td>\n      <td>data/image/thumbnail/cz66c2.jpg</td>\n      <td>True</td>\n      <td>False</td>\n      <td>False</td>\n      <td>[]</td>\n    </tr>\n  </tbody>\n</table>\n<p>20388 rows × 21 columns</p>\n</div>"
     },
     "metadata": {},
     "output_type": "display_data"
    }
   ],
   "source": [
    "# # @title Create and load thumbnails\n",
    "\n",
    "file_names = file_system.ls('data/image/thumbnail')\n",
    "\n",
    "with tqdm(desc=\"Creating Thumbnail\", total=len(thumbnail_curation)) as pbar:\n",
    "\tfor index, row in thumbnail_curation.iterrows():\n",
    "\t\tif not thumbnail_curation.at[index, 'thumbnail_exists']:\n",
    "\t\t\tthumbnail_curation.at[index, 'thumbnail_path'] = create_thumbnail(row['id'], file_names, cropping, thumbnail_curation)\n",
    "\t\t\tthumbnail_curation.at[index, 'thumbnail_exists'] = file_system.exists(thumbnail_curation.at[index, 'thumbnail_path'])\n",
    "\t\t\tpbar.update(1)\n",
    "\t\telse:\n",
    "\t\t\tpbar.update(1)\n",
    "\t\t\tcontinue\n",
    "\n",
    "display(thumbnail_curation)"
   ],
   "metadata": {
    "collapsed": false
   }
  },
  {
   "cell_type": "code",
   "execution_count": 18,
   "outputs": [
    {
     "data": {
      "text/plain": "            id subreddit           author   \n0      1013bdt  AmIhotAF      RaulDea9286  \\\n1      105mekt  AmIhotAF         lindaniz   \n2      105qvgl  AmIhotAF      CaitVLove11   \n3      105rpcj  AmIhotAF  Flashy-Desk1858   \n4      105styc  AmIhotAF     Gizzygirl127   \n...        ...       ...              ...   \n20383   av97ze   TrueFMK          xobx321   \n20384   birywt   TrueFMK       NYCplayboy   \n20385   cot1yb   TrueFMK        Bobsagler   \n20386   ctkh7j   TrueFMK       NYCplayboy   \n20387   cz66c2   TrueFMK       NYCplayboy   \n\n                                                title   \n0                                       36F - ITALIAN  \\\n1      interesting in good forward relationship (f24)   \n2                           Laughing is my favorite 😆   \n3            [f22] What do you think when you see me?   \n4                            Low key… still bangable?   \n...                                               ...   \n20383                                         Bikinis   \n20384                              Barista bombshells   \n20385                                College freshmen   \n20386                         Sexy schoolgirl servers   \n20387                              Busty bikini babes   \n\n                                                 caption   \n0                arafed image of a woman in a bikini top  \\\n1      a close up of a woman with red hair and a whit...   \n2      a woman in a blue tank top and shorts is smili...   \n3        a woman in a blue bikini top and a blue bra top   \n4      smiling woman sitting on couch with remote con...   \n...                                                  ...   \n20383  three women in bikinis posing for a picture wi...   \n20384  three women in lingerie posing for a picture i...   \n20385  three women in bikinis standing next to a swim...   \n20386  three women in short skirts and stockings are ...   \n20387  three women in bikinis posing for a picture in...   \n\n                                   hash   \n0      7c0d158cba8654ef1c635cbc5471d597  \\\n1      ba4a0962cca2266a741e1e1700589c04   \n2      27bfe82c37314a0bcf02ab72eaf3a9e5   \n3      329eb42b8267fa1cc2980da8e48bcef1   \n4      6d555943be4fbc21ff92417c6f582298   \n...                                 ...   \n20383  b5ab5a7952ae68b8b3207bc9562e0fb8   \n20384  9c7e904a843d40b93f14856dcb2cdb0d   \n20385  aa0edff56e79f08ee8d887421ac68ceb   \n20386  1d1ca8f7f70e3a06ba56f4f00dcc842a   \n20387  24182dce9bb33e378470cb20e015020e   \n\n                                               permalink   \n0              /r/AmIhotAF/comments/1013bdt/36f_italian/  \\\n1      /r/AmIhotAF/comments/105mekt/interesting_in_go...   \n2      /r/AmIhotAF/comments/105qvgl/laughing_is_my_fa...   \n3      /r/AmIhotAF/comments/105rpcj/f22_what_do_you_t...   \n4      /r/AmIhotAF/comments/105styc/low_key_still_ban...   \n...                                                  ...   \n20383                /r/TrueFMK/comments/av97ze/bikinis/   \n20384     /r/TrueFMK/comments/birywt/barista_bombshells/   \n20385       /r/TrueFMK/comments/cot1yb/college_freshmen/   \n20386  /r/TrueFMK/comments/ctkh7j/sexy_schoolgirl_ser...   \n20387     /r/TrueFMK/comments/cz66c2/busty_bikini_babes/   \n\n                              original_url   image_name   \n0      https://i.redd.it/bg0wwdlt5k9a1.jpg  1013bdt.jpg  \\\n1      https://i.redd.it/4avjshsz8naa1.jpg  105mekt.jpg   \n2      https://i.redd.it/2pulzr0lxmaa1.jpg  105qvgl.jpg   \n3      https://i.redd.it/rz68pf934naa1.jpg  105rpcj.jpg   \n4      https://i.redd.it/aiaxxoz9uoaa1.jpg  105styc.jpg   \n...                                    ...          ...   \n20383      https://i.imgur.com/faF0PMP.jpg   av97ze.jpg   \n20384      https://i.imgur.com/IxcvEaA.jpg   birywt.jpg   \n20385  https://i.redd.it/cq16x1i5brf31.png   cot1yb.jpg   \n20386      https://i.imgur.com/e6YgtYy.jpg   ctkh7j.jpg   \n20387      https://i.imgur.com/OxHsLmQ.png   cz66c2.jpg   \n\n                         path  ... exists  curated  accept   \n0      data/image/1013bdt.jpg  ...   True     True    True  \\\n1      data/image/105mekt.jpg  ...   True     True    True   \n2      data/image/105qvgl.jpg  ...   True     True    True   \n3      data/image/105rpcj.jpg  ...   True     True    True   \n4      data/image/105styc.jpg  ...   True     True    True   \n...                       ...  ...    ...      ...     ...   \n20383   data/image/av97ze.jpg  ...   True     True    True   \n20384   data/image/birywt.jpg  ...   True     True    True   \n20385   data/image/cot1yb.jpg  ...   True     True    True   \n20386   data/image/ctkh7j.jpg  ...   True     True    True   \n20387   data/image/cz66c2.jpg  ...   True     True    True   \n\n                                                    tags   \n0      [person,human face,clothing,lady,smile,chest,w...  \\\n1      [person,human face,skin,eyelash,eyebrow,brown ...   \n2      [clothing,person,human face,smile,shoulder,elb...   \n3      [person,human face,indoor,clothing,woman,chest...   \n4      [person,human face,smile,clothing,woman,indoor...   \n...                                                  ...   \n20383  [person,human face,clothing,swimwear,undergarm...   \n20384  [clothing,person,human face,smile,undergarment...   \n20385  [clothing,person,human face,undergarment,swimw...   \n20386  [person,clothing,thigh,human face,undergarment...   \n20387  [person,clothing,thigh,human face,undergarment...   \n\n                                           azure_caption   \n0                                a woman taking a selfie  \\\n1                                a woman taking a selfie   \n2                              a woman smiling at camera   \n3                                a woman taking a selfie   \n4                                a woman taking a selfie   \n...                                                  ...   \n20383  a group of women in garments posing for a picture   \n20384              a group of women posing for a picture   \n20385  a group of women in garments posing for a picture   \n20386                  a group of women wearing lingerie   \n20387                       a group of women in garments   \n\n                         thumbnail_path thumbnail_exists  thumbnail_curated   \n0      data/image/thumbnail/1013bdt.jpg             True               True  \\\n1      data/image/thumbnail/105mekt.jpg             True               True   \n2      data/image/thumbnail/105qvgl.jpg             True               True   \n3      data/image/thumbnail/105rpcj.jpg             True               True   \n4      data/image/thumbnail/105styc.jpg             True               True   \n...                                 ...              ...                ...   \n20383   data/image/thumbnail/av97ze.jpg             True              False   \n20384   data/image/thumbnail/birywt.jpg             True              False   \n20385   data/image/thumbnail/cot1yb.jpg             True              False   \n20386   data/image/thumbnail/ctkh7j.jpg             True              False   \n20387   data/image/thumbnail/cz66c2.jpg             True              False   \n\n       thumbnail_accept                                additional_captions  \n0                  True  [a woman taking a selfie, a close up of an eye...  \n1                  True  [a close up of a person's eye, a woman taking ...  \n2                  True  [a woman smiling at camera, a woman with long ...  \n3                  True  [a woman taking a selfie, close up of a person...  \n4                  True  [a woman smiling at the camera, close-up of a ...  \n...                 ...                                                ...  \n20383             False                                                 []  \n20384             False                                                 []  \n20385             False                                                 []  \n20386             False                                                 []  \n20387             False                                                 []  \n\n[20388 rows x 21 columns]",
      "text/html": "<div>\n<style scoped>\n    .dataframe tbody tr th:only-of-type {\n        vertical-align: middle;\n    }\n\n    .dataframe tbody tr th {\n        vertical-align: top;\n    }\n\n    .dataframe thead th {\n        text-align: right;\n    }\n</style>\n<table border=\"1\" class=\"dataframe\">\n  <thead>\n    <tr style=\"text-align: right;\">\n      <th></th>\n      <th>id</th>\n      <th>subreddit</th>\n      <th>author</th>\n      <th>title</th>\n      <th>caption</th>\n      <th>hash</th>\n      <th>permalink</th>\n      <th>original_url</th>\n      <th>image_name</th>\n      <th>path</th>\n      <th>...</th>\n      <th>exists</th>\n      <th>curated</th>\n      <th>accept</th>\n      <th>tags</th>\n      <th>azure_caption</th>\n      <th>thumbnail_path</th>\n      <th>thumbnail_exists</th>\n      <th>thumbnail_curated</th>\n      <th>thumbnail_accept</th>\n      <th>additional_captions</th>\n    </tr>\n  </thead>\n  <tbody>\n    <tr>\n      <th>0</th>\n      <td>1013bdt</td>\n      <td>AmIhotAF</td>\n      <td>RaulDea9286</td>\n      <td>36F - ITALIAN</td>\n      <td>arafed image of a woman in a bikini top</td>\n      <td>7c0d158cba8654ef1c635cbc5471d597</td>\n      <td>/r/AmIhotAF/comments/1013bdt/36f_italian/</td>\n      <td>https://i.redd.it/bg0wwdlt5k9a1.jpg</td>\n      <td>1013bdt.jpg</td>\n      <td>data/image/1013bdt.jpg</td>\n      <td>...</td>\n      <td>True</td>\n      <td>True</td>\n      <td>True</td>\n      <td>[person,human face,clothing,lady,smile,chest,w...</td>\n      <td>a woman taking a selfie</td>\n      <td>data/image/thumbnail/1013bdt.jpg</td>\n      <td>True</td>\n      <td>True</td>\n      <td>True</td>\n      <td>[a woman taking a selfie, a close up of an eye...</td>\n    </tr>\n    <tr>\n      <th>1</th>\n      <td>105mekt</td>\n      <td>AmIhotAF</td>\n      <td>lindaniz</td>\n      <td>interesting in good forward relationship (f24)</td>\n      <td>a close up of a woman with red hair and a whit...</td>\n      <td>ba4a0962cca2266a741e1e1700589c04</td>\n      <td>/r/AmIhotAF/comments/105mekt/interesting_in_go...</td>\n      <td>https://i.redd.it/4avjshsz8naa1.jpg</td>\n      <td>105mekt.jpg</td>\n      <td>data/image/105mekt.jpg</td>\n      <td>...</td>\n      <td>True</td>\n      <td>True</td>\n      <td>True</td>\n      <td>[person,human face,skin,eyelash,eyebrow,brown ...</td>\n      <td>a woman taking a selfie</td>\n      <td>data/image/thumbnail/105mekt.jpg</td>\n      <td>True</td>\n      <td>True</td>\n      <td>True</td>\n      <td>[a close up of a person's eye, a woman taking ...</td>\n    </tr>\n    <tr>\n      <th>2</th>\n      <td>105qvgl</td>\n      <td>AmIhotAF</td>\n      <td>CaitVLove11</td>\n      <td>Laughing is my favorite 😆</td>\n      <td>a woman in a blue tank top and shorts is smili...</td>\n      <td>27bfe82c37314a0bcf02ab72eaf3a9e5</td>\n      <td>/r/AmIhotAF/comments/105qvgl/laughing_is_my_fa...</td>\n      <td>https://i.redd.it/2pulzr0lxmaa1.jpg</td>\n      <td>105qvgl.jpg</td>\n      <td>data/image/105qvgl.jpg</td>\n      <td>...</td>\n      <td>True</td>\n      <td>True</td>\n      <td>True</td>\n      <td>[clothing,person,human face,smile,shoulder,elb...</td>\n      <td>a woman smiling at camera</td>\n      <td>data/image/thumbnail/105qvgl.jpg</td>\n      <td>True</td>\n      <td>True</td>\n      <td>True</td>\n      <td>[a woman smiling at camera, a woman with long ...</td>\n    </tr>\n    <tr>\n      <th>3</th>\n      <td>105rpcj</td>\n      <td>AmIhotAF</td>\n      <td>Flashy-Desk1858</td>\n      <td>[f22] What do you think when you see me?</td>\n      <td>a woman in a blue bikini top and a blue bra top</td>\n      <td>329eb42b8267fa1cc2980da8e48bcef1</td>\n      <td>/r/AmIhotAF/comments/105rpcj/f22_what_do_you_t...</td>\n      <td>https://i.redd.it/rz68pf934naa1.jpg</td>\n      <td>105rpcj.jpg</td>\n      <td>data/image/105rpcj.jpg</td>\n      <td>...</td>\n      <td>True</td>\n      <td>True</td>\n      <td>True</td>\n      <td>[person,human face,indoor,clothing,woman,chest...</td>\n      <td>a woman taking a selfie</td>\n      <td>data/image/thumbnail/105rpcj.jpg</td>\n      <td>True</td>\n      <td>True</td>\n      <td>True</td>\n      <td>[a woman taking a selfie, close up of a person...</td>\n    </tr>\n    <tr>\n      <th>4</th>\n      <td>105styc</td>\n      <td>AmIhotAF</td>\n      <td>Gizzygirl127</td>\n      <td>Low key… still bangable?</td>\n      <td>smiling woman sitting on couch with remote con...</td>\n      <td>6d555943be4fbc21ff92417c6f582298</td>\n      <td>/r/AmIhotAF/comments/105styc/low_key_still_ban...</td>\n      <td>https://i.redd.it/aiaxxoz9uoaa1.jpg</td>\n      <td>105styc.jpg</td>\n      <td>data/image/105styc.jpg</td>\n      <td>...</td>\n      <td>True</td>\n      <td>True</td>\n      <td>True</td>\n      <td>[person,human face,smile,clothing,woman,indoor...</td>\n      <td>a woman taking a selfie</td>\n      <td>data/image/thumbnail/105styc.jpg</td>\n      <td>True</td>\n      <td>True</td>\n      <td>True</td>\n      <td>[a woman smiling at the camera, close-up of a ...</td>\n    </tr>\n    <tr>\n      <th>...</th>\n      <td>...</td>\n      <td>...</td>\n      <td>...</td>\n      <td>...</td>\n      <td>...</td>\n      <td>...</td>\n      <td>...</td>\n      <td>...</td>\n      <td>...</td>\n      <td>...</td>\n      <td>...</td>\n      <td>...</td>\n      <td>...</td>\n      <td>...</td>\n      <td>...</td>\n      <td>...</td>\n      <td>...</td>\n      <td>...</td>\n      <td>...</td>\n      <td>...</td>\n      <td>...</td>\n    </tr>\n    <tr>\n      <th>20383</th>\n      <td>av97ze</td>\n      <td>TrueFMK</td>\n      <td>xobx321</td>\n      <td>Bikinis</td>\n      <td>three women in bikinis posing for a picture wi...</td>\n      <td>b5ab5a7952ae68b8b3207bc9562e0fb8</td>\n      <td>/r/TrueFMK/comments/av97ze/bikinis/</td>\n      <td>https://i.imgur.com/faF0PMP.jpg</td>\n      <td>av97ze.jpg</td>\n      <td>data/image/av97ze.jpg</td>\n      <td>...</td>\n      <td>True</td>\n      <td>True</td>\n      <td>True</td>\n      <td>[person,human face,clothing,swimwear,undergarm...</td>\n      <td>a group of women in garments posing for a picture</td>\n      <td>data/image/thumbnail/av97ze.jpg</td>\n      <td>True</td>\n      <td>False</td>\n      <td>False</td>\n      <td>[]</td>\n    </tr>\n    <tr>\n      <th>20384</th>\n      <td>birywt</td>\n      <td>TrueFMK</td>\n      <td>NYCplayboy</td>\n      <td>Barista bombshells</td>\n      <td>three women in lingerie posing for a picture i...</td>\n      <td>9c7e904a843d40b93f14856dcb2cdb0d</td>\n      <td>/r/TrueFMK/comments/birywt/barista_bombshells/</td>\n      <td>https://i.imgur.com/IxcvEaA.jpg</td>\n      <td>birywt.jpg</td>\n      <td>data/image/birywt.jpg</td>\n      <td>...</td>\n      <td>True</td>\n      <td>True</td>\n      <td>True</td>\n      <td>[clothing,person,human face,smile,undergarment...</td>\n      <td>a group of women posing for a picture</td>\n      <td>data/image/thumbnail/birywt.jpg</td>\n      <td>True</td>\n      <td>False</td>\n      <td>False</td>\n      <td>[]</td>\n    </tr>\n    <tr>\n      <th>20385</th>\n      <td>cot1yb</td>\n      <td>TrueFMK</td>\n      <td>Bobsagler</td>\n      <td>College freshmen</td>\n      <td>three women in bikinis standing next to a swim...</td>\n      <td>aa0edff56e79f08ee8d887421ac68ceb</td>\n      <td>/r/TrueFMK/comments/cot1yb/college_freshmen/</td>\n      <td>https://i.redd.it/cq16x1i5brf31.png</td>\n      <td>cot1yb.jpg</td>\n      <td>data/image/cot1yb.jpg</td>\n      <td>...</td>\n      <td>True</td>\n      <td>True</td>\n      <td>True</td>\n      <td>[clothing,person,human face,undergarment,swimw...</td>\n      <td>a group of women in garments posing for a picture</td>\n      <td>data/image/thumbnail/cot1yb.jpg</td>\n      <td>True</td>\n      <td>False</td>\n      <td>False</td>\n      <td>[]</td>\n    </tr>\n    <tr>\n      <th>20386</th>\n      <td>ctkh7j</td>\n      <td>TrueFMK</td>\n      <td>NYCplayboy</td>\n      <td>Sexy schoolgirl servers</td>\n      <td>three women in short skirts and stockings are ...</td>\n      <td>1d1ca8f7f70e3a06ba56f4f00dcc842a</td>\n      <td>/r/TrueFMK/comments/ctkh7j/sexy_schoolgirl_ser...</td>\n      <td>https://i.imgur.com/e6YgtYy.jpg</td>\n      <td>ctkh7j.jpg</td>\n      <td>data/image/ctkh7j.jpg</td>\n      <td>...</td>\n      <td>True</td>\n      <td>True</td>\n      <td>True</td>\n      <td>[person,clothing,thigh,human face,undergarment...</td>\n      <td>a group of women wearing lingerie</td>\n      <td>data/image/thumbnail/ctkh7j.jpg</td>\n      <td>True</td>\n      <td>False</td>\n      <td>False</td>\n      <td>[]</td>\n    </tr>\n    <tr>\n      <th>20387</th>\n      <td>cz66c2</td>\n      <td>TrueFMK</td>\n      <td>NYCplayboy</td>\n      <td>Busty bikini babes</td>\n      <td>three women in bikinis posing for a picture in...</td>\n      <td>24182dce9bb33e378470cb20e015020e</td>\n      <td>/r/TrueFMK/comments/cz66c2/busty_bikini_babes/</td>\n      <td>https://i.imgur.com/OxHsLmQ.png</td>\n      <td>cz66c2.jpg</td>\n      <td>data/image/cz66c2.jpg</td>\n      <td>...</td>\n      <td>True</td>\n      <td>True</td>\n      <td>True</td>\n      <td>[person,clothing,thigh,human face,undergarment...</td>\n      <td>a group of women in garments</td>\n      <td>data/image/thumbnail/cz66c2.jpg</td>\n      <td>True</td>\n      <td>False</td>\n      <td>False</td>\n      <td>[]</td>\n    </tr>\n  </tbody>\n</table>\n<p>20388 rows × 21 columns</p>\n</div>"
     },
     "metadata": {},
     "output_type": "display_data"
    }
   ],
   "source": [
    "# @title Copy and Update\n",
    "\n",
    "thumbnail_curation_copy = thumbnail_curation.copy()\n",
    "\n",
    "thumbnail_curation_copy.dropna(axis=1, how='all', inplace=True)\n",
    "thumbnail_curation_copy.drop_duplicates(subset=['id'], inplace=True)\n",
    "thumbnail_curation_copy.reset_index(drop=True, inplace=True)\n",
    "display(thumbnail_curation_copy)"
   ],
   "metadata": {
    "collapsed": false
   }
  },
  {
   "cell_type": "code",
   "execution_count": 19,
   "outputs": [],
   "source": [
    "# @title Save new curation data\n",
    "\n",
    "import datetime\n",
    "thumbnail_curation = pandas.read_parquet(\"data/parquet/thumbnail_curation.parquet\", engine='pyarrow', filesystem=file_system, schema=tagging_schema)\n",
    "thumbnail_curation.to_parquet(f\"data/parquet/{datetime.datetime.now().timestamp()}_thumbnail_curation.parquet\", engine='pyarrow', filesystem=file_system, schema=tagging_schema)"
   ],
   "metadata": {
    "collapsed": false
   }
  },
  {
   "cell_type": "code",
   "execution_count": 20,
   "outputs": [],
   "source": [
    "thumbnail_curation_copy.to_parquet(\"data/parquet/thumbnail_curation.parquet\", engine='pyarrow', filesystem=file_system, schema=tagging_schema)"
   ],
   "metadata": {
    "collapsed": false
   }
  },
  {
   "cell_type": "code",
   "execution_count": 21,
   "outputs": [
    {
     "data": {
      "text/plain": "            id subreddit           author   \n0      1013bdt  AmIhotAF      RaulDea9286  \\\n1      105mekt  AmIhotAF         lindaniz   \n2      105qvgl  AmIhotAF      CaitVLove11   \n3      105rpcj  AmIhotAF  Flashy-Desk1858   \n4      105styc  AmIhotAF     Gizzygirl127   \n...        ...       ...              ...   \n20383   av97ze   TrueFMK          xobx321   \n20384   birywt   TrueFMK       NYCplayboy   \n20385   cot1yb   TrueFMK        Bobsagler   \n20386   ctkh7j   TrueFMK       NYCplayboy   \n20387   cz66c2   TrueFMK       NYCplayboy   \n\n                                                title   \n0                                       36F - ITALIAN  \\\n1      interesting in good forward relationship (f24)   \n2                           Laughing is my favorite 😆   \n3            [f22] What do you think when you see me?   \n4                            Low key… still bangable?   \n...                                               ...   \n20383                                         Bikinis   \n20384                              Barista bombshells   \n20385                                College freshmen   \n20386                         Sexy schoolgirl servers   \n20387                              Busty bikini babes   \n\n                                                 caption   \n0                arafed image of a woman in a bikini top  \\\n1      a close up of a woman with red hair and a whit...   \n2      a woman in a blue tank top and shorts is smili...   \n3        a woman in a blue bikini top and a blue bra top   \n4      smiling woman sitting on couch with remote con...   \n...                                                  ...   \n20383  three women in bikinis posing for a picture wi...   \n20384  three women in lingerie posing for a picture i...   \n20385  three women in bikinis standing next to a swim...   \n20386  three women in short skirts and stockings are ...   \n20387  three women in bikinis posing for a picture in...   \n\n                                   hash   \n0      7c0d158cba8654ef1c635cbc5471d597  \\\n1      ba4a0962cca2266a741e1e1700589c04   \n2      27bfe82c37314a0bcf02ab72eaf3a9e5   \n3      329eb42b8267fa1cc2980da8e48bcef1   \n4      6d555943be4fbc21ff92417c6f582298   \n...                                 ...   \n20383  b5ab5a7952ae68b8b3207bc9562e0fb8   \n20384  9c7e904a843d40b93f14856dcb2cdb0d   \n20385  aa0edff56e79f08ee8d887421ac68ceb   \n20386  1d1ca8f7f70e3a06ba56f4f00dcc842a   \n20387  24182dce9bb33e378470cb20e015020e   \n\n                                               permalink   \n0              /r/AmIhotAF/comments/1013bdt/36f_italian/  \\\n1      /r/AmIhotAF/comments/105mekt/interesting_in_go...   \n2      /r/AmIhotAF/comments/105qvgl/laughing_is_my_fa...   \n3      /r/AmIhotAF/comments/105rpcj/f22_what_do_you_t...   \n4      /r/AmIhotAF/comments/105styc/low_key_still_ban...   \n...                                                  ...   \n20383                /r/TrueFMK/comments/av97ze/bikinis/   \n20384     /r/TrueFMK/comments/birywt/barista_bombshells/   \n20385       /r/TrueFMK/comments/cot1yb/college_freshmen/   \n20386  /r/TrueFMK/comments/ctkh7j/sexy_schoolgirl_ser...   \n20387     /r/TrueFMK/comments/cz66c2/busty_bikini_babes/   \n\n                              original_url   image_name   \n0      https://i.redd.it/bg0wwdlt5k9a1.jpg  1013bdt.jpg  \\\n1      https://i.redd.it/4avjshsz8naa1.jpg  105mekt.jpg   \n2      https://i.redd.it/2pulzr0lxmaa1.jpg  105qvgl.jpg   \n3      https://i.redd.it/rz68pf934naa1.jpg  105rpcj.jpg   \n4      https://i.redd.it/aiaxxoz9uoaa1.jpg  105styc.jpg   \n...                                    ...          ...   \n20383      https://i.imgur.com/faF0PMP.jpg   av97ze.jpg   \n20384      https://i.imgur.com/IxcvEaA.jpg   birywt.jpg   \n20385  https://i.redd.it/cq16x1i5brf31.png   cot1yb.jpg   \n20386      https://i.imgur.com/e6YgtYy.jpg   ctkh7j.jpg   \n20387      https://i.imgur.com/OxHsLmQ.png   cz66c2.jpg   \n\n                         path  ... exists  curated  accept   \n0      data/image/1013bdt.jpg  ...   True     True    True  \\\n1      data/image/105mekt.jpg  ...   True     True    True   \n2      data/image/105qvgl.jpg  ...   True     True    True   \n3      data/image/105rpcj.jpg  ...   True     True    True   \n4      data/image/105styc.jpg  ...   True     True    True   \n...                       ...  ...    ...      ...     ...   \n20383   data/image/av97ze.jpg  ...   True     True    True   \n20384   data/image/birywt.jpg  ...   True     True    True   \n20385   data/image/cot1yb.jpg  ...   True     True    True   \n20386   data/image/ctkh7j.jpg  ...   True     True    True   \n20387   data/image/cz66c2.jpg  ...   True     True    True   \n\n                                                    tags   \n0      [person,human face,clothing,lady,smile,chest,w...  \\\n1      [person,human face,skin,eyelash,eyebrow,brown ...   \n2      [clothing,person,human face,smile,shoulder,elb...   \n3      [person,human face,indoor,clothing,woman,chest...   \n4      [person,human face,smile,clothing,woman,indoor...   \n...                                                  ...   \n20383  [person,human face,clothing,swimwear,undergarm...   \n20384  [clothing,person,human face,smile,undergarment...   \n20385  [clothing,person,human face,undergarment,swimw...   \n20386  [person,clothing,thigh,human face,undergarment...   \n20387  [person,clothing,thigh,human face,undergarment...   \n\n                                           azure_caption   \n0                                a woman taking a selfie  \\\n1                                a woman taking a selfie   \n2                              a woman smiling at camera   \n3                                a woman taking a selfie   \n4                                a woman taking a selfie   \n...                                                  ...   \n20383  a group of women in garments posing for a picture   \n20384              a group of women posing for a picture   \n20385  a group of women in garments posing for a picture   \n20386                  a group of women wearing lingerie   \n20387                       a group of women in garments   \n\n                         thumbnail_path thumbnail_exists  thumbnail_curated   \n0      data/image/thumbnail/1013bdt.jpg             True               True  \\\n1      data/image/thumbnail/105mekt.jpg             True               True   \n2      data/image/thumbnail/105qvgl.jpg             True               True   \n3      data/image/thumbnail/105rpcj.jpg             True               True   \n4      data/image/thumbnail/105styc.jpg             True               True   \n...                                 ...              ...                ...   \n20383   data/image/thumbnail/av97ze.jpg             True              False   \n20384   data/image/thumbnail/birywt.jpg             True              False   \n20385   data/image/thumbnail/cot1yb.jpg             True              False   \n20386   data/image/thumbnail/ctkh7j.jpg             True              False   \n20387   data/image/thumbnail/cz66c2.jpg             True              False   \n\n       thumbnail_accept                                additional_captions  \n0                  True  [a woman taking a selfie, a close up of an eye...  \n1                  True  [a close up of a person's eye, a woman taking ...  \n2                  True  [a woman smiling at camera, a woman with long ...  \n3                  True  [a woman taking a selfie, close up of a person...  \n4                  True  [a woman smiling at the camera, close-up of a ...  \n...                 ...                                                ...  \n20383             False                                                 []  \n20384             False                                                 []  \n20385             False                                                 []  \n20386             False                                                 []  \n20387             False                                                 []  \n\n[20388 rows x 21 columns]",
      "text/html": "<div>\n<style scoped>\n    .dataframe tbody tr th:only-of-type {\n        vertical-align: middle;\n    }\n\n    .dataframe tbody tr th {\n        vertical-align: top;\n    }\n\n    .dataframe thead th {\n        text-align: right;\n    }\n</style>\n<table border=\"1\" class=\"dataframe\">\n  <thead>\n    <tr style=\"text-align: right;\">\n      <th></th>\n      <th>id</th>\n      <th>subreddit</th>\n      <th>author</th>\n      <th>title</th>\n      <th>caption</th>\n      <th>hash</th>\n      <th>permalink</th>\n      <th>original_url</th>\n      <th>image_name</th>\n      <th>path</th>\n      <th>...</th>\n      <th>exists</th>\n      <th>curated</th>\n      <th>accept</th>\n      <th>tags</th>\n      <th>azure_caption</th>\n      <th>thumbnail_path</th>\n      <th>thumbnail_exists</th>\n      <th>thumbnail_curated</th>\n      <th>thumbnail_accept</th>\n      <th>additional_captions</th>\n    </tr>\n  </thead>\n  <tbody>\n    <tr>\n      <th>0</th>\n      <td>1013bdt</td>\n      <td>AmIhotAF</td>\n      <td>RaulDea9286</td>\n      <td>36F - ITALIAN</td>\n      <td>arafed image of a woman in a bikini top</td>\n      <td>7c0d158cba8654ef1c635cbc5471d597</td>\n      <td>/r/AmIhotAF/comments/1013bdt/36f_italian/</td>\n      <td>https://i.redd.it/bg0wwdlt5k9a1.jpg</td>\n      <td>1013bdt.jpg</td>\n      <td>data/image/1013bdt.jpg</td>\n      <td>...</td>\n      <td>True</td>\n      <td>True</td>\n      <td>True</td>\n      <td>[person,human face,clothing,lady,smile,chest,w...</td>\n      <td>a woman taking a selfie</td>\n      <td>data/image/thumbnail/1013bdt.jpg</td>\n      <td>True</td>\n      <td>True</td>\n      <td>True</td>\n      <td>[a woman taking a selfie, a close up of an eye...</td>\n    </tr>\n    <tr>\n      <th>1</th>\n      <td>105mekt</td>\n      <td>AmIhotAF</td>\n      <td>lindaniz</td>\n      <td>interesting in good forward relationship (f24)</td>\n      <td>a close up of a woman with red hair and a whit...</td>\n      <td>ba4a0962cca2266a741e1e1700589c04</td>\n      <td>/r/AmIhotAF/comments/105mekt/interesting_in_go...</td>\n      <td>https://i.redd.it/4avjshsz8naa1.jpg</td>\n      <td>105mekt.jpg</td>\n      <td>data/image/105mekt.jpg</td>\n      <td>...</td>\n      <td>True</td>\n      <td>True</td>\n      <td>True</td>\n      <td>[person,human face,skin,eyelash,eyebrow,brown ...</td>\n      <td>a woman taking a selfie</td>\n      <td>data/image/thumbnail/105mekt.jpg</td>\n      <td>True</td>\n      <td>True</td>\n      <td>True</td>\n      <td>[a close up of a person's eye, a woman taking ...</td>\n    </tr>\n    <tr>\n      <th>2</th>\n      <td>105qvgl</td>\n      <td>AmIhotAF</td>\n      <td>CaitVLove11</td>\n      <td>Laughing is my favorite 😆</td>\n      <td>a woman in a blue tank top and shorts is smili...</td>\n      <td>27bfe82c37314a0bcf02ab72eaf3a9e5</td>\n      <td>/r/AmIhotAF/comments/105qvgl/laughing_is_my_fa...</td>\n      <td>https://i.redd.it/2pulzr0lxmaa1.jpg</td>\n      <td>105qvgl.jpg</td>\n      <td>data/image/105qvgl.jpg</td>\n      <td>...</td>\n      <td>True</td>\n      <td>True</td>\n      <td>True</td>\n      <td>[clothing,person,human face,smile,shoulder,elb...</td>\n      <td>a woman smiling at camera</td>\n      <td>data/image/thumbnail/105qvgl.jpg</td>\n      <td>True</td>\n      <td>True</td>\n      <td>True</td>\n      <td>[a woman smiling at camera, a woman with long ...</td>\n    </tr>\n    <tr>\n      <th>3</th>\n      <td>105rpcj</td>\n      <td>AmIhotAF</td>\n      <td>Flashy-Desk1858</td>\n      <td>[f22] What do you think when you see me?</td>\n      <td>a woman in a blue bikini top and a blue bra top</td>\n      <td>329eb42b8267fa1cc2980da8e48bcef1</td>\n      <td>/r/AmIhotAF/comments/105rpcj/f22_what_do_you_t...</td>\n      <td>https://i.redd.it/rz68pf934naa1.jpg</td>\n      <td>105rpcj.jpg</td>\n      <td>data/image/105rpcj.jpg</td>\n      <td>...</td>\n      <td>True</td>\n      <td>True</td>\n      <td>True</td>\n      <td>[person,human face,indoor,clothing,woman,chest...</td>\n      <td>a woman taking a selfie</td>\n      <td>data/image/thumbnail/105rpcj.jpg</td>\n      <td>True</td>\n      <td>True</td>\n      <td>True</td>\n      <td>[a woman taking a selfie, close up of a person...</td>\n    </tr>\n    <tr>\n      <th>4</th>\n      <td>105styc</td>\n      <td>AmIhotAF</td>\n      <td>Gizzygirl127</td>\n      <td>Low key… still bangable?</td>\n      <td>smiling woman sitting on couch with remote con...</td>\n      <td>6d555943be4fbc21ff92417c6f582298</td>\n      <td>/r/AmIhotAF/comments/105styc/low_key_still_ban...</td>\n      <td>https://i.redd.it/aiaxxoz9uoaa1.jpg</td>\n      <td>105styc.jpg</td>\n      <td>data/image/105styc.jpg</td>\n      <td>...</td>\n      <td>True</td>\n      <td>True</td>\n      <td>True</td>\n      <td>[person,human face,smile,clothing,woman,indoor...</td>\n      <td>a woman taking a selfie</td>\n      <td>data/image/thumbnail/105styc.jpg</td>\n      <td>True</td>\n      <td>True</td>\n      <td>True</td>\n      <td>[a woman smiling at the camera, close-up of a ...</td>\n    </tr>\n    <tr>\n      <th>...</th>\n      <td>...</td>\n      <td>...</td>\n      <td>...</td>\n      <td>...</td>\n      <td>...</td>\n      <td>...</td>\n      <td>...</td>\n      <td>...</td>\n      <td>...</td>\n      <td>...</td>\n      <td>...</td>\n      <td>...</td>\n      <td>...</td>\n      <td>...</td>\n      <td>...</td>\n      <td>...</td>\n      <td>...</td>\n      <td>...</td>\n      <td>...</td>\n      <td>...</td>\n      <td>...</td>\n    </tr>\n    <tr>\n      <th>20383</th>\n      <td>av97ze</td>\n      <td>TrueFMK</td>\n      <td>xobx321</td>\n      <td>Bikinis</td>\n      <td>three women in bikinis posing for a picture wi...</td>\n      <td>b5ab5a7952ae68b8b3207bc9562e0fb8</td>\n      <td>/r/TrueFMK/comments/av97ze/bikinis/</td>\n      <td>https://i.imgur.com/faF0PMP.jpg</td>\n      <td>av97ze.jpg</td>\n      <td>data/image/av97ze.jpg</td>\n      <td>...</td>\n      <td>True</td>\n      <td>True</td>\n      <td>True</td>\n      <td>[person,human face,clothing,swimwear,undergarm...</td>\n      <td>a group of women in garments posing for a picture</td>\n      <td>data/image/thumbnail/av97ze.jpg</td>\n      <td>True</td>\n      <td>False</td>\n      <td>False</td>\n      <td>[]</td>\n    </tr>\n    <tr>\n      <th>20384</th>\n      <td>birywt</td>\n      <td>TrueFMK</td>\n      <td>NYCplayboy</td>\n      <td>Barista bombshells</td>\n      <td>three women in lingerie posing for a picture i...</td>\n      <td>9c7e904a843d40b93f14856dcb2cdb0d</td>\n      <td>/r/TrueFMK/comments/birywt/barista_bombshells/</td>\n      <td>https://i.imgur.com/IxcvEaA.jpg</td>\n      <td>birywt.jpg</td>\n      <td>data/image/birywt.jpg</td>\n      <td>...</td>\n      <td>True</td>\n      <td>True</td>\n      <td>True</td>\n      <td>[clothing,person,human face,smile,undergarment...</td>\n      <td>a group of women posing for a picture</td>\n      <td>data/image/thumbnail/birywt.jpg</td>\n      <td>True</td>\n      <td>False</td>\n      <td>False</td>\n      <td>[]</td>\n    </tr>\n    <tr>\n      <th>20385</th>\n      <td>cot1yb</td>\n      <td>TrueFMK</td>\n      <td>Bobsagler</td>\n      <td>College freshmen</td>\n      <td>three women in bikinis standing next to a swim...</td>\n      <td>aa0edff56e79f08ee8d887421ac68ceb</td>\n      <td>/r/TrueFMK/comments/cot1yb/college_freshmen/</td>\n      <td>https://i.redd.it/cq16x1i5brf31.png</td>\n      <td>cot1yb.jpg</td>\n      <td>data/image/cot1yb.jpg</td>\n      <td>...</td>\n      <td>True</td>\n      <td>True</td>\n      <td>True</td>\n      <td>[clothing,person,human face,undergarment,swimw...</td>\n      <td>a group of women in garments posing for a picture</td>\n      <td>data/image/thumbnail/cot1yb.jpg</td>\n      <td>True</td>\n      <td>False</td>\n      <td>False</td>\n      <td>[]</td>\n    </tr>\n    <tr>\n      <th>20386</th>\n      <td>ctkh7j</td>\n      <td>TrueFMK</td>\n      <td>NYCplayboy</td>\n      <td>Sexy schoolgirl servers</td>\n      <td>three women in short skirts and stockings are ...</td>\n      <td>1d1ca8f7f70e3a06ba56f4f00dcc842a</td>\n      <td>/r/TrueFMK/comments/ctkh7j/sexy_schoolgirl_ser...</td>\n      <td>https://i.imgur.com/e6YgtYy.jpg</td>\n      <td>ctkh7j.jpg</td>\n      <td>data/image/ctkh7j.jpg</td>\n      <td>...</td>\n      <td>True</td>\n      <td>True</td>\n      <td>True</td>\n      <td>[person,clothing,thigh,human face,undergarment...</td>\n      <td>a group of women wearing lingerie</td>\n      <td>data/image/thumbnail/ctkh7j.jpg</td>\n      <td>True</td>\n      <td>False</td>\n      <td>False</td>\n      <td>[]</td>\n    </tr>\n    <tr>\n      <th>20387</th>\n      <td>cz66c2</td>\n      <td>TrueFMK</td>\n      <td>NYCplayboy</td>\n      <td>Busty bikini babes</td>\n      <td>three women in bikinis posing for a picture in...</td>\n      <td>24182dce9bb33e378470cb20e015020e</td>\n      <td>/r/TrueFMK/comments/cz66c2/busty_bikini_babes/</td>\n      <td>https://i.imgur.com/OxHsLmQ.png</td>\n      <td>cz66c2.jpg</td>\n      <td>data/image/cz66c2.jpg</td>\n      <td>...</td>\n      <td>True</td>\n      <td>True</td>\n      <td>True</td>\n      <td>[person,clothing,thigh,human face,undergarment...</td>\n      <td>a group of women in garments</td>\n      <td>data/image/thumbnail/cz66c2.jpg</td>\n      <td>True</td>\n      <td>False</td>\n      <td>False</td>\n      <td>[]</td>\n    </tr>\n  </tbody>\n</table>\n<p>20388 rows × 21 columns</p>\n</div>"
     },
     "metadata": {},
     "output_type": "display_data"
    }
   ],
   "source": [
    "thumbnail_curation = pandas.read_parquet(\"data/parquet/thumbnail_curation.parquet\", engine='pyarrow', filesystem=file_system, schema=tagging_schema)\n",
    "display(thumbnail_curation)"
   ],
   "metadata": {
    "collapsed": false
   }
  }
 ],
 "metadata": {
  "kernelspec": {
   "display_name": "Python 3",
   "language": "python",
   "name": "python3"
  },
  "language_info": {
   "codemirror_mode": {
    "name": "ipython",
    "version": 2
   },
   "file_extension": ".py",
   "mimetype": "text/x-python",
   "name": "python",
   "nbconvert_exporter": "python",
   "pygments_lexer": "ipython2",
   "version": "2.7.6"
  }
 },
 "nbformat": 4,
 "nbformat_minor": 0
}
